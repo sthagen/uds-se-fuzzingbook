{
 "cells": [
  {
   "cell_type": "markdown",
   "metadata": {},
   "source": [
    "# Academic Prototyping\n",
    "\n",
    "_This is the manuscript of Andreas Zeller's tutorial\n",
    "\"Academic Prototyping\" at the ESEC/FSE 2022 conference._"
   ]
  },
  {
   "cell_type": "code",
   "execution_count": null,
   "metadata": {},
   "outputs": [],
   "source": [
    "from bookutils import YouTubeVideo\n",
    "YouTubeVideo(\"Z7Z0cdwPS0U\")"
   ]
  },
  {
   "cell_type": "markdown",
   "metadata": {},
   "source": [
    "## About this Tutorial"
   ]
  },
  {
   "cell_type": "markdown",
   "metadata": {},
   "source": [
    "In our [Fuzzing Book](index.ipynb), we use Python to implement automated testing techniques, and also as the language for most of our test subjects.  Why Python?  The short answer is\n",
    "\n",
    "> Python made us amazingly _productive_.  Most techniques in this book took **2-3 days** to implement.  This is about **10-20 times faster** than for \"classic\" languages like C or Java.\n",
    "\n",
    "A factor of 10–20 in productivity is enormous, almost ridiculous.  Why is that so, and which consequences does this have for research and teaching?"
   ]
  },
  {
   "cell_type": "markdown",
   "metadata": {},
   "source": [
    "### What I will talk about"
   ]
  },
  {
   "cell_type": "markdown",
   "metadata": {},
   "source": [
    "In this tutorial, I will demonstrate this by prototyping a _symbolic test generator_ from scratch. This normally would be considered a very difficult task, taking months to build. Yet, developing the code in this chapter took less than two hours – and explaining it takes less than 20 minutes.\n",
    "\n",
    "We will explore the reasons for this productivity, singling out to _Python_ and _Jupyter notebooks_ as the main drivers. And we will discuss the consequences for academic software development."
   ]
  },
  {
   "cell_type": "markdown",
   "metadata": {
    "tags": []
   },
   "source": [
    "### What you will learn\n",
    "\n",
    "* Using _Python_ and its libraries as language for prototyping\n",
    "* Using _Jupyter Notebooks_ as a tool for coding and running evaluations\n",
    "* Understanding where gains in productivity and replicability come from"
   ]
  },
  {
   "cell_type": "markdown",
   "metadata": {},
   "source": [
    "## The Trouble with Analyzing Compiled Languages\n",
    "\n",
    "In the course of my career, I have built (and let build) several tools that operate on compiled languages such as C or Java – notably \n",
    "\n",
    "* automated debugging tools that would extract and analyze dynamic information from program executions, and\n",
    "* automated testing tools that would exercise individual applications or functions with (generated) inputs."
   ]
  },
  {
   "cell_type": "markdown",
   "metadata": {},
   "source": [
    "What I learned from this experience can be summarized as follows:\n",
    "\n",
    "1. Instrumenting compiled code is **hard**. You need to plug into existing infrastructures such as the Java or C compilers, find out which code to add, find out how to adapt this to the respective compiler.\n",
    "2. Capturing information from compiled code is **hard**, too. Again, you need to instrument code (see above), but you also need to make sure the information gets stored (efficiently?), later retrieved and decoded.\n",
    "\n",
    "All this is immensely bug-prone. There is a good reason why successful test generators assume an absolute minimum of infrastructure (e.g. getting coverage with existing tools, and nothing more)."
   ]
  },
  {
   "cell_type": "markdown",
   "metadata": {},
   "source": [
    "If you want to go into static or even symbolic analysis, things are even worse. Parsing C and Java code yourself is difficult; for large-scale code, it's next to impossible. Working on some intermediate representation is possible, thanks to the power of existing infrastructures such as Soot. But if you want to extend these, you are in for weeks and weeks of work.\n",
    "\n",
    "Symbolic analysis is extra hard, as you typically want to operate on an abstraction level that is at least as high as the source code, requiring you to create ties between the symbolic level, the source code level, and the actual machine code. All possible, but hard."
   ]
  },
  {
   "attachments": {},
   "cell_type": "markdown",
   "metadata": {},
   "source": [
    "Now, if your focus is to actually analyze large scale code, for instance because\n",
    "\n",
    "* the domain is very important, and the problems are challenging\n",
    "* you are in industry and work on safety-critical systems\n",
    "* you'd like to evaluate some approach on lots of samples in compiled languages\n",
    "\n",
    "then it may well make sense to _eventually_ apply your approach to large-scale code. But before that, you may want to check whether your approach actually works."
   ]
  },
  {
   "cell_type": "markdown",
   "metadata": {},
   "source": [
    "This is where _prototyping_ comes into play. Prototyping means to develop a quick solution to explore the _feasibility_ of some approach:\n",
    "\n",
    "* to gather feedback from practice\n",
    "* to quickly _evolve_ an approach\n",
    "* to show that something may work\n",
    "\n",
    "In other words, the proof of concept that we typically need to show in our academic world."
   ]
  },
  {
   "cell_type": "markdown",
   "metadata": {},
   "source": [
    "## Python is Easy\n",
    "\n",
    "Python is a high-level language that allows one to focus on the actual _algorithms_ rather than how individual bits and bytes are passed around in memory.  For this book, this is important: We want to focus on how individual techniques work, and not so much their optimization.  Focusing on algorithms allows you to toy and tinker with them, and quickly develop your own.  Once you have found out how to do things, you can still port your approach to some other language or specialized setting."
   ]
  },
  {
   "cell_type": "markdown",
   "metadata": {},
   "source": [
    "As an example, take the (in)famous _triangle_ program, which classifies a triangle of lengths $a$, $b$, $c$ into one of three categories.  It reads like pseudocode; yet, we can easily execute it."
   ]
  },
  {
   "cell_type": "code",
   "execution_count": null,
   "metadata": {},
   "outputs": [],
   "source": [
    "def triangle(a, b, c):\n",
    "    if a == b:\n",
    "        if b == c:\n",
    "            return 'equilateral'\n",
    "        else:\n",
    "            return 'isosceles #1'\n",
    "    else:\n",
    "        if b == c:\n",
    "            return 'isosceles #2'\n",
    "        else:\n",
    "            if a == c:\n",
    "                return 'isosceles #3'\n",
    "            else:\n",
    "                return 'scalene'"
   ]
  },
  {
   "cell_type": "markdown",
   "metadata": {},
   "source": [
    "Here's an example of executing the `triangle()` function:"
   ]
  },
  {
   "cell_type": "code",
   "execution_count": null,
   "metadata": {},
   "outputs": [],
   "source": [
    "triangle(2, 3, 4)"
   ]
  },
  {
   "cell_type": "markdown",
   "metadata": {},
   "source": [
    "For the remainder of this chapter, we will use the `triangle()` function as ongoing example for a program to be tested.  Of course, the complexity of `triangle()` is a far cry from large systems, and what we show in this chapter will not apply to, say, an ecosystem of thousands of intertwined microservices.  Its point, however, is to show how easy certain techniques can be – if you have the right language and environment."
   ]
  },
  {
   "cell_type": "markdown",
   "metadata": {},
   "source": [
    "## Building a Minimal Tester"
   ]
  },
  {
   "cell_type": "markdown",
   "metadata": {},
   "source": [
    "If you want to test `triangle()` with random values, that's fairly easy to do. Just bring along one of the Python random number generators and throw them into `triangle()`."
   ]
  },
  {
   "cell_type": "code",
   "execution_count": null,
   "metadata": {},
   "outputs": [],
   "source": [
    "from random import randrange"
   ]
  },
  {
   "cell_type": "code",
   "execution_count": null,
   "metadata": {},
   "outputs": [],
   "source": [
    "for i in range(10):\n",
    "    a = randrange(1, 10)\n",
    "    b = randrange(1, 10)\n",
    "    c = randrange(1, 10)\n",
    "\n",
    "    t = triangle(a, b, c)\n",
    "    print(f\"triangle({a}, {b}, {c}) = {repr(t)}\")"
   ]
  },
  {
   "cell_type": "markdown",
   "metadata": {},
   "source": [
    "So far, so good – but that's something you can do in pretty much any programming language. What is it that makes Python special?"
   ]
  },
  {
   "cell_type": "markdown",
   "metadata": {},
   "source": [
    "## Dynamic Analysis in Python: So Easy it Hurts\n",
    "\n",
    "Dynamic analysis is the ability to track what is happening during program execution.  The Python `settrace()` mechanism allows you to track all code lines, all variables, all values, as the program executes – and all this in a handful of lines of code.  Our `Coverage` class from [the chapter on coverage](Coverage.ipynb) shows how to capture a trace of all lines executed in five lines of code; such a trace easily converts into sets of lines or branches executed.  With two more lines, you can easily track all functions, arguments, variable values, too – see for instance our [chapter on dynamic invariants](DynamicInvariants).  And you can even access the source code of individual functions (and print it out, too!)  All this takes 10, maybe 20 minutes to implement."
   ]
  },
  {
   "cell_type": "markdown",
   "metadata": {},
   "source": [
    "Here is a piece of Python that does it all.  We track lines executed, and for every line, we print its source codes and the current values of all local variables:"
   ]
  },
  {
   "cell_type": "code",
   "execution_count": null,
   "metadata": {},
   "outputs": [],
   "source": [
    "import sys\n",
    "import inspect"
   ]
  },
  {
   "cell_type": "code",
   "execution_count": null,
   "metadata": {},
   "outputs": [],
   "source": [
    "def traceit(frame, event, arg):\n",
    "    function_code = frame.f_code\n",
    "    function_name = function_code.co_name\n",
    "    lineno = frame.f_lineno\n",
    "    vars = frame.f_locals\n",
    "\n",
    "    source_lines, starting_line_no = inspect.getsourcelines(frame.f_code)\n",
    "    loc = f\"{function_name}:{lineno} {source_lines[lineno - starting_line_no].rstrip()}\"\n",
    "    vars = \", \".join(f\"{name} = {vars[name]}\" for name in vars)\n",
    "\n",
    "    print(f\"{loc:50} ({vars})\")\n",
    "\n",
    "    return traceit"
   ]
  },
  {
   "cell_type": "markdown",
   "metadata": {},
   "source": [
    "The function `sys.settrace()` registers `traceit()` as a trace function; it will then trace the given invocation of `triangle()`:"
   ]
  },
  {
   "cell_type": "code",
   "execution_count": null,
   "metadata": {},
   "outputs": [],
   "source": [
    "def triangle_traced():\n",
    "    sys.settrace(traceit)\n",
    "    triangle(2, 2, 1)\n",
    "    sys.settrace(None)"
   ]
  },
  {
   "cell_type": "code",
   "execution_count": null,
   "metadata": {},
   "outputs": [],
   "source": [
    "triangle_traced()"
   ]
  },
  {
   "attachments": {},
   "cell_type": "markdown",
   "metadata": {},
   "source": [
    "In comparison, try to build such a dynamic analysis for, say, C. You can either _instrument_ the code to track all lines executed and record variable values, storing the resulting info in some database.  This will take you _weeks,_ if not _months_ to implement.  You can also run your code through a debugger (step-print-step-print-step-print); but again, programming the interaction can take days.  And once you have the first results, you'll probably realize you need something else or better, so you go back to the drawing board.  Not fun."
   ]
  },
  {
   "cell_type": "markdown",
   "metadata": {},
   "source": [
    "Together with a dynamic analysis such as the one above, you can make fuzzing much smarter. Search-based testing, for instance, evolves a population of inputs towards a particular goal, such as coverage. With a good dynamic analysis, you can quickly implement search-based strategies for arbitrary goals."
   ]
  },
  {
   "cell_type": "markdown",
   "metadata": {},
   "source": [
    "## Static Analysis in Python: Still Easy\n",
    "\n",
    "Static analysis refers to the ability to analyze _program code_ without actually executing it. Statically analyzing Python code to deduce any property can be a nightmare, because the language is so highly dynamic. (More on that below.)\n",
    "\n",
    "If your static analysis does not have to be _sound_, – for instance, because you only use it to _support_ and _guide_ another technique such as  testing – then a static analysis in Python can be very simple.  The `ast` module allows you to turn any Python function into an abstract syntax tree (AST), which you then can traverse as you like.  Here's the AST for our `triangle()` function:"
   ]
  },
  {
   "cell_type": "code",
   "execution_count": null,
   "metadata": {},
   "outputs": [],
   "source": [
    "from bookutils import rich_output"
   ]
  },
  {
   "cell_type": "code",
   "execution_count": null,
   "metadata": {},
   "outputs": [],
   "source": [
    "import ast"
   ]
  },
  {
   "cell_type": "code",
   "execution_count": null,
   "metadata": {},
   "outputs": [],
   "source": [
    "if rich_output():\n",
    "    # Normally, this will do\n",
    "    from showast2 import show_ast\n",
    "else:\n",
    "    def show_ast(tree):\n",
    "        ast.dump(tree, indent=4)"
   ]
  },
  {
   "cell_type": "code",
   "execution_count": null,
   "metadata": {},
   "outputs": [],
   "source": [
    "triangle_source = inspect.getsource(triangle)\n",
    "triangle_ast = ast.parse(triangle_source)\n",
    "show_ast(triangle_ast)"
   ]
  },
  {
   "cell_type": "markdown",
   "metadata": {},
   "source": [
    "Now suppose one wants to identify all `triangle` branches and their conditions using static analysis.  You would traverse the AST, searching for `If` nodes, and take their first child (the condition).  This is easy as well:"
   ]
  },
  {
   "cell_type": "code",
   "execution_count": null,
   "metadata": {},
   "outputs": [],
   "source": [
    "def collect_conditions(tree):\n",
    "    conditions = []\n",
    "\n",
    "    def traverse(node):\n",
    "        if isinstance(node, ast.If):\n",
    "            cond = ast.unparse(node.test).strip()\n",
    "            conditions.append(cond)\n",
    "\n",
    "        for child in ast.iter_child_nodes(node):\n",
    "            traverse(child)\n",
    "\n",
    "    traverse(tree)\n",
    "    return conditions"
   ]
  },
  {
   "cell_type": "markdown",
   "metadata": {},
   "source": [
    "Here are the four `if` conditions occurring in the `triangle()` code:"
   ]
  },
  {
   "cell_type": "code",
   "execution_count": null,
   "metadata": {},
   "outputs": [],
   "source": [
    "collect_conditions(triangle_ast)"
   ]
  },
  {
   "cell_type": "markdown",
   "metadata": {},
   "source": [
    "Not only can we extract individual program elements, we can also change them at will and convert the tree back into source code.  Program transformations (say, for instrumentation or mutation analysis) are a breeze.  The above code took five minutes to write.  Again, try that in Java or C."
   ]
  },
  {
   "cell_type": "markdown",
   "metadata": {},
   "source": [
    "## Symbolic Reasoning in Python: There's a Package for That\n",
    "\n",
    "Let's get back to testing.  We have shown how to extract conditions from code.  To reach a particular location in the `triangle()` function, one needs to find a solution for the _path conditions_ leading to that branch.  To reach the last line in `triangle()` (the `'scalene'` branch), we have to find a solution for \n",
    "$$a \\ne b \\land b \\ne c \\land a \\ne c$$\n",
    "\n",
    "\n",
    "We can make use of a _constraint_ solver for this, such as Microsoft's [_Z3_ solver](https://github.com/Z3Prover/z3):"
   ]
  },
  {
   "cell_type": "code",
   "execution_count": null,
   "metadata": {},
   "outputs": [],
   "source": [
    "import z3  # type: ignore"
   ]
  },
  {
   "cell_type": "markdown",
   "metadata": {},
   "source": [
    "Let us use Z3 to find a solution for the `'scalene'` branch condition:"
   ]
  },
  {
   "cell_type": "code",
   "execution_count": null,
   "metadata": {},
   "outputs": [],
   "source": [
    "a = z3.Int('a')\n",
    "b = z3.Int('b')\n",
    "c = z3.Int('c')"
   ]
  },
  {
   "cell_type": "code",
   "execution_count": null,
   "metadata": {},
   "outputs": [],
   "source": [
    "s = z3.Solver()\n",
    "s.add(z3.And(a > 0, b > 0, c > 0))  # Triangle edges are positive\n",
    "s.add(z3.And(a != b, b != c, a != c))  # Our condition\n",
    "s.check()"
   ]
  },
  {
   "cell_type": "markdown",
   "metadata": {},
   "source": [
    "Z3 has shown us that there is a solution (\"sat\" = \"satisfiable\"). Let us get one:"
   ]
  },
  {
   "cell_type": "code",
   "execution_count": null,
   "metadata": {},
   "outputs": [],
   "source": [
    "m = s.model()\n",
    "m"
   ]
  },
  {
   "cell_type": "markdown",
   "metadata": {},
   "source": [
    "We can use this solution right away for testing the `triangle()` function and find that it indeed covers the `'scalene'` branch. The method `as_long()` converts the Z3 results into numerical values."
   ]
  },
  {
   "cell_type": "code",
   "execution_count": null,
   "metadata": {},
   "outputs": [],
   "source": [
    "triangle(m[a].as_long(), m[b].as_long(), m[c].as_long())"
   ]
  },
  {
   "cell_type": "markdown",
   "metadata": {},
   "source": [
    "## A Symbolic Test Generator\n",
    "\n",
    "With what we have seen, we can now build a _symbolic test generator_ – a tool that attempts to systematically create test inputs that cover all paths.  Let us find all conditions we need to solve, by exploring all paths in the tree. We turn these paths to Z3 format right away:"
   ]
  },
  {
   "cell_type": "code",
   "execution_count": null,
   "metadata": {},
   "outputs": [],
   "source": [
    "def collect_path_conditions(tree):\n",
    "    paths = []\n",
    "\n",
    "    def traverse_if_children(children, context, cond):\n",
    "        old_paths = len(paths)\n",
    "        for child in children:\n",
    "            traverse(child, context + [cond])\n",
    "        if len(paths) == old_paths:\n",
    "            paths.append(context + [cond])\n",
    "\n",
    "    def traverse(node, context):\n",
    "        if isinstance(node, ast.If):\n",
    "            cond = ast.unparse(node.test).strip()\n",
    "            not_cond = \"z3.Not(\" + cond + \")\"\n",
    "\n",
    "            traverse_if_children(node.body, context, cond)\n",
    "            traverse_if_children(node.orelse, context, not_cond)\n",
    "\n",
    "        else:\n",
    "            for child in ast.iter_child_nodes(node):\n",
    "                traverse(child, context)\n",
    "\n",
    "    traverse(tree, [])\n",
    "\n",
    "    return [\"z3.And(\" + \", \".join(path) + \")\" for path in paths]"
   ]
  },
  {
   "cell_type": "code",
   "execution_count": null,
   "metadata": {},
   "outputs": [],
   "source": [
    "path_conditions = collect_path_conditions(triangle_ast)\n",
    "path_conditions"
   ]
  },
  {
   "cell_type": "markdown",
   "metadata": {},
   "source": [
    "Now all we need to do is to feed these constraints into Z3. We see that we easily cover all branches:"
   ]
  },
  {
   "cell_type": "code",
   "execution_count": null,
   "metadata": {},
   "outputs": [],
   "source": [
    "for path_condition in path_conditions:\n",
    "    s = z3.Solver()\n",
    "    s.add(a > 0, b > 0, c > 0)\n",
    "    eval(f\"s.check({path_condition})\")\n",
    "    m = s.model()\n",
    "    print(m, triangle(m[a].as_long(), m[b].as_long(), m[c].as_long()))"
   ]
  },
  {
   "cell_type": "markdown",
   "metadata": {},
   "source": [
    "Success! We have covered all branches of the triangle program!"
   ]
  },
  {
   "cell_type": "markdown",
   "metadata": {},
   "source": [
    "Now, the above is still very limited – and tailored to the capabilities of the `triangle()` code. A full implementation would actually\n",
    "\n",
    "* translate entire Python conditions into Z3 syntax (if possible),\n",
    "* handle more control flow constructs such as returns, assertions, exceptions\n",
    "* and half a million things more (loops, calls, you name it)\n",
    "\n",
    "Some of these may not be supported by the Z3 theories."
   ]
  },
  {
   "cell_type": "markdown",
   "metadata": {},
   "source": [
    "To make it easier for a constraint solver to find solutions, you could also provide _concrete values_ observed from earlier executions that already are known to reach specific paths in the program.  Such concrete values would be gathered from the tracing mechanisms above, and boom: you would have a pretty powerful and scalable concolic (concrete-symbolic) test generator."
   ]
  },
  {
   "cell_type": "markdown",
   "metadata": {},
   "source": [
    "Now, the above might take you a day or two, and as you expand your test generator beyond `triangle()`, you will add more and more features.  The nice part is that every of these features you will invent might actually be a research contribution – something nobody has thought of before.  Whatever idea you might have: you can quickly implement it and try it out in a prototype.  And again, this will be orders of magnitude faster than for conventional languages."
   ]
  },
  {
   "cell_type": "markdown",
   "metadata": {},
   "source": [
    "## Replicable Experiments"
   ]
  },
  {
   "cell_type": "markdown",
   "metadata": {},
   "source": [
    "Using a language like Python alone might make you a productive (and creative) code researcher. As a good scientist, though, you also need _discipline_ in running your experiments. _What exactly did you do to achieve the results as stated in the paper_? This is where my second not-so-secret weapon comes into play: Notebooks."
   ]
  },
  {
   "cell_type": "markdown",
   "metadata": {},
   "source": [
    "A Jupyter Notebook can hold _all_ your code (although many prefer an IDE for that); but at the very least, it can _document_ all the steps you did in your experiments, together with _rich text_ that explains the setup and your rationales, and (of course!) rich visualizations and diagrams that visualize your results. This is where Jupyter notebooks are great at, and if you do things right, you can document and replicate all your experiments from the raw data down to the diagrams and numbers as found in your papers."
   ]
  },
  {
   "attachments": {},
   "cell_type": "markdown",
   "metadata": {},
   "source": [
    "Here are some examples of how we use diagrams in my (Jupyter-based) books. First, some \"standard\" data visualizations:\n",
    "\n",
    "* [Plots](https://www.fuzzingbook.org/html/GreyboxFuzzer.html#Greybox-Mutation-based-Fuzzing)\n",
    "* [Tree Maps](https://www.debuggingbook.org/html/ChangeCounter.html#Putting-it-all-Together)"
   ]
  },
  {
   "cell_type": "markdown",
   "metadata": {},
   "source": [
    "However, we also created our _own visualizations_ -- for instance\n",
    "\n",
    "* [Class Diagrams](https://www.fuzzingbook.org/html/GreyboxFuzzer.html#Greybox-Fuzzing)\n",
    "* [State Machines](https://www.debuggingbook.org/html/Intro_Debugging.html#Visualizing-Code)\n",
    "* [Program Spectra](https://www.debuggingbook.org/html/StatisticalDebugger.html#Continuous-Spectrum)\n",
    "* [Dependencies](https://www.debuggingbook.org/html/Slicer.html#Dependency-Graphs)\n",
    "* [Railroad diagrams](https://www.fuzzingbook.org/html/Grammars.html#Visualizing-Grammars-as-Railroad-Diagrams)\n",
    "\n",
    "All these automatically update with the program code and its results - and thus are always up to date.  Eat that, LaTeX – and eat that, TikZ!"
   ]
  },
  {
   "attachments": {},
   "cell_type": "markdown",
   "metadata": {},
   "source": [
    "But not only that – you can also _check_ whether the results match what you already have written in your paper. If you write in your paper that you found that $p \\le 0.05$, then a computation such as\n",
    "\n",
    "```python\n",
    "p = ...   # insert lengthy computation here\n",
    "assert p <= 0.05\n",
    "```\n",
    "\n",
    "will ensure that the statement in your paper is (a) verified, and (b) can be verified by others, including the entire computation path. (And a continuous test will automatically detect should there ever be a discrepancy.)"
   ]
  },
  {
   "cell_type": "markdown",
   "metadata": {
    "tags": []
   },
   "source": [
    "## A Prototyping Process"
   ]
  },
  {
   "cell_type": "markdown",
   "metadata": {},
   "source": [
    "One neat thing about prototyping (with Python or whatever) is that it allows you to fully focus on your _approach_, rather than on the infrastructure. Very obviously, this is useful for _teaching_ – you can use examples as the ones above in a lecture to very quickly communicate essential techniques of program analysis, test generation, debugging, and more."
   ]
  },
  {
   "cell_type": "markdown",
   "metadata": {},
   "source": [
    "But prototyping has more advantages. A Jupyter Notebook (like this one) documents how you developed your approach, together with examples, experiments, and rationales – and still focusing on the essentials. If you write a tool the \"classical\" way, you will eventually deliver thousands of lines of code that do everything under the sun, but only once you have implemented everything will you know whether things actually work. This is a huge risk, and if you still have to change things, you will have to refactor things again and again. Furthermore, for anyone who will work on that code later, it will take days, if not weeks, to re-extract the basic idea of the approach, as it will be buried under loads and loads of infrastructure and refactorings."
   ]
  },
  {
   "attachments": {},
   "cell_type": "markdown",
   "metadata": {},
   "source": [
    "At this point, our consequence is that we now implement new ideas _twice_:\n",
    "\n",
    "* First, we implement things as a notebook (as this one), experimenting with various approaches and parameters until we get them right.\n",
    "\n",
    "* Only once we have the approach right, and if we have confidence that it works, we reimplement it in a tool that works on large scale programs. This can still take weeks to months, but at least we know we are on a good path.\n",
    "\n",
    "Incidentally, it may well be that the original notebooks will have a longer life, as they are simpler, better documented, and capture the gist of our novel idea. And this is how several of the notebooks in this book came to be."
   ]
  },
  {
   "cell_type": "markdown",
   "metadata": {},
   "source": [
    "## Keeping things up to date"
   ]
  },
  {
   "cell_type": "markdown",
   "metadata": {},
   "source": [
    "Python is a dynamic environment. The more packages you make use of, the higher the likelihood that some day someone may introduce a change that will make your code no longer run. I therefore recommend hat you set up a _continuous testing_ scheme where all your notebooks are run automatically at regular intervals, running and re-running your experiments."
   ]
  },
  {
   "cell_type": "markdown",
   "metadata": {},
   "source": [
    "For the fuzzing book and the debugging book, I have to spend about 30 minutes per week to update things and fix bugs. With continuous testing, the chances of others actually using your code are much higher (because it will _work_ on their machines). This is some time I can easily spend even as a PhD advisor, and it gives me the good feeling that others can actually make use of our work."
   ]
  },
  {
   "cell_type": "markdown",
   "metadata": {},
   "source": [
    "## Things that will not work\n",
    "\n",
    "Python has a reputation for being hard to analyze statically, and this is true; its dynamic nature makes it hard for traditional static analysis to exclude specific behaviors.  \n",
    "\n",
    "We see Python as a great language for prototyping automated testing and dynamic analysis techniques, and as a good language to illustrate _lightweight_ static and symbolic analysis techniques that would be used to _guide_ and _support_ other techniques (say, generating software tests).\n",
    "\n",
    "But if you want to _prove_ specific properties (or the absence thereof) by static analysis of code only, Python is a challenge, to say the least; and there are areas for which we would definitely _warn_ against using it.  "
   ]
  },
  {
   "cell_type": "markdown",
   "metadata": {},
   "source": [
    "### (No) Type Checking\n",
    "\n",
    "Using Python to demonstrate _static type checking_ will be suboptimal because Python programs often do not come with type annotations. When coding, I typically start without type annotations, but _retrofit_ them once the code becomes stable and is documented; that is because I think that having typed signatures makes it much easier for others to use code:"
   ]
  },
  {
   "cell_type": "code",
   "execution_count": null,
   "metadata": {},
   "outputs": [],
   "source": [
    "def typed_triangle(a: int, b: int, c: int) -> str:\n",
    "    return triangle(a, b, c)"
   ]
  },
  {
   "cell_type": "markdown",
   "metadata": {},
   "source": [
    "There are _static type checkers_ available for Python, notably _mypy_; these do a sufficient job in uncovering type errors in your code. If your code is well-tested, though (and it should be), the chances of static type checkers uncovering new bugs is slim. Still, if you want to demonstrate the virtues of type checking (or build a novel static type checker or type system yourself), Python may be a good playground."
   ]
  },
  {
   "attachments": {},
   "cell_type": "markdown",
   "metadata": {},
   "source": [
    "### (No) Program Proofs\n",
    "\n",
    "Python is a highly dynamic language in which you can change _anything_ at runtime.  It is no problem assigning different types to a variable, as in"
   ]
  },
  {
   "cell_type": "code",
   "execution_count": null,
   "metadata": {},
   "outputs": [],
   "source": [
    "x = 42\n",
    "x = \"a string\"  # type: ignore"
   ]
  },
  {
   "cell_type": "markdown",
   "metadata": {},
   "source": [
    "or change the existence (and scope) of a variable depending on some runtime condition:"
   ]
  },
  {
   "cell_type": "code",
   "execution_count": null,
   "metadata": {},
   "outputs": [],
   "source": [
    "p1, p2 = True, False\n",
    "\n",
    "if p1:\n",
    "    x = 42\n",
    "if p2:\n",
    "    del x\n",
    "\n",
    "# Does x exist at this point?"
   ]
  },
  {
   "cell_type": "markdown",
   "metadata": {},
   "source": [
    "Such properties make symbolic reasoning on code (including static analysis and type checking) much harder, if not outright impossible.  If you need lightweight static and symbolic analysis techniques to _guide_ other techniques (say, test generation), then imprecision may not hurt much. But if you want to derive _guarantees_ from your code, do not use Python as test subject; again, strongly statically typed languages like Java/ML/Haskell (or some very restricted toy language) are much better grounds for experimentation."
   ]
  },
  {
   "cell_type": "markdown",
   "metadata": {},
   "source": [
    "This does not mean that languages like Python should _not_ be statically checked.  On the contrary, the widespread usage of Python calls loudly for better static checking tools.  But if you want to teach or research static and symbolic techniques, we definitely would not use Python as our language of choice."
   ]
  },
  {
   "cell_type": "markdown",
   "metadata": {},
   "source": [
    "## Try it out!\n",
    "\n",
    "All the code examples above can be run by you – and changed as you like! From the Web page, the easiest way is to go to \"Resources $\\rightarrow$ Edit as Notebook\", and you can experiment with the original Jupyter Notebook right within your browser. (Use `Shift` + `Return` to execute code.)\n",
    "\n",
    "From the \"Resources\" menu, you can also download the Python code (`.py`) to run it within a Python environment, or download the notebook (`.ipynb`) to run it within Jupyter – and again, change them as you like. If you want to run this code on your own machine, you will need the following packages:\n",
    "\n",
    "```\n",
    "pip install showast\n",
    "pip install z3-solver\n",
    "```\n",
    "\n",
    "Enjoy!"
   ]
  },
  {
   "cell_type": "markdown",
   "metadata": {},
   "source": [
    "## Lessons Learned\n",
    "\n",
    "**Python** is a great language for prototyping testing and debugging tools:\n",
    "\n",
    "* In Python, dynamic analysis and static analysis are extremely easy to implement.\n",
    "* Python provides an enormous infrastructure for parsing, handling programs as trees, and constraint solving.\n",
    "* These can make you develop new techniques within _hours_ instead of weeks.\n",
    "\n",
    "Python is _not_ recommended as a domain for pure symbolic code analysis, though.\n",
    "\n",
    "* There is little to no static typing\n",
    "* The language is highly dynamic with little to no static guarantees\n",
    "\n",
    "However, even a potentially _unsound_ symbolic analysis can still guide test generation – and this again is very easy to build.\n",
    "\n",
    "**Jupyter Notebooks** (using Python or other languages) are great for _prototyping_:\n",
    "\n",
    "* Notebooks document the gist of your approach, including examples and experiments.\n",
    "* This is great for teaching, communication, and even documentation.\n",
    "* Doing experiments on prototypes early reduces risks for later large-scale implementations.\n"
   ]
  },
  {
   "cell_type": "markdown",
   "metadata": {
    "button": false,
    "new_sheet": false,
    "run_control": {
     "read_only": false
    }
   },
   "source": [
    "## Next Steps\n",
    "\n",
    "If you want to see more examples of us using Python for prototyping – have a look at [this book](index.ipynb)! Specifically,\n",
    "\n",
    "* see how we develop [fuzzers](Fuzzer.ipynb) step by step;\n",
    "* see how we use [dynamic analysis to check coverage](Coverage.ipynb); or\n",
    "* see how we analyze Python code for [concolic](ConcolicFuzzer.ipynb) and [symbolic](SymbolicFuzzer.ipynb) and fuzzing.\n",
    "\n",
    "There's lots to learn – enjoy the read!"
   ]
  },
  {
   "attachments": {},
   "cell_type": "markdown",
   "metadata": {},
   "source": [
    "## Background\n",
    "\n",
    "The _triangle problem_ is adapted from \"The Art of Software Testing\" by Myers and Sandler \\cite{Myers2004}. It is an allegedly simple problem but which reveals a surprising depth when you think about all the things that might go wrong.\n",
    "\n",
    "The _Z3 solver_ we use in this chapter was developed at Microsoft Research under the lead of Leonardo de Moura and Nikolaj Bjørner \\cite{z3}. It is one of the most powerful and most popular solvers."
   ]
  },
  {
   "cell_type": "markdown",
   "metadata": {},
   "source": [
    "## Exercises"
   ]
  },
  {
   "cell_type": "markdown",
   "metadata": {},
   "source": [
    "### Exercise 1: Features! Features!\n",
    "\n",
    "Our path collector is still very limited. Things that do not work include\n",
    "\n",
    "* Complex conditions, such as boolean operators. Python operators `a and b` need to be translated to Z3 syntax `z3.And(a, b)`.\n",
    "* Early returns. After `if A: return`, the condition `not A` must hold for the following statements.\n",
    "* Assignments.\n",
    "* Loops.\n",
    "* Function calls.\n",
    "\n",
    "The more of these you implement, the closer you will get to a full-fledged symbolic test generator for Python. But at some point, _your prototype may not be a prototype anymore_, and then, Python may no longer be the best language to use. Find a good moment when it is time to switch from a prototypical to a production tool."
   ]
  }
 ],
 "metadata": {
  "kernelspec": {
   "display_name": "python3.12",
   "language": "python",
   "name": "python3"
  },
  "language_info": {
   "codemirror_mode": {
    "name": "ipython",
    "version": 3
   },
   "file_extension": ".py",
   "mimetype": "text/x-python",
   "name": "python",
   "nbconvert_exporter": "python",
   "pygments_lexer": "ipython3",
   "version": "3.12.9"
  }
 },
 "nbformat": 4,
 "nbformat_minor": 4
}
