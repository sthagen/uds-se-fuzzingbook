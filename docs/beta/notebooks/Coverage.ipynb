{
 "cells": [
  {
   "cell_type": "markdown",
   "metadata": {
    "button": false,
    "new_sheet": false,
    "run_control": {
     "read_only": false
    },
    "slideshow": {
     "slide_type": "slide"
    },
    "tags": []
   },
   "source": [
    "# Code Coverage\n",
    "\n",
    "In the [previous chapter](Fuzzer.ipynb), we introduced _basic fuzzing_ – that is, generating random inputs to test programs.  How do we measure the effectiveness of these tests?  One way would be to check the number (and seriousness) of bugs found; but if bugs are scarce, we need a _proxy for the likelihood of a test to uncover a bug._  In this chapter, we introduce the concept of *code coverage*, measuring which parts of a program are actually executed during a test run.  Measuring such coverage is also crucial for test generators that attempt to cover as much code as possible."
   ]
  },
  {
   "cell_type": "code",
   "execution_count": 1,
   "metadata": {
    "execution": {
     "iopub.execute_input": "2025-10-26T13:23:34.226568Z",
     "iopub.status.busy": "2025-10-26T13:23:34.226294Z",
     "iopub.status.idle": "2025-10-26T13:23:34.937390Z",
     "shell.execute_reply": "2025-10-26T13:23:34.937039Z"
    },
    "slideshow": {
     "slide_type": "skip"
    }
   },
   "outputs": [
    {
     "data": {
      "text/html": [
       "\n",
       "        <iframe\n",
       "            width=\"640\"\n",
       "            height=\"360\"\n",
       "            src=\"https://www.youtube-nocookie.com/embed/8HxW8j9287A\"\n",
       "            frameborder=\"0\"\n",
       "            allowfullscreen\n",
       "            \n",
       "        ></iframe>\n",
       "        "
      ],
      "text/plain": [
       "<IPython.lib.display.IFrame at 0x1098baf90>"
      ]
     },
     "execution_count": 1,
     "metadata": {},
     "output_type": "execute_result"
    }
   ],
   "source": [
    "from bookutils import YouTubeVideo\n",
    "YouTubeVideo('8HxW8j9287A')"
   ]
  },
  {
   "cell_type": "markdown",
   "metadata": {
    "button": false,
    "new_sheet": false,
    "run_control": {
     "read_only": false
    },
    "slideshow": {
     "slide_type": "skip"
    }
   },
   "source": [
    "**Prerequisites**\n",
    "\n",
    "* You need some understanding of how a program is executed.\n",
    "* You should have learned about basic fuzzing in the [previous chapter](Fuzzer.ipynb)."
   ]
  },
  {
   "cell_type": "markdown",
   "metadata": {
    "slideshow": {
     "slide_type": "slide"
    }
   },
   "source": [
    "## Synopsis\n",
    "To [use the code provided in this chapter](Importing.ipynb), write\n",
    "\n",
    "```python\n",
    ">>> from fuzzingbook.Coverage import <identifier>\n",
    "```\n",
    "\n",
    "and then make use of the following features.\n",
    "\n",
    "**Note**: The examples in this section only work after the rest of the cells have been executed.\n"
   ]
  },
  {
   "cell_type": "markdown",
   "metadata": {
    "slideshow": {
     "slide_type": "fragment"
    }
   },
   "source": [
    "The typical usage of the `Coverage` class is in conjunction with a `with` clause:"
   ]
  },
  {
   "cell_type": "code",
   "execution_count": 61,
   "metadata": {
    "execution": {
     "iopub.execute_input": "2025-10-26T13:23:40.100116Z",
     "iopub.status.busy": "2025-10-26T13:23:40.100023Z",
     "iopub.status.idle": "2025-10-26T13:23:40.101905Z",
     "shell.execute_reply": "2025-10-26T13:23:40.101674Z"
    },
    "slideshow": {
     "slide_type": "fragment"
    }
   },
   "outputs": [],
   "source": [
    "with Coverage() as cov:\n",
    "    cgi_decode(\"a+b\")"
   ]
  },
  {
   "cell_type": "markdown",
   "metadata": {
    "slideshow": {
     "slide_type": "fragment"
    }
   },
   "source": [
    "Printing out a coverage object shows the covered functions, with non-covered lines prefixed with `#`:"
   ]
  },
  {
   "cell_type": "code",
   "execution_count": 62,
   "metadata": {
    "execution": {
     "iopub.execute_input": "2025-10-26T13:23:40.103365Z",
     "iopub.status.busy": "2025-10-26T13:23:40.103241Z",
     "iopub.status.idle": "2025-10-26T13:23:40.105237Z",
     "shell.execute_reply": "2025-10-26T13:23:40.104982Z"
    },
    "slideshow": {
     "slide_type": "subslide"
    }
   },
   "outputs": [
    {
     "name": "stdout",
     "output_type": "stream",
     "text": [
      "#  1  def cgi_decode(s: str) -> str:\n",
      "#  2      \"\"\"Decode the CGI-encoded string `s`:\n",
      "#  3         * replace '+' by ' '\n",
      "#  4         * replace \"%xx\" by the character with hex number xx.\n",
      "#  5         Return the decoded string.  Raise `ValueError` for invalid inputs.\"\"\"\n",
      "#  6  \n",
      "#  7      # Mapping of hex digits to their integer values\n",
      "   8      hex_values = {\n",
      "   9          '0': 0, '1': 1, '2': 2, '3': 3, '4': 4,\n",
      "  10          '5': 5, '6': 6, '7': 7, '8': 8, '9': 9,\n",
      "  11          'a': 10, 'b': 11, 'c': 12, 'd': 13, 'e': 14, 'f': 15,\n",
      "  12          'A': 10, 'B': 11, 'C': 12, 'D': 13, 'E': 14, 'F': 15,\n",
      "# 13      }\n",
      "# 14  \n",
      "  15      t = \"\"\n",
      "  16      i = 0\n",
      "  17      while i < len(s):\n",
      "  18          c = s[i]\n",
      "  19          if c == '+':\n",
      "  20              t += ' '\n",
      "  21          elif c == '%':\n",
      "# 22              digit_high, digit_low = s[i + 1], s[i + 2]\n",
      "# 23              i += 2\n",
      "# 24              if digit_high in hex_values and digit_low in hex_values:\n",
      "# 25                  v = hex_values[digit_high] * 16 + hex_values[digit_low]\n",
      "# 26                  t += chr(v)\n",
      "# 27              else:\n",
      "# 28                  raise ValueError(\"Invalid encoding\")\n",
      "# 29          else:\n",
      "  30              t += c\n",
      "  31          i += 1\n",
      "  32      return t\n",
      "\n"
     ]
    }
   ],
   "source": [
    "print(cov)"
   ]
  },
  {
   "cell_type": "markdown",
   "metadata": {
    "slideshow": {
     "slide_type": "subslide"
    }
   },
   "source": [
    "The `trace()` method returns the _trace_ – that is, the list of locations executed in order. Each location comes as a pair (`function name`, `line`)."
   ]
  },
  {
   "cell_type": "code",
   "execution_count": 63,
   "metadata": {
    "execution": {
     "iopub.execute_input": "2025-10-26T13:23:40.106471Z",
     "iopub.status.busy": "2025-10-26T13:23:40.106372Z",
     "iopub.status.idle": "2025-10-26T13:23:40.109022Z",
     "shell.execute_reply": "2025-10-26T13:23:40.108764Z"
    },
    "slideshow": {
     "slide_type": "subslide"
    }
   },
   "outputs": [
    {
     "data": {
      "text/plain": [
       "[('cgi_decode', 8),\n",
       " ('cgi_decode', 9),\n",
       " ('cgi_decode', 8),\n",
       " ('cgi_decode', 9),\n",
       " ('cgi_decode', 8),\n",
       " ('cgi_decode', 9),\n",
       " ('cgi_decode', 8),\n",
       " ('cgi_decode', 9),\n",
       " ('cgi_decode', 8),\n",
       " ('cgi_decode', 9),\n",
       " ('cgi_decode', 8),\n",
       " ('cgi_decode', 10),\n",
       " ('cgi_decode', 8),\n",
       " ('cgi_decode', 10),\n",
       " ('cgi_decode', 8),\n",
       " ('cgi_decode', 10),\n",
       " ('cgi_decode', 8),\n",
       " ('cgi_decode', 10),\n",
       " ('cgi_decode', 8),\n",
       " ('cgi_decode', 10),\n",
       " ('cgi_decode', 8),\n",
       " ('cgi_decode', 11),\n",
       " ('cgi_decode', 8),\n",
       " ('cgi_decode', 11),\n",
       " ('cgi_decode', 8),\n",
       " ('cgi_decode', 11),\n",
       " ('cgi_decode', 8),\n",
       " ('cgi_decode', 11),\n",
       " ('cgi_decode', 8),\n",
       " ('cgi_decode', 11),\n",
       " ('cgi_decode', 8),\n",
       " ('cgi_decode', 11),\n",
       " ('cgi_decode', 8),\n",
       " ('cgi_decode', 12),\n",
       " ('cgi_decode', 8),\n",
       " ('cgi_decode', 12),\n",
       " ('cgi_decode', 8),\n",
       " ('cgi_decode', 15),\n",
       " ('cgi_decode', 16),\n",
       " ('cgi_decode', 17),\n",
       " ('cgi_decode', 18),\n",
       " ('cgi_decode', 19),\n",
       " ('cgi_decode', 21),\n",
       " ('cgi_decode', 30),\n",
       " ('cgi_decode', 31),\n",
       " ('cgi_decode', 17),\n",
       " ('cgi_decode', 18),\n",
       " ('cgi_decode', 19),\n",
       " ('cgi_decode', 20),\n",
       " ('cgi_decode', 31),\n",
       " ('cgi_decode', 17),\n",
       " ('cgi_decode', 18),\n",
       " ('cgi_decode', 19),\n",
       " ('cgi_decode', 21),\n",
       " ('cgi_decode', 30),\n",
       " ('cgi_decode', 31),\n",
       " ('cgi_decode', 17),\n",
       " ('cgi_decode', 32)]"
      ]
     },
     "execution_count": 63,
     "metadata": {},
     "output_type": "execute_result"
    }
   ],
   "source": [
    "cov.trace()"
   ]
  },
  {
   "cell_type": "markdown",
   "metadata": {
    "slideshow": {
     "slide_type": "subslide"
    }
   },
   "source": [
    "The `coverage()` method returns the _coverage_, that is, the set of locations in the trace executed at least once:"
   ]
  },
  {
   "cell_type": "code",
   "execution_count": 64,
   "metadata": {
    "execution": {
     "iopub.execute_input": "2025-10-26T13:23:40.110506Z",
     "iopub.status.busy": "2025-10-26T13:23:40.110388Z",
     "iopub.status.idle": "2025-10-26T13:23:40.112578Z",
     "shell.execute_reply": "2025-10-26T13:23:40.112302Z"
    },
    "slideshow": {
     "slide_type": "subslide"
    }
   },
   "outputs": [
    {
     "data": {
      "text/plain": [
       "{('cgi_decode', 8),\n",
       " ('cgi_decode', 9),\n",
       " ('cgi_decode', 10),\n",
       " ('cgi_decode', 11),\n",
       " ('cgi_decode', 12),\n",
       " ('cgi_decode', 15),\n",
       " ('cgi_decode', 16),\n",
       " ('cgi_decode', 17),\n",
       " ('cgi_decode', 18),\n",
       " ('cgi_decode', 19),\n",
       " ('cgi_decode', 20),\n",
       " ('cgi_decode', 21),\n",
       " ('cgi_decode', 30),\n",
       " ('cgi_decode', 31),\n",
       " ('cgi_decode', 32)}"
      ]
     },
     "execution_count": 64,
     "metadata": {},
     "output_type": "execute_result"
    }
   ],
   "source": [
    "cov.coverage()"
   ]
  },
  {
   "cell_type": "markdown",
   "metadata": {
    "slideshow": {
     "slide_type": "subslide"
    }
   },
   "source": [
    "Coverage sets can be subject to set operations, such as _intersection_ (which locations are covered in multiple executions) and _difference_ (which locations are covered in run _a_, but not _b_)."
   ]
  },
  {
   "cell_type": "markdown",
   "metadata": {
    "slideshow": {
     "slide_type": "fragment"
    }
   },
   "source": [
    "The chapter also discusses how to obtain such coverage from C programs."
   ]
  },
  {
   "cell_type": "code",
   "execution_count": 65,
   "metadata": {
    "execution": {
     "iopub.execute_input": "2025-10-26T13:23:40.113950Z",
     "iopub.status.busy": "2025-10-26T13:23:40.113858Z",
     "iopub.status.idle": "2025-10-26T13:23:40.115324Z",
     "shell.execute_reply": "2025-10-26T13:23:40.115101Z"
    },
    "slideshow": {
     "slide_type": "fragment"
    },
    "tags": [
     "remove-input"
    ]
   },
   "outputs": [],
   "source": [
    "# ignore\n",
    "from ClassDiagram import display_class_hierarchy"
   ]
  },
  {
   "cell_type": "code",
   "execution_count": 66,
   "metadata": {
    "execution": {
     "iopub.execute_input": "2025-10-26T13:23:40.116597Z",
     "iopub.status.busy": "2025-10-26T13:23:40.116451Z",
     "iopub.status.idle": "2025-10-26T13:23:40.965028Z",
     "shell.execute_reply": "2025-10-26T13:23:40.964621Z"
    },
    "slideshow": {
     "slide_type": "subslide"
    },
    "tags": [
     "remove-input"
    ]
   },
   "outputs": [
    {
     "data": {
      "image/svg+xml": [
       "<?xml version=\"1.0\" encoding=\"UTF-8\" standalone=\"no\"?>\n",
       "<!DOCTYPE svg PUBLIC \"-//W3C//DTD SVG 1.1//EN\"\n",
       " \"http://www.w3.org/Graphics/SVG/1.1/DTD/svg11.dtd\">\n",
       "<!-- Generated by graphviz version 13.1.2 (20250808.2320)\n",
       " -->\n",
       "<!-- Pages: 1 -->\n",
       "<svg width=\"258pt\" height=\"145pt\"\n",
       " viewBox=\"0.00 0.00 258.00 145.00\" xmlns=\"http://www.w3.org/2000/svg\" xmlns:xlink=\"http://www.w3.org/1999/xlink\">\n",
       "<g id=\"graph0\" class=\"graph\" transform=\"scale(1 1) rotate(0) translate(4 141)\">\n",
       "<g id=\"a_graph0\"><a xlink:title=\"Coverage class hierarchy\">\n",
       "<polygon fill=\"white\" stroke=\"none\" points=\"-4,4 -4,-141 253.62,-141 253.62,4 -4,4\"/>\n",
       "</a>\n",
       "</g>\n",
       "<!-- Coverage -->\n",
       "<g id=\"node1\" class=\"node\">\n",
       "<title>Coverage</title>\n",
       "<g id=\"a_node1\"><a xlink:href=\"#\" xlink:title=\"class Coverage:&#10;Track coverage within a `with` block. Use as&#10;```&#10;with Coverage() as cov:&#10;function_to_be_traced()&#10;c = cov.coverage()&#10;```\">\n",
       "<polygon fill=\"none\" stroke=\"black\" points=\"0,-0.5 0,-136.5 112,-136.5 112,-0.5 0,-0.5\"/>\n",
       "<text xml:space=\"preserve\" text-anchor=\"start\" x=\"27.12\" y=\"-120.2\" font-family=\"Patua One, Helvetica, sans-serif\" font-weight=\"bold\" font-size=\"14.00\" fill=\"#b03a2e\">Coverage</text>\n",
       "<polyline fill=\"none\" stroke=\"black\" points=\"0,-110.5 112,-110.5\"/>\n",
       "<g id=\"a_node1_0\"><a xlink:href=\"#\" xlink:title=\"Coverage\">\n",
       "<g id=\"a_node1_1\"><a xlink:href=\"#\" xlink:title=\"__enter__(self) &#45;&gt; Any:&#10;Start of `with` block. Turn on tracing.\">\n",
       "<text xml:space=\"preserve\" text-anchor=\"start\" x=\"8\" y=\"-98\" font-family=\"'Fira Mono', 'Source Code Pro', 'Courier', monospace\" font-weight=\"bold\" font-size=\"10.00\">__enter__()</text>\n",
       "</a>\n",
       "</g>\n",
       "<g id=\"a_node1_2\"><a xlink:href=\"#\" xlink:title=\"__exit__(self, exc_type: Type, exc_value: BaseException, tb: traceback) &#45;&gt; Optional[bool]:&#10;End of `with` block. Turn off tracing.\">\n",
       "<text xml:space=\"preserve\" text-anchor=\"start\" x=\"8\" y=\"-85.25\" font-family=\"'Fira Mono', 'Source Code Pro', 'Courier', monospace\" font-weight=\"bold\" font-size=\"10.00\">__exit__()</text>\n",
       "</a>\n",
       "</g>\n",
       "<g id=\"a_node1_3\"><a xlink:href=\"#\" xlink:title=\"__init__(self) &#45;&gt; None:&#10;Constructor\">\n",
       "<text xml:space=\"preserve\" text-anchor=\"start\" x=\"8\" y=\"-72.5\" font-family=\"'Fira Mono', 'Source Code Pro', 'Courier', monospace\" font-weight=\"bold\" font-size=\"10.00\">__init__()</text>\n",
       "</a>\n",
       "</g>\n",
       "<g id=\"a_node1_4\"><a xlink:href=\"#\" xlink:title=\"__repr__(self) &#45;&gt; str:&#10;Return a string representation of this object.&#10;Show covered (and uncovered) program code\">\n",
       "<text xml:space=\"preserve\" text-anchor=\"start\" x=\"8\" y=\"-59.75\" font-family=\"'Fira Mono', 'Source Code Pro', 'Courier', monospace\" font-weight=\"bold\" font-size=\"10.00\">__repr__()</text>\n",
       "</a>\n",
       "</g>\n",
       "<g id=\"a_node1_5\"><a xlink:href=\"#\" xlink:title=\"coverage(self) &#45;&gt; Set[Location]:&#10;The set of executed lines, as (function_name, line_number) pairs\">\n",
       "<text xml:space=\"preserve\" text-anchor=\"start\" x=\"8\" y=\"-47\" font-family=\"'Fira Mono', 'Source Code Pro', 'Courier', monospace\" font-weight=\"bold\" font-size=\"10.00\">coverage()</text>\n",
       "</a>\n",
       "</g>\n",
       "<g id=\"a_node1_6\"><a xlink:href=\"#\" xlink:title=\"function_names(self) &#45;&gt; Set[str]:&#10;The set of function names seen\">\n",
       "<text xml:space=\"preserve\" text-anchor=\"start\" x=\"8\" y=\"-34.25\" font-family=\"'Fira Mono', 'Source Code Pro', 'Courier', monospace\" font-weight=\"bold\" font-size=\"10.00\">function_names()</text>\n",
       "</a>\n",
       "</g>\n",
       "<g id=\"a_node1_7\"><a xlink:href=\"#\" xlink:title=\"trace(self) &#45;&gt; List[Location]:&#10;The list of executed lines, as (function_name, line_number) pairs\">\n",
       "<text xml:space=\"preserve\" text-anchor=\"start\" x=\"8\" y=\"-21.5\" font-family=\"'Fira Mono', 'Source Code Pro', 'Courier', monospace\" font-weight=\"bold\" font-size=\"10.00\">trace()</text>\n",
       "</a>\n",
       "</g>\n",
       "<g id=\"a_node1_8\"><a xlink:href=\"#\" xlink:title=\"traceit(self, frame: frame, event: str, arg: Any) &#45;&gt; Optional[Callable]:&#10;Tracing function. To be overloaded in subclasses.\">\n",
       "<text xml:space=\"preserve\" text-anchor=\"start\" x=\"8\" y=\"-8.75\" font-family=\"'Fira Mono', 'Source Code Pro', 'Courier', monospace\" font-style=\"italic\" font-size=\"10.00\">traceit()</text>\n",
       "</a>\n",
       "</g>\n",
       "</a>\n",
       "</g>\n",
       "</a>\n",
       "</g>\n",
       "</g>\n",
       "<!-- Legend -->\n",
       "<g id=\"node2\" class=\"node\">\n",
       "<title>Legend</title>\n",
       "<text xml:space=\"preserve\" text-anchor=\"start\" x=\"130.38\" y=\"-84.5\" font-family=\"Patua One, Helvetica, sans-serif\" font-weight=\"bold\" font-size=\"10.00\" fill=\"#b03a2e\">Legend</text>\n",
       "<text xml:space=\"preserve\" text-anchor=\"start\" x=\"130.38\" y=\"-74.5\" font-family=\"Patua One, Helvetica, sans-serif\" font-size=\"10.00\">• </text>\n",
       "<text xml:space=\"preserve\" text-anchor=\"start\" x=\"136.38\" y=\"-74.5\" font-family=\"'Fira Mono', 'Source Code Pro', 'Courier', monospace\" font-weight=\"bold\" font-size=\"8.00\">public_method()</text>\n",
       "<text xml:space=\"preserve\" text-anchor=\"start\" x=\"130.38\" y=\"-64.5\" font-family=\"Patua One, Helvetica, sans-serif\" font-size=\"10.00\">• </text>\n",
       "<text xml:space=\"preserve\" text-anchor=\"start\" x=\"136.38\" y=\"-64.5\" font-family=\"'Fira Mono', 'Source Code Pro', 'Courier', monospace\" font-size=\"8.00\">private_method()</text>\n",
       "<text xml:space=\"preserve\" text-anchor=\"start\" x=\"130.38\" y=\"-54.5\" font-family=\"Patua One, Helvetica, sans-serif\" font-size=\"10.00\">• </text>\n",
       "<text xml:space=\"preserve\" text-anchor=\"start\" x=\"136.38\" y=\"-54.5\" font-family=\"'Fira Mono', 'Source Code Pro', 'Courier', monospace\" font-style=\"italic\" font-size=\"8.00\">overloaded_method()</text>\n",
       "<text xml:space=\"preserve\" text-anchor=\"start\" x=\"130.38\" y=\"-45.45\" font-family=\"Helvetica,sans-Serif\" font-size=\"9.00\">Hover over names to see doc</text>\n",
       "</g>\n",
       "</g>\n",
       "</svg>\n"
      ],
      "text/html": [
       "<?xml version=\"1.0\" encoding=\"UTF-8\" standalone=\"no\"?>\n",
       "<!DOCTYPE svg PUBLIC \"-//W3C//DTD SVG 1.1//EN\"\n",
       " \"http://www.w3.org/Graphics/SVG/1.1/DTD/svg11.dtd\">\n",
       "<!-- Generated by graphviz version 13.1.2 (20250808.2320)\n",
       " -->\n",
       "<!-- Pages: 1 -->\n",
       "<svg width=\"258pt\" height=\"145pt\"\n",
       " viewBox=\"0.00 0.00 258.00 145.00\" xmlns=\"http://www.w3.org/2000/svg\" xmlns:xlink=\"http://www.w3.org/1999/xlink\">\n",
       "<g id=\"graph0\" class=\"graph\" transform=\"scale(1 1) rotate(0) translate(4 141)\">\n",
       "<g id=\"a_graph0\"><a xlink:title=\"Coverage class hierarchy\">\n",
       "<polygon fill=\"white\" stroke=\"none\" points=\"-4,4 -4,-141 253.62,-141 253.62,4 -4,4\"/>\n",
       "</a>\n",
       "</g>\n",
       "<!-- Coverage -->\n",
       "<g id=\"node1\" class=\"node\">\n",
       "<title>Coverage</title>\n",
       "<g id=\"a_node1\"><a xlink:href=\"#\" xlink:title=\"class Coverage:&#10;Track coverage within a `with` block. Use as&#10;```&#10;with Coverage() as cov:&#10;function_to_be_traced()&#10;c = cov.coverage()&#10;```\">\n",
       "<polygon fill=\"none\" stroke=\"black\" points=\"0,-0.5 0,-136.5 112,-136.5 112,-0.5 0,-0.5\"/>\n",
       "<text xml:space=\"preserve\" text-anchor=\"start\" x=\"27.12\" y=\"-120.2\" font-family=\"Patua One, Helvetica, sans-serif\" font-weight=\"bold\" font-size=\"14.00\" fill=\"#b03a2e\">Coverage</text>\n",
       "<polyline fill=\"none\" stroke=\"black\" points=\"0,-110.5 112,-110.5\"/>\n",
       "<g id=\"a_node1_0\"><a xlink:href=\"#\" xlink:title=\"Coverage\">\n",
       "<g id=\"a_node1_1\"><a xlink:href=\"#\" xlink:title=\"__enter__(self) &#45;&gt; Any:&#10;Start of `with` block. Turn on tracing.\">\n",
       "<text xml:space=\"preserve\" text-anchor=\"start\" x=\"8\" y=\"-98\" font-family=\"'Fira Mono', 'Source Code Pro', 'Courier', monospace\" font-weight=\"bold\" font-size=\"10.00\">__enter__()</text>\n",
       "</a>\n",
       "</g>\n",
       "<g id=\"a_node1_2\"><a xlink:href=\"#\" xlink:title=\"__exit__(self, exc_type: Type, exc_value: BaseException, tb: traceback) &#45;&gt; Optional[bool]:&#10;End of `with` block. Turn off tracing.\">\n",
       "<text xml:space=\"preserve\" text-anchor=\"start\" x=\"8\" y=\"-85.25\" font-family=\"'Fira Mono', 'Source Code Pro', 'Courier', monospace\" font-weight=\"bold\" font-size=\"10.00\">__exit__()</text>\n",
       "</a>\n",
       "</g>\n",
       "<g id=\"a_node1_3\"><a xlink:href=\"#\" xlink:title=\"__init__(self) &#45;&gt; None:&#10;Constructor\">\n",
       "<text xml:space=\"preserve\" text-anchor=\"start\" x=\"8\" y=\"-72.5\" font-family=\"'Fira Mono', 'Source Code Pro', 'Courier', monospace\" font-weight=\"bold\" font-size=\"10.00\">__init__()</text>\n",
       "</a>\n",
       "</g>\n",
       "<g id=\"a_node1_4\"><a xlink:href=\"#\" xlink:title=\"__repr__(self) &#45;&gt; str:&#10;Return a string representation of this object.&#10;Show covered (and uncovered) program code\">\n",
       "<text xml:space=\"preserve\" text-anchor=\"start\" x=\"8\" y=\"-59.75\" font-family=\"'Fira Mono', 'Source Code Pro', 'Courier', monospace\" font-weight=\"bold\" font-size=\"10.00\">__repr__()</text>\n",
       "</a>\n",
       "</g>\n",
       "<g id=\"a_node1_5\"><a xlink:href=\"#\" xlink:title=\"coverage(self) &#45;&gt; Set[Location]:&#10;The set of executed lines, as (function_name, line_number) pairs\">\n",
       "<text xml:space=\"preserve\" text-anchor=\"start\" x=\"8\" y=\"-47\" font-family=\"'Fira Mono', 'Source Code Pro', 'Courier', monospace\" font-weight=\"bold\" font-size=\"10.00\">coverage()</text>\n",
       "</a>\n",
       "</g>\n",
       "<g id=\"a_node1_6\"><a xlink:href=\"#\" xlink:title=\"function_names(self) &#45;&gt; Set[str]:&#10;The set of function names seen\">\n",
       "<text xml:space=\"preserve\" text-anchor=\"start\" x=\"8\" y=\"-34.25\" font-family=\"'Fira Mono', 'Source Code Pro', 'Courier', monospace\" font-weight=\"bold\" font-size=\"10.00\">function_names()</text>\n",
       "</a>\n",
       "</g>\n",
       "<g id=\"a_node1_7\"><a xlink:href=\"#\" xlink:title=\"trace(self) &#45;&gt; List[Location]:&#10;The list of executed lines, as (function_name, line_number) pairs\">\n",
       "<text xml:space=\"preserve\" text-anchor=\"start\" x=\"8\" y=\"-21.5\" font-family=\"'Fira Mono', 'Source Code Pro', 'Courier', monospace\" font-weight=\"bold\" font-size=\"10.00\">trace()</text>\n",
       "</a>\n",
       "</g>\n",
       "<g id=\"a_node1_8\"><a xlink:href=\"#\" xlink:title=\"traceit(self, frame: frame, event: str, arg: Any) &#45;&gt; Optional[Callable]:&#10;Tracing function. To be overloaded in subclasses.\">\n",
       "<text xml:space=\"preserve\" text-anchor=\"start\" x=\"8\" y=\"-8.75\" font-family=\"'Fira Mono', 'Source Code Pro', 'Courier', monospace\" font-style=\"italic\" font-size=\"10.00\">traceit()</text>\n",
       "</a>\n",
       "</g>\n",
       "</a>\n",
       "</g>\n",
       "</a>\n",
       "</g>\n",
       "</g>\n",
       "<!-- Legend -->\n",
       "<g id=\"node2\" class=\"node\">\n",
       "<title>Legend</title>\n",
       "<text xml:space=\"preserve\" text-anchor=\"start\" x=\"130.38\" y=\"-84.5\" font-family=\"Patua One, Helvetica, sans-serif\" font-weight=\"bold\" font-size=\"10.00\" fill=\"#b03a2e\">Legend</text>\n",
       "<text xml:space=\"preserve\" text-anchor=\"start\" x=\"130.38\" y=\"-74.5\" font-family=\"Patua One, Helvetica, sans-serif\" font-size=\"10.00\">• </text>\n",
       "<text xml:space=\"preserve\" text-anchor=\"start\" x=\"136.38\" y=\"-74.5\" font-family=\"'Fira Mono', 'Source Code Pro', 'Courier', monospace\" font-weight=\"bold\" font-size=\"8.00\">public_method()</text>\n",
       "<text xml:space=\"preserve\" text-anchor=\"start\" x=\"130.38\" y=\"-64.5\" font-family=\"Patua One, Helvetica, sans-serif\" font-size=\"10.00\">• </text>\n",
       "<text xml:space=\"preserve\" text-anchor=\"start\" x=\"136.38\" y=\"-64.5\" font-family=\"'Fira Mono', 'Source Code Pro', 'Courier', monospace\" font-size=\"8.00\">private_method()</text>\n",
       "<text xml:space=\"preserve\" text-anchor=\"start\" x=\"130.38\" y=\"-54.5\" font-family=\"Patua One, Helvetica, sans-serif\" font-size=\"10.00\">• </text>\n",
       "<text xml:space=\"preserve\" text-anchor=\"start\" x=\"136.38\" y=\"-54.5\" font-family=\"'Fira Mono', 'Source Code Pro', 'Courier', monospace\" font-style=\"italic\" font-size=\"8.00\">overloaded_method()</text>\n",
       "<text xml:space=\"preserve\" text-anchor=\"start\" x=\"130.38\" y=\"-45.45\" font-family=\"Helvetica,sans-Serif\" font-size=\"9.00\">Hover over names to see doc</text>\n",
       "</g>\n",
       "</g>\n",
       "</svg>\n"
      ],
      "text/plain": [
       "<graphviz.graphs.Digraph at 0x10b7d8ec0>"
      ]
     },
     "execution_count": 66,
     "metadata": {},
     "output_type": "execute_result"
    }
   ],
   "source": [
    "# ignore\n",
    "display_class_hierarchy(Coverage,\n",
    "                        public_methods=[\n",
    "                            Coverage.__init__,\n",
    "                            Coverage.__enter__,\n",
    "                            Coverage.__exit__,\n",
    "                            Coverage.coverage,\n",
    "                            Coverage.trace,\n",
    "                            Coverage.function_names,\n",
    "                            Coverage.__repr__,\n",
    "                        ],\n",
    "                        types={'Location': Location},\n",
    "                        project='fuzzingbook')"
   ]
  },
  {
   "cell_type": "markdown",
   "metadata": {
    "button": false,
    "new_sheet": false,
    "run_control": {
     "read_only": false
    },
    "slideshow": {
     "slide_type": "slide"
    }
   },
   "source": [
    "## A CGI Decoder\n",
    "\n",
    "We start by introducing a simple Python function that decodes a CGI-encoded string.  CGI encoding is used in URLs (i.e., Web addresses) to encode characters that would be invalid in a URL, such as blanks and certain punctuation:\n",
    "\n",
    "* Blanks are replaced by `'+'`\n",
    "* Other invalid characters are replaced by '`%xx`', where `xx` is the two-digit hexadecimal equivalent.\n",
    "\n",
    "In CGI encoding, the string `\"Hello, world!\"` would thus become `\"Hello%2c+world%21\"` where `2c` and `21` are the hexadecimal equivalents of `','` and `'!'`, respectively.\n",
    "\n",
    "The function `cgi_decode()` takes such an encoded string and decodes it back to its original form.  Our implementation replicates the code from \\cite{Pezze2008}.  (It even includes its bugs – but we won't reveal them at this point.)"
   ]
  },
  {
   "cell_type": "code",
   "execution_count": 4,
   "metadata": {
    "button": false,
    "execution": {
     "iopub.execute_input": "2025-10-26T13:23:34.964430Z",
     "iopub.status.busy": "2025-10-26T13:23:34.964312Z",
     "iopub.status.idle": "2025-10-26T13:23:34.967156Z",
     "shell.execute_reply": "2025-10-26T13:23:34.966931Z"
    },
    "new_sheet": false,
    "run_control": {
     "read_only": false
    },
    "slideshow": {
     "slide_type": "subslide"
    }
   },
   "outputs": [],
   "source": [
    "def cgi_decode(s: str) -> str:\n",
    "    \"\"\"Decode the CGI-encoded string `s`:\n",
    "       * replace '+' by ' '\n",
    "       * replace \"%xx\" by the character with hex number xx.\n",
    "       Return the decoded string.  Raise `ValueError` for invalid inputs.\"\"\"\n",
    "\n",
    "    # Mapping of hex digits to their integer values\n",
    "    hex_values = {\n",
    "        '0': 0, '1': 1, '2': 2, '3': 3, '4': 4,\n",
    "        '5': 5, '6': 6, '7': 7, '8': 8, '9': 9,\n",
    "        'a': 10, 'b': 11, 'c': 12, 'd': 13, 'e': 14, 'f': 15,\n",
    "        'A': 10, 'B': 11, 'C': 12, 'D': 13, 'E': 14, 'F': 15,\n",
    "    }\n",
    "\n",
    "    t = \"\"\n",
    "    i = 0\n",
    "    while i < len(s):\n",
    "        c = s[i]\n",
    "        if c == '+':\n",
    "            t += ' '\n",
    "        elif c == '%':\n",
    "            digit_high, digit_low = s[i + 1], s[i + 2]\n",
    "            i += 2\n",
    "            if digit_high in hex_values and digit_low in hex_values:\n",
    "                v = hex_values[digit_high] * 16 + hex_values[digit_low]\n",
    "                t += chr(v)\n",
    "            else:\n",
    "                raise ValueError(\"Invalid encoding\")\n",
    "        else:\n",
    "            t += c\n",
    "        i += 1\n",
    "    return t"
   ]
  },
  {
   "cell_type": "markdown",
   "metadata": {
    "button": false,
    "new_sheet": false,
    "run_control": {
     "read_only": false
    },
    "slideshow": {
     "slide_type": "subslide"
    }
   },
   "source": [
    "Here is an example of how `cgi_decode()` works:"
   ]
  },
  {
   "cell_type": "code",
   "execution_count": 5,
   "metadata": {
    "button": false,
    "execution": {
     "iopub.execute_input": "2025-10-26T13:23:34.968513Z",
     "iopub.status.busy": "2025-10-26T13:23:34.968407Z",
     "iopub.status.idle": "2025-10-26T13:23:34.970407Z",
     "shell.execute_reply": "2025-10-26T13:23:34.970120Z"
    },
    "new_sheet": false,
    "run_control": {
     "read_only": false
    },
    "slideshow": {
     "slide_type": "fragment"
    }
   },
   "outputs": [
    {
     "data": {
      "text/plain": [
       "'Hello world'"
      ]
     },
     "execution_count": 5,
     "metadata": {},
     "output_type": "execute_result"
    }
   ],
   "source": [
    "cgi_decode(\"Hello+world\")"
   ]
  },
  {
   "cell_type": "markdown",
   "metadata": {
    "button": false,
    "new_sheet": false,
    "run_control": {
     "read_only": false
    },
    "slideshow": {
     "slide_type": "fragment"
    }
   },
   "source": [
    "If we want to systematically test `cgi_decode()`, how would we proceed?"
   ]
  },
  {
   "cell_type": "markdown",
   "metadata": {
    "button": false,
    "new_sheet": false,
    "run_control": {
     "read_only": false
    },
    "slideshow": {
     "slide_type": "skip"
    }
   },
   "source": [
    "The testing literature distinguishes two ways of deriving tests: _Black-box testing_ and _White-box testing._"
   ]
  },
  {
   "cell_type": "markdown",
   "metadata": {
    "button": false,
    "new_sheet": false,
    "run_control": {
     "read_only": false
    },
    "slideshow": {
     "slide_type": "slide"
    }
   },
   "source": [
    "## Black-Box Testing\n",
    "\n",
    "The idea of *black-box testing* is to derive tests from the _specification_.  In the above case, we thus would have to test `cgi_decode()` by the features specified and documented, including\n",
    "\n",
    "* testing for correct replacement of `'+'`;\n",
    "* testing for correct replacement of `\"%xx\"`;\n",
    "* testing for non-replacement of other characters; and\n",
    "* testing for recognition of illegal inputs.\n",
    "\n",
    "Here are four assertions (tests) that cover these four features.  We can see that they all pass:"
   ]
  },
  {
   "cell_type": "code",
   "execution_count": 6,
   "metadata": {
    "button": false,
    "execution": {
     "iopub.execute_input": "2025-10-26T13:23:34.971869Z",
     "iopub.status.busy": "2025-10-26T13:23:34.971765Z",
     "iopub.status.idle": "2025-10-26T13:23:34.973517Z",
     "shell.execute_reply": "2025-10-26T13:23:34.973289Z"
    },
    "new_sheet": false,
    "run_control": {
     "read_only": false
    },
    "slideshow": {
     "slide_type": "fragment"
    }
   },
   "outputs": [],
   "source": [
    "assert cgi_decode('+') == ' '\n",
    "assert cgi_decode('%20') == ' '\n",
    "assert cgi_decode('abc') == 'abc'\n",
    "\n",
    "try:\n",
    "    cgi_decode('%?a')\n",
    "    assert False\n",
    "except ValueError:\n",
    "    pass"
   ]
  },
  {
   "cell_type": "markdown",
   "metadata": {
    "button": false,
    "new_sheet": false,
    "run_control": {
     "read_only": false
    },
    "slideshow": {
     "slide_type": "subslide"
    }
   },
   "source": [
    "The advantage of black-box testing is that it finds errors in the _specified_ behavior.  It is independent of a given implementation, and thus allows creating tests even before implementation.  The downside is that _implemented_ behavior typically covers more ground than _specified_ behavior, and thus tests based on specification alone typically do not cover all implementation details."
   ]
  },
  {
   "cell_type": "markdown",
   "metadata": {
    "button": false,
    "new_sheet": false,
    "run_control": {
     "read_only": false
    },
    "slideshow": {
     "slide_type": "slide"
    }
   },
   "source": [
    "## White-Box Testing\n",
    "\n",
    "In contrast to black-box testing, *white-box testing* derives tests from the _implementation_, notably the internal structure.  White-Box testing is closely tied to the concept of _covering_ structural features of the code.  If a statement in the code is not executed during testing, for instance, this means that an error in this statement cannot be triggered either.  White-Box testing thus introduces a number of *coverage criteria* that have to be fulfilled before the test can be said to be sufficient.  The most frequently used coverage criteria are\n",
    "\n",
    "* *Statement coverage* – each statement in the code must be executed by at least one test input.\n",
    "* *Branch coverage* – each branch in the code must be taken by at least one test input.  (This translates to each `if` and `while` decision once being true, and once being false.)\n",
    "\n",
    "Besides these, there are far more coverage criteria, including sequences of branches taken, loop iterations taken (zero, one, many), data flows between variable definitions and usages, and many more; \\cite{Pezze2008} has a great overview."
   ]
  },
  {
   "cell_type": "markdown",
   "metadata": {
    "button": false,
    "new_sheet": false,
    "run_control": {
     "read_only": false
    },
    "slideshow": {
     "slide_type": "subslide"
    }
   },
   "source": [
    "Let us consider `cgi_decode()`, above, and reason what we have to do such that each statement of the code is executed at least once.  We'd have to cover\n",
    "\n",
    "* The block following `if c == '+'`\n",
    "* The two blocks following `if c == '%'` (one for valid input, one for invalid)\n",
    "* The final `else` case for all other characters.\n",
    "\n",
    "This results in the same conditions as with black-box testing, above; again, the assertions above indeed would cover every statement in the code.  Such a correspondence is actually pretty common, since programmers tend to implement different behaviors in different code locations; and thus, covering these locations will lead to test cases that cover the different (specified) behaviors.\n",
    "\n",
    "The advantage of white-box testing is that it finds errors in _implemented_ behavior.  It can be conducted even in cases where the specification does not provide sufficient details; actually, it helps in identifying (and thus specifying) corner cases in the specification.  The downside is that it may miss _non-implemented_ behavior: If some specified functionality is missing, white-box testing will not find it."
   ]
  },
  {
   "cell_type": "markdown",
   "metadata": {
    "button": false,
    "new_sheet": false,
    "run_control": {
     "read_only": false
    },
    "slideshow": {
     "slide_type": "slide"
    }
   },
   "source": [
    "## Tracing Executions\n",
    "\n",
    "One nice feature of white-box testing is that one can actually automatically assess whether some program feature was covered.  To this end, one _instruments_ the execution of the program such that during execution, a special functionality keeps track of which code was executed.  After testing, this information can be passed to the programmer, who can then focus on writing tests that cover the yet uncovered code."
   ]
  },
  {
   "cell_type": "markdown",
   "metadata": {
    "button": false,
    "new_sheet": false,
    "run_control": {
     "read_only": false
    },
    "slideshow": {
     "slide_type": "subslide"
    }
   },
   "source": [
    "In most programming languages, it is rather difficult to set up programs such that one can trace their execution.  Not so in Python.  The function `sys.settrace(f)` allows defining a *tracing function* `f()` that is called for each and every line executed.  Even better, it gets access to the current function and its name, current variable contents, and more.  It is thus an ideal tool for *dynamic analysis* – that is, the analysis of what actually happens during an execution."
   ]
  },
  {
   "cell_type": "markdown",
   "metadata": {
    "button": false,
    "new_sheet": false,
    "run_control": {
     "read_only": false
    },
    "slideshow": {
     "slide_type": "subslide"
    }
   },
   "source": [
    "To illustrate how this works, let us again look into a specific execution of `cgi_decode()`."
   ]
  },
  {
   "cell_type": "code",
   "execution_count": 7,
   "metadata": {
    "button": false,
    "execution": {
     "iopub.execute_input": "2025-10-26T13:23:34.975005Z",
     "iopub.status.busy": "2025-10-26T13:23:34.974901Z",
     "iopub.status.idle": "2025-10-26T13:23:34.976767Z",
     "shell.execute_reply": "2025-10-26T13:23:34.976569Z"
    },
    "new_sheet": false,
    "run_control": {
     "read_only": false
    },
    "slideshow": {
     "slide_type": "fragment"
    }
   },
   "outputs": [
    {
     "data": {
      "text/plain": [
       "'a b'"
      ]
     },
     "execution_count": 7,
     "metadata": {},
     "output_type": "execute_result"
    }
   ],
   "source": [
    "cgi_decode(\"a+b\")"
   ]
  },
  {
   "cell_type": "markdown",
   "metadata": {
    "button": false,
    "new_sheet": false,
    "run_control": {
     "read_only": false
    },
    "slideshow": {
     "slide_type": "subslide"
    }
   },
   "source": [
    "To track how the execution proceeds through `cgi_decode()`, we make use of `sys.settrace()`.  First, we define the _tracing function_ that will be called for each line.  It has three parameters: \n",
    "\n",
    "* The `frame` parameter gets you the current _frame_, allowing access to the current location and variables:\n",
    "    * `frame.f_code` is the currently executed code with `frame.f_code.co_name` being the function name;\n",
    "    * `frame.f_lineno` holds the current line number; and\n",
    "    * `frame.f_locals` holds the current local variables and arguments.\n",
    "* The `event` parameter is a string with values including `\"line\"` (a new line has been reached) or `\"call\"` (a function is being called).\n",
    "* The `arg` parameter is an additional _argument_ for some events; for `\"return\"` events, for instance, `arg` holds the value being returned."
   ]
  },
  {
   "cell_type": "markdown",
   "metadata": {
    "button": false,
    "new_sheet": false,
    "run_control": {
     "read_only": false
    },
    "slideshow": {
     "slide_type": "subslide"
    }
   },
   "source": [
    "We use the tracing function for simply reporting the current line executed, which we access through the `frame` argument."
   ]
  },
  {
   "cell_type": "code",
   "execution_count": 8,
   "metadata": {
    "execution": {
     "iopub.execute_input": "2025-10-26T13:23:34.977896Z",
     "iopub.status.busy": "2025-10-26T13:23:34.977822Z",
     "iopub.status.idle": "2025-10-26T13:23:34.979433Z",
     "shell.execute_reply": "2025-10-26T13:23:34.979214Z"
    },
    "slideshow": {
     "slide_type": "skip"
    }
   },
   "outputs": [],
   "source": [
    "from types import FrameType, TracebackType"
   ]
  },
  {
   "cell_type": "code",
   "execution_count": 9,
   "metadata": {
    "button": false,
    "execution": {
     "iopub.execute_input": "2025-10-26T13:23:34.980465Z",
     "iopub.status.busy": "2025-10-26T13:23:34.980390Z",
     "iopub.status.idle": "2025-10-26T13:23:34.981802Z",
     "shell.execute_reply": "2025-10-26T13:23:34.981583Z"
    },
    "new_sheet": false,
    "run_control": {
     "read_only": false
    },
    "slideshow": {
     "slide_type": "fragment"
    }
   },
   "outputs": [],
   "source": [
    "coverage = []"
   ]
  },
  {
   "cell_type": "code",
   "execution_count": 10,
   "metadata": {
    "button": false,
    "execution": {
     "iopub.execute_input": "2025-10-26T13:23:34.983051Z",
     "iopub.status.busy": "2025-10-26T13:23:34.982961Z",
     "iopub.status.idle": "2025-10-26T13:23:34.984871Z",
     "shell.execute_reply": "2025-10-26T13:23:34.984594Z"
    },
    "new_sheet": false,
    "run_control": {
     "read_only": false
    },
    "slideshow": {
     "slide_type": "fragment"
    }
   },
   "outputs": [],
   "source": [
    "def traceit(frame: FrameType, event: str, arg: Any) -> Optional[Callable]:\n",
    "    \"\"\"Trace program execution. To be passed to sys.settrace().\"\"\"\n",
    "    if event == 'line':\n",
    "        global coverage\n",
    "        function_name = frame.f_code.co_name\n",
    "        lineno = frame.f_lineno\n",
    "        coverage.append(lineno)\n",
    "\n",
    "    return traceit"
   ]
  },
  {
   "cell_type": "markdown",
   "metadata": {
    "button": false,
    "new_sheet": false,
    "run_control": {
     "read_only": false
    },
    "slideshow": {
     "slide_type": "subslide"
    }
   },
   "source": [
    "We can switch tracing on and off with `sys.settrace()`:"
   ]
  },
  {
   "cell_type": "code",
   "execution_count": 11,
   "metadata": {
    "button": false,
    "execution": {
     "iopub.execute_input": "2025-10-26T13:23:34.986203Z",
     "iopub.status.busy": "2025-10-26T13:23:34.986126Z",
     "iopub.status.idle": "2025-10-26T13:23:34.987646Z",
     "shell.execute_reply": "2025-10-26T13:23:34.987365Z"
    },
    "new_sheet": false,
    "run_control": {
     "read_only": false
    },
    "slideshow": {
     "slide_type": "skip"
    }
   },
   "outputs": [],
   "source": [
    "import sys"
   ]
  },
  {
   "cell_type": "code",
   "execution_count": 12,
   "metadata": {
    "button": false,
    "execution": {
     "iopub.execute_input": "2025-10-26T13:23:34.988905Z",
     "iopub.status.busy": "2025-10-26T13:23:34.988797Z",
     "iopub.status.idle": "2025-10-26T13:23:34.990566Z",
     "shell.execute_reply": "2025-10-26T13:23:34.990302Z"
    },
    "new_sheet": false,
    "run_control": {
     "read_only": false
    },
    "slideshow": {
     "slide_type": "fragment"
    }
   },
   "outputs": [],
   "source": [
    "def cgi_decode_traced(s: str) -> None:\n",
    "    global coverage\n",
    "    coverage = []\n",
    "    sys.settrace(traceit)  # Turn on\n",
    "    cgi_decode(s)\n",
    "    sys.settrace(None)    # Turn off"
   ]
  },
  {
   "cell_type": "markdown",
   "metadata": {
    "button": false,
    "new_sheet": false,
    "run_control": {
     "read_only": false
    },
    "slideshow": {
     "slide_type": "subslide"
    }
   },
   "source": [
    "When we compute `cgi_decode(\"a+b\")`, we can now see how the execution progresses through `cgi_decode()`.  After the initialization of `hex_values`, `t`, and `i`, we see that the `while` loop is taken three times – one for every character in the input."
   ]
  },
  {
   "cell_type": "code",
   "execution_count": 13,
   "metadata": {
    "button": false,
    "execution": {
     "iopub.execute_input": "2025-10-26T13:23:34.992045Z",
     "iopub.status.busy": "2025-10-26T13:23:34.991836Z",
     "iopub.status.idle": "2025-10-26T13:23:34.994143Z",
     "shell.execute_reply": "2025-10-26T13:23:34.993782Z"
    },
    "new_sheet": false,
    "run_control": {
     "read_only": false
    },
    "slideshow": {
     "slide_type": "fragment"
    }
   },
   "outputs": [
    {
     "name": "stdout",
     "output_type": "stream",
     "text": [
      "[8, 9, 8, 9, 8, 9, 8, 9, 8, 9, 8, 10, 8, 10, 8, 10, 8, 10, 8, 10, 8, 11, 8, 11, 8, 11, 8, 11, 8, 11, 8, 11, 8, 12, 8, 12, 8, 15, 16, 17, 18, 19, 21, 30, 31, 17, 18, 19, 20, 31, 17, 18, 19, 21, 30, 31, 17, 32]\n"
     ]
    }
   ],
   "source": [
    "cgi_decode_traced(\"a+b\")\n",
    "print(coverage)"
   ]
  },
  {
   "cell_type": "markdown",
   "metadata": {
    "button": false,
    "new_sheet": false,
    "run_control": {
     "read_only": false
    },
    "slideshow": {
     "slide_type": "subslide"
    }
   },
   "source": [
    "Which lines are these, actually?  To this end, we get the source code of `cgi_decode_code` and encode it into an array `cgi_decode_lines`, which we will then annotate with coverage information.  First, let us get the source code of `cgi_encode`:"
   ]
  },
  {
   "cell_type": "code",
   "execution_count": 14,
   "metadata": {
    "execution": {
     "iopub.execute_input": "2025-10-26T13:23:34.995726Z",
     "iopub.status.busy": "2025-10-26T13:23:34.995608Z",
     "iopub.status.idle": "2025-10-26T13:23:34.997158Z",
     "shell.execute_reply": "2025-10-26T13:23:34.996938Z"
    },
    "slideshow": {
     "slide_type": "skip"
    }
   },
   "outputs": [],
   "source": [
    "import inspect"
   ]
  },
  {
   "cell_type": "code",
   "execution_count": 15,
   "metadata": {
    "execution": {
     "iopub.execute_input": "2025-10-26T13:23:34.998219Z",
     "iopub.status.busy": "2025-10-26T13:23:34.998133Z",
     "iopub.status.idle": "2025-10-26T13:23:34.999904Z",
     "shell.execute_reply": "2025-10-26T13:23:34.999671Z"
    },
    "slideshow": {
     "slide_type": "fragment"
    }
   },
   "outputs": [],
   "source": [
    "cgi_decode_code = inspect.getsource(cgi_decode)"
   ]
  },
  {
   "cell_type": "markdown",
   "metadata": {
    "slideshow": {
     "slide_type": "fragment"
    }
   },
   "source": [
    "`cgi_decode_code` is a string holding the source code.  We can print it out with Python syntax highlighting:"
   ]
  },
  {
   "cell_type": "code",
   "execution_count": 16,
   "metadata": {
    "execution": {
     "iopub.execute_input": "2025-10-26T13:23:35.001354Z",
     "iopub.status.busy": "2025-10-26T13:23:35.001270Z",
     "iopub.status.idle": "2025-10-26T13:23:35.002766Z",
     "shell.execute_reply": "2025-10-26T13:23:35.002555Z"
    },
    "slideshow": {
     "slide_type": "skip"
    }
   },
   "outputs": [],
   "source": [
    "from bookutils import print_content, print_file"
   ]
  },
  {
   "cell_type": "code",
   "execution_count": 17,
   "metadata": {
    "execution": {
     "iopub.execute_input": "2025-10-26T13:23:35.003803Z",
     "iopub.status.busy": "2025-10-26T13:23:35.003728Z",
     "iopub.status.idle": "2025-10-26T13:23:35.067620Z",
     "shell.execute_reply": "2025-10-26T13:23:35.067323Z"
    },
    "slideshow": {
     "slide_type": "subslide"
    }
   },
   "outputs": [
    {
     "name": "stdout",
     "output_type": "stream",
     "text": [
      "\u001b[34mdef\u001b[39;49;00m\u001b[37m \u001b[39;49;00m\u001b[32mcgi_decode\u001b[39;49;00m(s: \u001b[36mstr\u001b[39;49;00m) -> \u001b[36mstr\u001b[39;49;00m:\u001b[37m\u001b[39;49;00m\n",
      "\u001b[37m    \u001b[39;49;00m\u001b[33m\"\"\"Decode the CGI-encoded string `s`:\u001b[39;49;00m\n",
      "\u001b[33m       * replace '+' by ' '\u001b[39;49;00m\n",
      "\u001b[33m       * replace \"%xx\" by the character with hex number xx.\u001b[39;49;00m\n",
      "\u001b[33m       Return the decoded string.  Raise `ValueError` for invalid inputs.\"\"\"\u001b[39;49;00m\u001b[37m\u001b[39;49;00m\n",
      "\u001b[37m\u001b[39;49;00m\n",
      "    \u001b[37m# Mapping of hex digits to their integer values\u001b[39;49;00m\u001b[37m\u001b[39;49;00m\n",
      "    hex_v...\u001b[37m\u001b[39;49;00m"
     ]
    }
   ],
   "source": [
    "print_content(cgi_decode_code[:300] + \"...\", \".py\")"
   ]
  },
  {
   "cell_type": "markdown",
   "metadata": {
    "slideshow": {
     "slide_type": "fragment"
    }
   },
   "source": [
    "Using `splitlines()`, we split the code into an array of lines, indexed by line number."
   ]
  },
  {
   "cell_type": "code",
   "execution_count": 18,
   "metadata": {
    "button": false,
    "execution": {
     "iopub.execute_input": "2025-10-26T13:23:35.069010Z",
     "iopub.status.busy": "2025-10-26T13:23:35.068921Z",
     "iopub.status.idle": "2025-10-26T13:23:35.070697Z",
     "shell.execute_reply": "2025-10-26T13:23:35.070467Z"
    },
    "new_sheet": false,
    "run_control": {
     "read_only": false
    },
    "slideshow": {
     "slide_type": "subslide"
    }
   },
   "outputs": [],
   "source": [
    "cgi_decode_lines = [\"\"] + cgi_decode_code.splitlines()"
   ]
  },
  {
   "cell_type": "markdown",
   "metadata": {
    "slideshow": {
     "slide_type": "fragment"
    }
   },
   "source": [
    "`cgi_decode_lines[L]` is line L of the source code."
   ]
  },
  {
   "cell_type": "code",
   "execution_count": 19,
   "metadata": {
    "button": false,
    "execution": {
     "iopub.execute_input": "2025-10-26T13:23:35.072025Z",
     "iopub.status.busy": "2025-10-26T13:23:35.071891Z",
     "iopub.status.idle": "2025-10-26T13:23:35.074009Z",
     "shell.execute_reply": "2025-10-26T13:23:35.073770Z"
    },
    "new_sheet": false,
    "run_control": {
     "read_only": false
    },
    "slideshow": {
     "slide_type": "subslide"
    }
   },
   "outputs": [
    {
     "data": {
      "text/plain": [
       "'def cgi_decode(s: str) -> str:'"
      ]
     },
     "execution_count": 19,
     "metadata": {},
     "output_type": "execute_result"
    }
   ],
   "source": [
    "cgi_decode_lines[1]"
   ]
  },
  {
   "cell_type": "markdown",
   "metadata": {
    "button": false,
    "new_sheet": false,
    "run_control": {
     "read_only": false
    },
    "slideshow": {
     "slide_type": "subslide"
    }
   },
   "source": [
    "We see that the first line (9) executed is actually the initialization of `hex_values`..."
   ]
  },
  {
   "cell_type": "code",
   "execution_count": 20,
   "metadata": {
    "button": false,
    "execution": {
     "iopub.execute_input": "2025-10-26T13:23:35.075482Z",
     "iopub.status.busy": "2025-10-26T13:23:35.075396Z",
     "iopub.status.idle": "2025-10-26T13:23:35.077384Z",
     "shell.execute_reply": "2025-10-26T13:23:35.077166Z"
    },
    "new_sheet": false,
    "run_control": {
     "read_only": false
    },
    "slideshow": {
     "slide_type": "fragment"
    }
   },
   "outputs": [
    {
     "data": {
      "text/plain": [
       "[\"        '0': 0, '1': 1, '2': 2, '3': 3, '4': 4,\",\n",
       " \"        '5': 5, '6': 6, '7': 7, '8': 8, '9': 9,\",\n",
       " \"        'a': 10, 'b': 11, 'c': 12, 'd': 13, 'e': 14, 'f': 15,\",\n",
       " \"        'A': 10, 'B': 11, 'C': 12, 'D': 13, 'E': 14, 'F': 15,\"]"
      ]
     },
     "execution_count": 20,
     "metadata": {},
     "output_type": "execute_result"
    }
   ],
   "source": [
    "cgi_decode_lines[9:13]"
   ]
  },
  {
   "cell_type": "markdown",
   "metadata": {
    "button": false,
    "new_sheet": false,
    "run_control": {
     "read_only": false
    },
    "slideshow": {
     "slide_type": "fragment"
    }
   },
   "source": [
    "... followed by the initialization of `t`:"
   ]
  },
  {
   "cell_type": "code",
   "execution_count": 21,
   "metadata": {
    "button": false,
    "execution": {
     "iopub.execute_input": "2025-10-26T13:23:35.078759Z",
     "iopub.status.busy": "2025-10-26T13:23:35.078666Z",
     "iopub.status.idle": "2025-10-26T13:23:35.080776Z",
     "shell.execute_reply": "2025-10-26T13:23:35.080538Z"
    },
    "new_sheet": false,
    "run_control": {
     "read_only": false
    },
    "slideshow": {
     "slide_type": "fragment"
    }
   },
   "outputs": [
    {
     "data": {
      "text/plain": [
       "'    t = \"\"'"
      ]
     },
     "execution_count": 21,
     "metadata": {},
     "output_type": "execute_result"
    }
   ],
   "source": [
    "cgi_decode_lines[15]"
   ]
  },
  {
   "cell_type": "markdown",
   "metadata": {
    "button": false,
    "new_sheet": false,
    "run_control": {
     "read_only": false
    },
    "slideshow": {
     "slide_type": "subslide"
    }
   },
   "source": [
    "To see which lines actually have been covered at least once, we can convert `coverage` into a set:"
   ]
  },
  {
   "cell_type": "code",
   "execution_count": 22,
   "metadata": {
    "button": false,
    "execution": {
     "iopub.execute_input": "2025-10-26T13:23:35.082193Z",
     "iopub.status.busy": "2025-10-26T13:23:35.082106Z",
     "iopub.status.idle": "2025-10-26T13:23:35.083975Z",
     "shell.execute_reply": "2025-10-26T13:23:35.083724Z"
    },
    "new_sheet": false,
    "run_control": {
     "read_only": false
    },
    "slideshow": {
     "slide_type": "fragment"
    }
   },
   "outputs": [
    {
     "name": "stdout",
     "output_type": "stream",
     "text": [
      "{32, 8, 9, 10, 11, 12, 15, 16, 17, 18, 19, 20, 21, 30, 31}\n"
     ]
    }
   ],
   "source": [
    "covered_lines = set(coverage)\n",
    "print(covered_lines)"
   ]
  },
  {
   "cell_type": "markdown",
   "metadata": {
    "button": false,
    "new_sheet": false,
    "run_control": {
     "read_only": false
    },
    "slideshow": {
     "slide_type": "subslide"
    }
   },
   "source": [
    "Let us print out the full code, annotating lines not covered with `#`.\n",
    "The idea of such an annotation is to direct developer's attention to the non-covered lines."
   ]
  },
  {
   "cell_type": "code",
   "execution_count": 23,
   "metadata": {
    "button": false,
    "execution": {
     "iopub.execute_input": "2025-10-26T13:23:35.085298Z",
     "iopub.status.busy": "2025-10-26T13:23:35.085214Z",
     "iopub.status.idle": "2025-10-26T13:23:35.440842Z",
     "shell.execute_reply": "2025-10-26T13:23:35.440529Z"
    },
    "new_sheet": false,
    "run_control": {
     "read_only": false
    },
    "slideshow": {
     "slide_type": "subslide"
    }
   },
   "outputs": [
    {
     "name": "stdout",
     "output_type": "stream",
     "text": [
      "#  1  \u001b[34mdef\u001b[39;49;00m\u001b[37m \u001b[39;49;00m\u001b[32mcgi_decode\u001b[39;49;00m(s: \u001b[36mstr\u001b[39;49;00m) -> \u001b[36mstr\u001b[39;49;00m:\u001b[37m\u001b[39;49;00m\n",
      "#  2      \u001b[33m\"\"\"\u001b[39;49;00m\u001b[33mDecode the CGI-encoded string `s`:\u001b[39;49;00m\u001b[33m\u001b[39;49;00m\n",
      "#  3         * replace \u001b[33m'\u001b[39;49;00m\u001b[33m+\u001b[39;49;00m\u001b[33m'\u001b[39;49;00m by \u001b[33m'\u001b[39;49;00m\u001b[33m \u001b[39;49;00m\u001b[33m'\u001b[39;49;00m\u001b[37m\u001b[39;49;00m\n",
      "#  4         * replace \u001b[33m\"\u001b[39;49;00m\u001b[33m%x\u001b[39;49;00m\u001b[33mx\u001b[39;49;00m\u001b[33m\"\u001b[39;49;00m by the character \u001b[34mwith\u001b[39;49;00m \u001b[36mhex\u001b[39;49;00m number xx.\u001b[37m\u001b[39;49;00m\n",
      "#  5         Return the decoded string.  Raise \u001b[04m\u001b[91m`\u001b[39;49;00m\u001b[36mValueError\u001b[39;49;00m\u001b[04m\u001b[91m`\u001b[39;49;00m \u001b[34mfor\u001b[39;49;00m invalid inputs.\u001b[33m\"\"\"\u001b[39;49;00m\u001b[33m\u001b[39;49;00m\n",
      "#  6  \u001b[37m\u001b[39;49;00m\n",
      "#  7      \u001b[37m# Mapping of hex digits to their integer values\u001b[39;49;00m\u001b[37m\u001b[39;49;00m\n",
      "   8      hex_values = {\u001b[37m\u001b[39;49;00m\n",
      "   9          \u001b[33m'\u001b[39;49;00m\u001b[33m0\u001b[39;49;00m\u001b[33m'\u001b[39;49;00m: \u001b[34m0\u001b[39;49;00m, \u001b[33m'\u001b[39;49;00m\u001b[33m1\u001b[39;49;00m\u001b[33m'\u001b[39;49;00m: \u001b[34m1\u001b[39;49;00m, \u001b[33m'\u001b[39;49;00m\u001b[33m2\u001b[39;49;00m\u001b[33m'\u001b[39;49;00m: \u001b[34m2\u001b[39;49;00m, \u001b[33m'\u001b[39;49;00m\u001b[33m3\u001b[39;49;00m\u001b[33m'\u001b[39;49;00m: \u001b[34m3\u001b[39;49;00m, \u001b[33m'\u001b[39;49;00m\u001b[33m4\u001b[39;49;00m\u001b[33m'\u001b[39;49;00m: \u001b[34m4\u001b[39;49;00m,\u001b[37m\u001b[39;49;00m\n",
      "  10          \u001b[33m'\u001b[39;49;00m\u001b[33m5\u001b[39;49;00m\u001b[33m'\u001b[39;49;00m: \u001b[34m5\u001b[39;49;00m, \u001b[33m'\u001b[39;49;00m\u001b[33m6\u001b[39;49;00m\u001b[33m'\u001b[39;49;00m: \u001b[34m6\u001b[39;49;00m, \u001b[33m'\u001b[39;49;00m\u001b[33m7\u001b[39;49;00m\u001b[33m'\u001b[39;49;00m: \u001b[34m7\u001b[39;49;00m, \u001b[33m'\u001b[39;49;00m\u001b[33m8\u001b[39;49;00m\u001b[33m'\u001b[39;49;00m: \u001b[34m8\u001b[39;49;00m, \u001b[33m'\u001b[39;49;00m\u001b[33m9\u001b[39;49;00m\u001b[33m'\u001b[39;49;00m: \u001b[34m9\u001b[39;49;00m,\u001b[37m\u001b[39;49;00m\n",
      "  11  "
     ]
    },
    {
     "name": "stdout",
     "output_type": "stream",
     "text": [
      "        \u001b[33m'\u001b[39;49;00m\u001b[33ma\u001b[39;49;00m\u001b[33m'\u001b[39;49;00m: \u001b[34m10\u001b[39;49;00m, \u001b[33m'\u001b[39;49;00m\u001b[33mb\u001b[39;49;00m\u001b[33m'\u001b[39;49;00m: \u001b[34m11\u001b[39;49;00m, \u001b[33m'\u001b[39;49;00m\u001b[33mc\u001b[39;49;00m\u001b[33m'\u001b[39;49;00m: \u001b[34m12\u001b[39;49;00m, \u001b[33m'\u001b[39;49;00m\u001b[33md\u001b[39;49;00m\u001b[33m'\u001b[39;49;00m: \u001b[34m13\u001b[39;49;00m, \u001b[33m'\u001b[39;49;00m\u001b[33me\u001b[39;49;00m\u001b[33m'\u001b[39;49;00m: \u001b[34m14\u001b[39;49;00m, \u001b[33m'\u001b[39;49;00m\u001b[33mf\u001b[39;49;00m\u001b[33m'\u001b[39;49;00m: \u001b[34m15\u001b[39;49;00m,\u001b[37m\u001b[39;49;00m\n",
      "  12          \u001b[33m'\u001b[39;49;00m\u001b[33mA\u001b[39;49;00m\u001b[33m'\u001b[39;49;00m: \u001b[34m10\u001b[39;49;00m, \u001b[33m'\u001b[39;49;00m\u001b[33mB\u001b[39;49;00m\u001b[33m'\u001b[39;49;00m: \u001b[34m11\u001b[39;49;00m, \u001b[33m'\u001b[39;49;00m\u001b[33mC\u001b[39;49;00m\u001b[33m'\u001b[39;49;00m: \u001b[34m12\u001b[39;49;00m, \u001b[33m'\u001b[39;49;00m\u001b[33mD\u001b[39;49;00m\u001b[33m'\u001b[39;49;00m: \u001b[34m13\u001b[39;49;00m, \u001b[33m'\u001b[39;49;00m\u001b[33mE\u001b[39;49;00m\u001b[33m'\u001b[39;49;00m: \u001b[34m14\u001b[39;49;00m, \u001b[33m'\u001b[39;49;00m\u001b[33mF\u001b[39;49;00m\u001b[33m'\u001b[39;49;00m: \u001b[34m15\u001b[39;49;00m,\u001b[37m\u001b[39;49;00m\n",
      "# 13      }\u001b[37m\u001b[39;49;00m\n",
      "# 14  \u001b[37m\u001b[39;49;00m\n",
      "  15      t = \u001b[33m\"\u001b[39;49;00m\u001b[33m\"\u001b[39;49;00m\u001b[37m\u001b[39;49;00m\n",
      "  16      i = \u001b[34m0\u001b[39;49;00m\u001b[37m\u001b[39;49;00m\n",
      "  17  "
     ]
    },
    {
     "name": "stdout",
     "output_type": "stream",
     "text": [
      "    \u001b[34mwhile\u001b[39;49;00m i < \u001b[36mlen\u001b[39;49;00m(s):\u001b[37m\u001b[39;49;00m\n",
      "  18          c = s[i]\u001b[37m\u001b[39;49;00m\n",
      "  19  "
     ]
    },
    {
     "name": "stdout",
     "output_type": "stream",
     "text": [
      "        \u001b[34mif\u001b[39;49;00m c == \u001b[33m'\u001b[39;49;00m\u001b[33m+\u001b[39;49;00m\u001b[33m'\u001b[39;49;00m:\u001b[37m\u001b[39;49;00m\n",
      "  20              t += \u001b[33m'\u001b[39;49;00m\u001b[33m \u001b[39;49;00m\u001b[33m'\u001b[39;49;00m\u001b[37m\u001b[39;49;00m\n",
      "  21          \u001b[34melif\u001b[39;49;00m c == \u001b[33m'\u001b[39;49;00m\u001b[33m%\u001b[39;49;00m\u001b[33m'\u001b[39;49;00m:\u001b[37m\u001b[39;49;00m\n",
      "# 22              digit_high, digit_low = s[i + \u001b[34m1\u001b[39;49;00m], s[i + \u001b[34m2\u001b[39;49;00m]\u001b[37m\u001b[39;49;00m\n",
      "# 23              i += \u001b[34m2\u001b[39;49;00m\u001b[37m\u001b[39;49;00m\n",
      "# 24              \u001b[34mif\u001b[39;49;00m digit_high \u001b[35min\u001b[39;49;00m hex_values \u001b[35mand\u001b[39;49;00m digit_low \u001b[35min\u001b[39;49;00m hex_values:\u001b[37m\u001b[39;49;00m\n",
      "# 25                  v = hex_values[digit_high] * \u001b[34m16\u001b[39;49;00m + hex_values[digit_low]\u001b[37m\u001b[39;49;00m\n",
      "# 26                  t += \u001b[36mchr\u001b[39;49;00m(v)\u001b[37m\u001b[39;49;00m\n",
      "# 27              \u001b[34melse\u001b[39;49;00m:\u001b[37m\u001b[39;49;00m\n",
      "# 28                  \u001b[34mraise\u001b[39;49;00m \u001b[36mValueError\u001b[39;49;00m(\u001b[33m\"\u001b[39;49;00m\u001b[33mInvalid encoding\u001b[39;49;00m\u001b[33m\"\u001b[39;49;00m)\u001b[37m\u001b[39;49;00m\n",
      "# 29  "
     ]
    },
    {
     "name": "stdout",
     "output_type": "stream",
     "text": [
      "        \u001b[34melse\u001b[39;49;00m:\u001b[37m\u001b[39;49;00m\n",
      "  30              t += c\u001b[37m\u001b[39;49;00m\n",
      "  31          i += \u001b[34m1\u001b[39;49;00m\u001b[37m\u001b[39;49;00m\n",
      "  32      \u001b[34mreturn\u001b[39;49;00m t\u001b[37m\u001b[39;49;00m\n"
     ]
    }
   ],
   "source": [
    "for lineno in range(1, len(cgi_decode_lines)):\n",
    "    if lineno not in covered_lines:\n",
    "        print(\"# \", end=\"\")\n",
    "    else:\n",
    "        print(\"  \", end=\"\")\n",
    "    print(\"%2d  \" % lineno, end=\"\")\n",
    "    print_content(cgi_decode_lines[lineno], '.py')\n",
    "    print()"
   ]
  },
  {
   "cell_type": "markdown",
   "metadata": {
    "button": false,
    "new_sheet": false,
    "run_control": {
     "read_only": false
    },
    "slideshow": {
     "slide_type": "subslide"
    }
   },
   "source": [
    "We see that a number of lines (notably comments) have not been executed (marked with `#`), simply because they are not executable.\n",
    "However, we also see that the lines under `elif c == '%'` have _not_ been executed yet.\n",
    "If `\"a+b\"` were our only test case so far, this missing coverage would now encourage us to create another test case that actually covers these `#`-marked lines."
   ]
  },
  {
   "attachments": {},
   "cell_type": "markdown",
   "metadata": {
    "button": false,
    "new_sheet": false,
    "run_control": {
     "read_only": false
    },
    "slideshow": {
     "slide_type": "slide"
    }
   },
   "source": [
    "## A Coverage Class\n",
    "\n",
    "In this book, we will make use of coverage again and again – to _measure_ the effectiveness of different test generation techniques, but also to _guide_ test generation towards code coverage.  Our previous implementation with a global `coverage` variable is a bit cumbersome for that.  We therefore implement some functionality that will help us measure coverage easily."
   ]
  },
  {
   "cell_type": "markdown",
   "metadata": {
    "button": false,
    "new_sheet": false,
    "run_control": {
     "read_only": false
    },
    "slideshow": {
     "slide_type": "subslide"
    }
   },
   "source": [
    "The key idea of getting coverage is to make use of the Python `with` statement.  The general form\n",
    "\n",
    "```python\n",
    "with OBJECT [as VARIABLE]:\n",
    "    BODY\n",
    "```\n",
    "\n",
    "executes `BODY` with `OBJECT` being defined (and stored in `VARIABLE`).  The interesting thing is that at the beginning and end of `BODY`, the special methods `OBJECT.__enter__()` and `OBJECT.__exit__()` are automatically invoked; even if `BODY` raises an exception.  This allows us to define a `Coverage` object where `Coverage.__enter__()` automatically turns on tracing and `Coverage.__exit__()` automatically turns off tracing again.  After tracing, we can make use of special methods to access the coverage.  This is what this looks like during usage:\n",
    "\n",
    "```python\n",
    "with Coverage() as cov:\n",
    "    function_to_be_traced()\n",
    "c = cov.coverage()\n",
    "```\n",
    "\n",
    "Here, tracing is automatically turned on during `function_to_be_traced()` and turned off again after the `with` block; afterwards, we can access the set of lines executed."
   ]
  },
  {
   "cell_type": "markdown",
   "metadata": {
    "button": false,
    "new_sheet": false,
    "run_control": {
     "read_only": false
    },
    "slideshow": {
     "slide_type": "subslide"
    }
   },
   "source": [
    "Here's the full implementation with all its bells and whistles.  You don't have to get everything; it suffices that you know how to use it:"
   ]
  },
  {
   "cell_type": "code",
   "execution_count": 24,
   "metadata": {
    "execution": {
     "iopub.execute_input": "2025-10-26T13:23:35.442477Z",
     "iopub.status.busy": "2025-10-26T13:23:35.442366Z",
     "iopub.status.idle": "2025-10-26T13:23:35.444491Z",
     "shell.execute_reply": "2025-10-26T13:23:35.444030Z"
    },
    "slideshow": {
     "slide_type": "fragment"
    }
   },
   "outputs": [],
   "source": [
    "Location = Tuple[str, int]"
   ]
  },
  {
   "cell_type": "code",
   "execution_count": 25,
   "metadata": {
    "button": false,
    "execution": {
     "iopub.execute_input": "2025-10-26T13:23:35.445967Z",
     "iopub.status.busy": "2025-10-26T13:23:35.445843Z",
     "iopub.status.idle": "2025-10-26T13:23:35.450512Z",
     "shell.execute_reply": "2025-10-26T13:23:35.450156Z"
    },
    "new_sheet": false,
    "run_control": {
     "read_only": false
    },
    "slideshow": {
     "slide_type": "subslide"
    }
   },
   "outputs": [],
   "source": [
    "class Coverage:\n",
    "    \"\"\"Track coverage within a `with` block. Use as\n",
    "    ```\n",
    "    with Coverage() as cov:\n",
    "        function_to_be_traced()\n",
    "    c = cov.coverage()\n",
    "    ```\n",
    "    \"\"\"\n",
    "\n",
    "    def __init__(self) -> None:\n",
    "        \"\"\"Constructor\"\"\"\n",
    "        self._trace: List[Location] = []\n",
    "\n",
    "    # Trace function\n",
    "    def traceit(self, frame: FrameType, event: str, arg: Any) -> Optional[Callable]:\n",
    "        \"\"\"Tracing function. To be overloaded in subclasses.\"\"\"\n",
    "        if self.original_trace_function is not None:\n",
    "            self.original_trace_function(frame, event, arg)\n",
    "\n",
    "        if event == \"line\":\n",
    "            function_name = frame.f_code.co_name\n",
    "            lineno = frame.f_lineno\n",
    "            if function_name != '__exit__':  # avoid tracing ourselves:\n",
    "                self._trace.append((function_name, lineno))\n",
    "\n",
    "        return self.traceit\n",
    "\n",
    "    def __enter__(self) -> Any:\n",
    "        \"\"\"Start of `with` block. Turn on tracing.\"\"\"\n",
    "        self.original_trace_function = sys.gettrace()\n",
    "        sys.settrace(self.traceit)\n",
    "        return self\n",
    "\n",
    "    def __exit__(self, exc_type: Type, exc_value: BaseException,\n",
    "                 tb: TracebackType) -> Optional[bool]:\n",
    "        \"\"\"End of `with` block. Turn off tracing.\"\"\"\n",
    "        sys.settrace(self.original_trace_function)\n",
    "        return None  # default: pass all exceptions\n",
    "\n",
    "    def trace(self) -> List[Location]:\n",
    "        \"\"\"The list of executed lines, as (function_name, line_number) pairs\"\"\"\n",
    "        return self._trace\n",
    "\n",
    "    def coverage(self) -> Set[Location]:\n",
    "        \"\"\"The set of executed lines, as (function_name, line_number) pairs\"\"\"\n",
    "        return set(self.trace())\n",
    "\n",
    "    def function_names(self) -> Set[str]:\n",
    "        \"\"\"The set of function names seen\"\"\"\n",
    "        return set(function_name for (function_name, line_number) in self.coverage())\n",
    "\n",
    "    def __repr__(self) -> str:\n",
    "        \"\"\"Return a string representation of this object.\n",
    "           Show covered (and uncovered) program code\"\"\"\n",
    "        t = \"\"\n",
    "        for function_name in self.function_names():\n",
    "            # Similar code as in the example above\n",
    "            try:\n",
    "                fun = eval(function_name)\n",
    "            except Exception as exc:\n",
    "                t += f\"Skipping {function_name}: {exc}\"\n",
    "                continue\n",
    "\n",
    "            source_lines, start_line_number = inspect.getsourcelines(fun)\n",
    "            for lineno in range(start_line_number, start_line_number + len(source_lines)):\n",
    "                if (function_name, lineno) not in self.trace():\n",
    "                    t += \"# \"\n",
    "                else:\n",
    "                    t += \"  \"\n",
    "                t += \"%2d  \" % lineno\n",
    "                t += source_lines[lineno - start_line_number]\n",
    "\n",
    "        return t"
   ]
  },
  {
   "cell_type": "markdown",
   "metadata": {
    "button": false,
    "new_sheet": false,
    "run_control": {
     "read_only": false
    },
    "slideshow": {
     "slide_type": "subslide"
    }
   },
   "source": [
    "Let us put this to use:"
   ]
  },
  {
   "cell_type": "code",
   "execution_count": 26,
   "metadata": {
    "button": false,
    "execution": {
     "iopub.execute_input": "2025-10-26T13:23:35.451816Z",
     "iopub.status.busy": "2025-10-26T13:23:35.451727Z",
     "iopub.status.idle": "2025-10-26T13:23:35.453683Z",
     "shell.execute_reply": "2025-10-26T13:23:35.453449Z"
    },
    "new_sheet": false,
    "run_control": {
     "read_only": false
    },
    "slideshow": {
     "slide_type": "fragment"
    }
   },
   "outputs": [
    {
     "name": "stdout",
     "output_type": "stream",
     "text": [
      "{('cgi_decode', 8), ('cgi_decode', 30), ('cgi_decode', 17), ('cgi_decode', 20), ('cgi_decode', 10), ('cgi_decode', 16), ('cgi_decode', 19), ('cgi_decode', 9), ('cgi_decode', 32), ('cgi_decode', 12), ('cgi_decode', 18), ('cgi_decode', 31), ('cgi_decode', 15), ('cgi_decode', 21), ('cgi_decode', 11)}\n"
     ]
    }
   ],
   "source": [
    "with Coverage() as cov:\n",
    "    cgi_decode(\"a+b\")\n",
    "\n",
    "print(cov.coverage())"
   ]
  },
  {
   "cell_type": "markdown",
   "metadata": {
    "button": false,
    "new_sheet": false,
    "run_control": {
     "read_only": false
    },
    "slideshow": {
     "slide_type": "fragment"
    }
   },
   "source": [
    "As you can see, the `Coverage()` class not only keeps track of lines executed, but also of function names.  This is useful if you have a program that spans multiple files."
   ]
  },
  {
   "cell_type": "markdown",
   "metadata": {
    "slideshow": {
     "slide_type": "fragment"
    }
   },
   "source": [
    "For interactive use, we can simply print the coverage object, and obtain a listing of the code, again with non-covered lines marked as `#`."
   ]
  },
  {
   "cell_type": "code",
   "execution_count": 27,
   "metadata": {
    "execution": {
     "iopub.execute_input": "2025-10-26T13:23:35.455052Z",
     "iopub.status.busy": "2025-10-26T13:23:35.454970Z",
     "iopub.status.idle": "2025-10-26T13:23:35.456806Z",
     "shell.execute_reply": "2025-10-26T13:23:35.456607Z"
    },
    "slideshow": {
     "slide_type": "subslide"
    }
   },
   "outputs": [
    {
     "name": "stdout",
     "output_type": "stream",
     "text": [
      "#  1  def cgi_decode(s: str) -> str:\n",
      "#  2      \"\"\"Decode the CGI-encoded string `s`:\n",
      "#  3         * replace '+' by ' '\n",
      "#  4         * replace \"%xx\" by the character with hex number xx.\n",
      "#  5         Return the decoded string.  Raise `ValueError` for invalid inputs.\"\"\"\n",
      "#  6  \n",
      "#  7      # Mapping of hex digits to their integer values\n",
      "   8      hex_values = {\n",
      "   9          '0': 0, '1': 1, '2': 2, '3': 3, '4': 4,\n",
      "  10          '5': 5, '6': 6, '7': 7, '8': 8, '9': 9,\n",
      "  11          'a': 10, 'b': 11, 'c': 12, 'd': 13, 'e': 14, 'f': 15,\n",
      "  12          'A': 10, 'B': 11, 'C': 12, 'D': 13, 'E': 14, 'F': 15,\n",
      "# 13      }\n",
      "# 14  \n",
      "  15      t = \"\"\n",
      "  16      i = 0\n",
      "  17      while i < len(s):\n",
      "  18          c = s[i]\n",
      "  19          if c == '+':\n",
      "  20              t += ' '\n",
      "  21          elif c == '%':\n",
      "# 22              digit_high, digit_low = s[i + 1], s[i + 2]\n",
      "# 23              i += 2\n",
      "# 24              if digit_high in hex_values and digit_low in hex_values:\n",
      "# 25                  v = hex_values[digit_high] * 16 + hex_values[digit_low]\n",
      "# 26                  t += chr(v)\n",
      "# 27              else:\n",
      "# 28                  raise ValueError(\"Invalid encoding\")\n",
      "# 29          else:\n",
      "  30              t += c\n",
      "  31          i += 1\n",
      "  32      return t\n",
      "\n"
     ]
    }
   ],
   "source": [
    "print(cov)"
   ]
  },
  {
   "cell_type": "markdown",
   "metadata": {
    "button": false,
    "new_sheet": false,
    "run_control": {
     "read_only": false
    },
    "slideshow": {
     "slide_type": "slide"
    }
   },
   "source": [
    "## Comparing Coverage\n",
    "\n",
    "Since we represent coverage as a set of executed lines, we can also apply _set operations_ on these.  For instance, we can find out which lines are covered by individual test cases, but not others:"
   ]
  },
  {
   "cell_type": "code",
   "execution_count": 28,
   "metadata": {
    "button": false,
    "execution": {
     "iopub.execute_input": "2025-10-26T13:23:35.458459Z",
     "iopub.status.busy": "2025-10-26T13:23:35.458362Z",
     "iopub.status.idle": "2025-10-26T13:23:35.461228Z",
     "shell.execute_reply": "2025-10-26T13:23:35.460909Z"
    },
    "new_sheet": false,
    "run_control": {
     "read_only": false
    },
    "slideshow": {
     "slide_type": "fragment"
    }
   },
   "outputs": [
    {
     "data": {
      "text/plain": [
       "{('cgi_decode', 20)}"
      ]
     },
     "execution_count": 28,
     "metadata": {},
     "output_type": "execute_result"
    }
   ],
   "source": [
    "with Coverage() as cov_plus:\n",
    "    cgi_decode(\"a+b\")\n",
    "with Coverage() as cov_standard:\n",
    "    cgi_decode(\"abc\")\n",
    "\n",
    "cov_plus.coverage() - cov_standard.coverage()"
   ]
  },
  {
   "cell_type": "markdown",
   "metadata": {
    "button": false,
    "new_sheet": false,
    "run_control": {
     "read_only": false
    },
    "slideshow": {
     "slide_type": "fragment"
    }
   },
   "source": [
    "This is the single line in the code that is executed only in the `'a+b'` input."
   ]
  },
  {
   "cell_type": "markdown",
   "metadata": {
    "button": false,
    "new_sheet": false,
    "run_control": {
     "read_only": false
    },
    "slideshow": {
     "slide_type": "subslide"
    }
   },
   "source": [
    "We can also compare sets to find out which lines still need to be covered.  Let us define `cov_max` as the maximum coverage we can achieve. (Here, we do this by executing the \"good\" test cases we already have.  In practice, one would statically analyze code structure, which we introduce in [the chapter on symbolic testing](SymbolicFuzzer.ipynb).)"
   ]
  },
  {
   "cell_type": "code",
   "execution_count": 29,
   "metadata": {
    "button": false,
    "execution": {
     "iopub.execute_input": "2025-10-26T13:23:35.462625Z",
     "iopub.status.busy": "2025-10-26T13:23:35.462522Z",
     "iopub.status.idle": "2025-10-26T13:23:35.464654Z",
     "shell.execute_reply": "2025-10-26T13:23:35.464367Z"
    },
    "new_sheet": false,
    "run_control": {
     "read_only": false
    },
    "slideshow": {
     "slide_type": "fragment"
    }
   },
   "outputs": [],
   "source": [
    "with Coverage() as cov_max:\n",
    "    cgi_decode('+')\n",
    "    cgi_decode('%20')\n",
    "    cgi_decode('abc')\n",
    "    try:\n",
    "        cgi_decode('%?a')\n",
    "    except Exception:\n",
    "        pass"
   ]
  },
  {
   "cell_type": "markdown",
   "metadata": {
    "button": false,
    "new_sheet": false,
    "run_control": {
     "read_only": false
    },
    "slideshow": {
     "slide_type": "fragment"
    }
   },
   "source": [
    "Then, we can easily see which lines are _not_ yet covered by a test case:"
   ]
  },
  {
   "cell_type": "code",
   "execution_count": 30,
   "metadata": {
    "button": false,
    "execution": {
     "iopub.execute_input": "2025-10-26T13:23:35.466100Z",
     "iopub.status.busy": "2025-10-26T13:23:35.465991Z",
     "iopub.status.idle": "2025-10-26T13:23:35.468430Z",
     "shell.execute_reply": "2025-10-26T13:23:35.468172Z"
    },
    "new_sheet": false,
    "run_control": {
     "read_only": false
    },
    "slideshow": {
     "slide_type": "fragment"
    }
   },
   "outputs": [
    {
     "data": {
      "text/plain": [
       "{('cgi_decode', 22),\n",
       " ('cgi_decode', 23),\n",
       " ('cgi_decode', 24),\n",
       " ('cgi_decode', 25),\n",
       " ('cgi_decode', 26),\n",
       " ('cgi_decode', 28)}"
      ]
     },
     "execution_count": 30,
     "metadata": {},
     "output_type": "execute_result"
    }
   ],
   "source": [
    "cov_max.coverage() - cov_plus.coverage()"
   ]
  },
  {
   "cell_type": "markdown",
   "metadata": {
    "button": false,
    "new_sheet": false,
    "run_control": {
     "read_only": false
    },
    "slideshow": {
     "slide_type": "fragment"
    }
   },
   "source": [
    "Again, these would be the lines handling `\"%xx\"`, which we have not yet had in the input."
   ]
  },
  {
   "cell_type": "markdown",
   "metadata": {
    "button": false,
    "new_sheet": false,
    "run_control": {
     "read_only": false
    },
    "slideshow": {
     "slide_type": "slide"
    }
   },
   "source": [
    "##  Coverage of Basic Fuzzing\n",
    "\n",
    "We can now use our coverage tracing to assess the _effectiveness_ of testing methods – in particular, of course, test _generation_ methods.  Our challenge is to achieve maximum coverage in `cgi_decode()` just with random inputs.  In principle, we should _eventually_ get there, as eventually, we will have produced every possible string in the universe – but exactly how long is this?  To this end, let us run just one fuzzing iteration on `cgi_decode()`:"
   ]
  },
  {
   "cell_type": "code",
   "execution_count": 31,
   "metadata": {
    "button": false,
    "execution": {
     "iopub.execute_input": "2025-10-26T13:23:35.469763Z",
     "iopub.status.busy": "2025-10-26T13:23:35.469664Z",
     "iopub.status.idle": "2025-10-26T13:23:35.527667Z",
     "shell.execute_reply": "2025-10-26T13:23:35.527179Z"
    },
    "new_sheet": false,
    "run_control": {
     "read_only": false
    },
    "slideshow": {
     "slide_type": "skip"
    }
   },
   "outputs": [],
   "source": [
    "from Fuzzer import fuzzer"
   ]
  },
  {
   "cell_type": "code",
   "execution_count": 32,
   "metadata": {
    "button": false,
    "execution": {
     "iopub.execute_input": "2025-10-26T13:23:35.529322Z",
     "iopub.status.busy": "2025-10-26T13:23:35.529220Z",
     "iopub.status.idle": "2025-10-26T13:23:35.531652Z",
     "shell.execute_reply": "2025-10-26T13:23:35.531324Z"
    },
    "new_sheet": false,
    "run_control": {
     "read_only": false
    },
    "slideshow": {
     "slide_type": "fragment"
    }
   },
   "outputs": [
    {
     "data": {
      "text/plain": [
       "'!7#%\"*#0=)$;%6*;>638:*>80\"=</>(/*:-(2<4 !:5*6856&?\"\"11<7+%<%7,4.8,*+&,,$,.\"'"
      ]
     },
     "execution_count": 32,
     "metadata": {},
     "output_type": "execute_result"
    }
   ],
   "source": [
    "sample = fuzzer()\n",
    "sample"
   ]
  },
  {
   "cell_type": "markdown",
   "metadata": {
    "button": false,
    "new_sheet": false,
    "run_control": {
     "read_only": false
    },
    "slideshow": {
     "slide_type": "subslide"
    }
   },
   "source": [
    "Here's the invocation and the coverage we achieve.  We wrap `cgi_decode()` in a `try...except` block such that we can ignore `ValueError` exceptions raised by illegal `%xx` formats."
   ]
  },
  {
   "cell_type": "code",
   "execution_count": 33,
   "metadata": {
    "button": false,
    "execution": {
     "iopub.execute_input": "2025-10-26T13:23:35.533748Z",
     "iopub.status.busy": "2025-10-26T13:23:35.533614Z",
     "iopub.status.idle": "2025-10-26T13:23:35.536416Z",
     "shell.execute_reply": "2025-10-26T13:23:35.536149Z"
    },
    "new_sheet": false,
    "run_control": {
     "read_only": false
    },
    "slideshow": {
     "slide_type": "fragment"
    }
   },
   "outputs": [
    {
     "data": {
      "text/plain": [
       "{('cgi_decode', 8),\n",
       " ('cgi_decode', 9),\n",
       " ('cgi_decode', 10),\n",
       " ('cgi_decode', 11),\n",
       " ('cgi_decode', 12),\n",
       " ('cgi_decode', 15),\n",
       " ('cgi_decode', 16),\n",
       " ('cgi_decode', 17),\n",
       " ('cgi_decode', 18),\n",
       " ('cgi_decode', 19),\n",
       " ('cgi_decode', 21),\n",
       " ('cgi_decode', 22),\n",
       " ('cgi_decode', 23),\n",
       " ('cgi_decode', 24),\n",
       " ('cgi_decode', 28),\n",
       " ('cgi_decode', 30),\n",
       " ('cgi_decode', 31)}"
      ]
     },
     "execution_count": 33,
     "metadata": {},
     "output_type": "execute_result"
    }
   ],
   "source": [
    "with Coverage() as cov_fuzz:\n",
    "    try:\n",
    "        cgi_decode(sample)\n",
    "    except:\n",
    "        pass\n",
    "cov_fuzz.coverage()"
   ]
  },
  {
   "cell_type": "markdown",
   "metadata": {
    "button": false,
    "new_sheet": false,
    "run_control": {
     "read_only": false
    },
    "slideshow": {
     "slide_type": "subslide"
    }
   },
   "source": [
    "Is this already the maximum coverage?  Apparently, there are still lines missing:"
   ]
  },
  {
   "cell_type": "code",
   "execution_count": 34,
   "metadata": {
    "button": false,
    "execution": {
     "iopub.execute_input": "2025-10-26T13:23:35.538278Z",
     "iopub.status.busy": "2025-10-26T13:23:35.538111Z",
     "iopub.status.idle": "2025-10-26T13:23:35.540656Z",
     "shell.execute_reply": "2025-10-26T13:23:35.540329Z"
    },
    "new_sheet": false,
    "run_control": {
     "read_only": false
    },
    "slideshow": {
     "slide_type": "fragment"
    }
   },
   "outputs": [
    {
     "data": {
      "text/plain": [
       "{('cgi_decode', 20),\n",
       " ('cgi_decode', 25),\n",
       " ('cgi_decode', 26),\n",
       " ('cgi_decode', 32)}"
      ]
     },
     "execution_count": 34,
     "metadata": {},
     "output_type": "execute_result"
    }
   ],
   "source": [
    "cov_max.coverage() - cov_fuzz.coverage()"
   ]
  },
  {
   "cell_type": "markdown",
   "metadata": {
    "button": false,
    "new_sheet": false,
    "run_control": {
     "read_only": false
    },
    "slideshow": {
     "slide_type": "subslide"
    }
   },
   "source": [
    "Let us try again, increasing coverage over 100 random inputs.  We use an array `cumulative_coverage` to store the coverage achieved over time; `cumulative_coverage[0]` is the total number of lines covered after input 1, \n",
    "`cumulative_coverage[1]` is the number of lines covered after inputs 1–2, and so on."
   ]
  },
  {
   "cell_type": "code",
   "execution_count": 35,
   "metadata": {
    "button": false,
    "execution": {
     "iopub.execute_input": "2025-10-26T13:23:35.542103Z",
     "iopub.status.busy": "2025-10-26T13:23:35.541988Z",
     "iopub.status.idle": "2025-10-26T13:23:35.543544Z",
     "shell.execute_reply": "2025-10-26T13:23:35.543313Z"
    },
    "new_sheet": false,
    "run_control": {
     "read_only": false
    },
    "slideshow": {
     "slide_type": "fragment"
    }
   },
   "outputs": [],
   "source": [
    "trials = 100"
   ]
  },
  {
   "cell_type": "code",
   "execution_count": 36,
   "metadata": {
    "button": false,
    "execution": {
     "iopub.execute_input": "2025-10-26T13:23:35.544905Z",
     "iopub.status.busy": "2025-10-26T13:23:35.544816Z",
     "iopub.status.idle": "2025-10-26T13:23:35.547097Z",
     "shell.execute_reply": "2025-10-26T13:23:35.546794Z"
    },
    "new_sheet": false,
    "run_control": {
     "read_only": false
    },
    "slideshow": {
     "slide_type": "fragment"
    }
   },
   "outputs": [],
   "source": [
    "def population_coverage(population: List[str], function: Callable) \\\n",
    "        -> Tuple[Set[Location], List[int]]:\n",
    "    cumulative_coverage: List[int] = []\n",
    "    all_coverage: Set[Location] = set()\n",
    "\n",
    "    for s in population:\n",
    "        with Coverage() as cov:\n",
    "            try:\n",
    "                function(s)\n",
    "            except:\n",
    "                pass\n",
    "        all_coverage |= cov.coverage()\n",
    "        cumulative_coverage.append(len(all_coverage))\n",
    "\n",
    "    return all_coverage, cumulative_coverage"
   ]
  },
  {
   "cell_type": "markdown",
   "metadata": {
    "button": false,
    "new_sheet": false,
    "run_control": {
     "read_only": false
    },
    "slideshow": {
     "slide_type": "subslide"
    }
   },
   "source": [
    "Let us create a hundred inputs to determine how coverage increases:"
   ]
  },
  {
   "cell_type": "code",
   "execution_count": 37,
   "metadata": {
    "button": false,
    "execution": {
     "iopub.execute_input": "2025-10-26T13:23:35.548621Z",
     "iopub.status.busy": "2025-10-26T13:23:35.548531Z",
     "iopub.status.idle": "2025-10-26T13:23:35.550358Z",
     "shell.execute_reply": "2025-10-26T13:23:35.550089Z"
    },
    "new_sheet": false,
    "run_control": {
     "read_only": false
    },
    "slideshow": {
     "slide_type": "fragment"
    }
   },
   "outputs": [],
   "source": [
    "def hundred_inputs() -> List[str]:\n",
    "    population = []\n",
    "    for i in range(trials):\n",
    "        population.append(fuzzer())\n",
    "    return population"
   ]
  },
  {
   "cell_type": "markdown",
   "metadata": {
    "button": false,
    "new_sheet": false,
    "run_control": {
     "read_only": false
    },
    "slideshow": {
     "slide_type": "subslide"
    }
   },
   "source": [
    "Here's how the coverage increases with each input:"
   ]
  },
  {
   "cell_type": "code",
   "execution_count": 38,
   "metadata": {
    "button": false,
    "execution": {
     "iopub.execute_input": "2025-10-26T13:23:35.551866Z",
     "iopub.status.busy": "2025-10-26T13:23:35.551774Z",
     "iopub.status.idle": "2025-10-26T13:23:35.574177Z",
     "shell.execute_reply": "2025-10-26T13:23:35.573889Z"
    },
    "new_sheet": false,
    "run_control": {
     "read_only": false
    },
    "slideshow": {
     "slide_type": "fragment"
    }
   },
   "outputs": [],
   "source": [
    "all_coverage, cumulative_coverage = \\\n",
    "    population_coverage(hundred_inputs(), cgi_decode)"
   ]
  },
  {
   "cell_type": "code",
   "execution_count": 39,
   "metadata": {
    "button": false,
    "execution": {
     "iopub.execute_input": "2025-10-26T13:23:35.575858Z",
     "iopub.status.busy": "2025-10-26T13:23:35.575760Z",
     "iopub.status.idle": "2025-10-26T13:23:35.836888Z",
     "shell.execute_reply": "2025-10-26T13:23:35.836557Z"
    },
    "new_sheet": false,
    "run_control": {
     "read_only": false
    },
    "slideshow": {
     "slide_type": "skip"
    }
   },
   "outputs": [],
   "source": [
    "%matplotlib inline"
   ]
  },
  {
   "cell_type": "code",
   "execution_count": 40,
   "metadata": {
    "button": false,
    "execution": {
     "iopub.execute_input": "2025-10-26T13:23:35.838610Z",
     "iopub.status.busy": "2025-10-26T13:23:35.838438Z",
     "iopub.status.idle": "2025-10-26T13:23:35.840210Z",
     "shell.execute_reply": "2025-10-26T13:23:35.839988Z"
    },
    "new_sheet": false,
    "run_control": {
     "read_only": false
    },
    "slideshow": {
     "slide_type": "skip"
    }
   },
   "outputs": [],
   "source": [
    "import matplotlib.pyplot as plt  # type: ignore"
   ]
  },
  {
   "cell_type": "code",
   "execution_count": 41,
   "metadata": {
    "button": false,
    "execution": {
     "iopub.execute_input": "2025-10-26T13:23:35.841386Z",
     "iopub.status.busy": "2025-10-26T13:23:35.841298Z",
     "iopub.status.idle": "2025-10-26T13:23:35.914948Z",
     "shell.execute_reply": "2025-10-26T13:23:35.914666Z"
    },
    "new_sheet": false,
    "run_control": {
     "read_only": false
    },
    "slideshow": {
     "slide_type": "fragment"
    }
   },
   "outputs": [
    {
     "data": {
      "text/plain": [
       "Text(0, 0.5, 'lines covered')"
      ]
     },
     "execution_count": 41,
     "metadata": {},
     "output_type": "execute_result"
    },
    {
     "data": {
      "image/png": "[encoded data removed]",
      "text/plain": [
       "<Figure size 640x480 with 1 Axes>"
      ]
     },
     "metadata": {},
     "output_type": "display_data"
    }
   ],
   "source": [
    "plt.plot(cumulative_coverage)\n",
    "plt.title('Coverage of cgi_decode() with random inputs')\n",
    "plt.xlabel('# of inputs')\n",
    "plt.ylabel('lines covered')"
   ]
  },
  {
   "cell_type": "markdown",
   "metadata": {
    "button": false,
    "new_sheet": false,
    "run_control": {
     "read_only": false
    },
    "slideshow": {
     "slide_type": "subslide"
    }
   },
   "source": [
    "This is just _one_ run, of course; so let's repeat this a number of times and plot the averages."
   ]
  },
  {
   "cell_type": "code",
   "execution_count": 42,
   "metadata": {
    "button": false,
    "execution": {
     "iopub.execute_input": "2025-10-26T13:23:35.916429Z",
     "iopub.status.busy": "2025-10-26T13:23:35.916311Z",
     "iopub.status.idle": "2025-10-26T13:23:37.741916Z",
     "shell.execute_reply": "2025-10-26T13:23:37.741507Z"
    },
    "new_sheet": false,
    "run_control": {
     "read_only": false
    },
    "slideshow": {
     "slide_type": "fragment"
    }
   },
   "outputs": [],
   "source": [
    "runs = 100\n",
    "\n",
    "# Create an array with TRIALS elements, all zero\n",
    "sum_coverage = [0] * trials\n",
    "\n",
    "for run in range(runs):\n",
    "    all_coverage, coverage = population_coverage(hundred_inputs(), cgi_decode)\n",
    "    assert len(coverage) == trials\n",
    "    for i in range(trials):\n",
    "        sum_coverage[i] += coverage[i]\n",
    "\n",
    "average_coverage = []\n",
    "for i in range(trials):\n",
    "    average_coverage.append(sum_coverage[i] / runs)"
   ]
  },
  {
   "cell_type": "code",
   "execution_count": 43,
   "metadata": {
    "button": false,
    "execution": {
     "iopub.execute_input": "2025-10-26T13:23:37.743722Z",
     "iopub.status.busy": "2025-10-26T13:23:37.743606Z",
     "iopub.status.idle": "2025-10-26T13:23:37.795251Z",
     "shell.execute_reply": "2025-10-26T13:23:37.794980Z"
    },
    "new_sheet": false,
    "run_control": {
     "read_only": false
    },
    "slideshow": {
     "slide_type": "subslide"
    }
   },
   "outputs": [
    {
     "data": {
      "text/plain": [
       "Text(0, 0.5, 'lines covered')"
      ]
     },
     "execution_count": 43,
     "metadata": {},
     "output_type": "execute_result"
    },
    {
     "data": {
      "image/png": "[encoded data removed]",
      "text/plain": [
       "<Figure size 640x480 with 1 Axes>"
      ]
     },
     "metadata": {},
     "output_type": "display_data"
    }
   ],
   "source": [
    "plt.plot(average_coverage)\n",
    "plt.title('Average coverage of cgi_decode() with random inputs')\n",
    "plt.xlabel('# of inputs')\n",
    "plt.ylabel('lines covered')"
   ]
  },
  {
   "cell_type": "markdown",
   "metadata": {
    "button": false,
    "new_sheet": false,
    "run_control": {
     "read_only": false
    },
    "slideshow": {
     "slide_type": "fragment"
    }
   },
   "source": [
    "We see that on average, we get full coverage after 40–60 fuzzing inputs."
   ]
  },
  {
   "cell_type": "markdown",
   "metadata": {
    "slideshow": {
     "slide_type": "slide"
    }
   },
   "source": [
    "## Getting Coverage from External Programs\n",
    "\n",
    "Of course, not all the world is programming in Python.  The good news is that the problem of obtaining coverage is ubiquitous, and almost every programming language has some facility to measure coverage.  Just as an example, let us therefore demonstrate how to obtain coverage for a C program."
   ]
  },
  {
   "cell_type": "markdown",
   "metadata": {
    "slideshow": {
     "slide_type": "fragment"
    }
   },
   "source": [
    "Our C program (again) implements `cgi_decode`; this time as a program to be executed from the command line:\n",
    "\n",
    "```shell\n",
    "$ ./cgi_decode 'Hello+World'\n",
    "Hello World\n",
    "```"
   ]
  },
  {
   "cell_type": "markdown",
   "metadata": {
    "slideshow": {
     "slide_type": "subslide"
    }
   },
   "source": [
    "Here comes the C code, first as a Python string.  We start with the usual C includes:"
   ]
  },
  {
   "cell_type": "code",
   "execution_count": 44,
   "metadata": {
    "execution": {
     "iopub.execute_input": "2025-10-26T13:23:37.796943Z",
     "iopub.status.busy": "2025-10-26T13:23:37.796821Z",
     "iopub.status.idle": "2025-10-26T13:23:37.798687Z",
     "shell.execute_reply": "2025-10-26T13:23:37.798287Z"
    },
    "slideshow": {
     "slide_type": "fragment"
    }
   },
   "outputs": [],
   "source": [
    "cgi_c_code = \"\"\"\n",
    "/* CGI decoding as C program */\n",
    "\n",
    "#include <stdlib.h>\n",
    "#include <string.h>\n",
    "#include <stdio.h>\n",
    "\n",
    "\"\"\""
   ]
  },
  {
   "cell_type": "markdown",
   "metadata": {
    "slideshow": {
     "slide_type": "subslide"
    }
   },
   "source": [
    "Here comes the initialization of `hex_values`:"
   ]
  },
  {
   "cell_type": "code",
   "execution_count": 45,
   "metadata": {
    "execution": {
     "iopub.execute_input": "2025-10-26T13:23:37.799994Z",
     "iopub.status.busy": "2025-10-26T13:23:37.799880Z",
     "iopub.status.idle": "2025-10-26T13:23:37.801554Z",
     "shell.execute_reply": "2025-10-26T13:23:37.801346Z"
    },
    "slideshow": {
     "slide_type": "fragment"
    }
   },
   "outputs": [],
   "source": [
    "cgi_c_code += r\"\"\"\n",
    "int hex_values[256];\n",
    "\n",
    "void init_hex_values() {\n",
    "    for (int i = 0; i < sizeof(hex_values) / sizeof(int); i++) {\n",
    "        hex_values[i] = -1;\n",
    "    }\n",
    "    hex_values['0'] = 0; hex_values['1'] = 1; hex_values['2'] = 2; hex_values['3'] = 3;\n",
    "    hex_values['4'] = 4; hex_values['5'] = 5; hex_values['6'] = 6; hex_values['7'] = 7;\n",
    "    hex_values['8'] = 8; hex_values['9'] = 9;\n",
    "\n",
    "    hex_values['a'] = 10; hex_values['b'] = 11; hex_values['c'] = 12; hex_values['d'] = 13;\n",
    "    hex_values['e'] = 14; hex_values['f'] = 15;\n",
    "\n",
    "    hex_values['A'] = 10; hex_values['B'] = 11; hex_values['C'] = 12; hex_values['D'] = 13;\n",
    "    hex_values['E'] = 14; hex_values['F'] = 15;\n",
    "}\n",
    "\"\"\""
   ]
  },
  {
   "cell_type": "markdown",
   "metadata": {
    "slideshow": {
     "slide_type": "subslide"
    }
   },
   "source": [
    "Here's the actual implementation of `cgi_decode()`, using pointers for input source (`s`) and output target (`t`):"
   ]
  },
  {
   "cell_type": "code",
   "execution_count": 46,
   "metadata": {
    "execution": {
     "iopub.execute_input": "2025-10-26T13:23:37.802739Z",
     "iopub.status.busy": "2025-10-26T13:23:37.802660Z",
     "iopub.status.idle": "2025-10-26T13:23:37.804311Z",
     "shell.execute_reply": "2025-10-26T13:23:37.804060Z"
    },
    "slideshow": {
     "slide_type": "fragment"
    }
   },
   "outputs": [],
   "source": [
    "cgi_c_code += r\"\"\"\n",
    "int cgi_decode(char *s, char *t) {\n",
    "    while (*s != '\\0') {\n",
    "        if (*s == '+')\n",
    "            *t++ = ' ';\n",
    "        else if (*s == '%') {\n",
    "            int digit_high = *++s;\n",
    "            int digit_low = *++s;\n",
    "            if (hex_values[digit_high] >= 0 && hex_values[digit_low] >= 0) {\n",
    "                *t++ = hex_values[digit_high] * 16 + hex_values[digit_low];\n",
    "            }\n",
    "            else\n",
    "                return -1;\n",
    "        }\n",
    "        else\n",
    "            *t++ = *s;\n",
    "        s++;\n",
    "    }\n",
    "    *t = '\\0';\n",
    "    return 0;\n",
    "}\n",
    "\"\"\""
   ]
  },
  {
   "cell_type": "markdown",
   "metadata": {
    "slideshow": {
     "slide_type": "subslide"
    }
   },
   "source": [
    "Finally, here's a driver which takes the first argument and invokes `cgi_decode` with it:"
   ]
  },
  {
   "cell_type": "code",
   "execution_count": 47,
   "metadata": {
    "execution": {
     "iopub.execute_input": "2025-10-26T13:23:37.805718Z",
     "iopub.status.busy": "2025-10-26T13:23:37.805620Z",
     "iopub.status.idle": "2025-10-26T13:23:37.807702Z",
     "shell.execute_reply": "2025-10-26T13:23:37.807425Z"
    },
    "slideshow": {
     "slide_type": "fragment"
    }
   },
   "outputs": [],
   "source": [
    "cgi_c_code += r\"\"\"\n",
    "int main(int argc, char *argv[]) {\n",
    "    init_hex_values();\n",
    "\n",
    "    if (argc >= 2) {\n",
    "        char *s = argv[1];\n",
    "        char *t = malloc(strlen(s) + 1); /* output is at most as long as input */\n",
    "        int ret = cgi_decode(s, t);\n",
    "        printf(\"%s\\n\", t);\n",
    "        return ret;\n",
    "    }\n",
    "    else\n",
    "    {\n",
    "        printf(\"cgi_decode: usage: cgi_decode STRING\\n\");\n",
    "        return 1;\n",
    "    }\n",
    "}\n",
    "\"\"\""
   ]
  },
  {
   "cell_type": "markdown",
   "metadata": {
    "slideshow": {
     "slide_type": "subslide"
    }
   },
   "source": [
    "Let us create the C source code: (Note that the following commands will overwrite the file `cgi_decode.c`, if it already exists in the current working directory. Be aware of this, if you downloaded the notebooks and are working locally.)"
   ]
  },
  {
   "cell_type": "code",
   "execution_count": 48,
   "metadata": {
    "execution": {
     "iopub.execute_input": "2025-10-26T13:23:37.809123Z",
     "iopub.status.busy": "2025-10-26T13:23:37.809036Z",
     "iopub.status.idle": "2025-10-26T13:23:37.810871Z",
     "shell.execute_reply": "2025-10-26T13:23:37.810629Z"
    },
    "slideshow": {
     "slide_type": "fragment"
    }
   },
   "outputs": [],
   "source": [
    "with open(\"cgi_decode.c\", \"w\") as f:\n",
    "    f.write(cgi_c_code)"
   ]
  },
  {
   "cell_type": "markdown",
   "metadata": {
    "slideshow": {
     "slide_type": "fragment"
    }
   },
   "source": [
    "And here we have the C code with its syntax highlighted:"
   ]
  },
  {
   "cell_type": "code",
   "execution_count": 49,
   "metadata": {
    "execution": {
     "iopub.execute_input": "2025-10-26T13:23:37.812539Z",
     "iopub.status.busy": "2025-10-26T13:23:37.812448Z",
     "iopub.status.idle": "2025-10-26T13:23:37.814268Z",
     "shell.execute_reply": "2025-10-26T13:23:37.813929Z"
    },
    "slideshow": {
     "slide_type": "skip"
    }
   },
   "outputs": [],
   "source": [
    "from bookutils import print_file"
   ]
  },
  {
   "cell_type": "code",
   "execution_count": 50,
   "metadata": {
    "execution": {
     "iopub.execute_input": "2025-10-26T13:23:37.816587Z",
     "iopub.status.busy": "2025-10-26T13:23:37.816479Z",
     "iopub.status.idle": "2025-10-26T13:23:37.837509Z",
     "shell.execute_reply": "2025-10-26T13:23:37.837218Z"
    },
    "slideshow": {
     "slide_type": "subslide"
    }
   },
   "outputs": [
    {
     "name": "stdout",
     "output_type": "stream",
     "text": [
      "\u001b[37m/* CGI decoding as C program */\u001b[39;49;00m\u001b[37m\u001b[39;49;00m\n",
      "\u001b[37m\u001b[39;49;00m\n",
      "\u001b[36m#\u001b[39;49;00m\u001b[36minclude\u001b[39;49;00m\u001b[37m \u001b[39;49;00m\u001b[37m<stdlib.h>\u001b[39;49;00m\u001b[36m\u001b[39;49;00m\n",
      "\u001b[36m#\u001b[39;49;00m\u001b[36minclude\u001b[39;49;00m\u001b[37m \u001b[39;49;00m\u001b[37m<string.h>\u001b[39;49;00m\u001b[36m\u001b[39;49;00m\n",
      "\u001b[36m#\u001b[39;49;00m\u001b[36minclude\u001b[39;49;00m\u001b[37m \u001b[39;49;00m\u001b[37m<stdio.h>\u001b[39;49;00m\u001b[36m\u001b[39;49;00m\n",
      "\u001b[37m\u001b[39;49;00m\n",
      "\u001b[37m\u001b[39;49;00m\n",
      "\u001b[36mint\u001b[39;49;00m\u001b[37m \u001b[39;49;00mhex_values[\u001b[34m256\u001b[39;49;00m];\u001b[37m\u001b[39;49;00m\n",
      "\u001b[37m\u001b[39;49;00m\n",
      "\u001b[36mvoid\u001b[39;49;00m\u001b[37m \u001b[39;49;00m\u001b[32minit_hex_values\u001b[39;49;00m()\u001b[37m \u001b[39;49;00m{\u001b[37m\u001b[39;49;00m\n",
      "\u001b[37m    \u001b[39;49;00m\u001b[34mfor\u001b[39;49;00m\u001b[37m \u001b[39;49;00m(\u001b[36mint\u001b[39;49;00m\u001b[37m \u001b[39;49;00mi\u001b[37m \u001b[39;49;00m=\u001b[37m \u001b[39;49;00m\u001b[34m0\u001b[39;49;00m;\u001b[37m \u001b[39;49;00mi\u001b[37m \u001b[39;49;00m<\u001b[37m \u001b[39;49;00m\u001b[34msizeof\u001b[39;49;00m(hex_values)\u001b[37m \u001b[39;49;00m/\u001b[37m \u001b[39;49;00m\u001b[34msizeof\u001b[39;49;00m(\u001b[36mint\u001b[39;49;00m);\u001b[37m \u001b[39;49;00mi++)\u001b[37m \u001b[39;49;00m{\u001b[37m\u001b[39;49;00m\n",
      "\u001b[37m        \u001b[39;49;00mhex_values[i]\u001b[37m \u001b[39;49;00m=\u001b[37m \u001b[39;49;00m\u001b[34m-1\u001b[39;49;00m;\u001b[37m\u001b[39;49;00m\n",
      "\u001b[37m    \u001b[39;49;00m}\u001b[37m\u001b[39;49;00m\n",
      "\u001b[37m    \u001b[39;49;00mhex_values[\u001b[33m'\u001b[39;49;00m\u001b[33m0\u001b[39;49;00m\u001b[33m'\u001b[39;49;00m]\u001b[37m \u001b[39;49;00m=\u001b[37m \u001b[39;49;00m\u001b[34m0\u001b[39;49;00m;\u001b[37m \u001b[39;49;00mhex_values[\u001b[33m'\u001b[39;49;00m\u001b[33m1\u001b[39;49;00m\u001b[33m'\u001b[39;49;00m]\u001b[37m \u001b[39;49;00m=\u001b[37m \u001b[39;49;00m\u001b[34m1\u001b[39;49;00m;\u001b[37m \u001b[39;49;00mhex_values[\u001b[33m'\u001b[39;49;00m\u001b[33m2\u001b[39;49;00m\u001b[33m'\u001b[39;49;00m]\u001b[37m \u001b[39;49;00m=\u001b[37m \u001b[39;49;00m\u001b[34m2\u001b[39;49;00m;\u001b[37m \u001b[39;49;00mhex_values[\u001b[33m'\u001b[39;49;00m\u001b[33m3\u001b[39;49;00m\u001b[33m'\u001b[39;49;00m]\u001b[37m \u001b[39;49;00m=\u001b[37m \u001b[39;49;00m\u001b[34m3\u001b[39;49;00m;\u001b[37m\u001b[39;49;00m\n",
      "\u001b[37m    \u001b[39;49;00mhex_values[\u001b[33m'\u001b[39;49;00m\u001b[33m4\u001b[39;49;00m\u001b[33m'\u001b[39;49;00m]\u001b[37m \u001b[39;49;00m=\u001b[37m \u001b[39;49;00m\u001b[34m4\u001b[39;49;00m;\u001b[37m \u001b[39;49;00mhex_values[\u001b[33m'\u001b[39;49;00m\u001b[33m5\u001b[39;49;00m\u001b[33m'\u001b[39;49;00m]\u001b[37m \u001b[39;49;00m=\u001b[37m \u001b[39;49;00m\u001b[34m5\u001b[39;49;00m;\u001b[37m \u001b[39;49;00mhex_values[\u001b[33m'\u001b[39;49;00m\u001b[33m6\u001b[39;49;00m\u001b[33m'\u001b[39;49;00m]\u001b[37m \u001b[39;49;00m=\u001b[37m \u001b[39;49;00m\u001b[34m6\u001b[39;49;00m;\u001b[37m \u001b[39;49;00mhex_values[\u001b[33m'\u001b[39;49;00m\u001b[33m7\u001b[39;49;00m\u001b[33m'\u001b[39;49;00m]\u001b[37m \u001b[39;49;00m=\u001b[37m \u001b[39;49;00m\u001b[34m7\u001b[39;49;00m;\u001b[37m\u001b[39;49;00m\n",
      "\u001b[37m    \u001b[39;49;00mhex_values[\u001b[33m'\u001b[39;49;00m\u001b[33m8\u001b[39;49;00m\u001b[33m'\u001b[39;49;00m]\u001b[37m \u001b[39;49;00m=\u001b[37m \u001b[39;49;00m\u001b[34m8\u001b[39;49;00m;\u001b[37m \u001b[39;49;00mhex_values[\u001b[33m'\u001b[39;49;00m\u001b[33m9\u001b[39;49;00m\u001b[33m'\u001b[39;49;00m]\u001b[37m \u001b[39;49;00m=\u001b[37m \u001b[39;49;00m\u001b[34m9\u001b[39;49;00m;\u001b[37m\u001b[39;49;00m\n",
      "\u001b[37m\u001b[39;49;00m\n",
      "\u001b[37m    \u001b[39;49;00mhex_values[\u001b[33m'\u001b[39;49;00m\u001b[33ma\u001b[39;49;00m\u001b[33m'\u001b[39;49;00m]\u001b[37m \u001b[39;49;00m=\u001b[37m \u001b[39;49;00m\u001b[34m10\u001b[39;49;00m;\u001b[37m \u001b[39;49;00mhex_values[\u001b[33m'\u001b[39;49;00m\u001b[33mb\u001b[39;49;00m\u001b[33m'\u001b[39;49;00m]\u001b[37m \u001b[39;49;00m=\u001b[37m \u001b[39;49;00m\u001b[34m11\u001b[39;49;00m;\u001b[37m \u001b[39;49;00mhex_values[\u001b[33m'\u001b[39;49;00m\u001b[33mc\u001b[39;49;00m\u001b[33m'\u001b[39;49;00m]\u001b[37m \u001b[39;49;00m=\u001b[37m \u001b[39;49;00m\u001b[34m12\u001b[39;49;00m;\u001b[37m \u001b[39;49;00mhex_values[\u001b[33m'\u001b[39;49;00m\u001b[33md\u001b[39;49;00m\u001b[33m'\u001b[39;49;00m]\u001b[37m \u001b[39;49;00m=\u001b[37m \u001b[39;49;00m\u001b[34m13\u001b[39;49;00m;\u001b[37m\u001b[39;49;00m\n",
      "\u001b[37m    \u001b[39;49;00mhex_values[\u001b[33m'\u001b[39;49;00m\u001b[33me\u001b[39;49;00m\u001b[33m'\u001b[39;49;00m]\u001b[37m \u001b[39;49;00m=\u001b[37m \u001b[39;49;00m\u001b[34m14\u001b[39;49;00m;\u001b[37m \u001b[39;49;00mhex_values[\u001b[33m'\u001b[39;49;00m\u001b[33mf\u001b[39;49;00m\u001b[33m'\u001b[39;49;00m]\u001b[37m \u001b[39;49;00m=\u001b[37m \u001b[39;49;00m\u001b[34m15\u001b[39;49;00m;\u001b[37m\u001b[39;49;00m\n",
      "\u001b[37m\u001b[39;49;00m\n",
      "\u001b[37m    \u001b[39;49;00mhex_values[\u001b[33m'\u001b[39;49;00m\u001b[33mA\u001b[39;49;00m\u001b[33m'\u001b[39;49;00m]\u001b[37m \u001b[39;49;00m=\u001b[37m \u001b[39;49;00m\u001b[34m10\u001b[39;49;00m;\u001b[37m \u001b[39;49;00mhex_values[\u001b[33m'\u001b[39;49;00m\u001b[33mB\u001b[39;49;00m\u001b[33m'\u001b[39;49;00m]\u001b[37m \u001b[39;49;00m=\u001b[37m \u001b[39;49;00m\u001b[34m11\u001b[39;49;00m;\u001b[37m \u001b[39;49;00mhex_values[\u001b[33m'\u001b[39;49;00m\u001b[33mC\u001b[39;49;00m\u001b[33m'\u001b[39;49;00m]\u001b[37m \u001b[39;49;00m=\u001b[37m \u001b[39;49;00m\u001b[34m12\u001b[39;49;00m;\u001b[37m \u001b[39;49;00mhex_values[\u001b[33m'\u001b[39;49;00m\u001b[33mD\u001b[39;49;00m\u001b[33m'\u001b[39;49;00m]\u001b[37m \u001b[39;49;00m=\u001b[37m \u001b[39;49;00m\u001b[34m13\u001b[39;49;00m;\u001b[37m\u001b[39;49;00m\n",
      "\u001b[37m    \u001b[39;49;00mhex_values[\u001b[33m'\u001b[39;49;00m\u001b[33mE\u001b[39;49;00m\u001b[33m'\u001b[39;49;00m]\u001b[37m \u001b[39;49;00m=\u001b[37m \u001b[39;49;00m\u001b[34m14\u001b[39;49;00m;\u001b[37m \u001b[39;49;00mhex_values[\u001b[33m'\u001b[39;49;00m\u001b[33mF\u001b[39;49;00m\u001b[33m'\u001b[39;49;00m]\u001b[37m \u001b[39;49;00m=\u001b[37m \u001b[39;49;00m\u001b[34m15\u001b[39;49;00m;\u001b[37m\u001b[39;49;00m\n",
      "}\u001b[37m\u001b[39;49;00m\n",
      "\u001b[37m\u001b[39;49;00m\n",
      "\u001b[36mint\u001b[39;49;00m\u001b[37m \u001b[39;49;00m\u001b[32mcgi_decode\u001b[39;49;00m(\u001b[36mchar\u001b[39;49;00m\u001b[37m \u001b[39;49;00m*s,\u001b[37m \u001b[39;49;00m\u001b[36mchar\u001b[39;49;00m\u001b[37m \u001b[39;49;00m*t)\u001b[37m \u001b[39;49;00m{\u001b[37m\u001b[39;49;00m\n",
      "\u001b[37m    \u001b[39;49;00m\u001b[34mwhile\u001b[39;49;00m\u001b[37m \u001b[39;49;00m(*s\u001b[37m \u001b[39;49;00m!=\u001b[37m \u001b[39;49;00m\u001b[33m'\u001b[39;49;00m\u001b[33m\\0\u001b[39;49;00m\u001b[33m'\u001b[39;49;00m)\u001b[37m \u001b[39;49;00m{\u001b[37m\u001b[39;49;00m\n",
      "\u001b[37m        \u001b[39;49;00m\u001b[34mif\u001b[39;49;00m\u001b[37m \u001b[39;49;00m(*s\u001b[37m \u001b[39;49;00m==\u001b[37m \u001b[39;49;00m\u001b[33m'\u001b[39;49;00m\u001b[33m+\u001b[39;49;00m\u001b[33m'\u001b[39;49;00m)\u001b[37m\u001b[39;49;00m\n",
      "\u001b[37m            \u001b[39;49;00m*t++\u001b[37m \u001b[39;49;00m=\u001b[37m \u001b[39;49;00m\u001b[33m'\u001b[39;49;00m\u001b[33m \u001b[39;49;00m\u001b[33m'\u001b[39;49;00m;\u001b[37m\u001b[39;49;00m\n",
      "\u001b[37m        \u001b[39;49;00m\u001b[34melse\u001b[39;49;00m\u001b[37m \u001b[39;49;00m\u001b[34mif\u001b[39;49;00m\u001b[37m \u001b[39;49;00m(*s\u001b[37m \u001b[39;49;00m==\u001b[37m \u001b[39;49;00m\u001b[33m'\u001b[39;49;00m\u001b[33m%\u001b[39;49;00m\u001b[33m'\u001b[39;49;00m)\u001b[37m \u001b[39;49;00m{\u001b[37m\u001b[39;49;00m\n",
      "\u001b[37m            \u001b[39;49;00m\u001b[36mint\u001b[39;49;00m\u001b[37m \u001b[39;49;00mdigit_high\u001b[37m \u001b[39;49;00m=\u001b[37m \u001b[39;49;00m*++s;\u001b[37m\u001b[39;49;00m\n",
      "\u001b[37m            \u001b[39;49;00m\u001b[36mint\u001b[39;49;00m\u001b[37m \u001b[39;49;00mdigit_low\u001b[37m \u001b[39;49;00m=\u001b[37m \u001b[39;49;00m*++s;\u001b[37m\u001b[39;49;00m\n",
      "\u001b[37m            \u001b[39;49;00m\u001b[34mif\u001b[39;49;00m\u001b[37m \u001b[39;49;00m(hex_values[digit_high]\u001b[37m \u001b[39;49;00m>=\u001b[37m \u001b[39;49;00m\u001b[34m0\u001b[39;49;00m\u001b[37m \u001b[39;49;00m&&\u001b[37m \u001b[39;49;00mhex_values[digit_low]\u001b[37m \u001b[39;49;00m>=\u001b[37m \u001b[39;49;00m\u001b[34m0\u001b[39;49;00m)\u001b[37m \u001b[39;49;00m{\u001b[37m\u001b[39;49;00m\n",
      "\u001b[37m                \u001b[39;49;00m*t++\u001b[37m \u001b[39;49;00m=\u001b[37m \u001b[39;49;00mhex_values[digit_high]\u001b[37m \u001b[39;49;00m*\u001b[37m \u001b[39;49;00m\u001b[34m16\u001b[39;49;00m\u001b[37m \u001b[39;49;00m+\u001b[37m \u001b[39;49;00mhex_values[digit_low];\u001b[37m\u001b[39;49;00m\n",
      "\u001b[37m            \u001b[39;49;00m}\u001b[37m\u001b[39;49;00m\n",
      "\u001b[37m            \u001b[39;49;00m\u001b[34melse\u001b[39;49;00m\u001b[37m\u001b[39;49;00m\n",
      "\u001b[37m                \u001b[39;49;00m\u001b[34mreturn\u001b[39;49;00m\u001b[37m \u001b[39;49;00m\u001b[34m-1\u001b[39;49;00m;\u001b[37m\u001b[39;49;00m\n",
      "\u001b[37m        \u001b[39;49;00m}\u001b[37m\u001b[39;49;00m\n",
      "\u001b[37m        \u001b[39;49;00m\u001b[34melse\u001b[39;49;00m\u001b[37m\u001b[39;49;00m\n",
      "\u001b[37m            \u001b[39;49;00m*t++\u001b[37m \u001b[39;49;00m=\u001b[37m \u001b[39;49;00m*s;\u001b[37m\u001b[39;49;00m\n",
      "\u001b[37m        \u001b[39;49;00ms++;\u001b[37m\u001b[39;49;00m\n",
      "\u001b[37m    \u001b[39;49;00m}\u001b[37m\u001b[39;49;00m\n",
      "\u001b[37m    \u001b[39;49;00m*t\u001b[37m \u001b[39;49;00m=\u001b[37m \u001b[39;49;00m\u001b[33m'\u001b[39;49;00m\u001b[33m\\0\u001b[39;49;00m\u001b[33m'\u001b[39;49;00m;\u001b[37m\u001b[39;49;00m\n",
      "\u001b[37m    \u001b[39;49;00m\u001b[34mreturn\u001b[39;49;00m\u001b[37m \u001b[39;49;00m\u001b[34m0\u001b[39;49;00m;\u001b[37m\u001b[39;49;00m\n",
      "}\u001b[37m\u001b[39;49;00m\n",
      "\u001b[37m\u001b[39;49;00m\n",
      "\u001b[36mint\u001b[39;49;00m\u001b[37m \u001b[39;49;00m\u001b[32mmain\u001b[39;49;00m(\u001b[36mint\u001b[39;49;00m\u001b[37m \u001b[39;49;00margc,\u001b[37m \u001b[39;49;00m\u001b[36mchar\u001b[39;49;00m\u001b[37m \u001b[39;49;00m*argv[])\u001b[37m \u001b[39;49;00m{\u001b[37m\u001b[39;49;00m\n",
      "\u001b[37m    \u001b[39;49;00minit_hex_values();\u001b[37m\u001b[39;49;00m\n",
      "\u001b[37m\u001b[39;49;00m\n",
      "\u001b[37m    \u001b[39;49;00m\u001b[34mif\u001b[39;49;00m\u001b[37m \u001b[39;49;00m(argc\u001b[37m \u001b[39;49;00m>=\u001b[37m \u001b[39;49;00m\u001b[34m2\u001b[39;49;00m)\u001b[37m \u001b[39;49;00m{\u001b[37m\u001b[39;49;00m\n",
      "\u001b[37m        \u001b[39;49;00m\u001b[36mchar\u001b[39;49;00m\u001b[37m \u001b[39;49;00m*s\u001b[37m \u001b[39;49;00m=\u001b[37m \u001b[39;49;00margv[\u001b[34m1\u001b[39;49;00m];\u001b[37m\u001b[39;49;00m\n",
      "\u001b[37m        \u001b[39;49;00m\u001b[36mchar\u001b[39;49;00m\u001b[37m \u001b[39;49;00m*t\u001b[37m \u001b[39;49;00m=\u001b[37m \u001b[39;49;00mmalloc(strlen(s)\u001b[37m \u001b[39;49;00m+\u001b[37m \u001b[39;49;00m\u001b[34m1\u001b[39;49;00m);\u001b[37m \u001b[39;49;00m\u001b[37m/* output is at most as long as input */\u001b[39;49;00m\u001b[37m\u001b[39;49;00m\n",
      "\u001b[37m        \u001b[39;49;00m\u001b[36mint\u001b[39;49;00m\u001b[37m \u001b[39;49;00mret\u001b[37m \u001b[39;49;00m=\u001b[37m \u001b[39;49;00mcgi_decode(s,\u001b[37m \u001b[39;49;00mt);\u001b[37m\u001b[39;49;00m\n",
      "\u001b[37m        \u001b[39;49;00mprintf(\u001b[33m\"\u001b[39;49;00m\u001b[33m%s\u001b[39;49;00m\u001b[33m\\n\u001b[39;49;00m\u001b[33m\"\u001b[39;49;00m,\u001b[37m \u001b[39;49;00mt);\u001b[37m\u001b[39;49;00m\n",
      "\u001b[37m        \u001b[39;49;00m\u001b[34mreturn\u001b[39;49;00m\u001b[37m \u001b[39;49;00mret;\u001b[37m\u001b[39;49;00m\n",
      "\u001b[37m    \u001b[39;49;00m}\u001b[37m\u001b[39;49;00m\n",
      "\u001b[37m    \u001b[39;49;00m\u001b[34melse\u001b[39;49;00m\u001b[37m\u001b[39;49;00m\n",
      "\u001b[37m    \u001b[39;49;00m{\u001b[37m\u001b[39;49;00m\n",
      "\u001b[37m        \u001b[39;49;00mprintf(\u001b[33m\"\u001b[39;49;00m\u001b[33mcgi_decode: usage: cgi_decode STRING\u001b[39;49;00m\u001b[33m\\n\u001b[39;49;00m\u001b[33m\"\u001b[39;49;00m);\u001b[37m\u001b[39;49;00m\n",
      "\u001b[37m        \u001b[39;49;00m\u001b[34mreturn\u001b[39;49;00m\u001b[37m \u001b[39;49;00m\u001b[34m1\u001b[39;49;00m;\u001b[37m\u001b[39;49;00m\n",
      "\u001b[37m    \u001b[39;49;00m}\u001b[37m\u001b[39;49;00m\n",
      "}\u001b[37m\u001b[39;49;00m"
     ]
    }
   ],
   "source": [
    "print_file(\"cgi_decode.c\")"
   ]
  },
  {
   "cell_type": "markdown",
   "metadata": {
    "slideshow": {
     "slide_type": "subslide"
    }
   },
   "source": [
    "We can now compile the C code into an executable.  The `--coverage` option instructs the C compiler to instrument the code such that at runtime, coverage information will be collected.  (The exact options vary from compiler to compiler.)"
   ]
  },
  {
   "cell_type": "code",
   "execution_count": 51,
   "metadata": {
    "execution": {
     "iopub.execute_input": "2025-10-26T13:23:37.839416Z",
     "iopub.status.busy": "2025-10-26T13:23:37.839254Z",
     "iopub.status.idle": "2025-10-26T13:23:38.061654Z",
     "shell.execute_reply": "2025-10-26T13:23:38.060987Z"
    },
    "slideshow": {
     "slide_type": "fragment"
    }
   },
   "outputs": [],
   "source": [
    "!cc --coverage -o cgi_decode cgi_decode.c"
   ]
  },
  {
   "cell_type": "markdown",
   "metadata": {
    "slideshow": {
     "slide_type": "subslide"
    }
   },
   "source": [
    "When we now execute the program, coverage information will automatically be collected and stored in auxiliary files:"
   ]
  },
  {
   "cell_type": "code",
   "execution_count": 52,
   "metadata": {
    "execution": {
     "iopub.execute_input": "2025-10-26T13:23:38.064399Z",
     "iopub.status.busy": "2025-10-26T13:23:38.064221Z",
     "iopub.status.idle": "2025-10-26T13:23:38.726133Z",
     "shell.execute_reply": "2025-10-26T13:23:38.725246Z"
    },
    "slideshow": {
     "slide_type": "fragment"
    }
   },
   "outputs": [
    {
     "name": "stdout",
     "output_type": "stream",
     "text": [
      "Send mail to me@fuzzingbook.org\r\n"
     ]
    }
   ],
   "source": [
    "!./cgi_decode 'Send+mail+to+me%40fuzzingbook.org'"
   ]
  },
  {
   "cell_type": "markdown",
   "metadata": {
    "slideshow": {
     "slide_type": "subslide"
    }
   },
   "source": [
    "The coverage information is collected by the `gcov` program.  For every source file given, it produces a new `.gcov` file with coverage information. This is either stored in `cgi_decode...` or in `cgi_decode-cgi_decode...` files."
   ]
  },
  {
   "cell_type": "code",
   "execution_count": 53,
   "metadata": {
    "execution": {
     "iopub.execute_input": "2025-10-26T13:23:38.730229Z",
     "iopub.status.busy": "2025-10-26T13:23:38.729917Z",
     "iopub.status.idle": "2025-10-26T13:23:40.072235Z",
     "shell.execute_reply": "2025-10-26T13:23:40.071886Z"
    },
    "slideshow": {
     "slide_type": "fragment"
    }
   },
   "outputs": [
    {
     "name": "stdout",
     "output_type": "stream",
     "text": [
      "cgi_decode.gcno: No such file or directory\r\n",
      "File 'cgi_decode.c'\r\n",
      "Lines executed:92.50% of 40\r\n",
      "Creating 'cgi_decode.c.gcov'\r\n",
      "\r\n"
     ]
    }
   ],
   "source": [
    "!gcov cgi_decode cgi_decode-cgi_decode"
   ]
  },
  {
   "cell_type": "markdown",
   "metadata": {
    "slideshow": {
     "slide_type": "subslide"
    }
   },
   "source": [
    "In the `.gcov` file, each line is prefixed with the number of times it was called (`-` stands for a non-executable line, `#####` stands for zero) as well as the line number.  We can take a look at `cgi_decode()`, for instance, and see that the only code not executed yet is the `return -1` for an illegal input."
   ]
  },
  {
   "cell_type": "code",
   "execution_count": 54,
   "metadata": {
    "execution": {
     "iopub.execute_input": "2025-10-26T13:23:40.073852Z",
     "iopub.status.busy": "2025-10-26T13:23:40.073745Z",
     "iopub.status.idle": "2025-10-26T13:23:40.076587Z",
     "shell.execute_reply": "2025-10-26T13:23:40.076257Z"
    },
    "slideshow": {
     "slide_type": "fragment"
    }
   },
   "outputs": [
    {
     "name": "stdout",
     "output_type": "stream",
     "text": [
      "        1:   26:int cgi_decode(char *s, char *t) {\n",
      "       32:   27:    while (*s != '\\0') {\n",
      "       31:   28:        if (*s == '+')\n",
      "        3:   29:            *t++ = ' ';\n",
      "       28:   30:        else if (*s == '%') {\n",
      "        1:   31:            int digit_high = *++s;\n",
      "        1:   32:            int digit_low = *++s;\n",
      "        1:   33:            if (hex_values[digit_high] >= 0 && hex_values[digit_low] >= 0) {\n",
      "        1:   34:                *t++ = hex_values[digit_high] * 16 + hex_values[digit_low];\n",
      "        1:   35:            }\n",
      "        -:   36:            else\n",
      "    #####:   37:                return -1;\n",
      "        1:   38:        }\n",
      "        -:   39:        else\n",
      "       27:   40:            *t++ = *s;\n",
      "       31:   41:        s++;\n",
      "        -:   42:    }\n",
      "        1:   43:    *t = '\\0';\n",
      "        1:   44:    return 0;\n",
      "        1:   45:}\n"
     ]
    }
   ],
   "source": [
    "lines = open('cgi_decode.c.gcov').readlines()\n",
    "for i in range(30, 50):\n",
    "    print(lines[i], end='')"
   ]
  },
  {
   "cell_type": "markdown",
   "metadata": {
    "slideshow": {
     "slide_type": "subslide"
    }
   },
   "source": [
    "Let us read in this file to obtain a coverage set:"
   ]
  },
  {
   "cell_type": "code",
   "execution_count": 55,
   "metadata": {
    "execution": {
     "iopub.execute_input": "2025-10-26T13:23:40.078142Z",
     "iopub.status.busy": "2025-10-26T13:23:40.078036Z",
     "iopub.status.idle": "2025-10-26T13:23:40.080624Z",
     "shell.execute_reply": "2025-10-26T13:23:40.080321Z"
    },
    "slideshow": {
     "slide_type": "fragment"
    }
   },
   "outputs": [],
   "source": [
    "def read_gcov_coverage(c_file):\n",
    "    gcov_file = c_file + \".gcov\"\n",
    "    coverage = set()\n",
    "    with open(gcov_file) as file:\n",
    "        for line in file.readlines():\n",
    "            elems = line.split(':')\n",
    "            covered = elems[0].strip()\n",
    "            line_number = int(elems[1].strip())\n",
    "            if covered.startswith('-') or covered.startswith('#'):\n",
    "                continue\n",
    "            coverage.add((c_file, line_number))\n",
    "    return coverage"
   ]
  },
  {
   "cell_type": "code",
   "execution_count": 56,
   "metadata": {
    "execution": {
     "iopub.execute_input": "2025-10-26T13:23:40.081932Z",
     "iopub.status.busy": "2025-10-26T13:23:40.081835Z",
     "iopub.status.idle": "2025-10-26T13:23:40.083836Z",
     "shell.execute_reply": "2025-10-26T13:23:40.083588Z"
    },
    "slideshow": {
     "slide_type": "subslide"
    }
   },
   "outputs": [],
   "source": [
    "coverage = read_gcov_coverage('cgi_decode.c')"
   ]
  },
  {
   "cell_type": "code",
   "execution_count": 57,
   "metadata": {
    "execution": {
     "iopub.execute_input": "2025-10-26T13:23:40.085728Z",
     "iopub.status.busy": "2025-10-26T13:23:40.085606Z",
     "iopub.status.idle": "2025-10-26T13:23:40.087986Z",
     "shell.execute_reply": "2025-10-26T13:23:40.087706Z"
    },
    "slideshow": {
     "slide_type": "fragment"
    }
   },
   "outputs": [
    {
     "data": {
      "text/plain": [
       "[('cgi_decode.c', 20),\n",
       " ('cgi_decode.c', 26),\n",
       " ('cgi_decode.c', 23),\n",
       " ('cgi_decode.c', 29),\n",
       " ('cgi_decode.c', 32)]"
      ]
     },
     "execution_count": 57,
     "metadata": {},
     "output_type": "execute_result"
    }
   ],
   "source": [
    "list(coverage)[:5]"
   ]
  },
  {
   "cell_type": "markdown",
   "metadata": {
    "slideshow": {
     "slide_type": "fragment"
    }
   },
   "source": [
    "With this set, we can now do the same coverage computations as with our Python programs."
   ]
  },
  {
   "cell_type": "markdown",
   "metadata": {
    "button": false,
    "new_sheet": false,
    "run_control": {
     "read_only": false
    },
    "slideshow": {
     "slide_type": "slide"
    }
   },
   "source": [
    "## Finding Errors with Basic Fuzzing\n",
    "\n",
    "Given sufficient time, we can indeed cover each and every line within `cgi_decode()`, whatever the programming language would be.  This does not mean that they would be error-free, though.  Since we do not check the result of `cgi_decode()`, the function could return any value without us checking or noticing.  To catch such errors, we would have to set up a *results checker* (commonly called an *oracle*) that would verify test results.  In our case, we could compare the C and Python implementations of `cgi_decode()` and see whether both produce the same results."
   ]
  },
  {
   "cell_type": "markdown",
   "metadata": {
    "button": false,
    "new_sheet": false,
    "run_control": {
     "read_only": false
    },
    "slideshow": {
     "slide_type": "subslide"
    }
   },
   "source": [
    "Where fuzzing is great at, though, is in finding _internal errors_ that can be detected even without checking the result.  Actually, if one runs our `fuzzer()` on `cgi_decode()`, one quickly finds such an error, as the following code shows:"
   ]
  },
  {
   "cell_type": "code",
   "execution_count": 58,
   "metadata": {
    "button": false,
    "execution": {
     "iopub.execute_input": "2025-10-26T13:23:40.089513Z",
     "iopub.status.busy": "2025-10-26T13:23:40.089400Z",
     "iopub.status.idle": "2025-10-26T13:23:40.091188Z",
     "shell.execute_reply": "2025-10-26T13:23:40.090881Z"
    },
    "new_sheet": false,
    "run_control": {
     "read_only": false
    },
    "slideshow": {
     "slide_type": "fragment"
    }
   },
   "outputs": [],
   "source": [
    "from ExpectError import ExpectError"
   ]
  },
  {
   "cell_type": "code",
   "execution_count": 59,
   "metadata": {
    "button": false,
    "execution": {
     "iopub.execute_input": "2025-10-26T13:23:40.092404Z",
     "iopub.status.busy": "2025-10-26T13:23:40.092324Z",
     "iopub.status.idle": "2025-10-26T13:23:40.094827Z",
     "shell.execute_reply": "2025-10-26T13:23:40.094574Z"
    },
    "new_sheet": false,
    "run_control": {
     "read_only": false
    },
    "slideshow": {
     "slide_type": "fragment"
    }
   },
   "outputs": [
    {
     "name": "stderr",
     "output_type": "stream",
     "text": [
      "Traceback (most recent call last):\n",
      "  File \"/var/folders/n2/xd9445p97rb3xh7m1dfx8_4h0006ts/T/ipykernel_20400/2238772797.py\", line 5, in <module>\n",
      "    cgi_decode(s)\n",
      "    ~~~~~~~~~~^^^\n",
      "  File \"/var/folders/n2/xd9445p97rb3xh7m1dfx8_4h0006ts/T/ipykernel_20400/1071239422.py\", line 22, in cgi_decode\n",
      "    digit_high, digit_low = s[i + 1], s[i + 2]\n",
      "                                      ~^^^^^^^\n",
      "IndexError: string index out of range (expected)\n"
     ]
    }
   ],
   "source": [
    "with ExpectError():\n",
    "    for i in range(trials):\n",
    "        try:\n",
    "            s = fuzzer()\n",
    "            cgi_decode(s)\n",
    "        except ValueError:\n",
    "            pass"
   ]
  },
  {
   "cell_type": "markdown",
   "metadata": {
    "button": false,
    "new_sheet": false,
    "run_control": {
     "read_only": false
    },
    "slideshow": {
     "slide_type": "fragment"
    }
   },
   "source": [
    "So, it is possible to cause `cgi_decode()` to crash.  Why is that?  Let's take a look at its input:"
   ]
  },
  {
   "cell_type": "code",
   "execution_count": 60,
   "metadata": {
    "button": false,
    "execution": {
     "iopub.execute_input": "2025-10-26T13:23:40.096348Z",
     "iopub.status.busy": "2025-10-26T13:23:40.096206Z",
     "iopub.status.idle": "2025-10-26T13:23:40.098482Z",
     "shell.execute_reply": "2025-10-26T13:23:40.098184Z"
    },
    "new_sheet": false,
    "run_control": {
     "read_only": false
    },
    "slideshow": {
     "slide_type": "subslide"
    }
   },
   "outputs": [
    {
     "data": {
      "text/plain": [
       "'82 202*&<1&($34\\'\"/\\'.<5/!8\"\\'5:!4))%;'"
      ]
     },
     "execution_count": 60,
     "metadata": {},
     "output_type": "execute_result"
    }
   ],
   "source": [
    "s"
   ]
  },
  {
   "cell_type": "markdown",
   "metadata": {
    "button": false,
    "new_sheet": false,
    "run_control": {
     "read_only": false
    },
    "slideshow": {
     "slide_type": "fragment"
    }
   },
   "source": [
    "The problem here is at the end of the string.  After a `'%'` character, our implementation will always attempt to access two more (hexadecimal) characters, but if these are not there, we will get an `IndexError` exception.  "
   ]
  },
  {
   "cell_type": "markdown",
   "metadata": {
    "button": false,
    "new_sheet": false,
    "run_control": {
     "read_only": false
    },
    "slideshow": {
     "slide_type": "subslide"
    }
   },
   "source": [
    "This problem is also present in our C variant, which inherits it from the original implementation \\cite{Pezze2008}:\n",
    "\n",
    "```c\n",
    "int digit_high = *++s;\n",
    "int digit_low = *++s;\n",
    "```\n",
    "\n",
    "Here, `s` is a pointer to the character to be read; `++` increments it by one character.\n",
    "In the C implementation, the problem is actually much worse.  If the `'%'` character is at the end of the string, the above code will first read a terminating character (`'\\0'` in C strings) and then the following character, which may be any memory content after the string, and which thus may cause the program to fail uncontrollably.  The somewhat good news is that `'\\0'` is not a valid hexadecimal character, and thus, the C version will \"only\" read one character beyond the end of the string."
   ]
  },
  {
   "cell_type": "markdown",
   "metadata": {
    "button": false,
    "new_sheet": false,
    "run_control": {
     "read_only": false
    },
    "slideshow": {
     "slide_type": "fragment"
    }
   },
   "source": [
    "Interestingly enough, none of the manual tests we had designed earlier would trigger this bug.  Actually, neither statement nor branch coverage, nor any of the coverage criteria commonly discussed in literature would find it.  However, a simple fuzzing run can identify the error with a few runs – _if_ appropriate run-time checks are in place that find such overflows.  This definitely calls for more fuzzing!"
   ]
  },
  {
   "cell_type": "markdown",
   "metadata": {
    "button": false,
    "new_sheet": false,
    "run_control": {
     "read_only": false
    },
    "slideshow": {
     "slide_type": "slide"
    }
   },
   "source": [
    "## Lessons Learned\n",
    "\n",
    "* Coverage metrics are a simple and fully automated means to approximate how much functionality of a program is actually executed during a test run.\n",
    "* A number of coverage metrics exist, the most important ones being statement coverage and branch coverage.\n",
    "* In Python, it is very easy to access the program state during execution, including the currently executed code."
   ]
  },
  {
   "cell_type": "markdown",
   "metadata": {
    "slideshow": {
     "slide_type": "skip"
    }
   },
   "source": [
    "At the end of the day, let's clean up: (Note that the following commands will delete all files in the current working directory that fit the pattern `cgi_decode.*`. Be aware of this, if you downloaded the notebooks and are working locally.)"
   ]
  },
  {
   "cell_type": "code",
   "execution_count": 67,
   "metadata": {
    "execution": {
     "iopub.execute_input": "2025-10-26T13:23:40.966576Z",
     "iopub.status.busy": "2025-10-26T13:23:40.966456Z",
     "iopub.status.idle": "2025-10-26T13:23:40.968256Z",
     "shell.execute_reply": "2025-10-26T13:23:40.967971Z"
    },
    "slideshow": {
     "slide_type": "skip"
    }
   },
   "outputs": [],
   "source": [
    "import os\n",
    "import glob"
   ]
  },
  {
   "cell_type": "code",
   "execution_count": 68,
   "metadata": {
    "execution": {
     "iopub.execute_input": "2025-10-26T13:23:40.969670Z",
     "iopub.status.busy": "2025-10-26T13:23:40.969559Z",
     "iopub.status.idle": "2025-10-26T13:23:40.972486Z",
     "shell.execute_reply": "2025-10-26T13:23:40.972132Z"
    },
    "slideshow": {
     "slide_type": "skip"
    }
   },
   "outputs": [],
   "source": [
    "for file in (glob.glob(\"cgi_decode\") + \n",
    "             glob.glob(\"cgi_decode.*\") + \n",
    "             glob.glob(\"cgi_decode-*\")):\n",
    "    os.remove(file)"
   ]
  },
  {
   "cell_type": "markdown",
   "metadata": {
    "button": false,
    "new_sheet": false,
    "run_control": {
     "read_only": false
    },
    "slideshow": {
     "slide_type": "skip"
    }
   },
   "source": [
    "## Next Steps\n",
    "\n",
    "Coverage is not only a tool to _measure_ test effectiveness, but also a great tool to _guide_ test generation towards specific goals – in particular uncovered code.  We use coverage to\n",
    "\n",
    "* [guide _mutations_ of existing inputs towards better coverage in the chapter on mutation fuzzing](MutationFuzzer.ipynb)\n"
   ]
  },
  {
   "cell_type": "markdown",
   "metadata": {
    "slideshow": {
     "slide_type": "slide"
    }
   },
   "source": [
    "## Background\n",
    "\n",
    "Coverage is a central concept in systematic software testing.  For discussions, see the books in the [Introduction to Testing](Intro_Testing.ipynb)."
   ]
  },
  {
   "cell_type": "markdown",
   "metadata": {
    "button": false,
    "new_sheet": false,
    "run_control": {
     "read_only": false
    },
    "slideshow": {
     "slide_type": "slide"
    }
   },
   "source": [
    "## Exercises"
   ]
  },
  {
   "cell_type": "markdown",
   "metadata": {
    "button": false,
    "new_sheet": false,
    "run_control": {
     "read_only": false
    },
    "slideshow": {
     "slide_type": "subslide"
    },
    "solution": "hidden",
    "solution2": "hidden",
    "solution2_first": true,
    "solution_first": true
   },
   "source": [
    "### Exercise 1: Fixing `cgi_decode()`\n",
    "\n",
    "Create an appropriate test to reproduce the `IndexError` discussed above.  Fix `cgi_decode()` to prevent the bug.  Show that your test (and additional `fuzzer()` runs) no longer expose the bug.  Do the same for the C variant."
   ]
  },
  {
   "cell_type": "markdown",
   "metadata": {
    "button": false,
    "new_sheet": false,
    "run_control": {
     "read_only": false
    },
    "slideshow": {
     "slide_type": "subslide"
    },
    "solution": "hidden",
    "solution2": "hidden"
   },
   "source": [
    "**Solution.**  Here's a test case:"
   ]
  },
  {
   "cell_type": "code",
   "execution_count": 69,
   "metadata": {
    "execution": {
     "iopub.execute_input": "2025-10-26T13:23:40.974361Z",
     "iopub.status.busy": "2025-10-26T13:23:40.974238Z",
     "iopub.status.idle": "2025-10-26T13:23:40.976343Z",
     "shell.execute_reply": "2025-10-26T13:23:40.976077Z"
    },
    "slideshow": {
     "slide_type": "fragment"
    },
    "solution2": "hidden"
   },
   "outputs": [
    {
     "name": "stderr",
     "output_type": "stream",
     "text": [
      "Traceback (most recent call last):\n",
      "  File \"/var/folders/n2/xd9445p97rb3xh7m1dfx8_4h0006ts/T/ipykernel_20400/1102034435.py\", line 2, in <module>\n",
      "    assert cgi_decode('%') == '%'\n",
      "           ~~~~~~~~~~^^^^^\n",
      "  File \"/var/folders/n2/xd9445p97rb3xh7m1dfx8_4h0006ts/T/ipykernel_20400/1071239422.py\", line 22, in cgi_decode\n",
      "    digit_high, digit_low = s[i + 1], s[i + 2]\n",
      "                            ~^^^^^^^\n",
      "IndexError: string index out of range (expected)\n"
     ]
    }
   ],
   "source": [
    "with ExpectError():\n",
    "    assert cgi_decode('%') == '%'"
   ]
  },
  {
   "cell_type": "code",
   "execution_count": 70,
   "metadata": {
    "execution": {
     "iopub.execute_input": "2025-10-26T13:23:40.977705Z",
     "iopub.status.busy": "2025-10-26T13:23:40.977586Z",
     "iopub.status.idle": "2025-10-26T13:23:40.980110Z",
     "shell.execute_reply": "2025-10-26T13:23:40.979791Z"
    },
    "slideshow": {
     "slide_type": "fragment"
    },
    "solution2": "hidden"
   },
   "outputs": [
    {
     "name": "stderr",
     "output_type": "stream",
     "text": [
      "Traceback (most recent call last):\n",
      "  File \"/var/folders/n2/xd9445p97rb3xh7m1dfx8_4h0006ts/T/ipykernel_20400/2291699482.py\", line 2, in <module>\n",
      "    assert cgi_decode('%4') == '%4'\n",
      "           ~~~~~~~~~~^^^^^^\n",
      "  File \"/var/folders/n2/xd9445p97rb3xh7m1dfx8_4h0006ts/T/ipykernel_20400/1071239422.py\", line 22, in cgi_decode\n",
      "    digit_high, digit_low = s[i + 1], s[i + 2]\n",
      "                                      ~^^^^^^^\n",
      "IndexError: string index out of range (expected)\n"
     ]
    }
   ],
   "source": [
    "with ExpectError():\n",
    "    assert cgi_decode('%4') == '%4'"
   ]
  },
  {
   "cell_type": "code",
   "execution_count": 71,
   "metadata": {
    "execution": {
     "iopub.execute_input": "2025-10-26T13:23:40.981473Z",
     "iopub.status.busy": "2025-10-26T13:23:40.981348Z",
     "iopub.status.idle": "2025-10-26T13:23:40.983682Z",
     "shell.execute_reply": "2025-10-26T13:23:40.982955Z"
    },
    "slideshow": {
     "slide_type": "fragment"
    },
    "solution2": "hidden"
   },
   "outputs": [],
   "source": [
    "assert cgi_decode('%40') == '@'"
   ]
  },
  {
   "cell_type": "markdown",
   "metadata": {
    "slideshow": {
     "slide_type": "subslide"
    },
    "solution2": "hidden"
   },
   "source": [
    "Here's a fix:"
   ]
  },
  {
   "cell_type": "code",
   "execution_count": 72,
   "metadata": {
    "execution": {
     "iopub.execute_input": "2025-10-26T13:23:40.985506Z",
     "iopub.status.busy": "2025-10-26T13:23:40.985387Z",
     "iopub.status.idle": "2025-10-26T13:23:40.988401Z",
     "shell.execute_reply": "2025-10-26T13:23:40.988128Z"
    },
    "slideshow": {
     "slide_type": "fragment"
    },
    "solution2": "hidden"
   },
   "outputs": [],
   "source": [
    "def fixed_cgi_decode(s):\n",
    "    \"\"\"Decode the CGI-encoded string `s`:\n",
    "       * replace \"+\" by \" \"\n",
    "       * replace \"%xx\" by the character with hex number xx.\n",
    "       Return the decoded string.  Raise `ValueError` for invalid inputs.\"\"\"\n",
    "\n",
    "    # Mapping of hex digits to their integer values\n",
    "    hex_values = {\n",
    "        '0': 0, '1': 1, '2': 2, '3': 3, '4': 4,\n",
    "        '5': 5, '6': 6, '7': 7, '8': 8, '9': 9,\n",
    "        'a': 10, 'b': 11, 'c': 12, 'd': 13, 'e': 14, 'f': 15,\n",
    "        'A': 10, 'B': 11, 'C': 12, 'D': 13, 'E': 14, 'F': 15,\n",
    "    }\n",
    "\n",
    "    t = \"\"\n",
    "    i = 0\n",
    "    while i < len(s):\n",
    "        c = s[i]\n",
    "        if c == '+':\n",
    "            t += ' '\n",
    "        elif c == '%' and i + 2 < len(s):  # <--- *** FIX ***\n",
    "            digit_high, digit_low = s[i + 1], s[i + 2]\n",
    "            i += 2\n",
    "            if digit_high in hex_values and digit_low in hex_values:\n",
    "                v = hex_values[digit_high] * 16 + hex_values[digit_low]\n",
    "                t += chr(v)\n",
    "            else:\n",
    "                raise ValueError(\"Invalid encoding\")\n",
    "        else:\n",
    "            t += c\n",
    "        i += 1\n",
    "    return t"
   ]
  },
  {
   "cell_type": "code",
   "execution_count": 73,
   "metadata": {
    "execution": {
     "iopub.execute_input": "2025-10-26T13:23:40.989736Z",
     "iopub.status.busy": "2025-10-26T13:23:40.989646Z",
     "iopub.status.idle": "2025-10-26T13:23:40.991460Z",
     "shell.execute_reply": "2025-10-26T13:23:40.991139Z"
    },
    "slideshow": {
     "slide_type": "subslide"
    },
    "solution2": "hidden"
   },
   "outputs": [],
   "source": [
    "assert fixed_cgi_decode('%') == '%'"
   ]
  },
  {
   "cell_type": "code",
   "execution_count": 74,
   "metadata": {
    "execution": {
     "iopub.execute_input": "2025-10-26T13:23:40.993206Z",
     "iopub.status.busy": "2025-10-26T13:23:40.993108Z",
     "iopub.status.idle": "2025-10-26T13:23:40.994657Z",
     "shell.execute_reply": "2025-10-26T13:23:40.994424Z"
    },
    "slideshow": {
     "slide_type": "fragment"
    },
    "solution2": "hidden"
   },
   "outputs": [],
   "source": [
    "assert fixed_cgi_decode('%4') == '%4'"
   ]
  },
  {
   "cell_type": "code",
   "execution_count": 75,
   "metadata": {
    "execution": {
     "iopub.execute_input": "2025-10-26T13:23:40.995768Z",
     "iopub.status.busy": "2025-10-26T13:23:40.995694Z",
     "iopub.status.idle": "2025-10-26T13:23:40.997265Z",
     "shell.execute_reply": "2025-10-26T13:23:40.997001Z"
    },
    "slideshow": {
     "slide_type": "fragment"
    },
    "solution2": "hidden"
   },
   "outputs": [],
   "source": [
    "assert fixed_cgi_decode('%40') == '@'"
   ]
  },
  {
   "cell_type": "markdown",
   "metadata": {
    "slideshow": {
     "slide_type": "subslide"
    },
    "solution2": "hidden"
   },
   "source": [
    "Here's the test:"
   ]
  },
  {
   "cell_type": "code",
   "execution_count": 76,
   "metadata": {
    "execution": {
     "iopub.execute_input": "2025-10-26T13:23:40.998809Z",
     "iopub.status.busy": "2025-10-26T13:23:40.998604Z",
     "iopub.status.idle": "2025-10-26T13:23:41.002697Z",
     "shell.execute_reply": "2025-10-26T13:23:41.002350Z"
    },
    "slideshow": {
     "slide_type": "fragment"
    },
    "solution2": "hidden"
   },
   "outputs": [],
   "source": [
    "for i in range(trials):\n",
    "    try:\n",
    "        s = fuzzer()\n",
    "        fixed_cgi_decode(s)\n",
    "    except ValueError:\n",
    "        pass"
   ]
  },
  {
   "cell_type": "markdown",
   "metadata": {
    "slideshow": {
     "slide_type": "fragment"
    },
    "solution2": "hidden"
   },
   "source": [
    "For the C variant, the following will do:"
   ]
  },
  {
   "cell_type": "code",
   "execution_count": 77,
   "metadata": {
    "execution": {
     "iopub.execute_input": "2025-10-26T13:23:41.004095Z",
     "iopub.status.busy": "2025-10-26T13:23:41.004011Z",
     "iopub.status.idle": "2025-10-26T13:23:41.006005Z",
     "shell.execute_reply": "2025-10-26T13:23:41.005444Z"
    },
    "slideshow": {
     "slide_type": "fragment"
    },
    "solution2": "hidden"
   },
   "outputs": [],
   "source": [
    "cgi_c_code = cgi_c_code.replace(\n",
    "    r\"if (*s == '%')\",  # old code\n",
    "    r\"if (*s == '%' && s[1] != '\\0' && s[2] != '\\0')\"  # new code\n",
    ")"
   ]
  },
  {
   "cell_type": "markdown",
   "metadata": {
    "slideshow": {
     "slide_type": "subslide"
    },
    "solution2": "hidden"
   },
   "source": [
    "Go back to the above compilation commands and recompile `cgi_decode`."
   ]
  },
  {
   "attachments": {},
   "cell_type": "markdown",
   "metadata": {
    "button": false,
    "new_sheet": false,
    "run_control": {
     "read_only": false
    },
    "slideshow": {
     "slide_type": "subslide"
    }
   },
   "source": [
    "### Exercise 2: Branch Coverage\n",
    "\n",
    "Besides statement coverage, _branch coverage_ is one of the most frequently used criteria to determine the quality of a test.  In a nutshell, branch coverage measures how many _control decisions_ are made in code.  In the statement\n",
    "\n",
    "```python\n",
    "if CONDITION:\n",
    "    do_a()\n",
    "else:\n",
    "    do_b()\n",
    "```\n",
    "\n",
    "for instance, both the cases where `CONDITION` is true (branching to `do_a()`) and where `CONDITION` is false (branching to `do_b()`) have to be covered.  This holds for all control statements with a condition (`if`, `while`, etc.).\n",
    "\n",
    "How is branch coverage different from statement coverage?  In the above example, there is actually no difference.  In this one, though, there is:\n",
    "\n",
    "```python\n",
    "if CONDITION:\n",
    "    do_a()\n",
    "something_else()\n",
    "```\n",
    "\n",
    "Using statement coverage, a single test case where `CONDITION` is true suffices to cover the call to `do_a()`.  Using branch coverage, however, we would also have to create a test case where `do_a()` is _not_ invoked."
   ]
  },
  {
   "attachments": {},
   "cell_type": "markdown",
   "metadata": {
    "button": false,
    "new_sheet": false,
    "run_control": {
     "read_only": false
    },
    "slideshow": {
     "slide_type": "subslide"
    }
   },
   "source": [
    "Using our `Coverage` infrastructure, we can simulate branch coverage by considering _pairs of subsequent lines executed_.  The `trace()` method gives us the list of lines executed one after the other:"
   ]
  },
  {
   "cell_type": "code",
   "execution_count": 78,
   "metadata": {
    "button": false,
    "execution": {
     "iopub.execute_input": "2025-10-26T13:23:41.007774Z",
     "iopub.status.busy": "2025-10-26T13:23:41.007673Z",
     "iopub.status.idle": "2025-10-26T13:23:41.010404Z",
     "shell.execute_reply": "2025-10-26T13:23:41.010034Z"
    },
    "new_sheet": false,
    "run_control": {
     "read_only": false
    },
    "slideshow": {
     "slide_type": "fragment"
    }
   },
   "outputs": [
    {
     "data": {
      "text/plain": [
       "[('cgi_decode', 8),\n",
       " ('cgi_decode', 9),\n",
       " ('cgi_decode', 8),\n",
       " ('cgi_decode', 9),\n",
       " ('cgi_decode', 8)]"
      ]
     },
     "execution_count": 78,
     "metadata": {},
     "output_type": "execute_result"
    }
   ],
   "source": [
    "with Coverage() as cov:\n",
    "    cgi_decode(\"a+b\")\n",
    "trace = cov.trace()\n",
    "trace[:5]"
   ]
  },
  {
   "cell_type": "markdown",
   "metadata": {
    "button": false,
    "new_sheet": false,
    "run_control": {
     "read_only": false
    },
    "slideshow": {
     "slide_type": "subslide"
    },
    "solution2": "hidden",
    "solution2_first": true
   },
   "source": [
    "#### Part 1: Compute branch coverage\n",
    "\n",
    "Define a function `branch_coverage()` that takes a trace and returns the set of pairs of subsequent lines in a trace – in the above example, this would be \n",
    "\n",
    "```python\n",
    "set(\n",
    "(('cgi_decode', 9), ('cgi_decode', 10)),\n",
    "(('cgi_decode', 10), ('cgi_decode', 11)),\n",
    "# more_pairs\n",
    ")\n",
    "```\n",
    "\n",
    "Bonus for advanced Python programmers: Define `BranchCoverage` as a subclass of `Coverage` and make `branch_coverage()` as above a `coverage()` method of `BranchCoverage`."
   ]
  },
  {
   "cell_type": "markdown",
   "metadata": {
    "button": false,
    "new_sheet": false,
    "run_control": {
     "read_only": false
    },
    "slideshow": {
     "slide_type": "subslide"
    },
    "solution": "hidden",
    "solution2": "hidden"
   },
   "source": [
    "**Solution.**  Here's a simple definition of `branch_coverage()`:"
   ]
  },
  {
   "cell_type": "code",
   "execution_count": 79,
   "metadata": {
    "execution": {
     "iopub.execute_input": "2025-10-26T13:23:41.011961Z",
     "iopub.status.busy": "2025-10-26T13:23:41.011831Z",
     "iopub.status.idle": "2025-10-26T13:23:41.014058Z",
     "shell.execute_reply": "2025-10-26T13:23:41.013684Z"
    },
    "slideshow": {
     "slide_type": "fragment"
    },
    "solution2": "hidden"
   },
   "outputs": [],
   "source": [
    "def branch_coverage(trace):\n",
    "    coverage = set()\n",
    "    past_line = None\n",
    "    for line in trace:\n",
    "        if past_line is not None:\n",
    "            coverage.add((past_line, line))\n",
    "        past_line = line\n",
    "\n",
    "    return coverage"
   ]
  },
  {
   "cell_type": "code",
   "execution_count": 80,
   "metadata": {
    "execution": {
     "iopub.execute_input": "2025-10-26T13:23:41.015677Z",
     "iopub.status.busy": "2025-10-26T13:23:41.015552Z",
     "iopub.status.idle": "2025-10-26T13:23:41.018467Z",
     "shell.execute_reply": "2025-10-26T13:23:41.018199Z"
    },
    "slideshow": {
     "slide_type": "subslide"
    },
    "solution2": "hidden"
   },
   "outputs": [
    {
     "data": {
      "text/plain": [
       "{(('cgi_decode', 8), ('cgi_decode', 9)),\n",
       " (('cgi_decode', 8), ('cgi_decode', 10)),\n",
       " (('cgi_decode', 8), ('cgi_decode', 11)),\n",
       " (('cgi_decode', 8), ('cgi_decode', 12)),\n",
       " (('cgi_decode', 8), ('cgi_decode', 15)),\n",
       " (('cgi_decode', 9), ('cgi_decode', 8)),\n",
       " (('cgi_decode', 10), ('cgi_decode', 8)),\n",
       " (('cgi_decode', 11), ('cgi_decode', 8)),\n",
       " (('cgi_decode', 12), ('cgi_decode', 8)),\n",
       " (('cgi_decode', 15), ('cgi_decode', 16)),\n",
       " (('cgi_decode', 16), ('cgi_decode', 17)),\n",
       " (('cgi_decode', 17), ('cgi_decode', 18)),\n",
       " (('cgi_decode', 17), ('cgi_decode', 32)),\n",
       " (('cgi_decode', 18), ('cgi_decode', 19)),\n",
       " (('cgi_decode', 19), ('cgi_decode', 20)),\n",
       " (('cgi_decode', 19), ('cgi_decode', 21)),\n",
       " (('cgi_decode', 20), ('cgi_decode', 31)),\n",
       " (('cgi_decode', 21), ('cgi_decode', 30)),\n",
       " (('cgi_decode', 30), ('cgi_decode', 31)),\n",
       " (('cgi_decode', 31), ('cgi_decode', 17))}"
      ]
     },
     "execution_count": 80,
     "metadata": {},
     "output_type": "execute_result"
    }
   ],
   "source": [
    "branch_coverage(trace)"
   ]
  },
  {
   "cell_type": "markdown",
   "metadata": {
    "slideshow": {
     "slide_type": "subslide"
    },
    "solution2": "hidden"
   },
   "source": [
    "Here's a definition as a class:"
   ]
  },
  {
   "cell_type": "code",
   "execution_count": 81,
   "metadata": {
    "execution": {
     "iopub.execute_input": "2025-10-26T13:23:41.020100Z",
     "iopub.status.busy": "2025-10-26T13:23:41.019873Z",
     "iopub.status.idle": "2025-10-26T13:23:41.022026Z",
     "shell.execute_reply": "2025-10-26T13:23:41.021802Z"
    },
    "slideshow": {
     "slide_type": "fragment"
    },
    "solution2": "hidden"
   },
   "outputs": [],
   "source": [
    "class BranchCoverage(Coverage):\n",
    "    def coverage(self):\n",
    "        \"\"\"The set of executed line pairs\"\"\"\n",
    "        coverage = set()\n",
    "        past_line = None\n",
    "        for line in self.trace():\n",
    "            if past_line is not None:\n",
    "                coverage.add((past_line, line))\n",
    "            past_line = line\n",
    "\n",
    "        return coverage"
   ]
  },
  {
   "cell_type": "markdown",
   "metadata": {
    "button": false,
    "new_sheet": false,
    "run_control": {
     "read_only": false
    },
    "slideshow": {
     "slide_type": "subslide"
    },
    "solution2": "hidden",
    "solution2_first": true
   },
   "source": [
    "#### Part 2: Comparing statement coverage and branch coverage\n",
    "\n",
    "Use `branch_coverage()` to repeat the experiments in this chapter with branch coverage rather than statement coverage.  Do the manually written test cases cover all branches?"
   ]
  },
  {
   "cell_type": "markdown",
   "metadata": {
    "slideshow": {
     "slide_type": "subslide"
    },
    "solution2": "hidden"
   },
   "source": [
    "**Solution.** Let's repeat the above experiments with `BranchCoverage`:"
   ]
  },
  {
   "cell_type": "code",
   "execution_count": 82,
   "metadata": {
    "execution": {
     "iopub.execute_input": "2025-10-26T13:23:41.023474Z",
     "iopub.status.busy": "2025-10-26T13:23:41.023337Z",
     "iopub.status.idle": "2025-10-26T13:23:41.025528Z",
     "shell.execute_reply": "2025-10-26T13:23:41.025277Z"
    },
    "slideshow": {
     "slide_type": "fragment"
    },
    "solution2": "hidden"
   },
   "outputs": [
    {
     "name": "stdout",
     "output_type": "stream",
     "text": [
      "{(('cgi_decode', 16), ('cgi_decode', 17)), (('cgi_decode', 15), ('cgi_decode', 16)), (('cgi_decode', 20), ('cgi_decode', 31)), (('cgi_decode', 19), ('cgi_decode', 21)), (('cgi_decode', 31), ('cgi_decode', 17)), (('cgi_decode', 8), ('cgi_decode', 9)), (('cgi_decode', 8), ('cgi_decode', 15)), (('cgi_decode', 12), ('cgi_decode', 8)), (('cgi_decode', 8), ('cgi_decode', 10)), (('cgi_decode', 18), ('cgi_decode', 19)), (('cgi_decode', 11), ('cgi_decode', 8)), (('cgi_decode', 8), ('cgi_decode', 11)), (('cgi_decode', 17), ('cgi_decode', 32)), (('cgi_decode', 8), ('cgi_decode', 12)), (('cgi_decode', 9), ('cgi_decode', 8)), (('cgi_decode', 19), ('cgi_decode', 20)), (('cgi_decode', 17), ('cgi_decode', 18)), (('cgi_decode', 30), ('cgi_decode', 31)), (('cgi_decode', 21), ('cgi_decode', 30)), (('cgi_decode', 10), ('cgi_decode', 8))}\n"
     ]
    }
   ],
   "source": [
    "with BranchCoverage() as cov:\n",
    "    cgi_decode(\"a+b\")\n",
    "\n",
    "print(cov.coverage())"
   ]
  },
  {
   "cell_type": "code",
   "execution_count": 83,
   "metadata": {
    "button": false,
    "execution": {
     "iopub.execute_input": "2025-10-26T13:23:41.027363Z",
     "iopub.status.busy": "2025-10-26T13:23:41.027251Z",
     "iopub.status.idle": "2025-10-26T13:23:41.030145Z",
     "shell.execute_reply": "2025-10-26T13:23:41.029932Z"
    },
    "new_sheet": false,
    "run_control": {
     "read_only": false
    },
    "slideshow": {
     "slide_type": "subslide"
    },
    "solution2": "hidden"
   },
   "outputs": [
    {
     "data": {
      "text/plain": [
       "{(('cgi_decode', 19), ('cgi_decode', 20)),\n",
       " (('cgi_decode', 20), ('cgi_decode', 31))}"
      ]
     },
     "execution_count": 83,
     "metadata": {},
     "output_type": "execute_result"
    }
   ],
   "source": [
    "with BranchCoverage() as cov_plus:\n",
    "    cgi_decode(\"a+b\")\n",
    "with BranchCoverage() as cov_standard:\n",
    "    cgi_decode(\"abc\")\n",
    "\n",
    "cov_plus.coverage() - cov_standard.coverage()"
   ]
  },
  {
   "cell_type": "code",
   "execution_count": 84,
   "metadata": {
    "button": false,
    "execution": {
     "iopub.execute_input": "2025-10-26T13:23:41.031429Z",
     "iopub.status.busy": "2025-10-26T13:23:41.031335Z",
     "iopub.status.idle": "2025-10-26T13:23:41.033354Z",
     "shell.execute_reply": "2025-10-26T13:23:41.033024Z"
    },
    "new_sheet": false,
    "run_control": {
     "read_only": false
    },
    "slideshow": {
     "slide_type": "subslide"
    },
    "solution2": "hidden"
   },
   "outputs": [],
   "source": [
    "with BranchCoverage() as cov_max:\n",
    "    cgi_decode('+')\n",
    "    cgi_decode('%20')\n",
    "    cgi_decode('abc')\n",
    "    try:\n",
    "        cgi_decode('%?a')\n",
    "    except:\n",
    "        pass"
   ]
  },
  {
   "cell_type": "code",
   "execution_count": 85,
   "metadata": {
    "button": false,
    "execution": {
     "iopub.execute_input": "2025-10-26T13:23:41.034880Z",
     "iopub.status.busy": "2025-10-26T13:23:41.034769Z",
     "iopub.status.idle": "2025-10-26T13:23:41.037025Z",
     "shell.execute_reply": "2025-10-26T13:23:41.036802Z"
    },
    "new_sheet": false,
    "run_control": {
     "read_only": false
    },
    "slideshow": {
     "slide_type": "subslide"
    },
    "solution2": "hidden"
   },
   "outputs": [
    {
     "data": {
      "text/plain": [
       "{(('cgi_decode', 21), ('cgi_decode', 22)),\n",
       " (('cgi_decode', 22), ('cgi_decode', 23)),\n",
       " (('cgi_decode', 23), ('cgi_decode', 24)),\n",
       " (('cgi_decode', 24), ('cgi_decode', 25)),\n",
       " (('cgi_decode', 24), ('cgi_decode', 28)),\n",
       " (('cgi_decode', 25), ('cgi_decode', 26)),\n",
       " (('cgi_decode', 26), ('cgi_decode', 31)),\n",
       " (('cgi_decode', 32), ('cgi_decode', 8))}"
      ]
     },
     "execution_count": 85,
     "metadata": {},
     "output_type": "execute_result"
    }
   ],
   "source": [
    "cov_max.coverage() - cov_plus.coverage()"
   ]
  },
  {
   "cell_type": "code",
   "execution_count": 86,
   "metadata": {
    "button": false,
    "execution": {
     "iopub.execute_input": "2025-10-26T13:23:41.038267Z",
     "iopub.status.busy": "2025-10-26T13:23:41.038166Z",
     "iopub.status.idle": "2025-10-26T13:23:41.040208Z",
     "shell.execute_reply": "2025-10-26T13:23:41.039882Z"
    },
    "new_sheet": false,
    "run_control": {
     "read_only": false
    },
    "slideshow": {
     "slide_type": "subslide"
    },
    "solution2": "hidden"
   },
   "outputs": [
    {
     "data": {
      "text/plain": [
       "'!7#%\"*#0=)$;%6*;>638:*>80\"=</>(/*:-(2<4 !:5*6856&?\"\"11<7+%<%7,4.8,*+&,,$,.\"'"
      ]
     },
     "execution_count": 86,
     "metadata": {},
     "output_type": "execute_result"
    }
   ],
   "source": [
    "sample"
   ]
  },
  {
   "cell_type": "code",
   "execution_count": 87,
   "metadata": {
    "button": false,
    "execution": {
     "iopub.execute_input": "2025-10-26T13:23:41.041501Z",
     "iopub.status.busy": "2025-10-26T13:23:41.041378Z",
     "iopub.status.idle": "2025-10-26T13:23:41.044490Z",
     "shell.execute_reply": "2025-10-26T13:23:41.044264Z"
    },
    "new_sheet": false,
    "run_control": {
     "read_only": false
    },
    "slideshow": {
     "slide_type": "subslide"
    },
    "solution2": "hidden"
   },
   "outputs": [
    {
     "data": {
      "text/plain": [
       "{(('cgi_decode', 8), ('cgi_decode', 9)),\n",
       " (('cgi_decode', 8), ('cgi_decode', 10)),\n",
       " (('cgi_decode', 8), ('cgi_decode', 11)),\n",
       " (('cgi_decode', 8), ('cgi_decode', 12)),\n",
       " (('cgi_decode', 8), ('cgi_decode', 15)),\n",
       " (('cgi_decode', 9), ('cgi_decode', 8)),\n",
       " (('cgi_decode', 10), ('cgi_decode', 8)),\n",
       " (('cgi_decode', 11), ('cgi_decode', 8)),\n",
       " (('cgi_decode', 12), ('cgi_decode', 8)),\n",
       " (('cgi_decode', 15), ('cgi_decode', 16)),\n",
       " (('cgi_decode', 16), ('cgi_decode', 17)),\n",
       " (('cgi_decode', 17), ('cgi_decode', 18)),\n",
       " (('cgi_decode', 18), ('cgi_decode', 19)),\n",
       " (('cgi_decode', 19), ('cgi_decode', 20)),\n",
       " (('cgi_decode', 19), ('cgi_decode', 21)),\n",
       " (('cgi_decode', 20), ('cgi_decode', 31)),\n",
       " (('cgi_decode', 21), ('cgi_decode', 22)),\n",
       " (('cgi_decode', 21), ('cgi_decode', 30)),\n",
       " (('cgi_decode', 22), ('cgi_decode', 23)),\n",
       " (('cgi_decode', 23), ('cgi_decode', 24)),\n",
       " (('cgi_decode', 24), ('cgi_decode', 28)),\n",
       " (('cgi_decode', 30), ('cgi_decode', 31)),\n",
       " (('cgi_decode', 31), ('cgi_decode', 17))}"
      ]
     },
     "execution_count": 87,
     "metadata": {},
     "output_type": "execute_result"
    }
   ],
   "source": [
    "with BranchCoverage() as cov_fuzz:\n",
    "    try:\n",
    "        cgi_decode(s)\n",
    "    except:\n",
    "        pass\n",
    "cov_fuzz.coverage()"
   ]
  },
  {
   "cell_type": "code",
   "execution_count": 88,
   "metadata": {
    "execution": {
     "iopub.execute_input": "2025-10-26T13:23:41.045657Z",
     "iopub.status.busy": "2025-10-26T13:23:41.045567Z",
     "iopub.status.idle": "2025-10-26T13:23:41.048119Z",
     "shell.execute_reply": "2025-10-26T13:23:41.047811Z"
    },
    "slideshow": {
     "slide_type": "subslide"
    },
    "solution2": "hidden"
   },
   "outputs": [
    {
     "data": {
      "text/plain": [
       "{(('cgi_decode', 17), ('cgi_decode', 32)),\n",
       " (('cgi_decode', 24), ('cgi_decode', 25)),\n",
       " (('cgi_decode', 25), ('cgi_decode', 26)),\n",
       " (('cgi_decode', 26), ('cgi_decode', 31)),\n",
       " (('cgi_decode', 32), ('cgi_decode', 8))}"
      ]
     },
     "execution_count": 88,
     "metadata": {},
     "output_type": "execute_result"
    }
   ],
   "source": [
    "cov_max.coverage() - cov_fuzz.coverage()"
   ]
  },
  {
   "cell_type": "code",
   "execution_count": 89,
   "metadata": {
    "execution": {
     "iopub.execute_input": "2025-10-26T13:23:41.049424Z",
     "iopub.status.busy": "2025-10-26T13:23:41.049339Z",
     "iopub.status.idle": "2025-10-26T13:23:41.051391Z",
     "shell.execute_reply": "2025-10-26T13:23:41.051143Z"
    },
    "slideshow": {
     "slide_type": "subslide"
    },
    "solution2": "hidden"
   },
   "outputs": [],
   "source": [
    "def population_branch_coverage(population, function):\n",
    "    cumulative_coverage = []\n",
    "    all_coverage = set()\n",
    "\n",
    "    for s in population:\n",
    "        with BranchCoverage() as cov:\n",
    "            try:\n",
    "                function(s)\n",
    "            except Exception:\n",
    "                pass\n",
    "        all_coverage |= cov.coverage()\n",
    "        cumulative_coverage.append(len(all_coverage))\n",
    "\n",
    "    return all_coverage, cumulative_coverage"
   ]
  },
  {
   "cell_type": "code",
   "execution_count": 90,
   "metadata": {
    "button": false,
    "execution": {
     "iopub.execute_input": "2025-10-26T13:23:41.052687Z",
     "iopub.status.busy": "2025-10-26T13:23:41.052605Z",
     "iopub.status.idle": "2025-10-26T13:23:41.075370Z",
     "shell.execute_reply": "2025-10-26T13:23:41.075005Z"
    },
    "new_sheet": false,
    "run_control": {
     "read_only": false
    },
    "slideshow": {
     "slide_type": "subslide"
    },
    "solution2": "hidden"
   },
   "outputs": [],
   "source": [
    "all_branch_coverage, cumulative_branch_coverage = population_branch_coverage(\n",
    "    hundred_inputs(), cgi_decode)"
   ]
  },
  {
   "cell_type": "code",
   "execution_count": 91,
   "metadata": {
    "button": false,
    "execution": {
     "iopub.execute_input": "2025-10-26T13:23:41.076734Z",
     "iopub.status.busy": "2025-10-26T13:23:41.076639Z",
     "iopub.status.idle": "2025-10-26T13:23:41.130722Z",
     "shell.execute_reply": "2025-10-26T13:23:41.130460Z"
    },
    "new_sheet": false,
    "run_control": {
     "read_only": false
    },
    "slideshow": {
     "slide_type": "fragment"
    },
    "solution2": "hidden"
   },
   "outputs": [
    {
     "data": {
      "text/plain": [
       "Text(0, 0.5, 'line pairs covered')"
      ]
     },
     "execution_count": 91,
     "metadata": {},
     "output_type": "execute_result"
    },
    {
     "data": {
      "image/png": "[encoded data removed]",
      "text/plain": [
       "<Figure size 640x480 with 1 Axes>"
      ]
     },
     "metadata": {},
     "output_type": "display_data"
    }
   ],
   "source": [
    "plt.plot(cumulative_branch_coverage)\n",
    "plt.title('Branch coverage of cgi_decode() with random inputs')\n",
    "plt.xlabel('# of inputs')\n",
    "plt.ylabel('line pairs covered')"
   ]
  },
  {
   "cell_type": "code",
   "execution_count": 92,
   "metadata": {
    "execution": {
     "iopub.execute_input": "2025-10-26T13:23:41.132477Z",
     "iopub.status.busy": "2025-10-26T13:23:41.132360Z",
     "iopub.status.idle": "2025-10-26T13:23:41.134469Z",
     "shell.execute_reply": "2025-10-26T13:23:41.134219Z"
    },
    "slideshow": {
     "slide_type": "subslide"
    },
    "solution2": "hidden"
   },
   "outputs": [
    {
     "data": {
      "text/plain": [
       "28"
      ]
     },
     "execution_count": 92,
     "metadata": {},
     "output_type": "execute_result"
    }
   ],
   "source": [
    "len(cov_max.coverage())"
   ]
  },
  {
   "cell_type": "code",
   "execution_count": 93,
   "metadata": {
    "execution": {
     "iopub.execute_input": "2025-10-26T13:23:41.135629Z",
     "iopub.status.busy": "2025-10-26T13:23:41.135529Z",
     "iopub.status.idle": "2025-10-26T13:23:41.137422Z",
     "shell.execute_reply": "2025-10-26T13:23:41.137209Z"
    },
    "slideshow": {
     "slide_type": "fragment"
    },
    "solution2": "hidden"
   },
   "outputs": [
    {
     "data": {
      "text/plain": [
       "set()"
      ]
     },
     "execution_count": 93,
     "metadata": {},
     "output_type": "execute_result"
    }
   ],
   "source": [
    "all_branch_coverage - cov_max.coverage()"
   ]
  },
  {
   "cell_type": "markdown",
   "metadata": {
    "slideshow": {
     "slide_type": "fragment"
    },
    "solution2": "hidden"
   },
   "source": [
    "The additional coverage comes from the exception raised via an illegal input (say, `%g`)."
   ]
  },
  {
   "cell_type": "code",
   "execution_count": 94,
   "metadata": {
    "execution": {
     "iopub.execute_input": "2025-10-26T13:23:41.138882Z",
     "iopub.status.busy": "2025-10-26T13:23:41.138736Z",
     "iopub.status.idle": "2025-10-26T13:23:41.141006Z",
     "shell.execute_reply": "2025-10-26T13:23:41.140806Z"
    },
    "slideshow": {
     "slide_type": "fragment"
    },
    "solution2": "hidden"
   },
   "outputs": [
    {
     "data": {
      "text/plain": [
       "{(('cgi_decode', 32), ('cgi_decode', 8))}"
      ]
     },
     "execution_count": 94,
     "metadata": {},
     "output_type": "execute_result"
    }
   ],
   "source": [
    "cov_max.coverage() - all_branch_coverage"
   ]
  },
  {
   "attachments": {},
   "cell_type": "markdown",
   "metadata": {
    "slideshow": {
     "slide_type": "fragment"
    },
    "solution2": "hidden"
   },
   "source": [
    "This is an artifact coming from the subsequent execution of `cgi_decode()` when computing `cov_max`."
   ]
  },
  {
   "cell_type": "markdown",
   "metadata": {
    "slideshow": {
     "slide_type": "subslide"
    },
    "solution2": "hidden",
    "solution2_first": true
   },
   "source": [
    "#### Part 3: Average coverage\n",
    "\n",
    "Again, repeat the above experiments with branch coverage.  Does `fuzzer()` cover all branches, and if so, how many tests does it take on average?"
   ]
  },
  {
   "cell_type": "markdown",
   "metadata": {
    "slideshow": {
     "slide_type": "subslide"
    },
    "solution2": "hidden"
   },
   "source": [
    "**Solution.** We repeat the experiments we ran with line coverage with branch coverage."
   ]
  },
  {
   "cell_type": "code",
   "execution_count": 95,
   "metadata": {
    "button": false,
    "execution": {
     "iopub.execute_input": "2025-10-26T13:23:41.142267Z",
     "iopub.status.busy": "2025-10-26T13:23:41.142180Z",
     "iopub.status.idle": "2025-10-26T13:23:43.034221Z",
     "shell.execute_reply": "2025-10-26T13:23:43.033902Z"
    },
    "new_sheet": false,
    "run_control": {
     "read_only": false
    },
    "slideshow": {
     "slide_type": "fragment"
    },
    "solution2": "hidden"
   },
   "outputs": [],
   "source": [
    "runs = 100\n",
    "\n",
    "# Create an array with TRIALS elements, all zero\n",
    "sum_coverage = [0] * trials\n",
    "\n",
    "for run in range(runs):\n",
    "    all_branch_coverage, coverage = population_branch_coverage(\n",
    "        hundred_inputs(), cgi_decode)\n",
    "    assert len(coverage) == trials\n",
    "    for i in range(trials):\n",
    "        sum_coverage[i] += coverage[i]\n",
    "\n",
    "average_coverage = []\n",
    "for i in range(trials):\n",
    "    average_coverage.append(sum_coverage[i] / runs)"
   ]
  },
  {
   "cell_type": "code",
   "execution_count": 96,
   "metadata": {
    "button": false,
    "execution": {
     "iopub.execute_input": "2025-10-26T13:23:43.036176Z",
     "iopub.status.busy": "2025-10-26T13:23:43.036045Z",
     "iopub.status.idle": "2025-10-26T13:23:43.091067Z",
     "shell.execute_reply": "2025-10-26T13:23:43.090706Z"
    },
    "new_sheet": false,
    "run_control": {
     "read_only": false
    },
    "slideshow": {
     "slide_type": "subslide"
    },
    "solution2": "hidden"
   },
   "outputs": [
    {
     "data": {
      "text/plain": [
       "Text(0, 0.5, 'line pairs covered')"
      ]
     },
     "execution_count": 96,
     "metadata": {},
     "output_type": "execute_result"
    },
    {
     "data": {
      "image/png": "[encoded data removed]",
      "text/plain": [
       "<Figure size 640x480 with 1 Axes>"
      ]
     },
     "metadata": {},
     "output_type": "display_data"
    }
   ],
   "source": [
    "plt.plot(average_coverage)\n",
    "plt.title('Average branch coverage of cgi_decode() with random inputs')\n",
    "plt.xlabel('# of inputs')\n",
    "plt.ylabel('line pairs covered')"
   ]
  },
  {
   "cell_type": "markdown",
   "metadata": {
    "slideshow": {
     "slide_type": "fragment"
    },
    "solution2": "hidden"
   },
   "source": [
    "We see that achieving branch coverage takes longer than statement coverage; it simply is a more difficult criterion to satisfy with random inputs."
   ]
  }
 ],
 "metadata": {
  "ipub": {
   "bibliography": "fuzzingbook.bib",
   "toc": true
  },
  "kernelspec": {
   "display_name": "3.10.2",
   "language": "python",
   "name": "python3"
  },
  "language_info": {
   "codemirror_mode": {
    "name": "ipython",
    "version": 3
   },
   "file_extension": ".py",
   "mimetype": "text/x-python",
   "name": "python",
   "nbconvert_exporter": "python",
   "pygments_lexer": "ipython3",
   "version": "3.13.4"
  },
  "toc": {
   "base_numbering": 1,
   "nav_menu": {},
   "number_sections": true,
   "sideBar": true,
   "skip_h1_title": true,
   "title_cell": "",
   "title_sidebar": "Contents",
   "toc_cell": false,
   "toc_position": {},
   "toc_section_display": true,
   "toc_window_display": true
  },
  "toc-autonumbering": false
 },
 "nbformat": 4,
 "nbformat_minor": 4
}