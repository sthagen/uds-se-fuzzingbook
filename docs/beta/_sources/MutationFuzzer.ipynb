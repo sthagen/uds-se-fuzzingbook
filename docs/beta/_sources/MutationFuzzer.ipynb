{
 "cells": [
  {
   "cell_type": "markdown",
   "metadata": {
    "button": false,
    "new_sheet": false,
    "run_control": {
     "read_only": false
    },
    "slideshow": {
     "slide_type": "slide"
    },
    "tags": []
   },
   "source": [
    "# Mutation-Based Fuzzing\n",
    "\n",
    "Most [randomly generated inputs](Fuzzer.ipynb) are syntactically _invalid_ and thus are quickly rejected by the processing program.  To exercise functionality beyond input processing, we must increase chances to obtain valid inputs.  One such way is so-called *mutational fuzzing* – that is, introducing small changes to existing inputs that may still keep the input valid, yet exercise new behavior.  We show how to create such mutations, and how to guide them towards yet uncovered code, applying central concepts from the popular AFL fuzzer."
   ]
  },
  {
   "cell_type": "code",
   "execution_count": 1,
   "metadata": {
    "execution": {
     "iopub.execute_input": "2025-10-26T13:23:50.128849Z",
     "iopub.status.busy": "2025-10-26T13:23:50.123139Z",
     "iopub.status.idle": "2025-10-26T13:23:50.843393Z",
     "shell.execute_reply": "2025-10-26T13:23:50.843136Z"
    },
    "slideshow": {
     "slide_type": "skip"
    }
   },
   "outputs": [
    {
     "data": {
      "text/html": [
       "\n",
       "        <iframe\n",
       "            width=\"640\"\n",
       "            height=\"360\"\n",
       "            src=\"https://www.youtube-nocookie.com/embed/5ROhc_42jQU\"\n",
       "            frameborder=\"0\"\n",
       "            allowfullscreen\n",
       "            \n",
       "        ></iframe>\n",
       "        "
      ],
      "text/plain": [
       "<IPython.lib.display.IFrame at 0x10b6def90>"
      ]
     },
     "execution_count": 1,
     "metadata": {},
     "output_type": "execute_result"
    }
   ],
   "source": [
    "from bookutils import YouTubeVideo\n",
    "YouTubeVideo('5ROhc_42jQU')"
   ]
  },
  {
   "cell_type": "markdown",
   "metadata": {
    "button": false,
    "new_sheet": false,
    "run_control": {
     "read_only": false
    },
    "slideshow": {
     "slide_type": "skip"
    }
   },
   "source": [
    "**Prerequisites**\n",
    "\n",
    "* You should know how basic fuzzing works; for instance, from the [\"Fuzzing\"](Fuzzer.ipynb) chapter.\n",
    "* You should understand the basics of [obtaining coverage](Coverage.ipynb)."
   ]
  },
  {
   "cell_type": "markdown",
   "metadata": {
    "slideshow": {
     "slide_type": "slide"
    }
   },
   "source": [
    "## Synopsis\n",
    "To [use the code provided in this chapter](Importing.ipynb), write\n",
    "\n",
    "```python\n",
    ">>> from fuzzingbook.MutationFuzzer import <identifier>\n",
    "```\n",
    "\n",
    "and then make use of the following features.\n",
    "\n",
    "**Note**: The examples in this section only work after the rest of the cells have been executed.\n"
   ]
  },
  {
   "cell_type": "code",
   "execution_count": 56,
   "metadata": {
    "execution": {
     "iopub.execute_input": "2025-10-26T13:23:53.063241Z",
     "iopub.status.busy": "2025-10-26T13:23:53.063128Z",
     "iopub.status.idle": "2025-10-26T13:23:53.065506Z",
     "shell.execute_reply": "2025-10-26T13:23:53.065291Z"
    },
    "slideshow": {
     "slide_type": "subslide"
    }
   },
   "outputs": [
    {
     "data": {
      "text/plain": [
       "['http://www.google.com/search?q=fuzzing',\n",
       " ']hTtp://ww,google\\x1ecom/searc?q=fuzzig',\n",
       " 'hppY://www.google.cm/seacH?q=fduzzing',\n",
       " 'http:&//www.goole.com/sear#h?q=fuzz(ingw',\n",
       " 'http://vww.googlje.om/{earch?q5fuzzing',\n",
       " 'http://www.google.com/seach?q=uzzing',\n",
       " 'hv,tp*//www.ggogle.com/seagrch/q=fuzzing',\n",
       " \"h(tpy:/wGw.goo'l%.com/searc?q=fuz~ing\",\n",
       " 'hp://www.gooelecom/)search?q=fuz?zing?',\n",
       " \"httpv//www.goo6gl.#om'search?q=Puzzin\"]"
      ]
     },
     "execution_count": 56,
     "metadata": {},
     "output_type": "execute_result"
    }
   ],
   "source": [
    "seed_input = \"http://www.google.com/search?q=fuzzing\"\n",
    "mutation_fuzzer = MutationFuzzer(seed=[seed_input])\n",
    "[mutation_fuzzer.fuzz() for i in range(10)]"
   ]
  },
  {
   "cell_type": "markdown",
   "metadata": {
    "slideshow": {
     "slide_type": "fragment"
    }
   },
   "source": [
    "The `MutationCoverageFuzzer` maintains a _population_ of inputs, which are then evolved in order to maximize coverage."
   ]
  },
  {
   "cell_type": "code",
   "execution_count": 57,
   "metadata": {
    "execution": {
     "iopub.execute_input": "2025-10-26T13:23:53.066745Z",
     "iopub.status.busy": "2025-10-26T13:23:53.066657Z",
     "iopub.status.idle": "2025-10-26T13:23:54.656584Z",
     "shell.execute_reply": "2025-10-26T13:23:54.656286Z"
    },
    "slideshow": {
     "slide_type": "fragment"
    }
   },
   "outputs": [
    {
     "data": {
      "text/plain": [
       "['http://www.google.com/search?q=fuzzing',\n",
       " 'http://www.google.com</searc?q=fzzinw',\n",
       " 'http://twww.google.com/searc`pnu<zzing',\n",
       " 'http://Btwnww.gIoog|e.cnsearc`pn<zzing',\n",
       " 'http://www\\x0egoogle.com</sea#r#?q=_fdz0zinw']"
      ]
     },
     "execution_count": 57,
     "metadata": {},
     "output_type": "execute_result"
    }
   ],
   "source": [
    "mutation_fuzzer = MutationCoverageFuzzer(seed=[seed_input])\n",
    "mutation_fuzzer.runs(http_runner, trials=10000)\n",
    "mutation_fuzzer.population[:5]"
   ]
  },
  {
   "cell_type": "code",
   "execution_count": 58,
   "metadata": {
    "execution": {
     "iopub.execute_input": "2025-10-26T13:23:54.658055Z",
     "iopub.status.busy": "2025-10-26T13:23:54.657920Z",
     "iopub.status.idle": "2025-10-26T13:23:54.659655Z",
     "shell.execute_reply": "2025-10-26T13:23:54.659418Z"
    },
    "slideshow": {
     "slide_type": "fragment"
    },
    "tags": [
     "remove-input"
    ]
   },
   "outputs": [],
   "source": [
    "# ignore\n",
    "from ClassDiagram import display_class_hierarchy"
   ]
  },
  {
   "cell_type": "code",
   "execution_count": 59,
   "metadata": {
    "execution": {
     "iopub.execute_input": "2025-10-26T13:23:54.660917Z",
     "iopub.status.busy": "2025-10-26T13:23:54.660826Z",
     "iopub.status.idle": "2025-10-26T13:23:55.505097Z",
     "shell.execute_reply": "2025-10-26T13:23:55.504791Z"
    },
    "slideshow": {
     "slide_type": "subslide"
    },
    "tags": [
     "remove-input"
    ]
   },
   "outputs": [
    {
     "data": {
      "image/svg+xml": [
       "<?xml version=\"1.0\" encoding=\"UTF-8\" standalone=\"no\"?>\n",
       "<!DOCTYPE svg PUBLIC \"-//W3C//DTD SVG 1.1//EN\"\n",
       " \"http://www.w3.org/Graphics/SVG/1.1/DTD/svg11.dtd\">\n",
       "<!-- Generated by graphviz version 13.1.2 (20250808.2320)\n",
       " -->\n",
       "<!-- Pages: 1 -->\n",
       "<svg width=\"318pt\" height=\"325pt\"\n",
       " viewBox=\"0.00 0.00 318.00 325.00\" xmlns=\"http://www.w3.org/2000/svg\" xmlns:xlink=\"http://www.w3.org/1999/xlink\">\n",
       "<g id=\"graph0\" class=\"graph\" transform=\"scale(1 1) rotate(0) translate(4 321.25)\">\n",
       "<g id=\"a_graph0\"><a xlink:title=\"MutationCoverageFuzzer class hierarchy\">\n",
       "<polygon fill=\"white\" stroke=\"none\" points=\"-4,4 -4,-321.25 314.38,-321.25 314.38,4 -4,4\"/>\n",
       "</a>\n",
       "</g>\n",
       "<!-- MutationCoverageFuzzer -->\n",
       "<g id=\"node1\" class=\"node\">\n",
       "<title>MutationCoverageFuzzer</title>\n",
       "<g id=\"a_node1\"><a xlink:href=\"#\" xlink:title=\"class MutationCoverageFuzzer:&#10;Fuzz with mutated inputs based on coverage\">\n",
       "<polygon fill=\"none\" stroke=\"black\" points=\"0,-0.5 0,-60 173.5,-60 173.5,-0.5 0,-0.5\"/>\n",
       "<text xml:space=\"preserve\" text-anchor=\"start\" x=\"8\" y=\"-43.7\" font-family=\"Patua One, Helvetica, sans-serif\" font-weight=\"bold\" font-size=\"14.00\" fill=\"#b03a2e\">MutationCoverageFuzzer</text>\n",
       "<polyline fill=\"none\" stroke=\"black\" points=\"0,-34 173.5,-34\"/>\n",
       "<g id=\"a_node1_0\"><a xlink:href=\"#\" xlink:title=\"MutationCoverageFuzzer\">\n",
       "<g id=\"a_node1_1\"><a xlink:href=\"#\" xlink:title=\"run(self, runner: FunctionCoverageRunner) &#45;&gt; Any:&#10;Run function(inp) while tracking coverage.&#10;If we reach new coverage,&#10;add inp to population and its coverage to population_coverage\">\n",
       "<text xml:space=\"preserve\" text-anchor=\"start\" x=\"65.75\" y=\"-21.5\" font-family=\"'Fira Mono', 'Source Code Pro', 'Courier', monospace\" font-weight=\"bold\" font-style=\"italic\" font-size=\"10.00\">run()</text>\n",
       "</a>\n",
       "</g>\n",
       "<g id=\"a_node1_2\"><a xlink:href=\"#\" xlink:title=\"reset(self) &#45;&gt; None:&#10;Set population to initial seed.&#10;To be overloaded in subclasses.\">\n",
       "<text xml:space=\"preserve\" text-anchor=\"start\" x=\"65.75\" y=\"-8.75\" font-family=\"'Fira Mono', 'Source Code Pro', 'Courier', monospace\" font-style=\"italic\" font-size=\"10.00\">reset()</text>\n",
       "</a>\n",
       "</g>\n",
       "</a>\n",
       "</g>\n",
       "</a>\n",
       "</g>\n",
       "</g>\n",
       "<!-- MutationFuzzer -->\n",
       "<g id=\"node2\" class=\"node\">\n",
       "<title>MutationFuzzer</title>\n",
       "<g id=\"a_node2\"><a xlink:href=\"#\" xlink:title=\"class MutationFuzzer:&#10;Base class for mutational fuzzing\">\n",
       "<polygon fill=\"none\" stroke=\"black\" points=\"24.75,-97 24.75,-194.75 148.75,-194.75 148.75,-97 24.75,-97\"/>\n",
       "<text xml:space=\"preserve\" text-anchor=\"start\" x=\"36.88\" y=\"-178.45\" font-family=\"Patua One, Helvetica, sans-serif\" font-weight=\"bold\" font-size=\"14.00\" fill=\"#b03a2e\">MutationFuzzer</text>\n",
       "<polyline fill=\"none\" stroke=\"black\" points=\"24.75,-168.75 148.75,-168.75\"/>\n",
       "<g id=\"a_node2_3\"><a xlink:href=\"#\" xlink:title=\"MutationFuzzer\">\n",
       "<g id=\"a_node2_4\"><a xlink:href=\"#\" xlink:title=\"__init__(self, seed: List[str], min_mutations: int = 2, max_mutations: int = 10) &#45;&gt; None:&#10;Constructor.&#10;`seed` &#45; a list of (input) strings to mutate.&#10;`min_mutations` &#45; the minimum number of mutations to apply.&#10;`max_mutations` &#45; the maximum number of mutations to apply.\">\n",
       "<text xml:space=\"preserve\" text-anchor=\"start\" x=\"32.75\" y=\"-156.25\" font-family=\"'Fira Mono', 'Source Code Pro', 'Courier', monospace\" font-weight=\"bold\" font-style=\"italic\" font-size=\"10.00\">__init__()</text>\n",
       "</a>\n",
       "</g>\n",
       "<g id=\"a_node2_5\"><a xlink:href=\"#\" xlink:title=\"fuzz(self) &#45;&gt; str:&#10;Return fuzz input\">\n",
       "<text xml:space=\"preserve\" text-anchor=\"start\" x=\"32.75\" y=\"-143.5\" font-family=\"'Fira Mono', 'Source Code Pro', 'Courier', monospace\" font-weight=\"bold\" font-style=\"italic\" font-size=\"10.00\">fuzz()</text>\n",
       "</a>\n",
       "</g>\n",
       "<g id=\"a_node2_6\"><a xlink:href=\"#\" xlink:title=\"create_candidate(self) &#45;&gt; str:&#10;Create a new candidate by mutating a population member\">\n",
       "<text xml:space=\"preserve\" text-anchor=\"start\" x=\"32.75\" y=\"-129.75\" font-family=\"'Fira Mono', 'Source Code Pro', 'Courier', monospace\" font-size=\"10.00\">create_candidate()</text>\n",
       "</a>\n",
       "</g>\n",
       "<g id=\"a_node2_7\"><a xlink:href=\"#\" xlink:title=\"mutate(self, inp: str) &#45;&gt; str\">\n",
       "<text xml:space=\"preserve\" text-anchor=\"start\" x=\"32.75\" y=\"-117\" font-family=\"'Fira Mono', 'Source Code Pro', 'Courier', monospace\" font-size=\"10.00\">mutate()</text>\n",
       "</a>\n",
       "</g>\n",
       "<g id=\"a_node2_8\"><a xlink:href=\"#\" xlink:title=\"reset(self) &#45;&gt; None:&#10;Set population to initial seed.&#10;To be overloaded in subclasses.\">\n",
       "<text xml:space=\"preserve\" text-anchor=\"start\" x=\"32.75\" y=\"-105.25\" font-family=\"'Fira Mono', 'Source Code Pro', 'Courier', monospace\" font-style=\"italic\" font-size=\"10.00\">reset()</text>\n",
       "</a>\n",
       "</g>\n",
       "</a>\n",
       "</g>\n",
       "</a>\n",
       "</g>\n",
       "</g>\n",
       "<!-- MutationCoverageFuzzer&#45;&gt;MutationFuzzer -->\n",
       "<g id=\"edge1\" class=\"edge\">\n",
       "<title>MutationCoverageFuzzer&#45;&gt;MutationFuzzer</title>\n",
       "<path fill=\"none\" stroke=\"black\" d=\"M86.75,-60.22C86.75,-67.9 86.75,-76.48 86.75,-85.15\"/>\n",
       "<polygon fill=\"none\" stroke=\"black\" points=\"83.25,-85.02 86.75,-95.02 90.25,-85.02 83.25,-85.02\"/>\n",
       "</g>\n",
       "<!-- Fuzzer -->\n",
       "<g id=\"node3\" class=\"node\">\n",
       "<title>Fuzzer</title>\n",
       "<g id=\"a_node3\"><a xlink:href=\"Fuzzer.ipynb\" xlink:title=\"class Fuzzer:&#10;Base class for fuzzers.\">\n",
       "<polygon fill=\"none\" stroke=\"black\" points=\"48.75,-231.75 48.75,-316.75 124.75,-316.75 124.75,-231.75 48.75,-231.75\"/>\n",
       "<text xml:space=\"preserve\" text-anchor=\"start\" x=\"66.12\" y=\"-300.45\" font-family=\"Patua One, Helvetica, sans-serif\" font-weight=\"bold\" font-size=\"14.00\" fill=\"#b03a2e\">Fuzzer</text>\n",
       "<polyline fill=\"none\" stroke=\"black\" points=\"48.75,-290.75 124.75,-290.75\"/>\n",
       "<g id=\"a_node3_9\"><a xlink:href=\"#\" xlink:title=\"Fuzzer\">\n",
       "<g id=\"a_node3_10\"><a xlink:href=\"Fuzzer.ipynb\" xlink:title=\"__init__(self) &#45;&gt; None:&#10;Constructor\">\n",
       "<text xml:space=\"preserve\" text-anchor=\"start\" x=\"56.75\" y=\"-278.25\" font-family=\"'Fira Mono', 'Source Code Pro', 'Courier', monospace\" font-weight=\"bold\" font-style=\"italic\" font-size=\"10.00\">__init__()</text>\n",
       "</a>\n",
       "</g>\n",
       "<g id=\"a_node3_11\"><a xlink:href=\"Fuzzer.ipynb\" xlink:title=\"fuzz(self) &#45;&gt; str:&#10;Return fuzz input\">\n",
       "<text xml:space=\"preserve\" text-anchor=\"start\" x=\"56.75\" y=\"-265.5\" font-family=\"'Fira Mono', 'Source Code Pro', 'Courier', monospace\" font-weight=\"bold\" font-style=\"italic\" font-size=\"10.00\">fuzz()</text>\n",
       "</a>\n",
       "</g>\n",
       "<g id=\"a_node3_12\"><a xlink:href=\"Fuzzer.ipynb\" xlink:title=\"run(self, runner: Fuzzer.Runner = &lt;Fuzzer.Runner object at 0x10b86d2b0&gt;) &#45;&gt; Tuple[subprocess.CompletedProcess, str]:&#10;Run `runner` with fuzz input\">\n",
       "<text xml:space=\"preserve\" text-anchor=\"start\" x=\"56.75\" y=\"-252.75\" font-family=\"'Fira Mono', 'Source Code Pro', 'Courier', monospace\" font-weight=\"bold\" font-style=\"italic\" font-size=\"10.00\">run()</text>\n",
       "</a>\n",
       "</g>\n",
       "<g id=\"a_node3_13\"><a xlink:href=\"Fuzzer.ipynb\" xlink:title=\"runs(self, runner: Fuzzer.Runner = &lt;Fuzzer.PrintRunner object at 0x10b86d400&gt;, trials: int = 10) &#45;&gt; List[Tuple[subprocess.CompletedProcess, str]]:&#10;Run `runner` with fuzz input, `trials` times\">\n",
       "<text xml:space=\"preserve\" text-anchor=\"start\" x=\"56.75\" y=\"-240\" font-family=\"'Fira Mono', 'Source Code Pro', 'Courier', monospace\" font-weight=\"bold\" font-size=\"10.00\">runs()</text>\n",
       "</a>\n",
       "</g>\n",
       "</a>\n",
       "</g>\n",
       "</a>\n",
       "</g>\n",
       "</g>\n",
       "<!-- MutationFuzzer&#45;&gt;Fuzzer -->\n",
       "<g id=\"edge2\" class=\"edge\">\n",
       "<title>MutationFuzzer&#45;&gt;Fuzzer</title>\n",
       "<path fill=\"none\" stroke=\"black\" d=\"M86.75,-195.01C86.75,-203.17 86.75,-211.68 86.75,-219.95\"/>\n",
       "<polygon fill=\"none\" stroke=\"black\" points=\"83.25,-219.93 86.75,-229.93 90.25,-219.93 83.25,-219.93\"/>\n",
       "</g>\n",
       "<!-- Legend -->\n",
       "<g id=\"node4\" class=\"node\">\n",
       "<title>Legend</title>\n",
       "<text xml:space=\"preserve\" text-anchor=\"start\" x=\"191.12\" y=\"-46.25\" font-family=\"Patua One, Helvetica, sans-serif\" font-weight=\"bold\" font-size=\"10.00\" fill=\"#b03a2e\">Legend</text>\n",
       "<text xml:space=\"preserve\" text-anchor=\"start\" x=\"191.12\" y=\"-36.25\" font-family=\"Patua One, Helvetica, sans-serif\" font-size=\"10.00\">• </text>\n",
       "<text xml:space=\"preserve\" text-anchor=\"start\" x=\"197.12\" y=\"-36.25\" font-family=\"'Fira Mono', 'Source Code Pro', 'Courier', monospace\" font-weight=\"bold\" font-size=\"8.00\">public_method()</text>\n",
       "<text xml:space=\"preserve\" text-anchor=\"start\" x=\"191.12\" y=\"-26.25\" font-family=\"Patua One, Helvetica, sans-serif\" font-size=\"10.00\">• </text>\n",
       "<text xml:space=\"preserve\" text-anchor=\"start\" x=\"197.12\" y=\"-26.25\" font-family=\"'Fira Mono', 'Source Code Pro', 'Courier', monospace\" font-size=\"8.00\">private_method()</text>\n",
       "<text xml:space=\"preserve\" text-anchor=\"start\" x=\"191.12\" y=\"-16.25\" font-family=\"Patua One, Helvetica, sans-serif\" font-size=\"10.00\">• </text>\n",
       "<text xml:space=\"preserve\" text-anchor=\"start\" x=\"197.12\" y=\"-16.25\" font-family=\"'Fira Mono', 'Source Code Pro', 'Courier', monospace\" font-style=\"italic\" font-size=\"8.00\">overloaded_method()</text>\n",
       "<text xml:space=\"preserve\" text-anchor=\"start\" x=\"191.12\" y=\"-7.2\" font-family=\"Helvetica,sans-Serif\" font-size=\"9.00\">Hover over names to see doc</text>\n",
       "</g>\n",
       "</g>\n",
       "</svg>\n"
      ],
      "text/html": [
       "<?xml version=\"1.0\" encoding=\"UTF-8\" standalone=\"no\"?>\n",
       "<!DOCTYPE svg PUBLIC \"-//W3C//DTD SVG 1.1//EN\"\n",
       " \"http://www.w3.org/Graphics/SVG/1.1/DTD/svg11.dtd\">\n",
       "<!-- Generated by graphviz version 13.1.2 (20250808.2320)\n",
       " -->\n",
       "<!-- Pages: 1 -->\n",
       "<svg width=\"318pt\" height=\"325pt\"\n",
       " viewBox=\"0.00 0.00 318.00 325.00\" xmlns=\"http://www.w3.org/2000/svg\" xmlns:xlink=\"http://www.w3.org/1999/xlink\">\n",
       "<g id=\"graph0\" class=\"graph\" transform=\"scale(1 1) rotate(0) translate(4 321.25)\">\n",
       "<g id=\"a_graph0\"><a xlink:title=\"MutationCoverageFuzzer class hierarchy\">\n",
       "<polygon fill=\"white\" stroke=\"none\" points=\"-4,4 -4,-321.25 314.38,-321.25 314.38,4 -4,4\"/>\n",
       "</a>\n",
       "</g>\n",
       "<!-- MutationCoverageFuzzer -->\n",
       "<g id=\"node1\" class=\"node\">\n",
       "<title>MutationCoverageFuzzer</title>\n",
       "<g id=\"a_node1\"><a xlink:href=\"#\" xlink:title=\"class MutationCoverageFuzzer:&#10;Fuzz with mutated inputs based on coverage\">\n",
       "<polygon fill=\"none\" stroke=\"black\" points=\"0,-0.5 0,-60 173.5,-60 173.5,-0.5 0,-0.5\"/>\n",
       "<text xml:space=\"preserve\" text-anchor=\"start\" x=\"8\" y=\"-43.7\" font-family=\"Patua One, Helvetica, sans-serif\" font-weight=\"bold\" font-size=\"14.00\" fill=\"#b03a2e\">MutationCoverageFuzzer</text>\n",
       "<polyline fill=\"none\" stroke=\"black\" points=\"0,-34 173.5,-34\"/>\n",
       "<g id=\"a_node1_0\"><a xlink:href=\"#\" xlink:title=\"MutationCoverageFuzzer\">\n",
       "<g id=\"a_node1_1\"><a xlink:href=\"#\" xlink:title=\"run(self, runner: FunctionCoverageRunner) &#45;&gt; Any:&#10;Run function(inp) while tracking coverage.&#10;If we reach new coverage,&#10;add inp to population and its coverage to population_coverage\">\n",
       "<text xml:space=\"preserve\" text-anchor=\"start\" x=\"65.75\" y=\"-21.5\" font-family=\"'Fira Mono', 'Source Code Pro', 'Courier', monospace\" font-weight=\"bold\" font-style=\"italic\" font-size=\"10.00\">run()</text>\n",
       "</a>\n",
       "</g>\n",
       "<g id=\"a_node1_2\"><a xlink:href=\"#\" xlink:title=\"reset(self) &#45;&gt; None:&#10;Set population to initial seed.&#10;To be overloaded in subclasses.\">\n",
       "<text xml:space=\"preserve\" text-anchor=\"start\" x=\"65.75\" y=\"-8.75\" font-family=\"'Fira Mono', 'Source Code Pro', 'Courier', monospace\" font-style=\"italic\" font-size=\"10.00\">reset()</text>\n",
       "</a>\n",
       "</g>\n",
       "</a>\n",
       "</g>\n",
       "</a>\n",
       "</g>\n",
       "</g>\n",
       "<!-- MutationFuzzer -->\n",
       "<g id=\"node2\" class=\"node\">\n",
       "<title>MutationFuzzer</title>\n",
       "<g id=\"a_node2\"><a xlink:href=\"#\" xlink:title=\"class MutationFuzzer:&#10;Base class for mutational fuzzing\">\n",
       "<polygon fill=\"none\" stroke=\"black\" points=\"24.75,-97 24.75,-194.75 148.75,-194.75 148.75,-97 24.75,-97\"/>\n",
       "<text xml:space=\"preserve\" text-anchor=\"start\" x=\"36.88\" y=\"-178.45\" font-family=\"Patua One, Helvetica, sans-serif\" font-weight=\"bold\" font-size=\"14.00\" fill=\"#b03a2e\">MutationFuzzer</text>\n",
       "<polyline fill=\"none\" stroke=\"black\" points=\"24.75,-168.75 148.75,-168.75\"/>\n",
       "<g id=\"a_node2_3\"><a xlink:href=\"#\" xlink:title=\"MutationFuzzer\">\n",
       "<g id=\"a_node2_4\"><a xlink:href=\"#\" xlink:title=\"__init__(self, seed: List[str], min_mutations: int = 2, max_mutations: int = 10) &#45;&gt; None:&#10;Constructor.&#10;`seed` &#45; a list of (input) strings to mutate.&#10;`min_mutations` &#45; the minimum number of mutations to apply.&#10;`max_mutations` &#45; the maximum number of mutations to apply.\">\n",
       "<text xml:space=\"preserve\" text-anchor=\"start\" x=\"32.75\" y=\"-156.25\" font-family=\"'Fira Mono', 'Source Code Pro', 'Courier', monospace\" font-weight=\"bold\" font-style=\"italic\" font-size=\"10.00\">__init__()</text>\n",
       "</a>\n",
       "</g>\n",
       "<g id=\"a_node2_5\"><a xlink:href=\"#\" xlink:title=\"fuzz(self) &#45;&gt; str:&#10;Return fuzz input\">\n",
       "<text xml:space=\"preserve\" text-anchor=\"start\" x=\"32.75\" y=\"-143.5\" font-family=\"'Fira Mono', 'Source Code Pro', 'Courier', monospace\" font-weight=\"bold\" font-style=\"italic\" font-size=\"10.00\">fuzz()</text>\n",
       "</a>\n",
       "</g>\n",
       "<g id=\"a_node2_6\"><a xlink:href=\"#\" xlink:title=\"create_candidate(self) &#45;&gt; str:&#10;Create a new candidate by mutating a population member\">\n",
       "<text xml:space=\"preserve\" text-anchor=\"start\" x=\"32.75\" y=\"-129.75\" font-family=\"'Fira Mono', 'Source Code Pro', 'Courier', monospace\" font-size=\"10.00\">create_candidate()</text>\n",
       "</a>\n",
       "</g>\n",
       "<g id=\"a_node2_7\"><a xlink:href=\"#\" xlink:title=\"mutate(self, inp: str) &#45;&gt; str\">\n",
       "<text xml:space=\"preserve\" text-anchor=\"start\" x=\"32.75\" y=\"-117\" font-family=\"'Fira Mono', 'Source Code Pro', 'Courier', monospace\" font-size=\"10.00\">mutate()</text>\n",
       "</a>\n",
       "</g>\n",
       "<g id=\"a_node2_8\"><a xlink:href=\"#\" xlink:title=\"reset(self) &#45;&gt; None:&#10;Set population to initial seed.&#10;To be overloaded in subclasses.\">\n",
       "<text xml:space=\"preserve\" text-anchor=\"start\" x=\"32.75\" y=\"-105.25\" font-family=\"'Fira Mono', 'Source Code Pro', 'Courier', monospace\" font-style=\"italic\" font-size=\"10.00\">reset()</text>\n",
       "</a>\n",
       "</g>\n",
       "</a>\n",
       "</g>\n",
       "</a>\n",
       "</g>\n",
       "</g>\n",
       "<!-- MutationCoverageFuzzer&#45;&gt;MutationFuzzer -->\n",
       "<g id=\"edge1\" class=\"edge\">\n",
       "<title>MutationCoverageFuzzer&#45;&gt;MutationFuzzer</title>\n",
       "<path fill=\"none\" stroke=\"black\" d=\"M86.75,-60.22C86.75,-67.9 86.75,-76.48 86.75,-85.15\"/>\n",
       "<polygon fill=\"none\" stroke=\"black\" points=\"83.25,-85.02 86.75,-95.02 90.25,-85.02 83.25,-85.02\"/>\n",
       "</g>\n",
       "<!-- Fuzzer -->\n",
       "<g id=\"node3\" class=\"node\">\n",
       "<title>Fuzzer</title>\n",
       "<g id=\"a_node3\"><a xlink:href=\"Fuzzer.ipynb\" xlink:title=\"class Fuzzer:&#10;Base class for fuzzers.\">\n",
       "<polygon fill=\"none\" stroke=\"black\" points=\"48.75,-231.75 48.75,-316.75 124.75,-316.75 124.75,-231.75 48.75,-231.75\"/>\n",
       "<text xml:space=\"preserve\" text-anchor=\"start\" x=\"66.12\" y=\"-300.45\" font-family=\"Patua One, Helvetica, sans-serif\" font-weight=\"bold\" font-size=\"14.00\" fill=\"#b03a2e\">Fuzzer</text>\n",
       "<polyline fill=\"none\" stroke=\"black\" points=\"48.75,-290.75 124.75,-290.75\"/>\n",
       "<g id=\"a_node3_9\"><a xlink:href=\"#\" xlink:title=\"Fuzzer\">\n",
       "<g id=\"a_node3_10\"><a xlink:href=\"Fuzzer.ipynb\" xlink:title=\"__init__(self) &#45;&gt; None:&#10;Constructor\">\n",
       "<text xml:space=\"preserve\" text-anchor=\"start\" x=\"56.75\" y=\"-278.25\" font-family=\"'Fira Mono', 'Source Code Pro', 'Courier', monospace\" font-weight=\"bold\" font-style=\"italic\" font-size=\"10.00\">__init__()</text>\n",
       "</a>\n",
       "</g>\n",
       "<g id=\"a_node3_11\"><a xlink:href=\"Fuzzer.ipynb\" xlink:title=\"fuzz(self) &#45;&gt; str:&#10;Return fuzz input\">\n",
       "<text xml:space=\"preserve\" text-anchor=\"start\" x=\"56.75\" y=\"-265.5\" font-family=\"'Fira Mono', 'Source Code Pro', 'Courier', monospace\" font-weight=\"bold\" font-style=\"italic\" font-size=\"10.00\">fuzz()</text>\n",
       "</a>\n",
       "</g>\n",
       "<g id=\"a_node3_12\"><a xlink:href=\"Fuzzer.ipynb\" xlink:title=\"run(self, runner: Fuzzer.Runner = &lt;Fuzzer.Runner object at 0x10b86d2b0&gt;) &#45;&gt; Tuple[subprocess.CompletedProcess, str]:&#10;Run `runner` with fuzz input\">\n",
       "<text xml:space=\"preserve\" text-anchor=\"start\" x=\"56.75\" y=\"-252.75\" font-family=\"'Fira Mono', 'Source Code Pro', 'Courier', monospace\" font-weight=\"bold\" font-style=\"italic\" font-size=\"10.00\">run()</text>\n",
       "</a>\n",
       "</g>\n",
       "<g id=\"a_node3_13\"><a xlink:href=\"Fuzzer.ipynb\" xlink:title=\"runs(self, runner: Fuzzer.Runner = &lt;Fuzzer.PrintRunner object at 0x10b86d400&gt;, trials: int = 10) &#45;&gt; List[Tuple[subprocess.CompletedProcess, str]]:&#10;Run `runner` with fuzz input, `trials` times\">\n",
       "<text xml:space=\"preserve\" text-anchor=\"start\" x=\"56.75\" y=\"-240\" font-family=\"'Fira Mono', 'Source Code Pro', 'Courier', monospace\" font-weight=\"bold\" font-size=\"10.00\">runs()</text>\n",
       "</a>\n",
       "</g>\n",
       "</a>\n",
       "</g>\n",
       "</a>\n",
       "</g>\n",
       "</g>\n",
       "<!-- MutationFuzzer&#45;&gt;Fuzzer -->\n",
       "<g id=\"edge2\" class=\"edge\">\n",
       "<title>MutationFuzzer&#45;&gt;Fuzzer</title>\n",
       "<path fill=\"none\" stroke=\"black\" d=\"M86.75,-195.01C86.75,-203.17 86.75,-211.68 86.75,-219.95\"/>\n",
       "<polygon fill=\"none\" stroke=\"black\" points=\"83.25,-219.93 86.75,-229.93 90.25,-219.93 83.25,-219.93\"/>\n",
       "</g>\n",
       "<!-- Legend -->\n",
       "<g id=\"node4\" class=\"node\">\n",
       "<title>Legend</title>\n",
       "<text xml:space=\"preserve\" text-anchor=\"start\" x=\"191.12\" y=\"-46.25\" font-family=\"Patua One, Helvetica, sans-serif\" font-weight=\"bold\" font-size=\"10.00\" fill=\"#b03a2e\">Legend</text>\n",
       "<text xml:space=\"preserve\" text-anchor=\"start\" x=\"191.12\" y=\"-36.25\" font-family=\"Patua One, Helvetica, sans-serif\" font-size=\"10.00\">• </text>\n",
       "<text xml:space=\"preserve\" text-anchor=\"start\" x=\"197.12\" y=\"-36.25\" font-family=\"'Fira Mono', 'Source Code Pro', 'Courier', monospace\" font-weight=\"bold\" font-size=\"8.00\">public_method()</text>\n",
       "<text xml:space=\"preserve\" text-anchor=\"start\" x=\"191.12\" y=\"-26.25\" font-family=\"Patua One, Helvetica, sans-serif\" font-size=\"10.00\">• </text>\n",
       "<text xml:space=\"preserve\" text-anchor=\"start\" x=\"197.12\" y=\"-26.25\" font-family=\"'Fira Mono', 'Source Code Pro', 'Courier', monospace\" font-size=\"8.00\">private_method()</text>\n",
       "<text xml:space=\"preserve\" text-anchor=\"start\" x=\"191.12\" y=\"-16.25\" font-family=\"Patua One, Helvetica, sans-serif\" font-size=\"10.00\">• </text>\n",
       "<text xml:space=\"preserve\" text-anchor=\"start\" x=\"197.12\" y=\"-16.25\" font-family=\"'Fira Mono', 'Source Code Pro', 'Courier', monospace\" font-style=\"italic\" font-size=\"8.00\">overloaded_method()</text>\n",
       "<text xml:space=\"preserve\" text-anchor=\"start\" x=\"191.12\" y=\"-7.2\" font-family=\"Helvetica,sans-Serif\" font-size=\"9.00\">Hover over names to see doc</text>\n",
       "</g>\n",
       "</g>\n",
       "</svg>\n"
      ],
      "text/plain": [
       "<graphviz.graphs.Digraph at 0x10d2c2510>"
      ]
     },
     "execution_count": 59,
     "metadata": {},
     "output_type": "execute_result"
    }
   ],
   "source": [
    "# ignore\n",
    "display_class_hierarchy(MutationCoverageFuzzer,\n",
    "                        public_methods=[\n",
    "                            Fuzzer.run,\n",
    "                            Fuzzer.__init__,\n",
    "                            Fuzzer.runs,\n",
    "                            Fuzzer.fuzz,\n",
    "                            MutationFuzzer.__init__,\n",
    "                            MutationFuzzer.fuzz,\n",
    "                            MutationCoverageFuzzer.run,\n",
    "                        ],\n",
    "                        types={'Location': Location},\n",
    "                        project='fuzzingbook')"
   ]
  },
  {
   "attachments": {},
   "cell_type": "markdown",
   "metadata": {
    "button": false,
    "new_sheet": false,
    "run_control": {
     "read_only": false
    },
    "slideshow": {
     "slide_type": "slide"
    }
   },
   "source": [
    "## Fuzzing with Mutations\n",
    "\n",
    "On November 2013, the first version of [American Fuzzy Lop](http://lcamtuf.coredump.cx/afl/) (AFL) was released. Since then, AFL has become one of the most successful fuzzing tools and comes in many flavors, e.g., [AFLFast](https://github.com/mboehme/aflfast), [AFLGo](https://github.com/aflgo/aflgo), and [AFLSmart](https://github.com/aflsmart/aflsmart) (which are discussed in this book). AFL has made fuzzing a popular choice for automated vulnerability detection. It was the first to demonstrate that vulnerabilities can be detected automatically at a large scale in many security-critical, real-world applications.\n",
    "\n",
    "![American Fuzzy Lop Command Line User Interface](PICS/afl_screen.png)\n",
    "<center><b>Figure 1.</b> American Fuzzy Lop Command Line User Interface</center>\n",
    "\n",
    "In this chapter, we are going to introduce the basics of mutational fuzz testing; the next chapter will then further show how to direct fuzzing towards specific code goals."
   ]
  },
  {
   "cell_type": "markdown",
   "metadata": {
    "button": false,
    "new_sheet": false,
    "run_control": {
     "read_only": false
    },
    "slideshow": {
     "slide_type": "slide"
    }
   },
   "source": [
    "## Fuzzing a URL Parser\n",
    "\n",
    "Many programs expect their inputs to come in a very specific format before they would actually process them.  As an example, think of a program that accepts a URL (a Web address).  The URL has to be in a valid format (i.e., the URL format) such that the program can deal with it.  When fuzzing with random inputs, what are our chances to actually produce a valid URL?"
   ]
  },
  {
   "cell_type": "markdown",
   "metadata": {
    "button": false,
    "new_sheet": false,
    "run_control": {
     "read_only": false
    },
    "slideshow": {
     "slide_type": "subslide"
    }
   },
   "source": [
    "To get deeper into the problem, let us explore what URLs are made of.  A URL consists of a number of elements:\n",
    "\n",
    "    scheme://netloc/path?query#fragment\n",
    "    \n",
    "where\n",
    "\n",
    "* `scheme` is the protocol to be used, including `http`, `https`, `ftp`, `file`...\n",
    "* `netloc` is the name of the host to connect to, such as `www.google.com`\n",
    "* `path` is the path on that very host, such as `search`\n",
    "* `query` is a list of key/value pairs, such as `q=fuzzing`\n",
    "* `fragment` is a marker for a location in the retrieved document, such as `#result`"
   ]
  },
  {
   "cell_type": "markdown",
   "metadata": {
    "button": false,
    "new_sheet": false,
    "run_control": {
     "read_only": false
    },
    "slideshow": {
     "slide_type": "subslide"
    }
   },
   "source": [
    "In Python, we can use the `urlparse()` function to parse and decompose a URL into its parts."
   ]
  },
  {
   "cell_type": "code",
   "execution_count": 2,
   "metadata": {
    "button": false,
    "execution": {
     "iopub.execute_input": "2025-10-26T13:23:50.864507Z",
     "iopub.status.busy": "2025-10-26T13:23:50.864361Z",
     "iopub.status.idle": "2025-10-26T13:23:50.866511Z",
     "shell.execute_reply": "2025-10-26T13:23:50.866237Z"
    },
    "new_sheet": false,
    "run_control": {
     "read_only": false
    },
    "slideshow": {
     "slide_type": "skip"
    }
   },
   "outputs": [],
   "source": [
    "import bookutils.setup"
   ]
  },
  {
   "cell_type": "code",
   "execution_count": 3,
   "metadata": {
    "execution": {
     "iopub.execute_input": "2025-10-26T13:23:50.867877Z",
     "iopub.status.busy": "2025-10-26T13:23:50.867780Z",
     "iopub.status.idle": "2025-10-26T13:23:50.869292Z",
     "shell.execute_reply": "2025-10-26T13:23:50.869069Z"
    },
    "slideshow": {
     "slide_type": "skip"
    }
   },
   "outputs": [],
   "source": [
    "from typing import Tuple, List, Callable, Set, Any"
   ]
  },
  {
   "cell_type": "code",
   "execution_count": 4,
   "metadata": {
    "button": false,
    "execution": {
     "iopub.execute_input": "2025-10-26T13:23:50.870472Z",
     "iopub.status.busy": "2025-10-26T13:23:50.870382Z",
     "iopub.status.idle": "2025-10-26T13:23:50.871911Z",
     "shell.execute_reply": "2025-10-26T13:23:50.871723Z"
    },
    "new_sheet": false,
    "run_control": {
     "read_only": false
    },
    "slideshow": {
     "slide_type": "fragment"
    }
   },
   "outputs": [],
   "source": [
    "from urllib.parse import urlparse"
   ]
  },
  {
   "cell_type": "code",
   "execution_count": 5,
   "metadata": {
    "button": false,
    "execution": {
     "iopub.execute_input": "2025-10-26T13:23:50.873346Z",
     "iopub.status.busy": "2025-10-26T13:23:50.873252Z",
     "iopub.status.idle": "2025-10-26T13:23:50.875391Z",
     "shell.execute_reply": "2025-10-26T13:23:50.875124Z"
    },
    "new_sheet": false,
    "run_control": {
     "read_only": false
    },
    "slideshow": {
     "slide_type": "fragment"
    }
   },
   "outputs": [
    {
     "data": {
      "text/plain": [
       "ParseResult(scheme='http', netloc='www.google.com', path='/search', params='', query='q=fuzzing', fragment='')"
      ]
     },
     "execution_count": 5,
     "metadata": {},
     "output_type": "execute_result"
    }
   ],
   "source": [
    "urlparse(\"http://www.google.com/search?q=fuzzing\")"
   ]
  },
  {
   "cell_type": "markdown",
   "metadata": {
    "button": false,
    "new_sheet": false,
    "run_control": {
     "read_only": false
    },
    "slideshow": {
     "slide_type": "fragment"
    }
   },
   "source": [
    "We see how the result encodes the individual parts of the URL in different attributes."
   ]
  },
  {
   "cell_type": "markdown",
   "metadata": {
    "button": false,
    "new_sheet": false,
    "run_control": {
     "read_only": false
    },
    "slideshow": {
     "slide_type": "subslide"
    }
   },
   "source": [
    "Let us now assume we have a program that takes a URL as input.  To simplify things, we won't let it do very much; we simply have it check the passed URL for validity.  If the URL is valid, it returns True; otherwise, it raises an exception."
   ]
  },
  {
   "cell_type": "code",
   "execution_count": 6,
   "metadata": {
    "button": false,
    "execution": {
     "iopub.execute_input": "2025-10-26T13:23:50.877020Z",
     "iopub.status.busy": "2025-10-26T13:23:50.876899Z",
     "iopub.status.idle": "2025-10-26T13:23:50.878766Z",
     "shell.execute_reply": "2025-10-26T13:23:50.878526Z"
    },
    "new_sheet": false,
    "run_control": {
     "read_only": false
    },
    "slideshow": {
     "slide_type": "fragment"
    }
   },
   "outputs": [],
   "source": [
    "def http_program(url: str) -> bool:\n",
    "    supported_schemes = [\"http\", \"https\"]\n",
    "    result = urlparse(url)\n",
    "    if result.scheme not in supported_schemes:\n",
    "        raise ValueError(\"Scheme must be one of \" + \n",
    "                         repr(supported_schemes))\n",
    "    if result.netloc == '':\n",
    "        raise ValueError(\"Host must be non-empty\")\n",
    "\n",
    "    # Do something with the URL\n",
    "    return True"
   ]
  },
  {
   "cell_type": "markdown",
   "metadata": {
    "button": false,
    "new_sheet": false,
    "run_control": {
     "read_only": false
    },
    "slideshow": {
     "slide_type": "subslide"
    }
   },
   "source": [
    "Let us now go and fuzz `http_program()`.  To fuzz, we use the full range of printable ASCII characters, such that `:`, `/`, and lowercase letters are included."
   ]
  },
  {
   "cell_type": "code",
   "execution_count": 7,
   "metadata": {
    "button": false,
    "execution": {
     "iopub.execute_input": "2025-10-26T13:23:50.879911Z",
     "iopub.status.busy": "2025-10-26T13:23:50.879832Z",
     "iopub.status.idle": "2025-10-26T13:23:50.938618Z",
     "shell.execute_reply": "2025-10-26T13:23:50.938242Z"
    },
    "new_sheet": false,
    "run_control": {
     "read_only": false
    },
    "slideshow": {
     "slide_type": "skip"
    }
   },
   "outputs": [],
   "source": [
    "from Fuzzer import fuzzer"
   ]
  },
  {
   "cell_type": "code",
   "execution_count": 8,
   "metadata": {
    "button": false,
    "execution": {
     "iopub.execute_input": "2025-10-26T13:23:50.940351Z",
     "iopub.status.busy": "2025-10-26T13:23:50.940249Z",
     "iopub.status.idle": "2025-10-26T13:23:50.942608Z",
     "shell.execute_reply": "2025-10-26T13:23:50.942331Z"
    },
    "new_sheet": false,
    "run_control": {
     "read_only": false
    },
    "slideshow": {
     "slide_type": "fragment"
    }
   },
   "outputs": [
    {
     "data": {
      "text/plain": [
       "'\"N&+slk%h\\x7fyp5o\\'@[3(rW*M5W]tMFPU4\\\\P@tz%[X?uo\\\\1?b4T;1bDeYtHx #UJ5w}pMmPodJM,_'"
      ]
     },
     "execution_count": 8,
     "metadata": {},
     "output_type": "execute_result"
    }
   ],
   "source": [
    "fuzzer(char_start=32, char_range=96)"
   ]
  },
  {
   "cell_type": "markdown",
   "metadata": {
    "button": false,
    "new_sheet": false,
    "run_control": {
     "read_only": false
    },
    "slideshow": {
     "slide_type": "subslide"
    }
   },
   "source": [
    "Let's try to fuzz with 1000 random inputs and see whether we have some success."
   ]
  },
  {
   "cell_type": "code",
   "execution_count": 9,
   "metadata": {
    "button": false,
    "execution": {
     "iopub.execute_input": "2025-10-26T13:23:50.944252Z",
     "iopub.status.busy": "2025-10-26T13:23:50.944128Z",
     "iopub.status.idle": "2025-10-26T13:23:50.965787Z",
     "shell.execute_reply": "2025-10-26T13:23:50.965468Z"
    },
    "new_sheet": false,
    "run_control": {
     "read_only": false
    },
    "slideshow": {
     "slide_type": "fragment"
    }
   },
   "outputs": [],
   "source": [
    "for i in range(1000):\n",
    "    try:\n",
    "        url = fuzzer()\n",
    "        result = http_program(url)\n",
    "        print(\"Success!\")\n",
    "    except ValueError:\n",
    "        pass"
   ]
  },
  {
   "cell_type": "markdown",
   "metadata": {
    "button": false,
    "new_sheet": false,
    "run_control": {
     "read_only": false
    },
    "slideshow": {
     "slide_type": "subslide"
    }
   },
   "source": [
    "What are the chances of actually getting a valid URL?  We need our string to start with `\"http://\"` or `\"https://\"`.  Let's take the `\"http://\"` case first.  These are seven very specific characters we need to start with.  The chance of producing these seven characters randomly (with a character range of 96 different characters) is $1 : 96^7$, or"
   ]
  },
  {
   "cell_type": "code",
   "execution_count": 10,
   "metadata": {
    "button": false,
    "execution": {
     "iopub.execute_input": "2025-10-26T13:23:50.967324Z",
     "iopub.status.busy": "2025-10-26T13:23:50.967233Z",
     "iopub.status.idle": "2025-10-26T13:23:50.969650Z",
     "shell.execute_reply": "2025-10-26T13:23:50.969260Z"
    },
    "new_sheet": false,
    "run_control": {
     "read_only": false
    },
    "slideshow": {
     "slide_type": "fragment"
    }
   },
   "outputs": [
    {
     "data": {
      "text/plain": [
       "75144747810816"
      ]
     },
     "execution_count": 10,
     "metadata": {},
     "output_type": "execute_result"
    }
   ],
   "source": [
    "96 ** 7"
   ]
  },
  {
   "cell_type": "markdown",
   "metadata": {
    "button": false,
    "new_sheet": false,
    "run_control": {
     "read_only": false
    },
    "slideshow": {
     "slide_type": "subslide"
    }
   },
   "source": [
    "The odds of producing a `\"https://\"` prefix are even worse, at $1 : 96^8$:"
   ]
  },
  {
   "cell_type": "code",
   "execution_count": 11,
   "metadata": {
    "button": false,
    "execution": {
     "iopub.execute_input": "2025-10-26T13:23:50.971192Z",
     "iopub.status.busy": "2025-10-26T13:23:50.971078Z",
     "iopub.status.idle": "2025-10-26T13:23:50.973200Z",
     "shell.execute_reply": "2025-10-26T13:23:50.972790Z"
    },
    "new_sheet": false,
    "run_control": {
     "read_only": false
    },
    "slideshow": {
     "slide_type": "fragment"
    }
   },
   "outputs": [
    {
     "data": {
      "text/plain": [
       "7213895789838336"
      ]
     },
     "execution_count": 11,
     "metadata": {},
     "output_type": "execute_result"
    }
   ],
   "source": [
    "96 ** 8"
   ]
  },
  {
   "cell_type": "markdown",
   "metadata": {
    "button": false,
    "new_sheet": false,
    "run_control": {
     "read_only": false
    },
    "slideshow": {
     "slide_type": "fragment"
    }
   },
   "source": [
    "which gives us a total chance of"
   ]
  },
  {
   "cell_type": "code",
   "execution_count": 12,
   "metadata": {
    "button": false,
    "execution": {
     "iopub.execute_input": "2025-10-26T13:23:50.974776Z",
     "iopub.status.busy": "2025-10-26T13:23:50.974637Z",
     "iopub.status.idle": "2025-10-26T13:23:50.976849Z",
     "shell.execute_reply": "2025-10-26T13:23:50.976600Z"
    },
    "new_sheet": false,
    "run_control": {
     "read_only": false
    },
    "slideshow": {
     "slide_type": "fragment"
    }
   },
   "outputs": [
    {
     "data": {
      "text/plain": [
       "1.344627131107667e-14"
      ]
     },
     "execution_count": 12,
     "metadata": {},
     "output_type": "execute_result"
    }
   ],
   "source": [
    "likelihood = 1 / (96 ** 7) + 1 / (96 ** 8)\n",
    "likelihood"
   ]
  },
  {
   "cell_type": "markdown",
   "metadata": {
    "button": false,
    "new_sheet": false,
    "run_control": {
     "read_only": false
    },
    "slideshow": {
     "slide_type": "subslide"
    }
   },
   "source": [
    "And this is the number of runs (on average) we'd need to produce a valid URL scheme:"
   ]
  },
  {
   "cell_type": "code",
   "execution_count": 13,
   "metadata": {
    "button": false,
    "execution": {
     "iopub.execute_input": "2025-10-26T13:23:50.978323Z",
     "iopub.status.busy": "2025-10-26T13:23:50.978212Z",
     "iopub.status.idle": "2025-10-26T13:23:50.980325Z",
     "shell.execute_reply": "2025-10-26T13:23:50.980061Z"
    },
    "new_sheet": false,
    "run_control": {
     "read_only": false
    },
    "slideshow": {
     "slide_type": "fragment"
    }
   },
   "outputs": [
    {
     "data": {
      "text/plain": [
       "74370059689055.02"
      ]
     },
     "execution_count": 13,
     "metadata": {},
     "output_type": "execute_result"
    }
   ],
   "source": [
    "1 / likelihood"
   ]
  },
  {
   "cell_type": "markdown",
   "metadata": {
    "button": false,
    "new_sheet": false,
    "run_control": {
     "read_only": false
    },
    "slideshow": {
     "slide_type": "subslide"
    }
   },
   "source": [
    "Let's measure how long one run of `http_program()` takes:"
   ]
  },
  {
   "cell_type": "code",
   "execution_count": 14,
   "metadata": {
    "button": false,
    "execution": {
     "iopub.execute_input": "2025-10-26T13:23:50.981707Z",
     "iopub.status.busy": "2025-10-26T13:23:50.981595Z",
     "iopub.status.idle": "2025-10-26T13:23:50.983217Z",
     "shell.execute_reply": "2025-10-26T13:23:50.982974Z"
    },
    "new_sheet": false,
    "run_control": {
     "read_only": false
    },
    "slideshow": {
     "slide_type": "skip"
    }
   },
   "outputs": [],
   "source": [
    "from Timer import Timer"
   ]
  },
  {
   "cell_type": "code",
   "execution_count": 15,
   "metadata": {
    "button": false,
    "execution": {
     "iopub.execute_input": "2025-10-26T13:23:50.984543Z",
     "iopub.status.busy": "2025-10-26T13:23:50.984464Z",
     "iopub.status.idle": "2025-10-26T13:23:51.007241Z",
     "shell.execute_reply": "2025-10-26T13:23:51.006990Z"
    },
    "new_sheet": false,
    "run_control": {
     "read_only": false
    },
    "slideshow": {
     "slide_type": "fragment"
    }
   },
   "outputs": [
    {
     "data": {
      "text/plain": [
       "2.0109958975808695e-05"
      ]
     },
     "execution_count": 15,
     "metadata": {},
     "output_type": "execute_result"
    }
   ],
   "source": [
    "trials = 1000\n",
    "with Timer() as t:\n",
    "    for i in range(trials):\n",
    "        try:\n",
    "            url = fuzzer()\n",
    "            result = http_program(url)\n",
    "            print(\"Success!\")\n",
    "        except ValueError:\n",
    "            pass\n",
    "\n",
    "duration_per_run_in_seconds = t.elapsed_time() / trials\n",
    "duration_per_run_in_seconds"
   ]
  },
  {
   "cell_type": "markdown",
   "metadata": {
    "button": false,
    "new_sheet": false,
    "run_control": {
     "read_only": false
    },
    "slideshow": {
     "slide_type": "subslide"
    }
   },
   "source": [
    "That's pretty fast, isn't it?  Unfortunately, we have a lot of runs to cover."
   ]
  },
  {
   "cell_type": "code",
   "execution_count": 16,
   "metadata": {
    "button": false,
    "execution": {
     "iopub.execute_input": "2025-10-26T13:23:51.008615Z",
     "iopub.status.busy": "2025-10-26T13:23:51.008515Z",
     "iopub.status.idle": "2025-10-26T13:23:51.010829Z",
     "shell.execute_reply": "2025-10-26T13:23:51.010513Z"
    },
    "new_sheet": false,
    "run_control": {
     "read_only": false
    },
    "slideshow": {
     "slide_type": "fragment"
    }
   },
   "outputs": [
    {
     "data": {
      "text/plain": [
       "1495578849.3753402"
      ]
     },
     "execution_count": 16,
     "metadata": {},
     "output_type": "execute_result"
    }
   ],
   "source": [
    "seconds_until_success = duration_per_run_in_seconds * (1 / likelihood)\n",
    "seconds_until_success"
   ]
  },
  {
   "cell_type": "markdown",
   "metadata": {
    "button": false,
    "new_sheet": false,
    "run_control": {
     "read_only": false
    },
    "slideshow": {
     "slide_type": "fragment"
    }
   },
   "source": [
    "which translates into"
   ]
  },
  {
   "cell_type": "code",
   "execution_count": 17,
   "metadata": {
    "button": false,
    "execution": {
     "iopub.execute_input": "2025-10-26T13:23:51.012229Z",
     "iopub.status.busy": "2025-10-26T13:23:51.012122Z",
     "iopub.status.idle": "2025-10-26T13:23:51.014385Z",
     "shell.execute_reply": "2025-10-26T13:23:51.014131Z"
    },
    "new_sheet": false,
    "run_control": {
     "read_only": false
    },
    "slideshow": {
     "slide_type": "fragment"
    }
   },
   "outputs": [
    {
     "data": {
      "text/plain": [
       "47.39203391181016"
      ]
     },
     "execution_count": 17,
     "metadata": {},
     "output_type": "execute_result"
    }
   ],
   "source": [
    "hours_until_success = seconds_until_success / 3600\n",
    "days_until_success = hours_until_success / 24\n",
    "years_until_success = days_until_success / 365.25\n",
    "years_until_success"
   ]
  },
  {
   "cell_type": "markdown",
   "metadata": {
    "button": false,
    "new_sheet": false,
    "run_control": {
     "read_only": false
    },
    "slideshow": {
     "slide_type": "fragment"
    }
   },
   "source": [
    "Even if we parallelize things a lot, we're still in for months to years of waiting.  And that's for getting _one_ successful run that will get deeper into `http_program()`."
   ]
  },
  {
   "cell_type": "markdown",
   "metadata": {
    "button": false,
    "new_sheet": false,
    "run_control": {
     "read_only": false
    },
    "slideshow": {
     "slide_type": "subslide"
    }
   },
   "source": [
    "What basic fuzzing will do well is to test `urlparse()`, and if there is an error in this parsing function, it has good chances of uncovering it.  But as long as we cannot produce a valid input, we are out of luck in reaching any deeper functionality."
   ]
  },
  {
   "cell_type": "markdown",
   "metadata": {
    "button": false,
    "new_sheet": false,
    "run_control": {
     "read_only": false
    },
    "slideshow": {
     "slide_type": "slide"
    }
   },
   "source": [
    "## Mutating Inputs\n",
    "\n",
    "The alternative to generating random strings from scratch is to start with a given _valid_ input, and then to subsequently _mutate_ it.  A _mutation_ in this context is a simple string manipulation - say, inserting a (random) character, deleting a character, or flipping a bit in a character representation.  This is called *mutational fuzzing* – in contrast to the _generational fuzzing_ techniques discussed earlier.\n",
    "\n",
    "Here are some mutations to get you started:"
   ]
  },
  {
   "cell_type": "code",
   "execution_count": 18,
   "metadata": {
    "button": false,
    "execution": {
     "iopub.execute_input": "2025-10-26T13:23:51.015834Z",
     "iopub.status.busy": "2025-10-26T13:23:51.015731Z",
     "iopub.status.idle": "2025-10-26T13:23:51.017258Z",
     "shell.execute_reply": "2025-10-26T13:23:51.016966Z"
    },
    "new_sheet": false,
    "run_control": {
     "read_only": false
    },
    "slideshow": {
     "slide_type": "skip"
    }
   },
   "outputs": [],
   "source": [
    "import random"
   ]
  },
  {
   "cell_type": "code",
   "execution_count": 19,
   "metadata": {
    "button": false,
    "execution": {
     "iopub.execute_input": "2025-10-26T13:23:51.018466Z",
     "iopub.status.busy": "2025-10-26T13:23:51.018386Z",
     "iopub.status.idle": "2025-10-26T13:23:51.020355Z",
     "shell.execute_reply": "2025-10-26T13:23:51.020092Z"
    },
    "new_sheet": false,
    "run_control": {
     "read_only": false
    },
    "slideshow": {
     "slide_type": "subslide"
    }
   },
   "outputs": [],
   "source": [
    "def delete_random_character(s: str) -> str:\n",
    "    \"\"\"Returns s with a random character deleted\"\"\"\n",
    "    if s == \"\":\n",
    "        return s\n",
    "\n",
    "    pos = random.randint(0, len(s) - 1)\n",
    "    # print(\"Deleting\", repr(s[pos]), \"at\", pos)\n",
    "    return s[:pos] + s[pos + 1:]"
   ]
  },
  {
   "cell_type": "code",
   "execution_count": 20,
   "metadata": {
    "button": false,
    "execution": {
     "iopub.execute_input": "2025-10-26T13:23:51.021706Z",
     "iopub.status.busy": "2025-10-26T13:23:51.021629Z",
     "iopub.status.idle": "2025-10-26T13:23:51.023404Z",
     "shell.execute_reply": "2025-10-26T13:23:51.023119Z"
    },
    "new_sheet": false,
    "run_control": {
     "read_only": false
    },
    "slideshow": {
     "slide_type": "fragment"
    }
   },
   "outputs": [
    {
     "name": "stdout",
     "output_type": "stream",
     "text": [
      "'A uick brown fox'\n",
      "'A quic brown fox'\n",
      "'A quick brown fo'\n",
      "'A quic brown fox'\n",
      "'A quick bown fox'\n",
      "'A quick bown fox'\n",
      "'A quick brown fx'\n",
      "'A quick brown ox'\n",
      "'A quick brow fox'\n",
      "'A quic brown fox'\n"
     ]
    }
   ],
   "source": [
    "seed_input = \"A quick brown fox\"\n",
    "for i in range(10):\n",
    "    x = delete_random_character(seed_input)\n",
    "    print(repr(x))"
   ]
  },
  {
   "cell_type": "code",
   "execution_count": 21,
   "metadata": {
    "button": false,
    "execution": {
     "iopub.execute_input": "2025-10-26T13:23:51.024782Z",
     "iopub.status.busy": "2025-10-26T13:23:51.024683Z",
     "iopub.status.idle": "2025-10-26T13:23:51.026673Z",
     "shell.execute_reply": "2025-10-26T13:23:51.026446Z"
    },
    "new_sheet": false,
    "run_control": {
     "read_only": false
    },
    "slideshow": {
     "slide_type": "subslide"
    }
   },
   "outputs": [],
   "source": [
    "def insert_random_character(s: str) -> str:\n",
    "    \"\"\"Returns s with a random character inserted\"\"\"\n",
    "    pos = random.randint(0, len(s))\n",
    "    random_character = chr(random.randrange(32, 127))\n",
    "    # print(\"Inserting\", repr(random_character), \"at\", pos)\n",
    "    return s[:pos] + random_character + s[pos:]"
   ]
  },
  {
   "cell_type": "code",
   "execution_count": 22,
   "metadata": {
    "button": false,
    "execution": {
     "iopub.execute_input": "2025-10-26T13:23:51.027858Z",
     "iopub.status.busy": "2025-10-26T13:23:51.027772Z",
     "iopub.status.idle": "2025-10-26T13:23:51.029707Z",
     "shell.execute_reply": "2025-10-26T13:23:51.029447Z"
    },
    "new_sheet": false,
    "run_control": {
     "read_only": false
    },
    "slideshow": {
     "slide_type": "fragment"
    }
   },
   "outputs": [
    {
     "name": "stdout",
     "output_type": "stream",
     "text": [
      "'A quick brvown fox'\n",
      "'A quwick brown fox'\n",
      "'A qBuick brown fox'\n",
      "'A quick broSwn fox'\n",
      "'A quick brown fvox'\n",
      "'A quick brown 3fox'\n",
      "'A quick brNown fox'\n",
      "'A quick brow4n fox'\n",
      "'A quick brown fox8'\n",
      "'A equick brown fox'\n"
     ]
    }
   ],
   "source": [
    "for i in range(10):\n",
    "    print(repr(insert_random_character(seed_input)))"
   ]
  },
  {
   "cell_type": "code",
   "execution_count": 23,
   "metadata": {
    "button": false,
    "execution": {
     "iopub.execute_input": "2025-10-26T13:23:51.030993Z",
     "iopub.status.busy": "2025-10-26T13:23:51.030908Z",
     "iopub.status.idle": "2025-10-26T13:23:51.032877Z",
     "shell.execute_reply": "2025-10-26T13:23:51.032678Z"
    },
    "new_sheet": false,
    "run_control": {
     "read_only": false
    },
    "slideshow": {
     "slide_type": "subslide"
    }
   },
   "outputs": [],
   "source": [
    "def flip_random_character(s):\n",
    "    \"\"\"Returns s with a random bit flipped in a random position\"\"\"\n",
    "    if s == \"\":\n",
    "        return s\n",
    "\n",
    "    pos = random.randint(0, len(s) - 1)\n",
    "    c = s[pos]\n",
    "    bit = 1 << random.randint(0, 6)\n",
    "    new_c = chr(ord(c) ^ bit)\n",
    "    # print(\"Flipping\", bit, \"in\", repr(c) + \", giving\", repr(new_c))\n",
    "    return s[:pos] + new_c + s[pos + 1:]"
   ]
  },
  {
   "cell_type": "code",
   "execution_count": 24,
   "metadata": {
    "button": false,
    "execution": {
     "iopub.execute_input": "2025-10-26T13:23:51.034282Z",
     "iopub.status.busy": "2025-10-26T13:23:51.034183Z",
     "iopub.status.idle": "2025-10-26T13:23:51.036069Z",
     "shell.execute_reply": "2025-10-26T13:23:51.035814Z"
    },
    "new_sheet": false,
    "run_control": {
     "read_only": false
    },
    "slideshow": {
     "slide_type": "fragment"
    }
   },
   "outputs": [
    {
     "name": "stdout",
     "output_type": "stream",
     "text": [
      "'A quick bRown fox'\n",
      "'A quici brown fox'\n",
      "'A\"quick brown fox'\n",
      "'A quick brown$fox'\n",
      "'A quick bpown fox'\n",
      "'A quick brown!fox'\n",
      "'A 1uick brown fox'\n",
      "'@ quick brown fox'\n",
      "'A quic+ brown fox'\n",
      "'A quick bsown fox'\n"
     ]
    }
   ],
   "source": [
    "for i in range(10):\n",
    "    print(repr(flip_random_character(seed_input)))"
   ]
  },
  {
   "cell_type": "markdown",
   "metadata": {
    "button": false,
    "new_sheet": false,
    "run_control": {
     "read_only": false
    },
    "slideshow": {
     "slide_type": "subslide"
    }
   },
   "source": [
    "Let us now create a random mutator that randomly chooses which mutation to apply:"
   ]
  },
  {
   "cell_type": "code",
   "execution_count": 25,
   "metadata": {
    "button": false,
    "execution": {
     "iopub.execute_input": "2025-10-26T13:23:51.037391Z",
     "iopub.status.busy": "2025-10-26T13:23:51.037305Z",
     "iopub.status.idle": "2025-10-26T13:23:51.039104Z",
     "shell.execute_reply": "2025-10-26T13:23:51.038877Z"
    },
    "new_sheet": false,
    "run_control": {
     "read_only": false
    },
    "slideshow": {
     "slide_type": "fragment"
    }
   },
   "outputs": [],
   "source": [
    "def mutate(s: str) -> str:\n",
    "    \"\"\"Return s with a random mutation applied\"\"\"\n",
    "    mutators = [\n",
    "        delete_random_character,\n",
    "        insert_random_character,\n",
    "        flip_random_character\n",
    "    ]\n",
    "    mutator = random.choice(mutators)\n",
    "    # print(mutator)\n",
    "    return mutator(s)"
   ]
  },
  {
   "cell_type": "code",
   "execution_count": 26,
   "metadata": {
    "button": false,
    "execution": {
     "iopub.execute_input": "2025-10-26T13:23:51.040322Z",
     "iopub.status.busy": "2025-10-26T13:23:51.040227Z",
     "iopub.status.idle": "2025-10-26T13:23:51.042028Z",
     "shell.execute_reply": "2025-10-26T13:23:51.041790Z"
    },
    "new_sheet": false,
    "run_control": {
     "read_only": false
    },
    "slideshow": {
     "slide_type": "fragment"
    }
   },
   "outputs": [
    {
     "name": "stdout",
     "output_type": "stream",
     "text": [
      "'A qzuick brown fox'\n",
      "' quick brown fox'\n",
      "'A quick Brown fox'\n",
      "'A qMuick brown fox'\n",
      "'A qu_ick brown fox'\n",
      "'A quick bXrown fox'\n",
      "'A quick brown fx'\n",
      "'A quick!brown fox'\n",
      "'A! quick brown fox'\n",
      "'A quick brownfox'\n"
     ]
    }
   ],
   "source": [
    "for i in range(10):\n",
    "    print(repr(mutate(\"A quick brown fox\")))"
   ]
  },
  {
   "cell_type": "markdown",
   "metadata": {
    "button": false,
    "new_sheet": false,
    "run_control": {
     "read_only": false
    },
    "slideshow": {
     "slide_type": "subslide"
    }
   },
   "source": [
    "The idea is now that _if_ we have some valid input(s) to begin with, we may create more input candidates by applying one of the above mutations.  To see how this works, let's get back to URLs."
   ]
  },
  {
   "cell_type": "markdown",
   "metadata": {
    "button": false,
    "new_sheet": false,
    "run_control": {
     "read_only": false
    },
    "slideshow": {
     "slide_type": "slide"
    }
   },
   "source": [
    "## Mutating URLs"
   ]
  },
  {
   "cell_type": "markdown",
   "metadata": {
    "button": false,
    "new_sheet": false,
    "run_control": {
     "read_only": false
    },
    "slideshow": {
     "slide_type": "fragment"
    }
   },
   "source": [
    "Let us now get back to our URL parsing problem.  Let us create a function `is_valid_url()` that checks whether `http_program()` accepts the input."
   ]
  },
  {
   "cell_type": "code",
   "execution_count": 27,
   "metadata": {
    "button": false,
    "execution": {
     "iopub.execute_input": "2025-10-26T13:23:51.043557Z",
     "iopub.status.busy": "2025-10-26T13:23:51.043449Z",
     "iopub.status.idle": "2025-10-26T13:23:51.045580Z",
     "shell.execute_reply": "2025-10-26T13:23:51.045266Z"
    },
    "new_sheet": false,
    "run_control": {
     "read_only": false
    },
    "slideshow": {
     "slide_type": "fragment"
    }
   },
   "outputs": [],
   "source": [
    "def is_valid_url(url: str) -> bool:\n",
    "    try:\n",
    "        result = http_program(url)\n",
    "        return True\n",
    "    except ValueError:\n",
    "        return False"
   ]
  },
  {
   "cell_type": "code",
   "execution_count": 28,
   "metadata": {
    "execution": {
     "iopub.execute_input": "2025-10-26T13:23:51.047034Z",
     "iopub.status.busy": "2025-10-26T13:23:51.046940Z",
     "iopub.status.idle": "2025-10-26T13:23:51.048597Z",
     "shell.execute_reply": "2025-10-26T13:23:51.048375Z"
    },
    "slideshow": {
     "slide_type": "fragment"
    }
   },
   "outputs": [],
   "source": [
    "assert is_valid_url(\"http://www.google.com/search?q=fuzzing\")\n",
    "assert not is_valid_url(\"xyzzy\")"
   ]
  },
  {
   "cell_type": "markdown",
   "metadata": {
    "button": false,
    "new_sheet": false,
    "run_control": {
     "read_only": false
    },
    "slideshow": {
     "slide_type": "subslide"
    }
   },
   "source": [
    "Let us now apply the `mutate()` function on a given URL and see how many valid inputs we obtain."
   ]
  },
  {
   "cell_type": "code",
   "execution_count": 29,
   "metadata": {
    "button": false,
    "execution": {
     "iopub.execute_input": "2025-10-26T13:23:51.049730Z",
     "iopub.status.busy": "2025-10-26T13:23:51.049657Z",
     "iopub.status.idle": "2025-10-26T13:23:51.051453Z",
     "shell.execute_reply": "2025-10-26T13:23:51.051248Z"
    },
    "new_sheet": false,
    "run_control": {
     "read_only": false
    },
    "slideshow": {
     "slide_type": "fragment"
    }
   },
   "outputs": [],
   "source": [
    "seed_input = \"http://www.google.com/search?q=fuzzing\"\n",
    "valid_inputs = set()\n",
    "trials = 20\n",
    "\n",
    "for i in range(trials):\n",
    "    inp = mutate(seed_input)\n",
    "    if is_valid_url(inp):\n",
    "        valid_inputs.add(inp)"
   ]
  },
  {
   "cell_type": "markdown",
   "metadata": {
    "button": false,
    "new_sheet": false,
    "run_control": {
     "read_only": false
    },
    "slideshow": {
     "slide_type": "fragment"
    }
   },
   "source": [
    "We can now observe that by _mutating_ the original input, we get a high proportion of valid inputs:"
   ]
  },
  {
   "cell_type": "code",
   "execution_count": 30,
   "metadata": {
    "button": false,
    "execution": {
     "iopub.execute_input": "2025-10-26T13:23:51.052671Z",
     "iopub.status.busy": "2025-10-26T13:23:51.052599Z",
     "iopub.status.idle": "2025-10-26T13:23:51.054544Z",
     "shell.execute_reply": "2025-10-26T13:23:51.054258Z"
    },
    "new_sheet": false,
    "run_control": {
     "read_only": false
    },
    "slideshow": {
     "slide_type": "fragment"
    }
   },
   "outputs": [
    {
     "data": {
      "text/plain": [
       "0.8"
      ]
     },
     "execution_count": 30,
     "metadata": {},
     "output_type": "execute_result"
    }
   ],
   "source": [
    "len(valid_inputs) / trials"
   ]
  },
  {
   "cell_type": "markdown",
   "metadata": {
    "button": false,
    "new_sheet": false,
    "run_control": {
     "read_only": false
    },
    "slideshow": {
     "slide_type": "subslide"
    }
   },
   "source": [
    "What are the odds of also producing a `https:` prefix by mutating a `http:` sample seed input?  We have to insert ($1 : 3$) the right character `'s'` ($1 : 96$) into the correct position ($1 : l$), where $l$ is the length of our seed input.  This means that on average, we need this many runs:"
   ]
  },
  {
   "cell_type": "code",
   "execution_count": 31,
   "metadata": {
    "button": false,
    "execution": {
     "iopub.execute_input": "2025-10-26T13:23:51.055888Z",
     "iopub.status.busy": "2025-10-26T13:23:51.055803Z",
     "iopub.status.idle": "2025-10-26T13:23:51.057794Z",
     "shell.execute_reply": "2025-10-26T13:23:51.057550Z"
    },
    "new_sheet": false,
    "run_control": {
     "read_only": false
    },
    "slideshow": {
     "slide_type": "fragment"
    }
   },
   "outputs": [
    {
     "data": {
      "text/plain": [
       "10944"
      ]
     },
     "execution_count": 31,
     "metadata": {},
     "output_type": "execute_result"
    }
   ],
   "source": [
    "trials = 3 * 96 * len(seed_input)\n",
    "trials"
   ]
  },
  {
   "cell_type": "markdown",
   "metadata": {
    "button": false,
    "new_sheet": false,
    "run_control": {
     "read_only": false
    },
    "slideshow": {
     "slide_type": "subslide"
    }
   },
   "source": [
    "We can actually afford this.  Let's try:"
   ]
  },
  {
   "cell_type": "code",
   "execution_count": 32,
   "metadata": {
    "button": false,
    "execution": {
     "iopub.execute_input": "2025-10-26T13:23:51.059059Z",
     "iopub.status.busy": "2025-10-26T13:23:51.058980Z",
     "iopub.status.idle": "2025-10-26T13:23:51.060574Z",
     "shell.execute_reply": "2025-10-26T13:23:51.060281Z"
    },
    "new_sheet": false,
    "run_control": {
     "read_only": false
    },
    "slideshow": {
     "slide_type": "skip"
    }
   },
   "outputs": [],
   "source": [
    "from Timer import Timer"
   ]
  },
  {
   "cell_type": "code",
   "execution_count": 33,
   "metadata": {
    "button": false,
    "execution": {
     "iopub.execute_input": "2025-10-26T13:23:51.061959Z",
     "iopub.status.busy": "2025-10-26T13:23:51.061865Z",
     "iopub.status.idle": "2025-10-26T13:23:51.068121Z",
     "shell.execute_reply": "2025-10-26T13:23:51.067830Z"
    },
    "new_sheet": false,
    "run_control": {
     "read_only": false
    },
    "slideshow": {
     "slide_type": "fragment"
    }
   },
   "outputs": [
    {
     "name": "stdout",
     "output_type": "stream",
     "text": [
      "Success after 3656 trials in 0.004027042014058679 seconds\n"
     ]
    }
   ],
   "source": [
    "trials = 0\n",
    "with Timer() as t:\n",
    "    while True:\n",
    "        trials += 1\n",
    "        inp = mutate(seed_input)\n",
    "        if inp.startswith(\"https://\"):\n",
    "            print(\n",
    "                \"Success after\",\n",
    "                trials,\n",
    "                \"trials in\",\n",
    "                t.elapsed_time(),\n",
    "                \"seconds\")\n",
    "            break"
   ]
  },
  {
   "cell_type": "markdown",
   "metadata": {
    "button": false,
    "new_sheet": false,
    "run_control": {
     "read_only": false
    },
    "slideshow": {
     "slide_type": "fragment"
    }
   },
   "source": [
    "Of course, if we wanted to get, say, an `\"ftp://\"` prefix, we would need more mutations and more runs – most important, though, we would need to apply _multiple_ mutations."
   ]
  },
  {
   "cell_type": "markdown",
   "metadata": {
    "slideshow": {
     "slide_type": "slide"
    }
   },
   "source": [
    "## Multiple Mutations\n",
    "\n",
    "So far, we have only applied one single mutation on a sample string.  However, we can also apply _multiple_ mutations, further changing it.  What happens, for instance, if we apply, say, 20 mutations on our sample string?"
   ]
  },
  {
   "cell_type": "code",
   "execution_count": 34,
   "metadata": {
    "execution": {
     "iopub.execute_input": "2025-10-26T13:23:51.069682Z",
     "iopub.status.busy": "2025-10-26T13:23:51.069578Z",
     "iopub.status.idle": "2025-10-26T13:23:51.071286Z",
     "shell.execute_reply": "2025-10-26T13:23:51.071062Z"
    },
    "slideshow": {
     "slide_type": "subslide"
    }
   },
   "outputs": [],
   "source": [
    "seed_input = \"http://www.google.com/search?q=fuzzing\"\n",
    "mutations = 50"
   ]
  },
  {
   "cell_type": "code",
   "execution_count": 35,
   "metadata": {
    "button": false,
    "execution": {
     "iopub.execute_input": "2025-10-26T13:23:51.072512Z",
     "iopub.status.busy": "2025-10-26T13:23:51.072432Z",
     "iopub.status.idle": "2025-10-26T13:23:51.074479Z",
     "shell.execute_reply": "2025-10-26T13:23:51.074269Z"
    },
    "new_sheet": false,
    "run_control": {
     "read_only": false
    },
    "slideshow": {
     "slide_type": "fragment"
    }
   },
   "outputs": [
    {
     "name": "stdout",
     "output_type": "stream",
     "text": [
      "0 mutations: 'http://www.google.com/search?q=fuzzing'\n",
      "5 mutations: 'http:/L/www.googlej.com/seaRchq=fuz:ing'\n",
      "10 mutations: 'http:/L/www.ggoWglej.com/seaRchqfu:in'\n",
      "15 mutations: 'http:/L/wwggoWglej.com/seaR3hqf,u:in'\n",
      "20 mutations: 'htt://wwggoVgle\"j.som/seaR3hqf,u:in'\n",
      "25 mutations: 'htt://fwggoVgle\"j.som/eaRd3hqf,u^:in'\n",
      "30 mutations: 'htv://>fwggoVgle\"j.qom/ea0Rd3hqf,u^:i'\n",
      "35 mutations: 'htv://>fwggozVle\"Bj.qom/eapRd[3hqf,u^:i'\n",
      "40 mutations: 'htv://>fwgeo6zTle\"Bj.\\'qom/eapRd[3hqf,tu^:i'\n",
      "45 mutations: 'htv://>fwgeo]6zTle\"BjM.\\'qom/eaR[3hqf,tu^:i'\n"
     ]
    }
   ],
   "source": [
    "inp = seed_input\n",
    "for i in range(mutations):\n",
    "    if i % 5 == 0:\n",
    "        print(i, \"mutations:\", repr(inp))\n",
    "    inp = mutate(inp)"
   ]
  },
  {
   "cell_type": "markdown",
   "metadata": {
    "slideshow": {
     "slide_type": "fragment"
    }
   },
   "source": [
    "As you see, the original seed input is hardly recognizable anymore.  By mutating the input again and again, we get a higher variety in the input."
   ]
  },
  {
   "cell_type": "markdown",
   "metadata": {
    "slideshow": {
     "slide_type": "subslide"
    }
   },
   "source": [
    "To implement such multiple mutations in a single package, let us introduce a `MutationFuzzer` class.  It takes a seed (a list of strings) as well as a minimum and a maximum number of mutations.  "
   ]
  },
  {
   "cell_type": "code",
   "execution_count": 36,
   "metadata": {
    "button": false,
    "execution": {
     "iopub.execute_input": "2025-10-26T13:23:51.075775Z",
     "iopub.status.busy": "2025-10-26T13:23:51.075696Z",
     "iopub.status.idle": "2025-10-26T13:23:51.077182Z",
     "shell.execute_reply": "2025-10-26T13:23:51.076942Z"
    },
    "new_sheet": false,
    "run_control": {
     "read_only": false
    },
    "slideshow": {
     "slide_type": "skip"
    }
   },
   "outputs": [],
   "source": [
    "from Fuzzer import Fuzzer"
   ]
  },
  {
   "cell_type": "code",
   "execution_count": 37,
   "metadata": {
    "button": false,
    "execution": {
     "iopub.execute_input": "2025-10-26T13:23:51.078485Z",
     "iopub.status.busy": "2025-10-26T13:23:51.078402Z",
     "iopub.status.idle": "2025-10-26T13:23:51.080602Z",
     "shell.execute_reply": "2025-10-26T13:23:51.080381Z"
    },
    "new_sheet": false,
    "run_control": {
     "read_only": false
    },
    "slideshow": {
     "slide_type": "fragment"
    }
   },
   "outputs": [],
   "source": [
    "class MutationFuzzer(Fuzzer):\n",
    "    \"\"\"Base class for mutational fuzzing\"\"\"\n",
    "\n",
    "    def __init__(self, seed: List[str],\n",
    "                 min_mutations: int = 2,\n",
    "                 max_mutations: int = 10) -> None:\n",
    "        \"\"\"Constructor.\n",
    "        `seed` - a list of (input) strings to mutate.\n",
    "        `min_mutations` - the minimum number of mutations to apply.\n",
    "        `max_mutations` - the maximum number of mutations to apply.\n",
    "        \"\"\"\n",
    "        self.seed = seed\n",
    "        self.min_mutations = min_mutations\n",
    "        self.max_mutations = max_mutations\n",
    "        self.reset()\n",
    "\n",
    "    def reset(self) -> None:\n",
    "        \"\"\"Set population to initial seed.\n",
    "        To be overloaded in subclasses.\"\"\"\n",
    "        self.population = self.seed\n",
    "        self.seed_index = 0"
   ]
  },
  {
   "cell_type": "markdown",
   "metadata": {
    "slideshow": {
     "slide_type": "subslide"
    }
   },
   "source": [
    "In the following, let us develop `MutationFuzzer` further by adding more methods to it.  The Python language requires us to define an entire class with all methods as a single, continuous unit; however, we would like to introduce one method after another.  To avoid this problem, we use a special hack: Whenever we want to introduce a new method to some class `C`, we use the construct\n",
    "\n",
    "```python\n",
    "class C(C):\n",
    "    def new_method(self, args):\n",
    "        pass\n",
    "```\n",
    "\n",
    "This seems to define `C` as a subclass of itself, which would make no sense – but actually, it introduces a new `C` class as a subclass of the _old_ `C` class, and then shadowing the old `C` definition.  What this gets us is a `C` class with `new_method()` as a method, which is just what we want.  (`C` objects defined earlier will retain the earlier `C` definition, though, and thus must be rebuilt.)"
   ]
  },
  {
   "cell_type": "markdown",
   "metadata": {
    "slideshow": {
     "slide_type": "subslide"
    }
   },
   "source": [
    "Using this hack, we can now add a `mutate()` method that actually invokes the above `mutate()` function.  Having `mutate()` as a method is useful when we want to extend a `MutationFuzzer` later."
   ]
  },
  {
   "cell_type": "code",
   "execution_count": 38,
   "metadata": {
    "button": false,
    "execution": {
     "iopub.execute_input": "2025-10-26T13:23:51.081884Z",
     "iopub.status.busy": "2025-10-26T13:23:51.081795Z",
     "iopub.status.idle": "2025-10-26T13:23:51.083815Z",
     "shell.execute_reply": "2025-10-26T13:23:51.083441Z"
    },
    "new_sheet": false,
    "run_control": {
     "read_only": false
    },
    "slideshow": {
     "slide_type": "fragment"
    }
   },
   "outputs": [],
   "source": [
    "class MutationFuzzer(MutationFuzzer):\n",
    "    def mutate(self, inp: str) -> str:\n",
    "        return mutate(inp)"
   ]
  },
  {
   "cell_type": "markdown",
   "metadata": {
    "button": false,
    "new_sheet": false,
    "run_control": {
     "read_only": false
    },
    "slideshow": {
     "slide_type": "subslide"
    }
   },
   "source": [
    "Let's get back to our strategy, maximizing _diversity in coverage_ in our population.  First, let us create a method `create_candidate()`, which randomly picks some input from our current population (`self.population`), and then applies between `min_mutations` and `max_mutations` mutation steps, returning the final result:"
   ]
  },
  {
   "cell_type": "code",
   "execution_count": 39,
   "metadata": {
    "button": false,
    "execution": {
     "iopub.execute_input": "2025-10-26T13:23:51.085196Z",
     "iopub.status.busy": "2025-10-26T13:23:51.085101Z",
     "iopub.status.idle": "2025-10-26T13:23:51.087027Z",
     "shell.execute_reply": "2025-10-26T13:23:51.086808Z"
    },
    "new_sheet": false,
    "run_control": {
     "read_only": false
    },
    "slideshow": {
     "slide_type": "fragment"
    }
   },
   "outputs": [],
   "source": [
    "class MutationFuzzer(MutationFuzzer):\n",
    "    def create_candidate(self) -> str:\n",
    "        \"\"\"Create a new candidate by mutating a population member\"\"\"\n",
    "        candidate = random.choice(self.population)\n",
    "        trials = random.randint(self.min_mutations, self.max_mutations)\n",
    "        for i in range(trials):\n",
    "            candidate = self.mutate(candidate)\n",
    "        return candidate"
   ]
  },
  {
   "cell_type": "markdown",
   "metadata": {
    "slideshow": {
     "slide_type": "subslide"
    }
   },
   "source": [
    "The `fuzz()` method is set to first pick the seeds; when these are gone, we mutate:"
   ]
  },
  {
   "cell_type": "code",
   "execution_count": 40,
   "metadata": {
    "button": false,
    "execution": {
     "iopub.execute_input": "2025-10-26T13:23:51.088183Z",
     "iopub.status.busy": "2025-10-26T13:23:51.088107Z",
     "iopub.status.idle": "2025-10-26T13:23:51.089912Z",
     "shell.execute_reply": "2025-10-26T13:23:51.089694Z"
    },
    "new_sheet": false,
    "run_control": {
     "read_only": false
    },
    "slideshow": {
     "slide_type": "fragment"
    }
   },
   "outputs": [],
   "source": [
    "class MutationFuzzer(MutationFuzzer):\n",
    "    def fuzz(self) -> str:\n",
    "        if self.seed_index < len(self.seed):\n",
    "            # Still seeding\n",
    "            self.inp = self.seed[self.seed_index]\n",
    "            self.seed_index += 1\n",
    "        else:\n",
    "            # Mutating\n",
    "            self.inp = self.create_candidate()\n",
    "        return self.inp"
   ]
  },
  {
   "cell_type": "markdown",
   "metadata": {
    "slideshow": {
     "slide_type": "fragment"
    }
   },
   "source": [
    "Here is the `fuzz()` method in action. With every new invocation of `fuzz()`, we get another variant with multiple mutations applied.  "
   ]
  },
  {
   "cell_type": "code",
   "execution_count": 41,
   "metadata": {
    "execution": {
     "iopub.execute_input": "2025-10-26T13:23:51.091074Z",
     "iopub.status.busy": "2025-10-26T13:23:51.090998Z",
     "iopub.status.idle": "2025-10-26T13:23:51.092933Z",
     "shell.execute_reply": "2025-10-26T13:23:51.092714Z"
    },
    "slideshow": {
     "slide_type": "subslide"
    }
   },
   "outputs": [
    {
     "data": {
      "text/plain": [
       "'http://www.google.com/search?q=fuzzing'"
      ]
     },
     "execution_count": 41,
     "metadata": {},
     "output_type": "execute_result"
    }
   ],
   "source": [
    "seed_input = \"http://www.google.com/search?q=fuzzing\"\n",
    "mutation_fuzzer = MutationFuzzer(seed=[seed_input])\n",
    "mutation_fuzzer.fuzz()"
   ]
  },
  {
   "cell_type": "code",
   "execution_count": 42,
   "metadata": {
    "execution": {
     "iopub.execute_input": "2025-10-26T13:23:51.094135Z",
     "iopub.status.busy": "2025-10-26T13:23:51.094055Z",
     "iopub.status.idle": "2025-10-26T13:23:51.096165Z",
     "shell.execute_reply": "2025-10-26T13:23:51.095805Z"
    },
    "slideshow": {
     "slide_type": "fragment"
    }
   },
   "outputs": [
    {
     "data": {
      "text/plain": [
       "'http://www.gogl9ecom/earch?qfuzzing'"
      ]
     },
     "execution_count": 42,
     "metadata": {},
     "output_type": "execute_result"
    }
   ],
   "source": [
    "mutation_fuzzer.fuzz()"
   ]
  },
  {
   "cell_type": "code",
   "execution_count": 43,
   "metadata": {
    "execution": {
     "iopub.execute_input": "2025-10-26T13:23:51.097417Z",
     "iopub.status.busy": "2025-10-26T13:23:51.097325Z",
     "iopub.status.idle": "2025-10-26T13:23:51.099296Z",
     "shell.execute_reply": "2025-10-26T13:23:51.099100Z"
    },
    "slideshow": {
     "slide_type": "fragment"
    }
   },
   "outputs": [
    {
     "data": {
      "text/plain": [
       "'htotq:/www.googleom/yseach?q=fzzijg'"
      ]
     },
     "execution_count": 43,
     "metadata": {},
     "output_type": "execute_result"
    }
   ],
   "source": [
    "mutation_fuzzer.fuzz()"
   ]
  },
  {
   "cell_type": "markdown",
   "metadata": {
    "button": false,
    "new_sheet": false,
    "run_control": {
     "read_only": false
    },
    "slideshow": {
     "slide_type": "fragment"
    }
   },
   "source": [
    "The higher variety in inputs, though, increases the risk of having an invalid input.  The key to success lies in the idea of _guiding_ these mutations – that is, _keeping those that are especially valuable._"
   ]
  },
  {
   "cell_type": "markdown",
   "metadata": {
    "button": false,
    "new_sheet": false,
    "run_control": {
     "read_only": false
    },
    "slideshow": {
     "slide_type": "slide"
    }
   },
   "source": [
    "## Guiding by Coverage\n",
    "\n",
    "To cover as much functionality as possible, one can rely on either _specified_ or _implemented_ functionality, as discussed in the [\"Coverage\"](Coverage.ipynb) chapter.  For now, we will not assume that there is a specification of program behavior (although it _definitely_ would be good to have one!).  We _will_ assume, though, that the program to be tested exists – and that we can leverage its structure to guide test generation.\n",
    "\n",
    "Since testing always executes the program at hand, one can always gather information about its execution – the least is the information needed to decide whether a test passes or fails.  Since coverage is frequently measured as well to determine test quality, let us also assume we can retrieve coverage of a test run.  The question is then: _How can we leverage coverage to guide test generation?_"
   ]
  },
  {
   "cell_type": "markdown",
   "metadata": {
    "button": false,
    "new_sheet": false,
    "run_control": {
     "read_only": false
    },
    "slideshow": {
     "slide_type": "subslide"
    }
   },
   "source": [
    "One particularly successful idea is implemented in the popular fuzzer named [American fuzzy lop](http://lcamtuf.coredump.cx/afl/), or *AFL* for short.  Just like our examples above, AFL evolves test cases that have been successful – but for AFL, \"success\" means _finding a new path through the program execution_.  This way, AFL can keep on mutating inputs that so far have found new paths; and if an input finds another path, it will be retained as well."
   ]
  },
  {
   "cell_type": "markdown",
   "metadata": {
    "slideshow": {
     "slide_type": "subslide"
    }
   },
   "source": [
    "Let us build such a strategy.  We start with introducing a `Runner` class that captures the coverage for a given function.  First, a `FunctionRunner` class:"
   ]
  },
  {
   "cell_type": "code",
   "execution_count": 44,
   "metadata": {
    "button": false,
    "execution": {
     "iopub.execute_input": "2025-10-26T13:23:51.100483Z",
     "iopub.status.busy": "2025-10-26T13:23:51.100411Z",
     "iopub.status.idle": "2025-10-26T13:23:51.101786Z",
     "shell.execute_reply": "2025-10-26T13:23:51.101582Z"
    },
    "new_sheet": false,
    "run_control": {
     "read_only": false
    },
    "slideshow": {
     "slide_type": "skip"
    }
   },
   "outputs": [],
   "source": [
    "from Fuzzer import Runner"
   ]
  },
  {
   "cell_type": "code",
   "execution_count": 45,
   "metadata": {
    "button": false,
    "execution": {
     "iopub.execute_input": "2025-10-26T13:23:51.102823Z",
     "iopub.status.busy": "2025-10-26T13:23:51.102744Z",
     "iopub.status.idle": "2025-10-26T13:23:51.104767Z",
     "shell.execute_reply": "2025-10-26T13:23:51.104522Z"
    },
    "new_sheet": false,
    "run_control": {
     "read_only": false
    },
    "slideshow": {
     "slide_type": "fragment"
    }
   },
   "outputs": [],
   "source": [
    "class FunctionRunner(Runner):\n",
    "    def __init__(self, function: Callable) -> None:\n",
    "        \"\"\"Initialize.  `function` is a function to be executed\"\"\"\n",
    "        self.function = function\n",
    "\n",
    "    def run_function(self, inp: str) -> Any:\n",
    "        return self.function(inp)\n",
    "\n",
    "    def run(self, inp: str) -> Tuple[Any, str]:\n",
    "        try:\n",
    "            result = self.run_function(inp)\n",
    "            outcome = self.PASS\n",
    "        except Exception:\n",
    "            result = None\n",
    "            outcome = self.FAIL\n",
    "\n",
    "        return result, outcome"
   ]
  },
  {
   "cell_type": "code",
   "execution_count": 46,
   "metadata": {
    "execution": {
     "iopub.execute_input": "2025-10-26T13:23:51.105818Z",
     "iopub.status.busy": "2025-10-26T13:23:51.105751Z",
     "iopub.status.idle": "2025-10-26T13:23:51.107695Z",
     "shell.execute_reply": "2025-10-26T13:23:51.107445Z"
    },
    "slideshow": {
     "slide_type": "fragment"
    }
   },
   "outputs": [
    {
     "data": {
      "text/plain": [
       "(True, 'PASS')"
      ]
     },
     "execution_count": 46,
     "metadata": {},
     "output_type": "execute_result"
    }
   ],
   "source": [
    "http_runner = FunctionRunner(http_program)\n",
    "http_runner.run(\"https://foo.bar/\")"
   ]
  },
  {
   "cell_type": "markdown",
   "metadata": {
    "slideshow": {
     "slide_type": "subslide"
    }
   },
   "source": [
    "We can now extend the `FunctionRunner` class such that it also measures coverage.  After invoking `run()`, the `coverage()` method returns the coverage achieved in the last run."
   ]
  },
  {
   "cell_type": "code",
   "execution_count": 47,
   "metadata": {
    "button": false,
    "execution": {
     "iopub.execute_input": "2025-10-26T13:23:51.109002Z",
     "iopub.status.busy": "2025-10-26T13:23:51.108920Z",
     "iopub.status.idle": "2025-10-26T13:23:51.365463Z",
     "shell.execute_reply": "2025-10-26T13:23:51.365191Z"
    },
    "new_sheet": false,
    "run_control": {
     "read_only": false
    },
    "slideshow": {
     "slide_type": "skip"
    }
   },
   "outputs": [],
   "source": [
    "from Coverage import Coverage, population_coverage, Location"
   ]
  },
  {
   "cell_type": "code",
   "execution_count": 48,
   "metadata": {
    "button": false,
    "execution": {
     "iopub.execute_input": "2025-10-26T13:23:51.367189Z",
     "iopub.status.busy": "2025-10-26T13:23:51.367055Z",
     "iopub.status.idle": "2025-10-26T13:23:51.369204Z",
     "shell.execute_reply": "2025-10-26T13:23:51.369005Z"
    },
    "new_sheet": false,
    "run_control": {
     "read_only": false
    },
    "slideshow": {
     "slide_type": "fragment"
    }
   },
   "outputs": [],
   "source": [
    "class FunctionCoverageRunner(FunctionRunner):\n",
    "    def run_function(self, inp: str) -> Any:\n",
    "        with Coverage() as cov:\n",
    "            try:\n",
    "                result = super().run_function(inp)\n",
    "            except Exception as exc:\n",
    "                self._coverage = cov.coverage()\n",
    "                raise exc\n",
    "\n",
    "        self._coverage = cov.coverage()\n",
    "        return result\n",
    "\n",
    "    def coverage(self) -> Set[Location]:\n",
    "        return self._coverage"
   ]
  },
  {
   "cell_type": "code",
   "execution_count": 49,
   "metadata": {
    "execution": {
     "iopub.execute_input": "2025-10-26T13:23:51.370488Z",
     "iopub.status.busy": "2025-10-26T13:23:51.370404Z",
     "iopub.status.idle": "2025-10-26T13:23:51.372814Z",
     "shell.execute_reply": "2025-10-26T13:23:51.372587Z"
    },
    "slideshow": {
     "slide_type": "fragment"
    }
   },
   "outputs": [
    {
     "data": {
      "text/plain": [
       "(True, 'PASS')"
      ]
     },
     "execution_count": 49,
     "metadata": {},
     "output_type": "execute_result"
    }
   ],
   "source": [
    "http_runner = FunctionCoverageRunner(http_program)\n",
    "http_runner.run(\"https://foo.bar/\")"
   ]
  },
  {
   "cell_type": "markdown",
   "metadata": {
    "slideshow": {
     "slide_type": "subslide"
    }
   },
   "source": [
    "Here are the first five locations covered: "
   ]
  },
  {
   "cell_type": "code",
   "execution_count": 50,
   "metadata": {
    "execution": {
     "iopub.execute_input": "2025-10-26T13:23:51.374389Z",
     "iopub.status.busy": "2025-10-26T13:23:51.374288Z",
     "iopub.status.idle": "2025-10-26T13:23:51.376151Z",
     "shell.execute_reply": "2025-10-26T13:23:51.375911Z"
    },
    "slideshow": {
     "slide_type": "fragment"
    }
   },
   "outputs": [
    {
     "name": "stdout",
     "output_type": "stream",
     "text": [
      "[('urlparse', 396), ('urlparse', 402), ('http_program', 2), ('_coerce_args', 125), ('http_program', 11)]\n"
     ]
    }
   ],
   "source": [
    "print(list(http_runner.coverage())[:5])"
   ]
  },
  {
   "cell_type": "markdown",
   "metadata": {
    "run_control": {},
    "slideshow": {
     "slide_type": "subslide"
    }
   },
   "source": [
    "Now for the main class.  We maintain the population and a set of coverages already achieved (`coverages_seen`).  The `fuzz()` helper function takes an input and runs the given `function()` on it.  If its coverage is new (i.e. not in `coverages_seen`), the input is added to `population` and the coverage to `coverages_seen`."
   ]
  },
  {
   "cell_type": "code",
   "execution_count": 51,
   "metadata": {
    "button": false,
    "execution": {
     "iopub.execute_input": "2025-10-26T13:23:51.377524Z",
     "iopub.status.busy": "2025-10-26T13:23:51.377432Z",
     "iopub.status.idle": "2025-10-26T13:23:51.379693Z",
     "shell.execute_reply": "2025-10-26T13:23:51.379483Z"
    },
    "new_sheet": false,
    "run_control": {
     "read_only": false
    },
    "slideshow": {
     "slide_type": "fragment"
    }
   },
   "outputs": [],
   "source": [
    "class MutationCoverageFuzzer(MutationFuzzer):\n",
    "    \"\"\"Fuzz with mutated inputs based on coverage\"\"\"\n",
    "\n",
    "    def reset(self) -> None:\n",
    "        super().reset()\n",
    "        self.coverages_seen: Set[frozenset] = set()\n",
    "        # Now empty; we fill this with seed in the first fuzz runs\n",
    "        self.population = []\n",
    "\n",
    "    def run(self, runner: FunctionCoverageRunner) -> Any:  # type: ignore\n",
    "        \"\"\"Run function(inp) while tracking coverage.\n",
    "           If we reach new coverage,\n",
    "           add inp to population and its coverage to population_coverage\n",
    "        \"\"\"\n",
    "        result, outcome = super().run(runner)\n",
    "        new_coverage = frozenset(runner.coverage())\n",
    "        if outcome == Runner.PASS and new_coverage not in self.coverages_seen:\n",
    "            # We have new coverage\n",
    "            self.population.append(self.inp)\n",
    "            self.coverages_seen.add(new_coverage)\n",
    "\n",
    "        return result"
   ]
  },
  {
   "cell_type": "markdown",
   "metadata": {
    "run_control": {},
    "slideshow": {
     "slide_type": "subslide"
    }
   },
   "source": [
    "Let us now put this to use:"
   ]
  },
  {
   "cell_type": "code",
   "execution_count": 52,
   "metadata": {
    "execution": {
     "iopub.execute_input": "2025-10-26T13:23:51.380952Z",
     "iopub.status.busy": "2025-10-26T13:23:51.380857Z",
     "iopub.status.idle": "2025-10-26T13:23:52.974383Z",
     "shell.execute_reply": "2025-10-26T13:23:52.974102Z"
    },
    "slideshow": {
     "slide_type": "fragment"
    }
   },
   "outputs": [
    {
     "data": {
      "text/plain": [
       "['http://www.google.com/search?q=fuzzing',\n",
       " 'http://ww.google.co/searc(?q=fuzzin_g',\n",
       " 'http://ww.google.#o/sarc(?q=fuzzhn_w',\n",
       " 'Http://www.g/ogle.com/earchq=fuzzing',\n",
       " 'http://$\\x7fw,go0ogle.co/searc(;q=fXzin_g',\n",
       " 'http://$\\x7fw(g\\x7f0ogle&@cosWearc(;q3=fXzin_g',\n",
       " 'Http://www.g/ogle*com;/ea+chq=fuzzing',\n",
       " 'http://ww.Google.co/saarch?#q=fuzzi|n_o',\n",
       " 'http://{$H\\x7fw,o0ogle.co/sarc(;q=fXzi#n_\"g',\n",
       " 'http://ww.gogle.bm/s;eqrh?q=fuzzi)ng',\n",
       " 'Http://www.g/ogQle*com;/ea#ch=fu~ring',\n",
       " 'Http://\\x7fww.g/ogle*com;/Yeachq?8fuzzing',\n",
       " 'Http://wwwd.g/ogQle*com;?ea#ch=fu~ring',\n",
       " 'Http://www.g/ogQle*com;/1ea?#ch=fu~ring']"
      ]
     },
     "execution_count": 52,
     "metadata": {},
     "output_type": "execute_result"
    }
   ],
   "source": [
    "seed_input = \"http://www.google.com/search?q=fuzzing\"\n",
    "mutation_fuzzer = MutationCoverageFuzzer(seed=[seed_input])\n",
    "mutation_fuzzer.runs(http_runner, trials=10000)\n",
    "mutation_fuzzer.population"
   ]
  },
  {
   "cell_type": "markdown",
   "metadata": {
    "button": false,
    "new_sheet": false,
    "run_control": {
     "read_only": false
    },
    "slideshow": {
     "slide_type": "subslide"
    }
   },
   "source": [
    "Success!  In our population, _each and every input_ now is valid and has a different coverage, coming from various combinations of schemes, paths, queries, and fragments."
   ]
  },
  {
   "cell_type": "code",
   "execution_count": 53,
   "metadata": {
    "button": false,
    "execution": {
     "iopub.execute_input": "2025-10-26T13:23:52.975726Z",
     "iopub.status.busy": "2025-10-26T13:23:52.975640Z",
     "iopub.status.idle": "2025-10-26T13:23:52.979719Z",
     "shell.execute_reply": "2025-10-26T13:23:52.979353Z"
    },
    "new_sheet": false,
    "run_control": {
     "read_only": false
    },
    "slideshow": {
     "slide_type": "subslide"
    }
   },
   "outputs": [],
   "source": [
    "all_coverage, cumulative_coverage = population_coverage(\n",
    "    mutation_fuzzer.population, http_program)"
   ]
  },
  {
   "cell_type": "code",
   "execution_count": 54,
   "metadata": {
    "button": false,
    "execution": {
     "iopub.execute_input": "2025-10-26T13:23:52.981199Z",
     "iopub.status.busy": "2025-10-26T13:23:52.981019Z",
     "iopub.status.idle": "2025-10-26T13:23:52.982737Z",
     "shell.execute_reply": "2025-10-26T13:23:52.982525Z"
    },
    "new_sheet": false,
    "run_control": {
     "read_only": false
    },
    "slideshow": {
     "slide_type": "subslide"
    }
   },
   "outputs": [],
   "source": [
    "import matplotlib.pyplot as plt  # type: ignore"
   ]
  },
  {
   "cell_type": "code",
   "execution_count": 55,
   "metadata": {
    "button": false,
    "execution": {
     "iopub.execute_input": "2025-10-26T13:23:52.983993Z",
     "iopub.status.busy": "2025-10-26T13:23:52.983914Z",
     "iopub.status.idle": "2025-10-26T13:23:53.061501Z",
     "shell.execute_reply": "2025-10-26T13:23:53.061226Z"
    },
    "new_sheet": false,
    "run_control": {
     "read_only": false
    },
    "slideshow": {
     "slide_type": "subslide"
    }
   },
   "outputs": [
    {
     "data": {
      "image/png": "[encoded data removed]",
      "text/plain": [
       "<Figure size 640x480 with 1 Axes>"
      ]
     },
     "metadata": {},
     "output_type": "display_data"
    }
   ],
   "source": [
    "plt.plot(cumulative_coverage)\n",
    "plt.title('Coverage of urlparse() with random inputs')\n",
    "plt.xlabel('# of inputs')\n",
    "plt.ylabel('lines covered');"
   ]
  },
  {
   "cell_type": "markdown",
   "metadata": {
    "button": false,
    "new_sheet": false,
    "run_control": {
     "read_only": false
    },
    "slideshow": {
     "slide_type": "fragment"
    }
   },
   "source": [
    "The nice thing about this strategy is that, applied to larger programs, it will happily explore one path after the other – covering functionality after functionality.  All that is needed is a means to capture the coverage."
   ]
  },
  {
   "cell_type": "markdown",
   "metadata": {
    "button": false,
    "new_sheet": false,
    "run_control": {
     "read_only": false
    },
    "slideshow": {
     "slide_type": "slide"
    }
   },
   "source": [
    "## Lessons Learned\n",
    "\n",
    "* Randomly generated inputs are frequently invalid – and thus exercise mostly input processing functionality.\n",
    "* Mutations from existing valid inputs have much higher chances to be valid, and thus to exercise functionality beyond input processing.\n"
   ]
  },
  {
   "cell_type": "markdown",
   "metadata": {
    "button": false,
    "new_sheet": false,
    "run_control": {
     "read_only": false
    },
    "slideshow": {
     "slide_type": "slide"
    }
   },
   "source": [
    "## Next Steps\n",
    "\n",
    "In the next chapter on [greybox fuzzing](GreyboxFuzzer.ipynb), we further extend the concept of mutation-based testing with _power schedules_ that allow spending more energy on seeds that exercise \"unlikely\" paths and seeds that are \"closer\" to a target location."
   ]
  },
  {
   "cell_type": "markdown",
   "metadata": {
    "button": false,
    "new_sheet": false,
    "run_control": {
     "read_only": false
    },
    "slideshow": {
     "slide_type": "slide"
    }
   },
   "source": [
    "## Exercises\n"
   ]
  },
  {
   "cell_type": "markdown",
   "metadata": {
    "button": false,
    "new_sheet": false,
    "run_control": {
     "read_only": false
    },
    "slideshow": {
     "slide_type": "subslide"
    }
   },
   "source": [
    "### Exercise 1: Fuzzing CGI decode with Mutations\n",
    "\n",
    "Apply the above _guided_ mutation-based fuzzing technique on `cgi_decode()` from the [\"Coverage\"](Coverage.ipynb) chapter.  How many trials do you need until you cover all variations of `+`, `%` (valid and invalid), and regular characters?"
   ]
  },
  {
   "cell_type": "code",
   "execution_count": 60,
   "metadata": {
    "execution": {
     "iopub.execute_input": "2025-10-26T13:23:55.506790Z",
     "iopub.status.busy": "2025-10-26T13:23:55.506672Z",
     "iopub.status.idle": "2025-10-26T13:23:55.508426Z",
     "shell.execute_reply": "2025-10-26T13:23:55.508160Z"
    },
    "run_control": {},
    "slideshow": {
     "slide_type": "skip"
    }
   },
   "outputs": [],
   "source": [
    "from Coverage import cgi_decode"
   ]
  },
  {
   "cell_type": "code",
   "execution_count": 61,
   "metadata": {
    "execution": {
     "iopub.execute_input": "2025-10-26T13:23:55.509813Z",
     "iopub.status.busy": "2025-10-26T13:23:55.509708Z",
     "iopub.status.idle": "2025-10-26T13:23:57.063913Z",
     "shell.execute_reply": "2025-10-26T13:23:57.063456Z"
    },
    "run_control": {},
    "slideshow": {
     "slide_type": "fragment"
    }
   },
   "outputs": [],
   "source": [
    "seed = [\"Hello World\"]\n",
    "cgi_runner = FunctionCoverageRunner(cgi_decode)\n",
    "m = MutationCoverageFuzzer(seed)\n",
    "results = m.runs(cgi_runner, 10000)"
   ]
  },
  {
   "cell_type": "code",
   "execution_count": 62,
   "metadata": {
    "execution": {
     "iopub.execute_input": "2025-10-26T13:23:57.065840Z",
     "iopub.status.busy": "2025-10-26T13:23:57.065732Z",
     "iopub.status.idle": "2025-10-26T13:23:57.067843Z",
     "shell.execute_reply": "2025-10-26T13:23:57.067628Z"
    },
    "slideshow": {
     "slide_type": "fragment"
    }
   },
   "outputs": [
    {
     "data": {
      "text/plain": [
       "['Hello World', 'he_<+llo(or<D', 'L}eml &Wol%dD', 'L)q<}aml &cWol%d3D+']"
      ]
     },
     "execution_count": 62,
     "metadata": {},
     "output_type": "execute_result"
    }
   ],
   "source": [
    "m.population"
   ]
  },
  {
   "cell_type": "code",
   "execution_count": 63,
   "metadata": {
    "execution": {
     "iopub.execute_input": "2025-10-26T13:23:57.069501Z",
     "iopub.status.busy": "2025-10-26T13:23:57.069378Z",
     "iopub.status.idle": "2025-10-26T13:23:57.071976Z",
     "shell.execute_reply": "2025-10-26T13:23:57.071650Z"
    },
    "slideshow": {
     "slide_type": "subslide"
    }
   },
   "outputs": [
    {
     "data": {
      "text/plain": [
       "{('cgi_decode', 16),\n",
       " ('cgi_decode', 17),\n",
       " ('cgi_decode', 18),\n",
       " ('cgi_decode', 19),\n",
       " ('cgi_decode', 20),\n",
       " ('cgi_decode', 23),\n",
       " ('cgi_decode', 24),\n",
       " ('cgi_decode', 25),\n",
       " ('cgi_decode', 26),\n",
       " ('cgi_decode', 27),\n",
       " ('cgi_decode', 29),\n",
       " ('cgi_decode', 38),\n",
       " ('cgi_decode', 39),\n",
       " ('cgi_decode', 40),\n",
       " ('run_function', 7)}"
      ]
     },
     "execution_count": 63,
     "metadata": {},
     "output_type": "execute_result"
    }
   ],
   "source": [
    "cgi_runner.coverage()"
   ]
  },
  {
   "cell_type": "code",
   "execution_count": 64,
   "metadata": {
    "button": false,
    "execution": {
     "iopub.execute_input": "2025-10-26T13:23:57.073548Z",
     "iopub.status.busy": "2025-10-26T13:23:57.073376Z",
     "iopub.status.idle": "2025-10-26T13:23:57.128165Z",
     "shell.execute_reply": "2025-10-26T13:23:57.127851Z"
    },
    "new_sheet": false,
    "run_control": {
     "read_only": false
    },
    "slideshow": {
     "slide_type": "fragment"
    }
   },
   "outputs": [
    {
     "data": {
      "image/png": "[encoded data removed]",
      "text/plain": [
       "<Figure size 640x480 with 1 Axes>"
      ]
     },
     "metadata": {},
     "output_type": "display_data"
    }
   ],
   "source": [
    "all_coverage, cumulative_coverage = population_coverage(\n",
    "    m.population, cgi_decode)\n",
    "\n",
    "import matplotlib.pyplot as plt\n",
    "plt.plot(cumulative_coverage)\n",
    "plt.title('Coverage of cgi_decode() with random inputs')\n",
    "plt.xlabel('# of inputs')\n",
    "plt.ylabel('lines covered');"
   ]
  },
  {
   "cell_type": "markdown",
   "metadata": {
    "slideshow": {
     "slide_type": "fragment"
    }
   },
   "source": [
    "After 10,000 runs, we have managed to synthesize a `+` character and a valid `%xx` form.  We can still do better."
   ]
  },
  {
   "cell_type": "markdown",
   "metadata": {
    "button": false,
    "new_sheet": false,
    "run_control": {
     "read_only": false
    },
    "slideshow": {
     "slide_type": "subslide"
    },
    "solution2": "hidden",
    "solution2_first": true
   },
   "source": [
    "### Exercise 2: Fuzzing bc with Mutations\n",
    "\n",
    "Apply the above mutation-based fuzzing technique on `bc`, as in the chapter [\"Introduction to Fuzzing\"](Fuzzer.ipynb).\n",
    "\n",
    "#### Part 1: Non-Guided Mutations\n",
    "\n",
    "Start with non-guided mutations.  How many of the inputs are valid?"
   ]
  },
  {
   "cell_type": "markdown",
   "metadata": {
    "slideshow": {
     "slide_type": "skip"
    },
    "solution2": "hidden"
   },
   "source": [
    "**Solution.** This is just a matter of tying a `ProgramRunner` to a `MutationFuzzer`:"
   ]
  },
  {
   "cell_type": "code",
   "execution_count": 65,
   "metadata": {
    "execution": {
     "iopub.execute_input": "2025-10-26T13:23:57.129864Z",
     "iopub.status.busy": "2025-10-26T13:23:57.129752Z",
     "iopub.status.idle": "2025-10-26T13:23:57.131939Z",
     "shell.execute_reply": "2025-10-26T13:23:57.131483Z"
    },
    "slideshow": {
     "slide_type": "skip"
    },
    "solution2": "hidden"
   },
   "outputs": [],
   "source": [
    "from Fuzzer import ProgramRunner"
   ]
  },
  {
   "cell_type": "code",
   "execution_count": 66,
   "metadata": {
    "execution": {
     "iopub.execute_input": "2025-10-26T13:23:57.133620Z",
     "iopub.status.busy": "2025-10-26T13:23:57.133497Z",
     "iopub.status.idle": "2025-10-26T13:23:57.574172Z",
     "shell.execute_reply": "2025-10-26T13:23:57.573604Z"
    },
    "slideshow": {
     "slide_type": "skip"
    },
    "solution2": "hidden"
   },
   "outputs": [],
   "source": [
    "seed = [\"1 + 1\"]\n",
    "bc = ProgramRunner(program=\"bc\")\n",
    "m = MutationFuzzer(seed)\n",
    "outcomes = m.runs(bc, trials=100)"
   ]
  },
  {
   "cell_type": "code",
   "execution_count": 67,
   "metadata": {
    "execution": {
     "iopub.execute_input": "2025-10-26T13:23:57.576109Z",
     "iopub.status.busy": "2025-10-26T13:23:57.575975Z",
     "iopub.status.idle": "2025-10-26T13:23:57.578696Z",
     "shell.execute_reply": "2025-10-26T13:23:57.578418Z"
    },
    "slideshow": {
     "slide_type": "skip"
    },
    "solution2": "hidden"
   },
   "outputs": [
    {
     "data": {
      "text/plain": [
       "[(CompletedProcess(args='bc', returncode=0, stdout='2\\n', stderr=''), 'PASS'),\n",
       " (CompletedProcess(args='bc', returncode=0, stdout='41\\n', stderr=''), 'PASS'),\n",
       " (CompletedProcess(args='bc', returncode=2, stdout='', stderr='\\nParse error: bad expression\\n    <stdin>:1\\n\\n'),\n",
       "  'UNRESOLVED')]"
      ]
     },
     "execution_count": 67,
     "metadata": {},
     "output_type": "execute_result"
    }
   ],
   "source": [
    "outcomes[:3]"
   ]
  },
  {
   "cell_type": "code",
   "execution_count": 68,
   "metadata": {
    "execution": {
     "iopub.execute_input": "2025-10-26T13:23:57.580441Z",
     "iopub.status.busy": "2025-10-26T13:23:57.580329Z",
     "iopub.status.idle": "2025-10-26T13:23:57.582692Z",
     "shell.execute_reply": "2025-10-26T13:23:57.582433Z"
    },
    "slideshow": {
     "slide_type": "skip"
    },
    "solution2": "hidden"
   },
   "outputs": [
    {
     "data": {
      "text/plain": [
       "17"
      ]
     },
     "execution_count": 68,
     "metadata": {},
     "output_type": "execute_result"
    }
   ],
   "source": [
    "sum(1 for completed_process, outcome in outcomes if completed_process.stderr == \"\")"
   ]
  },
  {
   "cell_type": "markdown",
   "metadata": {
    "slideshow": {
     "slide_type": "subslide"
    }
   },
   "source": [
    "#### Part 2: Guided Mutations\n",
    "\n",
    "Continue with _guided_ mutations.  To this end, you will have to find a way to extract coverage from a C program such as `bc`.  Proceed in these steps:\n",
    "\n",
    "First, get [GNU bc](https://www.gnu.org/software/bc/); download, say, `bc-1.07.1.tar.gz` and unpack it:"
   ]
  },
  {
   "cell_type": "code",
   "execution_count": 69,
   "metadata": {
    "execution": {
     "iopub.execute_input": "2025-10-26T13:23:57.584026Z",
     "iopub.status.busy": "2025-10-26T13:23:57.583922Z",
     "iopub.status.idle": "2025-10-26T13:23:59.037954Z",
     "shell.execute_reply": "2025-10-26T13:23:59.036975Z"
    },
    "slideshow": {
     "slide_type": "subslide"
    }
   },
   "outputs": [
    {
     "name": "stdout",
     "output_type": "stream",
     "text": [
      "  % Total    % Received % Xferd  Average Speed   Time    Time     Time  Current\r\n",
      "                                 Dload  Upload   Total   Spent    Left  Speed\r\n",
      "\r",
      "  0     0    0     0    0     0      0      0 --:--:-- --:--:-- --:--:--     0"
     ]
    },
    {
     "name": "stdout",
     "output_type": "stream",
     "text": [
      "\r",
      "  0     0    0     0    0     0      0      0 --:--:-- --:--:-- --:--:--     0"
     ]
    },
    {
     "name": "stdout",
     "output_type": "stream",
     "text": [
      "\r",
      " 55  410k   55  225k    0     0   175k      0  0:00:02  0:00:01  0:00:01  175k"
     ]
    },
    {
     "name": "stdout",
     "output_type": "stream",
     "text": [
      "\r",
      "100  410k  100  410k    0     0   313k      0  0:00:01  0:00:01 --:--:--  313k\r\n"
     ]
    }
   ],
   "source": [
    "!curl -O mirrors.kernel.org/gnu/bc/bc-1.07.1.tar.gz"
   ]
  },
  {
   "cell_type": "code",
   "execution_count": 70,
   "metadata": {
    "execution": {
     "iopub.execute_input": "2025-10-26T13:23:59.043695Z",
     "iopub.status.busy": "2025-10-26T13:23:59.042274Z",
     "iopub.status.idle": "2025-10-26T13:23:59.220286Z",
     "shell.execute_reply": "2025-10-26T13:23:59.219778Z"
    },
    "slideshow": {
     "slide_type": "fragment"
    }
   },
   "outputs": [],
   "source": [
    "!tar xfz bc-1.07.1.tar.gz"
   ]
  },
  {
   "cell_type": "markdown",
   "metadata": {
    "slideshow": {
     "slide_type": "fragment"
    }
   },
   "source": [
    "Second, configure the package:"
   ]
  },
  {
   "cell_type": "code",
   "execution_count": 71,
   "metadata": {
    "execution": {
     "iopub.execute_input": "2025-10-26T13:23:59.222661Z",
     "iopub.status.busy": "2025-10-26T13:23:59.222522Z",
     "iopub.status.idle": "2025-10-26T13:24:07.925433Z",
     "shell.execute_reply": "2025-10-26T13:24:07.924918Z"
    },
    "slideshow": {
     "slide_type": "subslide"
    }
   },
   "outputs": [
    {
     "name": "stdout",
     "output_type": "stream",
     "text": [
      "checking for a BSD-compatible install... "
     ]
    },
    {
     "name": "stdout",
     "output_type": "stream",
     "text": [
      "/opt/homebrew/bin/ginstall -c\r\n",
      "checking whether build environment is sane... yes\r\n",
      "checking for a thread-safe mkdir -p... "
     ]
    },
    {
     "name": "stdout",
     "output_type": "stream",
     "text": [
      "/opt/homebrew/bin/gmkdir -p\r\n",
      "checking for gawk... no\r\n",
      "checking for mawk... no\r\n",
      "checking for nawk... no\r\n",
      "checking for awk... awk\r\n",
      "checking whether make sets $(MAKE)... yes\r\n"
     ]
    },
    {
     "name": "stdout",
     "output_type": "stream",
     "text": [
      "checking whether make supports nested variables... yes\r\n",
      "checking for gcc... gcc\r\n"
     ]
    },
    {
     "name": "stdout",
     "output_type": "stream",
     "text": [
      "checking whether the C compiler works... "
     ]
    },
    {
     "name": "stdout",
     "output_type": "stream",
     "text": [
      "yes\r\n",
      "checking for C compiler default output file name... a.out\r\n",
      "checking for suffix of executables... "
     ]
    },
    {
     "name": "stdout",
     "output_type": "stream",
     "text": [
      "\r\n"
     ]
    },
    {
     "name": "stdout",
     "output_type": "stream",
     "text": [
      "checking whether we are cross compiling... "
     ]
    },
    {
     "name": "stdout",
     "output_type": "stream",
     "text": [
      "no\r\n"
     ]
    },
    {
     "name": "stdout",
     "output_type": "stream",
     "text": [
      "checking for suffix of object files... o\r\n",
      "checking whether we are using the GNU C compiler... "
     ]
    },
    {
     "name": "stdout",
     "output_type": "stream",
     "text": [
      "yes\r\n",
      "checking whether gcc accepts -g... "
     ]
    },
    {
     "name": "stdout",
     "output_type": "stream",
     "text": [
      "yes\r\n",
      "checking for gcc option to accept ISO C89... "
     ]
    },
    {
     "name": "stdout",
     "output_type": "stream",
     "text": [
      "none needed\r\n",
      "checking whether gcc understands -c and -o together... "
     ]
    },
    {
     "name": "stdout",
     "output_type": "stream",
     "text": [
      "yes\r\n",
      "checking for style of include used by make... GNU\r\n",
      "checking dependency style of gcc... "
     ]
    },
    {
     "name": "stdout",
     "output_type": "stream",
     "text": [
      "gcc3\r\n",
      "checking how to run the C preprocessor... "
     ]
    },
    {
     "name": "stdout",
     "output_type": "stream",
     "text": [
      "gcc -E\r\n"
     ]
    },
    {
     "name": "stdout",
     "output_type": "stream",
     "text": [
      "checking for grep that handles long lines and -e... /usr/bin/grep\r\n",
      "checking for egrep... /usr/bin/grep -E\r\n",
      "checking for ANSI C header files... "
     ]
    },
    {
     "name": "stdout",
     "output_type": "stream",
     "text": [
      "yes\r\n",
      "checking for sys/types.h... "
     ]
    },
    {
     "name": "stdout",
     "output_type": "stream",
     "text": [
      "yes\r\n",
      "checking for sys/stat.h... "
     ]
    },
    {
     "name": "stdout",
     "output_type": "stream",
     "text": [
      "yes\r\n",
      "checking for stdlib.h... "
     ]
    },
    {
     "name": "stdout",
     "output_type": "stream",
     "text": [
      "yes\r\n"
     ]
    },
    {
     "name": "stdout",
     "output_type": "stream",
     "text": [
      "checking for string.h... "
     ]
    },
    {
     "name": "stdout",
     "output_type": "stream",
     "text": [
      "yes\r\n",
      "checking for memory.h... "
     ]
    },
    {
     "name": "stdout",
     "output_type": "stream",
     "text": [
      "yes\r\n",
      "checking for strings.h... "
     ]
    },
    {
     "name": "stdout",
     "output_type": "stream",
     "text": [
      "yes\r\n",
      "checking for inttypes.h... "
     ]
    },
    {
     "name": "stdout",
     "output_type": "stream",
     "text": [
      "yes\r\n"
     ]
    },
    {
     "name": "stdout",
     "output_type": "stream",
     "text": [
      "checking for stdint.h... "
     ]
    },
    {
     "name": "stdout",
     "output_type": "stream",
     "text": [
      "yes\r\n",
      "checking for unistd.h... "
     ]
    },
    {
     "name": "stdout",
     "output_type": "stream",
     "text": [
      "yes\r\n",
      "checking minix/config.h usability... "
     ]
    },
    {
     "name": "stdout",
     "output_type": "stream",
     "text": [
      "no\r\n",
      "checking minix/config.h presence... "
     ]
    },
    {
     "name": "stdout",
     "output_type": "stream",
     "text": [
      "no\r\n",
      "checking for minix/config.h... no\r\n",
      "checking whether it is safe to define __EXTENSIONS__... "
     ]
    },
    {
     "name": "stdout",
     "output_type": "stream",
     "text": [
      "yes\r\n",
      "checking for flex... flex\r\n"
     ]
    },
    {
     "name": "stdout",
     "output_type": "stream",
     "text": [
      "checking lex output file root... lex.yy\r\n",
      "checking lex library... "
     ]
    },
    {
     "name": "stdout",
     "output_type": "stream",
     "text": [
      "-ll\r\n",
      "checking whether yytext is a pointer... "
     ]
    },
    {
     "name": "stdout",
     "output_type": "stream",
     "text": [
      "yes\r\n"
     ]
    },
    {
     "name": "stdout",
     "output_type": "stream",
     "text": [
      "checking for ar... ar\r\n",
      "checking the archiver (ar) interface... "
     ]
    },
    {
     "name": "stdout",
     "output_type": "stream",
     "text": [
      "ar\r\n",
      "checking for bison... bison -y\r\n",
      "checking for ranlib... ranlib\r\n",
      "checking whether make sets $(MAKE)... (cached) yes\r\n",
      "checking for stdarg.h... "
     ]
    },
    {
     "name": "stdout",
     "output_type": "stream",
     "text": [
      "yes\r\n",
      "checking for stddef.h... "
     ]
    },
    {
     "name": "stdout",
     "output_type": "stream",
     "text": [
      "yes\r\n",
      "checking for stdlib.h... (cached) yes\r\n",
      "checking for string.h... (cached) yes\r\n",
      "checking for errno.h... "
     ]
    },
    {
     "name": "stdout",
     "output_type": "stream",
     "text": [
      "yes\r\n",
      "checking for limits.h... "
     ]
    },
    {
     "name": "stdout",
     "output_type": "stream",
     "text": [
      "yes\r\n",
      "checking for unistd.h... (cached) yes\r\n",
      "checking for lib.h... "
     ]
    },
    {
     "name": "stdout",
     "output_type": "stream",
     "text": [
      "no\r\n"
     ]
    },
    {
     "name": "stdout",
     "output_type": "stream",
     "text": [
      "checking for an ANSI C-conforming const... yes\r\n",
      "checking for size_t... "
     ]
    },
    {
     "name": "stdout",
     "output_type": "stream",
     "text": [
      "yes\r\n",
      "checking for ptrdiff_t... "
     ]
    },
    {
     "name": "stdout",
     "output_type": "stream",
     "text": [
      "yes\r\n",
      "checking for vprintf... "
     ]
    },
    {
     "name": "stdout",
     "output_type": "stream",
     "text": [
      "yes\r\n",
      "checking for _doprnt... "
     ]
    },
    {
     "name": "stdout",
     "output_type": "stream",
     "text": [
      "no\r\n",
      "checking for isgraph... "
     ]
    },
    {
     "name": "stdout",
     "output_type": "stream",
     "text": [
      "yes\r\n"
     ]
    },
    {
     "name": "stdout",
     "output_type": "stream",
     "text": [
      "checking for setvbuf... "
     ]
    },
    {
     "name": "stdout",
     "output_type": "stream",
     "text": [
      "yes\r\n"
     ]
    },
    {
     "name": "stdout",
     "output_type": "stream",
     "text": [
      "checking for fstat... "
     ]
    },
    {
     "name": "stdout",
     "output_type": "stream",
     "text": [
      "yes\r\n",
      "checking for strtol... "
     ]
    },
    {
     "name": "stdout",
     "output_type": "stream",
     "text": [
      "yes\r\n",
      "Adding GCC specific compile flags.\r\n",
      "checking that generated files are newer than configure... done\r\n",
      "configure: creating ./config.status\r\n"
     ]
    },
    {
     "name": "stdout",
     "output_type": "stream",
     "text": [
      "config.status: creating Makefile\r\n"
     ]
    },
    {
     "name": "stdout",
     "output_type": "stream",
     "text": [
      "config.status: creating bc/Makefile\r\n",
      "config.status: creating dc/Makefile\r\n",
      "config.status: creating lib/Makefile\r\n"
     ]
    },
    {
     "name": "stdout",
     "output_type": "stream",
     "text": [
      "config.status: creating doc/Makefile\r\n"
     ]
    },
    {
     "name": "stdout",
     "output_type": "stream",
     "text": [
      "config.status: creating doc/texi-ver.incl\r\n"
     ]
    },
    {
     "name": "stdout",
     "output_type": "stream",
     "text": [
      "config.status: creating config.h\r\n",
      "config.status: executing depfiles commands\r\n"
     ]
    }
   ],
   "source": [
    "!cd bc-1.07.1; ./configure"
   ]
  },
  {
   "cell_type": "markdown",
   "metadata": {
    "slideshow": {
     "slide_type": "subslide"
    }
   },
   "source": [
    "Third, compile the package with special flags:"
   ]
  },
  {
   "cell_type": "code",
   "execution_count": 72,
   "metadata": {
    "execution": {
     "iopub.execute_input": "2025-10-26T13:24:07.928216Z",
     "iopub.status.busy": "2025-10-26T13:24:07.928061Z",
     "iopub.status.idle": "2025-10-26T13:24:12.086532Z",
     "shell.execute_reply": "2025-10-26T13:24:12.086136Z"
    },
    "slideshow": {
     "slide_type": "subslide"
    }
   },
   "outputs": [
    {
     "name": "stdout",
     "output_type": "stream",
     "text": [
      "/Applications/Xcode.app/Contents/Developer/usr/bin/make  all-recursive\r\n",
      "Making all in lib\r\n"
     ]
    },
    {
     "name": "stdout",
     "output_type": "stream",
     "text": [
      "gcc -DHAVE_CONFIG_H  -I. -I..  -I. -I.. -I./../h  -g -O2 -Wall -funsigned-char --coverage -MT getopt.o -MD -MP -MF .deps/getopt.Tpo -c -o getopt.o getopt.c\r\n"
     ]
    },
    {
     "name": "stdout",
     "output_type": "stream",
     "text": [
      "\u001b[1mgetopt.c:348:28: \u001b[0m\u001b[0;1;35mwarning: \u001b[0m\u001b[1mpassing arguments to 'getenv' without a prototype is deprecated in all versions of C and is not supported in C23 [-Wdeprecated-non-prototype]\u001b[0m\r\n",
      "  348 |   posixly_correct = getenv (\u001b[0;32m\"POSIXLY_CORRECT\"\u001b[0m);\u001b[0m\r\n",
      "      | \u001b[0;1;32m                           ^\r\n",
      "\u001b[0mIn file included from getopt.c:106:\r\n",
      "\u001b[1m./../h/getopt.h:144:12: \u001b[0m\u001b[0;1;35mwarning: \u001b[0m\u001b[1ma function declaration without a prototype is deprecated in all versions of C and is treated as a zero-parameter prototype in C23, conflicting with a subsequent definition [-Wdeprecated-non-prototype]\u001b[0m\r\n",
      "  144 | \u001b[0;34mextern\u001b[0m \u001b[0;34mint\u001b[0m getopt ();\u001b[0m\r\n",
      "      | \u001b[0;1;32m           ^\r\n",
      "\u001b[0m\u001b[1mgetopt.c:1135:1: \u001b[0m\u001b[0;1;36mnote: \u001b[0mconflicting prototype is here\u001b[0m\r\n",
      " 1135 | getopt (\u001b[0;34mint\u001b[0m argc, \u001b[0;34mchar\u001b[0m *\u001b[0;34mconst\u001b[0m *argv, \u001b[0;34mconst\u001b[0m \u001b[0;34mchar\u001b[0m *optstring)\u001b[0m\r\n",
      "      | \u001b[0;1;32m^\r\n",
      "\u001b[0m"
     ]
    },
    {
     "name": "stdout",
     "output_type": "stream",
     "text": [
      "2 warnings generated.\r\n",
      "mv -f .deps/getopt.Tpo .deps/getopt.Po\r\n",
      "gcc -DHAVE_CONFIG_H  -I. -I..  -I. -I.. -I./../h  -g -O2 -Wall -funsigned-char --coverage -MT getopt1.o -MD -MP -MF .deps/getopt1.Tpo -c -o getopt1.o getopt1.c\r\n"
     ]
    },
    {
     "name": "stdout",
     "output_type": "stream",
     "text": [
      "mv -f .deps/getopt1.Tpo .deps/getopt1.Po\r\n",
      "gcc -DHAVE_CONFIG_H  -I. -I..  -I. -I.. -I./../h  -g -O2 -Wall -funsigned-char --coverage -MT vfprintf.o -MD -MP -MF .deps/vfprintf.Tpo -c -o vfprintf.o vfprintf.c\r\n"
     ]
    },
    {
     "name": "stdout",
     "output_type": "stream",
     "text": [
      "mv -f .deps/vfprintf.Tpo .deps/vfprintf.Po\r\n",
      "gcc -DHAVE_CONFIG_H  -I. -I..  -I. -I.. -I./../h  -g -O2 -Wall -funsigned-char --coverage -MT number.o -MD -MP -MF .deps/number.Tpo -c -o number.o number.c\r\n"
     ]
    },
    {
     "name": "stdout",
     "output_type": "stream",
     "text": [
      "mv -f .deps/number.Tpo .deps/number.Po\r\n",
      "rm -f libbc.a\r\n",
      "ar cru libbc.a getopt.o getopt1.o vfprintf.o number.o \r\n"
     ]
    },
    {
     "name": "stdout",
     "output_type": "stream",
     "text": [
      "ranlib libbc.a\r\n"
     ]
    },
    {
     "name": "stdout",
     "output_type": "stream",
     "text": [
      "Making all in bc\r\n",
      "gcc -DHAVE_CONFIG_H -I. -I..  -I. -I./../h  -g -O2 -Wall -funsigned-char --coverage -MT main.o -MD -MP -MF .deps/main.Tpo -c -o main.o main.c\r\n"
     ]
    },
    {
     "name": "stdout",
     "output_type": "stream",
     "text": [
      "In file included from main.c:34:\r\n",
      "\u001b[1m./../h/getopt.h:144:12: \u001b[0m\u001b[0;1;35mwarning: \u001b[0m\u001b[1ma function declaration without a prototype is deprecated in all versions of C and is treated as a zero-parameter prototype in C23, conflicting with a previous declaration [-Wdeprecated-non-prototype]\u001b[0m\r\n",
      "  144 | \u001b[0;34mextern\u001b[0m \u001b[0;34mint\u001b[0m getopt ();\u001b[0m\r\n",
      "      | \u001b[0;1;32m           ^\r\n",
      "\u001b[0m\u001b[1m/Applications/Xcode.app/Contents/Developer/Platforms/MacOSX.platform/Developer/SDKs/MacOSX.sdk/usr/include/unistd.h:521:6: \u001b[0m\u001b[0;1;36mnote: \u001b[0mconflicting prototype is here\u001b[0m\r\n",
      "  521 | \u001b[0;34mint\u001b[0m      getopt(\u001b[0;34mint\u001b[0m __argc, \u001b[0;34mchar\u001b[0m *_LIBC_CSTR \u001b[0;34mconst\u001b[0m [_LIBC_COUNT(__argc)], \u001b[0;34mconst\u001b[0m \u001b[0;34mchar\u001b[0m *) __DARWIN_ALIAS(getopt);\u001b[0m\r\n",
      "      | \u001b[0;1;32m         ^\r\n",
      "\u001b[0m1 warning generated.\r\n",
      "mv -f .deps/main.Tpo .deps/main.Po\r\n",
      "gcc -DHAVE_CONFIG_H -I. -I..  -I. -I./../h  -g -O2 -Wall -funsigned-char --coverage -MT bc.o -MD -MP -MF .deps/bc.Tpo -c -o bc.o bc.c\r\n"
     ]
    },
    {
     "name": "stdout",
     "output_type": "stream",
     "text": [
      "mv -f .deps/bc.Tpo .deps/bc.Po\r\n",
      "gcc -DHAVE_CONFIG_H -I. -I..  -I. -I./../h  -g -O2 -Wall -funsigned-char --coverage -MT scan.o -MD -MP -MF .deps/scan.Tpo -c -o scan.o scan.c\r\n"
     ]
    },
    {
     "name": "stdout",
     "output_type": "stream",
     "text": [
      "mv -f .deps/scan.Tpo .deps/scan.Po\r\n",
      "gcc -DHAVE_CONFIG_H -I. -I..  -I. -I./../h  -g -O2 -Wall -funsigned-char --coverage -MT execute.o -MD -MP -MF .deps/execute.Tpo -c -o execute.o execute.c\r\n"
     ]
    },
    {
     "name": "stdout",
     "output_type": "stream",
     "text": [
      "mv -f .deps/execute.Tpo .deps/execute.Po\r\n",
      "gcc -DHAVE_CONFIG_H -I. -I..  -I. -I./../h  -g -O2 -Wall -funsigned-char --coverage -MT load.o -MD -MP -MF .deps/load.Tpo -c -o load.o load.c\r\n"
     ]
    },
    {
     "name": "stdout",
     "output_type": "stream",
     "text": [
      "mv -f .deps/load.Tpo .deps/load.Po\r\n",
      "gcc -DHAVE_CONFIG_H -I. -I..  -I. -I./../h  -g -O2 -Wall -funsigned-char --coverage -MT storage.o -MD -MP -MF .deps/storage.Tpo -c -o storage.o storage.c\r\n"
     ]
    },
    {
     "name": "stdout",
     "output_type": "stream",
     "text": [
      "mv -f .deps/storage.Tpo .deps/storage.Po\r\n",
      "gcc -DHAVE_CONFIG_H -I. -I..  -I. -I./../h  -g -O2 -Wall -funsigned-char --coverage -MT util.o -MD -MP -MF .deps/util.Tpo -c -o util.o util.c\r\n"
     ]
    },
    {
     "name": "stdout",
     "output_type": "stream",
     "text": [
      "mv -f .deps/util.Tpo .deps/util.Po\r\n",
      "gcc -DHAVE_CONFIG_H -I. -I..  -I. -I./../h  -g -O2 -Wall -funsigned-char --coverage -MT warranty.o -MD -MP -MF .deps/warranty.Tpo -c -o warranty.o warranty.c\r\n",
      "\u001b[1mwarranty.c:56:1: \u001b[0m\u001b[0;1;35mwarning: \u001b[0m\u001b[1ma function definition without a prototype is deprecated in all versions of C and is not supported in C23 [-Wdeprecated-non-prototype]\u001b[0m\r\n",
      "   56 | warranty(prefix)\u001b[0m\r\n",
      "      | \u001b[0;1;32m^\r\n",
      "\u001b[0m"
     ]
    },
    {
     "name": "stdout",
     "output_type": "stream",
     "text": [
      "1 warning generated.\r\n",
      "mv -f .deps/warranty.Tpo .deps/warranty.Po\r\n",
      "echo '{0}' > libmath.h\r\n",
      "/Applications/Xcode.app/Contents/Developer/usr/bin/make global.o\r\n",
      "gcc -DHAVE_CONFIG_H -I. -I..  -I. -I./../h  -g -O2 -Wall -funsigned-char --coverage -MT global.o -MD -MP -MF .deps/global.Tpo -c -o global.o global.c\r\n"
     ]
    },
    {
     "name": "stdout",
     "output_type": "stream",
     "text": [
      "mv -f .deps/global.Tpo .deps/global.Po\r\n",
      "gcc -g -O2 -Wall -funsigned-char --coverage   -o libmath.h -o fbc main.o bc.o scan.o execute.o load.o storage.o util.o warranty.o global.o ../lib/libbc.a -ll  \r\n"
     ]
    },
    {
     "name": "stdout",
     "output_type": "stream",
     "text": [
      "./fbc -c ./libmath.b </dev/null >libmath.h\r\n"
     ]
    },
    {
     "name": "stdout",
     "output_type": "stream",
     "text": [
      "./fix-libmath_h\r\n",
      "2655\r\n",
      "2793\r\n",
      "rm -f ./fbc ./global.o\r\n",
      "gcc -DHAVE_CONFIG_H -I. -I..  -I. -I./../h  -g -O2 -Wall -funsigned-char --coverage -MT global.o -MD -MP -MF .deps/global.Tpo -c -o global.o global.c\r\n"
     ]
    },
    {
     "name": "stdout",
     "output_type": "stream",
     "text": [
      "mv -f .deps/global.Tpo .deps/global.Po\r\n",
      "gcc -g -O2 -Wall -funsigned-char --coverage   -o bc main.o bc.o scan.o execute.o load.o storage.o util.o global.o warranty.o ../lib/libbc.a -ll  \r\n"
     ]
    },
    {
     "name": "stdout",
     "output_type": "stream",
     "text": [
      "Making all in dc\r\n",
      "gcc -DHAVE_CONFIG_H -I. -I..  -I./.. -I./../h  -g -O2 -Wall -funsigned-char --coverage -MT dc.o -MD -MP -MF .deps/dc.Tpo -c -o dc.o dc.c\r\n"
     ]
    },
    {
     "name": "stdout",
     "output_type": "stream",
     "text": [
      "mv -f .deps/dc.Tpo .deps/dc.Po\r\n",
      "gcc -DHAVE_CONFIG_H -I. -I..  -I./.. -I./../h  -g -O2 -Wall -funsigned-char --coverage -MT misc.o -MD -MP -MF .deps/misc.Tpo -c -o misc.o misc.c\r\n"
     ]
    },
    {
     "name": "stdout",
     "output_type": "stream",
     "text": [
      "mv -f .deps/misc.Tpo .deps/misc.Po\r\n",
      "gcc -DHAVE_CONFIG_H -I. -I..  -I./.. -I./../h  -g -O2 -Wall -funsigned-char --coverage -MT eval.o -MD -MP -MF .deps/eval.Tpo -c -o eval.o eval.c\r\n"
     ]
    },
    {
     "name": "stdout",
     "output_type": "stream",
     "text": [
      "mv -f .deps/eval.Tpo .deps/eval.Po\r\n",
      "gcc -DHAVE_CONFIG_H -I. -I..  -I./.. -I./../h  -g -O2 -Wall -funsigned-char --coverage -MT stack.o -MD -MP -MF .deps/stack.Tpo -c -o stack.o stack.c\r\n"
     ]
    },
    {
     "name": "stdout",
     "output_type": "stream",
     "text": [
      "mv -f .deps/stack.Tpo .deps/stack.Po\r\n"
     ]
    },
    {
     "name": "stdout",
     "output_type": "stream",
     "text": [
      "gcc -DHAVE_CONFIG_H -I. -I..  -I./.. -I./../h  -g -O2 -Wall -funsigned-char --coverage -MT array.o -MD -MP -MF .deps/array.Tpo -c -o array.o array.c\r\n",
      "mv -f .deps/array.Tpo .deps/array.Po\r\n"
     ]
    },
    {
     "name": "stdout",
     "output_type": "stream",
     "text": [
      "gcc -DHAVE_CONFIG_H -I. -I..  -I./.. -I./../h  -g -O2 -Wall -funsigned-char --coverage -MT numeric.o -MD -MP -MF .deps/numeric.Tpo -c -o numeric.o numeric.c\r\n",
      "\u001b[1mnumeric.c:576:1: \u001b[0m\u001b[0;1;35mwarning: \u001b[0m\u001b[1ma function definition without a prototype is deprecated in all versions of C and is not supported in C23 [-Wdeprecated-non-prototype]\u001b[0m\r\n",
      "  576 | out_char (ch)\u001b[0m\r\n",
      "      | \u001b[0;1;32m^\r\n",
      "\u001b[0m"
     ]
    },
    {
     "name": "stdout",
     "output_type": "stream",
     "text": [
      "1 warning generated.\r\n",
      "mv -f .deps/numeric.Tpo .deps/numeric.Po\r\n",
      "gcc -DHAVE_CONFIG_H -I. -I..  -I./.. -I./../h  -g -O2 -Wall -funsigned-char --coverage -MT string.o -MD -MP -MF .deps/string.Tpo -c -o string.o string.c\r\n"
     ]
    },
    {
     "name": "stdout",
     "output_type": "stream",
     "text": [
      "mv -f .deps/string.Tpo .deps/string.Po\r\n",
      "gcc -g -O2 -Wall -funsigned-char --coverage   -o dc dc.o misc.o eval.o stack.o array.o numeric.o string.o ../lib/libbc.a \r\n"
     ]
    },
    {
     "name": "stdout",
     "output_type": "stream",
     "text": [
      "Making all in doc\r\n",
      "restore=: && backupdir=\".am$$\" && \\\r\n",
      "\tam__cwd=`pwd` && CDPATH=\"${ZSH_VERSION+.}:\" && cd . && \\\r\n",
      "\trm -rf $backupdir && mkdir $backupdir && \\\r\n",
      "\tif (makeinfo --no-split --version) >/dev/null 2>&1; then \\\r\n",
      "\t  for f in bc.info bc.info-[0-9] bc.info-[0-9][0-9] bc.i[0-9] bc.i[0-9][0-9]; do \\\r\n",
      "\t    if test -f $f; then mv $f $backupdir; restore=mv; else :; fi; \\\r\n",
      "\t  done; \\\r\n",
      "\telse :; fi && \\\r\n",
      "\tcd \"$am__cwd\"; \\\r\n",
      "\tif makeinfo --no-split   -I . \\\r\n",
      "\t -o bc.info bc.texi; \\\r\n",
      "\tthen \\\r\n",
      "\t  rc=0; \\\r\n",
      "\t  CDPATH=\"${ZSH_VERSION+.}:\" && cd .; \\\r\n",
      "\telse \\\r\n",
      "\t  rc=$?; \\\r\n",
      "\t  CDPATH=\"${ZSH_VERSION+.}:\" && cd . && \\\r\n",
      "\t  $restore $backupdir/* `echo \"./bc.info\" | sed 's|[^/]*$||'`; \\\r\n",
      "\tfi; \\\r\n",
      "\trm -rf $backupdir; exit $rc\r\n"
     ]
    },
    {
     "name": "stdout",
     "output_type": "stream",
     "text": [
      "restore=: && backupdir=\".am$$\" && \\\r\n",
      "\tam__cwd=`pwd` && CDPATH=\"${ZSH_VERSION+.}:\" && cd . && \\\r\n",
      "\trm -rf $backupdir && mkdir $backupdir && \\\r\n",
      "\tif (makeinfo --no-split --version) >/dev/null 2>&1; then \\\r\n",
      "\t  for f in dc.info dc.info-[0-9] dc.info-[0-9][0-9] dc.i[0-9] dc.i[0-9][0-9]; do \\\r\n",
      "\t    if test -f $f; then mv $f $backupdir; restore=mv; else :; fi; \\\r\n",
      "\t  done; \\\r\n",
      "\telse :; fi && \\\r\n",
      "\tcd \"$am__cwd\"; \\\r\n",
      "\tif makeinfo --no-split   -I . \\\r\n",
      "\t -o dc.info dc.texi; \\\r\n",
      "\tthen \\\r\n",
      "\t  rc=0; \\\r\n",
      "\t  CDPATH=\"${ZSH_VERSION+.}:\" && cd .; \\\r\n",
      "\telse \\\r\n",
      "\t  rc=$?; \\\r\n",
      "\t  CDPATH=\"${ZSH_VERSION+.}:\" && cd . && \\\r\n",
      "\t  $restore $backupdir/* `echo \"./dc.info\" | sed 's|[^/]*$||'`; \\\r\n",
      "\tfi; \\\r\n",
      "\trm -rf $backupdir; exit $rc\r\n"
     ]
    },
    {
     "name": "stdout",
     "output_type": "stream",
     "text": [
      "make[3]: Nothing to be done for `all-am'.\r\n"
     ]
    }
   ],
   "source": [
    "!cd bc-1.07.1 && make -k CFLAGS=\"--coverage\""
   ]
  },
  {
   "cell_type": "markdown",
   "metadata": {
    "slideshow": {
     "slide_type": "subslide"
    }
   },
   "source": [
    "The file `bc/bc` should now be executable..."
   ]
  },
  {
   "cell_type": "code",
   "execution_count": 73,
   "metadata": {
    "execution": {
     "iopub.execute_input": "2025-10-26T13:24:12.088369Z",
     "iopub.status.busy": "2025-10-26T13:24:12.088248Z",
     "iopub.status.idle": "2025-10-26T13:24:12.487355Z",
     "shell.execute_reply": "2025-10-26T13:24:12.485165Z"
    },
    "slideshow": {
     "slide_type": "fragment"
    }
   },
   "outputs": [
    {
     "name": "stdout",
     "output_type": "stream",
     "text": [
      "4\r\n"
     ]
    }
   ],
   "source": [
    "!cd bc-1.07.1/bc; echo 2 + 2 | ./bc"
   ]
  },
  {
   "cell_type": "markdown",
   "metadata": {
    "slideshow": {
     "slide_type": "fragment"
    }
   },
   "source": [
    "...and you should be able to run the `gcov` program to retrieve coverage information."
   ]
  },
  {
   "cell_type": "code",
   "execution_count": 74,
   "metadata": {
    "execution": {
     "iopub.execute_input": "2025-10-26T13:24:12.495295Z",
     "iopub.status.busy": "2025-10-26T13:24:12.494984Z",
     "iopub.status.idle": "2025-10-26T13:24:12.644862Z",
     "shell.execute_reply": "2025-10-26T13:24:12.643860Z"
    },
    "slideshow": {
     "slide_type": "fragment"
    }
   },
   "outputs": [
    {
     "name": "stdout",
     "output_type": "stream",
     "text": [
      "File 'main.c'\r\n",
      "Lines executed:52.55% of 137\r\n",
      "Creating 'main.c.gcov'\r\n",
      "\r\n"
     ]
    }
   ],
   "source": [
    "!cd bc-1.07.1/bc; gcov main.c"
   ]
  },
  {
   "cell_type": "markdown",
   "metadata": {
    "slideshow": {
     "slide_type": "subslide"
    }
   },
   "source": [
    "As sketched in the [\"Coverage\" chapter](Coverage.ipynb), the file [bc-1.07.1/bc/main.c.gcov](bc-1.07.1/bc/main.c.gcov) now holds the coverage information for `bc.c`.  Each line is prefixed with the number of times it was executed. `#####` means zero times; `-` means non-executable line."
   ]
  },
  {
   "cell_type": "markdown",
   "metadata": {
    "slideshow": {
     "slide_type": "fragment"
    }
   },
   "source": [
    "Parse the GCOV file for `bc` and create a `coverage` set, as in `FunctionCoverageRunner`.  Make this a `ProgramCoverageRunner` class that would be constructed with a list of source files (`bc.c`, `main.c`, `load.c`) to run `gcov` on."
   ]
  },
  {
   "cell_type": "markdown",
   "metadata": {
    "slideshow": {
     "slide_type": "fragment"
    }
   },
   "source": [
    "When you're done, don't forget to clean up:"
   ]
  },
  {
   "cell_type": "code",
   "execution_count": 75,
   "metadata": {
    "execution": {
     "iopub.execute_input": "2025-10-26T13:24:12.650752Z",
     "iopub.status.busy": "2025-10-26T13:24:12.650449Z",
     "iopub.status.idle": "2025-10-26T13:24:12.834115Z",
     "shell.execute_reply": "2025-10-26T13:24:12.832279Z"
    },
    "slideshow": {
     "slide_type": "fragment"
    }
   },
   "outputs": [],
   "source": [
    "!rm -fr bc-1.07.1 bc-1.07.1.tar.gz"
   ]
  },
  {
   "cell_type": "markdown",
   "metadata": {
    "button": false,
    "new_sheet": false,
    "run_control": {
     "read_only": false
    },
    "slideshow": {
     "slide_type": "subslide"
    }
   },
   "source": [
    "### Exercise 3\n",
    "\n",
    "In this [blog post](https://lcamtuf.blogspot.com/2014/08/binary-fuzzing-strategies-what-works.html), the author of _American Fuzzy Lop_ (AFL), a very popular mutation-based fuzzer discusses the efficiency of various mutation operators.  Implement four of them and evaluate their efficiency as in the examples above."
   ]
  },
  {
   "cell_type": "markdown",
   "metadata": {
    "button": false,
    "new_sheet": false,
    "run_control": {
     "read_only": false
    },
    "slideshow": {
     "slide_type": "subslide"
    }
   },
   "source": [
    "### Exercise 4\n",
    "\n",
    "When adding a new element to the list of candidates, AFL does actually not compare the _coverage_, but adds an element if it exercises a new _branch_.  Using branch coverage from the exercises of the [\"Coverage\"](Coverage.ipynb) chapter, implement this \"branch\" strategy and compare it against the \"coverage\" strategy, above."
   ]
  },
  {
   "cell_type": "markdown",
   "metadata": {
    "button": false,
    "new_sheet": false,
    "run_control": {
     "read_only": false
    },
    "slideshow": {
     "slide_type": "subslide"
    }
   },
   "source": [
    "### Exercise 5\n",
    "\n",
    "Design and implement a system that will gather a population of URLs from the Web.  Can you achieve a higher coverage with these samples?  What if you use them as initial population for further mutation?"
   ]
  }
 ],
 "metadata": {
  "ipub": {
   "bibliography": "fuzzingbook.bib",
   "toc": true
  },
  "kernelspec": {
   "display_name": "3.10.2",
   "language": "python",
   "name": "python3"
  },
  "language_info": {
   "codemirror_mode": {
    "name": "ipython",
    "version": 3
   },
   "file_extension": ".py",
   "mimetype": "text/x-python",
   "name": "python",
   "nbconvert_exporter": "python",
   "pygments_lexer": "ipython3",
   "version": "3.13.4"
  },
  "toc": {
   "base_numbering": 1,
   "nav_menu": {},
   "number_sections": true,
   "sideBar": true,
   "skip_h1_title": true,
   "title_cell": "",
   "title_sidebar": "Contents",
   "toc_cell": false,
   "toc_position": {},
   "toc_section_display": true,
   "toc_window_display": true
  },
  "toc-autonumbering": false
 },
 "nbformat": 4,
 "nbformat_minor": 4
}