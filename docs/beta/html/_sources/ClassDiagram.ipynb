{
 "cells": [
  {
   "cell_type": "markdown",
   "metadata": {
    "button": false,
    "new_sheet": false,
    "run_control": {
     "read_only": false
    },
    "slideshow": {
     "slide_type": "slide"
    }
   },
   "source": [
    "# Class Diagrams\n",
    "\n",
    "This is a simple viewer for class diagrams.  Customized towards the book."
   ]
  },
  {
   "cell_type": "markdown",
   "metadata": {
    "button": false,
    "new_sheet": false,
    "run_control": {
     "read_only": false
    },
    "slideshow": {
     "slide_type": "subslide"
    }
   },
   "source": [
    "**Prerequisites**\n",
    "\n",
    "* _Refer to earlier chapters as notebooks here, as here:_ [Earlier Chapter](Debugger.ipynb)."
   ]
  },
  {
   "cell_type": "code",
   "execution_count": 1,
   "metadata": {
    "button": false,
    "execution": {
     "iopub.execute_input": "2025-01-16T10:17:02.346138Z",
     "iopub.status.busy": "2025-01-16T10:17:02.345966Z",
     "iopub.status.idle": "2025-01-16T10:17:02.412850Z",
     "shell.execute_reply": "2025-01-16T10:17:02.412583Z"
    },
    "new_sheet": false,
    "run_control": {
     "read_only": false
    },
    "slideshow": {
     "slide_type": "skip"
    }
   },
   "outputs": [],
   "source": [
    "import bookutils.setup"
   ]
  },
  {
   "cell_type": "markdown",
   "metadata": {
    "slideshow": {
     "slide_type": "slide"
    }
   },
   "source": [
    "## Synopsis\n",
    "<!-- Automatically generated. Do not edit. -->\n",
    "\n",
    "To [use the code provided in this chapter](Importing.ipynb), write\n",
    "\n",
    "```python\n",
    ">>> from fuzzingbook.ClassDiagram import <identifier>\n",
    "```\n",
    "\n",
    "and then make use of the following features.\n",
    "\n",
    "\n",
    "The function `display_class_hierarchy()` function shows the class hierarchy for the given class (or list of classes). \n",
    "* The keyword parameter `public_methods`, if given, is a list of \"public\" methods to be used by clients (default: all methods with docstrings).\n",
    "* The keyword parameter `abstract_classes`, if given, is a list of classes to be displayed as \"abstract\" (i.e. with a cursive class name).\n",
    "\n",
    "```python\n",
    ">>> display_class_hierarchy(D_Class, abstract_classes=[A_Class])\n",
    "```\n",
    "![](PICS/ClassDiagram-synopsis-1.svg)\n",
    "\n"
   ]
  },
  {
   "cell_type": "markdown",
   "metadata": {
    "button": false,
    "new_sheet": true,
    "run_control": {
     "read_only": false
    },
    "slideshow": {
     "slide_type": "slide"
    }
   },
   "source": [
    "## Getting a Class Hierarchy"
   ]
  },
  {
   "cell_type": "code",
   "execution_count": 2,
   "metadata": {
    "execution": {
     "iopub.execute_input": "2025-01-16T10:17:02.415086Z",
     "iopub.status.busy": "2025-01-16T10:17:02.414969Z",
     "iopub.status.idle": "2025-01-16T10:17:02.416537Z",
     "shell.execute_reply": "2025-01-16T10:17:02.416273Z"
    },
    "slideshow": {
     "slide_type": "skip"
    }
   },
   "outputs": [],
   "source": [
    "import inspect"
   ]
  },
  {
   "cell_type": "markdown",
   "metadata": {
    "slideshow": {
     "slide_type": "fragment"
    }
   },
   "source": [
    "Using `mro()`, we can access the class hierarchy.  We make sure to avoid duplicates created by `class X(X)`."
   ]
  },
  {
   "cell_type": "code",
   "execution_count": 3,
   "metadata": {
    "execution": {
     "iopub.execute_input": "2025-01-16T10:17:02.418329Z",
     "iopub.status.busy": "2025-01-16T10:17:02.418221Z",
     "iopub.status.idle": "2025-01-16T10:17:02.419850Z",
     "shell.execute_reply": "2025-01-16T10:17:02.419599Z"
    },
    "slideshow": {
     "slide_type": "fragment"
    }
   },
   "outputs": [],
   "source": [
    "# ignore\n",
    "from typing import Callable, Dict, Type, Set, List, Union, Any, Tuple, Optional"
   ]
  },
  {
   "cell_type": "code",
   "execution_count": 4,
   "metadata": {
    "execution": {
     "iopub.execute_input": "2025-01-16T10:17:02.421464Z",
     "iopub.status.busy": "2025-01-16T10:17:02.421358Z",
     "iopub.status.idle": "2025-01-16T10:17:02.423332Z",
     "shell.execute_reply": "2025-01-16T10:17:02.423112Z"
    },
    "slideshow": {
     "slide_type": "subslide"
    }
   },
   "outputs": [],
   "source": [
    "def class_hierarchy(cls: Type) -> List[Type]:\n",
    "    superclasses = cls.mro()\n",
    "    hierarchy = []\n",
    "    last_superclass_name = \"\"\n",
    "\n",
    "    for superclass in superclasses:\n",
    "        if superclass.__name__ != last_superclass_name:\n",
    "            hierarchy.append(superclass)\n",
    "            last_superclass_name = superclass.__name__\n",
    "\n",
    "    return hierarchy"
   ]
  },
  {
   "cell_type": "markdown",
   "metadata": {
    "slideshow": {
     "slide_type": "fragment"
    }
   },
   "source": [
    "Here's an example:"
   ]
  },
  {
   "cell_type": "code",
   "execution_count": 5,
   "metadata": {
    "execution": {
     "iopub.execute_input": "2025-01-16T10:17:02.424802Z",
     "iopub.status.busy": "2025-01-16T10:17:02.424697Z",
     "iopub.status.idle": "2025-01-16T10:17:02.426458Z",
     "shell.execute_reply": "2025-01-16T10:17:02.426250Z"
    },
    "slideshow": {
     "slide_type": "subslide"
    }
   },
   "outputs": [],
   "source": [
    "class A_Class:\n",
    "    \"\"\"A Class which does A thing right.\n",
    "    Comes with a longer docstring.\"\"\"\n",
    "\n",
    "    def foo(self) -> None:\n",
    "        \"\"\"The Adventures of the glorious Foo\"\"\"\n",
    "        pass\n",
    "\n",
    "    def quux(self) -> None:\n",
    "        \"\"\"A method that is not used.\"\"\"\n",
    "        pass"
   ]
  },
  {
   "cell_type": "code",
   "execution_count": 6,
   "metadata": {
    "execution": {
     "iopub.execute_input": "2025-01-16T10:17:02.427932Z",
     "iopub.status.busy": "2025-01-16T10:17:02.427810Z",
     "iopub.status.idle": "2025-01-16T10:17:02.429647Z",
     "shell.execute_reply": "2025-01-16T10:17:02.429412Z"
    },
    "slideshow": {
     "slide_type": "subslide"
    }
   },
   "outputs": [],
   "source": [
    "class A_Class(A_Class):\n",
    "    # We define another function in a separate cell.\n",
    "\n",
    "    def second(self) -> None:\n",
    "        pass"
   ]
  },
  {
   "cell_type": "code",
   "execution_count": 7,
   "metadata": {
    "execution": {
     "iopub.execute_input": "2025-01-16T10:17:02.431294Z",
     "iopub.status.busy": "2025-01-16T10:17:02.431185Z",
     "iopub.status.idle": "2025-01-16T10:17:02.433193Z",
     "shell.execute_reply": "2025-01-16T10:17:02.432873Z"
    },
    "slideshow": {
     "slide_type": "subslide"
    }
   },
   "outputs": [],
   "source": [
    "class B_Class(A_Class):\n",
    "    \"\"\"A subclass inheriting some methods.\"\"\"\n",
    "\n",
    "    VAR = \"A variable\"\n",
    "\n",
    "    def foo(self) -> None:\n",
    "        \"\"\"A WW2 foo fighter.\"\"\"\n",
    "        pass\n",
    "\n",
    "    def bar(self, qux: Any = None, bartender: int = 42) -> None:\n",
    "        \"\"\"A qux walks into a bar.\n",
    "        `bartender` is an optional attribute.\"\"\"\n",
    "        pass"
   ]
  },
  {
   "cell_type": "code",
   "execution_count": 8,
   "metadata": {
    "execution": {
     "iopub.execute_input": "2025-01-16T10:17:02.434606Z",
     "iopub.status.busy": "2025-01-16T10:17:02.434508Z",
     "iopub.status.idle": "2025-01-16T10:17:02.436154Z",
     "shell.execute_reply": "2025-01-16T10:17:02.435904Z"
    },
    "slideshow": {
     "slide_type": "fragment"
    }
   },
   "outputs": [],
   "source": [
    "SomeType = List[Optional[Union[str, int]]]"
   ]
  },
  {
   "cell_type": "code",
   "execution_count": 9,
   "metadata": {
    "execution": {
     "iopub.execute_input": "2025-01-16T10:17:02.437498Z",
     "iopub.status.busy": "2025-01-16T10:17:02.437416Z",
     "iopub.status.idle": "2025-01-16T10:17:02.439195Z",
     "shell.execute_reply": "2025-01-16T10:17:02.438975Z"
    },
    "slideshow": {
     "slide_type": "subslide"
    }
   },
   "outputs": [],
   "source": [
    "class C_Class:\n",
    "    \"\"\"A class injecting some method\"\"\"\n",
    "\n",
    "    def qux(self, arg: SomeType) -> SomeType:\n",
    "        return arg"
   ]
  },
  {
   "cell_type": "code",
   "execution_count": 10,
   "metadata": {
    "execution": {
     "iopub.execute_input": "2025-01-16T10:17:02.440735Z",
     "iopub.status.busy": "2025-01-16T10:17:02.440648Z",
     "iopub.status.idle": "2025-01-16T10:17:02.442615Z",
     "shell.execute_reply": "2025-01-16T10:17:02.442366Z"
    },
    "slideshow": {
     "slide_type": "fragment"
    }
   },
   "outputs": [],
   "source": [
    "class D_Class(B_Class, C_Class):\n",
    "    \"\"\"A subclass inheriting from multiple superclasses.\n",
    "    Comes with a fairly long, but meaningless documentation.\"\"\"\n",
    "\n",
    "    def foo(self) -> None:\n",
    "        B_Class.foo(self)"
   ]
  },
  {
   "cell_type": "code",
   "execution_count": 11,
   "metadata": {
    "execution": {
     "iopub.execute_input": "2025-01-16T10:17:02.444050Z",
     "iopub.status.busy": "2025-01-16T10:17:02.443970Z",
     "iopub.status.idle": "2025-01-16T10:17:02.445549Z",
     "shell.execute_reply": "2025-01-16T10:17:02.445336Z"
    },
    "slideshow": {
     "slide_type": "fragment"
    }
   },
   "outputs": [],
   "source": [
    "class D_Class(D_Class):\n",
    "    pass  # An incremental addiiton that should not impact D's semantics"
   ]
  },
  {
   "cell_type": "code",
   "execution_count": 12,
   "metadata": {
    "execution": {
     "iopub.execute_input": "2025-01-16T10:17:02.447068Z",
     "iopub.status.busy": "2025-01-16T10:17:02.446978Z",
     "iopub.status.idle": "2025-01-16T10:17:02.450090Z",
     "shell.execute_reply": "2025-01-16T10:17:02.449837Z"
    },
    "slideshow": {
     "slide_type": "subslide"
    }
   },
   "outputs": [
    {
     "data": {
      "text/plain": [
       "[__main__.D_Class,\n",
       " __main__.B_Class,\n",
       " __main__.A_Class,\n",
       " __main__.C_Class,\n",
       " object]"
      ]
     },
     "execution_count": 12,
     "metadata": {},
     "output_type": "execute_result"
    }
   ],
   "source": [
    "class_hierarchy(D_Class)"
   ]
  },
  {
   "cell_type": "markdown",
   "metadata": {
    "slideshow": {
     "slide_type": "slide"
    }
   },
   "source": [
    "## Getting a Class Tree"
   ]
  },
  {
   "cell_type": "markdown",
   "metadata": {
    "slideshow": {
     "slide_type": "fragment"
    }
   },
   "source": [
    "We can use `__bases__` to obtain the immediate base classes."
   ]
  },
  {
   "cell_type": "code",
   "execution_count": 13,
   "metadata": {
    "execution": {
     "iopub.execute_input": "2025-01-16T10:17:02.470768Z",
     "iopub.status.busy": "2025-01-16T10:17:02.470636Z",
     "iopub.status.idle": "2025-01-16T10:17:02.472781Z",
     "shell.execute_reply": "2025-01-16T10:17:02.472506Z"
    },
    "slideshow": {
     "slide_type": "fragment"
    }
   },
   "outputs": [
    {
     "data": {
      "text/plain": [
       "(__main__.D_Class,)"
      ]
     },
     "execution_count": 13,
     "metadata": {},
     "output_type": "execute_result"
    }
   ],
   "source": [
    "D_Class.__bases__"
   ]
  },
  {
   "cell_type": "markdown",
   "metadata": {
    "slideshow": {
     "slide_type": "fragment"
    }
   },
   "source": [
    "`class_tree()` returns a class tree, using the \"lowest\" (most specialized) class with the same name."
   ]
  },
  {
   "cell_type": "code",
   "execution_count": 14,
   "metadata": {
    "execution": {
     "iopub.execute_input": "2025-01-16T10:17:02.474430Z",
     "iopub.status.busy": "2025-01-16T10:17:02.474319Z",
     "iopub.status.idle": "2025-01-16T10:17:02.476366Z",
     "shell.execute_reply": "2025-01-16T10:17:02.476122Z"
    },
    "slideshow": {
     "slide_type": "subslide"
    }
   },
   "outputs": [],
   "source": [
    "def class_tree(cls: Type, lowest: Optional[Type] = None) -> List[Tuple[Type, List]]:\n",
    "    ret = []\n",
    "    for base in cls.__bases__:\n",
    "        if base.__name__ == cls.__name__:\n",
    "            if not lowest:\n",
    "                lowest = cls\n",
    "            ret += class_tree(base, lowest)\n",
    "        else:\n",
    "            if lowest:\n",
    "                cls = lowest\n",
    "            ret.append((cls, class_tree(base)))\n",
    "\n",
    "    return ret"
   ]
  },
  {
   "cell_type": "code",
   "execution_count": 15,
   "metadata": {
    "execution": {
     "iopub.execute_input": "2025-01-16T10:17:02.477937Z",
     "iopub.status.busy": "2025-01-16T10:17:02.477826Z",
     "iopub.status.idle": "2025-01-16T10:17:02.479939Z",
     "shell.execute_reply": "2025-01-16T10:17:02.479676Z"
    },
    "slideshow": {
     "slide_type": "subslide"
    }
   },
   "outputs": [
    {
     "data": {
      "text/plain": [
       "[(__main__.D_Class, [(__main__.B_Class, [(__main__.A_Class, [])])]),\n",
       " (__main__.D_Class, [(__main__.C_Class, [])])]"
      ]
     },
     "execution_count": 15,
     "metadata": {},
     "output_type": "execute_result"
    }
   ],
   "source": [
    "class_tree(D_Class)"
   ]
  },
  {
   "cell_type": "code",
   "execution_count": 16,
   "metadata": {
    "execution": {
     "iopub.execute_input": "2025-01-16T10:17:02.481431Z",
     "iopub.status.busy": "2025-01-16T10:17:02.481319Z",
     "iopub.status.idle": "2025-01-16T10:17:02.483339Z",
     "shell.execute_reply": "2025-01-16T10:17:02.483112Z"
    },
    "slideshow": {
     "slide_type": "fragment"
    }
   },
   "outputs": [
    {
     "data": {
      "text/plain": [
       "__main__.D_Class"
      ]
     },
     "execution_count": 16,
     "metadata": {},
     "output_type": "execute_result"
    }
   ],
   "source": [
    "class_tree(D_Class)[0][0]"
   ]
  },
  {
   "cell_type": "code",
   "execution_count": 17,
   "metadata": {
    "execution": {
     "iopub.execute_input": "2025-01-16T10:17:02.484746Z",
     "iopub.status.busy": "2025-01-16T10:17:02.484641Z",
     "iopub.status.idle": "2025-01-16T10:17:02.486231Z",
     "shell.execute_reply": "2025-01-16T10:17:02.485930Z"
    },
    "slideshow": {
     "slide_type": "fragment"
    }
   },
   "outputs": [],
   "source": [
    "assert class_tree(D_Class)[0][0] == D_Class"
   ]
  },
  {
   "cell_type": "markdown",
   "metadata": {
    "slideshow": {
     "slide_type": "fragment"
    }
   },
   "source": [
    "`class_set()` flattens the tree into a set:"
   ]
  },
  {
   "cell_type": "code",
   "execution_count": 18,
   "metadata": {
    "execution": {
     "iopub.execute_input": "2025-01-16T10:17:02.487725Z",
     "iopub.status.busy": "2025-01-16T10:17:02.487636Z",
     "iopub.status.idle": "2025-01-16T10:17:02.489856Z",
     "shell.execute_reply": "2025-01-16T10:17:02.489614Z"
    },
    "slideshow": {
     "slide_type": "subslide"
    }
   },
   "outputs": [],
   "source": [
    "def class_set(classes: Union[Type, List[Type]]) -> Set[Type]:\n",
    "    if not isinstance(classes, list):\n",
    "        classes = [classes]\n",
    "\n",
    "    ret = set()\n",
    "\n",
    "    def traverse_tree(tree: List[Tuple[Type, List]]) -> None:\n",
    "        for (cls, subtrees) in tree:\n",
    "            ret.add(cls)\n",
    "            for subtree in subtrees:\n",
    "                traverse_tree(subtrees)\n",
    "\n",
    "    for cls in classes:\n",
    "        traverse_tree(class_tree(cls))\n",
    "\n",
    "    return ret"
   ]
  },
  {
   "cell_type": "code",
   "execution_count": 19,
   "metadata": {
    "execution": {
     "iopub.execute_input": "2025-01-16T10:17:02.491384Z",
     "iopub.status.busy": "2025-01-16T10:17:02.491273Z",
     "iopub.status.idle": "2025-01-16T10:17:02.493312Z",
     "shell.execute_reply": "2025-01-16T10:17:02.493093Z"
    },
    "slideshow": {
     "slide_type": "subslide"
    }
   },
   "outputs": [
    {
     "data": {
      "text/plain": [
       "{__main__.A_Class, __main__.B_Class, __main__.C_Class, __main__.D_Class}"
      ]
     },
     "execution_count": 19,
     "metadata": {},
     "output_type": "execute_result"
    }
   ],
   "source": [
    "class_set(D_Class)"
   ]
  },
  {
   "cell_type": "code",
   "execution_count": 20,
   "metadata": {
    "execution": {
     "iopub.execute_input": "2025-01-16T10:17:02.494842Z",
     "iopub.status.busy": "2025-01-16T10:17:02.494738Z",
     "iopub.status.idle": "2025-01-16T10:17:02.496401Z",
     "shell.execute_reply": "2025-01-16T10:17:02.496152Z"
    },
    "slideshow": {
     "slide_type": "fragment"
    }
   },
   "outputs": [],
   "source": [
    "assert A_Class in class_set(D_Class)"
   ]
  },
  {
   "cell_type": "code",
   "execution_count": 21,
   "metadata": {
    "execution": {
     "iopub.execute_input": "2025-01-16T10:17:02.497866Z",
     "iopub.status.busy": "2025-01-16T10:17:02.497760Z",
     "iopub.status.idle": "2025-01-16T10:17:02.499364Z",
     "shell.execute_reply": "2025-01-16T10:17:02.499127Z"
    },
    "slideshow": {
     "slide_type": "fragment"
    }
   },
   "outputs": [],
   "source": [
    "assert B_Class in class_set(D_Class)"
   ]
  },
  {
   "cell_type": "code",
   "execution_count": 22,
   "metadata": {
    "execution": {
     "iopub.execute_input": "2025-01-16T10:17:02.500884Z",
     "iopub.status.busy": "2025-01-16T10:17:02.500789Z",
     "iopub.status.idle": "2025-01-16T10:17:02.502411Z",
     "shell.execute_reply": "2025-01-16T10:17:02.502133Z"
    },
    "slideshow": {
     "slide_type": "fragment"
    }
   },
   "outputs": [],
   "source": [
    "assert C_Class in class_set(D_Class)"
   ]
  },
  {
   "cell_type": "code",
   "execution_count": 23,
   "metadata": {
    "execution": {
     "iopub.execute_input": "2025-01-16T10:17:02.503982Z",
     "iopub.status.busy": "2025-01-16T10:17:02.503877Z",
     "iopub.status.idle": "2025-01-16T10:17:02.505425Z",
     "shell.execute_reply": "2025-01-16T10:17:02.505213Z"
    },
    "slideshow": {
     "slide_type": "fragment"
    }
   },
   "outputs": [],
   "source": [
    "assert D_Class in class_set(D_Class)"
   ]
  },
  {
   "cell_type": "code",
   "execution_count": 24,
   "metadata": {
    "execution": {
     "iopub.execute_input": "2025-01-16T10:17:02.506954Z",
     "iopub.status.busy": "2025-01-16T10:17:02.506872Z",
     "iopub.status.idle": "2025-01-16T10:17:02.508803Z",
     "shell.execute_reply": "2025-01-16T10:17:02.508585Z"
    },
    "slideshow": {
     "slide_type": "fragment"
    }
   },
   "outputs": [
    {
     "data": {
      "text/plain": [
       "{__main__.A_Class, __main__.B_Class, __main__.C_Class}"
      ]
     },
     "execution_count": 24,
     "metadata": {},
     "output_type": "execute_result"
    }
   ],
   "source": [
    "class_set([B_Class, C_Class])"
   ]
  },
  {
   "cell_type": "markdown",
   "metadata": {
    "slideshow": {
     "slide_type": "subslide"
    }
   },
   "source": [
    "### Getting Docs"
   ]
  },
  {
   "cell_type": "code",
   "execution_count": 25,
   "metadata": {
    "execution": {
     "iopub.execute_input": "2025-01-16T10:17:02.510431Z",
     "iopub.status.busy": "2025-01-16T10:17:02.510325Z",
     "iopub.status.idle": "2025-01-16T10:17:02.511710Z",
     "shell.execute_reply": "2025-01-16T10:17:02.511499Z"
    },
    "slideshow": {
     "slide_type": "fragment"
    }
   },
   "outputs": [],
   "source": [
    "A_Class.__doc__"
   ]
  },
  {
   "cell_type": "code",
   "execution_count": 26,
   "metadata": {
    "execution": {
     "iopub.execute_input": "2025-01-16T10:17:02.513101Z",
     "iopub.status.busy": "2025-01-16T10:17:02.513020Z",
     "iopub.status.idle": "2025-01-16T10:17:02.515230Z",
     "shell.execute_reply": "2025-01-16T10:17:02.515007Z"
    },
    "slideshow": {
     "slide_type": "fragment"
    }
   },
   "outputs": [
    {
     "data": {
      "text/plain": [
       "'A Class which does A thing right.\\n    Comes with a longer docstring.'"
      ]
     },
     "execution_count": 26,
     "metadata": {},
     "output_type": "execute_result"
    }
   ],
   "source": [
    "A_Class.__bases__[0].__doc__"
   ]
  },
  {
   "cell_type": "code",
   "execution_count": 27,
   "metadata": {
    "execution": {
     "iopub.execute_input": "2025-01-16T10:17:02.516537Z",
     "iopub.status.busy": "2025-01-16T10:17:02.516459Z",
     "iopub.status.idle": "2025-01-16T10:17:02.518633Z",
     "shell.execute_reply": "2025-01-16T10:17:02.518373Z"
    },
    "slideshow": {
     "slide_type": "fragment"
    }
   },
   "outputs": [
    {
     "data": {
      "text/plain": [
       "'A_Class'"
      ]
     },
     "execution_count": 27,
     "metadata": {},
     "output_type": "execute_result"
    }
   ],
   "source": [
    "A_Class.__bases__[0].__name__"
   ]
  },
  {
   "cell_type": "code",
   "execution_count": 28,
   "metadata": {
    "execution": {
     "iopub.execute_input": "2025-01-16T10:17:02.520114Z",
     "iopub.status.busy": "2025-01-16T10:17:02.520005Z",
     "iopub.status.idle": "2025-01-16T10:17:02.521926Z",
     "shell.execute_reply": "2025-01-16T10:17:02.521716Z"
    },
    "slideshow": {
     "slide_type": "fragment"
    }
   },
   "outputs": [
    {
     "data": {
      "text/plain": [
       "<function __main__.D_Class.foo(self) -> None>"
      ]
     },
     "execution_count": 28,
     "metadata": {},
     "output_type": "execute_result"
    }
   ],
   "source": [
    "D_Class.foo"
   ]
  },
  {
   "cell_type": "code",
   "execution_count": 29,
   "metadata": {
    "execution": {
     "iopub.execute_input": "2025-01-16T10:17:02.523450Z",
     "iopub.status.busy": "2025-01-16T10:17:02.523347Z",
     "iopub.status.idle": "2025-01-16T10:17:02.524875Z",
     "shell.execute_reply": "2025-01-16T10:17:02.524658Z"
    },
    "slideshow": {
     "slide_type": "fragment"
    }
   },
   "outputs": [],
   "source": [
    "D_Class.foo.__doc__"
   ]
  },
  {
   "cell_type": "code",
   "execution_count": 30,
   "metadata": {
    "execution": {
     "iopub.execute_input": "2025-01-16T10:17:02.526286Z",
     "iopub.status.busy": "2025-01-16T10:17:02.526203Z",
     "iopub.status.idle": "2025-01-16T10:17:02.528292Z",
     "shell.execute_reply": "2025-01-16T10:17:02.528065Z"
    },
    "slideshow": {
     "slide_type": "fragment"
    }
   },
   "outputs": [
    {
     "data": {
      "text/plain": [
       "'The Adventures of the glorious Foo'"
      ]
     },
     "execution_count": 30,
     "metadata": {},
     "output_type": "execute_result"
    }
   ],
   "source": [
    "A_Class.foo.__doc__"
   ]
  },
  {
   "cell_type": "code",
   "execution_count": 31,
   "metadata": {
    "execution": {
     "iopub.execute_input": "2025-01-16T10:17:02.529849Z",
     "iopub.status.busy": "2025-01-16T10:17:02.529739Z",
     "iopub.status.idle": "2025-01-16T10:17:02.531419Z",
     "shell.execute_reply": "2025-01-16T10:17:02.531206Z"
    },
    "slideshow": {
     "slide_type": "fragment"
    }
   },
   "outputs": [],
   "source": [
    "def docstring(obj: Any) -> str:\n",
    "    doc = inspect.getdoc(obj)\n",
    "    return doc if doc else \"\""
   ]
  },
  {
   "cell_type": "code",
   "execution_count": 32,
   "metadata": {
    "execution": {
     "iopub.execute_input": "2025-01-16T10:17:02.532756Z",
     "iopub.status.busy": "2025-01-16T10:17:02.532682Z",
     "iopub.status.idle": "2025-01-16T10:17:02.534677Z",
     "shell.execute_reply": "2025-01-16T10:17:02.534431Z"
    },
    "slideshow": {
     "slide_type": "subslide"
    }
   },
   "outputs": [
    {
     "data": {
      "text/plain": [
       "'A Class which does A thing right.\\nComes with a longer docstring.'"
      ]
     },
     "execution_count": 32,
     "metadata": {},
     "output_type": "execute_result"
    }
   ],
   "source": [
    "docstring(A_Class)"
   ]
  },
  {
   "cell_type": "code",
   "execution_count": 33,
   "metadata": {
    "execution": {
     "iopub.execute_input": "2025-01-16T10:17:02.536069Z",
     "iopub.status.busy": "2025-01-16T10:17:02.535970Z",
     "iopub.status.idle": "2025-01-16T10:17:02.537920Z",
     "shell.execute_reply": "2025-01-16T10:17:02.537708Z"
    },
    "slideshow": {
     "slide_type": "fragment"
    }
   },
   "outputs": [
    {
     "data": {
      "text/plain": [
       "'A WW2 foo fighter.'"
      ]
     },
     "execution_count": 33,
     "metadata": {},
     "output_type": "execute_result"
    }
   ],
   "source": [
    "docstring(D_Class.foo)"
   ]
  },
  {
   "cell_type": "code",
   "execution_count": 34,
   "metadata": {
    "execution": {
     "iopub.execute_input": "2025-01-16T10:17:02.539418Z",
     "iopub.status.busy": "2025-01-16T10:17:02.539320Z",
     "iopub.status.idle": "2025-01-16T10:17:02.540891Z",
     "shell.execute_reply": "2025-01-16T10:17:02.540672Z"
    },
    "slideshow": {
     "slide_type": "fragment"
    }
   },
   "outputs": [],
   "source": [
    "def unknown() -> None:\n",
    "    pass"
   ]
  },
  {
   "cell_type": "code",
   "execution_count": 35,
   "metadata": {
    "execution": {
     "iopub.execute_input": "2025-01-16T10:17:02.542170Z",
     "iopub.status.busy": "2025-01-16T10:17:02.542091Z",
     "iopub.status.idle": "2025-01-16T10:17:02.544323Z",
     "shell.execute_reply": "2025-01-16T10:17:02.544027Z"
    },
    "slideshow": {
     "slide_type": "fragment"
    }
   },
   "outputs": [
    {
     "data": {
      "text/plain": [
       "''"
      ]
     },
     "execution_count": 35,
     "metadata": {},
     "output_type": "execute_result"
    }
   ],
   "source": [
    "docstring(unknown)"
   ]
  },
  {
   "cell_type": "code",
   "execution_count": 36,
   "metadata": {
    "execution": {
     "iopub.execute_input": "2025-01-16T10:17:02.545819Z",
     "iopub.status.busy": "2025-01-16T10:17:02.545713Z",
     "iopub.status.idle": "2025-01-16T10:17:02.547359Z",
     "shell.execute_reply": "2025-01-16T10:17:02.547082Z"
    },
    "slideshow": {
     "slide_type": "skip"
    }
   },
   "outputs": [],
   "source": [
    "import html"
   ]
  },
  {
   "cell_type": "code",
   "execution_count": 37,
   "metadata": {
    "execution": {
     "iopub.execute_input": "2025-01-16T10:17:02.548835Z",
     "iopub.status.busy": "2025-01-16T10:17:02.548736Z",
     "iopub.status.idle": "2025-01-16T10:17:02.550230Z",
     "shell.execute_reply": "2025-01-16T10:17:02.550005Z"
    },
    "slideshow": {
     "slide_type": "skip"
    }
   },
   "outputs": [],
   "source": [
    "import re"
   ]
  },
  {
   "cell_type": "code",
   "execution_count": 38,
   "metadata": {
    "execution": {
     "iopub.execute_input": "2025-01-16T10:17:02.551713Z",
     "iopub.status.busy": "2025-01-16T10:17:02.551629Z",
     "iopub.status.idle": "2025-01-16T10:17:02.553560Z",
     "shell.execute_reply": "2025-01-16T10:17:02.553310Z"
    },
    "slideshow": {
     "slide_type": "subslide"
    }
   },
   "outputs": [],
   "source": [
    "def escape(text: str) -> str:\n",
    "    text = html.escape(text)\n",
    "    assert '<' not in text\n",
    "    assert '>' not in text\n",
    "    text = text.replace('{', '&#x7b;')\n",
    "    text = text.replace('|', '&#x7c;')\n",
    "    text = text.replace('}', '&#x7d;')\n",
    "    return text"
   ]
  },
  {
   "cell_type": "code",
   "execution_count": 39,
   "metadata": {
    "execution": {
     "iopub.execute_input": "2025-01-16T10:17:02.554921Z",
     "iopub.status.busy": "2025-01-16T10:17:02.554846Z",
     "iopub.status.idle": "2025-01-16T10:17:02.556924Z",
     "shell.execute_reply": "2025-01-16T10:17:02.556686Z"
    },
    "slideshow": {
     "slide_type": "fragment"
    }
   },
   "outputs": [
    {
     "data": {
      "text/plain": [
       "'f(foo=&#x7b;&#x7d;)'"
      ]
     },
     "execution_count": 39,
     "metadata": {},
     "output_type": "execute_result"
    }
   ],
   "source": [
    "escape(\"f(foo={})\")"
   ]
  },
  {
   "cell_type": "code",
   "execution_count": 40,
   "metadata": {
    "execution": {
     "iopub.execute_input": "2025-01-16T10:17:02.558418Z",
     "iopub.status.busy": "2025-01-16T10:17:02.558330Z",
     "iopub.status.idle": "2025-01-16T10:17:02.560245Z",
     "shell.execute_reply": "2025-01-16T10:17:02.560020Z"
    },
    "slideshow": {
     "slide_type": "subslide"
    }
   },
   "outputs": [],
   "source": [
    "def escape_doc(docstring: str) -> str:\n",
    "    DOC_INDENT = 0\n",
    "    docstring = \"&#x0a;\".join(\n",
    "        ' ' * DOC_INDENT + escape(line).strip()\n",
    "        for line in docstring.split('\\n')\n",
    "    )\n",
    "    return docstring"
   ]
  },
  {
   "cell_type": "code",
   "execution_count": 41,
   "metadata": {
    "execution": {
     "iopub.execute_input": "2025-01-16T10:17:02.561819Z",
     "iopub.status.busy": "2025-01-16T10:17:02.561703Z",
     "iopub.status.idle": "2025-01-16T10:17:02.563647Z",
     "shell.execute_reply": "2025-01-16T10:17:02.563385Z"
    },
    "slideshow": {
     "slide_type": "fragment"
    }
   },
   "outputs": [
    {
     "name": "stdout",
     "output_type": "stream",
     "text": [
      "&#x27;Hello&#x0a;&#x7b;You&#x7c;Me&#x7d;&#x27;\n"
     ]
    }
   ],
   "source": [
    "print(escape_doc(\"'Hello\\n    {You|Me}'\"))"
   ]
  },
  {
   "cell_type": "markdown",
   "metadata": {
    "button": false,
    "new_sheet": false,
    "run_control": {
     "read_only": false
    },
    "slideshow": {
     "slide_type": "slide"
    }
   },
   "source": [
    "## Getting Methods and Variables"
   ]
  },
  {
   "cell_type": "code",
   "execution_count": 42,
   "metadata": {
    "execution": {
     "iopub.execute_input": "2025-01-16T10:17:02.565118Z",
     "iopub.status.busy": "2025-01-16T10:17:02.565014Z",
     "iopub.status.idle": "2025-01-16T10:17:02.567692Z",
     "shell.execute_reply": "2025-01-16T10:17:02.567458Z"
    },
    "slideshow": {
     "slide_type": "subslide"
    }
   },
   "outputs": [
    {
     "data": {
      "text/plain": [
       "[('VAR', 'A variable'),\n",
       " ('__class__', type),\n",
       " ('__delattr__', <slot wrapper '__delattr__' of 'object' objects>),\n",
       " ('__dict__', mappingproxy({'__module__': '__main__', '__doc__': None})),\n",
       " ('__dir__', <method '__dir__' of 'object' objects>),\n",
       " ('__doc__', None),\n",
       " ('__eq__', <slot wrapper '__eq__' of 'object' objects>),\n",
       " ('__format__', <method '__format__' of 'object' objects>),\n",
       " ('__ge__', <slot wrapper '__ge__' of 'object' objects>),\n",
       " ('__getattribute__', <slot wrapper '__getattribute__' of 'object' objects>),\n",
       " ('__getstate__', <method '__getstate__' of 'object' objects>),\n",
       " ('__gt__', <slot wrapper '__gt__' of 'object' objects>),\n",
       " ('__hash__', <slot wrapper '__hash__' of 'object' objects>),\n",
       " ('__init__', <slot wrapper '__init__' of 'object' objects>),\n",
       " ('__init_subclass__', <function D_Class.__init_subclass__>),\n",
       " ('__le__', <slot wrapper '__le__' of 'object' objects>),\n",
       " ('__lt__', <slot wrapper '__lt__' of 'object' objects>),\n",
       " ('__module__', '__main__'),\n",
       " ('__ne__', <slot wrapper '__ne__' of 'object' objects>),\n",
       " ('__new__', <function object.__new__(*args, **kwargs)>),\n",
       " ('__reduce__', <method '__reduce__' of 'object' objects>),\n",
       " ('__reduce_ex__', <method '__reduce_ex__' of 'object' objects>),\n",
       " ('__repr__', <slot wrapper '__repr__' of 'object' objects>),\n",
       " ('__setattr__', <slot wrapper '__setattr__' of 'object' objects>),\n",
       " ('__sizeof__', <method '__sizeof__' of 'object' objects>),\n",
       " ('__str__', <slot wrapper '__str__' of 'object' objects>),\n",
       " ('__subclasshook__', <function D_Class.__subclasshook__>),\n",
       " ('__weakref__', <attribute '__weakref__' of 'A_Class' objects>),\n",
       " ('bar',\n",
       "  <function __main__.B_Class.bar(self, qux: Any = None, bartender: int = 42) -> None>),\n",
       " ('foo', <function __main__.D_Class.foo(self) -> None>),\n",
       " ('quux', <function __main__.A_Class.quux(self) -> None>),\n",
       " ('qux',\n",
       "  <function __main__.C_Class.qux(self, arg: List[Union[int, str, NoneType]]) -> List[Union[int, str, NoneType]]>),\n",
       " ('second', <function __main__.A_Class.second(self) -> None>)]"
      ]
     },
     "execution_count": 42,
     "metadata": {},
     "output_type": "execute_result"
    }
   ],
   "source": [
    "inspect.getmembers(D_Class)"
   ]
  },
  {
   "cell_type": "code",
   "execution_count": 43,
   "metadata": {
    "execution": {
     "iopub.execute_input": "2025-01-16T10:17:02.569435Z",
     "iopub.status.busy": "2025-01-16T10:17:02.569330Z",
     "iopub.status.idle": "2025-01-16T10:17:02.571637Z",
     "shell.execute_reply": "2025-01-16T10:17:02.571392Z"
    },
    "slideshow": {
     "slide_type": "subslide"
    }
   },
   "outputs": [],
   "source": [
    "def class_items(cls: Type, pred: Callable) -> List[Tuple[str, Any]]:\n",
    "    def _class_items(cls: Type) -> List:\n",
    "        all_items = inspect.getmembers(cls, pred)\n",
    "        for base in cls.__bases__:\n",
    "            all_items += _class_items(base)\n",
    "\n",
    "        return all_items\n",
    "\n",
    "    unique_items = []\n",
    "    items_seen = set()\n",
    "    for (name, item) in _class_items(cls):\n",
    "        if name not in items_seen:\n",
    "            unique_items.append((name, item))\n",
    "            items_seen.add(name)\n",
    "\n",
    "    return unique_items"
   ]
  },
  {
   "cell_type": "code",
   "execution_count": 44,
   "metadata": {
    "execution": {
     "iopub.execute_input": "2025-01-16T10:17:02.573208Z",
     "iopub.status.busy": "2025-01-16T10:17:02.573101Z",
     "iopub.status.idle": "2025-01-16T10:17:02.574880Z",
     "shell.execute_reply": "2025-01-16T10:17:02.574610Z"
    },
    "slideshow": {
     "slide_type": "subslide"
    }
   },
   "outputs": [],
   "source": [
    "def class_methods(cls: Type) -> List[Tuple[str, Callable]]:\n",
    "    return class_items(cls, inspect.isfunction)"
   ]
  },
  {
   "cell_type": "code",
   "execution_count": 45,
   "metadata": {
    "execution": {
     "iopub.execute_input": "2025-01-16T10:17:02.576481Z",
     "iopub.status.busy": "2025-01-16T10:17:02.576372Z",
     "iopub.status.idle": "2025-01-16T10:17:02.578870Z",
     "shell.execute_reply": "2025-01-16T10:17:02.578605Z"
    },
    "slideshow": {
     "slide_type": "subslide"
    }
   },
   "outputs": [],
   "source": [
    "def defined_in(name: str, cls: Type) -> bool:\n",
    "    if not hasattr(cls, name):\n",
    "        return False\n",
    "\n",
    "    defining_classes = []\n",
    "\n",
    "    def search_superclasses(name: str, cls: Type) -> None:\n",
    "        if not hasattr(cls, name):\n",
    "            return\n",
    "\n",
    "        for base in cls.__bases__:\n",
    "            if hasattr(base, name):\n",
    "                defining_classes.append(base)\n",
    "                search_superclasses(name, base)\n",
    "\n",
    "    search_superclasses(name, cls)\n",
    "\n",
    "    if any(cls.__name__ != c.__name__ for c in defining_classes):\n",
    "        return False  # Already defined in superclass\n",
    "\n",
    "    return True"
   ]
  },
  {
   "cell_type": "code",
   "execution_count": 46,
   "metadata": {
    "execution": {
     "iopub.execute_input": "2025-01-16T10:17:02.580396Z",
     "iopub.status.busy": "2025-01-16T10:17:02.580297Z",
     "iopub.status.idle": "2025-01-16T10:17:02.581906Z",
     "shell.execute_reply": "2025-01-16T10:17:02.581665Z"
    },
    "slideshow": {
     "slide_type": "subslide"
    }
   },
   "outputs": [],
   "source": [
    "assert not defined_in('VAR', A_Class)"
   ]
  },
  {
   "cell_type": "code",
   "execution_count": 47,
   "metadata": {
    "execution": {
     "iopub.execute_input": "2025-01-16T10:17:02.583594Z",
     "iopub.status.busy": "2025-01-16T10:17:02.583461Z",
     "iopub.status.idle": "2025-01-16T10:17:02.585180Z",
     "shell.execute_reply": "2025-01-16T10:17:02.584899Z"
    },
    "slideshow": {
     "slide_type": "fragment"
    }
   },
   "outputs": [],
   "source": [
    "assert defined_in('VAR', B_Class)"
   ]
  },
  {
   "cell_type": "code",
   "execution_count": 48,
   "metadata": {
    "execution": {
     "iopub.execute_input": "2025-01-16T10:17:02.586678Z",
     "iopub.status.busy": "2025-01-16T10:17:02.586571Z",
     "iopub.status.idle": "2025-01-16T10:17:02.588135Z",
     "shell.execute_reply": "2025-01-16T10:17:02.587924Z"
    },
    "slideshow": {
     "slide_type": "fragment"
    }
   },
   "outputs": [],
   "source": [
    "assert not defined_in('VAR', C_Class)"
   ]
  },
  {
   "cell_type": "code",
   "execution_count": 49,
   "metadata": {
    "execution": {
     "iopub.execute_input": "2025-01-16T10:17:02.589578Z",
     "iopub.status.busy": "2025-01-16T10:17:02.589490Z",
     "iopub.status.idle": "2025-01-16T10:17:02.591238Z",
     "shell.execute_reply": "2025-01-16T10:17:02.591011Z"
    },
    "slideshow": {
     "slide_type": "fragment"
    }
   },
   "outputs": [],
   "source": [
    "assert not defined_in('VAR', D_Class)"
   ]
  },
  {
   "cell_type": "code",
   "execution_count": 50,
   "metadata": {
    "execution": {
     "iopub.execute_input": "2025-01-16T10:17:02.592647Z",
     "iopub.status.busy": "2025-01-16T10:17:02.592556Z",
     "iopub.status.idle": "2025-01-16T10:17:02.594529Z",
     "shell.execute_reply": "2025-01-16T10:17:02.594299Z"
    },
    "slideshow": {
     "slide_type": "fragment"
    }
   },
   "outputs": [],
   "source": [
    "def class_vars(cls: Type) -> List[Any]:\n",
    "    def is_var(item: Any) -> bool:\n",
    "        return not callable(item)\n",
    "\n",
    "    return [item for item in class_items(cls, is_var) \n",
    "            if not item[0].startswith('__') and defined_in(item[0], cls)]"
   ]
  },
  {
   "cell_type": "code",
   "execution_count": 51,
   "metadata": {
    "execution": {
     "iopub.execute_input": "2025-01-16T10:17:02.595964Z",
     "iopub.status.busy": "2025-01-16T10:17:02.595877Z",
     "iopub.status.idle": "2025-01-16T10:17:02.598217Z",
     "shell.execute_reply": "2025-01-16T10:17:02.597981Z"
    },
    "slideshow": {
     "slide_type": "subslide"
    }
   },
   "outputs": [
    {
     "data": {
      "text/plain": [
       "[('bar',\n",
       "  <function __main__.B_Class.bar(self, qux: Any = None, bartender: int = 42) -> None>),\n",
       " ('foo', <function __main__.D_Class.foo(self) -> None>),\n",
       " ('quux', <function __main__.A_Class.quux(self) -> None>),\n",
       " ('qux',\n",
       "  <function __main__.C_Class.qux(self, arg: List[Union[int, str, NoneType]]) -> List[Union[int, str, NoneType]]>),\n",
       " ('second', <function __main__.A_Class.second(self) -> None>)]"
      ]
     },
     "execution_count": 51,
     "metadata": {},
     "output_type": "execute_result"
    }
   ],
   "source": [
    "class_methods(D_Class)"
   ]
  },
  {
   "cell_type": "code",
   "execution_count": 52,
   "metadata": {
    "execution": {
     "iopub.execute_input": "2025-01-16T10:17:02.599657Z",
     "iopub.status.busy": "2025-01-16T10:17:02.599575Z",
     "iopub.status.idle": "2025-01-16T10:17:02.601806Z",
     "shell.execute_reply": "2025-01-16T10:17:02.601581Z"
    },
    "slideshow": {
     "slide_type": "fragment"
    }
   },
   "outputs": [
    {
     "data": {
      "text/plain": [
       "[('VAR', 'A variable')]"
      ]
     },
     "execution_count": 52,
     "metadata": {},
     "output_type": "execute_result"
    }
   ],
   "source": [
    "class_vars(B_Class)"
   ]
  },
  {
   "cell_type": "markdown",
   "metadata": {
    "slideshow": {
     "slide_type": "fragment"
    }
   },
   "source": [
    "We're only interested in \n",
    "\n",
    "* functions _defined_ in that class\n",
    "* functions that come with a docstring"
   ]
  },
  {
   "cell_type": "code",
   "execution_count": 53,
   "metadata": {
    "execution": {
     "iopub.execute_input": "2025-01-16T10:17:02.603481Z",
     "iopub.status.busy": "2025-01-16T10:17:02.603370Z",
     "iopub.status.idle": "2025-01-16T10:17:02.605264Z",
     "shell.execute_reply": "2025-01-16T10:17:02.605027Z"
    },
    "slideshow": {
     "slide_type": "subslide"
    }
   },
   "outputs": [],
   "source": [
    "def public_class_methods(cls: Type) -> List[Tuple[str, Callable]]:\n",
    "    return [(name, method) for (name, method) in class_methods(cls) \n",
    "            if method.__qualname__.startswith(cls.__name__)]"
   ]
  },
  {
   "cell_type": "code",
   "execution_count": 54,
   "metadata": {
    "execution": {
     "iopub.execute_input": "2025-01-16T10:17:02.606825Z",
     "iopub.status.busy": "2025-01-16T10:17:02.606693Z",
     "iopub.status.idle": "2025-01-16T10:17:02.608599Z",
     "shell.execute_reply": "2025-01-16T10:17:02.608364Z"
    },
    "slideshow": {
     "slide_type": "fragment"
    }
   },
   "outputs": [],
   "source": [
    "def doc_class_methods(cls: Type) -> List[Tuple[str, Callable]]:\n",
    "    return [(name, method) for (name, method) in public_class_methods(cls) \n",
    "            if docstring(method) is not None]"
   ]
  },
  {
   "cell_type": "code",
   "execution_count": 55,
   "metadata": {
    "execution": {
     "iopub.execute_input": "2025-01-16T10:17:02.610025Z",
     "iopub.status.busy": "2025-01-16T10:17:02.609926Z",
     "iopub.status.idle": "2025-01-16T10:17:02.611940Z",
     "shell.execute_reply": "2025-01-16T10:17:02.611739Z"
    },
    "slideshow": {
     "slide_type": "fragment"
    }
   },
   "outputs": [
    {
     "data": {
      "text/plain": [
       "[('foo', <function __main__.D_Class.foo(self) -> None>)]"
      ]
     },
     "execution_count": 55,
     "metadata": {},
     "output_type": "execute_result"
    }
   ],
   "source": [
    "public_class_methods(D_Class)"
   ]
  },
  {
   "cell_type": "code",
   "execution_count": 56,
   "metadata": {
    "execution": {
     "iopub.execute_input": "2025-01-16T10:17:02.613246Z",
     "iopub.status.busy": "2025-01-16T10:17:02.613151Z",
     "iopub.status.idle": "2025-01-16T10:17:02.615247Z",
     "shell.execute_reply": "2025-01-16T10:17:02.615017Z"
    },
    "slideshow": {
     "slide_type": "fragment"
    }
   },
   "outputs": [
    {
     "data": {
      "text/plain": [
       "[('foo', <function __main__.D_Class.foo(self) -> None>)]"
      ]
     },
     "execution_count": 56,
     "metadata": {},
     "output_type": "execute_result"
    }
   ],
   "source": [
    "doc_class_methods(D_Class)"
   ]
  },
  {
   "cell_type": "code",
   "execution_count": 57,
   "metadata": {
    "execution": {
     "iopub.execute_input": "2025-01-16T10:17:02.616735Z",
     "iopub.status.busy": "2025-01-16T10:17:02.616613Z",
     "iopub.status.idle": "2025-01-16T10:17:02.618939Z",
     "shell.execute_reply": "2025-01-16T10:17:02.618714Z"
    },
    "slideshow": {
     "slide_type": "subslide"
    }
   },
   "outputs": [],
   "source": [
    "def overloaded_class_methods(classes: Union[Type, List[Type]]) -> Set[str]:\n",
    "    all_methods: Dict[str, Set[Callable]] = {}\n",
    "    for cls in class_set(classes):\n",
    "        for (name, method) in class_methods(cls):\n",
    "            if method.__qualname__.startswith(cls.__name__):\n",
    "                all_methods.setdefault(name, set())\n",
    "                all_methods[name].add(cls)\n",
    "\n",
    "    return set(name for name in all_methods if len(all_methods[name]) >= 2)"
   ]
  },
  {
   "cell_type": "code",
   "execution_count": 58,
   "metadata": {
    "execution": {
     "iopub.execute_input": "2025-01-16T10:17:02.620467Z",
     "iopub.status.busy": "2025-01-16T10:17:02.620335Z",
     "iopub.status.idle": "2025-01-16T10:17:02.622608Z",
     "shell.execute_reply": "2025-01-16T10:17:02.622381Z"
    },
    "slideshow": {
     "slide_type": "fragment"
    }
   },
   "outputs": [
    {
     "data": {
      "text/plain": [
       "{'foo'}"
      ]
     },
     "execution_count": 58,
     "metadata": {},
     "output_type": "execute_result"
    }
   ],
   "source": [
    "overloaded_class_methods(D_Class)"
   ]
  },
  {
   "cell_type": "markdown",
   "metadata": {
    "slideshow": {
     "slide_type": "slide"
    }
   },
   "source": [
    "## Drawing Class Hierarchy with Method Names"
   ]
  },
  {
   "cell_type": "code",
   "execution_count": 59,
   "metadata": {
    "execution": {
     "iopub.execute_input": "2025-01-16T10:17:02.624084Z",
     "iopub.status.busy": "2025-01-16T10:17:02.623987Z",
     "iopub.status.idle": "2025-01-16T10:17:02.625647Z",
     "shell.execute_reply": "2025-01-16T10:17:02.625405Z"
    },
    "slideshow": {
     "slide_type": "skip"
    }
   },
   "outputs": [],
   "source": [
    "from inspect import signature"
   ]
  },
  {
   "cell_type": "code",
   "execution_count": 60,
   "metadata": {
    "execution": {
     "iopub.execute_input": "2025-01-16T10:17:02.627005Z",
     "iopub.status.busy": "2025-01-16T10:17:02.626910Z",
     "iopub.status.idle": "2025-01-16T10:17:02.628510Z",
     "shell.execute_reply": "2025-01-16T10:17:02.628283Z"
    },
    "slideshow": {
     "slide_type": "skip"
    }
   },
   "outputs": [],
   "source": [
    "import warnings"
   ]
  },
  {
   "cell_type": "code",
   "execution_count": 61,
   "metadata": {
    "execution": {
     "iopub.execute_input": "2025-01-16T10:17:02.629884Z",
     "iopub.status.busy": "2025-01-16T10:17:02.629787Z",
     "iopub.status.idle": "2025-01-16T10:17:02.631267Z",
     "shell.execute_reply": "2025-01-16T10:17:02.631034Z"
    },
    "slideshow": {
     "slide_type": "skip"
    }
   },
   "outputs": [],
   "source": [
    "import os"
   ]
  },
  {
   "cell_type": "code",
   "execution_count": 62,
   "metadata": {
    "execution": {
     "iopub.execute_input": "2025-01-16T10:17:02.632823Z",
     "iopub.status.busy": "2025-01-16T10:17:02.632688Z",
     "iopub.status.idle": "2025-01-16T10:17:02.644845Z",
     "shell.execute_reply": "2025-01-16T10:17:02.644559Z"
    },
    "slideshow": {
     "slide_type": "subslide"
    }
   },
   "outputs": [],
   "source": [
    "def display_class_hierarchy(classes: Union[Type, List[Type]], *,\n",
    "                            public_methods: Optional[List] = None,\n",
    "                            abstract_classes: Optional[List] = None,\n",
    "                            include_methods: bool = True,\n",
    "                            include_class_vars: bool = True,\n",
    "                            include_legend: bool = True,\n",
    "                            local_defs_only: bool = True,\n",
    "                            types: Dict[str, Any] = {},\n",
    "                            project: str = 'fuzzingbook',\n",
    "                            log: bool = False) -> Any:\n",
    "    \"\"\"Visualize a class hierarchy.\n",
    "`classes` is a Python class (or a list of classes) to be visualized.\n",
    "`public_methods`, if given, is a list of methods to be shown as \"public\" (bold).\n",
    "  (Default: all methods with a docstring)\n",
    "`abstract_classes`, if given, is a list of classes to be shown as \"abstract\" (cursive).\n",
    "  (Default: all classes with an abstract method)\n",
    "`include_methods`: if set (default), include all methods\n",
    "`include_legend`: if set (default), include a legend\n",
    "`local_defs_only`: if set (default), hide details of imported classes\n",
    "`types`: type names with definitions, to be used in docs\n",
    "    \"\"\"\n",
    "    from graphviz import Digraph  # type: ignore\n",
    "\n",
    "    if project == 'debuggingbook':\n",
    "        CLASS_FONT = 'Raleway, Helvetica, Arial, sans-serif'\n",
    "        CLASS_COLOR = '#6A0DAD'  # HTML 'purple'\n",
    "    else:\n",
    "        CLASS_FONT = 'Patua One, Helvetica, sans-serif'\n",
    "        CLASS_COLOR = '#B03A2E'\n",
    "\n",
    "    METHOD_FONT = \"'Fira Mono', 'Source Code Pro', 'Courier', monospace\"\n",
    "    METHOD_COLOR = 'black'\n",
    "\n",
    "    if isinstance(classes, list):\n",
    "        starting_class = classes[0]\n",
    "    else:\n",
    "        starting_class = classes\n",
    "        classes = [starting_class]\n",
    "\n",
    "    title = starting_class.__name__ + \" class hierarchy\"\n",
    "\n",
    "    dot = Digraph(comment=title)\n",
    "    dot.attr('node', shape='record', fontname=CLASS_FONT)\n",
    "    dot.attr('graph', rankdir='BT', tooltip=title)\n",
    "    dot.attr('edge', arrowhead='empty')\n",
    "\n",
    "    # Hack to force rendering as HTML, allowing hovers and links in Jupyter\n",
    "    dot._repr_html_ = dot._repr_image_svg_xml\n",
    "\n",
    "    edges = set()\n",
    "    overloaded_methods: Set[str] = set()\n",
    "\n",
    "    drawn_classes = set()\n",
    "\n",
    "    def method_string(method_name: str, public: bool, overloaded: bool,\n",
    "                      fontsize: float = 10.0) -> str:\n",
    "        method_string = f'<font face=\"{METHOD_FONT}\" point-size=\"{str(fontsize)}\">'\n",
    "\n",
    "        if overloaded:\n",
    "            name = f'<i>{method_name}()</i>'\n",
    "        else:\n",
    "            name = f'{method_name}()'\n",
    "\n",
    "        if public:\n",
    "            method_string += f'<b>{name}</b>'\n",
    "        else:\n",
    "            method_string += f'<font color=\"{METHOD_COLOR}\">' \\\n",
    "                             f'{name}</font>'\n",
    "\n",
    "        method_string += '</font>'\n",
    "        return method_string\n",
    "\n",
    "    def var_string(var_name: str, fontsize: int = 10) -> str:\n",
    "        var_string = f'<font face=\"{METHOD_FONT}\" point-size=\"{str(fontsize)}\">'\n",
    "        var_string += f'{var_name}'\n",
    "        var_string += '</font>'\n",
    "        return var_string\n",
    "\n",
    "    def is_overloaded(method_name: str, f: Any) -> bool:\n",
    "        return (method_name in overloaded_methods or\n",
    "                (docstring(f) is not None and \"in subclasses\" in docstring(f)))\n",
    "\n",
    "    def is_abstract(cls: Type) -> bool:\n",
    "        if not abstract_classes:\n",
    "            return inspect.isabstract(cls)\n",
    "\n",
    "        return (cls in abstract_classes or\n",
    "                any(c.__name__ == cls.__name__ for c in abstract_classes))\n",
    "\n",
    "    def is_public(method_name: str, f: Any) -> bool:\n",
    "        if public_methods:\n",
    "            return (method_name in public_methods or\n",
    "                    f in public_methods or\n",
    "                    any(f.__qualname__ == m.__qualname__\n",
    "                        for m in public_methods))\n",
    "\n",
    "        return bool(docstring(f))\n",
    "\n",
    "    def frame_module(frameinfo: Any) -> str:\n",
    "        return os.path.splitext(os.path.basename(frameinfo.frame.f_code.co_filename))[0]\n",
    "\n",
    "    def callers() -> List[str]:\n",
    "        frames = inspect.getouterframes(inspect.currentframe())\n",
    "        return [frame_module(frameinfo) for frameinfo in frames]\n",
    "\n",
    "    def is_local_class(cls: Type) -> bool:\n",
    "        return cls.__module__ == '__main__' or cls.__module__ in callers()\n",
    "\n",
    "    def class_vars_string(cls: Type, url: str) -> str:\n",
    "        cls_vars = class_vars(cls)\n",
    "        if len(cls_vars) == 0:\n",
    "            return \"\"\n",
    "\n",
    "        vars_string = f'<table border=\"0\" cellpadding=\"0\" ' \\\n",
    "                      f'cellspacing=\"0\" ' \\\n",
    "                      f'align=\"left\" tooltip=\"{cls.__name__}\" href=\"#\">'\n",
    "\n",
    "        for (name, var) in cls_vars:\n",
    "            if log:\n",
    "                print(f\"    Drawing {name}\")\n",
    "\n",
    "            var_doc = escape(f\"{name} = {repr(var)}\")\n",
    "            tooltip = f' tooltip=\"{var_doc}\"'\n",
    "            href = f' href=\"{url}\"'\n",
    "            vars_string += f'<tr><td align=\"left\" border=\"0\"' \\\n",
    "                           f'{tooltip}{href}>'\n",
    "\n",
    "            vars_string += var_string(name)\n",
    "            vars_string += '</td></tr>'\n",
    "\n",
    "        vars_string += '</table>'\n",
    "        return vars_string\n",
    "\n",
    "    def class_methods_string(cls: Type, url: str) -> str:\n",
    "        methods = public_class_methods(cls)\n",
    "        # return \"<br/>\".join([name + \"()\" for (name, f) in methods])\n",
    "        methods_string = f'<table border=\"0\" cellpadding=\"0\" ' \\\n",
    "                         f'cellspacing=\"0\" ' \\\n",
    "                         f'align=\"left\" tooltip=\"{cls.__name__}\" href=\"#\">'\n",
    "\n",
    "        public_methods_only = local_defs_only and not is_local_class(cls)\n",
    "\n",
    "        methods_seen = False\n",
    "        for public in [True, False]:\n",
    "            for (name, f) in methods:\n",
    "                if public != is_public(name, f):\n",
    "                    continue\n",
    "\n",
    "                if public_methods_only and not public:\n",
    "                    continue\n",
    "\n",
    "                if log:\n",
    "                    print(f\"    Drawing {name}()\")\n",
    "\n",
    "                if is_public(name, f) and not docstring(f):\n",
    "                    warnings.warn(f\"{f.__qualname__}() is listed as public,\"\n",
    "                                  f\" but has no docstring\")\n",
    "\n",
    "                overloaded = is_overloaded(name, f)\n",
    "\n",
    "                sig = str(inspect.signature(f))\n",
    "                # replace 'List[Union[...]]' by the actual type def\n",
    "                for tp in types:\n",
    "                    tp_def = str(types[tp]).replace('typing.', '')\n",
    "                    sig = sig.replace(tp_def, tp)\n",
    "                sig = sig.replace('__main__.', '')\n",
    "\n",
    "                method_doc = escape(name + sig)\n",
    "                if docstring(f):\n",
    "                    method_doc += \":&#x0a;\" + escape_doc(docstring(f))\n",
    "\n",
    "                if log:\n",
    "                    print(f\"    Method doc: {method_doc}\")\n",
    "\n",
    "                # Tooltips are only shown if a href is present, too\n",
    "                tooltip = f' tooltip=\"{method_doc}\"'\n",
    "                href = f' href=\"{url}\"'\n",
    "                methods_string += f'<tr><td align=\"left\" border=\"0\"' \\\n",
    "                                  f'{tooltip}{href}>'\n",
    "\n",
    "                methods_string += method_string(name, public, overloaded)\n",
    "\n",
    "                methods_string += '</td></tr>'\n",
    "                methods_seen = True\n",
    "\n",
    "        if not methods_seen:\n",
    "            return \"\"\n",
    "\n",
    "        methods_string += '</table>'\n",
    "        return methods_string\n",
    "\n",
    "    def display_class_node(cls: Type) -> None:\n",
    "        name = cls.__name__\n",
    "\n",
    "        if name in drawn_classes:\n",
    "            return\n",
    "        drawn_classes.add(name)\n",
    "\n",
    "        if log:\n",
    "            print(f\"Drawing class {name}\")\n",
    "\n",
    "        if cls.__module__ == '__main__':\n",
    "            url = '#'\n",
    "        else:\n",
    "            url = cls.__module__ + '.ipynb'\n",
    "\n",
    "        if is_abstract(cls):\n",
    "            formatted_class_name = f'<i>{cls.__name__}</i>'\n",
    "        else:\n",
    "            formatted_class_name = cls.__name__\n",
    "\n",
    "        if include_methods or include_class_vars:\n",
    "            vars = class_vars_string(cls, url)\n",
    "            methods = class_methods_string(cls, url)\n",
    "            spec = '<{<b><font color=\"' + CLASS_COLOR + '\">' + \\\n",
    "                formatted_class_name + '</font></b>'\n",
    "            if include_class_vars and vars:\n",
    "                spec += '|' + vars\n",
    "            if include_methods and methods:\n",
    "                spec += '|' + methods\n",
    "            spec += '}>'\n",
    "        else:\n",
    "            spec = '<' + formatted_class_name + '>'\n",
    "\n",
    "        class_doc = escape('class ' + cls.__name__)\n",
    "        if docstring(cls):\n",
    "            class_doc += ':&#x0a;' + escape_doc(docstring(cls))\n",
    "        else:\n",
    "            warnings.warn(f\"Class {cls.__name__} has no docstring\")\n",
    "\n",
    "        dot.node(name, spec, tooltip=class_doc, href=url)\n",
    "\n",
    "    def display_class_trees(trees: List[Tuple[Type, List]]) -> None:\n",
    "        for tree in trees:\n",
    "            (cls, subtrees) = tree\n",
    "            display_class_node(cls)\n",
    "\n",
    "            for subtree in subtrees:\n",
    "                (subcls, _) = subtree\n",
    "\n",
    "                if (cls.__name__, subcls.__name__) not in edges:\n",
    "                    dot.edge(cls.__name__, subcls.__name__)\n",
    "                    edges.add((cls.__name__, subcls.__name__))\n",
    "\n",
    "            display_class_trees(subtrees)\n",
    "\n",
    "    def display_legend() -> None:\n",
    "        fontsize = 8.0\n",
    "\n",
    "        label = f'<b><font color=\"{CLASS_COLOR}\">Legend</font></b><br align=\"left\"/>' \n",
    "\n",
    "        for item in [\n",
    "            method_string(\"public_method\",\n",
    "                          public=True, overloaded=False, fontsize=fontsize),\n",
    "            method_string(\"private_method\",\n",
    "                          public=False, overloaded=False, fontsize=fontsize),\n",
    "            method_string(\"overloaded_method\",\n",
    "                          public=False, overloaded=True, fontsize=fontsize)\n",
    "        ]:\n",
    "            label += '&bull;&nbsp;' + item + '<br align=\"left\"/>'\n",
    "\n",
    "        label += f'<font face=\"Helvetica\" point-size=\"{str(fontsize + 1)}\">' \\\n",
    "                 'Hover over names to see doc' \\\n",
    "                 '</font><br align=\"left\"/>'\n",
    "\n",
    "        dot.node('Legend', label=f'<{label}>', shape='plain', fontsize=str(fontsize + 2))\n",
    "\n",
    "    for cls in classes:\n",
    "        tree = class_tree(cls)\n",
    "        overloaded_methods = overloaded_class_methods(cls)\n",
    "        display_class_trees(tree)\n",
    "\n",
    "    if include_legend:\n",
    "        display_legend()\n",
    "\n",
    "    return dot"
   ]
  },
  {
   "cell_type": "code",
   "execution_count": 63,
   "metadata": {
    "execution": {
     "iopub.execute_input": "2025-01-16T10:17:02.646518Z",
     "iopub.status.busy": "2025-01-16T10:17:02.646422Z",
     "iopub.status.idle": "2025-01-16T10:17:03.536058Z",
     "shell.execute_reply": "2025-01-16T10:17:03.535644Z"
    },
    "slideshow": {
     "slide_type": "subslide"
    }
   },
   "outputs": [
    {
     "name": "stdout",
     "output_type": "stream",
     "text": [
      "Drawing class D_Class\n",
      "    Drawing foo()\n",
      "    Method doc: foo(self) -&gt; None:&#x0a;A WW2 foo fighter.\n",
      "Drawing class B_Class\n",
      "    Drawing VAR\n",
      "    Drawing bar()\n",
      "    Method doc: bar(self, qux: Any = None, bartender: int = 42) -&gt; None:&#x0a;A qux walks into a bar.&#x0a;`bartender` is an optional attribute.\n",
      "    Drawing foo()\n",
      "    Method doc: foo(self) -&gt; None:&#x0a;A WW2 foo fighter.\n",
      "Drawing class A_Class\n",
      "    Drawing foo()\n",
      "    Method doc: foo(self) -&gt; None:&#x0a;The Adventures of the glorious Foo\n",
      "    Drawing quux()\n",
      "    Method doc: quux(self) -&gt; None:&#x0a;A method that is not used.\n",
      "    Drawing second()\n",
      "    Method doc: second(self) -&gt; None\n",
      "Drawing class C_Class\n",
      "    Drawing qux()\n",
      "    Method doc: qux(self, arg: SomeType) -&gt; SomeType\n"
     ]
    },
    {
     "data": {
      "image/svg+xml": [
       "<?xml version=\"1.0\" encoding=\"UTF-8\" standalone=\"no\"?>\n",
       "<!DOCTYPE svg PUBLIC \"-//W3C//DTD SVG 1.1//EN\"\n",
       " \"http://www.w3.org/Graphics/SVG/1.1/DTD/svg11.dtd\">\n",
       "<!-- Generated by graphviz version 12.2.1 (20241206.2353)\n",
       " -->\n",
       "<!-- Pages: 1 -->\n",
       "<svg width=\"254pt\" height=\"282pt\"\n",
       " viewBox=\"0.00 0.00 254.12 282.00\" xmlns=\"http://www.w3.org/2000/svg\" xmlns:xlink=\"http://www.w3.org/1999/xlink\">\n",
       "<g id=\"graph0\" class=\"graph\" transform=\"scale(1 1) rotate(0) translate(4 278)\">\n",
       "<g id=\"a_graph0\"><a xlink:title=\"D_Class class hierarchy\">\n",
       "<polygon fill=\"white\" stroke=\"none\" points=\"-4,4 -4,-278 250.12,-278 250.12,4 -4,4\"/>\n",
       "</a>\n",
       "</g>\n",
       "<!-- D_Class -->\n",
       "<g id=\"node1\" class=\"node\">\n",
       "<title>D_Class</title>\n",
       "<g id=\"a_node1\"><a xlink:href=\"#\" xlink:title=\"class D_Class:&#10;A subclass inheriting from multiple superclasses.&#10;Comes with a fairly long, but meaningless documentation.\">\n",
       "<polygon fill=\"none\" stroke=\"black\" points=\"42,-1.5 42,-47.5 109,-47.5 109,-1.5 42,-1.5\"/>\n",
       "<text text-anchor=\"start\" x=\"50\" y=\"-31.2\" font-family=\"Raleway, Helvetica, Arial, sans-serif\" font-weight=\"bold\" font-size=\"14.00\" fill=\"#6a0dad\">D_Class</text>\n",
       "<polyline fill=\"none\" stroke=\"black\" points=\"42,-22.25 109,-22.25\"/>\n",
       "<g id=\"a_node1_0\"><a xlink:href=\"#\" xlink:title=\"D_Class\">\n",
       "<g id=\"a_node1_1\"><a xlink:href=\"#\" xlink:title=\"foo(self) &#45;&gt; None:&#10;A WW2 foo fighter.\">\n",
       "<text text-anchor=\"start\" x=\"60.5\" y=\"-9.75\" font-family=\"'Fira Mono', 'Source Code Pro', 'Courier', monospace\" font-weight=\"bold\" font-style=\"italic\" font-size=\"10.00\">foo()</text>\n",
       "</a>\n",
       "</g>\n",
       "</a>\n",
       "</g>\n",
       "</a>\n",
       "</g>\n",
       "</g>\n",
       "<!-- B_Class -->\n",
       "<g id=\"node2\" class=\"node\">\n",
       "<title>B_Class</title>\n",
       "<g id=\"a_node2\"><a xlink:href=\"#\" xlink:title=\"class B_Class:&#10;A subclass inheriting some methods.\">\n",
       "<polygon fill=\"none\" stroke=\"black\" points=\"0.38,-85.5 0.38,-165 66.62,-165 66.62,-85.5 0.38,-85.5\"/>\n",
       "<text text-anchor=\"start\" x=\"8.38\" y=\"-148.7\" font-family=\"Raleway, Helvetica, Arial, sans-serif\" font-weight=\"bold\" font-size=\"14.00\" fill=\"#6a0dad\">B_Class</text>\n",
       "<polyline fill=\"none\" stroke=\"black\" points=\"0.38,-139.75 66.62,-139.75\"/>\n",
       "<g id=\"a_node2_2\"><a xlink:href=\"#\" xlink:title=\"B_Class\">\n",
       "<g id=\"a_node2_3\"><a xlink:href=\"#\" xlink:title=\"VAR = &#39;A variable&#39;\">\n",
       "<text text-anchor=\"start\" x=\"24.5\" y=\"-126.25\" font-family=\"'Fira Mono', 'Source Code Pro', 'Courier', monospace\" font-size=\"10.00\">VAR</text>\n",
       "</a>\n",
       "</g>\n",
       "</a>\n",
       "</g>\n",
       "<polyline fill=\"none\" stroke=\"black\" points=\"0.38,-119 66.62,-119\"/>\n",
       "<g id=\"a_node2_4\"><a xlink:href=\"#\" xlink:title=\"B_Class\">\n",
       "<g id=\"a_node2_5\"><a xlink:href=\"#\" xlink:title=\"bar(self, qux: Any = None, bartender: int = 42) &#45;&gt; None:&#10;A qux walks into a bar.&#10;`bartender` is an optional attribute.\">\n",
       "<text text-anchor=\"start\" x=\"18.5\" y=\"-106.5\" font-family=\"'Fira Mono', 'Source Code Pro', 'Courier', monospace\" font-weight=\"bold\" font-size=\"10.00\">bar()</text>\n",
       "</a>\n",
       "</g>\n",
       "<g id=\"a_node2_6\"><a xlink:href=\"#\" xlink:title=\"foo(self) &#45;&gt; None:&#10;A WW2 foo fighter.\">\n",
       "<text text-anchor=\"start\" x=\"18.5\" y=\"-93.75\" font-family=\"'Fira Mono', 'Source Code Pro', 'Courier', monospace\" font-weight=\"bold\" font-style=\"italic\" font-size=\"10.00\">foo()</text>\n",
       "</a>\n",
       "</g>\n",
       "</a>\n",
       "</g>\n",
       "</a>\n",
       "</g>\n",
       "</g>\n",
       "<!-- D_Class&#45;&gt;B_Class -->\n",
       "<g id=\"edge1\" class=\"edge\">\n",
       "<title>D_Class&#45;&gt;B_Class</title>\n",
       "<path fill=\"none\" stroke=\"black\" d=\"M65.97,-47.91C62.56,-55.93 58.56,-65.32 54.57,-74.72\"/>\n",
       "<polygon fill=\"none\" stroke=\"black\" points=\"51.37,-73.29 50.68,-83.87 57.81,-76.03 51.37,-73.29\"/>\n",
       "</g>\n",
       "<!-- C_Class -->\n",
       "<g id=\"node4\" class=\"node\">\n",
       "<title>C_Class</title>\n",
       "<g id=\"a_node4\"><a xlink:href=\"#\" xlink:title=\"class C_Class:&#10;A class injecting some method\">\n",
       "<polygon fill=\"none\" stroke=\"black\" points=\"85,-102.25 85,-148.25 152,-148.25 152,-102.25 85,-102.25\"/>\n",
       "<text text-anchor=\"start\" x=\"93\" y=\"-131.95\" font-family=\"Raleway, Helvetica, Arial, sans-serif\" font-weight=\"bold\" font-size=\"14.00\" fill=\"#6a0dad\">C_Class</text>\n",
       "<polyline fill=\"none\" stroke=\"black\" points=\"85,-123 152,-123\"/>\n",
       "<g id=\"a_node4_7\"><a xlink:href=\"#\" xlink:title=\"C_Class\">\n",
       "<g id=\"a_node4_8\"><a xlink:href=\"#\" xlink:title=\"qux(self, arg: SomeType) &#45;&gt; SomeType\">\n",
       "<text text-anchor=\"start\" x=\"103.5\" y=\"-109.5\" font-family=\"'Fira Mono', 'Source Code Pro', 'Courier', monospace\" font-size=\"10.00\">qux()</text>\n",
       "</a>\n",
       "</g>\n",
       "</a>\n",
       "</g>\n",
       "</a>\n",
       "</g>\n",
       "</g>\n",
       "<!-- D_Class&#45;&gt;C_Class -->\n",
       "<g id=\"edge3\" class=\"edge\">\n",
       "<title>D_Class&#45;&gt;C_Class</title>\n",
       "<path fill=\"none\" stroke=\"black\" d=\"M85.26,-47.91C90.87,-60.79 98.01,-77.2 104.24,-91.5\"/>\n",
       "<polygon fill=\"none\" stroke=\"black\" points=\"100.98,-92.77 108.18,-100.54 107.39,-89.98 100.98,-92.77\"/>\n",
       "</g>\n",
       "<!-- A_Class -->\n",
       "<g id=\"node3\" class=\"node\">\n",
       "<title>A_Class</title>\n",
       "<g id=\"a_node3\"><a xlink:href=\"#\" xlink:title=\"class A_Class:&#10;A Class which does A thing right.&#10;Comes with a longer docstring.\">\n",
       "<polygon fill=\"none\" stroke=\"black\" points=\"0,-202 0,-273.5 67,-273.5 67,-202 0,-202\"/>\n",
       "<text text-anchor=\"start\" x=\"8\" y=\"-257.2\" font-family=\"Raleway, Helvetica, Arial, sans-serif\" font-weight=\"bold\" font-size=\"14.00\" fill=\"#6a0dad\">A_Class</text>\n",
       "<polyline fill=\"none\" stroke=\"black\" points=\"0,-248.25 67,-248.25\"/>\n",
       "<g id=\"a_node3_9\"><a xlink:href=\"#\" xlink:title=\"A_Class\">\n",
       "<g id=\"a_node3_10\"><a xlink:href=\"#\" xlink:title=\"foo(self) &#45;&gt; None:&#10;The Adventures of the glorious Foo\">\n",
       "<text text-anchor=\"start\" x=\"9.5\" y=\"-235.75\" font-family=\"'Fira Mono', 'Source Code Pro', 'Courier', monospace\" font-weight=\"bold\" font-style=\"italic\" font-size=\"10.00\">foo()</text>\n",
       "</a>\n",
       "</g>\n",
       "<g id=\"a_node3_11\"><a xlink:href=\"#\" xlink:title=\"quux(self) &#45;&gt; None:&#10;A method that is not used.\">\n",
       "<text text-anchor=\"start\" x=\"9.5\" y=\"-223\" font-family=\"'Fira Mono', 'Source Code Pro', 'Courier', monospace\" font-weight=\"bold\" font-size=\"10.00\">quux()</text>\n",
       "</a>\n",
       "</g>\n",
       "<g id=\"a_node3_12\"><a xlink:href=\"#\" xlink:title=\"second(self) &#45;&gt; None\">\n",
       "<text text-anchor=\"start\" x=\"9.5\" y=\"-209.25\" font-family=\"'Fira Mono', 'Source Code Pro', 'Courier', monospace\" font-size=\"10.00\">second()</text>\n",
       "</a>\n",
       "</g>\n",
       "</a>\n",
       "</g>\n",
       "</a>\n",
       "</g>\n",
       "</g>\n",
       "<!-- B_Class&#45;&gt;A_Class -->\n",
       "<g id=\"edge2\" class=\"edge\">\n",
       "<title>B_Class&#45;&gt;A_Class</title>\n",
       "<path fill=\"none\" stroke=\"black\" d=\"M33.5,-165.21C33.5,-173.41 33.5,-182.14 33.5,-190.58\"/>\n",
       "<polygon fill=\"none\" stroke=\"black\" points=\"30,-190.31 33.5,-200.31 37,-190.31 30,-190.31\"/>\n",
       "</g>\n",
       "<!-- Legend -->\n",
       "<g id=\"node5\" class=\"node\">\n",
       "<title>Legend</title>\n",
       "<text text-anchor=\"start\" x=\"126.88\" y=\"-40.5\" font-family=\"Raleway, Helvetica, Arial, sans-serif\" font-weight=\"bold\" font-size=\"10.00\" fill=\"#6a0dad\">Legend</text>\n",
       "<text text-anchor=\"start\" x=\"126.88\" y=\"-30.5\" font-family=\"Raleway, Helvetica, Arial, sans-serif\" font-size=\"10.00\">• </text>\n",
       "<text text-anchor=\"start\" x=\"132.88\" y=\"-30.5\" font-family=\"'Fira Mono', 'Source Code Pro', 'Courier', monospace\" font-weight=\"bold\" font-size=\"8.00\">public_method()</text>\n",
       "<text text-anchor=\"start\" x=\"126.88\" y=\"-20.5\" font-family=\"Raleway, Helvetica, Arial, sans-serif\" font-size=\"10.00\">• </text>\n",
       "<text text-anchor=\"start\" x=\"132.88\" y=\"-20.5\" font-family=\"'Fira Mono', 'Source Code Pro', 'Courier', monospace\" font-size=\"8.00\">private_method()</text>\n",
       "<text text-anchor=\"start\" x=\"126.88\" y=\"-10.5\" font-family=\"Raleway, Helvetica, Arial, sans-serif\" font-size=\"10.00\">• </text>\n",
       "<text text-anchor=\"start\" x=\"132.88\" y=\"-10.5\" font-family=\"'Fira Mono', 'Source Code Pro', 'Courier', monospace\" font-style=\"italic\" font-size=\"8.00\">overloaded_method()</text>\n",
       "<text text-anchor=\"start\" x=\"126.88\" y=\"-1.45\" font-family=\"Helvetica,sans-Serif\" font-size=\"9.00\">Hover over names to see doc</text>\n",
       "</g>\n",
       "</g>\n",
       "</svg>\n"
      ],
      "text/html": [
       "<?xml version=\"1.0\" encoding=\"UTF-8\" standalone=\"no\"?>\n",
       "<!DOCTYPE svg PUBLIC \"-//W3C//DTD SVG 1.1//EN\"\n",
       " \"http://www.w3.org/Graphics/SVG/1.1/DTD/svg11.dtd\">\n",
       "<!-- Generated by graphviz version 12.2.1 (20241206.2353)\n",
       " -->\n",
       "<!-- Pages: 1 -->\n",
       "<svg width=\"254pt\" height=\"282pt\"\n",
       " viewBox=\"0.00 0.00 254.12 282.00\" xmlns=\"http://www.w3.org/2000/svg\" xmlns:xlink=\"http://www.w3.org/1999/xlink\">\n",
       "<g id=\"graph0\" class=\"graph\" transform=\"scale(1 1) rotate(0) translate(4 278)\">\n",
       "<g id=\"a_graph0\"><a xlink:title=\"D_Class class hierarchy\">\n",
       "<polygon fill=\"white\" stroke=\"none\" points=\"-4,4 -4,-278 250.12,-278 250.12,4 -4,4\"/>\n",
       "</a>\n",
       "</g>\n",
       "<!-- D_Class -->\n",
       "<g id=\"node1\" class=\"node\">\n",
       "<title>D_Class</title>\n",
       "<g id=\"a_node1\"><a xlink:href=\"#\" xlink:title=\"class D_Class:&#10;A subclass inheriting from multiple superclasses.&#10;Comes with a fairly long, but meaningless documentation.\">\n",
       "<polygon fill=\"none\" stroke=\"black\" points=\"42,-1.5 42,-47.5 109,-47.5 109,-1.5 42,-1.5\"/>\n",
       "<text text-anchor=\"start\" x=\"50\" y=\"-31.2\" font-family=\"Raleway, Helvetica, Arial, sans-serif\" font-weight=\"bold\" font-size=\"14.00\" fill=\"#6a0dad\">D_Class</text>\n",
       "<polyline fill=\"none\" stroke=\"black\" points=\"42,-22.25 109,-22.25\"/>\n",
       "<g id=\"a_node1_0\"><a xlink:href=\"#\" xlink:title=\"D_Class\">\n",
       "<g id=\"a_node1_1\"><a xlink:href=\"#\" xlink:title=\"foo(self) &#45;&gt; None:&#10;A WW2 foo fighter.\">\n",
       "<text text-anchor=\"start\" x=\"60.5\" y=\"-9.75\" font-family=\"'Fira Mono', 'Source Code Pro', 'Courier', monospace\" font-weight=\"bold\" font-style=\"italic\" font-size=\"10.00\">foo()</text>\n",
       "</a>\n",
       "</g>\n",
       "</a>\n",
       "</g>\n",
       "</a>\n",
       "</g>\n",
       "</g>\n",
       "<!-- B_Class -->\n",
       "<g id=\"node2\" class=\"node\">\n",
       "<title>B_Class</title>\n",
       "<g id=\"a_node2\"><a xlink:href=\"#\" xlink:title=\"class B_Class:&#10;A subclass inheriting some methods.\">\n",
       "<polygon fill=\"none\" stroke=\"black\" points=\"0.38,-85.5 0.38,-165 66.62,-165 66.62,-85.5 0.38,-85.5\"/>\n",
       "<text text-anchor=\"start\" x=\"8.38\" y=\"-148.7\" font-family=\"Raleway, Helvetica, Arial, sans-serif\" font-weight=\"bold\" font-size=\"14.00\" fill=\"#6a0dad\">B_Class</text>\n",
       "<polyline fill=\"none\" stroke=\"black\" points=\"0.38,-139.75 66.62,-139.75\"/>\n",
       "<g id=\"a_node2_2\"><a xlink:href=\"#\" xlink:title=\"B_Class\">\n",
       "<g id=\"a_node2_3\"><a xlink:href=\"#\" xlink:title=\"VAR = &#39;A variable&#39;\">\n",
       "<text text-anchor=\"start\" x=\"24.5\" y=\"-126.25\" font-family=\"'Fira Mono', 'Source Code Pro', 'Courier', monospace\" font-size=\"10.00\">VAR</text>\n",
       "</a>\n",
       "</g>\n",
       "</a>\n",
       "</g>\n",
       "<polyline fill=\"none\" stroke=\"black\" points=\"0.38,-119 66.62,-119\"/>\n",
       "<g id=\"a_node2_4\"><a xlink:href=\"#\" xlink:title=\"B_Class\">\n",
       "<g id=\"a_node2_5\"><a xlink:href=\"#\" xlink:title=\"bar(self, qux: Any = None, bartender: int = 42) &#45;&gt; None:&#10;A qux walks into a bar.&#10;`bartender` is an optional attribute.\">\n",
       "<text text-anchor=\"start\" x=\"18.5\" y=\"-106.5\" font-family=\"'Fira Mono', 'Source Code Pro', 'Courier', monospace\" font-weight=\"bold\" font-size=\"10.00\">bar()</text>\n",
       "</a>\n",
       "</g>\n",
       "<g id=\"a_node2_6\"><a xlink:href=\"#\" xlink:title=\"foo(self) &#45;&gt; None:&#10;A WW2 foo fighter.\">\n",
       "<text text-anchor=\"start\" x=\"18.5\" y=\"-93.75\" font-family=\"'Fira Mono', 'Source Code Pro', 'Courier', monospace\" font-weight=\"bold\" font-style=\"italic\" font-size=\"10.00\">foo()</text>\n",
       "</a>\n",
       "</g>\n",
       "</a>\n",
       "</g>\n",
       "</a>\n",
       "</g>\n",
       "</g>\n",
       "<!-- D_Class&#45;&gt;B_Class -->\n",
       "<g id=\"edge1\" class=\"edge\">\n",
       "<title>D_Class&#45;&gt;B_Class</title>\n",
       "<path fill=\"none\" stroke=\"black\" d=\"M65.97,-47.91C62.56,-55.93 58.56,-65.32 54.57,-74.72\"/>\n",
       "<polygon fill=\"none\" stroke=\"black\" points=\"51.37,-73.29 50.68,-83.87 57.81,-76.03 51.37,-73.29\"/>\n",
       "</g>\n",
       "<!-- C_Class -->\n",
       "<g id=\"node4\" class=\"node\">\n",
       "<title>C_Class</title>\n",
       "<g id=\"a_node4\"><a xlink:href=\"#\" xlink:title=\"class C_Class:&#10;A class injecting some method\">\n",
       "<polygon fill=\"none\" stroke=\"black\" points=\"85,-102.25 85,-148.25 152,-148.25 152,-102.25 85,-102.25\"/>\n",
       "<text text-anchor=\"start\" x=\"93\" y=\"-131.95\" font-family=\"Raleway, Helvetica, Arial, sans-serif\" font-weight=\"bold\" font-size=\"14.00\" fill=\"#6a0dad\">C_Class</text>\n",
       "<polyline fill=\"none\" stroke=\"black\" points=\"85,-123 152,-123\"/>\n",
       "<g id=\"a_node4_7\"><a xlink:href=\"#\" xlink:title=\"C_Class\">\n",
       "<g id=\"a_node4_8\"><a xlink:href=\"#\" xlink:title=\"qux(self, arg: SomeType) &#45;&gt; SomeType\">\n",
       "<text text-anchor=\"start\" x=\"103.5\" y=\"-109.5\" font-family=\"'Fira Mono', 'Source Code Pro', 'Courier', monospace\" font-size=\"10.00\">qux()</text>\n",
       "</a>\n",
       "</g>\n",
       "</a>\n",
       "</g>\n",
       "</a>\n",
       "</g>\n",
       "</g>\n",
       "<!-- D_Class&#45;&gt;C_Class -->\n",
       "<g id=\"edge3\" class=\"edge\">\n",
       "<title>D_Class&#45;&gt;C_Class</title>\n",
       "<path fill=\"none\" stroke=\"black\" d=\"M85.26,-47.91C90.87,-60.79 98.01,-77.2 104.24,-91.5\"/>\n",
       "<polygon fill=\"none\" stroke=\"black\" points=\"100.98,-92.77 108.18,-100.54 107.39,-89.98 100.98,-92.77\"/>\n",
       "</g>\n",
       "<!-- A_Class -->\n",
       "<g id=\"node3\" class=\"node\">\n",
       "<title>A_Class</title>\n",
       "<g id=\"a_node3\"><a xlink:href=\"#\" xlink:title=\"class A_Class:&#10;A Class which does A thing right.&#10;Comes with a longer docstring.\">\n",
       "<polygon fill=\"none\" stroke=\"black\" points=\"0,-202 0,-273.5 67,-273.5 67,-202 0,-202\"/>\n",
       "<text text-anchor=\"start\" x=\"8\" y=\"-257.2\" font-family=\"Raleway, Helvetica, Arial, sans-serif\" font-weight=\"bold\" font-size=\"14.00\" fill=\"#6a0dad\">A_Class</text>\n",
       "<polyline fill=\"none\" stroke=\"black\" points=\"0,-248.25 67,-248.25\"/>\n",
       "<g id=\"a_node3_9\"><a xlink:href=\"#\" xlink:title=\"A_Class\">\n",
       "<g id=\"a_node3_10\"><a xlink:href=\"#\" xlink:title=\"foo(self) &#45;&gt; None:&#10;The Adventures of the glorious Foo\">\n",
       "<text text-anchor=\"start\" x=\"9.5\" y=\"-235.75\" font-family=\"'Fira Mono', 'Source Code Pro', 'Courier', monospace\" font-weight=\"bold\" font-style=\"italic\" font-size=\"10.00\">foo()</text>\n",
       "</a>\n",
       "</g>\n",
       "<g id=\"a_node3_11\"><a xlink:href=\"#\" xlink:title=\"quux(self) &#45;&gt; None:&#10;A method that is not used.\">\n",
       "<text text-anchor=\"start\" x=\"9.5\" y=\"-223\" font-family=\"'Fira Mono', 'Source Code Pro', 'Courier', monospace\" font-weight=\"bold\" font-size=\"10.00\">quux()</text>\n",
       "</a>\n",
       "</g>\n",
       "<g id=\"a_node3_12\"><a xlink:href=\"#\" xlink:title=\"second(self) &#45;&gt; None\">\n",
       "<text text-anchor=\"start\" x=\"9.5\" y=\"-209.25\" font-family=\"'Fira Mono', 'Source Code Pro', 'Courier', monospace\" font-size=\"10.00\">second()</text>\n",
       "</a>\n",
       "</g>\n",
       "</a>\n",
       "</g>\n",
       "</a>\n",
       "</g>\n",
       "</g>\n",
       "<!-- B_Class&#45;&gt;A_Class -->\n",
       "<g id=\"edge2\" class=\"edge\">\n",
       "<title>B_Class&#45;&gt;A_Class</title>\n",
       "<path fill=\"none\" stroke=\"black\" d=\"M33.5,-165.21C33.5,-173.41 33.5,-182.14 33.5,-190.58\"/>\n",
       "<polygon fill=\"none\" stroke=\"black\" points=\"30,-190.31 33.5,-200.31 37,-190.31 30,-190.31\"/>\n",
       "</g>\n",
       "<!-- Legend -->\n",
       "<g id=\"node5\" class=\"node\">\n",
       "<title>Legend</title>\n",
       "<text text-anchor=\"start\" x=\"126.88\" y=\"-40.5\" font-family=\"Raleway, Helvetica, Arial, sans-serif\" font-weight=\"bold\" font-size=\"10.00\" fill=\"#6a0dad\">Legend</text>\n",
       "<text text-anchor=\"start\" x=\"126.88\" y=\"-30.5\" font-family=\"Raleway, Helvetica, Arial, sans-serif\" font-size=\"10.00\">• </text>\n",
       "<text text-anchor=\"start\" x=\"132.88\" y=\"-30.5\" font-family=\"'Fira Mono', 'Source Code Pro', 'Courier', monospace\" font-weight=\"bold\" font-size=\"8.00\">public_method()</text>\n",
       "<text text-anchor=\"start\" x=\"126.88\" y=\"-20.5\" font-family=\"Raleway, Helvetica, Arial, sans-serif\" font-size=\"10.00\">• </text>\n",
       "<text text-anchor=\"start\" x=\"132.88\" y=\"-20.5\" font-family=\"'Fira Mono', 'Source Code Pro', 'Courier', monospace\" font-size=\"8.00\">private_method()</text>\n",
       "<text text-anchor=\"start\" x=\"126.88\" y=\"-10.5\" font-family=\"Raleway, Helvetica, Arial, sans-serif\" font-size=\"10.00\">• </text>\n",
       "<text text-anchor=\"start\" x=\"132.88\" y=\"-10.5\" font-family=\"'Fira Mono', 'Source Code Pro', 'Courier', monospace\" font-style=\"italic\" font-size=\"8.00\">overloaded_method()</text>\n",
       "<text text-anchor=\"start\" x=\"126.88\" y=\"-1.45\" font-family=\"Helvetica,sans-Serif\" font-size=\"9.00\">Hover over names to see doc</text>\n",
       "</g>\n",
       "</g>\n",
       "</svg>\n"
      ],
      "text/plain": [
       "<graphviz.graphs.Digraph at 0x1062da1b0>"
      ]
     },
     "execution_count": 63,
     "metadata": {},
     "output_type": "execute_result"
    }
   ],
   "source": [
    "display_class_hierarchy(D_Class, types={'SomeType': SomeType},\n",
    "                        project='debuggingbook', log=True)"
   ]
  },
  {
   "cell_type": "code",
   "execution_count": 64,
   "metadata": {
    "execution": {
     "iopub.execute_input": "2025-01-16T10:17:03.537890Z",
     "iopub.status.busy": "2025-01-16T10:17:03.537743Z",
     "iopub.status.idle": "2025-01-16T10:17:04.397464Z",
     "shell.execute_reply": "2025-01-16T10:17:04.397089Z"
    },
    "slideshow": {
     "slide_type": "subslide"
    }
   },
   "outputs": [
    {
     "data": {
      "image/svg+xml": [
       "<?xml version=\"1.0\" encoding=\"UTF-8\" standalone=\"no\"?>\n",
       "<!DOCTYPE svg PUBLIC \"-//W3C//DTD SVG 1.1//EN\"\n",
       " \"http://www.w3.org/Graphics/SVG/1.1/DTD/svg11.dtd\">\n",
       "<!-- Generated by graphviz version 12.2.1 (20241206.2353)\n",
       " -->\n",
       "<!-- Pages: 1 -->\n",
       "<svg width=\"251pt\" height=\"284pt\"\n",
       " viewBox=\"0.00 0.00 251.38 283.50\" xmlns=\"http://www.w3.org/2000/svg\" xmlns:xlink=\"http://www.w3.org/1999/xlink\">\n",
       "<g id=\"graph0\" class=\"graph\" transform=\"scale(1 1) rotate(0) translate(4 279.5)\">\n",
       "<g id=\"a_graph0\"><a xlink:title=\"D_Class class hierarchy\">\n",
       "<polygon fill=\"white\" stroke=\"none\" points=\"-4,4 -4,-279.5 247.38,-279.5 247.38,4 -4,4\"/>\n",
       "</a>\n",
       "</g>\n",
       "<!-- D_Class -->\n",
       "<g id=\"node1\" class=\"node\">\n",
       "<title>D_Class</title>\n",
       "<g id=\"a_node1\"><a xlink:href=\"#\" xlink:title=\"class D_Class:&#10;A subclass inheriting from multiple superclasses.&#10;Comes with a fairly long, but meaningless documentation.\">\n",
       "<polygon fill=\"none\" stroke=\"black\" points=\"41,-1.12 41,-47.88 106.5,-47.88 106.5,-1.12 41,-1.12\"/>\n",
       "<text text-anchor=\"start\" x=\"49\" y=\"-31.57\" font-family=\"Patua One, Helvetica, sans-serif\" font-weight=\"bold\" font-size=\"14.00\" fill=\"#b03a2e\">D_Class</text>\n",
       "<polyline fill=\"none\" stroke=\"black\" points=\"41,-21.88 106.5,-21.88\"/>\n",
       "<g id=\"a_node1_0\"><a xlink:href=\"#\" xlink:title=\"D_Class\">\n",
       "<g id=\"a_node1_1\"><a xlink:href=\"#\" xlink:title=\"foo(self) &#45;&gt; None:&#10;A WW2 foo fighter.\">\n",
       "<text text-anchor=\"start\" x=\"58.75\" y=\"-9.38\" font-family=\"'Fira Mono', 'Source Code Pro', 'Courier', monospace\" font-weight=\"bold\" font-style=\"italic\" font-size=\"10.00\">foo()</text>\n",
       "</a>\n",
       "</g>\n",
       "</a>\n",
       "</g>\n",
       "</a>\n",
       "</g>\n",
       "</g>\n",
       "<!-- B_Class -->\n",
       "<g id=\"node2\" class=\"node\">\n",
       "<title>B_Class</title>\n",
       "<g id=\"a_node2\"><a xlink:href=\"#\" xlink:title=\"class B_Class:&#10;A subclass inheriting some methods.\">\n",
       "<polygon fill=\"none\" stroke=\"black\" points=\"0,-85.5 0,-165.75 65.5,-165.75 65.5,-85.5 0,-85.5\"/>\n",
       "<text text-anchor=\"start\" x=\"8\" y=\"-149.45\" font-family=\"Patua One, Helvetica, sans-serif\" font-weight=\"bold\" font-size=\"14.00\" fill=\"#b03a2e\">B_Class</text>\n",
       "<polyline fill=\"none\" stroke=\"black\" points=\"0,-139.75 65.5,-139.75\"/>\n",
       "<g id=\"a_node2_2\"><a xlink:href=\"#\" xlink:title=\"B_Class\">\n",
       "<g id=\"a_node2_3\"><a xlink:href=\"#\" xlink:title=\"VAR = &#39;A variable&#39;\">\n",
       "<text text-anchor=\"start\" x=\"23.75\" y=\"-126.25\" font-family=\"'Fira Mono', 'Source Code Pro', 'Courier', monospace\" font-size=\"10.00\">VAR</text>\n",
       "</a>\n",
       "</g>\n",
       "</a>\n",
       "</g>\n",
       "<polyline fill=\"none\" stroke=\"black\" points=\"0,-119 65.5,-119\"/>\n",
       "<g id=\"a_node2_4\"><a xlink:href=\"#\" xlink:title=\"B_Class\">\n",
       "<g id=\"a_node2_5\"><a xlink:href=\"#\" xlink:title=\"bar(self, qux: Any = None, bartender: int = 42) &#45;&gt; None:&#10;A qux walks into a bar.&#10;`bartender` is an optional attribute.\">\n",
       "<text text-anchor=\"start\" x=\"17.75\" y=\"-106.5\" font-family=\"'Fira Mono', 'Source Code Pro', 'Courier', monospace\" font-weight=\"bold\" font-size=\"10.00\">bar()</text>\n",
       "</a>\n",
       "</g>\n",
       "<g id=\"a_node2_6\"><a xlink:href=\"#\" xlink:title=\"foo(self) &#45;&gt; None:&#10;A WW2 foo fighter.\">\n",
       "<text text-anchor=\"start\" x=\"17.75\" y=\"-93.75\" font-family=\"'Fira Mono', 'Source Code Pro', 'Courier', monospace\" font-weight=\"bold\" font-style=\"italic\" font-size=\"10.00\">foo()</text>\n",
       "</a>\n",
       "</g>\n",
       "</a>\n",
       "</g>\n",
       "</a>\n",
       "</g>\n",
       "</g>\n",
       "<!-- D_Class&#45;&gt;B_Class -->\n",
       "<g id=\"edge1\" class=\"edge\">\n",
       "<title>D_Class&#45;&gt;B_Class</title>\n",
       "<path fill=\"none\" stroke=\"black\" d=\"M64.45,-47.99C61.15,-55.96 57.3,-65.28 53.44,-74.61\"/>\n",
       "<polygon fill=\"none\" stroke=\"black\" points=\"50.27,-73.11 49.68,-83.69 56.74,-75.79 50.27,-73.11\"/>\n",
       "</g>\n",
       "<!-- C_Class -->\n",
       "<g id=\"node4\" class=\"node\">\n",
       "<title>C_Class</title>\n",
       "<g id=\"a_node4\"><a xlink:href=\"#\" xlink:title=\"class C_Class:&#10;A class injecting some method\">\n",
       "<polygon fill=\"none\" stroke=\"black\" points=\"83.38,-102.25 83.38,-149 148.12,-149 148.12,-102.25 83.38,-102.25\"/>\n",
       "<text text-anchor=\"start\" x=\"91.38\" y=\"-132.7\" font-family=\"Patua One, Helvetica, sans-serif\" font-weight=\"bold\" font-size=\"14.00\" fill=\"#b03a2e\">C_Class</text>\n",
       "<polyline fill=\"none\" stroke=\"black\" points=\"83.38,-123 148.12,-123\"/>\n",
       "<g id=\"a_node4_7\"><a xlink:href=\"#\" xlink:title=\"C_Class\">\n",
       "<g id=\"a_node4_8\"><a xlink:href=\"#\" xlink:title=\"qux(self, arg: SomeType) &#45;&gt; SomeType\">\n",
       "<text text-anchor=\"start\" x=\"100.75\" y=\"-109.5\" font-family=\"'Fira Mono', 'Source Code Pro', 'Courier', monospace\" font-size=\"10.00\">qux()</text>\n",
       "</a>\n",
       "</g>\n",
       "</a>\n",
       "</g>\n",
       "</a>\n",
       "</g>\n",
       "</g>\n",
       "<!-- D_Class&#45;&gt;C_Class -->\n",
       "<g id=\"edge3\" class=\"edge\">\n",
       "<title>D_Class&#45;&gt;C_Class</title>\n",
       "<path fill=\"none\" stroke=\"black\" d=\"M83.28,-47.99C88.72,-60.83 95.64,-77.16 101.69,-91.44\"/>\n",
       "<polygon fill=\"none\" stroke=\"black\" points=\"98.4,-92.64 105.52,-100.48 104.84,-89.91 98.4,-92.64\"/>\n",
       "</g>\n",
       "<!-- A_Class -->\n",
       "<g id=\"node3\" class=\"node\">\n",
       "<title>A_Class</title>\n",
       "<g id=\"a_node3\"><a xlink:href=\"#\" xlink:title=\"class A_Class:&#10;A Class which does A thing right.&#10;Comes with a longer docstring.\">\n",
       "<polygon fill=\"none\" stroke=\"black\" points=\"0,-202.75 0,-275 65.5,-275 65.5,-202.75 0,-202.75\"/>\n",
       "<text text-anchor=\"start\" x=\"8\" y=\"-258.7\" font-family=\"Patua One, Helvetica, sans-serif\" font-weight=\"bold\" font-size=\"14.00\" fill=\"#b03a2e\">A_Class</text>\n",
       "<polyline fill=\"none\" stroke=\"black\" points=\"0,-249 65.5,-249\"/>\n",
       "<g id=\"a_node3_9\"><a xlink:href=\"#\" xlink:title=\"A_Class\">\n",
       "<g id=\"a_node3_10\"><a xlink:href=\"#\" xlink:title=\"foo(self) &#45;&gt; None:&#10;The Adventures of the glorious Foo\">\n",
       "<text text-anchor=\"start\" x=\"8.75\" y=\"-236.5\" font-family=\"'Fira Mono', 'Source Code Pro', 'Courier', monospace\" font-weight=\"bold\" font-style=\"italic\" font-size=\"10.00\">foo()</text>\n",
       "</a>\n",
       "</g>\n",
       "<g id=\"a_node3_11\"><a xlink:href=\"#\" xlink:title=\"quux(self) &#45;&gt; None:&#10;A method that is not used.\">\n",
       "<text text-anchor=\"start\" x=\"8.75\" y=\"-223.75\" font-family=\"'Fira Mono', 'Source Code Pro', 'Courier', monospace\" font-weight=\"bold\" font-size=\"10.00\">quux()</text>\n",
       "</a>\n",
       "</g>\n",
       "<g id=\"a_node3_12\"><a xlink:href=\"#\" xlink:title=\"second(self) &#45;&gt; None\">\n",
       "<text text-anchor=\"start\" x=\"8.75\" y=\"-210\" font-family=\"'Fira Mono', 'Source Code Pro', 'Courier', monospace\" font-size=\"10.00\">second()</text>\n",
       "</a>\n",
       "</g>\n",
       "</a>\n",
       "</g>\n",
       "</a>\n",
       "</g>\n",
       "</g>\n",
       "<!-- B_Class&#45;&gt;A_Class -->\n",
       "<g id=\"edge2\" class=\"edge\">\n",
       "<title>B_Class&#45;&gt;A_Class</title>\n",
       "<path fill=\"none\" stroke=\"black\" d=\"M32.75,-166.16C32.75,-174.23 32.75,-182.79 32.75,-191.08\"/>\n",
       "<polygon fill=\"none\" stroke=\"black\" points=\"29.25,-191.03 32.75,-201.03 36.25,-191.03 29.25,-191.03\"/>\n",
       "</g>\n",
       "<!-- Legend -->\n",
       "<g id=\"node5\" class=\"node\">\n",
       "<title>Legend</title>\n",
       "<text text-anchor=\"start\" x=\"124.12\" y=\"-40.5\" font-family=\"Patua One, Helvetica, sans-serif\" font-weight=\"bold\" font-size=\"10.00\" fill=\"#b03a2e\">Legend</text>\n",
       "<text text-anchor=\"start\" x=\"124.12\" y=\"-30.5\" font-family=\"Patua One, Helvetica, sans-serif\" font-size=\"10.00\">• </text>\n",
       "<text text-anchor=\"start\" x=\"130.12\" y=\"-30.5\" font-family=\"'Fira Mono', 'Source Code Pro', 'Courier', monospace\" font-weight=\"bold\" font-size=\"8.00\">public_method()</text>\n",
       "<text text-anchor=\"start\" x=\"124.12\" y=\"-20.5\" font-family=\"Patua One, Helvetica, sans-serif\" font-size=\"10.00\">• </text>\n",
       "<text text-anchor=\"start\" x=\"130.12\" y=\"-20.5\" font-family=\"'Fira Mono', 'Source Code Pro', 'Courier', monospace\" font-size=\"8.00\">private_method()</text>\n",
       "<text text-anchor=\"start\" x=\"124.12\" y=\"-10.5\" font-family=\"Patua One, Helvetica, sans-serif\" font-size=\"10.00\">• </text>\n",
       "<text text-anchor=\"start\" x=\"130.12\" y=\"-10.5\" font-family=\"'Fira Mono', 'Source Code Pro', 'Courier', monospace\" font-style=\"italic\" font-size=\"8.00\">overloaded_method()</text>\n",
       "<text text-anchor=\"start\" x=\"124.12\" y=\"-1.45\" font-family=\"Helvetica,sans-Serif\" font-size=\"9.00\">Hover over names to see doc</text>\n",
       "</g>\n",
       "</g>\n",
       "</svg>\n"
      ],
      "text/html": [
       "<?xml version=\"1.0\" encoding=\"UTF-8\" standalone=\"no\"?>\n",
       "<!DOCTYPE svg PUBLIC \"-//W3C//DTD SVG 1.1//EN\"\n",
       " \"http://www.w3.org/Graphics/SVG/1.1/DTD/svg11.dtd\">\n",
       "<!-- Generated by graphviz version 12.2.1 (20241206.2353)\n",
       " -->\n",
       "<!-- Pages: 1 -->\n",
       "<svg width=\"251pt\" height=\"284pt\"\n",
       " viewBox=\"0.00 0.00 251.38 283.50\" xmlns=\"http://www.w3.org/2000/svg\" xmlns:xlink=\"http://www.w3.org/1999/xlink\">\n",
       "<g id=\"graph0\" class=\"graph\" transform=\"scale(1 1) rotate(0) translate(4 279.5)\">\n",
       "<g id=\"a_graph0\"><a xlink:title=\"D_Class class hierarchy\">\n",
       "<polygon fill=\"white\" stroke=\"none\" points=\"-4,4 -4,-279.5 247.38,-279.5 247.38,4 -4,4\"/>\n",
       "</a>\n",
       "</g>\n",
       "<!-- D_Class -->\n",
       "<g id=\"node1\" class=\"node\">\n",
       "<title>D_Class</title>\n",
       "<g id=\"a_node1\"><a xlink:href=\"#\" xlink:title=\"class D_Class:&#10;A subclass inheriting from multiple superclasses.&#10;Comes with a fairly long, but meaningless documentation.\">\n",
       "<polygon fill=\"none\" stroke=\"black\" points=\"41,-1.12 41,-47.88 106.5,-47.88 106.5,-1.12 41,-1.12\"/>\n",
       "<text text-anchor=\"start\" x=\"49\" y=\"-31.57\" font-family=\"Patua One, Helvetica, sans-serif\" font-weight=\"bold\" font-size=\"14.00\" fill=\"#b03a2e\">D_Class</text>\n",
       "<polyline fill=\"none\" stroke=\"black\" points=\"41,-21.88 106.5,-21.88\"/>\n",
       "<g id=\"a_node1_0\"><a xlink:href=\"#\" xlink:title=\"D_Class\">\n",
       "<g id=\"a_node1_1\"><a xlink:href=\"#\" xlink:title=\"foo(self) &#45;&gt; None:&#10;A WW2 foo fighter.\">\n",
       "<text text-anchor=\"start\" x=\"58.75\" y=\"-9.38\" font-family=\"'Fira Mono', 'Source Code Pro', 'Courier', monospace\" font-weight=\"bold\" font-style=\"italic\" font-size=\"10.00\">foo()</text>\n",
       "</a>\n",
       "</g>\n",
       "</a>\n",
       "</g>\n",
       "</a>\n",
       "</g>\n",
       "</g>\n",
       "<!-- B_Class -->\n",
       "<g id=\"node2\" class=\"node\">\n",
       "<title>B_Class</title>\n",
       "<g id=\"a_node2\"><a xlink:href=\"#\" xlink:title=\"class B_Class:&#10;A subclass inheriting some methods.\">\n",
       "<polygon fill=\"none\" stroke=\"black\" points=\"0,-85.5 0,-165.75 65.5,-165.75 65.5,-85.5 0,-85.5\"/>\n",
       "<text text-anchor=\"start\" x=\"8\" y=\"-149.45\" font-family=\"Patua One, Helvetica, sans-serif\" font-weight=\"bold\" font-size=\"14.00\" fill=\"#b03a2e\">B_Class</text>\n",
       "<polyline fill=\"none\" stroke=\"black\" points=\"0,-139.75 65.5,-139.75\"/>\n",
       "<g id=\"a_node2_2\"><a xlink:href=\"#\" xlink:title=\"B_Class\">\n",
       "<g id=\"a_node2_3\"><a xlink:href=\"#\" xlink:title=\"VAR = &#39;A variable&#39;\">\n",
       "<text text-anchor=\"start\" x=\"23.75\" y=\"-126.25\" font-family=\"'Fira Mono', 'Source Code Pro', 'Courier', monospace\" font-size=\"10.00\">VAR</text>\n",
       "</a>\n",
       "</g>\n",
       "</a>\n",
       "</g>\n",
       "<polyline fill=\"none\" stroke=\"black\" points=\"0,-119 65.5,-119\"/>\n",
       "<g id=\"a_node2_4\"><a xlink:href=\"#\" xlink:title=\"B_Class\">\n",
       "<g id=\"a_node2_5\"><a xlink:href=\"#\" xlink:title=\"bar(self, qux: Any = None, bartender: int = 42) &#45;&gt; None:&#10;A qux walks into a bar.&#10;`bartender` is an optional attribute.\">\n",
       "<text text-anchor=\"start\" x=\"17.75\" y=\"-106.5\" font-family=\"'Fira Mono', 'Source Code Pro', 'Courier', monospace\" font-weight=\"bold\" font-size=\"10.00\">bar()</text>\n",
       "</a>\n",
       "</g>\n",
       "<g id=\"a_node2_6\"><a xlink:href=\"#\" xlink:title=\"foo(self) &#45;&gt; None:&#10;A WW2 foo fighter.\">\n",
       "<text text-anchor=\"start\" x=\"17.75\" y=\"-93.75\" font-family=\"'Fira Mono', 'Source Code Pro', 'Courier', monospace\" font-weight=\"bold\" font-style=\"italic\" font-size=\"10.00\">foo()</text>\n",
       "</a>\n",
       "</g>\n",
       "</a>\n",
       "</g>\n",
       "</a>\n",
       "</g>\n",
       "</g>\n",
       "<!-- D_Class&#45;&gt;B_Class -->\n",
       "<g id=\"edge1\" class=\"edge\">\n",
       "<title>D_Class&#45;&gt;B_Class</title>\n",
       "<path fill=\"none\" stroke=\"black\" d=\"M64.45,-47.99C61.15,-55.96 57.3,-65.28 53.44,-74.61\"/>\n",
       "<polygon fill=\"none\" stroke=\"black\" points=\"50.27,-73.11 49.68,-83.69 56.74,-75.79 50.27,-73.11\"/>\n",
       "</g>\n",
       "<!-- C_Class -->\n",
       "<g id=\"node4\" class=\"node\">\n",
       "<title>C_Class</title>\n",
       "<g id=\"a_node4\"><a xlink:href=\"#\" xlink:title=\"class C_Class:&#10;A class injecting some method\">\n",
       "<polygon fill=\"none\" stroke=\"black\" points=\"83.38,-102.25 83.38,-149 148.12,-149 148.12,-102.25 83.38,-102.25\"/>\n",
       "<text text-anchor=\"start\" x=\"91.38\" y=\"-132.7\" font-family=\"Patua One, Helvetica, sans-serif\" font-weight=\"bold\" font-size=\"14.00\" fill=\"#b03a2e\">C_Class</text>\n",
       "<polyline fill=\"none\" stroke=\"black\" points=\"83.38,-123 148.12,-123\"/>\n",
       "<g id=\"a_node4_7\"><a xlink:href=\"#\" xlink:title=\"C_Class\">\n",
       "<g id=\"a_node4_8\"><a xlink:href=\"#\" xlink:title=\"qux(self, arg: SomeType) &#45;&gt; SomeType\">\n",
       "<text text-anchor=\"start\" x=\"100.75\" y=\"-109.5\" font-family=\"'Fira Mono', 'Source Code Pro', 'Courier', monospace\" font-size=\"10.00\">qux()</text>\n",
       "</a>\n",
       "</g>\n",
       "</a>\n",
       "</g>\n",
       "</a>\n",
       "</g>\n",
       "</g>\n",
       "<!-- D_Class&#45;&gt;C_Class -->\n",
       "<g id=\"edge3\" class=\"edge\">\n",
       "<title>D_Class&#45;&gt;C_Class</title>\n",
       "<path fill=\"none\" stroke=\"black\" d=\"M83.28,-47.99C88.72,-60.83 95.64,-77.16 101.69,-91.44\"/>\n",
       "<polygon fill=\"none\" stroke=\"black\" points=\"98.4,-92.64 105.52,-100.48 104.84,-89.91 98.4,-92.64\"/>\n",
       "</g>\n",
       "<!-- A_Class -->\n",
       "<g id=\"node3\" class=\"node\">\n",
       "<title>A_Class</title>\n",
       "<g id=\"a_node3\"><a xlink:href=\"#\" xlink:title=\"class A_Class:&#10;A Class which does A thing right.&#10;Comes with a longer docstring.\">\n",
       "<polygon fill=\"none\" stroke=\"black\" points=\"0,-202.75 0,-275 65.5,-275 65.5,-202.75 0,-202.75\"/>\n",
       "<text text-anchor=\"start\" x=\"8\" y=\"-258.7\" font-family=\"Patua One, Helvetica, sans-serif\" font-weight=\"bold\" font-size=\"14.00\" fill=\"#b03a2e\">A_Class</text>\n",
       "<polyline fill=\"none\" stroke=\"black\" points=\"0,-249 65.5,-249\"/>\n",
       "<g id=\"a_node3_9\"><a xlink:href=\"#\" xlink:title=\"A_Class\">\n",
       "<g id=\"a_node3_10\"><a xlink:href=\"#\" xlink:title=\"foo(self) &#45;&gt; None:&#10;The Adventures of the glorious Foo\">\n",
       "<text text-anchor=\"start\" x=\"8.75\" y=\"-236.5\" font-family=\"'Fira Mono', 'Source Code Pro', 'Courier', monospace\" font-weight=\"bold\" font-style=\"italic\" font-size=\"10.00\">foo()</text>\n",
       "</a>\n",
       "</g>\n",
       "<g id=\"a_node3_11\"><a xlink:href=\"#\" xlink:title=\"quux(self) &#45;&gt; None:&#10;A method that is not used.\">\n",
       "<text text-anchor=\"start\" x=\"8.75\" y=\"-223.75\" font-family=\"'Fira Mono', 'Source Code Pro', 'Courier', monospace\" font-weight=\"bold\" font-size=\"10.00\">quux()</text>\n",
       "</a>\n",
       "</g>\n",
       "<g id=\"a_node3_12\"><a xlink:href=\"#\" xlink:title=\"second(self) &#45;&gt; None\">\n",
       "<text text-anchor=\"start\" x=\"8.75\" y=\"-210\" font-family=\"'Fira Mono', 'Source Code Pro', 'Courier', monospace\" font-size=\"10.00\">second()</text>\n",
       "</a>\n",
       "</g>\n",
       "</a>\n",
       "</g>\n",
       "</a>\n",
       "</g>\n",
       "</g>\n",
       "<!-- B_Class&#45;&gt;A_Class -->\n",
       "<g id=\"edge2\" class=\"edge\">\n",
       "<title>B_Class&#45;&gt;A_Class</title>\n",
       "<path fill=\"none\" stroke=\"black\" d=\"M32.75,-166.16C32.75,-174.23 32.75,-182.79 32.75,-191.08\"/>\n",
       "<polygon fill=\"none\" stroke=\"black\" points=\"29.25,-191.03 32.75,-201.03 36.25,-191.03 29.25,-191.03\"/>\n",
       "</g>\n",
       "<!-- Legend -->\n",
       "<g id=\"node5\" class=\"node\">\n",
       "<title>Legend</title>\n",
       "<text text-anchor=\"start\" x=\"124.12\" y=\"-40.5\" font-family=\"Patua One, Helvetica, sans-serif\" font-weight=\"bold\" font-size=\"10.00\" fill=\"#b03a2e\">Legend</text>\n",
       "<text text-anchor=\"start\" x=\"124.12\" y=\"-30.5\" font-family=\"Patua One, Helvetica, sans-serif\" font-size=\"10.00\">• </text>\n",
       "<text text-anchor=\"start\" x=\"130.12\" y=\"-30.5\" font-family=\"'Fira Mono', 'Source Code Pro', 'Courier', monospace\" font-weight=\"bold\" font-size=\"8.00\">public_method()</text>\n",
       "<text text-anchor=\"start\" x=\"124.12\" y=\"-20.5\" font-family=\"Patua One, Helvetica, sans-serif\" font-size=\"10.00\">• </text>\n",
       "<text text-anchor=\"start\" x=\"130.12\" y=\"-20.5\" font-family=\"'Fira Mono', 'Source Code Pro', 'Courier', monospace\" font-size=\"8.00\">private_method()</text>\n",
       "<text text-anchor=\"start\" x=\"124.12\" y=\"-10.5\" font-family=\"Patua One, Helvetica, sans-serif\" font-size=\"10.00\">• </text>\n",
       "<text text-anchor=\"start\" x=\"130.12\" y=\"-10.5\" font-family=\"'Fira Mono', 'Source Code Pro', 'Courier', monospace\" font-style=\"italic\" font-size=\"8.00\">overloaded_method()</text>\n",
       "<text text-anchor=\"start\" x=\"124.12\" y=\"-1.45\" font-family=\"Helvetica,sans-Serif\" font-size=\"9.00\">Hover over names to see doc</text>\n",
       "</g>\n",
       "</g>\n",
       "</svg>\n"
      ],
      "text/plain": [
       "<graphviz.graphs.Digraph at 0x1063132c0>"
      ]
     },
     "execution_count": 64,
     "metadata": {},
     "output_type": "execute_result"
    }
   ],
   "source": [
    "display_class_hierarchy(D_Class, types={'SomeType': SomeType},\n",
    "                        project='fuzzingbook')"
   ]
  },
  {
   "cell_type": "markdown",
   "metadata": {
    "slideshow": {
     "slide_type": "fragment"
    }
   },
   "source": [
    "Here is a variant with abstract classes and logging:"
   ]
  },
  {
   "cell_type": "code",
   "execution_count": 65,
   "metadata": {
    "execution": {
     "iopub.execute_input": "2025-01-16T10:17:04.399446Z",
     "iopub.status.busy": "2025-01-16T10:17:04.399293Z",
     "iopub.status.idle": "2025-01-16T10:17:05.286060Z",
     "shell.execute_reply": "2025-01-16T10:17:05.285635Z"
    },
    "slideshow": {
     "slide_type": "subslide"
    }
   },
   "outputs": [
    {
     "name": "stdout",
     "output_type": "stream",
     "text": [
      "Drawing class A_Class\n",
      "    Drawing quux()\n",
      "    Method doc: quux(self) -&gt; None:&#x0a;A method that is not used.\n",
      "    Drawing foo()\n",
      "    Method doc: foo(self) -&gt; None:&#x0a;The Adventures of the glorious Foo\n",
      "    Drawing second()\n",
      "    Method doc: second(self) -&gt; None\n",
      "Drawing class B_Class\n",
      "    Drawing VAR\n",
      "    Drawing bar()\n",
      "    Method doc: bar(self, qux: Any = None, bartender: int = 42) -&gt; None:&#x0a;A qux walks into a bar.&#x0a;`bartender` is an optional attribute.\n",
      "    Drawing foo()\n",
      "    Method doc: foo(self) -&gt; None:&#x0a;A WW2 foo fighter.\n"
     ]
    },
    {
     "data": {
      "image/svg+xml": [
       "<?xml version=\"1.0\" encoding=\"UTF-8\" standalone=\"no\"?>\n",
       "<!DOCTYPE svg PUBLIC \"-//W3C//DTD SVG 1.1//EN\"\n",
       " \"http://www.w3.org/Graphics/SVG/1.1/DTD/svg11.dtd\">\n",
       "<!-- Generated by graphviz version 12.2.1 (20241206.2353)\n",
       " -->\n",
       "<!-- Pages: 1 -->\n",
       "<svg width=\"210pt\" height=\"199pt\"\n",
       " viewBox=\"0.00 0.00 210.38 198.50\" xmlns=\"http://www.w3.org/2000/svg\" xmlns:xlink=\"http://www.w3.org/1999/xlink\">\n",
       "<g id=\"graph0\" class=\"graph\" transform=\"scale(1 1) rotate(0) translate(4 194.5)\">\n",
       "<g id=\"a_graph0\"><a xlink:title=\"A_Class class hierarchy\">\n",
       "<polygon fill=\"white\" stroke=\"none\" points=\"-4,4 -4,-194.5 206.38,-194.5 206.38,4 -4,4\"/>\n",
       "</a>\n",
       "</g>\n",
       "<!-- A_Class -->\n",
       "<g id=\"node1\" class=\"node\">\n",
       "<title>A_Class</title>\n",
       "<g id=\"a_node1\"><a xlink:href=\"#\" xlink:title=\"class A_Class:&#10;A Class which does A thing right.&#10;Comes with a longer docstring.\">\n",
       "<polygon fill=\"none\" stroke=\"black\" points=\"0,-117.75 0,-190 65.5,-190 65.5,-117.75 0,-117.75\"/>\n",
       "<text text-anchor=\"start\" x=\"8\" y=\"-173.7\" font-family=\"Patua One, Helvetica, sans-serif\" font-weight=\"bold\" font-style=\"italic\" font-size=\"14.00\" fill=\"#b03a2e\">A_Class</text>\n",
       "<polyline fill=\"none\" stroke=\"black\" points=\"0,-164 65.5,-164\"/>\n",
       "<g id=\"a_node1_0\"><a xlink:href=\"#\" xlink:title=\"A_Class\">\n",
       "<g id=\"a_node1_1\"><a xlink:href=\"#\" xlink:title=\"quux(self) &#45;&gt; None:&#10;A method that is not used.\">\n",
       "<text text-anchor=\"start\" x=\"8.75\" y=\"-151.5\" font-family=\"'Fira Mono', 'Source Code Pro', 'Courier', monospace\" font-weight=\"bold\" font-size=\"10.00\">quux()</text>\n",
       "</a>\n",
       "</g>\n",
       "<g id=\"a_node1_2\"><a xlink:href=\"#\" xlink:title=\"foo(self) &#45;&gt; None:&#10;The Adventures of the glorious Foo\">\n",
       "<text text-anchor=\"start\" x=\"8.75\" y=\"-137.75\" font-family=\"'Fira Mono', 'Source Code Pro', 'Courier', monospace\" font-size=\"10.00\">foo()</text>\n",
       "</a>\n",
       "</g>\n",
       "<g id=\"a_node1_3\"><a xlink:href=\"#\" xlink:title=\"second(self) &#45;&gt; None\">\n",
       "<text text-anchor=\"start\" x=\"8.75\" y=\"-125\" font-family=\"'Fira Mono', 'Source Code Pro', 'Courier', monospace\" font-size=\"10.00\">second()</text>\n",
       "</a>\n",
       "</g>\n",
       "</a>\n",
       "</g>\n",
       "</a>\n",
       "</g>\n",
       "</g>\n",
       "<!-- B_Class -->\n",
       "<g id=\"node2\" class=\"node\">\n",
       "<title>B_Class</title>\n",
       "<g id=\"a_node2\"><a xlink:href=\"#\" xlink:title=\"class B_Class:&#10;A subclass inheriting some methods.\">\n",
       "<polygon fill=\"none\" stroke=\"black\" points=\"0,-0.5 0,-80.75 65.5,-80.75 65.5,-0.5 0,-0.5\"/>\n",
       "<text text-anchor=\"start\" x=\"8\" y=\"-64.45\" font-family=\"Patua One, Helvetica, sans-serif\" font-weight=\"bold\" font-size=\"14.00\" fill=\"#b03a2e\">B_Class</text>\n",
       "<polyline fill=\"none\" stroke=\"black\" points=\"0,-54.75 65.5,-54.75\"/>\n",
       "<g id=\"a_node2_4\"><a xlink:href=\"#\" xlink:title=\"B_Class\">\n",
       "<g id=\"a_node2_5\"><a xlink:href=\"#\" xlink:title=\"VAR = &#39;A variable&#39;\">\n",
       "<text text-anchor=\"start\" x=\"23.75\" y=\"-41.25\" font-family=\"'Fira Mono', 'Source Code Pro', 'Courier', monospace\" font-size=\"10.00\">VAR</text>\n",
       "</a>\n",
       "</g>\n",
       "</a>\n",
       "</g>\n",
       "<polyline fill=\"none\" stroke=\"black\" points=\"0,-34 65.5,-34\"/>\n",
       "<g id=\"a_node2_6\"><a xlink:href=\"#\" xlink:title=\"B_Class\">\n",
       "<g id=\"a_node2_7\"><a xlink:href=\"#\" xlink:title=\"bar(self, qux: Any = None, bartender: int = 42) &#45;&gt; None:&#10;A qux walks into a bar.&#10;`bartender` is an optional attribute.\">\n",
       "<text text-anchor=\"start\" x=\"17.75\" y=\"-20.5\" font-family=\"'Fira Mono', 'Source Code Pro', 'Courier', monospace\" font-size=\"10.00\">bar()</text>\n",
       "</a>\n",
       "</g>\n",
       "<g id=\"a_node2_8\"><a xlink:href=\"#\" xlink:title=\"foo(self) &#45;&gt; None:&#10;A WW2 foo fighter.\">\n",
       "<text text-anchor=\"start\" x=\"17.75\" y=\"-8.75\" font-family=\"'Fira Mono', 'Source Code Pro', 'Courier', monospace\" font-style=\"italic\" font-size=\"10.00\">foo()</text>\n",
       "</a>\n",
       "</g>\n",
       "</a>\n",
       "</g>\n",
       "</a>\n",
       "</g>\n",
       "</g>\n",
       "<!-- B_Class&#45;&gt;A_Class -->\n",
       "<g id=\"edge1\" class=\"edge\">\n",
       "<title>B_Class&#45;&gt;A_Class</title>\n",
       "<path fill=\"none\" stroke=\"black\" d=\"M32.75,-81.16C32.75,-89.23 32.75,-97.79 32.75,-106.08\"/>\n",
       "<polygon fill=\"none\" stroke=\"black\" points=\"29.25,-106.03 32.75,-116.03 36.25,-106.03 29.25,-106.03\"/>\n",
       "</g>\n",
       "<!-- Legend -->\n",
       "<g id=\"node3\" class=\"node\">\n",
       "<title>Legend</title>\n",
       "<text text-anchor=\"start\" x=\"83.12\" y=\"-56.62\" font-family=\"Patua One, Helvetica, sans-serif\" font-weight=\"bold\" font-size=\"10.00\" fill=\"#b03a2e\">Legend</text>\n",
       "<text text-anchor=\"start\" x=\"83.12\" y=\"-46.62\" font-family=\"Patua One, Helvetica, sans-serif\" font-size=\"10.00\">• </text>\n",
       "<text text-anchor=\"start\" x=\"89.12\" y=\"-46.62\" font-family=\"'Fira Mono', 'Source Code Pro', 'Courier', monospace\" font-weight=\"bold\" font-size=\"8.00\">public_method()</text>\n",
       "<text text-anchor=\"start\" x=\"83.12\" y=\"-36.62\" font-family=\"Patua One, Helvetica, sans-serif\" font-size=\"10.00\">• </text>\n",
       "<text text-anchor=\"start\" x=\"89.12\" y=\"-36.62\" font-family=\"'Fira Mono', 'Source Code Pro', 'Courier', monospace\" font-size=\"8.00\">private_method()</text>\n",
       "<text text-anchor=\"start\" x=\"83.12\" y=\"-26.62\" font-family=\"Patua One, Helvetica, sans-serif\" font-size=\"10.00\">• </text>\n",
       "<text text-anchor=\"start\" x=\"89.12\" y=\"-26.62\" font-family=\"'Fira Mono', 'Source Code Pro', 'Courier', monospace\" font-style=\"italic\" font-size=\"8.00\">overloaded_method()</text>\n",
       "<text text-anchor=\"start\" x=\"83.12\" y=\"-17.57\" font-family=\"Helvetica,sans-Serif\" font-size=\"9.00\">Hover over names to see doc</text>\n",
       "</g>\n",
       "</g>\n",
       "</svg>\n"
      ],
      "text/html": [
       "<?xml version=\"1.0\" encoding=\"UTF-8\" standalone=\"no\"?>\n",
       "<!DOCTYPE svg PUBLIC \"-//W3C//DTD SVG 1.1//EN\"\n",
       " \"http://www.w3.org/Graphics/SVG/1.1/DTD/svg11.dtd\">\n",
       "<!-- Generated by graphviz version 12.2.1 (20241206.2353)\n",
       " -->\n",
       "<!-- Pages: 1 -->\n",
       "<svg width=\"210pt\" height=\"199pt\"\n",
       " viewBox=\"0.00 0.00 210.38 198.50\" xmlns=\"http://www.w3.org/2000/svg\" xmlns:xlink=\"http://www.w3.org/1999/xlink\">\n",
       "<g id=\"graph0\" class=\"graph\" transform=\"scale(1 1) rotate(0) translate(4 194.5)\">\n",
       "<g id=\"a_graph0\"><a xlink:title=\"A_Class class hierarchy\">\n",
       "<polygon fill=\"white\" stroke=\"none\" points=\"-4,4 -4,-194.5 206.38,-194.5 206.38,4 -4,4\"/>\n",
       "</a>\n",
       "</g>\n",
       "<!-- A_Class -->\n",
       "<g id=\"node1\" class=\"node\">\n",
       "<title>A_Class</title>\n",
       "<g id=\"a_node1\"><a xlink:href=\"#\" xlink:title=\"class A_Class:&#10;A Class which does A thing right.&#10;Comes with a longer docstring.\">\n",
       "<polygon fill=\"none\" stroke=\"black\" points=\"0,-117.75 0,-190 65.5,-190 65.5,-117.75 0,-117.75\"/>\n",
       "<text text-anchor=\"start\" x=\"8\" y=\"-173.7\" font-family=\"Patua One, Helvetica, sans-serif\" font-weight=\"bold\" font-style=\"italic\" font-size=\"14.00\" fill=\"#b03a2e\">A_Class</text>\n",
       "<polyline fill=\"none\" stroke=\"black\" points=\"0,-164 65.5,-164\"/>\n",
       "<g id=\"a_node1_0\"><a xlink:href=\"#\" xlink:title=\"A_Class\">\n",
       "<g id=\"a_node1_1\"><a xlink:href=\"#\" xlink:title=\"quux(self) &#45;&gt; None:&#10;A method that is not used.\">\n",
       "<text text-anchor=\"start\" x=\"8.75\" y=\"-151.5\" font-family=\"'Fira Mono', 'Source Code Pro', 'Courier', monospace\" font-weight=\"bold\" font-size=\"10.00\">quux()</text>\n",
       "</a>\n",
       "</g>\n",
       "<g id=\"a_node1_2\"><a xlink:href=\"#\" xlink:title=\"foo(self) &#45;&gt; None:&#10;The Adventures of the glorious Foo\">\n",
       "<text text-anchor=\"start\" x=\"8.75\" y=\"-137.75\" font-family=\"'Fira Mono', 'Source Code Pro', 'Courier', monospace\" font-size=\"10.00\">foo()</text>\n",
       "</a>\n",
       "</g>\n",
       "<g id=\"a_node1_3\"><a xlink:href=\"#\" xlink:title=\"second(self) &#45;&gt; None\">\n",
       "<text text-anchor=\"start\" x=\"8.75\" y=\"-125\" font-family=\"'Fira Mono', 'Source Code Pro', 'Courier', monospace\" font-size=\"10.00\">second()</text>\n",
       "</a>\n",
       "</g>\n",
       "</a>\n",
       "</g>\n",
       "</a>\n",
       "</g>\n",
       "</g>\n",
       "<!-- B_Class -->\n",
       "<g id=\"node2\" class=\"node\">\n",
       "<title>B_Class</title>\n",
       "<g id=\"a_node2\"><a xlink:href=\"#\" xlink:title=\"class B_Class:&#10;A subclass inheriting some methods.\">\n",
       "<polygon fill=\"none\" stroke=\"black\" points=\"0,-0.5 0,-80.75 65.5,-80.75 65.5,-0.5 0,-0.5\"/>\n",
       "<text text-anchor=\"start\" x=\"8\" y=\"-64.45\" font-family=\"Patua One, Helvetica, sans-serif\" font-weight=\"bold\" font-size=\"14.00\" fill=\"#b03a2e\">B_Class</text>\n",
       "<polyline fill=\"none\" stroke=\"black\" points=\"0,-54.75 65.5,-54.75\"/>\n",
       "<g id=\"a_node2_4\"><a xlink:href=\"#\" xlink:title=\"B_Class\">\n",
       "<g id=\"a_node2_5\"><a xlink:href=\"#\" xlink:title=\"VAR = &#39;A variable&#39;\">\n",
       "<text text-anchor=\"start\" x=\"23.75\" y=\"-41.25\" font-family=\"'Fira Mono', 'Source Code Pro', 'Courier', monospace\" font-size=\"10.00\">VAR</text>\n",
       "</a>\n",
       "</g>\n",
       "</a>\n",
       "</g>\n",
       "<polyline fill=\"none\" stroke=\"black\" points=\"0,-34 65.5,-34\"/>\n",
       "<g id=\"a_node2_6\"><a xlink:href=\"#\" xlink:title=\"B_Class\">\n",
       "<g id=\"a_node2_7\"><a xlink:href=\"#\" xlink:title=\"bar(self, qux: Any = None, bartender: int = 42) &#45;&gt; None:&#10;A qux walks into a bar.&#10;`bartender` is an optional attribute.\">\n",
       "<text text-anchor=\"start\" x=\"17.75\" y=\"-20.5\" font-family=\"'Fira Mono', 'Source Code Pro', 'Courier', monospace\" font-size=\"10.00\">bar()</text>\n",
       "</a>\n",
       "</g>\n",
       "<g id=\"a_node2_8\"><a xlink:href=\"#\" xlink:title=\"foo(self) &#45;&gt; None:&#10;A WW2 foo fighter.\">\n",
       "<text text-anchor=\"start\" x=\"17.75\" y=\"-8.75\" font-family=\"'Fira Mono', 'Source Code Pro', 'Courier', monospace\" font-style=\"italic\" font-size=\"10.00\">foo()</text>\n",
       "</a>\n",
       "</g>\n",
       "</a>\n",
       "</g>\n",
       "</a>\n",
       "</g>\n",
       "</g>\n",
       "<!-- B_Class&#45;&gt;A_Class -->\n",
       "<g id=\"edge1\" class=\"edge\">\n",
       "<title>B_Class&#45;&gt;A_Class</title>\n",
       "<path fill=\"none\" stroke=\"black\" d=\"M32.75,-81.16C32.75,-89.23 32.75,-97.79 32.75,-106.08\"/>\n",
       "<polygon fill=\"none\" stroke=\"black\" points=\"29.25,-106.03 32.75,-116.03 36.25,-106.03 29.25,-106.03\"/>\n",
       "</g>\n",
       "<!-- Legend -->\n",
       "<g id=\"node3\" class=\"node\">\n",
       "<title>Legend</title>\n",
       "<text text-anchor=\"start\" x=\"83.12\" y=\"-56.62\" font-family=\"Patua One, Helvetica, sans-serif\" font-weight=\"bold\" font-size=\"10.00\" fill=\"#b03a2e\">Legend</text>\n",
       "<text text-anchor=\"start\" x=\"83.12\" y=\"-46.62\" font-family=\"Patua One, Helvetica, sans-serif\" font-size=\"10.00\">• </text>\n",
       "<text text-anchor=\"start\" x=\"89.12\" y=\"-46.62\" font-family=\"'Fira Mono', 'Source Code Pro', 'Courier', monospace\" font-weight=\"bold\" font-size=\"8.00\">public_method()</text>\n",
       "<text text-anchor=\"start\" x=\"83.12\" y=\"-36.62\" font-family=\"Patua One, Helvetica, sans-serif\" font-size=\"10.00\">• </text>\n",
       "<text text-anchor=\"start\" x=\"89.12\" y=\"-36.62\" font-family=\"'Fira Mono', 'Source Code Pro', 'Courier', monospace\" font-size=\"8.00\">private_method()</text>\n",
       "<text text-anchor=\"start\" x=\"83.12\" y=\"-26.62\" font-family=\"Patua One, Helvetica, sans-serif\" font-size=\"10.00\">• </text>\n",
       "<text text-anchor=\"start\" x=\"89.12\" y=\"-26.62\" font-family=\"'Fira Mono', 'Source Code Pro', 'Courier', monospace\" font-style=\"italic\" font-size=\"8.00\">overloaded_method()</text>\n",
       "<text text-anchor=\"start\" x=\"83.12\" y=\"-17.57\" font-family=\"Helvetica,sans-Serif\" font-size=\"9.00\">Hover over names to see doc</text>\n",
       "</g>\n",
       "</g>\n",
       "</svg>\n"
      ],
      "text/plain": [
       "<graphviz.graphs.Digraph at 0x106380950>"
      ]
     },
     "execution_count": 65,
     "metadata": {},
     "output_type": "execute_result"
    }
   ],
   "source": [
    "display_class_hierarchy([A_Class, B_Class],\n",
    "                        abstract_classes=[A_Class],\n",
    "                        public_methods=[\n",
    "                            A_Class.quux,\n",
    "                        ],\n",
    "                        log=True)"
   ]
  },
  {
   "cell_type": "markdown",
   "metadata": {
    "slideshow": {
     "slide_type": "slide"
    }
   },
   "source": [
    "## Synopsis"
   ]
  },
  {
   "cell_type": "markdown",
   "metadata": {
    "slideshow": {
     "slide_type": "fragment"
    }
   },
   "source": [
    "The function `display_class_hierarchy()` function shows the class hierarchy for the given class (or list of classes). \n",
    "* The keyword parameter `public_methods`, if given, is a list of \"public\" methods to be used by clients (default: all methods with docstrings).\n",
    "* The keyword parameter `abstract_classes`, if given, is a list of classes to be displayed as \"abstract\" (i.e. with a cursive class name)."
   ]
  },
  {
   "cell_type": "code",
   "execution_count": 66,
   "metadata": {
    "execution": {
     "iopub.execute_input": "2025-01-16T10:17:05.288248Z",
     "iopub.status.busy": "2025-01-16T10:17:05.288102Z",
     "iopub.status.idle": "2025-01-16T10:17:06.108286Z",
     "shell.execute_reply": "2025-01-16T10:17:06.107946Z"
    },
    "slideshow": {
     "slide_type": "fragment"
    }
   },
   "outputs": [
    {
     "data": {
      "image/svg+xml": [
       "<?xml version=\"1.0\" encoding=\"UTF-8\" standalone=\"no\"?>\n",
       "<!DOCTYPE svg PUBLIC \"-//W3C//DTD SVG 1.1//EN\"\n",
       " \"http://www.w3.org/Graphics/SVG/1.1/DTD/svg11.dtd\">\n",
       "<!-- Generated by graphviz version 12.2.1 (20241206.2353)\n",
       " -->\n",
       "<!-- Pages: 1 -->\n",
       "<svg width=\"251pt\" height=\"284pt\"\n",
       " viewBox=\"0.00 0.00 251.38 283.50\" xmlns=\"http://www.w3.org/2000/svg\" xmlns:xlink=\"http://www.w3.org/1999/xlink\">\n",
       "<g id=\"graph0\" class=\"graph\" transform=\"scale(1 1) rotate(0) translate(4 279.5)\">\n",
       "<g id=\"a_graph0\"><a xlink:title=\"D_Class class hierarchy\">\n",
       "<polygon fill=\"white\" stroke=\"none\" points=\"-4,4 -4,-279.5 247.38,-279.5 247.38,4 -4,4\"/>\n",
       "</a>\n",
       "</g>\n",
       "<!-- D_Class -->\n",
       "<g id=\"node1\" class=\"node\">\n",
       "<title>D_Class</title>\n",
       "<g id=\"a_node1\"><a xlink:href=\"#\" xlink:title=\"class D_Class:&#10;A subclass inheriting from multiple superclasses.&#10;Comes with a fairly long, but meaningless documentation.\">\n",
       "<polygon fill=\"none\" stroke=\"black\" points=\"41,-1.12 41,-47.88 106.5,-47.88 106.5,-1.12 41,-1.12\"/>\n",
       "<text text-anchor=\"start\" x=\"49\" y=\"-31.57\" font-family=\"Patua One, Helvetica, sans-serif\" font-weight=\"bold\" font-size=\"14.00\" fill=\"#b03a2e\">D_Class</text>\n",
       "<polyline fill=\"none\" stroke=\"black\" points=\"41,-21.88 106.5,-21.88\"/>\n",
       "<g id=\"a_node1_0\"><a xlink:href=\"#\" xlink:title=\"D_Class\">\n",
       "<g id=\"a_node1_1\"><a xlink:href=\"#\" xlink:title=\"foo(self) &#45;&gt; None:&#10;A WW2 foo fighter.\">\n",
       "<text text-anchor=\"start\" x=\"58.75\" y=\"-9.38\" font-family=\"'Fira Mono', 'Source Code Pro', 'Courier', monospace\" font-weight=\"bold\" font-style=\"italic\" font-size=\"10.00\">foo()</text>\n",
       "</a>\n",
       "</g>\n",
       "</a>\n",
       "</g>\n",
       "</a>\n",
       "</g>\n",
       "</g>\n",
       "<!-- B_Class -->\n",
       "<g id=\"node2\" class=\"node\">\n",
       "<title>B_Class</title>\n",
       "<g id=\"a_node2\"><a xlink:href=\"#\" xlink:title=\"class B_Class:&#10;A subclass inheriting some methods.\">\n",
       "<polygon fill=\"none\" stroke=\"black\" points=\"0,-85.5 0,-165.75 65.5,-165.75 65.5,-85.5 0,-85.5\"/>\n",
       "<text text-anchor=\"start\" x=\"8\" y=\"-149.45\" font-family=\"Patua One, Helvetica, sans-serif\" font-weight=\"bold\" font-size=\"14.00\" fill=\"#b03a2e\">B_Class</text>\n",
       "<polyline fill=\"none\" stroke=\"black\" points=\"0,-139.75 65.5,-139.75\"/>\n",
       "<g id=\"a_node2_2\"><a xlink:href=\"#\" xlink:title=\"B_Class\">\n",
       "<g id=\"a_node2_3\"><a xlink:href=\"#\" xlink:title=\"VAR = &#39;A variable&#39;\">\n",
       "<text text-anchor=\"start\" x=\"23.75\" y=\"-126.25\" font-family=\"'Fira Mono', 'Source Code Pro', 'Courier', monospace\" font-size=\"10.00\">VAR</text>\n",
       "</a>\n",
       "</g>\n",
       "</a>\n",
       "</g>\n",
       "<polyline fill=\"none\" stroke=\"black\" points=\"0,-119 65.5,-119\"/>\n",
       "<g id=\"a_node2_4\"><a xlink:href=\"#\" xlink:title=\"B_Class\">\n",
       "<g id=\"a_node2_5\"><a xlink:href=\"#\" xlink:title=\"bar(self, qux: Any = None, bartender: int = 42) &#45;&gt; None:&#10;A qux walks into a bar.&#10;`bartender` is an optional attribute.\">\n",
       "<text text-anchor=\"start\" x=\"17.75\" y=\"-106.5\" font-family=\"'Fira Mono', 'Source Code Pro', 'Courier', monospace\" font-weight=\"bold\" font-size=\"10.00\">bar()</text>\n",
       "</a>\n",
       "</g>\n",
       "<g id=\"a_node2_6\"><a xlink:href=\"#\" xlink:title=\"foo(self) &#45;&gt; None:&#10;A WW2 foo fighter.\">\n",
       "<text text-anchor=\"start\" x=\"17.75\" y=\"-93.75\" font-family=\"'Fira Mono', 'Source Code Pro', 'Courier', monospace\" font-weight=\"bold\" font-style=\"italic\" font-size=\"10.00\">foo()</text>\n",
       "</a>\n",
       "</g>\n",
       "</a>\n",
       "</g>\n",
       "</a>\n",
       "</g>\n",
       "</g>\n",
       "<!-- D_Class&#45;&gt;B_Class -->\n",
       "<g id=\"edge1\" class=\"edge\">\n",
       "<title>D_Class&#45;&gt;B_Class</title>\n",
       "<path fill=\"none\" stroke=\"black\" d=\"M64.45,-47.99C61.15,-55.96 57.3,-65.28 53.44,-74.61\"/>\n",
       "<polygon fill=\"none\" stroke=\"black\" points=\"50.27,-73.11 49.68,-83.69 56.74,-75.79 50.27,-73.11\"/>\n",
       "</g>\n",
       "<!-- C_Class -->\n",
       "<g id=\"node4\" class=\"node\">\n",
       "<title>C_Class</title>\n",
       "<g id=\"a_node4\"><a xlink:href=\"#\" xlink:title=\"class C_Class:&#10;A class injecting some method\">\n",
       "<polygon fill=\"none\" stroke=\"black\" points=\"83.38,-102.25 83.38,-149 148.12,-149 148.12,-102.25 83.38,-102.25\"/>\n",
       "<text text-anchor=\"start\" x=\"91.38\" y=\"-132.7\" font-family=\"Patua One, Helvetica, sans-serif\" font-weight=\"bold\" font-size=\"14.00\" fill=\"#b03a2e\">C_Class</text>\n",
       "<polyline fill=\"none\" stroke=\"black\" points=\"83.38,-123 148.12,-123\"/>\n",
       "<g id=\"a_node4_7\"><a xlink:href=\"#\" xlink:title=\"C_Class\">\n",
       "<g id=\"a_node4_8\"><a xlink:href=\"#\" xlink:title=\"qux(self, arg: List[Union[int, str, NoneType]]) &#45;&gt; List[Union[int, str, NoneType]]\">\n",
       "<text text-anchor=\"start\" x=\"100.75\" y=\"-109.5\" font-family=\"'Fira Mono', 'Source Code Pro', 'Courier', monospace\" font-size=\"10.00\">qux()</text>\n",
       "</a>\n",
       "</g>\n",
       "</a>\n",
       "</g>\n",
       "</a>\n",
       "</g>\n",
       "</g>\n",
       "<!-- D_Class&#45;&gt;C_Class -->\n",
       "<g id=\"edge3\" class=\"edge\">\n",
       "<title>D_Class&#45;&gt;C_Class</title>\n",
       "<path fill=\"none\" stroke=\"black\" d=\"M83.28,-47.99C88.72,-60.83 95.64,-77.16 101.69,-91.44\"/>\n",
       "<polygon fill=\"none\" stroke=\"black\" points=\"98.4,-92.64 105.52,-100.48 104.84,-89.91 98.4,-92.64\"/>\n",
       "</g>\n",
       "<!-- A_Class -->\n",
       "<g id=\"node3\" class=\"node\">\n",
       "<title>A_Class</title>\n",
       "<g id=\"a_node3\"><a xlink:href=\"#\" xlink:title=\"class A_Class:&#10;A Class which does A thing right.&#10;Comes with a longer docstring.\">\n",
       "<polygon fill=\"none\" stroke=\"black\" points=\"0,-202.75 0,-275 65.5,-275 65.5,-202.75 0,-202.75\"/>\n",
       "<text text-anchor=\"start\" x=\"8\" y=\"-258.7\" font-family=\"Patua One, Helvetica, sans-serif\" font-weight=\"bold\" font-style=\"italic\" font-size=\"14.00\" fill=\"#b03a2e\">A_Class</text>\n",
       "<polyline fill=\"none\" stroke=\"black\" points=\"0,-249 65.5,-249\"/>\n",
       "<g id=\"a_node3_9\"><a xlink:href=\"#\" xlink:title=\"A_Class\">\n",
       "<g id=\"a_node3_10\"><a xlink:href=\"#\" xlink:title=\"foo(self) &#45;&gt; None:&#10;The Adventures of the glorious Foo\">\n",
       "<text text-anchor=\"start\" x=\"8.75\" y=\"-236.5\" font-family=\"'Fira Mono', 'Source Code Pro', 'Courier', monospace\" font-weight=\"bold\" font-style=\"italic\" font-size=\"10.00\">foo()</text>\n",
       "</a>\n",
       "</g>\n",
       "<g id=\"a_node3_11\"><a xlink:href=\"#\" xlink:title=\"quux(self) &#45;&gt; None:&#10;A method that is not used.\">\n",
       "<text text-anchor=\"start\" x=\"8.75\" y=\"-223.75\" font-family=\"'Fira Mono', 'Source Code Pro', 'Courier', monospace\" font-weight=\"bold\" font-size=\"10.00\">quux()</text>\n",
       "</a>\n",
       "</g>\n",
       "<g id=\"a_node3_12\"><a xlink:href=\"#\" xlink:title=\"second(self) &#45;&gt; None\">\n",
       "<text text-anchor=\"start\" x=\"8.75\" y=\"-210\" font-family=\"'Fira Mono', 'Source Code Pro', 'Courier', monospace\" font-size=\"10.00\">second()</text>\n",
       "</a>\n",
       "</g>\n",
       "</a>\n",
       "</g>\n",
       "</a>\n",
       "</g>\n",
       "</g>\n",
       "<!-- B_Class&#45;&gt;A_Class -->\n",
       "<g id=\"edge2\" class=\"edge\">\n",
       "<title>B_Class&#45;&gt;A_Class</title>\n",
       "<path fill=\"none\" stroke=\"black\" d=\"M32.75,-166.16C32.75,-174.23 32.75,-182.79 32.75,-191.08\"/>\n",
       "<polygon fill=\"none\" stroke=\"black\" points=\"29.25,-191.03 32.75,-201.03 36.25,-191.03 29.25,-191.03\"/>\n",
       "</g>\n",
       "<!-- Legend -->\n",
       "<g id=\"node5\" class=\"node\">\n",
       "<title>Legend</title>\n",
       "<text text-anchor=\"start\" x=\"124.12\" y=\"-40.5\" font-family=\"Patua One, Helvetica, sans-serif\" font-weight=\"bold\" font-size=\"10.00\" fill=\"#b03a2e\">Legend</text>\n",
       "<text text-anchor=\"start\" x=\"124.12\" y=\"-30.5\" font-family=\"Patua One, Helvetica, sans-serif\" font-size=\"10.00\">• </text>\n",
       "<text text-anchor=\"start\" x=\"130.12\" y=\"-30.5\" font-family=\"'Fira Mono', 'Source Code Pro', 'Courier', monospace\" font-weight=\"bold\" font-size=\"8.00\">public_method()</text>\n",
       "<text text-anchor=\"start\" x=\"124.12\" y=\"-20.5\" font-family=\"Patua One, Helvetica, sans-serif\" font-size=\"10.00\">• </text>\n",
       "<text text-anchor=\"start\" x=\"130.12\" y=\"-20.5\" font-family=\"'Fira Mono', 'Source Code Pro', 'Courier', monospace\" font-size=\"8.00\">private_method()</text>\n",
       "<text text-anchor=\"start\" x=\"124.12\" y=\"-10.5\" font-family=\"Patua One, Helvetica, sans-serif\" font-size=\"10.00\">• </text>\n",
       "<text text-anchor=\"start\" x=\"130.12\" y=\"-10.5\" font-family=\"'Fira Mono', 'Source Code Pro', 'Courier', monospace\" font-style=\"italic\" font-size=\"8.00\">overloaded_method()</text>\n",
       "<text text-anchor=\"start\" x=\"124.12\" y=\"-1.45\" font-family=\"Helvetica,sans-Serif\" font-size=\"9.00\">Hover over names to see doc</text>\n",
       "</g>\n",
       "</g>\n",
       "</svg>\n"
      ],
      "text/html": [
       "<?xml version=\"1.0\" encoding=\"UTF-8\" standalone=\"no\"?>\n",
       "<!DOCTYPE svg PUBLIC \"-//W3C//DTD SVG 1.1//EN\"\n",
       " \"http://www.w3.org/Graphics/SVG/1.1/DTD/svg11.dtd\">\n",
       "<!-- Generated by graphviz version 12.2.1 (20241206.2353)\n",
       " -->\n",
       "<!-- Pages: 1 -->\n",
       "<svg width=\"251pt\" height=\"284pt\"\n",
       " viewBox=\"0.00 0.00 251.38 283.50\" xmlns=\"http://www.w3.org/2000/svg\" xmlns:xlink=\"http://www.w3.org/1999/xlink\">\n",
       "<g id=\"graph0\" class=\"graph\" transform=\"scale(1 1) rotate(0) translate(4 279.5)\">\n",
       "<g id=\"a_graph0\"><a xlink:title=\"D_Class class hierarchy\">\n",
       "<polygon fill=\"white\" stroke=\"none\" points=\"-4,4 -4,-279.5 247.38,-279.5 247.38,4 -4,4\"/>\n",
       "</a>\n",
       "</g>\n",
       "<!-- D_Class -->\n",
       "<g id=\"node1\" class=\"node\">\n",
       "<title>D_Class</title>\n",
       "<g id=\"a_node1\"><a xlink:href=\"#\" xlink:title=\"class D_Class:&#10;A subclass inheriting from multiple superclasses.&#10;Comes with a fairly long, but meaningless documentation.\">\n",
       "<polygon fill=\"none\" stroke=\"black\" points=\"41,-1.12 41,-47.88 106.5,-47.88 106.5,-1.12 41,-1.12\"/>\n",
       "<text text-anchor=\"start\" x=\"49\" y=\"-31.57\" font-family=\"Patua One, Helvetica, sans-serif\" font-weight=\"bold\" font-size=\"14.00\" fill=\"#b03a2e\">D_Class</text>\n",
       "<polyline fill=\"none\" stroke=\"black\" points=\"41,-21.88 106.5,-21.88\"/>\n",
       "<g id=\"a_node1_0\"><a xlink:href=\"#\" xlink:title=\"D_Class\">\n",
       "<g id=\"a_node1_1\"><a xlink:href=\"#\" xlink:title=\"foo(self) &#45;&gt; None:&#10;A WW2 foo fighter.\">\n",
       "<text text-anchor=\"start\" x=\"58.75\" y=\"-9.38\" font-family=\"'Fira Mono', 'Source Code Pro', 'Courier', monospace\" font-weight=\"bold\" font-style=\"italic\" font-size=\"10.00\">foo()</text>\n",
       "</a>\n",
       "</g>\n",
       "</a>\n",
       "</g>\n",
       "</a>\n",
       "</g>\n",
       "</g>\n",
       "<!-- B_Class -->\n",
       "<g id=\"node2\" class=\"node\">\n",
       "<title>B_Class</title>\n",
       "<g id=\"a_node2\"><a xlink:href=\"#\" xlink:title=\"class B_Class:&#10;A subclass inheriting some methods.\">\n",
       "<polygon fill=\"none\" stroke=\"black\" points=\"0,-85.5 0,-165.75 65.5,-165.75 65.5,-85.5 0,-85.5\"/>\n",
       "<text text-anchor=\"start\" x=\"8\" y=\"-149.45\" font-family=\"Patua One, Helvetica, sans-serif\" font-weight=\"bold\" font-size=\"14.00\" fill=\"#b03a2e\">B_Class</text>\n",
       "<polyline fill=\"none\" stroke=\"black\" points=\"0,-139.75 65.5,-139.75\"/>\n",
       "<g id=\"a_node2_2\"><a xlink:href=\"#\" xlink:title=\"B_Class\">\n",
       "<g id=\"a_node2_3\"><a xlink:href=\"#\" xlink:title=\"VAR = &#39;A variable&#39;\">\n",
       "<text text-anchor=\"start\" x=\"23.75\" y=\"-126.25\" font-family=\"'Fira Mono', 'Source Code Pro', 'Courier', monospace\" font-size=\"10.00\">VAR</text>\n",
       "</a>\n",
       "</g>\n",
       "</a>\n",
       "</g>\n",
       "<polyline fill=\"none\" stroke=\"black\" points=\"0,-119 65.5,-119\"/>\n",
       "<g id=\"a_node2_4\"><a xlink:href=\"#\" xlink:title=\"B_Class\">\n",
       "<g id=\"a_node2_5\"><a xlink:href=\"#\" xlink:title=\"bar(self, qux: Any = None, bartender: int = 42) &#45;&gt; None:&#10;A qux walks into a bar.&#10;`bartender` is an optional attribute.\">\n",
       "<text text-anchor=\"start\" x=\"17.75\" y=\"-106.5\" font-family=\"'Fira Mono', 'Source Code Pro', 'Courier', monospace\" font-weight=\"bold\" font-size=\"10.00\">bar()</text>\n",
       "</a>\n",
       "</g>\n",
       "<g id=\"a_node2_6\"><a xlink:href=\"#\" xlink:title=\"foo(self) &#45;&gt; None:&#10;A WW2 foo fighter.\">\n",
       "<text text-anchor=\"start\" x=\"17.75\" y=\"-93.75\" font-family=\"'Fira Mono', 'Source Code Pro', 'Courier', monospace\" font-weight=\"bold\" font-style=\"italic\" font-size=\"10.00\">foo()</text>\n",
       "</a>\n",
       "</g>\n",
       "</a>\n",
       "</g>\n",
       "</a>\n",
       "</g>\n",
       "</g>\n",
       "<!-- D_Class&#45;&gt;B_Class -->\n",
       "<g id=\"edge1\" class=\"edge\">\n",
       "<title>D_Class&#45;&gt;B_Class</title>\n",
       "<path fill=\"none\" stroke=\"black\" d=\"M64.45,-47.99C61.15,-55.96 57.3,-65.28 53.44,-74.61\"/>\n",
       "<polygon fill=\"none\" stroke=\"black\" points=\"50.27,-73.11 49.68,-83.69 56.74,-75.79 50.27,-73.11\"/>\n",
       "</g>\n",
       "<!-- C_Class -->\n",
       "<g id=\"node4\" class=\"node\">\n",
       "<title>C_Class</title>\n",
       "<g id=\"a_node4\"><a xlink:href=\"#\" xlink:title=\"class C_Class:&#10;A class injecting some method\">\n",
       "<polygon fill=\"none\" stroke=\"black\" points=\"83.38,-102.25 83.38,-149 148.12,-149 148.12,-102.25 83.38,-102.25\"/>\n",
       "<text text-anchor=\"start\" x=\"91.38\" y=\"-132.7\" font-family=\"Patua One, Helvetica, sans-serif\" font-weight=\"bold\" font-size=\"14.00\" fill=\"#b03a2e\">C_Class</text>\n",
       "<polyline fill=\"none\" stroke=\"black\" points=\"83.38,-123 148.12,-123\"/>\n",
       "<g id=\"a_node4_7\"><a xlink:href=\"#\" xlink:title=\"C_Class\">\n",
       "<g id=\"a_node4_8\"><a xlink:href=\"#\" xlink:title=\"qux(self, arg: List[Union[int, str, NoneType]]) &#45;&gt; List[Union[int, str, NoneType]]\">\n",
       "<text text-anchor=\"start\" x=\"100.75\" y=\"-109.5\" font-family=\"'Fira Mono', 'Source Code Pro', 'Courier', monospace\" font-size=\"10.00\">qux()</text>\n",
       "</a>\n",
       "</g>\n",
       "</a>\n",
       "</g>\n",
       "</a>\n",
       "</g>\n",
       "</g>\n",
       "<!-- D_Class&#45;&gt;C_Class -->\n",
       "<g id=\"edge3\" class=\"edge\">\n",
       "<title>D_Class&#45;&gt;C_Class</title>\n",
       "<path fill=\"none\" stroke=\"black\" d=\"M83.28,-47.99C88.72,-60.83 95.64,-77.16 101.69,-91.44\"/>\n",
       "<polygon fill=\"none\" stroke=\"black\" points=\"98.4,-92.64 105.52,-100.48 104.84,-89.91 98.4,-92.64\"/>\n",
       "</g>\n",
       "<!-- A_Class -->\n",
       "<g id=\"node3\" class=\"node\">\n",
       "<title>A_Class</title>\n",
       "<g id=\"a_node3\"><a xlink:href=\"#\" xlink:title=\"class A_Class:&#10;A Class which does A thing right.&#10;Comes with a longer docstring.\">\n",
       "<polygon fill=\"none\" stroke=\"black\" points=\"0,-202.75 0,-275 65.5,-275 65.5,-202.75 0,-202.75\"/>\n",
       "<text text-anchor=\"start\" x=\"8\" y=\"-258.7\" font-family=\"Patua One, Helvetica, sans-serif\" font-weight=\"bold\" font-style=\"italic\" font-size=\"14.00\" fill=\"#b03a2e\">A_Class</text>\n",
       "<polyline fill=\"none\" stroke=\"black\" points=\"0,-249 65.5,-249\"/>\n",
       "<g id=\"a_node3_9\"><a xlink:href=\"#\" xlink:title=\"A_Class\">\n",
       "<g id=\"a_node3_10\"><a xlink:href=\"#\" xlink:title=\"foo(self) &#45;&gt; None:&#10;The Adventures of the glorious Foo\">\n",
       "<text text-anchor=\"start\" x=\"8.75\" y=\"-236.5\" font-family=\"'Fira Mono', 'Source Code Pro', 'Courier', monospace\" font-weight=\"bold\" font-style=\"italic\" font-size=\"10.00\">foo()</text>\n",
       "</a>\n",
       "</g>\n",
       "<g id=\"a_node3_11\"><a xlink:href=\"#\" xlink:title=\"quux(self) &#45;&gt; None:&#10;A method that is not used.\">\n",
       "<text text-anchor=\"start\" x=\"8.75\" y=\"-223.75\" font-family=\"'Fira Mono', 'Source Code Pro', 'Courier', monospace\" font-weight=\"bold\" font-size=\"10.00\">quux()</text>\n",
       "</a>\n",
       "</g>\n",
       "<g id=\"a_node3_12\"><a xlink:href=\"#\" xlink:title=\"second(self) &#45;&gt; None\">\n",
       "<text text-anchor=\"start\" x=\"8.75\" y=\"-210\" font-family=\"'Fira Mono', 'Source Code Pro', 'Courier', monospace\" font-size=\"10.00\">second()</text>\n",
       "</a>\n",
       "</g>\n",
       "</a>\n",
       "</g>\n",
       "</a>\n",
       "</g>\n",
       "</g>\n",
       "<!-- B_Class&#45;&gt;A_Class -->\n",
       "<g id=\"edge2\" class=\"edge\">\n",
       "<title>B_Class&#45;&gt;A_Class</title>\n",
       "<path fill=\"none\" stroke=\"black\" d=\"M32.75,-166.16C32.75,-174.23 32.75,-182.79 32.75,-191.08\"/>\n",
       "<polygon fill=\"none\" stroke=\"black\" points=\"29.25,-191.03 32.75,-201.03 36.25,-191.03 29.25,-191.03\"/>\n",
       "</g>\n",
       "<!-- Legend -->\n",
       "<g id=\"node5\" class=\"node\">\n",
       "<title>Legend</title>\n",
       "<text text-anchor=\"start\" x=\"124.12\" y=\"-40.5\" font-family=\"Patua One, Helvetica, sans-serif\" font-weight=\"bold\" font-size=\"10.00\" fill=\"#b03a2e\">Legend</text>\n",
       "<text text-anchor=\"start\" x=\"124.12\" y=\"-30.5\" font-family=\"Patua One, Helvetica, sans-serif\" font-size=\"10.00\">• </text>\n",
       "<text text-anchor=\"start\" x=\"130.12\" y=\"-30.5\" font-family=\"'Fira Mono', 'Source Code Pro', 'Courier', monospace\" font-weight=\"bold\" font-size=\"8.00\">public_method()</text>\n",
       "<text text-anchor=\"start\" x=\"124.12\" y=\"-20.5\" font-family=\"Patua One, Helvetica, sans-serif\" font-size=\"10.00\">• </text>\n",
       "<text text-anchor=\"start\" x=\"130.12\" y=\"-20.5\" font-family=\"'Fira Mono', 'Source Code Pro', 'Courier', monospace\" font-size=\"8.00\">private_method()</text>\n",
       "<text text-anchor=\"start\" x=\"124.12\" y=\"-10.5\" font-family=\"Patua One, Helvetica, sans-serif\" font-size=\"10.00\">• </text>\n",
       "<text text-anchor=\"start\" x=\"130.12\" y=\"-10.5\" font-family=\"'Fira Mono', 'Source Code Pro', 'Courier', monospace\" font-style=\"italic\" font-size=\"8.00\">overloaded_method()</text>\n",
       "<text text-anchor=\"start\" x=\"124.12\" y=\"-1.45\" font-family=\"Helvetica,sans-Serif\" font-size=\"9.00\">Hover over names to see doc</text>\n",
       "</g>\n",
       "</g>\n",
       "</svg>\n"
      ],
      "text/plain": [
       "<graphviz.graphs.Digraph at 0x1063814c0>"
      ]
     },
     "execution_count": 66,
     "metadata": {},
     "output_type": "execute_result"
    }
   ],
   "source": [
    "display_class_hierarchy(D_Class, abstract_classes=[A_Class])"
   ]
  },
  {
   "cell_type": "markdown",
   "metadata": {
    "slideshow": {
     "slide_type": "slide"
    }
   },
   "source": [
    "## Exercises"
   ]
  },
  {
   "cell_type": "markdown",
   "metadata": {
    "slideshow": {
     "slide_type": "fragment"
    }
   },
   "source": [
    "Enjoy!"
   ]
  }
 ],
 "metadata": {
  "ipub": {
   "bibliography": "fuzzingbook.bib",
   "toc": true
  },
  "kernelspec": {
   "display_name": "Python 3 (ipykernel)",
   "language": "python",
   "name": "python3"
  },
  "language_info": {
   "codemirror_mode": {
    "name": "ipython",
    "version": 3
   },
   "file_extension": ".py",
   "mimetype": "text/x-python",
   "name": "python",
   "nbconvert_exporter": "python",
   "pygments_lexer": "ipython3",
   "version": "3.12.8"
  },
  "toc": {
   "base_numbering": 1,
   "nav_menu": {},
   "number_sections": true,
   "sideBar": true,
   "skip_h1_title": true,
   "title_cell": "",
   "title_sidebar": "Contents",
   "toc_cell": false,
   "toc_position": {},
   "toc_section_display": true,
   "toc_window_display": true
  },
  "toc-autonumbering": false
 },
 "nbformat": 4,
 "nbformat_minor": 4
}