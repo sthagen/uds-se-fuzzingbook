{
 "cells": [
  {
   "cell_type": "markdown",
   "metadata": {
    "button": false,
    "new_sheet": false,
    "run_control": {
     "read_only": false
    },
    "slideshow": {
     "slide_type": "slide"
    }
   },
   "source": [
    "# Greybox Fuzzing with Grammars\n",
    "\n",
    "In this chapter, we introduce important extensions to our syntactic fuzzing techniques, all leveraging _syntactic_ parts of _existing inputs_.\n",
    "\n",
    "1. We show how to leverage _dictionaries_ of input fragments during fuzzing. The idea is to integrate such dictionaries into a _mutator_, which would then inject these fragments (typically keywords and other items of importance) into population.\n",
    "\n",
    "2. We show how to combine [parsing](Parser.ipynb) and [fuzzing](GrammarFuzzer.ipynb) with grammars.  This allows _mutating_ existing inputs while preserving syntactical correctness, and to _reuse_ fragments from existing inputs while generating new ones.  The combination of language-based parsing and generating, as demonstrated in this chapter, has been highly successful in practice: The _LangFuzz_ fuzzer for JavaScript has found more than 2,600 bugs in JavaScript interpreters this way.\n",
    "\n",
    "3. In the previous chapters, we have used grammars in a _black-box_ manner – that is, we have used them to generate inputs regardless of the program being tested.  In this chapter, we introduce mutational _greybox fuzzing with grammars_: Techniques that make use of _feedback from the program under test_ to guide test generations towards specific goals.  As in [lexical greybox fuzzing](GreyboxFuzzer.ipynb), this feedback is mostly _coverage_, allowing us to direct grammar-based testing towards uncovered code parts. This part is inspired by the _AFLSmart_ fuzzer, which combines parsing and mutational fuzzing."
   ]
  },
  {
   "cell_type": "code",
   "execution_count": 1,
   "metadata": {
    "execution": {
     "iopub.execute_input": "2025-01-16T09:52:10.262188Z",
     "iopub.status.busy": "2025-01-16T09:52:10.262097Z",
     "iopub.status.idle": "2025-01-16T09:52:10.357283Z",
     "shell.execute_reply": "2025-01-16T09:52:10.356989Z"
    },
    "slideshow": {
     "slide_type": "skip"
    }
   },
   "outputs": [
    {
     "data": {
      "text/html": [
       "\n",
       "        <iframe\n",
       "            width=\"640\"\n",
       "            height=\"360\"\n",
       "            src=\"https://www.youtube-nocookie.com/embed/hSGzcjUj7Vs\"\n",
       "            frameborder=\"0\"\n",
       "            allowfullscreen\n",
       "            \n",
       "        ></iframe>\n",
       "        "
      ],
      "text/plain": [
       "<IPython.lib.display.IFrame at 0x103f66720>"
      ]
     },
     "execution_count": 1,
     "metadata": {},
     "output_type": "execute_result"
    }
   ],
   "source": [
    "from bookutils import YouTubeVideo\n",
    "YouTubeVideo('hSGzcjUj7Vs')"
   ]
  },
  {
   "cell_type": "markdown",
   "metadata": {
    "button": false,
    "new_sheet": false,
    "run_control": {
     "read_only": false
    },
    "slideshow": {
     "slide_type": "subslide"
    }
   },
   "source": [
    "**Prerequisites**\n",
    "\n",
    "* We build on several concepts from [the chapter on greybox fuzzing (without grammars)](GreyboxFuzzer.ipynb).\n",
    "* As the title suggests, you should know how to fuzz with grammars [from the chapter on grammars](Grammars.ipynb)."
   ]
  },
  {
   "cell_type": "markdown",
   "metadata": {
    "slideshow": {
     "slide_type": "skip"
    }
   },
   "source": [
    "## Synopsis\n",
    "<!-- Automatically generated. Do not edit. -->\n",
    "\n",
    "To [use the code provided in this chapter](Importing.ipynb), write\n",
    "\n",
    "```python\n",
    ">>> from fuzzingbook.GreyboxGrammarFuzzer import <identifier>\n",
    "```\n",
    "\n",
    "and then make use of the following features.\n",
    "\n",
    "\n",
    "This chapter introduces advanced methods for language-based grey-box fuzzing inspired by the _LangFuzz_ and _AFLSmart_ fuzzers.\n",
    "\n",
    "### Fuzzing with Dictionaries\n",
    "\n",
    "Rather than mutating strings randomly, the `DictMutator` class allows inserting tokens from a dictionary, thus increasing fuzzer performance. The dictionary comes as a list of strings, out of which random elements are picked and inserted - in addition to the given mutations such as deleting or inserting individual bytes.\n",
    "\n",
    "```python\n",
    ">>> dict_mutator = DictMutator([\"<a>\", \"</a>\", \"<a/>\", \"='a'\"])\n",
    ">>> seeds = [\"<html><head><title>Hello</title></head><body>World<br/></body></html>\"]\n",
    ">>> for i in range(10):\n",
    ">>>     print(dict_mutator.mutate(seeds[0]))\n",
    "<html><head><title>Hello</title></head><body>World<br/>>/body></html>\n",
    "<html><head><title>Hello</title></head><body>World<br/></body></ht7ml>\n",
    "<html><head><title>Hello</title></hgad><body>World<br/></body></html>\n",
    "<html><head><title>Hello</title></head><body>World<br/<a/>></body></html>\n",
    "<html><head><title>Hello</title></head><body>World<br+></body></html>\n",
    "<html><head><title>Hello</title></qhead><body>World<br/></body></html>\n",
    "<html><head><title>Hello</title></head><body>World<br='a'/></body></html>\n",
    "<html><head><title>Hello</title></head><body>Wormd<br/></body></html>\n",
    "<html><head><title>Hello</title></head><body>Wyorld<br/></body></html>\n",
    "<html><head><title>Hello<</a>/title></head><body>World<br/></body></html>\n",
    "\n",
    "```\n",
    "This `DictMutator` can be used as an argument to `GreyboxFuzzer`:\n",
    "\n",
    "```python\n",
    ">>> runner = FunctionCoverageRunner(my_parser)\n",
    ">>> dict_fuzzer = GreyboxFuzzer(seeds, dict_mutator, PowerSchedule())\n",
    ">>> dict_fuzzer_outcome = dict_fuzzer.runs(runner, trials=5)\n",
    "```\n",
    "![](PICS/GreyboxGrammarFuzzer-synopsis-1.svg)\n",
    "\n",
    "### Fuzzing with Input Fragments\n",
    "\n",
    "The `LangFuzzer` class introduces a _language-aware_ fuzzer that can recombine fragments from existing inputs – inspired by the highly effective `LangFuzz` fuzzer. At its core is a `FragmentMutator` class that that takes a [_parser_](Parser.ipynb) as argument:\n",
    "\n",
    "```python\n",
    ">>> parser = EarleyParser(XML_GRAMMAR, tokens=XML_TOKENS)\n",
    ">>> mutator = FragmentMutator(parser)\n",
    "```\n",
    "The fuzzer itself is initialized with a list of seeds, the above `FragmentMutator`, and a power schedule:\n",
    "\n",
    "```python\n",
    ">>> seeds = [\"<html><head><title>Hello</title></head><body>World<br/></body></html>\"]\n",
    ">>> schedule = PowerSchedule()\n",
    ">>> lang_fuzzer = LangFuzzer(seeds, mutator, schedule)\n",
    ">>> for i in range(10):\n",
    ">>>     print(lang_fuzzer.fuzz())\n",
    "<html><head><title>Hello</title></head><body>World<br/></body></html>\n",
    "<html><head><title>Hello</title></head>World<br/></body></html>\n",
    "<html>World<body>World<br/></body></html>\n",
    "<html><title>Hello</title></head><title>World<br/></body></html>\n",
    "<html><head><title><head>World</head></title></head>World<br/></body></html>\n",
    "<html><body>World<br/></body><body>World<br/></body></html>\n",
    "\n",
    "Exception ignored in: <bound method IPythonKernel._clean_thread_parent_frames of <ipykernel.ipkernel.IPythonKernel object at 0x103912720>>\n",
    "Traceback (most recent call last):\n",
    "  File \"/Users/zeller/.local/lib/python3.12/site-packages/ipykernel/ipkernel.py\", line 775, in _clean_thread_parent_frames\n",
    "    def _clean_thread_parent_frames(\n",
    "\n",
    "  File \"Timeout.ipynb\", line 43, in timeout_handler\n",
    "    }\n",
    "      \n",
    "TimeoutError: \n",
    "\n",
    "<html><body>WorldHello</body>\n",
    "\n",
    "Exception ignored in: <bound method IPythonKernel._clean_thread_parent_frames of <ipykernel.ipkernel.IPythonKernel object at 0x103912720>>\n",
    "Traceback (most recent call last):\n",
    "  File \"/Users/zeller/.local/lib/python3.12/site-packages/ipykernel/ipkernel.py\", line 775, in _clean_thread_parent_frames\n",
    "    def _clean_thread_parent_frames(\n",
    "\n",
    "  File \"Timeout.ipynb\", line 43, in timeout_handler\n",
    "    }\n",
    "      \n",
    "TimeoutError: \n",
    "\n",
    "<html><head><title>Hello</title></head><body><head><head>World</head></title></head><body>World<br/></body><br/></body></html>\n",
    "<html><head><title></title></head><body>World<br/></body></html>\n",
    "<html><head><title>Hello</title></head><body><head><title><head>World</head></title></head><body>World<br/></body><br/><br/></body></html>\n",
    "\n",
    "```\n",
    "![](PICS/GreyboxGrammarFuzzer-synopsis-2.svg)\n",
    "\n",
    "### Fuzzing with Input Regions\n",
    "\n",
    "The `GreyboxGrammarFuzzer` class uses two mutators:\n",
    "* a _tree mutator_ (a `RegionMutator` object) that can parse existing strings to identify _regions_ in that string to be swapped or deleted.\n",
    "* a _byte mutator_ to apply bit- and character-level mutations.\n",
    "\n",
    "```python\n",
    ">>> tree_mutator = RegionMutator(parser)\n",
    ">>> byte_mutator = Mutator()\n",
    "```\n",
    "The _schedule_ for the `GreyboxGrammarFuzzer` class can be a regular `PowerSchedule` object. However, a more sophisticated schedule is provided by `AFLSmartSchedule`, which assigns more [energy](GreyboxFuzzer.ipynb#Power-Schedules) to seeds that have a higher degree of validity.\n",
    "\n",
    "```python\n",
    ">>> schedule = AFLSmartSchedule(parser)\n",
    "```\n",
    "The `GreyboxGrammarFuzzer` constructor takes a set of seeds as well as the two mutators and the schedule:\n",
    "\n",
    "```python\n",
    ">>> aflsmart_fuzzer = GreyboxGrammarFuzzer(seeds, byte_mutator, tree_mutator, schedule)\n",
    "```\n",
    "As it relies on code coverage, it is typically combined with a `FunctionCoverageRunner`:\n",
    "\n",
    "```python\n",
    ">>> runner = FunctionCoverageRunner(my_parser)\n",
    ">>> aflsmart_outcome = aflsmart_fuzzer.runs(runner, trials=5)\n",
    "```\n",
    "![](PICS/GreyboxGrammarFuzzer-synopsis-3.svg)\n",
    "\n"
   ]
  },
  {
   "cell_type": "markdown",
   "metadata": {
    "slideshow": {
     "slide_type": "slide"
    }
   },
   "source": [
    "## Background\n",
    "First, we [recall](GreyboxFuzzer.ipynb#Ingredients-for-Greybox-Fuzzing) a few basic ingredients for mutational fuzzers.\n",
    "* **Seed**. A _seed_ is an input that is used by the fuzzer to generate new inputs by applying a sequence of mutations.\n",
    "* **Mutator**. A _mutator_ implements a set of mutation operators that applied to an input produce a slightly modified input.\n",
    "* **PowerSchedule**. A _power schedule_ assigns _energy_ to a seed. A seed with higher energy is fuzzed more often throughout the fuzzing campaign.\n",
    "* **AdvancedMutationFuzzer**. Our _mutational blackbox fuzzer_ generates inputs by mutating seeds in an initial population of inputs.\n",
    "* **GreyboxFuzzer**. Our _greybox fuzzer_ dynamically adds inputs to the population of seeds that increased coverage.\n",
    "* **FunctionCoverageRunner**. Our _function coverage runner_ collects coverage information for the execution of a given Python function.\n",
    "\n",
    "Let's try to get a feeling for these concepts."
   ]
  },
  {
   "cell_type": "code",
   "execution_count": 2,
   "metadata": {
    "execution": {
     "iopub.execute_input": "2025-01-16T09:52:10.379518Z",
     "iopub.status.busy": "2025-01-16T09:52:10.379117Z",
     "iopub.status.idle": "2025-01-16T09:52:10.381967Z",
     "shell.execute_reply": "2025-01-16T09:52:10.381677Z"
    },
    "slideshow": {
     "slide_type": "skip"
    }
   },
   "outputs": [],
   "source": [
    "import bookutils.setup"
   ]
  },
  {
   "cell_type": "code",
   "execution_count": 3,
   "metadata": {
    "execution": {
     "iopub.execute_input": "2025-01-16T09:52:10.383854Z",
     "iopub.status.busy": "2025-01-16T09:52:10.383722Z",
     "iopub.status.idle": "2025-01-16T09:52:10.385415Z",
     "shell.execute_reply": "2025-01-16T09:52:10.385106Z"
    },
    "slideshow": {
     "slide_type": "skip"
    }
   },
   "outputs": [],
   "source": [
    "from typing import List, Set, Dict, Sequence, cast"
   ]
  },
  {
   "cell_type": "code",
   "execution_count": 4,
   "metadata": {
    "execution": {
     "iopub.execute_input": "2025-01-16T09:52:10.387249Z",
     "iopub.status.busy": "2025-01-16T09:52:10.387136Z",
     "iopub.status.idle": "2025-01-16T09:52:10.922040Z",
     "shell.execute_reply": "2025-01-16T09:52:10.921748Z"
    },
    "slideshow": {
     "slide_type": "skip"
    }
   },
   "outputs": [],
   "source": [
    "from Fuzzer import Fuzzer\n",
    "from GreyboxFuzzer import Mutator, Seed, PowerSchedule\n",
    "from GreyboxFuzzer import AdvancedMutationFuzzer, GreyboxFuzzer\n",
    "from MutationFuzzer import FunctionCoverageRunner"
   ]
  },
  {
   "cell_type": "markdown",
   "metadata": {
    "slideshow": {
     "slide_type": "subslide"
    }
   },
   "source": [
    "The following command applies a mutation to the input \"Hello World\"."
   ]
  },
  {
   "cell_type": "code",
   "execution_count": 5,
   "metadata": {
    "execution": {
     "iopub.execute_input": "2025-01-16T09:52:10.924034Z",
     "iopub.status.busy": "2025-01-16T09:52:10.923851Z",
     "iopub.status.idle": "2025-01-16T09:52:10.926155Z",
     "shell.execute_reply": "2025-01-16T09:52:10.925916Z"
    },
    "slideshow": {
     "slide_type": "fragment"
    }
   },
   "outputs": [
    {
     "data": {
      "text/plain": [
       "'Lello World'"
      ]
     },
     "execution_count": 5,
     "metadata": {},
     "output_type": "execute_result"
    }
   ],
   "source": [
    "Mutator().mutate(\"Hello World\")"
   ]
  },
  {
   "cell_type": "markdown",
   "metadata": {
    "slideshow": {
     "slide_type": "fragment"
    }
   },
   "source": [
    "The default power schedule assigns energy uniformly across all seeds. Let's check whether this works.\n",
    "\n",
    "We choose 10k times from a population of three seeds.  As we see in the `hits` counter, each seed is chosen about a third of the time."
   ]
  },
  {
   "cell_type": "code",
   "execution_count": 6,
   "metadata": {
    "execution": {
     "iopub.execute_input": "2025-01-16T09:52:10.927664Z",
     "iopub.status.busy": "2025-01-16T09:52:10.927562Z",
     "iopub.status.idle": "2025-01-16T09:52:10.947612Z",
     "shell.execute_reply": "2025-01-16T09:52:10.947338Z"
    },
    "slideshow": {
     "slide_type": "subslide"
    }
   },
   "outputs": [
    {
     "data": {
      "text/plain": [
       "{'A': 3387, 'B': 3255, 'C': 3358}"
      ]
     },
     "execution_count": 6,
     "metadata": {},
     "output_type": "execute_result"
    }
   ],
   "source": [
    "population = [Seed(\"A\"), Seed(\"B\"), Seed(\"C\")]\n",
    "schedule = PowerSchedule()\n",
    "hits = {\n",
    "    \"A\": 0,\n",
    "    \"B\": 0,\n",
    "    \"C\": 0\n",
    "}\n",
    "\n",
    "for i in range(10000):\n",
    "    seed = schedule.choose(population)\n",
    "    hits[seed.data] += 1\n",
    "\n",
    "hits"
   ]
  },
  {
   "cell_type": "markdown",
   "metadata": {
    "slideshow": {
     "slide_type": "subslide"
    }
   },
   "source": [
    "Before explaining the function coverage runner, lets import Python's HTML parser as example..."
   ]
  },
  {
   "cell_type": "code",
   "execution_count": 7,
   "metadata": {
    "execution": {
     "iopub.execute_input": "2025-01-16T09:52:10.949339Z",
     "iopub.status.busy": "2025-01-16T09:52:10.949234Z",
     "iopub.status.idle": "2025-01-16T09:52:10.950709Z",
     "shell.execute_reply": "2025-01-16T09:52:10.950484Z"
    },
    "slideshow": {
     "slide_type": "skip"
    }
   },
   "outputs": [],
   "source": [
    "from html.parser import HTMLParser"
   ]
  },
  {
   "cell_type": "markdown",
   "metadata": {
    "slideshow": {
     "slide_type": "fragment"
    }
   },
   "source": [
    "... and create a _wrapper function_ that passes each input into a new parser object."
   ]
  },
  {
   "cell_type": "code",
   "execution_count": 8,
   "metadata": {
    "execution": {
     "iopub.execute_input": "2025-01-16T09:52:10.952304Z",
     "iopub.status.busy": "2025-01-16T09:52:10.952227Z",
     "iopub.status.idle": "2025-01-16T09:52:10.953936Z",
     "shell.execute_reply": "2025-01-16T09:52:10.953698Z"
    },
    "slideshow": {
     "slide_type": "fragment"
    }
   },
   "outputs": [],
   "source": [
    "def my_parser(inp: str) -> None:\n",
    "    parser = HTMLParser()\n",
    "    parser.feed(inp)"
   ]
  },
  {
   "cell_type": "markdown",
   "metadata": {
    "slideshow": {
     "slide_type": "fragment"
    }
   },
   "source": [
    "The `FunctionCoverageRunner` constructor takes a Python `function` to execute. The function `run()` takes an input, passes it on to the Python `function`, and collects the coverage information for this execution. The function `coverage()` returns a list of tuples `(function name, line number)` for each statement that has been covered in the Python `function`."
   ]
  },
  {
   "cell_type": "code",
   "execution_count": 9,
   "metadata": {
    "execution": {
     "iopub.execute_input": "2025-01-16T09:52:10.955295Z",
     "iopub.status.busy": "2025-01-16T09:52:10.955215Z",
     "iopub.status.idle": "2025-01-16T09:52:10.957823Z",
     "shell.execute_reply": "2025-01-16T09:52:10.957594Z"
    },
    "slideshow": {
     "slide_type": "subslide"
    }
   },
   "outputs": [
    {
     "data": {
      "text/plain": [
       "[('my_parser', 3),\n",
       " ('goahead', 163),\n",
       " ('updatepos', 47),\n",
       " ('goahead', 245),\n",
       " ('reset', 100)]"
      ]
     },
     "execution_count": 9,
     "metadata": {},
     "output_type": "execute_result"
    }
   ],
   "source": [
    "runner = FunctionCoverageRunner(my_parser)\n",
    "runner.run(\"Hello World\")\n",
    "cov = runner.coverage()\n",
    "\n",
    "list(cov)[:5]  # Print 5 statements covered in HTMLParser"
   ]
  },
  {
   "cell_type": "markdown",
   "metadata": {
    "slideshow": {
     "slide_type": "fragment"
    }
   },
   "source": [
    "Our greybox fuzzer takes a seed population, mutator, and power schedule. Let's generate 5000 fuzz inputs starting with an \"empty\" seed corpus."
   ]
  },
  {
   "cell_type": "code",
   "execution_count": 10,
   "metadata": {
    "execution": {
     "iopub.execute_input": "2025-01-16T09:52:10.959298Z",
     "iopub.status.busy": "2025-01-16T09:52:10.959202Z",
     "iopub.status.idle": "2025-01-16T09:52:10.960945Z",
     "shell.execute_reply": "2025-01-16T09:52:10.960647Z"
    },
    "slideshow": {
     "slide_type": "skip"
    }
   },
   "outputs": [],
   "source": [
    "import time\n",
    "import random"
   ]
  },
  {
   "cell_type": "code",
   "execution_count": 11,
   "metadata": {
    "execution": {
     "iopub.execute_input": "2025-01-16T09:52:10.962749Z",
     "iopub.status.busy": "2025-01-16T09:52:10.962638Z",
     "iopub.status.idle": "2025-01-16T09:52:10.964462Z",
     "shell.execute_reply": "2025-01-16T09:52:10.964238Z"
    },
    "slideshow": {
     "slide_type": "subslide"
    }
   },
   "outputs": [],
   "source": [
    "n = 5000\n",
    "seed_input = \" \"  # empty seed\n",
    "runner = FunctionCoverageRunner(my_parser)\n",
    "fuzzer = GreyboxFuzzer([seed_input], Mutator(), PowerSchedule())"
   ]
  },
  {
   "cell_type": "code",
   "execution_count": 12,
   "metadata": {
    "execution": {
     "iopub.execute_input": "2025-01-16T09:52:10.966018Z",
     "iopub.status.busy": "2025-01-16T09:52:10.965920Z",
     "iopub.status.idle": "2025-01-16T09:52:11.944735Z",
     "shell.execute_reply": "2025-01-16T09:52:11.944453Z"
    },
    "slideshow": {
     "slide_type": "fragment"
    }
   },
   "outputs": [],
   "source": [
    "start = time.time()\n",
    "fuzzer.runs(runner, trials=n)\n",
    "end = time.time()"
   ]
  },
  {
   "cell_type": "code",
   "execution_count": 13,
   "metadata": {
    "execution": {
     "iopub.execute_input": "2025-01-16T09:52:11.946837Z",
     "iopub.status.busy": "2025-01-16T09:52:11.946706Z",
     "iopub.status.idle": "2025-01-16T09:52:11.948969Z",
     "shell.execute_reply": "2025-01-16T09:52:11.948707Z"
    },
    "slideshow": {
     "slide_type": "fragment"
    }
   },
   "outputs": [
    {
     "data": {
      "text/plain": [
       "'It took the fuzzer 0.98 seconds to generate and execute 5000 inputs.'"
      ]
     },
     "execution_count": 13,
     "metadata": {},
     "output_type": "execute_result"
    }
   ],
   "source": [
    "\"It took the fuzzer %0.2f seconds to generate and execute %d inputs.\" % (end - start, n)"
   ]
  },
  {
   "cell_type": "code",
   "execution_count": 14,
   "metadata": {
    "execution": {
     "iopub.execute_input": "2025-01-16T09:52:11.950712Z",
     "iopub.status.busy": "2025-01-16T09:52:11.950596Z",
     "iopub.status.idle": "2025-01-16T09:52:11.952715Z",
     "shell.execute_reply": "2025-01-16T09:52:11.952478Z"
    },
    "slideshow": {
     "slide_type": "fragment"
    }
   },
   "outputs": [
    {
     "data": {
      "text/plain": [
       "'During this fuzzing campaign, we covered 79 statements.'"
      ]
     },
     "execution_count": 14,
     "metadata": {},
     "output_type": "execute_result"
    }
   ],
   "source": [
    "\"During this fuzzing campaign, we covered %d statements.\" % len(runner.coverage())"
   ]
  },
  {
   "cell_type": "markdown",
   "metadata": {
    "slideshow": {
     "slide_type": "slide"
    }
   },
   "source": [
    "## Fuzzing with Dictionaries\n",
    "\n",
    "To fuzz our HTML parser, it may be useful to inform a mutational fuzzer about important keywords in the input – that is, important HTML keywords. The general idea is to have a _dictionary_ of pre-defined useful inputs that could then be inserted as such when mutating an input.\n",
    "\n",
    "This concept is illustrated in the following diagram. When mutating an input, we may insert given keywords from the dictionary (in red).\n",
    "\n",
    "<img src=\"PICS/GreyboxGrammarFuzzer-Dict.gif\">"
   ]
  },
  {
   "cell_type": "markdown",
   "metadata": {
    "slideshow": {
     "slide_type": "subslide"
    }
   },
   "source": [
    "To implement this concept, we extend our mutator to consider keywords from a dictionary."
   ]
  },
  {
   "cell_type": "code",
   "execution_count": 15,
   "metadata": {
    "execution": {
     "iopub.execute_input": "2025-01-16T09:52:11.954361Z",
     "iopub.status.busy": "2025-01-16T09:52:11.954243Z",
     "iopub.status.idle": "2025-01-16T09:52:11.956477Z",
     "shell.execute_reply": "2025-01-16T09:52:11.956248Z"
    },
    "slideshow": {
     "slide_type": "subslide"
    }
   },
   "outputs": [],
   "source": [
    "class DictMutator(Mutator):\n",
    "    \"\"\"Mutate strings using keywords from a dictionary\"\"\"\n",
    "\n",
    "    def __init__(self, dictionary: List[str]) -> None:\n",
    "        \"\"\"Constructor. `dictionary` is the list of keywords to use.\"\"\"\n",
    "        super().__init__()\n",
    "        self.dictionary = dictionary\n",
    "        self.mutators.append(self.insert_from_dictionary)\n",
    "\n",
    "    def insert_from_dictionary(self, s: str) -> str:\n",
    "        \"\"\"Returns s with a keyword from the dictionary inserted\"\"\"\n",
    "        pos = random.randint(0, len(s))\n",
    "        random_keyword = random.choice(self.dictionary)\n",
    "        return s[:pos] + random_keyword + s[pos:]"
   ]
  },
  {
   "cell_type": "markdown",
   "metadata": {
    "slideshow": {
     "slide_type": "subslide"
    }
   },
   "source": [
    "Let's try to add a few HTML tags and attributes and see whether the coverage with `DictMutator` increases."
   ]
  },
  {
   "cell_type": "code",
   "execution_count": 16,
   "metadata": {
    "execution": {
     "iopub.execute_input": "2025-01-16T09:52:11.958136Z",
     "iopub.status.busy": "2025-01-16T09:52:11.958024Z",
     "iopub.status.idle": "2025-01-16T09:52:14.737019Z",
     "shell.execute_reply": "2025-01-16T09:52:14.736731Z"
    },
    "slideshow": {
     "slide_type": "fragment"
    }
   },
   "outputs": [
    {
     "data": {
      "text/plain": [
       "'It took the fuzzer 2.78 seconds to generate and execute 5000 inputs.'"
      ]
     },
     "execution_count": 16,
     "metadata": {},
     "output_type": "execute_result"
    }
   ],
   "source": [
    "runner = FunctionCoverageRunner(my_parser)\n",
    "dict_mutator = DictMutator([\"<a>\", \"</a>\", \"<a/>\", \"='a'\"])\n",
    "dict_fuzzer = GreyboxFuzzer([seed_input], dict_mutator, PowerSchedule())\n",
    "\n",
    "start = time.time()\n",
    "dict_fuzzer.runs(runner, trials=n)\n",
    "end = time.time()\n",
    "\n",
    "\"It took the fuzzer %0.2f seconds to generate and execute %d inputs.\" % (end - start, n)"
   ]
  },
  {
   "cell_type": "markdown",
   "metadata": {
    "slideshow": {
     "slide_type": "fragment"
    }
   },
   "source": [
    "Clearly, it takes longer. In our experience, this means more code is covered:"
   ]
  },
  {
   "cell_type": "code",
   "execution_count": 17,
   "metadata": {
    "execution": {
     "iopub.execute_input": "2025-01-16T09:52:14.738960Z",
     "iopub.status.busy": "2025-01-16T09:52:14.738840Z",
     "iopub.status.idle": "2025-01-16T09:52:14.741051Z",
     "shell.execute_reply": "2025-01-16T09:52:14.740770Z"
    },
    "slideshow": {
     "slide_type": "subslide"
    }
   },
   "outputs": [
    {
     "data": {
      "text/plain": [
       "'During this fuzzing campaign, we covered 108 statements.'"
      ]
     },
     "execution_count": 17,
     "metadata": {},
     "output_type": "execute_result"
    }
   ],
   "source": [
    "\"During this fuzzing campaign, we covered %d statements.\" % len(runner.coverage())"
   ]
  },
  {
   "cell_type": "markdown",
   "metadata": {
    "slideshow": {
     "slide_type": "fragment"
    }
   },
   "source": [
    "How do the fuzzers compare in terms of coverage over time?"
   ]
  },
  {
   "cell_type": "code",
   "execution_count": 18,
   "metadata": {
    "execution": {
     "iopub.execute_input": "2025-01-16T09:52:14.742737Z",
     "iopub.status.busy": "2025-01-16T09:52:14.742611Z",
     "iopub.status.idle": "2025-01-16T09:52:14.744283Z",
     "shell.execute_reply": "2025-01-16T09:52:14.744022Z"
    },
    "slideshow": {
     "slide_type": "skip"
    }
   },
   "outputs": [],
   "source": [
    "from Coverage import population_coverage"
   ]
  },
  {
   "cell_type": "code",
   "execution_count": 19,
   "metadata": {
    "execution": {
     "iopub.execute_input": "2025-01-16T09:52:14.745950Z",
     "iopub.status.busy": "2025-01-16T09:52:14.745844Z",
     "iopub.status.idle": "2025-01-16T09:52:14.747553Z",
     "shell.execute_reply": "2025-01-16T09:52:14.747281Z"
    },
    "slideshow": {
     "slide_type": "skip"
    }
   },
   "outputs": [],
   "source": [
    "import matplotlib.pyplot as plt  # type: ignore"
   ]
  },
  {
   "cell_type": "code",
   "execution_count": 20,
   "metadata": {
    "execution": {
     "iopub.execute_input": "2025-01-16T09:52:14.749201Z",
     "iopub.status.busy": "2025-01-16T09:52:14.749076Z",
     "iopub.status.idle": "2025-01-16T09:52:17.483766Z",
     "shell.execute_reply": "2025-01-16T09:52:17.483475Z"
    },
    "slideshow": {
     "slide_type": "fragment"
    }
   },
   "outputs": [
    {
     "data": {
      "image/png": "[encoded data removed]",
      "text/plain": [
       "<Figure size 640x480 with 1 Axes>"
      ]
     },
     "metadata": {},
     "output_type": "display_data"
    }
   ],
   "source": [
    "_, dict_cov = population_coverage(dict_fuzzer.inputs, my_parser)\n",
    "_, fuzz_cov = population_coverage(fuzzer.inputs, my_parser)\n",
    "line_dict, = plt.plot(dict_cov, label=\"With Dictionary\")\n",
    "line_fuzz, = plt.plot(fuzz_cov, label=\"Without Dictionary\")\n",
    "plt.legend(handles=[line_dict, line_fuzz])\n",
    "plt.xlim(0, n)\n",
    "plt.title('Coverage over time')\n",
    "plt.xlabel('# of inputs')\n",
    "plt.ylabel('lines covered');"
   ]
  },
  {
   "cell_type": "markdown",
   "metadata": {
    "slideshow": {
     "slide_type": "subslide"
    }
   },
   "source": [
    "<!-- \\todo{Andreas: Section on mining keywords using parser-directed fuzzing or AUTOGRAM?} -->\n",
    "\n",
    "***Summary.*** Informing the fuzzer about important keywords already goes a long way towards achieving lots of coverage quickly.\n",
    "\n",
    "***Try it.*** Open this chapter as Jupyter notebook and add other HTML-related keywords to the dictionary in order to see whether the difference in coverage actually increases (given the same budget of 5k generated test inputs).\n",
    "\n",
    "***Read up.*** Michał Zalewski, author of AFL, wrote several great blog posts on [making up grammars with a dictionary in hand](https://lcamtuf.blogspot.com/2015/01/afl-fuzz-making-up-grammar-with.html) and [pulling JPEGs out of thin air](https://lcamtuf.blogspot.com/2014/11/pulling-jpegs-out-of-thin-air.html)!"
   ]
  },
  {
   "cell_type": "markdown",
   "metadata": {
    "slideshow": {
     "slide_type": "slide"
    },
    "tags": [],
    "toc-hr-collapsed": false
   },
   "source": [
    "## Fuzzing with Input Fragments\n",
    "\n",
    "While dictionaries are helpful to inject important keywords into seed inputs, they do not allow maintaining the structural integrity of the generated inputs. Instead, we need to make the fuzzer aware of the _input structure_. We can do this using [grammars](Grammars.ipynb). Our first approach \n",
    "\n",
    "1. [parses](Parser.ipynb) the seed inputs, \n",
    "2. disassembles them into input fragments, and \n",
    "3. generates new files by reassembling these fragments according to the rules of the grammar."
   ]
  },
  {
   "cell_type": "markdown",
   "metadata": {
    "slideshow": {
     "slide_type": "subslide"
    }
   },
   "source": [
    "This combination of _parsing_ and _fuzzing_ can be very powerful. For instance, we can _swap_ existing substructures in an input:\n",
    "\n",
    "<img src=\"PICS/GreyboxGrammarFuzzer-Swap.gif\">"
   ]
  },
  {
   "cell_type": "markdown",
   "metadata": {
    "slideshow": {
     "slide_type": "fragment"
    }
   },
   "source": [
    "We can also _replace_ existing substructures by newly generated ones:\n",
    "\n",
    "<img src=\"PICS/GreyboxGrammarFuzzer-Gen.gif\">"
   ]
  },
  {
   "cell_type": "markdown",
   "metadata": {
    "slideshow": {
     "slide_type": "fragment"
    }
   },
   "source": [
    "All these operations take place on [derivation trees](GrammarFuzzer.ipynb), which can be parsed from and produced into strings at any time."
   ]
  },
  {
   "cell_type": "markdown",
   "metadata": {
    "slideshow": {
     "slide_type": "subslide"
    }
   },
   "source": [
    "### Parsing and Recombining JavaScript, or How to Make 50,000 USD in Four Weeks\n",
    "\n",
    "In \"Fuzzing with Code Fragments\" \\cite{Holler2012}, Holler, Herzig, and Zeller apply these steps to fuzz a JavaScript interpreter.  They use a JavaScript grammar to\n",
    "\n",
    "1. _parse_ (valid) JavaScript inputs into parse trees,\n",
    "2. _disassemble_ them into fragments (subtrees),\n",
    "3. _recombine_ these fragments into valid JavaScript programs again, and\n",
    "4. _feed_ these programs into a JavaScript interpreter for execution."
   ]
  },
  {
   "cell_type": "markdown",
   "metadata": {
    "slideshow": {
     "slide_type": "subslide"
    }
   },
   "source": [
    "As in most fuzzing scenarios, the aim is to cause the JavaScript interpreter to crash.  Here is an example of LangFuzz-generated JavaScript code (from \\cite{Holler2012}) that caused a crash in the Mozilla JavaScript interpreter:\n",
    "\n",
    "```javascript\n",
    "var haystack = \"foo\";\n",
    "var re_text = \"^foo\";\n",
    "haystack += \"x\";\n",
    "re_text += \"(x)\";\n",
    "var re = new RegExp(re_text);\n",
    "re.test(haystack);\n",
    "RegExp.input = Number();\n",
    "print(RegExp.$1);\n",
    "```"
   ]
  },
  {
   "cell_type": "markdown",
   "metadata": {
    "slideshow": {
     "slide_type": "subslide"
    }
   },
   "source": [
    "From a crash of the JavaScript interpreter, it is frequently possible to construct an *exploit* that will not only crash the interpreter, but instead have it execute code under the attacker's control.  Therefore, such crashes are serious flaws, which is why you get a bug bounty if you report them."
   ]
  },
  {
   "cell_type": "markdown",
   "metadata": {
    "slideshow": {
     "slide_type": "subslide"
    }
   },
   "source": [
    "In the first four weeks of running his _LangFuzz_ tool, Christian Holler, first author of that paper, netted _more than USD 50,000 in bug bounties_.  To date, LangFuzz has found more than 2,600 bugs in the JavaScript browsers of Mozilla Firefox, Google Chrome, and Microsoft Edge.  If you use any of these browsers (say, on your Android phone), the combination of parsing and fuzzing has contributed significantly in making your browsing session secure.\n",
    "\n",
    "(Note that these are the same Holler and Zeller who are co-authors of this book.  If you ever wondered why we devote a couple of chapters on grammar-based fuzzing, that's because we have had some great experience with it.)"
   ]
  },
  {
   "attachments": {},
   "cell_type": "markdown",
   "metadata": {
    "slideshow": {
     "slide_type": "subslide"
    }
   },
   "source": [
    "### Parsing and Recombining HTML\n",
    "\n",
    "In this book, let us stay with HTML input for a while.  To generate valid HTML inputs for our Python `HTMLParser`, we should first define a simple grammar. It allows defining HTML tags with attributes. Our context-free grammar does not require that opening and closing tags must match. However, we will see that such context-sensitive features can be maintained in the derived input fragments, and thus in the generated inputs."
   ]
  },
  {
   "cell_type": "code",
   "execution_count": 21,
   "metadata": {
    "execution": {
     "iopub.execute_input": "2025-01-16T09:52:17.485707Z",
     "iopub.status.busy": "2025-01-16T09:52:17.485588Z",
     "iopub.status.idle": "2025-01-16T09:52:17.487260Z",
     "shell.execute_reply": "2025-01-16T09:52:17.487015Z"
    },
    "slideshow": {
     "slide_type": "skip"
    }
   },
   "outputs": [],
   "source": [
    "import string"
   ]
  },
  {
   "cell_type": "code",
   "execution_count": 22,
   "metadata": {
    "execution": {
     "iopub.execute_input": "2025-01-16T09:52:17.488791Z",
     "iopub.status.busy": "2025-01-16T09:52:17.488696Z",
     "iopub.status.idle": "2025-01-16T09:52:17.541556Z",
     "shell.execute_reply": "2025-01-16T09:52:17.541270Z"
    },
    "slideshow": {
     "slide_type": "skip"
    }
   },
   "outputs": [],
   "source": [
    "from Grammars import is_valid_grammar, srange, Grammar"
   ]
  },
  {
   "cell_type": "code",
   "execution_count": 23,
   "metadata": {
    "execution": {
     "iopub.execute_input": "2025-01-16T09:52:17.543411Z",
     "iopub.status.busy": "2025-01-16T09:52:17.543296Z",
     "iopub.status.idle": "2025-01-16T09:52:17.544992Z",
     "shell.execute_reply": "2025-01-16T09:52:17.544751Z"
    },
    "slideshow": {
     "slide_type": "fragment"
    }
   },
   "outputs": [],
   "source": [
    "XML_TOKENS: Set[str] = {\"<id>\", \"<text>\"}"
   ]
  },
  {
   "cell_type": "code",
   "execution_count": 24,
   "metadata": {
    "execution": {
     "iopub.execute_input": "2025-01-16T09:52:17.546474Z",
     "iopub.status.busy": "2025-01-16T09:52:17.546368Z",
     "iopub.status.idle": "2025-01-16T09:52:17.548462Z",
     "shell.execute_reply": "2025-01-16T09:52:17.548244Z"
    },
    "slideshow": {
     "slide_type": "subslide"
    }
   },
   "outputs": [],
   "source": [
    "XML_GRAMMAR: Grammar = {\n",
    "    \"<start>\": [\"<xml-tree>\"],\n",
    "    \"<xml-tree>\": [\"<text>\",\n",
    "                   \"<xml-open-tag><xml-tree><xml-close-tag>\",\n",
    "                   \"<xml-openclose-tag>\",\n",
    "                   \"<xml-tree><xml-tree>\"],\n",
    "    \"<xml-open-tag>\":      [\"<<id>>\", \"<<id> <xml-attribute>>\"],\n",
    "    \"<xml-openclose-tag>\": [\"<<id>/>\", \"<<id> <xml-attribute>/>\"],\n",
    "    \"<xml-close-tag>\":     [\"</<id>>\"],\n",
    "    \"<xml-attribute>\":     [\"<id>=<id>\", \"<xml-attribute> <xml-attribute>\"],\n",
    "    \"<id>\":                [\"<letter>\", \"<id><letter>\"],\n",
    "    \"<text>\":              [\"<text><letter_space>\", \"<letter_space>\"],\n",
    "    \"<letter>\":            srange(string.ascii_letters + string.digits +\n",
    "                                  \"\\\"\" + \"'\" + \".\"),\n",
    "    \"<letter_space>\":      srange(string.ascii_letters + string.digits +\n",
    "                                  \"\\\"\" + \"'\" + \" \" + \"\\t\"),\n",
    "}"
   ]
  },
  {
   "cell_type": "code",
   "execution_count": 25,
   "metadata": {
    "execution": {
     "iopub.execute_input": "2025-01-16T09:52:17.549977Z",
     "iopub.status.busy": "2025-01-16T09:52:17.549879Z",
     "iopub.status.idle": "2025-01-16T09:52:17.551500Z",
     "shell.execute_reply": "2025-01-16T09:52:17.551273Z"
    },
    "slideshow": {
     "slide_type": "subslide"
    }
   },
   "outputs": [],
   "source": [
    "assert is_valid_grammar(XML_GRAMMAR)"
   ]
  },
  {
   "cell_type": "markdown",
   "metadata": {
    "slideshow": {
     "slide_type": "fragment"
    }
   },
   "source": [
    "In order to parse an input into a derivation tree, we use the [Earley parser](Parser.ipynb#Parsing-Context-Free-Grammars)."
   ]
  },
  {
   "cell_type": "code",
   "execution_count": 26,
   "metadata": {
    "execution": {
     "iopub.execute_input": "2025-01-16T09:52:17.552919Z",
     "iopub.status.busy": "2025-01-16T09:52:17.552835Z",
     "iopub.status.idle": "2025-01-16T09:52:17.614565Z",
     "shell.execute_reply": "2025-01-16T09:52:17.614265Z"
    },
    "slideshow": {
     "slide_type": "skip"
    }
   },
   "outputs": [],
   "source": [
    "from Parser import EarleyParser, Parser\n",
    "from GrammarFuzzer import display_tree, DerivationTree"
   ]
  },
  {
   "cell_type": "markdown",
   "metadata": {
    "slideshow": {
     "slide_type": "fragment"
    }
   },
   "source": [
    "Let's run the parser on a simple HTML input and display all possible parse trees. A *parse tree* represents the input structure according to the given grammar."
   ]
  },
  {
   "cell_type": "code",
   "execution_count": 27,
   "metadata": {
    "execution": {
     "iopub.execute_input": "2025-01-16T09:52:17.616673Z",
     "iopub.status.busy": "2025-01-16T09:52:17.616553Z",
     "iopub.status.idle": "2025-01-16T09:52:17.618418Z",
     "shell.execute_reply": "2025-01-16T09:52:17.618133Z"
    },
    "slideshow": {
     "slide_type": "skip"
    }
   },
   "outputs": [],
   "source": [
    "from IPython.display import display"
   ]
  },
  {
   "cell_type": "code",
   "execution_count": 28,
   "metadata": {
    "execution": {
     "iopub.execute_input": "2025-01-16T09:52:17.620107Z",
     "iopub.status.busy": "2025-01-16T09:52:17.619992Z",
     "iopub.status.idle": "2025-01-16T09:52:23.971058Z",
     "shell.execute_reply": "2025-01-16T09:52:23.970662Z"
    },
    "slideshow": {
     "slide_type": "subslide"
    }
   },
   "outputs": [
    {
     "data": {
      "image/svg+xml": [
       "<?xml version=\"1.0\" encoding=\"UTF-8\" standalone=\"no\"?>\n",
       "<!DOCTYPE svg PUBLIC \"-//W3C//DTD SVG 1.1//EN\"\n",
       " \"http://www.w3.org/Graphics/SVG/1.1/DTD/svg11.dtd\">\n",
       "<!-- Generated by graphviz version 12.2.1 (20241206.2353)\n",
       " -->\n",
       "<!-- Pages: 1 -->\n",
       "<svg width=\"337pt\" height=\"223pt\"\n",
       " viewBox=\"0.00 0.00 336.50 223.25\" xmlns=\"http://www.w3.org/2000/svg\" xmlns:xlink=\"http://www.w3.org/1999/xlink\">\n",
       "<g id=\"graph0\" class=\"graph\" transform=\"scale(1 1) rotate(0) translate(4 219.25)\">\n",
       "<polygon fill=\"white\" stroke=\"none\" points=\"-4,4 -4,-219.25 332.5,-219.25 332.5,4 -4,4\"/>\n",
       "<!-- 0 -->\n",
       "<g id=\"node1\" class=\"node\">\n",
       "<title>0</title>\n",
       "<text text-anchor=\"middle\" x=\"167.25\" y=\"-201.95\" font-family=\"Times,serif\" font-size=\"14.00\">&lt;start&gt;</text>\n",
       "</g>\n",
       "<!-- 1 -->\n",
       "<g id=\"node2\" class=\"node\">\n",
       "<title>1</title>\n",
       "<text text-anchor=\"middle\" x=\"167.25\" y=\"-151.7\" font-family=\"Times,serif\" font-size=\"14.00\">&lt;xml&#45;tree&gt;</text>\n",
       "</g>\n",
       "<!-- 0&#45;&gt;1 -->\n",
       "<g id=\"edge1\" class=\"edge\">\n",
       "<title>0&#45;&gt;1</title>\n",
       "<path fill=\"none\" stroke=\"black\" d=\"M167.25,-201.21C167.25,-194.99 167.25,-184.9 167.25,-176.14\"/>\n",
       "<polygon fill=\"black\" stroke=\"black\" points=\"170.75,-176.35 167.25,-166.35 163.75,-176.35 170.75,-176.35\"/>\n",
       "</g>\n",
       "<!-- 2 -->\n",
       "<g id=\"node3\" class=\"node\">\n",
       "<title>2</title>\n",
       "<text text-anchor=\"middle\" x=\"70.25\" y=\"-101.45\" font-family=\"Times,serif\" font-size=\"14.00\">&lt;xml&#45;open&#45;tag&gt;</text>\n",
       "</g>\n",
       "<!-- 1&#45;&gt;2 -->\n",
       "<g id=\"edge2\" class=\"edge\">\n",
       "<title>1&#45;&gt;2</title>\n",
       "<path fill=\"none\" stroke=\"black\" d=\"M154.96,-150.76C139.29,-142.97 111.91,-129.35 92.52,-119.7\"/>\n",
       "<polygon fill=\"black\" stroke=\"black\" points=\"94.3,-116.68 83.79,-115.36 91.19,-122.95 94.3,-116.68\"/>\n",
       "</g>\n",
       "<!-- 7 -->\n",
       "<g id=\"node8\" class=\"node\">\n",
       "<title>7</title>\n",
       "<text text-anchor=\"middle\" x=\"167.25\" y=\"-101.45\" font-family=\"Times,serif\" font-size=\"14.00\">&lt;xml&#45;tree&gt;</text>\n",
       "</g>\n",
       "<!-- 1&#45;&gt;7 -->\n",
       "<g id=\"edge7\" class=\"edge\">\n",
       "<title>1&#45;&gt;7</title>\n",
       "<path fill=\"none\" stroke=\"black\" d=\"M167.25,-150.96C167.25,-144.74 167.25,-134.65 167.25,-125.89\"/>\n",
       "<polygon fill=\"black\" stroke=\"black\" points=\"170.75,-126.1 167.25,-116.1 163.75,-126.1 170.75,-126.1\"/>\n",
       "</g>\n",
       "<!-- 10 -->\n",
       "<g id=\"node11\" class=\"node\">\n",
       "<title>10</title>\n",
       "<text text-anchor=\"middle\" x=\"262.25\" y=\"-101.45\" font-family=\"Times,serif\" font-size=\"14.00\">&lt;xml&#45;close&#45;tag&gt;</text>\n",
       "</g>\n",
       "<!-- 1&#45;&gt;10 -->\n",
       "<g id=\"edge10\" class=\"edge\">\n",
       "<title>1&#45;&gt;10</title>\n",
       "<path fill=\"none\" stroke=\"black\" d=\"M179.28,-150.76C194.56,-143.01 221.2,-129.47 240.18,-119.84\"/>\n",
       "<polygon fill=\"black\" stroke=\"black\" points=\"241.64,-123.02 248.97,-115.37 238.47,-116.78 241.64,-123.02\"/>\n",
       "</g>\n",
       "<!-- 3 -->\n",
       "<g id=\"node4\" class=\"node\">\n",
       "<title>3</title>\n",
       "<text text-anchor=\"middle\" x=\"17.25\" y=\"-51.2\" font-family=\"Times,serif\" font-size=\"14.00\">&lt; (60)</text>\n",
       "</g>\n",
       "<!-- 2&#45;&gt;3 -->\n",
       "<g id=\"edge3\" class=\"edge\">\n",
       "<title>2&#45;&gt;3</title>\n",
       "<path fill=\"none\" stroke=\"black\" d=\"M63.75,-100.71C55.96,-93.62 42.66,-81.51 32.28,-72.06\"/>\n",
       "<polygon fill=\"black\" stroke=\"black\" points=\"34.67,-69.5 24.92,-65.36 29.96,-74.68 34.67,-69.5\"/>\n",
       "</g>\n",
       "<!-- 4 -->\n",
       "<g id=\"node5\" class=\"node\">\n",
       "<title>4</title>\n",
       "<text text-anchor=\"middle\" x=\"66.25\" y=\"-51.2\" font-family=\"Times,serif\" font-size=\"14.00\">&lt;id&gt;</text>\n",
       "</g>\n",
       "<!-- 2&#45;&gt;4 -->\n",
       "<g id=\"edge4\" class=\"edge\">\n",
       "<title>2&#45;&gt;4</title>\n",
       "<path fill=\"none\" stroke=\"black\" d=\"M69.76,-100.71C69.24,-94.49 68.41,-84.4 67.68,-75.64\"/>\n",
       "<polygon fill=\"black\" stroke=\"black\" points=\"71.18,-75.52 66.87,-65.85 64.21,-76.1 71.18,-75.52\"/>\n",
       "</g>\n",
       "<!-- 6 -->\n",
       "<g id=\"node7\" class=\"node\">\n",
       "<title>6</title>\n",
       "<text text-anchor=\"middle\" x=\"115.25\" y=\"-51.2\" font-family=\"Times,serif\" font-size=\"14.00\">&gt; (62)</text>\n",
       "</g>\n",
       "<!-- 2&#45;&gt;6 -->\n",
       "<g id=\"edge6\" class=\"edge\">\n",
       "<title>2&#45;&gt;6</title>\n",
       "<path fill=\"none\" stroke=\"black\" d=\"M75.77,-100.71C82.25,-93.76 93.21,-82 101.95,-72.64\"/>\n",
       "<polygon fill=\"black\" stroke=\"black\" points=\"104.39,-75.15 108.65,-65.45 99.27,-70.37 104.39,-75.15\"/>\n",
       "</g>\n",
       "<!-- 5 -->\n",
       "<g id=\"node6\" class=\"node\">\n",
       "<title>5</title>\n",
       "<text text-anchor=\"middle\" x=\"66.25\" y=\"-0.95\" font-family=\"Times,serif\" font-size=\"14.00\">html</text>\n",
       "</g>\n",
       "<!-- 4&#45;&gt;5 -->\n",
       "<g id=\"edge5\" class=\"edge\">\n",
       "<title>4&#45;&gt;5</title>\n",
       "<path fill=\"none\" stroke=\"black\" d=\"M66.25,-50.46C66.25,-44.24 66.25,-34.15 66.25,-25.39\"/>\n",
       "<polygon fill=\"black\" stroke=\"black\" points=\"69.75,-25.6 66.25,-15.6 62.75,-25.6 69.75,-25.6\"/>\n",
       "</g>\n",
       "<!-- 8 -->\n",
       "<g id=\"node9\" class=\"node\">\n",
       "<title>8</title>\n",
       "<text text-anchor=\"middle\" x=\"169.25\" y=\"-51.2\" font-family=\"Times,serif\" font-size=\"14.00\">&lt;text&gt;</text>\n",
       "</g>\n",
       "<!-- 7&#45;&gt;8 -->\n",
       "<g id=\"edge8\" class=\"edge\">\n",
       "<title>7&#45;&gt;8</title>\n",
       "<path fill=\"none\" stroke=\"black\" d=\"M167.5,-100.71C167.75,-94.49 168.17,-84.4 168.53,-75.64\"/>\n",
       "<polygon fill=\"black\" stroke=\"black\" points=\"172.02,-75.99 168.94,-65.85 165.03,-75.7 172.02,-75.99\"/>\n",
       "</g>\n",
       "<!-- 9 -->\n",
       "<g id=\"node10\" class=\"node\">\n",
       "<title>9</title>\n",
       "<text text-anchor=\"middle\" x=\"169.25\" y=\"-0.95\" font-family=\"Times,serif\" font-size=\"14.00\">Text</text>\n",
       "</g>\n",
       "<!-- 8&#45;&gt;9 -->\n",
       "<g id=\"edge9\" class=\"edge\">\n",
       "<title>8&#45;&gt;9</title>\n",
       "<path fill=\"none\" stroke=\"black\" d=\"M169.25,-50.46C169.25,-44.24 169.25,-34.15 169.25,-25.39\"/>\n",
       "<polygon fill=\"black\" stroke=\"black\" points=\"172.75,-25.6 169.25,-15.6 165.75,-25.6 172.75,-25.6\"/>\n",
       "</g>\n",
       "<!-- 11 -->\n",
       "<g id=\"node12\" class=\"node\">\n",
       "<title>11</title>\n",
       "<text text-anchor=\"middle\" x=\"224.25\" y=\"-51.2\" font-family=\"Times,serif\" font-size=\"14.00\">&lt;/</text>\n",
       "</g>\n",
       "<!-- 10&#45;&gt;11 -->\n",
       "<g id=\"edge11\" class=\"edge\">\n",
       "<title>10&#45;&gt;11</title>\n",
       "<path fill=\"none\" stroke=\"black\" d=\"M257.59,-100.71C252.23,-93.91 243.24,-82.49 235.95,-73.23\"/>\n",
       "<polygon fill=\"black\" stroke=\"black\" points=\"238.82,-71.22 229.88,-65.53 233.32,-75.55 238.82,-71.22\"/>\n",
       "</g>\n",
       "<!-- 12 -->\n",
       "<g id=\"node13\" class=\"node\">\n",
       "<title>12</title>\n",
       "<text text-anchor=\"middle\" x=\"262.25\" y=\"-51.2\" font-family=\"Times,serif\" font-size=\"14.00\">&lt;id&gt;</text>\n",
       "</g>\n",
       "<!-- 10&#45;&gt;12 -->\n",
       "<g id=\"edge12\" class=\"edge\">\n",
       "<title>10&#45;&gt;12</title>\n",
       "<path fill=\"none\" stroke=\"black\" d=\"M262.25,-100.71C262.25,-94.49 262.25,-84.4 262.25,-75.64\"/>\n",
       "<polygon fill=\"black\" stroke=\"black\" points=\"265.75,-75.85 262.25,-65.85 258.75,-75.85 265.75,-75.85\"/>\n",
       "</g>\n",
       "<!-- 14 -->\n",
       "<g id=\"node15\" class=\"node\">\n",
       "<title>14</title>\n",
       "<text text-anchor=\"middle\" x=\"311.25\" y=\"-51.2\" font-family=\"Times,serif\" font-size=\"14.00\">&gt; (62)</text>\n",
       "</g>\n",
       "<!-- 10&#45;&gt;14 -->\n",
       "<g id=\"edge14\" class=\"edge\">\n",
       "<title>10&#45;&gt;14</title>\n",
       "<path fill=\"none\" stroke=\"black\" d=\"M268.26,-100.71C275.39,-93.69 287.5,-81.76 297.06,-72.35\"/>\n",
       "<polygon fill=\"black\" stroke=\"black\" points=\"299.44,-74.91 304.11,-65.4 294.53,-69.92 299.44,-74.91\"/>\n",
       "</g>\n",
       "<!-- 13 -->\n",
       "<g id=\"node14\" class=\"node\">\n",
       "<title>13</title>\n",
       "<text text-anchor=\"middle\" x=\"262.25\" y=\"-0.95\" font-family=\"Times,serif\" font-size=\"14.00\">html</text>\n",
       "</g>\n",
       "<!-- 12&#45;&gt;13 -->\n",
       "<g id=\"edge13\" class=\"edge\">\n",
       "<title>12&#45;&gt;13</title>\n",
       "<path fill=\"none\" stroke=\"black\" d=\"M262.25,-50.46C262.25,-44.24 262.25,-34.15 262.25,-25.39\"/>\n",
       "<polygon fill=\"black\" stroke=\"black\" points=\"265.75,-25.6 262.25,-15.6 258.75,-25.6 265.75,-25.6\"/>\n",
       "</g>\n",
       "</g>\n",
       "</svg>\n"
      ],
      "text/plain": [
       "<graphviz.graphs.Digraph at 0x10a25bce0>"
      ]
     },
     "metadata": {},
     "output_type": "display_data"
    },
    {
     "data": {
      "image/svg+xml": [
       "<?xml version=\"1.0\" encoding=\"UTF-8\" standalone=\"no\"?>\n",
       "<!DOCTYPE svg PUBLIC \"-//W3C//DTD SVG 1.1//EN\"\n",
       " \"http://www.w3.org/Graphics/SVG/1.1/DTD/svg11.dtd\">\n",
       "<!-- Generated by graphviz version 12.2.1 (20241206.2353)\n",
       " -->\n",
       "<!-- Pages: 1 -->\n",
       "<svg width=\"432pt\" height=\"274pt\"\n",
       " viewBox=\"0.00 0.00 431.50 273.50\" xmlns=\"http://www.w3.org/2000/svg\" xmlns:xlink=\"http://www.w3.org/1999/xlink\">\n",
       "<g id=\"graph0\" class=\"graph\" transform=\"scale(1 1) rotate(0) translate(4 269.5)\">\n",
       "<polygon fill=\"white\" stroke=\"none\" points=\"-4,4 -4,-269.5 427.5,-269.5 427.5,4 -4,4\"/>\n",
       "<!-- 0 -->\n",
       "<g id=\"node1\" class=\"node\">\n",
       "<title>0</title>\n",
       "<text text-anchor=\"middle\" x=\"201.25\" y=\"-252.2\" font-family=\"Times,serif\" font-size=\"14.00\">&lt;start&gt;</text>\n",
       "</g>\n",
       "<!-- 1 -->\n",
       "<g id=\"node2\" class=\"node\">\n",
       "<title>1</title>\n",
       "<text text-anchor=\"middle\" x=\"201.25\" y=\"-201.95\" font-family=\"Times,serif\" font-size=\"14.00\">&lt;xml&#45;tree&gt;</text>\n",
       "</g>\n",
       "<!-- 0&#45;&gt;1 -->\n",
       "<g id=\"edge1\" class=\"edge\">\n",
       "<title>0&#45;&gt;1</title>\n",
       "<path fill=\"none\" stroke=\"black\" d=\"M201.25,-251.46C201.25,-245.24 201.25,-235.15 201.25,-226.39\"/>\n",
       "<polygon fill=\"black\" stroke=\"black\" points=\"204.75,-226.6 201.25,-216.6 197.75,-226.6 204.75,-226.6\"/>\n",
       "</g>\n",
       "<!-- 2 -->\n",
       "<g id=\"node3\" class=\"node\">\n",
       "<title>2</title>\n",
       "<text text-anchor=\"middle\" x=\"96.25\" y=\"-151.7\" font-family=\"Times,serif\" font-size=\"14.00\">&lt;xml&#45;open&#45;tag&gt;</text>\n",
       "</g>\n",
       "<!-- 1&#45;&gt;2 -->\n",
       "<g id=\"edge2\" class=\"edge\">\n",
       "<title>1&#45;&gt;2</title>\n",
       "<path fill=\"none\" stroke=\"black\" d=\"M187.95,-201.01C170.83,-193.15 140.79,-179.34 119.77,-169.68\"/>\n",
       "<polygon fill=\"black\" stroke=\"black\" points=\"121.36,-166.56 110.82,-165.57 118.44,-172.92 121.36,-166.56\"/>\n",
       "</g>\n",
       "<!-- 7 -->\n",
       "<g id=\"node8\" class=\"node\">\n",
       "<title>7</title>\n",
       "<text text-anchor=\"middle\" x=\"201.25\" y=\"-151.7\" font-family=\"Times,serif\" font-size=\"14.00\">&lt;xml&#45;tree&gt;</text>\n",
       "</g>\n",
       "<!-- 1&#45;&gt;7 -->\n",
       "<g id=\"edge7\" class=\"edge\">\n",
       "<title>1&#45;&gt;7</title>\n",
       "<path fill=\"none\" stroke=\"black\" d=\"M201.25,-201.21C201.25,-194.99 201.25,-184.9 201.25,-176.14\"/>\n",
       "<polygon fill=\"black\" stroke=\"black\" points=\"204.75,-176.35 201.25,-166.35 197.75,-176.35 204.75,-176.35\"/>\n",
       "</g>\n",
       "<!-- 14 -->\n",
       "<g id=\"node15\" class=\"node\">\n",
       "<title>14</title>\n",
       "<text text-anchor=\"middle\" x=\"338.25\" y=\"-151.7\" font-family=\"Times,serif\" font-size=\"14.00\">&lt;xml&#45;close&#45;tag&gt;</text>\n",
       "</g>\n",
       "<!-- 1&#45;&gt;14 -->\n",
       "<g id=\"edge14\" class=\"edge\">\n",
       "<title>1&#45;&gt;14</title>\n",
       "<path fill=\"none\" stroke=\"black\" d=\"M218.6,-201.01C241.76,-192.86 283.05,-178.32 310.54,-168.63\"/>\n",
       "<polygon fill=\"black\" stroke=\"black\" points=\"311.34,-172.06 319.61,-165.44 309.02,-165.46 311.34,-172.06\"/>\n",
       "</g>\n",
       "<!-- 3 -->\n",
       "<g id=\"node4\" class=\"node\">\n",
       "<title>3</title>\n",
       "<text text-anchor=\"middle\" x=\"17.25\" y=\"-101.45\" font-family=\"Times,serif\" font-size=\"14.00\">&lt; (60)</text>\n",
       "</g>\n",
       "<!-- 2&#45;&gt;3 -->\n",
       "<g id=\"edge3\" class=\"edge\">\n",
       "<title>2&#45;&gt;3</title>\n",
       "<path fill=\"none\" stroke=\"black\" d=\"M86.24,-150.76C73.9,-143.22 52.62,-130.23 36.95,-120.66\"/>\n",
       "<polygon fill=\"black\" stroke=\"black\" points=\"38.82,-117.7 28.47,-115.48 35.18,-123.67 38.82,-117.7\"/>\n",
       "</g>\n",
       "<!-- 4 -->\n",
       "<g id=\"node5\" class=\"node\">\n",
       "<title>4</title>\n",
       "<text text-anchor=\"middle\" x=\"66.25\" y=\"-101.45\" font-family=\"Times,serif\" font-size=\"14.00\">&lt;id&gt;</text>\n",
       "</g>\n",
       "<!-- 2&#45;&gt;4 -->\n",
       "<g id=\"edge4\" class=\"edge\">\n",
       "<title>2&#45;&gt;4</title>\n",
       "<path fill=\"none\" stroke=\"black\" d=\"M92.57,-150.96C88.43,-144.3 81.55,-133.23 75.85,-124.07\"/>\n",
       "<polygon fill=\"black\" stroke=\"black\" points=\"79.01,-122.52 70.76,-115.88 73.07,-126.22 79.01,-122.52\"/>\n",
       "</g>\n",
       "<!-- 6 -->\n",
       "<g id=\"node7\" class=\"node\">\n",
       "<title>6</title>\n",
       "<text text-anchor=\"middle\" x=\"115.25\" y=\"-101.45\" font-family=\"Times,serif\" font-size=\"14.00\">&gt; (62)</text>\n",
       "</g>\n",
       "<!-- 2&#45;&gt;6 -->\n",
       "<g id=\"edge6\" class=\"edge\">\n",
       "<title>2&#45;&gt;6</title>\n",
       "<path fill=\"none\" stroke=\"black\" d=\"M98.58,-150.96C101.09,-144.59 105.19,-134.18 108.69,-125.28\"/>\n",
       "<polygon fill=\"black\" stroke=\"black\" points=\"111.94,-126.59 112.35,-116 105.43,-124.02 111.94,-126.59\"/>\n",
       "</g>\n",
       "<!-- 5 -->\n",
       "<g id=\"node6\" class=\"node\">\n",
       "<title>5</title>\n",
       "<text text-anchor=\"middle\" x=\"66.25\" y=\"-51.2\" font-family=\"Times,serif\" font-size=\"14.00\">html</text>\n",
       "</g>\n",
       "<!-- 4&#45;&gt;5 -->\n",
       "<g id=\"edge5\" class=\"edge\">\n",
       "<title>4&#45;&gt;5</title>\n",
       "<path fill=\"none\" stroke=\"black\" d=\"M66.25,-100.71C66.25,-94.49 66.25,-84.4 66.25,-75.64\"/>\n",
       "<polygon fill=\"black\" stroke=\"black\" points=\"69.75,-75.85 66.25,-65.85 62.75,-75.85 69.75,-75.85\"/>\n",
       "</g>\n",
       "<!-- 8 -->\n",
       "<g id=\"node9\" class=\"node\">\n",
       "<title>8</title>\n",
       "<text text-anchor=\"middle\" x=\"182.25\" y=\"-101.45\" font-family=\"Times,serif\" font-size=\"14.00\">&lt;xml&#45;tree&gt;</text>\n",
       "</g>\n",
       "<!-- 7&#45;&gt;8 -->\n",
       "<g id=\"edge8\" class=\"edge\">\n",
       "<title>7&#45;&gt;8</title>\n",
       "<path fill=\"none\" stroke=\"black\" d=\"M198.92,-150.96C196.41,-144.59 192.31,-134.18 188.81,-125.28\"/>\n",
       "<polygon fill=\"black\" stroke=\"black\" points=\"192.07,-124.02 185.15,-116 185.56,-126.59 192.07,-124.02\"/>\n",
       "</g>\n",
       "<!-- 11 -->\n",
       "<g id=\"node12\" class=\"node\">\n",
       "<title>11</title>\n",
       "<text text-anchor=\"middle\" x=\"263.25\" y=\"-101.45\" font-family=\"Times,serif\" font-size=\"14.00\">&lt;xml&#45;tree&gt;</text>\n",
       "</g>\n",
       "<!-- 7&#45;&gt;11 -->\n",
       "<g id=\"edge11\" class=\"edge\">\n",
       "<title>7&#45;&gt;11</title>\n",
       "<path fill=\"none\" stroke=\"black\" d=\"M209.1,-150.76C218.56,-143.4 234.71,-130.84 246.92,-121.34\"/>\n",
       "<polygon fill=\"black\" stroke=\"black\" points=\"248.72,-124.37 254.46,-115.46 244.42,-118.84 248.72,-124.37\"/>\n",
       "</g>\n",
       "<!-- 9 -->\n",
       "<g id=\"node10\" class=\"node\">\n",
       "<title>9</title>\n",
       "<text text-anchor=\"middle\" x=\"182.25\" y=\"-51.2\" font-family=\"Times,serif\" font-size=\"14.00\">&lt;text&gt;</text>\n",
       "</g>\n",
       "<!-- 8&#45;&gt;9 -->\n",
       "<g id=\"edge9\" class=\"edge\">\n",
       "<title>8&#45;&gt;9</title>\n",
       "<path fill=\"none\" stroke=\"black\" d=\"M182.25,-100.71C182.25,-94.49 182.25,-84.4 182.25,-75.64\"/>\n",
       "<polygon fill=\"black\" stroke=\"black\" points=\"185.75,-75.85 182.25,-65.85 178.75,-75.85 185.75,-75.85\"/>\n",
       "</g>\n",
       "<!-- 10 -->\n",
       "<g id=\"node11\" class=\"node\">\n",
       "<title>10</title>\n",
       "<text text-anchor=\"middle\" x=\"182.25\" y=\"-0.95\" font-family=\"Times,serif\" font-size=\"14.00\">T (84)</text>\n",
       "</g>\n",
       "<!-- 9&#45;&gt;10 -->\n",
       "<g id=\"edge10\" class=\"edge\">\n",
       "<title>9&#45;&gt;10</title>\n",
       "<path fill=\"none\" stroke=\"black\" d=\"M182.25,-50.46C182.25,-44.24 182.25,-34.15 182.25,-25.39\"/>\n",
       "<polygon fill=\"black\" stroke=\"black\" points=\"185.75,-25.6 182.25,-15.6 178.75,-25.6 185.75,-25.6\"/>\n",
       "</g>\n",
       "<!-- 12 -->\n",
       "<g id=\"node13\" class=\"node\">\n",
       "<title>12</title>\n",
       "<text text-anchor=\"middle\" x=\"263.25\" y=\"-51.2\" font-family=\"Times,serif\" font-size=\"14.00\">&lt;text&gt;</text>\n",
       "</g>\n",
       "<!-- 11&#45;&gt;12 -->\n",
       "<g id=\"edge12\" class=\"edge\">\n",
       "<title>11&#45;&gt;12</title>\n",
       "<path fill=\"none\" stroke=\"black\" d=\"M263.25,-100.71C263.25,-94.49 263.25,-84.4 263.25,-75.64\"/>\n",
       "<polygon fill=\"black\" stroke=\"black\" points=\"266.75,-75.85 263.25,-65.85 259.75,-75.85 266.75,-75.85\"/>\n",
       "</g>\n",
       "<!-- 13 -->\n",
       "<g id=\"node14\" class=\"node\">\n",
       "<title>13</title>\n",
       "<text text-anchor=\"middle\" x=\"263.25\" y=\"-0.95\" font-family=\"Times,serif\" font-size=\"14.00\">ext</text>\n",
       "</g>\n",
       "<!-- 12&#45;&gt;13 -->\n",
       "<g id=\"edge13\" class=\"edge\">\n",
       "<title>12&#45;&gt;13</title>\n",
       "<path fill=\"none\" stroke=\"black\" d=\"M263.25,-50.46C263.25,-44.24 263.25,-34.15 263.25,-25.39\"/>\n",
       "<polygon fill=\"black\" stroke=\"black\" points=\"266.75,-25.6 263.25,-15.6 259.75,-25.6 266.75,-25.6\"/>\n",
       "</g>\n",
       "<!-- 15 -->\n",
       "<g id=\"node16\" class=\"node\">\n",
       "<title>15</title>\n",
       "<text text-anchor=\"middle\" x=\"319.25\" y=\"-101.45\" font-family=\"Times,serif\" font-size=\"14.00\">&lt;/</text>\n",
       "</g>\n",
       "<!-- 14&#45;&gt;15 -->\n",
       "<g id=\"edge15\" class=\"edge\">\n",
       "<title>14&#45;&gt;15</title>\n",
       "<path fill=\"none\" stroke=\"black\" d=\"M335.92,-150.96C333.41,-144.59 329.31,-134.18 325.81,-125.28\"/>\n",
       "<polygon fill=\"black\" stroke=\"black\" points=\"329.07,-124.02 322.15,-116 322.56,-126.59 329.07,-124.02\"/>\n",
       "</g>\n",
       "<!-- 16 -->\n",
       "<g id=\"node17\" class=\"node\">\n",
       "<title>16</title>\n",
       "<text text-anchor=\"middle\" x=\"357.25\" y=\"-101.45\" font-family=\"Times,serif\" font-size=\"14.00\">&lt;id&gt;</text>\n",
       "</g>\n",
       "<!-- 14&#45;&gt;16 -->\n",
       "<g id=\"edge16\" class=\"edge\">\n",
       "<title>14&#45;&gt;16</title>\n",
       "<path fill=\"none\" stroke=\"black\" d=\"M340.58,-150.96C343.09,-144.59 347.19,-134.18 350.69,-125.28\"/>\n",
       "<polygon fill=\"black\" stroke=\"black\" points=\"353.94,-126.59 354.35,-116 347.43,-124.02 353.94,-126.59\"/>\n",
       "</g>\n",
       "<!-- 18 -->\n",
       "<g id=\"node19\" class=\"node\">\n",
       "<title>18</title>\n",
       "<text text-anchor=\"middle\" x=\"406.25\" y=\"-101.45\" font-family=\"Times,serif\" font-size=\"14.00\">&gt; (62)</text>\n",
       "</g>\n",
       "<!-- 14&#45;&gt;18 -->\n",
       "<g id=\"edge18\" class=\"edge\">\n",
       "<title>14&#45;&gt;18</title>\n",
       "<path fill=\"none\" stroke=\"black\" d=\"M346.86,-150.76C357.34,-143.33 375.3,-130.59 388.73,-121.06\"/>\n",
       "<polygon fill=\"black\" stroke=\"black\" points=\"390.56,-124.05 396.69,-115.41 386.51,-118.34 390.56,-124.05\"/>\n",
       "</g>\n",
       "<!-- 17 -->\n",
       "<g id=\"node18\" class=\"node\">\n",
       "<title>17</title>\n",
       "<text text-anchor=\"middle\" x=\"357.25\" y=\"-51.2\" font-family=\"Times,serif\" font-size=\"14.00\">html</text>\n",
       "</g>\n",
       "<!-- 16&#45;&gt;17 -->\n",
       "<g id=\"edge17\" class=\"edge\">\n",
       "<title>16&#45;&gt;17</title>\n",
       "<path fill=\"none\" stroke=\"black\" d=\"M357.25,-100.71C357.25,-94.49 357.25,-84.4 357.25,-75.64\"/>\n",
       "<polygon fill=\"black\" stroke=\"black\" points=\"360.75,-75.85 357.25,-65.85 353.75,-75.85 360.75,-75.85\"/>\n",
       "</g>\n",
       "</g>\n",
       "</svg>\n"
      ],
      "text/plain": [
       "<graphviz.graphs.Digraph at 0x10a09a630>"
      ]
     },
     "metadata": {},
     "output_type": "display_data"
    },
    {
     "data": {
      "image/svg+xml": [
       "<?xml version=\"1.0\" encoding=\"UTF-8\" standalone=\"no\"?>\n",
       "<!DOCTYPE svg PUBLIC \"-//W3C//DTD SVG 1.1//EN\"\n",
       " \"http://www.w3.org/Graphics/SVG/1.1/DTD/svg11.dtd\">\n",
       "<!-- Generated by graphviz version 12.2.1 (20241206.2353)\n",
       " -->\n",
       "<!-- Pages: 1 -->\n",
       "<svg width=\"432pt\" height=\"274pt\"\n",
       " viewBox=\"0.00 0.00 431.50 273.50\" xmlns=\"http://www.w3.org/2000/svg\" xmlns:xlink=\"http://www.w3.org/1999/xlink\">\n",
       "<g id=\"graph0\" class=\"graph\" transform=\"scale(1 1) rotate(0) translate(4 269.5)\">\n",
       "<polygon fill=\"white\" stroke=\"none\" points=\"-4,4 -4,-269.5 427.5,-269.5 427.5,4 -4,4\"/>\n",
       "<!-- 0 -->\n",
       "<g id=\"node1\" class=\"node\">\n",
       "<title>0</title>\n",
       "<text text-anchor=\"middle\" x=\"201.25\" y=\"-252.2\" font-family=\"Times,serif\" font-size=\"14.00\">&lt;start&gt;</text>\n",
       "</g>\n",
       "<!-- 1 -->\n",
       "<g id=\"node2\" class=\"node\">\n",
       "<title>1</title>\n",
       "<text text-anchor=\"middle\" x=\"201.25\" y=\"-201.95\" font-family=\"Times,serif\" font-size=\"14.00\">&lt;xml&#45;tree&gt;</text>\n",
       "</g>\n",
       "<!-- 0&#45;&gt;1 -->\n",
       "<g id=\"edge1\" class=\"edge\">\n",
       "<title>0&#45;&gt;1</title>\n",
       "<path fill=\"none\" stroke=\"black\" d=\"M201.25,-251.46C201.25,-245.24 201.25,-235.15 201.25,-226.39\"/>\n",
       "<polygon fill=\"black\" stroke=\"black\" points=\"204.75,-226.6 201.25,-216.6 197.75,-226.6 204.75,-226.6\"/>\n",
       "</g>\n",
       "<!-- 2 -->\n",
       "<g id=\"node3\" class=\"node\">\n",
       "<title>2</title>\n",
       "<text text-anchor=\"middle\" x=\"96.25\" y=\"-151.7\" font-family=\"Times,serif\" font-size=\"14.00\">&lt;xml&#45;open&#45;tag&gt;</text>\n",
       "</g>\n",
       "<!-- 1&#45;&gt;2 -->\n",
       "<g id=\"edge2\" class=\"edge\">\n",
       "<title>1&#45;&gt;2</title>\n",
       "<path fill=\"none\" stroke=\"black\" d=\"M187.95,-201.01C170.83,-193.15 140.79,-179.34 119.77,-169.68\"/>\n",
       "<polygon fill=\"black\" stroke=\"black\" points=\"121.36,-166.56 110.82,-165.57 118.44,-172.92 121.36,-166.56\"/>\n",
       "</g>\n",
       "<!-- 7 -->\n",
       "<g id=\"node8\" class=\"node\">\n",
       "<title>7</title>\n",
       "<text text-anchor=\"middle\" x=\"201.25\" y=\"-151.7\" font-family=\"Times,serif\" font-size=\"14.00\">&lt;xml&#45;tree&gt;</text>\n",
       "</g>\n",
       "<!-- 1&#45;&gt;7 -->\n",
       "<g id=\"edge7\" class=\"edge\">\n",
       "<title>1&#45;&gt;7</title>\n",
       "<path fill=\"none\" stroke=\"black\" d=\"M201.25,-201.21C201.25,-194.99 201.25,-184.9 201.25,-176.14\"/>\n",
       "<polygon fill=\"black\" stroke=\"black\" points=\"204.75,-176.35 201.25,-166.35 197.75,-176.35 204.75,-176.35\"/>\n",
       "</g>\n",
       "<!-- 14 -->\n",
       "<g id=\"node15\" class=\"node\">\n",
       "<title>14</title>\n",
       "<text text-anchor=\"middle\" x=\"338.25\" y=\"-151.7\" font-family=\"Times,serif\" font-size=\"14.00\">&lt;xml&#45;close&#45;tag&gt;</text>\n",
       "</g>\n",
       "<!-- 1&#45;&gt;14 -->\n",
       "<g id=\"edge14\" class=\"edge\">\n",
       "<title>1&#45;&gt;14</title>\n",
       "<path fill=\"none\" stroke=\"black\" d=\"M218.6,-201.01C241.76,-192.86 283.05,-178.32 310.54,-168.63\"/>\n",
       "<polygon fill=\"black\" stroke=\"black\" points=\"311.34,-172.06 319.61,-165.44 309.02,-165.46 311.34,-172.06\"/>\n",
       "</g>\n",
       "<!-- 3 -->\n",
       "<g id=\"node4\" class=\"node\">\n",
       "<title>3</title>\n",
       "<text text-anchor=\"middle\" x=\"17.25\" y=\"-101.45\" font-family=\"Times,serif\" font-size=\"14.00\">&lt; (60)</text>\n",
       "</g>\n",
       "<!-- 2&#45;&gt;3 -->\n",
       "<g id=\"edge3\" class=\"edge\">\n",
       "<title>2&#45;&gt;3</title>\n",
       "<path fill=\"none\" stroke=\"black\" d=\"M86.24,-150.76C73.9,-143.22 52.62,-130.23 36.95,-120.66\"/>\n",
       "<polygon fill=\"black\" stroke=\"black\" points=\"38.82,-117.7 28.47,-115.48 35.18,-123.67 38.82,-117.7\"/>\n",
       "</g>\n",
       "<!-- 4 -->\n",
       "<g id=\"node5\" class=\"node\">\n",
       "<title>4</title>\n",
       "<text text-anchor=\"middle\" x=\"66.25\" y=\"-101.45\" font-family=\"Times,serif\" font-size=\"14.00\">&lt;id&gt;</text>\n",
       "</g>\n",
       "<!-- 2&#45;&gt;4 -->\n",
       "<g id=\"edge4\" class=\"edge\">\n",
       "<title>2&#45;&gt;4</title>\n",
       "<path fill=\"none\" stroke=\"black\" d=\"M92.57,-150.96C88.43,-144.3 81.55,-133.23 75.85,-124.07\"/>\n",
       "<polygon fill=\"black\" stroke=\"black\" points=\"79.01,-122.52 70.76,-115.88 73.07,-126.22 79.01,-122.52\"/>\n",
       "</g>\n",
       "<!-- 6 -->\n",
       "<g id=\"node7\" class=\"node\">\n",
       "<title>6</title>\n",
       "<text text-anchor=\"middle\" x=\"115.25\" y=\"-101.45\" font-family=\"Times,serif\" font-size=\"14.00\">&gt; (62)</text>\n",
       "</g>\n",
       "<!-- 2&#45;&gt;6 -->\n",
       "<g id=\"edge6\" class=\"edge\">\n",
       "<title>2&#45;&gt;6</title>\n",
       "<path fill=\"none\" stroke=\"black\" d=\"M98.58,-150.96C101.09,-144.59 105.19,-134.18 108.69,-125.28\"/>\n",
       "<polygon fill=\"black\" stroke=\"black\" points=\"111.94,-126.59 112.35,-116 105.43,-124.02 111.94,-126.59\"/>\n",
       "</g>\n",
       "<!-- 5 -->\n",
       "<g id=\"node6\" class=\"node\">\n",
       "<title>5</title>\n",
       "<text text-anchor=\"middle\" x=\"66.25\" y=\"-51.2\" font-family=\"Times,serif\" font-size=\"14.00\">html</text>\n",
       "</g>\n",
       "<!-- 4&#45;&gt;5 -->\n",
       "<g id=\"edge5\" class=\"edge\">\n",
       "<title>4&#45;&gt;5</title>\n",
       "<path fill=\"none\" stroke=\"black\" d=\"M66.25,-100.71C66.25,-94.49 66.25,-84.4 66.25,-75.64\"/>\n",
       "<polygon fill=\"black\" stroke=\"black\" points=\"69.75,-75.85 66.25,-65.85 62.75,-75.85 69.75,-75.85\"/>\n",
       "</g>\n",
       "<!-- 8 -->\n",
       "<g id=\"node9\" class=\"node\">\n",
       "<title>8</title>\n",
       "<text text-anchor=\"middle\" x=\"182.25\" y=\"-101.45\" font-family=\"Times,serif\" font-size=\"14.00\">&lt;xml&#45;tree&gt;</text>\n",
       "</g>\n",
       "<!-- 7&#45;&gt;8 -->\n",
       "<g id=\"edge8\" class=\"edge\">\n",
       "<title>7&#45;&gt;8</title>\n",
       "<path fill=\"none\" stroke=\"black\" d=\"M198.92,-150.96C196.41,-144.59 192.31,-134.18 188.81,-125.28\"/>\n",
       "<polygon fill=\"black\" stroke=\"black\" points=\"192.07,-124.02 185.15,-116 185.56,-126.59 192.07,-124.02\"/>\n",
       "</g>\n",
       "<!-- 11 -->\n",
       "<g id=\"node12\" class=\"node\">\n",
       "<title>11</title>\n",
       "<text text-anchor=\"middle\" x=\"263.25\" y=\"-101.45\" font-family=\"Times,serif\" font-size=\"14.00\">&lt;xml&#45;tree&gt;</text>\n",
       "</g>\n",
       "<!-- 7&#45;&gt;11 -->\n",
       "<g id=\"edge11\" class=\"edge\">\n",
       "<title>7&#45;&gt;11</title>\n",
       "<path fill=\"none\" stroke=\"black\" d=\"M209.1,-150.76C218.56,-143.4 234.71,-130.84 246.92,-121.34\"/>\n",
       "<polygon fill=\"black\" stroke=\"black\" points=\"248.72,-124.37 254.46,-115.46 244.42,-118.84 248.72,-124.37\"/>\n",
       "</g>\n",
       "<!-- 9 -->\n",
       "<g id=\"node10\" class=\"node\">\n",
       "<title>9</title>\n",
       "<text text-anchor=\"middle\" x=\"182.25\" y=\"-51.2\" font-family=\"Times,serif\" font-size=\"14.00\">&lt;text&gt;</text>\n",
       "</g>\n",
       "<!-- 8&#45;&gt;9 -->\n",
       "<g id=\"edge9\" class=\"edge\">\n",
       "<title>8&#45;&gt;9</title>\n",
       "<path fill=\"none\" stroke=\"black\" d=\"M182.25,-100.71C182.25,-94.49 182.25,-84.4 182.25,-75.64\"/>\n",
       "<polygon fill=\"black\" stroke=\"black\" points=\"185.75,-75.85 182.25,-65.85 178.75,-75.85 185.75,-75.85\"/>\n",
       "</g>\n",
       "<!-- 10 -->\n",
       "<g id=\"node11\" class=\"node\">\n",
       "<title>10</title>\n",
       "<text text-anchor=\"middle\" x=\"182.25\" y=\"-0.95\" font-family=\"Times,serif\" font-size=\"14.00\">Te</text>\n",
       "</g>\n",
       "<!-- 9&#45;&gt;10 -->\n",
       "<g id=\"edge10\" class=\"edge\">\n",
       "<title>9&#45;&gt;10</title>\n",
       "<path fill=\"none\" stroke=\"black\" d=\"M182.25,-50.46C182.25,-44.24 182.25,-34.15 182.25,-25.39\"/>\n",
       "<polygon fill=\"black\" stroke=\"black\" points=\"185.75,-25.6 182.25,-15.6 178.75,-25.6 185.75,-25.6\"/>\n",
       "</g>\n",
       "<!-- 12 -->\n",
       "<g id=\"node13\" class=\"node\">\n",
       "<title>12</title>\n",
       "<text text-anchor=\"middle\" x=\"263.25\" y=\"-51.2\" font-family=\"Times,serif\" font-size=\"14.00\">&lt;text&gt;</text>\n",
       "</g>\n",
       "<!-- 11&#45;&gt;12 -->\n",
       "<g id=\"edge12\" class=\"edge\">\n",
       "<title>11&#45;&gt;12</title>\n",
       "<path fill=\"none\" stroke=\"black\" d=\"M263.25,-100.71C263.25,-94.49 263.25,-84.4 263.25,-75.64\"/>\n",
       "<polygon fill=\"black\" stroke=\"black\" points=\"266.75,-75.85 263.25,-65.85 259.75,-75.85 266.75,-75.85\"/>\n",
       "</g>\n",
       "<!-- 13 -->\n",
       "<g id=\"node14\" class=\"node\">\n",
       "<title>13</title>\n",
       "<text text-anchor=\"middle\" x=\"263.25\" y=\"-0.95\" font-family=\"Times,serif\" font-size=\"14.00\">xt</text>\n",
       "</g>\n",
       "<!-- 12&#45;&gt;13 -->\n",
       "<g id=\"edge13\" class=\"edge\">\n",
       "<title>12&#45;&gt;13</title>\n",
       "<path fill=\"none\" stroke=\"black\" d=\"M263.25,-50.46C263.25,-44.24 263.25,-34.15 263.25,-25.39\"/>\n",
       "<polygon fill=\"black\" stroke=\"black\" points=\"266.75,-25.6 263.25,-15.6 259.75,-25.6 266.75,-25.6\"/>\n",
       "</g>\n",
       "<!-- 15 -->\n",
       "<g id=\"node16\" class=\"node\">\n",
       "<title>15</title>\n",
       "<text text-anchor=\"middle\" x=\"319.25\" y=\"-101.45\" font-family=\"Times,serif\" font-size=\"14.00\">&lt;/</text>\n",
       "</g>\n",
       "<!-- 14&#45;&gt;15 -->\n",
       "<g id=\"edge15\" class=\"edge\">\n",
       "<title>14&#45;&gt;15</title>\n",
       "<path fill=\"none\" stroke=\"black\" d=\"M335.92,-150.96C333.41,-144.59 329.31,-134.18 325.81,-125.28\"/>\n",
       "<polygon fill=\"black\" stroke=\"black\" points=\"329.07,-124.02 322.15,-116 322.56,-126.59 329.07,-124.02\"/>\n",
       "</g>\n",
       "<!-- 16 -->\n",
       "<g id=\"node17\" class=\"node\">\n",
       "<title>16</title>\n",
       "<text text-anchor=\"middle\" x=\"357.25\" y=\"-101.45\" font-family=\"Times,serif\" font-size=\"14.00\">&lt;id&gt;</text>\n",
       "</g>\n",
       "<!-- 14&#45;&gt;16 -->\n",
       "<g id=\"edge16\" class=\"edge\">\n",
       "<title>14&#45;&gt;16</title>\n",
       "<path fill=\"none\" stroke=\"black\" d=\"M340.58,-150.96C343.09,-144.59 347.19,-134.18 350.69,-125.28\"/>\n",
       "<polygon fill=\"black\" stroke=\"black\" points=\"353.94,-126.59 354.35,-116 347.43,-124.02 353.94,-126.59\"/>\n",
       "</g>\n",
       "<!-- 18 -->\n",
       "<g id=\"node19\" class=\"node\">\n",
       "<title>18</title>\n",
       "<text text-anchor=\"middle\" x=\"406.25\" y=\"-101.45\" font-family=\"Times,serif\" font-size=\"14.00\">&gt; (62)</text>\n",
       "</g>\n",
       "<!-- 14&#45;&gt;18 -->\n",
       "<g id=\"edge18\" class=\"edge\">\n",
       "<title>14&#45;&gt;18</title>\n",
       "<path fill=\"none\" stroke=\"black\" d=\"M346.86,-150.76C357.34,-143.33 375.3,-130.59 388.73,-121.06\"/>\n",
       "<polygon fill=\"black\" stroke=\"black\" points=\"390.56,-124.05 396.69,-115.41 386.51,-118.34 390.56,-124.05\"/>\n",
       "</g>\n",
       "<!-- 17 -->\n",
       "<g id=\"node18\" class=\"node\">\n",
       "<title>17</title>\n",
       "<text text-anchor=\"middle\" x=\"357.25\" y=\"-51.2\" font-family=\"Times,serif\" font-size=\"14.00\">html</text>\n",
       "</g>\n",
       "<!-- 16&#45;&gt;17 -->\n",
       "<g id=\"edge17\" class=\"edge\">\n",
       "<title>16&#45;&gt;17</title>\n",
       "<path fill=\"none\" stroke=\"black\" d=\"M357.25,-100.71C357.25,-94.49 357.25,-84.4 357.25,-75.64\"/>\n",
       "<polygon fill=\"black\" stroke=\"black\" points=\"360.75,-75.85 357.25,-65.85 353.75,-75.85 360.75,-75.85\"/>\n",
       "</g>\n",
       "</g>\n",
       "</svg>\n"
      ],
      "text/plain": [
       "<graphviz.graphs.Digraph at 0x10a09aea0>"
      ]
     },
     "metadata": {},
     "output_type": "display_data"
    },
    {
     "data": {
      "image/svg+xml": [
       "<?xml version=\"1.0\" encoding=\"UTF-8\" standalone=\"no\"?>\n",
       "<!DOCTYPE svg PUBLIC \"-//W3C//DTD SVG 1.1//EN\"\n",
       " \"http://www.w3.org/Graphics/SVG/1.1/DTD/svg11.dtd\">\n",
       "<!-- Generated by graphviz version 12.2.1 (20241206.2353)\n",
       " -->\n",
       "<!-- Pages: 1 -->\n",
       "<svg width=\"439pt\" height=\"324pt\"\n",
       " viewBox=\"0.00 0.00 438.50 323.75\" xmlns=\"http://www.w3.org/2000/svg\" xmlns:xlink=\"http://www.w3.org/1999/xlink\">\n",
       "<g id=\"graph0\" class=\"graph\" transform=\"scale(1 1) rotate(0) translate(4 319.75)\">\n",
       "<polygon fill=\"white\" stroke=\"none\" points=\"-4,4 -4,-319.75 434.5,-319.75 434.5,4 -4,4\"/>\n",
       "<!-- 0 -->\n",
       "<g id=\"node1\" class=\"node\">\n",
       "<title>0</title>\n",
       "<text text-anchor=\"middle\" x=\"206.25\" y=\"-302.45\" font-family=\"Times,serif\" font-size=\"14.00\">&lt;start&gt;</text>\n",
       "</g>\n",
       "<!-- 1 -->\n",
       "<g id=\"node2\" class=\"node\">\n",
       "<title>1</title>\n",
       "<text text-anchor=\"middle\" x=\"206.25\" y=\"-252.2\" font-family=\"Times,serif\" font-size=\"14.00\">&lt;xml&#45;tree&gt;</text>\n",
       "</g>\n",
       "<!-- 0&#45;&gt;1 -->\n",
       "<g id=\"edge1\" class=\"edge\">\n",
       "<title>0&#45;&gt;1</title>\n",
       "<path fill=\"none\" stroke=\"black\" d=\"M206.25,-301.71C206.25,-295.49 206.25,-285.4 206.25,-276.64\"/>\n",
       "<polygon fill=\"black\" stroke=\"black\" points=\"209.75,-276.85 206.25,-266.85 202.75,-276.85 209.75,-276.85\"/>\n",
       "</g>\n",
       "<!-- 2 -->\n",
       "<g id=\"node3\" class=\"node\">\n",
       "<title>2</title>\n",
       "<text text-anchor=\"middle\" x=\"97.25\" y=\"-201.95\" font-family=\"Times,serif\" font-size=\"14.00\">&lt;xml&#45;open&#45;tag&gt;</text>\n",
       "</g>\n",
       "<!-- 1&#45;&gt;2 -->\n",
       "<g id=\"edge2\" class=\"edge\">\n",
       "<title>1&#45;&gt;2</title>\n",
       "<path fill=\"none\" stroke=\"black\" d=\"M192.45,-251.26C174.59,-243.36 143.2,-229.46 121.37,-219.8\"/>\n",
       "<polygon fill=\"black\" stroke=\"black\" points=\"122.89,-216.65 112.33,-215.8 120.05,-223.05 122.89,-216.65\"/>\n",
       "</g>\n",
       "<!-- 7 -->\n",
       "<g id=\"node8\" class=\"node\">\n",
       "<title>7</title>\n",
       "<text text-anchor=\"middle\" x=\"206.25\" y=\"-201.95\" font-family=\"Times,serif\" font-size=\"14.00\">&lt;xml&#45;tree&gt;</text>\n",
       "</g>\n",
       "<!-- 1&#45;&gt;7 -->\n",
       "<g id=\"edge7\" class=\"edge\">\n",
       "<title>1&#45;&gt;7</title>\n",
       "<path fill=\"none\" stroke=\"black\" d=\"M206.25,-251.46C206.25,-245.24 206.25,-235.15 206.25,-226.39\"/>\n",
       "<polygon fill=\"black\" stroke=\"black\" points=\"209.75,-226.6 206.25,-216.6 202.75,-226.6 209.75,-226.6\"/>\n",
       "</g>\n",
       "<!-- 18 -->\n",
       "<g id=\"node19\" class=\"node\">\n",
       "<title>18</title>\n",
       "<text text-anchor=\"middle\" x=\"345.25\" y=\"-201.95\" font-family=\"Times,serif\" font-size=\"14.00\">&lt;xml&#45;close&#45;tag&gt;</text>\n",
       "</g>\n",
       "<!-- 1&#45;&gt;18 -->\n",
       "<g id=\"edge18\" class=\"edge\">\n",
       "<title>1&#45;&gt;18</title>\n",
       "<path fill=\"none\" stroke=\"black\" d=\"M223.85,-251.26C247.35,-243.11 289.24,-228.57 317.14,-218.88\"/>\n",
       "<polygon fill=\"black\" stroke=\"black\" points=\"318.06,-222.27 326.36,-215.68 315.76,-215.66 318.06,-222.27\"/>\n",
       "</g>\n",
       "<!-- 3 -->\n",
       "<g id=\"node4\" class=\"node\">\n",
       "<title>3</title>\n",
       "<text text-anchor=\"middle\" x=\"17.25\" y=\"-151.7\" font-family=\"Times,serif\" font-size=\"14.00\">&lt; (60)</text>\n",
       "</g>\n",
       "<!-- 2&#45;&gt;3 -->\n",
       "<g id=\"edge3\" class=\"edge\">\n",
       "<title>2&#45;&gt;3</title>\n",
       "<path fill=\"none\" stroke=\"black\" d=\"M87.12,-201.01C74.49,-193.4 52.65,-180.23 36.74,-170.63\"/>\n",
       "<polygon fill=\"black\" stroke=\"black\" points=\"38.97,-167.89 28.6,-165.72 35.35,-173.88 38.97,-167.89\"/>\n",
       "</g>\n",
       "<!-- 4 -->\n",
       "<g id=\"node5\" class=\"node\">\n",
       "<title>4</title>\n",
       "<text text-anchor=\"middle\" x=\"66.25\" y=\"-151.7\" font-family=\"Times,serif\" font-size=\"14.00\">&lt;id&gt;</text>\n",
       "</g>\n",
       "<!-- 2&#45;&gt;4 -->\n",
       "<g id=\"edge4\" class=\"edge\">\n",
       "<title>2&#45;&gt;4</title>\n",
       "<path fill=\"none\" stroke=\"black\" d=\"M93.45,-201.21C89.17,-194.55 82.06,-183.48 76.17,-174.32\"/>\n",
       "<polygon fill=\"black\" stroke=\"black\" points=\"79.25,-172.63 70.9,-166.11 73.36,-176.42 79.25,-172.63\"/>\n",
       "</g>\n",
       "<!-- 6 -->\n",
       "<g id=\"node7\" class=\"node\">\n",
       "<title>6</title>\n",
       "<text text-anchor=\"middle\" x=\"115.25\" y=\"-151.7\" font-family=\"Times,serif\" font-size=\"14.00\">&gt; (62)</text>\n",
       "</g>\n",
       "<!-- 2&#45;&gt;6 -->\n",
       "<g id=\"edge6\" class=\"edge\">\n",
       "<title>2&#45;&gt;6</title>\n",
       "<path fill=\"none\" stroke=\"black\" d=\"M99.46,-201.21C101.83,-194.84 105.72,-184.43 109.04,-175.53\"/>\n",
       "<polygon fill=\"black\" stroke=\"black\" points=\"112.28,-176.85 112.5,-166.26 105.72,-174.4 112.28,-176.85\"/>\n",
       "</g>\n",
       "<!-- 5 -->\n",
       "<g id=\"node6\" class=\"node\">\n",
       "<title>5</title>\n",
       "<text text-anchor=\"middle\" x=\"62.25\" y=\"-101.45\" font-family=\"Times,serif\" font-size=\"14.00\">html</text>\n",
       "</g>\n",
       "<!-- 4&#45;&gt;5 -->\n",
       "<g id=\"edge5\" class=\"edge\">\n",
       "<title>4&#45;&gt;5</title>\n",
       "<path fill=\"none\" stroke=\"black\" d=\"M65.76,-150.96C65.24,-144.74 64.41,-134.65 63.68,-125.89\"/>\n",
       "<polygon fill=\"black\" stroke=\"black\" points=\"67.18,-125.77 62.87,-116.1 60.21,-126.35 67.18,-125.77\"/>\n",
       "</g>\n",
       "<!-- 8 -->\n",
       "<g id=\"node9\" class=\"node\">\n",
       "<title>8</title>\n",
       "<text text-anchor=\"middle\" x=\"189.25\" y=\"-151.7\" font-family=\"Times,serif\" font-size=\"14.00\">&lt;xml&#45;tree&gt;</text>\n",
       "</g>\n",
       "<!-- 7&#45;&gt;8 -->\n",
       "<g id=\"edge8\" class=\"edge\">\n",
       "<title>7&#45;&gt;8</title>\n",
       "<path fill=\"none\" stroke=\"black\" d=\"M204.17,-201.21C201.92,-194.84 198.25,-184.43 195.12,-175.53\"/>\n",
       "<polygon fill=\"black\" stroke=\"black\" points=\"198.48,-174.54 191.85,-166.27 191.88,-176.86 198.48,-174.54\"/>\n",
       "</g>\n",
       "<!-- 15 -->\n",
       "<g id=\"node16\" class=\"node\">\n",
       "<title>15</title>\n",
       "<text text-anchor=\"middle\" x=\"270.25\" y=\"-151.7\" font-family=\"Times,serif\" font-size=\"14.00\">&lt;xml&#45;tree&gt;</text>\n",
       "</g>\n",
       "<!-- 7&#45;&gt;15 -->\n",
       "<g id=\"edge15\" class=\"edge\">\n",
       "<title>7&#45;&gt;15</title>\n",
       "<path fill=\"none\" stroke=\"black\" d=\"M214.36,-201.01C224.12,-193.65 240.79,-181.09 253.39,-171.59\"/>\n",
       "<polygon fill=\"black\" stroke=\"black\" points=\"255.32,-174.51 261.2,-165.7 251.11,-168.92 255.32,-174.51\"/>\n",
       "</g>\n",
       "<!-- 9 -->\n",
       "<g id=\"node10\" class=\"node\">\n",
       "<title>9</title>\n",
       "<text text-anchor=\"middle\" x=\"124.25\" y=\"-101.45\" font-family=\"Times,serif\" font-size=\"14.00\">&lt;xml&#45;tree&gt;</text>\n",
       "</g>\n",
       "<!-- 8&#45;&gt;9 -->\n",
       "<g id=\"edge9\" class=\"edge\">\n",
       "<title>8&#45;&gt;9</title>\n",
       "<path fill=\"none\" stroke=\"black\" d=\"M181.02,-150.76C171.1,-143.4 154.17,-130.84 141.38,-121.34\"/>\n",
       "<polygon fill=\"black\" stroke=\"black\" points=\"143.54,-118.59 133.43,-115.44 139.37,-124.21 143.54,-118.59\"/>\n",
       "</g>\n",
       "<!-- 12 -->\n",
       "<g id=\"node13\" class=\"node\">\n",
       "<title>12</title>\n",
       "<text text-anchor=\"middle\" x=\"205.25\" y=\"-101.45\" font-family=\"Times,serif\" font-size=\"14.00\">&lt;xml&#45;tree&gt;</text>\n",
       "</g>\n",
       "<!-- 8&#45;&gt;12 -->\n",
       "<g id=\"edge12\" class=\"edge\">\n",
       "<title>8&#45;&gt;12</title>\n",
       "<path fill=\"none\" stroke=\"black\" d=\"M191.21,-150.96C193.32,-144.59 196.78,-134.18 199.73,-125.28\"/>\n",
       "<polygon fill=\"black\" stroke=\"black\" points=\"202.97,-126.62 202.8,-116.03 196.33,-124.42 202.97,-126.62\"/>\n",
       "</g>\n",
       "<!-- 10 -->\n",
       "<g id=\"node11\" class=\"node\">\n",
       "<title>10</title>\n",
       "<text text-anchor=\"middle\" x=\"124.25\" y=\"-51.2\" font-family=\"Times,serif\" font-size=\"14.00\">&lt;text&gt;</text>\n",
       "</g>\n",
       "<!-- 9&#45;&gt;10 -->\n",
       "<g id=\"edge10\" class=\"edge\">\n",
       "<title>9&#45;&gt;10</title>\n",
       "<path fill=\"none\" stroke=\"black\" d=\"M124.25,-100.71C124.25,-94.49 124.25,-84.4 124.25,-75.64\"/>\n",
       "<polygon fill=\"black\" stroke=\"black\" points=\"127.75,-75.85 124.25,-65.85 120.75,-75.85 127.75,-75.85\"/>\n",
       "</g>\n",
       "<!-- 11 -->\n",
       "<g id=\"node12\" class=\"node\">\n",
       "<title>11</title>\n",
       "<text text-anchor=\"middle\" x=\"124.25\" y=\"-0.95\" font-family=\"Times,serif\" font-size=\"14.00\">T (84)</text>\n",
       "</g>\n",
       "<!-- 10&#45;&gt;11 -->\n",
       "<g id=\"edge11\" class=\"edge\">\n",
       "<title>10&#45;&gt;11</title>\n",
       "<path fill=\"none\" stroke=\"black\" d=\"M124.25,-50.46C124.25,-44.24 124.25,-34.15 124.25,-25.39\"/>\n",
       "<polygon fill=\"black\" stroke=\"black\" points=\"127.75,-25.6 124.25,-15.6 120.75,-25.6 127.75,-25.6\"/>\n",
       "</g>\n",
       "<!-- 13 -->\n",
       "<g id=\"node14\" class=\"node\">\n",
       "<title>13</title>\n",
       "<text text-anchor=\"middle\" x=\"205.25\" y=\"-51.2\" font-family=\"Times,serif\" font-size=\"14.00\">&lt;text&gt;</text>\n",
       "</g>\n",
       "<!-- 12&#45;&gt;13 -->\n",
       "<g id=\"edge13\" class=\"edge\">\n",
       "<title>12&#45;&gt;13</title>\n",
       "<path fill=\"none\" stroke=\"black\" d=\"M205.25,-100.71C205.25,-94.49 205.25,-84.4 205.25,-75.64\"/>\n",
       "<polygon fill=\"black\" stroke=\"black\" points=\"208.75,-75.85 205.25,-65.85 201.75,-75.85 208.75,-75.85\"/>\n",
       "</g>\n",
       "<!-- 14 -->\n",
       "<g id=\"node15\" class=\"node\">\n",
       "<title>14</title>\n",
       "<text text-anchor=\"middle\" x=\"205.25\" y=\"-0.95\" font-family=\"Times,serif\" font-size=\"14.00\">e (101)</text>\n",
       "</g>\n",
       "<!-- 13&#45;&gt;14 -->\n",
       "<g id=\"edge14\" class=\"edge\">\n",
       "<title>13&#45;&gt;14</title>\n",
       "<path fill=\"none\" stroke=\"black\" d=\"M205.25,-50.46C205.25,-44.24 205.25,-34.15 205.25,-25.39\"/>\n",
       "<polygon fill=\"black\" stroke=\"black\" points=\"208.75,-25.6 205.25,-15.6 201.75,-25.6 208.75,-25.6\"/>\n",
       "</g>\n",
       "<!-- 16 -->\n",
       "<g id=\"node17\" class=\"node\">\n",
       "<title>16</title>\n",
       "<text text-anchor=\"middle\" x=\"273.25\" y=\"-101.45\" font-family=\"Times,serif\" font-size=\"14.00\">&lt;text&gt;</text>\n",
       "</g>\n",
       "<!-- 15&#45;&gt;16 -->\n",
       "<g id=\"edge16\" class=\"edge\">\n",
       "<title>15&#45;&gt;16</title>\n",
       "<path fill=\"none\" stroke=\"black\" d=\"M270.62,-150.96C271,-144.74 271.63,-134.65 272.18,-125.89\"/>\n",
       "<polygon fill=\"black\" stroke=\"black\" points=\"275.66,-126.3 272.79,-116.1 268.67,-125.86 275.66,-126.3\"/>\n",
       "</g>\n",
       "<!-- 17 -->\n",
       "<g id=\"node18\" class=\"node\">\n",
       "<title>17</title>\n",
       "<text text-anchor=\"middle\" x=\"273.25\" y=\"-51.2\" font-family=\"Times,serif\" font-size=\"14.00\">xt</text>\n",
       "</g>\n",
       "<!-- 16&#45;&gt;17 -->\n",
       "<g id=\"edge17\" class=\"edge\">\n",
       "<title>16&#45;&gt;17</title>\n",
       "<path fill=\"none\" stroke=\"black\" d=\"M273.25,-100.71C273.25,-94.49 273.25,-84.4 273.25,-75.64\"/>\n",
       "<polygon fill=\"black\" stroke=\"black\" points=\"276.75,-75.85 273.25,-65.85 269.75,-75.85 276.75,-75.85\"/>\n",
       "</g>\n",
       "<!-- 19 -->\n",
       "<g id=\"node20\" class=\"node\">\n",
       "<title>19</title>\n",
       "<text text-anchor=\"middle\" x=\"326.25\" y=\"-151.7\" font-family=\"Times,serif\" font-size=\"14.00\">&lt;/</text>\n",
       "</g>\n",
       "<!-- 18&#45;&gt;19 -->\n",
       "<g id=\"edge19\" class=\"edge\">\n",
       "<title>18&#45;&gt;19</title>\n",
       "<path fill=\"none\" stroke=\"black\" d=\"M342.92,-201.21C340.41,-194.84 336.31,-184.43 332.81,-175.53\"/>\n",
       "<polygon fill=\"black\" stroke=\"black\" points=\"336.07,-174.27 329.15,-166.25 329.56,-176.84 336.07,-174.27\"/>\n",
       "</g>\n",
       "<!-- 20 -->\n",
       "<g id=\"node21\" class=\"node\">\n",
       "<title>20</title>\n",
       "<text text-anchor=\"middle\" x=\"364.25\" y=\"-151.7\" font-family=\"Times,serif\" font-size=\"14.00\">&lt;id&gt;</text>\n",
       "</g>\n",
       "<!-- 18&#45;&gt;20 -->\n",
       "<g id=\"edge20\" class=\"edge\">\n",
       "<title>18&#45;&gt;20</title>\n",
       "<path fill=\"none\" stroke=\"black\" d=\"M347.58,-201.21C350.09,-194.84 354.19,-184.43 357.69,-175.53\"/>\n",
       "<polygon fill=\"black\" stroke=\"black\" points=\"360.94,-176.84 361.35,-166.25 354.43,-174.27 360.94,-176.84\"/>\n",
       "</g>\n",
       "<!-- 22 -->\n",
       "<g id=\"node23\" class=\"node\">\n",
       "<title>22</title>\n",
       "<text text-anchor=\"middle\" x=\"413.25\" y=\"-151.7\" font-family=\"Times,serif\" font-size=\"14.00\">&gt; (62)</text>\n",
       "</g>\n",
       "<!-- 18&#45;&gt;22 -->\n",
       "<g id=\"edge22\" class=\"edge\">\n",
       "<title>18&#45;&gt;22</title>\n",
       "<path fill=\"none\" stroke=\"black\" d=\"M353.86,-201.01C364.34,-193.58 382.3,-180.84 395.73,-171.31\"/>\n",
       "<polygon fill=\"black\" stroke=\"black\" points=\"397.56,-174.3 403.69,-165.66 393.51,-168.59 397.56,-174.3\"/>\n",
       "</g>\n",
       "<!-- 21 -->\n",
       "<g id=\"node22\" class=\"node\">\n",
       "<title>21</title>\n",
       "<text text-anchor=\"middle\" x=\"364.25\" y=\"-101.45\" font-family=\"Times,serif\" font-size=\"14.00\">html</text>\n",
       "</g>\n",
       "<!-- 20&#45;&gt;21 -->\n",
       "<g id=\"edge21\" class=\"edge\">\n",
       "<title>20&#45;&gt;21</title>\n",
       "<path fill=\"none\" stroke=\"black\" d=\"M364.25,-150.96C364.25,-144.74 364.25,-134.65 364.25,-125.89\"/>\n",
       "<polygon fill=\"black\" stroke=\"black\" points=\"367.75,-126.1 364.25,-116.1 360.75,-126.1 367.75,-126.1\"/>\n",
       "</g>\n",
       "</g>\n",
       "</svg>\n"
      ],
      "text/plain": [
       "<graphviz.graphs.Digraph at 0x10a09aea0>"
      ]
     },
     "metadata": {},
     "output_type": "display_data"
    },
    {
     "data": {
      "image/svg+xml": [
       "<?xml version=\"1.0\" encoding=\"UTF-8\" standalone=\"no\"?>\n",
       "<!DOCTYPE svg PUBLIC \"-//W3C//DTD SVG 1.1//EN\"\n",
       " \"http://www.w3.org/Graphics/SVG/1.1/DTD/svg11.dtd\">\n",
       "<!-- Generated by graphviz version 12.2.1 (20241206.2353)\n",
       " -->\n",
       "<!-- Pages: 1 -->\n",
       "<svg width=\"432pt\" height=\"274pt\"\n",
       " viewBox=\"0.00 0.00 431.50 273.50\" xmlns=\"http://www.w3.org/2000/svg\" xmlns:xlink=\"http://www.w3.org/1999/xlink\">\n",
       "<g id=\"graph0\" class=\"graph\" transform=\"scale(1 1) rotate(0) translate(4 269.5)\">\n",
       "<polygon fill=\"white\" stroke=\"none\" points=\"-4,4 -4,-269.5 427.5,-269.5 427.5,4 -4,4\"/>\n",
       "<!-- 0 -->\n",
       "<g id=\"node1\" class=\"node\">\n",
       "<title>0</title>\n",
       "<text text-anchor=\"middle\" x=\"201.25\" y=\"-252.2\" font-family=\"Times,serif\" font-size=\"14.00\">&lt;start&gt;</text>\n",
       "</g>\n",
       "<!-- 1 -->\n",
       "<g id=\"node2\" class=\"node\">\n",
       "<title>1</title>\n",
       "<text text-anchor=\"middle\" x=\"201.25\" y=\"-201.95\" font-family=\"Times,serif\" font-size=\"14.00\">&lt;xml&#45;tree&gt;</text>\n",
       "</g>\n",
       "<!-- 0&#45;&gt;1 -->\n",
       "<g id=\"edge1\" class=\"edge\">\n",
       "<title>0&#45;&gt;1</title>\n",
       "<path fill=\"none\" stroke=\"black\" d=\"M201.25,-251.46C201.25,-245.24 201.25,-235.15 201.25,-226.39\"/>\n",
       "<polygon fill=\"black\" stroke=\"black\" points=\"204.75,-226.6 201.25,-216.6 197.75,-226.6 204.75,-226.6\"/>\n",
       "</g>\n",
       "<!-- 2 -->\n",
       "<g id=\"node3\" class=\"node\">\n",
       "<title>2</title>\n",
       "<text text-anchor=\"middle\" x=\"96.25\" y=\"-151.7\" font-family=\"Times,serif\" font-size=\"14.00\">&lt;xml&#45;open&#45;tag&gt;</text>\n",
       "</g>\n",
       "<!-- 1&#45;&gt;2 -->\n",
       "<g id=\"edge2\" class=\"edge\">\n",
       "<title>1&#45;&gt;2</title>\n",
       "<path fill=\"none\" stroke=\"black\" d=\"M187.95,-201.01C170.83,-193.15 140.79,-179.34 119.77,-169.68\"/>\n",
       "<polygon fill=\"black\" stroke=\"black\" points=\"121.36,-166.56 110.82,-165.57 118.44,-172.92 121.36,-166.56\"/>\n",
       "</g>\n",
       "<!-- 7 -->\n",
       "<g id=\"node8\" class=\"node\">\n",
       "<title>7</title>\n",
       "<text text-anchor=\"middle\" x=\"201.25\" y=\"-151.7\" font-family=\"Times,serif\" font-size=\"14.00\">&lt;xml&#45;tree&gt;</text>\n",
       "</g>\n",
       "<!-- 1&#45;&gt;7 -->\n",
       "<g id=\"edge7\" class=\"edge\">\n",
       "<title>1&#45;&gt;7</title>\n",
       "<path fill=\"none\" stroke=\"black\" d=\"M201.25,-201.21C201.25,-194.99 201.25,-184.9 201.25,-176.14\"/>\n",
       "<polygon fill=\"black\" stroke=\"black\" points=\"204.75,-176.35 201.25,-166.35 197.75,-176.35 204.75,-176.35\"/>\n",
       "</g>\n",
       "<!-- 14 -->\n",
       "<g id=\"node15\" class=\"node\">\n",
       "<title>14</title>\n",
       "<text text-anchor=\"middle\" x=\"338.25\" y=\"-151.7\" font-family=\"Times,serif\" font-size=\"14.00\">&lt;xml&#45;close&#45;tag&gt;</text>\n",
       "</g>\n",
       "<!-- 1&#45;&gt;14 -->\n",
       "<g id=\"edge14\" class=\"edge\">\n",
       "<title>1&#45;&gt;14</title>\n",
       "<path fill=\"none\" stroke=\"black\" d=\"M218.6,-201.01C241.76,-192.86 283.05,-178.32 310.54,-168.63\"/>\n",
       "<polygon fill=\"black\" stroke=\"black\" points=\"311.34,-172.06 319.61,-165.44 309.02,-165.46 311.34,-172.06\"/>\n",
       "</g>\n",
       "<!-- 3 -->\n",
       "<g id=\"node4\" class=\"node\">\n",
       "<title>3</title>\n",
       "<text text-anchor=\"middle\" x=\"17.25\" y=\"-101.45\" font-family=\"Times,serif\" font-size=\"14.00\">&lt; (60)</text>\n",
       "</g>\n",
       "<!-- 2&#45;&gt;3 -->\n",
       "<g id=\"edge3\" class=\"edge\">\n",
       "<title>2&#45;&gt;3</title>\n",
       "<path fill=\"none\" stroke=\"black\" d=\"M86.24,-150.76C73.9,-143.22 52.62,-130.23 36.95,-120.66\"/>\n",
       "<polygon fill=\"black\" stroke=\"black\" points=\"38.82,-117.7 28.47,-115.48 35.18,-123.67 38.82,-117.7\"/>\n",
       "</g>\n",
       "<!-- 4 -->\n",
       "<g id=\"node5\" class=\"node\">\n",
       "<title>4</title>\n",
       "<text text-anchor=\"middle\" x=\"66.25\" y=\"-101.45\" font-family=\"Times,serif\" font-size=\"14.00\">&lt;id&gt;</text>\n",
       "</g>\n",
       "<!-- 2&#45;&gt;4 -->\n",
       "<g id=\"edge4\" class=\"edge\">\n",
       "<title>2&#45;&gt;4</title>\n",
       "<path fill=\"none\" stroke=\"black\" d=\"M92.57,-150.96C88.43,-144.3 81.55,-133.23 75.85,-124.07\"/>\n",
       "<polygon fill=\"black\" stroke=\"black\" points=\"79.01,-122.52 70.76,-115.88 73.07,-126.22 79.01,-122.52\"/>\n",
       "</g>\n",
       "<!-- 6 -->\n",
       "<g id=\"node7\" class=\"node\">\n",
       "<title>6</title>\n",
       "<text text-anchor=\"middle\" x=\"115.25\" y=\"-101.45\" font-family=\"Times,serif\" font-size=\"14.00\">&gt; (62)</text>\n",
       "</g>\n",
       "<!-- 2&#45;&gt;6 -->\n",
       "<g id=\"edge6\" class=\"edge\">\n",
       "<title>2&#45;&gt;6</title>\n",
       "<path fill=\"none\" stroke=\"black\" d=\"M98.58,-150.96C101.09,-144.59 105.19,-134.18 108.69,-125.28\"/>\n",
       "<polygon fill=\"black\" stroke=\"black\" points=\"111.94,-126.59 112.35,-116 105.43,-124.02 111.94,-126.59\"/>\n",
       "</g>\n",
       "<!-- 5 -->\n",
       "<g id=\"node6\" class=\"node\">\n",
       "<title>5</title>\n",
       "<text text-anchor=\"middle\" x=\"66.25\" y=\"-51.2\" font-family=\"Times,serif\" font-size=\"14.00\">html</text>\n",
       "</g>\n",
       "<!-- 4&#45;&gt;5 -->\n",
       "<g id=\"edge5\" class=\"edge\">\n",
       "<title>4&#45;&gt;5</title>\n",
       "<path fill=\"none\" stroke=\"black\" d=\"M66.25,-100.71C66.25,-94.49 66.25,-84.4 66.25,-75.64\"/>\n",
       "<polygon fill=\"black\" stroke=\"black\" points=\"69.75,-75.85 66.25,-65.85 62.75,-75.85 69.75,-75.85\"/>\n",
       "</g>\n",
       "<!-- 8 -->\n",
       "<g id=\"node9\" class=\"node\">\n",
       "<title>8</title>\n",
       "<text text-anchor=\"middle\" x=\"182.25\" y=\"-101.45\" font-family=\"Times,serif\" font-size=\"14.00\">&lt;xml&#45;tree&gt;</text>\n",
       "</g>\n",
       "<!-- 7&#45;&gt;8 -->\n",
       "<g id=\"edge8\" class=\"edge\">\n",
       "<title>7&#45;&gt;8</title>\n",
       "<path fill=\"none\" stroke=\"black\" d=\"M198.92,-150.96C196.41,-144.59 192.31,-134.18 188.81,-125.28\"/>\n",
       "<polygon fill=\"black\" stroke=\"black\" points=\"192.07,-124.02 185.15,-116 185.56,-126.59 192.07,-124.02\"/>\n",
       "</g>\n",
       "<!-- 11 -->\n",
       "<g id=\"node12\" class=\"node\">\n",
       "<title>11</title>\n",
       "<text text-anchor=\"middle\" x=\"263.25\" y=\"-101.45\" font-family=\"Times,serif\" font-size=\"14.00\">&lt;xml&#45;tree&gt;</text>\n",
       "</g>\n",
       "<!-- 7&#45;&gt;11 -->\n",
       "<g id=\"edge11\" class=\"edge\">\n",
       "<title>7&#45;&gt;11</title>\n",
       "<path fill=\"none\" stroke=\"black\" d=\"M209.1,-150.76C218.56,-143.4 234.71,-130.84 246.92,-121.34\"/>\n",
       "<polygon fill=\"black\" stroke=\"black\" points=\"248.72,-124.37 254.46,-115.46 244.42,-118.84 248.72,-124.37\"/>\n",
       "</g>\n",
       "<!-- 9 -->\n",
       "<g id=\"node10\" class=\"node\">\n",
       "<title>9</title>\n",
       "<text text-anchor=\"middle\" x=\"182.25\" y=\"-51.2\" font-family=\"Times,serif\" font-size=\"14.00\">&lt;text&gt;</text>\n",
       "</g>\n",
       "<!-- 8&#45;&gt;9 -->\n",
       "<g id=\"edge9\" class=\"edge\">\n",
       "<title>8&#45;&gt;9</title>\n",
       "<path fill=\"none\" stroke=\"black\" d=\"M182.25,-100.71C182.25,-94.49 182.25,-84.4 182.25,-75.64\"/>\n",
       "<polygon fill=\"black\" stroke=\"black\" points=\"185.75,-75.85 182.25,-65.85 178.75,-75.85 185.75,-75.85\"/>\n",
       "</g>\n",
       "<!-- 10 -->\n",
       "<g id=\"node11\" class=\"node\">\n",
       "<title>10</title>\n",
       "<text text-anchor=\"middle\" x=\"182.25\" y=\"-0.95\" font-family=\"Times,serif\" font-size=\"14.00\">Tex</text>\n",
       "</g>\n",
       "<!-- 9&#45;&gt;10 -->\n",
       "<g id=\"edge10\" class=\"edge\">\n",
       "<title>9&#45;&gt;10</title>\n",
       "<path fill=\"none\" stroke=\"black\" d=\"M182.25,-50.46C182.25,-44.24 182.25,-34.15 182.25,-25.39\"/>\n",
       "<polygon fill=\"black\" stroke=\"black\" points=\"185.75,-25.6 182.25,-15.6 178.75,-25.6 185.75,-25.6\"/>\n",
       "</g>\n",
       "<!-- 12 -->\n",
       "<g id=\"node13\" class=\"node\">\n",
       "<title>12</title>\n",
       "<text text-anchor=\"middle\" x=\"263.25\" y=\"-51.2\" font-family=\"Times,serif\" font-size=\"14.00\">&lt;text&gt;</text>\n",
       "</g>\n",
       "<!-- 11&#45;&gt;12 -->\n",
       "<g id=\"edge12\" class=\"edge\">\n",
       "<title>11&#45;&gt;12</title>\n",
       "<path fill=\"none\" stroke=\"black\" d=\"M263.25,-100.71C263.25,-94.49 263.25,-84.4 263.25,-75.64\"/>\n",
       "<polygon fill=\"black\" stroke=\"black\" points=\"266.75,-75.85 263.25,-65.85 259.75,-75.85 266.75,-75.85\"/>\n",
       "</g>\n",
       "<!-- 13 -->\n",
       "<g id=\"node14\" class=\"node\">\n",
       "<title>13</title>\n",
       "<text text-anchor=\"middle\" x=\"263.25\" y=\"-0.95\" font-family=\"Times,serif\" font-size=\"14.00\">t (116)</text>\n",
       "</g>\n",
       "<!-- 12&#45;&gt;13 -->\n",
       "<g id=\"edge13\" class=\"edge\">\n",
       "<title>12&#45;&gt;13</title>\n",
       "<path fill=\"none\" stroke=\"black\" d=\"M263.25,-50.46C263.25,-44.24 263.25,-34.15 263.25,-25.39\"/>\n",
       "<polygon fill=\"black\" stroke=\"black\" points=\"266.75,-25.6 263.25,-15.6 259.75,-25.6 266.75,-25.6\"/>\n",
       "</g>\n",
       "<!-- 15 -->\n",
       "<g id=\"node16\" class=\"node\">\n",
       "<title>15</title>\n",
       "<text text-anchor=\"middle\" x=\"319.25\" y=\"-101.45\" font-family=\"Times,serif\" font-size=\"14.00\">&lt;/</text>\n",
       "</g>\n",
       "<!-- 14&#45;&gt;15 -->\n",
       "<g id=\"edge15\" class=\"edge\">\n",
       "<title>14&#45;&gt;15</title>\n",
       "<path fill=\"none\" stroke=\"black\" d=\"M335.92,-150.96C333.41,-144.59 329.31,-134.18 325.81,-125.28\"/>\n",
       "<polygon fill=\"black\" stroke=\"black\" points=\"329.07,-124.02 322.15,-116 322.56,-126.59 329.07,-124.02\"/>\n",
       "</g>\n",
       "<!-- 16 -->\n",
       "<g id=\"node17\" class=\"node\">\n",
       "<title>16</title>\n",
       "<text text-anchor=\"middle\" x=\"357.25\" y=\"-101.45\" font-family=\"Times,serif\" font-size=\"14.00\">&lt;id&gt;</text>\n",
       "</g>\n",
       "<!-- 14&#45;&gt;16 -->\n",
       "<g id=\"edge16\" class=\"edge\">\n",
       "<title>14&#45;&gt;16</title>\n",
       "<path fill=\"none\" stroke=\"black\" d=\"M340.58,-150.96C343.09,-144.59 347.19,-134.18 350.69,-125.28\"/>\n",
       "<polygon fill=\"black\" stroke=\"black\" points=\"353.94,-126.59 354.35,-116 347.43,-124.02 353.94,-126.59\"/>\n",
       "</g>\n",
       "<!-- 18 -->\n",
       "<g id=\"node19\" class=\"node\">\n",
       "<title>18</title>\n",
       "<text text-anchor=\"middle\" x=\"406.25\" y=\"-101.45\" font-family=\"Times,serif\" font-size=\"14.00\">&gt; (62)</text>\n",
       "</g>\n",
       "<!-- 14&#45;&gt;18 -->\n",
       "<g id=\"edge18\" class=\"edge\">\n",
       "<title>14&#45;&gt;18</title>\n",
       "<path fill=\"none\" stroke=\"black\" d=\"M346.86,-150.76C357.34,-143.33 375.3,-130.59 388.73,-121.06\"/>\n",
       "<polygon fill=\"black\" stroke=\"black\" points=\"390.56,-124.05 396.69,-115.41 386.51,-118.34 390.56,-124.05\"/>\n",
       "</g>\n",
       "<!-- 17 -->\n",
       "<g id=\"node18\" class=\"node\">\n",
       "<title>17</title>\n",
       "<text text-anchor=\"middle\" x=\"357.25\" y=\"-51.2\" font-family=\"Times,serif\" font-size=\"14.00\">html</text>\n",
       "</g>\n",
       "<!-- 16&#45;&gt;17 -->\n",
       "<g id=\"edge17\" class=\"edge\">\n",
       "<title>16&#45;&gt;17</title>\n",
       "<path fill=\"none\" stroke=\"black\" d=\"M357.25,-100.71C357.25,-94.49 357.25,-84.4 357.25,-75.64\"/>\n",
       "<polygon fill=\"black\" stroke=\"black\" points=\"360.75,-75.85 357.25,-65.85 353.75,-75.85 360.75,-75.85\"/>\n",
       "</g>\n",
       "</g>\n",
       "</svg>\n"
      ],
      "text/plain": [
       "<graphviz.graphs.Digraph at 0x109f1a570>"
      ]
     },
     "metadata": {},
     "output_type": "display_data"
    },
    {
     "data": {
      "image/svg+xml": [
       "<?xml version=\"1.0\" encoding=\"UTF-8\" standalone=\"no\"?>\n",
       "<!DOCTYPE svg PUBLIC \"-//W3C//DTD SVG 1.1//EN\"\n",
       " \"http://www.w3.org/Graphics/SVG/1.1/DTD/svg11.dtd\">\n",
       "<!-- Generated by graphviz version 12.2.1 (20241206.2353)\n",
       " -->\n",
       "<!-- Pages: 1 -->\n",
       "<svg width=\"439pt\" height=\"324pt\"\n",
       " viewBox=\"0.00 0.00 438.50 323.75\" xmlns=\"http://www.w3.org/2000/svg\" xmlns:xlink=\"http://www.w3.org/1999/xlink\">\n",
       "<g id=\"graph0\" class=\"graph\" transform=\"scale(1 1) rotate(0) translate(4 319.75)\">\n",
       "<polygon fill=\"white\" stroke=\"none\" points=\"-4,4 -4,-319.75 434.5,-319.75 434.5,4 -4,4\"/>\n",
       "<!-- 0 -->\n",
       "<g id=\"node1\" class=\"node\">\n",
       "<title>0</title>\n",
       "<text text-anchor=\"middle\" x=\"206.25\" y=\"-302.45\" font-family=\"Times,serif\" font-size=\"14.00\">&lt;start&gt;</text>\n",
       "</g>\n",
       "<!-- 1 -->\n",
       "<g id=\"node2\" class=\"node\">\n",
       "<title>1</title>\n",
       "<text text-anchor=\"middle\" x=\"206.25\" y=\"-252.2\" font-family=\"Times,serif\" font-size=\"14.00\">&lt;xml&#45;tree&gt;</text>\n",
       "</g>\n",
       "<!-- 0&#45;&gt;1 -->\n",
       "<g id=\"edge1\" class=\"edge\">\n",
       "<title>0&#45;&gt;1</title>\n",
       "<path fill=\"none\" stroke=\"black\" d=\"M206.25,-301.71C206.25,-295.49 206.25,-285.4 206.25,-276.64\"/>\n",
       "<polygon fill=\"black\" stroke=\"black\" points=\"209.75,-276.85 206.25,-266.85 202.75,-276.85 209.75,-276.85\"/>\n",
       "</g>\n",
       "<!-- 2 -->\n",
       "<g id=\"node3\" class=\"node\">\n",
       "<title>2</title>\n",
       "<text text-anchor=\"middle\" x=\"97.25\" y=\"-201.95\" font-family=\"Times,serif\" font-size=\"14.00\">&lt;xml&#45;open&#45;tag&gt;</text>\n",
       "</g>\n",
       "<!-- 1&#45;&gt;2 -->\n",
       "<g id=\"edge2\" class=\"edge\">\n",
       "<title>1&#45;&gt;2</title>\n",
       "<path fill=\"none\" stroke=\"black\" d=\"M192.45,-251.26C174.59,-243.36 143.2,-229.46 121.37,-219.8\"/>\n",
       "<polygon fill=\"black\" stroke=\"black\" points=\"122.89,-216.65 112.33,-215.8 120.05,-223.05 122.89,-216.65\"/>\n",
       "</g>\n",
       "<!-- 7 -->\n",
       "<g id=\"node8\" class=\"node\">\n",
       "<title>7</title>\n",
       "<text text-anchor=\"middle\" x=\"206.25\" y=\"-201.95\" font-family=\"Times,serif\" font-size=\"14.00\">&lt;xml&#45;tree&gt;</text>\n",
       "</g>\n",
       "<!-- 1&#45;&gt;7 -->\n",
       "<g id=\"edge7\" class=\"edge\">\n",
       "<title>1&#45;&gt;7</title>\n",
       "<path fill=\"none\" stroke=\"black\" d=\"M206.25,-251.46C206.25,-245.24 206.25,-235.15 206.25,-226.39\"/>\n",
       "<polygon fill=\"black\" stroke=\"black\" points=\"209.75,-226.6 206.25,-216.6 202.75,-226.6 209.75,-226.6\"/>\n",
       "</g>\n",
       "<!-- 18 -->\n",
       "<g id=\"node19\" class=\"node\">\n",
       "<title>18</title>\n",
       "<text text-anchor=\"middle\" x=\"345.25\" y=\"-201.95\" font-family=\"Times,serif\" font-size=\"14.00\">&lt;xml&#45;close&#45;tag&gt;</text>\n",
       "</g>\n",
       "<!-- 1&#45;&gt;18 -->\n",
       "<g id=\"edge18\" class=\"edge\">\n",
       "<title>1&#45;&gt;18</title>\n",
       "<path fill=\"none\" stroke=\"black\" d=\"M223.85,-251.26C247.35,-243.11 289.24,-228.57 317.14,-218.88\"/>\n",
       "<polygon fill=\"black\" stroke=\"black\" points=\"318.06,-222.27 326.36,-215.68 315.76,-215.66 318.06,-222.27\"/>\n",
       "</g>\n",
       "<!-- 3 -->\n",
       "<g id=\"node4\" class=\"node\">\n",
       "<title>3</title>\n",
       "<text text-anchor=\"middle\" x=\"17.25\" y=\"-151.7\" font-family=\"Times,serif\" font-size=\"14.00\">&lt; (60)</text>\n",
       "</g>\n",
       "<!-- 2&#45;&gt;3 -->\n",
       "<g id=\"edge3\" class=\"edge\">\n",
       "<title>2&#45;&gt;3</title>\n",
       "<path fill=\"none\" stroke=\"black\" d=\"M87.12,-201.01C74.49,-193.4 52.65,-180.23 36.74,-170.63\"/>\n",
       "<polygon fill=\"black\" stroke=\"black\" points=\"38.97,-167.89 28.6,-165.72 35.35,-173.88 38.97,-167.89\"/>\n",
       "</g>\n",
       "<!-- 4 -->\n",
       "<g id=\"node5\" class=\"node\">\n",
       "<title>4</title>\n",
       "<text text-anchor=\"middle\" x=\"66.25\" y=\"-151.7\" font-family=\"Times,serif\" font-size=\"14.00\">&lt;id&gt;</text>\n",
       "</g>\n",
       "<!-- 2&#45;&gt;4 -->\n",
       "<g id=\"edge4\" class=\"edge\">\n",
       "<title>2&#45;&gt;4</title>\n",
       "<path fill=\"none\" stroke=\"black\" d=\"M93.45,-201.21C89.17,-194.55 82.06,-183.48 76.17,-174.32\"/>\n",
       "<polygon fill=\"black\" stroke=\"black\" points=\"79.25,-172.63 70.9,-166.11 73.36,-176.42 79.25,-172.63\"/>\n",
       "</g>\n",
       "<!-- 6 -->\n",
       "<g id=\"node7\" class=\"node\">\n",
       "<title>6</title>\n",
       "<text text-anchor=\"middle\" x=\"115.25\" y=\"-151.7\" font-family=\"Times,serif\" font-size=\"14.00\">&gt; (62)</text>\n",
       "</g>\n",
       "<!-- 2&#45;&gt;6 -->\n",
       "<g id=\"edge6\" class=\"edge\">\n",
       "<title>2&#45;&gt;6</title>\n",
       "<path fill=\"none\" stroke=\"black\" d=\"M99.46,-201.21C101.83,-194.84 105.72,-184.43 109.04,-175.53\"/>\n",
       "<polygon fill=\"black\" stroke=\"black\" points=\"112.28,-176.85 112.5,-166.26 105.72,-174.4 112.28,-176.85\"/>\n",
       "</g>\n",
       "<!-- 5 -->\n",
       "<g id=\"node6\" class=\"node\">\n",
       "<title>5</title>\n",
       "<text text-anchor=\"middle\" x=\"62.25\" y=\"-101.45\" font-family=\"Times,serif\" font-size=\"14.00\">html</text>\n",
       "</g>\n",
       "<!-- 4&#45;&gt;5 -->\n",
       "<g id=\"edge5\" class=\"edge\">\n",
       "<title>4&#45;&gt;5</title>\n",
       "<path fill=\"none\" stroke=\"black\" d=\"M65.76,-150.96C65.24,-144.74 64.41,-134.65 63.68,-125.89\"/>\n",
       "<polygon fill=\"black\" stroke=\"black\" points=\"67.18,-125.77 62.87,-116.1 60.21,-126.35 67.18,-125.77\"/>\n",
       "</g>\n",
       "<!-- 8 -->\n",
       "<g id=\"node9\" class=\"node\">\n",
       "<title>8</title>\n",
       "<text text-anchor=\"middle\" x=\"189.25\" y=\"-151.7\" font-family=\"Times,serif\" font-size=\"14.00\">&lt;xml&#45;tree&gt;</text>\n",
       "</g>\n",
       "<!-- 7&#45;&gt;8 -->\n",
       "<g id=\"edge8\" class=\"edge\">\n",
       "<title>7&#45;&gt;8</title>\n",
       "<path fill=\"none\" stroke=\"black\" d=\"M204.17,-201.21C201.92,-194.84 198.25,-184.43 195.12,-175.53\"/>\n",
       "<polygon fill=\"black\" stroke=\"black\" points=\"198.48,-174.54 191.85,-166.27 191.88,-176.86 198.48,-174.54\"/>\n",
       "</g>\n",
       "<!-- 15 -->\n",
       "<g id=\"node16\" class=\"node\">\n",
       "<title>15</title>\n",
       "<text text-anchor=\"middle\" x=\"270.25\" y=\"-151.7\" font-family=\"Times,serif\" font-size=\"14.00\">&lt;xml&#45;tree&gt;</text>\n",
       "</g>\n",
       "<!-- 7&#45;&gt;15 -->\n",
       "<g id=\"edge15\" class=\"edge\">\n",
       "<title>7&#45;&gt;15</title>\n",
       "<path fill=\"none\" stroke=\"black\" d=\"M214.36,-201.01C224.12,-193.65 240.79,-181.09 253.39,-171.59\"/>\n",
       "<polygon fill=\"black\" stroke=\"black\" points=\"255.32,-174.51 261.2,-165.7 251.11,-168.92 255.32,-174.51\"/>\n",
       "</g>\n",
       "<!-- 9 -->\n",
       "<g id=\"node10\" class=\"node\">\n",
       "<title>9</title>\n",
       "<text text-anchor=\"middle\" x=\"124.25\" y=\"-101.45\" font-family=\"Times,serif\" font-size=\"14.00\">&lt;xml&#45;tree&gt;</text>\n",
       "</g>\n",
       "<!-- 8&#45;&gt;9 -->\n",
       "<g id=\"edge9\" class=\"edge\">\n",
       "<title>8&#45;&gt;9</title>\n",
       "<path fill=\"none\" stroke=\"black\" d=\"M181.02,-150.76C171.1,-143.4 154.17,-130.84 141.38,-121.34\"/>\n",
       "<polygon fill=\"black\" stroke=\"black\" points=\"143.54,-118.59 133.43,-115.44 139.37,-124.21 143.54,-118.59\"/>\n",
       "</g>\n",
       "<!-- 12 -->\n",
       "<g id=\"node13\" class=\"node\">\n",
       "<title>12</title>\n",
       "<text text-anchor=\"middle\" x=\"205.25\" y=\"-101.45\" font-family=\"Times,serif\" font-size=\"14.00\">&lt;xml&#45;tree&gt;</text>\n",
       "</g>\n",
       "<!-- 8&#45;&gt;12 -->\n",
       "<g id=\"edge12\" class=\"edge\">\n",
       "<title>8&#45;&gt;12</title>\n",
       "<path fill=\"none\" stroke=\"black\" d=\"M191.21,-150.96C193.32,-144.59 196.78,-134.18 199.73,-125.28\"/>\n",
       "<polygon fill=\"black\" stroke=\"black\" points=\"202.97,-126.62 202.8,-116.03 196.33,-124.42 202.97,-126.62\"/>\n",
       "</g>\n",
       "<!-- 10 -->\n",
       "<g id=\"node11\" class=\"node\">\n",
       "<title>10</title>\n",
       "<text text-anchor=\"middle\" x=\"124.25\" y=\"-51.2\" font-family=\"Times,serif\" font-size=\"14.00\">&lt;text&gt;</text>\n",
       "</g>\n",
       "<!-- 9&#45;&gt;10 -->\n",
       "<g id=\"edge10\" class=\"edge\">\n",
       "<title>9&#45;&gt;10</title>\n",
       "<path fill=\"none\" stroke=\"black\" d=\"M124.25,-100.71C124.25,-94.49 124.25,-84.4 124.25,-75.64\"/>\n",
       "<polygon fill=\"black\" stroke=\"black\" points=\"127.75,-75.85 124.25,-65.85 120.75,-75.85 127.75,-75.85\"/>\n",
       "</g>\n",
       "<!-- 11 -->\n",
       "<g id=\"node12\" class=\"node\">\n",
       "<title>11</title>\n",
       "<text text-anchor=\"middle\" x=\"124.25\" y=\"-0.95\" font-family=\"Times,serif\" font-size=\"14.00\">T (84)</text>\n",
       "</g>\n",
       "<!-- 10&#45;&gt;11 -->\n",
       "<g id=\"edge11\" class=\"edge\">\n",
       "<title>10&#45;&gt;11</title>\n",
       "<path fill=\"none\" stroke=\"black\" d=\"M124.25,-50.46C124.25,-44.24 124.25,-34.15 124.25,-25.39\"/>\n",
       "<polygon fill=\"black\" stroke=\"black\" points=\"127.75,-25.6 124.25,-15.6 120.75,-25.6 127.75,-25.6\"/>\n",
       "</g>\n",
       "<!-- 13 -->\n",
       "<g id=\"node14\" class=\"node\">\n",
       "<title>13</title>\n",
       "<text text-anchor=\"middle\" x=\"205.25\" y=\"-51.2\" font-family=\"Times,serif\" font-size=\"14.00\">&lt;text&gt;</text>\n",
       "</g>\n",
       "<!-- 12&#45;&gt;13 -->\n",
       "<g id=\"edge13\" class=\"edge\">\n",
       "<title>12&#45;&gt;13</title>\n",
       "<path fill=\"none\" stroke=\"black\" d=\"M205.25,-100.71C205.25,-94.49 205.25,-84.4 205.25,-75.64\"/>\n",
       "<polygon fill=\"black\" stroke=\"black\" points=\"208.75,-75.85 205.25,-65.85 201.75,-75.85 208.75,-75.85\"/>\n",
       "</g>\n",
       "<!-- 14 -->\n",
       "<g id=\"node15\" class=\"node\">\n",
       "<title>14</title>\n",
       "<text text-anchor=\"middle\" x=\"205.25\" y=\"-0.95\" font-family=\"Times,serif\" font-size=\"14.00\">ex</text>\n",
       "</g>\n",
       "<!-- 13&#45;&gt;14 -->\n",
       "<g id=\"edge14\" class=\"edge\">\n",
       "<title>13&#45;&gt;14</title>\n",
       "<path fill=\"none\" stroke=\"black\" d=\"M205.25,-50.46C205.25,-44.24 205.25,-34.15 205.25,-25.39\"/>\n",
       "<polygon fill=\"black\" stroke=\"black\" points=\"208.75,-25.6 205.25,-15.6 201.75,-25.6 208.75,-25.6\"/>\n",
       "</g>\n",
       "<!-- 16 -->\n",
       "<g id=\"node17\" class=\"node\">\n",
       "<title>16</title>\n",
       "<text text-anchor=\"middle\" x=\"273.25\" y=\"-101.45\" font-family=\"Times,serif\" font-size=\"14.00\">&lt;text&gt;</text>\n",
       "</g>\n",
       "<!-- 15&#45;&gt;16 -->\n",
       "<g id=\"edge16\" class=\"edge\">\n",
       "<title>15&#45;&gt;16</title>\n",
       "<path fill=\"none\" stroke=\"black\" d=\"M270.62,-150.96C271,-144.74 271.63,-134.65 272.18,-125.89\"/>\n",
       "<polygon fill=\"black\" stroke=\"black\" points=\"275.66,-126.3 272.79,-116.1 268.67,-125.86 275.66,-126.3\"/>\n",
       "</g>\n",
       "<!-- 17 -->\n",
       "<g id=\"node18\" class=\"node\">\n",
       "<title>17</title>\n",
       "<text text-anchor=\"middle\" x=\"273.25\" y=\"-51.2\" font-family=\"Times,serif\" font-size=\"14.00\">t (116)</text>\n",
       "</g>\n",
       "<!-- 16&#45;&gt;17 -->\n",
       "<g id=\"edge17\" class=\"edge\">\n",
       "<title>16&#45;&gt;17</title>\n",
       "<path fill=\"none\" stroke=\"black\" d=\"M273.25,-100.71C273.25,-94.49 273.25,-84.4 273.25,-75.64\"/>\n",
       "<polygon fill=\"black\" stroke=\"black\" points=\"276.75,-75.85 273.25,-65.85 269.75,-75.85 276.75,-75.85\"/>\n",
       "</g>\n",
       "<!-- 19 -->\n",
       "<g id=\"node20\" class=\"node\">\n",
       "<title>19</title>\n",
       "<text text-anchor=\"middle\" x=\"326.25\" y=\"-151.7\" font-family=\"Times,serif\" font-size=\"14.00\">&lt;/</text>\n",
       "</g>\n",
       "<!-- 18&#45;&gt;19 -->\n",
       "<g id=\"edge19\" class=\"edge\">\n",
       "<title>18&#45;&gt;19</title>\n",
       "<path fill=\"none\" stroke=\"black\" d=\"M342.92,-201.21C340.41,-194.84 336.31,-184.43 332.81,-175.53\"/>\n",
       "<polygon fill=\"black\" stroke=\"black\" points=\"336.07,-174.27 329.15,-166.25 329.56,-176.84 336.07,-174.27\"/>\n",
       "</g>\n",
       "<!-- 20 -->\n",
       "<g id=\"node21\" class=\"node\">\n",
       "<title>20</title>\n",
       "<text text-anchor=\"middle\" x=\"364.25\" y=\"-151.7\" font-family=\"Times,serif\" font-size=\"14.00\">&lt;id&gt;</text>\n",
       "</g>\n",
       "<!-- 18&#45;&gt;20 -->\n",
       "<g id=\"edge20\" class=\"edge\">\n",
       "<title>18&#45;&gt;20</title>\n",
       "<path fill=\"none\" stroke=\"black\" d=\"M347.58,-201.21C350.09,-194.84 354.19,-184.43 357.69,-175.53\"/>\n",
       "<polygon fill=\"black\" stroke=\"black\" points=\"360.94,-176.84 361.35,-166.25 354.43,-174.27 360.94,-176.84\"/>\n",
       "</g>\n",
       "<!-- 22 -->\n",
       "<g id=\"node23\" class=\"node\">\n",
       "<title>22</title>\n",
       "<text text-anchor=\"middle\" x=\"413.25\" y=\"-151.7\" font-family=\"Times,serif\" font-size=\"14.00\">&gt; (62)</text>\n",
       "</g>\n",
       "<!-- 18&#45;&gt;22 -->\n",
       "<g id=\"edge22\" class=\"edge\">\n",
       "<title>18&#45;&gt;22</title>\n",
       "<path fill=\"none\" stroke=\"black\" d=\"M353.86,-201.01C364.34,-193.58 382.3,-180.84 395.73,-171.31\"/>\n",
       "<polygon fill=\"black\" stroke=\"black\" points=\"397.56,-174.3 403.69,-165.66 393.51,-168.59 397.56,-174.3\"/>\n",
       "</g>\n",
       "<!-- 21 -->\n",
       "<g id=\"node22\" class=\"node\">\n",
       "<title>21</title>\n",
       "<text text-anchor=\"middle\" x=\"364.25\" y=\"-101.45\" font-family=\"Times,serif\" font-size=\"14.00\">html</text>\n",
       "</g>\n",
       "<!-- 20&#45;&gt;21 -->\n",
       "<g id=\"edge21\" class=\"edge\">\n",
       "<title>20&#45;&gt;21</title>\n",
       "<path fill=\"none\" stroke=\"black\" d=\"M364.25,-150.96C364.25,-144.74 364.25,-134.65 364.25,-125.89\"/>\n",
       "<polygon fill=\"black\" stroke=\"black\" points=\"367.75,-126.1 364.25,-116.1 360.75,-126.1 367.75,-126.1\"/>\n",
       "</g>\n",
       "</g>\n",
       "</svg>\n"
      ],
      "text/plain": [
       "<graphviz.graphs.Digraph at 0x10a25be60>"
      ]
     },
     "metadata": {},
     "output_type": "display_data"
    },
    {
     "data": {
      "image/svg+xml": [
       "<?xml version=\"1.0\" encoding=\"UTF-8\" standalone=\"no\"?>\n",
       "<!DOCTYPE svg PUBLIC \"-//W3C//DTD SVG 1.1//EN\"\n",
       " \"http://www.w3.org/Graphics/SVG/1.1/DTD/svg11.dtd\">\n",
       "<!-- Generated by graphviz version 12.2.1 (20241206.2353)\n",
       " -->\n",
       "<!-- Pages: 1 -->\n",
       "<svg width=\"439pt\" height=\"324pt\"\n",
       " viewBox=\"0.00 0.00 438.50 323.75\" xmlns=\"http://www.w3.org/2000/svg\" xmlns:xlink=\"http://www.w3.org/1999/xlink\">\n",
       "<g id=\"graph0\" class=\"graph\" transform=\"scale(1 1) rotate(0) translate(4 319.75)\">\n",
       "<polygon fill=\"white\" stroke=\"none\" points=\"-4,4 -4,-319.75 434.5,-319.75 434.5,4 -4,4\"/>\n",
       "<!-- 0 -->\n",
       "<g id=\"node1\" class=\"node\">\n",
       "<title>0</title>\n",
       "<text text-anchor=\"middle\" x=\"206.25\" y=\"-302.45\" font-family=\"Times,serif\" font-size=\"14.00\">&lt;start&gt;</text>\n",
       "</g>\n",
       "<!-- 1 -->\n",
       "<g id=\"node2\" class=\"node\">\n",
       "<title>1</title>\n",
       "<text text-anchor=\"middle\" x=\"206.25\" y=\"-252.2\" font-family=\"Times,serif\" font-size=\"14.00\">&lt;xml&#45;tree&gt;</text>\n",
       "</g>\n",
       "<!-- 0&#45;&gt;1 -->\n",
       "<g id=\"edge1\" class=\"edge\">\n",
       "<title>0&#45;&gt;1</title>\n",
       "<path fill=\"none\" stroke=\"black\" d=\"M206.25,-301.71C206.25,-295.49 206.25,-285.4 206.25,-276.64\"/>\n",
       "<polygon fill=\"black\" stroke=\"black\" points=\"209.75,-276.85 206.25,-266.85 202.75,-276.85 209.75,-276.85\"/>\n",
       "</g>\n",
       "<!-- 2 -->\n",
       "<g id=\"node3\" class=\"node\">\n",
       "<title>2</title>\n",
       "<text text-anchor=\"middle\" x=\"97.25\" y=\"-201.95\" font-family=\"Times,serif\" font-size=\"14.00\">&lt;xml&#45;open&#45;tag&gt;</text>\n",
       "</g>\n",
       "<!-- 1&#45;&gt;2 -->\n",
       "<g id=\"edge2\" class=\"edge\">\n",
       "<title>1&#45;&gt;2</title>\n",
       "<path fill=\"none\" stroke=\"black\" d=\"M192.45,-251.26C174.59,-243.36 143.2,-229.46 121.37,-219.8\"/>\n",
       "<polygon fill=\"black\" stroke=\"black\" points=\"122.89,-216.65 112.33,-215.8 120.05,-223.05 122.89,-216.65\"/>\n",
       "</g>\n",
       "<!-- 7 -->\n",
       "<g id=\"node8\" class=\"node\">\n",
       "<title>7</title>\n",
       "<text text-anchor=\"middle\" x=\"206.25\" y=\"-201.95\" font-family=\"Times,serif\" font-size=\"14.00\">&lt;xml&#45;tree&gt;</text>\n",
       "</g>\n",
       "<!-- 1&#45;&gt;7 -->\n",
       "<g id=\"edge7\" class=\"edge\">\n",
       "<title>1&#45;&gt;7</title>\n",
       "<path fill=\"none\" stroke=\"black\" d=\"M206.25,-251.46C206.25,-245.24 206.25,-235.15 206.25,-226.39\"/>\n",
       "<polygon fill=\"black\" stroke=\"black\" points=\"209.75,-226.6 206.25,-216.6 202.75,-226.6 209.75,-226.6\"/>\n",
       "</g>\n",
       "<!-- 18 -->\n",
       "<g id=\"node19\" class=\"node\">\n",
       "<title>18</title>\n",
       "<text text-anchor=\"middle\" x=\"345.25\" y=\"-201.95\" font-family=\"Times,serif\" font-size=\"14.00\">&lt;xml&#45;close&#45;tag&gt;</text>\n",
       "</g>\n",
       "<!-- 1&#45;&gt;18 -->\n",
       "<g id=\"edge18\" class=\"edge\">\n",
       "<title>1&#45;&gt;18</title>\n",
       "<path fill=\"none\" stroke=\"black\" d=\"M223.85,-251.26C247.35,-243.11 289.24,-228.57 317.14,-218.88\"/>\n",
       "<polygon fill=\"black\" stroke=\"black\" points=\"318.06,-222.27 326.36,-215.68 315.76,-215.66 318.06,-222.27\"/>\n",
       "</g>\n",
       "<!-- 3 -->\n",
       "<g id=\"node4\" class=\"node\">\n",
       "<title>3</title>\n",
       "<text text-anchor=\"middle\" x=\"17.25\" y=\"-151.7\" font-family=\"Times,serif\" font-size=\"14.00\">&lt; (60)</text>\n",
       "</g>\n",
       "<!-- 2&#45;&gt;3 -->\n",
       "<g id=\"edge3\" class=\"edge\">\n",
       "<title>2&#45;&gt;3</title>\n",
       "<path fill=\"none\" stroke=\"black\" d=\"M87.12,-201.01C74.49,-193.4 52.65,-180.23 36.74,-170.63\"/>\n",
       "<polygon fill=\"black\" stroke=\"black\" points=\"38.97,-167.89 28.6,-165.72 35.35,-173.88 38.97,-167.89\"/>\n",
       "</g>\n",
       "<!-- 4 -->\n",
       "<g id=\"node5\" class=\"node\">\n",
       "<title>4</title>\n",
       "<text text-anchor=\"middle\" x=\"66.25\" y=\"-151.7\" font-family=\"Times,serif\" font-size=\"14.00\">&lt;id&gt;</text>\n",
       "</g>\n",
       "<!-- 2&#45;&gt;4 -->\n",
       "<g id=\"edge4\" class=\"edge\">\n",
       "<title>2&#45;&gt;4</title>\n",
       "<path fill=\"none\" stroke=\"black\" d=\"M93.45,-201.21C89.17,-194.55 82.06,-183.48 76.17,-174.32\"/>\n",
       "<polygon fill=\"black\" stroke=\"black\" points=\"79.25,-172.63 70.9,-166.11 73.36,-176.42 79.25,-172.63\"/>\n",
       "</g>\n",
       "<!-- 6 -->\n",
       "<g id=\"node7\" class=\"node\">\n",
       "<title>6</title>\n",
       "<text text-anchor=\"middle\" x=\"115.25\" y=\"-151.7\" font-family=\"Times,serif\" font-size=\"14.00\">&gt; (62)</text>\n",
       "</g>\n",
       "<!-- 2&#45;&gt;6 -->\n",
       "<g id=\"edge6\" class=\"edge\">\n",
       "<title>2&#45;&gt;6</title>\n",
       "<path fill=\"none\" stroke=\"black\" d=\"M99.46,-201.21C101.83,-194.84 105.72,-184.43 109.04,-175.53\"/>\n",
       "<polygon fill=\"black\" stroke=\"black\" points=\"112.28,-176.85 112.5,-166.26 105.72,-174.4 112.28,-176.85\"/>\n",
       "</g>\n",
       "<!-- 5 -->\n",
       "<g id=\"node6\" class=\"node\">\n",
       "<title>5</title>\n",
       "<text text-anchor=\"middle\" x=\"62.25\" y=\"-101.45\" font-family=\"Times,serif\" font-size=\"14.00\">html</text>\n",
       "</g>\n",
       "<!-- 4&#45;&gt;5 -->\n",
       "<g id=\"edge5\" class=\"edge\">\n",
       "<title>4&#45;&gt;5</title>\n",
       "<path fill=\"none\" stroke=\"black\" d=\"M65.76,-150.96C65.24,-144.74 64.41,-134.65 63.68,-125.89\"/>\n",
       "<polygon fill=\"black\" stroke=\"black\" points=\"67.18,-125.77 62.87,-116.1 60.21,-126.35 67.18,-125.77\"/>\n",
       "</g>\n",
       "<!-- 8 -->\n",
       "<g id=\"node9\" class=\"node\">\n",
       "<title>8</title>\n",
       "<text text-anchor=\"middle\" x=\"189.25\" y=\"-151.7\" font-family=\"Times,serif\" font-size=\"14.00\">&lt;xml&#45;tree&gt;</text>\n",
       "</g>\n",
       "<!-- 7&#45;&gt;8 -->\n",
       "<g id=\"edge8\" class=\"edge\">\n",
       "<title>7&#45;&gt;8</title>\n",
       "<path fill=\"none\" stroke=\"black\" d=\"M204.17,-201.21C201.92,-194.84 198.25,-184.43 195.12,-175.53\"/>\n",
       "<polygon fill=\"black\" stroke=\"black\" points=\"198.48,-174.54 191.85,-166.27 191.88,-176.86 198.48,-174.54\"/>\n",
       "</g>\n",
       "<!-- 15 -->\n",
       "<g id=\"node16\" class=\"node\">\n",
       "<title>15</title>\n",
       "<text text-anchor=\"middle\" x=\"270.25\" y=\"-151.7\" font-family=\"Times,serif\" font-size=\"14.00\">&lt;xml&#45;tree&gt;</text>\n",
       "</g>\n",
       "<!-- 7&#45;&gt;15 -->\n",
       "<g id=\"edge15\" class=\"edge\">\n",
       "<title>7&#45;&gt;15</title>\n",
       "<path fill=\"none\" stroke=\"black\" d=\"M214.36,-201.01C224.12,-193.65 240.79,-181.09 253.39,-171.59\"/>\n",
       "<polygon fill=\"black\" stroke=\"black\" points=\"255.32,-174.51 261.2,-165.7 251.11,-168.92 255.32,-174.51\"/>\n",
       "</g>\n",
       "<!-- 9 -->\n",
       "<g id=\"node10\" class=\"node\">\n",
       "<title>9</title>\n",
       "<text text-anchor=\"middle\" x=\"124.25\" y=\"-101.45\" font-family=\"Times,serif\" font-size=\"14.00\">&lt;xml&#45;tree&gt;</text>\n",
       "</g>\n",
       "<!-- 8&#45;&gt;9 -->\n",
       "<g id=\"edge9\" class=\"edge\">\n",
       "<title>8&#45;&gt;9</title>\n",
       "<path fill=\"none\" stroke=\"black\" d=\"M181.02,-150.76C171.1,-143.4 154.17,-130.84 141.38,-121.34\"/>\n",
       "<polygon fill=\"black\" stroke=\"black\" points=\"143.54,-118.59 133.43,-115.44 139.37,-124.21 143.54,-118.59\"/>\n",
       "</g>\n",
       "<!-- 12 -->\n",
       "<g id=\"node13\" class=\"node\">\n",
       "<title>12</title>\n",
       "<text text-anchor=\"middle\" x=\"205.25\" y=\"-101.45\" font-family=\"Times,serif\" font-size=\"14.00\">&lt;xml&#45;tree&gt;</text>\n",
       "</g>\n",
       "<!-- 8&#45;&gt;12 -->\n",
       "<g id=\"edge12\" class=\"edge\">\n",
       "<title>8&#45;&gt;12</title>\n",
       "<path fill=\"none\" stroke=\"black\" d=\"M191.21,-150.96C193.32,-144.59 196.78,-134.18 199.73,-125.28\"/>\n",
       "<polygon fill=\"black\" stroke=\"black\" points=\"202.97,-126.62 202.8,-116.03 196.33,-124.42 202.97,-126.62\"/>\n",
       "</g>\n",
       "<!-- 10 -->\n",
       "<g id=\"node11\" class=\"node\">\n",
       "<title>10</title>\n",
       "<text text-anchor=\"middle\" x=\"124.25\" y=\"-51.2\" font-family=\"Times,serif\" font-size=\"14.00\">&lt;text&gt;</text>\n",
       "</g>\n",
       "<!-- 9&#45;&gt;10 -->\n",
       "<g id=\"edge10\" class=\"edge\">\n",
       "<title>9&#45;&gt;10</title>\n",
       "<path fill=\"none\" stroke=\"black\" d=\"M124.25,-100.71C124.25,-94.49 124.25,-84.4 124.25,-75.64\"/>\n",
       "<polygon fill=\"black\" stroke=\"black\" points=\"127.75,-75.85 124.25,-65.85 120.75,-75.85 127.75,-75.85\"/>\n",
       "</g>\n",
       "<!-- 11 -->\n",
       "<g id=\"node12\" class=\"node\">\n",
       "<title>11</title>\n",
       "<text text-anchor=\"middle\" x=\"124.25\" y=\"-0.95\" font-family=\"Times,serif\" font-size=\"14.00\">Te</text>\n",
       "</g>\n",
       "<!-- 10&#45;&gt;11 -->\n",
       "<g id=\"edge11\" class=\"edge\">\n",
       "<title>10&#45;&gt;11</title>\n",
       "<path fill=\"none\" stroke=\"black\" d=\"M124.25,-50.46C124.25,-44.24 124.25,-34.15 124.25,-25.39\"/>\n",
       "<polygon fill=\"black\" stroke=\"black\" points=\"127.75,-25.6 124.25,-15.6 120.75,-25.6 127.75,-25.6\"/>\n",
       "</g>\n",
       "<!-- 13 -->\n",
       "<g id=\"node14\" class=\"node\">\n",
       "<title>13</title>\n",
       "<text text-anchor=\"middle\" x=\"205.25\" y=\"-51.2\" font-family=\"Times,serif\" font-size=\"14.00\">&lt;text&gt;</text>\n",
       "</g>\n",
       "<!-- 12&#45;&gt;13 -->\n",
       "<g id=\"edge13\" class=\"edge\">\n",
       "<title>12&#45;&gt;13</title>\n",
       "<path fill=\"none\" stroke=\"black\" d=\"M205.25,-100.71C205.25,-94.49 205.25,-84.4 205.25,-75.64\"/>\n",
       "<polygon fill=\"black\" stroke=\"black\" points=\"208.75,-75.85 205.25,-65.85 201.75,-75.85 208.75,-75.85\"/>\n",
       "</g>\n",
       "<!-- 14 -->\n",
       "<g id=\"node15\" class=\"node\">\n",
       "<title>14</title>\n",
       "<text text-anchor=\"middle\" x=\"205.25\" y=\"-0.95\" font-family=\"Times,serif\" font-size=\"14.00\">x (120)</text>\n",
       "</g>\n",
       "<!-- 13&#45;&gt;14 -->\n",
       "<g id=\"edge14\" class=\"edge\">\n",
       "<title>13&#45;&gt;14</title>\n",
       "<path fill=\"none\" stroke=\"black\" d=\"M205.25,-50.46C205.25,-44.24 205.25,-34.15 205.25,-25.39\"/>\n",
       "<polygon fill=\"black\" stroke=\"black\" points=\"208.75,-25.6 205.25,-15.6 201.75,-25.6 208.75,-25.6\"/>\n",
       "</g>\n",
       "<!-- 16 -->\n",
       "<g id=\"node17\" class=\"node\">\n",
       "<title>16</title>\n",
       "<text text-anchor=\"middle\" x=\"273.25\" y=\"-101.45\" font-family=\"Times,serif\" font-size=\"14.00\">&lt;text&gt;</text>\n",
       "</g>\n",
       "<!-- 15&#45;&gt;16 -->\n",
       "<g id=\"edge16\" class=\"edge\">\n",
       "<title>15&#45;&gt;16</title>\n",
       "<path fill=\"none\" stroke=\"black\" d=\"M270.62,-150.96C271,-144.74 271.63,-134.65 272.18,-125.89\"/>\n",
       "<polygon fill=\"black\" stroke=\"black\" points=\"275.66,-126.3 272.79,-116.1 268.67,-125.86 275.66,-126.3\"/>\n",
       "</g>\n",
       "<!-- 17 -->\n",
       "<g id=\"node18\" class=\"node\">\n",
       "<title>17</title>\n",
       "<text text-anchor=\"middle\" x=\"273.25\" y=\"-51.2\" font-family=\"Times,serif\" font-size=\"14.00\">t (116)</text>\n",
       "</g>\n",
       "<!-- 16&#45;&gt;17 -->\n",
       "<g id=\"edge17\" class=\"edge\">\n",
       "<title>16&#45;&gt;17</title>\n",
       "<path fill=\"none\" stroke=\"black\" d=\"M273.25,-100.71C273.25,-94.49 273.25,-84.4 273.25,-75.64\"/>\n",
       "<polygon fill=\"black\" stroke=\"black\" points=\"276.75,-75.85 273.25,-65.85 269.75,-75.85 276.75,-75.85\"/>\n",
       "</g>\n",
       "<!-- 19 -->\n",
       "<g id=\"node20\" class=\"node\">\n",
       "<title>19</title>\n",
       "<text text-anchor=\"middle\" x=\"326.25\" y=\"-151.7\" font-family=\"Times,serif\" font-size=\"14.00\">&lt;/</text>\n",
       "</g>\n",
       "<!-- 18&#45;&gt;19 -->\n",
       "<g id=\"edge19\" class=\"edge\">\n",
       "<title>18&#45;&gt;19</title>\n",
       "<path fill=\"none\" stroke=\"black\" d=\"M342.92,-201.21C340.41,-194.84 336.31,-184.43 332.81,-175.53\"/>\n",
       "<polygon fill=\"black\" stroke=\"black\" points=\"336.07,-174.27 329.15,-166.25 329.56,-176.84 336.07,-174.27\"/>\n",
       "</g>\n",
       "<!-- 20 -->\n",
       "<g id=\"node21\" class=\"node\">\n",
       "<title>20</title>\n",
       "<text text-anchor=\"middle\" x=\"364.25\" y=\"-151.7\" font-family=\"Times,serif\" font-size=\"14.00\">&lt;id&gt;</text>\n",
       "</g>\n",
       "<!-- 18&#45;&gt;20 -->\n",
       "<g id=\"edge20\" class=\"edge\">\n",
       "<title>18&#45;&gt;20</title>\n",
       "<path fill=\"none\" stroke=\"black\" d=\"M347.58,-201.21C350.09,-194.84 354.19,-184.43 357.69,-175.53\"/>\n",
       "<polygon fill=\"black\" stroke=\"black\" points=\"360.94,-176.84 361.35,-166.25 354.43,-174.27 360.94,-176.84\"/>\n",
       "</g>\n",
       "<!-- 22 -->\n",
       "<g id=\"node23\" class=\"node\">\n",
       "<title>22</title>\n",
       "<text text-anchor=\"middle\" x=\"413.25\" y=\"-151.7\" font-family=\"Times,serif\" font-size=\"14.00\">&gt; (62)</text>\n",
       "</g>\n",
       "<!-- 18&#45;&gt;22 -->\n",
       "<g id=\"edge22\" class=\"edge\">\n",
       "<title>18&#45;&gt;22</title>\n",
       "<path fill=\"none\" stroke=\"black\" d=\"M353.86,-201.01C364.34,-193.58 382.3,-180.84 395.73,-171.31\"/>\n",
       "<polygon fill=\"black\" stroke=\"black\" points=\"397.56,-174.3 403.69,-165.66 393.51,-168.59 397.56,-174.3\"/>\n",
       "</g>\n",
       "<!-- 21 -->\n",
       "<g id=\"node22\" class=\"node\">\n",
       "<title>21</title>\n",
       "<text text-anchor=\"middle\" x=\"364.25\" y=\"-101.45\" font-family=\"Times,serif\" font-size=\"14.00\">html</text>\n",
       "</g>\n",
       "<!-- 20&#45;&gt;21 -->\n",
       "<g id=\"edge21\" class=\"edge\">\n",
       "<title>20&#45;&gt;21</title>\n",
       "<path fill=\"none\" stroke=\"black\" d=\"M364.25,-150.96C364.25,-144.74 364.25,-134.65 364.25,-125.89\"/>\n",
       "<polygon fill=\"black\" stroke=\"black\" points=\"367.75,-126.1 364.25,-116.1 360.75,-126.1 367.75,-126.1\"/>\n",
       "</g>\n",
       "</g>\n",
       "</svg>\n"
      ],
      "text/plain": [
       "<graphviz.graphs.Digraph at 0x10a25bbf0>"
      ]
     },
     "metadata": {},
     "output_type": "display_data"
    },
    {
     "data": {
      "image/svg+xml": [
       "<?xml version=\"1.0\" encoding=\"UTF-8\" standalone=\"no\"?>\n",
       "<!DOCTYPE svg PUBLIC \"-//W3C//DTD SVG 1.1//EN\"\n",
       " \"http://www.w3.org/Graphics/SVG/1.1/DTD/svg11.dtd\">\n",
       "<!-- Generated by graphviz version 12.2.1 (20241206.2353)\n",
       " -->\n",
       "<!-- Pages: 1 -->\n",
       "<svg width=\"439pt\" height=\"374pt\"\n",
       " viewBox=\"0.00 0.00 438.50 374.00\" xmlns=\"http://www.w3.org/2000/svg\" xmlns:xlink=\"http://www.w3.org/1999/xlink\">\n",
       "<g id=\"graph0\" class=\"graph\" transform=\"scale(1 1) rotate(0) translate(4 370)\">\n",
       "<polygon fill=\"white\" stroke=\"none\" points=\"-4,4 -4,-370 434.5,-370 434.5,4 -4,4\"/>\n",
       "<!-- 0 -->\n",
       "<g id=\"node1\" class=\"node\">\n",
       "<title>0</title>\n",
       "<text text-anchor=\"middle\" x=\"206.25\" y=\"-352.7\" font-family=\"Times,serif\" font-size=\"14.00\">&lt;start&gt;</text>\n",
       "</g>\n",
       "<!-- 1 -->\n",
       "<g id=\"node2\" class=\"node\">\n",
       "<title>1</title>\n",
       "<text text-anchor=\"middle\" x=\"206.25\" y=\"-302.45\" font-family=\"Times,serif\" font-size=\"14.00\">&lt;xml&#45;tree&gt;</text>\n",
       "</g>\n",
       "<!-- 0&#45;&gt;1 -->\n",
       "<g id=\"edge1\" class=\"edge\">\n",
       "<title>0&#45;&gt;1</title>\n",
       "<path fill=\"none\" stroke=\"black\" d=\"M206.25,-351.96C206.25,-345.74 206.25,-335.65 206.25,-326.89\"/>\n",
       "<polygon fill=\"black\" stroke=\"black\" points=\"209.75,-327.1 206.25,-317.1 202.75,-327.1 209.75,-327.1\"/>\n",
       "</g>\n",
       "<!-- 2 -->\n",
       "<g id=\"node3\" class=\"node\">\n",
       "<title>2</title>\n",
       "<text text-anchor=\"middle\" x=\"97.25\" y=\"-252.2\" font-family=\"Times,serif\" font-size=\"14.00\">&lt;xml&#45;open&#45;tag&gt;</text>\n",
       "</g>\n",
       "<!-- 1&#45;&gt;2 -->\n",
       "<g id=\"edge2\" class=\"edge\">\n",
       "<title>1&#45;&gt;2</title>\n",
       "<path fill=\"none\" stroke=\"black\" d=\"M192.45,-301.51C174.59,-293.61 143.2,-279.71 121.37,-270.05\"/>\n",
       "<polygon fill=\"black\" stroke=\"black\" points=\"122.89,-266.9 112.33,-266.05 120.05,-273.3 122.89,-266.9\"/>\n",
       "</g>\n",
       "<!-- 7 -->\n",
       "<g id=\"node8\" class=\"node\">\n",
       "<title>7</title>\n",
       "<text text-anchor=\"middle\" x=\"206.25\" y=\"-252.2\" font-family=\"Times,serif\" font-size=\"14.00\">&lt;xml&#45;tree&gt;</text>\n",
       "</g>\n",
       "<!-- 1&#45;&gt;7 -->\n",
       "<g id=\"edge7\" class=\"edge\">\n",
       "<title>1&#45;&gt;7</title>\n",
       "<path fill=\"none\" stroke=\"black\" d=\"M206.25,-301.71C206.25,-295.49 206.25,-285.4 206.25,-276.64\"/>\n",
       "<polygon fill=\"black\" stroke=\"black\" points=\"209.75,-276.85 206.25,-266.85 202.75,-276.85 209.75,-276.85\"/>\n",
       "</g>\n",
       "<!-- 22 -->\n",
       "<g id=\"node23\" class=\"node\">\n",
       "<title>22</title>\n",
       "<text text-anchor=\"middle\" x=\"345.25\" y=\"-252.2\" font-family=\"Times,serif\" font-size=\"14.00\">&lt;xml&#45;close&#45;tag&gt;</text>\n",
       "</g>\n",
       "<!-- 1&#45;&gt;22 -->\n",
       "<g id=\"edge22\" class=\"edge\">\n",
       "<title>1&#45;&gt;22</title>\n",
       "<path fill=\"none\" stroke=\"black\" d=\"M223.85,-301.51C247.35,-293.36 289.24,-278.82 317.14,-269.13\"/>\n",
       "<polygon fill=\"black\" stroke=\"black\" points=\"318.06,-272.52 326.36,-265.93 315.76,-265.91 318.06,-272.52\"/>\n",
       "</g>\n",
       "<!-- 3 -->\n",
       "<g id=\"node4\" class=\"node\">\n",
       "<title>3</title>\n",
       "<text text-anchor=\"middle\" x=\"17.25\" y=\"-201.95\" font-family=\"Times,serif\" font-size=\"14.00\">&lt; (60)</text>\n",
       "</g>\n",
       "<!-- 2&#45;&gt;3 -->\n",
       "<g id=\"edge3\" class=\"edge\">\n",
       "<title>2&#45;&gt;3</title>\n",
       "<path fill=\"none\" stroke=\"black\" d=\"M87.12,-251.26C74.49,-243.65 52.65,-230.48 36.74,-220.88\"/>\n",
       "<polygon fill=\"black\" stroke=\"black\" points=\"38.97,-218.14 28.6,-215.97 35.35,-224.13 38.97,-218.14\"/>\n",
       "</g>\n",
       "<!-- 4 -->\n",
       "<g id=\"node5\" class=\"node\">\n",
       "<title>4</title>\n",
       "<text text-anchor=\"middle\" x=\"66.25\" y=\"-201.95\" font-family=\"Times,serif\" font-size=\"14.00\">&lt;id&gt;</text>\n",
       "</g>\n",
       "<!-- 2&#45;&gt;4 -->\n",
       "<g id=\"edge4\" class=\"edge\">\n",
       "<title>2&#45;&gt;4</title>\n",
       "<path fill=\"none\" stroke=\"black\" d=\"M93.45,-251.46C89.17,-244.8 82.06,-233.73 76.17,-224.57\"/>\n",
       "<polygon fill=\"black\" stroke=\"black\" points=\"79.25,-222.88 70.9,-216.36 73.36,-226.67 79.25,-222.88\"/>\n",
       "</g>\n",
       "<!-- 6 -->\n",
       "<g id=\"node7\" class=\"node\">\n",
       "<title>6</title>\n",
       "<text text-anchor=\"middle\" x=\"115.25\" y=\"-201.95\" font-family=\"Times,serif\" font-size=\"14.00\">&gt; (62)</text>\n",
       "</g>\n",
       "<!-- 2&#45;&gt;6 -->\n",
       "<g id=\"edge6\" class=\"edge\">\n",
       "<title>2&#45;&gt;6</title>\n",
       "<path fill=\"none\" stroke=\"black\" d=\"M99.46,-251.46C101.83,-245.09 105.72,-234.68 109.04,-225.78\"/>\n",
       "<polygon fill=\"black\" stroke=\"black\" points=\"112.28,-227.1 112.5,-216.51 105.72,-224.65 112.28,-227.1\"/>\n",
       "</g>\n",
       "<!-- 5 -->\n",
       "<g id=\"node6\" class=\"node\">\n",
       "<title>5</title>\n",
       "<text text-anchor=\"middle\" x=\"62.25\" y=\"-151.7\" font-family=\"Times,serif\" font-size=\"14.00\">html</text>\n",
       "</g>\n",
       "<!-- 4&#45;&gt;5 -->\n",
       "<g id=\"edge5\" class=\"edge\">\n",
       "<title>4&#45;&gt;5</title>\n",
       "<path fill=\"none\" stroke=\"black\" d=\"M65.76,-201.21C65.24,-194.99 64.41,-184.9 63.68,-176.14\"/>\n",
       "<polygon fill=\"black\" stroke=\"black\" points=\"67.18,-176.02 62.87,-166.35 60.21,-176.6 67.18,-176.02\"/>\n",
       "</g>\n",
       "<!-- 8 -->\n",
       "<g id=\"node9\" class=\"node\">\n",
       "<title>8</title>\n",
       "<text text-anchor=\"middle\" x=\"189.25\" y=\"-201.95\" font-family=\"Times,serif\" font-size=\"14.00\">&lt;xml&#45;tree&gt;</text>\n",
       "</g>\n",
       "<!-- 7&#45;&gt;8 -->\n",
       "<g id=\"edge8\" class=\"edge\">\n",
       "<title>7&#45;&gt;8</title>\n",
       "<path fill=\"none\" stroke=\"black\" d=\"M204.17,-251.46C201.92,-245.09 198.25,-234.68 195.12,-225.78\"/>\n",
       "<polygon fill=\"black\" stroke=\"black\" points=\"198.48,-224.79 191.85,-216.52 191.88,-227.11 198.48,-224.79\"/>\n",
       "</g>\n",
       "<!-- 19 -->\n",
       "<g id=\"node20\" class=\"node\">\n",
       "<title>19</title>\n",
       "<text text-anchor=\"middle\" x=\"270.25\" y=\"-201.95\" font-family=\"Times,serif\" font-size=\"14.00\">&lt;xml&#45;tree&gt;</text>\n",
       "</g>\n",
       "<!-- 7&#45;&gt;19 -->\n",
       "<g id=\"edge19\" class=\"edge\">\n",
       "<title>7&#45;&gt;19</title>\n",
       "<path fill=\"none\" stroke=\"black\" d=\"M214.36,-251.26C224.12,-243.9 240.79,-231.34 253.39,-221.84\"/>\n",
       "<polygon fill=\"black\" stroke=\"black\" points=\"255.32,-224.76 261.2,-215.95 251.11,-219.17 255.32,-224.76\"/>\n",
       "</g>\n",
       "<!-- 9 -->\n",
       "<g id=\"node10\" class=\"node\">\n",
       "<title>9</title>\n",
       "<text text-anchor=\"middle\" x=\"124.25\" y=\"-151.7\" font-family=\"Times,serif\" font-size=\"14.00\">&lt;xml&#45;tree&gt;</text>\n",
       "</g>\n",
       "<!-- 8&#45;&gt;9 -->\n",
       "<g id=\"edge9\" class=\"edge\">\n",
       "<title>8&#45;&gt;9</title>\n",
       "<path fill=\"none\" stroke=\"black\" d=\"M181.02,-201.01C171.1,-193.65 154.17,-181.09 141.38,-171.59\"/>\n",
       "<polygon fill=\"black\" stroke=\"black\" points=\"143.54,-168.84 133.43,-165.69 139.37,-174.46 143.54,-168.84\"/>\n",
       "</g>\n",
       "<!-- 16 -->\n",
       "<g id=\"node17\" class=\"node\">\n",
       "<title>16</title>\n",
       "<text text-anchor=\"middle\" x=\"205.25\" y=\"-151.7\" font-family=\"Times,serif\" font-size=\"14.00\">&lt;xml&#45;tree&gt;</text>\n",
       "</g>\n",
       "<!-- 8&#45;&gt;16 -->\n",
       "<g id=\"edge16\" class=\"edge\">\n",
       "<title>8&#45;&gt;16</title>\n",
       "<path fill=\"none\" stroke=\"black\" d=\"M191.21,-201.21C193.32,-194.84 196.78,-184.43 199.73,-175.53\"/>\n",
       "<polygon fill=\"black\" stroke=\"black\" points=\"202.97,-176.87 202.8,-166.28 196.33,-174.67 202.97,-176.87\"/>\n",
       "</g>\n",
       "<!-- 10 -->\n",
       "<g id=\"node11\" class=\"node\">\n",
       "<title>10</title>\n",
       "<text text-anchor=\"middle\" x=\"50.25\" y=\"-101.45\" font-family=\"Times,serif\" font-size=\"14.00\">&lt;xml&#45;tree&gt;</text>\n",
       "</g>\n",
       "<!-- 9&#45;&gt;10 -->\n",
       "<g id=\"edge10\" class=\"edge\">\n",
       "<title>9&#45;&gt;10</title>\n",
       "<path fill=\"none\" stroke=\"black\" d=\"M114.88,-150.76C103.36,-143.25 83.55,-130.34 68.89,-120.78\"/>\n",
       "<polygon fill=\"black\" stroke=\"black\" points=\"70.87,-117.89 60.58,-115.36 67.05,-123.76 70.87,-117.89\"/>\n",
       "</g>\n",
       "<!-- 13 -->\n",
       "<g id=\"node14\" class=\"node\">\n",
       "<title>13</title>\n",
       "<text text-anchor=\"middle\" x=\"131.25\" y=\"-101.45\" font-family=\"Times,serif\" font-size=\"14.00\">&lt;xml&#45;tree&gt;</text>\n",
       "</g>\n",
       "<!-- 9&#45;&gt;13 -->\n",
       "<g id=\"edge13\" class=\"edge\">\n",
       "<title>9&#45;&gt;13</title>\n",
       "<path fill=\"none\" stroke=\"black\" d=\"M125.11,-150.96C126.01,-144.74 127.47,-134.65 128.75,-125.89\"/>\n",
       "<polygon fill=\"black\" stroke=\"black\" points=\"132.2,-126.49 130.17,-116.09 125.27,-125.48 132.2,-126.49\"/>\n",
       "</g>\n",
       "<!-- 11 -->\n",
       "<g id=\"node12\" class=\"node\">\n",
       "<title>11</title>\n",
       "<text text-anchor=\"middle\" x=\"50.25\" y=\"-51.2\" font-family=\"Times,serif\" font-size=\"14.00\">&lt;text&gt;</text>\n",
       "</g>\n",
       "<!-- 10&#45;&gt;11 -->\n",
       "<g id=\"edge11\" class=\"edge\">\n",
       "<title>10&#45;&gt;11</title>\n",
       "<path fill=\"none\" stroke=\"black\" d=\"M50.25,-100.71C50.25,-94.49 50.25,-84.4 50.25,-75.64\"/>\n",
       "<polygon fill=\"black\" stroke=\"black\" points=\"53.75,-75.85 50.25,-65.85 46.75,-75.85 53.75,-75.85\"/>\n",
       "</g>\n",
       "<!-- 12 -->\n",
       "<g id=\"node13\" class=\"node\">\n",
       "<title>12</title>\n",
       "<text text-anchor=\"middle\" x=\"50.25\" y=\"-0.95\" font-family=\"Times,serif\" font-size=\"14.00\">T (84)</text>\n",
       "</g>\n",
       "<!-- 11&#45;&gt;12 -->\n",
       "<g id=\"edge12\" class=\"edge\">\n",
       "<title>11&#45;&gt;12</title>\n",
       "<path fill=\"none\" stroke=\"black\" d=\"M50.25,-50.46C50.25,-44.24 50.25,-34.15 50.25,-25.39\"/>\n",
       "<polygon fill=\"black\" stroke=\"black\" points=\"53.75,-25.6 50.25,-15.6 46.75,-25.6 53.75,-25.6\"/>\n",
       "</g>\n",
       "<!-- 14 -->\n",
       "<g id=\"node15\" class=\"node\">\n",
       "<title>14</title>\n",
       "<text text-anchor=\"middle\" x=\"131.25\" y=\"-51.2\" font-family=\"Times,serif\" font-size=\"14.00\">&lt;text&gt;</text>\n",
       "</g>\n",
       "<!-- 13&#45;&gt;14 -->\n",
       "<g id=\"edge14\" class=\"edge\">\n",
       "<title>13&#45;&gt;14</title>\n",
       "<path fill=\"none\" stroke=\"black\" d=\"M131.25,-100.71C131.25,-94.49 131.25,-84.4 131.25,-75.64\"/>\n",
       "<polygon fill=\"black\" stroke=\"black\" points=\"134.75,-75.85 131.25,-65.85 127.75,-75.85 134.75,-75.85\"/>\n",
       "</g>\n",
       "<!-- 15 -->\n",
       "<g id=\"node16\" class=\"node\">\n",
       "<title>15</title>\n",
       "<text text-anchor=\"middle\" x=\"131.25\" y=\"-0.95\" font-family=\"Times,serif\" font-size=\"14.00\">e (101)</text>\n",
       "</g>\n",
       "<!-- 14&#45;&gt;15 -->\n",
       "<g id=\"edge15\" class=\"edge\">\n",
       "<title>14&#45;&gt;15</title>\n",
       "<path fill=\"none\" stroke=\"black\" d=\"M131.25,-50.46C131.25,-44.24 131.25,-34.15 131.25,-25.39\"/>\n",
       "<polygon fill=\"black\" stroke=\"black\" points=\"134.75,-25.6 131.25,-15.6 127.75,-25.6 134.75,-25.6\"/>\n",
       "</g>\n",
       "<!-- 17 -->\n",
       "<g id=\"node18\" class=\"node\">\n",
       "<title>17</title>\n",
       "<text text-anchor=\"middle\" x=\"205.25\" y=\"-101.45\" font-family=\"Times,serif\" font-size=\"14.00\">&lt;text&gt;</text>\n",
       "</g>\n",
       "<!-- 16&#45;&gt;17 -->\n",
       "<g id=\"edge17\" class=\"edge\">\n",
       "<title>16&#45;&gt;17</title>\n",
       "<path fill=\"none\" stroke=\"black\" d=\"M205.25,-150.96C205.25,-144.74 205.25,-134.65 205.25,-125.89\"/>\n",
       "<polygon fill=\"black\" stroke=\"black\" points=\"208.75,-126.1 205.25,-116.1 201.75,-126.1 208.75,-126.1\"/>\n",
       "</g>\n",
       "<!-- 18 -->\n",
       "<g id=\"node19\" class=\"node\">\n",
       "<title>18</title>\n",
       "<text text-anchor=\"middle\" x=\"205.25\" y=\"-51.2\" font-family=\"Times,serif\" font-size=\"14.00\">x (120)</text>\n",
       "</g>\n",
       "<!-- 17&#45;&gt;18 -->\n",
       "<g id=\"edge18\" class=\"edge\">\n",
       "<title>17&#45;&gt;18</title>\n",
       "<path fill=\"none\" stroke=\"black\" d=\"M205.25,-100.71C205.25,-94.49 205.25,-84.4 205.25,-75.64\"/>\n",
       "<polygon fill=\"black\" stroke=\"black\" points=\"208.75,-75.85 205.25,-65.85 201.75,-75.85 208.75,-75.85\"/>\n",
       "</g>\n",
       "<!-- 20 -->\n",
       "<g id=\"node21\" class=\"node\">\n",
       "<title>20</title>\n",
       "<text text-anchor=\"middle\" x=\"273.25\" y=\"-151.7\" font-family=\"Times,serif\" font-size=\"14.00\">&lt;text&gt;</text>\n",
       "</g>\n",
       "<!-- 19&#45;&gt;20 -->\n",
       "<g id=\"edge20\" class=\"edge\">\n",
       "<title>19&#45;&gt;20</title>\n",
       "<path fill=\"none\" stroke=\"black\" d=\"M270.62,-201.21C271,-194.99 271.63,-184.9 272.18,-176.14\"/>\n",
       "<polygon fill=\"black\" stroke=\"black\" points=\"275.66,-176.55 272.79,-166.35 268.67,-176.11 275.66,-176.55\"/>\n",
       "</g>\n",
       "<!-- 21 -->\n",
       "<g id=\"node22\" class=\"node\">\n",
       "<title>21</title>\n",
       "<text text-anchor=\"middle\" x=\"273.25\" y=\"-101.45\" font-family=\"Times,serif\" font-size=\"14.00\">t (116)</text>\n",
       "</g>\n",
       "<!-- 20&#45;&gt;21 -->\n",
       "<g id=\"edge21\" class=\"edge\">\n",
       "<title>20&#45;&gt;21</title>\n",
       "<path fill=\"none\" stroke=\"black\" d=\"M273.25,-150.96C273.25,-144.74 273.25,-134.65 273.25,-125.89\"/>\n",
       "<polygon fill=\"black\" stroke=\"black\" points=\"276.75,-126.1 273.25,-116.1 269.75,-126.1 276.75,-126.1\"/>\n",
       "</g>\n",
       "<!-- 23 -->\n",
       "<g id=\"node24\" class=\"node\">\n",
       "<title>23</title>\n",
       "<text text-anchor=\"middle\" x=\"326.25\" y=\"-201.95\" font-family=\"Times,serif\" font-size=\"14.00\">&lt;/</text>\n",
       "</g>\n",
       "<!-- 22&#45;&gt;23 -->\n",
       "<g id=\"edge23\" class=\"edge\">\n",
       "<title>22&#45;&gt;23</title>\n",
       "<path fill=\"none\" stroke=\"black\" d=\"M342.92,-251.46C340.41,-245.09 336.31,-234.68 332.81,-225.78\"/>\n",
       "<polygon fill=\"black\" stroke=\"black\" points=\"336.07,-224.52 329.15,-216.5 329.56,-227.09 336.07,-224.52\"/>\n",
       "</g>\n",
       "<!-- 24 -->\n",
       "<g id=\"node25\" class=\"node\">\n",
       "<title>24</title>\n",
       "<text text-anchor=\"middle\" x=\"364.25\" y=\"-201.95\" font-family=\"Times,serif\" font-size=\"14.00\">&lt;id&gt;</text>\n",
       "</g>\n",
       "<!-- 22&#45;&gt;24 -->\n",
       "<g id=\"edge24\" class=\"edge\">\n",
       "<title>22&#45;&gt;24</title>\n",
       "<path fill=\"none\" stroke=\"black\" d=\"M347.58,-251.46C350.09,-245.09 354.19,-234.68 357.69,-225.78\"/>\n",
       "<polygon fill=\"black\" stroke=\"black\" points=\"360.94,-227.09 361.35,-216.5 354.43,-224.52 360.94,-227.09\"/>\n",
       "</g>\n",
       "<!-- 26 -->\n",
       "<g id=\"node27\" class=\"node\">\n",
       "<title>26</title>\n",
       "<text text-anchor=\"middle\" x=\"413.25\" y=\"-201.95\" font-family=\"Times,serif\" font-size=\"14.00\">&gt; (62)</text>\n",
       "</g>\n",
       "<!-- 22&#45;&gt;26 -->\n",
       "<g id=\"edge26\" class=\"edge\">\n",
       "<title>22&#45;&gt;26</title>\n",
       "<path fill=\"none\" stroke=\"black\" d=\"M353.86,-251.26C364.34,-243.83 382.3,-231.09 395.73,-221.56\"/>\n",
       "<polygon fill=\"black\" stroke=\"black\" points=\"397.56,-224.55 403.69,-215.91 393.51,-218.84 397.56,-224.55\"/>\n",
       "</g>\n",
       "<!-- 25 -->\n",
       "<g id=\"node26\" class=\"node\">\n",
       "<title>25</title>\n",
       "<text text-anchor=\"middle\" x=\"364.25\" y=\"-151.7\" font-family=\"Times,serif\" font-size=\"14.00\">html</text>\n",
       "</g>\n",
       "<!-- 24&#45;&gt;25 -->\n",
       "<g id=\"edge25\" class=\"edge\">\n",
       "<title>24&#45;&gt;25</title>\n",
       "<path fill=\"none\" stroke=\"black\" d=\"M364.25,-201.21C364.25,-194.99 364.25,-184.9 364.25,-176.14\"/>\n",
       "<polygon fill=\"black\" stroke=\"black\" points=\"367.75,-176.35 364.25,-166.35 360.75,-176.35 367.75,-176.35\"/>\n",
       "</g>\n",
       "</g>\n",
       "</svg>\n"
      ],
      "text/plain": [
       "<graphviz.graphs.Digraph at 0x10a06d790>"
      ]
     },
     "metadata": {},
     "output_type": "display_data"
    },
    {
     "data": {
      "image/svg+xml": [
       "<?xml version=\"1.0\" encoding=\"UTF-8\" standalone=\"no\"?>\n",
       "<!DOCTYPE svg PUBLIC \"-//W3C//DTD SVG 1.1//EN\"\n",
       " \"http://www.w3.org/Graphics/SVG/1.1/DTD/svg11.dtd\">\n",
       "<!-- Generated by graphviz version 12.2.1 (20241206.2353)\n",
       " -->\n",
       "<!-- Pages: 1 -->\n",
       "<svg width=\"445pt\" height=\"374pt\"\n",
       " viewBox=\"0.00 0.00 444.50 374.00\" xmlns=\"http://www.w3.org/2000/svg\" xmlns:xlink=\"http://www.w3.org/1999/xlink\">\n",
       "<g id=\"graph0\" class=\"graph\" transform=\"scale(1 1) rotate(0) translate(4 370)\">\n",
       "<polygon fill=\"white\" stroke=\"none\" points=\"-4,4 -4,-370 440.5,-370 440.5,4 -4,4\"/>\n",
       "<!-- 0 -->\n",
       "<g id=\"node1\" class=\"node\">\n",
       "<title>0</title>\n",
       "<text text-anchor=\"middle\" x=\"211.25\" y=\"-352.7\" font-family=\"Times,serif\" font-size=\"14.00\">&lt;start&gt;</text>\n",
       "</g>\n",
       "<!-- 1 -->\n",
       "<g id=\"node2\" class=\"node\">\n",
       "<title>1</title>\n",
       "<text text-anchor=\"middle\" x=\"211.25\" y=\"-302.45\" font-family=\"Times,serif\" font-size=\"14.00\">&lt;xml&#45;tree&gt;</text>\n",
       "</g>\n",
       "<!-- 0&#45;&gt;1 -->\n",
       "<g id=\"edge1\" class=\"edge\">\n",
       "<title>0&#45;&gt;1</title>\n",
       "<path fill=\"none\" stroke=\"black\" d=\"M211.25,-351.96C211.25,-345.74 211.25,-335.65 211.25,-326.89\"/>\n",
       "<polygon fill=\"black\" stroke=\"black\" points=\"214.75,-327.1 211.25,-317.1 207.75,-327.1 214.75,-327.1\"/>\n",
       "</g>\n",
       "<!-- 2 -->\n",
       "<g id=\"node3\" class=\"node\">\n",
       "<title>2</title>\n",
       "<text text-anchor=\"middle\" x=\"99.25\" y=\"-252.2\" font-family=\"Times,serif\" font-size=\"14.00\">&lt;xml&#45;open&#45;tag&gt;</text>\n",
       "</g>\n",
       "<!-- 1&#45;&gt;2 -->\n",
       "<g id=\"edge2\" class=\"edge\">\n",
       "<title>1&#45;&gt;2</title>\n",
       "<path fill=\"none\" stroke=\"black\" d=\"M197.07,-301.51C178.64,-293.57 146.17,-279.59 123.72,-269.92\"/>\n",
       "<polygon fill=\"black\" stroke=\"black\" points=\"125.28,-266.78 114.71,-266.04 122.51,-273.21 125.28,-266.78\"/>\n",
       "</g>\n",
       "<!-- 7 -->\n",
       "<g id=\"node8\" class=\"node\">\n",
       "<title>7</title>\n",
       "<text text-anchor=\"middle\" x=\"211.25\" y=\"-252.2\" font-family=\"Times,serif\" font-size=\"14.00\">&lt;xml&#45;tree&gt;</text>\n",
       "</g>\n",
       "<!-- 1&#45;&gt;7 -->\n",
       "<g id=\"edge7\" class=\"edge\">\n",
       "<title>1&#45;&gt;7</title>\n",
       "<path fill=\"none\" stroke=\"black\" d=\"M211.25,-301.71C211.25,-295.49 211.25,-285.4 211.25,-276.64\"/>\n",
       "<polygon fill=\"black\" stroke=\"black\" points=\"214.75,-276.85 211.25,-266.85 207.75,-276.85 214.75,-276.85\"/>\n",
       "</g>\n",
       "<!-- 22 -->\n",
       "<g id=\"node23\" class=\"node\">\n",
       "<title>22</title>\n",
       "<text text-anchor=\"middle\" x=\"351.25\" y=\"-252.2\" font-family=\"Times,serif\" font-size=\"14.00\">&lt;xml&#45;close&#45;tag&gt;</text>\n",
       "</g>\n",
       "<!-- 1&#45;&gt;22 -->\n",
       "<g id=\"edge22\" class=\"edge\">\n",
       "<title>1&#45;&gt;22</title>\n",
       "<path fill=\"none\" stroke=\"black\" d=\"M228.98,-301.51C252.65,-293.36 294.84,-278.82 322.94,-269.13\"/>\n",
       "<polygon fill=\"black\" stroke=\"black\" points=\"323.92,-272.5 332.23,-265.93 321.64,-265.88 323.92,-272.5\"/>\n",
       "</g>\n",
       "<!-- 3 -->\n",
       "<g id=\"node4\" class=\"node\">\n",
       "<title>3</title>\n",
       "<text text-anchor=\"middle\" x=\"17.25\" y=\"-201.95\" font-family=\"Times,serif\" font-size=\"14.00\">&lt; (60)</text>\n",
       "</g>\n",
       "<!-- 2&#45;&gt;3 -->\n",
       "<g id=\"edge3\" class=\"edge\">\n",
       "<title>2&#45;&gt;3</title>\n",
       "<path fill=\"none\" stroke=\"black\" d=\"M88.86,-251.26C75.93,-243.65 53.54,-230.48 37.23,-220.88\"/>\n",
       "<polygon fill=\"black\" stroke=\"black\" points=\"39.25,-218.01 28.86,-215.95 35.7,-224.04 39.25,-218.01\"/>\n",
       "</g>\n",
       "<!-- 4 -->\n",
       "<g id=\"node5\" class=\"node\">\n",
       "<title>4</title>\n",
       "<text text-anchor=\"middle\" x=\"66.25\" y=\"-201.95\" font-family=\"Times,serif\" font-size=\"14.00\">&lt;id&gt;</text>\n",
       "</g>\n",
       "<!-- 2&#45;&gt;4 -->\n",
       "<g id=\"edge4\" class=\"edge\">\n",
       "<title>2&#45;&gt;4</title>\n",
       "<path fill=\"none\" stroke=\"black\" d=\"M95.2,-251.46C90.65,-244.8 83.08,-233.73 76.81,-224.57\"/>\n",
       "<polygon fill=\"black\" stroke=\"black\" points=\"79.72,-222.62 71.18,-216.34 73.94,-226.57 79.72,-222.62\"/>\n",
       "</g>\n",
       "<!-- 6 -->\n",
       "<g id=\"node7\" class=\"node\">\n",
       "<title>6</title>\n",
       "<text text-anchor=\"middle\" x=\"115.25\" y=\"-201.95\" font-family=\"Times,serif\" font-size=\"14.00\">&gt; (62)</text>\n",
       "</g>\n",
       "<!-- 2&#45;&gt;6 -->\n",
       "<g id=\"edge6\" class=\"edge\">\n",
       "<title>2&#45;&gt;6</title>\n",
       "<path fill=\"none\" stroke=\"black\" d=\"M101.21,-251.46C103.32,-245.09 106.78,-234.68 109.73,-225.78\"/>\n",
       "<polygon fill=\"black\" stroke=\"black\" points=\"112.97,-227.12 112.8,-216.53 106.33,-224.92 112.97,-227.12\"/>\n",
       "</g>\n",
       "<!-- 5 -->\n",
       "<g id=\"node6\" class=\"node\">\n",
       "<title>5</title>\n",
       "<text text-anchor=\"middle\" x=\"58.25\" y=\"-151.7\" font-family=\"Times,serif\" font-size=\"14.00\">html</text>\n",
       "</g>\n",
       "<!-- 4&#45;&gt;5 -->\n",
       "<g id=\"edge5\" class=\"edge\">\n",
       "<title>4&#45;&gt;5</title>\n",
       "<path fill=\"none\" stroke=\"black\" d=\"M65.27,-201.21C64.24,-194.99 62.57,-184.9 61.11,-176.14\"/>\n",
       "<polygon fill=\"black\" stroke=\"black\" points=\"64.58,-175.63 59.49,-166.33 57.67,-176.77 64.58,-175.63\"/>\n",
       "</g>\n",
       "<!-- 8 -->\n",
       "<g id=\"node9\" class=\"node\">\n",
       "<title>8</title>\n",
       "<text text-anchor=\"middle\" x=\"195.25\" y=\"-201.95\" font-family=\"Times,serif\" font-size=\"14.00\">&lt;xml&#45;tree&gt;</text>\n",
       "</g>\n",
       "<!-- 7&#45;&gt;8 -->\n",
       "<g id=\"edge8\" class=\"edge\">\n",
       "<title>7&#45;&gt;8</title>\n",
       "<path fill=\"none\" stroke=\"black\" d=\"M209.29,-251.46C207.18,-245.09 203.72,-234.68 200.77,-225.78\"/>\n",
       "<polygon fill=\"black\" stroke=\"black\" points=\"204.17,-224.92 197.7,-216.53 197.53,-227.12 204.17,-224.92\"/>\n",
       "</g>\n",
       "<!-- 19 -->\n",
       "<g id=\"node20\" class=\"node\">\n",
       "<title>19</title>\n",
       "<text text-anchor=\"middle\" x=\"276.25\" y=\"-201.95\" font-family=\"Times,serif\" font-size=\"14.00\">&lt;xml&#45;tree&gt;</text>\n",
       "</g>\n",
       "<!-- 7&#45;&gt;19 -->\n",
       "<g id=\"edge19\" class=\"edge\">\n",
       "<title>7&#45;&gt;19</title>\n",
       "<path fill=\"none\" stroke=\"black\" d=\"M219.48,-251.26C229.4,-243.9 246.33,-231.34 259.12,-221.84\"/>\n",
       "<polygon fill=\"black\" stroke=\"black\" points=\"261.13,-224.71 267.07,-215.94 256.96,-219.09 261.13,-224.71\"/>\n",
       "</g>\n",
       "<!-- 9 -->\n",
       "<g id=\"node10\" class=\"node\">\n",
       "<title>9</title>\n",
       "<text text-anchor=\"middle\" x=\"120.25\" y=\"-151.7\" font-family=\"Times,serif\" font-size=\"14.00\">&lt;xml&#45;tree&gt;</text>\n",
       "</g>\n",
       "<!-- 8&#45;&gt;9 -->\n",
       "<g id=\"edge9\" class=\"edge\">\n",
       "<title>8&#45;&gt;9</title>\n",
       "<path fill=\"none\" stroke=\"black\" d=\"M185.75,-201.01C173.97,-193.43 153.61,-180.33 138.71,-170.75\"/>\n",
       "<polygon fill=\"black\" stroke=\"black\" points=\"141.01,-168.07 130.71,-165.6 137.23,-173.96 141.01,-168.07\"/>\n",
       "</g>\n",
       "<!-- 12 -->\n",
       "<g id=\"node13\" class=\"node\">\n",
       "<title>12</title>\n",
       "<text text-anchor=\"middle\" x=\"201.25\" y=\"-151.7\" font-family=\"Times,serif\" font-size=\"14.00\">&lt;xml&#45;tree&gt;</text>\n",
       "</g>\n",
       "<!-- 8&#45;&gt;12 -->\n",
       "<g id=\"edge12\" class=\"edge\">\n",
       "<title>8&#45;&gt;12</title>\n",
       "<path fill=\"none\" stroke=\"black\" d=\"M195.99,-201.21C196.76,-194.99 198.01,-184.9 199.1,-176.14\"/>\n",
       "<polygon fill=\"black\" stroke=\"black\" points=\"202.56,-176.7 200.32,-166.34 195.61,-175.83 202.56,-176.7\"/>\n",
       "</g>\n",
       "<!-- 10 -->\n",
       "<g id=\"node11\" class=\"node\">\n",
       "<title>10</title>\n",
       "<text text-anchor=\"middle\" x=\"100.25\" y=\"-101.45\" font-family=\"Times,serif\" font-size=\"14.00\">&lt;text&gt;</text>\n",
       "</g>\n",
       "<!-- 9&#45;&gt;10 -->\n",
       "<g id=\"edge10\" class=\"edge\">\n",
       "<title>9&#45;&gt;10</title>\n",
       "<path fill=\"none\" stroke=\"black\" d=\"M117.8,-150.96C115.13,-144.52 110.74,-133.94 107.03,-124.97\"/>\n",
       "<polygon fill=\"black\" stroke=\"black\" points=\"110.36,-123.89 103.3,-115.99 103.9,-126.57 110.36,-123.89\"/>\n",
       "</g>\n",
       "<!-- 11 -->\n",
       "<g id=\"node12\" class=\"node\">\n",
       "<title>11</title>\n",
       "<text text-anchor=\"middle\" x=\"100.25\" y=\"-51.2\" font-family=\"Times,serif\" font-size=\"14.00\">T (84)</text>\n",
       "</g>\n",
       "<!-- 10&#45;&gt;11 -->\n",
       "<g id=\"edge11\" class=\"edge\">\n",
       "<title>10&#45;&gt;11</title>\n",
       "<path fill=\"none\" stroke=\"black\" d=\"M100.25,-100.71C100.25,-94.49 100.25,-84.4 100.25,-75.64\"/>\n",
       "<polygon fill=\"black\" stroke=\"black\" points=\"103.75,-75.85 100.25,-65.85 96.75,-75.85 103.75,-75.85\"/>\n",
       "</g>\n",
       "<!-- 13 -->\n",
       "<g id=\"node14\" class=\"node\">\n",
       "<title>13</title>\n",
       "<text text-anchor=\"middle\" x=\"168.25\" y=\"-101.45\" font-family=\"Times,serif\" font-size=\"14.00\">&lt;xml&#45;tree&gt;</text>\n",
       "</g>\n",
       "<!-- 12&#45;&gt;13 -->\n",
       "<g id=\"edge13\" class=\"edge\">\n",
       "<title>12&#45;&gt;13</title>\n",
       "<path fill=\"none\" stroke=\"black\" d=\"M197.2,-150.96C192.65,-144.3 185.08,-133.23 178.81,-124.07\"/>\n",
       "<polygon fill=\"black\" stroke=\"black\" points=\"181.72,-122.12 173.18,-115.84 175.94,-126.07 181.72,-122.12\"/>\n",
       "</g>\n",
       "<!-- 16 -->\n",
       "<g id=\"node17\" class=\"node\">\n",
       "<title>16</title>\n",
       "<text text-anchor=\"middle\" x=\"249.25\" y=\"-101.45\" font-family=\"Times,serif\" font-size=\"14.00\">&lt;xml&#45;tree&gt;</text>\n",
       "</g>\n",
       "<!-- 12&#45;&gt;16 -->\n",
       "<g id=\"edge16\" class=\"edge\">\n",
       "<title>12&#45;&gt;16</title>\n",
       "<path fill=\"none\" stroke=\"black\" d=\"M207.14,-150.96C214.12,-143.94 225.99,-132.01 235.35,-122.6\"/>\n",
       "<polygon fill=\"black\" stroke=\"black\" points=\"237.68,-125.22 242.25,-115.66 232.71,-120.28 237.68,-125.22\"/>\n",
       "</g>\n",
       "<!-- 14 -->\n",
       "<g id=\"node15\" class=\"node\">\n",
       "<title>14</title>\n",
       "<text text-anchor=\"middle\" x=\"168.25\" y=\"-51.2\" font-family=\"Times,serif\" font-size=\"14.00\">&lt;text&gt;</text>\n",
       "</g>\n",
       "<!-- 13&#45;&gt;14 -->\n",
       "<g id=\"edge14\" class=\"edge\">\n",
       "<title>13&#45;&gt;14</title>\n",
       "<path fill=\"none\" stroke=\"black\" d=\"M168.25,-100.71C168.25,-94.49 168.25,-84.4 168.25,-75.64\"/>\n",
       "<polygon fill=\"black\" stroke=\"black\" points=\"171.75,-75.85 168.25,-65.85 164.75,-75.85 171.75,-75.85\"/>\n",
       "</g>\n",
       "<!-- 15 -->\n",
       "<g id=\"node16\" class=\"node\">\n",
       "<title>15</title>\n",
       "<text text-anchor=\"middle\" x=\"168.25\" y=\"-0.95\" font-family=\"Times,serif\" font-size=\"14.00\">e (101)</text>\n",
       "</g>\n",
       "<!-- 14&#45;&gt;15 -->\n",
       "<g id=\"edge15\" class=\"edge\">\n",
       "<title>14&#45;&gt;15</title>\n",
       "<path fill=\"none\" stroke=\"black\" d=\"M168.25,-50.46C168.25,-44.24 168.25,-34.15 168.25,-25.39\"/>\n",
       "<polygon fill=\"black\" stroke=\"black\" points=\"171.75,-25.6 168.25,-15.6 164.75,-25.6 171.75,-25.6\"/>\n",
       "</g>\n",
       "<!-- 17 -->\n",
       "<g id=\"node18\" class=\"node\">\n",
       "<title>17</title>\n",
       "<text text-anchor=\"middle\" x=\"249.25\" y=\"-51.2\" font-family=\"Times,serif\" font-size=\"14.00\">&lt;text&gt;</text>\n",
       "</g>\n",
       "<!-- 16&#45;&gt;17 -->\n",
       "<g id=\"edge17\" class=\"edge\">\n",
       "<title>16&#45;&gt;17</title>\n",
       "<path fill=\"none\" stroke=\"black\" d=\"M249.25,-100.71C249.25,-94.49 249.25,-84.4 249.25,-75.64\"/>\n",
       "<polygon fill=\"black\" stroke=\"black\" points=\"252.75,-75.85 249.25,-65.85 245.75,-75.85 252.75,-75.85\"/>\n",
       "</g>\n",
       "<!-- 18 -->\n",
       "<g id=\"node19\" class=\"node\">\n",
       "<title>18</title>\n",
       "<text text-anchor=\"middle\" x=\"249.25\" y=\"-0.95\" font-family=\"Times,serif\" font-size=\"14.00\">x (120)</text>\n",
       "</g>\n",
       "<!-- 17&#45;&gt;18 -->\n",
       "<g id=\"edge18\" class=\"edge\">\n",
       "<title>17&#45;&gt;18</title>\n",
       "<path fill=\"none\" stroke=\"black\" d=\"M249.25,-50.46C249.25,-44.24 249.25,-34.15 249.25,-25.39\"/>\n",
       "<polygon fill=\"black\" stroke=\"black\" points=\"252.75,-25.6 249.25,-15.6 245.75,-25.6 252.75,-25.6\"/>\n",
       "</g>\n",
       "<!-- 20 -->\n",
       "<g id=\"node21\" class=\"node\">\n",
       "<title>20</title>\n",
       "<text text-anchor=\"middle\" x=\"298.25\" y=\"-151.7\" font-family=\"Times,serif\" font-size=\"14.00\">&lt;text&gt;</text>\n",
       "</g>\n",
       "<!-- 19&#45;&gt;20 -->\n",
       "<g id=\"edge20\" class=\"edge\">\n",
       "<title>19&#45;&gt;20</title>\n",
       "<path fill=\"none\" stroke=\"black\" d=\"M278.95,-201.21C281.88,-194.77 286.71,-184.19 290.8,-175.22\"/>\n",
       "<polygon fill=\"black\" stroke=\"black\" points=\"293.94,-176.77 294.9,-166.22 287.57,-173.86 293.94,-176.77\"/>\n",
       "</g>\n",
       "<!-- 21 -->\n",
       "<g id=\"node22\" class=\"node\">\n",
       "<title>21</title>\n",
       "<text text-anchor=\"middle\" x=\"317.25\" y=\"-101.45\" font-family=\"Times,serif\" font-size=\"14.00\">t (116)</text>\n",
       "</g>\n",
       "<!-- 20&#45;&gt;21 -->\n",
       "<g id=\"edge21\" class=\"edge\">\n",
       "<title>20&#45;&gt;21</title>\n",
       "<path fill=\"none\" stroke=\"black\" d=\"M300.58,-150.96C303.09,-144.59 307.19,-134.18 310.69,-125.28\"/>\n",
       "<polygon fill=\"black\" stroke=\"black\" points=\"313.94,-126.59 314.35,-116 307.43,-124.02 313.94,-126.59\"/>\n",
       "</g>\n",
       "<!-- 23 -->\n",
       "<g id=\"node24\" class=\"node\">\n",
       "<title>23</title>\n",
       "<text text-anchor=\"middle\" x=\"332.25\" y=\"-201.95\" font-family=\"Times,serif\" font-size=\"14.00\">&lt;/</text>\n",
       "</g>\n",
       "<!-- 22&#45;&gt;23 -->\n",
       "<g id=\"edge23\" class=\"edge\">\n",
       "<title>22&#45;&gt;23</title>\n",
       "<path fill=\"none\" stroke=\"black\" d=\"M348.92,-251.46C346.41,-245.09 342.31,-234.68 338.81,-225.78\"/>\n",
       "<polygon fill=\"black\" stroke=\"black\" points=\"342.07,-224.52 335.15,-216.5 335.56,-227.09 342.07,-224.52\"/>\n",
       "</g>\n",
       "<!-- 24 -->\n",
       "<g id=\"node25\" class=\"node\">\n",
       "<title>24</title>\n",
       "<text text-anchor=\"middle\" x=\"370.25\" y=\"-201.95\" font-family=\"Times,serif\" font-size=\"14.00\">&lt;id&gt;</text>\n",
       "</g>\n",
       "<!-- 22&#45;&gt;24 -->\n",
       "<g id=\"edge24\" class=\"edge\">\n",
       "<title>22&#45;&gt;24</title>\n",
       "<path fill=\"none\" stroke=\"black\" d=\"M353.58,-251.46C356.09,-245.09 360.19,-234.68 363.69,-225.78\"/>\n",
       "<polygon fill=\"black\" stroke=\"black\" points=\"366.94,-227.09 367.35,-216.5 360.43,-224.52 366.94,-227.09\"/>\n",
       "</g>\n",
       "<!-- 26 -->\n",
       "<g id=\"node27\" class=\"node\">\n",
       "<title>26</title>\n",
       "<text text-anchor=\"middle\" x=\"419.25\" y=\"-201.95\" font-family=\"Times,serif\" font-size=\"14.00\">&gt; (62)</text>\n",
       "</g>\n",
       "<!-- 22&#45;&gt;26 -->\n",
       "<g id=\"edge26\" class=\"edge\">\n",
       "<title>22&#45;&gt;26</title>\n",
       "<path fill=\"none\" stroke=\"black\" d=\"M359.86,-251.26C370.34,-243.83 388.3,-231.09 401.73,-221.56\"/>\n",
       "<polygon fill=\"black\" stroke=\"black\" points=\"403.56,-224.55 409.69,-215.91 399.51,-218.84 403.56,-224.55\"/>\n",
       "</g>\n",
       "<!-- 25 -->\n",
       "<g id=\"node26\" class=\"node\">\n",
       "<title>25</title>\n",
       "<text text-anchor=\"middle\" x=\"370.25\" y=\"-151.7\" font-family=\"Times,serif\" font-size=\"14.00\">html</text>\n",
       "</g>\n",
       "<!-- 24&#45;&gt;25 -->\n",
       "<g id=\"edge25\" class=\"edge\">\n",
       "<title>24&#45;&gt;25</title>\n",
       "<path fill=\"none\" stroke=\"black\" d=\"M370.25,-201.21C370.25,-194.99 370.25,-184.9 370.25,-176.14\"/>\n",
       "<polygon fill=\"black\" stroke=\"black\" points=\"373.75,-176.35 370.25,-166.35 366.75,-176.35 373.75,-176.35\"/>\n",
       "</g>\n",
       "</g>\n",
       "</svg>\n"
      ],
      "text/plain": [
       "<graphviz.graphs.Digraph at 0x10a260200>"
      ]
     },
     "metadata": {},
     "output_type": "display_data"
    },
    {
     "data": {
      "image/svg+xml": [
       "<?xml version=\"1.0\" encoding=\"UTF-8\" standalone=\"no\"?>\n",
       "<!DOCTYPE svg PUBLIC \"-//W3C//DTD SVG 1.1//EN\"\n",
       " \"http://www.w3.org/Graphics/SVG/1.1/DTD/svg11.dtd\">\n",
       "<!-- Generated by graphviz version 12.2.1 (20241206.2353)\n",
       " -->\n",
       "<!-- Pages: 1 -->\n",
       "<svg width=\"450pt\" height=\"324pt\"\n",
       " viewBox=\"0.00 0.00 449.50 323.75\" xmlns=\"http://www.w3.org/2000/svg\" xmlns:xlink=\"http://www.w3.org/1999/xlink\">\n",
       "<g id=\"graph0\" class=\"graph\" transform=\"scale(1 1) rotate(0) translate(4 319.75)\">\n",
       "<polygon fill=\"white\" stroke=\"none\" points=\"-4,4 -4,-319.75 445.5,-319.75 445.5,4 -4,4\"/>\n",
       "<!-- 0 -->\n",
       "<g id=\"node1\" class=\"node\">\n",
       "<title>0</title>\n",
       "<text text-anchor=\"middle\" x=\"201.25\" y=\"-302.45\" font-family=\"Times,serif\" font-size=\"14.00\">&lt;start&gt;</text>\n",
       "</g>\n",
       "<!-- 1 -->\n",
       "<g id=\"node2\" class=\"node\">\n",
       "<title>1</title>\n",
       "<text text-anchor=\"middle\" x=\"201.25\" y=\"-252.2\" font-family=\"Times,serif\" font-size=\"14.00\">&lt;xml&#45;tree&gt;</text>\n",
       "</g>\n",
       "<!-- 0&#45;&gt;1 -->\n",
       "<g id=\"edge1\" class=\"edge\">\n",
       "<title>0&#45;&gt;1</title>\n",
       "<path fill=\"none\" stroke=\"black\" d=\"M201.25,-301.71C201.25,-295.49 201.25,-285.4 201.25,-276.64\"/>\n",
       "<polygon fill=\"black\" stroke=\"black\" points=\"204.75,-276.85 201.25,-266.85 197.75,-276.85 204.75,-276.85\"/>\n",
       "</g>\n",
       "<!-- 2 -->\n",
       "<g id=\"node3\" class=\"node\">\n",
       "<title>2</title>\n",
       "<text text-anchor=\"middle\" x=\"96.25\" y=\"-201.95\" font-family=\"Times,serif\" font-size=\"14.00\">&lt;xml&#45;open&#45;tag&gt;</text>\n",
       "</g>\n",
       "<!-- 1&#45;&gt;2 -->\n",
       "<g id=\"edge2\" class=\"edge\">\n",
       "<title>1&#45;&gt;2</title>\n",
       "<path fill=\"none\" stroke=\"black\" d=\"M187.95,-251.26C170.83,-243.4 140.79,-229.59 119.77,-219.93\"/>\n",
       "<polygon fill=\"black\" stroke=\"black\" points=\"121.36,-216.81 110.82,-215.82 118.44,-223.17 121.36,-216.81\"/>\n",
       "</g>\n",
       "<!-- 7 -->\n",
       "<g id=\"node8\" class=\"node\">\n",
       "<title>7</title>\n",
       "<text text-anchor=\"middle\" x=\"201.25\" y=\"-201.95\" font-family=\"Times,serif\" font-size=\"14.00\">&lt;xml&#45;tree&gt;</text>\n",
       "</g>\n",
       "<!-- 1&#45;&gt;7 -->\n",
       "<g id=\"edge7\" class=\"edge\">\n",
       "<title>1&#45;&gt;7</title>\n",
       "<path fill=\"none\" stroke=\"black\" d=\"M201.25,-251.46C201.25,-245.24 201.25,-235.15 201.25,-226.39\"/>\n",
       "<polygon fill=\"black\" stroke=\"black\" points=\"204.75,-226.6 201.25,-216.6 197.75,-226.6 204.75,-226.6\"/>\n",
       "</g>\n",
       "<!-- 18 -->\n",
       "<g id=\"node19\" class=\"node\">\n",
       "<title>18</title>\n",
       "<text text-anchor=\"middle\" x=\"356.25\" y=\"-201.95\" font-family=\"Times,serif\" font-size=\"14.00\">&lt;xml&#45;close&#45;tag&gt;</text>\n",
       "</g>\n",
       "<!-- 1&#45;&gt;18 -->\n",
       "<g id=\"edge18\" class=\"edge\">\n",
       "<title>1&#45;&gt;18</title>\n",
       "<path fill=\"none\" stroke=\"black\" d=\"M220.88,-251.26C247.43,-243 295.05,-228.18 326.14,-218.5\"/>\n",
       "<polygon fill=\"black\" stroke=\"black\" points=\"326.83,-221.95 335.33,-215.64 324.75,-215.27 326.83,-221.95\"/>\n",
       "</g>\n",
       "<!-- 3 -->\n",
       "<g id=\"node4\" class=\"node\">\n",
       "<title>3</title>\n",
       "<text text-anchor=\"middle\" x=\"17.25\" y=\"-151.7\" font-family=\"Times,serif\" font-size=\"14.00\">&lt; (60)</text>\n",
       "</g>\n",
       "<!-- 2&#45;&gt;3 -->\n",
       "<g id=\"edge3\" class=\"edge\">\n",
       "<title>2&#45;&gt;3</title>\n",
       "<path fill=\"none\" stroke=\"black\" d=\"M86.24,-201.01C73.9,-193.47 52.62,-180.48 36.95,-170.91\"/>\n",
       "<polygon fill=\"black\" stroke=\"black\" points=\"38.82,-167.95 28.47,-165.73 35.18,-173.92 38.82,-167.95\"/>\n",
       "</g>\n",
       "<!-- 4 -->\n",
       "<g id=\"node5\" class=\"node\">\n",
       "<title>4</title>\n",
       "<text text-anchor=\"middle\" x=\"66.25\" y=\"-151.7\" font-family=\"Times,serif\" font-size=\"14.00\">&lt;id&gt;</text>\n",
       "</g>\n",
       "<!-- 2&#45;&gt;4 -->\n",
       "<g id=\"edge4\" class=\"edge\">\n",
       "<title>2&#45;&gt;4</title>\n",
       "<path fill=\"none\" stroke=\"black\" d=\"M92.57,-201.21C88.43,-194.55 81.55,-183.48 75.85,-174.32\"/>\n",
       "<polygon fill=\"black\" stroke=\"black\" points=\"79.01,-172.77 70.76,-166.13 73.07,-176.47 79.01,-172.77\"/>\n",
       "</g>\n",
       "<!-- 6 -->\n",
       "<g id=\"node7\" class=\"node\">\n",
       "<title>6</title>\n",
       "<text text-anchor=\"middle\" x=\"115.25\" y=\"-151.7\" font-family=\"Times,serif\" font-size=\"14.00\">&gt; (62)</text>\n",
       "</g>\n",
       "<!-- 2&#45;&gt;6 -->\n",
       "<g id=\"edge6\" class=\"edge\">\n",
       "<title>2&#45;&gt;6</title>\n",
       "<path fill=\"none\" stroke=\"black\" d=\"M98.58,-201.21C101.09,-194.84 105.19,-184.43 108.69,-175.53\"/>\n",
       "<polygon fill=\"black\" stroke=\"black\" points=\"111.94,-176.84 112.35,-166.25 105.43,-174.27 111.94,-176.84\"/>\n",
       "</g>\n",
       "<!-- 5 -->\n",
       "<g id=\"node6\" class=\"node\">\n",
       "<title>5</title>\n",
       "<text text-anchor=\"middle\" x=\"66.25\" y=\"-101.45\" font-family=\"Times,serif\" font-size=\"14.00\">html</text>\n",
       "</g>\n",
       "<!-- 4&#45;&gt;5 -->\n",
       "<g id=\"edge5\" class=\"edge\">\n",
       "<title>4&#45;&gt;5</title>\n",
       "<path fill=\"none\" stroke=\"black\" d=\"M66.25,-150.96C66.25,-144.74 66.25,-134.65 66.25,-125.89\"/>\n",
       "<polygon fill=\"black\" stroke=\"black\" points=\"69.75,-126.1 66.25,-116.1 62.75,-126.1 69.75,-126.1\"/>\n",
       "</g>\n",
       "<!-- 8 -->\n",
       "<g id=\"node9\" class=\"node\">\n",
       "<title>8</title>\n",
       "<text text-anchor=\"middle\" x=\"182.25\" y=\"-151.7\" font-family=\"Times,serif\" font-size=\"14.00\">&lt;xml&#45;tree&gt;</text>\n",
       "</g>\n",
       "<!-- 7&#45;&gt;8 -->\n",
       "<g id=\"edge8\" class=\"edge\">\n",
       "<title>7&#45;&gt;8</title>\n",
       "<path fill=\"none\" stroke=\"black\" d=\"M198.92,-201.21C196.41,-194.84 192.31,-184.43 188.81,-175.53\"/>\n",
       "<polygon fill=\"black\" stroke=\"black\" points=\"192.07,-174.27 185.15,-166.25 185.56,-176.84 192.07,-174.27\"/>\n",
       "</g>\n",
       "<!-- 11 -->\n",
       "<g id=\"node12\" class=\"node\">\n",
       "<title>11</title>\n",
       "<text text-anchor=\"middle\" x=\"263.25\" y=\"-151.7\" font-family=\"Times,serif\" font-size=\"14.00\">&lt;xml&#45;tree&gt;</text>\n",
       "</g>\n",
       "<!-- 7&#45;&gt;11 -->\n",
       "<g id=\"edge11\" class=\"edge\">\n",
       "<title>7&#45;&gt;11</title>\n",
       "<path fill=\"none\" stroke=\"black\" d=\"M209.1,-201.01C218.56,-193.65 234.71,-181.09 246.92,-171.59\"/>\n",
       "<polygon fill=\"black\" stroke=\"black\" points=\"248.72,-174.62 254.46,-165.71 244.42,-169.09 248.72,-174.62\"/>\n",
       "</g>\n",
       "<!-- 9 -->\n",
       "<g id=\"node10\" class=\"node\">\n",
       "<title>9</title>\n",
       "<text text-anchor=\"middle\" x=\"173.25\" y=\"-101.45\" font-family=\"Times,serif\" font-size=\"14.00\">&lt;text&gt;</text>\n",
       "</g>\n",
       "<!-- 8&#45;&gt;9 -->\n",
       "<g id=\"edge9\" class=\"edge\">\n",
       "<title>8&#45;&gt;9</title>\n",
       "<path fill=\"none\" stroke=\"black\" d=\"M181.15,-150.96C179.99,-144.74 178.1,-134.65 176.47,-125.89\"/>\n",
       "<polygon fill=\"black\" stroke=\"black\" points=\"179.91,-125.27 174.64,-116.08 173.03,-126.55 179.91,-125.27\"/>\n",
       "</g>\n",
       "<!-- 10 -->\n",
       "<g id=\"node11\" class=\"node\">\n",
       "<title>10</title>\n",
       "<text text-anchor=\"middle\" x=\"173.25\" y=\"-51.2\" font-family=\"Times,serif\" font-size=\"14.00\">T (84)</text>\n",
       "</g>\n",
       "<!-- 9&#45;&gt;10 -->\n",
       "<g id=\"edge10\" class=\"edge\">\n",
       "<title>9&#45;&gt;10</title>\n",
       "<path fill=\"none\" stroke=\"black\" d=\"M173.25,-100.71C173.25,-94.49 173.25,-84.4 173.25,-75.64\"/>\n",
       "<polygon fill=\"black\" stroke=\"black\" points=\"176.75,-75.85 173.25,-65.85 169.75,-75.85 176.75,-75.85\"/>\n",
       "</g>\n",
       "<!-- 12 -->\n",
       "<g id=\"node13\" class=\"node\">\n",
       "<title>12</title>\n",
       "<text text-anchor=\"middle\" x=\"241.25\" y=\"-101.45\" font-family=\"Times,serif\" font-size=\"14.00\">&lt;xml&#45;tree&gt;</text>\n",
       "</g>\n",
       "<!-- 11&#45;&gt;12 -->\n",
       "<g id=\"edge12\" class=\"edge\">\n",
       "<title>11&#45;&gt;12</title>\n",
       "<path fill=\"none\" stroke=\"black\" d=\"M260.55,-150.96C257.62,-144.52 252.79,-133.94 248.7,-124.97\"/>\n",
       "<polygon fill=\"black\" stroke=\"black\" points=\"251.93,-123.61 244.6,-115.97 245.56,-126.52 251.93,-123.61\"/>\n",
       "</g>\n",
       "<!-- 15 -->\n",
       "<g id=\"node16\" class=\"node\">\n",
       "<title>15</title>\n",
       "<text text-anchor=\"middle\" x=\"322.25\" y=\"-101.45\" font-family=\"Times,serif\" font-size=\"14.00\">&lt;xml&#45;tree&gt;</text>\n",
       "</g>\n",
       "<!-- 11&#45;&gt;15 -->\n",
       "<g id=\"edge15\" class=\"edge\">\n",
       "<title>11&#45;&gt;15</title>\n",
       "<path fill=\"none\" stroke=\"black\" d=\"M270.48,-150.96C279.33,-143.72 294.56,-131.27 306.22,-121.73\"/>\n",
       "<polygon fill=\"black\" stroke=\"black\" points=\"308.26,-124.59 313.78,-115.55 303.83,-119.17 308.26,-124.59\"/>\n",
       "</g>\n",
       "<!-- 13 -->\n",
       "<g id=\"node14\" class=\"node\">\n",
       "<title>13</title>\n",
       "<text text-anchor=\"middle\" x=\"241.25\" y=\"-51.2\" font-family=\"Times,serif\" font-size=\"14.00\">&lt;text&gt;</text>\n",
       "</g>\n",
       "<!-- 12&#45;&gt;13 -->\n",
       "<g id=\"edge13\" class=\"edge\">\n",
       "<title>12&#45;&gt;13</title>\n",
       "<path fill=\"none\" stroke=\"black\" d=\"M241.25,-100.71C241.25,-94.49 241.25,-84.4 241.25,-75.64\"/>\n",
       "<polygon fill=\"black\" stroke=\"black\" points=\"244.75,-75.85 241.25,-65.85 237.75,-75.85 244.75,-75.85\"/>\n",
       "</g>\n",
       "<!-- 14 -->\n",
       "<g id=\"node15\" class=\"node\">\n",
       "<title>14</title>\n",
       "<text text-anchor=\"middle\" x=\"241.25\" y=\"-0.95\" font-family=\"Times,serif\" font-size=\"14.00\">e (101)</text>\n",
       "</g>\n",
       "<!-- 13&#45;&gt;14 -->\n",
       "<g id=\"edge14\" class=\"edge\">\n",
       "<title>13&#45;&gt;14</title>\n",
       "<path fill=\"none\" stroke=\"black\" d=\"M241.25,-50.46C241.25,-44.24 241.25,-34.15 241.25,-25.39\"/>\n",
       "<polygon fill=\"black\" stroke=\"black\" points=\"244.75,-25.6 241.25,-15.6 237.75,-25.6 244.75,-25.6\"/>\n",
       "</g>\n",
       "<!-- 16 -->\n",
       "<g id=\"node17\" class=\"node\">\n",
       "<title>16</title>\n",
       "<text text-anchor=\"middle\" x=\"322.25\" y=\"-51.2\" font-family=\"Times,serif\" font-size=\"14.00\">&lt;text&gt;</text>\n",
       "</g>\n",
       "<!-- 15&#45;&gt;16 -->\n",
       "<g id=\"edge16\" class=\"edge\">\n",
       "<title>15&#45;&gt;16</title>\n",
       "<path fill=\"none\" stroke=\"black\" d=\"M322.25,-100.71C322.25,-94.49 322.25,-84.4 322.25,-75.64\"/>\n",
       "<polygon fill=\"black\" stroke=\"black\" points=\"325.75,-75.85 322.25,-65.85 318.75,-75.85 325.75,-75.85\"/>\n",
       "</g>\n",
       "<!-- 17 -->\n",
       "<g id=\"node18\" class=\"node\">\n",
       "<title>17</title>\n",
       "<text text-anchor=\"middle\" x=\"322.25\" y=\"-0.95\" font-family=\"Times,serif\" font-size=\"14.00\">xt</text>\n",
       "</g>\n",
       "<!-- 16&#45;&gt;17 -->\n",
       "<g id=\"edge17\" class=\"edge\">\n",
       "<title>16&#45;&gt;17</title>\n",
       "<path fill=\"none\" stroke=\"black\" d=\"M322.25,-50.46C322.25,-44.24 322.25,-34.15 322.25,-25.39\"/>\n",
       "<polygon fill=\"black\" stroke=\"black\" points=\"325.75,-25.6 322.25,-15.6 318.75,-25.6 325.75,-25.6\"/>\n",
       "</g>\n",
       "<!-- 19 -->\n",
       "<g id=\"node20\" class=\"node\">\n",
       "<title>19</title>\n",
       "<text text-anchor=\"middle\" x=\"337.25\" y=\"-151.7\" font-family=\"Times,serif\" font-size=\"14.00\">&lt;/</text>\n",
       "</g>\n",
       "<!-- 18&#45;&gt;19 -->\n",
       "<g id=\"edge19\" class=\"edge\">\n",
       "<title>18&#45;&gt;19</title>\n",
       "<path fill=\"none\" stroke=\"black\" d=\"M353.92,-201.21C351.41,-194.84 347.31,-184.43 343.81,-175.53\"/>\n",
       "<polygon fill=\"black\" stroke=\"black\" points=\"347.07,-174.27 340.15,-166.25 340.56,-176.84 347.07,-174.27\"/>\n",
       "</g>\n",
       "<!-- 20 -->\n",
       "<g id=\"node21\" class=\"node\">\n",
       "<title>20</title>\n",
       "<text text-anchor=\"middle\" x=\"375.25\" y=\"-151.7\" font-family=\"Times,serif\" font-size=\"14.00\">&lt;id&gt;</text>\n",
       "</g>\n",
       "<!-- 18&#45;&gt;20 -->\n",
       "<g id=\"edge20\" class=\"edge\">\n",
       "<title>18&#45;&gt;20</title>\n",
       "<path fill=\"none\" stroke=\"black\" d=\"M358.58,-201.21C361.09,-194.84 365.19,-184.43 368.69,-175.53\"/>\n",
       "<polygon fill=\"black\" stroke=\"black\" points=\"371.94,-176.84 372.35,-166.25 365.43,-174.27 371.94,-176.84\"/>\n",
       "</g>\n",
       "<!-- 22 -->\n",
       "<g id=\"node23\" class=\"node\">\n",
       "<title>22</title>\n",
       "<text text-anchor=\"middle\" x=\"424.25\" y=\"-151.7\" font-family=\"Times,serif\" font-size=\"14.00\">&gt; (62)</text>\n",
       "</g>\n",
       "<!-- 18&#45;&gt;22 -->\n",
       "<g id=\"edge22\" class=\"edge\">\n",
       "<title>18&#45;&gt;22</title>\n",
       "<path fill=\"none\" stroke=\"black\" d=\"M364.86,-201.01C375.34,-193.58 393.3,-180.84 406.73,-171.31\"/>\n",
       "<polygon fill=\"black\" stroke=\"black\" points=\"408.56,-174.3 414.69,-165.66 404.51,-168.59 408.56,-174.3\"/>\n",
       "</g>\n",
       "<!-- 21 -->\n",
       "<g id=\"node22\" class=\"node\">\n",
       "<title>21</title>\n",
       "<text text-anchor=\"middle\" x=\"384.25\" y=\"-101.45\" font-family=\"Times,serif\" font-size=\"14.00\">html</text>\n",
       "</g>\n",
       "<!-- 20&#45;&gt;21 -->\n",
       "<g id=\"edge21\" class=\"edge\">\n",
       "<title>20&#45;&gt;21</title>\n",
       "<path fill=\"none\" stroke=\"black\" d=\"M376.35,-150.96C377.51,-144.74 379.4,-134.65 381.03,-125.89\"/>\n",
       "<polygon fill=\"black\" stroke=\"black\" points=\"384.47,-126.55 382.86,-116.08 377.59,-125.27 384.47,-126.55\"/>\n",
       "</g>\n",
       "</g>\n",
       "</svg>\n"
      ],
      "text/plain": [
       "<graphviz.graphs.Digraph at 0x10a260200>"
      ]
     },
     "metadata": {},
     "output_type": "display_data"
    },
    {
     "data": {
      "image/svg+xml": [
       "<?xml version=\"1.0\" encoding=\"UTF-8\" standalone=\"no\"?>\n",
       "<!DOCTYPE svg PUBLIC \"-//W3C//DTD SVG 1.1//EN\"\n",
       " \"http://www.w3.org/Graphics/SVG/1.1/DTD/svg11.dtd\">\n",
       "<!-- Generated by graphviz version 12.2.1 (20241206.2353)\n",
       " -->\n",
       "<!-- Pages: 1 -->\n",
       "<svg width=\"450pt\" height=\"324pt\"\n",
       " viewBox=\"0.00 0.00 449.50 323.75\" xmlns=\"http://www.w3.org/2000/svg\" xmlns:xlink=\"http://www.w3.org/1999/xlink\">\n",
       "<g id=\"graph0\" class=\"graph\" transform=\"scale(1 1) rotate(0) translate(4 319.75)\">\n",
       "<polygon fill=\"white\" stroke=\"none\" points=\"-4,4 -4,-319.75 445.5,-319.75 445.5,4 -4,4\"/>\n",
       "<!-- 0 -->\n",
       "<g id=\"node1\" class=\"node\">\n",
       "<title>0</title>\n",
       "<text text-anchor=\"middle\" x=\"201.25\" y=\"-302.45\" font-family=\"Times,serif\" font-size=\"14.00\">&lt;start&gt;</text>\n",
       "</g>\n",
       "<!-- 1 -->\n",
       "<g id=\"node2\" class=\"node\">\n",
       "<title>1</title>\n",
       "<text text-anchor=\"middle\" x=\"201.25\" y=\"-252.2\" font-family=\"Times,serif\" font-size=\"14.00\">&lt;xml&#45;tree&gt;</text>\n",
       "</g>\n",
       "<!-- 0&#45;&gt;1 -->\n",
       "<g id=\"edge1\" class=\"edge\">\n",
       "<title>0&#45;&gt;1</title>\n",
       "<path fill=\"none\" stroke=\"black\" d=\"M201.25,-301.71C201.25,-295.49 201.25,-285.4 201.25,-276.64\"/>\n",
       "<polygon fill=\"black\" stroke=\"black\" points=\"204.75,-276.85 201.25,-266.85 197.75,-276.85 204.75,-276.85\"/>\n",
       "</g>\n",
       "<!-- 2 -->\n",
       "<g id=\"node3\" class=\"node\">\n",
       "<title>2</title>\n",
       "<text text-anchor=\"middle\" x=\"96.25\" y=\"-201.95\" font-family=\"Times,serif\" font-size=\"14.00\">&lt;xml&#45;open&#45;tag&gt;</text>\n",
       "</g>\n",
       "<!-- 1&#45;&gt;2 -->\n",
       "<g id=\"edge2\" class=\"edge\">\n",
       "<title>1&#45;&gt;2</title>\n",
       "<path fill=\"none\" stroke=\"black\" d=\"M187.95,-251.26C170.83,-243.4 140.79,-229.59 119.77,-219.93\"/>\n",
       "<polygon fill=\"black\" stroke=\"black\" points=\"121.36,-216.81 110.82,-215.82 118.44,-223.17 121.36,-216.81\"/>\n",
       "</g>\n",
       "<!-- 7 -->\n",
       "<g id=\"node8\" class=\"node\">\n",
       "<title>7</title>\n",
       "<text text-anchor=\"middle\" x=\"201.25\" y=\"-201.95\" font-family=\"Times,serif\" font-size=\"14.00\">&lt;xml&#45;tree&gt;</text>\n",
       "</g>\n",
       "<!-- 1&#45;&gt;7 -->\n",
       "<g id=\"edge7\" class=\"edge\">\n",
       "<title>1&#45;&gt;7</title>\n",
       "<path fill=\"none\" stroke=\"black\" d=\"M201.25,-251.46C201.25,-245.24 201.25,-235.15 201.25,-226.39\"/>\n",
       "<polygon fill=\"black\" stroke=\"black\" points=\"204.75,-226.6 201.25,-216.6 197.75,-226.6 204.75,-226.6\"/>\n",
       "</g>\n",
       "<!-- 18 -->\n",
       "<g id=\"node19\" class=\"node\">\n",
       "<title>18</title>\n",
       "<text text-anchor=\"middle\" x=\"356.25\" y=\"-201.95\" font-family=\"Times,serif\" font-size=\"14.00\">&lt;xml&#45;close&#45;tag&gt;</text>\n",
       "</g>\n",
       "<!-- 1&#45;&gt;18 -->\n",
       "<g id=\"edge18\" class=\"edge\">\n",
       "<title>1&#45;&gt;18</title>\n",
       "<path fill=\"none\" stroke=\"black\" d=\"M220.88,-251.26C247.43,-243 295.05,-228.18 326.14,-218.5\"/>\n",
       "<polygon fill=\"black\" stroke=\"black\" points=\"326.83,-221.95 335.33,-215.64 324.75,-215.27 326.83,-221.95\"/>\n",
       "</g>\n",
       "<!-- 3 -->\n",
       "<g id=\"node4\" class=\"node\">\n",
       "<title>3</title>\n",
       "<text text-anchor=\"middle\" x=\"17.25\" y=\"-151.7\" font-family=\"Times,serif\" font-size=\"14.00\">&lt; (60)</text>\n",
       "</g>\n",
       "<!-- 2&#45;&gt;3 -->\n",
       "<g id=\"edge3\" class=\"edge\">\n",
       "<title>2&#45;&gt;3</title>\n",
       "<path fill=\"none\" stroke=\"black\" d=\"M86.24,-201.01C73.9,-193.47 52.62,-180.48 36.95,-170.91\"/>\n",
       "<polygon fill=\"black\" stroke=\"black\" points=\"38.82,-167.95 28.47,-165.73 35.18,-173.92 38.82,-167.95\"/>\n",
       "</g>\n",
       "<!-- 4 -->\n",
       "<g id=\"node5\" class=\"node\">\n",
       "<title>4</title>\n",
       "<text text-anchor=\"middle\" x=\"66.25\" y=\"-151.7\" font-family=\"Times,serif\" font-size=\"14.00\">&lt;id&gt;</text>\n",
       "</g>\n",
       "<!-- 2&#45;&gt;4 -->\n",
       "<g id=\"edge4\" class=\"edge\">\n",
       "<title>2&#45;&gt;4</title>\n",
       "<path fill=\"none\" stroke=\"black\" d=\"M92.57,-201.21C88.43,-194.55 81.55,-183.48 75.85,-174.32\"/>\n",
       "<polygon fill=\"black\" stroke=\"black\" points=\"79.01,-172.77 70.76,-166.13 73.07,-176.47 79.01,-172.77\"/>\n",
       "</g>\n",
       "<!-- 6 -->\n",
       "<g id=\"node7\" class=\"node\">\n",
       "<title>6</title>\n",
       "<text text-anchor=\"middle\" x=\"115.25\" y=\"-151.7\" font-family=\"Times,serif\" font-size=\"14.00\">&gt; (62)</text>\n",
       "</g>\n",
       "<!-- 2&#45;&gt;6 -->\n",
       "<g id=\"edge6\" class=\"edge\">\n",
       "<title>2&#45;&gt;6</title>\n",
       "<path fill=\"none\" stroke=\"black\" d=\"M98.58,-201.21C101.09,-194.84 105.19,-184.43 108.69,-175.53\"/>\n",
       "<polygon fill=\"black\" stroke=\"black\" points=\"111.94,-176.84 112.35,-166.25 105.43,-174.27 111.94,-176.84\"/>\n",
       "</g>\n",
       "<!-- 5 -->\n",
       "<g id=\"node6\" class=\"node\">\n",
       "<title>5</title>\n",
       "<text text-anchor=\"middle\" x=\"66.25\" y=\"-101.45\" font-family=\"Times,serif\" font-size=\"14.00\">html</text>\n",
       "</g>\n",
       "<!-- 4&#45;&gt;5 -->\n",
       "<g id=\"edge5\" class=\"edge\">\n",
       "<title>4&#45;&gt;5</title>\n",
       "<path fill=\"none\" stroke=\"black\" d=\"M66.25,-150.96C66.25,-144.74 66.25,-134.65 66.25,-125.89\"/>\n",
       "<polygon fill=\"black\" stroke=\"black\" points=\"69.75,-126.1 66.25,-116.1 62.75,-126.1 69.75,-126.1\"/>\n",
       "</g>\n",
       "<!-- 8 -->\n",
       "<g id=\"node9\" class=\"node\">\n",
       "<title>8</title>\n",
       "<text text-anchor=\"middle\" x=\"182.25\" y=\"-151.7\" font-family=\"Times,serif\" font-size=\"14.00\">&lt;xml&#45;tree&gt;</text>\n",
       "</g>\n",
       "<!-- 7&#45;&gt;8 -->\n",
       "<g id=\"edge8\" class=\"edge\">\n",
       "<title>7&#45;&gt;8</title>\n",
       "<path fill=\"none\" stroke=\"black\" d=\"M198.92,-201.21C196.41,-194.84 192.31,-184.43 188.81,-175.53\"/>\n",
       "<polygon fill=\"black\" stroke=\"black\" points=\"192.07,-174.27 185.15,-166.25 185.56,-176.84 192.07,-174.27\"/>\n",
       "</g>\n",
       "<!-- 11 -->\n",
       "<g id=\"node12\" class=\"node\">\n",
       "<title>11</title>\n",
       "<text text-anchor=\"middle\" x=\"263.25\" y=\"-151.7\" font-family=\"Times,serif\" font-size=\"14.00\">&lt;xml&#45;tree&gt;</text>\n",
       "</g>\n",
       "<!-- 7&#45;&gt;11 -->\n",
       "<g id=\"edge11\" class=\"edge\">\n",
       "<title>7&#45;&gt;11</title>\n",
       "<path fill=\"none\" stroke=\"black\" d=\"M209.1,-201.01C218.56,-193.65 234.71,-181.09 246.92,-171.59\"/>\n",
       "<polygon fill=\"black\" stroke=\"black\" points=\"248.72,-174.62 254.46,-165.71 244.42,-169.09 248.72,-174.62\"/>\n",
       "</g>\n",
       "<!-- 9 -->\n",
       "<g id=\"node10\" class=\"node\">\n",
       "<title>9</title>\n",
       "<text text-anchor=\"middle\" x=\"173.25\" y=\"-101.45\" font-family=\"Times,serif\" font-size=\"14.00\">&lt;text&gt;</text>\n",
       "</g>\n",
       "<!-- 8&#45;&gt;9 -->\n",
       "<g id=\"edge9\" class=\"edge\">\n",
       "<title>8&#45;&gt;9</title>\n",
       "<path fill=\"none\" stroke=\"black\" d=\"M181.15,-150.96C179.99,-144.74 178.1,-134.65 176.47,-125.89\"/>\n",
       "<polygon fill=\"black\" stroke=\"black\" points=\"179.91,-125.27 174.64,-116.08 173.03,-126.55 179.91,-125.27\"/>\n",
       "</g>\n",
       "<!-- 10 -->\n",
       "<g id=\"node11\" class=\"node\">\n",
       "<title>10</title>\n",
       "<text text-anchor=\"middle\" x=\"173.25\" y=\"-51.2\" font-family=\"Times,serif\" font-size=\"14.00\">T (84)</text>\n",
       "</g>\n",
       "<!-- 9&#45;&gt;10 -->\n",
       "<g id=\"edge10\" class=\"edge\">\n",
       "<title>9&#45;&gt;10</title>\n",
       "<path fill=\"none\" stroke=\"black\" d=\"M173.25,-100.71C173.25,-94.49 173.25,-84.4 173.25,-75.64\"/>\n",
       "<polygon fill=\"black\" stroke=\"black\" points=\"176.75,-75.85 173.25,-65.85 169.75,-75.85 176.75,-75.85\"/>\n",
       "</g>\n",
       "<!-- 12 -->\n",
       "<g id=\"node13\" class=\"node\">\n",
       "<title>12</title>\n",
       "<text text-anchor=\"middle\" x=\"241.25\" y=\"-101.45\" font-family=\"Times,serif\" font-size=\"14.00\">&lt;xml&#45;tree&gt;</text>\n",
       "</g>\n",
       "<!-- 11&#45;&gt;12 -->\n",
       "<g id=\"edge12\" class=\"edge\">\n",
       "<title>11&#45;&gt;12</title>\n",
       "<path fill=\"none\" stroke=\"black\" d=\"M260.55,-150.96C257.62,-144.52 252.79,-133.94 248.7,-124.97\"/>\n",
       "<polygon fill=\"black\" stroke=\"black\" points=\"251.93,-123.61 244.6,-115.97 245.56,-126.52 251.93,-123.61\"/>\n",
       "</g>\n",
       "<!-- 15 -->\n",
       "<g id=\"node16\" class=\"node\">\n",
       "<title>15</title>\n",
       "<text text-anchor=\"middle\" x=\"322.25\" y=\"-101.45\" font-family=\"Times,serif\" font-size=\"14.00\">&lt;xml&#45;tree&gt;</text>\n",
       "</g>\n",
       "<!-- 11&#45;&gt;15 -->\n",
       "<g id=\"edge15\" class=\"edge\">\n",
       "<title>11&#45;&gt;15</title>\n",
       "<path fill=\"none\" stroke=\"black\" d=\"M270.48,-150.96C279.33,-143.72 294.56,-131.27 306.22,-121.73\"/>\n",
       "<polygon fill=\"black\" stroke=\"black\" points=\"308.26,-124.59 313.78,-115.55 303.83,-119.17 308.26,-124.59\"/>\n",
       "</g>\n",
       "<!-- 13 -->\n",
       "<g id=\"node14\" class=\"node\">\n",
       "<title>13</title>\n",
       "<text text-anchor=\"middle\" x=\"241.25\" y=\"-51.2\" font-family=\"Times,serif\" font-size=\"14.00\">&lt;text&gt;</text>\n",
       "</g>\n",
       "<!-- 12&#45;&gt;13 -->\n",
       "<g id=\"edge13\" class=\"edge\">\n",
       "<title>12&#45;&gt;13</title>\n",
       "<path fill=\"none\" stroke=\"black\" d=\"M241.25,-100.71C241.25,-94.49 241.25,-84.4 241.25,-75.64\"/>\n",
       "<polygon fill=\"black\" stroke=\"black\" points=\"244.75,-75.85 241.25,-65.85 237.75,-75.85 244.75,-75.85\"/>\n",
       "</g>\n",
       "<!-- 14 -->\n",
       "<g id=\"node15\" class=\"node\">\n",
       "<title>14</title>\n",
       "<text text-anchor=\"middle\" x=\"241.25\" y=\"-0.95\" font-family=\"Times,serif\" font-size=\"14.00\">ex</text>\n",
       "</g>\n",
       "<!-- 13&#45;&gt;14 -->\n",
       "<g id=\"edge14\" class=\"edge\">\n",
       "<title>13&#45;&gt;14</title>\n",
       "<path fill=\"none\" stroke=\"black\" d=\"M241.25,-50.46C241.25,-44.24 241.25,-34.15 241.25,-25.39\"/>\n",
       "<polygon fill=\"black\" stroke=\"black\" points=\"244.75,-25.6 241.25,-15.6 237.75,-25.6 244.75,-25.6\"/>\n",
       "</g>\n",
       "<!-- 16 -->\n",
       "<g id=\"node17\" class=\"node\">\n",
       "<title>16</title>\n",
       "<text text-anchor=\"middle\" x=\"322.25\" y=\"-51.2\" font-family=\"Times,serif\" font-size=\"14.00\">&lt;text&gt;</text>\n",
       "</g>\n",
       "<!-- 15&#45;&gt;16 -->\n",
       "<g id=\"edge16\" class=\"edge\">\n",
       "<title>15&#45;&gt;16</title>\n",
       "<path fill=\"none\" stroke=\"black\" d=\"M322.25,-100.71C322.25,-94.49 322.25,-84.4 322.25,-75.64\"/>\n",
       "<polygon fill=\"black\" stroke=\"black\" points=\"325.75,-75.85 322.25,-65.85 318.75,-75.85 325.75,-75.85\"/>\n",
       "</g>\n",
       "<!-- 17 -->\n",
       "<g id=\"node18\" class=\"node\">\n",
       "<title>17</title>\n",
       "<text text-anchor=\"middle\" x=\"322.25\" y=\"-0.95\" font-family=\"Times,serif\" font-size=\"14.00\">t (116)</text>\n",
       "</g>\n",
       "<!-- 16&#45;&gt;17 -->\n",
       "<g id=\"edge17\" class=\"edge\">\n",
       "<title>16&#45;&gt;17</title>\n",
       "<path fill=\"none\" stroke=\"black\" d=\"M322.25,-50.46C322.25,-44.24 322.25,-34.15 322.25,-25.39\"/>\n",
       "<polygon fill=\"black\" stroke=\"black\" points=\"325.75,-25.6 322.25,-15.6 318.75,-25.6 325.75,-25.6\"/>\n",
       "</g>\n",
       "<!-- 19 -->\n",
       "<g id=\"node20\" class=\"node\">\n",
       "<title>19</title>\n",
       "<text text-anchor=\"middle\" x=\"337.25\" y=\"-151.7\" font-family=\"Times,serif\" font-size=\"14.00\">&lt;/</text>\n",
       "</g>\n",
       "<!-- 18&#45;&gt;19 -->\n",
       "<g id=\"edge19\" class=\"edge\">\n",
       "<title>18&#45;&gt;19</title>\n",
       "<path fill=\"none\" stroke=\"black\" d=\"M353.92,-201.21C351.41,-194.84 347.31,-184.43 343.81,-175.53\"/>\n",
       "<polygon fill=\"black\" stroke=\"black\" points=\"347.07,-174.27 340.15,-166.25 340.56,-176.84 347.07,-174.27\"/>\n",
       "</g>\n",
       "<!-- 20 -->\n",
       "<g id=\"node21\" class=\"node\">\n",
       "<title>20</title>\n",
       "<text text-anchor=\"middle\" x=\"375.25\" y=\"-151.7\" font-family=\"Times,serif\" font-size=\"14.00\">&lt;id&gt;</text>\n",
       "</g>\n",
       "<!-- 18&#45;&gt;20 -->\n",
       "<g id=\"edge20\" class=\"edge\">\n",
       "<title>18&#45;&gt;20</title>\n",
       "<path fill=\"none\" stroke=\"black\" d=\"M358.58,-201.21C361.09,-194.84 365.19,-184.43 368.69,-175.53\"/>\n",
       "<polygon fill=\"black\" stroke=\"black\" points=\"371.94,-176.84 372.35,-166.25 365.43,-174.27 371.94,-176.84\"/>\n",
       "</g>\n",
       "<!-- 22 -->\n",
       "<g id=\"node23\" class=\"node\">\n",
       "<title>22</title>\n",
       "<text text-anchor=\"middle\" x=\"424.25\" y=\"-151.7\" font-family=\"Times,serif\" font-size=\"14.00\">&gt; (62)</text>\n",
       "</g>\n",
       "<!-- 18&#45;&gt;22 -->\n",
       "<g id=\"edge22\" class=\"edge\">\n",
       "<title>18&#45;&gt;22</title>\n",
       "<path fill=\"none\" stroke=\"black\" d=\"M364.86,-201.01C375.34,-193.58 393.3,-180.84 406.73,-171.31\"/>\n",
       "<polygon fill=\"black\" stroke=\"black\" points=\"408.56,-174.3 414.69,-165.66 404.51,-168.59 408.56,-174.3\"/>\n",
       "</g>\n",
       "<!-- 21 -->\n",
       "<g id=\"node22\" class=\"node\">\n",
       "<title>21</title>\n",
       "<text text-anchor=\"middle\" x=\"384.25\" y=\"-101.45\" font-family=\"Times,serif\" font-size=\"14.00\">html</text>\n",
       "</g>\n",
       "<!-- 20&#45;&gt;21 -->\n",
       "<g id=\"edge21\" class=\"edge\">\n",
       "<title>20&#45;&gt;21</title>\n",
       "<path fill=\"none\" stroke=\"black\" d=\"M376.35,-150.96C377.51,-144.74 379.4,-134.65 381.03,-125.89\"/>\n",
       "<polygon fill=\"black\" stroke=\"black\" points=\"384.47,-126.55 382.86,-116.08 377.59,-125.27 384.47,-126.55\"/>\n",
       "</g>\n",
       "</g>\n",
       "</svg>\n"
      ],
      "text/plain": [
       "<graphviz.graphs.Digraph at 0x10a260200>"
      ]
     },
     "metadata": {},
     "output_type": "display_data"
    },
    {
     "data": {
      "image/svg+xml": [
       "<?xml version=\"1.0\" encoding=\"UTF-8\" standalone=\"no\"?>\n",
       "<!DOCTYPE svg PUBLIC \"-//W3C//DTD SVG 1.1//EN\"\n",
       " \"http://www.w3.org/Graphics/SVG/1.1/DTD/svg11.dtd\">\n",
       "<!-- Generated by graphviz version 12.2.1 (20241206.2353)\n",
       " -->\n",
       "<!-- Pages: 1 -->\n",
       "<svg width=\"456pt\" height=\"374pt\"\n",
       " viewBox=\"0.00 0.00 455.50 374.00\" xmlns=\"http://www.w3.org/2000/svg\" xmlns:xlink=\"http://www.w3.org/1999/xlink\">\n",
       "<g id=\"graph0\" class=\"graph\" transform=\"scale(1 1) rotate(0) translate(4 370)\">\n",
       "<polygon fill=\"white\" stroke=\"none\" points=\"-4,4 -4,-370 451.5,-370 451.5,4 -4,4\"/>\n",
       "<!-- 0 -->\n",
       "<g id=\"node1\" class=\"node\">\n",
       "<title>0</title>\n",
       "<text text-anchor=\"middle\" x=\"201.25\" y=\"-352.7\" font-family=\"Times,serif\" font-size=\"14.00\">&lt;start&gt;</text>\n",
       "</g>\n",
       "<!-- 1 -->\n",
       "<g id=\"node2\" class=\"node\">\n",
       "<title>1</title>\n",
       "<text text-anchor=\"middle\" x=\"201.25\" y=\"-302.45\" font-family=\"Times,serif\" font-size=\"14.00\">&lt;xml&#45;tree&gt;</text>\n",
       "</g>\n",
       "<!-- 0&#45;&gt;1 -->\n",
       "<g id=\"edge1\" class=\"edge\">\n",
       "<title>0&#45;&gt;1</title>\n",
       "<path fill=\"none\" stroke=\"black\" d=\"M201.25,-351.96C201.25,-345.74 201.25,-335.65 201.25,-326.89\"/>\n",
       "<polygon fill=\"black\" stroke=\"black\" points=\"204.75,-327.1 201.25,-317.1 197.75,-327.1 204.75,-327.1\"/>\n",
       "</g>\n",
       "<!-- 2 -->\n",
       "<g id=\"node3\" class=\"node\">\n",
       "<title>2</title>\n",
       "<text text-anchor=\"middle\" x=\"96.25\" y=\"-252.2\" font-family=\"Times,serif\" font-size=\"14.00\">&lt;xml&#45;open&#45;tag&gt;</text>\n",
       "</g>\n",
       "<!-- 1&#45;&gt;2 -->\n",
       "<g id=\"edge2\" class=\"edge\">\n",
       "<title>1&#45;&gt;2</title>\n",
       "<path fill=\"none\" stroke=\"black\" d=\"M187.95,-301.51C170.83,-293.65 140.79,-279.84 119.77,-270.18\"/>\n",
       "<polygon fill=\"black\" stroke=\"black\" points=\"121.36,-267.06 110.82,-266.07 118.44,-273.42 121.36,-267.06\"/>\n",
       "</g>\n",
       "<!-- 7 -->\n",
       "<g id=\"node8\" class=\"node\">\n",
       "<title>7</title>\n",
       "<text text-anchor=\"middle\" x=\"201.25\" y=\"-252.2\" font-family=\"Times,serif\" font-size=\"14.00\">&lt;xml&#45;tree&gt;</text>\n",
       "</g>\n",
       "<!-- 1&#45;&gt;7 -->\n",
       "<g id=\"edge7\" class=\"edge\">\n",
       "<title>1&#45;&gt;7</title>\n",
       "<path fill=\"none\" stroke=\"black\" d=\"M201.25,-301.71C201.25,-295.49 201.25,-285.4 201.25,-276.64\"/>\n",
       "<polygon fill=\"black\" stroke=\"black\" points=\"204.75,-276.85 201.25,-266.85 197.75,-276.85 204.75,-276.85\"/>\n",
       "</g>\n",
       "<!-- 22 -->\n",
       "<g id=\"node23\" class=\"node\">\n",
       "<title>22</title>\n",
       "<text text-anchor=\"middle\" x=\"362.25\" y=\"-252.2\" font-family=\"Times,serif\" font-size=\"14.00\">&lt;xml&#45;close&#45;tag&gt;</text>\n",
       "</g>\n",
       "<!-- 1&#45;&gt;22 -->\n",
       "<g id=\"edge22\" class=\"edge\">\n",
       "<title>1&#45;&gt;22</title>\n",
       "<path fill=\"none\" stroke=\"black\" d=\"M221.64,-301.51C249.34,-293.21 299.11,-278.3 331.4,-268.62\"/>\n",
       "<polygon fill=\"black\" stroke=\"black\" points=\"332,-272.09 340.57,-265.87 329.99,-265.39 332,-272.09\"/>\n",
       "</g>\n",
       "<!-- 3 -->\n",
       "<g id=\"node4\" class=\"node\">\n",
       "<title>3</title>\n",
       "<text text-anchor=\"middle\" x=\"17.25\" y=\"-201.95\" font-family=\"Times,serif\" font-size=\"14.00\">&lt; (60)</text>\n",
       "</g>\n",
       "<!-- 2&#45;&gt;3 -->\n",
       "<g id=\"edge3\" class=\"edge\">\n",
       "<title>2&#45;&gt;3</title>\n",
       "<path fill=\"none\" stroke=\"black\" d=\"M86.24,-251.26C73.9,-243.72 52.62,-230.73 36.95,-221.16\"/>\n",
       "<polygon fill=\"black\" stroke=\"black\" points=\"38.82,-218.2 28.47,-215.98 35.18,-224.17 38.82,-218.2\"/>\n",
       "</g>\n",
       "<!-- 4 -->\n",
       "<g id=\"node5\" class=\"node\">\n",
       "<title>4</title>\n",
       "<text text-anchor=\"middle\" x=\"66.25\" y=\"-201.95\" font-family=\"Times,serif\" font-size=\"14.00\">&lt;id&gt;</text>\n",
       "</g>\n",
       "<!-- 2&#45;&gt;4 -->\n",
       "<g id=\"edge4\" class=\"edge\">\n",
       "<title>2&#45;&gt;4</title>\n",
       "<path fill=\"none\" stroke=\"black\" d=\"M92.57,-251.46C88.43,-244.8 81.55,-233.73 75.85,-224.57\"/>\n",
       "<polygon fill=\"black\" stroke=\"black\" points=\"79.01,-223.02 70.76,-216.38 73.07,-226.72 79.01,-223.02\"/>\n",
       "</g>\n",
       "<!-- 6 -->\n",
       "<g id=\"node7\" class=\"node\">\n",
       "<title>6</title>\n",
       "<text text-anchor=\"middle\" x=\"115.25\" y=\"-201.95\" font-family=\"Times,serif\" font-size=\"14.00\">&gt; (62)</text>\n",
       "</g>\n",
       "<!-- 2&#45;&gt;6 -->\n",
       "<g id=\"edge6\" class=\"edge\">\n",
       "<title>2&#45;&gt;6</title>\n",
       "<path fill=\"none\" stroke=\"black\" d=\"M98.58,-251.46C101.09,-245.09 105.19,-234.68 108.69,-225.78\"/>\n",
       "<polygon fill=\"black\" stroke=\"black\" points=\"111.94,-227.09 112.35,-216.5 105.43,-224.52 111.94,-227.09\"/>\n",
       "</g>\n",
       "<!-- 5 -->\n",
       "<g id=\"node6\" class=\"node\">\n",
       "<title>5</title>\n",
       "<text text-anchor=\"middle\" x=\"66.25\" y=\"-151.7\" font-family=\"Times,serif\" font-size=\"14.00\">html</text>\n",
       "</g>\n",
       "<!-- 4&#45;&gt;5 -->\n",
       "<g id=\"edge5\" class=\"edge\">\n",
       "<title>4&#45;&gt;5</title>\n",
       "<path fill=\"none\" stroke=\"black\" d=\"M66.25,-201.21C66.25,-194.99 66.25,-184.9 66.25,-176.14\"/>\n",
       "<polygon fill=\"black\" stroke=\"black\" points=\"69.75,-176.35 66.25,-166.35 62.75,-176.35 69.75,-176.35\"/>\n",
       "</g>\n",
       "<!-- 8 -->\n",
       "<g id=\"node9\" class=\"node\">\n",
       "<title>8</title>\n",
       "<text text-anchor=\"middle\" x=\"182.25\" y=\"-201.95\" font-family=\"Times,serif\" font-size=\"14.00\">&lt;xml&#45;tree&gt;</text>\n",
       "</g>\n",
       "<!-- 7&#45;&gt;8 -->\n",
       "<g id=\"edge8\" class=\"edge\">\n",
       "<title>7&#45;&gt;8</title>\n",
       "<path fill=\"none\" stroke=\"black\" d=\"M198.92,-251.46C196.41,-245.09 192.31,-234.68 188.81,-225.78\"/>\n",
       "<polygon fill=\"black\" stroke=\"black\" points=\"192.07,-224.52 185.15,-216.5 185.56,-227.09 192.07,-224.52\"/>\n",
       "</g>\n",
       "<!-- 11 -->\n",
       "<g id=\"node12\" class=\"node\">\n",
       "<title>11</title>\n",
       "<text text-anchor=\"middle\" x=\"263.25\" y=\"-201.95\" font-family=\"Times,serif\" font-size=\"14.00\">&lt;xml&#45;tree&gt;</text>\n",
       "</g>\n",
       "<!-- 7&#45;&gt;11 -->\n",
       "<g id=\"edge11\" class=\"edge\">\n",
       "<title>7&#45;&gt;11</title>\n",
       "<path fill=\"none\" stroke=\"black\" d=\"M209.1,-251.26C218.56,-243.9 234.71,-231.34 246.92,-221.84\"/>\n",
       "<polygon fill=\"black\" stroke=\"black\" points=\"248.72,-224.87 254.46,-215.96 244.42,-219.34 248.72,-224.87\"/>\n",
       "</g>\n",
       "<!-- 9 -->\n",
       "<g id=\"node10\" class=\"node\">\n",
       "<title>9</title>\n",
       "<text text-anchor=\"middle\" x=\"167.25\" y=\"-151.7\" font-family=\"Times,serif\" font-size=\"14.00\">&lt;text&gt;</text>\n",
       "</g>\n",
       "<!-- 8&#45;&gt;9 -->\n",
       "<g id=\"edge9\" class=\"edge\">\n",
       "<title>8&#45;&gt;9</title>\n",
       "<path fill=\"none\" stroke=\"black\" d=\"M180.41,-201.21C178.45,-194.91 175.27,-184.67 172.52,-175.83\"/>\n",
       "<polygon fill=\"black\" stroke=\"black\" points=\"175.86,-174.8 169.55,-166.29 169.18,-176.87 175.86,-174.8\"/>\n",
       "</g>\n",
       "<!-- 10 -->\n",
       "<g id=\"node11\" class=\"node\">\n",
       "<title>10</title>\n",
       "<text text-anchor=\"middle\" x=\"141.25\" y=\"-101.45\" font-family=\"Times,serif\" font-size=\"14.00\">T (84)</text>\n",
       "</g>\n",
       "<!-- 9&#45;&gt;10 -->\n",
       "<g id=\"edge10\" class=\"edge\">\n",
       "<title>9&#45;&gt;10</title>\n",
       "<path fill=\"none\" stroke=\"black\" d=\"M164.06,-150.96C160.55,-144.45 154.76,-133.71 149.9,-124.67\"/>\n",
       "<polygon fill=\"black\" stroke=\"black\" points=\"153.01,-123.07 145.18,-115.92 146.84,-126.39 153.01,-123.07\"/>\n",
       "</g>\n",
       "<!-- 12 -->\n",
       "<g id=\"node13\" class=\"node\">\n",
       "<title>12</title>\n",
       "<text text-anchor=\"middle\" x=\"250.25\" y=\"-151.7\" font-family=\"Times,serif\" font-size=\"14.00\">&lt;xml&#45;tree&gt;</text>\n",
       "</g>\n",
       "<!-- 11&#45;&gt;12 -->\n",
       "<g id=\"edge12\" class=\"edge\">\n",
       "<title>11&#45;&gt;12</title>\n",
       "<path fill=\"none\" stroke=\"black\" d=\"M261.66,-201.21C259.96,-194.91 257.2,-184.67 254.82,-175.83\"/>\n",
       "<polygon fill=\"black\" stroke=\"black\" points=\"258.23,-175.05 252.25,-166.3 251.47,-176.87 258.23,-175.05\"/>\n",
       "</g>\n",
       "<!-- 19 -->\n",
       "<g id=\"node20\" class=\"node\">\n",
       "<title>19</title>\n",
       "<text text-anchor=\"middle\" x=\"331.25\" y=\"-151.7\" font-family=\"Times,serif\" font-size=\"14.00\">&lt;xml&#45;tree&gt;</text>\n",
       "</g>\n",
       "<!-- 11&#45;&gt;19 -->\n",
       "<g id=\"edge19\" class=\"edge\">\n",
       "<title>11&#45;&gt;19</title>\n",
       "<path fill=\"none\" stroke=\"black\" d=\"M271.86,-201.01C282.34,-193.58 300.3,-180.84 313.73,-171.31\"/>\n",
       "<polygon fill=\"black\" stroke=\"black\" points=\"315.56,-174.3 321.69,-165.66 311.51,-168.59 315.56,-174.3\"/>\n",
       "</g>\n",
       "<!-- 13 -->\n",
       "<g id=\"node14\" class=\"node\">\n",
       "<title>13</title>\n",
       "<text text-anchor=\"middle\" x=\"208.25\" y=\"-101.45\" font-family=\"Times,serif\" font-size=\"14.00\">&lt;xml&#45;tree&gt;</text>\n",
       "</g>\n",
       "<!-- 12&#45;&gt;13 -->\n",
       "<g id=\"edge13\" class=\"edge\">\n",
       "<title>12&#45;&gt;13</title>\n",
       "<path fill=\"none\" stroke=\"black\" d=\"M245.1,-150.96C239.12,-144.09 229.03,-132.5 220.92,-123.18\"/>\n",
       "<polygon fill=\"black\" stroke=\"black\" points=\"223.64,-120.98 214.44,-115.73 218.36,-125.57 223.64,-120.98\"/>\n",
       "</g>\n",
       "<!-- 16 -->\n",
       "<g id=\"node17\" class=\"node\">\n",
       "<title>16</title>\n",
       "<text text-anchor=\"middle\" x=\"289.25\" y=\"-101.45\" font-family=\"Times,serif\" font-size=\"14.00\">&lt;xml&#45;tree&gt;</text>\n",
       "</g>\n",
       "<!-- 12&#45;&gt;16 -->\n",
       "<g id=\"edge16\" class=\"edge\">\n",
       "<title>12&#45;&gt;16</title>\n",
       "<path fill=\"none\" stroke=\"black\" d=\"M255.03,-150.96C260.53,-144.16 269.76,-132.74 277.24,-123.48\"/>\n",
       "<polygon fill=\"black\" stroke=\"black\" points=\"279.91,-125.74 283.48,-115.77 274.47,-121.34 279.91,-125.74\"/>\n",
       "</g>\n",
       "<!-- 14 -->\n",
       "<g id=\"node15\" class=\"node\">\n",
       "<title>14</title>\n",
       "<text text-anchor=\"middle\" x=\"208.25\" y=\"-51.2\" font-family=\"Times,serif\" font-size=\"14.00\">&lt;text&gt;</text>\n",
       "</g>\n",
       "<!-- 13&#45;&gt;14 -->\n",
       "<g id=\"edge14\" class=\"edge\">\n",
       "<title>13&#45;&gt;14</title>\n",
       "<path fill=\"none\" stroke=\"black\" d=\"M208.25,-100.71C208.25,-94.49 208.25,-84.4 208.25,-75.64\"/>\n",
       "<polygon fill=\"black\" stroke=\"black\" points=\"211.75,-75.85 208.25,-65.85 204.75,-75.85 211.75,-75.85\"/>\n",
       "</g>\n",
       "<!-- 15 -->\n",
       "<g id=\"node16\" class=\"node\">\n",
       "<title>15</title>\n",
       "<text text-anchor=\"middle\" x=\"208.25\" y=\"-0.95\" font-family=\"Times,serif\" font-size=\"14.00\">e (101)</text>\n",
       "</g>\n",
       "<!-- 14&#45;&gt;15 -->\n",
       "<g id=\"edge15\" class=\"edge\">\n",
       "<title>14&#45;&gt;15</title>\n",
       "<path fill=\"none\" stroke=\"black\" d=\"M208.25,-50.46C208.25,-44.24 208.25,-34.15 208.25,-25.39\"/>\n",
       "<polygon fill=\"black\" stroke=\"black\" points=\"211.75,-25.6 208.25,-15.6 204.75,-25.6 211.75,-25.6\"/>\n",
       "</g>\n",
       "<!-- 17 -->\n",
       "<g id=\"node18\" class=\"node\">\n",
       "<title>17</title>\n",
       "<text text-anchor=\"middle\" x=\"289.25\" y=\"-51.2\" font-family=\"Times,serif\" font-size=\"14.00\">&lt;text&gt;</text>\n",
       "</g>\n",
       "<!-- 16&#45;&gt;17 -->\n",
       "<g id=\"edge17\" class=\"edge\">\n",
       "<title>16&#45;&gt;17</title>\n",
       "<path fill=\"none\" stroke=\"black\" d=\"M289.25,-100.71C289.25,-94.49 289.25,-84.4 289.25,-75.64\"/>\n",
       "<polygon fill=\"black\" stroke=\"black\" points=\"292.75,-75.85 289.25,-65.85 285.75,-75.85 292.75,-75.85\"/>\n",
       "</g>\n",
       "<!-- 18 -->\n",
       "<g id=\"node19\" class=\"node\">\n",
       "<title>18</title>\n",
       "<text text-anchor=\"middle\" x=\"289.25\" y=\"-0.95\" font-family=\"Times,serif\" font-size=\"14.00\">x (120)</text>\n",
       "</g>\n",
       "<!-- 17&#45;&gt;18 -->\n",
       "<g id=\"edge18\" class=\"edge\">\n",
       "<title>17&#45;&gt;18</title>\n",
       "<path fill=\"none\" stroke=\"black\" d=\"M289.25,-50.46C289.25,-44.24 289.25,-34.15 289.25,-25.39\"/>\n",
       "<polygon fill=\"black\" stroke=\"black\" points=\"292.75,-25.6 289.25,-15.6 285.75,-25.6 292.75,-25.6\"/>\n",
       "</g>\n",
       "<!-- 20 -->\n",
       "<g id=\"node21\" class=\"node\">\n",
       "<title>20</title>\n",
       "<text text-anchor=\"middle\" x=\"357.25\" y=\"-101.45\" font-family=\"Times,serif\" font-size=\"14.00\">&lt;text&gt;</text>\n",
       "</g>\n",
       "<!-- 19&#45;&gt;20 -->\n",
       "<g id=\"edge20\" class=\"edge\">\n",
       "<title>19&#45;&gt;20</title>\n",
       "<path fill=\"none\" stroke=\"black\" d=\"M334.44,-150.96C337.95,-144.45 343.74,-133.71 348.6,-124.67\"/>\n",
       "<polygon fill=\"black\" stroke=\"black\" points=\"351.66,-126.39 353.32,-115.92 345.49,-123.07 351.66,-126.39\"/>\n",
       "</g>\n",
       "<!-- 21 -->\n",
       "<g id=\"node22\" class=\"node\">\n",
       "<title>21</title>\n",
       "<text text-anchor=\"middle\" x=\"357.25\" y=\"-51.2\" font-family=\"Times,serif\" font-size=\"14.00\">t (116)</text>\n",
       "</g>\n",
       "<!-- 20&#45;&gt;21 -->\n",
       "<g id=\"edge21\" class=\"edge\">\n",
       "<title>20&#45;&gt;21</title>\n",
       "<path fill=\"none\" stroke=\"black\" d=\"M357.25,-100.71C357.25,-94.49 357.25,-84.4 357.25,-75.64\"/>\n",
       "<polygon fill=\"black\" stroke=\"black\" points=\"360.75,-75.85 357.25,-65.85 353.75,-75.85 360.75,-75.85\"/>\n",
       "</g>\n",
       "<!-- 23 -->\n",
       "<g id=\"node24\" class=\"node\">\n",
       "<title>23</title>\n",
       "<text text-anchor=\"middle\" x=\"343.25\" y=\"-201.95\" font-family=\"Times,serif\" font-size=\"14.00\">&lt;/</text>\n",
       "</g>\n",
       "<!-- 22&#45;&gt;23 -->\n",
       "<g id=\"edge23\" class=\"edge\">\n",
       "<title>22&#45;&gt;23</title>\n",
       "<path fill=\"none\" stroke=\"black\" d=\"M359.92,-251.46C357.41,-245.09 353.31,-234.68 349.81,-225.78\"/>\n",
       "<polygon fill=\"black\" stroke=\"black\" points=\"353.07,-224.52 346.15,-216.5 346.56,-227.09 353.07,-224.52\"/>\n",
       "</g>\n",
       "<!-- 24 -->\n",
       "<g id=\"node25\" class=\"node\">\n",
       "<title>24</title>\n",
       "<text text-anchor=\"middle\" x=\"381.25\" y=\"-201.95\" font-family=\"Times,serif\" font-size=\"14.00\">&lt;id&gt;</text>\n",
       "</g>\n",
       "<!-- 22&#45;&gt;24 -->\n",
       "<g id=\"edge24\" class=\"edge\">\n",
       "<title>22&#45;&gt;24</title>\n",
       "<path fill=\"none\" stroke=\"black\" d=\"M364.58,-251.46C367.09,-245.09 371.19,-234.68 374.69,-225.78\"/>\n",
       "<polygon fill=\"black\" stroke=\"black\" points=\"377.94,-227.09 378.35,-216.5 371.43,-224.52 377.94,-227.09\"/>\n",
       "</g>\n",
       "<!-- 26 -->\n",
       "<g id=\"node27\" class=\"node\">\n",
       "<title>26</title>\n",
       "<text text-anchor=\"middle\" x=\"430.25\" y=\"-201.95\" font-family=\"Times,serif\" font-size=\"14.00\">&gt; (62)</text>\n",
       "</g>\n",
       "<!-- 22&#45;&gt;26 -->\n",
       "<g id=\"edge26\" class=\"edge\">\n",
       "<title>22&#45;&gt;26</title>\n",
       "<path fill=\"none\" stroke=\"black\" d=\"M370.86,-251.26C381.34,-243.83 399.3,-231.09 412.73,-221.56\"/>\n",
       "<polygon fill=\"black\" stroke=\"black\" points=\"414.56,-224.55 420.69,-215.91 410.51,-218.84 414.56,-224.55\"/>\n",
       "</g>\n",
       "<!-- 25 -->\n",
       "<g id=\"node26\" class=\"node\">\n",
       "<title>25</title>\n",
       "<text text-anchor=\"middle\" x=\"393.25\" y=\"-151.7\" font-family=\"Times,serif\" font-size=\"14.00\">html</text>\n",
       "</g>\n",
       "<!-- 24&#45;&gt;25 -->\n",
       "<g id=\"edge25\" class=\"edge\">\n",
       "<title>24&#45;&gt;25</title>\n",
       "<path fill=\"none\" stroke=\"black\" d=\"M382.72,-201.21C384.29,-194.91 386.84,-184.67 389.03,-175.83\"/>\n",
       "<polygon fill=\"black\" stroke=\"black\" points=\"392.38,-176.86 391.4,-166.31 385.59,-175.17 392.38,-176.86\"/>\n",
       "</g>\n",
       "</g>\n",
       "</svg>\n"
      ],
      "text/plain": [
       "<graphviz.graphs.Digraph at 0x10a260200>"
      ]
     },
     "metadata": {},
     "output_type": "display_data"
    },
    {
     "data": {
      "image/svg+xml": [
       "<?xml version=\"1.0\" encoding=\"UTF-8\" standalone=\"no\"?>\n",
       "<!DOCTYPE svg PUBLIC \"-//W3C//DTD SVG 1.1//EN\"\n",
       " \"http://www.w3.org/Graphics/SVG/1.1/DTD/svg11.dtd\">\n",
       "<!-- Generated by graphviz version 12.2.1 (20241206.2353)\n",
       " -->\n",
       "<!-- Pages: 1 -->\n",
       "<svg width=\"450pt\" height=\"374pt\"\n",
       " viewBox=\"0.00 0.00 449.50 374.00\" xmlns=\"http://www.w3.org/2000/svg\" xmlns:xlink=\"http://www.w3.org/1999/xlink\">\n",
       "<g id=\"graph0\" class=\"graph\" transform=\"scale(1 1) rotate(0) translate(4 370)\">\n",
       "<polygon fill=\"white\" stroke=\"none\" points=\"-4,4 -4,-370 445.5,-370 445.5,4 -4,4\"/>\n",
       "<!-- 0 -->\n",
       "<g id=\"node1\" class=\"node\">\n",
       "<title>0</title>\n",
       "<text text-anchor=\"middle\" x=\"201.25\" y=\"-352.7\" font-family=\"Times,serif\" font-size=\"14.00\">&lt;start&gt;</text>\n",
       "</g>\n",
       "<!-- 1 -->\n",
       "<g id=\"node2\" class=\"node\">\n",
       "<title>1</title>\n",
       "<text text-anchor=\"middle\" x=\"201.25\" y=\"-302.45\" font-family=\"Times,serif\" font-size=\"14.00\">&lt;xml&#45;tree&gt;</text>\n",
       "</g>\n",
       "<!-- 0&#45;&gt;1 -->\n",
       "<g id=\"edge1\" class=\"edge\">\n",
       "<title>0&#45;&gt;1</title>\n",
       "<path fill=\"none\" stroke=\"black\" d=\"M201.25,-351.96C201.25,-345.74 201.25,-335.65 201.25,-326.89\"/>\n",
       "<polygon fill=\"black\" stroke=\"black\" points=\"204.75,-327.1 201.25,-317.1 197.75,-327.1 204.75,-327.1\"/>\n",
       "</g>\n",
       "<!-- 2 -->\n",
       "<g id=\"node3\" class=\"node\">\n",
       "<title>2</title>\n",
       "<text text-anchor=\"middle\" x=\"96.25\" y=\"-252.2\" font-family=\"Times,serif\" font-size=\"14.00\">&lt;xml&#45;open&#45;tag&gt;</text>\n",
       "</g>\n",
       "<!-- 1&#45;&gt;2 -->\n",
       "<g id=\"edge2\" class=\"edge\">\n",
       "<title>1&#45;&gt;2</title>\n",
       "<path fill=\"none\" stroke=\"black\" d=\"M187.95,-301.51C170.83,-293.65 140.79,-279.84 119.77,-270.18\"/>\n",
       "<polygon fill=\"black\" stroke=\"black\" points=\"121.36,-267.06 110.82,-266.07 118.44,-273.42 121.36,-267.06\"/>\n",
       "</g>\n",
       "<!-- 7 -->\n",
       "<g id=\"node8\" class=\"node\">\n",
       "<title>7</title>\n",
       "<text text-anchor=\"middle\" x=\"201.25\" y=\"-252.2\" font-family=\"Times,serif\" font-size=\"14.00\">&lt;xml&#45;tree&gt;</text>\n",
       "</g>\n",
       "<!-- 1&#45;&gt;7 -->\n",
       "<g id=\"edge7\" class=\"edge\">\n",
       "<title>1&#45;&gt;7</title>\n",
       "<path fill=\"none\" stroke=\"black\" d=\"M201.25,-301.71C201.25,-295.49 201.25,-285.4 201.25,-276.64\"/>\n",
       "<polygon fill=\"black\" stroke=\"black\" points=\"204.75,-276.85 201.25,-266.85 197.75,-276.85 204.75,-276.85\"/>\n",
       "</g>\n",
       "<!-- 22 -->\n",
       "<g id=\"node23\" class=\"node\">\n",
       "<title>22</title>\n",
       "<text text-anchor=\"middle\" x=\"356.25\" y=\"-252.2\" font-family=\"Times,serif\" font-size=\"14.00\">&lt;xml&#45;close&#45;tag&gt;</text>\n",
       "</g>\n",
       "<!-- 1&#45;&gt;22 -->\n",
       "<g id=\"edge22\" class=\"edge\">\n",
       "<title>1&#45;&gt;22</title>\n",
       "<path fill=\"none\" stroke=\"black\" d=\"M220.88,-301.51C247.43,-293.25 295.05,-278.43 326.14,-268.75\"/>\n",
       "<polygon fill=\"black\" stroke=\"black\" points=\"326.83,-272.2 335.33,-265.89 324.75,-265.52 326.83,-272.2\"/>\n",
       "</g>\n",
       "<!-- 3 -->\n",
       "<g id=\"node4\" class=\"node\">\n",
       "<title>3</title>\n",
       "<text text-anchor=\"middle\" x=\"17.25\" y=\"-201.95\" font-family=\"Times,serif\" font-size=\"14.00\">&lt; (60)</text>\n",
       "</g>\n",
       "<!-- 2&#45;&gt;3 -->\n",
       "<g id=\"edge3\" class=\"edge\">\n",
       "<title>2&#45;&gt;3</title>\n",
       "<path fill=\"none\" stroke=\"black\" d=\"M86.24,-251.26C73.9,-243.72 52.62,-230.73 36.95,-221.16\"/>\n",
       "<polygon fill=\"black\" stroke=\"black\" points=\"38.82,-218.2 28.47,-215.98 35.18,-224.17 38.82,-218.2\"/>\n",
       "</g>\n",
       "<!-- 4 -->\n",
       "<g id=\"node5\" class=\"node\">\n",
       "<title>4</title>\n",
       "<text text-anchor=\"middle\" x=\"66.25\" y=\"-201.95\" font-family=\"Times,serif\" font-size=\"14.00\">&lt;id&gt;</text>\n",
       "</g>\n",
       "<!-- 2&#45;&gt;4 -->\n",
       "<g id=\"edge4\" class=\"edge\">\n",
       "<title>2&#45;&gt;4</title>\n",
       "<path fill=\"none\" stroke=\"black\" d=\"M92.57,-251.46C88.43,-244.8 81.55,-233.73 75.85,-224.57\"/>\n",
       "<polygon fill=\"black\" stroke=\"black\" points=\"79.01,-223.02 70.76,-216.38 73.07,-226.72 79.01,-223.02\"/>\n",
       "</g>\n",
       "<!-- 6 -->\n",
       "<g id=\"node7\" class=\"node\">\n",
       "<title>6</title>\n",
       "<text text-anchor=\"middle\" x=\"115.25\" y=\"-201.95\" font-family=\"Times,serif\" font-size=\"14.00\">&gt; (62)</text>\n",
       "</g>\n",
       "<!-- 2&#45;&gt;6 -->\n",
       "<g id=\"edge6\" class=\"edge\">\n",
       "<title>2&#45;&gt;6</title>\n",
       "<path fill=\"none\" stroke=\"black\" d=\"M98.58,-251.46C101.09,-245.09 105.19,-234.68 108.69,-225.78\"/>\n",
       "<polygon fill=\"black\" stroke=\"black\" points=\"111.94,-227.09 112.35,-216.5 105.43,-224.52 111.94,-227.09\"/>\n",
       "</g>\n",
       "<!-- 5 -->\n",
       "<g id=\"node6\" class=\"node\">\n",
       "<title>5</title>\n",
       "<text text-anchor=\"middle\" x=\"66.25\" y=\"-151.7\" font-family=\"Times,serif\" font-size=\"14.00\">html</text>\n",
       "</g>\n",
       "<!-- 4&#45;&gt;5 -->\n",
       "<g id=\"edge5\" class=\"edge\">\n",
       "<title>4&#45;&gt;5</title>\n",
       "<path fill=\"none\" stroke=\"black\" d=\"M66.25,-201.21C66.25,-194.99 66.25,-184.9 66.25,-176.14\"/>\n",
       "<polygon fill=\"black\" stroke=\"black\" points=\"69.75,-176.35 66.25,-166.35 62.75,-176.35 69.75,-176.35\"/>\n",
       "</g>\n",
       "<!-- 8 -->\n",
       "<g id=\"node9\" class=\"node\">\n",
       "<title>8</title>\n",
       "<text text-anchor=\"middle\" x=\"182.25\" y=\"-201.95\" font-family=\"Times,serif\" font-size=\"14.00\">&lt;xml&#45;tree&gt;</text>\n",
       "</g>\n",
       "<!-- 7&#45;&gt;8 -->\n",
       "<g id=\"edge8\" class=\"edge\">\n",
       "<title>7&#45;&gt;8</title>\n",
       "<path fill=\"none\" stroke=\"black\" d=\"M198.92,-251.46C196.41,-245.09 192.31,-234.68 188.81,-225.78\"/>\n",
       "<polygon fill=\"black\" stroke=\"black\" points=\"192.07,-224.52 185.15,-216.5 185.56,-227.09 192.07,-224.52\"/>\n",
       "</g>\n",
       "<!-- 11 -->\n",
       "<g id=\"node12\" class=\"node\">\n",
       "<title>11</title>\n",
       "<text text-anchor=\"middle\" x=\"263.25\" y=\"-201.95\" font-family=\"Times,serif\" font-size=\"14.00\">&lt;xml&#45;tree&gt;</text>\n",
       "</g>\n",
       "<!-- 7&#45;&gt;11 -->\n",
       "<g id=\"edge11\" class=\"edge\">\n",
       "<title>7&#45;&gt;11</title>\n",
       "<path fill=\"none\" stroke=\"black\" d=\"M209.1,-251.26C218.56,-243.9 234.71,-231.34 246.92,-221.84\"/>\n",
       "<polygon fill=\"black\" stroke=\"black\" points=\"248.72,-224.87 254.46,-215.96 244.42,-219.34 248.72,-224.87\"/>\n",
       "</g>\n",
       "<!-- 9 -->\n",
       "<g id=\"node10\" class=\"node\">\n",
       "<title>9</title>\n",
       "<text text-anchor=\"middle\" x=\"173.25\" y=\"-151.7\" font-family=\"Times,serif\" font-size=\"14.00\">&lt;text&gt;</text>\n",
       "</g>\n",
       "<!-- 8&#45;&gt;9 -->\n",
       "<g id=\"edge9\" class=\"edge\">\n",
       "<title>8&#45;&gt;9</title>\n",
       "<path fill=\"none\" stroke=\"black\" d=\"M181.15,-201.21C179.99,-194.99 178.1,-184.9 176.47,-176.14\"/>\n",
       "<polygon fill=\"black\" stroke=\"black\" points=\"179.91,-175.52 174.64,-166.33 173.03,-176.8 179.91,-175.52\"/>\n",
       "</g>\n",
       "<!-- 10 -->\n",
       "<g id=\"node11\" class=\"node\">\n",
       "<title>10</title>\n",
       "<text text-anchor=\"middle\" x=\"173.25\" y=\"-101.45\" font-family=\"Times,serif\" font-size=\"14.00\">T (84)</text>\n",
       "</g>\n",
       "<!-- 9&#45;&gt;10 -->\n",
       "<g id=\"edge10\" class=\"edge\">\n",
       "<title>9&#45;&gt;10</title>\n",
       "<path fill=\"none\" stroke=\"black\" d=\"M173.25,-150.96C173.25,-144.74 173.25,-134.65 173.25,-125.89\"/>\n",
       "<polygon fill=\"black\" stroke=\"black\" points=\"176.75,-126.1 173.25,-116.1 169.75,-126.1 176.75,-126.1\"/>\n",
       "</g>\n",
       "<!-- 12 -->\n",
       "<g id=\"node13\" class=\"node\">\n",
       "<title>12</title>\n",
       "<text text-anchor=\"middle\" x=\"241.25\" y=\"-151.7\" font-family=\"Times,serif\" font-size=\"14.00\">&lt;xml&#45;tree&gt;</text>\n",
       "</g>\n",
       "<!-- 11&#45;&gt;12 -->\n",
       "<g id=\"edge12\" class=\"edge\">\n",
       "<title>11&#45;&gt;12</title>\n",
       "<path fill=\"none\" stroke=\"black\" d=\"M260.55,-201.21C257.62,-194.77 252.79,-184.19 248.7,-175.22\"/>\n",
       "<polygon fill=\"black\" stroke=\"black\" points=\"251.93,-173.86 244.6,-166.22 245.56,-176.77 251.93,-173.86\"/>\n",
       "</g>\n",
       "<!-- 15 -->\n",
       "<g id=\"node16\" class=\"node\">\n",
       "<title>15</title>\n",
       "<text text-anchor=\"middle\" x=\"322.25\" y=\"-151.7\" font-family=\"Times,serif\" font-size=\"14.00\">&lt;xml&#45;tree&gt;</text>\n",
       "</g>\n",
       "<!-- 11&#45;&gt;15 -->\n",
       "<g id=\"edge15\" class=\"edge\">\n",
       "<title>11&#45;&gt;15</title>\n",
       "<path fill=\"none\" stroke=\"black\" d=\"M270.48,-201.21C279.33,-193.97 294.56,-181.52 306.22,-171.98\"/>\n",
       "<polygon fill=\"black\" stroke=\"black\" points=\"308.26,-174.84 313.78,-165.8 303.83,-169.42 308.26,-174.84\"/>\n",
       "</g>\n",
       "<!-- 13 -->\n",
       "<g id=\"node14\" class=\"node\">\n",
       "<title>13</title>\n",
       "<text text-anchor=\"middle\" x=\"241.25\" y=\"-101.45\" font-family=\"Times,serif\" font-size=\"14.00\">&lt;text&gt;</text>\n",
       "</g>\n",
       "<!-- 12&#45;&gt;13 -->\n",
       "<g id=\"edge13\" class=\"edge\">\n",
       "<title>12&#45;&gt;13</title>\n",
       "<path fill=\"none\" stroke=\"black\" d=\"M241.25,-150.96C241.25,-144.74 241.25,-134.65 241.25,-125.89\"/>\n",
       "<polygon fill=\"black\" stroke=\"black\" points=\"244.75,-126.1 241.25,-116.1 237.75,-126.1 244.75,-126.1\"/>\n",
       "</g>\n",
       "<!-- 14 -->\n",
       "<g id=\"node15\" class=\"node\">\n",
       "<title>14</title>\n",
       "<text text-anchor=\"middle\" x=\"241.25\" y=\"-51.2\" font-family=\"Times,serif\" font-size=\"14.00\">e (101)</text>\n",
       "</g>\n",
       "<!-- 13&#45;&gt;14 -->\n",
       "<g id=\"edge14\" class=\"edge\">\n",
       "<title>13&#45;&gt;14</title>\n",
       "<path fill=\"none\" stroke=\"black\" d=\"M241.25,-100.71C241.25,-94.49 241.25,-84.4 241.25,-75.64\"/>\n",
       "<polygon fill=\"black\" stroke=\"black\" points=\"244.75,-75.85 241.25,-65.85 237.75,-75.85 244.75,-75.85\"/>\n",
       "</g>\n",
       "<!-- 16 -->\n",
       "<g id=\"node17\" class=\"node\">\n",
       "<title>16</title>\n",
       "<text text-anchor=\"middle\" x=\"315.25\" y=\"-101.45\" font-family=\"Times,serif\" font-size=\"14.00\">&lt;xml&#45;tree&gt;</text>\n",
       "</g>\n",
       "<!-- 15&#45;&gt;16 -->\n",
       "<g id=\"edge16\" class=\"edge\">\n",
       "<title>15&#45;&gt;16</title>\n",
       "<path fill=\"none\" stroke=\"black\" d=\"M321.39,-150.96C320.49,-144.74 319.03,-134.65 317.75,-125.89\"/>\n",
       "<polygon fill=\"black\" stroke=\"black\" points=\"321.23,-125.48 316.33,-116.09 314.3,-126.49 321.23,-125.48\"/>\n",
       "</g>\n",
       "<!-- 19 -->\n",
       "<g id=\"node20\" class=\"node\">\n",
       "<title>19</title>\n",
       "<text text-anchor=\"middle\" x=\"396.25\" y=\"-101.45\" font-family=\"Times,serif\" font-size=\"14.00\">&lt;xml&#45;tree&gt;</text>\n",
       "</g>\n",
       "<!-- 15&#45;&gt;19 -->\n",
       "<g id=\"edge19\" class=\"edge\">\n",
       "<title>15&#45;&gt;19</title>\n",
       "<path fill=\"none\" stroke=\"black\" d=\"M331.62,-150.76C343.14,-143.25 362.95,-130.34 377.61,-120.78\"/>\n",
       "<polygon fill=\"black\" stroke=\"black\" points=\"379.45,-123.76 385.92,-115.36 375.63,-117.89 379.45,-123.76\"/>\n",
       "</g>\n",
       "<!-- 17 -->\n",
       "<g id=\"node18\" class=\"node\">\n",
       "<title>17</title>\n",
       "<text text-anchor=\"middle\" x=\"315.25\" y=\"-51.2\" font-family=\"Times,serif\" font-size=\"14.00\">&lt;text&gt;</text>\n",
       "</g>\n",
       "<!-- 16&#45;&gt;17 -->\n",
       "<g id=\"edge17\" class=\"edge\">\n",
       "<title>16&#45;&gt;17</title>\n",
       "<path fill=\"none\" stroke=\"black\" d=\"M315.25,-100.71C315.25,-94.49 315.25,-84.4 315.25,-75.64\"/>\n",
       "<polygon fill=\"black\" stroke=\"black\" points=\"318.75,-75.85 315.25,-65.85 311.75,-75.85 318.75,-75.85\"/>\n",
       "</g>\n",
       "<!-- 18 -->\n",
       "<g id=\"node19\" class=\"node\">\n",
       "<title>18</title>\n",
       "<text text-anchor=\"middle\" x=\"315.25\" y=\"-0.95\" font-family=\"Times,serif\" font-size=\"14.00\">x (120)</text>\n",
       "</g>\n",
       "<!-- 17&#45;&gt;18 -->\n",
       "<g id=\"edge18\" class=\"edge\">\n",
       "<title>17&#45;&gt;18</title>\n",
       "<path fill=\"none\" stroke=\"black\" d=\"M315.25,-50.46C315.25,-44.24 315.25,-34.15 315.25,-25.39\"/>\n",
       "<polygon fill=\"black\" stroke=\"black\" points=\"318.75,-25.6 315.25,-15.6 311.75,-25.6 318.75,-25.6\"/>\n",
       "</g>\n",
       "<!-- 20 -->\n",
       "<g id=\"node21\" class=\"node\">\n",
       "<title>20</title>\n",
       "<text text-anchor=\"middle\" x=\"396.25\" y=\"-51.2\" font-family=\"Times,serif\" font-size=\"14.00\">&lt;text&gt;</text>\n",
       "</g>\n",
       "<!-- 19&#45;&gt;20 -->\n",
       "<g id=\"edge20\" class=\"edge\">\n",
       "<title>19&#45;&gt;20</title>\n",
       "<path fill=\"none\" stroke=\"black\" d=\"M396.25,-100.71C396.25,-94.49 396.25,-84.4 396.25,-75.64\"/>\n",
       "<polygon fill=\"black\" stroke=\"black\" points=\"399.75,-75.85 396.25,-65.85 392.75,-75.85 399.75,-75.85\"/>\n",
       "</g>\n",
       "<!-- 21 -->\n",
       "<g id=\"node22\" class=\"node\">\n",
       "<title>21</title>\n",
       "<text text-anchor=\"middle\" x=\"396.25\" y=\"-0.95\" font-family=\"Times,serif\" font-size=\"14.00\">t (116)</text>\n",
       "</g>\n",
       "<!-- 20&#45;&gt;21 -->\n",
       "<g id=\"edge21\" class=\"edge\">\n",
       "<title>20&#45;&gt;21</title>\n",
       "<path fill=\"none\" stroke=\"black\" d=\"M396.25,-50.46C396.25,-44.24 396.25,-34.15 396.25,-25.39\"/>\n",
       "<polygon fill=\"black\" stroke=\"black\" points=\"399.75,-25.6 396.25,-15.6 392.75,-25.6 399.75,-25.6\"/>\n",
       "</g>\n",
       "<!-- 23 -->\n",
       "<g id=\"node24\" class=\"node\">\n",
       "<title>23</title>\n",
       "<text text-anchor=\"middle\" x=\"337.25\" y=\"-201.95\" font-family=\"Times,serif\" font-size=\"14.00\">&lt;/</text>\n",
       "</g>\n",
       "<!-- 22&#45;&gt;23 -->\n",
       "<g id=\"edge23\" class=\"edge\">\n",
       "<title>22&#45;&gt;23</title>\n",
       "<path fill=\"none\" stroke=\"black\" d=\"M353.92,-251.46C351.41,-245.09 347.31,-234.68 343.81,-225.78\"/>\n",
       "<polygon fill=\"black\" stroke=\"black\" points=\"347.07,-224.52 340.15,-216.5 340.56,-227.09 347.07,-224.52\"/>\n",
       "</g>\n",
       "<!-- 24 -->\n",
       "<g id=\"node25\" class=\"node\">\n",
       "<title>24</title>\n",
       "<text text-anchor=\"middle\" x=\"375.25\" y=\"-201.95\" font-family=\"Times,serif\" font-size=\"14.00\">&lt;id&gt;</text>\n",
       "</g>\n",
       "<!-- 22&#45;&gt;24 -->\n",
       "<g id=\"edge24\" class=\"edge\">\n",
       "<title>22&#45;&gt;24</title>\n",
       "<path fill=\"none\" stroke=\"black\" d=\"M358.58,-251.46C361.09,-245.09 365.19,-234.68 368.69,-225.78\"/>\n",
       "<polygon fill=\"black\" stroke=\"black\" points=\"371.94,-227.09 372.35,-216.5 365.43,-224.52 371.94,-227.09\"/>\n",
       "</g>\n",
       "<!-- 26 -->\n",
       "<g id=\"node27\" class=\"node\">\n",
       "<title>26</title>\n",
       "<text text-anchor=\"middle\" x=\"424.25\" y=\"-201.95\" font-family=\"Times,serif\" font-size=\"14.00\">&gt; (62)</text>\n",
       "</g>\n",
       "<!-- 22&#45;&gt;26 -->\n",
       "<g id=\"edge26\" class=\"edge\">\n",
       "<title>22&#45;&gt;26</title>\n",
       "<path fill=\"none\" stroke=\"black\" d=\"M364.86,-251.26C375.34,-243.83 393.3,-231.09 406.73,-221.56\"/>\n",
       "<polygon fill=\"black\" stroke=\"black\" points=\"408.56,-224.55 414.69,-215.91 404.51,-218.84 408.56,-224.55\"/>\n",
       "</g>\n",
       "<!-- 25 -->\n",
       "<g id=\"node26\" class=\"node\">\n",
       "<title>25</title>\n",
       "<text text-anchor=\"middle\" x=\"384.25\" y=\"-151.7\" font-family=\"Times,serif\" font-size=\"14.00\">html</text>\n",
       "</g>\n",
       "<!-- 24&#45;&gt;25 -->\n",
       "<g id=\"edge25\" class=\"edge\">\n",
       "<title>24&#45;&gt;25</title>\n",
       "<path fill=\"none\" stroke=\"black\" d=\"M376.35,-201.21C377.51,-194.99 379.4,-184.9 381.03,-176.14\"/>\n",
       "<polygon fill=\"black\" stroke=\"black\" points=\"384.47,-176.8 382.86,-166.33 377.59,-175.52 384.47,-176.8\"/>\n",
       "</g>\n",
       "</g>\n",
       "</svg>\n"
      ],
      "text/plain": [
       "<graphviz.graphs.Digraph at 0x10a2604a0>"
      ]
     },
     "metadata": {},
     "output_type": "display_data"
    },
    {
     "data": {
      "image/svg+xml": [
       "<?xml version=\"1.0\" encoding=\"UTF-8\" standalone=\"no\"?>\n",
       "<!DOCTYPE svg PUBLIC \"-//W3C//DTD SVG 1.1//EN\"\n",
       " \"http://www.w3.org/Graphics/SVG/1.1/DTD/svg11.dtd\">\n",
       "<!-- Generated by graphviz version 12.2.1 (20241206.2353)\n",
       " -->\n",
       "<!-- Pages: 1 -->\n",
       "<svg width=\"450pt\" height=\"324pt\"\n",
       " viewBox=\"0.00 0.00 449.50 323.75\" xmlns=\"http://www.w3.org/2000/svg\" xmlns:xlink=\"http://www.w3.org/1999/xlink\">\n",
       "<g id=\"graph0\" class=\"graph\" transform=\"scale(1 1) rotate(0) translate(4 319.75)\">\n",
       "<polygon fill=\"white\" stroke=\"none\" points=\"-4,4 -4,-319.75 445.5,-319.75 445.5,4 -4,4\"/>\n",
       "<!-- 0 -->\n",
       "<g id=\"node1\" class=\"node\">\n",
       "<title>0</title>\n",
       "<text text-anchor=\"middle\" x=\"201.25\" y=\"-302.45\" font-family=\"Times,serif\" font-size=\"14.00\">&lt;start&gt;</text>\n",
       "</g>\n",
       "<!-- 1 -->\n",
       "<g id=\"node2\" class=\"node\">\n",
       "<title>1</title>\n",
       "<text text-anchor=\"middle\" x=\"201.25\" y=\"-252.2\" font-family=\"Times,serif\" font-size=\"14.00\">&lt;xml&#45;tree&gt;</text>\n",
       "</g>\n",
       "<!-- 0&#45;&gt;1 -->\n",
       "<g id=\"edge1\" class=\"edge\">\n",
       "<title>0&#45;&gt;1</title>\n",
       "<path fill=\"none\" stroke=\"black\" d=\"M201.25,-301.71C201.25,-295.49 201.25,-285.4 201.25,-276.64\"/>\n",
       "<polygon fill=\"black\" stroke=\"black\" points=\"204.75,-276.85 201.25,-266.85 197.75,-276.85 204.75,-276.85\"/>\n",
       "</g>\n",
       "<!-- 2 -->\n",
       "<g id=\"node3\" class=\"node\">\n",
       "<title>2</title>\n",
       "<text text-anchor=\"middle\" x=\"96.25\" y=\"-201.95\" font-family=\"Times,serif\" font-size=\"14.00\">&lt;xml&#45;open&#45;tag&gt;</text>\n",
       "</g>\n",
       "<!-- 1&#45;&gt;2 -->\n",
       "<g id=\"edge2\" class=\"edge\">\n",
       "<title>1&#45;&gt;2</title>\n",
       "<path fill=\"none\" stroke=\"black\" d=\"M187.95,-251.26C170.83,-243.4 140.79,-229.59 119.77,-219.93\"/>\n",
       "<polygon fill=\"black\" stroke=\"black\" points=\"121.36,-216.81 110.82,-215.82 118.44,-223.17 121.36,-216.81\"/>\n",
       "</g>\n",
       "<!-- 7 -->\n",
       "<g id=\"node8\" class=\"node\">\n",
       "<title>7</title>\n",
       "<text text-anchor=\"middle\" x=\"201.25\" y=\"-201.95\" font-family=\"Times,serif\" font-size=\"14.00\">&lt;xml&#45;tree&gt;</text>\n",
       "</g>\n",
       "<!-- 1&#45;&gt;7 -->\n",
       "<g id=\"edge7\" class=\"edge\">\n",
       "<title>1&#45;&gt;7</title>\n",
       "<path fill=\"none\" stroke=\"black\" d=\"M201.25,-251.46C201.25,-245.24 201.25,-235.15 201.25,-226.39\"/>\n",
       "<polygon fill=\"black\" stroke=\"black\" points=\"204.75,-226.6 201.25,-216.6 197.75,-226.6 204.75,-226.6\"/>\n",
       "</g>\n",
       "<!-- 18 -->\n",
       "<g id=\"node19\" class=\"node\">\n",
       "<title>18</title>\n",
       "<text text-anchor=\"middle\" x=\"356.25\" y=\"-201.95\" font-family=\"Times,serif\" font-size=\"14.00\">&lt;xml&#45;close&#45;tag&gt;</text>\n",
       "</g>\n",
       "<!-- 1&#45;&gt;18 -->\n",
       "<g id=\"edge18\" class=\"edge\">\n",
       "<title>1&#45;&gt;18</title>\n",
       "<path fill=\"none\" stroke=\"black\" d=\"M220.88,-251.26C247.43,-243 295.05,-228.18 326.14,-218.5\"/>\n",
       "<polygon fill=\"black\" stroke=\"black\" points=\"326.83,-221.95 335.33,-215.64 324.75,-215.27 326.83,-221.95\"/>\n",
       "</g>\n",
       "<!-- 3 -->\n",
       "<g id=\"node4\" class=\"node\">\n",
       "<title>3</title>\n",
       "<text text-anchor=\"middle\" x=\"17.25\" y=\"-151.7\" font-family=\"Times,serif\" font-size=\"14.00\">&lt; (60)</text>\n",
       "</g>\n",
       "<!-- 2&#45;&gt;3 -->\n",
       "<g id=\"edge3\" class=\"edge\">\n",
       "<title>2&#45;&gt;3</title>\n",
       "<path fill=\"none\" stroke=\"black\" d=\"M86.24,-201.01C73.9,-193.47 52.62,-180.48 36.95,-170.91\"/>\n",
       "<polygon fill=\"black\" stroke=\"black\" points=\"38.82,-167.95 28.47,-165.73 35.18,-173.92 38.82,-167.95\"/>\n",
       "</g>\n",
       "<!-- 4 -->\n",
       "<g id=\"node5\" class=\"node\">\n",
       "<title>4</title>\n",
       "<text text-anchor=\"middle\" x=\"66.25\" y=\"-151.7\" font-family=\"Times,serif\" font-size=\"14.00\">&lt;id&gt;</text>\n",
       "</g>\n",
       "<!-- 2&#45;&gt;4 -->\n",
       "<g id=\"edge4\" class=\"edge\">\n",
       "<title>2&#45;&gt;4</title>\n",
       "<path fill=\"none\" stroke=\"black\" d=\"M92.57,-201.21C88.43,-194.55 81.55,-183.48 75.85,-174.32\"/>\n",
       "<polygon fill=\"black\" stroke=\"black\" points=\"79.01,-172.77 70.76,-166.13 73.07,-176.47 79.01,-172.77\"/>\n",
       "</g>\n",
       "<!-- 6 -->\n",
       "<g id=\"node7\" class=\"node\">\n",
       "<title>6</title>\n",
       "<text text-anchor=\"middle\" x=\"115.25\" y=\"-151.7\" font-family=\"Times,serif\" font-size=\"14.00\">&gt; (62)</text>\n",
       "</g>\n",
       "<!-- 2&#45;&gt;6 -->\n",
       "<g id=\"edge6\" class=\"edge\">\n",
       "<title>2&#45;&gt;6</title>\n",
       "<path fill=\"none\" stroke=\"black\" d=\"M98.58,-201.21C101.09,-194.84 105.19,-184.43 108.69,-175.53\"/>\n",
       "<polygon fill=\"black\" stroke=\"black\" points=\"111.94,-176.84 112.35,-166.25 105.43,-174.27 111.94,-176.84\"/>\n",
       "</g>\n",
       "<!-- 5 -->\n",
       "<g id=\"node6\" class=\"node\">\n",
       "<title>5</title>\n",
       "<text text-anchor=\"middle\" x=\"66.25\" y=\"-101.45\" font-family=\"Times,serif\" font-size=\"14.00\">html</text>\n",
       "</g>\n",
       "<!-- 4&#45;&gt;5 -->\n",
       "<g id=\"edge5\" class=\"edge\">\n",
       "<title>4&#45;&gt;5</title>\n",
       "<path fill=\"none\" stroke=\"black\" d=\"M66.25,-150.96C66.25,-144.74 66.25,-134.65 66.25,-125.89\"/>\n",
       "<polygon fill=\"black\" stroke=\"black\" points=\"69.75,-126.1 66.25,-116.1 62.75,-126.1 69.75,-126.1\"/>\n",
       "</g>\n",
       "<!-- 8 -->\n",
       "<g id=\"node9\" class=\"node\">\n",
       "<title>8</title>\n",
       "<text text-anchor=\"middle\" x=\"182.25\" y=\"-151.7\" font-family=\"Times,serif\" font-size=\"14.00\">&lt;xml&#45;tree&gt;</text>\n",
       "</g>\n",
       "<!-- 7&#45;&gt;8 -->\n",
       "<g id=\"edge8\" class=\"edge\">\n",
       "<title>7&#45;&gt;8</title>\n",
       "<path fill=\"none\" stroke=\"black\" d=\"M198.92,-201.21C196.41,-194.84 192.31,-184.43 188.81,-175.53\"/>\n",
       "<polygon fill=\"black\" stroke=\"black\" points=\"192.07,-174.27 185.15,-166.25 185.56,-176.84 192.07,-174.27\"/>\n",
       "</g>\n",
       "<!-- 11 -->\n",
       "<g id=\"node12\" class=\"node\">\n",
       "<title>11</title>\n",
       "<text text-anchor=\"middle\" x=\"263.25\" y=\"-151.7\" font-family=\"Times,serif\" font-size=\"14.00\">&lt;xml&#45;tree&gt;</text>\n",
       "</g>\n",
       "<!-- 7&#45;&gt;11 -->\n",
       "<g id=\"edge11\" class=\"edge\">\n",
       "<title>7&#45;&gt;11</title>\n",
       "<path fill=\"none\" stroke=\"black\" d=\"M209.1,-201.01C218.56,-193.65 234.71,-181.09 246.92,-171.59\"/>\n",
       "<polygon fill=\"black\" stroke=\"black\" points=\"248.72,-174.62 254.46,-165.71 244.42,-169.09 248.72,-174.62\"/>\n",
       "</g>\n",
       "<!-- 9 -->\n",
       "<g id=\"node10\" class=\"node\">\n",
       "<title>9</title>\n",
       "<text text-anchor=\"middle\" x=\"173.25\" y=\"-101.45\" font-family=\"Times,serif\" font-size=\"14.00\">&lt;text&gt;</text>\n",
       "</g>\n",
       "<!-- 8&#45;&gt;9 -->\n",
       "<g id=\"edge9\" class=\"edge\">\n",
       "<title>8&#45;&gt;9</title>\n",
       "<path fill=\"none\" stroke=\"black\" d=\"M181.15,-150.96C179.99,-144.74 178.1,-134.65 176.47,-125.89\"/>\n",
       "<polygon fill=\"black\" stroke=\"black\" points=\"179.91,-125.27 174.64,-116.08 173.03,-126.55 179.91,-125.27\"/>\n",
       "</g>\n",
       "<!-- 10 -->\n",
       "<g id=\"node11\" class=\"node\">\n",
       "<title>10</title>\n",
       "<text text-anchor=\"middle\" x=\"173.25\" y=\"-51.2\" font-family=\"Times,serif\" font-size=\"14.00\">Te</text>\n",
       "</g>\n",
       "<!-- 9&#45;&gt;10 -->\n",
       "<g id=\"edge10\" class=\"edge\">\n",
       "<title>9&#45;&gt;10</title>\n",
       "<path fill=\"none\" stroke=\"black\" d=\"M173.25,-100.71C173.25,-94.49 173.25,-84.4 173.25,-75.64\"/>\n",
       "<polygon fill=\"black\" stroke=\"black\" points=\"176.75,-75.85 173.25,-65.85 169.75,-75.85 176.75,-75.85\"/>\n",
       "</g>\n",
       "<!-- 12 -->\n",
       "<g id=\"node13\" class=\"node\">\n",
       "<title>12</title>\n",
       "<text text-anchor=\"middle\" x=\"241.25\" y=\"-101.45\" font-family=\"Times,serif\" font-size=\"14.00\">&lt;xml&#45;tree&gt;</text>\n",
       "</g>\n",
       "<!-- 11&#45;&gt;12 -->\n",
       "<g id=\"edge12\" class=\"edge\">\n",
       "<title>11&#45;&gt;12</title>\n",
       "<path fill=\"none\" stroke=\"black\" d=\"M260.55,-150.96C257.62,-144.52 252.79,-133.94 248.7,-124.97\"/>\n",
       "<polygon fill=\"black\" stroke=\"black\" points=\"251.93,-123.61 244.6,-115.97 245.56,-126.52 251.93,-123.61\"/>\n",
       "</g>\n",
       "<!-- 15 -->\n",
       "<g id=\"node16\" class=\"node\">\n",
       "<title>15</title>\n",
       "<text text-anchor=\"middle\" x=\"322.25\" y=\"-101.45\" font-family=\"Times,serif\" font-size=\"14.00\">&lt;xml&#45;tree&gt;</text>\n",
       "</g>\n",
       "<!-- 11&#45;&gt;15 -->\n",
       "<g id=\"edge15\" class=\"edge\">\n",
       "<title>11&#45;&gt;15</title>\n",
       "<path fill=\"none\" stroke=\"black\" d=\"M270.48,-150.96C279.33,-143.72 294.56,-131.27 306.22,-121.73\"/>\n",
       "<polygon fill=\"black\" stroke=\"black\" points=\"308.26,-124.59 313.78,-115.55 303.83,-119.17 308.26,-124.59\"/>\n",
       "</g>\n",
       "<!-- 13 -->\n",
       "<g id=\"node14\" class=\"node\">\n",
       "<title>13</title>\n",
       "<text text-anchor=\"middle\" x=\"241.25\" y=\"-51.2\" font-family=\"Times,serif\" font-size=\"14.00\">&lt;text&gt;</text>\n",
       "</g>\n",
       "<!-- 12&#45;&gt;13 -->\n",
       "<g id=\"edge13\" class=\"edge\">\n",
       "<title>12&#45;&gt;13</title>\n",
       "<path fill=\"none\" stroke=\"black\" d=\"M241.25,-100.71C241.25,-94.49 241.25,-84.4 241.25,-75.64\"/>\n",
       "<polygon fill=\"black\" stroke=\"black\" points=\"244.75,-75.85 241.25,-65.85 237.75,-75.85 244.75,-75.85\"/>\n",
       "</g>\n",
       "<!-- 14 -->\n",
       "<g id=\"node15\" class=\"node\">\n",
       "<title>14</title>\n",
       "<text text-anchor=\"middle\" x=\"241.25\" y=\"-0.95\" font-family=\"Times,serif\" font-size=\"14.00\">x (120)</text>\n",
       "</g>\n",
       "<!-- 13&#45;&gt;14 -->\n",
       "<g id=\"edge14\" class=\"edge\">\n",
       "<title>13&#45;&gt;14</title>\n",
       "<path fill=\"none\" stroke=\"black\" d=\"M241.25,-50.46C241.25,-44.24 241.25,-34.15 241.25,-25.39\"/>\n",
       "<polygon fill=\"black\" stroke=\"black\" points=\"244.75,-25.6 241.25,-15.6 237.75,-25.6 244.75,-25.6\"/>\n",
       "</g>\n",
       "<!-- 16 -->\n",
       "<g id=\"node17\" class=\"node\">\n",
       "<title>16</title>\n",
       "<text text-anchor=\"middle\" x=\"322.25\" y=\"-51.2\" font-family=\"Times,serif\" font-size=\"14.00\">&lt;text&gt;</text>\n",
       "</g>\n",
       "<!-- 15&#45;&gt;16 -->\n",
       "<g id=\"edge16\" class=\"edge\">\n",
       "<title>15&#45;&gt;16</title>\n",
       "<path fill=\"none\" stroke=\"black\" d=\"M322.25,-100.71C322.25,-94.49 322.25,-84.4 322.25,-75.64\"/>\n",
       "<polygon fill=\"black\" stroke=\"black\" points=\"325.75,-75.85 322.25,-65.85 318.75,-75.85 325.75,-75.85\"/>\n",
       "</g>\n",
       "<!-- 17 -->\n",
       "<g id=\"node18\" class=\"node\">\n",
       "<title>17</title>\n",
       "<text text-anchor=\"middle\" x=\"322.25\" y=\"-0.95\" font-family=\"Times,serif\" font-size=\"14.00\">t (116)</text>\n",
       "</g>\n",
       "<!-- 16&#45;&gt;17 -->\n",
       "<g id=\"edge17\" class=\"edge\">\n",
       "<title>16&#45;&gt;17</title>\n",
       "<path fill=\"none\" stroke=\"black\" d=\"M322.25,-50.46C322.25,-44.24 322.25,-34.15 322.25,-25.39\"/>\n",
       "<polygon fill=\"black\" stroke=\"black\" points=\"325.75,-25.6 322.25,-15.6 318.75,-25.6 325.75,-25.6\"/>\n",
       "</g>\n",
       "<!-- 19 -->\n",
       "<g id=\"node20\" class=\"node\">\n",
       "<title>19</title>\n",
       "<text text-anchor=\"middle\" x=\"337.25\" y=\"-151.7\" font-family=\"Times,serif\" font-size=\"14.00\">&lt;/</text>\n",
       "</g>\n",
       "<!-- 18&#45;&gt;19 -->\n",
       "<g id=\"edge19\" class=\"edge\">\n",
       "<title>18&#45;&gt;19</title>\n",
       "<path fill=\"none\" stroke=\"black\" d=\"M353.92,-201.21C351.41,-194.84 347.31,-184.43 343.81,-175.53\"/>\n",
       "<polygon fill=\"black\" stroke=\"black\" points=\"347.07,-174.27 340.15,-166.25 340.56,-176.84 347.07,-174.27\"/>\n",
       "</g>\n",
       "<!-- 20 -->\n",
       "<g id=\"node21\" class=\"node\">\n",
       "<title>20</title>\n",
       "<text text-anchor=\"middle\" x=\"375.25\" y=\"-151.7\" font-family=\"Times,serif\" font-size=\"14.00\">&lt;id&gt;</text>\n",
       "</g>\n",
       "<!-- 18&#45;&gt;20 -->\n",
       "<g id=\"edge20\" class=\"edge\">\n",
       "<title>18&#45;&gt;20</title>\n",
       "<path fill=\"none\" stroke=\"black\" d=\"M358.58,-201.21C361.09,-194.84 365.19,-184.43 368.69,-175.53\"/>\n",
       "<polygon fill=\"black\" stroke=\"black\" points=\"371.94,-176.84 372.35,-166.25 365.43,-174.27 371.94,-176.84\"/>\n",
       "</g>\n",
       "<!-- 22 -->\n",
       "<g id=\"node23\" class=\"node\">\n",
       "<title>22</title>\n",
       "<text text-anchor=\"middle\" x=\"424.25\" y=\"-151.7\" font-family=\"Times,serif\" font-size=\"14.00\">&gt; (62)</text>\n",
       "</g>\n",
       "<!-- 18&#45;&gt;22 -->\n",
       "<g id=\"edge22\" class=\"edge\">\n",
       "<title>18&#45;&gt;22</title>\n",
       "<path fill=\"none\" stroke=\"black\" d=\"M364.86,-201.01C375.34,-193.58 393.3,-180.84 406.73,-171.31\"/>\n",
       "<polygon fill=\"black\" stroke=\"black\" points=\"408.56,-174.3 414.69,-165.66 404.51,-168.59 408.56,-174.3\"/>\n",
       "</g>\n",
       "<!-- 21 -->\n",
       "<g id=\"node22\" class=\"node\">\n",
       "<title>21</title>\n",
       "<text text-anchor=\"middle\" x=\"384.25\" y=\"-101.45\" font-family=\"Times,serif\" font-size=\"14.00\">html</text>\n",
       "</g>\n",
       "<!-- 20&#45;&gt;21 -->\n",
       "<g id=\"edge21\" class=\"edge\">\n",
       "<title>20&#45;&gt;21</title>\n",
       "<path fill=\"none\" stroke=\"black\" d=\"M376.35,-150.96C377.51,-144.74 379.4,-134.65 381.03,-125.89\"/>\n",
       "<polygon fill=\"black\" stroke=\"black\" points=\"384.47,-126.55 382.86,-116.08 377.59,-125.27 384.47,-126.55\"/>\n",
       "</g>\n",
       "</g>\n",
       "</svg>\n"
      ],
      "text/plain": [
       "<graphviz.graphs.Digraph at 0x10a09b950>"
      ]
     },
     "metadata": {},
     "output_type": "display_data"
    },
    {
     "data": {
      "image/svg+xml": [
       "<?xml version=\"1.0\" encoding=\"UTF-8\" standalone=\"no\"?>\n",
       "<!DOCTYPE svg PUBLIC \"-//W3C//DTD SVG 1.1//EN\"\n",
       " \"http://www.w3.org/Graphics/SVG/1.1/DTD/svg11.dtd\">\n",
       "<!-- Generated by graphviz version 12.2.1 (20241206.2353)\n",
       " -->\n",
       "<!-- Pages: 1 -->\n",
       "<svg width=\"469pt\" height=\"324pt\"\n",
       " viewBox=\"0.00 0.00 468.50 323.75\" xmlns=\"http://www.w3.org/2000/svg\" xmlns:xlink=\"http://www.w3.org/1999/xlink\">\n",
       "<g id=\"graph0\" class=\"graph\" transform=\"scale(1 1) rotate(0) translate(4 319.75)\">\n",
       "<polygon fill=\"white\" stroke=\"none\" points=\"-4,4 -4,-319.75 464.5,-319.75 464.5,4 -4,4\"/>\n",
       "<!-- 0 -->\n",
       "<g id=\"node1\" class=\"node\">\n",
       "<title>0</title>\n",
       "<text text-anchor=\"middle\" x=\"211.25\" y=\"-302.45\" font-family=\"Times,serif\" font-size=\"14.00\">&lt;start&gt;</text>\n",
       "</g>\n",
       "<!-- 1 -->\n",
       "<g id=\"node2\" class=\"node\">\n",
       "<title>1</title>\n",
       "<text text-anchor=\"middle\" x=\"211.25\" y=\"-252.2\" font-family=\"Times,serif\" font-size=\"14.00\">&lt;xml&#45;tree&gt;</text>\n",
       "</g>\n",
       "<!-- 0&#45;&gt;1 -->\n",
       "<g id=\"edge1\" class=\"edge\">\n",
       "<title>0&#45;&gt;1</title>\n",
       "<path fill=\"none\" stroke=\"black\" d=\"M211.25,-301.71C211.25,-295.49 211.25,-285.4 211.25,-276.64\"/>\n",
       "<polygon fill=\"black\" stroke=\"black\" points=\"214.75,-276.85 211.25,-266.85 207.75,-276.85 214.75,-276.85\"/>\n",
       "</g>\n",
       "<!-- 2 -->\n",
       "<g id=\"node3\" class=\"node\">\n",
       "<title>2</title>\n",
       "<text text-anchor=\"middle\" x=\"99.25\" y=\"-201.95\" font-family=\"Times,serif\" font-size=\"14.00\">&lt;xml&#45;open&#45;tag&gt;</text>\n",
       "</g>\n",
       "<!-- 1&#45;&gt;2 -->\n",
       "<g id=\"edge2\" class=\"edge\">\n",
       "<title>1&#45;&gt;2</title>\n",
       "<path fill=\"none\" stroke=\"black\" d=\"M197.07,-251.26C178.64,-243.32 146.17,-229.34 123.72,-219.67\"/>\n",
       "<polygon fill=\"black\" stroke=\"black\" points=\"125.28,-216.53 114.71,-215.79 122.51,-222.96 125.28,-216.53\"/>\n",
       "</g>\n",
       "<!-- 7 -->\n",
       "<g id=\"node8\" class=\"node\">\n",
       "<title>7</title>\n",
       "<text text-anchor=\"middle\" x=\"211.25\" y=\"-201.95\" font-family=\"Times,serif\" font-size=\"14.00\">&lt;xml&#45;tree&gt;</text>\n",
       "</g>\n",
       "<!-- 1&#45;&gt;7 -->\n",
       "<g id=\"edge7\" class=\"edge\">\n",
       "<title>1&#45;&gt;7</title>\n",
       "<path fill=\"none\" stroke=\"black\" d=\"M211.25,-251.46C211.25,-245.24 211.25,-235.15 211.25,-226.39\"/>\n",
       "<polygon fill=\"black\" stroke=\"black\" points=\"214.75,-226.6 211.25,-216.6 207.75,-226.6 214.75,-226.6\"/>\n",
       "</g>\n",
       "<!-- 22 -->\n",
       "<g id=\"node23\" class=\"node\">\n",
       "<title>22</title>\n",
       "<text text-anchor=\"middle\" x=\"375.25\" y=\"-201.95\" font-family=\"Times,serif\" font-size=\"14.00\">&lt;xml&#45;close&#45;tag&gt;</text>\n",
       "</g>\n",
       "<!-- 1&#45;&gt;22 -->\n",
       "<g id=\"edge22\" class=\"edge\">\n",
       "<title>1&#45;&gt;22</title>\n",
       "<path fill=\"none\" stroke=\"black\" d=\"M232.02,-251.26C260.24,-242.96 310.94,-228.05 343.82,-218.37\"/>\n",
       "<polygon fill=\"black\" stroke=\"black\" points=\"344.59,-221.79 353.2,-215.61 342.61,-215.08 344.59,-221.79\"/>\n",
       "</g>\n",
       "<!-- 3 -->\n",
       "<g id=\"node4\" class=\"node\">\n",
       "<title>3</title>\n",
       "<text text-anchor=\"middle\" x=\"17.25\" y=\"-151.7\" font-family=\"Times,serif\" font-size=\"14.00\">&lt; (60)</text>\n",
       "</g>\n",
       "<!-- 2&#45;&gt;3 -->\n",
       "<g id=\"edge3\" class=\"edge\">\n",
       "<title>2&#45;&gt;3</title>\n",
       "<path fill=\"none\" stroke=\"black\" d=\"M88.86,-201.01C75.93,-193.4 53.54,-180.23 37.23,-170.63\"/>\n",
       "<polygon fill=\"black\" stroke=\"black\" points=\"39.25,-167.76 28.86,-165.7 35.7,-173.79 39.25,-167.76\"/>\n",
       "</g>\n",
       "<!-- 4 -->\n",
       "<g id=\"node5\" class=\"node\">\n",
       "<title>4</title>\n",
       "<text text-anchor=\"middle\" x=\"66.25\" y=\"-151.7\" font-family=\"Times,serif\" font-size=\"14.00\">&lt;id&gt;</text>\n",
       "</g>\n",
       "<!-- 2&#45;&gt;4 -->\n",
       "<g id=\"edge4\" class=\"edge\">\n",
       "<title>2&#45;&gt;4</title>\n",
       "<path fill=\"none\" stroke=\"black\" d=\"M95.2,-201.21C90.65,-194.55 83.08,-183.48 76.81,-174.32\"/>\n",
       "<polygon fill=\"black\" stroke=\"black\" points=\"79.72,-172.37 71.18,-166.09 73.94,-176.32 79.72,-172.37\"/>\n",
       "</g>\n",
       "<!-- 6 -->\n",
       "<g id=\"node7\" class=\"node\">\n",
       "<title>6</title>\n",
       "<text text-anchor=\"middle\" x=\"115.25\" y=\"-151.7\" font-family=\"Times,serif\" font-size=\"14.00\">&gt; (62)</text>\n",
       "</g>\n",
       "<!-- 2&#45;&gt;6 -->\n",
       "<g id=\"edge6\" class=\"edge\">\n",
       "<title>2&#45;&gt;6</title>\n",
       "<path fill=\"none\" stroke=\"black\" d=\"M101.21,-201.21C103.32,-194.84 106.78,-184.43 109.73,-175.53\"/>\n",
       "<polygon fill=\"black\" stroke=\"black\" points=\"112.97,-176.87 112.8,-166.28 106.33,-174.67 112.97,-176.87\"/>\n",
       "</g>\n",
       "<!-- 5 -->\n",
       "<g id=\"node6\" class=\"node\">\n",
       "<title>5</title>\n",
       "<text text-anchor=\"middle\" x=\"52.25\" y=\"-101.45\" font-family=\"Times,serif\" font-size=\"14.00\">html</text>\n",
       "</g>\n",
       "<!-- 4&#45;&gt;5 -->\n",
       "<g id=\"edge5\" class=\"edge\">\n",
       "<title>4&#45;&gt;5</title>\n",
       "<path fill=\"none\" stroke=\"black\" d=\"M64.53,-150.96C62.71,-144.66 59.73,-134.42 57.17,-125.58\"/>\n",
       "<polygon fill=\"black\" stroke=\"black\" points=\"60.55,-124.67 54.4,-116.04 53.83,-126.62 60.55,-124.67\"/>\n",
       "</g>\n",
       "<!-- 8 -->\n",
       "<g id=\"node9\" class=\"node\">\n",
       "<title>8</title>\n",
       "<text text-anchor=\"middle\" x=\"195.25\" y=\"-151.7\" font-family=\"Times,serif\" font-size=\"14.00\">&lt;xml&#45;tree&gt;</text>\n",
       "</g>\n",
       "<!-- 7&#45;&gt;8 -->\n",
       "<g id=\"edge8\" class=\"edge\">\n",
       "<title>7&#45;&gt;8</title>\n",
       "<path fill=\"none\" stroke=\"black\" d=\"M209.29,-201.21C207.18,-194.84 203.72,-184.43 200.77,-175.53\"/>\n",
       "<polygon fill=\"black\" stroke=\"black\" points=\"204.17,-174.67 197.7,-166.28 197.53,-176.87 204.17,-174.67\"/>\n",
       "</g>\n",
       "<!-- 15 -->\n",
       "<g id=\"node16\" class=\"node\">\n",
       "<title>15</title>\n",
       "<text text-anchor=\"middle\" x=\"276.25\" y=\"-151.7\" font-family=\"Times,serif\" font-size=\"14.00\">&lt;xml&#45;tree&gt;</text>\n",
       "</g>\n",
       "<!-- 7&#45;&gt;15 -->\n",
       "<g id=\"edge15\" class=\"edge\">\n",
       "<title>7&#45;&gt;15</title>\n",
       "<path fill=\"none\" stroke=\"black\" d=\"M219.48,-201.01C229.4,-193.65 246.33,-181.09 259.12,-171.59\"/>\n",
       "<polygon fill=\"black\" stroke=\"black\" points=\"261.13,-174.46 267.07,-165.69 256.96,-168.84 261.13,-174.46\"/>\n",
       "</g>\n",
       "<!-- 9 -->\n",
       "<g id=\"node10\" class=\"node\">\n",
       "<title>9</title>\n",
       "<text text-anchor=\"middle\" x=\"114.25\" y=\"-101.45\" font-family=\"Times,serif\" font-size=\"14.00\">&lt;xml&#45;tree&gt;</text>\n",
       "</g>\n",
       "<!-- 8&#45;&gt;9 -->\n",
       "<g id=\"edge9\" class=\"edge\">\n",
       "<title>8&#45;&gt;9</title>\n",
       "<path fill=\"none\" stroke=\"black\" d=\"M184.99,-150.76C172.21,-143.15 150.09,-129.98 133.98,-120.38\"/>\n",
       "<polygon fill=\"black\" stroke=\"black\" points=\"136.11,-117.57 125.73,-115.46 132.53,-123.59 136.11,-117.57\"/>\n",
       "</g>\n",
       "<!-- 12 -->\n",
       "<g id=\"node13\" class=\"node\">\n",
       "<title>12</title>\n",
       "<text text-anchor=\"middle\" x=\"195.25\" y=\"-101.45\" font-family=\"Times,serif\" font-size=\"14.00\">&lt;xml&#45;tree&gt;</text>\n",
       "</g>\n",
       "<!-- 8&#45;&gt;12 -->\n",
       "<g id=\"edge12\" class=\"edge\">\n",
       "<title>8&#45;&gt;12</title>\n",
       "<path fill=\"none\" stroke=\"black\" d=\"M195.25,-150.96C195.25,-144.74 195.25,-134.65 195.25,-125.89\"/>\n",
       "<polygon fill=\"black\" stroke=\"black\" points=\"198.75,-126.1 195.25,-116.1 191.75,-126.1 198.75,-126.1\"/>\n",
       "</g>\n",
       "<!-- 10 -->\n",
       "<g id=\"node11\" class=\"node\">\n",
       "<title>10</title>\n",
       "<text text-anchor=\"middle\" x=\"114.25\" y=\"-51.2\" font-family=\"Times,serif\" font-size=\"14.00\">&lt;text&gt;</text>\n",
       "</g>\n",
       "<!-- 9&#45;&gt;10 -->\n",
       "<g id=\"edge10\" class=\"edge\">\n",
       "<title>9&#45;&gt;10</title>\n",
       "<path fill=\"none\" stroke=\"black\" d=\"M114.25,-100.71C114.25,-94.49 114.25,-84.4 114.25,-75.64\"/>\n",
       "<polygon fill=\"black\" stroke=\"black\" points=\"117.75,-75.85 114.25,-65.85 110.75,-75.85 117.75,-75.85\"/>\n",
       "</g>\n",
       "<!-- 11 -->\n",
       "<g id=\"node12\" class=\"node\">\n",
       "<title>11</title>\n",
       "<text text-anchor=\"middle\" x=\"114.25\" y=\"-0.95\" font-family=\"Times,serif\" font-size=\"14.00\">T (84)</text>\n",
       "</g>\n",
       "<!-- 10&#45;&gt;11 -->\n",
       "<g id=\"edge11\" class=\"edge\">\n",
       "<title>10&#45;&gt;11</title>\n",
       "<path fill=\"none\" stroke=\"black\" d=\"M114.25,-50.46C114.25,-44.24 114.25,-34.15 114.25,-25.39\"/>\n",
       "<polygon fill=\"black\" stroke=\"black\" points=\"117.75,-25.6 114.25,-15.6 110.75,-25.6 117.75,-25.6\"/>\n",
       "</g>\n",
       "<!-- 13 -->\n",
       "<g id=\"node14\" class=\"node\">\n",
       "<title>13</title>\n",
       "<text text-anchor=\"middle\" x=\"195.25\" y=\"-51.2\" font-family=\"Times,serif\" font-size=\"14.00\">&lt;text&gt;</text>\n",
       "</g>\n",
       "<!-- 12&#45;&gt;13 -->\n",
       "<g id=\"edge13\" class=\"edge\">\n",
       "<title>12&#45;&gt;13</title>\n",
       "<path fill=\"none\" stroke=\"black\" d=\"M195.25,-100.71C195.25,-94.49 195.25,-84.4 195.25,-75.64\"/>\n",
       "<polygon fill=\"black\" stroke=\"black\" points=\"198.75,-75.85 195.25,-65.85 191.75,-75.85 198.75,-75.85\"/>\n",
       "</g>\n",
       "<!-- 14 -->\n",
       "<g id=\"node15\" class=\"node\">\n",
       "<title>14</title>\n",
       "<text text-anchor=\"middle\" x=\"195.25\" y=\"-0.95\" font-family=\"Times,serif\" font-size=\"14.00\">e (101)</text>\n",
       "</g>\n",
       "<!-- 13&#45;&gt;14 -->\n",
       "<g id=\"edge14\" class=\"edge\">\n",
       "<title>13&#45;&gt;14</title>\n",
       "<path fill=\"none\" stroke=\"black\" d=\"M195.25,-50.46C195.25,-44.24 195.25,-34.15 195.25,-25.39\"/>\n",
       "<polygon fill=\"black\" stroke=\"black\" points=\"198.75,-25.6 195.25,-15.6 191.75,-25.6 198.75,-25.6\"/>\n",
       "</g>\n",
       "<!-- 16 -->\n",
       "<g id=\"node17\" class=\"node\">\n",
       "<title>16</title>\n",
       "<text text-anchor=\"middle\" x=\"276.25\" y=\"-101.45\" font-family=\"Times,serif\" font-size=\"14.00\">&lt;xml&#45;tree&gt;</text>\n",
       "</g>\n",
       "<!-- 15&#45;&gt;16 -->\n",
       "<g id=\"edge16\" class=\"edge\">\n",
       "<title>15&#45;&gt;16</title>\n",
       "<path fill=\"none\" stroke=\"black\" d=\"M276.25,-150.96C276.25,-144.74 276.25,-134.65 276.25,-125.89\"/>\n",
       "<polygon fill=\"black\" stroke=\"black\" points=\"279.75,-126.1 276.25,-116.1 272.75,-126.1 279.75,-126.1\"/>\n",
       "</g>\n",
       "<!-- 19 -->\n",
       "<g id=\"node20\" class=\"node\">\n",
       "<title>19</title>\n",
       "<text text-anchor=\"middle\" x=\"357.25\" y=\"-101.45\" font-family=\"Times,serif\" font-size=\"14.00\">&lt;xml&#45;tree&gt;</text>\n",
       "</g>\n",
       "<!-- 15&#45;&gt;19 -->\n",
       "<g id=\"edge19\" class=\"edge\">\n",
       "<title>15&#45;&gt;19</title>\n",
       "<path fill=\"none\" stroke=\"black\" d=\"M286.51,-150.76C299.29,-143.15 321.41,-129.98 337.52,-120.38\"/>\n",
       "<polygon fill=\"black\" stroke=\"black\" points=\"338.97,-123.59 345.77,-115.46 335.39,-117.57 338.97,-123.59\"/>\n",
       "</g>\n",
       "<!-- 17 -->\n",
       "<g id=\"node18\" class=\"node\">\n",
       "<title>17</title>\n",
       "<text text-anchor=\"middle\" x=\"276.25\" y=\"-51.2\" font-family=\"Times,serif\" font-size=\"14.00\">&lt;text&gt;</text>\n",
       "</g>\n",
       "<!-- 16&#45;&gt;17 -->\n",
       "<g id=\"edge17\" class=\"edge\">\n",
       "<title>16&#45;&gt;17</title>\n",
       "<path fill=\"none\" stroke=\"black\" d=\"M276.25,-100.71C276.25,-94.49 276.25,-84.4 276.25,-75.64\"/>\n",
       "<polygon fill=\"black\" stroke=\"black\" points=\"279.75,-75.85 276.25,-65.85 272.75,-75.85 279.75,-75.85\"/>\n",
       "</g>\n",
       "<!-- 18 -->\n",
       "<g id=\"node19\" class=\"node\">\n",
       "<title>18</title>\n",
       "<text text-anchor=\"middle\" x=\"276.25\" y=\"-0.95\" font-family=\"Times,serif\" font-size=\"14.00\">x (120)</text>\n",
       "</g>\n",
       "<!-- 17&#45;&gt;18 -->\n",
       "<g id=\"edge18\" class=\"edge\">\n",
       "<title>17&#45;&gt;18</title>\n",
       "<path fill=\"none\" stroke=\"black\" d=\"M276.25,-50.46C276.25,-44.24 276.25,-34.15 276.25,-25.39\"/>\n",
       "<polygon fill=\"black\" stroke=\"black\" points=\"279.75,-25.6 276.25,-15.6 272.75,-25.6 279.75,-25.6\"/>\n",
       "</g>\n",
       "<!-- 20 -->\n",
       "<g id=\"node21\" class=\"node\">\n",
       "<title>20</title>\n",
       "<text text-anchor=\"middle\" x=\"357.25\" y=\"-51.2\" font-family=\"Times,serif\" font-size=\"14.00\">&lt;text&gt;</text>\n",
       "</g>\n",
       "<!-- 19&#45;&gt;20 -->\n",
       "<g id=\"edge20\" class=\"edge\">\n",
       "<title>19&#45;&gt;20</title>\n",
       "<path fill=\"none\" stroke=\"black\" d=\"M357.25,-100.71C357.25,-94.49 357.25,-84.4 357.25,-75.64\"/>\n",
       "<polygon fill=\"black\" stroke=\"black\" points=\"360.75,-75.85 357.25,-65.85 353.75,-75.85 360.75,-75.85\"/>\n",
       "</g>\n",
       "<!-- 21 -->\n",
       "<g id=\"node22\" class=\"node\">\n",
       "<title>21</title>\n",
       "<text text-anchor=\"middle\" x=\"357.25\" y=\"-0.95\" font-family=\"Times,serif\" font-size=\"14.00\">t (116)</text>\n",
       "</g>\n",
       "<!-- 20&#45;&gt;21 -->\n",
       "<g id=\"edge21\" class=\"edge\">\n",
       "<title>20&#45;&gt;21</title>\n",
       "<path fill=\"none\" stroke=\"black\" d=\"M357.25,-50.46C357.25,-44.24 357.25,-34.15 357.25,-25.39\"/>\n",
       "<polygon fill=\"black\" stroke=\"black\" points=\"360.75,-25.6 357.25,-15.6 353.75,-25.6 360.75,-25.6\"/>\n",
       "</g>\n",
       "<!-- 23 -->\n",
       "<g id=\"node24\" class=\"node\">\n",
       "<title>23</title>\n",
       "<text text-anchor=\"middle\" x=\"356.25\" y=\"-151.7\" font-family=\"Times,serif\" font-size=\"14.00\">&lt;/</text>\n",
       "</g>\n",
       "<!-- 22&#45;&gt;23 -->\n",
       "<g id=\"edge23\" class=\"edge\">\n",
       "<title>22&#45;&gt;23</title>\n",
       "<path fill=\"none\" stroke=\"black\" d=\"M372.92,-201.21C370.41,-194.84 366.31,-184.43 362.81,-175.53\"/>\n",
       "<polygon fill=\"black\" stroke=\"black\" points=\"366.07,-174.27 359.15,-166.25 359.56,-176.84 366.07,-174.27\"/>\n",
       "</g>\n",
       "<!-- 24 -->\n",
       "<g id=\"node25\" class=\"node\">\n",
       "<title>24</title>\n",
       "<text text-anchor=\"middle\" x=\"394.25\" y=\"-151.7\" font-family=\"Times,serif\" font-size=\"14.00\">&lt;id&gt;</text>\n",
       "</g>\n",
       "<!-- 22&#45;&gt;24 -->\n",
       "<g id=\"edge24\" class=\"edge\">\n",
       "<title>22&#45;&gt;24</title>\n",
       "<path fill=\"none\" stroke=\"black\" d=\"M377.58,-201.21C380.09,-194.84 384.19,-184.43 387.69,-175.53\"/>\n",
       "<polygon fill=\"black\" stroke=\"black\" points=\"390.94,-176.84 391.35,-166.25 384.43,-174.27 390.94,-176.84\"/>\n",
       "</g>\n",
       "<!-- 26 -->\n",
       "<g id=\"node27\" class=\"node\">\n",
       "<title>26</title>\n",
       "<text text-anchor=\"middle\" x=\"443.25\" y=\"-151.7\" font-family=\"Times,serif\" font-size=\"14.00\">&gt; (62)</text>\n",
       "</g>\n",
       "<!-- 22&#45;&gt;26 -->\n",
       "<g id=\"edge26\" class=\"edge\">\n",
       "<title>22&#45;&gt;26</title>\n",
       "<path fill=\"none\" stroke=\"black\" d=\"M383.86,-201.01C394.34,-193.58 412.3,-180.84 425.73,-171.31\"/>\n",
       "<polygon fill=\"black\" stroke=\"black\" points=\"427.56,-174.3 433.69,-165.66 423.51,-168.59 427.56,-174.3\"/>\n",
       "</g>\n",
       "<!-- 25 -->\n",
       "<g id=\"node26\" class=\"node\">\n",
       "<title>25</title>\n",
       "<text text-anchor=\"middle\" x=\"419.25\" y=\"-101.45\" font-family=\"Times,serif\" font-size=\"14.00\">html</text>\n",
       "</g>\n",
       "<!-- 24&#45;&gt;25 -->\n",
       "<g id=\"edge25\" class=\"edge\">\n",
       "<title>24&#45;&gt;25</title>\n",
       "<path fill=\"none\" stroke=\"black\" d=\"M397.32,-150.96C400.69,-144.45 406.26,-133.71 410.94,-124.67\"/>\n",
       "<polygon fill=\"black\" stroke=\"black\" points=\"413.97,-126.42 415.46,-115.93 407.75,-123.2 413.97,-126.42\"/>\n",
       "</g>\n",
       "</g>\n",
       "</svg>\n"
      ],
      "text/plain": [
       "<graphviz.graphs.Digraph at 0x10a09bad0>"
      ]
     },
     "metadata": {},
     "output_type": "display_data"
    }
   ],
   "source": [
    "parser = EarleyParser(XML_GRAMMAR, tokens=XML_TOKENS)\n",
    "\n",
    "for tree in parser.parse(\"<html>Text</html>\"):\n",
    "    display(display_tree(tree))"
   ]
  },
  {
   "cell_type": "markdown",
   "metadata": {
    "slideshow": {
     "slide_type": "subslide"
    }
   },
   "source": [
    "As we can see, the input starts with an opening tag, contains some text, and ends with a closing tag. Excellent. This is a structure that we can work with."
   ]
  },
  {
   "cell_type": "markdown",
   "metadata": {
    "slideshow": {
     "slide_type": "subslide"
    }
   },
   "source": [
    "### Building the Fragment Pool\n",
    "We are now ready to implement our first input-structure-aware mutator. Let's initialize the mutator with the dictionary `fragments` representing the empty fragment pool. It contains a key for each symbol in the grammar (and the empty set as value)."
   ]
  },
  {
   "cell_type": "code",
   "execution_count": 29,
   "metadata": {
    "execution": {
     "iopub.execute_input": "2025-01-16T09:52:23.973193Z",
     "iopub.status.busy": "2025-01-16T09:52:23.973011Z",
     "iopub.status.idle": "2025-01-16T09:52:23.975970Z",
     "shell.execute_reply": "2025-01-16T09:52:23.975653Z"
    },
    "slideshow": {
     "slide_type": "fragment"
    }
   },
   "outputs": [],
   "source": [
    "class FragmentMutator(Mutator):\n",
    "    \"\"\"Mutate inputs with input fragments from a pool\"\"\"\n",
    "\n",
    "    def __init__(self, parser: EarleyParser) -> None:\n",
    "        \"\"\"Initialize empty fragment pool and add parser\"\"\"\n",
    "        self.parser = parser\n",
    "        self.fragments: Dict[str, List[DerivationTree]] = \\\n",
    "            {k: [] for k in self.parser.cgrammar}\n",
    "        super().__init__()"
   ]
  },
  {
   "cell_type": "markdown",
   "metadata": {
    "slideshow": {
     "slide_type": "subslide"
    }
   },
   "source": [
    "The `FragmentMutator` adds fragments recursively. A *fragment* is a subtree in the parse tree and consists of the symbol of the current node and child nodes (i.e., descendant fragments). We can exclude fragments starting with symbols that are tokens, terminals, or not part of the grammar."
   ]
  },
  {
   "cell_type": "code",
   "execution_count": 30,
   "metadata": {
    "execution": {
     "iopub.execute_input": "2025-01-16T09:52:23.977839Z",
     "iopub.status.busy": "2025-01-16T09:52:23.977711Z",
     "iopub.status.idle": "2025-01-16T09:52:23.979561Z",
     "shell.execute_reply": "2025-01-16T09:52:23.979308Z"
    },
    "slideshow": {
     "slide_type": "skip"
    }
   },
   "outputs": [],
   "source": [
    "from Parser import terminals"
   ]
  },
  {
   "cell_type": "code",
   "execution_count": 31,
   "metadata": {
    "execution": {
     "iopub.execute_input": "2025-01-16T09:52:23.981198Z",
     "iopub.status.busy": "2025-01-16T09:52:23.981083Z",
     "iopub.status.idle": "2025-01-16T09:52:23.983805Z",
     "shell.execute_reply": "2025-01-16T09:52:23.983510Z"
    },
    "slideshow": {
     "slide_type": "subslide"
    }
   },
   "outputs": [],
   "source": [
    "class FragmentMutator(FragmentMutator):\n",
    "    def add_fragment(self, fragment: DerivationTree) -> None:\n",
    "        \"\"\"Recursively adds fragments to the fragment pool\"\"\"\n",
    "        (symbol, children) = fragment\n",
    "        if not self.is_excluded(symbol):\n",
    "            self.fragments[symbol].append(fragment)\n",
    "            assert children is not None\n",
    "            for subfragment in children:\n",
    "                self.add_fragment(subfragment)\n",
    "\n",
    "    def is_excluded(self, symbol: str) -> bool:\n",
    "        \"\"\"Returns true if a fragment starting with a specific\n",
    "           symbol and all its decendents can be excluded\"\"\"\n",
    "        return (symbol not in self.parser.grammar() or\n",
    "                symbol in self.parser.tokens or\n",
    "                symbol in terminals(self.parser.grammar()))"
   ]
  },
  {
   "cell_type": "markdown",
   "metadata": {
    "slideshow": {
     "slide_type": "subslide"
    }
   },
   "source": [
    "Parsing can take a long time, particularly if there is too much ambiguity during the parsing. In order to maintain the efficiency of mutational fuzzing, we will limit the parsing time to 200ms."
   ]
  },
  {
   "cell_type": "code",
   "execution_count": 32,
   "metadata": {
    "execution": {
     "iopub.execute_input": "2025-01-16T09:52:23.985485Z",
     "iopub.status.busy": "2025-01-16T09:52:23.985384Z",
     "iopub.status.idle": "2025-01-16T09:52:23.987101Z",
     "shell.execute_reply": "2025-01-16T09:52:23.986835Z"
    },
    "slideshow": {
     "slide_type": "skip"
    }
   },
   "outputs": [],
   "source": [
    "from Timeout import Timeout"
   ]
  },
  {
   "cell_type": "markdown",
   "metadata": {
    "slideshow": {
     "slide_type": "fragment"
    }
   },
   "source": [
    "The function `add_to_fragment_pool()` parses a seed (no longer than 200ms) and adds all its fragments to the fragment pool. If the parsing of the `seed` was successful, the attribute `seed.has_structure` is set to `True`. Otherwise, it is set to `False`."
   ]
  },
  {
   "cell_type": "code",
   "execution_count": 33,
   "metadata": {
    "execution": {
     "iopub.execute_input": "2025-01-16T09:52:23.988852Z",
     "iopub.status.busy": "2025-01-16T09:52:23.988725Z",
     "iopub.status.idle": "2025-01-16T09:52:23.990889Z",
     "shell.execute_reply": "2025-01-16T09:52:23.990621Z"
    },
    "slideshow": {
     "slide_type": "fragment"
    }
   },
   "outputs": [],
   "source": [
    "class SeedWithStructure(Seed):\n",
    "    \"\"\"Seeds augmented with structure info\"\"\"\n",
    "\n",
    "    def __init__(self, data: str) -> None:\n",
    "        super().__init__(data)\n",
    "        self.has_structure = False\n",
    "        self.structure: DerivationTree = (\"<empty>\", [])"
   ]
  },
  {
   "cell_type": "code",
   "execution_count": 34,
   "metadata": {
    "execution": {
     "iopub.execute_input": "2025-01-16T09:52:23.992561Z",
     "iopub.status.busy": "2025-01-16T09:52:23.992448Z",
     "iopub.status.idle": "2025-01-16T09:52:23.994665Z",
     "shell.execute_reply": "2025-01-16T09:52:23.994391Z"
    },
    "slideshow": {
     "slide_type": "subslide"
    }
   },
   "outputs": [],
   "source": [
    "class FragmentMutator(FragmentMutator):\n",
    "    def add_to_fragment_pool(self, seed: SeedWithStructure) -> None:\n",
    "        \"\"\"Adds all fragments of a seed to the fragment pool\"\"\"\n",
    "        try:  # only allow quick parsing of 200ms max\n",
    "            with Timeout(0.2):\n",
    "                seed.structure = next(self.parser.parse(seed.data))\n",
    "                self.add_fragment(seed.structure)\n",
    "            seed.has_structure = True\n",
    "        except (SyntaxError, TimeoutError):\n",
    "            seed.has_structure = False"
   ]
  },
  {
   "cell_type": "markdown",
   "metadata": {
    "slideshow": {
     "slide_type": "fragment"
    }
   },
   "source": [
    "Let's see how `FragmentMutator` fills the fragment pool for a simple HTML seed input. We initialize mutator with the `EarleyParser` which itself is initialized with our `XML_GRAMMAR`."
   ]
  },
  {
   "cell_type": "code",
   "execution_count": 35,
   "metadata": {
    "execution": {
     "iopub.execute_input": "2025-01-16T09:52:23.996326Z",
     "iopub.status.busy": "2025-01-16T09:52:23.996217Z",
     "iopub.status.idle": "2025-01-16T09:52:23.997963Z",
     "shell.execute_reply": "2025-01-16T09:52:23.997681Z"
    },
    "slideshow": {
     "slide_type": "skip"
    }
   },
   "outputs": [],
   "source": [
    "from GrammarFuzzer import tree_to_string"
   ]
  },
  {
   "cell_type": "code",
   "execution_count": 36,
   "metadata": {
    "execution": {
     "iopub.execute_input": "2025-01-16T09:52:23.999617Z",
     "iopub.status.busy": "2025-01-16T09:52:23.999499Z",
     "iopub.status.idle": "2025-01-16T09:52:24.078711Z",
     "shell.execute_reply": "2025-01-16T09:52:24.078433Z"
    },
    "slideshow": {
     "slide_type": "subslide"
    }
   },
   "outputs": [
    {
     "name": "stdout",
     "output_type": "stream",
     "text": [
      "<start>\n",
      "|-<html><head><title>Hello</title></head><body>World<br/></body></html>\n",
      "<xml-tree>\n",
      "|-<html><head><title>Hello</title></head><body>World<br/></body></html>\n",
      "|-<head><title>Hello</title></head><body>World<br/></body>\n",
      "|-<head><title>Hello</title></head>\n",
      "|-<title>Hello</title>\n",
      "|-Hello\n",
      "|-<body>World<br/></body>\n",
      "|-World<br/>\n",
      "|-World\n",
      "|-<br/>\n",
      "<xml-open-tag>\n",
      "|-<html>\n",
      "|-<head>\n",
      "|-<title>\n",
      "|-<body>\n",
      "<xml-openclose-tag>\n",
      "|-<br/>\n",
      "<xml-close-tag>\n",
      "|-</title>\n",
      "|-</head>\n",
      "|-</body>\n",
      "|-</html>\n",
      "<xml-attribute>\n",
      "<id>\n",
      "<text>\n",
      "<letter>\n",
      "<letter_space>\n"
     ]
    }
   ],
   "source": [
    "valid_seed = SeedWithStructure(\n",
    "    \"<html><head><title>Hello</title></head><body>World<br/></body></html>\")\n",
    "fragment_mutator = FragmentMutator(EarleyParser(XML_GRAMMAR, tokens=XML_TOKENS))\n",
    "fragment_mutator.add_to_fragment_pool(valid_seed)\n",
    "\n",
    "for key in fragment_mutator.fragments:\n",
    "    print(key)\n",
    "    for f in fragment_mutator.fragments[key]:\n",
    "        print(\"|-%s\" % tree_to_string(f))"
   ]
  },
  {
   "cell_type": "markdown",
   "metadata": {
    "slideshow": {
     "slide_type": "subslide"
    }
   },
   "source": [
    "For many symbols in the grammar, we have collected a number of fragments. There are several open and closing tags and several interesting fragments starting with the `xml-tree` symbol.\n",
    "\n",
    "***Summary***. For each interesting symbol in the grammar, the `FragmentMutator` has a set of fragments. These fragments are extracted by first parsing the inputs to be mutated."
   ]
  },
  {
   "cell_type": "markdown",
   "metadata": {
    "slideshow": {
     "slide_type": "subslide"
    }
   },
   "source": [
    "### Fragment-Based Mutation\n",
    "\n",
    "We can use the fragments in the fragment pool to generate new inputs. Every seed that is being mutated is disassembled into fragments, and memoized – i.e., disassembled only the first time around."
   ]
  },
  {
   "cell_type": "code",
   "execution_count": 37,
   "metadata": {
    "execution": {
     "iopub.execute_input": "2025-01-16T09:52:24.080604Z",
     "iopub.status.busy": "2025-01-16T09:52:24.080482Z",
     "iopub.status.idle": "2025-01-16T09:52:24.082809Z",
     "shell.execute_reply": "2025-01-16T09:52:24.082446Z"
    },
    "slideshow": {
     "slide_type": "subslide"
    }
   },
   "outputs": [],
   "source": [
    "class FragmentMutator(FragmentMutator):\n",
    "    def __init__(self, parser: EarleyParser) -> None:\n",
    "        \"\"\"Initialize mutators\"\"\"\n",
    "        super().__init__(parser)\n",
    "        self.seen_seeds: List[SeedWithStructure] = []\n",
    "\n",
    "    def mutate(self, seed: SeedWithStructure) -> SeedWithStructure:\n",
    "        \"\"\"Implement structure-aware mutation. Memoize seeds.\"\"\"\n",
    "        if seed not in self.seen_seeds:\n",
    "            self.seen_seeds.append(seed)\n",
    "            self.add_to_fragment_pool(seed)\n",
    "\n",
    "        return super().mutate(seed)"
   ]
  },
  {
   "cell_type": "markdown",
   "metadata": {
    "slideshow": {
     "slide_type": "subslide"
    }
   },
   "source": [
    "Our first structural mutation operator is `swap_fragments()`, which choses a random fragment in the given seed and substitutes it with a random fragment from the pool. We make sure that both fragments start with the same symbol. For instance, we may swap a closing tag in the seed HTML by another closing tag from the fragment pool.\n",
    "\n",
    "In order to choose a random fragment, the mutator counts all fragments (`n_count`) below the root fragment associated with the start-symbol."
   ]
  },
  {
   "cell_type": "code",
   "execution_count": 38,
   "metadata": {
    "execution": {
     "iopub.execute_input": "2025-01-16T09:52:24.084539Z",
     "iopub.status.busy": "2025-01-16T09:52:24.084421Z",
     "iopub.status.idle": "2025-01-16T09:52:24.086529Z",
     "shell.execute_reply": "2025-01-16T09:52:24.086262Z"
    },
    "slideshow": {
     "slide_type": "subslide"
    }
   },
   "outputs": [],
   "source": [
    "class FragmentMutator(FragmentMutator):\n",
    "    def count_nodes(self, fragment: DerivationTree) -> int:\n",
    "        \"\"\"Returns the number of nodes in the fragment\"\"\"\n",
    "        symbol, children = fragment\n",
    "        if self.is_excluded(symbol):\n",
    "            return 0\n",
    "\n",
    "        assert children is not None\n",
    "        return 1 + sum(map(self.count_nodes, children))"
   ]
  },
  {
   "cell_type": "markdown",
   "metadata": {
    "slideshow": {
     "slide_type": "fragment"
    }
   },
   "source": [
    "In order to swap the chosen fragment – identified using the \"global\" variable `self.to_swap` – the seed's parse tree is traversed recursively."
   ]
  },
  {
   "cell_type": "code",
   "execution_count": 39,
   "metadata": {
    "execution": {
     "iopub.execute_input": "2025-01-16T09:52:24.088190Z",
     "iopub.status.busy": "2025-01-16T09:52:24.088075Z",
     "iopub.status.idle": "2025-01-16T09:52:24.090419Z",
     "shell.execute_reply": "2025-01-16T09:52:24.090142Z"
    },
    "slideshow": {
     "slide_type": "subslide"
    }
   },
   "outputs": [],
   "source": [
    "class FragmentMutator(FragmentMutator):\n",
    "    def recursive_swap(self, fragment: DerivationTree) -> DerivationTree:\n",
    "        \"\"\"Recursively finds the fragment to swap.\"\"\"\n",
    "        symbol, children = fragment\n",
    "        if self.is_excluded(symbol):\n",
    "            return symbol, children\n",
    "\n",
    "        self.to_swap -= 1\n",
    "        if self.to_swap == 0: \n",
    "            return random.choice(list(self.fragments[symbol]))\n",
    "\n",
    "        assert children is not None\n",
    "        return symbol, list(map(self.recursive_swap, children))"
   ]
  },
  {
   "cell_type": "markdown",
   "metadata": {
    "slideshow": {
     "slide_type": "subslide"
    }
   },
   "source": [
    "Our structural mutator chooses a random number between 2 (i.e., excluding the `start` symbol) and the total number of fragments (`n_count`) and uses the recursive swapping to generate the new fragment. The new fragment is serialized as string and returned as new seed."
   ]
  },
  {
   "cell_type": "code",
   "execution_count": 40,
   "metadata": {
    "execution": {
     "iopub.execute_input": "2025-01-16T09:52:24.092115Z",
     "iopub.status.busy": "2025-01-16T09:52:24.092012Z",
     "iopub.status.idle": "2025-01-16T09:52:24.094536Z",
     "shell.execute_reply": "2025-01-16T09:52:24.094257Z"
    },
    "slideshow": {
     "slide_type": "subslide"
    }
   },
   "outputs": [],
   "source": [
    "class FragmentMutator(FragmentMutator):\n",
    "    def __init__(self, parser: EarleyParser) -> None:  # type: ignore\n",
    "        super().__init__(parser)\n",
    "        self.mutators = [self.swap_fragment]  # type: ignore\n",
    "\n",
    "    def swap_fragment(self, seed: SeedWithStructure) -> SeedWithStructure:\n",
    "        \"\"\"Substitutes a random fragment with another with the same symbol\"\"\"\n",
    "        if seed.has_structure:  # type: ignore\n",
    "            n_nodes = self.count_nodes(seed.structure)\n",
    "            self.to_swap = random.randint(2, n_nodes)\n",
    "            new_structure = self.recursive_swap(seed.structure)\n",
    "\n",
    "            new_seed = SeedWithStructure(tree_to_string(new_structure))\n",
    "            new_seed.has_structure = True\n",
    "            new_seed.structure = new_structure\n",
    "            return new_seed\n",
    "\n",
    "        return seed"
   ]
  },
  {
   "cell_type": "code",
   "execution_count": 41,
   "metadata": {
    "execution": {
     "iopub.execute_input": "2025-01-16T09:52:24.096099Z",
     "iopub.status.busy": "2025-01-16T09:52:24.095993Z",
     "iopub.status.idle": "2025-01-16T09:52:24.130015Z",
     "shell.execute_reply": "2025-01-16T09:52:24.129606Z"
    },
    "slideshow": {
     "slide_type": "subslide"
    }
   },
   "outputs": [
    {
     "name": "stdout",
     "output_type": "stream",
     "text": [
      "<html><head><title>Hello</title></head><body>World<br/></body></html>\n"
     ]
    },
    {
     "data": {
      "text/plain": [
       "<title><head><title>Hello</title></head><body>World<br/></body></html>"
      ]
     },
     "execution_count": 41,
     "metadata": {},
     "output_type": "execute_result"
    }
   ],
   "source": [
    "valid_seed = SeedWithStructure(\n",
    "    \"<html><head><title>Hello</title></head><body>World<br/></body></html>\")\n",
    "lf_mutator = FragmentMutator(parser)\n",
    "print(valid_seed)\n",
    "lf_mutator.mutate(valid_seed)"
   ]
  },
  {
   "cell_type": "markdown",
   "metadata": {
    "slideshow": {
     "slide_type": "fragment"
    }
   },
   "source": [
    "As we can see, one fragment has been substituted by another. \n",
    "\n",
    "We can use a similar recursive traversal to *remove* a random fragment."
   ]
  },
  {
   "cell_type": "code",
   "execution_count": 42,
   "metadata": {
    "execution": {
     "iopub.execute_input": "2025-01-16T09:52:24.132632Z",
     "iopub.status.busy": "2025-01-16T09:52:24.132495Z",
     "iopub.status.idle": "2025-01-16T09:52:24.134721Z",
     "shell.execute_reply": "2025-01-16T09:52:24.134439Z"
    },
    "slideshow": {
     "slide_type": "subslide"
    }
   },
   "outputs": [],
   "source": [
    "class FragmentMutator(FragmentMutator):\n",
    "    def recursive_delete(self, fragment: DerivationTree) -> DerivationTree:\n",
    "        \"\"\"Recursively finds the fragment to delete\"\"\"\n",
    "        symbol, children = fragment\n",
    "        if self.is_excluded(symbol):\n",
    "            return symbol, children\n",
    "\n",
    "        self.to_delete -= 1\n",
    "        if self.to_delete == 0:\n",
    "            return symbol, []\n",
    "\n",
    "        assert children is not None\n",
    "        return symbol, list(map(self.recursive_delete, children))"
   ]
  },
  {
   "cell_type": "markdown",
   "metadata": {
    "slideshow": {
     "slide_type": "fragment"
    }
   },
   "source": [
    "We should also define the corresponding structural deletion operator, as well."
   ]
  },
  {
   "cell_type": "code",
   "execution_count": 43,
   "metadata": {
    "execution": {
     "iopub.execute_input": "2025-01-16T09:52:24.136463Z",
     "iopub.status.busy": "2025-01-16T09:52:24.136352Z",
     "iopub.status.idle": "2025-01-16T09:52:24.138991Z",
     "shell.execute_reply": "2025-01-16T09:52:24.138652Z"
    },
    "slideshow": {
     "slide_type": "subslide"
    }
   },
   "outputs": [],
   "source": [
    "class FragmentMutator(FragmentMutator):\n",
    "    def __init__(self, parser):  # type: ignore\n",
    "        super().__init__(parser)\n",
    "        self.mutators.append(self.delete_fragment)\n",
    "\n",
    "    def delete_fragment(self, seed: SeedWithStructure) -> SeedWithStructure:\n",
    "        \"\"\"Delete a random fragment\"\"\"\n",
    "        if seed.has_structure:\n",
    "            n_nodes = self.count_nodes(seed.structure)\n",
    "            self.to_delete = random.randint(2, n_nodes)\n",
    "            new_structure = self.recursive_delete(seed.structure)\n",
    "\n",
    "            new_seed = SeedWithStructure(tree_to_string(new_structure))\n",
    "            new_seed.has_structure = True\n",
    "            new_seed.structure = new_structure\n",
    "            # do not return an empty new_seed\n",
    "            if not new_seed.data:\n",
    "                return seed\n",
    "            else:\n",
    "                return new_seed\n",
    "\n",
    "        return seed"
   ]
  },
  {
   "cell_type": "markdown",
   "metadata": {
    "slideshow": {
     "slide_type": "subslide"
    }
   },
   "source": [
    "***Summary***. We now have all ingredients for structure-aware fuzzing. Our mutator disassembles all seeds into fragments, which are then added to the fragment pool. Our mutator swaps random fragments in a given seed with fragments of the same type. And our mutator deletes random fragments in a given seed. This allows maintaining a high degree of validity for the generated inputs w.r.t. the given grammar.\n",
    "\n",
    "***Try it***. Try adding other structural mutation operators. How would an *add-operator* know the position in a given seed file, where it is okay to add a fragment starting with a certain symbol?"
   ]
  },
  {
   "attachments": {},
   "cell_type": "markdown",
   "metadata": {
    "slideshow": {
     "slide_type": "subslide"
    }
   },
   "source": [
    "### Fragment-Based Fuzzing\n",
    "\n",
    "We can now define an input-structure aware fuzzer as pioneered in LangFuzz. To implement LangFuzz, we modify our [blackbox mutational fuzzer](GreyboxFuzzer.ipynb#Blackbox-Mutation-based-Fuzzer) to stack up to four structural mutations."
   ]
  },
  {
   "cell_type": "code",
   "execution_count": 44,
   "metadata": {
    "execution": {
     "iopub.execute_input": "2025-01-16T09:52:24.141241Z",
     "iopub.status.busy": "2025-01-16T09:52:24.140903Z",
     "iopub.status.idle": "2025-01-16T09:52:24.143282Z",
     "shell.execute_reply": "2025-01-16T09:52:24.142980Z"
    },
    "slideshow": {
     "slide_type": "subslide"
    }
   },
   "outputs": [],
   "source": [
    "class LangFuzzer(AdvancedMutationFuzzer):\n",
    "    \"\"\"Blackbox fuzzer mutating input fragments. Roughly based on `LangFuzz`.\"\"\"\n",
    "\n",
    "    def create_candidate(self) -> Seed:  # type: ignore\n",
    "        \"\"\"Returns an input generated by fuzzing a seed in the population\"\"\"\n",
    "        candidate = self.schedule.choose(self.population)\n",
    "        trials = random.randint(1, 4)\n",
    "        for i in range(trials):\n",
    "            candidate = self.mutator.mutate(candidate)\n",
    "\n",
    "        return candidate"
   ]
  },
  {
   "cell_type": "markdown",
   "metadata": {
    "slideshow": {
     "slide_type": "fragment"
    }
   },
   "source": [
    "Okay, let's take our first input-structure aware fuzzer for a spin. Being careful, we set n=300 for now."
   ]
  },
  {
   "cell_type": "code",
   "execution_count": 45,
   "metadata": {
    "execution": {
     "iopub.execute_input": "2025-01-16T09:52:24.145059Z",
     "iopub.status.busy": "2025-01-16T09:52:24.144947Z",
     "iopub.status.idle": "2025-01-16T09:53:59.086236Z",
     "shell.execute_reply": "2025-01-16T09:53:59.085811Z"
    },
    "slideshow": {
     "slide_type": "subslide"
    }
   },
   "outputs": [
    {
     "name": "stderr",
     "output_type": "stream",
     "text": [
      "Exception ignored in: <bound method IPythonKernel._clean_thread_parent_frames of <ipykernel.ipkernel.IPythonKernel object at 0x103912720>>\n",
      "Traceback (most recent call last):\n",
      "  File \"/Users/zeller/.local/lib/python3.12/site-packages/ipykernel/ipkernel.py\", line 775, in _clean_thread_parent_frames\n",
      "    def _clean_thread_parent_frames(\n",
      "\n",
      "  File \"Timeout.ipynb\", line 43, in timeout_handler\n",
      "    }\n",
      "      \n",
      "TimeoutError: \n",
      "Exception ignored in: <bound method IPythonKernel._clean_thread_parent_frames of <ipykernel.ipkernel.IPythonKernel object at 0x103912720>>\n",
      "Traceback (most recent call last):\n",
      "  File \"/Users/zeller/.local/lib/python3.12/site-packages/ipykernel/ipkernel.py\", line 775, in _clean_thread_parent_frames\n",
      "    def _clean_thread_parent_frames(\n",
      "\n",
      "  File \"Timeout.ipynb\", line 43, in timeout_handler\n",
      "    }\n",
      "      \n",
      "TimeoutError: \n",
      "Exception ignored in: <bound method IPythonKernel._clean_thread_parent_frames of <ipykernel.ipkernel.IPythonKernel object at 0x103912720>>\n",
      "Traceback (most recent call last):\n",
      "  File \"/Users/zeller/.local/lib/python3.12/site-packages/ipykernel/ipkernel.py\", line 775, in _clean_thread_parent_frames\n",
      "    def _clean_thread_parent_frames(\n",
      "\n",
      "  File \"Timeout.ipynb\", line 43, in timeout_handler\n",
      "    }\n",
      "      \n",
      "TimeoutError: \n",
      "Exception ignored in: <bound method IPythonKernel._clean_thread_parent_frames of <ipykernel.ipkernel.IPythonKernel object at 0x103912720>>\n",
      "Traceback (most recent call last):\n",
      "  File \"/Users/zeller/.local/lib/python3.12/site-packages/ipykernel/ipkernel.py\", line 775, in _clean_thread_parent_frames\n",
      "    def _clean_thread_parent_frames(\n",
      "\n",
      "  File \"Timeout.ipynb\", line 43, in timeout_handler\n",
      "    }\n",
      "      \n",
      "TimeoutError: \n",
      "Exception ignored in: <bound method IPythonKernel._clean_thread_parent_frames of <ipykernel.ipkernel.IPythonKernel object at 0x103912720>>\n",
      "Traceback (most recent call last):\n",
      "  File \"/Users/zeller/.local/lib/python3.12/site-packages/ipykernel/ipkernel.py\", line 775, in _clean_thread_parent_frames\n",
      "    def _clean_thread_parent_frames(\n",
      "\n",
      "  File \"Timeout.ipynb\", line 43, in timeout_handler\n",
      "    }\n",
      "      \n",
      "TimeoutError: \n",
      "Exception ignored in: <bound method IPythonKernel._clean_thread_parent_frames of <ipykernel.ipkernel.IPythonKernel object at 0x103912720>>\n",
      "Traceback (most recent call last):\n",
      "  File \"/Users/zeller/.local/lib/python3.12/site-packages/ipykernel/ipkernel.py\", line 775, in _clean_thread_parent_frames\n",
      "    def _clean_thread_parent_frames(\n",
      "\n",
      "  File \"Timeout.ipynb\", line 43, in timeout_handler\n",
      "    }\n",
      "      \n",
      "TimeoutError: \n",
      "Exception ignored in: <bound method IPythonKernel._clean_thread_parent_frames of <ipykernel.ipkernel.IPythonKernel object at 0x103912720>>\n",
      "Traceback (most recent call last):\n",
      "  File \"/Users/zeller/.local/lib/python3.12/site-packages/ipykernel/ipkernel.py\", line 775, in _clean_thread_parent_frames\n",
      "    def _clean_thread_parent_frames(\n",
      "\n",
      "  File \"Timeout.ipynb\", line 43, in timeout_handler\n",
      "    }\n",
      "      \n",
      "TimeoutError: \n",
      "Exception ignored in: <bound method IPythonKernel._clean_thread_parent_frames of <ipykernel.ipkernel.IPythonKernel object at 0x103912720>>\n",
      "Traceback (most recent call last):\n",
      "  File \"/Users/zeller/.local/lib/python3.12/site-packages/ipykernel/ipkernel.py\", line 775, in _clean_thread_parent_frames\n",
      "    def _clean_thread_parent_frames(\n",
      "\n",
      "  File \"Timeout.ipynb\", line 43, in timeout_handler\n",
      "    }\n",
      "      \n",
      "TimeoutError: \n"
     ]
    },
    {
     "data": {
      "text/plain": [
       "'It took LangFuzzer 94.94 seconds to generate and execute 300 inputs.'"
      ]
     },
     "execution_count": 45,
     "metadata": {},
     "output_type": "execute_result"
    }
   ],
   "source": [
    "n = 300\n",
    "runner = FunctionCoverageRunner(my_parser)\n",
    "mutator = FragmentMutator(EarleyParser(XML_GRAMMAR, tokens=XML_TOKENS))\n",
    "schedule = PowerSchedule()\n",
    "\n",
    "lang_fuzzer = LangFuzzer([valid_seed.data], mutator, schedule)\n",
    "\n",
    "start = time.time()\n",
    "lang_fuzzer.runs(runner, trials=n)\n",
    "end = time.time()\n",
    "\n",
    "\"It took LangFuzzer %0.2f seconds to generate and execute %d inputs.\" % (end - start, n)"
   ]
  },
  {
   "cell_type": "markdown",
   "metadata": {
    "slideshow": {
     "slide_type": "subslide"
    }
   },
   "source": [
    "We observe that structural mutation is *sooo very slow*. This is despite our time budget of 200ms for parsing. In contrast, our blackbox fuzzer alone can generate about 10k inputs per second!"
   ]
  },
  {
   "cell_type": "code",
   "execution_count": 46,
   "metadata": {
    "execution": {
     "iopub.execute_input": "2025-01-16T09:53:59.089173Z",
     "iopub.status.busy": "2025-01-16T09:53:59.089008Z",
     "iopub.status.idle": "2025-01-16T09:53:59.188198Z",
     "shell.execute_reply": "2025-01-16T09:53:59.187893Z"
    },
    "slideshow": {
     "slide_type": "fragment"
    }
   },
   "outputs": [
    {
     "data": {
      "text/plain": [
       "'It took a blackbox fuzzer 0.10 seconds to generate and execute 300 inputs.'"
      ]
     },
     "execution_count": 46,
     "metadata": {},
     "output_type": "execute_result"
    }
   ],
   "source": [
    "runner = FunctionCoverageRunner(my_parser)\n",
    "mutator = Mutator()\n",
    "schedule = PowerSchedule()\n",
    "\n",
    "blackFuzzer = AdvancedMutationFuzzer([valid_seed.data], mutator, schedule)\n",
    "\n",
    "start = time.time()\n",
    "blackFuzzer.runs(runner, trials=n)\n",
    "end = time.time()\n",
    "\n",
    "\"It took a blackbox fuzzer %0.2f seconds to generate and execute %d inputs.\" % (end - start, n)"
   ]
  },
  {
   "cell_type": "markdown",
   "metadata": {
    "slideshow": {
     "slide_type": "subslide"
    }
   },
   "source": [
    "Indeed, our blackbox fuzzer is done in the blink of an eye.\n",
    "\n",
    "***Try it***. We can deal with this overhead using [deferred parsing](https://arxiv.org/abs/1811.09447). Instead of wasting time in the beginning of the fuzzing campaign when a byte-level mutator would make efficient progress, deferred parsing suggests to invest time in structural mutation only later in the fuzzing campaign when it becomes viable."
   ]
  },
  {
   "cell_type": "code",
   "execution_count": 47,
   "metadata": {
    "execution": {
     "iopub.execute_input": "2025-01-16T09:53:59.190675Z",
     "iopub.status.busy": "2025-01-16T09:53:59.190555Z",
     "iopub.status.idle": "2025-01-16T09:53:59.192726Z",
     "shell.execute_reply": "2025-01-16T09:53:59.192496Z"
    },
    "slideshow": {
     "slide_type": "fragment"
    }
   },
   "outputs": [
    {
     "data": {
      "text/plain": [
       "'During this fuzzing campaign, the blackbox fuzzer covered 94 statements.'"
      ]
     },
     "execution_count": 47,
     "metadata": {},
     "output_type": "execute_result"
    }
   ],
   "source": [
    "blackbox_coverage = len(runner.coverage())\n",
    "\"During this fuzzing campaign, the blackbox fuzzer covered %d statements.\" % blackbox_coverage"
   ]
  },
  {
   "cell_type": "markdown",
   "metadata": {
    "slideshow": {
     "slide_type": "subslide"
    }
   },
   "source": [
    "Let's print some stats for our fuzzing campaigns. Since we'll need to print stats more often later, we should wrap this into a function. In order to measure coverage, we import the [population_coverage](Coverage.ipynb#Coverage-of-Basic-Fuzzing) function. It takes a set of inputs and a Python function, executes the inputs on that function and collects coverage information. Specifically, it returns a tuple `(all_coverage, cumulative_coverage)` where `all_coverage` is the set of statements covered by all inputs, and `cumulative_coverage` is the number of statements covered as the number of executed inputs increases. We are just interested in the latter to plot coverage over time."
   ]
  },
  {
   "cell_type": "code",
   "execution_count": 48,
   "metadata": {
    "execution": {
     "iopub.execute_input": "2025-01-16T09:53:59.195090Z",
     "iopub.status.busy": "2025-01-16T09:53:59.194950Z",
     "iopub.status.idle": "2025-01-16T09:53:59.196920Z",
     "shell.execute_reply": "2025-01-16T09:53:59.196634Z"
    },
    "slideshow": {
     "slide_type": "skip"
    }
   },
   "outputs": [],
   "source": [
    "from Coverage import population_coverage"
   ]
  },
  {
   "cell_type": "code",
   "execution_count": 49,
   "metadata": {
    "execution": {
     "iopub.execute_input": "2025-01-16T09:53:59.199001Z",
     "iopub.status.busy": "2025-01-16T09:53:59.198860Z",
     "iopub.status.idle": "2025-01-16T09:53:59.201829Z",
     "shell.execute_reply": "2025-01-16T09:53:59.201376Z"
    },
    "slideshow": {
     "slide_type": "subslide"
    }
   },
   "outputs": [],
   "source": [
    "def print_stats(fuzzer, parser: Parser) -> None:\n",
    "    coverage, _ = population_coverage(fuzzer.inputs, my_parser)\n",
    "\n",
    "    has_structure = 0\n",
    "    for seed in fuzzer.inputs:\n",
    "        # reuse memoized information\n",
    "        if hasattr(seed, \"has_structure\"):\n",
    "            if seed.has_structure: \n",
    "                has_structure += 1\n",
    "        else:\n",
    "            if isinstance(seed, str):\n",
    "                seed = Seed(seed)\n",
    "            try:\n",
    "                with Timeout(0.2):\n",
    "                    next(parser.parse(seed.data))  # type: ignore\n",
    "                has_structure += 1\n",
    "            except (SyntaxError, TimeoutError):\n",
    "                pass\n",
    "\n",
    "    print(\"From the %d generated inputs, %d (%0.2f%%) can be parsed.\\n\"\n",
    "          \"In total, %d statements are covered.\" % (\n",
    "            len(fuzzer.inputs),\n",
    "            has_structure,\n",
    "            100 * has_structure / len(fuzzer.inputs),\n",
    "            len(coverage)))"
   ]
  },
  {
   "cell_type": "markdown",
   "metadata": {
    "slideshow": {
     "slide_type": "subslide"
    }
   },
   "source": [
    "For LangFuzzer, let's see how many of the inputs generated by LangFuzz are valid (i.e., parsable) and how many statements were covered."
   ]
  },
  {
   "cell_type": "code",
   "execution_count": 50,
   "metadata": {
    "execution": {
     "iopub.execute_input": "2025-01-16T09:53:59.204316Z",
     "iopub.status.busy": "2025-01-16T09:53:59.204074Z",
     "iopub.status.idle": "2025-01-16T09:53:59.284632Z",
     "shell.execute_reply": "2025-01-16T09:53:59.284354Z"
    },
    "slideshow": {
     "slide_type": "fragment"
    }
   },
   "outputs": [
    {
     "name": "stdout",
     "output_type": "stream",
     "text": [
      "From the 300 generated inputs, 172 (57.33%) can be parsed.\n",
      "In total, 93 statements are covered.\n"
     ]
    }
   ],
   "source": [
    "print_stats(lang_fuzzer, EarleyParser(XML_GRAMMAR, tokens=XML_TOKENS))"
   ]
  },
  {
   "cell_type": "markdown",
   "metadata": {
    "slideshow": {
     "slide_type": "fragment"
    }
   },
   "source": [
    "What are the stats for the mutational fuzzer that uses only byte-level mutation (and no grammars)?"
   ]
  },
  {
   "cell_type": "code",
   "execution_count": 51,
   "metadata": {
    "execution": {
     "iopub.execute_input": "2025-01-16T09:53:59.286250Z",
     "iopub.status.busy": "2025-01-16T09:53:59.286163Z",
     "iopub.status.idle": "2025-01-16T09:54:02.397402Z",
     "shell.execute_reply": "2025-01-16T09:54:02.397084Z"
    },
    "slideshow": {
     "slide_type": "subslide"
    }
   },
   "outputs": [
    {
     "name": "stderr",
     "output_type": "stream",
     "text": [
      "Exception ignored in: <bound method IPythonKernel._clean_thread_parent_frames of <ipykernel.ipkernel.IPythonKernel object at 0x103912720>>\n",
      "Traceback (most recent call last):\n",
      "  File \"/Users/zeller/.local/lib/python3.12/site-packages/ipykernel/ipkernel.py\", line 775, in _clean_thread_parent_frames\n",
      "    def _clean_thread_parent_frames(\n",
      "\n",
      "  File \"Timeout.ipynb\", line 43, in timeout_handler\n",
      "    }\n",
      "      \n",
      "TimeoutError: \n"
     ]
    },
    {
     "name": "stdout",
     "output_type": "stream",
     "text": [
      "From the 300 generated inputs, 34 (11.33%) can be parsed.\n",
      "In total, 167 statements are covered.\n"
     ]
    }
   ],
   "source": [
    "print_stats(blackFuzzer, EarleyParser(XML_GRAMMAR, tokens=XML_TOKENS))"
   ]
  },
  {
   "cell_type": "markdown",
   "metadata": {
    "slideshow": {
     "slide_type": "subslide"
    }
   },
   "source": [
    "***Summary***. Our fragment-level blackbox fuzzer (LangFuzzer) generates *more valid inputs* but achieves *less code coverage* than a fuzzer with our byte-level fuzzer. So, there is some value in generating inputs that do not stick to the provided grammar. "
   ]
  },
  {
   "cell_type": "markdown",
   "metadata": {
    "slideshow": {
     "slide_type": "subslide"
    }
   },
   "source": [
    "### Integration with Greybox Fuzzing\n",
    "\n",
    "In the following we integrate fragment-level blackbox fuzzing (LangFuzz-style) with [byte-level greybox fuzzing](GreyboxFuzzer.ipynb#Greybox-Mutation-based-Fuzzer) (AFL-style). The additional coverage-feedback might allow us to increase code coverage more quickly.\n",
    "\n",
    "A [greybox fuzzer](GreyboxFuzzer.ipynb#Greybox-Mutation-based-Fuzzer) adds to the seed population all generated inputs which increase code coverage. Inputs are generated in two stages, stacking up to four structural mutations and up to 32 byte-level mutations."
   ]
  },
  {
   "cell_type": "code",
   "execution_count": 52,
   "metadata": {
    "execution": {
     "iopub.execute_input": "2025-01-16T09:54:02.399523Z",
     "iopub.status.busy": "2025-01-16T09:54:02.399388Z",
     "iopub.status.idle": "2025-01-16T09:54:02.402493Z",
     "shell.execute_reply": "2025-01-16T09:54:02.402168Z"
    },
    "slideshow": {
     "slide_type": "subslide"
    }
   },
   "outputs": [],
   "source": [
    "class GreyboxGrammarFuzzer(GreyboxFuzzer):\n",
    "    \"\"\"Greybox fuzzer using grammars.\"\"\"\n",
    "\n",
    "    def __init__(self, seeds: List[str],\n",
    "                 byte_mutator: Mutator, tree_mutator: FragmentMutator,\n",
    "                 schedule: PowerSchedule) -> None:\n",
    "        \"\"\"Constructor.\n",
    "        `seeds` - set of inputs to mutate.\n",
    "        `byte_mutator` - a byte-level mutator.\n",
    "        `tree_mutator` = a tree-level mutator.\n",
    "        `schedule` - a power schedule.\n",
    "        \"\"\"\n",
    "        super().__init__(seeds, byte_mutator, schedule)\n",
    "        self.tree_mutator = tree_mutator\n",
    "\n",
    "    def create_candidate(self) -> str:\n",
    "        \"\"\"Returns an input generated by structural mutation \n",
    "           of a seed in the population\"\"\"\n",
    "        seed = cast(SeedWithStructure, self.schedule.choose(self.population))\n",
    "\n",
    "        # Structural mutation\n",
    "        trials = random.randint(0, 4)\n",
    "        for i in range(trials):\n",
    "            seed = self.tree_mutator.mutate(seed)\n",
    "\n",
    "        # Byte-level mutation\n",
    "        candidate = seed.data\n",
    "        if trials == 0 or not seed.has_structure or random.randint(0, 1) == 1:\n",
    "            dumb_trials = min(len(seed.data), 1 << random.randint(1, 5))\n",
    "            for i in range(dumb_trials):\n",
    "                candidate = self.mutator.mutate(candidate)\n",
    "\n",
    "        return candidate"
   ]
  },
  {
   "cell_type": "markdown",
   "metadata": {
    "slideshow": {
     "slide_type": "subslide"
    }
   },
   "source": [
    "Let's run our integrated fuzzer with the [standard byte-level mutator](GreyboxFuzzer.ipynb#Mutator-and-Seed) and our [fragment-based structural mutator](#Fragment-based-Mutation) that was introduced above."
   ]
  },
  {
   "cell_type": "code",
   "execution_count": 53,
   "metadata": {
    "execution": {
     "iopub.execute_input": "2025-01-16T09:54:02.404338Z",
     "iopub.status.busy": "2025-01-16T09:54:02.404235Z",
     "iopub.status.idle": "2025-01-16T09:54:03.097110Z",
     "shell.execute_reply": "2025-01-16T09:54:03.096802Z"
    },
    "slideshow": {
     "slide_type": "subslide"
    }
   },
   "outputs": [
    {
     "data": {
      "text/plain": [
       "'It took the greybox grammar fuzzer 0.69 seconds to generate and execute 300 inputs.'"
      ]
     },
     "execution_count": 53,
     "metadata": {},
     "output_type": "execute_result"
    }
   ],
   "source": [
    "runner = FunctionCoverageRunner(my_parser)\n",
    "byte_mutator = Mutator()\n",
    "tree_mutator = FragmentMutator(EarleyParser(XML_GRAMMAR, tokens=XML_TOKENS))\n",
    "schedule = PowerSchedule()\n",
    "\n",
    "gg_fuzzer = GreyboxGrammarFuzzer([valid_seed.data], byte_mutator, tree_mutator, schedule)\n",
    "\n",
    "start = time.time()\n",
    "gg_fuzzer.runs(runner, trials=n)\n",
    "end = time.time()\n",
    "\n",
    "\"It took the greybox grammar fuzzer %0.2f seconds to generate and execute %d inputs.\" % (end - start, n)"
   ]
  },
  {
   "cell_type": "code",
   "execution_count": 54,
   "metadata": {
    "execution": {
     "iopub.execute_input": "2025-01-16T09:54:03.098847Z",
     "iopub.status.busy": "2025-01-16T09:54:03.098727Z",
     "iopub.status.idle": "2025-01-16T09:54:03.642761Z",
     "shell.execute_reply": "2025-01-16T09:54:03.642432Z"
    },
    "slideshow": {
     "slide_type": "subslide"
    }
   },
   "outputs": [
    {
     "name": "stdout",
     "output_type": "stream",
     "text": [
      "From the 300 generated inputs, 2 (0.67%) can be parsed.\n",
      "In total, 171 statements are covered.\n"
     ]
    }
   ],
   "source": [
    "print_stats(gg_fuzzer, EarleyParser(XML_GRAMMAR, tokens=XML_TOKENS))"
   ]
  },
  {
   "cell_type": "markdown",
   "metadata": {
    "slideshow": {
     "slide_type": "subslide"
    }
   },
   "source": [
    "***Summary***. Our structural greybox fuzzer \n",
    "* runs faster than the fragment-based LangFuzzer,\n",
    "* achieves more coverage than both the fragment-based LangFuzzer and the vanilla blackbox mutational fuzzer, and\n",
    "* generates fewer valid inputs than even the vanilla blackbox mutational fuzzer."
   ]
  },
  {
   "cell_type": "markdown",
   "metadata": {
    "slideshow": {
     "slide_type": "slide"
    },
    "toc-hr-collapsed": false
   },
   "source": [
    "## Fuzzing with Input Regions\n",
    "\n",
    "In the previous section, we have seen that most inputs that are added as seeds are *invalid* w.r.t. our given grammar. Yet, in order to apply our fragment-based mutators, we need it to parse the seed successfully. Otherwise, the entire fragment-based approach becomes useless.  The question arises: *How can we derive structure from (invalid) seeds that cannot be parsed successfully?*\n",
    "\n",
    "To this end, we introduce the idea of _region-based mutation_, first explored with the [AFLSmart](https://github.com/aflsmart/aflsmart) structural greybox fuzzer \\cite{Pham2018aflsmart}. AFLSmart implements byte-level, fragment-based, and region-based mutation as well as validity-based power schedules. We define *region-based mutators*, where a *region* is a consecutive sequence of bytes in the input that can be associated with a symbol in the grammar."
   ]
  },
  {
   "cell_type": "markdown",
   "metadata": {
    "slideshow": {
     "slide_type": "subslide"
    }
   },
   "source": [
    "The basic idea of fuzzing with input regions is shown in the following diagram. After _parsing_ an input (into a derivation tree), we can identify _regions_ associated with specific subtrees of the derivation tree. These regions can then be deleted or swapped.\n",
    "\n",
    "<img src=\"PICS/GreyboxGrammarFuzzer-Regions.gif\">"
   ]
  },
  {
   "cell_type": "markdown",
   "metadata": {
    "slideshow": {
     "slide_type": "fragment"
    }
   },
   "source": [
    "Such regions can also be determined even if the input is incomplete or invalid, allowing for robust parsing."
   ]
  },
  {
   "cell_type": "markdown",
   "metadata": {
    "slideshow": {
     "slide_type": "subslide"
    }
   },
   "source": [
    "### Determining Symbol Regions\n",
    "\n",
    "How can we obtain regions for a given input? The function `chart_parse()` of the [Earley parser](Parser.ipynb#The-Parsing-Algorithm) produces a _parse table_ for a string. For each letter in the string, this table gives the potential symbol and a *region* of neighboring letters that might belong to the same symbol."
   ]
  },
  {
   "cell_type": "code",
   "execution_count": 55,
   "metadata": {
    "code_folding": [],
    "execution": {
     "iopub.execute_input": "2025-01-16T09:54:03.644619Z",
     "iopub.status.busy": "2025-01-16T09:54:03.644496Z",
     "iopub.status.idle": "2025-01-16T09:54:03.651860Z",
     "shell.execute_reply": "2025-01-16T09:54:03.651533Z"
    },
    "slideshow": {
     "slide_type": "subslide"
    }
   },
   "outputs": [
    {
     "name": "stdout",
     "output_type": "stream",
     "text": [
      "None chart[0]\n",
      "\n",
      "---\n",
      "< chart[1]\n",
      "\n",
      "---\n",
      "h chart[2]\n",
      "<letter>:= h |(1,2)\n",
      "<id>:= <letter> |(1,2)\n",
      "---\n",
      "t chart[3]\n",
      "<letter>:= t |(2,3)\n",
      "<id>:= <id> <letter> |(1,3)\n",
      "---\n",
      "m chart[4]\n",
      "<letter>:= m |(3,4)\n",
      "<id>:= <id> <letter> |(1,4)\n",
      "---\n",
      "l chart[5]\n",
      "<letter>:= l |(4,5)\n",
      "<id>:= <id> <letter> |(1,5)\n",
      "---\n",
      "> chart[6]\n",
      "<xml-open-tag>:= < <id> > |(0,6)\n",
      "---\n",
      "< chart[7]\n",
      "\n",
      "---\n",
      "b chart[8]\n",
      "<letter>:= b |(7,8)\n",
      "<id>:= <letter> |(7,8)\n",
      "---\n",
      "o chart[9]\n",
      "<letter>:= o |(8,9)\n",
      "<id>:= <id> <letter> |(7,9)\n",
      "---\n",
      "d chart[10]\n",
      "<letter>:= d |(9,10)\n",
      "<id>:= <id> <letter> |(7,10)\n",
      "---\n",
      "y chart[11]\n",
      "<letter>:= y |(10,11)\n",
      "<id>:= <id> <letter> |(7,11)\n",
      "---\n",
      "> chart[12]\n",
      "<xml-open-tag>:= < <id> > |(6,12)\n",
      "---\n",
      "< chart[13]\n",
      "\n",
      "---\n",
      "i chart[14]\n",
      "<letter>:= i |(13,14)\n",
      "<id>:= <letter> |(13,14)\n",
      "---\n",
      "> chart[15]\n",
      "<xml-open-tag>:= < <id> > |(12,15)\n",
      "---\n",
      "W chart[16]\n",
      "<letter_space>:= W |(15,16)\n",
      "<text>:= <letter_space> |(15,16)\n",
      "<xml-tree>:= <text> |(15,16)\n",
      "---\n",
      "o chart[17]\n",
      "<letter_space>:= o |(16,17)\n",
      "<text>:= <text> <letter_space> |(15,17)\n",
      "<text>:= <letter_space> |(16,17)\n",
      "<xml-tree>:= <text> |(15,17)\n",
      "<xml-tree>:= <text> |(16,17)\n",
      "<xml-tree>:= <xml-tree> <xml-tree> |(15,17)\n",
      "---\n",
      "r chart[18]\n",
      "<letter_space>:= r |(17,18)\n",
      "<text>:= <text> <letter_space> |(15,18)\n",
      "<text>:= <text> <letter_space> |(16,18)\n",
      "<text>:= <letter_space> |(17,18)\n",
      "<xml-tree>:= <text> |(15,18)\n",
      "<xml-tree>:= <text> |(16,18)\n",
      "<xml-tree>:= <text> |(17,18)\n",
      "<xml-tree>:= <xml-tree> <xml-tree> |(15,18)\n",
      "<xml-tree>:= <xml-tree> <xml-tree> |(16,18)\n",
      "---\n",
      "l chart[19]\n",
      "<letter_space>:= l |(18,19)\n",
      "<text>:= <text> <letter_space> |(15,19)\n",
      "<text>:= <text> <letter_space> |(16,19)\n",
      "<text>:= <text> <letter_space> |(17,19)\n",
      "<text>:= <letter_space> |(18,19)\n",
      "<xml-tree>:= <text> |(15,19)\n",
      "<xml-tree>:= <text> |(16,19)\n",
      "<xml-tree>:= <text> |(17,19)\n",
      "<xml-tree>:= <text> |(18,19)\n",
      "<xml-tree>:= <xml-tree> <xml-tree> |(15,19)\n",
      "<xml-tree>:= <xml-tree> <xml-tree> |(16,19)\n",
      "<xml-tree>:= <xml-tree> <xml-tree> |(17,19)\n",
      "---\n",
      "d chart[20]\n",
      "<letter_space>:= d |(19,20)\n",
      "<text>:= <text> <letter_space> |(15,20)\n",
      "<text>:= <text> <letter_space> |(16,20)\n",
      "<text>:= <text> <letter_space> |(17,20)\n",
      "<text>:= <text> <letter_space> |(18,20)\n",
      "<text>:= <letter_space> |(19,20)\n",
      "<xml-tree>:= <text> |(15,20)\n",
      "<xml-tree>:= <text> |(16,20)\n",
      "<xml-tree>:= <text> |(17,20)\n",
      "<xml-tree>:= <text> |(18,20)\n",
      "<xml-tree>:= <text> |(19,20)\n",
      "<xml-tree>:= <xml-tree> <xml-tree> |(15,20)\n",
      "<xml-tree>:= <xml-tree> <xml-tree> |(16,20)\n",
      "<xml-tree>:= <xml-tree> <xml-tree> |(17,20)\n",
      "<xml-tree>:= <xml-tree> <xml-tree> |(18,20)\n",
      "---\n",
      "< chart[21]\n",
      "\n",
      "---\n",
      "/ chart[22]\n",
      "\n",
      "---\n",
      "i chart[23]\n",
      "<letter>:= i |(22,23)\n",
      "<id>:= <letter> |(22,23)\n",
      "---\n",
      "> chart[24]\n",
      "<xml-close-tag>:= < / <id> > |(20,24)\n",
      "<xml-tree>:= <xml-open-tag> <xml-tree> <xml-close-tag> |(12,24)\n",
      "---\n",
      "< chart[25]\n",
      "\n",
      "---\n",
      "b chart[26]\n",
      "<letter>:= b |(25,26)\n",
      "<id>:= <letter> |(25,26)\n",
      "---\n",
      "r chart[27]\n",
      "<letter>:= r |(26,27)\n",
      "<id>:= <id> <letter> |(25,27)\n",
      "---\n",
      "/ chart[28]\n",
      "\n",
      "---\n",
      "> chart[29]\n",
      "<xml-openclose-tag>:= < <id> / > |(24,29)\n",
      "<xml-tree>:= <xml-openclose-tag> |(24,29)\n",
      "<xml-tree>:= <xml-tree> <xml-tree> |(12,29)\n",
      "---\n",
      "> chart[30]\n",
      "\n",
      "---\n",
      "/ chart[31]\n",
      "\n",
      "---\n",
      "b chart[32]\n",
      "\n",
      "---\n",
      "o chart[33]\n",
      "\n",
      "---\n",
      "d chart[34]\n",
      "\n",
      "---\n",
      "y chart[35]\n",
      "\n",
      "---\n",
      "> chart[36]\n",
      "\n",
      "---\n",
      "< chart[37]\n",
      "\n",
      "---\n",
      "/ chart[38]\n",
      "\n",
      "---\n",
      "h chart[39]\n",
      "\n",
      "---\n",
      "t chart[40]\n",
      "\n",
      "---\n",
      "m chart[41]\n",
      "\n",
      "---\n",
      "l chart[42]\n",
      "\n",
      "---\n",
      "> chart[43]\n",
      "\n",
      "---\n"
     ]
    }
   ],
   "source": [
    "invalid_seed = Seed(\"<html><body><i>World</i><br/>>/body></html>\")\n",
    "parser = EarleyParser(XML_GRAMMAR, tokens=XML_TOKENS)\n",
    "table = parser.chart_parse(invalid_seed.data, parser.start_symbol())\n",
    "for column in table:\n",
    "    print(column)\n",
    "    print(\"---\")"
   ]
  },
  {
   "cell_type": "markdown",
   "metadata": {
    "slideshow": {
     "slide_type": "subslide"
    }
   },
   "source": [
    "The number of columns in this table that are associated with potential symbols correspond to the number of letters that could be parsed successfully. In other words, we can use this table to compute the longest parsable substring."
   ]
  },
  {
   "cell_type": "code",
   "execution_count": 56,
   "metadata": {
    "execution": {
     "iopub.execute_input": "2025-01-16T09:54:03.653913Z",
     "iopub.status.busy": "2025-01-16T09:54:03.653776Z",
     "iopub.status.idle": "2025-01-16T09:54:03.657123Z",
     "shell.execute_reply": "2025-01-16T09:54:03.656546Z"
    },
    "slideshow": {
     "slide_type": "fragment"
    }
   },
   "outputs": [
    {
     "name": "stdout",
     "output_type": "stream",
     "text": [
      "'<html><body><i>World</i><br/>>/body></html>'\n"
     ]
    },
    {
     "data": {
      "text/plain": [
       "'<html><body><i>World</i><br/>'"
      ]
     },
     "execution_count": 56,
     "metadata": {},
     "output_type": "execute_result"
    }
   ],
   "source": [
    "cols = [col for col in table if col.states]\n",
    "parsable = invalid_seed.data[:len(cols)-1]\n",
    "\n",
    "print(\"'%s'\" % invalid_seed)\n",
    "parsable"
   ]
  },
  {
   "cell_type": "markdown",
   "metadata": {
    "slideshow": {
     "slide_type": "fragment"
    }
   },
   "source": [
    "From this, we can compute the *degree of validity* for an input."
   ]
  },
  {
   "cell_type": "code",
   "execution_count": 57,
   "metadata": {
    "execution": {
     "iopub.execute_input": "2025-01-16T09:54:03.659538Z",
     "iopub.status.busy": "2025-01-16T09:54:03.659440Z",
     "iopub.status.idle": "2025-01-16T09:54:03.662209Z",
     "shell.execute_reply": "2025-01-16T09:54:03.661782Z"
    },
    "slideshow": {
     "slide_type": "subslide"
    }
   },
   "outputs": [
    {
     "data": {
      "text/plain": [
       "'67.4% of the string can be parsed successfully.'"
      ]
     },
     "execution_count": 57,
     "metadata": {},
     "output_type": "execute_result"
    }
   ],
   "source": [
    "validity = 100 * len(parsable) / len(invalid_seed.data)\n",
    "\n",
    "\"%0.1f%% of the string can be parsed successfully.\" % validity"
   ]
  },
  {
   "cell_type": "markdown",
   "metadata": {
    "slideshow": {
     "slide_type": "subslide"
    }
   },
   "source": [
    "***Summary***. Unlike input fragments, input regions can be derived even if the parser fails to generate the entire parse tree."
   ]
  },
  {
   "cell_type": "markdown",
   "metadata": {
    "slideshow": {
     "slide_type": "subslide"
    },
    "tags": []
   },
   "source": [
    "### Region-Based Mutation\n",
    "\n",
    "To fuzz invalid seeds, the region-based mutator associates symbols from the grammar with regions (i.e., indexed substrings) in the seed. The [overridden](#Building-the-Fragment-Pool) method `add_to_fragment_pool()` first tries to mine the fragments from the seed. If this fails, the region mutator uses [Earley parser](Parser.ipynb#The-Parsing-Algorithm) to derive the parse table. For each column (i.e., letter), it extracts the symbols and corresponding regions. This allows the mutator to store the set of regions with each symbol."
   ]
  },
  {
   "cell_type": "code",
   "execution_count": 58,
   "metadata": {
    "execution": {
     "iopub.execute_input": "2025-01-16T09:54:03.664351Z",
     "iopub.status.busy": "2025-01-16T09:54:03.664220Z",
     "iopub.status.idle": "2025-01-16T09:54:03.667164Z",
     "shell.execute_reply": "2025-01-16T09:54:03.666556Z"
    },
    "slideshow": {
     "slide_type": "subslide"
    }
   },
   "outputs": [],
   "source": [
    "class SeedWithRegions(SeedWithStructure):\n",
    "    \"\"\"Seeds augmented with structure info\"\"\"\n",
    "\n",
    "    def __init__(self, data: str) -> None:\n",
    "        super().__init__(data)\n",
    "        self.has_regions = False\n",
    "        self.regions: Dict[str, Set] = {}"
   ]
  },
  {
   "cell_type": "code",
   "execution_count": 59,
   "metadata": {
    "execution": {
     "iopub.execute_input": "2025-01-16T09:54:03.669468Z",
     "iopub.status.busy": "2025-01-16T09:54:03.669338Z",
     "iopub.status.idle": "2025-01-16T09:54:03.672586Z",
     "shell.execute_reply": "2025-01-16T09:54:03.672243Z"
    },
    "slideshow": {
     "slide_type": "subslide"
    }
   },
   "outputs": [],
   "source": [
    "class RegionMutator(FragmentMutator):\n",
    "    def add_to_fragment_pool(self, seed: SeedWithRegions) -> None:  # type: ignore\n",
    "        \"\"\"Mark fragments and regions in a seed file\"\"\"\n",
    "        super().add_to_fragment_pool(seed)\n",
    "        if not seed.has_structure:\n",
    "            try:\n",
    "                with Timeout(0.2):\n",
    "                    seed.regions = {k: set() for k in self.parser.cgrammar}\n",
    "                    for column in self.parser.chart_parse(seed.data,\n",
    "                                                          self.parser.start_symbol()):\n",
    "                        for state in column.states:\n",
    "                            if (not self.is_excluded(state.name) and\n",
    "                                    state.e_col.index - state.s_col.index > 1 and\n",
    "                                    state.finished()):\n",
    "                                seed.regions[state.name].add((state.s_col.index,\n",
    "                                                              state.e_col.index))\n",
    "                seed.has_regions = True\n",
    "            except TimeoutError:\n",
    "                seed.has_regions = False\n",
    "        else:\n",
    "            seed.has_regions = False"
   ]
  },
  {
   "cell_type": "markdown",
   "metadata": {
    "slideshow": {
     "slide_type": "subslide"
    }
   },
   "source": [
    "This is how these regions look like for our invalid seed. A region consists of a start and end index in the seed string."
   ]
  },
  {
   "cell_type": "code",
   "execution_count": 60,
   "metadata": {
    "execution": {
     "iopub.execute_input": "2025-01-16T09:54:03.674234Z",
     "iopub.status.busy": "2025-01-16T09:54:03.674137Z",
     "iopub.status.idle": "2025-01-16T09:54:03.745395Z",
     "shell.execute_reply": "2025-01-16T09:54:03.745100Z"
    },
    "slideshow": {
     "slide_type": "subslide"
    }
   },
   "outputs": [
    {
     "name": "stdout",
     "output_type": "stream",
     "text": [
      "<start>\n",
      "<xml-tree>\n",
      "|-(16,20) : orld\n",
      "|-(12,24) : <i>World</i>\n",
      "|-(17,20) : rld\n",
      "|-(18,20) : ld\n",
      "|-(16,19) : orl\n",
      "|-(15,17) : Wo\n",
      "|-(12,29) : <i>World</i><br/>\n",
      "|-(17,19) : rl\n",
      "|-(15,20) : World\n",
      "|-(24,29) : <br/>\n",
      "|-(15,19) : Worl\n",
      "|-(16,18) : or\n",
      "|-(15,18) : Wor\n",
      "<xml-open-tag>\n",
      "|-(6,12) : <body>\n",
      "|-(12,15) : <i>\n",
      "|-(0,6) : <html>\n",
      "<xml-openclose-tag>\n",
      "|-(24,29) : <br/>\n",
      "<xml-close-tag>\n",
      "|-(20,24) : </i>\n",
      "<xml-attribute>\n",
      "<id>\n",
      "<text>\n",
      "<letter>\n",
      "<letter_space>\n"
     ]
    }
   ],
   "source": [
    "invalid_seed = SeedWithRegions(\"<html><body><i>World</i><br/>>/body></html>\")\n",
    "mutator = RegionMutator(parser)\n",
    "mutator.add_to_fragment_pool(invalid_seed)\n",
    "for symbol in invalid_seed.regions:  # type: ignore\n",
    "    print(symbol)\n",
    "    for (s, e) in invalid_seed.regions[symbol]:  # type: ignore\n",
    "        print(\"|-(%d,%d) : %s\" % (s, e, invalid_seed.data[s:e]))"
   ]
  },
  {
   "cell_type": "markdown",
   "metadata": {
    "slideshow": {
     "slide_type": "subslide"
    }
   },
   "source": [
    "Now that we know which regions in the seed belong to which symbol, we can define region-based swap and delete operators."
   ]
  },
  {
   "cell_type": "code",
   "execution_count": 61,
   "metadata": {
    "execution": {
     "iopub.execute_input": "2025-01-16T09:54:03.747067Z",
     "iopub.status.busy": "2025-01-16T09:54:03.746948Z",
     "iopub.status.idle": "2025-01-16T09:54:03.749921Z",
     "shell.execute_reply": "2025-01-16T09:54:03.749673Z"
    },
    "slideshow": {
     "slide_type": "subslide"
    }
   },
   "outputs": [],
   "source": [
    "class RegionMutator(RegionMutator):\n",
    "    def swap_fragment(self, seed: SeedWithRegions) -> SeedWithRegions:  # type: ignore\n",
    "        \"\"\"Chooses a random region and swaps it with a fragment\n",
    "           that starts with the same symbol\"\"\"\n",
    "        if not seed.has_structure and seed.has_regions:\n",
    "            regions = [r for r in seed.regions\n",
    "                       if (len(seed.regions[r]) > 0 and\n",
    "                           len(self.fragments[r]) > 0)]\n",
    "            if len(regions) == 0:\n",
    "                return seed\n",
    "\n",
    "            key = random.choice(list(regions))\n",
    "            s, e = random.choice(list(seed.regions[key]))\n",
    "            swap_structure = random.choice(self.fragments[key])\n",
    "            swap_string = tree_to_string(swap_structure)\n",
    "            new_seed = SeedWithRegions(seed.data[:s] + swap_string + seed.data[e:])\n",
    "            new_seed.has_structure = False\n",
    "            new_seed.has_regions = False\n",
    "            return new_seed\n",
    "        else:\n",
    "            return super().swap_fragment(seed)  # type: ignore"
   ]
  },
  {
   "cell_type": "code",
   "execution_count": 62,
   "metadata": {
    "execution": {
     "iopub.execute_input": "2025-01-16T09:54:03.751493Z",
     "iopub.status.busy": "2025-01-16T09:54:03.751383Z",
     "iopub.status.idle": "2025-01-16T09:54:03.753964Z",
     "shell.execute_reply": "2025-01-16T09:54:03.753677Z"
    },
    "slideshow": {
     "slide_type": "subslide"
    }
   },
   "outputs": [],
   "source": [
    "class RegionMutator(RegionMutator):\n",
    "    def delete_fragment(self, seed: SeedWithRegions) -> SeedWithRegions:  # type: ignore\n",
    "        \"\"\"Deletes a random region\"\"\"\n",
    "        if not seed.has_structure and seed.has_regions:\n",
    "            regions = [r for r in seed.regions\n",
    "                       if len(seed.regions[r]) > 0]\n",
    "            if len(regions) == 0:\n",
    "                return seed\n",
    "\n",
    "            key = random.choice(list(regions))\n",
    "            s, e = (0, 0)\n",
    "            while (e - s < 2):\n",
    "                s, e = random.choice(list(seed.regions[key]))\n",
    "\n",
    "            new_seed = SeedWithRegions(seed.data[:s] + seed.data[e:])\n",
    "            new_seed.has_structure = False\n",
    "            new_seed.has_regions = False\n",
    "            return new_seed\n",
    "        else:\n",
    "            return super().delete_fragment(seed)  # type: ignore"
   ]
  },
  {
   "cell_type": "markdown",
   "metadata": {
    "slideshow": {
     "slide_type": "subslide"
    }
   },
   "source": [
    "Let's try our new region-based mutator. We add a simple, valid seed to the fragment pool and attempt to mutate the invalid seed."
   ]
  },
  {
   "cell_type": "code",
   "execution_count": 63,
   "metadata": {
    "execution": {
     "iopub.execute_input": "2025-01-16T09:54:03.755643Z",
     "iopub.status.busy": "2025-01-16T09:54:03.755520Z",
     "iopub.status.idle": "2025-01-16T09:54:03.828585Z",
     "shell.execute_reply": "2025-01-16T09:54:03.828315Z"
    },
    "slideshow": {
     "slide_type": "fragment"
    }
   },
   "outputs": [
    {
     "name": "stdout",
     "output_type": "stream",
     "text": [
      "<html><body><i>World</i><br/>>/body></html>\n"
     ]
    },
    {
     "data": {
      "text/plain": [
       "<html><body>>/body></html>"
      ]
     },
     "execution_count": 63,
     "metadata": {},
     "output_type": "execute_result"
    }
   ],
   "source": [
    "simple_seed = SeedWithRegions(\"<b>Text</b>\")\n",
    "mutator = RegionMutator(parser)\n",
    "mutator.add_to_fragment_pool(simple_seed)\n",
    "\n",
    "print(invalid_seed)\n",
    "mutator.mutate(invalid_seed)"
   ]
  },
  {
   "attachments": {},
   "cell_type": "markdown",
   "metadata": {
    "slideshow": {
     "slide_type": "subslide"
    }
   },
   "source": [
    "***Summary***. We can use the Earley parser to generate a parse table and assign regions in the input to symbols in the grammar. Our region mutators can substitute these regions with fragments from the fragment pool that start with the same symbol, or delete these regions entirely.\n",
    "\n",
    "***Try it***. Implement a region pool (similar to the fragment pool) and a `swap_region()` mutator.\n",
    "You can execute your own code by opening this chapter as Jupyter notebook."
   ]
  },
  {
   "cell_type": "markdown",
   "metadata": {
    "slideshow": {
     "slide_type": "subslide"
    }
   },
   "source": [
    "### Integration with Greybox Fuzzing\n",
    "\n",
    "Let's try our shiny new region mutator by integrating it with our [structure-aware greybox fuzzer](#Integration-with-Greybox-Fuzzing)."
   ]
  },
  {
   "cell_type": "code",
   "execution_count": 64,
   "metadata": {
    "execution": {
     "iopub.execute_input": "2025-01-16T09:54:03.830367Z",
     "iopub.status.busy": "2025-01-16T09:54:03.830253Z",
     "iopub.status.idle": "2025-01-16T09:54:10.663817Z",
     "shell.execute_reply": "2025-01-16T09:54:10.663464Z"
    },
    "slideshow": {
     "slide_type": "subslide"
    }
   },
   "outputs": [
    {
     "data": {
      "text/plain": [
       "'\\nIt took the structural greybox fuzzer with region mutator\\n6.83 seconds to generate and execute 300 inputs.\\n'"
      ]
     },
     "execution_count": 64,
     "metadata": {},
     "output_type": "execute_result"
    }
   ],
   "source": [
    "runner = FunctionCoverageRunner(my_parser)\n",
    "byte_mutator = Mutator()\n",
    "tree_mutator = RegionMutator(EarleyParser(XML_GRAMMAR, tokens=XML_TOKENS))\n",
    "schedule = PowerSchedule()\n",
    "\n",
    "regionFuzzer = GreyboxGrammarFuzzer([valid_seed.data], byte_mutator, tree_mutator, schedule)\n",
    "\n",
    "start = time.time()\n",
    "regionFuzzer.runs(runner, trials = n)\n",
    "end = time.time()\n",
    "\n",
    "\"\"\"\n",
    "It took the structural greybox fuzzer with region mutator\n",
    "%0.2f seconds to generate and execute %d inputs.\n",
    "\"\"\" % (end - start, n)"
   ]
  },
  {
   "cell_type": "markdown",
   "metadata": {
    "slideshow": {
     "slide_type": "subslide"
    }
   },
   "source": [
    "We can see that the structural greybox fuzzer with region-based mutator is slower than the [fragment-based mutator alone](#Fragment-based-Fuzzing). This is because region-based structural mutation is applicable for *all seeds*. In contrast, fragment-based mutators were applicable only for tiny number of parsable seeds. Otherwise, only (very efficient) byte-level mutators were applied.\n",
    "\n",
    "Let's also print the average degree of validity for the seeds in the population."
   ]
  },
  {
   "cell_type": "code",
   "execution_count": 65,
   "metadata": {
    "execution": {
     "iopub.execute_input": "2025-01-16T09:54:10.666094Z",
     "iopub.status.busy": "2025-01-16T09:54:10.665940Z",
     "iopub.status.idle": "2025-01-16T09:54:10.668547Z",
     "shell.execute_reply": "2025-01-16T09:54:10.668247Z"
    },
    "slideshow": {
     "slide_type": "subslide"
    }
   },
   "outputs": [],
   "source": [
    "def print_more_stats(fuzzer: GreyboxGrammarFuzzer, parser: EarleyParser):\n",
    "    print_stats(fuzzer, parser)\n",
    "    validity = 0.0\n",
    "    total = 0\n",
    "    for seed in fuzzer.population:\n",
    "        if not seed.data: continue\n",
    "        table = parser.chart_parse(seed.data, parser.start_symbol())\n",
    "        cols = [col for col in table if col.states]\n",
    "        parsable = invalid_seed.data[:len(cols)-1]\n",
    "        validity += len(parsable) / len(seed.data)\n",
    "        total += 1\n",
    "\n",
    "    print(\"On average, %0.1f%% of a seed in the population can be successfully parsed.\" % (100 * validity / total))"
   ]
  },
  {
   "cell_type": "code",
   "execution_count": 66,
   "metadata": {
    "execution": {
     "iopub.execute_input": "2025-01-16T09:54:10.670442Z",
     "iopub.status.busy": "2025-01-16T09:54:10.670298Z",
     "iopub.status.idle": "2025-01-16T09:54:11.397742Z",
     "shell.execute_reply": "2025-01-16T09:54:11.397436Z"
    },
    "slideshow": {
     "slide_type": "subslide"
    }
   },
   "outputs": [
    {
     "name": "stdout",
     "output_type": "stream",
     "text": [
      "From the 300 generated inputs, 11 (3.67%) can be parsed.\n",
      "In total, 168 statements are covered.\n",
      "On average, 18.2% of a seed in the population can be successfully parsed.\n"
     ]
    }
   ],
   "source": [
    "print_more_stats(regionFuzzer, parser)"
   ]
  },
  {
   "cell_type": "markdown",
   "metadata": {
    "slideshow": {
     "slide_type": "subslide"
    }
   },
   "source": [
    "***Summary***. Compared to fragment-based mutation, a greybox fuzzer with region-based mutation achieves *higher coverage* but generates a *smaller number of valid inputs*. The higher coverage is explained by leveraging at least *some* structure for seeds that cannot be parsed successfully.\n"
   ]
  },
  {
   "cell_type": "markdown",
   "metadata": {
    "slideshow": {
     "slide_type": "subslide"
    }
   },
   "source": [
    "### Focusing on Valid Seeds\n",
    "\n",
    "In the previous section, we have a problem: The low (degree of) validity.  To address this problem, a _validity-based power schedule_ assigns more [energy](GreyboxFuzzer.ipynb#Power-Schedules) to seeds that have a higher degree of validity.  In other words, the fuzzer _spends more time fuzzing seeds that are more valid_."
   ]
  },
  {
   "cell_type": "code",
   "execution_count": 67,
   "metadata": {
    "execution": {
     "iopub.execute_input": "2025-01-16T09:54:11.399654Z",
     "iopub.status.busy": "2025-01-16T09:54:11.399522Z",
     "iopub.status.idle": "2025-01-16T09:54:11.401313Z",
     "shell.execute_reply": "2025-01-16T09:54:11.401034Z"
    },
    "slideshow": {
     "slide_type": "skip"
    }
   },
   "outputs": [],
   "source": [
    "import math"
   ]
  },
  {
   "cell_type": "code",
   "execution_count": 68,
   "metadata": {
    "execution": {
     "iopub.execute_input": "2025-01-16T09:54:11.403094Z",
     "iopub.status.busy": "2025-01-16T09:54:11.402973Z",
     "iopub.status.idle": "2025-01-16T09:54:11.406064Z",
     "shell.execute_reply": "2025-01-16T09:54:11.405756Z"
    },
    "slideshow": {
     "slide_type": "subslide"
    }
   },
   "outputs": [],
   "source": [
    "class AFLSmartSchedule(PowerSchedule):\n",
    "    def __init__(self, parser: EarleyParser, exponent: float = 1.0):\n",
    "        self.parser = parser\n",
    "        self.exponent = exponent\n",
    "\n",
    "    def parsable(self, seed: Seed) -> str:\n",
    "        \"\"\"Returns the substring that is parsable\"\"\"\n",
    "        table = self.parser.chart_parse(seed.data, self.parser.start_symbol())\n",
    "        cols = [col for col in table if col.states]\n",
    "        return seed.data[:len(cols)-1]\n",
    "\n",
    "    def degree_of_validity(self, seed: Seed) -> float:\n",
    "        \"\"\"Returns the proportion of a seed that is parsable\"\"\"\n",
    "        if not hasattr(seed, 'validity'):\n",
    "            seed.validity = (len(self.parsable(seed)) / len(seed.data)  # type: ignore\n",
    "                             if len(seed.data) > 0 else 0)\n",
    "        return seed.validity  # type: ignore\n",
    "\n",
    "    def assignEnergy(self, population: Sequence[Seed]):\n",
    "        \"\"\"Assign exponential energy proportional to degree of validity\"\"\"\n",
    "        for seed in population:\n",
    "            seed.energy = ((self.degree_of_validity(seed) / math.log(len(seed.data))) ** self.exponent\n",
    "                           if len(seed.data) > 1 else 0)"
   ]
  },
  {
   "cell_type": "markdown",
   "metadata": {
    "slideshow": {
     "slide_type": "subslide"
    }
   },
   "source": [
    "Let's play with the degree of validity by passing in a valid seed ..."
   ]
  },
  {
   "cell_type": "code",
   "execution_count": 69,
   "metadata": {
    "execution": {
     "iopub.execute_input": "2025-01-16T09:54:11.407847Z",
     "iopub.status.busy": "2025-01-16T09:54:11.407745Z",
     "iopub.status.idle": "2025-01-16T09:54:11.414461Z",
     "shell.execute_reply": "2025-01-16T09:54:11.414212Z"
    },
    "slideshow": {
     "slide_type": "fragment"
    }
   },
   "outputs": [
    {
     "name": "stdout",
     "output_type": "stream",
     "text": [
      "Entire seed: <b>Text</b>\n",
      "   Parsable: <b>Text</b>\n"
     ]
    },
    {
     "data": {
      "text/plain": [
       "'Degree of validity: 100.00%'"
      ]
     },
     "execution_count": 69,
     "metadata": {},
     "output_type": "execute_result"
    }
   ],
   "source": [
    "smart_schedule = AFLSmartSchedule(parser)\n",
    "print(\"%11s: %s\" % (\"Entire seed\", simple_seed))\n",
    "print(\"%11s: %s\" % (\"Parsable\", smart_schedule.parsable(simple_seed)))\n",
    "\n",
    "\"Degree of validity: %0.2f%%\" % (100 * smart_schedule.degree_of_validity(simple_seed))"
   ]
  },
  {
   "cell_type": "markdown",
   "metadata": {
    "slideshow": {
     "slide_type": "fragment"
    }
   },
   "source": [
    "... and an invalid seed."
   ]
  },
  {
   "cell_type": "code",
   "execution_count": 70,
   "metadata": {
    "execution": {
     "iopub.execute_input": "2025-01-16T09:54:11.416450Z",
     "iopub.status.busy": "2025-01-16T09:54:11.416352Z",
     "iopub.status.idle": "2025-01-16T09:54:11.427246Z",
     "shell.execute_reply": "2025-01-16T09:54:11.426879Z"
    },
    "slideshow": {
     "slide_type": "subslide"
    }
   },
   "outputs": [
    {
     "name": "stdout",
     "output_type": "stream",
     "text": [
      "Entire seed: <html><body><i>World</i><br/>>/body></html>\n",
      "   Parsable: <html><body><i>World</i><br/>\n"
     ]
    },
    {
     "data": {
      "text/plain": [
       "'Degree of validity: 67.44%'"
      ]
     },
     "execution_count": 70,
     "metadata": {},
     "output_type": "execute_result"
    }
   ],
   "source": [
    "print(\"%11s: %s\" % (\"Entire seed\", invalid_seed))\n",
    "print(\"%11s: %s\" % (\"Parsable\", smart_schedule.parsable(invalid_seed)))\n",
    "\n",
    "\"Degree of validity: %0.2f%%\" % (100 * smart_schedule.degree_of_validity(invalid_seed))"
   ]
  },
  {
   "cell_type": "markdown",
   "metadata": {
    "slideshow": {
     "slide_type": "fragment"
    }
   },
   "source": [
    "Excellent. We can compute the degree of validity as the proportion of the string that can be parsed. \n",
    "\n",
    "Let's plug the validity-based power schedule into the structure-aware greybox fuzzer."
   ]
  },
  {
   "cell_type": "code",
   "execution_count": 71,
   "metadata": {
    "execution": {
     "iopub.execute_input": "2025-01-16T09:54:11.429581Z",
     "iopub.status.busy": "2025-01-16T09:54:11.429450Z",
     "iopub.status.idle": "2025-01-16T09:54:37.596163Z",
     "shell.execute_reply": "2025-01-16T09:54:37.595902Z"
    },
    "slideshow": {
     "slide_type": "subslide"
    }
   },
   "outputs": [
    {
     "name": "stderr",
     "output_type": "stream",
     "text": [
      "Exception ignored in: <bound method IPythonKernel._clean_thread_parent_frames of <ipykernel.ipkernel.IPythonKernel object at 0x103912720>>\n",
      "Traceback (most recent call last):\n",
      "  File \"/Users/zeller/.local/lib/python3.12/site-packages/ipykernel/ipkernel.py\", line 775, in _clean_thread_parent_frames\n",
      "    def _clean_thread_parent_frames(\n",
      "\n",
      "  File \"Timeout.ipynb\", line 43, in timeout_handler\n",
      "    }\n",
      "      \n",
      "TimeoutError: \n",
      "Exception ignored in: <bound method IPythonKernel._clean_thread_parent_frames of <ipykernel.ipkernel.IPythonKernel object at 0x103912720>>\n",
      "Traceback (most recent call last):\n",
      "  File \"/Users/zeller/.local/lib/python3.12/site-packages/ipykernel/ipkernel.py\", line 775, in _clean_thread_parent_frames\n",
      "    def _clean_thread_parent_frames(\n",
      "\n",
      "  File \"Timeout.ipynb\", line 43, in timeout_handler\n",
      "    }\n",
      "      \n",
      "TimeoutError: \n",
      "Exception ignored in: <bound method IPythonKernel._clean_thread_parent_frames of <ipykernel.ipkernel.IPythonKernel object at 0x103912720>>\n",
      "Traceback (most recent call last):\n",
      "  File \"/Users/zeller/.local/lib/python3.12/site-packages/ipykernel/ipkernel.py\", line 775, in _clean_thread_parent_frames\n",
      "    def _clean_thread_parent_frames(\n",
      "\n",
      "  File \"Timeout.ipynb\", line 43, in timeout_handler\n",
      "    }\n",
      "      \n",
      "TimeoutError: \n"
     ]
    },
    {
     "data": {
      "text/plain": [
       "'It took AFLSmart 26.16 seconds to generate and execute 300 inputs.'"
      ]
     },
     "execution_count": 71,
     "metadata": {},
     "output_type": "execute_result"
    }
   ],
   "source": [
    "runner = FunctionCoverageRunner(my_parser)\n",
    "byte_mutator = Mutator()\n",
    "tree_mutator = RegionMutator(EarleyParser(XML_GRAMMAR, tokens=XML_TOKENS))\n",
    "schedule = AFLSmartSchedule(parser)\n",
    "\n",
    "aflsmart_fuzzer = GreyboxGrammarFuzzer([valid_seed.data], byte_mutator, \n",
    "                                       tree_mutator, schedule)\n",
    "\n",
    "start = time.time()\n",
    "aflsmart_fuzzer.runs(runner, trials=n)\n",
    "end = time.time()\n",
    "\n",
    "\"It took AFLSmart %0.2f seconds to generate and execute %d inputs.\" % (end - start, n)"
   ]
  },
  {
   "cell_type": "code",
   "execution_count": 72,
   "metadata": {
    "execution": {
     "iopub.execute_input": "2025-01-16T09:54:37.597735Z",
     "iopub.status.busy": "2025-01-16T09:54:37.597624Z",
     "iopub.status.idle": "2025-01-16T09:54:39.143502Z",
     "shell.execute_reply": "2025-01-16T09:54:39.143227Z"
    },
    "slideshow": {
     "slide_type": "subslide"
    }
   },
   "outputs": [
    {
     "name": "stdout",
     "output_type": "stream",
     "text": [
      "From the 300 generated inputs, 9 (3.00%) can be parsed.\n",
      "In total, 159 statements are covered.\n",
      "On average, 22.6% of a seed in the population can be successfully parsed.\n"
     ]
    }
   ],
   "source": [
    "print_more_stats(aflsmart_fuzzer, parser)"
   ]
  },
  {
   "attachments": {},
   "cell_type": "markdown",
   "metadata": {
    "slideshow": {
     "slide_type": "subslide"
    }
   },
   "source": [
    "***Summary***. Indeed, by spending more time fuzzing seeds with a higher degree of validity, we also generate inputs with a higher degree of validity. More inputs are entirely valid w.r.t. the given grammar.\n",
    "\n",
    "***Read up***. Learn more about region-based fuzzing, deferred parsing, and validity-based schedules in the original AFLSmart paper: \"[Smart Greybox Fuzzing](https://arxiv.org/abs/1811.09447)\" by Pham and co-authors. Download and improve AFLSmart: [https://github.com/aflsmart/aflsmart](https://github.com/aflsmart/aflsmart)."
   ]
  },
  {
   "cell_type": "markdown",
   "metadata": {
    "slideshow": {
     "slide_type": "slide"
    }
   },
   "source": [
    "## Mining Seeds\n",
    "\n",
    "By now, it should have become clear that the _choice of seeds_ can very much influence the success of fuzzing.  One aspect is _variability_ – our seeds should cover as many different features as possible in order to increase coverage.  Another aspect, however, is the _likelihood of a seed to induce errors_ – that is, if a seed was involved in causing a failure before, then a mutation of this very seed may be likely to induce failures again.  This is because fixes for past failures typically are successful in letting the concrete failure no longer occur, but sometimes may fail to capture all conditions under which a failure may occur.  Hence, even if the original failure is fixed, the likelihood of an error in the _surroundings_ of the original failure-inducing input is still higher.  It thus pays off to use as seeds _inputs that are known to have caused failures before_.\n",
    "\n",
    "To put things in context, Holler's _LangFuzz_ fuzzer used as seeds JavaScript inputs from CVE reports.  These were published as failure-inducing inputs at a time when the error already had been fixed; thus they could do no harm anymore.  Yet, by using such inputs as seeds, LangFuzz would create plenty of mutations and recombinations of all their features, many of which would (and do) find errors again and again."
   ]
  },
  {
   "cell_type": "markdown",
   "metadata": {
    "button": false,
    "new_sheet": true,
    "run_control": {
     "read_only": false
    },
    "slideshow": {
     "slide_type": "slide"
    }
   },
   "source": [
    "## Lessons Learned\n",
    "\n",
    "* A **dictionary** is useful to inject important keywords into the generated inputs.\n",
    "\n",
    "* **Fragment-based mutation** first disassembles seeds into fragments, and reassembles these fragments to generate new inputs. A *fragment* is a subtree in the seed's parse tree. However, fragment-based mutation requires that the seeds can be parsed successfully, which may not be true for seeds discovered by a coverage-based greybox fuzzer.\n",
    "\n",
    "* **Region-based mutation** marks regions in the input as belonging to a certain symbol in the grammar. For instance, it may identify a substring '</a>' as closing tag. These regions can then be deleted or substituted by fragments or regions belonging to the same symbol. Unlike fragment-based mutation, region-based mutation is applicable to *all* seeds - even those that can be parsed only partially. However, the degree of validity is still quite low for the generated inputs.\n",
    "\n",
    "* A **validity-based power schedule** invests more energy into seeds with a higher degree of validity. The inputs that are generated also have a higher degree of validity.\n",
    "\n",
    "* **Mining seeds** from repositories of previous failure-inducing inputs results in input fragments associated with past failures, raising the likelihood to find more failures in the vicinity."
   ]
  },
  {
   "cell_type": "markdown",
   "metadata": {
    "slideshow": {
     "slide_type": "slide"
    },
    "tags": []
   },
   "source": [
    "## Background\n",
    "\n",
    "This chapter builds on the following two works:\n",
    "\n",
    "* The _LangFuzz_ fuzzer \\cite{Holler2012} is an efficient (and effective!) grammar-based fuzzer for (mostly) JavaScript.  It uses the grammar for parsing seeds and recombining their inputs with generated parts and found 2,600 bugs in JavaScript interpreters to date.\n",
    "\n",
    "* Smart greybox fuzzing ([AFLSmart](https://github.com/aflsmart/aflsmart)) brings together coverage-based fuzzing and grammar-based (structural) fuzzing, as described in \\cite{Pham2018aflsmart}.  The resulting AFLSMART tool has discovered 42 zero-day vulnerabilities in widely-used, well-tested tools and libraries; so far 17 CVEs were assigned."
   ]
  },
  {
   "attachments": {},
   "cell_type": "markdown",
   "metadata": {
    "slideshow": {
     "slide_type": "slide"
    },
    "tags": []
   },
   "source": [
    "Recent fuzzing work also brings together grammar-based fuzzing and coverage.\n",
    "\n",
    "* _Superion_ \\cite{Wang2019superion} is equivalent to our section \"Integration with Greybox Fuzzing\", as above – that is, a combination of LangFuzz and Greybox Fuzzing, but no AFL-style byte-level mutation.  Superion can improve the code coverage (i.e., 16.7% and 8.8% in line and function coverage) and bug-finding capability over AFL and jsfunfuzz.  According to the authors, they found 30 new bugs, among which they discovered 21 new vulnerabilities with 16 CVEs assigned and 3.2K USD bug bounty rewards received.\n",
    "\n",
    "* _Nautilus_ \\cite{Aschermann2019nautilus} also combines grammar-based fuzzing with coverage feedback.  It maintains the parse tree for all seeds and generated inputs. To allow AFL-style byte-level mutations, it \"collapses\" subtrees back to byte-level representations.  This has the advantage of not having to re-parse generated seeds; however, over time, Nautilus degenerates to structure-unaware greybox fuzzing because it does not re-parse collapsed subtrees to reconstitute input structure for later seeds where most of the parse tree is collapsed.  Nautilus identified bugs in mruby, PHP, ChakraCore, and in Lua; reporting these bugs was awarded with a sum of 2600 USD and 6 CVEs were assigned.\n",
    "\n",
    "* [FormatFuzzer](https://uds-se.github.io/FormatFuzzer/) is a framework for high-efficiency, high-quality generation and parsing of binary inputs. It takes a binary template that describes the format of a binary input and generates an executable that produces and parses the given binary format. From a binary template for GIF, for instance, FormatFuzzer produces a GIF generator - also known as GIF fuzzer. Generators produced by FormatFuzzer are highly efficient, producing thousands of valid test inputs per second. FormatFuzzer operates in black-box settings, but can also integrate with AFL to produce valid inputs that also aim for maximum coverage."
   ]
  },
  {
   "cell_type": "markdown",
   "metadata": {
    "slideshow": {
     "slide_type": "slide"
    },
    "tags": []
   },
   "source": [
    "## Synopsis\n",
    "\n",
    "This chapter introduces advanced methods for language-based grey-box fuzzing inspired by the _LangFuzz_ and _AFLSmart_ fuzzers."
   ]
  },
  {
   "attachments": {},
   "cell_type": "markdown",
   "metadata": {
    "slideshow": {
     "slide_type": "subslide"
    }
   },
   "source": [
    "### Fuzzing with Dictionaries\n",
    "\n",
    "Rather than mutating strings randomly, the `DictMutator` class allows inserting tokens from a dictionary, thus increasing fuzzer performance. The dictionary comes as a list of strings, out of which random elements are picked and inserted - in addition to the given mutations such as deleting or inserting individual bytes."
   ]
  },
  {
   "cell_type": "code",
   "execution_count": 73,
   "metadata": {
    "execution": {
     "iopub.execute_input": "2025-01-16T09:54:39.145597Z",
     "iopub.status.busy": "2025-01-16T09:54:39.145478Z",
     "iopub.status.idle": "2025-01-16T09:54:39.147458Z",
     "shell.execute_reply": "2025-01-16T09:54:39.147142Z"
    },
    "slideshow": {
     "slide_type": "fragment"
    }
   },
   "outputs": [],
   "source": [
    "dict_mutator = DictMutator([\"<a>\", \"</a>\", \"<a/>\", \"='a'\"])"
   ]
  },
  {
   "cell_type": "code",
   "execution_count": 74,
   "metadata": {
    "execution": {
     "iopub.execute_input": "2025-01-16T09:54:39.149076Z",
     "iopub.status.busy": "2025-01-16T09:54:39.148971Z",
     "iopub.status.idle": "2025-01-16T09:54:39.150855Z",
     "shell.execute_reply": "2025-01-16T09:54:39.150613Z"
    },
    "slideshow": {
     "slide_type": "subslide"
    }
   },
   "outputs": [
    {
     "name": "stdout",
     "output_type": "stream",
     "text": [
      "<html><head><title>Hello</title></head><body>World<br/>>/body></html>\n",
      "<html><head><title>Hello</title></head><body>World<br/></body></ht7ml>\n",
      "<html><head><title>Hello</title></hgad><body>World<br/></body></html>\n",
      "<html><head><title>Hello</title></head><body>World<br/<a/>></body></html>\n",
      "<html><head><title>Hello</title></head><body>World<br+></body></html>\n",
      "<html><head><title>Hello</title></qhead><body>World<br/></body></html>\n",
      "<html><head><title>Hello</title></head><body>World<br='a'/></body></html>\n",
      "<html><head><title>Hello</title></head><body>Wormd<br/></body></html>\n",
      "<html><head><title>Hello</title></head><body>Wyorld<br/></body></html>\n",
      "<html><head><title>Hello<</a>/title></head><body>World<br/></body></html>\n"
     ]
    }
   ],
   "source": [
    "seeds = [\"<html><head><title>Hello</title></head><body>World<br/></body></html>\"]\n",
    "for i in range(10):\n",
    "    print(dict_mutator.mutate(seeds[0]))"
   ]
  },
  {
   "cell_type": "markdown",
   "metadata": {
    "slideshow": {
     "slide_type": "fragment"
    }
   },
   "source": [
    "This `DictMutator` can be used as an argument to `GreyboxFuzzer`:"
   ]
  },
  {
   "cell_type": "code",
   "execution_count": 75,
   "metadata": {
    "execution": {
     "iopub.execute_input": "2025-01-16T09:54:39.152464Z",
     "iopub.status.busy": "2025-01-16T09:54:39.152357Z",
     "iopub.status.idle": "2025-01-16T09:54:39.169426Z",
     "shell.execute_reply": "2025-01-16T09:54:39.169060Z"
    },
    "slideshow": {
     "slide_type": "subslide"
    }
   },
   "outputs": [],
   "source": [
    "runner = FunctionCoverageRunner(my_parser)\n",
    "dict_fuzzer = GreyboxFuzzer(seeds, dict_mutator, PowerSchedule())"
   ]
  },
  {
   "cell_type": "code",
   "execution_count": 76,
   "metadata": {
    "execution": {
     "iopub.execute_input": "2025-01-16T09:54:39.171035Z",
     "iopub.status.busy": "2025-01-16T09:54:39.170949Z",
     "iopub.status.idle": "2025-01-16T09:54:39.174959Z",
     "shell.execute_reply": "2025-01-16T09:54:39.174645Z"
    },
    "slideshow": {
     "slide_type": "fragment"
    }
   },
   "outputs": [],
   "source": [
    "dict_fuzzer_outcome = dict_fuzzer.runs(runner, trials=5)"
   ]
  },
  {
   "cell_type": "code",
   "execution_count": 77,
   "metadata": {
    "execution": {
     "iopub.execute_input": "2025-01-16T09:54:39.176695Z",
     "iopub.status.busy": "2025-01-16T09:54:39.176581Z",
     "iopub.status.idle": "2025-01-16T09:54:39.178362Z",
     "shell.execute_reply": "2025-01-16T09:54:39.178072Z"
    },
    "slideshow": {
     "slide_type": "fragment"
    }
   },
   "outputs": [],
   "source": [
    "# ignore\n",
    "from ClassDiagram import display_class_hierarchy\n",
    "from Coverage import Location  # minor dependency"
   ]
  },
  {
   "cell_type": "code",
   "execution_count": 78,
   "metadata": {
    "execution": {
     "iopub.execute_input": "2025-01-16T09:54:39.180055Z",
     "iopub.status.busy": "2025-01-16T09:54:39.179958Z",
     "iopub.status.idle": "2025-01-16T09:54:40.048999Z",
     "shell.execute_reply": "2025-01-16T09:54:40.048532Z"
    },
    "slideshow": {
     "slide_type": "subslide"
    }
   },
   "outputs": [
    {
     "data": {
      "image/svg+xml": [
       "<?xml version=\"1.0\" encoding=\"UTF-8\" standalone=\"no\"?>\n",
       "<!DOCTYPE svg PUBLIC \"-//W3C//DTD SVG 1.1//EN\"\n",
       " \"http://www.w3.org/Graphics/SVG/1.1/DTD/svg11.dtd\">\n",
       "<!-- Generated by graphviz version 12.2.1 (20241206.2353)\n",
       " -->\n",
       "<!-- Pages: 1 -->\n",
       "<svg width=\"306pt\" height=\"152pt\"\n",
       " viewBox=\"0.00 0.00 305.62 152.25\" xmlns=\"http://www.w3.org/2000/svg\" xmlns:xlink=\"http://www.w3.org/1999/xlink\">\n",
       "<g id=\"graph0\" class=\"graph\" transform=\"scale(1 1) rotate(0) translate(4 148.25)\">\n",
       "<g id=\"a_graph0\"><a xlink:title=\"DictMutator class hierarchy\">\n",
       "<polygon fill=\"white\" stroke=\"none\" points=\"-4,4 -4,-148.25 301.62,-148.25 301.62,4 -4,4\"/>\n",
       "</a>\n",
       "</g>\n",
       "<!-- DictMutator -->\n",
       "<g id=\"node1\" class=\"node\">\n",
       "<title>DictMutator</title>\n",
       "<g id=\"a_node1\"><a xlink:href=\"#\" xlink:title=\"class DictMutator:&#10;Mutate strings using keywords from a dictionary\">\n",
       "<polygon fill=\"none\" stroke=\"black\" points=\"0,-0.5 0,-60 160,-60 160,-0.5 0,-0.5\"/>\n",
       "<text text-anchor=\"start\" x=\"42.12\" y=\"-43.7\" font-family=\"Patua One, Helvetica, sans-serif\" font-weight=\"bold\" font-size=\"14.00\" fill=\"#b03a2e\">DictMutator</text>\n",
       "<polyline fill=\"none\" stroke=\"black\" points=\"0,-34 160,-34\"/>\n",
       "<g id=\"a_node1_0\"><a xlink:href=\"#\" xlink:title=\"DictMutator\">\n",
       "<g id=\"a_node1_1\"><a xlink:href=\"#\" xlink:title=\"__init__(self, dictionary: List[str]) &#45;&gt; None:&#10;Constructor. `dictionary` is the list of keywords to use.\">\n",
       "<text text-anchor=\"start\" x=\"8\" y=\"-21.5\" font-family=\"'Fira Mono', 'Source Code Pro', 'Courier', monospace\" font-weight=\"bold\" font-style=\"italic\" font-size=\"10.00\">__init__()</text>\n",
       "</a>\n",
       "</g>\n",
       "<g id=\"a_node1_2\"><a xlink:href=\"#\" xlink:title=\"insert_from_dictionary(self, s: str) &#45;&gt; str:&#10;Returns s with a keyword from the dictionary inserted\">\n",
       "<text text-anchor=\"start\" x=\"8\" y=\"-7.75\" font-family=\"'Fira Mono', 'Source Code Pro', 'Courier', monospace\" font-size=\"10.00\">insert_from_dictionary()</text>\n",
       "</a>\n",
       "</g>\n",
       "</a>\n",
       "</g>\n",
       "</a>\n",
       "</g>\n",
       "</g>\n",
       "<!-- Mutator -->\n",
       "<g id=\"node2\" class=\"node\">\n",
       "<title>Mutator</title>\n",
       "<g id=\"a_node2\"><a xlink:href=\"GreyboxFuzzer.ipynb\" xlink:title=\"class Mutator:&#10;Mutate strings\">\n",
       "<polygon fill=\"none\" stroke=\"black\" points=\"42,-97 42,-143.75 118,-143.75 118,-97 42,-97\"/>\n",
       "<text text-anchor=\"start\" x=\"54.12\" y=\"-127.45\" font-family=\"Patua One, Helvetica, sans-serif\" font-weight=\"bold\" font-size=\"14.00\" fill=\"#b03a2e\">Mutator</text>\n",
       "<polyline fill=\"none\" stroke=\"black\" points=\"42,-117.75 118,-117.75\"/>\n",
       "<g id=\"a_node2_3\"><a xlink:href=\"#\" xlink:title=\"Mutator\">\n",
       "<g id=\"a_node2_4\"><a xlink:href=\"GreyboxFuzzer.ipynb\" xlink:title=\"__init__(self) &#45;&gt; None:&#10;Constructor\">\n",
       "<text text-anchor=\"start\" x=\"50\" y=\"-105.25\" font-family=\"'Fira Mono', 'Source Code Pro', 'Courier', monospace\" font-weight=\"bold\" font-style=\"italic\" font-size=\"10.00\">__init__()</text>\n",
       "</a>\n",
       "</g>\n",
       "</a>\n",
       "</g>\n",
       "</a>\n",
       "</g>\n",
       "</g>\n",
       "<!-- DictMutator&#45;&gt;Mutator -->\n",
       "<g id=\"edge1\" class=\"edge\">\n",
       "<title>DictMutator&#45;&gt;Mutator</title>\n",
       "<path fill=\"none\" stroke=\"black\" d=\"M80,-60.11C80,-68.16 80,-76.98 80,-85.3\"/>\n",
       "<polygon fill=\"none\" stroke=\"black\" points=\"76.5,-85.09 80,-95.09 83.5,-85.09 76.5,-85.09\"/>\n",
       "</g>\n",
       "<!-- Legend -->\n",
       "<g id=\"node3\" class=\"node\">\n",
       "<title>Legend</title>\n",
       "<text text-anchor=\"start\" x=\"178.38\" y=\"-46.25\" font-family=\"Patua One, Helvetica, sans-serif\" font-weight=\"bold\" font-size=\"10.00\" fill=\"#b03a2e\">Legend</text>\n",
       "<text text-anchor=\"start\" x=\"178.38\" y=\"-36.25\" font-family=\"Patua One, Helvetica, sans-serif\" font-size=\"10.00\">• </text>\n",
       "<text text-anchor=\"start\" x=\"184.38\" y=\"-36.25\" font-family=\"'Fira Mono', 'Source Code Pro', 'Courier', monospace\" font-weight=\"bold\" font-size=\"8.00\">public_method()</text>\n",
       "<text text-anchor=\"start\" x=\"178.38\" y=\"-26.25\" font-family=\"Patua One, Helvetica, sans-serif\" font-size=\"10.00\">• </text>\n",
       "<text text-anchor=\"start\" x=\"184.38\" y=\"-26.25\" font-family=\"'Fira Mono', 'Source Code Pro', 'Courier', monospace\" font-size=\"8.00\">private_method()</text>\n",
       "<text text-anchor=\"start\" x=\"178.38\" y=\"-16.25\" font-family=\"Patua One, Helvetica, sans-serif\" font-size=\"10.00\">• </text>\n",
       "<text text-anchor=\"start\" x=\"184.38\" y=\"-16.25\" font-family=\"'Fira Mono', 'Source Code Pro', 'Courier', monospace\" font-style=\"italic\" font-size=\"8.00\">overloaded_method()</text>\n",
       "<text text-anchor=\"start\" x=\"178.38\" y=\"-7.2\" font-family=\"Helvetica,sans-Serif\" font-size=\"9.00\">Hover over names to see doc</text>\n",
       "</g>\n",
       "</g>\n",
       "</svg>\n"
      ],
      "text/html": [
       "<?xml version=\"1.0\" encoding=\"UTF-8\" standalone=\"no\"?>\n",
       "<!DOCTYPE svg PUBLIC \"-//W3C//DTD SVG 1.1//EN\"\n",
       " \"http://www.w3.org/Graphics/SVG/1.1/DTD/svg11.dtd\">\n",
       "<!-- Generated by graphviz version 12.2.1 (20241206.2353)\n",
       " -->\n",
       "<!-- Pages: 1 -->\n",
       "<svg width=\"306pt\" height=\"152pt\"\n",
       " viewBox=\"0.00 0.00 305.62 152.25\" xmlns=\"http://www.w3.org/2000/svg\" xmlns:xlink=\"http://www.w3.org/1999/xlink\">\n",
       "<g id=\"graph0\" class=\"graph\" transform=\"scale(1 1) rotate(0) translate(4 148.25)\">\n",
       "<g id=\"a_graph0\"><a xlink:title=\"DictMutator class hierarchy\">\n",
       "<polygon fill=\"white\" stroke=\"none\" points=\"-4,4 -4,-148.25 301.62,-148.25 301.62,4 -4,4\"/>\n",
       "</a>\n",
       "</g>\n",
       "<!-- DictMutator -->\n",
       "<g id=\"node1\" class=\"node\">\n",
       "<title>DictMutator</title>\n",
       "<g id=\"a_node1\"><a xlink:href=\"#\" xlink:title=\"class DictMutator:&#10;Mutate strings using keywords from a dictionary\">\n",
       "<polygon fill=\"none\" stroke=\"black\" points=\"0,-0.5 0,-60 160,-60 160,-0.5 0,-0.5\"/>\n",
       "<text text-anchor=\"start\" x=\"42.12\" y=\"-43.7\" font-family=\"Patua One, Helvetica, sans-serif\" font-weight=\"bold\" font-size=\"14.00\" fill=\"#b03a2e\">DictMutator</text>\n",
       "<polyline fill=\"none\" stroke=\"black\" points=\"0,-34 160,-34\"/>\n",
       "<g id=\"a_node1_0\"><a xlink:href=\"#\" xlink:title=\"DictMutator\">\n",
       "<g id=\"a_node1_1\"><a xlink:href=\"#\" xlink:title=\"__init__(self, dictionary: List[str]) &#45;&gt; None:&#10;Constructor. `dictionary` is the list of keywords to use.\">\n",
       "<text text-anchor=\"start\" x=\"8\" y=\"-21.5\" font-family=\"'Fira Mono', 'Source Code Pro', 'Courier', monospace\" font-weight=\"bold\" font-style=\"italic\" font-size=\"10.00\">__init__()</text>\n",
       "</a>\n",
       "</g>\n",
       "<g id=\"a_node1_2\"><a xlink:href=\"#\" xlink:title=\"insert_from_dictionary(self, s: str) &#45;&gt; str:&#10;Returns s with a keyword from the dictionary inserted\">\n",
       "<text text-anchor=\"start\" x=\"8\" y=\"-7.75\" font-family=\"'Fira Mono', 'Source Code Pro', 'Courier', monospace\" font-size=\"10.00\">insert_from_dictionary()</text>\n",
       "</a>\n",
       "</g>\n",
       "</a>\n",
       "</g>\n",
       "</a>\n",
       "</g>\n",
       "</g>\n",
       "<!-- Mutator -->\n",
       "<g id=\"node2\" class=\"node\">\n",
       "<title>Mutator</title>\n",
       "<g id=\"a_node2\"><a xlink:href=\"GreyboxFuzzer.ipynb\" xlink:title=\"class Mutator:&#10;Mutate strings\">\n",
       "<polygon fill=\"none\" stroke=\"black\" points=\"42,-97 42,-143.75 118,-143.75 118,-97 42,-97\"/>\n",
       "<text text-anchor=\"start\" x=\"54.12\" y=\"-127.45\" font-family=\"Patua One, Helvetica, sans-serif\" font-weight=\"bold\" font-size=\"14.00\" fill=\"#b03a2e\">Mutator</text>\n",
       "<polyline fill=\"none\" stroke=\"black\" points=\"42,-117.75 118,-117.75\"/>\n",
       "<g id=\"a_node2_3\"><a xlink:href=\"#\" xlink:title=\"Mutator\">\n",
       "<g id=\"a_node2_4\"><a xlink:href=\"GreyboxFuzzer.ipynb\" xlink:title=\"__init__(self) &#45;&gt; None:&#10;Constructor\">\n",
       "<text text-anchor=\"start\" x=\"50\" y=\"-105.25\" font-family=\"'Fira Mono', 'Source Code Pro', 'Courier', monospace\" font-weight=\"bold\" font-style=\"italic\" font-size=\"10.00\">__init__()</text>\n",
       "</a>\n",
       "</g>\n",
       "</a>\n",
       "</g>\n",
       "</a>\n",
       "</g>\n",
       "</g>\n",
       "<!-- DictMutator&#45;&gt;Mutator -->\n",
       "<g id=\"edge1\" class=\"edge\">\n",
       "<title>DictMutator&#45;&gt;Mutator</title>\n",
       "<path fill=\"none\" stroke=\"black\" d=\"M80,-60.11C80,-68.16 80,-76.98 80,-85.3\"/>\n",
       "<polygon fill=\"none\" stroke=\"black\" points=\"76.5,-85.09 80,-95.09 83.5,-85.09 76.5,-85.09\"/>\n",
       "</g>\n",
       "<!-- Legend -->\n",
       "<g id=\"node3\" class=\"node\">\n",
       "<title>Legend</title>\n",
       "<text text-anchor=\"start\" x=\"178.38\" y=\"-46.25\" font-family=\"Patua One, Helvetica, sans-serif\" font-weight=\"bold\" font-size=\"10.00\" fill=\"#b03a2e\">Legend</text>\n",
       "<text text-anchor=\"start\" x=\"178.38\" y=\"-36.25\" font-family=\"Patua One, Helvetica, sans-serif\" font-size=\"10.00\">• </text>\n",
       "<text text-anchor=\"start\" x=\"184.38\" y=\"-36.25\" font-family=\"'Fira Mono', 'Source Code Pro', 'Courier', monospace\" font-weight=\"bold\" font-size=\"8.00\">public_method()</text>\n",
       "<text text-anchor=\"start\" x=\"178.38\" y=\"-26.25\" font-family=\"Patua One, Helvetica, sans-serif\" font-size=\"10.00\">• </text>\n",
       "<text text-anchor=\"start\" x=\"184.38\" y=\"-26.25\" font-family=\"'Fira Mono', 'Source Code Pro', 'Courier', monospace\" font-size=\"8.00\">private_method()</text>\n",
       "<text text-anchor=\"start\" x=\"178.38\" y=\"-16.25\" font-family=\"Patua One, Helvetica, sans-serif\" font-size=\"10.00\">• </text>\n",
       "<text text-anchor=\"start\" x=\"184.38\" y=\"-16.25\" font-family=\"'Fira Mono', 'Source Code Pro', 'Courier', monospace\" font-style=\"italic\" font-size=\"8.00\">overloaded_method()</text>\n",
       "<text text-anchor=\"start\" x=\"178.38\" y=\"-7.2\" font-family=\"Helvetica,sans-Serif\" font-size=\"9.00\">Hover over names to see doc</text>\n",
       "</g>\n",
       "</g>\n",
       "</svg>\n"
      ],
      "text/plain": [
       "<graphviz.graphs.Digraph at 0x10a63ede0>"
      ]
     },
     "execution_count": 78,
     "metadata": {},
     "output_type": "execute_result"
    }
   ],
   "source": [
    "# ignore\n",
    "display_class_hierarchy([DictMutator],\n",
    "                        public_methods=[\n",
    "                            Mutator.__init__,\n",
    "                            DictMutator.__init__,\n",
    "                        ],\n",
    "                        types={'DerivationTree': DerivationTree,\n",
    "                               'Location': Location},\n",
    "                        project='fuzzingbook')"
   ]
  },
  {
   "cell_type": "markdown",
   "metadata": {
    "slideshow": {
     "slide_type": "subslide"
    }
   },
   "source": [
    "### Fuzzing with Input Fragments\n",
    "\n",
    "The `LangFuzzer` class introduces a _language-aware_ fuzzer that can recombine fragments from existing inputs – inspired by the highly effective `LangFuzz` fuzzer. At its core is a `FragmentMutator` class that that takes a [_parser_](Parser.ipynb) as argument:"
   ]
  },
  {
   "cell_type": "code",
   "execution_count": 79,
   "metadata": {
    "execution": {
     "iopub.execute_input": "2025-01-16T09:54:40.050852Z",
     "iopub.status.busy": "2025-01-16T09:54:40.050715Z",
     "iopub.status.idle": "2025-01-16T09:54:40.053159Z",
     "shell.execute_reply": "2025-01-16T09:54:40.052876Z"
    },
    "slideshow": {
     "slide_type": "fragment"
    }
   },
   "outputs": [],
   "source": [
    "parser = EarleyParser(XML_GRAMMAR, tokens=XML_TOKENS)\n",
    "mutator = FragmentMutator(parser)"
   ]
  },
  {
   "cell_type": "markdown",
   "metadata": {
    "slideshow": {
     "slide_type": "fragment"
    }
   },
   "source": [
    "The fuzzer itself is initialized with a list of seeds, the above `FragmentMutator`, and a power schedule:"
   ]
  },
  {
   "cell_type": "code",
   "execution_count": 80,
   "metadata": {
    "execution": {
     "iopub.execute_input": "2025-01-16T09:54:40.054756Z",
     "iopub.status.busy": "2025-01-16T09:54:40.054650Z",
     "iopub.status.idle": "2025-01-16T09:54:40.058768Z",
     "shell.execute_reply": "2025-01-16T09:54:40.058450Z"
    },
    "slideshow": {
     "slide_type": "fragment"
    }
   },
   "outputs": [],
   "source": [
    "seeds = [\"<html><head><title>Hello</title></head><body>World<br/></body></html>\"]\n",
    "schedule = PowerSchedule()\n",
    "lang_fuzzer = LangFuzzer(seeds, mutator, schedule)"
   ]
  },
  {
   "cell_type": "code",
   "execution_count": 81,
   "metadata": {
    "execution": {
     "iopub.execute_input": "2025-01-16T09:54:40.060416Z",
     "iopub.status.busy": "2025-01-16T09:54:40.060328Z",
     "iopub.status.idle": "2025-01-16T09:54:46.938192Z",
     "shell.execute_reply": "2025-01-16T09:54:46.937905Z"
    },
    "slideshow": {
     "slide_type": "subslide"
    }
   },
   "outputs": [
    {
     "name": "stdout",
     "output_type": "stream",
     "text": [
      "<html><head><title>Hello</title></head><body>World<br/></body></html>\n",
      "<html><head><title>Hello</title></head>World<br/></body></html>\n",
      "<html>World<body>World<br/></body></html>\n",
      "<html><title>Hello</title></head><title>World<br/></body></html>\n",
      "<html><head><title><head>World</head></title></head>World<br/></body></html>\n",
      "<html><body>World<br/></body><body>World<br/></body></html>\n"
     ]
    },
    {
     "name": "stderr",
     "output_type": "stream",
     "text": [
      "Exception ignored in: <bound method IPythonKernel._clean_thread_parent_frames of <ipykernel.ipkernel.IPythonKernel object at 0x103912720>>\n",
      "Traceback (most recent call last):\n",
      "  File \"/Users/zeller/.local/lib/python3.12/site-packages/ipykernel/ipkernel.py\", line 775, in _clean_thread_parent_frames\n",
      "    def _clean_thread_parent_frames(\n",
      "\n",
      "  File \"Timeout.ipynb\", line 43, in timeout_handler\n",
      "    }\n",
      "      \n",
      "TimeoutError: \n"
     ]
    },
    {
     "name": "stdout",
     "output_type": "stream",
     "text": [
      "<html><body>WorldHello</body>\n"
     ]
    },
    {
     "name": "stderr",
     "output_type": "stream",
     "text": [
      "Exception ignored in: <bound method IPythonKernel._clean_thread_parent_frames of <ipykernel.ipkernel.IPythonKernel object at 0x103912720>>\n",
      "Traceback (most recent call last):\n",
      "  File \"/Users/zeller/.local/lib/python3.12/site-packages/ipykernel/ipkernel.py\", line 775, in _clean_thread_parent_frames\n",
      "    def _clean_thread_parent_frames(\n",
      "\n",
      "  File \"Timeout.ipynb\", line 43, in timeout_handler\n",
      "    }\n",
      "      \n",
      "TimeoutError: \n"
     ]
    },
    {
     "name": "stdout",
     "output_type": "stream",
     "text": [
      "<html><head><title>Hello</title></head><body><head><head>World</head></title></head><body>World<br/></body><br/></body></html>\n",
      "<html><head><title></title></head><body>World<br/></body></html>\n",
      "<html><head><title>Hello</title></head><body><head><title><head>World</head></title></head><body>World<br/></body><br/><br/></body></html>\n"
     ]
    }
   ],
   "source": [
    "for i in range(10):\n",
    "    print(lang_fuzzer.fuzz())"
   ]
  },
  {
   "cell_type": "code",
   "execution_count": 82,
   "metadata": {
    "execution": {
     "iopub.execute_input": "2025-01-16T09:54:46.940115Z",
     "iopub.status.busy": "2025-01-16T09:54:46.939977Z",
     "iopub.status.idle": "2025-01-16T09:54:47.744443Z",
     "shell.execute_reply": "2025-01-16T09:54:47.743948Z"
    },
    "slideshow": {
     "slide_type": "subslide"
    }
   },
   "outputs": [
    {
     "data": {
      "image/svg+xml": [
       "<?xml version=\"1.0\" encoding=\"UTF-8\" standalone=\"no\"?>\n",
       "<!DOCTYPE svg PUBLIC \"-//W3C//DTD SVG 1.1//EN\"\n",
       " \"http://www.w3.org/Graphics/SVG/1.1/DTD/svg11.dtd\">\n",
       "<!-- Generated by graphviz version 12.2.1 (20241206.2353)\n",
       " -->\n",
       "<!-- Pages: 1 -->\n",
       "<svg width=\"462pt\" height=\"389pt\"\n",
       " viewBox=\"0.00 0.00 461.88 389.00\" xmlns=\"http://www.w3.org/2000/svg\" xmlns:xlink=\"http://www.w3.org/1999/xlink\">\n",
       "<g id=\"graph0\" class=\"graph\" transform=\"scale(1 1) rotate(0) translate(4 385)\">\n",
       "<g id=\"a_graph0\"><a xlink:title=\"LangFuzzer class hierarchy\">\n",
       "<polygon fill=\"white\" stroke=\"none\" points=\"-4,4 -4,-385 457.88,-385 457.88,4 -4,4\"/>\n",
       "</a>\n",
       "</g>\n",
       "<!-- LangFuzzer -->\n",
       "<g id=\"node1\" class=\"node\">\n",
       "<title>LangFuzzer</title>\n",
       "<g id=\"a_node1\"><a xlink:href=\"#\" xlink:title=\"class LangFuzzer:&#10;Blackbox fuzzer mutating input fragments. Roughly based on `LangFuzz`.\">\n",
       "<polygon fill=\"none\" stroke=\"black\" points=\"26.25,-57.88 26.25,-104.62 150.25,-104.62 150.25,-57.88 26.25,-57.88\"/>\n",
       "<text text-anchor=\"start\" x=\"52.62\" y=\"-88.33\" font-family=\"Patua One, Helvetica, sans-serif\" font-weight=\"bold\" font-size=\"14.00\" fill=\"#b03a2e\">LangFuzzer</text>\n",
       "<polyline fill=\"none\" stroke=\"black\" points=\"26.25,-78.62 150.25,-78.62\"/>\n",
       "<g id=\"a_node1_0\"><a xlink:href=\"#\" xlink:title=\"LangFuzzer\">\n",
       "<g id=\"a_node1_1\"><a xlink:href=\"#\" xlink:title=\"create_candidate(self) &#45;&gt; GreyboxFuzzer.Seed:&#10;Returns an input generated by fuzzing a seed in the population\">\n",
       "<text text-anchor=\"start\" x=\"34.25\" y=\"-66.12\" font-family=\"'Fira Mono', 'Source Code Pro', 'Courier', monospace\" font-style=\"italic\" font-size=\"10.00\">create_candidate()</text>\n",
       "</a>\n",
       "</g>\n",
       "</a>\n",
       "</g>\n",
       "</a>\n",
       "</g>\n",
       "</g>\n",
       "<!-- AdvancedMutationFuzzer -->\n",
       "<g id=\"node2\" class=\"node\">\n",
       "<title>AdvancedMutationFuzzer</title>\n",
       "<g id=\"a_node2\"><a xlink:href=\"GreyboxFuzzer.ipynb\" xlink:title=\"class AdvancedMutationFuzzer:&#10;Base class for mutation&#45;based fuzzing.\">\n",
       "<polygon fill=\"none\" stroke=\"black\" points=\"0,-199 0,-258.5 176.5,-258.5 176.5,-199 0,-199\"/>\n",
       "<text text-anchor=\"start\" x=\"8\" y=\"-242.2\" font-family=\"Patua One, Helvetica, sans-serif\" font-weight=\"bold\" font-size=\"14.00\" fill=\"#b03a2e\">AdvancedMutationFuzzer</text>\n",
       "<polyline fill=\"none\" stroke=\"black\" points=\"0,-232.5 176.5,-232.5\"/>\n",
       "<g id=\"a_node2_2\"><a xlink:href=\"#\" xlink:title=\"AdvancedMutationFuzzer\">\n",
       "<g id=\"a_node2_3\"><a xlink:href=\"GreyboxFuzzer.ipynb\" xlink:title=\"__init__(self, seeds: List[str], mutator: GreyboxFuzzer.Mutator, schedule: GreyboxFuzzer.PowerSchedule) &#45;&gt; None:&#10;Constructor.&#10;`seeds` &#45; a list of (input) strings to mutate.&#10;`mutator` &#45; the mutator to apply.&#10;`schedule` &#45; the power schedule to apply.\">\n",
       "<text text-anchor=\"start\" x=\"58.25\" y=\"-220\" font-family=\"'Fira Mono', 'Source Code Pro', 'Courier', monospace\" font-weight=\"bold\" font-style=\"italic\" font-size=\"10.00\">__init__()</text>\n",
       "</a>\n",
       "</g>\n",
       "<g id=\"a_node2_4\"><a xlink:href=\"GreyboxFuzzer.ipynb\" xlink:title=\"fuzz(self) &#45;&gt; str:&#10;Returns first each seed once and then generates new inputs\">\n",
       "<text text-anchor=\"start\" x=\"58.25\" y=\"-207.25\" font-family=\"'Fira Mono', 'Source Code Pro', 'Courier', monospace\" font-weight=\"bold\" font-style=\"italic\" font-size=\"10.00\">fuzz()</text>\n",
       "</a>\n",
       "</g>\n",
       "</a>\n",
       "</g>\n",
       "</a>\n",
       "</g>\n",
       "</g>\n",
       "<!-- LangFuzzer&#45;&gt;AdvancedMutationFuzzer -->\n",
       "<g id=\"edge1\" class=\"edge\">\n",
       "<title>LangFuzzer&#45;&gt;AdvancedMutationFuzzer</title>\n",
       "<path fill=\"none\" stroke=\"black\" d=\"M88.25,-104.98C88.25,-126.99 88.25,-160.81 88.25,-187.39\"/>\n",
       "<polygon fill=\"none\" stroke=\"black\" points=\"84.75,-187.14 88.25,-197.14 91.75,-187.14 84.75,-187.14\"/>\n",
       "</g>\n",
       "<!-- Fuzzer -->\n",
       "<g id=\"node3\" class=\"node\">\n",
       "<title>Fuzzer</title>\n",
       "<g id=\"a_node3\"><a xlink:href=\"Fuzzer.ipynb\" xlink:title=\"class Fuzzer:&#10;Base class for fuzzers.\">\n",
       "<polygon fill=\"none\" stroke=\"black\" points=\"50.25,-295.5 50.25,-380.5 126.25,-380.5 126.25,-295.5 50.25,-295.5\"/>\n",
       "<text text-anchor=\"start\" x=\"67.62\" y=\"-364.2\" font-family=\"Patua One, Helvetica, sans-serif\" font-weight=\"bold\" font-size=\"14.00\" fill=\"#b03a2e\">Fuzzer</text>\n",
       "<polyline fill=\"none\" stroke=\"black\" points=\"50.25,-354.5 126.25,-354.5\"/>\n",
       "<g id=\"a_node3_5\"><a xlink:href=\"#\" xlink:title=\"Fuzzer\">\n",
       "<g id=\"a_node3_6\"><a xlink:href=\"Fuzzer.ipynb\" xlink:title=\"__init__(self) &#45;&gt; None:&#10;Constructor\">\n",
       "<text text-anchor=\"start\" x=\"58.25\" y=\"-342\" font-family=\"'Fira Mono', 'Source Code Pro', 'Courier', monospace\" font-weight=\"bold\" font-style=\"italic\" font-size=\"10.00\">__init__()</text>\n",
       "</a>\n",
       "</g>\n",
       "<g id=\"a_node3_7\"><a xlink:href=\"Fuzzer.ipynb\" xlink:title=\"fuzz(self) &#45;&gt; str:&#10;Return fuzz input\">\n",
       "<text text-anchor=\"start\" x=\"58.25\" y=\"-329.25\" font-family=\"'Fira Mono', 'Source Code Pro', 'Courier', monospace\" font-weight=\"bold\" font-style=\"italic\" font-size=\"10.00\">fuzz()</text>\n",
       "</a>\n",
       "</g>\n",
       "<g id=\"a_node3_8\"><a xlink:href=\"Fuzzer.ipynb\" xlink:title=\"run(self, runner: Fuzzer.Runner = &lt;Fuzzer.Runner object at 0x1045bb110&gt;) &#45;&gt; Tuple[subprocess.CompletedProcess, str]:&#10;Run `runner` with fuzz input\">\n",
       "<text text-anchor=\"start\" x=\"58.25\" y=\"-316.5\" font-family=\"'Fira Mono', 'Source Code Pro', 'Courier', monospace\" font-weight=\"bold\" font-size=\"10.00\">run()</text>\n",
       "</a>\n",
       "</g>\n",
       "<g id=\"a_node3_9\"><a xlink:href=\"Fuzzer.ipynb\" xlink:title=\"runs(self, runner: Fuzzer.Runner = &lt;Fuzzer.PrintRunner object at 0x1045bad80&gt;, trials: int = 10) &#45;&gt; List[Tuple[subprocess.CompletedProcess, str]]:&#10;Run `runner` with fuzz input, `trials` times\">\n",
       "<text text-anchor=\"start\" x=\"58.25\" y=\"-303.75\" font-family=\"'Fira Mono', 'Source Code Pro', 'Courier', monospace\" font-weight=\"bold\" font-size=\"10.00\">runs()</text>\n",
       "</a>\n",
       "</g>\n",
       "</a>\n",
       "</g>\n",
       "</a>\n",
       "</g>\n",
       "</g>\n",
       "<!-- AdvancedMutationFuzzer&#45;&gt;Fuzzer -->\n",
       "<g id=\"edge2\" class=\"edge\">\n",
       "<title>AdvancedMutationFuzzer&#45;&gt;Fuzzer</title>\n",
       "<path fill=\"none\" stroke=\"black\" d=\"M88.25,-258.77C88.25,-266.54 88.25,-275.18 88.25,-283.81\"/>\n",
       "<polygon fill=\"none\" stroke=\"black\" points=\"84.75,-283.55 88.25,-293.55 91.75,-283.55 84.75,-283.55\"/>\n",
       "</g>\n",
       "<!-- FragmentMutator -->\n",
       "<g id=\"node4\" class=\"node\">\n",
       "<title>FragmentMutator</title>\n",
       "<g id=\"a_node4\"><a xlink:href=\"#\" xlink:title=\"class FragmentMutator:&#10;Mutate inputs with input fragments from a pool\">\n",
       "<polygon fill=\"none\" stroke=\"black\" points=\"168.25,-0.5 168.25,-162 316.25,-162 316.25,-0.5 168.25,-0.5\"/>\n",
       "<text text-anchor=\"start\" x=\"186.38\" y=\"-145.7\" font-family=\"Patua One, Helvetica, sans-serif\" font-weight=\"bold\" font-size=\"14.00\" fill=\"#b03a2e\">FragmentMutator</text>\n",
       "<polyline fill=\"none\" stroke=\"black\" points=\"168.25,-136 316.25,-136\"/>\n",
       "<g id=\"a_node4_10\"><a xlink:href=\"#\" xlink:title=\"FragmentMutator\">\n",
       "<g id=\"a_node4_11\"><a xlink:href=\"#\" xlink:title=\"__init__(self, parser):&#10;Initialize mutators\">\n",
       "<text text-anchor=\"start\" x=\"176.25\" y=\"-123.5\" font-family=\"'Fira Mono', 'Source Code Pro', 'Courier', monospace\" font-weight=\"bold\" font-style=\"italic\" font-size=\"10.00\">__init__()</text>\n",
       "</a>\n",
       "</g>\n",
       "<g id=\"a_node4_12\"><a xlink:href=\"#\" xlink:title=\"add_to_fragment_pool(self, seed: SeedWithStructure) &#45;&gt; None:&#10;Adds all fragments of a seed to the fragment pool\">\n",
       "<text text-anchor=\"start\" x=\"176.25\" y=\"-110.75\" font-family=\"'Fira Mono', 'Source Code Pro', 'Courier', monospace\" font-weight=\"bold\" font-size=\"10.00\">add_to_fragment_pool()</text>\n",
       "</a>\n",
       "</g>\n",
       "<g id=\"a_node4_13\"><a xlink:href=\"#\" xlink:title=\"add_fragment(self, fragment: DerivationTree) &#45;&gt; None:&#10;Recursively adds fragments to the fragment pool\">\n",
       "<text text-anchor=\"start\" x=\"176.25\" y=\"-97\" font-family=\"'Fira Mono', 'Source Code Pro', 'Courier', monospace\" font-size=\"10.00\">add_fragment()</text>\n",
       "</a>\n",
       "</g>\n",
       "<g id=\"a_node4_14\"><a xlink:href=\"#\" xlink:title=\"count_nodes(self, fragment: DerivationTree) &#45;&gt; int:&#10;Returns the number of nodes in the fragment\">\n",
       "<text text-anchor=\"start\" x=\"176.25\" y=\"-84.25\" font-family=\"'Fira Mono', 'Source Code Pro', 'Courier', monospace\" font-size=\"10.00\">count_nodes()</text>\n",
       "</a>\n",
       "</g>\n",
       "<g id=\"a_node4_15\"><a xlink:href=\"#\" xlink:title=\"delete_fragment(self, seed: SeedWithStructure) &#45;&gt; SeedWithStructure:&#10;Delete a random fragment\">\n",
       "<text text-anchor=\"start\" x=\"176.25\" y=\"-71.5\" font-family=\"'Fira Mono', 'Source Code Pro', 'Courier', monospace\" font-size=\"10.00\">delete_fragment()</text>\n",
       "</a>\n",
       "</g>\n",
       "<g id=\"a_node4_16\"><a xlink:href=\"#\" xlink:title=\"is_excluded(self, symbol: str) &#45;&gt; bool:&#10;Returns true if a fragment starting with a specific&#10;symbol and all its decendents can be excluded\">\n",
       "<text text-anchor=\"start\" x=\"176.25\" y=\"-58.75\" font-family=\"'Fira Mono', 'Source Code Pro', 'Courier', monospace\" font-size=\"10.00\">is_excluded()</text>\n",
       "</a>\n",
       "</g>\n",
       "<g id=\"a_node4_17\"><a xlink:href=\"#\" xlink:title=\"mutate(self, seed: SeedWithStructure) &#45;&gt; SeedWithStructure:&#10;Implement structure&#45;aware mutation. Memoize seeds.\">\n",
       "<text text-anchor=\"start\" x=\"176.25\" y=\"-47\" font-family=\"'Fira Mono', 'Source Code Pro', 'Courier', monospace\" font-style=\"italic\" font-size=\"10.00\">mutate()</text>\n",
       "</a>\n",
       "</g>\n",
       "<g id=\"a_node4_18\"><a xlink:href=\"#\" xlink:title=\"recursive_delete(self, fragment: DerivationTree) &#45;&gt; DerivationTree:&#10;Recursively finds the fragment to delete\">\n",
       "<text text-anchor=\"start\" x=\"176.25\" y=\"-33.25\" font-family=\"'Fira Mono', 'Source Code Pro', 'Courier', monospace\" font-size=\"10.00\">recursive_delete()</text>\n",
       "</a>\n",
       "</g>\n",
       "<g id=\"a_node4_19\"><a xlink:href=\"#\" xlink:title=\"recursive_swap(self, fragment: DerivationTree) &#45;&gt; DerivationTree:&#10;Recursively finds the fragment to swap.\">\n",
       "<text text-anchor=\"start\" x=\"176.25\" y=\"-20.5\" font-family=\"'Fira Mono', 'Source Code Pro', 'Courier', monospace\" font-size=\"10.00\">recursive_swap()</text>\n",
       "</a>\n",
       "</g>\n",
       "<g id=\"a_node4_20\"><a xlink:href=\"#\" xlink:title=\"swap_fragment(self, seed: SeedWithStructure) &#45;&gt; SeedWithStructure:&#10;Substitutes a random fragment with another with the same symbol\">\n",
       "<text text-anchor=\"start\" x=\"176.25\" y=\"-7.75\" font-family=\"'Fira Mono', 'Source Code Pro', 'Courier', monospace\" font-size=\"10.00\">swap_fragment()</text>\n",
       "</a>\n",
       "</g>\n",
       "</a>\n",
       "</g>\n",
       "</a>\n",
       "</g>\n",
       "</g>\n",
       "<!-- Mutator -->\n",
       "<g id=\"node5\" class=\"node\">\n",
       "<title>Mutator</title>\n",
       "<g id=\"a_node5\"><a xlink:href=\"GreyboxFuzzer.ipynb\" xlink:title=\"class Mutator:&#10;Mutate strings\">\n",
       "<polygon fill=\"none\" stroke=\"black\" points=\"204.25,-205.38 204.25,-252.12 280.25,-252.12 280.25,-205.38 204.25,-205.38\"/>\n",
       "<text text-anchor=\"start\" x=\"216.38\" y=\"-235.82\" font-family=\"Patua One, Helvetica, sans-serif\" font-weight=\"bold\" font-size=\"14.00\" fill=\"#b03a2e\">Mutator</text>\n",
       "<polyline fill=\"none\" stroke=\"black\" points=\"204.25,-226.12 280.25,-226.12\"/>\n",
       "<g id=\"a_node5_21\"><a xlink:href=\"#\" xlink:title=\"Mutator\">\n",
       "<g id=\"a_node5_22\"><a xlink:href=\"GreyboxFuzzer.ipynb\" xlink:title=\"__init__(self) &#45;&gt; None:&#10;Constructor\">\n",
       "<text text-anchor=\"start\" x=\"212.25\" y=\"-213.62\" font-family=\"'Fira Mono', 'Source Code Pro', 'Courier', monospace\" font-weight=\"bold\" font-style=\"italic\" font-size=\"10.00\">__init__()</text>\n",
       "</a>\n",
       "</g>\n",
       "</a>\n",
       "</g>\n",
       "</a>\n",
       "</g>\n",
       "</g>\n",
       "<!-- FragmentMutator&#45;&gt;Mutator -->\n",
       "<g id=\"edge3\" class=\"edge\">\n",
       "<title>FragmentMutator&#45;&gt;Mutator</title>\n",
       "<path fill=\"none\" stroke=\"black\" d=\"M242.25,-162.24C242.25,-173.29 242.25,-184.11 242.25,-193.68\"/>\n",
       "<polygon fill=\"none\" stroke=\"black\" points=\"238.75,-193.53 242.25,-203.53 245.75,-193.53 238.75,-193.53\"/>\n",
       "</g>\n",
       "<!-- Legend -->\n",
       "<g id=\"node6\" class=\"node\">\n",
       "<title>Legend</title>\n",
       "<text text-anchor=\"start\" x=\"334.62\" y=\"-97.25\" font-family=\"Patua One, Helvetica, sans-serif\" font-weight=\"bold\" font-size=\"10.00\" fill=\"#b03a2e\">Legend</text>\n",
       "<text text-anchor=\"start\" x=\"334.62\" y=\"-87.25\" font-family=\"Patua One, Helvetica, sans-serif\" font-size=\"10.00\">• </text>\n",
       "<text text-anchor=\"start\" x=\"340.62\" y=\"-87.25\" font-family=\"'Fira Mono', 'Source Code Pro', 'Courier', monospace\" font-weight=\"bold\" font-size=\"8.00\">public_method()</text>\n",
       "<text text-anchor=\"start\" x=\"334.62\" y=\"-77.25\" font-family=\"Patua One, Helvetica, sans-serif\" font-size=\"10.00\">• </text>\n",
       "<text text-anchor=\"start\" x=\"340.62\" y=\"-77.25\" font-family=\"'Fira Mono', 'Source Code Pro', 'Courier', monospace\" font-size=\"8.00\">private_method()</text>\n",
       "<text text-anchor=\"start\" x=\"334.62\" y=\"-67.25\" font-family=\"Patua One, Helvetica, sans-serif\" font-size=\"10.00\">• </text>\n",
       "<text text-anchor=\"start\" x=\"340.62\" y=\"-67.25\" font-family=\"'Fira Mono', 'Source Code Pro', 'Courier', monospace\" font-style=\"italic\" font-size=\"8.00\">overloaded_method()</text>\n",
       "<text text-anchor=\"start\" x=\"334.62\" y=\"-58.2\" font-family=\"Helvetica,sans-Serif\" font-size=\"9.00\">Hover over names to see doc</text>\n",
       "</g>\n",
       "</g>\n",
       "</svg>\n"
      ],
      "text/html": [
       "<?xml version=\"1.0\" encoding=\"UTF-8\" standalone=\"no\"?>\n",
       "<!DOCTYPE svg PUBLIC \"-//W3C//DTD SVG 1.1//EN\"\n",
       " \"http://www.w3.org/Graphics/SVG/1.1/DTD/svg11.dtd\">\n",
       "<!-- Generated by graphviz version 12.2.1 (20241206.2353)\n",
       " -->\n",
       "<!-- Pages: 1 -->\n",
       "<svg width=\"462pt\" height=\"389pt\"\n",
       " viewBox=\"0.00 0.00 461.88 389.00\" xmlns=\"http://www.w3.org/2000/svg\" xmlns:xlink=\"http://www.w3.org/1999/xlink\">\n",
       "<g id=\"graph0\" class=\"graph\" transform=\"scale(1 1) rotate(0) translate(4 385)\">\n",
       "<g id=\"a_graph0\"><a xlink:title=\"LangFuzzer class hierarchy\">\n",
       "<polygon fill=\"white\" stroke=\"none\" points=\"-4,4 -4,-385 457.88,-385 457.88,4 -4,4\"/>\n",
       "</a>\n",
       "</g>\n",
       "<!-- LangFuzzer -->\n",
       "<g id=\"node1\" class=\"node\">\n",
       "<title>LangFuzzer</title>\n",
       "<g id=\"a_node1\"><a xlink:href=\"#\" xlink:title=\"class LangFuzzer:&#10;Blackbox fuzzer mutating input fragments. Roughly based on `LangFuzz`.\">\n",
       "<polygon fill=\"none\" stroke=\"black\" points=\"26.25,-57.88 26.25,-104.62 150.25,-104.62 150.25,-57.88 26.25,-57.88\"/>\n",
       "<text text-anchor=\"start\" x=\"52.62\" y=\"-88.33\" font-family=\"Patua One, Helvetica, sans-serif\" font-weight=\"bold\" font-size=\"14.00\" fill=\"#b03a2e\">LangFuzzer</text>\n",
       "<polyline fill=\"none\" stroke=\"black\" points=\"26.25,-78.62 150.25,-78.62\"/>\n",
       "<g id=\"a_node1_0\"><a xlink:href=\"#\" xlink:title=\"LangFuzzer\">\n",
       "<g id=\"a_node1_1\"><a xlink:href=\"#\" xlink:title=\"create_candidate(self) &#45;&gt; GreyboxFuzzer.Seed:&#10;Returns an input generated by fuzzing a seed in the population\">\n",
       "<text text-anchor=\"start\" x=\"34.25\" y=\"-66.12\" font-family=\"'Fira Mono', 'Source Code Pro', 'Courier', monospace\" font-style=\"italic\" font-size=\"10.00\">create_candidate()</text>\n",
       "</a>\n",
       "</g>\n",
       "</a>\n",
       "</g>\n",
       "</a>\n",
       "</g>\n",
       "</g>\n",
       "<!-- AdvancedMutationFuzzer -->\n",
       "<g id=\"node2\" class=\"node\">\n",
       "<title>AdvancedMutationFuzzer</title>\n",
       "<g id=\"a_node2\"><a xlink:href=\"GreyboxFuzzer.ipynb\" xlink:title=\"class AdvancedMutationFuzzer:&#10;Base class for mutation&#45;based fuzzing.\">\n",
       "<polygon fill=\"none\" stroke=\"black\" points=\"0,-199 0,-258.5 176.5,-258.5 176.5,-199 0,-199\"/>\n",
       "<text text-anchor=\"start\" x=\"8\" y=\"-242.2\" font-family=\"Patua One, Helvetica, sans-serif\" font-weight=\"bold\" font-size=\"14.00\" fill=\"#b03a2e\">AdvancedMutationFuzzer</text>\n",
       "<polyline fill=\"none\" stroke=\"black\" points=\"0,-232.5 176.5,-232.5\"/>\n",
       "<g id=\"a_node2_2\"><a xlink:href=\"#\" xlink:title=\"AdvancedMutationFuzzer\">\n",
       "<g id=\"a_node2_3\"><a xlink:href=\"GreyboxFuzzer.ipynb\" xlink:title=\"__init__(self, seeds: List[str], mutator: GreyboxFuzzer.Mutator, schedule: GreyboxFuzzer.PowerSchedule) &#45;&gt; None:&#10;Constructor.&#10;`seeds` &#45; a list of (input) strings to mutate.&#10;`mutator` &#45; the mutator to apply.&#10;`schedule` &#45; the power schedule to apply.\">\n",
       "<text text-anchor=\"start\" x=\"58.25\" y=\"-220\" font-family=\"'Fira Mono', 'Source Code Pro', 'Courier', monospace\" font-weight=\"bold\" font-style=\"italic\" font-size=\"10.00\">__init__()</text>\n",
       "</a>\n",
       "</g>\n",
       "<g id=\"a_node2_4\"><a xlink:href=\"GreyboxFuzzer.ipynb\" xlink:title=\"fuzz(self) &#45;&gt; str:&#10;Returns first each seed once and then generates new inputs\">\n",
       "<text text-anchor=\"start\" x=\"58.25\" y=\"-207.25\" font-family=\"'Fira Mono', 'Source Code Pro', 'Courier', monospace\" font-weight=\"bold\" font-style=\"italic\" font-size=\"10.00\">fuzz()</text>\n",
       "</a>\n",
       "</g>\n",
       "</a>\n",
       "</g>\n",
       "</a>\n",
       "</g>\n",
       "</g>\n",
       "<!-- LangFuzzer&#45;&gt;AdvancedMutationFuzzer -->\n",
       "<g id=\"edge1\" class=\"edge\">\n",
       "<title>LangFuzzer&#45;&gt;AdvancedMutationFuzzer</title>\n",
       "<path fill=\"none\" stroke=\"black\" d=\"M88.25,-104.98C88.25,-126.99 88.25,-160.81 88.25,-187.39\"/>\n",
       "<polygon fill=\"none\" stroke=\"black\" points=\"84.75,-187.14 88.25,-197.14 91.75,-187.14 84.75,-187.14\"/>\n",
       "</g>\n",
       "<!-- Fuzzer -->\n",
       "<g id=\"node3\" class=\"node\">\n",
       "<title>Fuzzer</title>\n",
       "<g id=\"a_node3\"><a xlink:href=\"Fuzzer.ipynb\" xlink:title=\"class Fuzzer:&#10;Base class for fuzzers.\">\n",
       "<polygon fill=\"none\" stroke=\"black\" points=\"50.25,-295.5 50.25,-380.5 126.25,-380.5 126.25,-295.5 50.25,-295.5\"/>\n",
       "<text text-anchor=\"start\" x=\"67.62\" y=\"-364.2\" font-family=\"Patua One, Helvetica, sans-serif\" font-weight=\"bold\" font-size=\"14.00\" fill=\"#b03a2e\">Fuzzer</text>\n",
       "<polyline fill=\"none\" stroke=\"black\" points=\"50.25,-354.5 126.25,-354.5\"/>\n",
       "<g id=\"a_node3_5\"><a xlink:href=\"#\" xlink:title=\"Fuzzer\">\n",
       "<g id=\"a_node3_6\"><a xlink:href=\"Fuzzer.ipynb\" xlink:title=\"__init__(self) &#45;&gt; None:&#10;Constructor\">\n",
       "<text text-anchor=\"start\" x=\"58.25\" y=\"-342\" font-family=\"'Fira Mono', 'Source Code Pro', 'Courier', monospace\" font-weight=\"bold\" font-style=\"italic\" font-size=\"10.00\">__init__()</text>\n",
       "</a>\n",
       "</g>\n",
       "<g id=\"a_node3_7\"><a xlink:href=\"Fuzzer.ipynb\" xlink:title=\"fuzz(self) &#45;&gt; str:&#10;Return fuzz input\">\n",
       "<text text-anchor=\"start\" x=\"58.25\" y=\"-329.25\" font-family=\"'Fira Mono', 'Source Code Pro', 'Courier', monospace\" font-weight=\"bold\" font-style=\"italic\" font-size=\"10.00\">fuzz()</text>\n",
       "</a>\n",
       "</g>\n",
       "<g id=\"a_node3_8\"><a xlink:href=\"Fuzzer.ipynb\" xlink:title=\"run(self, runner: Fuzzer.Runner = &lt;Fuzzer.Runner object at 0x1045bb110&gt;) &#45;&gt; Tuple[subprocess.CompletedProcess, str]:&#10;Run `runner` with fuzz input\">\n",
       "<text text-anchor=\"start\" x=\"58.25\" y=\"-316.5\" font-family=\"'Fira Mono', 'Source Code Pro', 'Courier', monospace\" font-weight=\"bold\" font-size=\"10.00\">run()</text>\n",
       "</a>\n",
       "</g>\n",
       "<g id=\"a_node3_9\"><a xlink:href=\"Fuzzer.ipynb\" xlink:title=\"runs(self, runner: Fuzzer.Runner = &lt;Fuzzer.PrintRunner object at 0x1045bad80&gt;, trials: int = 10) &#45;&gt; List[Tuple[subprocess.CompletedProcess, str]]:&#10;Run `runner` with fuzz input, `trials` times\">\n",
       "<text text-anchor=\"start\" x=\"58.25\" y=\"-303.75\" font-family=\"'Fira Mono', 'Source Code Pro', 'Courier', monospace\" font-weight=\"bold\" font-size=\"10.00\">runs()</text>\n",
       "</a>\n",
       "</g>\n",
       "</a>\n",
       "</g>\n",
       "</a>\n",
       "</g>\n",
       "</g>\n",
       "<!-- AdvancedMutationFuzzer&#45;&gt;Fuzzer -->\n",
       "<g id=\"edge2\" class=\"edge\">\n",
       "<title>AdvancedMutationFuzzer&#45;&gt;Fuzzer</title>\n",
       "<path fill=\"none\" stroke=\"black\" d=\"M88.25,-258.77C88.25,-266.54 88.25,-275.18 88.25,-283.81\"/>\n",
       "<polygon fill=\"none\" stroke=\"black\" points=\"84.75,-283.55 88.25,-293.55 91.75,-283.55 84.75,-283.55\"/>\n",
       "</g>\n",
       "<!-- FragmentMutator -->\n",
       "<g id=\"node4\" class=\"node\">\n",
       "<title>FragmentMutator</title>\n",
       "<g id=\"a_node4\"><a xlink:href=\"#\" xlink:title=\"class FragmentMutator:&#10;Mutate inputs with input fragments from a pool\">\n",
       "<polygon fill=\"none\" stroke=\"black\" points=\"168.25,-0.5 168.25,-162 316.25,-162 316.25,-0.5 168.25,-0.5\"/>\n",
       "<text text-anchor=\"start\" x=\"186.38\" y=\"-145.7\" font-family=\"Patua One, Helvetica, sans-serif\" font-weight=\"bold\" font-size=\"14.00\" fill=\"#b03a2e\">FragmentMutator</text>\n",
       "<polyline fill=\"none\" stroke=\"black\" points=\"168.25,-136 316.25,-136\"/>\n",
       "<g id=\"a_node4_10\"><a xlink:href=\"#\" xlink:title=\"FragmentMutator\">\n",
       "<g id=\"a_node4_11\"><a xlink:href=\"#\" xlink:title=\"__init__(self, parser):&#10;Initialize mutators\">\n",
       "<text text-anchor=\"start\" x=\"176.25\" y=\"-123.5\" font-family=\"'Fira Mono', 'Source Code Pro', 'Courier', monospace\" font-weight=\"bold\" font-style=\"italic\" font-size=\"10.00\">__init__()</text>\n",
       "</a>\n",
       "</g>\n",
       "<g id=\"a_node4_12\"><a xlink:href=\"#\" xlink:title=\"add_to_fragment_pool(self, seed: SeedWithStructure) &#45;&gt; None:&#10;Adds all fragments of a seed to the fragment pool\">\n",
       "<text text-anchor=\"start\" x=\"176.25\" y=\"-110.75\" font-family=\"'Fira Mono', 'Source Code Pro', 'Courier', monospace\" font-weight=\"bold\" font-size=\"10.00\">add_to_fragment_pool()</text>\n",
       "</a>\n",
       "</g>\n",
       "<g id=\"a_node4_13\"><a xlink:href=\"#\" xlink:title=\"add_fragment(self, fragment: DerivationTree) &#45;&gt; None:&#10;Recursively adds fragments to the fragment pool\">\n",
       "<text text-anchor=\"start\" x=\"176.25\" y=\"-97\" font-family=\"'Fira Mono', 'Source Code Pro', 'Courier', monospace\" font-size=\"10.00\">add_fragment()</text>\n",
       "</a>\n",
       "</g>\n",
       "<g id=\"a_node4_14\"><a xlink:href=\"#\" xlink:title=\"count_nodes(self, fragment: DerivationTree) &#45;&gt; int:&#10;Returns the number of nodes in the fragment\">\n",
       "<text text-anchor=\"start\" x=\"176.25\" y=\"-84.25\" font-family=\"'Fira Mono', 'Source Code Pro', 'Courier', monospace\" font-size=\"10.00\">count_nodes()</text>\n",
       "</a>\n",
       "</g>\n",
       "<g id=\"a_node4_15\"><a xlink:href=\"#\" xlink:title=\"delete_fragment(self, seed: SeedWithStructure) &#45;&gt; SeedWithStructure:&#10;Delete a random fragment\">\n",
       "<text text-anchor=\"start\" x=\"176.25\" y=\"-71.5\" font-family=\"'Fira Mono', 'Source Code Pro', 'Courier', monospace\" font-size=\"10.00\">delete_fragment()</text>\n",
       "</a>\n",
       "</g>\n",
       "<g id=\"a_node4_16\"><a xlink:href=\"#\" xlink:title=\"is_excluded(self, symbol: str) &#45;&gt; bool:&#10;Returns true if a fragment starting with a specific&#10;symbol and all its decendents can be excluded\">\n",
       "<text text-anchor=\"start\" x=\"176.25\" y=\"-58.75\" font-family=\"'Fira Mono', 'Source Code Pro', 'Courier', monospace\" font-size=\"10.00\">is_excluded()</text>\n",
       "</a>\n",
       "</g>\n",
       "<g id=\"a_node4_17\"><a xlink:href=\"#\" xlink:title=\"mutate(self, seed: SeedWithStructure) &#45;&gt; SeedWithStructure:&#10;Implement structure&#45;aware mutation. Memoize seeds.\">\n",
       "<text text-anchor=\"start\" x=\"176.25\" y=\"-47\" font-family=\"'Fira Mono', 'Source Code Pro', 'Courier', monospace\" font-style=\"italic\" font-size=\"10.00\">mutate()</text>\n",
       "</a>\n",
       "</g>\n",
       "<g id=\"a_node4_18\"><a xlink:href=\"#\" xlink:title=\"recursive_delete(self, fragment: DerivationTree) &#45;&gt; DerivationTree:&#10;Recursively finds the fragment to delete\">\n",
       "<text text-anchor=\"start\" x=\"176.25\" y=\"-33.25\" font-family=\"'Fira Mono', 'Source Code Pro', 'Courier', monospace\" font-size=\"10.00\">recursive_delete()</text>\n",
       "</a>\n",
       "</g>\n",
       "<g id=\"a_node4_19\"><a xlink:href=\"#\" xlink:title=\"recursive_swap(self, fragment: DerivationTree) &#45;&gt; DerivationTree:&#10;Recursively finds the fragment to swap.\">\n",
       "<text text-anchor=\"start\" x=\"176.25\" y=\"-20.5\" font-family=\"'Fira Mono', 'Source Code Pro', 'Courier', monospace\" font-size=\"10.00\">recursive_swap()</text>\n",
       "</a>\n",
       "</g>\n",
       "<g id=\"a_node4_20\"><a xlink:href=\"#\" xlink:title=\"swap_fragment(self, seed: SeedWithStructure) &#45;&gt; SeedWithStructure:&#10;Substitutes a random fragment with another with the same symbol\">\n",
       "<text text-anchor=\"start\" x=\"176.25\" y=\"-7.75\" font-family=\"'Fira Mono', 'Source Code Pro', 'Courier', monospace\" font-size=\"10.00\">swap_fragment()</text>\n",
       "</a>\n",
       "</g>\n",
       "</a>\n",
       "</g>\n",
       "</a>\n",
       "</g>\n",
       "</g>\n",
       "<!-- Mutator -->\n",
       "<g id=\"node5\" class=\"node\">\n",
       "<title>Mutator</title>\n",
       "<g id=\"a_node5\"><a xlink:href=\"GreyboxFuzzer.ipynb\" xlink:title=\"class Mutator:&#10;Mutate strings\">\n",
       "<polygon fill=\"none\" stroke=\"black\" points=\"204.25,-205.38 204.25,-252.12 280.25,-252.12 280.25,-205.38 204.25,-205.38\"/>\n",
       "<text text-anchor=\"start\" x=\"216.38\" y=\"-235.82\" font-family=\"Patua One, Helvetica, sans-serif\" font-weight=\"bold\" font-size=\"14.00\" fill=\"#b03a2e\">Mutator</text>\n",
       "<polyline fill=\"none\" stroke=\"black\" points=\"204.25,-226.12 280.25,-226.12\"/>\n",
       "<g id=\"a_node5_21\"><a xlink:href=\"#\" xlink:title=\"Mutator\">\n",
       "<g id=\"a_node5_22\"><a xlink:href=\"GreyboxFuzzer.ipynb\" xlink:title=\"__init__(self) &#45;&gt; None:&#10;Constructor\">\n",
       "<text text-anchor=\"start\" x=\"212.25\" y=\"-213.62\" font-family=\"'Fira Mono', 'Source Code Pro', 'Courier', monospace\" font-weight=\"bold\" font-style=\"italic\" font-size=\"10.00\">__init__()</text>\n",
       "</a>\n",
       "</g>\n",
       "</a>\n",
       "</g>\n",
       "</a>\n",
       "</g>\n",
       "</g>\n",
       "<!-- FragmentMutator&#45;&gt;Mutator -->\n",
       "<g id=\"edge3\" class=\"edge\">\n",
       "<title>FragmentMutator&#45;&gt;Mutator</title>\n",
       "<path fill=\"none\" stroke=\"black\" d=\"M242.25,-162.24C242.25,-173.29 242.25,-184.11 242.25,-193.68\"/>\n",
       "<polygon fill=\"none\" stroke=\"black\" points=\"238.75,-193.53 242.25,-203.53 245.75,-193.53 238.75,-193.53\"/>\n",
       "</g>\n",
       "<!-- Legend -->\n",
       "<g id=\"node6\" class=\"node\">\n",
       "<title>Legend</title>\n",
       "<text text-anchor=\"start\" x=\"334.62\" y=\"-97.25\" font-family=\"Patua One, Helvetica, sans-serif\" font-weight=\"bold\" font-size=\"10.00\" fill=\"#b03a2e\">Legend</text>\n",
       "<text text-anchor=\"start\" x=\"334.62\" y=\"-87.25\" font-family=\"Patua One, Helvetica, sans-serif\" font-size=\"10.00\">• </text>\n",
       "<text text-anchor=\"start\" x=\"340.62\" y=\"-87.25\" font-family=\"'Fira Mono', 'Source Code Pro', 'Courier', monospace\" font-weight=\"bold\" font-size=\"8.00\">public_method()</text>\n",
       "<text text-anchor=\"start\" x=\"334.62\" y=\"-77.25\" font-family=\"Patua One, Helvetica, sans-serif\" font-size=\"10.00\">• </text>\n",
       "<text text-anchor=\"start\" x=\"340.62\" y=\"-77.25\" font-family=\"'Fira Mono', 'Source Code Pro', 'Courier', monospace\" font-size=\"8.00\">private_method()</text>\n",
       "<text text-anchor=\"start\" x=\"334.62\" y=\"-67.25\" font-family=\"Patua One, Helvetica, sans-serif\" font-size=\"10.00\">• </text>\n",
       "<text text-anchor=\"start\" x=\"340.62\" y=\"-67.25\" font-family=\"'Fira Mono', 'Source Code Pro', 'Courier', monospace\" font-style=\"italic\" font-size=\"8.00\">overloaded_method()</text>\n",
       "<text text-anchor=\"start\" x=\"334.62\" y=\"-58.2\" font-family=\"Helvetica,sans-Serif\" font-size=\"9.00\">Hover over names to see doc</text>\n",
       "</g>\n",
       "</g>\n",
       "</svg>\n"
      ],
      "text/plain": [
       "<graphviz.graphs.Digraph at 0x4ee1462a0>"
      ]
     },
     "execution_count": 82,
     "metadata": {},
     "output_type": "execute_result"
    }
   ],
   "source": [
    "# ignore\n",
    "display_class_hierarchy([LangFuzzer, FragmentMutator],\n",
    "                        public_methods=[\n",
    "                            Fuzzer.__init__,\n",
    "                            Fuzzer.fuzz,\n",
    "                            Fuzzer.run,\n",
    "                            Fuzzer.runs,\n",
    "                            AdvancedMutationFuzzer.__init__,\n",
    "                            AdvancedMutationFuzzer.fuzz,\n",
    "                            GreyboxFuzzer.run,\n",
    "                            Mutator.__init__,\n",
    "                            FragmentMutator.__init__,\n",
    "                            FragmentMutator.add_to_fragment_pool,\n",
    "                        ],\n",
    "                        types={'DerivationTree': DerivationTree,\n",
    "                               'Location': Location},\n",
    "                        project='fuzzingbook')"
   ]
  },
  {
   "cell_type": "markdown",
   "metadata": {
    "slideshow": {
     "slide_type": "subslide"
    }
   },
   "source": [
    "### Fuzzing with Input Regions\n",
    "\n",
    "The `GreyboxGrammarFuzzer` class uses two mutators:\n",
    "* a _tree mutator_ (a `RegionMutator` object) that can parse existing strings to identify _regions_ in that string to be swapped or deleted.\n",
    "* a _byte mutator_ to apply bit- and character-level mutations."
   ]
  },
  {
   "cell_type": "code",
   "execution_count": 83,
   "metadata": {
    "execution": {
     "iopub.execute_input": "2025-01-16T09:54:47.746341Z",
     "iopub.status.busy": "2025-01-16T09:54:47.746203Z",
     "iopub.status.idle": "2025-01-16T09:54:47.748248Z",
     "shell.execute_reply": "2025-01-16T09:54:47.747947Z"
    },
    "slideshow": {
     "slide_type": "fragment"
    }
   },
   "outputs": [],
   "source": [
    "tree_mutator = RegionMutator(parser)\n",
    "byte_mutator = Mutator()"
   ]
  },
  {
   "cell_type": "markdown",
   "metadata": {
    "slideshow": {
     "slide_type": "fragment"
    }
   },
   "source": [
    "The _schedule_ for the `GreyboxGrammarFuzzer` class can be a regular `PowerSchedule` object. However, a more sophisticated schedule is provided by `AFLSmartSchedule`, which assigns more [energy](GreyboxFuzzer.ipynb#Power-Schedules) to seeds that have a higher degree of validity."
   ]
  },
  {
   "cell_type": "code",
   "execution_count": 84,
   "metadata": {
    "execution": {
     "iopub.execute_input": "2025-01-16T09:54:47.749830Z",
     "iopub.status.busy": "2025-01-16T09:54:47.749733Z",
     "iopub.status.idle": "2025-01-16T09:54:47.751353Z",
     "shell.execute_reply": "2025-01-16T09:54:47.751084Z"
    },
    "slideshow": {
     "slide_type": "subslide"
    }
   },
   "outputs": [],
   "source": [
    "schedule = AFLSmartSchedule(parser)"
   ]
  },
  {
   "cell_type": "markdown",
   "metadata": {
    "slideshow": {
     "slide_type": "fragment"
    }
   },
   "source": [
    "The `GreyboxGrammarFuzzer` constructor takes a set of seeds as well as the two mutators and the schedule:"
   ]
  },
  {
   "cell_type": "code",
   "execution_count": 85,
   "metadata": {
    "execution": {
     "iopub.execute_input": "2025-01-16T09:54:47.752988Z",
     "iopub.status.busy": "2025-01-16T09:54:47.752883Z",
     "iopub.status.idle": "2025-01-16T09:54:47.755960Z",
     "shell.execute_reply": "2025-01-16T09:54:47.755701Z"
    },
    "slideshow": {
     "slide_type": "fragment"
    }
   },
   "outputs": [],
   "source": [
    "aflsmart_fuzzer = GreyboxGrammarFuzzer(seeds, byte_mutator, tree_mutator, schedule)"
   ]
  },
  {
   "cell_type": "markdown",
   "metadata": {
    "slideshow": {
     "slide_type": "fragment"
    }
   },
   "source": [
    "As it relies on code coverage, it is typically combined with a `FunctionCoverageRunner`:"
   ]
  },
  {
   "cell_type": "code",
   "execution_count": 86,
   "metadata": {
    "execution": {
     "iopub.execute_input": "2025-01-16T09:54:47.757425Z",
     "iopub.status.busy": "2025-01-16T09:54:47.757323Z",
     "iopub.status.idle": "2025-01-16T09:54:47.880579Z",
     "shell.execute_reply": "2025-01-16T09:54:47.880310Z"
    },
    "slideshow": {
     "slide_type": "fragment"
    }
   },
   "outputs": [],
   "source": [
    "runner = FunctionCoverageRunner(my_parser)\n",
    "aflsmart_outcome = aflsmart_fuzzer.runs(runner, trials=5)"
   ]
  },
  {
   "cell_type": "code",
   "execution_count": 87,
   "metadata": {
    "execution": {
     "iopub.execute_input": "2025-01-16T09:54:47.882576Z",
     "iopub.status.busy": "2025-01-16T09:54:47.882477Z",
     "iopub.status.idle": "2025-01-16T09:54:48.698410Z",
     "shell.execute_reply": "2025-01-16T09:54:48.698002Z"
    },
    "slideshow": {
     "slide_type": "subslide"
    }
   },
   "outputs": [
    {
     "data": {
      "image/svg+xml": [
       "<?xml version=\"1.0\" encoding=\"UTF-8\" standalone=\"no\"?>\n",
       "<!DOCTYPE svg PUBLIC \"-//W3C//DTD SVG 1.1//EN\"\n",
       " \"http://www.w3.org/Graphics/SVG/1.1/DTD/svg11.dtd\">\n",
       "<!-- Generated by graphviz version 12.2.1 (20241206.2353)\n",
       " -->\n",
       "<!-- Pages: 1 -->\n",
       "<svg width=\"638pt\" height=\"511pt\"\n",
       " viewBox=\"0.00 0.00 637.88 511.00\" xmlns=\"http://www.w3.org/2000/svg\" xmlns:xlink=\"http://www.w3.org/1999/xlink\">\n",
       "<g id=\"graph0\" class=\"graph\" transform=\"scale(1 1) rotate(0) translate(4 507)\">\n",
       "<g id=\"a_graph0\"><a xlink:title=\"GreyboxGrammarFuzzer class hierarchy\">\n",
       "<polygon fill=\"white\" stroke=\"none\" points=\"-4,4 -4,-507 633.88,-507 633.88,4 -4,4\"/>\n",
       "</a>\n",
       "</g>\n",
       "<!-- GreyboxGrammarFuzzer -->\n",
       "<g id=\"node1\" class=\"node\">\n",
       "<title>GreyboxGrammarFuzzer</title>\n",
       "<g id=\"a_node1\"><a xlink:href=\"#\" xlink:title=\"class GreyboxGrammarFuzzer:&#10;Greybox fuzzer using grammars.\">\n",
       "<polygon fill=\"none\" stroke=\"black\" points=\"4.5,-13.25 4.5,-72.75 172,-72.75 172,-13.25 4.5,-13.25\"/>\n",
       "<text text-anchor=\"start\" x=\"12.5\" y=\"-56.45\" font-family=\"Patua One, Helvetica, sans-serif\" font-weight=\"bold\" font-size=\"14.00\" fill=\"#b03a2e\">GreyboxGrammarFuzzer</text>\n",
       "<polyline fill=\"none\" stroke=\"black\" points=\"4.5,-46.75 172,-46.75\"/>\n",
       "<g id=\"a_node1_0\"><a xlink:href=\"#\" xlink:title=\"GreyboxGrammarFuzzer\">\n",
       "<g id=\"a_node1_1\"><a xlink:href=\"#\" xlink:title=\"__init__(self, seeds: List[str], byte_mutator: GreyboxFuzzer.Mutator, tree_mutator: FragmentMutator, schedule: GreyboxFuzzer.PowerSchedule) &#45;&gt; None:&#10;Constructor.&#10;`seeds` &#45; set of inputs to mutate.&#10;`byte_mutator` &#45; a byte&#45;level mutator.&#10;`tree_mutator` = a tree&#45;level mutator.&#10;`schedule` &#45; a power schedule.\">\n",
       "<text text-anchor=\"start\" x=\"34.25\" y=\"-34.25\" font-family=\"'Fira Mono', 'Source Code Pro', 'Courier', monospace\" font-weight=\"bold\" font-style=\"italic\" font-size=\"10.00\">__init__()</text>\n",
       "</a>\n",
       "</g>\n",
       "<g id=\"a_node1_2\"><a xlink:href=\"#\" xlink:title=\"create_candidate(self) &#45;&gt; str:&#10;Returns an input generated by structural mutation&#10;of a seed in the population\">\n",
       "<text text-anchor=\"start\" x=\"34.25\" y=\"-21.5\" font-family=\"'Fira Mono', 'Source Code Pro', 'Courier', monospace\" font-style=\"italic\" font-size=\"10.00\">create_candidate()</text>\n",
       "</a>\n",
       "</g>\n",
       "</a>\n",
       "</g>\n",
       "</a>\n",
       "</g>\n",
       "</g>\n",
       "<!-- GreyboxFuzzer -->\n",
       "<g id=\"node2\" class=\"node\">\n",
       "<title>GreyboxFuzzer</title>\n",
       "<g id=\"a_node2\"><a xlink:href=\"GreyboxFuzzer.ipynb\" xlink:title=\"class GreyboxFuzzer:&#10;Coverage&#45;guided mutational fuzzing.\">\n",
       "<polygon fill=\"none\" stroke=\"black\" points=\"33.75,-179.88 33.75,-226.62 142.75,-226.62 142.75,-179.88 33.75,-179.88\"/>\n",
       "<text text-anchor=\"start\" x=\"41.75\" y=\"-210.32\" font-family=\"Patua One, Helvetica, sans-serif\" font-weight=\"bold\" font-size=\"14.00\" fill=\"#b03a2e\">GreyboxFuzzer</text>\n",
       "<polyline fill=\"none\" stroke=\"black\" points=\"33.75,-200.62 142.75,-200.62\"/>\n",
       "<g id=\"a_node2_3\"><a xlink:href=\"#\" xlink:title=\"GreyboxFuzzer\">\n",
       "<g id=\"a_node2_4\"><a xlink:href=\"GreyboxFuzzer.ipynb\" xlink:title=\"run(self, runner: MutationFuzzer.FunctionCoverageRunner) &#45;&gt; Tuple[Any, str]:&#10;Run function(inp) while tracking coverage.&#10;If we reach new coverage,&#10;add inp to population and its coverage to population_coverage\">\n",
       "<text text-anchor=\"start\" x=\"73.25\" y=\"-188.12\" font-family=\"'Fira Mono', 'Source Code Pro', 'Courier', monospace\" font-weight=\"bold\" font-style=\"italic\" font-size=\"10.00\">run()</text>\n",
       "</a>\n",
       "</g>\n",
       "</a>\n",
       "</g>\n",
       "</a>\n",
       "</g>\n",
       "</g>\n",
       "<!-- GreyboxGrammarFuzzer&#45;&gt;GreyboxFuzzer -->\n",
       "<g id=\"edge1\" class=\"edge\">\n",
       "<title>GreyboxGrammarFuzzer&#45;&gt;GreyboxFuzzer</title>\n",
       "<path fill=\"none\" stroke=\"black\" d=\"M88.25,-73.03C88.25,-99.88 88.25,-139.82 88.25,-168.18\"/>\n",
       "<polygon fill=\"none\" stroke=\"black\" points=\"84.75,-168.04 88.25,-178.04 91.75,-168.04 84.75,-168.04\"/>\n",
       "</g>\n",
       "<!-- AdvancedMutationFuzzer -->\n",
       "<g id=\"node3\" class=\"node\">\n",
       "<title>AdvancedMutationFuzzer</title>\n",
       "<g id=\"a_node3\"><a xlink:href=\"GreyboxFuzzer.ipynb\" xlink:title=\"class AdvancedMutationFuzzer:&#10;Base class for mutation&#45;based fuzzing.\">\n",
       "<polygon fill=\"none\" stroke=\"black\" points=\"0,-321 0,-380.5 176.5,-380.5 176.5,-321 0,-321\"/>\n",
       "<text text-anchor=\"start\" x=\"8\" y=\"-364.2\" font-family=\"Patua One, Helvetica, sans-serif\" font-weight=\"bold\" font-size=\"14.00\" fill=\"#b03a2e\">AdvancedMutationFuzzer</text>\n",
       "<polyline fill=\"none\" stroke=\"black\" points=\"0,-354.5 176.5,-354.5\"/>\n",
       "<g id=\"a_node3_5\"><a xlink:href=\"#\" xlink:title=\"AdvancedMutationFuzzer\">\n",
       "<g id=\"a_node3_6\"><a xlink:href=\"GreyboxFuzzer.ipynb\" xlink:title=\"__init__(self, seeds: List[str], mutator: GreyboxFuzzer.Mutator, schedule: GreyboxFuzzer.PowerSchedule) &#45;&gt; None:&#10;Constructor.&#10;`seeds` &#45; a list of (input) strings to mutate.&#10;`mutator` &#45; the mutator to apply.&#10;`schedule` &#45; the power schedule to apply.\">\n",
       "<text text-anchor=\"start\" x=\"58.25\" y=\"-342\" font-family=\"'Fira Mono', 'Source Code Pro', 'Courier', monospace\" font-weight=\"bold\" font-style=\"italic\" font-size=\"10.00\">__init__()</text>\n",
       "</a>\n",
       "</g>\n",
       "<g id=\"a_node3_7\"><a xlink:href=\"GreyboxFuzzer.ipynb\" xlink:title=\"fuzz(self) &#45;&gt; str:&#10;Returns first each seed once and then generates new inputs\">\n",
       "<text text-anchor=\"start\" x=\"58.25\" y=\"-329.25\" font-family=\"'Fira Mono', 'Source Code Pro', 'Courier', monospace\" font-weight=\"bold\" font-style=\"italic\" font-size=\"10.00\">fuzz()</text>\n",
       "</a>\n",
       "</g>\n",
       "</a>\n",
       "</g>\n",
       "</a>\n",
       "</g>\n",
       "</g>\n",
       "<!-- GreyboxFuzzer&#45;&gt;AdvancedMutationFuzzer -->\n",
       "<g id=\"edge2\" class=\"edge\">\n",
       "<title>GreyboxFuzzer&#45;&gt;AdvancedMutationFuzzer</title>\n",
       "<path fill=\"none\" stroke=\"black\" d=\"M88.25,-226.98C88.25,-248.99 88.25,-282.81 88.25,-309.39\"/>\n",
       "<polygon fill=\"none\" stroke=\"black\" points=\"84.75,-309.14 88.25,-319.14 91.75,-309.14 84.75,-309.14\"/>\n",
       "</g>\n",
       "<!-- Fuzzer -->\n",
       "<g id=\"node4\" class=\"node\">\n",
       "<title>Fuzzer</title>\n",
       "<g id=\"a_node4\"><a xlink:href=\"Fuzzer.ipynb\" xlink:title=\"class Fuzzer:&#10;Base class for fuzzers.\">\n",
       "<polygon fill=\"none\" stroke=\"black\" points=\"50.25,-417.5 50.25,-502.5 126.25,-502.5 126.25,-417.5 50.25,-417.5\"/>\n",
       "<text text-anchor=\"start\" x=\"67.62\" y=\"-486.2\" font-family=\"Patua One, Helvetica, sans-serif\" font-weight=\"bold\" font-size=\"14.00\" fill=\"#b03a2e\">Fuzzer</text>\n",
       "<polyline fill=\"none\" stroke=\"black\" points=\"50.25,-476.5 126.25,-476.5\"/>\n",
       "<g id=\"a_node4_8\"><a xlink:href=\"#\" xlink:title=\"Fuzzer\">\n",
       "<g id=\"a_node4_9\"><a xlink:href=\"Fuzzer.ipynb\" xlink:title=\"__init__(self) &#45;&gt; None:&#10;Constructor\">\n",
       "<text text-anchor=\"start\" x=\"58.25\" y=\"-464\" font-family=\"'Fira Mono', 'Source Code Pro', 'Courier', monospace\" font-weight=\"bold\" font-style=\"italic\" font-size=\"10.00\">__init__()</text>\n",
       "</a>\n",
       "</g>\n",
       "<g id=\"a_node4_10\"><a xlink:href=\"Fuzzer.ipynb\" xlink:title=\"fuzz(self) &#45;&gt; str:&#10;Return fuzz input\">\n",
       "<text text-anchor=\"start\" x=\"58.25\" y=\"-451.25\" font-family=\"'Fira Mono', 'Source Code Pro', 'Courier', monospace\" font-weight=\"bold\" font-style=\"italic\" font-size=\"10.00\">fuzz()</text>\n",
       "</a>\n",
       "</g>\n",
       "<g id=\"a_node4_11\"><a xlink:href=\"Fuzzer.ipynb\" xlink:title=\"run(self, runner: Fuzzer.Runner = &lt;Fuzzer.Runner object at 0x1045bb110&gt;) &#45;&gt; Tuple[subprocess.CompletedProcess, str]:&#10;Run `runner` with fuzz input\">\n",
       "<text text-anchor=\"start\" x=\"58.25\" y=\"-438.5\" font-family=\"'Fira Mono', 'Source Code Pro', 'Courier', monospace\" font-weight=\"bold\" font-style=\"italic\" font-size=\"10.00\">run()</text>\n",
       "</a>\n",
       "</g>\n",
       "<g id=\"a_node4_12\"><a xlink:href=\"Fuzzer.ipynb\" xlink:title=\"runs(self, runner: Fuzzer.Runner = &lt;Fuzzer.PrintRunner object at 0x1045bad80&gt;, trials: int = 10) &#45;&gt; List[Tuple[subprocess.CompletedProcess, str]]:&#10;Run `runner` with fuzz input, `trials` times\">\n",
       "<text text-anchor=\"start\" x=\"58.25\" y=\"-425.75\" font-family=\"'Fira Mono', 'Source Code Pro', 'Courier', monospace\" font-weight=\"bold\" font-size=\"10.00\">runs()</text>\n",
       "</a>\n",
       "</g>\n",
       "</a>\n",
       "</g>\n",
       "</a>\n",
       "</g>\n",
       "</g>\n",
       "<!-- AdvancedMutationFuzzer&#45;&gt;Fuzzer -->\n",
       "<g id=\"edge3\" class=\"edge\">\n",
       "<title>AdvancedMutationFuzzer&#45;&gt;Fuzzer</title>\n",
       "<path fill=\"none\" stroke=\"black\" d=\"M88.25,-380.77C88.25,-388.54 88.25,-397.18 88.25,-405.81\"/>\n",
       "<polygon fill=\"none\" stroke=\"black\" points=\"84.75,-405.55 88.25,-415.55 91.75,-405.55 84.75,-405.55\"/>\n",
       "</g>\n",
       "<!-- AFLSmartSchedule -->\n",
       "<g id=\"node5\" class=\"node\">\n",
       "<title>AFLSmartSchedule</title>\n",
       "<g id=\"a_node5\"><a xlink:href=\"#\" xlink:title=\"class AFLSmartSchedule:&#10;Define how fuzzing time should be distributed across the population.\">\n",
       "<polygon fill=\"none\" stroke=\"black\" points=\"190.25,-0.5 190.25,-85.5 326.25,-85.5 326.25,-0.5 190.25,-0.5\"/>\n",
       "<text text-anchor=\"start\" x=\"200.5\" y=\"-69.2\" font-family=\"Patua One, Helvetica, sans-serif\" font-weight=\"bold\" font-size=\"14.00\" fill=\"#b03a2e\">AFLSmartSchedule</text>\n",
       "<polyline fill=\"none\" stroke=\"black\" points=\"190.25,-59.5 326.25,-59.5\"/>\n",
       "<g id=\"a_node5_13\"><a xlink:href=\"#\" xlink:title=\"AFLSmartSchedule\">\n",
       "<g id=\"a_node5_14\"><a xlink:href=\"#\" xlink:title=\"__init__(self, parser: Parser.EarleyParser, exponent: float = 1.0):&#10;Constructor\">\n",
       "<text text-anchor=\"start\" x=\"198.25\" y=\"-47\" font-family=\"'Fira Mono', 'Source Code Pro', 'Courier', monospace\" font-weight=\"bold\" font-style=\"italic\" font-size=\"10.00\">__init__()</text>\n",
       "</a>\n",
       "</g>\n",
       "<g id=\"a_node5_15\"><a xlink:href=\"#\" xlink:title=\"assignEnergy(self, population: Sequence[GreyboxFuzzer.Seed]):&#10;Assign exponential energy proportional to degree of validity\">\n",
       "<text text-anchor=\"start\" x=\"198.25\" y=\"-34.25\" font-family=\"'Fira Mono', 'Source Code Pro', 'Courier', monospace\" font-style=\"italic\" font-size=\"10.00\">assignEnergy()</text>\n",
       "</a>\n",
       "</g>\n",
       "<g id=\"a_node5_16\"><a xlink:href=\"#\" xlink:title=\"degree_of_validity(self, seed: GreyboxFuzzer.Seed) &#45;&gt; float:&#10;Returns the proportion of a seed that is parsable\">\n",
       "<text text-anchor=\"start\" x=\"198.25\" y=\"-20.5\" font-family=\"'Fira Mono', 'Source Code Pro', 'Courier', monospace\" font-size=\"10.00\">degree_of_validity()</text>\n",
       "</a>\n",
       "</g>\n",
       "<g id=\"a_node5_17\"><a xlink:href=\"#\" xlink:title=\"parsable(self, seed: GreyboxFuzzer.Seed) &#45;&gt; str:&#10;Returns the substring that is parsable\">\n",
       "<text text-anchor=\"start\" x=\"198.25\" y=\"-7.75\" font-family=\"'Fira Mono', 'Source Code Pro', 'Courier', monospace\" font-size=\"10.00\">parsable()</text>\n",
       "</a>\n",
       "</g>\n",
       "</a>\n",
       "</g>\n",
       "</a>\n",
       "</g>\n",
       "</g>\n",
       "<!-- PowerSchedule -->\n",
       "<g id=\"node6\" class=\"node\">\n",
       "<title>PowerSchedule</title>\n",
       "<g id=\"a_node6\"><a xlink:href=\"GreyboxFuzzer.ipynb\" xlink:title=\"class PowerSchedule:&#10;Define how fuzzing time should be distributed across the population.\">\n",
       "<polygon fill=\"none\" stroke=\"black\" points=\"203.38,-179.88 203.38,-226.62 313.12,-226.62 313.12,-179.88 203.38,-179.88\"/>\n",
       "<text text-anchor=\"start\" x=\"211.38\" y=\"-210.32\" font-family=\"Patua One, Helvetica, sans-serif\" font-weight=\"bold\" font-size=\"14.00\" fill=\"#b03a2e\">PowerSchedule</text>\n",
       "<polyline fill=\"none\" stroke=\"black\" points=\"203.38,-200.62 313.12,-200.62\"/>\n",
       "<g id=\"a_node6_18\"><a xlink:href=\"#\" xlink:title=\"PowerSchedule\">\n",
       "<g id=\"a_node6_19\"><a xlink:href=\"GreyboxFuzzer.ipynb\" xlink:title=\"__init__(self) &#45;&gt; None:&#10;Constructor\">\n",
       "<text text-anchor=\"start\" x=\"228.25\" y=\"-188.12\" font-family=\"'Fira Mono', 'Source Code Pro', 'Courier', monospace\" font-weight=\"bold\" font-style=\"italic\" font-size=\"10.00\">__init__()</text>\n",
       "</a>\n",
       "</g>\n",
       "</a>\n",
       "</g>\n",
       "</a>\n",
       "</g>\n",
       "</g>\n",
       "<!-- AFLSmartSchedule&#45;&gt;PowerSchedule -->\n",
       "<g id=\"edge4\" class=\"edge\">\n",
       "<title>AFLSmartSchedule&#45;&gt;PowerSchedule</title>\n",
       "<path fill=\"none\" stroke=\"black\" d=\"M258.25,-85.99C258.25,-111.69 258.25,-144.13 258.25,-168.22\"/>\n",
       "<polygon fill=\"none\" stroke=\"black\" points=\"254.75,-168.12 258.25,-178.12 261.75,-168.12 254.75,-168.12\"/>\n",
       "</g>\n",
       "<!-- RegionMutator -->\n",
       "<g id=\"node7\" class=\"node\">\n",
       "<title>RegionMutator</title>\n",
       "<g id=\"a_node7\"><a xlink:href=\"#\" xlink:title=\"class RegionMutator:&#10;Mutate inputs with input fragments from a pool\">\n",
       "<polygon fill=\"none\" stroke=\"black\" points=\"344.25,-6.88 344.25,-79.12 492.25,-79.12 492.25,-6.88 344.25,-6.88\"/>\n",
       "<text text-anchor=\"start\" x=\"371\" y=\"-62.83\" font-family=\"Patua One, Helvetica, sans-serif\" font-weight=\"bold\" font-size=\"14.00\" fill=\"#b03a2e\">RegionMutator</text>\n",
       "<polyline fill=\"none\" stroke=\"black\" points=\"344.25,-53.12 492.25,-53.12\"/>\n",
       "<g id=\"a_node7_20\"><a xlink:href=\"#\" xlink:title=\"RegionMutator\">\n",
       "<g id=\"a_node7_21\"><a xlink:href=\"#\" xlink:title=\"add_to_fragment_pool(self, seed: SeedWithRegions) &#45;&gt; None:&#10;Mark fragments and regions in a seed file\">\n",
       "<text text-anchor=\"start\" x=\"352.25\" y=\"-40.62\" font-family=\"'Fira Mono', 'Source Code Pro', 'Courier', monospace\" font-style=\"italic\" font-size=\"10.00\">add_to_fragment_pool()</text>\n",
       "</a>\n",
       "</g>\n",
       "<g id=\"a_node7_22\"><a xlink:href=\"#\" xlink:title=\"delete_fragment(self, seed: SeedWithRegions) &#45;&gt; SeedWithRegions:&#10;Deletes a random region\">\n",
       "<text text-anchor=\"start\" x=\"352.25\" y=\"-27.88\" font-family=\"'Fira Mono', 'Source Code Pro', 'Courier', monospace\" font-style=\"italic\" font-size=\"10.00\">delete_fragment()</text>\n",
       "</a>\n",
       "</g>\n",
       "<g id=\"a_node7_23\"><a xlink:href=\"#\" xlink:title=\"swap_fragment(self, seed: SeedWithRegions) &#45;&gt; SeedWithRegions:&#10;Chooses a random region and swaps it with a fragment&#10;that starts with the same symbol\">\n",
       "<text text-anchor=\"start\" x=\"352.25\" y=\"-15.12\" font-family=\"'Fira Mono', 'Source Code Pro', 'Courier', monospace\" font-style=\"italic\" font-size=\"10.00\">swap_fragment()</text>\n",
       "</a>\n",
       "</g>\n",
       "</a>\n",
       "</g>\n",
       "</a>\n",
       "</g>\n",
       "</g>\n",
       "<!-- FragmentMutator -->\n",
       "<g id=\"node8\" class=\"node\">\n",
       "<title>FragmentMutator</title>\n",
       "<g id=\"a_node8\"><a xlink:href=\"#\" xlink:title=\"class FragmentMutator:&#10;Mutate inputs with input fragments from a pool\">\n",
       "<polygon fill=\"none\" stroke=\"black\" points=\"344.25,-122.5 344.25,-284 492.25,-284 492.25,-122.5 344.25,-122.5\"/>\n",
       "<text text-anchor=\"start\" x=\"362.38\" y=\"-267.7\" font-family=\"Patua One, Helvetica, sans-serif\" font-weight=\"bold\" font-size=\"14.00\" fill=\"#b03a2e\">FragmentMutator</text>\n",
       "<polyline fill=\"none\" stroke=\"black\" points=\"344.25,-258 492.25,-258\"/>\n",
       "<g id=\"a_node8_24\"><a xlink:href=\"#\" xlink:title=\"FragmentMutator\">\n",
       "<g id=\"a_node8_25\"><a xlink:href=\"#\" xlink:title=\"__init__(self, parser):&#10;Initialize mutators\">\n",
       "<text text-anchor=\"start\" x=\"352.25\" y=\"-245.5\" font-family=\"'Fira Mono', 'Source Code Pro', 'Courier', monospace\" font-weight=\"bold\" font-style=\"italic\" font-size=\"10.00\">__init__()</text>\n",
       "</a>\n",
       "</g>\n",
       "<g id=\"a_node8_26\"><a xlink:href=\"#\" xlink:title=\"add_to_fragment_pool(self, seed: SeedWithStructure) &#45;&gt; None:&#10;Adds all fragments of a seed to the fragment pool\">\n",
       "<text text-anchor=\"start\" x=\"352.25\" y=\"-232.75\" font-family=\"'Fira Mono', 'Source Code Pro', 'Courier', monospace\" font-weight=\"bold\" font-style=\"italic\" font-size=\"10.00\">add_to_fragment_pool()</text>\n",
       "</a>\n",
       "</g>\n",
       "<g id=\"a_node8_27\"><a xlink:href=\"#\" xlink:title=\"add_fragment(self, fragment: DerivationTree) &#45;&gt; None:&#10;Recursively adds fragments to the fragment pool\">\n",
       "<text text-anchor=\"start\" x=\"352.25\" y=\"-219\" font-family=\"'Fira Mono', 'Source Code Pro', 'Courier', monospace\" font-size=\"10.00\">add_fragment()</text>\n",
       "</a>\n",
       "</g>\n",
       "<g id=\"a_node8_28\"><a xlink:href=\"#\" xlink:title=\"count_nodes(self, fragment: DerivationTree) &#45;&gt; int:&#10;Returns the number of nodes in the fragment\">\n",
       "<text text-anchor=\"start\" x=\"352.25\" y=\"-206.25\" font-family=\"'Fira Mono', 'Source Code Pro', 'Courier', monospace\" font-size=\"10.00\">count_nodes()</text>\n",
       "</a>\n",
       "</g>\n",
       "<g id=\"a_node8_29\"><a xlink:href=\"#\" xlink:title=\"delete_fragment(self, seed: SeedWithStructure) &#45;&gt; SeedWithStructure:&#10;Delete a random fragment\">\n",
       "<text text-anchor=\"start\" x=\"352.25\" y=\"-194.5\" font-family=\"'Fira Mono', 'Source Code Pro', 'Courier', monospace\" font-style=\"italic\" font-size=\"10.00\">delete_fragment()</text>\n",
       "</a>\n",
       "</g>\n",
       "<g id=\"a_node8_30\"><a xlink:href=\"#\" xlink:title=\"is_excluded(self, symbol: str) &#45;&gt; bool:&#10;Returns true if a fragment starting with a specific&#10;symbol and all its decendents can be excluded\">\n",
       "<text text-anchor=\"start\" x=\"352.25\" y=\"-180.75\" font-family=\"'Fira Mono', 'Source Code Pro', 'Courier', monospace\" font-size=\"10.00\">is_excluded()</text>\n",
       "</a>\n",
       "</g>\n",
       "<g id=\"a_node8_31\"><a xlink:href=\"#\" xlink:title=\"mutate(self, seed: SeedWithStructure) &#45;&gt; SeedWithStructure:&#10;Implement structure&#45;aware mutation. Memoize seeds.\">\n",
       "<text text-anchor=\"start\" x=\"352.25\" y=\"-169\" font-family=\"'Fira Mono', 'Source Code Pro', 'Courier', monospace\" font-style=\"italic\" font-size=\"10.00\">mutate()</text>\n",
       "</a>\n",
       "</g>\n",
       "<g id=\"a_node8_32\"><a xlink:href=\"#\" xlink:title=\"recursive_delete(self, fragment: DerivationTree) &#45;&gt; DerivationTree:&#10;Recursively finds the fragment to delete\">\n",
       "<text text-anchor=\"start\" x=\"352.25\" y=\"-155.25\" font-family=\"'Fira Mono', 'Source Code Pro', 'Courier', monospace\" font-size=\"10.00\">recursive_delete()</text>\n",
       "</a>\n",
       "</g>\n",
       "<g id=\"a_node8_33\"><a xlink:href=\"#\" xlink:title=\"recursive_swap(self, fragment: DerivationTree) &#45;&gt; DerivationTree:&#10;Recursively finds the fragment to swap.\">\n",
       "<text text-anchor=\"start\" x=\"352.25\" y=\"-142.5\" font-family=\"'Fira Mono', 'Source Code Pro', 'Courier', monospace\" font-size=\"10.00\">recursive_swap()</text>\n",
       "</a>\n",
       "</g>\n",
       "<g id=\"a_node8_34\"><a xlink:href=\"#\" xlink:title=\"swap_fragment(self, seed: SeedWithStructure) &#45;&gt; SeedWithStructure:&#10;Substitutes a random fragment with another with the same symbol\">\n",
       "<text text-anchor=\"start\" x=\"352.25\" y=\"-130.75\" font-family=\"'Fira Mono', 'Source Code Pro', 'Courier', monospace\" font-style=\"italic\" font-size=\"10.00\">swap_fragment()</text>\n",
       "</a>\n",
       "</g>\n",
       "</a>\n",
       "</g>\n",
       "</a>\n",
       "</g>\n",
       "</g>\n",
       "<!-- RegionMutator&#45;&gt;FragmentMutator -->\n",
       "<g id=\"edge5\" class=\"edge\">\n",
       "<title>RegionMutator&#45;&gt;FragmentMutator</title>\n",
       "<path fill=\"none\" stroke=\"black\" d=\"M418.25,-79.51C418.25,-89.08 418.25,-99.89 418.25,-111.02\"/>\n",
       "<polygon fill=\"none\" stroke=\"black\" points=\"414.75,-110.72 418.25,-120.72 421.75,-110.72 414.75,-110.72\"/>\n",
       "</g>\n",
       "<!-- Mutator -->\n",
       "<g id=\"node9\" class=\"node\">\n",
       "<title>Mutator</title>\n",
       "<g id=\"a_node9\"><a xlink:href=\"GreyboxFuzzer.ipynb\" xlink:title=\"class Mutator:&#10;Mutate strings\">\n",
       "<polygon fill=\"none\" stroke=\"black\" points=\"380.25,-327.38 380.25,-374.12 456.25,-374.12 456.25,-327.38 380.25,-327.38\"/>\n",
       "<text text-anchor=\"start\" x=\"392.38\" y=\"-357.82\" font-family=\"Patua One, Helvetica, sans-serif\" font-weight=\"bold\" font-size=\"14.00\" fill=\"#b03a2e\">Mutator</text>\n",
       "<polyline fill=\"none\" stroke=\"black\" points=\"380.25,-348.12 456.25,-348.12\"/>\n",
       "<g id=\"a_node9_35\"><a xlink:href=\"#\" xlink:title=\"Mutator\">\n",
       "<g id=\"a_node9_36\"><a xlink:href=\"GreyboxFuzzer.ipynb\" xlink:title=\"__init__(self) &#45;&gt; None:&#10;Constructor\">\n",
       "<text text-anchor=\"start\" x=\"388.25\" y=\"-335.62\" font-family=\"'Fira Mono', 'Source Code Pro', 'Courier', monospace\" font-weight=\"bold\" font-style=\"italic\" font-size=\"10.00\">__init__()</text>\n",
       "</a>\n",
       "</g>\n",
       "</a>\n",
       "</g>\n",
       "</a>\n",
       "</g>\n",
       "</g>\n",
       "<!-- FragmentMutator&#45;&gt;Mutator -->\n",
       "<g id=\"edge6\" class=\"edge\">\n",
       "<title>FragmentMutator&#45;&gt;Mutator</title>\n",
       "<path fill=\"none\" stroke=\"black\" d=\"M418.25,-284.24C418.25,-295.29 418.25,-306.11 418.25,-315.68\"/>\n",
       "<polygon fill=\"none\" stroke=\"black\" points=\"414.75,-315.53 418.25,-325.53 421.75,-315.53 414.75,-315.53\"/>\n",
       "</g>\n",
       "<!-- Legend -->\n",
       "<g id=\"node10\" class=\"node\">\n",
       "<title>Legend</title>\n",
       "<text text-anchor=\"start\" x=\"510.62\" y=\"-59\" font-family=\"Patua One, Helvetica, sans-serif\" font-weight=\"bold\" font-size=\"10.00\" fill=\"#b03a2e\">Legend</text>\n",
       "<text text-anchor=\"start\" x=\"510.62\" y=\"-49\" font-family=\"Patua One, Helvetica, sans-serif\" font-size=\"10.00\">• </text>\n",
       "<text text-anchor=\"start\" x=\"516.62\" y=\"-49\" font-family=\"'Fira Mono', 'Source Code Pro', 'Courier', monospace\" font-weight=\"bold\" font-size=\"8.00\">public_method()</text>\n",
       "<text text-anchor=\"start\" x=\"510.62\" y=\"-39\" font-family=\"Patua One, Helvetica, sans-serif\" font-size=\"10.00\">• </text>\n",
       "<text text-anchor=\"start\" x=\"516.62\" y=\"-39\" font-family=\"'Fira Mono', 'Source Code Pro', 'Courier', monospace\" font-size=\"8.00\">private_method()</text>\n",
       "<text text-anchor=\"start\" x=\"510.62\" y=\"-29\" font-family=\"Patua One, Helvetica, sans-serif\" font-size=\"10.00\">• </text>\n",
       "<text text-anchor=\"start\" x=\"516.62\" y=\"-29\" font-family=\"'Fira Mono', 'Source Code Pro', 'Courier', monospace\" font-style=\"italic\" font-size=\"8.00\">overloaded_method()</text>\n",
       "<text text-anchor=\"start\" x=\"510.62\" y=\"-19.95\" font-family=\"Helvetica,sans-Serif\" font-size=\"9.00\">Hover over names to see doc</text>\n",
       "</g>\n",
       "</g>\n",
       "</svg>\n"
      ],
      "text/html": [
       "<?xml version=\"1.0\" encoding=\"UTF-8\" standalone=\"no\"?>\n",
       "<!DOCTYPE svg PUBLIC \"-//W3C//DTD SVG 1.1//EN\"\n",
       " \"http://www.w3.org/Graphics/SVG/1.1/DTD/svg11.dtd\">\n",
       "<!-- Generated by graphviz version 12.2.1 (20241206.2353)\n",
       " -->\n",
       "<!-- Pages: 1 -->\n",
       "<svg width=\"638pt\" height=\"511pt\"\n",
       " viewBox=\"0.00 0.00 637.88 511.00\" xmlns=\"http://www.w3.org/2000/svg\" xmlns:xlink=\"http://www.w3.org/1999/xlink\">\n",
       "<g id=\"graph0\" class=\"graph\" transform=\"scale(1 1) rotate(0) translate(4 507)\">\n",
       "<g id=\"a_graph0\"><a xlink:title=\"GreyboxGrammarFuzzer class hierarchy\">\n",
       "<polygon fill=\"white\" stroke=\"none\" points=\"-4,4 -4,-507 633.88,-507 633.88,4 -4,4\"/>\n",
       "</a>\n",
       "</g>\n",
       "<!-- GreyboxGrammarFuzzer -->\n",
       "<g id=\"node1\" class=\"node\">\n",
       "<title>GreyboxGrammarFuzzer</title>\n",
       "<g id=\"a_node1\"><a xlink:href=\"#\" xlink:title=\"class GreyboxGrammarFuzzer:&#10;Greybox fuzzer using grammars.\">\n",
       "<polygon fill=\"none\" stroke=\"black\" points=\"4.5,-13.25 4.5,-72.75 172,-72.75 172,-13.25 4.5,-13.25\"/>\n",
       "<text text-anchor=\"start\" x=\"12.5\" y=\"-56.45\" font-family=\"Patua One, Helvetica, sans-serif\" font-weight=\"bold\" font-size=\"14.00\" fill=\"#b03a2e\">GreyboxGrammarFuzzer</text>\n",
       "<polyline fill=\"none\" stroke=\"black\" points=\"4.5,-46.75 172,-46.75\"/>\n",
       "<g id=\"a_node1_0\"><a xlink:href=\"#\" xlink:title=\"GreyboxGrammarFuzzer\">\n",
       "<g id=\"a_node1_1\"><a xlink:href=\"#\" xlink:title=\"__init__(self, seeds: List[str], byte_mutator: GreyboxFuzzer.Mutator, tree_mutator: FragmentMutator, schedule: GreyboxFuzzer.PowerSchedule) &#45;&gt; None:&#10;Constructor.&#10;`seeds` &#45; set of inputs to mutate.&#10;`byte_mutator` &#45; a byte&#45;level mutator.&#10;`tree_mutator` = a tree&#45;level mutator.&#10;`schedule` &#45; a power schedule.\">\n",
       "<text text-anchor=\"start\" x=\"34.25\" y=\"-34.25\" font-family=\"'Fira Mono', 'Source Code Pro', 'Courier', monospace\" font-weight=\"bold\" font-style=\"italic\" font-size=\"10.00\">__init__()</text>\n",
       "</a>\n",
       "</g>\n",
       "<g id=\"a_node1_2\"><a xlink:href=\"#\" xlink:title=\"create_candidate(self) &#45;&gt; str:&#10;Returns an input generated by structural mutation&#10;of a seed in the population\">\n",
       "<text text-anchor=\"start\" x=\"34.25\" y=\"-21.5\" font-family=\"'Fira Mono', 'Source Code Pro', 'Courier', monospace\" font-style=\"italic\" font-size=\"10.00\">create_candidate()</text>\n",
       "</a>\n",
       "</g>\n",
       "</a>\n",
       "</g>\n",
       "</a>\n",
       "</g>\n",
       "</g>\n",
       "<!-- GreyboxFuzzer -->\n",
       "<g id=\"node2\" class=\"node\">\n",
       "<title>GreyboxFuzzer</title>\n",
       "<g id=\"a_node2\"><a xlink:href=\"GreyboxFuzzer.ipynb\" xlink:title=\"class GreyboxFuzzer:&#10;Coverage&#45;guided mutational fuzzing.\">\n",
       "<polygon fill=\"none\" stroke=\"black\" points=\"33.75,-179.88 33.75,-226.62 142.75,-226.62 142.75,-179.88 33.75,-179.88\"/>\n",
       "<text text-anchor=\"start\" x=\"41.75\" y=\"-210.32\" font-family=\"Patua One, Helvetica, sans-serif\" font-weight=\"bold\" font-size=\"14.00\" fill=\"#b03a2e\">GreyboxFuzzer</text>\n",
       "<polyline fill=\"none\" stroke=\"black\" points=\"33.75,-200.62 142.75,-200.62\"/>\n",
       "<g id=\"a_node2_3\"><a xlink:href=\"#\" xlink:title=\"GreyboxFuzzer\">\n",
       "<g id=\"a_node2_4\"><a xlink:href=\"GreyboxFuzzer.ipynb\" xlink:title=\"run(self, runner: MutationFuzzer.FunctionCoverageRunner) &#45;&gt; Tuple[Any, str]:&#10;Run function(inp) while tracking coverage.&#10;If we reach new coverage,&#10;add inp to population and its coverage to population_coverage\">\n",
       "<text text-anchor=\"start\" x=\"73.25\" y=\"-188.12\" font-family=\"'Fira Mono', 'Source Code Pro', 'Courier', monospace\" font-weight=\"bold\" font-style=\"italic\" font-size=\"10.00\">run()</text>\n",
       "</a>\n",
       "</g>\n",
       "</a>\n",
       "</g>\n",
       "</a>\n",
       "</g>\n",
       "</g>\n",
       "<!-- GreyboxGrammarFuzzer&#45;&gt;GreyboxFuzzer -->\n",
       "<g id=\"edge1\" class=\"edge\">\n",
       "<title>GreyboxGrammarFuzzer&#45;&gt;GreyboxFuzzer</title>\n",
       "<path fill=\"none\" stroke=\"black\" d=\"M88.25,-73.03C88.25,-99.88 88.25,-139.82 88.25,-168.18\"/>\n",
       "<polygon fill=\"none\" stroke=\"black\" points=\"84.75,-168.04 88.25,-178.04 91.75,-168.04 84.75,-168.04\"/>\n",
       "</g>\n",
       "<!-- AdvancedMutationFuzzer -->\n",
       "<g id=\"node3\" class=\"node\">\n",
       "<title>AdvancedMutationFuzzer</title>\n",
       "<g id=\"a_node3\"><a xlink:href=\"GreyboxFuzzer.ipynb\" xlink:title=\"class AdvancedMutationFuzzer:&#10;Base class for mutation&#45;based fuzzing.\">\n",
       "<polygon fill=\"none\" stroke=\"black\" points=\"0,-321 0,-380.5 176.5,-380.5 176.5,-321 0,-321\"/>\n",
       "<text text-anchor=\"start\" x=\"8\" y=\"-364.2\" font-family=\"Patua One, Helvetica, sans-serif\" font-weight=\"bold\" font-size=\"14.00\" fill=\"#b03a2e\">AdvancedMutationFuzzer</text>\n",
       "<polyline fill=\"none\" stroke=\"black\" points=\"0,-354.5 176.5,-354.5\"/>\n",
       "<g id=\"a_node3_5\"><a xlink:href=\"#\" xlink:title=\"AdvancedMutationFuzzer\">\n",
       "<g id=\"a_node3_6\"><a xlink:href=\"GreyboxFuzzer.ipynb\" xlink:title=\"__init__(self, seeds: List[str], mutator: GreyboxFuzzer.Mutator, schedule: GreyboxFuzzer.PowerSchedule) &#45;&gt; None:&#10;Constructor.&#10;`seeds` &#45; a list of (input) strings to mutate.&#10;`mutator` &#45; the mutator to apply.&#10;`schedule` &#45; the power schedule to apply.\">\n",
       "<text text-anchor=\"start\" x=\"58.25\" y=\"-342\" font-family=\"'Fira Mono', 'Source Code Pro', 'Courier', monospace\" font-weight=\"bold\" font-style=\"italic\" font-size=\"10.00\">__init__()</text>\n",
       "</a>\n",
       "</g>\n",
       "<g id=\"a_node3_7\"><a xlink:href=\"GreyboxFuzzer.ipynb\" xlink:title=\"fuzz(self) &#45;&gt; str:&#10;Returns first each seed once and then generates new inputs\">\n",
       "<text text-anchor=\"start\" x=\"58.25\" y=\"-329.25\" font-family=\"'Fira Mono', 'Source Code Pro', 'Courier', monospace\" font-weight=\"bold\" font-style=\"italic\" font-size=\"10.00\">fuzz()</text>\n",
       "</a>\n",
       "</g>\n",
       "</a>\n",
       "</g>\n",
       "</a>\n",
       "</g>\n",
       "</g>\n",
       "<!-- GreyboxFuzzer&#45;&gt;AdvancedMutationFuzzer -->\n",
       "<g id=\"edge2\" class=\"edge\">\n",
       "<title>GreyboxFuzzer&#45;&gt;AdvancedMutationFuzzer</title>\n",
       "<path fill=\"none\" stroke=\"black\" d=\"M88.25,-226.98C88.25,-248.99 88.25,-282.81 88.25,-309.39\"/>\n",
       "<polygon fill=\"none\" stroke=\"black\" points=\"84.75,-309.14 88.25,-319.14 91.75,-309.14 84.75,-309.14\"/>\n",
       "</g>\n",
       "<!-- Fuzzer -->\n",
       "<g id=\"node4\" class=\"node\">\n",
       "<title>Fuzzer</title>\n",
       "<g id=\"a_node4\"><a xlink:href=\"Fuzzer.ipynb\" xlink:title=\"class Fuzzer:&#10;Base class for fuzzers.\">\n",
       "<polygon fill=\"none\" stroke=\"black\" points=\"50.25,-417.5 50.25,-502.5 126.25,-502.5 126.25,-417.5 50.25,-417.5\"/>\n",
       "<text text-anchor=\"start\" x=\"67.62\" y=\"-486.2\" font-family=\"Patua One, Helvetica, sans-serif\" font-weight=\"bold\" font-size=\"14.00\" fill=\"#b03a2e\">Fuzzer</text>\n",
       "<polyline fill=\"none\" stroke=\"black\" points=\"50.25,-476.5 126.25,-476.5\"/>\n",
       "<g id=\"a_node4_8\"><a xlink:href=\"#\" xlink:title=\"Fuzzer\">\n",
       "<g id=\"a_node4_9\"><a xlink:href=\"Fuzzer.ipynb\" xlink:title=\"__init__(self) &#45;&gt; None:&#10;Constructor\">\n",
       "<text text-anchor=\"start\" x=\"58.25\" y=\"-464\" font-family=\"'Fira Mono', 'Source Code Pro', 'Courier', monospace\" font-weight=\"bold\" font-style=\"italic\" font-size=\"10.00\">__init__()</text>\n",
       "</a>\n",
       "</g>\n",
       "<g id=\"a_node4_10\"><a xlink:href=\"Fuzzer.ipynb\" xlink:title=\"fuzz(self) &#45;&gt; str:&#10;Return fuzz input\">\n",
       "<text text-anchor=\"start\" x=\"58.25\" y=\"-451.25\" font-family=\"'Fira Mono', 'Source Code Pro', 'Courier', monospace\" font-weight=\"bold\" font-style=\"italic\" font-size=\"10.00\">fuzz()</text>\n",
       "</a>\n",
       "</g>\n",
       "<g id=\"a_node4_11\"><a xlink:href=\"Fuzzer.ipynb\" xlink:title=\"run(self, runner: Fuzzer.Runner = &lt;Fuzzer.Runner object at 0x1045bb110&gt;) &#45;&gt; Tuple[subprocess.CompletedProcess, str]:&#10;Run `runner` with fuzz input\">\n",
       "<text text-anchor=\"start\" x=\"58.25\" y=\"-438.5\" font-family=\"'Fira Mono', 'Source Code Pro', 'Courier', monospace\" font-weight=\"bold\" font-style=\"italic\" font-size=\"10.00\">run()</text>\n",
       "</a>\n",
       "</g>\n",
       "<g id=\"a_node4_12\"><a xlink:href=\"Fuzzer.ipynb\" xlink:title=\"runs(self, runner: Fuzzer.Runner = &lt;Fuzzer.PrintRunner object at 0x1045bad80&gt;, trials: int = 10) &#45;&gt; List[Tuple[subprocess.CompletedProcess, str]]:&#10;Run `runner` with fuzz input, `trials` times\">\n",
       "<text text-anchor=\"start\" x=\"58.25\" y=\"-425.75\" font-family=\"'Fira Mono', 'Source Code Pro', 'Courier', monospace\" font-weight=\"bold\" font-size=\"10.00\">runs()</text>\n",
       "</a>\n",
       "</g>\n",
       "</a>\n",
       "</g>\n",
       "</a>\n",
       "</g>\n",
       "</g>\n",
       "<!-- AdvancedMutationFuzzer&#45;&gt;Fuzzer -->\n",
       "<g id=\"edge3\" class=\"edge\">\n",
       "<title>AdvancedMutationFuzzer&#45;&gt;Fuzzer</title>\n",
       "<path fill=\"none\" stroke=\"black\" d=\"M88.25,-380.77C88.25,-388.54 88.25,-397.18 88.25,-405.81\"/>\n",
       "<polygon fill=\"none\" stroke=\"black\" points=\"84.75,-405.55 88.25,-415.55 91.75,-405.55 84.75,-405.55\"/>\n",
       "</g>\n",
       "<!-- AFLSmartSchedule -->\n",
       "<g id=\"node5\" class=\"node\">\n",
       "<title>AFLSmartSchedule</title>\n",
       "<g id=\"a_node5\"><a xlink:href=\"#\" xlink:title=\"class AFLSmartSchedule:&#10;Define how fuzzing time should be distributed across the population.\">\n",
       "<polygon fill=\"none\" stroke=\"black\" points=\"190.25,-0.5 190.25,-85.5 326.25,-85.5 326.25,-0.5 190.25,-0.5\"/>\n",
       "<text text-anchor=\"start\" x=\"200.5\" y=\"-69.2\" font-family=\"Patua One, Helvetica, sans-serif\" font-weight=\"bold\" font-size=\"14.00\" fill=\"#b03a2e\">AFLSmartSchedule</text>\n",
       "<polyline fill=\"none\" stroke=\"black\" points=\"190.25,-59.5 326.25,-59.5\"/>\n",
       "<g id=\"a_node5_13\"><a xlink:href=\"#\" xlink:title=\"AFLSmartSchedule\">\n",
       "<g id=\"a_node5_14\"><a xlink:href=\"#\" xlink:title=\"__init__(self, parser: Parser.EarleyParser, exponent: float = 1.0):&#10;Constructor\">\n",
       "<text text-anchor=\"start\" x=\"198.25\" y=\"-47\" font-family=\"'Fira Mono', 'Source Code Pro', 'Courier', monospace\" font-weight=\"bold\" font-style=\"italic\" font-size=\"10.00\">__init__()</text>\n",
       "</a>\n",
       "</g>\n",
       "<g id=\"a_node5_15\"><a xlink:href=\"#\" xlink:title=\"assignEnergy(self, population: Sequence[GreyboxFuzzer.Seed]):&#10;Assign exponential energy proportional to degree of validity\">\n",
       "<text text-anchor=\"start\" x=\"198.25\" y=\"-34.25\" font-family=\"'Fira Mono', 'Source Code Pro', 'Courier', monospace\" font-style=\"italic\" font-size=\"10.00\">assignEnergy()</text>\n",
       "</a>\n",
       "</g>\n",
       "<g id=\"a_node5_16\"><a xlink:href=\"#\" xlink:title=\"degree_of_validity(self, seed: GreyboxFuzzer.Seed) &#45;&gt; float:&#10;Returns the proportion of a seed that is parsable\">\n",
       "<text text-anchor=\"start\" x=\"198.25\" y=\"-20.5\" font-family=\"'Fira Mono', 'Source Code Pro', 'Courier', monospace\" font-size=\"10.00\">degree_of_validity()</text>\n",
       "</a>\n",
       "</g>\n",
       "<g id=\"a_node5_17\"><a xlink:href=\"#\" xlink:title=\"parsable(self, seed: GreyboxFuzzer.Seed) &#45;&gt; str:&#10;Returns the substring that is parsable\">\n",
       "<text text-anchor=\"start\" x=\"198.25\" y=\"-7.75\" font-family=\"'Fira Mono', 'Source Code Pro', 'Courier', monospace\" font-size=\"10.00\">parsable()</text>\n",
       "</a>\n",
       "</g>\n",
       "</a>\n",
       "</g>\n",
       "</a>\n",
       "</g>\n",
       "</g>\n",
       "<!-- PowerSchedule -->\n",
       "<g id=\"node6\" class=\"node\">\n",
       "<title>PowerSchedule</title>\n",
       "<g id=\"a_node6\"><a xlink:href=\"GreyboxFuzzer.ipynb\" xlink:title=\"class PowerSchedule:&#10;Define how fuzzing time should be distributed across the population.\">\n",
       "<polygon fill=\"none\" stroke=\"black\" points=\"203.38,-179.88 203.38,-226.62 313.12,-226.62 313.12,-179.88 203.38,-179.88\"/>\n",
       "<text text-anchor=\"start\" x=\"211.38\" y=\"-210.32\" font-family=\"Patua One, Helvetica, sans-serif\" font-weight=\"bold\" font-size=\"14.00\" fill=\"#b03a2e\">PowerSchedule</text>\n",
       "<polyline fill=\"none\" stroke=\"black\" points=\"203.38,-200.62 313.12,-200.62\"/>\n",
       "<g id=\"a_node6_18\"><a xlink:href=\"#\" xlink:title=\"PowerSchedule\">\n",
       "<g id=\"a_node6_19\"><a xlink:href=\"GreyboxFuzzer.ipynb\" xlink:title=\"__init__(self) &#45;&gt; None:&#10;Constructor\">\n",
       "<text text-anchor=\"start\" x=\"228.25\" y=\"-188.12\" font-family=\"'Fira Mono', 'Source Code Pro', 'Courier', monospace\" font-weight=\"bold\" font-style=\"italic\" font-size=\"10.00\">__init__()</text>\n",
       "</a>\n",
       "</g>\n",
       "</a>\n",
       "</g>\n",
       "</a>\n",
       "</g>\n",
       "</g>\n",
       "<!-- AFLSmartSchedule&#45;&gt;PowerSchedule -->\n",
       "<g id=\"edge4\" class=\"edge\">\n",
       "<title>AFLSmartSchedule&#45;&gt;PowerSchedule</title>\n",
       "<path fill=\"none\" stroke=\"black\" d=\"M258.25,-85.99C258.25,-111.69 258.25,-144.13 258.25,-168.22\"/>\n",
       "<polygon fill=\"none\" stroke=\"black\" points=\"254.75,-168.12 258.25,-178.12 261.75,-168.12 254.75,-168.12\"/>\n",
       "</g>\n",
       "<!-- RegionMutator -->\n",
       "<g id=\"node7\" class=\"node\">\n",
       "<title>RegionMutator</title>\n",
       "<g id=\"a_node7\"><a xlink:href=\"#\" xlink:title=\"class RegionMutator:&#10;Mutate inputs with input fragments from a pool\">\n",
       "<polygon fill=\"none\" stroke=\"black\" points=\"344.25,-6.88 344.25,-79.12 492.25,-79.12 492.25,-6.88 344.25,-6.88\"/>\n",
       "<text text-anchor=\"start\" x=\"371\" y=\"-62.83\" font-family=\"Patua One, Helvetica, sans-serif\" font-weight=\"bold\" font-size=\"14.00\" fill=\"#b03a2e\">RegionMutator</text>\n",
       "<polyline fill=\"none\" stroke=\"black\" points=\"344.25,-53.12 492.25,-53.12\"/>\n",
       "<g id=\"a_node7_20\"><a xlink:href=\"#\" xlink:title=\"RegionMutator\">\n",
       "<g id=\"a_node7_21\"><a xlink:href=\"#\" xlink:title=\"add_to_fragment_pool(self, seed: SeedWithRegions) &#45;&gt; None:&#10;Mark fragments and regions in a seed file\">\n",
       "<text text-anchor=\"start\" x=\"352.25\" y=\"-40.62\" font-family=\"'Fira Mono', 'Source Code Pro', 'Courier', monospace\" font-style=\"italic\" font-size=\"10.00\">add_to_fragment_pool()</text>\n",
       "</a>\n",
       "</g>\n",
       "<g id=\"a_node7_22\"><a xlink:href=\"#\" xlink:title=\"delete_fragment(self, seed: SeedWithRegions) &#45;&gt; SeedWithRegions:&#10;Deletes a random region\">\n",
       "<text text-anchor=\"start\" x=\"352.25\" y=\"-27.88\" font-family=\"'Fira Mono', 'Source Code Pro', 'Courier', monospace\" font-style=\"italic\" font-size=\"10.00\">delete_fragment()</text>\n",
       "</a>\n",
       "</g>\n",
       "<g id=\"a_node7_23\"><a xlink:href=\"#\" xlink:title=\"swap_fragment(self, seed: SeedWithRegions) &#45;&gt; SeedWithRegions:&#10;Chooses a random region and swaps it with a fragment&#10;that starts with the same symbol\">\n",
       "<text text-anchor=\"start\" x=\"352.25\" y=\"-15.12\" font-family=\"'Fira Mono', 'Source Code Pro', 'Courier', monospace\" font-style=\"italic\" font-size=\"10.00\">swap_fragment()</text>\n",
       "</a>\n",
       "</g>\n",
       "</a>\n",
       "</g>\n",
       "</a>\n",
       "</g>\n",
       "</g>\n",
       "<!-- FragmentMutator -->\n",
       "<g id=\"node8\" class=\"node\">\n",
       "<title>FragmentMutator</title>\n",
       "<g id=\"a_node8\"><a xlink:href=\"#\" xlink:title=\"class FragmentMutator:&#10;Mutate inputs with input fragments from a pool\">\n",
       "<polygon fill=\"none\" stroke=\"black\" points=\"344.25,-122.5 344.25,-284 492.25,-284 492.25,-122.5 344.25,-122.5\"/>\n",
       "<text text-anchor=\"start\" x=\"362.38\" y=\"-267.7\" font-family=\"Patua One, Helvetica, sans-serif\" font-weight=\"bold\" font-size=\"14.00\" fill=\"#b03a2e\">FragmentMutator</text>\n",
       "<polyline fill=\"none\" stroke=\"black\" points=\"344.25,-258 492.25,-258\"/>\n",
       "<g id=\"a_node8_24\"><a xlink:href=\"#\" xlink:title=\"FragmentMutator\">\n",
       "<g id=\"a_node8_25\"><a xlink:href=\"#\" xlink:title=\"__init__(self, parser):&#10;Initialize mutators\">\n",
       "<text text-anchor=\"start\" x=\"352.25\" y=\"-245.5\" font-family=\"'Fira Mono', 'Source Code Pro', 'Courier', monospace\" font-weight=\"bold\" font-style=\"italic\" font-size=\"10.00\">__init__()</text>\n",
       "</a>\n",
       "</g>\n",
       "<g id=\"a_node8_26\"><a xlink:href=\"#\" xlink:title=\"add_to_fragment_pool(self, seed: SeedWithStructure) &#45;&gt; None:&#10;Adds all fragments of a seed to the fragment pool\">\n",
       "<text text-anchor=\"start\" x=\"352.25\" y=\"-232.75\" font-family=\"'Fira Mono', 'Source Code Pro', 'Courier', monospace\" font-weight=\"bold\" font-style=\"italic\" font-size=\"10.00\">add_to_fragment_pool()</text>\n",
       "</a>\n",
       "</g>\n",
       "<g id=\"a_node8_27\"><a xlink:href=\"#\" xlink:title=\"add_fragment(self, fragment: DerivationTree) &#45;&gt; None:&#10;Recursively adds fragments to the fragment pool\">\n",
       "<text text-anchor=\"start\" x=\"352.25\" y=\"-219\" font-family=\"'Fira Mono', 'Source Code Pro', 'Courier', monospace\" font-size=\"10.00\">add_fragment()</text>\n",
       "</a>\n",
       "</g>\n",
       "<g id=\"a_node8_28\"><a xlink:href=\"#\" xlink:title=\"count_nodes(self, fragment: DerivationTree) &#45;&gt; int:&#10;Returns the number of nodes in the fragment\">\n",
       "<text text-anchor=\"start\" x=\"352.25\" y=\"-206.25\" font-family=\"'Fira Mono', 'Source Code Pro', 'Courier', monospace\" font-size=\"10.00\">count_nodes()</text>\n",
       "</a>\n",
       "</g>\n",
       "<g id=\"a_node8_29\"><a xlink:href=\"#\" xlink:title=\"delete_fragment(self, seed: SeedWithStructure) &#45;&gt; SeedWithStructure:&#10;Delete a random fragment\">\n",
       "<text text-anchor=\"start\" x=\"352.25\" y=\"-194.5\" font-family=\"'Fira Mono', 'Source Code Pro', 'Courier', monospace\" font-style=\"italic\" font-size=\"10.00\">delete_fragment()</text>\n",
       "</a>\n",
       "</g>\n",
       "<g id=\"a_node8_30\"><a xlink:href=\"#\" xlink:title=\"is_excluded(self, symbol: str) &#45;&gt; bool:&#10;Returns true if a fragment starting with a specific&#10;symbol and all its decendents can be excluded\">\n",
       "<text text-anchor=\"start\" x=\"352.25\" y=\"-180.75\" font-family=\"'Fira Mono', 'Source Code Pro', 'Courier', monospace\" font-size=\"10.00\">is_excluded()</text>\n",
       "</a>\n",
       "</g>\n",
       "<g id=\"a_node8_31\"><a xlink:href=\"#\" xlink:title=\"mutate(self, seed: SeedWithStructure) &#45;&gt; SeedWithStructure:&#10;Implement structure&#45;aware mutation. Memoize seeds.\">\n",
       "<text text-anchor=\"start\" x=\"352.25\" y=\"-169\" font-family=\"'Fira Mono', 'Source Code Pro', 'Courier', monospace\" font-style=\"italic\" font-size=\"10.00\">mutate()</text>\n",
       "</a>\n",
       "</g>\n",
       "<g id=\"a_node8_32\"><a xlink:href=\"#\" xlink:title=\"recursive_delete(self, fragment: DerivationTree) &#45;&gt; DerivationTree:&#10;Recursively finds the fragment to delete\">\n",
       "<text text-anchor=\"start\" x=\"352.25\" y=\"-155.25\" font-family=\"'Fira Mono', 'Source Code Pro', 'Courier', monospace\" font-size=\"10.00\">recursive_delete()</text>\n",
       "</a>\n",
       "</g>\n",
       "<g id=\"a_node8_33\"><a xlink:href=\"#\" xlink:title=\"recursive_swap(self, fragment: DerivationTree) &#45;&gt; DerivationTree:&#10;Recursively finds the fragment to swap.\">\n",
       "<text text-anchor=\"start\" x=\"352.25\" y=\"-142.5\" font-family=\"'Fira Mono', 'Source Code Pro', 'Courier', monospace\" font-size=\"10.00\">recursive_swap()</text>\n",
       "</a>\n",
       "</g>\n",
       "<g id=\"a_node8_34\"><a xlink:href=\"#\" xlink:title=\"swap_fragment(self, seed: SeedWithStructure) &#45;&gt; SeedWithStructure:&#10;Substitutes a random fragment with another with the same symbol\">\n",
       "<text text-anchor=\"start\" x=\"352.25\" y=\"-130.75\" font-family=\"'Fira Mono', 'Source Code Pro', 'Courier', monospace\" font-style=\"italic\" font-size=\"10.00\">swap_fragment()</text>\n",
       "</a>\n",
       "</g>\n",
       "</a>\n",
       "</g>\n",
       "</a>\n",
       "</g>\n",
       "</g>\n",
       "<!-- RegionMutator&#45;&gt;FragmentMutator -->\n",
       "<g id=\"edge5\" class=\"edge\">\n",
       "<title>RegionMutator&#45;&gt;FragmentMutator</title>\n",
       "<path fill=\"none\" stroke=\"black\" d=\"M418.25,-79.51C418.25,-89.08 418.25,-99.89 418.25,-111.02\"/>\n",
       "<polygon fill=\"none\" stroke=\"black\" points=\"414.75,-110.72 418.25,-120.72 421.75,-110.72 414.75,-110.72\"/>\n",
       "</g>\n",
       "<!-- Mutator -->\n",
       "<g id=\"node9\" class=\"node\">\n",
       "<title>Mutator</title>\n",
       "<g id=\"a_node9\"><a xlink:href=\"GreyboxFuzzer.ipynb\" xlink:title=\"class Mutator:&#10;Mutate strings\">\n",
       "<polygon fill=\"none\" stroke=\"black\" points=\"380.25,-327.38 380.25,-374.12 456.25,-374.12 456.25,-327.38 380.25,-327.38\"/>\n",
       "<text text-anchor=\"start\" x=\"392.38\" y=\"-357.82\" font-family=\"Patua One, Helvetica, sans-serif\" font-weight=\"bold\" font-size=\"14.00\" fill=\"#b03a2e\">Mutator</text>\n",
       "<polyline fill=\"none\" stroke=\"black\" points=\"380.25,-348.12 456.25,-348.12\"/>\n",
       "<g id=\"a_node9_35\"><a xlink:href=\"#\" xlink:title=\"Mutator\">\n",
       "<g id=\"a_node9_36\"><a xlink:href=\"GreyboxFuzzer.ipynb\" xlink:title=\"__init__(self) &#45;&gt; None:&#10;Constructor\">\n",
       "<text text-anchor=\"start\" x=\"388.25\" y=\"-335.62\" font-family=\"'Fira Mono', 'Source Code Pro', 'Courier', monospace\" font-weight=\"bold\" font-style=\"italic\" font-size=\"10.00\">__init__()</text>\n",
       "</a>\n",
       "</g>\n",
       "</a>\n",
       "</g>\n",
       "</a>\n",
       "</g>\n",
       "</g>\n",
       "<!-- FragmentMutator&#45;&gt;Mutator -->\n",
       "<g id=\"edge6\" class=\"edge\">\n",
       "<title>FragmentMutator&#45;&gt;Mutator</title>\n",
       "<path fill=\"none\" stroke=\"black\" d=\"M418.25,-284.24C418.25,-295.29 418.25,-306.11 418.25,-315.68\"/>\n",
       "<polygon fill=\"none\" stroke=\"black\" points=\"414.75,-315.53 418.25,-325.53 421.75,-315.53 414.75,-315.53\"/>\n",
       "</g>\n",
       "<!-- Legend -->\n",
       "<g id=\"node10\" class=\"node\">\n",
       "<title>Legend</title>\n",
       "<text text-anchor=\"start\" x=\"510.62\" y=\"-59\" font-family=\"Patua One, Helvetica, sans-serif\" font-weight=\"bold\" font-size=\"10.00\" fill=\"#b03a2e\">Legend</text>\n",
       "<text text-anchor=\"start\" x=\"510.62\" y=\"-49\" font-family=\"Patua One, Helvetica, sans-serif\" font-size=\"10.00\">• </text>\n",
       "<text text-anchor=\"start\" x=\"516.62\" y=\"-49\" font-family=\"'Fira Mono', 'Source Code Pro', 'Courier', monospace\" font-weight=\"bold\" font-size=\"8.00\">public_method()</text>\n",
       "<text text-anchor=\"start\" x=\"510.62\" y=\"-39\" font-family=\"Patua One, Helvetica, sans-serif\" font-size=\"10.00\">• </text>\n",
       "<text text-anchor=\"start\" x=\"516.62\" y=\"-39\" font-family=\"'Fira Mono', 'Source Code Pro', 'Courier', monospace\" font-size=\"8.00\">private_method()</text>\n",
       "<text text-anchor=\"start\" x=\"510.62\" y=\"-29\" font-family=\"Patua One, Helvetica, sans-serif\" font-size=\"10.00\">• </text>\n",
       "<text text-anchor=\"start\" x=\"516.62\" y=\"-29\" font-family=\"'Fira Mono', 'Source Code Pro', 'Courier', monospace\" font-style=\"italic\" font-size=\"8.00\">overloaded_method()</text>\n",
       "<text text-anchor=\"start\" x=\"510.62\" y=\"-19.95\" font-family=\"Helvetica,sans-Serif\" font-size=\"9.00\">Hover over names to see doc</text>\n",
       "</g>\n",
       "</g>\n",
       "</svg>\n"
      ],
      "text/plain": [
       "<graphviz.graphs.Digraph at 0x10cc959d0>"
      ]
     },
     "execution_count": 87,
     "metadata": {},
     "output_type": "execute_result"
    }
   ],
   "source": [
    "# ignore\n",
    "display_class_hierarchy([GreyboxGrammarFuzzer, AFLSmartSchedule, RegionMutator],\n",
    "                        public_methods=[\n",
    "                            Fuzzer.__init__,\n",
    "                            Fuzzer.fuzz,\n",
    "                            Fuzzer.run,\n",
    "                            Fuzzer.runs,\n",
    "                            AdvancedMutationFuzzer.__init__,\n",
    "                            AdvancedMutationFuzzer.fuzz,\n",
    "                            GreyboxFuzzer.run,\n",
    "                            GreyboxGrammarFuzzer.__init__,\n",
    "                            GreyboxGrammarFuzzer.run,\n",
    "                            AFLSmartSchedule.__init__,\n",
    "                            PowerSchedule.__init__,\n",
    "                            Mutator.__init__,\n",
    "                            FragmentMutator.__init__,\n",
    "                            FragmentMutator.add_to_fragment_pool,\n",
    "                            RegionMutator.__init__,\n",
    "                        ],\n",
    "                        types={'DerivationTree': DerivationTree,\n",
    "                               'Location': Location},\n",
    "                        project='fuzzingbook')"
   ]
  },
  {
   "cell_type": "markdown",
   "metadata": {
    "button": false,
    "new_sheet": false,
    "run_control": {
     "read_only": false
    },
    "slideshow": {
     "slide_type": "slide"
    }
   },
   "source": [
    "## Next Steps\n",
    "\n",
    "This chapter closes our discussion of syntactic fuzzing techniques.\n",
    "\n",
    "* In the [next chapter](Reducer.ipynb), we discuss how to _reduce failure-inducing inputs_ after a failure, keeping only those portions of the input that are necessary for reproducing the failure.\n",
    "* The [next part](04_Semantical_Fuzzing.ipynb) will go from syntactical to _semantical_ fuzzing, considering code semantics for targeted test generation."
   ]
  },
  {
   "cell_type": "markdown",
   "metadata": {
    "button": false,
    "new_sheet": true,
    "run_control": {
     "read_only": false
    },
    "slideshow": {
     "slide_type": "slide"
    }
   },
   "source": [
    "## Exercises\n"
   ]
  },
  {
   "cell_type": "markdown",
   "metadata": {
    "slideshow": {
     "slide_type": "skip"
    },
    "solution2": "hidden",
    "solution2_first": true
   },
   "source": [
    "### Exercise 1: The Big Greybox Fuzzer Shoot-Out\n",
    "\n",
    "Use our implementations of greybox techniques and evaluate them on a benchmark.  Which technique (and which sub-technique) has which impact and why?  Also take into account the specific approaches of Superion \\cite{Wang2019superion} and Nautilus \\cite{Aschermann2019nautilus}, possibly even on the benchmarks used by these approaches."
   ]
  },
  {
   "cell_type": "markdown",
   "metadata": {
    "slideshow": {
     "slide_type": "skip"
    },
    "solution2": "hidden"
   },
   "source": [
    "**Solution.**  To be added."
   ]
  }
 ],
 "metadata": {
  "ipub": {
   "bibliography": "fuzzingbook.bib",
   "toc": true
  },
  "kernelspec": {
   "display_name": "Python 3",
   "language": "python",
   "name": "python3"
  },
  "language_info": {
   "codemirror_mode": {
    "name": "ipython",
    "version": 3
   },
   "file_extension": ".py",
   "mimetype": "text/x-python",
   "name": "python",
   "nbconvert_exporter": "python",
   "pygments_lexer": "ipython3",
   "version": "3.12.8"
  },
  "toc": {
   "base_numbering": 1,
   "nav_menu": {},
   "number_sections": true,
   "sideBar": true,
   "skip_h1_title": true,
   "title_cell": "",
   "title_sidebar": "Contents",
   "toc_cell": false,
   "toc_position": {},
   "toc_section_display": true,
   "toc_window_display": true
  },
  "toc-autonumbering": false,
  "varInspector": {
   "cols": {
    "lenName": 16,
    "lenType": 16,
    "lenVar": 40
   },
   "kernels_config": {
    "python": {
     "delete_cmd_postfix": "",
     "delete_cmd_prefix": "del ",
     "library": "var_list.py",
     "varRefreshCmd": "print(var_dic_list())"
    },
    "r": {
     "delete_cmd_postfix": ") ",
     "delete_cmd_prefix": "rm(",
     "library": "var_list.r",
     "varRefreshCmd": "cat(var_dic_list()) "
    }
   },
   "types_to_exclude": [
    "module",
    "function",
    "builtin_function_or_method",
    "instance",
    "_Feature"
   ],
   "window_display": false
  },
  "vscode": {
   "interpreter": {
    "hash": "4185989cf89c47c310c2629adcadd634093b57a2c49dffb5ae8d0d14fa302f2b"
   }
  }
 },
 "nbformat": 4,
 "nbformat_minor": 4
}