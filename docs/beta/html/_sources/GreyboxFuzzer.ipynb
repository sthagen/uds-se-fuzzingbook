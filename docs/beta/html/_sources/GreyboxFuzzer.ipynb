{
 "cells": [
  {
   "attachments": {},
   "cell_type": "markdown",
   "metadata": {
    "button": false,
    "new_sheet": false,
    "run_control": {
     "read_only": false
    },
    "slideshow": {
     "slide_type": "slide"
    }
   },
   "source": [
    "# Greybox Fuzzing\n",
    "\n",
    "In the [previous chapter](MutationFuzzer.ipynb), we have introduced _mutation-based fuzzing_, a technique that generates fuzz inputs by applying small mutations to given inputs. In this chapter, we show how to _guide_ these mutations towards specific goals such as coverage. The algorithms in this chapter stem from the popular [American Fuzzy Lop](http://lcamtuf.coredump.cx/afl/) (AFL) fuzzer, in particular from its [AFLFast](https://github.com/mboehme/aflfast) and [AFLGo](https://github.com/aflgo/aflgo) flavors. We will explore the greybox fuzzing algorithm behind AFL and how we can exploit it to solve various problems for automated vulnerability detection."
   ]
  },
  {
   "cell_type": "code",
   "execution_count": 1,
   "metadata": {
    "execution": {
     "iopub.execute_input": "2025-01-16T09:38:25.627267Z",
     "iopub.status.busy": "2025-01-16T09:38:25.627133Z",
     "iopub.status.idle": "2025-01-16T09:38:25.713762Z",
     "shell.execute_reply": "2025-01-16T09:38:25.713388Z"
    },
    "slideshow": {
     "slide_type": "skip"
    }
   },
   "outputs": [
    {
     "data": {
      "text/html": [
       "\n",
       "        <iframe\n",
       "            width=\"640\"\n",
       "            height=\"360\"\n",
       "            src=\"https://www.youtube-nocookie.com/embed/vBrNT9q2t1Y\"\n",
       "            frameborder=\"0\"\n",
       "            allowfullscreen\n",
       "            \n",
       "        ></iframe>\n",
       "        "
      ],
      "text/plain": [
       "<IPython.lib.display.IFrame at 0x1080a7140>"
      ]
     },
     "execution_count": 1,
     "metadata": {},
     "output_type": "execute_result"
    }
   ],
   "source": [
    "from bookutils import YouTubeVideo\n",
    "YouTubeVideo('vBrNT9q2t1Y')"
   ]
  },
  {
   "cell_type": "markdown",
   "metadata": {
    "button": false,
    "new_sheet": false,
    "run_control": {
     "read_only": false
    },
    "slideshow": {
     "slide_type": "subslide"
    }
   },
   "source": [
    "**Prerequisites**\n",
    "\n",
    "* Reading the introduction on [mutation-based fuzzing](MutationFuzzer.ipynb) is recommended."
   ]
  },
  {
   "attachments": {},
   "cell_type": "markdown",
   "metadata": {
    "slideshow": {
     "slide_type": "skip"
    }
   },
   "source": [
    "## Synopsis\n",
    "<!-- Automatically generated. Do not edit. -->\n",
    "\n",
    "To [use the code provided in this chapter](Importing.ipynb), write\n",
    "\n",
    "```python\n",
    ">>> from fuzzingbook.GreyboxFuzzer import <identifier>\n",
    "```\n",
    "\n",
    "and then make use of the following features.\n",
    "\n",
    "\n",
    "This chapter introduces advanced methods for grey-box fuzzing inspired by the popular AFL fuzzer. The `GreyboxFuzzer` class has three arguments. First, a list of seed inputs:\n",
    "\n",
    "```python\n",
    ">>> seed_input = \"http://www.google.com/search?q=fuzzing\"\n",
    ">>> seeds = [seed_input]\n",
    "```\n",
    "Second, a _mutator_ that changes individual parts of the input.\n",
    "\n",
    "```python\n",
    ">>> mutator = Mutator()\n",
    "```\n",
    "Third, a _power schedule_ that assigns fuzzing effort across the population:\n",
    "\n",
    "```python\n",
    ">>> schedule = PowerSchedule()\n",
    "```\n",
    "These three go into the `GreyboxFuzzer` constructor:\n",
    "\n",
    "```python\n",
    ">>> greybox_fuzzer = GreyboxFuzzer(seeds=seeds, mutator=mutator, schedule=schedule)\n",
    "```\n",
    "The `GreyboxFuzzer` class is used in conjunction with a `FunctionCoverageRunner`:\n",
    "\n",
    "```python\n",
    ">>> http_runner = FunctionCoverageRunner(http_program)\n",
    ">>> outcomes = greybox_fuzzer.runs(http_runner, trials=10000)\n",
    "```\n",
    "After fuzzing, we can inspect the population:\n",
    "\n",
    "```python\n",
    ">>> greybox_fuzzer.population[:20]\n",
    "[http://www.google.com/search?q=fuzzing,\n",
    " http://ww.gomgle.com/searciq=fuzzing,\n",
    " |h>Att&p8?wwnOgle.cooarhl~Cp`uzza',\n",
    " http2Ot/*gv-VRgogec:om/rearc h\u001f=fu~i\n",
    " g,\n",
    " http\"Ot/*gv-VRgogecom/rearc h\u001f=u~i\n",
    " f,\n",
    " http\"Ot/g$vVRgogEecom/#reabc h\u001f=u~a\n",
    " f,\n",
    " httT`2Ot//:7ev^VRgoec:uom/re!6dctKc= hS;\u000f=fu-yH\n",
    " /,\n",
    " http'www&go/le.comm/sea:rh*?q=Ftzzifg,\n",
    " h4tpw://w.gomMle.m/weazciq=fuezzi.',\n",
    " h~Att&p8?ws_nOge.#ooarhBlw~Cp`uzza',\n",
    " ht8P:/wwvgkowcom/eacrh?q=f uzzing,\n",
    " httT`Ot//:7evVR\"goec:uom/re!dctKc=hS;=fu-yH\n",
    " I,\n",
    " htp://ww.go/gl%.otm/wearch?q=f5zzing,\n",
    " httU`Ot//:7evVR\"goec:uo2Jm/re#dctKc=hS;=fu-yH\n",
    " I,\n",
    " ht4p://ww.gomgle.co.serciq=fuzzing,\n",
    " httpp\"OtSo*gv'VRgkg;eom/earcR >\n",
    " =u|in\n",
    " f,\n",
    " htP:/wwvgMolwcomeachq=f uzzine,\n",
    " htt://[/wwgwC6.]gogleg/lE.bo/_sEarcq9Afqwz\"king,\n",
    " httT`Ot//:7evVR\"goec:uom/re!dctKc=hS;=fu-yH\n",
    " I,\n",
    " tPK:,wIfvglwvc#omeaBc`9qOin]\n",
    "```\n",
    "Besides the simple `PowerSchedule`, we can have advanced power schedules.\n",
    "\n",
    "* `AFLFastSchedule` assigns high energy to \"unusual\" paths not taken very often.\n",
    "* `AFLGoSchedule` assigns high energy to paths close to uncovered program locations. \n",
    "\n",
    "The `AFLGoSchedule` class constructor requires a `distance` metric from each node towards target locations, as determined via analysis of the program code. See the chapter for details.\n",
    "\n",
    "![](PICS/GreyboxFuzzer-synopsis-1.svg)\n",
    "\n"
   ]
  },
  {
   "cell_type": "markdown",
   "metadata": {
    "button": false,
    "new_sheet": true,
    "run_control": {
     "read_only": false
    },
    "slideshow": {
     "slide_type": "slide"
    }
   },
   "source": [
    "## AFL: An Effective Greybox Fuzzer\n",
    "\n",
    "The algorithms in this chapter stem from the popular [American Fuzzy Lop](http://lcamtuf.coredump.cx/afl/) (AFL) fuzzer."
   ]
  },
  {
   "cell_type": "markdown",
   "metadata": {
    "button": false,
    "new_sheet": true,
    "run_control": {
     "read_only": false
    },
    "slideshow": {
     "slide_type": "slide"
    }
   },
   "source": [
    "AFL is a *mutation-based fuzzer*. Meaning, AFL generates new inputs by slightly modifying a seed input (i.e., mutation), or by joining the first half of one input with the second half of another (i.e., splicing)."
   ]
  },
  {
   "cell_type": "markdown",
   "metadata": {
    "button": false,
    "new_sheet": true,
    "run_control": {
     "read_only": false
    },
    "slideshow": {
     "slide_type": "slide"
    }
   },
   "source": [
    "AFL is also a *greybox fuzzer* (not blackbox nor whitebox). Meaning, AFL leverages coverage-feedback to learn how to reach deeper into the program. It is not entirely blackbox because AFL leverages at least *some* program analysis. It is not entirely whitebox either because AFL does not build on heavyweight program analysis or constraint solving. Instead, AFL uses lightweight program instrumentation to glean some information about the (branch) coverage of a generated input.\n",
    "If a generated input increases coverage, it is added to the seed corpus for further fuzzing."
   ]
  },
  {
   "attachments": {},
   "cell_type": "markdown",
   "metadata": {
    "button": false,
    "new_sheet": true,
    "run_control": {
     "read_only": false
    },
    "slideshow": {
     "slide_type": "slide"
    }
   },
   "source": [
    "To instrument a program, AFL injects a piece of code right after every conditional jump instruction. When executed, this so-called trampoline assigns the exercised branch a unique identifier and increments a counter that is associated with this branch. For efficiency, only a coarse branch hit count is maintained. In other words, for each input the fuzzer knows which branches and roughly how often they are exercised. \n",
    "The instrumentation is usually done at compile-time, i.e., when the program source code is compiled to an executable binary. However, it is possible to run AFL on non-instrumented binaries using tools such as a virtual machine (e.g., [QEMU](https://github.com/mirrorer/afl/blob/master/qemu_mode)) or a dynamic instrumentation tool (e.g., [Intel PinTool](https://github.com/vanhauser-thc/afl-pin)). For Python programs, we can collect coverage information without any instrumentation (see chapter on [collecting coverage](Coverage.ipynb#Coverage-of-Basic-Fuzzing))."
   ]
  },
  {
   "cell_type": "markdown",
   "metadata": {
    "button": false,
    "new_sheet": true,
    "run_control": {
     "read_only": false
    },
    "slideshow": {
     "slide_type": "slide"
    }
   },
   "source": [
    "## Ingredients for Greybox Fuzzing\n",
    "\n",
    "We start with discussing the most important parts we need for mutational testing and goal guidance."
   ]
  },
  {
   "cell_type": "markdown",
   "metadata": {
    "button": false,
    "new_sheet": true,
    "run_control": {
     "read_only": false
    },
    "slideshow": {
     "slide_type": "slide"
    }
   },
   "source": [
    "### Mutators\n",
    "\n",
    "We introduce specific classes for mutating a seed."
   ]
  },
  {
   "cell_type": "code",
   "execution_count": 2,
   "metadata": {
    "execution": {
     "iopub.execute_input": "2025-01-16T09:38:25.736681Z",
     "iopub.status.busy": "2025-01-16T09:38:25.736461Z",
     "iopub.status.idle": "2025-01-16T09:38:25.739571Z",
     "shell.execute_reply": "2025-01-16T09:38:25.739260Z"
    },
    "slideshow": {
     "slide_type": "skip"
    }
   },
   "outputs": [],
   "source": [
    "import bookutils.setup"
   ]
  },
  {
   "cell_type": "code",
   "execution_count": 3,
   "metadata": {
    "execution": {
     "iopub.execute_input": "2025-01-16T09:38:25.743048Z",
     "iopub.status.busy": "2025-01-16T09:38:25.742115Z",
     "iopub.status.idle": "2025-01-16T09:38:25.776402Z",
     "shell.execute_reply": "2025-01-16T09:38:25.775863Z"
    },
    "slideshow": {
     "slide_type": "skip"
    }
   },
   "outputs": [],
   "source": [
    "from typing import List, Set, Any, Tuple, Dict, Union\n",
    "from collections.abc import Sequence"
   ]
  },
  {
   "cell_type": "code",
   "execution_count": 4,
   "metadata": {
    "execution": {
     "iopub.execute_input": "2025-01-16T09:38:25.778692Z",
     "iopub.status.busy": "2025-01-16T09:38:25.778594Z",
     "iopub.status.idle": "2025-01-16T09:38:25.780976Z",
     "shell.execute_reply": "2025-01-16T09:38:25.780526Z"
    },
    "slideshow": {
     "slide_type": "skip"
    }
   },
   "outputs": [],
   "source": [
    "import random"
   ]
  },
  {
   "cell_type": "code",
   "execution_count": 5,
   "metadata": {
    "execution": {
     "iopub.execute_input": "2025-01-16T09:38:25.783455Z",
     "iopub.status.busy": "2025-01-16T09:38:25.783291Z",
     "iopub.status.idle": "2025-01-16T09:38:26.222494Z",
     "shell.execute_reply": "2025-01-16T09:38:26.222216Z"
    },
    "slideshow": {
     "slide_type": "skip"
    }
   },
   "outputs": [],
   "source": [
    "from Coverage import population_coverage"
   ]
  },
  {
   "cell_type": "markdown",
   "metadata": {
    "slideshow": {
     "slide_type": "fragment"
    }
   },
   "source": [
    "First, we'll introduce the `Mutator` class. Given a seed input `inp`, the mutator returns a slightly modified version of `inp`.  In the [chapter on greybox grammar fuzzing](GreyboxGrammarFuzzer.ipynb), we extend this class to consider the input grammar for smart greybox fuzzing."
   ]
  },
  {
   "cell_type": "code",
   "execution_count": 6,
   "metadata": {
    "execution": {
     "iopub.execute_input": "2025-01-16T09:38:26.224430Z",
     "iopub.status.busy": "2025-01-16T09:38:26.224251Z",
     "iopub.status.idle": "2025-01-16T09:38:26.226621Z",
     "shell.execute_reply": "2025-01-16T09:38:26.226343Z"
    },
    "slideshow": {
     "slide_type": "subslide"
    }
   },
   "outputs": [],
   "source": [
    "class Mutator:\n",
    "    \"\"\"Mutate strings\"\"\"\n",
    "\n",
    "    def __init__(self) -> None:\n",
    "        \"\"\"Constructor\"\"\"\n",
    "        self.mutators = [\n",
    "            self.delete_random_character,\n",
    "            self.insert_random_character,\n",
    "            self.flip_random_character\n",
    "        ]"
   ]
  },
  {
   "cell_type": "markdown",
   "metadata": {
    "slideshow": {
     "slide_type": "fragment"
    }
   },
   "source": [
    "For insertion, we add a random character in a random position."
   ]
  },
  {
   "cell_type": "code",
   "execution_count": 7,
   "metadata": {
    "execution": {
     "iopub.execute_input": "2025-01-16T09:38:26.228161Z",
     "iopub.status.busy": "2025-01-16T09:38:26.228059Z",
     "iopub.status.idle": "2025-01-16T09:38:26.230013Z",
     "shell.execute_reply": "2025-01-16T09:38:26.229770Z"
    },
    "slideshow": {
     "slide_type": "subslide"
    }
   },
   "outputs": [],
   "source": [
    "class Mutator(Mutator):\n",
    "    def insert_random_character(self, s: str) -> str:\n",
    "        \"\"\"Returns s with a random character inserted\"\"\"\n",
    "        pos = random.randint(0, len(s))\n",
    "        random_character = chr(random.randrange(32, 127))\n",
    "        return s[:pos] + random_character + s[pos:]"
   ]
  },
  {
   "cell_type": "markdown",
   "metadata": {
    "slideshow": {
     "slide_type": "fragment"
    }
   },
   "source": [
    "For deletion, if the string is non-empty choose a random position and delete the character. Otherwise, use the insertion-operation."
   ]
  },
  {
   "cell_type": "code",
   "execution_count": 8,
   "metadata": {
    "execution": {
     "iopub.execute_input": "2025-01-16T09:38:26.231573Z",
     "iopub.status.busy": "2025-01-16T09:38:26.231471Z",
     "iopub.status.idle": "2025-01-16T09:38:26.233530Z",
     "shell.execute_reply": "2025-01-16T09:38:26.233297Z"
    },
    "slideshow": {
     "slide_type": "subslide"
    }
   },
   "outputs": [],
   "source": [
    "class Mutator(Mutator):\n",
    "    def delete_random_character(self, s: str) -> str:\n",
    "        \"\"\"Returns s with a random character deleted\"\"\"\n",
    "        if s == \"\":\n",
    "            return self.insert_random_character(s)\n",
    "\n",
    "        pos = random.randint(0, len(s) - 1)\n",
    "        return s[:pos] + s[pos + 1:]"
   ]
  },
  {
   "cell_type": "markdown",
   "metadata": {
    "slideshow": {
     "slide_type": "fragment"
    }
   },
   "source": [
    "For substitution, if the string is non-empty choose a random position and flip a random bit in the character. Otherwise, use the insertion-operation."
   ]
  },
  {
   "cell_type": "code",
   "execution_count": 9,
   "metadata": {
    "execution": {
     "iopub.execute_input": "2025-01-16T09:38:26.235134Z",
     "iopub.status.busy": "2025-01-16T09:38:26.235030Z",
     "iopub.status.idle": "2025-01-16T09:38:26.237187Z",
     "shell.execute_reply": "2025-01-16T09:38:26.236937Z"
    },
    "slideshow": {
     "slide_type": "subslide"
    }
   },
   "outputs": [],
   "source": [
    "class Mutator(Mutator):\n",
    "    def flip_random_character(self, s: str) -> str:\n",
    "        \"\"\"Returns s with a random bit flipped in a random position\"\"\"\n",
    "        if s == \"\":\n",
    "            return self.insert_random_character(s)\n",
    "\n",
    "        pos = random.randint(0, len(s) - 1)\n",
    "        c = s[pos]\n",
    "        bit = 1 << random.randint(0, 6)\n",
    "        new_c = chr(ord(c) ^ bit)\n",
    "        return s[:pos] + new_c + s[pos + 1:]"
   ]
  },
  {
   "cell_type": "markdown",
   "metadata": {
    "slideshow": {
     "slide_type": "fragment"
    }
   },
   "source": [
    "The main method is `mutate` which chooses a random mutation operator from the list of operators."
   ]
  },
  {
   "cell_type": "code",
   "execution_count": 10,
   "metadata": {
    "execution": {
     "iopub.execute_input": "2025-01-16T09:38:26.238588Z",
     "iopub.status.busy": "2025-01-16T09:38:26.238494Z",
     "iopub.status.idle": "2025-01-16T09:38:26.240364Z",
     "shell.execute_reply": "2025-01-16T09:38:26.240145Z"
    },
    "slideshow": {
     "slide_type": "subslide"
    }
   },
   "outputs": [],
   "source": [
    "class Mutator(Mutator):\n",
    "    def mutate(self, inp: Any) -> Any:  # can be str or Seed (see below)\n",
    "        \"\"\"Return s with a random mutation applied. Can be overloaded in subclasses.\"\"\"\n",
    "        mutator = random.choice(self.mutators)\n",
    "        return mutator(inp)"
   ]
  },
  {
   "cell_type": "markdown",
   "metadata": {
    "slideshow": {
     "slide_type": "fragment"
    }
   },
   "source": [
    "Let's try the mutator. You can actually interact with such a \"cell\" and try other inputs by loading this chapter as Jupyter notebook. After opening, run all cells in the notebook using \"Kernel -> Restart & Run All\"."
   ]
  },
  {
   "cell_type": "code",
   "execution_count": 11,
   "metadata": {
    "execution": {
     "iopub.execute_input": "2025-01-16T09:38:26.241828Z",
     "iopub.status.busy": "2025-01-16T09:38:26.241717Z",
     "iopub.status.idle": "2025-01-16T09:38:26.243732Z",
     "shell.execute_reply": "2025-01-16T09:38:26.243520Z"
    },
    "slideshow": {
     "slide_type": "fragment"
    }
   },
   "outputs": [
    {
     "data": {
      "text/plain": [
       "'cood'"
      ]
     },
     "execution_count": 11,
     "metadata": {},
     "output_type": "execute_result"
    }
   ],
   "source": [
    "Mutator().mutate(\"good\")"
   ]
  },
  {
   "cell_type": "markdown",
   "metadata": {
    "slideshow": {
     "slide_type": "subslide"
    },
    "tags": []
   },
   "source": [
    "### Seeds and Power Schedules\n",
    "\n",
    "Now we introduce a new concept; the *power schedule*. A power schedule distributes the precious fuzzing time among the seeds in the population. Our objective is to maximize the time spent fuzzing those (most progressive) seeds which lead to higher coverage increase in shorter time.\n",
    "\n",
    "We call the likelihood with which a seed is chosen from the population as the seed's *energy*. Throughout a fuzzing campaign, we would like to prioritize seeds that are more promising. Simply said, we do not want to waste energy fuzzing non-progressive seeds. We call the procedure that decides a seed's energy as the fuzzer's *power schedule*. For instance, AFL's schedule assigns more energy to seeds that are shorter, that execute faster, and yield coverage increases more often.\n",
    "\n",
    "First, there is some information that we need to attach to each seed in addition to the seed's data. Hence, we define the following `Seed` class."
   ]
  },
  {
   "cell_type": "code",
   "execution_count": 12,
   "metadata": {
    "execution": {
     "iopub.execute_input": "2025-01-16T09:38:26.245333Z",
     "iopub.status.busy": "2025-01-16T09:38:26.245229Z",
     "iopub.status.idle": "2025-01-16T09:38:26.246874Z",
     "shell.execute_reply": "2025-01-16T09:38:26.246620Z"
    },
    "slideshow": {
     "slide_type": "skip"
    }
   },
   "outputs": [],
   "source": [
    "from Coverage import Location"
   ]
  },
  {
   "cell_type": "code",
   "execution_count": 13,
   "metadata": {
    "execution": {
     "iopub.execute_input": "2025-01-16T09:38:26.248437Z",
     "iopub.status.busy": "2025-01-16T09:38:26.248327Z",
     "iopub.status.idle": "2025-01-16T09:38:26.250577Z",
     "shell.execute_reply": "2025-01-16T09:38:26.250326Z"
    },
    "slideshow": {
     "slide_type": "subslide"
    }
   },
   "outputs": [],
   "source": [
    "class Seed:\n",
    "    \"\"\"Represent an input with additional attributes\"\"\"\n",
    "\n",
    "    def __init__(self, data: str) -> None:\n",
    "        \"\"\"Initialize from seed data\"\"\"\n",
    "        self.data = data\n",
    "\n",
    "        # These will be needed for advanced power schedules\n",
    "        self.coverage: Set[Location] = set()\n",
    "        self.distance: Union[int, float] = -1\n",
    "        self.energy = 0.0\n",
    "\n",
    "    def __str__(self) -> str:\n",
    "        \"\"\"Returns data as string representation of the seed\"\"\"\n",
    "        return self.data\n",
    "\n",
    "    __repr__ = __str__"
   ]
  },
  {
   "cell_type": "markdown",
   "metadata": {
    "slideshow": {
     "slide_type": "subslide"
    }
   },
   "source": [
    "The power schedule that is implemented below assigns each seed the same energy. Once a seed is in the population, it will be fuzzed as often as any other seed in the population.\n",
    "\n",
    "In Python, we can squeeze long for-loops into much smaller statements.\n",
    "* `lambda x: ...` returns a function that takes `x` as input. Lambda allows for quick definitions unnamed functions.\n",
    "* `map(f, l)` returns a list where the function `f` is applied to each element in list `l`.\n",
    "* `random.choices(l, weights)[0]` returns element `l[i]` with probability in `weights[i]`."
   ]
  },
  {
   "cell_type": "code",
   "execution_count": 14,
   "metadata": {
    "execution": {
     "iopub.execute_input": "2025-01-16T09:38:26.252132Z",
     "iopub.status.busy": "2025-01-16T09:38:26.252027Z",
     "iopub.status.idle": "2025-01-16T09:38:26.255117Z",
     "shell.execute_reply": "2025-01-16T09:38:26.254785Z"
    },
    "slideshow": {
     "slide_type": "subslide"
    }
   },
   "outputs": [],
   "source": [
    "class PowerSchedule:\n",
    "    \"\"\"Define how fuzzing time should be distributed across the population.\"\"\"\n",
    "\n",
    "    def __init__(self) -> None:\n",
    "        \"\"\"Constructor\"\"\"\n",
    "        self.path_frequency: Dict = {}\n",
    "\n",
    "    def assignEnergy(self, population: Sequence[Seed]) -> None:\n",
    "        \"\"\"Assigns each seed the same energy\"\"\"\n",
    "        for seed in population:\n",
    "            seed.energy = 1\n",
    "\n",
    "    def normalizedEnergy(self, population: Sequence[Seed]) -> List[float]:\n",
    "        \"\"\"Normalize energy\"\"\"\n",
    "        energy = list(map(lambda seed: seed.energy, population))\n",
    "        sum_energy = sum(energy)  # Add up all values in energy\n",
    "        assert sum_energy != 0\n",
    "        norm_energy = list(map(lambda nrg: nrg / sum_energy, energy))\n",
    "        return norm_energy\n",
    "\n",
    "    def choose(self, population: Sequence[Seed]) -> Seed:\n",
    "        \"\"\"Choose weighted by normalized energy.\"\"\"\n",
    "        self.assignEnergy(population)\n",
    "        norm_energy = self.normalizedEnergy(population)\n",
    "        seed: Seed = random.choices(population, weights=norm_energy)[0]\n",
    "        return seed"
   ]
  },
  {
   "cell_type": "markdown",
   "metadata": {
    "slideshow": {
     "slide_type": "subslide"
    }
   },
   "source": [
    "Let's see whether this power schedule chooses seeds uniformly at random. We ask the schedule 10k times to choose a seed from the population of three seeds (A, B, C) and keep track of the number of times we have seen each seed. We should see each seed about 3.3k times."
   ]
  },
  {
   "cell_type": "code",
   "execution_count": 15,
   "metadata": {
    "execution": {
     "iopub.execute_input": "2025-01-16T09:38:26.256913Z",
     "iopub.status.busy": "2025-01-16T09:38:26.256822Z",
     "iopub.status.idle": "2025-01-16T09:38:26.258691Z",
     "shell.execute_reply": "2025-01-16T09:38:26.258451Z"
    },
    "slideshow": {
     "slide_type": "fragment"
    }
   },
   "outputs": [],
   "source": [
    "population = [Seed(\"A\"), Seed(\"B\"), Seed(\"C\")]\n",
    "schedule = PowerSchedule()\n",
    "hits = {\n",
    "    \"A\": 0,\n",
    "    \"B\": 0,\n",
    "    \"C\": 0\n",
    "}"
   ]
  },
  {
   "cell_type": "code",
   "execution_count": 16,
   "metadata": {
    "execution": {
     "iopub.execute_input": "2025-01-16T09:38:26.260184Z",
     "iopub.status.busy": "2025-01-16T09:38:26.260101Z",
     "iopub.status.idle": "2025-01-16T09:38:26.279155Z",
     "shell.execute_reply": "2025-01-16T09:38:26.278874Z"
    },
    "slideshow": {
     "slide_type": "fragment"
    }
   },
   "outputs": [],
   "source": [
    "for i in range(10000):\n",
    "    seed = schedule.choose(population)\n",
    "    hits[seed.data] += 1"
   ]
  },
  {
   "cell_type": "code",
   "execution_count": 17,
   "metadata": {
    "execution": {
     "iopub.execute_input": "2025-01-16T09:38:26.280642Z",
     "iopub.status.busy": "2025-01-16T09:38:26.280544Z",
     "iopub.status.idle": "2025-01-16T09:38:26.282943Z",
     "shell.execute_reply": "2025-01-16T09:38:26.282609Z"
    },
    "slideshow": {
     "slide_type": "subslide"
    }
   },
   "outputs": [
    {
     "data": {
      "text/plain": [
       "{'A': 3387, 'B': 3255, 'C': 3358}"
      ]
     },
     "execution_count": 17,
     "metadata": {},
     "output_type": "execute_result"
    }
   ],
   "source": [
    "hits"
   ]
  },
  {
   "cell_type": "markdown",
   "metadata": {
    "slideshow": {
     "slide_type": "fragment"
    }
   },
   "source": [
    "Looks good. Every seed has been chosen about a third of the time."
   ]
  },
  {
   "cell_type": "markdown",
   "metadata": {
    "slideshow": {
     "slide_type": "subslide"
    }
   },
   "source": [
    "### Runners and a Sample Program\n",
    "\n",
    "We'll start with a small sample program of six lines. In order to collect coverage information during execution, we import the `FunctionCoverageRunner` class from the chapter on [mutation-based fuzzing](MutationFuzzer.ipynb#Guiding-by-Coverage). \n",
    "\n",
    "The `FunctionCoverageRunner` constructor takes a Python `function` to execute. The function `run` takes an input, passes it on to the Python `function`, and collects the coverage information for this execution. The function `coverage()` returns a list of tuples `(function name, line number)` for each statement that has been covered in the Python `function`."
   ]
  },
  {
   "cell_type": "code",
   "execution_count": 18,
   "metadata": {
    "execution": {
     "iopub.execute_input": "2025-01-16T09:38:26.284540Z",
     "iopub.status.busy": "2025-01-16T09:38:26.284430Z",
     "iopub.status.idle": "2025-01-16T09:38:26.295132Z",
     "shell.execute_reply": "2025-01-16T09:38:26.294872Z"
    },
    "slideshow": {
     "slide_type": "skip"
    }
   },
   "outputs": [],
   "source": [
    "from MutationFuzzer import FunctionCoverageRunner, http_program"
   ]
  },
  {
   "cell_type": "markdown",
   "metadata": {
    "slideshow": {
     "slide_type": "subslide"
    }
   },
   "source": [
    "The `crashme()` function raises an exception for the input \"bad!\". Let's see which statements are covered for the input \"good\"."
   ]
  },
  {
   "cell_type": "code",
   "execution_count": 19,
   "metadata": {
    "execution": {
     "iopub.execute_input": "2025-01-16T09:38:26.296730Z",
     "iopub.status.busy": "2025-01-16T09:38:26.296644Z",
     "iopub.status.idle": "2025-01-16T09:38:26.298779Z",
     "shell.execute_reply": "2025-01-16T09:38:26.298540Z"
    },
    "slideshow": {
     "slide_type": "fragment"
    }
   },
   "outputs": [],
   "source": [
    "def crashme(s: str) -> None:\n",
    "    if len(s) > 0 and s[0] == 'b':\n",
    "        if len(s) > 1 and s[1] == 'a':\n",
    "            if len(s) > 2 and s[2] == 'd':\n",
    "                if len(s) > 3 and s[3] == '!':\n",
    "                    raise Exception()"
   ]
  },
  {
   "cell_type": "code",
   "execution_count": 20,
   "metadata": {
    "execution": {
     "iopub.execute_input": "2025-01-16T09:38:26.300230Z",
     "iopub.status.busy": "2025-01-16T09:38:26.300148Z",
     "iopub.status.idle": "2025-01-16T09:38:26.302911Z",
     "shell.execute_reply": "2025-01-16T09:38:26.302663Z"
    },
    "slideshow": {
     "slide_type": "fragment"
    }
   },
   "outputs": [
    {
     "data": {
      "text/plain": [
       "[('run_function', 132), ('crashme', 2)]"
      ]
     },
     "execution_count": 20,
     "metadata": {},
     "output_type": "execute_result"
    }
   ],
   "source": [
    "crashme_runner = FunctionCoverageRunner(crashme)\n",
    "crashme_runner.run(\"good\")\n",
    "list(crashme_runner.coverage())"
   ]
  },
  {
   "cell_type": "markdown",
   "metadata": {
    "slideshow": {
     "slide_type": "fragment"
    }
   },
   "source": [
    "In `crashme`, the input \"good\" only covers the if-statement in line 2. The branch condition `len(s) > 0 and s[0] == 'b'` evaluates to False."
   ]
  },
  {
   "cell_type": "markdown",
   "metadata": {
    "slideshow": {
     "slide_type": "slide"
    }
   },
   "source": [
    "## Advanced Blackbox Mutation-based Fuzzing\n",
    "\n",
    "Let's integrate both the mutator and power schedule into a fuzzer. We'll start with a blackbox fuzzer -- which does *not* leverage any coverage information. \n",
    "\n",
    "Our `AdvancedMutationFuzzer` class is an advanced and _parameterized_ version of the `MutationFuzzer` class from the [chapter on mutation-based fuzzing](MutationFuzzer.ipynb). It also inherits from the [Fuzzer](Fuzzer.ipynb#Fuzzer-Classes) class. For now, we only need to know the functions `fuzz()` which returns a generated input and `runs()` which executes `fuzz()` a specified number of times. For our `AdvancedMutationFuzzer` class, we override the function `fuzz()`."
   ]
  },
  {
   "cell_type": "code",
   "execution_count": 21,
   "metadata": {
    "execution": {
     "iopub.execute_input": "2025-01-16T09:38:26.304459Z",
     "iopub.status.busy": "2025-01-16T09:38:26.304345Z",
     "iopub.status.idle": "2025-01-16T09:38:26.305958Z",
     "shell.execute_reply": "2025-01-16T09:38:26.305709Z"
    },
    "slideshow": {
     "slide_type": "skip"
    }
   },
   "outputs": [],
   "source": [
    "from Fuzzer import Fuzzer"
   ]
  },
  {
   "cell_type": "markdown",
   "metadata": {
    "slideshow": {
     "slide_type": "subslide"
    }
   },
   "source": [
    "The `AdvancedMutationFuzzer` is constructed with a set of initial seeds, a mutator, and a power schedule. Throughout the fuzzing campaign, it maintains a seed corpus called `population`. The function `fuzz` returns either an unfuzzed seed from the initial seeds, or the result of fuzzing a seed in the population. The function `create_candidate` handles the latter. It randomly chooses an input from the population and applies a number of mutations."
   ]
  },
  {
   "cell_type": "code",
   "execution_count": 22,
   "metadata": {
    "execution": {
     "iopub.execute_input": "2025-01-16T09:38:26.307435Z",
     "iopub.status.busy": "2025-01-16T09:38:26.307343Z",
     "iopub.status.idle": "2025-01-16T09:38:26.310744Z",
     "shell.execute_reply": "2025-01-16T09:38:26.310421Z"
    },
    "slideshow": {
     "slide_type": "subslide"
    }
   },
   "outputs": [],
   "source": [
    "class AdvancedMutationFuzzer(Fuzzer):\n",
    "    \"\"\"Base class for mutation-based fuzzing.\"\"\"\n",
    "\n",
    "    def __init__(self, seeds: List[str],\n",
    "                 mutator: Mutator,\n",
    "                 schedule: PowerSchedule) -> None:\n",
    "        \"\"\"Constructor.\n",
    "        `seeds` - a list of (input) strings to mutate.\n",
    "        `mutator` - the mutator to apply.\n",
    "        `schedule` - the power schedule to apply.\n",
    "        \"\"\"\n",
    "        self.seeds = seeds\n",
    "        self.mutator = mutator\n",
    "        self.schedule = schedule\n",
    "        self.inputs: List[str] = []\n",
    "        self.reset()\n",
    "\n",
    "    def reset(self) -> None:\n",
    "        \"\"\"Reset the initial population and seed index\"\"\"\n",
    "        self.population = list(map(lambda x: Seed(x), self.seeds))\n",
    "        self.seed_index = 0\n",
    "\n",
    "    def create_candidate(self) -> str:\n",
    "        \"\"\"Returns an input generated by fuzzing a seed in the population\"\"\"\n",
    "        seed = self.schedule.choose(self.population)\n",
    "\n",
    "        # Stacking: Apply multiple mutations to generate the candidate\n",
    "        candidate = seed.data\n",
    "        trials = min(len(candidate), 1 << random.randint(1, 5))\n",
    "        for i in range(trials):\n",
    "            candidate = self.mutator.mutate(candidate)\n",
    "        return candidate\n",
    "\n",
    "    def fuzz(self) -> str:\n",
    "        \"\"\"Returns first each seed once and then generates new inputs\"\"\"\n",
    "        if self.seed_index < len(self.seeds):\n",
    "            # Still seeding\n",
    "            self.inp = self.seeds[self.seed_index]\n",
    "            self.seed_index += 1\n",
    "        else:\n",
    "            # Mutating\n",
    "            self.inp = self.create_candidate()\n",
    "\n",
    "        self.inputs.append(self.inp)\n",
    "        return self.inp"
   ]
  },
  {
   "cell_type": "markdown",
   "metadata": {
    "slideshow": {
     "slide_type": "subslide"
    }
   },
   "source": [
    "Okay, let's take the mutation fuzzer for a spin. Given a single seed, we ask it to generate three inputs."
   ]
  },
  {
   "cell_type": "code",
   "execution_count": 23,
   "metadata": {
    "execution": {
     "iopub.execute_input": "2025-01-16T09:38:26.312493Z",
     "iopub.status.busy": "2025-01-16T09:38:26.312393Z",
     "iopub.status.idle": "2025-01-16T09:38:26.314661Z",
     "shell.execute_reply": "2025-01-16T09:38:26.314383Z"
    },
    "slideshow": {
     "slide_type": "fragment"
    }
   },
   "outputs": [
    {
     "name": "stdout",
     "output_type": "stream",
     "text": [
      "good\n",
      "gDoodC\n",
      "/\n"
     ]
    }
   ],
   "source": [
    "seed_input = \"good\"\n",
    "mutation_fuzzer = AdvancedMutationFuzzer([seed_input], Mutator(), PowerSchedule())\n",
    "print(mutation_fuzzer.fuzz())\n",
    "print(mutation_fuzzer.fuzz())\n",
    "print(mutation_fuzzer.fuzz())"
   ]
  },
  {
   "cell_type": "markdown",
   "metadata": {
    "slideshow": {
     "slide_type": "subslide"
    }
   },
   "source": [
    "Let's see how many statements the mutation-based blackbox fuzzer covers in a campaign with n=30k inputs.\n",
    "\n",
    "The fuzzer function `runs(crashme_runner, trials=n)` generates `n` inputs and executes them on the `crashme` function via the `crashme_runner`. As stated earlier, the `crashme_runner` also collects coverage information."
   ]
  },
  {
   "cell_type": "code",
   "execution_count": 24,
   "metadata": {
    "execution": {
     "iopub.execute_input": "2025-01-16T09:38:26.316224Z",
     "iopub.status.busy": "2025-01-16T09:38:26.316124Z",
     "iopub.status.idle": "2025-01-16T09:38:26.317854Z",
     "shell.execute_reply": "2025-01-16T09:38:26.317613Z"
    },
    "slideshow": {
     "slide_type": "skip"
    }
   },
   "outputs": [],
   "source": [
    "import time"
   ]
  },
  {
   "cell_type": "code",
   "execution_count": 25,
   "metadata": {
    "execution": {
     "iopub.execute_input": "2025-01-16T09:38:26.319428Z",
     "iopub.status.busy": "2025-01-16T09:38:26.319339Z",
     "iopub.status.idle": "2025-01-16T09:38:26.320984Z",
     "shell.execute_reply": "2025-01-16T09:38:26.320749Z"
    },
    "slideshow": {
     "slide_type": "fragment"
    }
   },
   "outputs": [],
   "source": [
    "n = 30000"
   ]
  },
  {
   "cell_type": "code",
   "execution_count": 26,
   "metadata": {
    "execution": {
     "iopub.execute_input": "2025-01-16T09:38:26.322432Z",
     "iopub.status.busy": "2025-01-16T09:38:26.322323Z",
     "iopub.status.idle": "2025-01-16T09:38:30.532772Z",
     "shell.execute_reply": "2025-01-16T09:38:30.532390Z"
    },
    "slideshow": {
     "slide_type": "subslide"
    }
   },
   "outputs": [
    {
     "data": {
      "text/plain": [
       "'It took the blackbox mutation-based fuzzer 4.21 seconds to generate and execute 30000 inputs.'"
      ]
     },
     "execution_count": 26,
     "metadata": {},
     "output_type": "execute_result"
    }
   ],
   "source": [
    "blackbox_fuzzer = AdvancedMutationFuzzer([seed_input], Mutator(), PowerSchedule())\n",
    "\n",
    "start = time.time()\n",
    "blackbox_fuzzer.runs(FunctionCoverageRunner(crashme), trials=n)\n",
    "end = time.time()\n",
    "\n",
    "\"It took the blackbox mutation-based fuzzer %0.2f seconds to generate and execute %d inputs.\" % (end - start, n)"
   ]
  },
  {
   "cell_type": "markdown",
   "metadata": {
    "slideshow": {
     "slide_type": "subslide"
    }
   },
   "source": [
    "In order to measure coverage, we import the [population_coverage](Coverage.ipynb#Coverage-of-Basic-Fuzzing) function. It takes a set of inputs and a Python function, executes the inputs on that function and collects coverage information. Specifically, it returns a tuple `(all_coverage, cumulative_coverage)` where `all_coverage` is the set of statements covered by all inputs, and `cumulative_coverage` is the number of statements covered as the number of executed inputs increases. We are just interested in the latter to plot coverage over time."
   ]
  },
  {
   "cell_type": "markdown",
   "metadata": {
    "slideshow": {
     "slide_type": "fragment"
    }
   },
   "source": [
    "We extract the generated inputs from the blackbox fuzzer and measure coverage as the number of inputs increases."
   ]
  },
  {
   "cell_type": "code",
   "execution_count": 27,
   "metadata": {
    "execution": {
     "iopub.execute_input": "2025-01-16T09:38:30.534557Z",
     "iopub.status.busy": "2025-01-16T09:38:30.534433Z",
     "iopub.status.idle": "2025-01-16T09:38:34.499511Z",
     "shell.execute_reply": "2025-01-16T09:38:34.499136Z"
    },
    "slideshow": {
     "slide_type": "fragment"
    }
   },
   "outputs": [
    {
     "data": {
      "text/plain": [
       "'The blackbox mutation-based fuzzer achieved a maximum coverage of 2 statements.'"
      ]
     },
     "execution_count": 27,
     "metadata": {},
     "output_type": "execute_result"
    }
   ],
   "source": [
    "_, blackbox_coverage = population_coverage(blackbox_fuzzer.inputs, crashme)\n",
    "bb_max_coverage = max(blackbox_coverage)\n",
    "\n",
    "\"The blackbox mutation-based fuzzer achieved a maximum coverage of %d statements.\" % bb_max_coverage"
   ]
  },
  {
   "cell_type": "markdown",
   "metadata": {
    "slideshow": {
     "slide_type": "subslide"
    }
   },
   "source": [
    "The following generated inputs increased the coverage for our `crashme` [example](#Runner-and-Sample-Program)."
   ]
  },
  {
   "cell_type": "code",
   "execution_count": 28,
   "metadata": {
    "execution": {
     "iopub.execute_input": "2025-01-16T09:38:34.501335Z",
     "iopub.status.busy": "2025-01-16T09:38:34.501214Z",
     "iopub.status.idle": "2025-01-16T09:38:34.504907Z",
     "shell.execute_reply": "2025-01-16T09:38:34.504624Z"
    },
    "slideshow": {
     "slide_type": "fragment"
    }
   },
   "outputs": [
    {
     "data": {
      "text/plain": [
       "['good', 'bo']"
      ]
     },
     "execution_count": 28,
     "metadata": {},
     "output_type": "execute_result"
    }
   ],
   "source": [
    "[seed_input] + \\\n",
    "    [\n",
    "        blackbox_fuzzer.inputs[idx] for idx in range(len(blackbox_coverage))\n",
    "        if blackbox_coverage[idx] > blackbox_coverage[idx - 1]\n",
    "    ]"
   ]
  },
  {
   "cell_type": "markdown",
   "metadata": {
    "slideshow": {
     "slide_type": "subslide"
    }
   },
   "source": [
    "***Summary***. This is how a blackbox mutation-based fuzzer works. We have integrated the *mutator* to generate inputs by fuzzing a provided set of initial seeds and the *power schedule* to decide which seed to choose next."
   ]
  },
  {
   "cell_type": "markdown",
   "metadata": {
    "slideshow": {
     "slide_type": "slide"
    }
   },
   "source": [
    "## Greybox Mutation-based Fuzzing\n",
    "\n",
    "In contrast to a blackbox fuzzer, a greybox fuzzer like [AFL](http://lcamtuf.coredump.cx/afl/) _does_ leverage coverage information. Specifically, a greybox fuzzer adds to the seed population generated inputs which increase code coverage.\n",
    "\n",
    "The method `run()` is inherited from the [Fuzzer](Fuzzer.ipynb#Fuzzer-Classes) class. It is called to generate and execute exactly one input. We override this function to add an input to the `population` that increases coverage. The greybox fuzzer attribute `coverages_seen` maintains the set of statements, that have previously been covered."
   ]
  },
  {
   "cell_type": "code",
   "execution_count": 29,
   "metadata": {
    "execution": {
     "iopub.execute_input": "2025-01-16T09:38:34.506711Z",
     "iopub.status.busy": "2025-01-16T09:38:34.506619Z",
     "iopub.status.idle": "2025-01-16T09:38:34.509306Z",
     "shell.execute_reply": "2025-01-16T09:38:34.509037Z"
    },
    "slideshow": {
     "slide_type": "subslide"
    }
   },
   "outputs": [],
   "source": [
    "class GreyboxFuzzer(AdvancedMutationFuzzer):\n",
    "    \"\"\"Coverage-guided mutational fuzzing.\"\"\"\n",
    "\n",
    "    def reset(self):\n",
    "        \"\"\"Reset the initial population, seed index, coverage information\"\"\"\n",
    "        super().reset()\n",
    "        self.coverages_seen = set()\n",
    "        self.population = []  # population is filled during greybox fuzzing\n",
    "\n",
    "    def run(self, runner: FunctionCoverageRunner) -> Tuple[Any, str]:  # type: ignore\n",
    "        \"\"\"Run function(inp) while tracking coverage.\n",
    "           If we reach new coverage,\n",
    "           add inp to population and its coverage to population_coverage\n",
    "        \"\"\"\n",
    "        result, outcome = super().run(runner)\n",
    "        new_coverage = frozenset(runner.coverage())\n",
    "        if new_coverage not in self.coverages_seen:\n",
    "            # We have new coverage\n",
    "            seed = Seed(self.inp)\n",
    "            seed.coverage = runner.coverage()\n",
    "            self.coverages_seen.add(new_coverage)\n",
    "            self.population.append(seed)\n",
    "\n",
    "        return (result, outcome)"
   ]
  },
  {
   "cell_type": "markdown",
   "metadata": {
    "slideshow": {
     "slide_type": "subslide"
    }
   },
   "source": [
    "Let's take our greybox fuzzer for a spin."
   ]
  },
  {
   "cell_type": "code",
   "execution_count": 30,
   "metadata": {
    "execution": {
     "iopub.execute_input": "2025-01-16T09:38:34.510946Z",
     "iopub.status.busy": "2025-01-16T09:38:34.510854Z",
     "iopub.status.idle": "2025-01-16T09:38:38.738917Z",
     "shell.execute_reply": "2025-01-16T09:38:38.738614Z"
    },
    "slideshow": {
     "slide_type": "fragment"
    }
   },
   "outputs": [
    {
     "data": {
      "text/plain": [
       "'It took the greybox mutation-based fuzzer 4.23 seconds to generate and execute 30000 inputs.'"
      ]
     },
     "execution_count": 30,
     "metadata": {},
     "output_type": "execute_result"
    }
   ],
   "source": [
    "seed_input = \"good\"\n",
    "greybox_fuzzer = GreyboxFuzzer([seed_input], Mutator(), PowerSchedule())\n",
    "\n",
    "start = time.time()\n",
    "greybox_fuzzer.runs(FunctionCoverageRunner(crashme), trials=n)\n",
    "end = time.time()\n",
    "\n",
    "\"It took the greybox mutation-based fuzzer %0.2f seconds to generate and execute %d inputs.\" % (end - start, n)"
   ]
  },
  {
   "cell_type": "markdown",
   "metadata": {
    "slideshow": {
     "slide_type": "fragment"
    }
   },
   "source": [
    "Does the greybox fuzzer cover more statements after generating the same number of test inputs?"
   ]
  },
  {
   "cell_type": "code",
   "execution_count": 31,
   "metadata": {
    "execution": {
     "iopub.execute_input": "2025-01-16T09:38:38.740535Z",
     "iopub.status.busy": "2025-01-16T09:38:38.740431Z",
     "iopub.status.idle": "2025-01-16T09:38:42.595373Z",
     "shell.execute_reply": "2025-01-16T09:38:42.595075Z"
    },
    "slideshow": {
     "slide_type": "subslide"
    }
   },
   "outputs": [
    {
     "data": {
      "text/plain": [
       "'Our greybox mutation-based fuzzer covers 2 more statements'"
      ]
     },
     "execution_count": 31,
     "metadata": {},
     "output_type": "execute_result"
    }
   ],
   "source": [
    "_, greybox_coverage = population_coverage(greybox_fuzzer.inputs, crashme)\n",
    "gb_max_coverage = max(greybox_coverage)\n",
    "\n",
    "\"Our greybox mutation-based fuzzer covers %d more statements\" % (gb_max_coverage - bb_max_coverage)"
   ]
  },
  {
   "cell_type": "markdown",
   "metadata": {
    "slideshow": {
     "slide_type": "fragment"
    }
   },
   "source": [
    "Our seed population for our [example](#Runner-and-Sample-Program) now contains the following seeds."
   ]
  },
  {
   "cell_type": "code",
   "execution_count": 32,
   "metadata": {
    "execution": {
     "iopub.execute_input": "2025-01-16T09:38:42.596999Z",
     "iopub.status.busy": "2025-01-16T09:38:42.596883Z",
     "iopub.status.idle": "2025-01-16T09:38:42.598914Z",
     "shell.execute_reply": "2025-01-16T09:38:42.598698Z"
    },
    "slideshow": {
     "slide_type": "fragment"
    }
   },
   "outputs": [
    {
     "data": {
      "text/plain": [
       "[good, bo, baof, bad4u]"
      ]
     },
     "execution_count": 32,
     "metadata": {},
     "output_type": "execute_result"
    }
   ],
   "source": [
    "greybox_fuzzer.population"
   ]
  },
  {
   "cell_type": "markdown",
   "metadata": {
    "slideshow": {
     "slide_type": "fragment"
    }
   },
   "source": [
    "Coverage-feedback is indeed helpful. The new seeds are like bread crumbs or milestones that guide the fuzzer to progress more quickly into deeper code regions. Following is a simple plot showing the coverage achieved over time for both fuzzers on our simple [example](#Runner-and-Sample-Program)."
   ]
  },
  {
   "cell_type": "code",
   "execution_count": 33,
   "metadata": {
    "execution": {
     "iopub.execute_input": "2025-01-16T09:38:42.600368Z",
     "iopub.status.busy": "2025-01-16T09:38:42.600269Z",
     "iopub.status.idle": "2025-01-16T09:38:42.607470Z",
     "shell.execute_reply": "2025-01-16T09:38:42.607247Z"
    },
    "slideshow": {
     "slide_type": "fragment"
    }
   },
   "outputs": [],
   "source": [
    "%matplotlib inline"
   ]
  },
  {
   "cell_type": "code",
   "execution_count": 34,
   "metadata": {
    "execution": {
     "iopub.execute_input": "2025-01-16T09:38:42.608994Z",
     "iopub.status.busy": "2025-01-16T09:38:42.608885Z",
     "iopub.status.idle": "2025-01-16T09:38:42.610500Z",
     "shell.execute_reply": "2025-01-16T09:38:42.610301Z"
    },
    "slideshow": {
     "slide_type": "skip"
    }
   },
   "outputs": [],
   "source": [
    "import matplotlib.pyplot as plt  # type: ignore"
   ]
  },
  {
   "cell_type": "code",
   "execution_count": 35,
   "metadata": {
    "execution": {
     "iopub.execute_input": "2025-01-16T09:38:42.611874Z",
     "iopub.status.busy": "2025-01-16T09:38:42.611779Z",
     "iopub.status.idle": "2025-01-16T09:38:42.760292Z",
     "shell.execute_reply": "2025-01-16T09:38:42.760036Z"
    },
    "slideshow": {
     "slide_type": "subslide"
    }
   },
   "outputs": [
    {
     "data": {
      "image/png": "[encoded data removed]",
      "text/plain": [
       "<Figure size 640x480 with 1 Axes>"
      ]
     },
     "metadata": {},
     "output_type": "display_data"
    }
   ],
   "source": [
    "line_bb, = plt.plot(blackbox_coverage, label=\"Blackbox\")\n",
    "line_gb, = plt.plot(greybox_coverage, label=\"Greybox\")\n",
    "plt.legend(handles=[line_bb, line_gb])\n",
    "plt.title('Coverage over time')\n",
    "plt.xlabel('# of inputs')\n",
    "plt.ylabel('lines covered');"
   ]
  },
  {
   "cell_type": "markdown",
   "metadata": {
    "slideshow": {
     "slide_type": "subslide"
    }
   },
   "source": [
    "***Summary***. We have seen how a greybox fuzzer \"discovers\" interesting seeds that can lead to more progress. From the input `good`, our greybox fuzzer has slowly learned how to generate the input `bad!` which raises the exception. Now, how can we do that even faster?\n",
    "\n",
    "***Try it***. How much coverage would be achieved over time using a blackbox *generation-based* fuzzer? Try plotting the coverage for all three fuzzers. You can define the blackbox generation-based fuzzer as follows.\n",
    "```Python\n",
    "from Fuzzer import RandomFuzzer\n",
    "blackbox_gen_fuzzer = RandomFuzzer(min_length=4, max_length=4, char_start=32, char_range=96)\n",
    "```\n",
    "You can execute your own code by opening this chapter as Jupyter notebook.\n",
    "\n",
    "***Read***. This is the high-level view how AFL works, one of the most successful vulnerability detection tools. If you are interested in the technical details, have a look at: https://github.com/mirrorer/afl/blob/master/docs/technical_details.txt"
   ]
  },
  {
   "cell_type": "markdown",
   "metadata": {
    "slideshow": {
     "slide_type": "slide"
    }
   },
   "source": [
    "## Boosted Greybox Fuzzing\n",
    "\n",
    "Our boosted greybox fuzzer assigns more energy to seeds that promise to achieve more coverage. We change the power schedule such that seeds that exercise \"unusual\" paths have more energy. With *unusual paths*, we mean paths that are not exercised very often by generated inputs.\n",
    "\n",
    "In order to identify which path is exercised by an input, we leverage the function `getPathID` from the section on [trace coverage](WhenIsEnough.ipynb#Trace-Coverage)."
   ]
  },
  {
   "cell_type": "code",
   "execution_count": 36,
   "metadata": {
    "execution": {
     "iopub.execute_input": "2025-01-16T09:38:42.761988Z",
     "iopub.status.busy": "2025-01-16T09:38:42.761877Z",
     "iopub.status.idle": "2025-01-16T09:38:42.763535Z",
     "shell.execute_reply": "2025-01-16T09:38:42.763298Z"
    },
    "slideshow": {
     "slide_type": "skip"
    }
   },
   "outputs": [],
   "source": [
    "import pickle   # serializes an object by producing a byte array from all the information in the object\n",
    "import hashlib  # produces a 128-bit hash value from a byte array"
   ]
  },
  {
   "cell_type": "markdown",
   "metadata": {
    "slideshow": {
     "slide_type": "fragment"
    }
   },
   "source": [
    "The function `getPathID` returns a unique hash for a coverage set."
   ]
  },
  {
   "cell_type": "code",
   "execution_count": 37,
   "metadata": {
    "execution": {
     "iopub.execute_input": "2025-01-16T09:38:42.765075Z",
     "iopub.status.busy": "2025-01-16T09:38:42.764978Z",
     "iopub.status.idle": "2025-01-16T09:38:42.766647Z",
     "shell.execute_reply": "2025-01-16T09:38:42.766438Z"
    },
    "slideshow": {
     "slide_type": "subslide"
    }
   },
   "outputs": [],
   "source": [
    "def getPathID(coverage: Any) -> str:\n",
    "    \"\"\"Returns a unique hash for the covered statements\"\"\"\n",
    "    pickled = pickle.dumps(sorted(coverage))\n",
    "    return hashlib.md5(pickled).hexdigest()"
   ]
  },
  {
   "cell_type": "markdown",
   "metadata": {
    "slideshow": {
     "slide_type": "fragment"
    }
   },
   "source": [
    "There are several ways to assign energy based on how unusual the exercised path is. In this case, we implement an _exponential power schedule_ which computes the energy $e(s)$ for a seed $s$ as follows\n",
    "$$e(s) = \\frac{1}{f(p(s))^a}$$\n",
    "where \n",
    "* $p(s)$ returns the ID of the path exercised by $s$, \n",
    "* $f(p)$ returns the number of times the path $p$ is exercised by generated inputs, and \n",
    "* $a$ is a given exponent."
   ]
  },
  {
   "cell_type": "code",
   "execution_count": 38,
   "metadata": {
    "execution": {
     "iopub.execute_input": "2025-01-16T09:38:42.768227Z",
     "iopub.status.busy": "2025-01-16T09:38:42.768133Z",
     "iopub.status.idle": "2025-01-16T09:38:42.770133Z",
     "shell.execute_reply": "2025-01-16T09:38:42.769902Z"
    },
    "slideshow": {
     "slide_type": "subslide"
    }
   },
   "outputs": [],
   "source": [
    "class AFLFastSchedule(PowerSchedule):\n",
    "    \"\"\"Exponential power schedule as implemented in AFL\"\"\"\n",
    "\n",
    "    def __init__(self, exponent: float) -> None:\n",
    "        self.exponent = exponent\n",
    "\n",
    "    def assignEnergy(self, population: Sequence[Seed]) -> None:\n",
    "        \"\"\"Assign exponential energy inversely proportional to path frequency\"\"\"\n",
    "        for seed in population:\n",
    "            seed.energy = 1 / (self.path_frequency[getPathID(seed.coverage)] ** self.exponent)"
   ]
  },
  {
   "attachments": {},
   "cell_type": "markdown",
   "metadata": {
    "slideshow": {
     "slide_type": "fragment"
    }
   },
   "source": [
    "In the greybox fuzzer, let's keep track of the number of times $f(p)$ each path $p$ is exercised, and update the power schedule."
   ]
  },
  {
   "cell_type": "code",
   "execution_count": 39,
   "metadata": {
    "execution": {
     "iopub.execute_input": "2025-01-16T09:38:42.771590Z",
     "iopub.status.busy": "2025-01-16T09:38:42.771486Z",
     "iopub.status.idle": "2025-01-16T09:38:42.773742Z",
     "shell.execute_reply": "2025-01-16T09:38:42.773541Z"
    },
    "slideshow": {
     "slide_type": "subslide"
    }
   },
   "outputs": [],
   "source": [
    "class CountingGreyboxFuzzer(GreyboxFuzzer):\n",
    "    \"\"\"Count how often individual paths are exercised.\"\"\"\n",
    "\n",
    "    def reset(self):\n",
    "        \"\"\"Reset path frequency\"\"\"\n",
    "        super().reset()\n",
    "        self.schedule.path_frequency = {}\n",
    "\n",
    "    def run(self, runner: FunctionCoverageRunner) -> Tuple[Any, str]:  # type: ignore\n",
    "        \"\"\"Inform scheduler about path frequency\"\"\"\n",
    "        result, outcome = super().run(runner)\n",
    "\n",
    "        path_id = getPathID(runner.coverage())\n",
    "        if path_id not in self.schedule.path_frequency:\n",
    "            self.schedule.path_frequency[path_id] = 1\n",
    "        else:\n",
    "            self.schedule.path_frequency[path_id] += 1\n",
    "\n",
    "        return(result, outcome)"
   ]
  },
  {
   "attachments": {},
   "cell_type": "markdown",
   "metadata": {
    "slideshow": {
     "slide_type": "subslide"
    }
   },
   "source": [
    "Okay, let's run our boosted greybox fuzzer $n=10k$ times on our simple [example](#Runner-and-Sample-Program). We set the exponentent of our exponential power schedule to $a=5$."
   ]
  },
  {
   "cell_type": "code",
   "execution_count": 40,
   "metadata": {
    "execution": {
     "iopub.execute_input": "2025-01-16T09:38:42.775152Z",
     "iopub.status.busy": "2025-01-16T09:38:42.775058Z",
     "iopub.status.idle": "2025-01-16T09:38:44.313180Z",
     "shell.execute_reply": "2025-01-16T09:38:44.312845Z"
    },
    "slideshow": {
     "slide_type": "fragment"
    }
   },
   "outputs": [
    {
     "data": {
      "text/plain": [
       "'It took the fuzzer w/ exponential schedule 1.54 seconds to generate and execute 10000 inputs.'"
      ]
     },
     "execution_count": 40,
     "metadata": {},
     "output_type": "execute_result"
    }
   ],
   "source": [
    "n = 10000\n",
    "seed_input = \"good\"\n",
    "fast_schedule = AFLFastSchedule(5)\n",
    "fast_fuzzer = CountingGreyboxFuzzer([seed_input], Mutator(), fast_schedule)\n",
    "start = time.time()\n",
    "fast_fuzzer.runs(FunctionCoverageRunner(crashme), trials=n)\n",
    "end = time.time()\n",
    "\n",
    "\"It took the fuzzer w/ exponential schedule %0.2f seconds to generate and execute %d inputs.\" % (end - start, n)"
   ]
  },
  {
   "cell_type": "code",
   "execution_count": 41,
   "metadata": {
    "execution": {
     "iopub.execute_input": "2025-01-16T09:38:44.314994Z",
     "iopub.status.busy": "2025-01-16T09:38:44.314874Z",
     "iopub.status.idle": "2025-01-16T09:38:44.316576Z",
     "shell.execute_reply": "2025-01-16T09:38:44.316298Z"
    },
    "slideshow": {
     "slide_type": "skip"
    }
   },
   "outputs": [],
   "source": [
    "import numpy as np"
   ]
  },
  {
   "cell_type": "code",
   "execution_count": 42,
   "metadata": {
    "execution": {
     "iopub.execute_input": "2025-01-16T09:38:44.318155Z",
     "iopub.status.busy": "2025-01-16T09:38:44.318043Z",
     "iopub.status.idle": "2025-01-16T09:38:44.363225Z",
     "shell.execute_reply": "2025-01-16T09:38:44.362973Z"
    },
    "slideshow": {
     "slide_type": "subslide"
    }
   },
   "outputs": [
    {
     "data": {
      "image/png": "[encoded data removed]",
      "text/plain": [
       "<Figure size 640x480 with 1 Axes>"
      ]
     },
     "metadata": {},
     "output_type": "display_data"
    }
   ],
   "source": [
    "x_axis = np.arange(len(fast_schedule.path_frequency))\n",
    "y_axis = list(fast_schedule.path_frequency.values())\n",
    "\n",
    "plt.bar(x_axis, y_axis)\n",
    "plt.xticks(x_axis)\n",
    "plt.ylim(0, n)\n",
    "# plt.yscale(\"log\")\n",
    "# plt.yticks([10,100,1000,10000])\n",
    "plt;"
   ]
  },
  {
   "cell_type": "code",
   "execution_count": 43,
   "metadata": {
    "execution": {
     "iopub.execute_input": "2025-01-16T09:38:44.364853Z",
     "iopub.status.busy": "2025-01-16T09:38:44.364738Z",
     "iopub.status.idle": "2025-01-16T09:38:44.367039Z",
     "shell.execute_reply": "2025-01-16T09:38:44.366811Z"
    },
    "slideshow": {
     "slide_type": "subslide"
    }
   },
   "outputs": [
    {
     "name": "stdout",
     "output_type": "stream",
     "text": [
      "             path id 'p'           : path frequency 'f(p)'\n"
     ]
    },
    {
     "data": {
      "text/plain": [
       "{'e014b68ad4f3bc2daf207e2498d14cbf': 5615,\n",
       " '0a1008773804033d8a4c0e3aba4b96a0': 2597,\n",
       " 'eae4df5b039511eac56625f47c337d24': 1098,\n",
       " 'b14f545c3b39716a455034d9a0c61b8c': 454,\n",
       " '11529f85aaa30be08110f3076748e420': 235,\n",
       " '669903139e4064f7f07bc8b200fd2d26': 1}"
      ]
     },
     "execution_count": 43,
     "metadata": {},
     "output_type": "execute_result"
    }
   ],
   "source": [
    "print(\"             path id 'p'           : path frequency 'f(p)'\")\n",
    "fast_schedule.path_frequency"
   ]
  },
  {
   "cell_type": "markdown",
   "metadata": {
    "slideshow": {
     "slide_type": "fragment"
    }
   },
   "source": [
    "How does it compare to our greybox fuzzer with the classical power schedule?"
   ]
  },
  {
   "cell_type": "code",
   "execution_count": 44,
   "metadata": {
    "execution": {
     "iopub.execute_input": "2025-01-16T09:38:44.368644Z",
     "iopub.status.busy": "2025-01-16T09:38:44.368546Z",
     "iopub.status.idle": "2025-01-16T09:38:45.802594Z",
     "shell.execute_reply": "2025-01-16T09:38:45.802355Z"
    },
    "slideshow": {
     "slide_type": "subslide"
    }
   },
   "outputs": [
    {
     "data": {
      "text/plain": [
       "'It took the fuzzer w/ original schedule 1.43 seconds to generate and execute 10000 inputs.'"
      ]
     },
     "execution_count": 44,
     "metadata": {},
     "output_type": "execute_result"
    }
   ],
   "source": [
    "seed_input = \"good\"\n",
    "orig_schedule = PowerSchedule()\n",
    "orig_fuzzer = CountingGreyboxFuzzer([seed_input], Mutator(), orig_schedule)\n",
    "start = time.time()\n",
    "orig_fuzzer.runs(FunctionCoverageRunner(crashme), trials=n)\n",
    "end = time.time()\n",
    "\n",
    "\"It took the fuzzer w/ original schedule %0.2f seconds to generate and execute %d inputs.\" % (end - start, n)"
   ]
  },
  {
   "cell_type": "code",
   "execution_count": 45,
   "metadata": {
    "execution": {
     "iopub.execute_input": "2025-01-16T09:38:45.804254Z",
     "iopub.status.busy": "2025-01-16T09:38:45.804148Z",
     "iopub.status.idle": "2025-01-16T09:38:45.845285Z",
     "shell.execute_reply": "2025-01-16T09:38:45.845033Z"
    },
    "slideshow": {
     "slide_type": "subslide"
    }
   },
   "outputs": [
    {
     "data": {
      "image/png": "[encoded data removed]",
      "text/plain": [
       "<Figure size 640x480 with 1 Axes>"
      ]
     },
     "metadata": {},
     "output_type": "display_data"
    }
   ],
   "source": [
    "x_axis = np.arange(len(orig_schedule.path_frequency))\n",
    "y_axis = list(orig_schedule.path_frequency.values())\n",
    "\n",
    "plt.bar(x_axis, y_axis)\n",
    "plt.xticks(x_axis)\n",
    "plt.ylim(0, n)\n",
    "# plt.yscale(\"log\")\n",
    "# plt.yticks([10,100,1000,10000])\n",
    "plt;"
   ]
  },
  {
   "cell_type": "code",
   "execution_count": 46,
   "metadata": {
    "execution": {
     "iopub.execute_input": "2025-01-16T09:38:45.846881Z",
     "iopub.status.busy": "2025-01-16T09:38:45.846793Z",
     "iopub.status.idle": "2025-01-16T09:38:45.848839Z",
     "shell.execute_reply": "2025-01-16T09:38:45.848637Z"
    },
    "slideshow": {
     "slide_type": "subslide"
    }
   },
   "outputs": [
    {
     "name": "stdout",
     "output_type": "stream",
     "text": [
      "             path id 'p'           : path frequency 'f(p)'\n"
     ]
    },
    {
     "data": {
      "text/plain": [
       "{'e014b68ad4f3bc2daf207e2498d14cbf': 6579,\n",
       " '0a1008773804033d8a4c0e3aba4b96a0': 2381,\n",
       " 'eae4df5b039511eac56625f47c337d24': 737,\n",
       " 'b14f545c3b39716a455034d9a0c61b8c': 241,\n",
       " '11529f85aaa30be08110f3076748e420': 62}"
      ]
     },
     "execution_count": 46,
     "metadata": {},
     "output_type": "execute_result"
    }
   ],
   "source": [
    "print(\"             path id 'p'           : path frequency 'f(p)'\")\n",
    "orig_schedule.path_frequency"
   ]
  },
  {
   "cell_type": "markdown",
   "metadata": {
    "slideshow": {
     "slide_type": "subslide"
    }
   },
   "source": [
    "The exponential power schedule shaves some of the executions of the \"high-frequency path\" off and adds them to the lower-frequency paths. The path executed least often is either not at all exercised using the traditional power schedule or it is exercised much less often.\n",
    "\n",
    "Let's have a look at the energy that is assigned to the discovered seeds."
   ]
  },
  {
   "cell_type": "code",
   "execution_count": 47,
   "metadata": {
    "execution": {
     "iopub.execute_input": "2025-01-16T09:38:45.850622Z",
     "iopub.status.busy": "2025-01-16T09:38:45.850512Z",
     "iopub.status.idle": "2025-01-16T09:38:45.852569Z",
     "shell.execute_reply": "2025-01-16T09:38:45.852343Z"
    },
    "slideshow": {
     "slide_type": "subslide"
    }
   },
   "outputs": [
    {
     "name": "stdout",
     "output_type": "stream",
     "text": [
      "'e014b68ad4f3bc2daf207e2498d14cbf', 0.20000, 'good'\n",
      "'0a1008773804033d8a4c0e3aba4b96a0', 0.20000, 'bgI/d'\n",
      "'eae4df5b039511eac56625f47c337d24', 0.20000, 'baI/dt'\n",
      "'b14f545c3b39716a455034d9a0c61b8c', 0.20000, 'badtuS'\n",
      "'11529f85aaa30be08110f3076748e420', 0.20000, 'bad!`tuS'\n"
     ]
    }
   ],
   "source": [
    "orig_energy = orig_schedule.normalizedEnergy(orig_fuzzer.population)\n",
    "\n",
    "for (seed, norm_energy) in zip(orig_fuzzer.population, orig_energy):\n",
    "    print(\"'%s', %0.5f, %s\" % (getPathID(seed.coverage),  # type: ignore\n",
    "                               norm_energy, repr(seed.data)))"
   ]
  },
  {
   "cell_type": "code",
   "execution_count": 48,
   "metadata": {
    "execution": {
     "iopub.execute_input": "2025-01-16T09:38:45.853968Z",
     "iopub.status.busy": "2025-01-16T09:38:45.853870Z",
     "iopub.status.idle": "2025-01-16T09:38:45.855763Z",
     "shell.execute_reply": "2025-01-16T09:38:45.855539Z"
    },
    "slideshow": {
     "slide_type": "subslide"
    }
   },
   "outputs": [
    {
     "name": "stdout",
     "output_type": "stream",
     "text": [
      "'e014b68ad4f3bc2daf207e2498d14cbf', 0.00000, 'good'\n",
      "'0a1008773804033d8a4c0e3aba4b96a0', 0.00000, 'bnd'\n",
      "'eae4df5b039511eac56625f47c337d24', 0.00000, 'ba.'\n",
      "'b14f545c3b39716a455034d9a0c61b8c', 0.00000, 'bad.'\n",
      "'11529f85aaa30be08110f3076748e420', 0.00000, 'bad!\\\\.'\n",
      "'669903139e4064f7f07bc8b200fd2d26', 1.00000, 'bad!\\\\.'\n"
     ]
    }
   ],
   "source": [
    "fast_energy = fast_schedule.normalizedEnergy(fast_fuzzer.population)\n",
    "\n",
    "for (seed, norm_energy) in zip(fast_fuzzer.population, fast_energy):\n",
    "    print(\"'%s', %0.5f, %s\" % (getPathID(seed.coverage),  # type: ignore\n",
    "                               norm_energy, repr(seed.data)))"
   ]
  },
  {
   "cell_type": "markdown",
   "metadata": {
    "slideshow": {
     "slide_type": "subslide"
    }
   },
   "source": [
    "Exactly. Our new exponential power schedule assigns most energy to the seed exercising the lowest-frequency path.\n",
    "\n",
    "Let's compare them in terms of coverage achieved over time for our simple [example](#Runner-and-Sample-Program)."
   ]
  },
  {
   "cell_type": "code",
   "execution_count": 49,
   "metadata": {
    "execution": {
     "iopub.execute_input": "2025-01-16T09:38:45.857248Z",
     "iopub.status.busy": "2025-01-16T09:38:45.857155Z",
     "iopub.status.idle": "2025-01-16T09:38:48.567257Z",
     "shell.execute_reply": "2025-01-16T09:38:48.566992Z"
    },
    "slideshow": {
     "slide_type": "fragment"
    }
   },
   "outputs": [
    {
     "data": {
      "image/png": "[encoded data removed]",
      "text/plain": [
       "<Figure size 640x480 with 1 Axes>"
      ]
     },
     "metadata": {},
     "output_type": "display_data"
    }
   ],
   "source": [
    "_, orig_coverage = population_coverage(orig_fuzzer.inputs, crashme)\n",
    "_, fast_coverage = population_coverage(fast_fuzzer.inputs, crashme)\n",
    "line_orig, = plt.plot(orig_coverage, label=\"Original Greybox Fuzzer\")\n",
    "line_fast, = plt.plot(fast_coverage, label=\"Boosted Greybox Fuzzer\")\n",
    "plt.legend(handles=[line_orig, line_fast])\n",
    "plt.title('Coverage over time')\n",
    "plt.xlabel('# of inputs')\n",
    "plt.ylabel('lines covered');"
   ]
  },
  {
   "cell_type": "markdown",
   "metadata": {
    "slideshow": {
     "slide_type": "subslide"
    }
   },
   "source": [
    "As expected, the boosted greybox fuzzer (with the exponential power schedule) achieves coverage much faster.\n",
    "\n",
    "***Summary***. By fuzzing seeds more often that exercise low-frequency paths, we can explore program paths in a much more efficient manner.\n",
    "\n",
    "***Try it***. You can try other exponents for the fast power schedule, or change the power schedule entirely. Note that a large exponent can lead to overflows and imprecisions in the floating point arithmetic producing unexpected results. You can execute your own code by opening this chapter as Jupyter notebook.\n",
    "\n",
    "***Read***. You can find out more about fuzzer boosting in the paper \"[Coverage-based Greybox Fuzzing as Markov Chain](https://mboehme.github.io/paper/CCS16.pdf)\" \\cite{boehme2018greybox} and check out the implementation into AFL at [http://github.com/mboehme/aflfast]."
   ]
  },
  {
   "cell_type": "markdown",
   "metadata": {
    "slideshow": {
     "slide_type": "slide"
    }
   },
   "source": [
    "## A Complex Example: HTMLParser\n",
    "\n",
    "Let's compare the three fuzzers on a more realistic example, the Python [HTML parser](https://docs.python.org/3/library/html.parser.html). We run all three fuzzers $n=5k$ times on the HTMLParser, starting with the \"empty\" seed."
   ]
  },
  {
   "cell_type": "code",
   "execution_count": 50,
   "metadata": {
    "execution": {
     "iopub.execute_input": "2025-01-16T09:38:48.569059Z",
     "iopub.status.busy": "2025-01-16T09:38:48.568942Z",
     "iopub.status.idle": "2025-01-16T09:38:48.571814Z",
     "shell.execute_reply": "2025-01-16T09:38:48.571575Z"
    },
    "slideshow": {
     "slide_type": "skip"
    }
   },
   "outputs": [],
   "source": [
    "from html.parser import HTMLParser"
   ]
  },
  {
   "cell_type": "code",
   "execution_count": 51,
   "metadata": {
    "execution": {
     "iopub.execute_input": "2025-01-16T09:38:48.573223Z",
     "iopub.status.busy": "2025-01-16T09:38:48.573124Z",
     "iopub.status.idle": "2025-01-16T09:38:48.574848Z",
     "shell.execute_reply": "2025-01-16T09:38:48.574617Z"
    },
    "slideshow": {
     "slide_type": "fragment"
    }
   },
   "outputs": [],
   "source": [
    "# create wrapper function\n",
    "def my_parser(inp: str) -> None:\n",
    "    parser = HTMLParser()  # resets the HTMLParser object for every fuzz input\n",
    "    parser.feed(inp)"
   ]
  },
  {
   "cell_type": "code",
   "execution_count": 52,
   "metadata": {
    "execution": {
     "iopub.execute_input": "2025-01-16T09:38:48.576312Z",
     "iopub.status.busy": "2025-01-16T09:38:48.576211Z",
     "iopub.status.idle": "2025-01-16T09:38:48.578574Z",
     "shell.execute_reply": "2025-01-16T09:38:48.578305Z"
    },
    "slideshow": {
     "slide_type": "fragment"
    }
   },
   "outputs": [],
   "source": [
    "n = 5000\n",
    "seed_input = \" \"  # empty seed\n",
    "blackbox_fuzzer = AdvancedMutationFuzzer([seed_input], Mutator(), PowerSchedule())\n",
    "greybox_fuzzer = GreyboxFuzzer([seed_input], Mutator(), PowerSchedule())\n",
    "boosted_fuzzer = CountingGreyboxFuzzer([seed_input], Mutator(), AFLFastSchedule(5))"
   ]
  },
  {
   "cell_type": "code",
   "execution_count": 53,
   "metadata": {
    "execution": {
     "iopub.execute_input": "2025-01-16T09:38:48.580056Z",
     "iopub.status.busy": "2025-01-16T09:38:48.579959Z",
     "iopub.status.idle": "2025-01-16T09:38:59.812704Z",
     "shell.execute_reply": "2025-01-16T09:38:59.812390Z"
    },
    "slideshow": {
     "slide_type": "subslide"
    }
   },
   "outputs": [
    {
     "data": {
      "text/plain": [
       "'It took all three fuzzers 11.23 seconds to generate and execute 5000 inputs.'"
      ]
     },
     "execution_count": 53,
     "metadata": {},
     "output_type": "execute_result"
    }
   ],
   "source": [
    "start = time.time()\n",
    "blackbox_fuzzer.runs(FunctionCoverageRunner(my_parser), trials=n)\n",
    "greybox_fuzzer.runs(FunctionCoverageRunner(my_parser), trials=n)\n",
    "boosted_fuzzer.runs(FunctionCoverageRunner(my_parser), trials=n)\n",
    "end = time.time()\n",
    "\n",
    "\"It took all three fuzzers %0.2f seconds to generate and execute %d inputs.\" % (end - start, n)"
   ]
  },
  {
   "cell_type": "markdown",
   "metadata": {
    "slideshow": {
     "slide_type": "fragment"
    }
   },
   "source": [
    "How do the fuzzers compare in terms of coverage over time?"
   ]
  },
  {
   "cell_type": "code",
   "execution_count": 54,
   "metadata": {
    "execution": {
     "iopub.execute_input": "2025-01-16T09:38:59.814450Z",
     "iopub.status.busy": "2025-01-16T09:38:59.814338Z",
     "iopub.status.idle": "2025-01-16T09:39:02.366952Z",
     "shell.execute_reply": "2025-01-16T09:39:02.366532Z"
    },
    "slideshow": {
     "slide_type": "subslide"
    }
   },
   "outputs": [
    {
     "data": {
      "image/png": "[encoded data removed]",
      "text/plain": [
       "<Figure size 640x480 with 1 Axes>"
      ]
     },
     "metadata": {},
     "output_type": "display_data"
    }
   ],
   "source": [
    "_, black_coverage = population_coverage(blackbox_fuzzer.inputs, my_parser)\n",
    "_, grey_coverage = population_coverage(greybox_fuzzer.inputs, my_parser)\n",
    "_, boost_coverage = population_coverage(boosted_fuzzer.inputs, my_parser)\n",
    "line_black, = plt.plot(black_coverage, label=\"Blackbox Fuzzer\")\n",
    "line_grey, = plt.plot(grey_coverage, label=\"Greybox Fuzzer\")\n",
    "line_boost, = plt.plot(boost_coverage, label=\"Boosted Greybox Fuzzer\")\n",
    "plt.legend(handles=[line_boost, line_grey, line_black])\n",
    "plt.title('Coverage over time')\n",
    "plt.xlabel('# of inputs')\n",
    "plt.ylabel('lines covered');"
   ]
  },
  {
   "cell_type": "markdown",
   "metadata": {
    "slideshow": {
     "slide_type": "fragment"
    }
   },
   "source": [
    "Both greybox fuzzers clearly outperform the blackbox fuzzer. The reason is that the greybox fuzzer \"discovers\" interesting inputs along the way. Let's have a look at the last 10 inputs generated by the greybox versus blackbox fuzzer."
   ]
  },
  {
   "cell_type": "code",
   "execution_count": 55,
   "metadata": {
    "execution": {
     "iopub.execute_input": "2025-01-16T09:39:02.369018Z",
     "iopub.status.busy": "2025-01-16T09:39:02.368892Z",
     "iopub.status.idle": "2025-01-16T09:39:02.371158Z",
     "shell.execute_reply": "2025-01-16T09:39:02.370920Z"
    },
    "slideshow": {
     "slide_type": "subslide"
    }
   },
   "outputs": [
    {
     "data": {
      "text/plain": [
       "['2 ', '', 'A ', '', '`', '!', '', '', '', '(']"
      ]
     },
     "execution_count": 55,
     "metadata": {},
     "output_type": "execute_result"
    }
   ],
   "source": [
    "blackbox_fuzzer.inputs[-10:]"
   ]
  },
  {
   "cell_type": "code",
   "execution_count": 56,
   "metadata": {
    "execution": {
     "iopub.execute_input": "2025-01-16T09:39:02.372570Z",
     "iopub.status.busy": "2025-01-16T09:39:02.372465Z",
     "iopub.status.idle": "2025-01-16T09:39:02.374483Z",
     "shell.execute_reply": "2025-01-16T09:39:02.374244Z"
    },
    "slideshow": {
     "slide_type": "fragment"
    }
   },
   "outputs": [
    {
     "data": {
      "text/plain": [
       "['\\x00',\n",
       " '(0<2q$V\\x00\"jy}Kz',\n",
       " '_NrGlffJ%\\x14=',\n",
       " '2&8,gBa',\n",
       " '',\n",
       " 'W_&k\\\\<C<hoPqv',\n",
       " '*&\\x05t4<&d@R%',\n",
       " '0aO<4\\x06',\n",
       " 'i:',\n",
       " 'iFK&</\\x06']"
      ]
     },
     "execution_count": 56,
     "metadata": {},
     "output_type": "execute_result"
    }
   ],
   "source": [
    "greybox_fuzzer.inputs[-10:]"
   ]
  },
  {
   "cell_type": "markdown",
   "metadata": {
    "slideshow": {
     "slide_type": "subslide"
    }
   },
   "source": [
    "The greybox fuzzer executes much more complicated inputs, many of which include special characters such as opening and closing brackets and chevrons (i.e., `<, >, [, ]`). Yet, many important keywords, such as `<html>` are still missing. \n",
    "\n",
    "To inform the fuzzer about these important keywords, we will need [grammars](Grammars.ipynb); in the section on [smart greybox fuzzing](LangFuzzer.ipynb), we combine them with the techniques above.\n",
    "\n",
    "***Try it***. You can re-run these experiments to understand the variance of fuzzing experiments. Sometimes, the fuzzer that we claim to be superior does not seem to outperform the inferior fuzzer. In order to do this, you just need to open this chapter as Jupyter notebook."
   ]
  },
  {
   "cell_type": "markdown",
   "metadata": {
    "slideshow": {
     "slide_type": "slide"
    }
   },
   "source": [
    "## Directed Greybox Fuzzing\n",
    "\n",
    "Sometimes, you just want the fuzzer to reach some dangerous location in the source code. This could be a location where you expect a buffer overflow. Or you want to test a recent change in your code base. How do we direct the fuzzer towards these locations?\n",
    "\n",
    "In this chapter, we introduce directed greybox fuzzing as an optimization problem."
   ]
  },
  {
   "cell_type": "markdown",
   "metadata": {
    "slideshow": {
     "slide_type": "subslide"
    }
   },
   "source": [
    "### Solving the Maze\n",
    "\n",
    "To provide a meaningful example where you can easily change the code complexity and target location, we generate the maze source code from the maze provided as string. This example is loosely based on an old [blog post](https://feliam.wordpress.com/2010/10/07/the-symbolic-maze/) on symbolic execution by Felipe Andres Manzano (Quick shout-out!).\n",
    "\n",
    "You simply specify the maze as a string. Like so."
   ]
  },
  {
   "cell_type": "code",
   "execution_count": 57,
   "metadata": {
    "execution": {
     "iopub.execute_input": "2025-01-16T09:39:02.376210Z",
     "iopub.status.busy": "2025-01-16T09:39:02.376104Z",
     "iopub.status.idle": "2025-01-16T09:39:02.377623Z",
     "shell.execute_reply": "2025-01-16T09:39:02.377419Z"
    },
    "slideshow": {
     "slide_type": "subslide"
    }
   },
   "outputs": [],
   "source": [
    "maze_string = \"\"\"\n",
    "+-+-----+\n",
    "|X|     |\n",
    "| | --+ |\n",
    "| |   | |\n",
    "| +-- | |\n",
    "|     |#|\n",
    "+-----+-+\n",
    "\"\"\""
   ]
  },
  {
   "cell_type": "markdown",
   "metadata": {
    "slideshow": {
     "slide_type": "fragment"
    }
   },
   "source": [
    "The code is generated using the function `generate_maze_code()`. We'll hide the implementation and instead explain what it does. If you are interested in the coding, go [here](ControlFlow.ipynb#Example:-Maze)."
   ]
  },
  {
   "cell_type": "code",
   "execution_count": 58,
   "metadata": {
    "execution": {
     "iopub.execute_input": "2025-01-16T09:39:02.379149Z",
     "iopub.status.busy": "2025-01-16T09:39:02.379060Z",
     "iopub.status.idle": "2025-01-16T09:39:02.536444Z",
     "shell.execute_reply": "2025-01-16T09:39:02.536137Z"
    },
    "slideshow": {
     "slide_type": "skip"
    }
   },
   "outputs": [],
   "source": [
    "from ControlFlow import generate_maze_code"
   ]
  },
  {
   "cell_type": "code",
   "execution_count": 59,
   "metadata": {
    "execution": {
     "iopub.execute_input": "2025-01-16T09:39:02.538441Z",
     "iopub.status.busy": "2025-01-16T09:39:02.538262Z",
     "iopub.status.idle": "2025-01-16T09:39:02.540021Z",
     "shell.execute_reply": "2025-01-16T09:39:02.539809Z"
    },
    "slideshow": {
     "slide_type": "fragment"
    }
   },
   "outputs": [],
   "source": [
    "# ignore\n",
    "def maze(s: str) -> str:\n",
    "    return \"\"  # Will be overwritten by exec()"
   ]
  },
  {
   "cell_type": "code",
   "execution_count": 60,
   "metadata": {
    "execution": {
     "iopub.execute_input": "2025-01-16T09:39:02.541517Z",
     "iopub.status.busy": "2025-01-16T09:39:02.541403Z",
     "iopub.status.idle": "2025-01-16T09:39:02.543265Z",
     "shell.execute_reply": "2025-01-16T09:39:02.542958Z"
    },
    "slideshow": {
     "slide_type": "subslide"
    }
   },
   "outputs": [],
   "source": [
    "# ignore\n",
    "def target_tile() -> str:\n",
    "    return ' '  # Will be overwritten by exec()"
   ]
  },
  {
   "cell_type": "code",
   "execution_count": 61,
   "metadata": {
    "execution": {
     "iopub.execute_input": "2025-01-16T09:39:02.544911Z",
     "iopub.status.busy": "2025-01-16T09:39:02.544793Z",
     "iopub.status.idle": "2025-01-16T09:39:02.546604Z",
     "shell.execute_reply": "2025-01-16T09:39:02.546294Z"
    },
    "slideshow": {
     "slide_type": "fragment"
    }
   },
   "outputs": [],
   "source": [
    "maze_code = generate_maze_code(maze_string)"
   ]
  },
  {
   "cell_type": "code",
   "execution_count": 62,
   "metadata": {
    "execution": {
     "iopub.execute_input": "2025-01-16T09:39:02.548353Z",
     "iopub.status.busy": "2025-01-16T09:39:02.548225Z",
     "iopub.status.idle": "2025-01-16T09:39:02.552838Z",
     "shell.execute_reply": "2025-01-16T09:39:02.552577Z"
    },
    "slideshow": {
     "slide_type": "fragment"
    }
   },
   "outputs": [],
   "source": [
    "exec(maze_code)"
   ]
  },
  {
   "cell_type": "markdown",
   "metadata": {
    "slideshow": {
     "slide_type": "fragment"
    }
   },
   "source": [
    "The objective is to get the \"X\" to the \"#\" by providing inputs `D` for down, `U` for up, `L` for left, and `R` for right."
   ]
  },
  {
   "cell_type": "code",
   "execution_count": 63,
   "metadata": {
    "execution": {
     "iopub.execute_input": "2025-01-16T09:39:02.554751Z",
     "iopub.status.busy": "2025-01-16T09:39:02.554585Z",
     "iopub.status.idle": "2025-01-16T09:39:02.556803Z",
     "shell.execute_reply": "2025-01-16T09:39:02.556478Z"
    },
    "slideshow": {
     "slide_type": "subslide"
    }
   },
   "outputs": [
    {
     "name": "stdout",
     "output_type": "stream",
     "text": [
      "SOLVED\n",
      "\n",
      "+-+-----+\n",
      "| |     |\n",
      "| | --+ |\n",
      "| |   | |\n",
      "| +-- | |\n",
      "|     |X|\n",
      "+-----+-+\n",
      "\n"
     ]
    }
   ],
   "source": [
    "print(maze(\"DDDDRRRRUULLUURRRRDDDD\"))  # Appending one more 'D', you have reached the target."
   ]
  },
  {
   "cell_type": "markdown",
   "metadata": {
    "slideshow": {
     "slide_type": "subslide"
    }
   },
   "source": [
    "Each character in `maze_string` represents a tile. For each tile, a tile-function is generated. \n",
    "* If the current tile is \"benign\" (` `), the tile-function corresponding to the next input character (D, U, L, R) is called. Unexpected input characters are ignored. If no more input characters are left, it returns \"VALID\" and the current maze state.\n",
    "* If the current tile is a \"trap\" (`+`,`|`,`-`), it returns \"INVALID\" and the current maze state.\n",
    "* If the current tile is the \"target\" (`#`), it returns \"SOLVED\" and the current maze state.\n",
    "\n",
    "***Try it***. You can test other sequences of input characters, or even change the maze entirely. In order to execute your own code, you just need to open this chapter as Jupyter notebook.\n",
    "\n",
    "To get an idea of the generated code, lets look at the static [call graph](https://en.wikipedia.org/wiki/Call_graph). A call graph shows the order in which functions can be executed."
   ]
  },
  {
   "cell_type": "code",
   "execution_count": 64,
   "metadata": {
    "execution": {
     "iopub.execute_input": "2025-01-16T09:39:02.558744Z",
     "iopub.status.busy": "2025-01-16T09:39:02.558629Z",
     "iopub.status.idle": "2025-01-16T09:39:02.560202Z",
     "shell.execute_reply": "2025-01-16T09:39:02.559946Z"
    },
    "slideshow": {
     "slide_type": "skip"
    }
   },
   "outputs": [],
   "source": [
    "from ControlFlow import callgraph"
   ]
  },
  {
   "cell_type": "code",
   "execution_count": 65,
   "metadata": {
    "execution": {
     "iopub.execute_input": "2025-01-16T09:39:02.561830Z",
     "iopub.status.busy": "2025-01-16T09:39:02.561712Z",
     "iopub.status.idle": "2025-01-16T09:39:03.301133Z",
     "shell.execute_reply": "2025-01-16T09:39:03.299976Z"
    },
    "slideshow": {
     "slide_type": "subslide"
    }
   },
   "outputs": [
    {
     "data": {
      "image/svg+xml": [
       "<?xml version=\"1.0\" encoding=\"UTF-8\" standalone=\"no\"?>\n",
       "<!DOCTYPE svg PUBLIC \"-//W3C//DTD SVG 1.1//EN\"\n",
       " \"http://www.w3.org/Graphics/SVG/1.1/DTD/svg11.dtd\">\n",
       "<!-- Generated by graphviz version 12.2.1 (20241206.2353)\n",
       " -->\n",
       "<!-- Title: G Pages: 1 -->\n",
       "<svg width=\"3918pt\" height=\"2233pt\"\n",
       " viewBox=\"0.00 0.00 3918.15 2232.72\" xmlns=\"http://www.w3.org/2000/svg\" xmlns:xlink=\"http://www.w3.org/1999/xlink\">\n",
       "<g id=\"graph0\" class=\"graph\" transform=\"scale(1 1) rotate(0) translate(4 2228.72)\">\n",
       "<title>G</title>\n",
       "<polygon fill=\"white\" stroke=\"none\" points=\"-4,4 -4,-2228.72 3914.15,-2228.72 3914.15,4 -4,4\"/>\n",
       "<g id=\"clust1\" class=\"cluster\">\n",
       "<title>cluster_G</title>\n",
       "<path fill=\"#808080\" fill-opacity=\"0.094118\" stroke=\"black\" d=\"M29.15,-8C29.15,-8 3890.15,-8 3890.15,-8 3896.15,-8 3902.15,-14 3902.15,-20 3902.15,-20 3902.15,-2204.72 3902.15,-2204.72 3902.15,-2210.72 3896.15,-2216.72 3890.15,-2216.72 3890.15,-2216.72 29.15,-2216.72 29.15,-2216.72 23.15,-2216.72 17.15,-2210.72 17.15,-2204.72 17.15,-2204.72 17.15,-20 17.15,-20 17.15,-14 23.15,-8 29.15,-8\"/>\n",
       "</g>\n",
       "<g id=\"clust2\" class=\"cluster\">\n",
       "<title>cluster_callgraphX</title>\n",
       "<path fill=\"#808080\" fill-opacity=\"0.094118\" stroke=\"black\" d=\"M37.15,-16C37.15,-16 3790.15,-16 3790.15,-16 3796.15,-16 3802.15,-22 3802.15,-28 3802.15,-28 3802.15,-2196.72 3802.15,-2196.72 3802.15,-2202.72 3796.15,-2208.72 3790.15,-2208.72 3790.15,-2208.72 37.15,-2208.72 37.15,-2208.72 31.15,-2208.72 25.15,-2202.72 25.15,-2196.72 25.15,-2196.72 25.15,-28 25.15,-28 25.15,-22 31.15,-16 37.15,-16\"/>\n",
       "<text text-anchor=\"middle\" x=\"1913.65\" y=\"-2191.42\" font-family=\"Times,serif\" font-size=\"14.00\">callgraph</text>\n",
       "</g>\n",
       "<!-- callgraphX -->\n",
       "<g id=\"node1\" class=\"node\">\n",
       "<title>callgraphX</title>\n",
       "<ellipse fill=\"#ffffff\" fill-opacity=\"0.698039\" stroke=\"black\" cx=\"3852.15\" cy=\"-1889.8\" rx=\"42.14\" ry=\"18\"/>\n",
       "<text text-anchor=\"middle\" x=\"3852.15\" y=\"-1883.63\" font-family=\"Times,serif\" font-size=\"14.00\" fill=\"#000000\">callgraph</text>\n",
       "</g>\n",
       "<!-- callgraphX__maze -->\n",
       "<g id=\"node2\" class=\"node\">\n",
       "<title>callgraphX__maze</title>\n",
       "<ellipse fill=\"#fecccc\" fill-opacity=\"0.698039\" stroke=\"black\" cx=\"1956.15\" cy=\"-2152.66\" rx=\"77.6\" ry=\"25.81\"/>\n",
       "<text text-anchor=\"middle\" x=\"1956.15\" y=\"-2153.61\" font-family=\"Times,serif\" font-size=\"14.00\" fill=\"#000000\">maze</text>\n",
       "<text text-anchor=\"middle\" x=\"1956.15\" y=\"-2139.36\" font-family=\"Times,serif\" font-size=\"14.00\" fill=\"#000000\">(callgraph.py:84)</text>\n",
       "</g>\n",
       "<!-- callgraphX&#45;&gt;callgraphX__maze -->\n",
       "<g id=\"edge66\" class=\"edge\">\n",
       "<title>callgraphX&#45;&gt;callgraphX__maze</title>\n",
       "<path fill=\"none\" stroke=\"#838b8b\" stroke-dasharray=\"5,2\" d=\"M3829.49,-1905.16C3822.28,-1909.14 3814.1,-1913.06 3806.15,-1915.61 3154.26,-2124.98 2317.04,-2149.52 2045.46,-2151.72\"/>\n",
       "<polygon fill=\"#838b8b\" stroke=\"#838b8b\" points=\"2045.6,-2148.22 2035.62,-2151.79 2045.65,-2155.22 2045.6,-2148.22\"/>\n",
       "</g>\n",
       "<!-- callgraphX__print_maze -->\n",
       "<g id=\"node3\" class=\"node\">\n",
       "<title>callgraphX__print_maze</title>\n",
       "<ellipse fill=\"#fecccc\" fill-opacity=\"0.698039\" stroke=\"black\" cx=\"1575.15\" cy=\"-49.81\" rx=\"72.83\" ry=\"25.81\"/>\n",
       "<text text-anchor=\"middle\" x=\"1575.15\" y=\"-50.76\" font-family=\"Times,serif\" font-size=\"14.00\" fill=\"#000000\">print_maze</text>\n",
       "<text text-anchor=\"middle\" x=\"1575.15\" y=\"-36.51\" font-family=\"Times,serif\" font-size=\"14.00\" fill=\"#000000\">(callgraph.py:2)</text>\n",
       "</g>\n",
       "<!-- callgraphX&#45;&gt;callgraphX__print_maze -->\n",
       "<g id=\"edge49\" class=\"edge\">\n",
       "<title>callgraphX&#45;&gt;callgraphX__print_maze</title>\n",
       "<path fill=\"none\" stroke=\"#838b8b\" stroke-dasharray=\"5,2\" d=\"M3848.85,-1871.67C3843.17,-1840.65 3832.15,-1773.09 3832.15,-1715.57 3832.15,-1715.57 3832.15,-1715.57 3832.15,-224.05 3832.15,-172.44 3843.51,-143.78 3803.15,-111.62 3760.46,-77.6 2061.07,-56.3 1659.54,-51.73\"/>\n",
       "<polygon fill=\"#838b8b\" stroke=\"#838b8b\" points=\"1659.6,-48.23 1649.56,-51.62 1659.52,-55.23 1659.6,-48.23\"/>\n",
       "</g>\n",
       "<!-- callgraphX__target_tile -->\n",
       "<g id=\"node4\" class=\"node\">\n",
       "<title>callgraphX__target_tile</title>\n",
       "<ellipse fill=\"#fecccc\" fill-opacity=\"0.698039\" stroke=\"black\" cx=\"3712.15\" cy=\"-2152.66\" rx=\"82.38\" ry=\"25.81\"/>\n",
       "<text text-anchor=\"middle\" x=\"3712.15\" y=\"-2153.61\" font-family=\"Times,serif\" font-size=\"14.00\" fill=\"#000000\">target_tile</text>\n",
       "<text text-anchor=\"middle\" x=\"3712.15\" y=\"-2139.36\" font-family=\"Times,serif\" font-size=\"14.00\" fill=\"#000000\">(callgraph.py:358)</text>\n",
       "</g>\n",
       "<!-- callgraphX&#45;&gt;callgraphX__target_tile -->\n",
       "<g id=\"edge45\" class=\"edge\">\n",
       "<title>callgraphX&#45;&gt;callgraphX__target_tile</title>\n",
       "<path fill=\"none\" stroke=\"#838b8b\" stroke-dasharray=\"5,2\" d=\"M3843.09,-1907.69C3820.44,-1949.88 3761.04,-2060.57 3730.64,-2117.2\"/>\n",
       "<polygon fill=\"#838b8b\" stroke=\"#838b8b\" points=\"3727.68,-2115.32 3726.04,-2125.79 3733.85,-2118.63 3727.68,-2115.32\"/>\n",
       "</g>\n",
       "<!-- callgraphX__tile_1_0 -->\n",
       "<g id=\"node5\" class=\"node\">\n",
       "<title>callgraphX__tile_1_0</title>\n",
       "<ellipse fill=\"#fecccc\" fill-opacity=\"0.698039\" stroke=\"black\" cx=\"3543.15\" cy=\"-137.43\" rx=\"77.6\" ry=\"25.81\"/>\n",
       "<text text-anchor=\"middle\" x=\"3543.15\" y=\"-138.38\" font-family=\"Times,serif\" font-size=\"14.00\" fill=\"#000000\">tile_1_0</text>\n",
       "<text text-anchor=\"middle\" x=\"3543.15\" y=\"-124.13\" font-family=\"Times,serif\" font-size=\"14.00\" fill=\"#000000\">(callgraph.py:26)</text>\n",
       "</g>\n",
       "<!-- callgraphX&#45;&gt;callgraphX__tile_1_0 -->\n",
       "<g id=\"edge61\" class=\"edge\">\n",
       "<title>callgraphX&#45;&gt;callgraphX__tile_1_0</title>\n",
       "<path fill=\"none\" stroke=\"#838b8b\" stroke-dasharray=\"5,2\" d=\"M3838.21,-1872.35C3829.08,-1860.71 3817.67,-1844.31 3811.15,-1827.99 3792.34,-1780.94 3792.15,-1766.24 3792.15,-1715.57 3792.15,-1715.57 3792.15,-1715.57 3792.15,-311.67 3792.15,-261.13 3809.21,-236.57 3775.15,-199.24 3730.11,-149.86 3693.72,-180.5 3629.15,-163.24 3623.33,-161.68 3617.31,-160.03 3611.27,-158.34\"/>\n",
       "<polygon fill=\"#838b8b\" stroke=\"#838b8b\" points=\"3612.46,-155.04 3601.88,-155.7 3610.56,-161.78 3612.46,-155.04\"/>\n",
       "</g>\n",
       "<!-- callgraphX__tile_1_1 -->\n",
       "<g id=\"node6\" class=\"node\">\n",
       "<title>callgraphX__tile_1_1</title>\n",
       "<ellipse fill=\"#fecccc\" fill-opacity=\"0.698039\" stroke=\"black\" cx=\"919.15\" cy=\"-1101.23\" rx=\"77.6\" ry=\"25.81\"/>\n",
       "<text text-anchor=\"middle\" x=\"919.15\" y=\"-1102.18\" font-family=\"Times,serif\" font-size=\"14.00\" fill=\"#000000\">tile_1_1</text>\n",
       "<text text-anchor=\"middle\" x=\"919.15\" y=\"-1087.93\" font-family=\"Times,serif\" font-size=\"14.00\" fill=\"#000000\">(callgraph.py:31)</text>\n",
       "</g>\n",
       "<!-- callgraphX&#45;&gt;callgraphX__tile_1_1 -->\n",
       "<g id=\"edge24\" class=\"edge\">\n",
       "<title>callgraphX&#45;&gt;callgraphX__tile_1_1</title>\n",
       "<path fill=\"none\" stroke=\"#838b8b\" stroke-dasharray=\"5,2\" d=\"M3830.12,-1874.14C3822.8,-1870.05 3814.41,-1866.13 3806.15,-1863.99 3727.6,-1843.65 944.43,-1883.4 885.15,-1827.99 848.53,-1793.77 876.15,-1765.69 876.15,-1715.57 876.15,-1715.57 876.15,-1715.57 876.15,-1275.47 876.15,-1226.68 892.42,-1172.37 904.94,-1137.79\"/>\n",
       "<polygon fill=\"#838b8b\" stroke=\"#838b8b\" points=\"908.12,-1139.3 908.32,-1128.71 901.56,-1136.86 908.12,-1139.3\"/>\n",
       "</g>\n",
       "<!-- callgraphX__tile_1_2 -->\n",
       "<g id=\"node7\" class=\"node\">\n",
       "<title>callgraphX__tile_1_2</title>\n",
       "<ellipse fill=\"#fecccc\" fill-opacity=\"0.698039\" stroke=\"black\" cx=\"3716.15\" cy=\"-137.43\" rx=\"77.6\" ry=\"25.81\"/>\n",
       "<text text-anchor=\"middle\" x=\"3716.15\" y=\"-138.38\" font-family=\"Times,serif\" font-size=\"14.00\" fill=\"#000000\">tile_1_2</text>\n",
       "<text text-anchor=\"middle\" x=\"3716.15\" y=\"-124.13\" font-family=\"Times,serif\" font-size=\"14.00\" fill=\"#000000\">(callgraph.py:36)</text>\n",
       "</g>\n",
       "<!-- callgraphX&#45;&gt;callgraphX__tile_1_2 -->\n",
       "<g id=\"edge29\" class=\"edge\">\n",
       "<title>callgraphX&#45;&gt;callgraphX__tile_1_2</title>\n",
       "<path fill=\"none\" stroke=\"#838b8b\" stroke-dasharray=\"5,2\" d=\"M3843.83,-1871.91C3838.27,-1859.93 3831.25,-1843.32 3827.15,-1827.99 3814.13,-1779.3 3812.15,-1765.98 3812.15,-1715.57 3812.15,-1715.57 3812.15,-1715.57 3812.15,-311.67 3812.15,-261.25 3822.62,-242.74 3797.15,-199.24 3789.58,-186.3 3778.06,-175.23 3766.07,-166.23\"/>\n",
       "<polygon fill=\"#838b8b\" stroke=\"#838b8b\" points=\"3768.3,-163.51 3758.1,-160.62 3764.27,-169.24 3768.3,-163.51\"/>\n",
       "</g>\n",
       "<!-- callgraphX__tile_1_3 -->\n",
       "<g id=\"node8\" class=\"node\">\n",
       "<title>callgraphX__tile_1_3</title>\n",
       "<ellipse fill=\"#fecccc\" fill-opacity=\"0.698039\" stroke=\"black\" cx=\"1120.15\" cy=\"-487.9\" rx=\"77.6\" ry=\"25.81\"/>\n",
       "<text text-anchor=\"middle\" x=\"1120.15\" y=\"-488.85\" font-family=\"Times,serif\" font-size=\"14.00\" fill=\"#000000\">tile_1_3</text>\n",
       "<text text-anchor=\"middle\" x=\"1120.15\" y=\"-474.6\" font-family=\"Times,serif\" font-size=\"14.00\" fill=\"#000000\">(callgraph.py:41)</text>\n",
       "</g>\n",
       "<!-- callgraphX&#45;&gt;callgraphX__tile_1_3 -->\n",
       "<g id=\"edge34\" class=\"edge\">\n",
       "<title>callgraphX&#45;&gt;callgraphX__tile_1_3</title>\n",
       "<path fill=\"none\" stroke=\"#838b8b\" stroke-dasharray=\"5,2\" d=\"M3830.12,-1874.14C3822.8,-1870.04 3814.41,-1866.13 3806.15,-1863.99 3721.62,-1842.14 730.49,-1883.57 663.15,-1827.99 645.65,-1813.55 622.15,-1650.64 622.15,-1627.95 622.15,-1627.95 622.15,-1627.95 622.15,-662.14 622.15,-607.89 650.21,-593.71 752.15,-549.71 777.91,-538.59 937.47,-514.66 1037.85,-500.36\"/>\n",
       "<polygon fill=\"#838b8b\" stroke=\"#838b8b\" points=\"1038.28,-503.83 1047.68,-498.96 1037.29,-496.9 1038.28,-503.83\"/>\n",
       "</g>\n",
       "<!-- callgraphX__tile_1_4 -->\n",
       "<g id=\"node9\" class=\"node\">\n",
       "<title>callgraphX__tile_1_4</title>\n",
       "<ellipse fill=\"#fecccc\" fill-opacity=\"0.698039\" stroke=\"black\" cx=\"2113.15\" cy=\"-663.14\" rx=\"77.6\" ry=\"25.81\"/>\n",
       "<text text-anchor=\"middle\" x=\"2113.15\" y=\"-664.09\" font-family=\"Times,serif\" font-size=\"14.00\" fill=\"#000000\">tile_1_4</text>\n",
       "<text text-anchor=\"middle\" x=\"2113.15\" y=\"-649.84\" font-family=\"Times,serif\" font-size=\"14.00\" fill=\"#000000\">(callgraph.py:46)</text>\n",
       "</g>\n",
       "<!-- callgraphX&#45;&gt;callgraphX__tile_1_4 -->\n",
       "<g id=\"edge27\" class=\"edge\">\n",
       "<title>callgraphX&#45;&gt;callgraphX__tile_1_4</title>\n",
       "<path fill=\"none\" stroke=\"#838b8b\" stroke-dasharray=\"5,2\" d=\"M3829.55,-1874.26C3822.34,-1870.28 3814.15,-1866.4 3806.15,-1863.99 3720.47,-1838.23 3469.76,-1889.88 3405.15,-1827.99 3368.75,-1793.13 3390.15,-1765.98 3390.15,-1715.57 3390.15,-1715.57 3390.15,-1715.57 3390.15,-837.38 3390.15,-786.28 3405.37,-757.69 3366.15,-724.95 3316.19,-683.24 2259.38,-699.47 2195.15,-688.95 2189.19,-687.97 2183.05,-686.68 2176.95,-685.2\"/>\n",
       "<polygon fill=\"#838b8b\" stroke=\"#838b8b\" points=\"2178.07,-681.88 2167.51,-682.74 2176.3,-688.65 2178.07,-681.88\"/>\n",
       "</g>\n",
       "<!-- callgraphX__tile_1_5 -->\n",
       "<g id=\"node10\" class=\"node\">\n",
       "<title>callgraphX__tile_1_5</title>\n",
       "<ellipse fill=\"#fecccc\" fill-opacity=\"0.698039\" stroke=\"black\" cx=\"1160.15\" cy=\"-575.52\" rx=\"77.6\" ry=\"25.81\"/>\n",
       "<text text-anchor=\"middle\" x=\"1160.15\" y=\"-576.47\" font-family=\"Times,serif\" font-size=\"14.00\" fill=\"#000000\">tile_1_5</text>\n",
       "<text text-anchor=\"middle\" x=\"1160.15\" y=\"-562.22\" font-family=\"Times,serif\" font-size=\"14.00\" fill=\"#000000\">(callgraph.py:51)</text>\n",
       "</g>\n",
       "<!-- callgraphX&#45;&gt;callgraphX__tile_1_5 -->\n",
       "<g id=\"edge32\" class=\"edge\">\n",
       "<title>callgraphX&#45;&gt;callgraphX__tile_1_5</title>\n",
       "<path fill=\"none\" stroke=\"#838b8b\" stroke-dasharray=\"5,2\" d=\"M3830.12,-1874.14C3822.8,-1870.04 3814.41,-1866.13 3806.15,-1863.99 3722.86,-1842.45 773.01,-1885.65 709.15,-1827.99 661.12,-1784.63 662.15,-1607.94 662.15,-1189.85 662.15,-1189.85 662.15,-1189.85 662.15,-749.76 662.15,-699.67 635.03,-673.05 670.15,-637.33 702.06,-604.88 1033.47,-609.97 1078.15,-601.33 1083.76,-600.25 1089.53,-598.93 1095.28,-597.48\"/>\n",
       "<polygon fill=\"#838b8b\" stroke=\"#838b8b\" points=\"1096.07,-600.89 1104.83,-594.92 1094.27,-594.13 1096.07,-600.89\"/>\n",
       "</g>\n",
       "<!-- callgraphX__tile_1_6 -->\n",
       "<g id=\"node11\" class=\"node\">\n",
       "<title>callgraphX__tile_1_6</title>\n",
       "<ellipse fill=\"#fecccc\" fill-opacity=\"0.698039\" stroke=\"black\" cx=\"846.15\" cy=\"-487.9\" rx=\"77.6\" ry=\"25.81\"/>\n",
       "<text text-anchor=\"middle\" x=\"846.15\" y=\"-488.85\" font-family=\"Times,serif\" font-size=\"14.00\" fill=\"#000000\">tile_1_6</text>\n",
       "<text text-anchor=\"middle\" x=\"846.15\" y=\"-474.6\" font-family=\"Times,serif\" font-size=\"14.00\" fill=\"#000000\">(callgraph.py:56)</text>\n",
       "</g>\n",
       "<!-- callgraphX&#45;&gt;callgraphX__tile_1_6 -->\n",
       "<g id=\"edge37\" class=\"edge\">\n",
       "<title>callgraphX&#45;&gt;callgraphX__tile_1_6</title>\n",
       "<path fill=\"none\" stroke=\"#838b8b\" stroke-dasharray=\"5,2\" d=\"M3830.12,-1874.14C3822.8,-1870.04 3814.41,-1866.13 3806.15,-1863.99 3721.06,-1841.99 709.8,-1884.11 642.15,-1827.99 624.7,-1813.52 602.15,-1650.62 602.15,-1627.95 602.15,-1627.95 602.15,-1627.95 602.15,-662.14 602.15,-608.32 607.53,-586.14 647.15,-549.71 647.8,-549.12 721.28,-526.75 778.76,-509.31\"/>\n",
       "<polygon fill=\"#838b8b\" stroke=\"#838b8b\" points=\"779.65,-512.7 788.2,-506.45 777.62,-506 779.65,-512.7\"/>\n",
       "</g>\n",
       "<!-- callgraphX__tile_1_7 -->\n",
       "<g id=\"node12\" class=\"node\">\n",
       "<title>callgraphX__tile_1_7</title>\n",
       "<ellipse fill=\"#fecccc\" fill-opacity=\"0.698039\" stroke=\"black\" cx=\"1753.15\" cy=\"-400.28\" rx=\"77.6\" ry=\"25.81\"/>\n",
       "<text text-anchor=\"middle\" x=\"1753.15\" y=\"-401.23\" font-family=\"Times,serif\" font-size=\"14.00\" fill=\"#000000\">tile_1_7</text>\n",
       "<text text-anchor=\"middle\" x=\"1753.15\" y=\"-386.98\" font-family=\"Times,serif\" font-size=\"14.00\" fill=\"#000000\">(callgraph.py:61)</text>\n",
       "</g>\n",
       "<!-- callgraphX&#45;&gt;callgraphX__tile_1_7 -->\n",
       "<g id=\"edge42\" class=\"edge\">\n",
       "<title>callgraphX&#45;&gt;callgraphX__tile_1_7</title>\n",
       "<path fill=\"none\" stroke=\"#838b8b\" stroke-dasharray=\"5,2\" d=\"M3829.53,-1874.32C3822.32,-1870.34 3814.13,-1866.44 3806.15,-1863.99 3730.35,-1840.73 3509.51,-1881.67 3451.15,-1827.99 3413.74,-1793.58 3430.15,-1766.4 3430.15,-1715.57 3430.15,-1715.57 3430.15,-1715.57 3430.15,-574.52 3430.15,-549.32 3433.92,-478.92 3415.15,-462.09 3351.63,-405.16 1964.95,-435.3 1880.15,-426.09 1862.93,-424.22 1844.56,-421.23 1827.3,-417.96\"/>\n",
       "<polygon fill=\"#838b8b\" stroke=\"#838b8b\" points=\"1828.11,-414.55 1817.62,-416.07 1826.76,-421.42 1828.11,-414.55\"/>\n",
       "</g>\n",
       "<!-- callgraphX__tile_1_8 -->\n",
       "<g id=\"node13\" class=\"node\">\n",
       "<title>callgraphX__tile_1_8</title>\n",
       "<ellipse fill=\"#fecccc\" fill-opacity=\"0.698039\" stroke=\"black\" cx=\"552.15\" cy=\"-137.43\" rx=\"77.6\" ry=\"25.81\"/>\n",
       "<text text-anchor=\"middle\" x=\"552.15\" y=\"-138.38\" font-family=\"Times,serif\" font-size=\"14.00\" fill=\"#000000\">tile_1_8</text>\n",
       "<text text-anchor=\"middle\" x=\"552.15\" y=\"-124.13\" font-family=\"Times,serif\" font-size=\"14.00\" fill=\"#000000\">(callgraph.py:66)</text>\n",
       "</g>\n",
       "<!-- callgraphX&#45;&gt;callgraphX__tile_1_8 -->\n",
       "<g id=\"edge44\" class=\"edge\">\n",
       "<title>callgraphX&#45;&gt;callgraphX__tile_1_8</title>\n",
       "<path fill=\"none\" stroke=\"#838b8b\" stroke-dasharray=\"5,2\" d=\"M3830.12,-1874.14C3822.8,-1870.04 3814.41,-1866.13 3806.15,-1863.99 3719.95,-1841.72 669.55,-1884.99 601.15,-1827.99 566.36,-1799 562.15,-1673.24 562.15,-1627.95 562.15,-1627.95 562.15,-1627.95 562.15,-311.67 562.15,-264.3 558.38,-209.77 555.47,-174.74\"/>\n",
       "<polygon fill=\"#838b8b\" stroke=\"#838b8b\" points=\"558.99,-174.82 554.65,-165.16 552.01,-175.42 558.99,-174.82\"/>\n",
       "</g>\n",
       "<!-- callgraphX__tile_2_0 -->\n",
       "<g id=\"node14\" class=\"node\">\n",
       "<title>callgraphX__tile_2_0</title>\n",
       "<ellipse fill=\"#fecccc\" fill-opacity=\"0.698039\" stroke=\"black\" cx=\"1681.15\" cy=\"-1188.85\" rx=\"77.6\" ry=\"25.81\"/>\n",
       "<text text-anchor=\"middle\" x=\"1681.15\" y=\"-1189.8\" font-family=\"Times,serif\" font-size=\"14.00\" fill=\"#000000\">tile_2_0</text>\n",
       "<text text-anchor=\"middle\" x=\"1681.15\" y=\"-1175.55\" font-family=\"Times,serif\" font-size=\"14.00\" fill=\"#000000\">(callgraph.py:71)</text>\n",
       "</g>\n",
       "<!-- callgraphX&#45;&gt;callgraphX__tile_2_0 -->\n",
       "<g id=\"edge6\" class=\"edge\">\n",
       "<title>callgraphX&#45;&gt;callgraphX__tile_2_0</title>\n",
       "<path fill=\"none\" stroke=\"#838b8b\" stroke-dasharray=\"5,2\" d=\"M3829.59,-1874.11C3822.38,-1870.12 3814.18,-1866.27 3806.15,-1863.99 3673.81,-1826.45 3305.26,-1900.18 3188.15,-1827.99 3139.02,-1797.71 3123.15,-1773.28 3123.15,-1715.57 3123.15,-1715.57 3123.15,-1715.57 3123.15,-1363.09 3123.15,-1264.57 3836.04,-1397.49 2542.15,-1250.66 2394.21,-1233.88 1957.16,-1206.51 1768.97,-1195.1\"/>\n",
       "<polygon fill=\"#838b8b\" stroke=\"#838b8b\" points=\"1769.19,-1191.61 1759,-1194.5 1768.77,-1198.6 1769.19,-1191.61\"/>\n",
       "</g>\n",
       "<!-- callgraphX__tile_2_1 -->\n",
       "<g id=\"node15\" class=\"node\">\n",
       "<title>callgraphX__tile_2_1</title>\n",
       "<ellipse fill=\"#fecccc\" fill-opacity=\"0.698039\" stroke=\"black\" cx=\"436.15\" cy=\"-2065.04\" rx=\"77.6\" ry=\"25.81\"/>\n",
       "<text text-anchor=\"middle\" x=\"436.15\" y=\"-2065.99\" font-family=\"Times,serif\" font-size=\"14.00\" fill=\"#000000\">tile_2_1</text>\n",
       "<text text-anchor=\"middle\" x=\"436.15\" y=\"-2051.74\" font-family=\"Times,serif\" font-size=\"14.00\" fill=\"#000000\">(callgraph.py:76)</text>\n",
       "</g>\n",
       "<!-- callgraphX&#45;&gt;callgraphX__tile_2_1 -->\n",
       "<g id=\"edge2\" class=\"edge\">\n",
       "<title>callgraphX&#45;&gt;callgraphX__tile_2_1</title>\n",
       "<path fill=\"none\" stroke=\"#838b8b\" stroke-dasharray=\"5,2\" d=\"M3830.09,-1905.34C3822.77,-1909.43 3814.38,-1913.37 3806.15,-1915.61 3762.06,-1927.63 563.22,-2031.7 518.15,-2039.23 512.19,-2040.23 506.06,-2041.53 499.96,-2043.02\"/>\n",
       "<polygon fill=\"#838b8b\" stroke=\"#838b8b\" points=\"499.3,-2039.58 490.52,-2045.5 501.08,-2046.35 499.3,-2039.58\"/>\n",
       "</g>\n",
       "<!-- callgraphX__tile_2_2 -->\n",
       "<g id=\"node16\" class=\"node\">\n",
       "<title>callgraphX__tile_2_2</title>\n",
       "<ellipse fill=\"#fecccc\" fill-opacity=\"0.698039\" stroke=\"black\" cx=\"2113.15\" cy=\"-750.76\" rx=\"77.6\" ry=\"25.81\"/>\n",
       "<text text-anchor=\"middle\" x=\"2113.15\" y=\"-751.71\" font-family=\"Times,serif\" font-size=\"14.00\" fill=\"#000000\">tile_2_2</text>\n",
       "<text text-anchor=\"middle\" x=\"2113.15\" y=\"-737.46\" font-family=\"Times,serif\" font-size=\"14.00\" fill=\"#000000\">(callgraph.py:87)</text>\n",
       "</g>\n",
       "<!-- callgraphX&#45;&gt;callgraphX__tile_2_2 -->\n",
       "<g id=\"edge63\" class=\"edge\">\n",
       "<title>callgraphX&#45;&gt;callgraphX__tile_2_2</title>\n",
       "<path fill=\"none\" stroke=\"#838b8b\" stroke-dasharray=\"5,2\" d=\"M3829.57,-1874.2C3822.36,-1870.21 3814.16,-1866.35 3806.15,-1863.99 3705.64,-1834.49 3412.27,-1899.95 3336.15,-1827.99 3299.52,-1793.36 3321.15,-1765.98 3321.15,-1715.57 3321.15,-1715.57 3321.15,-1715.57 3321.15,-925 3321.15,-798.8 2318.77,-801.95 2195.15,-776.57 2189.56,-775.42 2183.8,-774.06 2178.05,-772.57\"/>\n",
       "<polygon fill=\"#838b8b\" stroke=\"#838b8b\" points=\"2179.07,-769.23 2168.51,-769.98 2177.24,-775.98 2179.07,-769.23\"/>\n",
       "</g>\n",
       "<!-- callgraphX__tile_2_3 -->\n",
       "<g id=\"node17\" class=\"node\">\n",
       "<title>callgraphX__tile_2_3</title>\n",
       "<ellipse fill=\"#fecccc\" fill-opacity=\"0.698039\" stroke=\"black\" cx=\"1693.15\" cy=\"-838.38\" rx=\"77.6\" ry=\"25.81\"/>\n",
       "<text text-anchor=\"middle\" x=\"1693.15\" y=\"-839.33\" font-family=\"Times,serif\" font-size=\"14.00\" fill=\"#000000\">tile_2_3</text>\n",
       "<text text-anchor=\"middle\" x=\"1693.15\" y=\"-825.08\" font-family=\"Times,serif\" font-size=\"14.00\" fill=\"#000000\">(callgraph.py:92)</text>\n",
       "</g>\n",
       "<!-- callgraphX&#45;&gt;callgraphX__tile_2_3 -->\n",
       "<g id=\"edge59\" class=\"edge\">\n",
       "<title>callgraphX&#45;&gt;callgraphX__tile_2_3</title>\n",
       "<path fill=\"none\" stroke=\"#838b8b\" stroke-dasharray=\"5,2\" d=\"M3829.57,-1874.18C3822.36,-1870.2 3814.17,-1866.33 3806.15,-1863.99 3753.75,-1848.7 3355.88,-1865.44 3316.15,-1827.99 3279.46,-1793.42 3301.15,-1765.98 3301.15,-1715.57 3301.15,-1715.57 3301.15,-1715.57 3301.15,-1012.62 3301.15,-962.21 3323.68,-933.84 3286.15,-900.19 3223.64,-844.13 1858.06,-877.47 1775.15,-864.19 1769.19,-863.23 1763.05,-861.96 1756.94,-860.48\"/>\n",
       "<polygon fill=\"#838b8b\" stroke=\"#838b8b\" points=\"1758.06,-857.16 1747.5,-858.03 1756.3,-863.93 1758.06,-857.16\"/>\n",
       "</g>\n",
       "<!-- callgraphX__tile_2_4 -->\n",
       "<g id=\"node18\" class=\"node\">\n",
       "<title>callgraphX__tile_2_4</title>\n",
       "<ellipse fill=\"#fecccc\" fill-opacity=\"0.698039\" stroke=\"black\" cx=\"1694.15\" cy=\"-750.76\" rx=\"82.38\" ry=\"25.81\"/>\n",
       "<text text-anchor=\"middle\" x=\"1694.15\" y=\"-751.71\" font-family=\"Times,serif\" font-size=\"14.00\" fill=\"#000000\">tile_2_4</text>\n",
       "<text text-anchor=\"middle\" x=\"1694.15\" y=\"-737.46\" font-family=\"Times,serif\" font-size=\"14.00\" fill=\"#000000\">(callgraph.py:100)</text>\n",
       "</g>\n",
       "<!-- callgraphX&#45;&gt;callgraphX__tile_2_4 -->\n",
       "<g id=\"edge56\" class=\"edge\">\n",
       "<title>callgraphX&#45;&gt;callgraphX__tile_2_4</title>\n",
       "<path fill=\"none\" stroke=\"#838b8b\" stroke-dasharray=\"5,2\" d=\"M3830.12,-1874.14C3822.8,-1870.04 3814.41,-1866.13 3806.15,-1863.99 3724.37,-1842.83 828.48,-1883.91 765.15,-1827.99 732.97,-1799.58 722.15,-1434.96 722.15,-1014.62 722.15,-1014.62 722.15,-1014.62 722.15,-925 722.15,-725.36 1411.74,-812.31 1608.15,-776.57 1614.17,-775.47 1620.37,-774.13 1626.56,-772.64\"/>\n",
       "<polygon fill=\"#838b8b\" stroke=\"#838b8b\" points=\"1627.34,-776.05 1636.17,-770.19 1625.62,-769.27 1627.34,-776.05\"/>\n",
       "</g>\n",
       "<!-- callgraphX__tile_2_5 -->\n",
       "<g id=\"node19\" class=\"node\">\n",
       "<title>callgraphX__tile_2_5</title>\n",
       "<ellipse fill=\"#fecccc\" fill-opacity=\"0.698039\" stroke=\"black\" cx=\"1877.15\" cy=\"-663.14\" rx=\"82.38\" ry=\"25.81\"/>\n",
       "<text text-anchor=\"middle\" x=\"1877.15\" y=\"-664.09\" font-family=\"Times,serif\" font-size=\"14.00\" fill=\"#000000\">tile_2_5</text>\n",
       "<text text-anchor=\"middle\" x=\"1877.15\" y=\"-649.84\" font-family=\"Times,serif\" font-size=\"14.00\" fill=\"#000000\">(callgraph.py:108)</text>\n",
       "</g>\n",
       "<!-- callgraphX&#45;&gt;callgraphX__tile_2_5 -->\n",
       "<g id=\"edge53\" class=\"edge\">\n",
       "<title>callgraphX&#45;&gt;callgraphX__tile_2_5</title>\n",
       "<path fill=\"none\" stroke=\"#838b8b\" stroke-dasharray=\"5,2\" d=\"M3829.55,-1874.24C3822.34,-1870.25 3814.15,-1866.38 3806.15,-1863.99 3715.1,-1836.88 3450.06,-1892.32 3380.15,-1827.99 3342.86,-1793.68 3361.15,-1766.24 3361.15,-1715.57 3361.15,-1715.57 3361.15,-1715.57 3361.15,-837.38 3361.15,-812.17 3364.89,-741.81 3346.15,-724.95 3291.62,-675.88 2099.17,-695.99 2026.15,-688.95 2003.6,-686.78 1979.3,-683.24 1956.99,-679.52\"/>\n",
       "<polygon fill=\"#838b8b\" stroke=\"#838b8b\" points=\"1957.82,-676.11 1947.37,-677.87 1956.64,-683.01 1957.82,-676.11\"/>\n",
       "</g>\n",
       "<!-- callgraphX__tile_2_6 -->\n",
       "<g id=\"node20\" class=\"node\">\n",
       "<title>callgraphX__tile_2_6</title>\n",
       "<ellipse fill=\"#fecccc\" fill-opacity=\"0.698039\" stroke=\"black\" cx=\"1584.15\" cy=\"-575.52\" rx=\"82.38\" ry=\"25.81\"/>\n",
       "<text text-anchor=\"middle\" x=\"1584.15\" y=\"-576.47\" font-family=\"Times,serif\" font-size=\"14.00\" fill=\"#000000\">tile_2_6</text>\n",
       "<text text-anchor=\"middle\" x=\"1584.15\" y=\"-562.22\" font-family=\"Times,serif\" font-size=\"14.00\" fill=\"#000000\">(callgraph.py:116)</text>\n",
       "</g>\n",
       "<!-- callgraphX&#45;&gt;callgraphX__tile_2_6 -->\n",
       "<g id=\"edge51\" class=\"edge\">\n",
       "<title>callgraphX&#45;&gt;callgraphX__tile_2_6</title>\n",
       "<path fill=\"none\" stroke=\"#838b8b\" stroke-dasharray=\"5,2\" d=\"M3830.12,-1874.14C3822.8,-1870.04 3814.41,-1866.13 3806.15,-1863.99 3723.34,-1842.57 790.31,-1885.67 727.15,-1827.99 701.05,-1804.16 682.15,-1414.08 682.15,-1102.23 682.15,-1102.23 682.15,-1102.23 682.15,-749.76 682.15,-647.62 601.37,-712.95 924.15,-637.33 978.16,-624.68 1325.24,-596.59 1493.26,-583.49\"/>\n",
       "<polygon fill=\"#838b8b\" stroke=\"#838b8b\" points=\"1493.35,-587 1503.05,-582.73 1492.8,-580.02 1493.35,-587\"/>\n",
       "</g>\n",
       "<!-- callgraphX__tile_2_7 -->\n",
       "<g id=\"node21\" class=\"node\">\n",
       "<title>callgraphX__tile_2_7</title>\n",
       "<ellipse fill=\"#fecccc\" fill-opacity=\"0.698039\" stroke=\"black\" cx=\"1584.15\" cy=\"-487.9\" rx=\"82.38\" ry=\"25.81\"/>\n",
       "<text text-anchor=\"middle\" x=\"1584.15\" y=\"-488.85\" font-family=\"Times,serif\" font-size=\"14.00\" fill=\"#000000\">tile_2_7</text>\n",
       "<text text-anchor=\"middle\" x=\"1584.15\" y=\"-474.6\" font-family=\"Times,serif\" font-size=\"14.00\" fill=\"#000000\">(callgraph.py:124)</text>\n",
       "</g>\n",
       "<!-- callgraphX&#45;&gt;callgraphX__tile_2_7 -->\n",
       "<g id=\"edge47\" class=\"edge\">\n",
       "<title>callgraphX&#45;&gt;callgraphX__tile_2_7</title>\n",
       "<path fill=\"none\" stroke=\"#838b8b\" stroke-dasharray=\"5,2\" d=\"M3830.12,-1874.14C3822.8,-1870.04 3814.41,-1866.13 3806.15,-1863.99 3722.11,-1842.26 747.19,-1884.34 681.15,-1827.99 652.59,-1803.62 642.15,-1387.16 642.15,-1277.47 642.15,-1277.47 642.15,-1277.47 642.15,-662.14 642.15,-650.8 639.99,-645.22 648.15,-637.33 708.76,-578.75 1272.17,-518.84 1494.52,-497.27\"/>\n",
       "<polygon fill=\"#838b8b\" stroke=\"#838b8b\" points=\"1494.68,-500.77 1504.3,-496.33 1494.01,-493.8 1494.68,-500.77\"/>\n",
       "</g>\n",
       "<!-- callgraphX__tile_2_8 -->\n",
       "<g id=\"node22\" class=\"node\">\n",
       "<title>callgraphX__tile_2_8</title>\n",
       "<ellipse fill=\"#fecccc\" fill-opacity=\"0.698039\" stroke=\"black\" cx=\"1575.15\" cy=\"-400.28\" rx=\"82.38\" ry=\"25.81\"/>\n",
       "<text text-anchor=\"middle\" x=\"1575.15\" y=\"-401.23\" font-family=\"Times,serif\" font-size=\"14.00\" fill=\"#000000\">tile_2_8</text>\n",
       "<text text-anchor=\"middle\" x=\"1575.15\" y=\"-386.98\" font-family=\"Times,serif\" font-size=\"14.00\" fill=\"#000000\">(callgraph.py:132)</text>\n",
       "</g>\n",
       "<!-- callgraphX&#45;&gt;callgraphX__tile_2_8 -->\n",
       "<g id=\"edge43\" class=\"edge\">\n",
       "<title>callgraphX&#45;&gt;callgraphX__tile_2_8</title>\n",
       "<path fill=\"none\" stroke=\"#838b8b\" stroke-dasharray=\"5,2\" d=\"M3829.54,-1874.28C3822.33,-1870.3 3814.14,-1866.41 3806.15,-1863.99 3724.12,-1839.15 3483.14,-1888.21 3422.15,-1827.99 3386.39,-1792.69 3410.15,-1765.82 3410.15,-1715.57 3410.15,-1715.57 3410.15,-1715.57 3410.15,-574.52 3410.15,-380.04 1857.64,-460.06 1666.15,-426.09 1659.08,-424.84 1651.77,-423.29 1644.5,-421.58\"/>\n",
       "<polygon fill=\"#838b8b\" stroke=\"#838b8b\" points=\"1645.56,-418.23 1635.01,-419.24 1643.88,-425.03 1645.56,-418.23\"/>\n",
       "</g>\n",
       "<!-- callgraphX__tile_3_0 -->\n",
       "<g id=\"node23\" class=\"node\">\n",
       "<title>callgraphX__tile_3_0</title>\n",
       "<ellipse fill=\"#fecccc\" fill-opacity=\"0.698039\" stroke=\"black\" cx=\"175.15\" cy=\"-1889.8\" rx=\"82.38\" ry=\"25.81\"/>\n",
       "<text text-anchor=\"middle\" x=\"175.15\" y=\"-1890.75\" font-family=\"Times,serif\" font-size=\"14.00\" fill=\"#000000\">tile_3_0</text>\n",
       "<text text-anchor=\"middle\" x=\"175.15\" y=\"-1876.5\" font-family=\"Times,serif\" font-size=\"14.00\" fill=\"#000000\">(callgraph.py:137)</text>\n",
       "</g>\n",
       "<!-- callgraphX&#45;&gt;callgraphX__tile_3_0 -->\n",
       "<g id=\"edge38\" class=\"edge\">\n",
       "<title>callgraphX&#45;&gt;callgraphX__tile_3_0</title>\n",
       "<path fill=\"none\" stroke=\"#838b8b\" stroke-dasharray=\"5,2\" d=\"M3836.65,-1906.94C3826.51,-1916.81 3812.36,-1928.3 3797.15,-1933.61 3751.24,-1949.66 343.05,-1942.08 295.15,-1933.61 274.24,-1929.92 252.18,-1922.85 232.76,-1915.46\"/>\n",
       "<polygon fill=\"#838b8b\" stroke=\"#838b8b\" points=\"234.26,-1912.29 223.67,-1911.89 231.7,-1918.81 234.26,-1912.29\"/>\n",
       "</g>\n",
       "<!-- callgraphX__tile_3_1 -->\n",
       "<g id=\"node24\" class=\"node\">\n",
       "<title>callgraphX__tile_3_1</title>\n",
       "<ellipse fill=\"#fecccc\" fill-opacity=\"0.698039\" stroke=\"black\" cx=\"377.15\" cy=\"-1977.42\" rx=\"82.38\" ry=\"25.81\"/>\n",
       "<text text-anchor=\"middle\" x=\"377.15\" y=\"-1978.37\" font-family=\"Times,serif\" font-size=\"14.00\" fill=\"#000000\">tile_3_1</text>\n",
       "<text text-anchor=\"middle\" x=\"377.15\" y=\"-1964.12\" font-family=\"Times,serif\" font-size=\"14.00\" fill=\"#000000\">(callgraph.py:142)</text>\n",
       "</g>\n",
       "<!-- callgraphX&#45;&gt;callgraphX__tile_3_1 -->\n",
       "<g id=\"edge28\" class=\"edge\">\n",
       "<title>callgraphX&#45;&gt;callgraphX__tile_3_1</title>\n",
       "<path fill=\"none\" stroke=\"#838b8b\" stroke-dasharray=\"5,2\" d=\"M3830.12,-1905.47C3822.81,-1909.57 3814.41,-1913.48 3806.15,-1915.61 3626.32,-1962.05 646.91,-1924.63 463.15,-1951.61 456.75,-1952.55 450.15,-1953.84 443.6,-1955.35\"/>\n",
       "<polygon fill=\"#838b8b\" stroke=\"#838b8b\" points=\"442.98,-1951.89 434.12,-1957.69 444.66,-1958.69 442.98,-1951.89\"/>\n",
       "</g>\n",
       "<!-- callgraphX__tile_3_2 -->\n",
       "<g id=\"node25\" class=\"node\">\n",
       "<title>callgraphX__tile_3_2</title>\n",
       "<ellipse fill=\"#fecccc\" fill-opacity=\"0.698039\" stroke=\"black\" cx=\"1245.15\" cy=\"-838.38\" rx=\"82.38\" ry=\"25.81\"/>\n",
       "<text text-anchor=\"middle\" x=\"1245.15\" y=\"-839.33\" font-family=\"Times,serif\" font-size=\"14.00\" fill=\"#000000\">tile_3_2</text>\n",
       "<text text-anchor=\"middle\" x=\"1245.15\" y=\"-825.08\" font-family=\"Times,serif\" font-size=\"14.00\" fill=\"#000000\">(callgraph.py:150)</text>\n",
       "</g>\n",
       "<!-- callgraphX&#45;&gt;callgraphX__tile_3_2 -->\n",
       "<g id=\"edge19\" class=\"edge\">\n",
       "<title>callgraphX&#45;&gt;callgraphX__tile_3_2</title>\n",
       "<path fill=\"none\" stroke=\"#838b8b\" stroke-dasharray=\"5,2\" d=\"M3829.58,-1874.17C3822.36,-1870.18 3814.17,-1866.32 3806.15,-1863.99 3751.06,-1848.02 3332.09,-1868.17 3291.15,-1827.99 3255.35,-1792.86 3281.15,-1765.73 3281.15,-1715.57 3281.15,-1715.57 3281.15,-1715.57 3281.15,-1012.62 3281.15,-987.86 1732.1,-874.49 1336.34,-845.93\"/>\n",
       "<polygon fill=\"#838b8b\" stroke=\"#838b8b\" points=\"1336.7,-842.44 1326.47,-845.21 1336.2,-849.42 1336.7,-842.44\"/>\n",
       "</g>\n",
       "<!-- callgraphX__tile_3_3 -->\n",
       "<g id=\"node26\" class=\"node\">\n",
       "<title>callgraphX__tile_3_3</title>\n",
       "<ellipse fill=\"#fecccc\" fill-opacity=\"0.698039\" stroke=\"black\" cx=\"1245.15\" cy=\"-926\" rx=\"82.38\" ry=\"25.81\"/>\n",
       "<text text-anchor=\"middle\" x=\"1245.15\" y=\"-926.95\" font-family=\"Times,serif\" font-size=\"14.00\" fill=\"#000000\">tile_3_3</text>\n",
       "<text text-anchor=\"middle\" x=\"1245.15\" y=\"-912.7\" font-family=\"Times,serif\" font-size=\"14.00\" fill=\"#000000\">(callgraph.py:155)</text>\n",
       "</g>\n",
       "<!-- callgraphX&#45;&gt;callgraphX__tile_3_3 -->\n",
       "<g id=\"edge14\" class=\"edge\">\n",
       "<title>callgraphX&#45;&gt;callgraphX__tile_3_3</title>\n",
       "<path fill=\"none\" stroke=\"#838b8b\" stroke-dasharray=\"5,2\" d=\"M3830.12,-1874.14C3822.8,-1870.04 3814.41,-1866.13 3806.15,-1863.99 3725.55,-1843.13 870.62,-1884.15 809.15,-1827.99 780.3,-1801.63 796.38,-1691.78 794.15,-1652.76 785.72,-1504.98 713.2,-1074.53 833.15,-987.81 846.21,-978.36 1040.96,-952.57 1157.96,-937.79\"/>\n",
       "<polygon fill=\"#838b8b\" stroke=\"#838b8b\" points=\"1158.4,-941.26 1167.88,-936.54 1157.52,-934.32 1158.4,-941.26\"/>\n",
       "</g>\n",
       "<!-- callgraphX__tile_3_4 -->\n",
       "<g id=\"node27\" class=\"node\">\n",
       "<title>callgraphX__tile_3_4</title>\n",
       "<ellipse fill=\"#fecccc\" fill-opacity=\"0.698039\" stroke=\"black\" cx=\"1694.15\" cy=\"-663.14\" rx=\"82.38\" ry=\"25.81\"/>\n",
       "<text text-anchor=\"middle\" x=\"1694.15\" y=\"-664.09\" font-family=\"Times,serif\" font-size=\"14.00\" fill=\"#000000\">tile_3_4</text>\n",
       "<text text-anchor=\"middle\" x=\"1694.15\" y=\"-649.84\" font-family=\"Times,serif\" font-size=\"14.00\" fill=\"#000000\">(callgraph.py:163)</text>\n",
       "</g>\n",
       "<!-- callgraphX&#45;&gt;callgraphX__tile_3_4 -->\n",
       "<g id=\"edge12\" class=\"edge\">\n",
       "<title>callgraphX&#45;&gt;callgraphX__tile_3_4</title>\n",
       "<path fill=\"none\" stroke=\"#838b8b\" stroke-dasharray=\"5,2\" d=\"M3829.56,-1874.21C3822.35,-1870.23 3814.16,-1866.36 3806.15,-1863.99 3709.3,-1835.41 3425.52,-1898.43 3353.15,-1827.99 3317.14,-1792.94 3341.15,-1765.82 3341.15,-1715.57 3341.15,-1715.57 3341.15,-1715.57 3341.15,-837.38 3341.15,-582.6 2453.85,-748.48 2200.15,-724.95 2016.25,-707.89 1968.02,-721.12 1786.15,-688.95 1778.82,-687.65 1771.22,-686.05 1763.68,-684.28\"/>\n",
       "<polygon fill=\"#838b8b\" stroke=\"#838b8b\" points=\"1764.71,-680.93 1754.17,-681.95 1763.05,-687.73 1764.71,-680.93\"/>\n",
       "</g>\n",
       "<!-- callgraphX__tile_3_5 -->\n",
       "<g id=\"node28\" class=\"node\">\n",
       "<title>callgraphX__tile_3_5</title>\n",
       "<ellipse fill=\"#fecccc\" fill-opacity=\"0.698039\" stroke=\"black\" cx=\"2049.15\" cy=\"-575.52\" rx=\"82.38\" ry=\"25.81\"/>\n",
       "<text text-anchor=\"middle\" x=\"2049.15\" y=\"-576.47\" font-family=\"Times,serif\" font-size=\"14.00\" fill=\"#000000\">tile_3_5</text>\n",
       "<text text-anchor=\"middle\" x=\"2049.15\" y=\"-562.22\" font-family=\"Times,serif\" font-size=\"14.00\" fill=\"#000000\">(callgraph.py:168)</text>\n",
       "</g>\n",
       "<!-- callgraphX&#45;&gt;callgraphX__tile_3_5 -->\n",
       "<g id=\"edge7\" class=\"edge\">\n",
       "<title>callgraphX&#45;&gt;callgraphX__tile_3_5</title>\n",
       "<path fill=\"none\" stroke=\"#838b8b\" stroke-dasharray=\"5,2\" d=\"M3830.12,-1874.14C3822.8,-1870.04 3814.41,-1866.13 3806.15,-1863.99 3723.83,-1842.69 808.26,-1884.98 745.15,-1827.99 710.7,-1796.88 702.15,-1207.91 702.15,-1014.62 702.15,-1014.62 702.15,-1014.62 702.15,-749.76 702.15,-686.29 1655.39,-607.01 1958.07,-583.44\"/>\n",
       "<polygon fill=\"#838b8b\" stroke=\"#838b8b\" points=\"1958.21,-586.94 1967.91,-582.67 1957.67,-579.96 1958.21,-586.94\"/>\n",
       "</g>\n",
       "<!-- callgraphX__tile_3_6 -->\n",
       "<g id=\"node29\" class=\"node\">\n",
       "<title>callgraphX__tile_3_6</title>\n",
       "<ellipse fill=\"#fecccc\" fill-opacity=\"0.698039\" stroke=\"black\" cx=\"1666.15\" cy=\"-312.67\" rx=\"82.38\" ry=\"25.81\"/>\n",
       "<text text-anchor=\"middle\" x=\"1666.15\" y=\"-313.62\" font-family=\"Times,serif\" font-size=\"14.00\" fill=\"#000000\">tile_3_6</text>\n",
       "<text text-anchor=\"middle\" x=\"1666.15\" y=\"-299.37\" font-family=\"Times,serif\" font-size=\"14.00\" fill=\"#000000\">(callgraph.py:173)</text>\n",
       "</g>\n",
       "<!-- callgraphX&#45;&gt;callgraphX__tile_3_6 -->\n",
       "<g id=\"edge3\" class=\"edge\">\n",
       "<title>callgraphX&#45;&gt;callgraphX__tile_3_6</title>\n",
       "<path fill=\"none\" stroke=\"#838b8b\" stroke-dasharray=\"5,2\" d=\"M3829.5,-1874.42C3822.29,-1870.44 3814.11,-1866.52 3806.15,-1863.99 3742.79,-1843.86 3555.41,-1875.75 3509.15,-1827.99 3474.25,-1791.96 3499.15,-1765.73 3499.15,-1715.57 3499.15,-1715.57 3499.15,-1715.57 3499.15,-486.9 3499.15,-462.89 3474.23,-468.73 3451.15,-462.09 3287.7,-415.09 2100.09,-340.03 1758.08,-319.19\"/>\n",
       "<polygon fill=\"#838b8b\" stroke=\"#838b8b\" points=\"1758.46,-315.71 1748.27,-318.59 1758.04,-322.69 1758.46,-315.71\"/>\n",
       "</g>\n",
       "<!-- callgraphX__tile_3_7 -->\n",
       "<g id=\"node30\" class=\"node\">\n",
       "<title>callgraphX__tile_3_7</title>\n",
       "<ellipse fill=\"#fecccc\" fill-opacity=\"0.698039\" stroke=\"black\" cx=\"1971.15\" cy=\"-400.28\" rx=\"82.38\" ry=\"25.81\"/>\n",
       "<text text-anchor=\"middle\" x=\"1971.15\" y=\"-401.23\" font-family=\"Times,serif\" font-size=\"14.00\" fill=\"#000000\">tile_3_7</text>\n",
       "<text text-anchor=\"middle\" x=\"1971.15\" y=\"-386.98\" font-family=\"Times,serif\" font-size=\"14.00\" fill=\"#000000\">(callgraph.py:178)</text>\n",
       "</g>\n",
       "<!-- callgraphX&#45;&gt;callgraphX__tile_3_7 -->\n",
       "<g id=\"edge65\" class=\"edge\">\n",
       "<title>callgraphX&#45;&gt;callgraphX__tile_3_7</title>\n",
       "<path fill=\"none\" stroke=\"#838b8b\" stroke-dasharray=\"5,2\" d=\"M3829.51,-1874.39C3822.3,-1870.41 3814.11,-1866.5 3806.15,-1863.99 3739.57,-1843.05 3549.45,-1870.58 3494.15,-1827.99 3451.64,-1795.25 3450.15,-1769.22 3450.15,-1715.57 3450.15,-1715.57 3450.15,-1715.57 3450.15,-574.52 3450.15,-524.11 3472.64,-495.79 3435.15,-462.09 3378.19,-410.9 2132.83,-437.8 2057.15,-426.09 2050.86,-425.12 2044.37,-423.82 2037.92,-422.33\"/>\n",
       "<polygon fill=\"#838b8b\" stroke=\"#838b8b\" points=\"2039.15,-419.03 2028.6,-420.02 2037.46,-425.82 2039.15,-419.03\"/>\n",
       "</g>\n",
       "<!-- callgraphX__tile_3_8 -->\n",
       "<g id=\"node31\" class=\"node\">\n",
       "<title>callgraphX__tile_3_8</title>\n",
       "<ellipse fill=\"#fecccc\" fill-opacity=\"0.698039\" stroke=\"black\" cx=\"1204.15\" cy=\"-312.67\" rx=\"82.38\" ry=\"25.81\"/>\n",
       "<text text-anchor=\"middle\" x=\"1204.15\" y=\"-313.62\" font-family=\"Times,serif\" font-size=\"14.00\" fill=\"#000000\">tile_3_8</text>\n",
       "<text text-anchor=\"middle\" x=\"1204.15\" y=\"-299.37\" font-family=\"Times,serif\" font-size=\"14.00\" fill=\"#000000\">(callgraph.py:186)</text>\n",
       "</g>\n",
       "<!-- callgraphX&#45;&gt;callgraphX__tile_3_8 -->\n",
       "<g id=\"edge60\" class=\"edge\">\n",
       "<title>callgraphX&#45;&gt;callgraphX__tile_3_8</title>\n",
       "<path fill=\"none\" stroke=\"#838b8b\" stroke-dasharray=\"5,2\" d=\"M3830.12,-1874.14C3822.8,-1870.04 3814.41,-1866.13 3806.15,-1863.99 3720.49,-1841.85 689.12,-1884.64 621.15,-1827.99 603.76,-1813.5 582.15,-1650.59 582.15,-1627.95 582.15,-1627.95 582.15,-1627.95 582.15,-486.9 582.15,-239.72 880.29,-405.72 1118.15,-338.48 1123.3,-337.02 1128.62,-335.51 1133.97,-333.98\"/>\n",
       "<polygon fill=\"#838b8b\" stroke=\"#838b8b\" points=\"1134.85,-337.37 1143.5,-331.25 1132.93,-330.64 1134.85,-337.37\"/>\n",
       "</g>\n",
       "<!-- callgraphX__tile_4_0 -->\n",
       "<g id=\"node32\" class=\"node\">\n",
       "<title>callgraphX__tile_4_0</title>\n",
       "<ellipse fill=\"#fecccc\" fill-opacity=\"0.698039\" stroke=\"black\" cx=\"255.15\" cy=\"-1802.19\" rx=\"82.38\" ry=\"25.81\"/>\n",
       "<text text-anchor=\"middle\" x=\"255.15\" y=\"-1803.14\" font-family=\"Times,serif\" font-size=\"14.00\" fill=\"#000000\">tile_4_0</text>\n",
       "<text text-anchor=\"middle\" x=\"255.15\" y=\"-1788.89\" font-family=\"Times,serif\" font-size=\"14.00\" fill=\"#000000\">(callgraph.py:191)</text>\n",
       "</g>\n",
       "<!-- callgraphX&#45;&gt;callgraphX__tile_4_0 -->\n",
       "<g id=\"edge57\" class=\"edge\">\n",
       "<title>callgraphX&#45;&gt;callgraphX__tile_4_0</title>\n",
       "<path fill=\"none\" stroke=\"#838b8b\" stroke-dasharray=\"5,2\" d=\"M3830.12,-1874.13C3822.81,-1870.04 3814.41,-1866.13 3806.15,-1863.99 3621.09,-1816.24 556.01,-1849.96 366.15,-1827.99 353.79,-1826.56 340.78,-1824.33 328.2,-1821.78\"/>\n",
       "<polygon fill=\"#838b8b\" stroke=\"#838b8b\" points=\"329.27,-1818.43 318.76,-1819.79 327.82,-1825.28 329.27,-1818.43\"/>\n",
       "</g>\n",
       "<!-- callgraphX__tile_4_1 -->\n",
       "<g id=\"node33\" class=\"node\">\n",
       "<title>callgraphX__tile_4_1</title>\n",
       "<ellipse fill=\"#fecccc\" fill-opacity=\"0.698039\" stroke=\"black\" cx=\"377.15\" cy=\"-1889.8\" rx=\"82.38\" ry=\"25.81\"/>\n",
       "<text text-anchor=\"middle\" x=\"377.15\" y=\"-1890.75\" font-family=\"Times,serif\" font-size=\"14.00\" fill=\"#000000\">tile_4_1</text>\n",
       "<text text-anchor=\"middle\" x=\"377.15\" y=\"-1876.5\" font-family=\"Times,serif\" font-size=\"14.00\" fill=\"#000000\">(callgraph.py:196)</text>\n",
       "</g>\n",
       "<!-- callgraphX&#45;&gt;callgraphX__tile_4_1 -->\n",
       "<g id=\"edge55\" class=\"edge\">\n",
       "<title>callgraphX&#45;&gt;callgraphX__tile_4_1</title>\n",
       "<path fill=\"none\" stroke=\"#838b8b\" stroke-dasharray=\"5,2\" d=\"M3809.91,-1889.8C2697.05,-1889.8 1584.18,-1889.8 471.32,-1889.8\"/>\n",
       "<polygon fill=\"#838b8b\" stroke=\"#838b8b\" points=\"471.38,-1886.3 461.38,-1889.8 471.38,-1893.3 471.38,-1886.3\"/>\n",
       "</g>\n",
       "<!-- callgraphX__tile_4_2 -->\n",
       "<g id=\"node34\" class=\"node\">\n",
       "<title>callgraphX__tile_4_2</title>\n",
       "<ellipse fill=\"#fecccc\" fill-opacity=\"0.698039\" stroke=\"black\" cx=\"943.15\" cy=\"-926\" rx=\"82.38\" ry=\"25.81\"/>\n",
       "<text text-anchor=\"middle\" x=\"943.15\" y=\"-926.95\" font-family=\"Times,serif\" font-size=\"14.00\" fill=\"#000000\">tile_4_2</text>\n",
       "<text text-anchor=\"middle\" x=\"943.15\" y=\"-912.7\" font-family=\"Times,serif\" font-size=\"14.00\" fill=\"#000000\">(callgraph.py:204)</text>\n",
       "</g>\n",
       "<!-- callgraphX&#45;&gt;callgraphX__tile_4_2 -->\n",
       "<g id=\"edge52\" class=\"edge\">\n",
       "<title>callgraphX&#45;&gt;callgraphX__tile_4_2</title>\n",
       "<path fill=\"none\" stroke=\"#838b8b\" stroke-dasharray=\"5,2\" d=\"M3830.12,-1874.14C3822.8,-1870.04 3814.41,-1866.13 3806.15,-1863.99 3725.01,-1842.99 849.8,-1885.84 789.15,-1827.99 728.62,-1770.26 754.15,-1157.9 768.15,-1075.43 774.89,-1035.73 764.5,-1017.98 791.15,-987.81 802.92,-974.49 839.46,-959.67 873.77,-947.99\"/>\n",
       "<polygon fill=\"#838b8b\" stroke=\"#838b8b\" points=\"874.5,-951.44 882.88,-944.96 872.29,-944.8 874.5,-951.44\"/>\n",
       "</g>\n",
       "<!-- callgraphX__tile_4_3 -->\n",
       "<g id=\"node35\" class=\"node\">\n",
       "<title>callgraphX__tile_4_3</title>\n",
       "<ellipse fill=\"#fecccc\" fill-opacity=\"0.698039\" stroke=\"black\" cx=\"1385.15\" cy=\"-1013.62\" rx=\"82.38\" ry=\"25.81\"/>\n",
       "<text text-anchor=\"middle\" x=\"1385.15\" y=\"-1014.57\" font-family=\"Times,serif\" font-size=\"14.00\" fill=\"#000000\">tile_4_3</text>\n",
       "<text text-anchor=\"middle\" x=\"1385.15\" y=\"-1000.32\" font-family=\"Times,serif\" font-size=\"14.00\" fill=\"#000000\">(callgraph.py:209)</text>\n",
       "</g>\n",
       "<!-- callgraphX&#45;&gt;callgraphX__tile_4_3 -->\n",
       "<g id=\"edge48\" class=\"edge\">\n",
       "<title>callgraphX&#45;&gt;callgraphX__tile_4_3</title>\n",
       "<path fill=\"none\" stroke=\"#838b8b\" stroke-dasharray=\"5,2\" d=\"M3830.12,-1874.14C3822.8,-1870.05 3814.41,-1866.13 3806.15,-1863.99 3726.44,-1843.35 901.99,-1884.56 842.15,-1827.99 811.75,-1799.26 786.69,-1106.09 815.15,-1075.43 851.84,-1035.9 1246.07,-1048.95 1299.15,-1039.43 1305.17,-1038.34 1311.38,-1037.01 1317.57,-1035.52\"/>\n",
       "<polygon fill=\"#838b8b\" stroke=\"#838b8b\" points=\"1318.35,-1038.94 1327.18,-1033.08 1316.62,-1032.15 1318.35,-1038.94\"/>\n",
       "</g>\n",
       "<!-- callgraphX__tile_4_4 -->\n",
       "<g id=\"node36\" class=\"node\">\n",
       "<title>callgraphX__tile_4_4</title>\n",
       "<ellipse fill=\"#fecccc\" fill-opacity=\"0.698039\" stroke=\"black\" cx=\"2088.15\" cy=\"-1101.23\" rx=\"82.38\" ry=\"25.81\"/>\n",
       "<text text-anchor=\"middle\" x=\"2088.15\" y=\"-1102.18\" font-family=\"Times,serif\" font-size=\"14.00\" fill=\"#000000\">tile_4_4</text>\n",
       "<text text-anchor=\"middle\" x=\"2088.15\" y=\"-1087.93\" font-family=\"Times,serif\" font-size=\"14.00\" fill=\"#000000\">(callgraph.py:217)</text>\n",
       "</g>\n",
       "<!-- callgraphX&#45;&gt;callgraphX__tile_4_4 -->\n",
       "<g id=\"edge46\" class=\"edge\">\n",
       "<title>callgraphX&#45;&gt;callgraphX__tile_4_4</title>\n",
       "<path fill=\"none\" stroke=\"#838b8b\" stroke-dasharray=\"5,2\" d=\"M3829.58,-1874.14C3822.37,-1870.15 3814.17,-1866.3 3806.15,-1863.99 3747.29,-1847.07 3300.89,-1869.82 3256.15,-1827.99 3219.33,-1793.57 3241.15,-1765.98 3241.15,-1715.57 3241.15,-1715.57 3241.15,-1715.57 3241.15,-1275.47 3241.15,-1118.14 2184.32,-1128.81 2174.15,-1127.04 2168.12,-1126 2161.91,-1124.69 2155.72,-1123.22\"/>\n",
       "<polygon fill=\"#838b8b\" stroke=\"#838b8b\" points=\"2156.66,-1119.84 2146.11,-1120.79 2154.95,-1126.63 2156.66,-1119.84\"/>\n",
       "</g>\n",
       "<!-- callgraphX__tile_4_5 -->\n",
       "<g id=\"node37\" class=\"node\">\n",
       "<title>callgraphX__tile_4_5</title>\n",
       "<ellipse fill=\"#fecccc\" fill-opacity=\"0.698039\" stroke=\"black\" cx=\"2211.15\" cy=\"-1188.85\" rx=\"82.38\" ry=\"25.81\"/>\n",
       "<text text-anchor=\"middle\" x=\"2211.15\" y=\"-1189.8\" font-family=\"Times,serif\" font-size=\"14.00\" fill=\"#000000\">tile_4_5</text>\n",
       "<text text-anchor=\"middle\" x=\"2211.15\" y=\"-1175.55\" font-family=\"Times,serif\" font-size=\"14.00\" fill=\"#000000\">(callgraph.py:225)</text>\n",
       "</g>\n",
       "<!-- callgraphX&#45;&gt;callgraphX__tile_4_5 -->\n",
       "<g id=\"edge41\" class=\"edge\">\n",
       "<title>callgraphX&#45;&gt;callgraphX__tile_4_5</title>\n",
       "<path fill=\"none\" stroke=\"#838b8b\" stroke-dasharray=\"5,2\" d=\"M3829.59,-1874.12C3822.38,-1870.13 3814.18,-1866.28 3806.15,-1863.99 3742.45,-1845.85 3258.64,-1874.16 3211.15,-1827.99 3175.18,-1793.03 3201.15,-1765.73 3201.15,-1715.57 3201.15,-1715.57 3201.15,-1715.57 3201.15,-1363.09 3201.15,-1303.51 3179.58,-1280.74 3128.15,-1250.66 3073.76,-1218.85 2625.03,-1218.88 2562.15,-1214.66 2473.77,-1208.73 2372.91,-1201.56 2302.06,-1196.46\"/>\n",
       "<polygon fill=\"#838b8b\" stroke=\"#838b8b\" points=\"2302.68,-1192.99 2292.46,-1195.76 2302.18,-1199.97 2302.68,-1192.99\"/>\n",
       "</g>\n",
       "<!-- callgraphX__tile_4_6 -->\n",
       "<g id=\"node38\" class=\"node\">\n",
       "<title>callgraphX__tile_4_6</title>\n",
       "<ellipse fill=\"#fecccc\" fill-opacity=\"0.698039\" stroke=\"black\" cx=\"2028.15\" cy=\"-225.05\" rx=\"82.38\" ry=\"25.81\"/>\n",
       "<text text-anchor=\"middle\" x=\"2028.15\" y=\"-226\" font-family=\"Times,serif\" font-size=\"14.00\" fill=\"#000000\">tile_4_6</text>\n",
       "<text text-anchor=\"middle\" x=\"2028.15\" y=\"-211.75\" font-family=\"Times,serif\" font-size=\"14.00\" fill=\"#000000\">(callgraph.py:233)</text>\n",
       "</g>\n",
       "<!-- callgraphX&#45;&gt;callgraphX__tile_4_6 -->\n",
       "<g id=\"edge36\" class=\"edge\">\n",
       "<title>callgraphX&#45;&gt;callgraphX__tile_4_6</title>\n",
       "<path fill=\"none\" stroke=\"#838b8b\" stroke-dasharray=\"5,2\" d=\"M3828.99,-1874.28C3821.89,-1870.4 3813.9,-1866.57 3806.15,-1863.99 3701.69,-1829.35 3640.79,-1903.95 3561.15,-1827.99 3524.31,-1792.85 3539.15,-1766.48 3539.15,-1715.57 3539.15,-1715.57 3539.15,-1715.57 3539.15,-399.28 3539.15,-240.76 2276.24,-278.57 2120.15,-250.86 2112.82,-249.55 2105.22,-247.94 2097.68,-246.17\"/>\n",
       "<polygon fill=\"#838b8b\" stroke=\"#838b8b\" points=\"2098.72,-242.82 2088.17,-243.84 2097.05,-249.62 2098.72,-242.82\"/>\n",
       "</g>\n",
       "<!-- callgraphX__tile_4_7 -->\n",
       "<g id=\"node39\" class=\"node\">\n",
       "<title>callgraphX__tile_4_7</title>\n",
       "<ellipse fill=\"#fecccc\" fill-opacity=\"0.698039\" stroke=\"black\" cx=\"2211.15\" cy=\"-312.67\" rx=\"82.38\" ry=\"25.81\"/>\n",
       "<text text-anchor=\"middle\" x=\"2211.15\" y=\"-313.62\" font-family=\"Times,serif\" font-size=\"14.00\" fill=\"#000000\">tile_4_7</text>\n",
       "<text text-anchor=\"middle\" x=\"2211.15\" y=\"-299.37\" font-family=\"Times,serif\" font-size=\"14.00\" fill=\"#000000\">(callgraph.py:238)</text>\n",
       "</g>\n",
       "<!-- callgraphX&#45;&gt;callgraphX__tile_4_7 -->\n",
       "<g id=\"edge31\" class=\"edge\">\n",
       "<title>callgraphX&#45;&gt;callgraphX__tile_4_7</title>\n",
       "<path fill=\"none\" stroke=\"#838b8b\" stroke-dasharray=\"5,2\" d=\"M3829.48,-1874.47C3822.27,-1870.49 3814.09,-1866.57 3806.15,-1863.99 3748.14,-1845.21 3577.29,-1871.09 3534.15,-1827.99 3498.49,-1792.37 3519.15,-1765.98 3519.15,-1715.57 3519.15,-1715.57 3519.15,-1715.57 3519.15,-486.9 3519.15,-436.49 3541.58,-408.24 3504.15,-374.48 3454.34,-329.54 2363.43,-348.85 2297.15,-338.48 2290.86,-337.49 2284.37,-336.18 2277.92,-334.68\"/>\n",
       "<polygon fill=\"#838b8b\" stroke=\"#838b8b\" points=\"2279.15,-331.38 2268.6,-332.37 2277.46,-338.18 2279.15,-331.38\"/>\n",
       "</g>\n",
       "<!-- callgraphX__tile_4_8 -->\n",
       "<g id=\"node40\" class=\"node\">\n",
       "<title>callgraphX__tile_4_8</title>\n",
       "<ellipse fill=\"#fecccc\" fill-opacity=\"0.698039\" stroke=\"black\" cx=\"2211.15\" cy=\"-225.05\" rx=\"82.38\" ry=\"25.81\"/>\n",
       "<text text-anchor=\"middle\" x=\"2211.15\" y=\"-226\" font-family=\"Times,serif\" font-size=\"14.00\" fill=\"#000000\">tile_4_8</text>\n",
       "<text text-anchor=\"middle\" x=\"2211.15\" y=\"-211.75\" font-family=\"Times,serif\" font-size=\"14.00\" fill=\"#000000\">(callgraph.py:246)</text>\n",
       "</g>\n",
       "<!-- callgraphX&#45;&gt;callgraphX__tile_4_8 -->\n",
       "<g id=\"edge23\" class=\"edge\">\n",
       "<title>callgraphX&#45;&gt;callgraphX__tile_4_8</title>\n",
       "<path fill=\"none\" stroke=\"#838b8b\" stroke-dasharray=\"5,2\" d=\"M3828.96,-1874.35C3821.87,-1870.47 3813.88,-1866.62 3806.15,-1863.99 3711.09,-1831.72 3651.56,-1901.47 3583.15,-1827.99 3548.97,-1791.28 3573.15,-1765.73 3573.15,-1715.57 3573.15,-1715.57 3573.15,-1715.57 3573.15,-399.28 3573.15,-347.68 3584.47,-319.07 3544.15,-286.86 3491.96,-245.15 2408.57,-258.09 2342.15,-250.86 2324.79,-248.96 2306.27,-246.03 2288.8,-242.84\"/>\n",
       "<polygon fill=\"#838b8b\" stroke=\"#838b8b\" points=\"2289.45,-239.4 2278.98,-240.99 2288.16,-246.28 2289.45,-239.4\"/>\n",
       "</g>\n",
       "<!-- callgraphX__tile_5_0 -->\n",
       "<g id=\"node41\" class=\"node\">\n",
       "<title>callgraphX__tile_5_0</title>\n",
       "<ellipse fill=\"#fecccc\" fill-opacity=\"0.698039\" stroke=\"black\" cx=\"2552.15\" cy=\"-1714.57\" rx=\"82.38\" ry=\"25.81\"/>\n",
       "<text text-anchor=\"middle\" x=\"2552.15\" y=\"-1715.52\" font-family=\"Times,serif\" font-size=\"14.00\" fill=\"#000000\">tile_5_0</text>\n",
       "<text text-anchor=\"middle\" x=\"2552.15\" y=\"-1701.27\" font-family=\"Times,serif\" font-size=\"14.00\" fill=\"#000000\">(callgraph.py:251)</text>\n",
       "</g>\n",
       "<!-- callgraphX&#45;&gt;callgraphX__tile_5_0 -->\n",
       "<g id=\"edge40\" class=\"edge\">\n",
       "<title>callgraphX&#45;&gt;callgraphX__tile_5_0</title>\n",
       "<path fill=\"none\" stroke=\"#838b8b\" stroke-dasharray=\"5,2\" d=\"M3830.09,-1874.25C3822.77,-1870.16 3814.38,-1866.22 3806.15,-1863.99 3582.3,-1803.35 2987.15,-1888.07 2763.15,-1827.99 2699.87,-1811.02 2634.41,-1772.24 2593.51,-1744.99\"/>\n",
       "<polygon fill=\"#838b8b\" stroke=\"#838b8b\" points=\"2595.66,-1742.22 2585.42,-1739.52 2591.75,-1748.02 2595.66,-1742.22\"/>\n",
       "</g>\n",
       "<!-- callgraphX__tile_5_1 -->\n",
       "<g id=\"node42\" class=\"node\">\n",
       "<title>callgraphX__tile_5_1</title>\n",
       "<ellipse fill=\"#fecccc\" fill-opacity=\"0.698039\" stroke=\"black\" cx=\"457.15\" cy=\"-1802.19\" rx=\"82.38\" ry=\"25.81\"/>\n",
       "<text text-anchor=\"middle\" x=\"457.15\" y=\"-1803.14\" font-family=\"Times,serif\" font-size=\"14.00\" fill=\"#000000\">tile_5_1</text>\n",
       "<text text-anchor=\"middle\" x=\"457.15\" y=\"-1788.89\" font-family=\"Times,serif\" font-size=\"14.00\" fill=\"#000000\">(callgraph.py:256)</text>\n",
       "</g>\n",
       "<!-- callgraphX&#45;&gt;callgraphX__tile_5_1 -->\n",
       "<g id=\"edge35\" class=\"edge\">\n",
       "<title>callgraphX&#45;&gt;callgraphX__tile_5_1</title>\n",
       "<path fill=\"none\" stroke=\"#838b8b\" stroke-dasharray=\"5,2\" d=\"M3830.12,-1874.14C3822.81,-1870.04 3814.41,-1866.13 3806.15,-1863.99 3630.63,-1818.65 722.51,-1854.36 543.15,-1827.99 536.75,-1827.05 530.16,-1825.76 523.6,-1824.26\"/>\n",
       "<polygon fill=\"#838b8b\" stroke=\"#838b8b\" points=\"524.66,-1820.92 514.12,-1821.92 522.99,-1827.71 524.66,-1820.92\"/>\n",
       "</g>\n",
       "<!-- callgraphX__tile_5_2 -->\n",
       "<g id=\"node43\" class=\"node\">\n",
       "<title>callgraphX__tile_5_2</title>\n",
       "<ellipse fill=\"#fecccc\" fill-opacity=\"0.698039\" stroke=\"black\" cx=\"1886.15\" cy=\"-1539.33\" rx=\"82.38\" ry=\"25.81\"/>\n",
       "<text text-anchor=\"middle\" x=\"1886.15\" y=\"-1540.28\" font-family=\"Times,serif\" font-size=\"14.00\" fill=\"#000000\">tile_5_2</text>\n",
       "<text text-anchor=\"middle\" x=\"1886.15\" y=\"-1526.03\" font-family=\"Times,serif\" font-size=\"14.00\" fill=\"#000000\">(callgraph.py:264)</text>\n",
       "</g>\n",
       "<!-- callgraphX&#45;&gt;callgraphX__tile_5_2 -->\n",
       "<g id=\"edge26\" class=\"edge\">\n",
       "<title>callgraphX&#45;&gt;callgraphX__tile_5_2</title>\n",
       "<path fill=\"none\" stroke=\"#838b8b\" stroke-dasharray=\"5,2\" d=\"M3830.08,-1874.32C3822.75,-1870.23 3814.37,-1866.28 3806.15,-1863.99 3644.97,-1819.17 3209.42,-1890.31 3054.15,-1827.99 2911.52,-1770.75 2935.9,-1658.1 2793.15,-1601.14 2623.54,-1533.46 2152.37,-1594.65 1972.15,-1565.14 1965.86,-1564.11 1959.38,-1562.77 1952.94,-1561.25\"/>\n",
       "<polygon fill=\"#838b8b\" stroke=\"#838b8b\" points=\"1954.17,-1557.96 1943.62,-1558.92 1952.47,-1564.75 1954.17,-1557.96\"/>\n",
       "</g>\n",
       "<!-- callgraphX__tile_5_3 -->\n",
       "<g id=\"node44\" class=\"node\">\n",
       "<title>callgraphX__tile_5_3</title>\n",
       "<ellipse fill=\"#fecccc\" fill-opacity=\"0.698039\" stroke=\"black\" cx=\"1446.15\" cy=\"-926\" rx=\"82.38\" ry=\"25.81\"/>\n",
       "<text text-anchor=\"middle\" x=\"1446.15\" y=\"-926.95\" font-family=\"Times,serif\" font-size=\"14.00\" fill=\"#000000\">tile_5_3</text>\n",
       "<text text-anchor=\"middle\" x=\"1446.15\" y=\"-912.7\" font-family=\"Times,serif\" font-size=\"14.00\" fill=\"#000000\">(callgraph.py:269)</text>\n",
       "</g>\n",
       "<!-- callgraphX&#45;&gt;callgraphX__tile_5_3 -->\n",
       "<g id=\"edge20\" class=\"edge\">\n",
       "<title>callgraphX&#45;&gt;callgraphX__tile_5_3</title>\n",
       "<path fill=\"none\" stroke=\"#838b8b\" stroke-dasharray=\"5,2\" d=\"M3830.12,-1874.14C3822.8,-1870.05 3814.41,-1866.13 3806.15,-1863.99 3725.98,-1843.24 886.29,-1883.85 825.15,-1827.99 794.27,-1799.78 775.45,-1107.62 802.15,-1075.43 962.64,-881.9 1110.06,-1012.02 1354.15,-951.81 1360.79,-950.17 1367.69,-948.41 1374.58,-946.62\"/>\n",
       "<polygon fill=\"#838b8b\" stroke=\"#838b8b\" points=\"1375.13,-950.09 1383.91,-944.17 1373.35,-943.32 1375.13,-950.09\"/>\n",
       "</g>\n",
       "<!-- callgraphX__tile_5_4 -->\n",
       "<g id=\"node45\" class=\"node\">\n",
       "<title>callgraphX__tile_5_4</title>\n",
       "<ellipse fill=\"#fecccc\" fill-opacity=\"0.698039\" stroke=\"black\" cx=\"1778.15\" cy=\"-1013.62\" rx=\"82.38\" ry=\"25.81\"/>\n",
       "<text text-anchor=\"middle\" x=\"1778.15\" y=\"-1014.57\" font-family=\"Times,serif\" font-size=\"14.00\" fill=\"#000000\">tile_5_4</text>\n",
       "<text text-anchor=\"middle\" x=\"1778.15\" y=\"-1000.32\" font-family=\"Times,serif\" font-size=\"14.00\" fill=\"#000000\">(callgraph.py:274)</text>\n",
       "</g>\n",
       "<!-- callgraphX&#45;&gt;callgraphX__tile_5_4 -->\n",
       "<g id=\"edge17\" class=\"edge\">\n",
       "<title>callgraphX&#45;&gt;callgraphX__tile_5_4</title>\n",
       "<path fill=\"none\" stroke=\"#838b8b\" stroke-dasharray=\"5,2\" d=\"M3830.12,-1874.14C3822.8,-1870.05 3814.41,-1866.13 3806.15,-1863.99 3726.98,-1843.49 921.36,-1884.41 862.15,-1827.99 824.85,-1792.45 834.15,-1416.62 834.15,-1365.09 834.15,-1365.09 834.15,-1365.09 834.15,-1275.47 834.15,-1231.02 801.58,-1107.7 832.15,-1075.43 857.48,-1048.68 1457.41,-1042.03 1494.15,-1039.43 1559.28,-1034.81 1632.69,-1028.37 1688.56,-1023.2\"/>\n",
       "<polygon fill=\"#838b8b\" stroke=\"#838b8b\" points=\"1688.71,-1026.7 1698.35,-1022.29 1688.06,-1019.73 1688.71,-1026.7\"/>\n",
       "</g>\n",
       "<!-- callgraphX__tile_5_5 -->\n",
       "<g id=\"node46\" class=\"node\">\n",
       "<title>callgraphX__tile_5_5</title>\n",
       "<ellipse fill=\"#fecccc\" fill-opacity=\"0.698039\" stroke=\"black\" cx=\"2211.15\" cy=\"-1276.47\" rx=\"82.38\" ry=\"25.81\"/>\n",
       "<text text-anchor=\"middle\" x=\"2211.15\" y=\"-1277.42\" font-family=\"Times,serif\" font-size=\"14.00\" fill=\"#000000\">tile_5_5</text>\n",
       "<text text-anchor=\"middle\" x=\"2211.15\" y=\"-1263.17\" font-family=\"Times,serif\" font-size=\"14.00\" fill=\"#000000\">(callgraph.py:279)</text>\n",
       "</g>\n",
       "<!-- callgraphX&#45;&gt;callgraphX__tile_5_5 -->\n",
       "<g id=\"edge30\" class=\"edge\">\n",
       "<title>callgraphX&#45;&gt;callgraphX__tile_5_5</title>\n",
       "<path fill=\"none\" stroke=\"#838b8b\" stroke-dasharray=\"5,2\" d=\"M3830.07,-1874.33C3822.75,-1870.24 3814.37,-1866.29 3806.15,-1863.99 3729.65,-1842.62 3150.11,-1882.32 3092.15,-1827.99 3055.45,-1793.6 3079.15,-1765.87 3079.15,-1715.57 3079.15,-1715.57 3079.15,-1715.57 3079.15,-1450.71 3079.15,-1430.8 2510.04,-1329.55 2293.46,-1291.74\"/>\n",
       "<polygon fill=\"#838b8b\" stroke=\"#838b8b\" points=\"2294.13,-1288.3 2283.67,-1290.03 2292.92,-1295.2 2294.13,-1288.3\"/>\n",
       "</g>\n",
       "<!-- callgraphX__tile_5_6 -->\n",
       "<g id=\"node47\" class=\"node\">\n",
       "<title>callgraphX__tile_5_6</title>\n",
       "<ellipse fill=\"#fecccc\" fill-opacity=\"0.698039\" stroke=\"black\" cx=\"2046.15\" cy=\"-137.43\" rx=\"82.38\" ry=\"25.81\"/>\n",
       "<text text-anchor=\"middle\" x=\"2046.15\" y=\"-138.38\" font-family=\"Times,serif\" font-size=\"14.00\" fill=\"#000000\">tile_5_6</text>\n",
       "<text text-anchor=\"middle\" x=\"2046.15\" y=\"-124.13\" font-family=\"Times,serif\" font-size=\"14.00\" fill=\"#000000\">(callgraph.py:287)</text>\n",
       "</g>\n",
       "<!-- callgraphX&#45;&gt;callgraphX__tile_5_6 -->\n",
       "<g id=\"edge22\" class=\"edge\">\n",
       "<title>callgraphX&#45;&gt;callgraphX__tile_5_6</title>\n",
       "<path fill=\"none\" stroke=\"#838b8b\" stroke-dasharray=\"5,2\" d=\"M3828.9,-1874.53C3821.8,-1870.65 3813.84,-1866.76 3806.15,-1863.99 3728.98,-1836.22 3680.48,-1888.54 3625.15,-1827.99 3591.25,-1790.9 3613.15,-1765.82 3613.15,-1715.57 3613.15,-1715.57 3613.15,-1715.57 3613.15,-311.67 3613.15,-146.95 2300.38,-191.76 2138.15,-163.24 2130.82,-161.95 2123.22,-160.34 2115.67,-158.58\"/>\n",
       "<polygon fill=\"#838b8b\" stroke=\"#838b8b\" points=\"2116.71,-155.23 2106.17,-156.25 2115.05,-162.03 2116.71,-155.23\"/>\n",
       "</g>\n",
       "<!-- callgraphX__tile_5_7 -->\n",
       "<g id=\"node48\" class=\"node\">\n",
       "<title>callgraphX__tile_5_7</title>\n",
       "<ellipse fill=\"#fecccc\" fill-opacity=\"0.698039\" stroke=\"black\" cx=\"2433.15\" cy=\"-225.05\" rx=\"82.38\" ry=\"25.81\"/>\n",
       "<text text-anchor=\"middle\" x=\"2433.15\" y=\"-226\" font-family=\"Times,serif\" font-size=\"14.00\" fill=\"#000000\">tile_5_7</text>\n",
       "<text text-anchor=\"middle\" x=\"2433.15\" y=\"-211.75\" font-family=\"Times,serif\" font-size=\"14.00\" fill=\"#000000\">(callgraph.py:292)</text>\n",
       "</g>\n",
       "<!-- callgraphX&#45;&gt;callgraphX__tile_5_7 -->\n",
       "<g id=\"edge21\" class=\"edge\">\n",
       "<title>callgraphX&#45;&gt;callgraphX__tile_5_7</title>\n",
       "<path fill=\"none\" stroke=\"#838b8b\" stroke-dasharray=\"5,2\" d=\"M3828.93,-1874.45C3821.83,-1870.57 3813.86,-1866.7 3806.15,-1863.99 3721.75,-1834.4 3669.89,-1892.72 3608.15,-1827.99 3573.36,-1791.52 3593.15,-1765.98 3593.15,-1715.57 3593.15,-1715.57 3593.15,-1715.57 3593.15,-399.28 3593.15,-348.87 3615.51,-320.7 3578.15,-286.86 3534.52,-247.33 2577.29,-260.08 2519.15,-250.86 2512.86,-249.86 2506.38,-248.54 2499.93,-247.04\"/>\n",
       "<polygon fill=\"#838b8b\" stroke=\"#838b8b\" points=\"2501.16,-243.74 2490.61,-244.72 2499.46,-250.53 2501.16,-243.74\"/>\n",
       "</g>\n",
       "<!-- callgraphX__tile_5_8 -->\n",
       "<g id=\"node49\" class=\"node\">\n",
       "<title>callgraphX__tile_5_8</title>\n",
       "<ellipse fill=\"#fecccc\" fill-opacity=\"0.698039\" stroke=\"black\" cx=\"2229.15\" cy=\"-137.43\" rx=\"82.38\" ry=\"25.81\"/>\n",
       "<text text-anchor=\"middle\" x=\"2229.15\" y=\"-138.38\" font-family=\"Times,serif\" font-size=\"14.00\" fill=\"#000000\">tile_5_8</text>\n",
       "<text text-anchor=\"middle\" x=\"2229.15\" y=\"-124.13\" font-family=\"Times,serif\" font-size=\"14.00\" fill=\"#000000\">(callgraph.py:300)</text>\n",
       "</g>\n",
       "<!-- callgraphX&#45;&gt;callgraphX__tile_5_8 -->\n",
       "<g id=\"edge16\" class=\"edge\">\n",
       "<title>callgraphX&#45;&gt;callgraphX__tile_5_8</title>\n",
       "<path fill=\"none\" stroke=\"#838b8b\" stroke-dasharray=\"5,2\" d=\"M3828.85,-1874.67C3821.75,-1870.8 3813.79,-1866.88 3806.15,-1863.99 3739.58,-1838.88 3698.5,-1880.2 3650.15,-1827.99 3615.81,-1790.92 3633.15,-1766.1 3633.15,-1715.57 3633.15,-1715.57 3633.15,-1715.57 3633.15,-311.67 3633.15,-286.46 3636.88,-216.11 3618.15,-199.24 3565.37,-151.7 2410.63,-172.02 2340.15,-163.24 2328,-161.72 2315.22,-159.49 2302.83,-156.97\"/>\n",
       "<polygon fill=\"#838b8b\" stroke=\"#838b8b\" points=\"2303.58,-153.55 2293.08,-154.9 2302.13,-160.4 2303.58,-153.55\"/>\n",
       "</g>\n",
       "<!-- callgraphX__tile_6_0 -->\n",
       "<g id=\"node50\" class=\"node\">\n",
       "<title>callgraphX__tile_6_0</title>\n",
       "<ellipse fill=\"#fecccc\" fill-opacity=\"0.698039\" stroke=\"black\" cx=\"1157.15\" cy=\"-1451.71\" rx=\"82.38\" ry=\"25.81\"/>\n",
       "<text text-anchor=\"middle\" x=\"1157.15\" y=\"-1452.66\" font-family=\"Times,serif\" font-size=\"14.00\" fill=\"#000000\">tile_6_0</text>\n",
       "<text text-anchor=\"middle\" x=\"1157.15\" y=\"-1438.41\" font-family=\"Times,serif\" font-size=\"14.00\" fill=\"#000000\">(callgraph.py:305)</text>\n",
       "</g>\n",
       "<!-- callgraphX&#45;&gt;callgraphX__tile_6_0 -->\n",
       "<g id=\"edge11\" class=\"edge\">\n",
       "<title>callgraphX&#45;&gt;callgraphX__tile_6_0</title>\n",
       "<path fill=\"none\" stroke=\"#838b8b\" stroke-dasharray=\"5,2\" d=\"M3830.12,-1874.15C3822.8,-1870.05 3814.41,-1866.14 3806.15,-1863.99 3730.62,-1844.41 1063.95,-1868.33 997.15,-1827.99 948.49,-1798.61 936.15,-1772.42 936.15,-1715.57 936.15,-1715.57 936.15,-1715.57 936.15,-1625.95 936.15,-1570.32 949.83,-1550.76 991.15,-1513.52 1005.9,-1500.23 1048.12,-1484.85 1086.28,-1472.88\"/>\n",
       "<polygon fill=\"#838b8b\" stroke=\"#838b8b\" points=\"1086.95,-1476.34 1095.47,-1470.04 1084.88,-1469.65 1086.95,-1476.34\"/>\n",
       "</g>\n",
       "<!-- callgraphX__tile_6_1 -->\n",
       "<g id=\"node51\" class=\"node\">\n",
       "<title>callgraphX__tile_6_1</title>\n",
       "<ellipse fill=\"#fecccc\" fill-opacity=\"0.698039\" stroke=\"black\" cx=\"1565.15\" cy=\"-1714.57\" rx=\"82.38\" ry=\"25.81\"/>\n",
       "<text text-anchor=\"middle\" x=\"1565.15\" y=\"-1715.52\" font-family=\"Times,serif\" font-size=\"14.00\" fill=\"#000000\">tile_6_1</text>\n",
       "<text text-anchor=\"middle\" x=\"1565.15\" y=\"-1701.27\" font-family=\"Times,serif\" font-size=\"14.00\" fill=\"#000000\">(callgraph.py:310)</text>\n",
       "</g>\n",
       "<!-- callgraphX&#45;&gt;callgraphX__tile_6_1 -->\n",
       "<g id=\"edge9\" class=\"edge\">\n",
       "<title>callgraphX&#45;&gt;callgraphX__tile_6_1</title>\n",
       "<path fill=\"none\" stroke=\"#838b8b\" stroke-dasharray=\"5,2\" d=\"M3830.1,-1874.23C3822.78,-1870.14 3814.39,-1866.21 3806.15,-1863.99 3680.98,-1830.33 2769.47,-1836.74 2640.15,-1827.99 2271.74,-1803.08 1834.53,-1750.04 1651.97,-1726.83\"/>\n",
       "<polygon fill=\"#838b8b\" stroke=\"#838b8b\" points=\"1652.44,-1723.36 1642.08,-1725.57 1651.56,-1730.31 1652.44,-1723.36\"/>\n",
       "</g>\n",
       "<!-- callgraphX__tile_6_2 -->\n",
       "<g id=\"node52\" class=\"node\">\n",
       "<title>callgraphX__tile_6_2</title>\n",
       "<ellipse fill=\"#fecccc\" fill-opacity=\"0.698039\" stroke=\"black\" cx=\"1635.15\" cy=\"-1626.95\" rx=\"82.38\" ry=\"25.81\"/>\n",
       "<text text-anchor=\"middle\" x=\"1635.15\" y=\"-1627.9\" font-family=\"Times,serif\" font-size=\"14.00\" fill=\"#000000\">tile_6_2</text>\n",
       "<text text-anchor=\"middle\" x=\"1635.15\" y=\"-1613.65\" font-family=\"Times,serif\" font-size=\"14.00\" fill=\"#000000\">(callgraph.py:318)</text>\n",
       "</g>\n",
       "<!-- callgraphX&#45;&gt;callgraphX__tile_6_2 -->\n",
       "<g id=\"edge4\" class=\"edge\">\n",
       "<title>callgraphX&#45;&gt;callgraphX__tile_6_2</title>\n",
       "<path fill=\"none\" stroke=\"#838b8b\" stroke-dasharray=\"5,2\" d=\"M3830.09,-1874.26C3822.77,-1870.17 3814.38,-1866.23 3806.15,-1863.99 3696.38,-1834.22 2887.51,-1873.22 2783.15,-1827.99 2702.63,-1793.1 2723.61,-1723.81 2643.15,-1688.76 2549.16,-1647.81 1822.37,-1669.08 1721.15,-1652.76 1714.86,-1651.74 1708.38,-1650.42 1701.93,-1648.9\"/>\n",
       "<polygon fill=\"#838b8b\" stroke=\"#838b8b\" points=\"1703.16,-1645.61 1692.61,-1646.58 1701.47,-1652.4 1703.16,-1645.61\"/>\n",
       "</g>\n",
       "<!-- callgraphX__tile_6_3 -->\n",
       "<g id=\"node53\" class=\"node\">\n",
       "<title>callgraphX__tile_6_3</title>\n",
       "<ellipse fill=\"#fecccc\" fill-opacity=\"0.698039\" stroke=\"black\" cx=\"1685.15\" cy=\"-1539.33\" rx=\"82.38\" ry=\"25.81\"/>\n",
       "<text text-anchor=\"middle\" x=\"1685.15\" y=\"-1540.28\" font-family=\"Times,serif\" font-size=\"14.00\" fill=\"#000000\">tile_6_3</text>\n",
       "<text text-anchor=\"middle\" x=\"1685.15\" y=\"-1526.03\" font-family=\"Times,serif\" font-size=\"14.00\" fill=\"#000000\">(callgraph.py:326)</text>\n",
       "</g>\n",
       "<!-- callgraphX&#45;&gt;callgraphX__tile_6_3 -->\n",
       "<g id=\"edge64\" class=\"edge\">\n",
       "<title>callgraphX&#45;&gt;callgraphX__tile_6_3</title>\n",
       "<path fill=\"none\" stroke=\"#838b8b\" stroke-dasharray=\"5,2\" d=\"M3830.08,-1874.29C3822.76,-1870.21 3814.37,-1866.26 3806.15,-1863.99 3447.61,-1765.22 3331.1,-1917.6 2970.15,-1827.99 2830.22,-1793.26 2815.25,-1730.18 2677.15,-1688.76 2298.01,-1575.02 2184.55,-1636.21 1795.15,-1565.14 1783.91,-1563.09 1772.08,-1560.68 1760.52,-1558.19\"/>\n",
       "<polygon fill=\"#838b8b\" stroke=\"#838b8b\" points=\"1761.53,-1554.83 1751.01,-1556.11 1760.03,-1561.67 1761.53,-1554.83\"/>\n",
       "</g>\n",
       "<!-- callgraphX__tile_6_4 -->\n",
       "<g id=\"node54\" class=\"node\">\n",
       "<title>callgraphX__tile_6_4</title>\n",
       "<ellipse fill=\"#fecccc\" fill-opacity=\"0.698039\" stroke=\"black\" cx=\"1685.15\" cy=\"-1451.71\" rx=\"82.38\" ry=\"25.81\"/>\n",
       "<text text-anchor=\"middle\" x=\"1685.15\" y=\"-1452.66\" font-family=\"Times,serif\" font-size=\"14.00\" fill=\"#000000\">tile_6_4</text>\n",
       "<text text-anchor=\"middle\" x=\"1685.15\" y=\"-1438.41\" font-family=\"Times,serif\" font-size=\"14.00\" fill=\"#000000\">(callgraph.py:334)</text>\n",
       "</g>\n",
       "<!-- callgraphX&#45;&gt;callgraphX__tile_6_4 -->\n",
       "<g id=\"edge62\" class=\"edge\">\n",
       "<title>callgraphX&#45;&gt;callgraphX__tile_6_4</title>\n",
       "<path fill=\"none\" stroke=\"#838b8b\" stroke-dasharray=\"5,2\" d=\"M3830.12,-1874.16C3822.8,-1870.07 3814.4,-1866.15 3806.15,-1863.99 3570.69,-1802.48 1858.48,-1850.49 1616.15,-1827.99 1468.01,-1814.24 956.15,-1864.35 956.15,-1715.57 956.15,-1715.57 956.15,-1715.57 956.15,-1625.95 956.15,-1496.81 1394.65,-1463.78 1591.47,-1455.46\"/>\n",
       "<polygon fill=\"#838b8b\" stroke=\"#838b8b\" points=\"1591.58,-1458.96 1601.43,-1455.05 1591.3,-1451.96 1591.58,-1458.96\"/>\n",
       "</g>\n",
       "<!-- callgraphX__tile_6_5 -->\n",
       "<g id=\"node55\" class=\"node\">\n",
       "<title>callgraphX__tile_6_5</title>\n",
       "<ellipse fill=\"#fecccc\" fill-opacity=\"0.698039\" stroke=\"black\" cx=\"2211.15\" cy=\"-1364.09\" rx=\"82.38\" ry=\"25.81\"/>\n",
       "<text text-anchor=\"middle\" x=\"2211.15\" y=\"-1365.04\" font-family=\"Times,serif\" font-size=\"14.00\" fill=\"#000000\">tile_6_5</text>\n",
       "<text text-anchor=\"middle\" x=\"2211.15\" y=\"-1350.79\" font-family=\"Times,serif\" font-size=\"14.00\" fill=\"#000000\">(callgraph.py:342)</text>\n",
       "</g>\n",
       "<!-- callgraphX&#45;&gt;callgraphX__tile_6_5 -->\n",
       "<g id=\"edge58\" class=\"edge\">\n",
       "<title>callgraphX&#45;&gt;callgraphX__tile_6_5</title>\n",
       "<path fill=\"none\" stroke=\"#838b8b\" stroke-dasharray=\"5,2\" d=\"M3830.07,-1874.32C3822.75,-1870.24 3814.37,-1866.29 3806.15,-1863.99 3727.71,-1842.13 3134.09,-1883.12 3074.15,-1827.99 3037.05,-1793.87 3059.15,-1765.98 3059.15,-1715.57 3059.15,-1715.57 3059.15,-1715.57 3059.15,-1538.33 3059.15,-1365.81 2464.86,-1430.34 2297.15,-1389.9 2291.63,-1388.57 2285.93,-1387.11 2280.22,-1385.59\"/>\n",
       "<polygon fill=\"#838b8b\" stroke=\"#838b8b\" points=\"2281.28,-1382.25 2270.71,-1383.01 2279.44,-1389.01 2281.28,-1382.25\"/>\n",
       "</g>\n",
       "<!-- callgraphX__tile_6_6 -->\n",
       "<g id=\"node56\" class=\"node\">\n",
       "<title>callgraphX__tile_6_6</title>\n",
       "<ellipse fill=\"#fecccc\" fill-opacity=\"0.698039\" stroke=\"black\" cx=\"2451.15\" cy=\"-1013.62\" rx=\"82.38\" ry=\"25.81\"/>\n",
       "<text text-anchor=\"middle\" x=\"2451.15\" y=\"-1014.57\" font-family=\"Times,serif\" font-size=\"14.00\" fill=\"#000000\">tile_6_6</text>\n",
       "<text text-anchor=\"middle\" x=\"2451.15\" y=\"-1000.32\" font-family=\"Times,serif\" font-size=\"14.00\" fill=\"#000000\">(callgraph.py:350)</text>\n",
       "</g>\n",
       "<!-- callgraphX&#45;&gt;callgraphX__tile_6_6 -->\n",
       "<g id=\"edge54\" class=\"edge\">\n",
       "<title>callgraphX&#45;&gt;callgraphX__tile_6_6</title>\n",
       "<path fill=\"none\" stroke=\"#838b8b\" stroke-dasharray=\"5,2\" d=\"M3829.58,-1874.16C3822.37,-1870.17 3814.17,-1866.31 3806.15,-1863.99 3749.45,-1847.61 3319.22,-1868.36 3276.15,-1827.99 3239.37,-1793.52 3261.15,-1765.98 3261.15,-1715.57 3261.15,-1715.57 3261.15,-1715.57 3261.15,-1187.85 3261.15,-1023.62 2696.62,-1078.71 2537.15,-1039.43 2531.73,-1038.09 2526.13,-1036.64 2520.52,-1035.13\"/>\n",
       "<polygon fill=\"#838b8b\" stroke=\"#838b8b\" points=\"2521.77,-1031.85 2511.2,-1032.58 2519.92,-1038.6 2521.77,-1031.85\"/>\n",
       "</g>\n",
       "<!-- callgraphX__tile_6_7 -->\n",
       "<g id=\"node57\" class=\"node\">\n",
       "<title>callgraphX__tile_6_7</title>\n",
       "<ellipse fill=\"#fecccc\" fill-opacity=\"0.698039\" stroke=\"black\" cx=\"2431.15\" cy=\"-137.43\" rx=\"82.38\" ry=\"25.81\"/>\n",
       "<text text-anchor=\"middle\" x=\"2431.15\" y=\"-138.38\" font-family=\"Times,serif\" font-size=\"14.00\" fill=\"#000000\">tile_6_7</text>\n",
       "<text text-anchor=\"middle\" x=\"2431.15\" y=\"-124.13\" font-family=\"Times,serif\" font-size=\"14.00\" fill=\"#000000\">(callgraph.py:355)</text>\n",
       "</g>\n",
       "<!-- callgraphX&#45;&gt;callgraphX__tile_6_7 -->\n",
       "<g id=\"edge50\" class=\"edge\">\n",
       "<title>callgraphX&#45;&gt;callgraphX__tile_6_7</title>\n",
       "<path fill=\"none\" stroke=\"#838b8b\" stroke-dasharray=\"5,2\" d=\"M3828.3,-1874.6C3821.32,-1870.81 3813.57,-1866.95 3806.15,-1863.99 3749.27,-1841.31 3713.11,-1874.4 3673.15,-1827.99 3640.33,-1789.87 3660.15,-1765.87 3660.15,-1715.57 3660.15,-1715.57 3660.15,-1715.57 3660.15,-311.67 3660.15,-260.75 3676.92,-232.24 3638.15,-199.24 3591.76,-159.75 2602.59,-170.92 2542.15,-163.24 2530.08,-161.7 2517.38,-159.47 2505.07,-156.96\"/>\n",
       "<polygon fill=\"#838b8b\" stroke=\"#838b8b\" points=\"2505.88,-153.56 2495.37,-154.91 2504.43,-160.41 2505.88,-153.56\"/>\n",
       "</g>\n",
       "<!-- callgraphX__tile_6_8 -->\n",
       "<g id=\"node58\" class=\"node\">\n",
       "<title>callgraphX__tile_6_8</title>\n",
       "<ellipse fill=\"#fecccc\" fill-opacity=\"0.698039\" stroke=\"black\" cx=\"2633.15\" cy=\"-137.43\" rx=\"82.38\" ry=\"25.81\"/>\n",
       "<text text-anchor=\"middle\" x=\"2633.15\" y=\"-138.38\" font-family=\"Times,serif\" font-size=\"14.00\" fill=\"#000000\">tile_6_8</text>\n",
       "<text text-anchor=\"middle\" x=\"2633.15\" y=\"-124.13\" font-family=\"Times,serif\" font-size=\"14.00\" fill=\"#000000\">(callgraph.py:361)</text>\n",
       "</g>\n",
       "<!-- callgraphX&#45;&gt;callgraphX__tile_6_8 -->\n",
       "<g id=\"edge39\" class=\"edge\">\n",
       "<title>callgraphX&#45;&gt;callgraphX__tile_6_8</title>\n",
       "<path fill=\"none\" stroke=\"#838b8b\" stroke-dasharray=\"5,2\" d=\"M3828.19,-1874.87C3821.21,-1871.09 3813.48,-1867.16 3806.15,-1863.99 3759.71,-1843.91 3730.9,-1866.57 3698.15,-1827.99 3665.4,-1789.42 3680.15,-1766.17 3680.15,-1715.57 3680.15,-1715.57 3680.15,-1715.57 3680.15,-311.67 3680.15,-286.46 3683.8,-216.2 3665.15,-199.24 3626.5,-164.07 2776.82,-171.09 2725.15,-163.24 2717.68,-162.1 2709.94,-160.58 2702.28,-158.85\"/>\n",
       "<polygon fill=\"#838b8b\" stroke=\"#838b8b\" points=\"2703.15,-155.46 2692.6,-156.53 2701.52,-162.27 2703.15,-155.46\"/>\n",
       "</g>\n",
       "<!-- callgraphX__tile_7_0 -->\n",
       "<g id=\"node59\" class=\"node\">\n",
       "<title>callgraphX__tile_7_0</title>\n",
       "<ellipse fill=\"#fecccc\" fill-opacity=\"0.698039\" stroke=\"black\" cx=\"2816.15\" cy=\"-137.43\" rx=\"82.38\" ry=\"25.81\"/>\n",
       "<text text-anchor=\"middle\" x=\"2816.15\" y=\"-138.38\" font-family=\"Times,serif\" font-size=\"14.00\" fill=\"#000000\">tile_7_0</text>\n",
       "<text text-anchor=\"middle\" x=\"2816.15\" y=\"-124.13\" font-family=\"Times,serif\" font-size=\"14.00\" fill=\"#000000\">(callgraph.py:366)</text>\n",
       "</g>\n",
       "<!-- callgraphX&#45;&gt;callgraphX__tile_7_0 -->\n",
       "<g id=\"edge33\" class=\"edge\">\n",
       "<title>callgraphX&#45;&gt;callgraphX__tile_7_0</title>\n",
       "<path fill=\"none\" stroke=\"#838b8b\" stroke-dasharray=\"5,2\" d=\"M3827.53,-1875C3820.68,-1871.3 3813.18,-1867.39 3806.15,-1863.99 3769.57,-1846.34 3746.99,-1860.13 3722.15,-1827.99 3691.25,-1788.01 3705.15,-1766.1 3705.15,-1715.57 3705.15,-1715.57 3705.15,-1715.57 3705.15,-311.67 3705.15,-260.91 3723.29,-232.72 3685.15,-199.24 3620.21,-142.22 2993.54,-176.57 2908.15,-163.24 2900.68,-162.07 2892.95,-160.53 2885.29,-158.79\"/>\n",
       "<polygon fill=\"#838b8b\" stroke=\"#838b8b\" points=\"2886.16,-155.4 2875.62,-156.46 2884.52,-162.2 2886.16,-155.4\"/>\n",
       "</g>\n",
       "<!-- callgraphX__tile_7_1 -->\n",
       "<g id=\"node60\" class=\"node\">\n",
       "<title>callgraphX__tile_7_1</title>\n",
       "<ellipse fill=\"#fecccc\" fill-opacity=\"0.698039\" stroke=\"black\" cx=\"1197.15\" cy=\"-1626.95\" rx=\"82.38\" ry=\"25.81\"/>\n",
       "<text text-anchor=\"middle\" x=\"1197.15\" y=\"-1627.9\" font-family=\"Times,serif\" font-size=\"14.00\" fill=\"#000000\">tile_7_1</text>\n",
       "<text text-anchor=\"middle\" x=\"1197.15\" y=\"-1613.65\" font-family=\"Times,serif\" font-size=\"14.00\" fill=\"#000000\">(callgraph.py:371)</text>\n",
       "</g>\n",
       "<!-- callgraphX&#45;&gt;callgraphX__tile_7_1 -->\n",
       "<g id=\"edge25\" class=\"edge\">\n",
       "<title>callgraphX&#45;&gt;callgraphX__tile_7_1</title>\n",
       "<path fill=\"none\" stroke=\"#838b8b\" stroke-dasharray=\"5,2\" d=\"M3830.11,-1874.18C3822.79,-1870.09 3814.4,-1866.17 3806.15,-1863.99 3620.45,-1815.05 2269.54,-1843.81 2078.15,-1827.99 1807.82,-1805.66 1735.95,-1811.37 1474.15,-1740.38 1393.68,-1718.55 1305.13,-1679.85 1250.32,-1654.04\"/>\n",
       "<polygon fill=\"#838b8b\" stroke=\"#838b8b\" points=\"1252.06,-1650.99 1241.52,-1649.87 1249.06,-1657.31 1252.06,-1650.99\"/>\n",
       "</g>\n",
       "<!-- callgraphX__tile_7_2 -->\n",
       "<g id=\"node61\" class=\"node\">\n",
       "<title>callgraphX__tile_7_2</title>\n",
       "<ellipse fill=\"#fecccc\" fill-opacity=\"0.698039\" stroke=\"black\" cx=\"1217.15\" cy=\"-1364.09\" rx=\"82.38\" ry=\"25.81\"/>\n",
       "<text text-anchor=\"middle\" x=\"1217.15\" y=\"-1365.04\" font-family=\"Times,serif\" font-size=\"14.00\" fill=\"#000000\">tile_7_2</text>\n",
       "<text text-anchor=\"middle\" x=\"1217.15\" y=\"-1350.79\" font-family=\"Times,serif\" font-size=\"14.00\" fill=\"#000000\">(callgraph.py:376)</text>\n",
       "</g>\n",
       "<!-- callgraphX&#45;&gt;callgraphX__tile_7_2 -->\n",
       "<g id=\"edge18\" class=\"edge\">\n",
       "<title>callgraphX&#45;&gt;callgraphX__tile_7_2</title>\n",
       "<path fill=\"none\" stroke=\"#838b8b\" stroke-dasharray=\"5,2\" d=\"M3830.12,-1874.14C3822.8,-1870.05 3814.41,-1866.13 3806.15,-1863.99 3729.13,-1844.03 1004.11,-1877.9 942.15,-1827.99 902.21,-1795.82 916.15,-1766.85 916.15,-1715.57 916.15,-1715.57 916.15,-1715.57 916.15,-1538.33 916.15,-1484.28 1063.76,-1420.98 1152.24,-1387.88\"/>\n",
       "<polygon fill=\"#838b8b\" stroke=\"#838b8b\" points=\"1153.41,-1391.18 1161.57,-1384.43 1150.98,-1384.62 1153.41,-1391.18\"/>\n",
       "</g>\n",
       "<!-- callgraphX__tile_7_3 -->\n",
       "<g id=\"node62\" class=\"node\">\n",
       "<title>callgraphX__tile_7_3</title>\n",
       "<ellipse fill=\"#fecccc\" fill-opacity=\"0.698039\" stroke=\"black\" cx=\"2653.15\" cy=\"-1188.85\" rx=\"82.38\" ry=\"25.81\"/>\n",
       "<text text-anchor=\"middle\" x=\"2653.15\" y=\"-1189.8\" font-family=\"Times,serif\" font-size=\"14.00\" fill=\"#000000\">tile_7_3</text>\n",
       "<text text-anchor=\"middle\" x=\"2653.15\" y=\"-1175.55\" font-family=\"Times,serif\" font-size=\"14.00\" fill=\"#000000\">(callgraph.py:381)</text>\n",
       "</g>\n",
       "<!-- callgraphX&#45;&gt;callgraphX__tile_7_3 -->\n",
       "<g id=\"edge15\" class=\"edge\">\n",
       "<title>callgraphX&#45;&gt;callgraphX__tile_7_3</title>\n",
       "<path fill=\"none\" stroke=\"#838b8b\" stroke-dasharray=\"5,2\" d=\"M3829.59,-1874.13C3822.37,-1870.14 3814.18,-1866.29 3806.15,-1863.99 3745.14,-1846.53 3282.56,-1871.28 3236.15,-1827.99 3199.29,-1793.61 3221.15,-1765.98 3221.15,-1715.57 3221.15,-1715.57 3221.15,-1715.57 3221.15,-1363.09 3221.15,-1312.68 3242.78,-1285.3 3206.15,-1250.66 3168.34,-1214.9 2790.36,-1223.92 2739.15,-1214.66 2733.13,-1213.57 2726.93,-1212.23 2720.74,-1210.74\"/>\n",
       "<polygon fill=\"#838b8b\" stroke=\"#838b8b\" points=\"2721.68,-1207.37 2711.13,-1208.3 2719.96,-1214.16 2721.68,-1207.37\"/>\n",
       "</g>\n",
       "<!-- callgraphX__tile_7_4 -->\n",
       "<g id=\"node63\" class=\"node\">\n",
       "<title>callgraphX__tile_7_4</title>\n",
       "<ellipse fill=\"#fecccc\" fill-opacity=\"0.698039\" stroke=\"black\" cx=\"1137.15\" cy=\"-1101.23\" rx=\"82.38\" ry=\"25.81\"/>\n",
       "<text text-anchor=\"middle\" x=\"1137.15\" y=\"-1102.18\" font-family=\"Times,serif\" font-size=\"14.00\" fill=\"#000000\">tile_7_4</text>\n",
       "<text text-anchor=\"middle\" x=\"1137.15\" y=\"-1087.93\" font-family=\"Times,serif\" font-size=\"14.00\" fill=\"#000000\">(callgraph.py:386)</text>\n",
       "</g>\n",
       "<!-- callgraphX&#45;&gt;callgraphX__tile_7_4 -->\n",
       "<g id=\"edge13\" class=\"edge\">\n",
       "<title>callgraphX&#45;&gt;callgraphX__tile_7_4</title>\n",
       "<path fill=\"none\" stroke=\"#838b8b\" stroke-dasharray=\"5,2\" d=\"M3830.12,-1874.14C3822.8,-1870.05 3814.41,-1866.13 3806.15,-1863.99 3728.27,-1843.82 970.12,-1881.63 910.15,-1827.99 872.62,-1794.43 896.15,-1765.92 896.15,-1715.57 896.15,-1715.57 896.15,-1715.57 896.15,-1275.47 896.15,-1192.15 992.3,-1144.97 1063.14,-1121.52\"/>\n",
       "<polygon fill=\"#838b8b\" stroke=\"#838b8b\" points=\"1063.94,-1124.94 1072.39,-1118.56 1061.8,-1118.27 1063.94,-1124.94\"/>\n",
       "</g>\n",
       "<!-- callgraphX__tile_7_5 -->\n",
       "<g id=\"node64\" class=\"node\">\n",
       "<title>callgraphX__tile_7_5</title>\n",
       "<ellipse fill=\"#fecccc\" fill-opacity=\"0.698039\" stroke=\"black\" cx=\"2451.15\" cy=\"-1276.47\" rx=\"82.38\" ry=\"25.81\"/>\n",
       "<text text-anchor=\"middle\" x=\"2451.15\" y=\"-1277.42\" font-family=\"Times,serif\" font-size=\"14.00\" fill=\"#000000\">tile_7_5</text>\n",
       "<text text-anchor=\"middle\" x=\"2451.15\" y=\"-1263.17\" font-family=\"Times,serif\" font-size=\"14.00\" fill=\"#000000\">(callgraph.py:391)</text>\n",
       "</g>\n",
       "<!-- callgraphX&#45;&gt;callgraphX__tile_7_5 -->\n",
       "<g id=\"edge10\" class=\"edge\">\n",
       "<title>callgraphX&#45;&gt;callgraphX__tile_7_5</title>\n",
       "<path fill=\"none\" stroke=\"#838b8b\" stroke-dasharray=\"5,2\" d=\"M3830.07,-1874.34C3822.75,-1870.25 3814.36,-1866.3 3806.15,-1863.99 3732.45,-1843.32 3174.41,-1879.91 3118.15,-1827.99 3081.1,-1793.81 3103.15,-1765.98 3103.15,-1715.57 3103.15,-1715.57 3103.15,-1715.57 3103.15,-1450.71 3103.15,-1400.03 3121.76,-1372.25 3084.15,-1338.28 3038.95,-1297.46 2597.15,-1312.78 2537.15,-1302.28 2531.12,-1301.23 2524.92,-1299.91 2518.73,-1298.44\"/>\n",
       "<polygon fill=\"#838b8b\" stroke=\"#838b8b\" points=\"2519.67,-1295.06 2509.11,-1296.01 2517.95,-1301.85 2519.67,-1295.06\"/>\n",
       "</g>\n",
       "<!-- callgraphX__tile_7_6 -->\n",
       "<g id=\"node65\" class=\"node\">\n",
       "<title>callgraphX__tile_7_6</title>\n",
       "<ellipse fill=\"#fecccc\" fill-opacity=\"0.698039\" stroke=\"black\" cx=\"2999.15\" cy=\"-137.43\" rx=\"82.38\" ry=\"25.81\"/>\n",
       "<text text-anchor=\"middle\" x=\"2999.15\" y=\"-138.38\" font-family=\"Times,serif\" font-size=\"14.00\" fill=\"#000000\">tile_7_6</text>\n",
       "<text text-anchor=\"middle\" x=\"2999.15\" y=\"-124.13\" font-family=\"Times,serif\" font-size=\"14.00\" fill=\"#000000\">(callgraph.py:396)</text>\n",
       "</g>\n",
       "<!-- callgraphX&#45;&gt;callgraphX__tile_7_6 -->\n",
       "<g id=\"edge8\" class=\"edge\">\n",
       "<title>callgraphX&#45;&gt;callgraphX__tile_7_6</title>\n",
       "<path fill=\"none\" stroke=\"#838b8b\" stroke-dasharray=\"5,2\" d=\"M3826.79,-1875.12C3795.98,-1858.39 3747.76,-1831.83 3745.15,-1827.99 3716.75,-1786.27 3729.15,-1766.04 3729.15,-1715.57 3729.15,-1715.57 3729.15,-1715.57 3729.15,-311.67 3729.15,-260.99 3747.89,-233.06 3710.15,-199.24 3658.85,-153.26 3159.16,-174.26 3091.15,-163.24 3083.69,-162.03 3075.96,-160.46 3068.3,-158.7\"/>\n",
       "<polygon fill=\"#838b8b\" stroke=\"#838b8b\" points=\"3069.17,-155.31 3058.63,-156.36 3067.53,-162.11 3069.17,-155.31\"/>\n",
       "</g>\n",
       "<!-- callgraphX__tile_7_7 -->\n",
       "<g id=\"node66\" class=\"node\">\n",
       "<title>callgraphX__tile_7_7</title>\n",
       "<ellipse fill=\"#fecccc\" fill-opacity=\"0.698039\" stroke=\"black\" cx=\"3182.15\" cy=\"-137.43\" rx=\"82.38\" ry=\"25.81\"/>\n",
       "<text text-anchor=\"middle\" x=\"3182.15\" y=\"-138.38\" font-family=\"Times,serif\" font-size=\"14.00\" fill=\"#000000\">tile_7_7</text>\n",
       "<text text-anchor=\"middle\" x=\"3182.15\" y=\"-124.13\" font-family=\"Times,serif\" font-size=\"14.00\" fill=\"#000000\">(callgraph.py:401)</text>\n",
       "</g>\n",
       "<!-- callgraphX&#45;&gt;callgraphX__tile_7_7 -->\n",
       "<g id=\"edge5\" class=\"edge\">\n",
       "<title>callgraphX&#45;&gt;callgraphX__tile_7_7</title>\n",
       "<path fill=\"none\" stroke=\"#838b8b\" stroke-dasharray=\"5,2\" d=\"M3828.36,-1874.47C3806.28,-1860.67 3775.7,-1840.15 3768.15,-1827.99 3741.41,-1784.95 3749.15,-1766.24 3749.15,-1715.57 3749.15,-1715.57 3749.15,-1715.57 3749.15,-311.67 3749.15,-286.46 3752.45,-216.57 3734.15,-199.24 3696.93,-163.99 3324.67,-171.95 3274.15,-163.24 3266.81,-161.97 3259.21,-160.38 3251.66,-158.63\"/>\n",
       "<polygon fill=\"#838b8b\" stroke=\"#838b8b\" points=\"3252.7,-155.28 3242.16,-156.31 3251.04,-162.08 3252.7,-155.28\"/>\n",
       "</g>\n",
       "<!-- callgraphX__tile_7_8 -->\n",
       "<g id=\"node67\" class=\"node\">\n",
       "<title>callgraphX__tile_7_8</title>\n",
       "<ellipse fill=\"#fecccc\" fill-opacity=\"0.698039\" stroke=\"black\" cx=\"3365.15\" cy=\"-137.43\" rx=\"82.38\" ry=\"25.81\"/>\n",
       "<text text-anchor=\"middle\" x=\"3365.15\" y=\"-138.38\" font-family=\"Times,serif\" font-size=\"14.00\" fill=\"#000000\">tile_7_8</text>\n",
       "<text text-anchor=\"middle\" x=\"3365.15\" y=\"-124.13\" font-family=\"Times,serif\" font-size=\"14.00\" fill=\"#000000\">(callgraph.py:406)</text>\n",
       "</g>\n",
       "<!-- callgraphX&#45;&gt;callgraphX__tile_7_8 -->\n",
       "<g id=\"edge1\" class=\"edge\">\n",
       "<title>callgraphX&#45;&gt;callgraphX__tile_7_8</title>\n",
       "<path fill=\"none\" stroke=\"#838b8b\" stroke-dasharray=\"5,2\" d=\"M3831.66,-1873.83C3818.01,-1862.72 3800.86,-1846.38 3791.15,-1827.99 3767.42,-1783.04 3770.15,-1766.4 3770.15,-1715.57 3770.15,-1715.57 3770.15,-1715.57 3770.15,-311.67 3770.15,-286.43 3772.18,-216.89 3754.15,-199.24 3706.49,-152.57 3521.61,-176.04 3456.15,-163.24 3449.3,-161.9 3442.2,-160.31 3435.13,-158.61\"/>\n",
       "<polygon fill=\"#838b8b\" stroke=\"#838b8b\" points=\"3436.11,-155.24 3425.55,-156.21 3434.4,-162.03 3436.11,-155.24\"/>\n",
       "</g>\n",
       "<!-- callgraphX__maze&#45;&gt;callgraphX__tile_2_1 -->\n",
       "<g id=\"edge83\" class=\"edge\">\n",
       "<title>callgraphX__maze&#45;&gt;callgraphX__tile_2_1</title>\n",
       "<path fill=\"none\" stroke=\"#000000\" d=\"M1878.6,-2150.95C1619.2,-2148.16 783.29,-2135.83 518.15,-2090.85 512.19,-2089.84 506.06,-2088.53 499.96,-2087.03\"/>\n",
       "<polygon fill=\"#000000\" stroke=\"#000000\" points=\"501.08,-2083.71 490.52,-2084.55 499.31,-2090.48 501.08,-2083.71\"/>\n",
       "</g>\n",
       "<!-- callgraphX__tile_1_0&#45;&gt;callgraphX__print_maze -->\n",
       "<g id=\"edge67\" class=\"edge\">\n",
       "<title>callgraphX__tile_1_0&#45;&gt;callgraphX__print_maze</title>\n",
       "<path fill=\"none\" stroke=\"#000000\" d=\"M3488.85,-118.73C3478.11,-115.87 3466.86,-113.29 3456.15,-111.62 3102.7,-56.37 1977.6,-51.15 1659.6,-50.79\"/>\n",
       "<polygon fill=\"#000000\" stroke=\"#000000\" points=\"1659.7,-47.29 1649.7,-50.78 1659.69,-54.29 1659.7,-47.29\"/>\n",
       "</g>\n",
       "<!-- callgraphX__tile_1_1&#45;&gt;callgraphX__print_maze -->\n",
       "<g id=\"edge68\" class=\"edge\">\n",
       "<title>callgraphX__tile_1_1&#45;&gt;callgraphX__print_maze</title>\n",
       "<path fill=\"none\" stroke=\"#000000\" d=\"M871.74,-1080.36C852.68,-1070.41 831.79,-1056.75 817.15,-1039.43 801.27,-1020.63 811.12,-1008.06 797.15,-987.81 783.57,-968.12 768.14,-973.05 757.15,-951.81 740.98,-920.56 728.81,-671.43 720.15,-637.33 709.83,-596.69 703.54,-587.4 685.15,-549.71 677.03,-533.07 670.16,-531.23 664.15,-513.71 647.8,-466.03 649.15,-451.7 649.15,-401.28 649.15,-401.28 649.15,-401.28 649.15,-224.05 649.15,-173.64 627.35,-146.07 664.15,-111.62 723.67,-55.91 1275.79,-50.47 1490.4,-50.48\"/>\n",
       "<polygon fill=\"#000000\" stroke=\"#000000\" points=\"1490.38,-53.98 1500.39,-50.48 1490.39,-46.98 1490.38,-53.98\"/>\n",
       "</g>\n",
       "<!-- callgraphX__tile_1_2&#45;&gt;callgraphX__print_maze -->\n",
       "<g id=\"edge69\" class=\"edge\">\n",
       "<title>callgraphX__tile_1_2&#45;&gt;callgraphX__print_maze</title>\n",
       "<path fill=\"none\" stroke=\"#000000\" d=\"M3662.02,-118.58C3651.55,-115.77 3640.59,-113.25 3630.15,-111.62 3241.05,-50.73 1995.71,-49.63 1659.49,-50.49\"/>\n",
       "<polygon fill=\"#000000\" stroke=\"#000000\" points=\"1659.89,-46.98 1649.9,-50.51 1659.91,-53.98 1659.89,-46.98\"/>\n",
       "</g>\n",
       "<!-- callgraphX__tile_1_3&#45;&gt;callgraphX__print_maze -->\n",
       "<g id=\"edge70\" class=\"edge\">\n",
       "<title>callgraphX__tile_1_3&#45;&gt;callgraphX__print_maze</title>\n",
       "<path fill=\"none\" stroke=\"#000000\" d=\"M1101.51,-462.59C1078.72,-430.39 1043.15,-370.93 1043.15,-313.67 1043.15,-313.67 1043.15,-313.67 1043.15,-224.05 1043.15,-173.64 1022.23,-146.99 1058.15,-111.62 1088.43,-81.8 1353.3,-62.97 1491.7,-55.08\"/>\n",
       "<polygon fill=\"#000000\" stroke=\"#000000\" points=\"1491.76,-58.58 1501.55,-54.53 1491.37,-51.6 1491.76,-58.58\"/>\n",
       "</g>\n",
       "<!-- callgraphX__tile_1_4&#45;&gt;callgraphX__print_maze -->\n",
       "<g id=\"edge71\" class=\"edge\">\n",
       "<title>callgraphX__tile_1_4&#45;&gt;callgraphX__print_maze</title>\n",
       "<path fill=\"none\" stroke=\"#000000\" d=\"M2145.36,-639.44C2157.05,-629.27 2168.91,-616.21 2175.15,-601.33 2194.67,-554.85 2207.33,-413.28 2175.15,-374.48 2120.02,-307.98 2056.06,-386.34 1984.15,-338.48 1961.28,-323.25 1973.14,-301.89 1950.15,-286.86 1870.89,-235.04 1808.52,-316.38 1740.15,-250.86 1694.45,-207.05 1749.95,-160.85 1710.15,-111.62 1693.89,-91.51 1669.57,-77.82 1646.03,-68.6\"/>\n",
       "<polygon fill=\"#000000\" stroke=\"#000000\" points=\"1647.31,-65.34 1636.72,-65.19 1644.91,-71.92 1647.31,-65.34\"/>\n",
       "</g>\n",
       "<!-- callgraphX__tile_1_5&#45;&gt;callgraphX__print_maze -->\n",
       "<g id=\"edge72\" class=\"edge\">\n",
       "<title>callgraphX__tile_1_5&#45;&gt;callgraphX__print_maze</title>\n",
       "<path fill=\"none\" stroke=\"#000000\" d=\"M1192.36,-551.82C1204.05,-541.65 1215.91,-528.59 1222.15,-513.71 1231.03,-492.56 1231.36,-483.11 1222.15,-462.09 1189.64,-387.87 1120.66,-412.7 1088.15,-338.48 1081.34,-322.93 1084.38,-216.16 1091.15,-199.24 1110.53,-150.84 1123.3,-136.43 1169.15,-111.62 1223.53,-82.19 1390.68,-64.72 1492.77,-56.52\"/>\n",
       "<polygon fill=\"#000000\" stroke=\"#000000\" points=\"1492.76,-60.03 1502.46,-55.75 1492.21,-53.05 1492.76,-60.03\"/>\n",
       "</g>\n",
       "<!-- callgraphX__tile_1_6&#45;&gt;callgraphX__print_maze -->\n",
       "<g id=\"edge73\" class=\"edge\">\n",
       "<title>callgraphX__tile_1_6&#45;&gt;callgraphX__print_maze</title>\n",
       "<path fill=\"none\" stroke=\"#000000\" d=\"M855.16,-462.03C866.39,-428.72 884.15,-367.55 884.15,-313.67 884.15,-313.67 884.15,-313.67 884.15,-224.05 884.15,-168.61 892.69,-143.33 938.15,-111.62 982.56,-80.64 1328.73,-61.58 1491.32,-54.25\"/>\n",
       "<polygon fill=\"#000000\" stroke=\"#000000\" points=\"1491.35,-57.75 1501.19,-53.81 1491.04,-50.76 1491.35,-57.75\"/>\n",
       "</g>\n",
       "<!-- callgraphX__tile_1_7&#45;&gt;callgraphX__print_maze -->\n",
       "<g id=\"edge74\" class=\"edge\">\n",
       "<title>callgraphX__tile_1_7&#45;&gt;callgraphX__print_maze</title>\n",
       "<path fill=\"none\" stroke=\"#000000\" d=\"M1695.13,-382.81C1639.82,-366.83 1564.34,-344.19 1560.15,-338.48 1530.34,-297.82 1554.07,-161.66 1560.15,-111.62 1561.14,-103.48 1562.85,-94.85 1564.77,-86.73\"/>\n",
       "<polygon fill=\"#000000\" stroke=\"#000000\" points=\"1568.13,-87.72 1567.2,-77.17 1561.34,-86 1568.13,-87.72\"/>\n",
       "</g>\n",
       "<!-- callgraphX__tile_1_8&#45;&gt;callgraphX__print_maze -->\n",
       "<g id=\"edge75\" class=\"edge\">\n",
       "<title>callgraphX__tile_1_8&#45;&gt;callgraphX__print_maze</title>\n",
       "<path fill=\"none\" stroke=\"#000000\" d=\"M608.69,-119.3C620.33,-116.3 632.56,-113.54 644.15,-111.62 952.93,-60.42 1326.02,-51.87 1490.39,-50.75\"/>\n",
       "<polygon fill=\"#000000\" stroke=\"#000000\" points=\"1490.37,-54.25 1500.35,-50.69 1490.33,-47.25 1490.37,-54.25\"/>\n",
       "</g>\n",
       "<!-- callgraphX__tile_2_0&#45;&gt;callgraphX__print_maze -->\n",
       "<g id=\"edge76\" class=\"edge\">\n",
       "<title>callgraphX__tile_2_0&#45;&gt;callgraphX__print_maze</title>\n",
       "<path fill=\"none\" stroke=\"#000000\" d=\"M1676.19,-1162.68C1663.01,-1096.67 1627.17,-922.12 1612.15,-900.19 1596.27,-876.99 1577.45,-886.35 1560.15,-864.19 1534.55,-831.38 1540.82,-815.87 1527.15,-776.57 1487.72,-663.2 1473.31,-633.47 1465.15,-513.71 1459.07,-424.43 1442.31,-189.06 1487.15,-111.62 1495.39,-97.39 1508.46,-85.72 1522.04,-76.56\"/>\n",
       "<polygon fill=\"#000000\" stroke=\"#000000\" points=\"1523.59,-79.71 1530.18,-71.41 1519.86,-73.79 1523.59,-79.71\"/>\n",
       "</g>\n",
       "<!-- callgraphX__tile_2_1&#45;&gt;callgraphX__print_maze -->\n",
       "<g id=\"edge82\" class=\"edge\">\n",
       "<title>callgraphX__tile_2_1&#45;&gt;callgraphX__print_maze</title>\n",
       "<path fill=\"none\" stroke=\"#000000\" d=\"M360.87,-2058.54C271.9,-2047.54 127.46,-2014.55 60.15,-1915.61 46.11,-1894.97 59.53,-1785.75 69.15,-1776.38 106.66,-1739.82 487.23,-1747.29 539.15,-1740.38 755.06,-1711.64 1016.15,-1845.76 1016.15,-1627.95 1016.15,-1627.95 1016.15,-1627.95 1016.15,-1187.85 1016.15,-1162.77 1022.89,-1094.11 1006.15,-1075.43 952,-1014.98 886.9,-1094.34 827.15,-1039.43 809.56,-1023.26 823.19,-1008.99 812.15,-987.81 802.66,-969.59 791.63,-970.52 783.15,-951.81 724.57,-822.58 760.61,-775.46 728.15,-637.33 718.86,-597.79 717.89,-587.16 702.15,-549.71 695.06,-532.84 687.75,-531.14 682.15,-513.71 666.75,-465.83 669.15,-451.59 669.15,-401.28 669.15,-401.28 669.15,-401.28 669.15,-224.05 669.15,-173.98 640.85,-147.11 676.15,-111.62 732.82,-54.65 1277.65,-49.96 1490.53,-50.32\"/>\n",
       "<polygon fill=\"#000000\" stroke=\"#000000\" points=\"1490.41,-53.82 1500.42,-50.34 1490.43,-46.82 1490.41,-53.82\"/>\n",
       "</g>\n",
       "<!-- callgraphX__tile_2_1&#45;&gt;callgraphX__tile_1_1 -->\n",
       "<g id=\"edge80\" class=\"edge\">\n",
       "<title>callgraphX__tile_2_1&#45;&gt;callgraphX__tile_1_1</title>\n",
       "<path fill=\"none\" stroke=\"#000000\" d=\"M358.65,-2063.29C257.34,-2060.47 88.16,-2048.85 49.15,-2003.23 -16.38,-1926.6 -16.39,-1852.99 49.15,-1776.38 187.62,-1614.51 996.15,-1840.96 996.15,-1627.95 996.15,-1627.95 996.15,-1627.95 996.15,-1275.47 996.15,-1225.46 1013.22,-1207.93 991.15,-1163.04 985.12,-1150.77 975.35,-1140.03 964.92,-1131.13\"/>\n",
       "<polygon fill=\"#000000\" stroke=\"#000000\" points=\"967.27,-1128.52 957.27,-1125.03 962.91,-1134 967.27,-1128.52\"/>\n",
       "</g>\n",
       "<!-- callgraphX__tile_2_1&#45;&gt;callgraphX__tile_2_0 -->\n",
       "<g id=\"edge79\" class=\"edge\">\n",
       "<title>callgraphX__tile_2_1&#45;&gt;callgraphX__tile_2_0</title>\n",
       "<path fill=\"none\" stroke=\"#000000\" d=\"M461.97,-2040.5C471.5,-2030.12 481.17,-2017.13 486.15,-2003.23 507.03,-1944.98 523.09,-1913.64 486.15,-1863.99 452.91,-1819.32 399.39,-1872.67 366.15,-1827.99 352.46,-1809.59 350.22,-1792.89 366.15,-1776.38 443.11,-1696.59 1268.16,-1797.51 1363.15,-1740.38 1464.18,-1679.6 1618.05,-1336.87 1666.21,-1225.1\"/>\n",
       "<polygon fill=\"#000000\" stroke=\"#000000\" points=\"1669.34,-1226.68 1670.07,-1216.11 1662.91,-1223.92 1669.34,-1226.68\"/>\n",
       "</g>\n",
       "<!-- callgraphX__tile_2_1&#45;&gt;callgraphX__tile_2_1 -->\n",
       "<g id=\"edge78\" class=\"edge\">\n",
       "<title>callgraphX__tile_2_1&#45;&gt;callgraphX__tile_2_1</title>\n",
       "<path fill=\"none\" stroke=\"#000000\" d=\"M496.84,-2081.47C516.32,-2081.3 531.76,-2075.82 531.76,-2065.04 531.76,-2056.45 521.95,-2051.23 508.11,-2049.38\"/>\n",
       "<polygon fill=\"#000000\" stroke=\"#000000\" points=\"508.56,-2045.9 498.35,-2048.72 508.09,-2052.88 508.56,-2045.9\"/>\n",
       "</g>\n",
       "<!-- callgraphX__tile_2_1&#45;&gt;callgraphX__tile_2_2 -->\n",
       "<g id=\"edge77\" class=\"edge\">\n",
       "<title>callgraphX__tile_2_1&#45;&gt;callgraphX__tile_2_2</title>\n",
       "<path fill=\"none\" stroke=\"#000000\" d=\"M465.77,-2040.98C477.71,-2030.49 490.83,-2017.28 500.15,-2003.23 546.15,-1933.87 539.85,-1906.95 566.15,-1827.99 573.7,-1805.33 562.28,-1791.02 581.15,-1776.38 681.2,-1698.76 1599.76,-1779.61 1720.15,-1740.38 1851.6,-1697.54 1912.56,-1687.37 1977.15,-1565.14 1987.87,-1544.85 1980.45,-1536.22 1977.15,-1513.52 1961.43,-1405.23 1907.15,-1386.9 1907.15,-1277.47 1907.15,-1277.47 1907.15,-1277.47 1907.15,-925 1907.15,-849.46 1989.29,-800.24 2049.83,-774.23\"/>\n",
       "<polygon fill=\"#000000\" stroke=\"#000000\" points=\"2050.82,-777.61 2058.7,-770.53 2048.13,-771.15 2050.82,-777.61\"/>\n",
       "</g>\n",
       "<!-- callgraphX__tile_2_1&#45;&gt;callgraphX__tile_3_1 -->\n",
       "<g id=\"edge81\" class=\"edge\">\n",
       "<title>callgraphX__tile_2_1&#45;&gt;callgraphX__tile_3_1</title>\n",
       "<path fill=\"none\" stroke=\"#000000\" d=\"M413.59,-2040.19C407.19,-2031.76 400.36,-2022.1 394.32,-2012.97\"/>\n",
       "<polygon fill=\"#000000\" stroke=\"#000000\" points=\"397.3,-2011.13 388.94,-2004.61 391.41,-2014.91 397.3,-2011.13\"/>\n",
       "</g>\n",
       "<!-- callgraphX__tile_2_2&#45;&gt;callgraphX__print_maze -->\n",
       "<g id=\"edge84\" class=\"edge\">\n",
       "<title>callgraphX__tile_2_2&#45;&gt;callgraphX__print_maze</title>\n",
       "<path fill=\"none\" stroke=\"#000000\" d=\"M2067.84,-729.44C2051.65,-719.68 2035.18,-706.27 2026.15,-688.95 2015.55,-668.61 2012.34,-655.65 2026.15,-637.33 2061.22,-590.84 2114.5,-645.76 2152.15,-601.33 2184.77,-562.85 2180.16,-409.8 2144.15,-374.48 2081.55,-313.06 2021.83,-388.99 1950.15,-338.48 1928.46,-323.19 1941.9,-302.06 1920.15,-286.86 1845.04,-234.37 1785.83,-311.51 1717.15,-250.86 1692.88,-229.42 1694,-137.21 1674.15,-111.62 1662.79,-96.97 1646.82,-85 1631.02,-75.67\"/>\n",
       "<polygon fill=\"#000000\" stroke=\"#000000\" points=\"1633,-72.77 1622.57,-70.95 1629.59,-78.88 1633,-72.77\"/>\n",
       "</g>\n",
       "<!-- callgraphX__tile_2_3&#45;&gt;callgraphX__print_maze -->\n",
       "<g id=\"edge88\" class=\"edge\">\n",
       "<title>callgraphX__tile_2_3&#45;&gt;callgraphX__print_maze</title>\n",
       "<path fill=\"none\" stroke=\"#000000\" d=\"M1646.32,-817.39C1629.57,-807.68 1612.53,-794.22 1603.15,-776.57 1588.64,-749.24 1583.48,-661.22 1603.15,-637.33 1656.12,-573 1709.86,-632.46 1787.15,-601.33 1800.39,-596 1990.66,-469 2003.15,-462.09 2036.21,-443.82 2059.87,-457.97 2080.15,-426.09 2092.47,-406.74 2095.32,-391.68 2080.15,-374.48 1995.72,-278.71 1895.08,-417.95 1795.15,-338.48 1776.02,-323.26 1794.34,-303.19 1776.15,-286.86 1727.06,-242.79 1679.55,-296.74 1632.15,-250.86 1629.13,-247.93 1600.36,-143.46 1584.89,-86.69\"/>\n",
       "<polygon fill=\"#000000\" stroke=\"#000000\" points=\"1588.29,-85.87 1582.29,-77.14 1581.54,-87.71 1588.29,-85.87\"/>\n",
       "</g>\n",
       "<!-- callgraphX__tile_2_3&#45;&gt;callgraphX__tile_1_3 -->\n",
       "<g id=\"edge90\" class=\"edge\">\n",
       "<title>callgraphX__tile_2_3&#45;&gt;callgraphX__tile_1_3</title>\n",
       "<path fill=\"none\" stroke=\"#000000\" d=\"M1636.35,-820.32C1487.1,-774.95 1092.91,-651.34 1058.15,-601.33 1045.06,-582.49 1049.27,-570.87 1058.15,-549.71 1062.93,-538.32 1071,-528 1079.77,-519.22\"/>\n",
       "<polygon fill=\"#000000\" stroke=\"#000000\" points=\"1081.9,-522.02 1086.83,-512.64 1077.13,-516.9 1081.9,-522.02\"/>\n",
       "</g>\n",
       "<!-- callgraphX__tile_2_3&#45;&gt;callgraphX__tile_2_2 -->\n",
       "<g id=\"edge85\" class=\"edge\">\n",
       "<title>callgraphX__tile_2_3&#45;&gt;callgraphX__tile_2_2</title>\n",
       "<path fill=\"none\" stroke=\"#000000\" d=\"M1758.32,-824.09C1833.58,-808.75 1957.23,-783.55 2036.89,-767.31\"/>\n",
       "<polygon fill=\"#000000\" stroke=\"#000000\" points=\"2037.25,-770.8 2046.35,-765.38 2035.85,-763.95 2037.25,-770.8\"/>\n",
       "</g>\n",
       "<!-- callgraphX__tile_2_3&#45;&gt;callgraphX__tile_2_3 -->\n",
       "<g id=\"edge87\" class=\"edge\">\n",
       "<title>callgraphX__tile_2_3&#45;&gt;callgraphX__tile_2_3</title>\n",
       "<path fill=\"none\" stroke=\"#000000\" d=\"M1753.84,-854.8C1773.32,-854.63 1788.76,-849.16 1788.76,-838.38 1788.76,-829.79 1778.95,-824.57 1765.11,-822.71\"/>\n",
       "<polygon fill=\"#000000\" stroke=\"#000000\" points=\"1765.56,-819.24 1755.35,-822.06 1765.09,-826.22 1765.56,-819.24\"/>\n",
       "</g>\n",
       "<!-- callgraphX__tile_2_3&#45;&gt;callgraphX__tile_2_4 -->\n",
       "<g id=\"edge86\" class=\"edge\">\n",
       "<title>callgraphX__tile_2_3&#45;&gt;callgraphX__tile_2_4</title>\n",
       "<path fill=\"none\" stroke=\"#000000\" d=\"M1687.23,-812.15C1686.84,-804.66 1686.78,-796.3 1687.04,-788.25\"/>\n",
       "<polygon fill=\"#000000\" stroke=\"#000000\" points=\"1690.53,-788.49 1687.57,-778.32 1683.54,-788.11 1690.53,-788.49\"/>\n",
       "</g>\n",
       "<!-- callgraphX__tile_2_3&#45;&gt;callgraphX__tile_3_3 -->\n",
       "<g id=\"edge89\" class=\"edge\">\n",
       "<title>callgraphX__tile_2_3&#45;&gt;callgraphX__tile_3_3</title>\n",
       "<path fill=\"none\" stroke=\"#000000\" d=\"M1626.13,-851.74C1559.53,-863.41 1454.73,-881.84 1364.15,-900.19 1351.34,-902.78 1337.72,-905.72 1324.43,-908.63\"/>\n",
       "<polygon fill=\"#000000\" stroke=\"#000000\" points=\"1323.86,-905.17 1314.85,-910.74 1325.37,-912.01 1323.86,-905.17\"/>\n",
       "</g>\n",
       "<!-- callgraphX__tile_2_4&#45;&gt;callgraphX__print_maze -->\n",
       "<g id=\"edge96\" class=\"edge\">\n",
       "<title>callgraphX__tile_2_4&#45;&gt;callgraphX__print_maze</title>\n",
       "<path fill=\"none\" stroke=\"#000000\" d=\"M1626.11,-735.85C1468.51,-703.31 1090.52,-623.34 1073.15,-601.33 1058.94,-583.32 1059.19,-567.92 1073.15,-549.71 1110.68,-500.78 1169.63,-562.65 1207.15,-513.71 1221.11,-495.51 1220.28,-480.91 1207.15,-462.09 1180.59,-424.04 1141.43,-459.43 1109.15,-426.09 1060.54,-375.88 1051.66,-157.77 1104.15,-111.62 1160.01,-62.5 1371.1,-52.41 1490.86,-50.74\"/>\n",
       "<polygon fill=\"#000000\" stroke=\"#000000\" points=\"1490.68,-54.24 1500.64,-50.62 1490.6,-47.24 1490.68,-54.24\"/>\n",
       "</g>\n",
       "<!-- callgraphX__tile_2_4&#45;&gt;callgraphX__tile_1_4 -->\n",
       "<g id=\"edge94\" class=\"edge\">\n",
       "<title>callgraphX__tile_2_4&#45;&gt;callgraphX__tile_1_4</title>\n",
       "<path fill=\"none\" stroke=\"#000000\" d=\"M1761.94,-735.91C1837.1,-720.55 1958.09,-695.83 2036.61,-679.78\"/>\n",
       "<polygon fill=\"#000000\" stroke=\"#000000\" points=\"2037.3,-683.21 2046.4,-677.78 2035.9,-676.35 2037.3,-683.21\"/>\n",
       "</g>\n",
       "<!-- callgraphX__tile_2_4&#45;&gt;callgraphX__tile_2_3 -->\n",
       "<g id=\"edge93\" class=\"edge\">\n",
       "<title>callgraphX__tile_2_4&#45;&gt;callgraphX__tile_2_3</title>\n",
       "<path fill=\"none\" stroke=\"#000000\" d=\"M1700.06,-776.77C1700.47,-784.44 1700.53,-793.04 1700.25,-801.3\"/>\n",
       "<polygon fill=\"#000000\" stroke=\"#000000\" points=\"1696.76,-800.93 1699.71,-811.1 1703.75,-801.31 1696.76,-800.93\"/>\n",
       "</g>\n",
       "<!-- callgraphX__tile_2_4&#45;&gt;callgraphX__tile_2_4 -->\n",
       "<g id=\"edge92\" class=\"edge\">\n",
       "<title>callgraphX__tile_2_4&#45;&gt;callgraphX__tile_2_4</title>\n",
       "<path fill=\"none\" stroke=\"#000000\" d=\"M1758.84,-767.17C1778.83,-766.84 1794.53,-761.37 1794.53,-750.76 1794.53,-742.22 1784.36,-737.01 1769.97,-735.13\"/>\n",
       "<polygon fill=\"#000000\" stroke=\"#000000\" points=\"1770.57,-731.66 1760.35,-734.45 1770.08,-738.65 1770.57,-731.66\"/>\n",
       "</g>\n",
       "<!-- callgraphX__tile_2_4&#45;&gt;callgraphX__tile_2_5 -->\n",
       "<g id=\"edge91\" class=\"edge\">\n",
       "<title>callgraphX__tile_2_4&#45;&gt;callgraphX__tile_2_5</title>\n",
       "<path fill=\"none\" stroke=\"#000000\" d=\"M1734.83,-727.93C1759.32,-716.03 1790.84,-701.25 1818.03,-688.91\"/>\n",
       "<polygon fill=\"#000000\" stroke=\"#000000\" points=\"1819.15,-692.24 1826.83,-684.94 1816.27,-685.86 1819.15,-692.24\"/>\n",
       "</g>\n",
       "<!-- callgraphX__tile_2_4&#45;&gt;callgraphX__tile_3_4 -->\n",
       "<g id=\"edge95\" class=\"edge\">\n",
       "<title>callgraphX__tile_2_4&#45;&gt;callgraphX__tile_3_4</title>\n",
       "<path fill=\"none\" stroke=\"#000000\" d=\"M1694.15,-724.53C1694.15,-717.04 1694.15,-708.69 1694.15,-700.63\"/>\n",
       "<polygon fill=\"#000000\" stroke=\"#000000\" points=\"1697.65,-700.7 1694.15,-690.7 1690.65,-700.7 1697.65,-700.7\"/>\n",
       "</g>\n",
       "<!-- callgraphX__tile_2_5&#45;&gt;callgraphX__print_maze -->\n",
       "<g id=\"edge100\" class=\"edge\">\n",
       "<title>callgraphX__tile_2_5&#45;&gt;callgraphX__print_maze</title>\n",
       "<path fill=\"none\" stroke=\"#000000\" d=\"M1945.83,-648.46C2021.68,-633.03 2134,-609.07 2140.15,-601.33 2156.35,-580.96 2174.5,-426.79 2128.15,-374.48 2071.74,-310.8 2015,-378.91 1940.15,-338.48 1912.05,-323.3 1918.27,-302.01 1890.15,-286.86 1814.49,-246.08 1763.48,-308.97 1700.15,-250.86 1652.8,-207.41 1698.19,-164.14 1661.15,-111.62 1651.82,-98.39 1638.66,-87.04 1625.44,-77.85\"/>\n",
       "<polygon fill=\"#000000\" stroke=\"#000000\" points=\"1627.39,-74.95 1617.12,-72.38 1623.55,-80.8 1627.39,-74.95\"/>\n",
       "</g>\n",
       "<!-- callgraphX__tile_2_5&#45;&gt;callgraphX__tile_1_5 -->\n",
       "<g id=\"edge101\" class=\"edge\">\n",
       "<title>callgraphX__tile_2_5&#45;&gt;callgraphX__tile_1_5</title>\n",
       "<path fill=\"none\" stroke=\"#000000\" d=\"M1818.59,-644.79C1807.55,-641.96 1796.06,-639.32 1785.15,-637.33 1684.08,-618.92 1393.09,-594.66 1246.59,-583.14\"/>\n",
       "<polygon fill=\"#000000\" stroke=\"#000000\" points=\"1247.19,-579.68 1236.95,-582.39 1246.65,-586.66 1247.19,-579.68\"/>\n",
       "</g>\n",
       "<!-- callgraphX__tile_2_5&#45;&gt;callgraphX__tile_2_4 -->\n",
       "<g id=\"edge98\" class=\"edge\">\n",
       "<title>callgraphX__tile_2_5&#45;&gt;callgraphX__tile_2_4</title>\n",
       "<path fill=\"none\" stroke=\"#000000\" d=\"M1836.63,-685.89C1812.07,-697.83 1780.38,-712.69 1753.1,-725.07\"/>\n",
       "<polygon fill=\"#000000\" stroke=\"#000000\" points=\"1751.93,-721.76 1744.26,-729.06 1754.81,-728.14 1751.93,-721.76\"/>\n",
       "</g>\n",
       "<!-- callgraphX__tile_2_5&#45;&gt;callgraphX__tile_2_5 -->\n",
       "<g id=\"edge97\" class=\"edge\">\n",
       "<title>callgraphX__tile_2_5&#45;&gt;callgraphX__tile_2_5</title>\n",
       "<path fill=\"none\" stroke=\"#000000\" d=\"M1941.84,-679.55C1961.83,-679.22 1977.53,-673.75 1977.53,-663.14 1977.53,-654.6 1967.36,-649.39 1952.97,-647.51\"/>\n",
       "<polygon fill=\"#000000\" stroke=\"#000000\" points=\"1953.57,-644.04 1943.35,-646.83 1953.08,-651.03 1953.57,-644.04\"/>\n",
       "</g>\n",
       "<!-- callgraphX__tile_2_5&#45;&gt;callgraphX__tile_2_6 -->\n",
       "<g id=\"edge102\" class=\"edge\">\n",
       "<title>callgraphX__tile_2_5&#45;&gt;callgraphX__tile_2_6</title>\n",
       "<path fill=\"none\" stroke=\"#000000\" d=\"M1815.56,-645.73C1767.5,-632.15 1700.92,-612.74 1651.47,-597.93\"/>\n",
       "<polygon fill=\"#000000\" stroke=\"#000000\" points=\"1652.59,-594.61 1642.01,-595.09 1650.58,-601.31 1652.59,-594.61\"/>\n",
       "</g>\n",
       "<!-- callgraphX__tile_2_5&#45;&gt;callgraphX__tile_3_5 -->\n",
       "<g id=\"edge99\" class=\"edge\">\n",
       "<title>callgraphX__tile_2_5&#45;&gt;callgraphX__tile_3_5</title>\n",
       "<path fill=\"none\" stroke=\"#000000\" d=\"M1920.11,-640.76C1943.1,-629.32 1971.61,-615.12 1995.98,-602.99\"/>\n",
       "<polygon fill=\"#000000\" stroke=\"#000000\" points=\"1997.4,-606.19 2004.79,-598.61 1994.28,-599.93 1997.4,-606.19\"/>\n",
       "</g>\n",
       "<!-- callgraphX__tile_2_6&#45;&gt;callgraphX__print_maze -->\n",
       "<g id=\"edge107\" class=\"edge\">\n",
       "<title>callgraphX__tile_2_6&#45;&gt;callgraphX__print_maze</title>\n",
       "<path fill=\"none\" stroke=\"#000000\" d=\"M1537.26,-553.85C1520.6,-544.11 1503.44,-530.8 1493.15,-513.71 1472.96,-480.18 1486.15,-465.19 1484.15,-426.09 1482.98,-403.18 1482.26,-397.34 1484.15,-374.48 1485.49,-358.31 1487.62,-354.5 1490.15,-338.48 1506.09,-237.78 1482.27,-204.57 1524.15,-111.62 1528.73,-101.46 1535.51,-91.64 1542.64,-82.98\"/>\n",
       "<polygon fill=\"#000000\" stroke=\"#000000\" points=\"1545.19,-85.37 1549.12,-75.53 1539.92,-80.77 1545.19,-85.37\"/>\n",
       "</g>\n",
       "<!-- callgraphX__tile_2_6&#45;&gt;callgraphX__tile_1_6 -->\n",
       "<g id=\"edge104\" class=\"edge\">\n",
       "<title>callgraphX__tile_2_6&#45;&gt;callgraphX__tile_1_6</title>\n",
       "<path fill=\"none\" stroke=\"#000000\" d=\"M1506.53,-566.5C1399.8,-555.34 1201.78,-534.2 1033.15,-513.71 998.84,-509.54 961.03,-504.59 928.44,-500.22\"/>\n",
       "<polygon fill=\"#000000\" stroke=\"#000000\" points=\"929.02,-496.76 918.64,-498.9 928.09,-503.7 929.02,-496.76\"/>\n",
       "</g>\n",
       "<!-- callgraphX__tile_2_6&#45;&gt;callgraphX__tile_2_5 -->\n",
       "<g id=\"edge103\" class=\"edge\">\n",
       "<title>callgraphX__tile_2_6&#45;&gt;callgraphX__tile_2_5</title>\n",
       "<path fill=\"none\" stroke=\"#000000\" d=\"M1645.95,-592.99C1693.97,-606.57 1760.39,-625.93 1809.76,-640.71\"/>\n",
       "<polygon fill=\"#000000\" stroke=\"#000000\" points=\"1808.62,-644.02 1819.2,-643.55 1810.63,-637.32 1808.62,-644.02\"/>\n",
       "</g>\n",
       "<!-- callgraphX__tile_2_6&#45;&gt;callgraphX__tile_2_6 -->\n",
       "<g id=\"edge108\" class=\"edge\">\n",
       "<title>callgraphX__tile_2_6&#45;&gt;callgraphX__tile_2_6</title>\n",
       "<path fill=\"none\" stroke=\"#000000\" d=\"M1648.84,-591.93C1668.83,-591.6 1684.53,-586.13 1684.53,-575.52 1684.53,-566.98 1674.36,-561.77 1659.97,-559.89\"/>\n",
       "<polygon fill=\"#000000\" stroke=\"#000000\" points=\"1660.57,-556.43 1650.35,-559.22 1660.08,-563.41 1660.57,-556.43\"/>\n",
       "</g>\n",
       "<!-- callgraphX__tile_2_6&#45;&gt;callgraphX__tile_2_7 -->\n",
       "<g id=\"edge106\" class=\"edge\">\n",
       "<title>callgraphX__tile_2_6&#45;&gt;callgraphX__tile_2_7</title>\n",
       "<path fill=\"none\" stroke=\"#000000\" d=\"M1577.94,-549.3C1577.45,-541.81 1577.3,-533.45 1577.47,-525.39\"/>\n",
       "<polygon fill=\"#000000\" stroke=\"#000000\" points=\"1580.96,-525.6 1577.88,-515.46 1573.97,-525.31 1580.96,-525.6\"/>\n",
       "</g>\n",
       "<!-- callgraphX__tile_2_6&#45;&gt;callgraphX__tile_3_6 -->\n",
       "<g id=\"edge105\" class=\"edge\">\n",
       "<title>callgraphX__tile_2_6&#45;&gt;callgraphX__tile_3_6</title>\n",
       "<path fill=\"none\" stroke=\"#000000\" d=\"M1646.29,-558.27C1708.01,-538.43 1799.17,-498.23 1840.15,-426.09 1851.48,-406.15 1853.43,-393.18 1840.15,-374.48 1833.66,-365.33 1782.05,-347.95 1736.71,-334.11\"/>\n",
       "<polygon fill=\"#000000\" stroke=\"#000000\" points=\"1737.99,-330.84 1727.4,-331.29 1735.96,-337.54 1737.99,-330.84\"/>\n",
       "</g>\n",
       "<!-- callgraphX__tile_2_7&#45;&gt;callgraphX__print_maze -->\n",
       "<g id=\"edge113\" class=\"edge\">\n",
       "<title>callgraphX__tile_2_7&#45;&gt;callgraphX__print_maze</title>\n",
       "<path fill=\"none\" stroke=\"#000000\" d=\"M1520.41,-471.26C1397.55,-440.48 1137.84,-372.14 1113.15,-338.48 1043.02,-242.84 1147.85,-174.59 1252.15,-111.62 1292.04,-87.54 1412.49,-69.43 1494.48,-59.48\"/>\n",
       "<polygon fill=\"#000000\" stroke=\"#000000\" points=\"1494.77,-62.97 1504.28,-58.31 1493.94,-56.02 1494.77,-62.97\"/>\n",
       "</g>\n",
       "<!-- callgraphX__tile_2_7&#45;&gt;callgraphX__tile_1_7 -->\n",
       "<g id=\"edge109\" class=\"edge\">\n",
       "<title>callgraphX__tile_2_7&#45;&gt;callgraphX__tile_1_7</title>\n",
       "<path fill=\"none\" stroke=\"#000000\" d=\"M1626.36,-465.52C1649.12,-453.99 1677.38,-439.67 1701.45,-427.48\"/>\n",
       "<polygon fill=\"#000000\" stroke=\"#000000\" points=\"1702.79,-430.72 1710.13,-423.08 1699.63,-424.48 1702.79,-430.72\"/>\n",
       "</g>\n",
       "<!-- callgraphX__tile_2_7&#45;&gt;callgraphX__tile_2_6 -->\n",
       "<g id=\"edge114\" class=\"edge\">\n",
       "<title>callgraphX__tile_2_7&#45;&gt;callgraphX__tile_2_6</title>\n",
       "<path fill=\"none\" stroke=\"#000000\" d=\"M1590.36,-513.95C1590.84,-521.42 1591,-529.78 1590.84,-537.84\"/>\n",
       "<polygon fill=\"#000000\" stroke=\"#000000\" points=\"1587.34,-537.65 1590.43,-547.78 1594.34,-537.94 1587.34,-537.65\"/>\n",
       "</g>\n",
       "<!-- callgraphX__tile_2_7&#45;&gt;callgraphX__tile_2_7 -->\n",
       "<g id=\"edge112\" class=\"edge\">\n",
       "<title>callgraphX__tile_2_7&#45;&gt;callgraphX__tile_2_7</title>\n",
       "<path fill=\"none\" stroke=\"#000000\" d=\"M1648.84,-504.32C1668.83,-503.98 1684.53,-498.51 1684.53,-487.9 1684.53,-479.37 1674.36,-474.16 1659.97,-472.27\"/>\n",
       "<polygon fill=\"#000000\" stroke=\"#000000\" points=\"1660.57,-468.81 1650.35,-471.6 1660.08,-475.79 1660.57,-468.81\"/>\n",
       "</g>\n",
       "<!-- callgraphX__tile_2_7&#45;&gt;callgraphX__tile_2_8 -->\n",
       "<g id=\"edge110\" class=\"edge\">\n",
       "<title>callgraphX__tile_2_7&#45;&gt;callgraphX__tile_2_8</title>\n",
       "<path fill=\"none\" stroke=\"#000000\" d=\"M1581.5,-461.68C1580.71,-454.19 1579.83,-445.83 1578.99,-437.77\"/>\n",
       "<polygon fill=\"#000000\" stroke=\"#000000\" points=\"1582.47,-437.41 1577.94,-427.83 1575.51,-438.15 1582.47,-437.41\"/>\n",
       "</g>\n",
       "<!-- callgraphX__tile_2_7&#45;&gt;callgraphX__tile_3_7 -->\n",
       "<g id=\"edge111\" class=\"edge\">\n",
       "<title>callgraphX__tile_2_7&#45;&gt;callgraphX__tile_3_7</title>\n",
       "<path fill=\"none\" stroke=\"#000000\" d=\"M1648.46,-471.5C1715.28,-456.3 1819.85,-433.16 1891.77,-417.64\"/>\n",
       "<polygon fill=\"#000000\" stroke=\"#000000\" points=\"1892.5,-421.07 1901.54,-415.54 1891.03,-414.22 1892.5,-421.07\"/>\n",
       "</g>\n",
       "<!-- callgraphX__tile_2_8&#45;&gt;callgraphX__print_maze -->\n",
       "<g id=\"edge115\" class=\"edge\">\n",
       "<title>callgraphX__tile_2_8&#45;&gt;callgraphX__print_maze</title>\n",
       "<path fill=\"none\" stroke=\"#000000\" d=\"M1557.17,-374.85C1550.43,-364.23 1543.58,-351.3 1540.15,-338.48 1514.12,-241.07 1514.12,-209.03 1540.15,-111.62 1542.59,-102.5 1546.76,-93.33 1551.39,-84.97\"/>\n",
       "<polygon fill=\"#000000\" stroke=\"#000000\" points=\"1554.29,-86.93 1556.4,-76.55 1548.28,-83.35 1554.29,-86.93\"/>\n",
       "</g>\n",
       "<!-- callgraphX__tile_3_0&#45;&gt;callgraphX__print_maze -->\n",
       "<g id=\"edge116\" class=\"edge\">\n",
       "<title>callgraphX__tile_3_0&#45;&gt;callgraphX__print_maze</title>\n",
       "<path fill=\"none\" stroke=\"#000000\" d=\"M153.56,-1864.74C133.72,-1839.7 110.69,-1800.79 134.15,-1776.38 204.04,-1703.66 966.6,-1808.3 1041.15,-1740.38 1059.78,-1723.4 1056.15,-1653.15 1056.15,-1627.95 1056.15,-1627.95 1056.15,-1627.95 1056.15,-1538.33 1056.15,-1406.53 1067.98,-1367.92 1128.15,-1250.66 1149.81,-1208.45 1157.98,-1198.82 1189.15,-1163.04 1204.65,-1145.26 1218.69,-1148.65 1228.15,-1127.04 1237.35,-1106.03 1243.29,-1092.66 1228.15,-1075.43 1187.34,-1028.95 1007.14,-1067.75 952.15,-1039.43 924.3,-1025.08 929.28,-1006.51 904.15,-987.81 875.13,-966.21 851.5,-981.71 831.15,-951.81 805.9,-914.71 816.8,-587.85 793.15,-549.71 778.14,-525.51 754.69,-538.2 740.15,-513.71 714.52,-470.54 729.15,-451.49 729.15,-401.28 729.15,-401.28 729.15,-401.28 729.15,-224.05 729.15,-171.16 726.24,-143.88 768.15,-111.62 824.44,-68.29 1295.36,-55.47 1490.73,-52\"/>\n",
       "<polygon fill=\"#000000\" stroke=\"#000000\" points=\"1490.62,-55.5 1500.56,-51.83 1490.5,-48.5 1490.62,-55.5\"/>\n",
       "</g>\n",
       "<!-- callgraphX__tile_3_1&#45;&gt;callgraphX__print_maze -->\n",
       "<g id=\"edge122\" class=\"edge\">\n",
       "<title>callgraphX__tile_3_1&#45;&gt;callgraphX__print_maze</title>\n",
       "<path fill=\"none\" stroke=\"#000000\" d=\"M296.96,-1970.92C219.63,-1963.74 110.55,-1948.05 84.15,-1915.61 43.81,-1866.04 67.78,-1813.02 120.15,-1776.38 202.25,-1718.94 947.1,-1807.86 1021.15,-1740.38 1039.78,-1723.4 1036.15,-1653.15 1036.15,-1627.95 1036.15,-1627.95 1036.15,-1627.95 1036.15,-1187.85 1036.15,-1137.44 1055.42,-1112.4 1021.15,-1075.43 968.66,-1018.78 911.58,-1087.51 851.15,-1039.43 831.35,-1023.67 840.52,-1009.29 827.15,-987.81 816.3,-970.36 805.94,-970.82 798.15,-951.81 764.13,-868.71 805.03,-626.3 758.15,-549.71 742.7,-524.48 717.8,-538.82 702.15,-513.71 675.55,-471.02 689.15,-451.59 689.15,-401.28 689.15,-401.28 689.15,-401.28 689.15,-224.05 689.15,-173.88 663.34,-146.75 699.15,-111.62 754.86,-56.98 1281.85,-50.84 1490.59,-50.58\"/>\n",
       "<polygon fill=\"#000000\" stroke=\"#000000\" points=\"1490.58,-54.08 1500.57,-50.57 1490.57,-47.08 1490.58,-54.08\"/>\n",
       "</g>\n",
       "<!-- callgraphX__tile_3_1&#45;&gt;callgraphX__tile_2_1 -->\n",
       "<g id=\"edge118\" class=\"edge\">\n",
       "<title>callgraphX__tile_3_1&#45;&gt;callgraphX__tile_2_1</title>\n",
       "<path fill=\"none\" stroke=\"#000000\" d=\"M399.91,-2002.54C406.31,-2010.97 413.1,-2020.6 419.11,-2029.7\"/>\n",
       "<polygon fill=\"#000000\" stroke=\"#000000\" points=\"416.1,-2031.48 424.45,-2038 421.99,-2027.7 416.1,-2031.48\"/>\n",
       "</g>\n",
       "<!-- callgraphX__tile_3_1&#45;&gt;callgraphX__tile_3_0 -->\n",
       "<g id=\"edge117\" class=\"edge\">\n",
       "<title>callgraphX__tile_3_1&#45;&gt;callgraphX__tile_3_0</title>\n",
       "<path fill=\"none\" stroke=\"#000000\" d=\"M329.02,-1956.02C300.42,-1943.9 263.94,-1928.44 233.68,-1915.61\"/>\n",
       "<polygon fill=\"#000000\" stroke=\"#000000\" points=\"235.23,-1912.47 224.65,-1911.79 232.49,-1918.91 235.23,-1912.47\"/>\n",
       "</g>\n",
       "<!-- callgraphX__tile_3_1&#45;&gt;callgraphX__tile_3_1 -->\n",
       "<g id=\"edge121\" class=\"edge\">\n",
       "<title>callgraphX__tile_3_1&#45;&gt;callgraphX__tile_3_1</title>\n",
       "<path fill=\"none\" stroke=\"#000000\" d=\"M441.84,-1993.84C461.83,-1993.5 477.53,-1988.03 477.53,-1977.42 477.53,-1968.89 467.36,-1963.68 452.97,-1961.79\"/>\n",
       "<polygon fill=\"#000000\" stroke=\"#000000\" points=\"453.57,-1958.33 443.35,-1961.12 453.08,-1965.31 453.57,-1958.33\"/>\n",
       "</g>\n",
       "<!-- callgraphX__tile_3_1&#45;&gt;callgraphX__tile_3_2 -->\n",
       "<g id=\"edge119\" class=\"edge\">\n",
       "<title>callgraphX__tile_3_1&#45;&gt;callgraphX__tile_3_2</title>\n",
       "<path fill=\"none\" stroke=\"#000000\" d=\"M333.94,-1955.01C317.19,-1944.95 298.99,-1931.63 286.15,-1915.61 270.76,-1896.42 284.16,-1880.76 266.15,-1863.99 226.34,-1826.92 181.47,-1871.76 149.15,-1827.99 135.52,-1809.54 133.25,-1792.91 149.15,-1776.38 184.29,-1739.82 1011.5,-1750.64 1061.15,-1740.38 1074.39,-1737.64 1279.59,-1663.22 1288.15,-1652.76 1329.13,-1602.7 1396.68,-1130.74 1363.15,-1075.43 1345.22,-1045.85 1321.32,-1060.83 1294.15,-1039.43 1270.25,-1020.59 1274.13,-1005.19 1249.15,-987.81 1212.09,-962.01 1179.81,-988.96 1154.15,-951.81 1141.12,-932.93 1143.34,-920.42 1154.15,-900.19 1161.79,-885.89 1174.45,-874.37 1187.93,-865.36\"/>\n",
       "<polygon fill=\"#000000\" stroke=\"#000000\" points=\"1189.4,-868.57 1196.05,-860.32 1185.71,-862.62 1189.4,-868.57\"/>\n",
       "</g>\n",
       "<!-- callgraphX__tile_3_1&#45;&gt;callgraphX__tile_4_1 -->\n",
       "<g id=\"edge120\" class=\"edge\">\n",
       "<title>callgraphX__tile_3_1&#45;&gt;callgraphX__tile_4_1</title>\n",
       "<path fill=\"none\" stroke=\"#000000\" d=\"M370.94,-1951.2C370.45,-1943.71 370.3,-1935.35 370.47,-1927.29\"/>\n",
       "<polygon fill=\"#000000\" stroke=\"#000000\" points=\"373.96,-1927.5 370.88,-1917.36 366.97,-1927.21 373.96,-1927.5\"/>\n",
       "</g>\n",
       "<!-- callgraphX__tile_3_2&#45;&gt;callgraphX__print_maze -->\n",
       "<g id=\"edge123\" class=\"edge\">\n",
       "<title>callgraphX__tile_3_2&#45;&gt;callgraphX__print_maze</title>\n",
       "<path fill=\"none\" stroke=\"#000000\" d=\"M1217.7,-813.57C1174.06,-774.1 1089.38,-690.57 1046.15,-601.33 1023.92,-555.43 1023.15,-539.91 1023.15,-488.9 1023.15,-488.9 1023.15,-488.9 1023.15,-224.05 1023.15,-173.88 998.09,-147.5 1033.15,-111.62 1064.54,-79.5 1347.13,-61.59 1491.32,-54.47\"/>\n",
       "<polygon fill=\"#000000\" stroke=\"#000000\" points=\"1491.39,-57.97 1501.21,-53.99 1491.05,-50.98 1491.39,-57.97\"/>\n",
       "</g>\n",
       "<!-- callgraphX__tile_3_3&#45;&gt;callgraphX__print_maze -->\n",
       "<g id=\"edge128\" class=\"edge\">\n",
       "<title>callgraphX__tile_3_3&#45;&gt;callgraphX__print_maze</title>\n",
       "<path fill=\"none\" stroke=\"#000000\" d=\"M1203.76,-903.38C1186.9,-893.14 1168.13,-879.73 1154.15,-864.19 1033.91,-730.52 1003.15,-668.69 1003.15,-488.9 1003.15,-488.9 1003.15,-488.9 1003.15,-224.05 1003.15,-173.98 975.56,-147.81 1010.15,-111.62 1042.75,-77.52 1342.03,-60.43 1491.3,-53.97\"/>\n",
       "<polygon fill=\"#000000\" stroke=\"#000000\" points=\"1491.3,-57.47 1501.14,-53.55 1491,-50.48 1491.3,-57.47\"/>\n",
       "</g>\n",
       "<!-- callgraphX__tile_3_3&#45;&gt;callgraphX__tile_2_3 -->\n",
       "<g id=\"edge126\" class=\"edge\">\n",
       "<title>callgraphX__tile_3_3&#45;&gt;callgraphX__tile_2_3</title>\n",
       "<path fill=\"none\" stroke=\"#000000\" d=\"M1306.92,-908.59C1319.84,-905.69 1333.39,-902.77 1346.15,-900.19 1436.7,-881.84 1541.47,-863.42 1612.07,-851.74\"/>\n",
       "<polygon fill=\"#000000\" stroke=\"#000000\" points=\"1612.31,-855.25 1621.6,-850.18 1611.17,-848.35 1612.31,-855.25\"/>\n",
       "</g>\n",
       "<!-- callgraphX__tile_3_3&#45;&gt;callgraphX__tile_3_2 -->\n",
       "<g id=\"edge124\" class=\"edge\">\n",
       "<title>callgraphX__tile_3_3&#45;&gt;callgraphX__tile_3_2</title>\n",
       "<path fill=\"none\" stroke=\"#000000\" d=\"M1245.15,-899.77C1245.15,-892.28 1245.15,-883.92 1245.15,-875.87\"/>\n",
       "<polygon fill=\"#000000\" stroke=\"#000000\" points=\"1248.65,-875.94 1245.15,-865.94 1241.65,-875.94 1248.65,-875.94\"/>\n",
       "</g>\n",
       "<!-- callgraphX__tile_3_3&#45;&gt;callgraphX__tile_3_3 -->\n",
       "<g id=\"edge129\" class=\"edge\">\n",
       "<title>callgraphX__tile_3_3&#45;&gt;callgraphX__tile_3_3</title>\n",
       "<path fill=\"none\" stroke=\"#000000\" d=\"M1309.84,-942.41C1329.83,-942.08 1345.53,-936.61 1345.53,-926 1345.53,-917.46 1335.36,-912.25 1320.97,-910.37\"/>\n",
       "<polygon fill=\"#000000\" stroke=\"#000000\" points=\"1321.57,-906.9 1311.35,-909.69 1321.08,-913.88 1321.57,-906.9\"/>\n",
       "</g>\n",
       "<!-- callgraphX__tile_3_3&#45;&gt;callgraphX__tile_3_4 -->\n",
       "<g id=\"edge127\" class=\"edge\">\n",
       "<title>callgraphX__tile_3_3&#45;&gt;callgraphX__tile_3_4</title>\n",
       "<path fill=\"none\" stroke=\"#000000\" d=\"M1283.43,-902.76C1365.11,-855.3 1556.33,-744.21 1646.06,-692.08\"/>\n",
       "<polygon fill=\"#000000\" stroke=\"#000000\" points=\"1647.77,-695.14 1654.66,-687.09 1644.25,-689.08 1647.77,-695.14\"/>\n",
       "</g>\n",
       "<!-- callgraphX__tile_3_3&#45;&gt;callgraphX__tile_4_3 -->\n",
       "<g id=\"edge125\" class=\"edge\">\n",
       "<title>callgraphX__tile_3_3&#45;&gt;callgraphX__tile_4_3</title>\n",
       "<path fill=\"none\" stroke=\"#000000\" d=\"M1286.62,-948.71C1304.64,-959.21 1325.66,-971.97 1343.68,-983.31\"/>\n",
       "<polygon fill=\"#000000\" stroke=\"#000000\" points=\"1341.74,-986.23 1352.06,-988.64 1345.5,-980.32 1341.74,-986.23\"/>\n",
       "</g>\n",
       "<!-- callgraphX__tile_3_4&#45;&gt;callgraphX__print_maze -->\n",
       "<g id=\"edge130\" class=\"edge\">\n",
       "<title>callgraphX__tile_3_4&#45;&gt;callgraphX__print_maze</title>\n",
       "<path fill=\"none\" stroke=\"#000000\" d=\"M1756.52,-646.05C1791.15,-635.79 1834.35,-620.76 1870.15,-601.33 1925.85,-571.1 2067.33,-483.03 2095.15,-426.09 2105.22,-405.48 2110.12,-391.86 2095.15,-374.48 2024.77,-292.75 1953.21,-383.41 1855.15,-338.48 1823.17,-323.82 1826.34,-303.13 1795.15,-286.86 1738.2,-257.13 1698.87,-297.94 1655.15,-250.86 1612.37,-204.78 1657.86,-168.05 1630.15,-111.62 1625.02,-101.17 1617.56,-91.2 1609.78,-82.46\"/>\n",
       "<polygon fill=\"#000000\" stroke=\"#000000\" points=\"1612.41,-80.14 1603,-75.26 1607.31,-84.94 1612.41,-80.14\"/>\n",
       "</g>\n",
       "<!-- callgraphX__tile_3_5&#45;&gt;callgraphX__print_maze -->\n",
       "<g id=\"edge131\" class=\"edge\">\n",
       "<title>callgraphX__tile_3_5&#45;&gt;callgraphX__print_maze</title>\n",
       "<path fill=\"none\" stroke=\"#000000\" d=\"M2070.51,-550.19C2103.58,-509.5 2159.02,-426.94 2115.15,-374.48 2057.22,-305.18 1996.7,-377.29 1915.15,-338.48 1883.39,-323.36 1886.72,-302.37 1855.15,-286.86 1783.88,-251.84 1736.56,-306.74 1680.15,-250.86 1635.18,-206.3 1683.29,-165.56 1650.15,-111.62 1642.61,-99.33 1631.66,-88.44 1620.46,-79.39\"/>\n",
       "<polygon fill=\"#000000\" stroke=\"#000000\" points=\"1622.76,-76.74 1612.68,-73.45 1618.51,-82.3 1622.76,-76.74\"/>\n",
       "</g>\n",
       "<!-- callgraphX__tile_3_6&#45;&gt;callgraphX__print_maze -->\n",
       "<g id=\"edge132\" class=\"edge\">\n",
       "<title>callgraphX__tile_3_6&#45;&gt;callgraphX__print_maze</title>\n",
       "<path fill=\"none\" stroke=\"#000000\" d=\"M1632.51,-288.62C1620.32,-278.49 1607.71,-265.54 1600.15,-250.86 1573.27,-198.63 1570.89,-128.9 1572.44,-87.07\"/>\n",
       "<polygon fill=\"#000000\" stroke=\"#000000\" points=\"1575.92,-87.46 1572.91,-77.3 1568.93,-87.13 1575.92,-87.46\"/>\n",
       "</g>\n",
       "<!-- callgraphX__tile_3_7&#45;&gt;callgraphX__print_maze -->\n",
       "<g id=\"edge136\" class=\"edge\">\n",
       "<title>callgraphX__tile_3_7&#45;&gt;callgraphX__print_maze</title>\n",
       "<path fill=\"none\" stroke=\"#000000\" d=\"M1911.37,-382.15C1860.89,-367.29 1795.23,-346.88 1785.15,-338.48 1765.1,-321.76 1777.68,-302.97 1757.15,-286.86 1707.62,-247.99 1663.87,-296.16 1620.15,-250.86 1597.91,-227.8 1584.7,-138.29 1578.81,-87.15\"/>\n",
       "<polygon fill=\"#000000\" stroke=\"#000000\" points=\"1582.32,-87.01 1577.74,-77.46 1575.36,-87.78 1582.32,-87.01\"/>\n",
       "</g>\n",
       "<!-- callgraphX__tile_3_7&#45;&gt;callgraphX__tile_2_7 -->\n",
       "<g id=\"edge134\" class=\"edge\">\n",
       "<title>callgraphX__tile_3_7&#45;&gt;callgraphX__tile_2_7</title>\n",
       "<path fill=\"none\" stroke=\"#000000\" d=\"M1906.6,-416.75C1839.77,-431.94 1735.4,-455.04 1663.57,-470.54\"/>\n",
       "<polygon fill=\"#000000\" stroke=\"#000000\" points=\"1662.85,-467.11 1653.81,-472.64 1664.32,-473.95 1662.85,-467.11\"/>\n",
       "</g>\n",
       "<!-- callgraphX__tile_3_7&#45;&gt;callgraphX__tile_3_6 -->\n",
       "<g id=\"edge133\" class=\"edge\">\n",
       "<title>callgraphX__tile_3_7&#45;&gt;callgraphX__tile_3_6</title>\n",
       "<path fill=\"none\" stroke=\"#000000\" d=\"M1910.89,-382.37C1861.05,-368.38 1790.16,-348.48 1737.49,-333.69\"/>\n",
       "<polygon fill=\"#000000\" stroke=\"#000000\" points=\"1738.58,-330.36 1728,-331.03 1736.68,-337.1 1738.58,-330.36\"/>\n",
       "</g>\n",
       "<!-- callgraphX__tile_3_7&#45;&gt;callgraphX__tile_3_7 -->\n",
       "<g id=\"edge138\" class=\"edge\">\n",
       "<title>callgraphX__tile_3_7&#45;&gt;callgraphX__tile_3_7</title>\n",
       "<path fill=\"none\" stroke=\"#000000\" d=\"M2035.84,-416.7C2055.83,-416.37 2071.53,-410.89 2071.53,-400.28 2071.53,-391.75 2061.36,-386.54 2046.97,-384.65\"/>\n",
       "<polygon fill=\"#000000\" stroke=\"#000000\" points=\"2047.57,-381.19 2037.35,-383.98 2047.08,-388.17 2047.57,-381.19\"/>\n",
       "</g>\n",
       "<!-- callgraphX__tile_3_7&#45;&gt;callgraphX__tile_3_8 -->\n",
       "<g id=\"edge135\" class=\"edge\">\n",
       "<title>callgraphX__tile_3_7&#45;&gt;callgraphX__tile_3_8</title>\n",
       "<path fill=\"none\" stroke=\"#000000\" d=\"M1903.36,-385.22C1883.09,-381.34 1860.78,-377.41 1840.15,-374.48 1647.14,-347.03 1419.36,-328.61 1295.54,-319.75\"/>\n",
       "<polygon fill=\"#000000\" stroke=\"#000000\" points=\"1295.98,-316.28 1285.76,-319.06 1295.49,-323.26 1295.98,-316.28\"/>\n",
       "</g>\n",
       "<!-- callgraphX__tile_3_7&#45;&gt;callgraphX__tile_4_7 -->\n",
       "<g id=\"edge137\" class=\"edge\">\n",
       "<title>callgraphX__tile_3_7&#45;&gt;callgraphX__tile_4_7</title>\n",
       "<path fill=\"none\" stroke=\"#000000\" d=\"M2021.01,-379.43C2056.64,-366.29 2104.9,-349.05 2143.91,-335.52\"/>\n",
       "<polygon fill=\"#000000\" stroke=\"#000000\" points=\"2144.92,-338.88 2153.23,-332.3 2142.63,-332.26 2144.92,-338.88\"/>\n",
       "</g>\n",
       "<!-- callgraphX__tile_3_8&#45;&gt;callgraphX__print_maze -->\n",
       "<g id=\"edge139\" class=\"edge\">\n",
       "<title>callgraphX__tile_3_8&#45;&gt;callgraphX__print_maze</title>\n",
       "<path fill=\"none\" stroke=\"#000000\" d=\"M1208.79,-286.69C1218.1,-243.87 1243.26,-156.74 1300.15,-111.62 1330.02,-87.93 1425.5,-70.54 1495.61,-60.57\"/>\n",
       "<polygon fill=\"#000000\" stroke=\"#000000\" points=\"1495.71,-64.09 1505.13,-59.24 1494.74,-57.15 1495.71,-64.09\"/>\n",
       "</g>\n",
       "<!-- callgraphX__tile_4_0&#45;&gt;callgraphX__print_maze -->\n",
       "<g id=\"edge140\" class=\"edge\">\n",
       "<title>callgraphX__tile_4_0&#45;&gt;callgraphX__print_maze</title>\n",
       "<path fill=\"none\" stroke=\"#000000\" d=\"M314.15,-1783.85C326.29,-1780.87 339.06,-1778.17 351.15,-1776.38 542.78,-1747.98 1041.27,-1809.71 1222.15,-1740.38 1295.38,-1712.31 1358.15,-1706.37 1358.15,-1627.95 1358.15,-1627.95 1358.15,-1627.95 1358.15,-1187.85 1358.15,-1137.44 1374.41,-1114.97 1343.15,-1075.43 1315.41,-1040.33 1280.85,-1071 1249.15,-1039.43 1231.72,-1022.06 1246.67,-1005.08 1229.15,-987.81 1196.4,-955.52 1158.41,-989.56 1132.15,-951.81 1123.3,-939.07 1132.65,-834.7 1138.15,-812.57 1148.43,-771.2 1156.32,-762.14 1177.15,-724.95 1209.73,-666.78 1236.71,-662.96 1262.15,-601.33 1273.48,-573.89 1306.18,-367.9 1310.15,-338.48 1316.93,-288.32 1297.25,-150.07 1330.15,-111.62 1351.59,-86.57 1432.46,-69.96 1495.5,-60.52\"/>\n",
       "<polygon fill=\"#000000\" stroke=\"#000000\" points=\"1495.76,-64.02 1505.15,-59.11 1494.75,-57.09 1495.76,-64.02\"/>\n",
       "</g>\n",
       "<!-- callgraphX__tile_4_1&#45;&gt;callgraphX__print_maze -->\n",
       "<g id=\"edge146\" class=\"edge\">\n",
       "<title>callgraphX__tile_4_1&#45;&gt;callgraphX__print_maze</title>\n",
       "<path fill=\"none\" stroke=\"#000000\" d=\"M315.88,-1872.26C253.8,-1855.36 166.53,-1831.15 164.15,-1827.99 150.33,-1809.68 148.25,-1792.91 164.15,-1776.38 199.45,-1739.66 1030.31,-1750.83 1080.15,-1740.38 1093.18,-1737.64 1294.73,-1663.07 1303.15,-1652.76 1360.24,-1582.85 1338.15,-1542.97 1338.15,-1452.71 1338.15,-1452.71 1338.15,-1452.71 1338.15,-1187.85 1338.15,-1136.25 1342.4,-1114.89 1309.15,-1075.43 1284.03,-1045.61 1257.52,-1066.17 1229.15,-1039.43 1210.31,-1021.67 1220.91,-1005.66 1202.15,-987.81 1174.49,-961.49 1144.73,-983.97 1124.15,-951.81 1069.58,-866.52 1108.62,-819.39 1145.15,-724.95 1161.49,-682.72 1166.58,-670.74 1197.15,-637.33 1215.64,-617.13 1232.52,-624.48 1247.15,-601.33 1255.08,-588.78 1293.33,-353.21 1295.15,-338.48 1301.37,-288.34 1277.39,-150.08 1310.15,-111.62 1333.75,-83.92 1425.03,-67.53 1493.92,-58.87\"/>\n",
       "<polygon fill=\"#000000\" stroke=\"#000000\" points=\"1494.19,-62.37 1503.7,-57.68 1493.35,-55.42 1494.19,-62.37\"/>\n",
       "</g>\n",
       "<!-- callgraphX__tile_4_1&#45;&gt;callgraphX__tile_3_1 -->\n",
       "<g id=\"edge145\" class=\"edge\">\n",
       "<title>callgraphX__tile_4_1&#45;&gt;callgraphX__tile_3_1</title>\n",
       "<path fill=\"none\" stroke=\"#000000\" d=\"M383.36,-1915.85C383.84,-1923.33 384,-1931.68 383.84,-1939.74\"/>\n",
       "<polygon fill=\"#000000\" stroke=\"#000000\" points=\"380.34,-1939.55 383.43,-1949.69 387.34,-1939.84 380.34,-1939.55\"/>\n",
       "</g>\n",
       "<!-- callgraphX__tile_4_1&#45;&gt;callgraphX__tile_4_0 -->\n",
       "<g id=\"edge144\" class=\"edge\">\n",
       "<title>callgraphX__tile_4_1&#45;&gt;callgraphX__tile_4_0</title>\n",
       "<path fill=\"none\" stroke=\"#000000\" d=\"M344.46,-1865.86C329.96,-1855.69 312.73,-1843.59 297.28,-1832.75\"/>\n",
       "<polygon fill=\"#000000\" stroke=\"#000000\" points=\"299.37,-1829.94 289.17,-1827.06 295.35,-1835.67 299.37,-1829.94\"/>\n",
       "</g>\n",
       "<!-- callgraphX__tile_4_1&#45;&gt;callgraphX__tile_4_1 -->\n",
       "<g id=\"edge143\" class=\"edge\">\n",
       "<title>callgraphX__tile_4_1&#45;&gt;callgraphX__tile_4_1</title>\n",
       "<path fill=\"none\" stroke=\"#000000\" d=\"M441.84,-1906.22C461.83,-1905.89 477.53,-1900.41 477.53,-1889.8 477.53,-1881.27 467.36,-1876.06 452.97,-1874.17\"/>\n",
       "<polygon fill=\"#000000\" stroke=\"#000000\" points=\"453.57,-1870.71 443.35,-1873.5 453.08,-1877.69 453.57,-1870.71\"/>\n",
       "</g>\n",
       "<!-- callgraphX__tile_4_1&#45;&gt;callgraphX__tile_4_2 -->\n",
       "<g id=\"edge141\" class=\"edge\">\n",
       "<title>callgraphX__tile_4_1&#45;&gt;callgraphX__tile_4_2</title>\n",
       "<path fill=\"none\" stroke=\"#000000\" d=\"M314.71,-1872.64C247.66,-1855.2 150.46,-1829.7 149.15,-1827.99 135.18,-1809.8 133.25,-1792.91 149.15,-1776.38 219.43,-1703.27 980.35,-1801.65 1061.15,-1740.38 1112.97,-1701.08 1070.32,-1655.41 1106.15,-1601.14 1152.26,-1531.31 1213.48,-1553.67 1248.15,-1477.52 1257.66,-1456.64 1261.89,-1444.28 1248.15,-1425.9 1214.3,-1380.62 1160,-1435.18 1126.15,-1389.9 1112.42,-1371.53 1115.33,-1358.51 1126.15,-1338.28 1139.76,-1312.85 1161.29,-1324.11 1180.15,-1302.28 1250.34,-1221.04 1322.25,-1165.06 1263.15,-1075.43 1240.79,-1041.52 1215.45,-1057.65 1179.15,-1039.43 1138.28,-1018.91 1131.15,-1008.06 1090.15,-987.81 1062.95,-974.37 1032.02,-961.26 1005.58,-950.68\"/>\n",
       "<polygon fill=\"#000000\" stroke=\"#000000\" points=\"1006.91,-947.45 996.33,-947.02 1004.33,-953.95 1006.91,-947.45\"/>\n",
       "</g>\n",
       "<!-- callgraphX__tile_4_1&#45;&gt;callgraphX__tile_5_1 -->\n",
       "<g id=\"edge142\" class=\"edge\">\n",
       "<title>callgraphX__tile_4_1&#45;&gt;callgraphX__tile_5_1</title>\n",
       "<path fill=\"none\" stroke=\"#000000\" d=\"M393.71,-1864.5C401.73,-1855.23 411.61,-1844.53 421.19,-1834.68\"/>\n",
       "<polygon fill=\"#000000\" stroke=\"#000000\" points=\"423.51,-1837.31 428.05,-1827.74 418.53,-1832.39 423.51,-1837.31\"/>\n",
       "</g>\n",
       "<!-- callgraphX__tile_4_2&#45;&gt;callgraphX__print_maze -->\n",
       "<g id=\"edge147\" class=\"edge\">\n",
       "<title>callgraphX__tile_4_2&#45;&gt;callgraphX__print_maze</title>\n",
       "<path fill=\"none\" stroke=\"#000000\" d=\"M943.15,-899.75C943.15,-866.02 943.15,-804.39 943.15,-751.76 943.15,-751.76 943.15,-751.76 943.15,-224.05 943.15,-173.64 921.9,-146.65 958.15,-111.62 995.74,-75.31 1331.41,-59.09 1491.25,-53.38\"/>\n",
       "<polygon fill=\"#000000\" stroke=\"#000000\" points=\"1491.06,-56.89 1500.93,-53.04 1490.81,-49.89 1491.06,-56.89\"/>\n",
       "</g>\n",
       "<!-- callgraphX__tile_4_3&#45;&gt;callgraphX__print_maze -->\n",
       "<g id=\"edge152\" class=\"edge\">\n",
       "<title>callgraphX__tile_4_3&#45;&gt;callgraphX__print_maze</title>\n",
       "<path fill=\"none\" stroke=\"#000000\" d=\"M1458.39,-1001.56C1487.98,-993.1 1519.31,-978.17 1537.15,-951.81 1550.01,-932.81 1549.32,-919.64 1537.15,-900.19 1517.75,-869.18 1493.14,-885.13 1463.15,-864.19 1417.12,-832.04 1394.42,-828.11 1372.15,-776.57 1342.82,-708.69 1353.83,-169.26 1400.15,-111.62 1423.06,-83.11 1460.13,-67.93 1494.28,-59.86\"/>\n",
       "<polygon fill=\"#000000\" stroke=\"#000000\" points=\"1494.73,-63.35 1503.76,-57.81 1493.25,-56.51 1494.73,-63.35\"/>\n",
       "</g>\n",
       "<!-- callgraphX__tile_4_3&#45;&gt;callgraphX__tile_3_3 -->\n",
       "<g id=\"edge153\" class=\"edge\">\n",
       "<title>callgraphX__tile_4_3&#45;&gt;callgraphX__tile_3_3</title>\n",
       "<path fill=\"none\" stroke=\"#000000\" d=\"M1343.87,-991.01C1325.78,-980.48 1304.65,-967.65 1286.56,-956.26\"/>\n",
       "<polygon fill=\"#000000\" stroke=\"#000000\" points=\"1288.45,-953.31 1278.13,-950.91 1284.7,-959.22 1288.45,-953.31\"/>\n",
       "</g>\n",
       "<!-- callgraphX__tile_4_3&#45;&gt;callgraphX__tile_4_2 -->\n",
       "<g id=\"edge148\" class=\"edge\">\n",
       "<title>callgraphX__tile_4_3&#45;&gt;callgraphX__tile_4_2</title>\n",
       "<path fill=\"none\" stroke=\"#000000\" d=\"M1316.09,-999.24C1236.93,-983.91 1107.38,-958.81 1023.7,-942.6\"/>\n",
       "<polygon fill=\"#000000\" stroke=\"#000000\" points=\"1024.43,-939.18 1013.94,-940.71 1023.09,-946.05 1024.43,-939.18\"/>\n",
       "</g>\n",
       "<!-- callgraphX__tile_4_3&#45;&gt;callgraphX__tile_4_3 -->\n",
       "<g id=\"edge151\" class=\"edge\">\n",
       "<title>callgraphX__tile_4_3&#45;&gt;callgraphX__tile_4_3</title>\n",
       "<path fill=\"none\" stroke=\"#000000\" d=\"M1449.84,-1030.03C1469.83,-1029.7 1485.53,-1024.23 1485.53,-1013.62 1485.53,-1005.08 1475.36,-999.87 1460.97,-997.99\"/>\n",
       "<polygon fill=\"#000000\" stroke=\"#000000\" points=\"1461.57,-994.52 1451.35,-997.31 1461.08,-1001.5 1461.57,-994.52\"/>\n",
       "</g>\n",
       "<!-- callgraphX__tile_4_3&#45;&gt;callgraphX__tile_4_4 -->\n",
       "<g id=\"edge150\" class=\"edge\">\n",
       "<title>callgraphX__tile_4_3&#45;&gt;callgraphX__tile_4_4</title>\n",
       "<path fill=\"none\" stroke=\"#000000\" d=\"M1461.93,-1023.44C1593.9,-1039.14 1862.7,-1071.86 2001.3,-1089.08\"/>\n",
       "<polygon fill=\"#000000\" stroke=\"#000000\" points=\"2000.81,-1092.55 2011.17,-1090.31 2001.68,-1085.6 2000.81,-1092.55\"/>\n",
       "</g>\n",
       "<!-- callgraphX__tile_4_3&#45;&gt;callgraphX__tile_5_3 -->\n",
       "<g id=\"edge149\" class=\"edge\">\n",
       "<title>callgraphX__tile_4_3&#45;&gt;callgraphX__tile_5_3</title>\n",
       "<path fill=\"none\" stroke=\"#000000\" d=\"M1402.47,-988.31C1408.53,-979.8 1415.46,-970.08 1421.98,-960.92\"/>\n",
       "<polygon fill=\"#000000\" stroke=\"#000000\" points=\"1424.75,-963.07 1427.7,-952.89 1419.05,-959.01 1424.75,-963.07\"/>\n",
       "</g>\n",
       "<!-- callgraphX__tile_4_4&#45;&gt;callgraphX__print_maze -->\n",
       "<g id=\"edge159\" class=\"edge\">\n",
       "<title>callgraphX__tile_4_4&#45;&gt;callgraphX__print_maze</title>\n",
       "<path fill=\"none\" stroke=\"#000000\" d=\"M2130.29,-1078.67C2178.29,-1050.74 2250.15,-997.2 2250.15,-927 2250.15,-927 2250.15,-927 2250.15,-574.52 2250.15,-442.94 2333.46,-417.76 2320.15,-286.86 2316.13,-247.31 2331.71,-225.82 2302.15,-199.24 2240.39,-143.71 1996.33,-213.42 1930.15,-163.24 1910.55,-148.37 1929.12,-127.29 1910.15,-111.62 1872.53,-80.55 1744.12,-64.26 1657.66,-56.61\"/>\n",
       "<polygon fill=\"#000000\" stroke=\"#000000\" points=\"1658.05,-53.13 1647.78,-55.76 1657.45,-60.11 1658.05,-53.13\"/>\n",
       "</g>\n",
       "<!-- callgraphX__tile_4_4&#45;&gt;callgraphX__tile_3_4 -->\n",
       "<g id=\"edge158\" class=\"edge\">\n",
       "<title>callgraphX__tile_4_4&#45;&gt;callgraphX__tile_3_4</title>\n",
       "<path fill=\"none\" stroke=\"#000000\" d=\"M2074.46,-1075.4C2037.78,-1010.68 1931.37,-834.33 1803.15,-724.95 1787.36,-711.48 1768.14,-699.58 1750.25,-689.96\"/>\n",
       "<polygon fill=\"#000000\" stroke=\"#000000\" points=\"1752.31,-687.08 1741.82,-685.55 1749.06,-693.29 1752.31,-687.08\"/>\n",
       "</g>\n",
       "<!-- callgraphX__tile_4_4&#45;&gt;callgraphX__tile_4_3 -->\n",
       "<g id=\"edge157\" class=\"edge\">\n",
       "<title>callgraphX__tile_4_4&#45;&gt;callgraphX__tile_4_3</title>\n",
       "<path fill=\"none\" stroke=\"#000000\" d=\"M2011.6,-1091.43C1879.74,-1075.76 1610.81,-1043.02 1472.11,-1025.78\"/>\n",
       "<polygon fill=\"#000000\" stroke=\"#000000\" points=\"1472.58,-1022.31 1462.23,-1024.55 1471.72,-1029.26 1472.58,-1022.31\"/>\n",
       "</g>\n",
       "<!-- callgraphX__tile_4_4&#45;&gt;callgraphX__tile_4_4 -->\n",
       "<g id=\"edge156\" class=\"edge\">\n",
       "<title>callgraphX__tile_4_4&#45;&gt;callgraphX__tile_4_4</title>\n",
       "<path fill=\"none\" stroke=\"#000000\" d=\"M2152.84,-1117.65C2172.83,-1117.32 2188.53,-1111.85 2188.53,-1101.23 2188.53,-1092.7 2178.36,-1087.49 2163.97,-1085.6\"/>\n",
       "<polygon fill=\"#000000\" stroke=\"#000000\" points=\"2164.57,-1082.14 2154.35,-1084.93 2164.08,-1089.12 2164.57,-1082.14\"/>\n",
       "</g>\n",
       "<!-- callgraphX__tile_4_4&#45;&gt;callgraphX__tile_4_5 -->\n",
       "<g id=\"edge155\" class=\"edge\">\n",
       "<title>callgraphX__tile_4_4&#45;&gt;callgraphX__tile_4_5</title>\n",
       "<path fill=\"none\" stroke=\"#000000\" d=\"M2125.85,-1124.31C2141.22,-1134.44 2158.87,-1146.62 2174.15,-1157.59\"/>\n",
       "<polygon fill=\"#000000\" stroke=\"#000000\" points=\"2171.95,-1160.31 2182.1,-1163.34 2176.05,-1154.64 2171.95,-1160.31\"/>\n",
       "</g>\n",
       "<!-- callgraphX__tile_4_4&#45;&gt;callgraphX__tile_5_4 -->\n",
       "<g id=\"edge154\" class=\"edge\">\n",
       "<title>callgraphX__tile_4_4&#45;&gt;callgraphX__tile_5_4</title>\n",
       "<path fill=\"none\" stroke=\"#000000\" d=\"M2027.28,-1083.42C1976.3,-1069.34 1903.47,-1049.23 1849.71,-1034.38\"/>\n",
       "<polygon fill=\"#000000\" stroke=\"#000000\" points=\"1850.92,-1031.08 1840.35,-1031.79 1849.05,-1037.83 1850.92,-1031.08\"/>\n",
       "</g>\n",
       "<!-- callgraphX__tile_4_5&#45;&gt;callgraphX__print_maze -->\n",
       "<g id=\"edge165\" class=\"edge\">\n",
       "<title>callgraphX__tile_4_5&#45;&gt;callgraphX__print_maze</title>\n",
       "<path fill=\"none\" stroke=\"#000000\" d=\"M2230.48,-1163.34C2253.87,-1131.15 2290.15,-1071.97 2290.15,-1014.62 2290.15,-1014.62 2290.15,-1014.62 2290.15,-574.52 2290.15,-529.39 2287.65,-405.79 2255.15,-374.48 2193.26,-314.84 2135.31,-388.12 2065.15,-338.48 2043.49,-323.15 2056.97,-301.95 2035.15,-286.86 1955.47,-231.74 1890.23,-317.76 1820.15,-250.86 1774.36,-207.14 1833.47,-157.78 1790.15,-111.62 1756.63,-75.9 1703.85,-60.62 1658.98,-54.31\"/>\n",
       "<polygon fill=\"#000000\" stroke=\"#000000\" points=\"1659.62,-50.86 1649.26,-53.08 1658.74,-57.81 1659.62,-50.86\"/>\n",
       "</g>\n",
       "<!-- callgraphX__tile_4_5&#45;&gt;callgraphX__tile_3_5 -->\n",
       "<g id=\"edge162\" class=\"edge\">\n",
       "<title>callgraphX__tile_4_5&#45;&gt;callgraphX__tile_3_5</title>\n",
       "<path fill=\"none\" stroke=\"#000000\" d=\"M2210.84,-1162.67C2209.89,-1139.46 2206.79,-1104.35 2197.15,-1075.43 2148.75,-930.25 2077.85,-920.6 2026.15,-776.57 2005.12,-717.99 1993.99,-697.16 2011.15,-637.33 2013.79,-628.14 2018.26,-619 2023.23,-610.69\"/>\n",
       "<polygon fill=\"#000000\" stroke=\"#000000\" points=\"2026.16,-612.61 2028.63,-602.31 2020.27,-608.82 2026.16,-612.61\"/>\n",
       "</g>\n",
       "<!-- callgraphX__tile_4_5&#45;&gt;callgraphX__tile_4_4 -->\n",
       "<g id=\"edge163\" class=\"edge\">\n",
       "<title>callgraphX__tile_4_5&#45;&gt;callgraphX__tile_4_4</title>\n",
       "<path fill=\"none\" stroke=\"#000000\" d=\"M2173.15,-1165.58C2157.86,-1155.49 2140.33,-1143.4 2125.14,-1132.5\"/>\n",
       "<polygon fill=\"#000000\" stroke=\"#000000\" points=\"2127.41,-1129.82 2117.26,-1126.78 2123.3,-1135.48 2127.41,-1129.82\"/>\n",
       "</g>\n",
       "<!-- callgraphX__tile_4_5&#45;&gt;callgraphX__tile_4_5 -->\n",
       "<g id=\"edge161\" class=\"edge\">\n",
       "<title>callgraphX__tile_4_5&#45;&gt;callgraphX__tile_4_5</title>\n",
       "<path fill=\"none\" stroke=\"#000000\" d=\"M2275.84,-1205.27C2295.83,-1204.93 2311.53,-1199.46 2311.53,-1188.85 2311.53,-1180.32 2301.36,-1175.11 2286.97,-1173.22\"/>\n",
       "<polygon fill=\"#000000\" stroke=\"#000000\" points=\"2287.57,-1169.76 2277.35,-1172.55 2287.08,-1176.74 2287.57,-1169.76\"/>\n",
       "</g>\n",
       "<!-- callgraphX__tile_4_5&#45;&gt;callgraphX__tile_4_6 -->\n",
       "<g id=\"edge160\" class=\"edge\">\n",
       "<title>callgraphX__tile_4_5&#45;&gt;callgraphX__tile_4_6</title>\n",
       "<path fill=\"none\" stroke=\"#000000\" d=\"M2253.79,-1166.56C2269.28,-1156.67 2285.37,-1143.43 2295.15,-1127.04 2321,-1083.77 2310.15,-1065.03 2310.15,-1014.62 2310.15,-1014.62 2310.15,-1014.62 2310.15,-749.76 2310.15,-582.83 2403.19,-501.72 2295.15,-374.48 2243.76,-313.94 2182.82,-387.24 2120.15,-338.48 2100.03,-322.82 2110.42,-307.27 2095.15,-286.86 2087.14,-276.16 2077.06,-265.85 2067.16,-256.86\"/>\n",
       "<polygon fill=\"#000000\" stroke=\"#000000\" points=\"2069.53,-254.29 2059.71,-250.32 2064.92,-259.55 2069.53,-254.29\"/>\n",
       "</g>\n",
       "<!-- callgraphX__tile_4_5&#45;&gt;callgraphX__tile_5_5 -->\n",
       "<g id=\"edge164\" class=\"edge\">\n",
       "<title>callgraphX__tile_4_5&#45;&gt;callgraphX__tile_5_5</title>\n",
       "<path fill=\"none\" stroke=\"#000000\" d=\"M2217.36,-1214.9C2217.84,-1222.37 2218,-1230.73 2217.84,-1238.79\"/>\n",
       "<polygon fill=\"#000000\" stroke=\"#000000\" points=\"2214.34,-1238.6 2217.43,-1248.73 2221.34,-1238.89 2214.34,-1238.6\"/>\n",
       "</g>\n",
       "<!-- callgraphX__tile_4_6&#45;&gt;callgraphX__print_maze -->\n",
       "<g id=\"edge166\" class=\"edge\">\n",
       "<title>callgraphX__tile_4_6&#45;&gt;callgraphX__print_maze</title>\n",
       "<path fill=\"none\" stroke=\"#000000\" d=\"M1971.78,-205.81C1947.7,-195.99 1920.52,-181.98 1900.15,-163.24 1880.63,-145.27 1891.69,-127.12 1870.15,-111.62 1836.39,-87.32 1730.67,-69.74 1655.46,-59.91\"/>\n",
       "<polygon fill=\"#000000\" stroke=\"#000000\" points=\"1656,-56.45 1645.64,-58.65 1655.11,-63.39 1656,-56.45\"/>\n",
       "</g>\n",
       "<!-- callgraphX__tile_4_7&#45;&gt;callgraphX__print_maze -->\n",
       "<g id=\"edge168\" class=\"edge\">\n",
       "<title>callgraphX__tile_4_7&#45;&gt;callgraphX__print_maze</title>\n",
       "<path fill=\"none\" stroke=\"#000000\" d=\"M2144.13,-297.38C2064.45,-280.31 1941.58,-253.68 1937.15,-250.86 1895.83,-224.48 1894.14,-205.99 1870.15,-163.24 1858.11,-141.78 1868.82,-127.64 1850.15,-111.62 1821.23,-86.79 1725.54,-69.65 1655.13,-60.04\"/>\n",
       "<polygon fill=\"#000000\" stroke=\"#000000\" points=\"1655.94,-56.62 1645.56,-58.76 1655.01,-63.56 1655.94,-56.62\"/>\n",
       "</g>\n",
       "<!-- callgraphX__tile_4_7&#45;&gt;callgraphX__tile_3_7 -->\n",
       "<g id=\"edge172\" class=\"edge\">\n",
       "<title>callgraphX__tile_4_7&#45;&gt;callgraphX__tile_3_7</title>\n",
       "<path fill=\"none\" stroke=\"#000000\" d=\"M2161.11,-333.59C2125.5,-346.72 2077.35,-363.92 2038.41,-377.42\"/>\n",
       "<polygon fill=\"#000000\" stroke=\"#000000\" points=\"2037.42,-374.06 2029.12,-380.63 2039.71,-380.67 2037.42,-374.06\"/>\n",
       "</g>\n",
       "<!-- callgraphX__tile_4_7&#45;&gt;callgraphX__tile_4_6 -->\n",
       "<g id=\"edge167\" class=\"edge\">\n",
       "<title>callgraphX__tile_4_7&#45;&gt;callgraphX__tile_4_6</title>\n",
       "<path fill=\"none\" stroke=\"#000000\" d=\"M2166.38,-290.72C2141.35,-279.01 2109.93,-264.31 2083.38,-251.89\"/>\n",
       "<polygon fill=\"#000000\" stroke=\"#000000\" points=\"2085,-248.78 2074.46,-247.71 2082.04,-255.12 2085,-248.78\"/>\n",
       "</g>\n",
       "<!-- callgraphX__tile_4_7&#45;&gt;callgraphX__tile_4_7 -->\n",
       "<g id=\"edge171\" class=\"edge\">\n",
       "<title>callgraphX__tile_4_7&#45;&gt;callgraphX__tile_4_7</title>\n",
       "<path fill=\"none\" stroke=\"#000000\" d=\"M2275.84,-329.08C2295.83,-328.75 2311.53,-323.28 2311.53,-312.67 2311.53,-304.13 2301.36,-298.92 2286.97,-297.04\"/>\n",
       "<polygon fill=\"#000000\" stroke=\"#000000\" points=\"2287.57,-293.57 2277.35,-296.36 2287.08,-300.55 2287.57,-293.57\"/>\n",
       "</g>\n",
       "<!-- callgraphX__tile_4_7&#45;&gt;callgraphX__tile_4_8 -->\n",
       "<g id=\"edge170\" class=\"edge\">\n",
       "<title>callgraphX__tile_4_7&#45;&gt;callgraphX__tile_4_8</title>\n",
       "<path fill=\"none\" stroke=\"#000000\" d=\"M2211.15,-286.44C2211.15,-278.95 2211.15,-270.59 2211.15,-262.54\"/>\n",
       "<polygon fill=\"#000000\" stroke=\"#000000\" points=\"2214.65,-262.61 2211.15,-252.61 2207.65,-262.61 2214.65,-262.61\"/>\n",
       "</g>\n",
       "<!-- callgraphX__tile_4_7&#45;&gt;callgraphX__tile_5_7 -->\n",
       "<g id=\"edge169\" class=\"edge\">\n",
       "<title>callgraphX__tile_4_7&#45;&gt;callgraphX__tile_5_7</title>\n",
       "<path fill=\"none\" stroke=\"#000000\" d=\"M2258.47,-291.16C2290.47,-278.38 2333.08,-261.93 2368.24,-248.75\"/>\n",
       "<polygon fill=\"#000000\" stroke=\"#000000\" points=\"2369.32,-252.08 2377.47,-245.31 2366.88,-245.53 2369.32,-252.08\"/>\n",
       "</g>\n",
       "<!-- callgraphX__tile_4_8&#45;&gt;callgraphX__print_maze -->\n",
       "<g id=\"edge173\" class=\"edge\">\n",
       "<title>callgraphX__tile_4_8&#45;&gt;callgraphX__print_maze</title>\n",
       "<path fill=\"none\" stroke=\"#000000\" d=\"M2150.96,-207.03C2140.4,-204.27 2129.48,-201.56 2119.15,-199.24 2031.46,-179.52 1993.74,-214.85 1920.15,-163.24 1898.43,-148 1911.79,-126.98 1890.15,-111.62 1853.34,-85.48 1736.82,-68.06 1656.31,-58.8\"/>\n",
       "<polygon fill=\"#000000\" stroke=\"#000000\" points=\"1657.03,-55.36 1646.71,-57.71 1656.25,-62.31 1657.03,-55.36\"/>\n",
       "</g>\n",
       "<!-- callgraphX__tile_5_0&#45;&gt;callgraphX__print_maze -->\n",
       "<g id=\"edge174\" class=\"edge\">\n",
       "<title>callgraphX__tile_5_0&#45;&gt;callgraphX__print_maze</title>\n",
       "<path fill=\"none\" stroke=\"#000000\" d=\"M2552.15,-1688.32C2552.15,-1654.59 2552.15,-1592.96 2552.15,-1540.33 2552.15,-1540.33 2552.15,-1540.33 2552.15,-311.67 2552.15,-286.58 2559.09,-217.73 2542.15,-199.24 2480.56,-131.99 2410.56,-221.2 2340.15,-163.24 2321.16,-147.6 2339.87,-126.34 2320.15,-111.62 2268.2,-72.83 1843.38,-57.55 1659.48,-52.71\"/>\n",
       "<polygon fill=\"#000000\" stroke=\"#000000\" points=\"1659.59,-49.21 1649.5,-52.45 1659.41,-56.2 1659.59,-49.21\"/>\n",
       "</g>\n",
       "<!-- callgraphX__tile_5_1&#45;&gt;callgraphX__print_maze -->\n",
       "<g id=\"edge180\" class=\"edge\">\n",
       "<title>callgraphX__tile_5_1&#45;&gt;callgraphX__print_maze</title>\n",
       "<path fill=\"none\" stroke=\"#000000\" d=\"M518.69,-1784.62C532.87,-1781.36 547.96,-1778.35 562.15,-1776.38 650.39,-1764.08 1294.5,-1797.15 1363.15,-1740.38 1579.08,-1561.8 1447.01,-1400.28 1509.15,-1127.04 1531.82,-1027.36 1598.46,-988.61 1547.15,-900.19 1530.97,-872.3 1503.08,-890.3 1484.15,-864.19 1437.49,-799.81 1461.11,-767.4 1448.15,-688.95 1409.99,-457.97 1420.82,-397.28 1415.15,-163.24 1414.6,-140.3 1402.13,-130.5 1415.15,-111.62 1433.48,-85.04 1465.08,-70.07 1495.37,-61.64\"/>\n",
       "<polygon fill=\"#000000\" stroke=\"#000000\" points=\"1496.16,-65.05 1504.98,-59.19 1494.43,-58.27 1496.16,-65.05\"/>\n",
       "</g>\n",
       "<!-- callgraphX__tile_5_1&#45;&gt;callgraphX__tile_4_1 -->\n",
       "<g id=\"edge177\" class=\"edge\">\n",
       "<title>callgraphX__tile_5_1&#45;&gt;callgraphX__tile_4_1</title>\n",
       "<path fill=\"none\" stroke=\"#000000\" d=\"M440.37,-1827.75C432.35,-1837 422.52,-1847.65 412.99,-1857.44\"/>\n",
       "<polygon fill=\"#000000\" stroke=\"#000000\" points=\"410.71,-1854.76 406.17,-1864.33 415.69,-1859.69 410.71,-1854.76\"/>\n",
       "</g>\n",
       "<!-- callgraphX__tile_5_1&#45;&gt;callgraphX__tile_5_0 -->\n",
       "<g id=\"edge176\" class=\"edge\">\n",
       "<title>callgraphX__tile_5_1&#45;&gt;callgraphX__tile_5_0</title>\n",
       "<path fill=\"none\" stroke=\"#000000\" d=\"M513.13,-1782.84C523.04,-1780.23 533.33,-1777.91 543.15,-1776.38 819.26,-1733.31 1520.84,-1748.98 1800.15,-1740.38 2037.55,-1733.06 2317.08,-1723.62 2459.13,-1718.77\"/>\n",
       "<polygon fill=\"#000000\" stroke=\"#000000\" points=\"2458.98,-1722.27 2468.85,-1718.43 2458.74,-1715.28 2458.98,-1722.27\"/>\n",
       "</g>\n",
       "<!-- callgraphX__tile_5_1&#45;&gt;callgraphX__tile_5_1 -->\n",
       "<g id=\"edge175\" class=\"edge\">\n",
       "<title>callgraphX__tile_5_1&#45;&gt;callgraphX__tile_5_1</title>\n",
       "<path fill=\"none\" stroke=\"#000000\" d=\"M521.84,-1818.6C541.83,-1818.27 557.53,-1812.8 557.53,-1802.19 557.53,-1793.65 547.36,-1788.44 532.97,-1786.56\"/>\n",
       "<polygon fill=\"#000000\" stroke=\"#000000\" points=\"533.57,-1783.09 523.35,-1785.88 533.08,-1790.07 533.57,-1783.09\"/>\n",
       "</g>\n",
       "<!-- callgraphX__tile_5_1&#45;&gt;callgraphX__tile_5_2 -->\n",
       "<g id=\"edge179\" class=\"edge\">\n",
       "<title>callgraphX__tile_5_1&#45;&gt;callgraphX__tile_5_2</title>\n",
       "<path fill=\"none\" stroke=\"#000000\" d=\"M520.41,-1785.28C536.83,-1781.74 554.57,-1778.43 571.15,-1776.38 692.84,-1761.28 1560.95,-1787.51 1674.15,-1740.38 1757.85,-1705.53 1828.23,-1621.48 1862.94,-1574.16\"/>\n",
       "<polygon fill=\"#000000\" stroke=\"#000000\" points=\"1865.7,-1576.32 1868.71,-1566.16 1860.02,-1572.22 1865.7,-1576.32\"/>\n",
       "</g>\n",
       "<!-- callgraphX__tile_5_1&#45;&gt;callgraphX__tile_6_1 -->\n",
       "<g id=\"edge178\" class=\"edge\">\n",
       "<title>callgraphX__tile_5_1&#45;&gt;callgraphX__tile_6_1</title>\n",
       "<path fill=\"none\" stroke=\"#000000\" d=\"M517.35,-1784.15C531.91,-1781.07 547.48,-1778.25 562.15,-1776.38 958.36,-1725.71 1065,-1798.68 1460.15,-1740.38 1470.39,-1738.87 1481.11,-1736.7 1491.65,-1734.26\"/>\n",
       "<polygon fill=\"#000000\" stroke=\"#000000\" points=\"1492.15,-1737.74 1501.05,-1732 1490.51,-1730.93 1492.15,-1737.74\"/>\n",
       "</g>\n",
       "<!-- callgraphX__tile_5_2&#45;&gt;callgraphX__print_maze -->\n",
       "<g id=\"edge181\" class=\"edge\">\n",
       "<title>callgraphX__tile_5_2&#45;&gt;callgraphX__print_maze</title>\n",
       "<path fill=\"none\" stroke=\"#000000\" d=\"M1905.97,-1513.9C1929.95,-1481.79 1967.15,-1422.7 1967.15,-1365.09 1967.15,-1365.09 1967.15,-1365.09 1967.15,-1100.23 1967.15,-919.55 2142.79,-942.99 2213.15,-776.57 2232.83,-730.02 2230.15,-714.68 2230.15,-664.14 2230.15,-664.14 2230.15,-664.14 2230.15,-486.9 2230.15,-435.81 2242.71,-410.17 2206.15,-374.48 2144.34,-314.13 2082.03,-393.15 2015.15,-338.48 1995.98,-322.8 2013.51,-302.31 1994.15,-286.86 1917.06,-225.32 1848.41,-316.9 1775.15,-250.86 1751.33,-229.38 1758.76,-135.32 1737.15,-111.62 1715.07,-87.39 1682.39,-72.77 1652.15,-63.97\"/>\n",
       "<polygon fill=\"#000000\" stroke=\"#000000\" points=\"1653.17,-60.62 1642.61,-61.38 1651.34,-67.38 1653.17,-60.62\"/>\n",
       "</g>\n",
       "<!-- callgraphX__tile_5_3&#45;&gt;callgraphX__print_maze -->\n",
       "<g id=\"edge182\" class=\"edge\">\n",
       "<title>callgraphX__tile_5_3&#45;&gt;callgraphX__print_maze</title>\n",
       "<path fill=\"none\" stroke=\"#000000\" d=\"M1423.27,-900.72C1398.67,-873.03 1360.61,-825.26 1342.15,-776.57 1310.46,-692.98 1305.82,-460.78 1329.15,-374.48 1333.99,-356.59 1344.15,-356 1350.15,-338.48 1383.09,-242.25 1314.63,-189.41 1380.15,-111.62 1407.66,-78.96 1452.42,-63.57 1492.13,-56.43\"/>\n",
       "<polygon fill=\"#000000\" stroke=\"#000000\" points=\"1492.64,-59.89 1501.95,-54.83 1491.52,-52.99 1492.64,-59.89\"/>\n",
       "</g>\n",
       "<!-- callgraphX__tile_5_4&#45;&gt;callgraphX__print_maze -->\n",
       "<g id=\"edge183\" class=\"edge\">\n",
       "<title>callgraphX__tile_5_4&#45;&gt;callgraphX__print_maze</title>\n",
       "<path fill=\"none\" stroke=\"#000000\" d=\"M1748.02,-989.38C1696.62,-949.65 1596.92,-872.13 1591.15,-864.19 1554.51,-813.76 1509.37,-661.52 1493.15,-601.33 1446.66,-428.78 1477.91,-377.29 1493.15,-199.24 1496.49,-160.28 1482.85,-146.18 1501.15,-111.62 1507.78,-99.1 1518.2,-88.17 1529.15,-79.17\"/>\n",
       "<polygon fill=\"#000000\" stroke=\"#000000\" points=\"1530.99,-82.17 1536.78,-73.29 1526.72,-76.62 1530.99,-82.17\"/>\n",
       "</g>\n",
       "<!-- callgraphX__tile_5_5&#45;&gt;callgraphX__print_maze -->\n",
       "<g id=\"edge189\" class=\"edge\">\n",
       "<title>callgraphX__tile_5_5&#45;&gt;callgraphX__print_maze</title>\n",
       "<path fill=\"none\" stroke=\"#000000\" d=\"M2163.34,-1255.33C2146.55,-1245.65 2129.56,-1232.26 2120.15,-1214.66 2109.34,-1194.43 2107.83,-1182.4 2120.15,-1163.04 2140.43,-1131.17 2171.63,-1154.9 2197.15,-1127.04 2261.09,-1057.26 2270.15,-1021.64 2270.15,-927 2270.15,-927 2270.15,-927 2270.15,-574.52 2270.15,-551.96 2251.07,-390.47 2235.15,-374.48 2171.44,-310.46 2104.83,-395.94 2035.15,-338.48 2016.17,-322.82 2034.25,-302.37 2015.15,-286.86 1938.94,-224.92 1867.55,-319.32 1797.15,-250.86 1751.96,-206.91 1812.19,-158.59 1770.15,-111.62 1741.79,-79.92 1697.2,-64.58 1657.81,-57.22\"/>\n",
       "<polygon fill=\"#000000\" stroke=\"#000000\" points=\"1658.53,-53.8 1648.08,-55.57 1657.35,-60.7 1658.53,-53.8\"/>\n",
       "</g>\n",
       "<!-- callgraphX__tile_5_5&#45;&gt;callgraphX__tile_4_5 -->\n",
       "<g id=\"edge185\" class=\"edge\">\n",
       "<title>callgraphX__tile_5_5&#45;&gt;callgraphX__tile_4_5</title>\n",
       "<path fill=\"none\" stroke=\"#000000\" d=\"M2204.94,-1250.25C2204.45,-1242.76 2204.3,-1234.4 2204.47,-1226.34\"/>\n",
       "<polygon fill=\"#000000\" stroke=\"#000000\" points=\"2207.96,-1226.55 2204.88,-1216.41 2200.97,-1226.26 2207.96,-1226.55\"/>\n",
       "</g>\n",
       "<!-- callgraphX__tile_5_5&#45;&gt;callgraphX__tile_5_4 -->\n",
       "<g id=\"edge184\" class=\"edge\">\n",
       "<title>callgraphX__tile_5_5&#45;&gt;callgraphX__tile_5_4</title>\n",
       "<path fill=\"none\" stroke=\"#000000\" d=\"M2172.23,-1253.49C2152.13,-1242.05 2127.24,-1227.75 2105.15,-1214.66 2004.07,-1154.76 1886.88,-1082.34 1823.88,-1043.15\"/>\n",
       "<polygon fill=\"#000000\" stroke=\"#000000\" points=\"1825.87,-1040.27 1815.53,-1037.95 1822.17,-1046.21 1825.87,-1040.27\"/>\n",
       "</g>\n",
       "<!-- callgraphX__tile_5_5&#45;&gt;callgraphX__tile_5_5 -->\n",
       "<g id=\"edge188\" class=\"edge\">\n",
       "<title>callgraphX__tile_5_5&#45;&gt;callgraphX__tile_5_5</title>\n",
       "<path fill=\"none\" stroke=\"#000000\" d=\"M2275.84,-1292.89C2295.83,-1292.55 2311.53,-1287.08 2311.53,-1276.47 2311.53,-1267.93 2301.36,-1262.72 2286.97,-1260.84\"/>\n",
       "<polygon fill=\"#000000\" stroke=\"#000000\" points=\"2287.57,-1257.38 2277.35,-1260.17 2287.08,-1264.36 2287.57,-1257.38\"/>\n",
       "</g>\n",
       "<!-- callgraphX__tile_5_5&#45;&gt;callgraphX__tile_5_6 -->\n",
       "<g id=\"edge186\" class=\"edge\">\n",
       "<title>callgraphX__tile_5_5&#45;&gt;callgraphX__tile_5_6</title>\n",
       "<path fill=\"none\" stroke=\"#000000\" d=\"M2266.69,-1257.16C2286.82,-1247.67 2307.65,-1233.93 2320.15,-1214.66 2347.45,-1172.57 2330.15,-1152.4 2330.15,-1102.23 2330.15,-1102.23 2330.15,-1102.23 2330.15,-837.38 2330.15,-670.35 2360.89,-628.78 2350.15,-462.09 2346.37,-403.32 2356.3,-242.34 2316.15,-199.24 2261.14,-140.18 2216.71,-181.75 2138.15,-163.24 2131.39,-161.64 2124.37,-159.9 2117.36,-158.11\"/>\n",
       "<polygon fill=\"#000000\" stroke=\"#000000\" points=\"2118.41,-154.77 2107.85,-155.64 2116.65,-161.54 2118.41,-154.77\"/>\n",
       "</g>\n",
       "<!-- callgraphX__tile_5_5&#45;&gt;callgraphX__tile_6_5 -->\n",
       "<g id=\"edge187\" class=\"edge\">\n",
       "<title>callgraphX__tile_5_5&#45;&gt;callgraphX__tile_6_5</title>\n",
       "<path fill=\"none\" stroke=\"#000000\" d=\"M2217.36,-1302.52C2217.84,-1309.99 2218,-1318.35 2217.84,-1326.41\"/>\n",
       "<polygon fill=\"#000000\" stroke=\"#000000\" points=\"2214.34,-1326.22 2217.43,-1336.35 2221.34,-1326.51 2214.34,-1326.22\"/>\n",
       "</g>\n",
       "<!-- callgraphX__tile_5_6&#45;&gt;callgraphX__print_maze -->\n",
       "<g id=\"edge190\" class=\"edge\">\n",
       "<title>callgraphX__tile_5_6&#45;&gt;callgraphX__print_maze</title>\n",
       "<path fill=\"none\" stroke=\"#000000\" d=\"M1985.15,-119.76C1973.57,-116.86 1961.52,-114 1950.15,-111.62 1848.54,-90.3 1730.1,-72.2 1653.94,-61.43\"/>\n",
       "<polygon fill=\"#000000\" stroke=\"#000000\" points=\"1654.45,-57.97 1644.06,-60.04 1653.47,-64.9 1654.45,-57.97\"/>\n",
       "</g>\n",
       "<!-- callgraphX__tile_5_7&#45;&gt;callgraphX__print_maze -->\n",
       "<g id=\"edge194\" class=\"edge\">\n",
       "<title>callgraphX__tile_5_7&#45;&gt;callgraphX__print_maze</title>\n",
       "<path fill=\"none\" stroke=\"#000000\" d=\"M2368.05,-208.79C2351.52,-205.28 2333.74,-201.83 2317.15,-199.24 2237.28,-186.76 2021.44,-209.51 1955.15,-163.24 1934.25,-148.65 1950.53,-126.94 1930.15,-111.62 1888.27,-80.13 1749.1,-63.81 1657.96,-56.29\"/>\n",
       "<polygon fill=\"#000000\" stroke=\"#000000\" points=\"1658.29,-52.81 1648.04,-55.5 1657.73,-59.79 1658.29,-52.81\"/>\n",
       "</g>\n",
       "<!-- callgraphX__tile_5_7&#45;&gt;callgraphX__tile_4_7 -->\n",
       "<g id=\"edge195\" class=\"edge\">\n",
       "<title>callgraphX__tile_5_7&#45;&gt;callgraphX__tile_4_7</title>\n",
       "<path fill=\"none\" stroke=\"#000000\" d=\"M2385.75,-246.59C2353.79,-259.35 2311.3,-275.76 2276.2,-288.91\"/>\n",
       "<polygon fill=\"#000000\" stroke=\"#000000\" points=\"2275.13,-285.57 2266.99,-292.35 2277.58,-292.13 2275.13,-285.57\"/>\n",
       "</g>\n",
       "<!-- callgraphX__tile_5_7&#45;&gt;callgraphX__tile_5_6 -->\n",
       "<g id=\"edge193\" class=\"edge\">\n",
       "<title>callgraphX__tile_5_7&#45;&gt;callgraphX__tile_5_6</title>\n",
       "<path fill=\"none\" stroke=\"#000000\" d=\"M2371.86,-207.49C2360.36,-204.59 2348.42,-201.71 2337.15,-199.24 2249.36,-179.98 2225.84,-182.96 2138.15,-163.24 2131.37,-161.71 2124.34,-160.02 2117.32,-158.26\"/>\n",
       "<polygon fill=\"#000000\" stroke=\"#000000\" points=\"2118.37,-154.91 2107.81,-155.82 2116.63,-161.69 2118.37,-154.91\"/>\n",
       "</g>\n",
       "<!-- callgraphX__tile_5_7&#45;&gt;callgraphX__tile_5_7 -->\n",
       "<g id=\"edge192\" class=\"edge\">\n",
       "<title>callgraphX__tile_5_7&#45;&gt;callgraphX__tile_5_7</title>\n",
       "<path fill=\"none\" stroke=\"#000000\" d=\"M2497.84,-241.46C2517.83,-241.13 2533.53,-235.66 2533.53,-225.05 2533.53,-216.51 2523.36,-211.3 2508.97,-209.42\"/>\n",
       "<polygon fill=\"#000000\" stroke=\"#000000\" points=\"2509.57,-205.95 2499.35,-208.74 2509.08,-212.93 2509.57,-205.95\"/>\n",
       "</g>\n",
       "<!-- callgraphX__tile_5_7&#45;&gt;callgraphX__tile_5_8 -->\n",
       "<g id=\"edge191\" class=\"edge\">\n",
       "<title>callgraphX__tile_5_7&#45;&gt;callgraphX__tile_5_8</title>\n",
       "<path fill=\"none\" stroke=\"#000000\" d=\"M2384.81,-203.76C2355.82,-191.59 2318.76,-176.04 2288.07,-163.16\"/>\n",
       "<polygon fill=\"#000000\" stroke=\"#000000\" points=\"2289.47,-159.95 2278.9,-159.31 2286.76,-166.4 2289.47,-159.95\"/>\n",
       "</g>\n",
       "<!-- callgraphX__tile_5_7&#45;&gt;callgraphX__tile_6_7 -->\n",
       "<g id=\"edge196\" class=\"edge\">\n",
       "<title>callgraphX__tile_5_7&#45;&gt;callgraphX__tile_6_7</title>\n",
       "<path fill=\"none\" stroke=\"#000000\" d=\"M2432.56,-198.82C2432.39,-191.33 2432.19,-182.97 2432,-174.92\"/>\n",
       "<polygon fill=\"#000000\" stroke=\"#000000\" points=\"2435.5,-174.9 2431.77,-164.99 2428.51,-175.07 2435.5,-174.9\"/>\n",
       "</g>\n",
       "<!-- callgraphX__tile_5_8&#45;&gt;callgraphX__print_maze -->\n",
       "<g id=\"edge197\" class=\"edge\">\n",
       "<title>callgraphX__tile_5_8&#45;&gt;callgraphX__print_maze</title>\n",
       "<path fill=\"none\" stroke=\"#000000\" d=\"M2170.08,-119.04C2159.2,-116.26 2147.88,-113.63 2137.15,-111.62 1968.54,-79.96 1768.14,-63.18 1657.99,-55.73\"/>\n",
       "<polygon fill=\"#000000\" stroke=\"#000000\" points=\"1658.37,-52.24 1648.16,-55.07 1657.9,-59.23 1658.37,-52.24\"/>\n",
       "</g>\n",
       "<!-- callgraphX__tile_6_0&#45;&gt;callgraphX__print_maze -->\n",
       "<g id=\"edge198\" class=\"edge\">\n",
       "<title>callgraphX__tile_6_0&#45;&gt;callgraphX__print_maze</title>\n",
       "<path fill=\"none\" stroke=\"#000000\" d=\"M1134.38,-1426.66C1126,-1416.2 1117.49,-1403.29 1113.15,-1389.9 1106.08,-1368.07 1106.9,-1360.36 1113.15,-1338.28 1130.9,-1275.58 1283.61,-1126.51 1243.15,-1075.43 1199.78,-1020.66 1157,-1059.7 1090.15,-1039.43 1027.49,-1020.42 1013.63,-1010.37 952.15,-987.81 907.81,-971.53 881,-989.21 852.15,-951.81 821.51,-912.08 842.15,-889.54 842.15,-839.38 842.15,-839.38 842.15,-839.38 842.15,-662.14 842.15,-611.46 852.3,-591.17 823.15,-549.71 804.38,-523.02 776.86,-541.13 759.15,-513.71 731.93,-471.58 749.15,-451.45 749.15,-401.28 749.15,-401.28 749.15,-401.28 749.15,-224.05 749.15,-144.59 814.49,-141.4 888.15,-111.62 995.47,-68.23 1332.6,-55.69 1491.16,-52.16\"/>\n",
       "<polygon fill=\"#000000\" stroke=\"#000000\" points=\"1490.83,-55.66 1500.75,-51.95 1490.68,-48.67 1490.83,-55.66\"/>\n",
       "</g>\n",
       "<!-- callgraphX__tile_6_1&#45;&gt;callgraphX__print_maze -->\n",
       "<g id=\"edge204\" class=\"edge\">\n",
       "<title>callgraphX__tile_6_1&#45;&gt;callgraphX__print_maze</title>\n",
       "<path fill=\"none\" stroke=\"#000000\" d=\"M1554.44,-1688.61C1550.35,-1677.8 1546.18,-1664.87 1544.15,-1652.76 1540.35,-1630.13 1543.66,-1624.07 1544.15,-1601.14 1550.38,-1312.35 1565.93,-1240.6 1572.15,-951.81 1572.65,-928.87 1583.8,-919.95 1572.15,-900.19 1555.39,-871.74 1527.7,-890.04 1507.15,-864.19 1481.96,-832.48 1492,-815.85 1482.15,-776.57 1425.05,-548.92 1438.51,-485.47 1432.15,-250.86 1430.48,-188.96 1401.86,-162.5 1437.15,-111.62 1452.23,-89.88 1476.9,-75.83 1501.25,-66.78\"/>\n",
       "<polygon fill=\"#000000\" stroke=\"#000000\" points=\"1502.25,-70.14 1510.57,-63.58 1499.98,-63.52 1502.25,-70.14\"/>\n",
       "</g>\n",
       "<!-- callgraphX__tile_6_1&#45;&gt;callgraphX__tile_5_1 -->\n",
       "<g id=\"edge199\" class=\"edge\">\n",
       "<title>callgraphX__tile_6_1&#45;&gt;callgraphX__tile_5_1</title>\n",
       "<path fill=\"none\" stroke=\"#000000\" d=\"M1509.87,-1734.15C1499.43,-1736.63 1488.54,-1738.84 1478.15,-1740.38 1083,-1798.68 976.36,-1725.71 580.15,-1776.38 565.36,-1778.27 549.64,-1781.12 534.55,-1784.23\"/>\n",
       "<polygon fill=\"#000000\" stroke=\"#000000\" points=\"534.23,-1780.72 525.17,-1786.22 535.68,-1787.57 534.23,-1780.72\"/>\n",
       "</g>\n",
       "<!-- callgraphX__tile_6_1&#45;&gt;callgraphX__tile_6_0 -->\n",
       "<g id=\"edge203\" class=\"edge\">\n",
       "<title>callgraphX__tile_6_1&#45;&gt;callgraphX__tile_6_0</title>\n",
       "<path fill=\"none\" stroke=\"#000000\" d=\"M1529.66,-1690.87C1455.42,-1643.41 1283.86,-1533.72 1202.08,-1481.43\"/>\n",
       "<polygon fill=\"#000000\" stroke=\"#000000\" points=\"1204.15,-1478.6 1193.84,-1476.17 1200.38,-1484.5 1204.15,-1478.6\"/>\n",
       "</g>\n",
       "<!-- callgraphX__tile_6_1&#45;&gt;callgraphX__tile_6_1 -->\n",
       "<g id=\"edge201\" class=\"edge\">\n",
       "<title>callgraphX__tile_6_1&#45;&gt;callgraphX__tile_6_1</title>\n",
       "<path fill=\"none\" stroke=\"#000000\" d=\"M1629.84,-1730.98C1649.83,-1730.65 1665.53,-1725.18 1665.53,-1714.57 1665.53,-1706.03 1655.36,-1700.82 1640.97,-1698.94\"/>\n",
       "<polygon fill=\"#000000\" stroke=\"#000000\" points=\"1641.57,-1695.47 1631.35,-1698.26 1641.08,-1702.45 1641.57,-1695.47\"/>\n",
       "</g>\n",
       "<!-- callgraphX__tile_6_1&#45;&gt;callgraphX__tile_6_2 -->\n",
       "<g id=\"edge200\" class=\"edge\">\n",
       "<title>callgraphX__tile_6_1&#45;&gt;callgraphX__tile_6_2</title>\n",
       "<path fill=\"none\" stroke=\"#000000\" d=\"M1579.21,-1688.8C1585.92,-1679.88 1594.13,-1669.67 1602.21,-1660.2\"/>\n",
       "<polygon fill=\"#000000\" stroke=\"#000000\" points=\"1604.63,-1662.76 1608.56,-1652.91 1599.35,-1658.16 1604.63,-1662.76\"/>\n",
       "</g>\n",
       "<!-- callgraphX__tile_6_1&#45;&gt;callgraphX__tile_7_1 -->\n",
       "<g id=\"edge202\" class=\"edge\">\n",
       "<title>callgraphX__tile_6_1&#45;&gt;callgraphX__tile_7_1</title>\n",
       "<path fill=\"none\" stroke=\"#000000\" d=\"M1500.21,-1698.46C1436.78,-1683.7 1340.28,-1661.25 1273.28,-1645.66\"/>\n",
       "<polygon fill=\"#000000\" stroke=\"#000000\" points=\"1274.38,-1642.32 1263.85,-1643.47 1272.79,-1649.14 1274.38,-1642.32\"/>\n",
       "</g>\n",
       "<!-- callgraphX__tile_6_2&#45;&gt;callgraphX__print_maze -->\n",
       "<g id=\"edge209\" class=\"edge\">\n",
       "<title>callgraphX__tile_6_2&#45;&gt;callgraphX__print_maze</title>\n",
       "<path fill=\"none\" stroke=\"#000000\" d=\"M1614.5,-1601.47C1606.77,-1590.95 1598.75,-1578.1 1594.15,-1565.14 1577.38,-1517.86 1584.15,-1502.88 1584.15,-1452.71 1584.15,-1452.71 1584.15,-1452.71 1584.15,-1275.47 1584.15,-1131.58 1590.37,-1095.69 1592.15,-951.81 1592.44,-928.87 1603.3,-920.24 1592.15,-900.19 1577.4,-873.67 1552.93,-888.02 1534.15,-864.19 1508.85,-832.08 1487.42,-728.77 1478.15,-688.95 1442.75,-536.85 1454.04,-494.64 1453.15,-338.48 1452.58,-237.51 1409,-195.53 1465.15,-111.62 1476.52,-94.63 1494.29,-81.94 1512.26,-72.67\"/>\n",
       "<polygon fill=\"#000000\" stroke=\"#000000\" points=\"1513.37,-76.01 1520.86,-68.52 1510.33,-69.71 1513.37,-76.01\"/>\n",
       "</g>\n",
       "<!-- callgraphX__tile_6_2&#45;&gt;callgraphX__tile_5_2 -->\n",
       "<g id=\"edge208\" class=\"edge\">\n",
       "<title>callgraphX__tile_6_2&#45;&gt;callgraphX__tile_5_2</title>\n",
       "<path fill=\"none\" stroke=\"#000000\" d=\"M1689.92,-1607.26C1728.37,-1594.15 1779.98,-1576.55 1820.61,-1562.68\"/>\n",
       "<polygon fill=\"#000000\" stroke=\"#000000\" points=\"1821.73,-1566 1830.06,-1559.46 1819.47,-1559.38 1821.73,-1566\"/>\n",
       "</g>\n",
       "<!-- callgraphX__tile_6_2&#45;&gt;callgraphX__tile_6_1 -->\n",
       "<g id=\"edge207\" class=\"edge\">\n",
       "<title>callgraphX__tile_6_2&#45;&gt;callgraphX__tile_6_1</title>\n",
       "<path fill=\"none\" stroke=\"#000000\" d=\"M1620.98,-1652.86C1614.36,-1661.67 1606.28,-1671.7 1598.32,-1681.04\"/>\n",
       "<polygon fill=\"#000000\" stroke=\"#000000\" points=\"1595.69,-1678.73 1591.77,-1688.57 1600.97,-1683.32 1595.69,-1678.73\"/>\n",
       "</g>\n",
       "<!-- callgraphX__tile_6_2&#45;&gt;callgraphX__tile_6_2 -->\n",
       "<g id=\"edge205\" class=\"edge\">\n",
       "<title>callgraphX__tile_6_2&#45;&gt;callgraphX__tile_6_2</title>\n",
       "<path fill=\"none\" stroke=\"#000000\" d=\"M1699.84,-1643.36C1719.83,-1643.03 1735.53,-1637.56 1735.53,-1626.95 1735.53,-1618.41 1725.36,-1613.2 1710.97,-1611.32\"/>\n",
       "<polygon fill=\"#000000\" stroke=\"#000000\" points=\"1711.57,-1607.85 1701.35,-1610.64 1711.08,-1614.83 1711.57,-1607.85\"/>\n",
       "</g>\n",
       "<!-- callgraphX__tile_6_2&#45;&gt;callgraphX__tile_6_3 -->\n",
       "<g id=\"edge210\" class=\"edge\">\n",
       "<title>callgraphX__tile_6_2&#45;&gt;callgraphX__tile_6_3</title>\n",
       "<path fill=\"none\" stroke=\"#000000\" d=\"M1643.43,-1601.18C1647.78,-1592.77 1653.22,-1583.22 1658.75,-1574.21\"/>\n",
       "<polygon fill=\"#000000\" stroke=\"#000000\" points=\"1661.54,-1576.34 1663.92,-1566.02 1655.62,-1572.6 1661.54,-1576.34\"/>\n",
       "</g>\n",
       "<!-- callgraphX__tile_6_2&#45;&gt;callgraphX__tile_7_2 -->\n",
       "<g id=\"edge206\" class=\"edge\">\n",
       "<title>callgraphX__tile_6_2&#45;&gt;callgraphX__tile_7_2</title>\n",
       "<path fill=\"none\" stroke=\"#000000\" d=\"M1599.15,-1603.48C1523.22,-1556.1 1346.79,-1446 1262.96,-1393.68\"/>\n",
       "<polygon fill=\"#000000\" stroke=\"#000000\" points=\"1264.83,-1390.72 1254.5,-1388.4 1261.13,-1396.66 1264.83,-1390.72\"/>\n",
       "</g>\n",
       "<!-- callgraphX__tile_6_3&#45;&gt;callgraphX__print_maze -->\n",
       "<g id=\"edge215\" class=\"edge\">\n",
       "<title>callgraphX__tile_6_3&#45;&gt;callgraphX__print_maze</title>\n",
       "<path fill=\"none\" stroke=\"#000000\" d=\"M1748.73,-1522.55C1820.43,-1500.5 1927.15,-1452.93 1927.15,-1365.09 1927.15,-1365.09 1927.15,-1365.09 1927.15,-1187.85 1927.15,-1097.59 1924.07,-1069.64 1962.15,-987.81 2005.05,-895.64 2026.7,-872.03 2109.15,-812.57 2144.43,-787.13 2174.13,-811.42 2200.15,-776.57 2230.17,-736.37 2210.15,-714.31 2210.15,-664.14 2210.15,-664.14 2210.15,-664.14 2210.15,-486.9 2210.15,-436.07 2224.94,-410.57 2189.15,-374.48 2130.48,-315.3 2074.04,-385.36 2005.15,-338.48 1982.64,-323.15 1994.85,-301.89 1972.15,-286.86 1892.48,-234.07 1830.75,-315.27 1760.15,-250.86 1712.85,-207.7 1765.39,-159.74 1723.15,-111.62 1703.99,-89.78 1675.78,-75.64 1649.11,-66.55\"/>\n",
       "<polygon fill=\"#000000\" stroke=\"#000000\" points=\"1650.24,-63.23 1639.65,-63.53 1648.11,-69.9 1650.24,-63.23\"/>\n",
       "</g>\n",
       "<!-- callgraphX__tile_6_3&#45;&gt;callgraphX__tile_5_3 -->\n",
       "<g id=\"edge213\" class=\"edge\">\n",
       "<title>callgraphX__tile_6_3&#45;&gt;callgraphX__tile_5_3</title>\n",
       "<path fill=\"none\" stroke=\"#000000\" d=\"M1644.79,-1516.46C1627.91,-1506.09 1608.85,-1492.64 1594.15,-1477.52 1500.79,-1381.45 1504.15,-1323.82 1504.15,-1189.85 1504.15,-1189.85 1504.15,-1189.85 1504.15,-1100.23 1504.15,-1050.07 1512.69,-1034.42 1494.15,-987.81 1490.21,-977.89 1484.1,-968.29 1477.55,-959.75\"/>\n",
       "<polygon fill=\"#000000\" stroke=\"#000000\" points=\"1480.35,-957.64 1471.31,-952.11 1474.93,-962.07 1480.35,-957.64\"/>\n",
       "</g>\n",
       "<!-- callgraphX__tile_6_3&#45;&gt;callgraphX__tile_6_2 -->\n",
       "<g id=\"edge212\" class=\"edge\">\n",
       "<title>callgraphX__tile_6_3&#45;&gt;callgraphX__tile_6_2</title>\n",
       "<path fill=\"none\" stroke=\"#000000\" d=\"M1676.77,-1565.29C1672.46,-1573.61 1667.1,-1583.03 1661.65,-1591.92\"/>\n",
       "<polygon fill=\"#000000\" stroke=\"#000000\" points=\"1658.69,-1590.04 1656.31,-1600.36 1664.61,-1593.78 1658.69,-1590.04\"/>\n",
       "</g>\n",
       "<!-- callgraphX__tile_6_3&#45;&gt;callgraphX__tile_6_3 -->\n",
       "<g id=\"edge216\" class=\"edge\">\n",
       "<title>callgraphX__tile_6_3&#45;&gt;callgraphX__tile_6_3</title>\n",
       "<path fill=\"none\" stroke=\"#000000\" d=\"M1749.84,-1555.74C1769.83,-1555.41 1785.53,-1549.94 1785.53,-1539.33 1785.53,-1530.79 1775.36,-1525.58 1760.97,-1523.7\"/>\n",
       "<polygon fill=\"#000000\" stroke=\"#000000\" points=\"1761.57,-1520.23 1751.35,-1523.02 1761.08,-1527.21 1761.57,-1520.23\"/>\n",
       "</g>\n",
       "<!-- callgraphX__tile_6_3&#45;&gt;callgraphX__tile_6_4 -->\n",
       "<g id=\"edge214\" class=\"edge\">\n",
       "<title>callgraphX__tile_6_3&#45;&gt;callgraphX__tile_6_4</title>\n",
       "<path fill=\"none\" stroke=\"#000000\" d=\"M1678.94,-1513.1C1678.45,-1505.61 1678.3,-1497.25 1678.47,-1489.2\"/>\n",
       "<polygon fill=\"#000000\" stroke=\"#000000\" points=\"1681.96,-1489.41 1678.88,-1479.27 1674.97,-1489.11 1681.96,-1489.41\"/>\n",
       "</g>\n",
       "<!-- callgraphX__tile_6_3&#45;&gt;callgraphX__tile_7_3 -->\n",
       "<g id=\"edge211\" class=\"edge\">\n",
       "<title>callgraphX__tile_6_3&#45;&gt;callgraphX__tile_7_3</title>\n",
       "<path fill=\"none\" stroke=\"#000000\" d=\"M1750.13,-1523.1C1822.13,-1506.11 1928.65,-1480.6 1932.15,-1477.52 1950.63,-1461.27 1932.56,-1440.78 1952.15,-1425.9 2017.6,-1376.22 2240.27,-1409.17 2320.15,-1389.9 2423.27,-1365.03 2459.37,-1368.6 2542.15,-1302.28 2563.78,-1284.95 2558.34,-1271.02 2577.15,-1250.66 2587.39,-1239.59 2599.72,-1228.84 2611.45,-1219.54\"/>\n",
       "<polygon fill=\"#000000\" stroke=\"#000000\" points=\"2613.29,-1222.55 2619.06,-1213.66 2609.01,-1217.01 2613.29,-1222.55\"/>\n",
       "</g>\n",
       "<!-- callgraphX__tile_6_4&#45;&gt;callgraphX__print_maze -->\n",
       "<g id=\"edge220\" class=\"edge\">\n",
       "<title>callgraphX__tile_6_4&#45;&gt;callgraphX__print_maze</title>\n",
       "<path fill=\"none\" stroke=\"#000000\" d=\"M1668.95,-1425.94C1625.75,-1361.4 1501.63,-1185.42 1363.15,-1075.43 1336.07,-1053.91 1321.32,-1060.83 1294.15,-1039.43 1270.25,-1020.59 1274.48,-1004.68 1249.15,-987.81 1207.05,-959.75 1170.74,-992.85 1141.15,-951.81 1126.04,-930.84 1148.92,-822.74 1154.15,-812.57 1190.33,-742.24 1247.38,-759.98 1282.15,-688.95 1313.06,-625.82 1299.49,-442.76 1316.15,-374.48 1320.22,-357.8 1326.25,-355.19 1330.15,-338.48 1341.66,-289.19 1317.65,-150.41 1350.15,-111.62 1369.15,-88.94 1439.88,-72.33 1497.03,-62.25\"/>\n",
       "<polygon fill=\"#000000\" stroke=\"#000000\" points=\"1497.5,-65.72 1506.76,-60.58 1496.32,-58.82 1497.5,-65.72\"/>\n",
       "</g>\n",
       "<!-- callgraphX__tile_6_4&#45;&gt;callgraphX__tile_5_4 -->\n",
       "<g id=\"edge217\" class=\"edge\">\n",
       "<title>callgraphX__tile_6_4&#45;&gt;callgraphX__tile_5_4</title>\n",
       "<path fill=\"none\" stroke=\"#000000\" d=\"M1708.14,-1426.51C1735.68,-1394.88 1778.15,-1336.53 1778.15,-1277.47 1778.15,-1277.47 1778.15,-1277.47 1778.15,-1187.85 1778.15,-1140.57 1778.15,-1086.02 1778.15,-1050.96\"/>\n",
       "<polygon fill=\"#000000\" stroke=\"#000000\" points=\"1781.65,-1051.38 1778.15,-1041.38 1774.65,-1051.38 1781.65,-1051.38\"/>\n",
       "</g>\n",
       "<!-- callgraphX__tile_6_4&#45;&gt;callgraphX__tile_6_3 -->\n",
       "<g id=\"edge221\" class=\"edge\">\n",
       "<title>callgraphX__tile_6_4&#45;&gt;callgraphX__tile_6_3</title>\n",
       "<path fill=\"none\" stroke=\"#000000\" d=\"M1691.36,-1477.76C1691.84,-1485.23 1692,-1493.59 1691.84,-1501.64\"/>\n",
       "<polygon fill=\"#000000\" stroke=\"#000000\" points=\"1688.34,-1501.46 1691.43,-1511.59 1695.34,-1501.74 1688.34,-1501.46\"/>\n",
       "</g>\n",
       "<!-- callgraphX__tile_6_4&#45;&gt;callgraphX__tile_6_4 -->\n",
       "<g id=\"edge219\" class=\"edge\">\n",
       "<title>callgraphX__tile_6_4&#45;&gt;callgraphX__tile_6_4</title>\n",
       "<path fill=\"none\" stroke=\"#000000\" d=\"M1749.84,-1468.12C1769.83,-1467.79 1785.53,-1462.32 1785.53,-1451.71 1785.53,-1443.17 1775.36,-1437.96 1760.97,-1436.08\"/>\n",
       "<polygon fill=\"#000000\" stroke=\"#000000\" points=\"1761.57,-1432.61 1751.35,-1435.4 1761.08,-1439.6 1761.57,-1432.61\"/>\n",
       "</g>\n",
       "<!-- callgraphX__tile_6_4&#45;&gt;callgraphX__tile_6_5 -->\n",
       "<g id=\"edge218\" class=\"edge\">\n",
       "<title>callgraphX__tile_6_4&#45;&gt;callgraphX__tile_6_5</title>\n",
       "<path fill=\"none\" stroke=\"#000000\" d=\"M1756.43,-1438.31C1852.68,-1422.25 2023.79,-1394.39 2126.47,-1378.06\"/>\n",
       "<polygon fill=\"#000000\" stroke=\"#000000\" points=\"2126.9,-1381.54 2136.23,-1376.51 2125.8,-1374.62 2126.9,-1381.54\"/>\n",
       "</g>\n",
       "<!-- callgraphX__tile_6_4&#45;&gt;callgraphX__tile_7_4 -->\n",
       "<g id=\"edge222\" class=\"edge\">\n",
       "<title>callgraphX__tile_6_4&#45;&gt;callgraphX__tile_7_4</title>\n",
       "<path fill=\"none\" stroke=\"#000000\" d=\"M1631.43,-1431.69C1603.24,-1420.89 1568.54,-1406.26 1539.15,-1389.9 1395.98,-1310.21 1242.76,-1189.38 1174.12,-1133.1\"/>\n",
       "<polygon fill=\"#000000\" stroke=\"#000000\" points=\"1176.51,-1130.53 1166.56,-1126.88 1172.06,-1135.94 1176.51,-1130.53\"/>\n",
       "</g>\n",
       "<!-- callgraphX__tile_6_5&#45;&gt;callgraphX__print_maze -->\n",
       "<g id=\"edge228\" class=\"edge\">\n",
       "<title>callgraphX__tile_6_5&#45;&gt;callgraphX__print_maze</title>\n",
       "<path fill=\"none\" stroke=\"#000000\" d=\"M2152.01,-1345.77C2085.64,-1322.26 1987.15,-1273.31 1987.15,-1189.85 1987.15,-1189.85 1987.15,-1189.85 1987.15,-1100.23 1987.15,-992.82 1637.18,-903.16 1606.15,-864.19 1574.63,-824.6 1556.62,-678.43 1586.15,-637.33 1615.43,-596.59 1651.7,-629.61 1693.15,-601.33 1792.4,-533.63 1919.18,-464.97 1840.15,-374.48 1761.97,-284.95 1654.61,-426.88 1575.15,-338.48 1542.8,-302.48 1559.43,-156.14 1569.42,-87.14\"/>\n",
       "<polygon fill=\"#000000\" stroke=\"#000000\" points=\"1572.85,-87.88 1570.86,-77.48 1565.93,-86.85 1572.85,-87.88\"/>\n",
       "</g>\n",
       "<!-- callgraphX__tile_6_5&#45;&gt;callgraphX__tile_5_5 -->\n",
       "<g id=\"edge226\" class=\"edge\">\n",
       "<title>callgraphX__tile_6_5&#45;&gt;callgraphX__tile_5_5</title>\n",
       "<path fill=\"none\" stroke=\"#000000\" d=\"M2204.94,-1337.87C2204.45,-1330.38 2204.3,-1322.02 2204.47,-1313.96\"/>\n",
       "<polygon fill=\"#000000\" stroke=\"#000000\" points=\"2207.96,-1314.17 2204.88,-1304.03 2200.97,-1313.87 2207.96,-1314.17\"/>\n",
       "</g>\n",
       "<!-- callgraphX__tile_6_5&#45;&gt;callgraphX__tile_6_4 -->\n",
       "<g id=\"edge227\" class=\"edge\">\n",
       "<title>callgraphX__tile_6_5&#45;&gt;callgraphX__tile_6_4</title>\n",
       "<path fill=\"none\" stroke=\"#000000\" d=\"M2139.96,-1377.48C2043.66,-1393.55 1872.31,-1421.44 1769.62,-1437.77\"/>\n",
       "<polygon fill=\"#000000\" stroke=\"#000000\" points=\"1769.19,-1434.3 1759.87,-1439.32 1770.29,-1441.21 1769.19,-1434.3\"/>\n",
       "</g>\n",
       "<!-- callgraphX__tile_6_5&#45;&gt;callgraphX__tile_6_5 -->\n",
       "<g id=\"edge224\" class=\"edge\">\n",
       "<title>callgraphX__tile_6_5&#45;&gt;callgraphX__tile_6_5</title>\n",
       "<path fill=\"none\" stroke=\"#000000\" d=\"M2275.84,-1380.5C2295.83,-1380.17 2311.53,-1374.7 2311.53,-1364.09 2311.53,-1355.55 2301.36,-1350.34 2286.97,-1348.46\"/>\n",
       "<polygon fill=\"#000000\" stroke=\"#000000\" points=\"2287.57,-1344.99 2277.35,-1347.78 2287.08,-1351.98 2287.57,-1344.99\"/>\n",
       "</g>\n",
       "<!-- callgraphX__tile_6_5&#45;&gt;callgraphX__tile_6_6 -->\n",
       "<g id=\"edge223\" class=\"edge\">\n",
       "<title>callgraphX__tile_6_5&#45;&gt;callgraphX__tile_6_6</title>\n",
       "<path fill=\"none\" stroke=\"#000000\" d=\"M2261.59,-1343.28C2281.81,-1333.38 2304.07,-1319.73 2320.15,-1302.28 2389.36,-1227.19 2427.17,-1109.26 2442.66,-1050.45\"/>\n",
       "<polygon fill=\"#000000\" stroke=\"#000000\" points=\"2446,-1051.53 2445.09,-1040.98 2439.22,-1049.8 2446,-1051.53\"/>\n",
       "</g>\n",
       "<!-- callgraphX__tile_6_5&#45;&gt;callgraphX__tile_7_5 -->\n",
       "<g id=\"edge225\" class=\"edge\">\n",
       "<title>callgraphX__tile_6_5&#45;&gt;callgraphX__tile_7_5</title>\n",
       "<path fill=\"none\" stroke=\"#000000\" d=\"M2264.42,-1344.09C2300.77,-1331.12 2349.11,-1313.88 2387.49,-1300.18\"/>\n",
       "<polygon fill=\"#000000\" stroke=\"#000000\" points=\"2388.37,-1303.59 2396.61,-1296.93 2386.02,-1296.99 2388.37,-1303.59\"/>\n",
       "</g>\n",
       "<!-- callgraphX__tile_6_6&#45;&gt;callgraphX__print_maze -->\n",
       "<g id=\"edge229\" class=\"edge\">\n",
       "<title>callgraphX__tile_6_6&#45;&gt;callgraphX__print_maze</title>\n",
       "<path fill=\"none\" stroke=\"#000000\" d=\"M2431.34,-988.18C2407.36,-956.08 2370.15,-896.98 2370.15,-839.38 2370.15,-839.38 2370.15,-839.38 2370.15,-749.76 2370.15,-579.67 2418.18,-491.93 2295.15,-374.48 2229.83,-312.11 2164.83,-395.94 2095.15,-338.48 2076.17,-322.82 2094.06,-302.6 2075.15,-286.86 2009.1,-231.87 1951.49,-305.5 1885.15,-250.86 1852.78,-224.2 1865.5,-202.26 1850.15,-163.24 1841.14,-140.34 1848.69,-127.8 1830.15,-111.62 1804.02,-88.81 1718.6,-71.6 1653.76,-61.41\"/>\n",
       "<polygon fill=\"#000000\" stroke=\"#000000\" points=\"1654.64,-58.01 1644.22,-59.95 1653.58,-64.93 1654.64,-58.01\"/>\n",
       "</g>\n",
       "<!-- callgraphX__tile_6_7&#45;&gt;callgraphX__print_maze -->\n",
       "<g id=\"edge230\" class=\"edge\">\n",
       "<title>callgraphX__tile_6_7&#45;&gt;callgraphX__print_maze</title>\n",
       "<path fill=\"none\" stroke=\"#000000\" d=\"M2371.32,-119.27C2359.42,-116.33 2346.95,-113.6 2335.15,-111.62 2091.76,-70.75 1799.76,-57.15 1659.06,-52.79\"/>\n",
       "<polygon fill=\"#000000\" stroke=\"#000000\" points=\"1659.58,-49.3 1649.48,-52.5 1659.37,-56.3 1659.58,-49.3\"/>\n",
       "</g>\n",
       "<!-- callgraphX__tile_6_8&#45;&gt;callgraphX__print_maze -->\n",
       "<g id=\"edge231\" class=\"edge\">\n",
       "<title>callgraphX__tile_6_8&#45;&gt;callgraphX__print_maze</title>\n",
       "<path fill=\"none\" stroke=\"#000000\" d=\"M2573.61,-119.17C2561.62,-116.23 2549.05,-113.51 2537.15,-111.62 2216.03,-60.45 1828.16,-51.92 1659.87,-50.79\"/>\n",
       "<polygon fill=\"#000000\" stroke=\"#000000\" points=\"1659.92,-47.29 1649.9,-50.73 1659.87,-54.29 1659.92,-47.29\"/>\n",
       "</g>\n",
       "<!-- callgraphX__tile_7_0&#45;&gt;callgraphX__print_maze -->\n",
       "<g id=\"edge232\" class=\"edge\">\n",
       "<title>callgraphX__tile_7_0&#45;&gt;callgraphX__print_maze</title>\n",
       "<path fill=\"none\" stroke=\"#000000\" d=\"M2758.15,-118.81C2746.96,-115.97 2735.26,-113.39 2724.15,-111.62 2518.89,-78.89 1888.02,-59.19 1659.18,-52.96\"/>\n",
       "<polygon fill=\"#000000\" stroke=\"#000000\" points=\"1659.54,-49.47 1649.45,-52.7 1659.35,-56.47 1659.54,-49.47\"/>\n",
       "</g>\n",
       "<!-- callgraphX__tile_7_1&#45;&gt;callgraphX__print_maze -->\n",
       "<g id=\"edge233\" class=\"edge\">\n",
       "<title>callgraphX__tile_7_1&#45;&gt;callgraphX__print_maze</title>\n",
       "<path fill=\"none\" stroke=\"#000000\" d=\"M1212.38,-1601.23C1237.27,-1559.45 1286.1,-1471.43 1308.15,-1389.9 1321.25,-1341.48 1318.15,-1327.64 1318.15,-1277.47 1318.15,-1277.47 1318.15,-1277.47 1318.15,-1187.85 1318.15,-1136.57 1324,-1115.63 1292.15,-1075.43 1269.69,-1047.07 1247.7,-1061.65 1219.15,-1039.43 1195.37,-1020.91 1199.83,-1005.12 1175.15,-987.81 1137.85,-961.63 1109.57,-985.74 1079.15,-951.81 1044.09,-912.69 983.15,-541.43 983.15,-488.9 983.15,-488.9 983.15,-488.9 983.15,-224.05 983.15,-199.03 971.91,-129.75 989.15,-111.62 1023.09,-75.94 1337.51,-59.53 1491.27,-53.59\"/>\n",
       "<polygon fill=\"#000000\" stroke=\"#000000\" points=\"1491.13,-57.1 1500.99,-53.22 1490.87,-50.1 1491.13,-57.1\"/>\n",
       "</g>\n",
       "<!-- callgraphX__tile_7_2&#45;&gt;callgraphX__print_maze -->\n",
       "<g id=\"edge234\" class=\"edge\">\n",
       "<title>callgraphX__tile_7_2&#45;&gt;callgraphX__print_maze</title>\n",
       "<path fill=\"none\" stroke=\"#000000\" d=\"M1233.55,-1338.58C1266.44,-1286.03 1332.84,-1160.44 1278.15,-1075.43 1257.28,-1042.97 1231.57,-1060.35 1199.15,-1039.43 1169.88,-1020.53 1169.51,-1006.56 1140.15,-987.81 1106.95,-966.6 1085.3,-981.27 1059.15,-951.81 1032.11,-921.33 1014.28,-816.28 1005.15,-776.57 987.5,-699.77 989.36,-679.33 978.15,-601.33 970.98,-551.43 963.15,-539.31 963.15,-488.9 963.15,-488.9 963.15,-488.9 963.15,-224.05 963.15,-173.64 941.96,-146.71 978.15,-111.62 1014.25,-76.62 1335.38,-59.83 1491.14,-53.68\"/>\n",
       "<polygon fill=\"#000000\" stroke=\"#000000\" points=\"1491.15,-57.19 1501.01,-53.3 1490.88,-50.19 1491.15,-57.19\"/>\n",
       "</g>\n",
       "<!-- callgraphX__tile_7_3&#45;&gt;callgraphX__print_maze -->\n",
       "<g id=\"edge235\" class=\"edge\">\n",
       "<title>callgraphX__tile_7_3&#45;&gt;callgraphX__print_maze</title>\n",
       "<path fill=\"none\" stroke=\"#000000\" d=\"M2613.41,-1165.85C2599.42,-1155.93 2585.19,-1142.86 2577.15,-1127.04 2554.49,-1082.46 2572.15,-1064.63 2572.15,-1014.62 2572.15,-1014.62 2572.15,-1014.62 2572.15,-311.67 2572.15,-261.25 2570.29,-247.91 2557.15,-199.24 2552.63,-182.5 2548.62,-179.32 2542.15,-163.24 2532.98,-140.41 2541.99,-126.17 2522.15,-111.62 2453.54,-61.32 1879.14,-52.6 1659.81,-51.11\"/>\n",
       "<polygon fill=\"#000000\" stroke=\"#000000\" points=\"1659.92,-47.61 1649.9,-51.05 1659.88,-54.61 1659.92,-47.61\"/>\n",
       "</g>\n",
       "<!-- callgraphX__tile_7_4&#45;&gt;callgraphX__print_maze -->\n",
       "<g id=\"edge236\" class=\"edge\">\n",
       "<title>callgraphX__tile_7_4&#45;&gt;callgraphX__print_maze</title>\n",
       "<path fill=\"none\" stroke=\"#000000\" d=\"M1076.34,-1083.49C1028.45,-1069.89 965.94,-1051.12 942.15,-1039.43 911.71,-1024.46 834.17,-981.15 817.15,-951.81 772.13,-874.19 826.72,-626.42 780.15,-549.71 764.8,-524.42 740.02,-538.69 724.15,-513.71 697.12,-471.16 709.15,-451.7 709.15,-401.28 709.15,-401.28 709.15,-401.28 709.15,-224.05 709.15,-173.64 687.43,-146.16 724.15,-111.62 779.18,-59.86 1286.99,-51.98 1490.94,-50.91\"/>\n",
       "<polygon fill=\"#000000\" stroke=\"#000000\" points=\"1490.68,-54.41 1500.67,-50.86 1490.65,-47.41 1490.68,-54.41\"/>\n",
       "</g>\n",
       "<!-- callgraphX__tile_7_5&#45;&gt;callgraphX__print_maze -->\n",
       "<g id=\"edge237\" class=\"edge\">\n",
       "<title>callgraphX__tile_7_5&#45;&gt;callgraphX__print_maze</title>\n",
       "<path fill=\"none\" stroke=\"#000000\" d=\"M2426.19,-1251.64C2396.28,-1220.4 2350.15,-1162.46 2350.15,-1102.23 2350.15,-1102.23 2350.15,-1102.23 2350.15,-837.38 2350.15,-785.2 2308.83,-410.57 2271.15,-374.48 2207.2,-313.2 2143.38,-394.95 2075.15,-338.48 2056.2,-322.79 2074.13,-302.51 2055.15,-286.86 1985.47,-229.39 1924.48,-308.75 1855.15,-250.86 1804.45,-208.52 1852.07,-156.01 1803.15,-111.62 1764.04,-76.12 1706.51,-60.96 1659.02,-54.65\"/>\n",
       "<polygon fill=\"#000000\" stroke=\"#000000\" points=\"1659.65,-51.2 1649.31,-53.48 1658.82,-58.15 1659.65,-51.2\"/>\n",
       "</g>\n",
       "<!-- callgraphX__tile_7_6&#45;&gt;callgraphX__print_maze -->\n",
       "<g id=\"edge238\" class=\"edge\">\n",
       "<title>callgraphX__tile_7_6&#45;&gt;callgraphX__print_maze</title>\n",
       "<path fill=\"none\" stroke=\"#000000\" d=\"M2941.16,-118.74C2929.97,-115.91 2918.27,-113.35 2907.15,-111.62 2665.13,-73.92 1913.02,-57 1659.54,-52.26\"/>\n",
       "<polygon fill=\"#000000\" stroke=\"#000000\" points=\"1659.78,-48.76 1649.72,-52.08 1659.65,-55.76 1659.78,-48.76\"/>\n",
       "</g>\n",
       "<!-- callgraphX__tile_7_7&#45;&gt;callgraphX__print_maze -->\n",
       "<g id=\"edge239\" class=\"edge\">\n",
       "<title>callgraphX__tile_7_7&#45;&gt;callgraphX__print_maze</title>\n",
       "<path fill=\"none\" stroke=\"#000000\" d=\"M3124.17,-118.69C3112.98,-115.87 3101.27,-113.32 3090.15,-111.62 2810.88,-68.91 1934.83,-55.07 1659.1,-51.71\"/>\n",
       "<polygon fill=\"#000000\" stroke=\"#000000\" points=\"1659.54,-48.22 1649.5,-51.6 1659.46,-55.22 1659.54,-48.22\"/>\n",
       "</g>\n",
       "<!-- callgraphX__tile_7_8&#45;&gt;callgraphX__print_maze -->\n",
       "<g id=\"edge240\" class=\"edge\">\n",
       "<title>callgraphX__tile_7_8&#45;&gt;callgraphX__print_maze</title>\n",
       "<path fill=\"none\" stroke=\"#000000\" d=\"M3307.17,-118.65C3295.98,-115.83 3284.28,-113.3 3273.15,-111.62 2956.73,-63.93 1957.04,-53.4 1659.5,-51.29\"/>\n",
       "<polygon fill=\"#000000\" stroke=\"#000000\" points=\"1659.91,-47.8 1649.88,-51.23 1659.86,-54.8 1659.91,-47.8\"/>\n",
       "</g>\n",
       "</g>\n",
       "</svg>\n"
      ],
      "text/plain": [
       "<graphviz.sources.Source at 0x10b081ac0>"
      ]
     },
     "execution_count": 65,
     "metadata": {},
     "output_type": "execute_result"
    }
   ],
   "source": [
    "callgraph(maze_code)"
   ]
  },
  {
   "cell_type": "markdown",
   "metadata": {
    "slideshow": {
     "slide_type": "subslide"
    }
   },
   "source": [
    "### A First Attempt\n",
    "\n",
    "We introduce a `DictMutator` class which mutates strings by inserting a keyword from a given dictionary:"
   ]
  },
  {
   "cell_type": "code",
   "execution_count": 66,
   "metadata": {
    "execution": {
     "iopub.execute_input": "2025-01-16T09:39:03.304930Z",
     "iopub.status.busy": "2025-01-16T09:39:03.304776Z",
     "iopub.status.idle": "2025-01-16T09:39:03.308074Z",
     "shell.execute_reply": "2025-01-16T09:39:03.307721Z"
    },
    "slideshow": {
     "slide_type": "subslide"
    }
   },
   "outputs": [],
   "source": [
    "class DictMutator(Mutator):\n",
    "    \"\"\"Variant of `Mutator` inserting keywords from a dictionary\"\"\"\n",
    "\n",
    "    def __init__(self, dictionary: Sequence[str]) -> None:\n",
    "        \"\"\"Constructor.\n",
    "        `dictionary` - a list of strings that can be used as keywords\n",
    "        \"\"\"\n",
    "        super().__init__()\n",
    "        self.dictionary = dictionary\n",
    "        self.mutators.append(self.insert_from_dictionary)\n",
    "\n",
    "    def insert_from_dictionary(self, s: str) -> str:\n",
    "        \"\"\"Returns `s` with a keyword from the dictionary inserted\"\"\"\n",
    "        pos = random.randint(0, len(s))\n",
    "        random_keyword = random.choice(self.dictionary)\n",
    "        return s[:pos] + random_keyword + s[pos:]"
   ]
  },
  {
   "cell_type": "markdown",
   "metadata": {
    "slideshow": {
     "slide_type": "subslide"
    }
   },
   "source": [
    "To fuzz the maze, we extend the `DictMutator` class to append dictionary keywords to the end of the seed and to remove a character from the end of the seed."
   ]
  },
  {
   "cell_type": "code",
   "execution_count": 67,
   "metadata": {
    "execution": {
     "iopub.execute_input": "2025-01-16T09:39:03.310030Z",
     "iopub.status.busy": "2025-01-16T09:39:03.309919Z",
     "iopub.status.idle": "2025-01-16T09:39:03.312787Z",
     "shell.execute_reply": "2025-01-16T09:39:03.312506Z"
    },
    "slideshow": {
     "slide_type": "subslide"
    }
   },
   "outputs": [],
   "source": [
    "class MazeMutator(DictMutator):\n",
    "    def __init__(self, dictionary: Sequence[str]) -> None:\n",
    "        super().__init__(dictionary)\n",
    "        self.mutators.append(self.delete_last_character)\n",
    "        self.mutators.append(self.append_from_dictionary)\n",
    "\n",
    "    def append_from_dictionary(self, s: str) -> str:\n",
    "        \"\"\"Returns s with a keyword from the dictionary appended\"\"\"\n",
    "        random_keyword = random.choice(self.dictionary)\n",
    "        return s + random_keyword\n",
    "\n",
    "    def delete_last_character(self, s: str) -> str:\n",
    "        \"\"\"Returns s without the last character\"\"\"\n",
    "        if len(s) > 0:\n",
    "            return s[:-1]\n",
    "        return s"
   ]
  },
  {
   "cell_type": "markdown",
   "metadata": {
    "slideshow": {
     "slide_type": "subslide"
    }
   },
   "source": [
    "Let's try a standard greybox fuzzer with the classic power schedule and our extended maze mutator (n=20k)."
   ]
  },
  {
   "cell_type": "code",
   "execution_count": 68,
   "metadata": {
    "execution": {
     "iopub.execute_input": "2025-01-16T09:39:03.314510Z",
     "iopub.status.busy": "2025-01-16T09:39:03.314390Z",
     "iopub.status.idle": "2025-01-16T09:39:11.589597Z",
     "shell.execute_reply": "2025-01-16T09:39:11.589239Z"
    },
    "slideshow": {
     "slide_type": "fragment"
    }
   },
   "outputs": [
    {
     "data": {
      "text/plain": [
       "'It took the fuzzer 8.27 seconds to generate and execute 20000 inputs.'"
      ]
     },
     "execution_count": 68,
     "metadata": {},
     "output_type": "execute_result"
    }
   ],
   "source": [
    "n = 20000\n",
    "seed_input = \" \"  # empty seed\n",
    "\n",
    "maze_mutator = MazeMutator([\"L\", \"R\", \"U\", \"D\"])\n",
    "maze_schedule = PowerSchedule()\n",
    "maze_fuzzer = GreyboxFuzzer([seed_input], maze_mutator, maze_schedule)\n",
    "\n",
    "start = time.time()\n",
    "maze_fuzzer.runs(FunctionCoverageRunner(maze), trials=n)\n",
    "end = time.time()\n",
    "\n",
    "\"It took the fuzzer %0.2f seconds to generate and execute %d inputs.\" % (end - start, n)"
   ]
  },
  {
   "cell_type": "markdown",
   "metadata": {
    "slideshow": {
     "slide_type": "subslide"
    }
   },
   "source": [
    "We will need to print statistics for several fuzzers. Why don't we define a function for that?"
   ]
  },
  {
   "cell_type": "code",
   "execution_count": 69,
   "metadata": {
    "execution": {
     "iopub.execute_input": "2025-01-16T09:39:11.591532Z",
     "iopub.status.busy": "2025-01-16T09:39:11.591408Z",
     "iopub.status.idle": "2025-01-16T09:39:11.593916Z",
     "shell.execute_reply": "2025-01-16T09:39:11.593632Z"
    },
    "slideshow": {
     "slide_type": "subslide"
    }
   },
   "outputs": [],
   "source": [
    "def print_stats(fuzzer: GreyboxFuzzer) -> None:\n",
    "    total = len(fuzzer.population)\n",
    "    solved = 0\n",
    "    invalid = 0\n",
    "    valid = 0\n",
    "    for seed in fuzzer.population:\n",
    "        s = maze(str(seed.data))\n",
    "        if \"INVALID\" in s:\n",
    "            invalid += 1\n",
    "        elif \"VALID\" in s:\n",
    "            valid += 1\n",
    "        elif \"SOLVED\" in s:\n",
    "            solved += 1\n",
    "            if solved == 1:\n",
    "                print(\"First solution: %s\" % repr(seed))\n",
    "        else:\n",
    "            print(\"??\")\n",
    "\n",
    "    print(\"\"\"Out of %d seeds,\n",
    "* %4d solved the maze,\n",
    "* %4d were valid but did not solve the maze, and\n",
    "* %4d were invalid\"\"\" % (total, solved, valid, invalid))"
   ]
  },
  {
   "cell_type": "markdown",
   "metadata": {
    "slideshow": {
     "slide_type": "subslide"
    }
   },
   "source": [
    "How well does our good, old greybox fuzzer do?"
   ]
  },
  {
   "cell_type": "code",
   "execution_count": 70,
   "metadata": {
    "execution": {
     "iopub.execute_input": "2025-01-16T09:39:11.595606Z",
     "iopub.status.busy": "2025-01-16T09:39:11.595488Z",
     "iopub.status.idle": "2025-01-16T09:39:11.605360Z",
     "shell.execute_reply": "2025-01-16T09:39:11.605095Z"
    },
    "slideshow": {
     "slide_type": "fragment"
    }
   },
   "outputs": [
    {
     "name": "stdout",
     "output_type": "stream",
     "text": [
      "Out of 1275 seeds,\n",
      "*    0 solved the maze,\n",
      "*  319 were valid but did not solve the maze, and\n",
      "*  956 were invalid\n"
     ]
    }
   ],
   "source": [
    "print_stats(maze_fuzzer)"
   ]
  },
  {
   "cell_type": "markdown",
   "metadata": {
    "slideshow": {
     "slide_type": "subslide"
    }
   },
   "source": [
    "It probably didn't solve the maze a single time. How can we make the fuzzer aware how \"far\" a seed is from reaching the target? If we know that, we can just assign more energy to that seed.\n",
    "\n",
    "***Try it***. Print the statistics for the boosted fuzzer using the `AFLFastSchedule` and the `CountingGreyboxFuzzer`. It will likely perform much better than the unboosted greybox fuzzer: The lowest-probablity path happens to be also the path which reaches the target. You can execute your own code by opening this chapter as Jupyter notebook."
   ]
  },
  {
   "cell_type": "markdown",
   "metadata": {
    "slideshow": {
     "slide_type": "subslide"
    }
   },
   "source": [
    "### Computing Function-Level Distance\n",
    "\n",
    "Using the static call graph for the maze code and the target function, we can compute the distance of each function $f$ to the target $t$ as the length of the shortest path between $f$ and $t$.\n",
    "\n",
    "Fortunately, the generated maze code includes a function called `target_tile` which returns the name of the target-function."
   ]
  },
  {
   "cell_type": "code",
   "execution_count": 71,
   "metadata": {
    "execution": {
     "iopub.execute_input": "2025-01-16T09:39:11.606886Z",
     "iopub.status.busy": "2025-01-16T09:39:11.606798Z",
     "iopub.status.idle": "2025-01-16T09:39:11.609052Z",
     "shell.execute_reply": "2025-01-16T09:39:11.608785Z"
    },
    "slideshow": {
     "slide_type": "fragment"
    }
   },
   "outputs": [
    {
     "data": {
      "text/plain": [
       "'tile_6_7'"
      ]
     },
     "execution_count": 71,
     "metadata": {},
     "output_type": "execute_result"
    }
   ],
   "source": [
    "target = target_tile()\n",
    "target"
   ]
  },
  {
   "cell_type": "markdown",
   "metadata": {
    "slideshow": {
     "slide_type": "subslide"
    }
   },
   "source": [
    "Now, we need to find the corresponding function in the call graph. The function `get_callgraph` returns the call graph for the maze code as [networkx](https://networkx.github.io/) graph. Networkx provides some useful functions for graph analysis."
   ]
  },
  {
   "cell_type": "code",
   "execution_count": 72,
   "metadata": {
    "execution": {
     "iopub.execute_input": "2025-01-16T09:39:11.610526Z",
     "iopub.status.busy": "2025-01-16T09:39:11.610422Z",
     "iopub.status.idle": "2025-01-16T09:39:11.611859Z",
     "shell.execute_reply": "2025-01-16T09:39:11.611642Z"
    },
    "slideshow": {
     "slide_type": "skip"
    }
   },
   "outputs": [],
   "source": [
    "import networkx as nx  # type: ignore"
   ]
  },
  {
   "cell_type": "code",
   "execution_count": 73,
   "metadata": {
    "execution": {
     "iopub.execute_input": "2025-01-16T09:39:11.613285Z",
     "iopub.status.busy": "2025-01-16T09:39:11.613200Z",
     "iopub.status.idle": "2025-01-16T09:39:11.614863Z",
     "shell.execute_reply": "2025-01-16T09:39:11.614640Z"
    },
    "slideshow": {
     "slide_type": "skip"
    }
   },
   "outputs": [],
   "source": [
    "from ControlFlow import get_callgraph"
   ]
  },
  {
   "cell_type": "code",
   "execution_count": 74,
   "metadata": {
    "execution": {
     "iopub.execute_input": "2025-01-16T09:39:11.616249Z",
     "iopub.status.busy": "2025-01-16T09:39:11.616170Z",
     "iopub.status.idle": "2025-01-16T09:39:11.807539Z",
     "shell.execute_reply": "2025-01-16T09:39:11.807261Z"
    },
    "slideshow": {
     "slide_type": "fragment"
    }
   },
   "outputs": [],
   "source": [
    "cg = get_callgraph(maze_code)\n",
    "for node in cg.nodes():\n",
    "    if target in node:\n",
    "        target_node = node\n",
    "        break"
   ]
  },
  {
   "cell_type": "code",
   "execution_count": 75,
   "metadata": {
    "execution": {
     "iopub.execute_input": "2025-01-16T09:39:11.809370Z",
     "iopub.status.busy": "2025-01-16T09:39:11.809286Z",
     "iopub.status.idle": "2025-01-16T09:39:11.811431Z",
     "shell.execute_reply": "2025-01-16T09:39:11.811202Z"
    },
    "slideshow": {
     "slide_type": "fragment"
    }
   },
   "outputs": [
    {
     "data": {
      "text/plain": [
       "'callgraphX__tile_6_7'"
      ]
     },
     "execution_count": 75,
     "metadata": {},
     "output_type": "execute_result"
    }
   ],
   "source": [
    "target_node"
   ]
  },
  {
   "cell_type": "markdown",
   "metadata": {
    "slideshow": {
     "slide_type": "subslide"
    }
   },
   "source": [
    "We can now generate the function-level distance. The dictionary `distance` contains for each function the distance to the target-function.  If there is no path to the target, we assign a maximum distance (`0xFFFF`).\n",
    "\n",
    "The function `nx.shortest_path_length(CG, node, target_node)` returns the length of the shortest path from function `node` to function `target_node` in the call graph `CG`."
   ]
  },
  {
   "cell_type": "code",
   "execution_count": 76,
   "metadata": {
    "execution": {
     "iopub.execute_input": "2025-01-16T09:39:11.812950Z",
     "iopub.status.busy": "2025-01-16T09:39:11.812839Z",
     "iopub.status.idle": "2025-01-16T09:39:11.815354Z",
     "shell.execute_reply": "2025-01-16T09:39:11.815122Z"
    },
    "slideshow": {
     "slide_type": "subslide"
    }
   },
   "outputs": [],
   "source": [
    "distance = {}\n",
    "for node in cg.nodes():\n",
    "    if \"__\" in node:\n",
    "        name = node.split(\"__\")[-1]\n",
    "    else:\n",
    "        name = node\n",
    "    try:\n",
    "        distance[name] = nx.shortest_path_length(cg, node, target_node)\n",
    "    except:\n",
    "        distance[name] = 0xFFFF"
   ]
  },
  {
   "cell_type": "markdown",
   "metadata": {
    "slideshow": {
     "slide_type": "fragment"
    }
   },
   "source": [
    "These are the distance values for all tile-functions on the path to the target function."
   ]
  },
  {
   "cell_type": "code",
   "execution_count": 77,
   "metadata": {
    "execution": {
     "iopub.execute_input": "2025-01-16T09:39:11.816777Z",
     "iopub.status.busy": "2025-01-16T09:39:11.816678Z",
     "iopub.status.idle": "2025-01-16T09:39:11.819368Z",
     "shell.execute_reply": "2025-01-16T09:39:11.818806Z"
    },
    "slideshow": {
     "slide_type": "subslide"
    }
   },
   "outputs": [
    {
     "data": {
      "text/plain": [
       "{'callgraphX': 1,\n",
       " 'maze': 23,\n",
       " 'tile_2_1': 22,\n",
       " 'tile_2_3': 8,\n",
       " 'tile_2_4': 7,\n",
       " 'tile_2_5': 6,\n",
       " 'tile_2_6': 5,\n",
       " 'tile_2_7': 4,\n",
       " 'tile_3_1': 21,\n",
       " 'tile_3_3': 9,\n",
       " 'tile_3_7': 3,\n",
       " 'tile_4_1': 20,\n",
       " 'tile_4_3': 10,\n",
       " 'tile_4_4': 11,\n",
       " 'tile_4_5': 12,\n",
       " 'tile_4_7': 2,\n",
       " 'tile_5_1': 19,\n",
       " 'tile_5_5': 13,\n",
       " 'tile_5_7': 1,\n",
       " 'tile_6_1': 18,\n",
       " 'tile_6_2': 17,\n",
       " 'tile_6_3': 16,\n",
       " 'tile_6_4': 15,\n",
       " 'tile_6_5': 14,\n",
       " 'tile_6_7': 0}"
      ]
     },
     "execution_count": 77,
     "metadata": {},
     "output_type": "execute_result"
    }
   ],
   "source": [
    "{k: distance[k] for k in list(distance) if distance[k] < 0xFFFF}"
   ]
  },
  {
   "cell_type": "markdown",
   "metadata": {
    "slideshow": {
     "slide_type": "subslide"
    }
   },
   "source": [
    "***Summary***. Using the static call graph and the target function $t$, we have shown how to compute the function-level distance of each function $f$ to the target $t$.\n",
    "\n",
    "***Try it***. You can try and execute your own code by opening this chapter as Jupyter notebook.\n",
    "\n",
    "* How do we compute distance if there are multiple targets? (Hint: [Geometric Mean](https://en.wikipedia.org/wiki/Geometric_mean)).\n",
    "* Given the call graph (CG) and the control-flow graph (CFG$_f$) for each function $f$, how do we compute basic-block (BB)-level distance? (Hint: In CFG$_f$, measure the BB-level distance to *calls* of functions on the path to the target function. Remember that BB-level distance in functions with higher function-level distance is higher, too.)\n",
    "\n",
    "***Read***. If you are interested in other aspects of search, you can follow up by reading the chapter on [Search-based Fuzzing](SearchBasedFuzzer.ipynb). If you are interested, how to solve the problems above, you can have a look at our paper on \"[Directed Greybox Fuzzing](https://mboehme.github.io/paper/CCS17.pdf)\"."
   ]
  },
  {
   "cell_type": "markdown",
   "metadata": {
    "slideshow": {
     "slide_type": "subslide"
    }
   },
   "source": [
    "### Directed Power Schedule\n",
    "Now that we know how to compute the function-level distance, let's try to implement a power schedule that assigns *more energy to seeds with a lower average distance* to the target function. Notice that the distance values are all *pre-computed*. These values are injected into the program binary, just like the coverage instrumentation. In practice, this makes the computation of the average distance *extremely efficient*.\n",
    "\n",
    "If you really want to know. Given the function-level distance $d_f(s,t)$ of a function $s$ to a function $t$ in call graph $CG$, our directed power schedule computes the seed distance $d(i,t)$ for a seed $i$ to function $t$ as $d(i,t)=\\dfrac{\\sum_{s\\in CG} d_f(s,t)}{|CG|}$ where $|CG|$ is the number of nodes in the call graph $CG$."
   ]
  },
  {
   "cell_type": "code",
   "execution_count": 78,
   "metadata": {
    "execution": {
     "iopub.execute_input": "2025-01-16T09:39:11.821641Z",
     "iopub.status.busy": "2025-01-16T09:39:11.821504Z",
     "iopub.status.idle": "2025-01-16T09:39:11.824797Z",
     "shell.execute_reply": "2025-01-16T09:39:11.824365Z"
    },
    "slideshow": {
     "slide_type": "subslide"
    }
   },
   "outputs": [],
   "source": [
    "class DirectedSchedule(PowerSchedule):\n",
    "    \"\"\"Assign high energy to seeds close to some target\"\"\"\n",
    "\n",
    "    def __init__(self, distance: Dict[str, int], exponent: float) -> None:\n",
    "        self.distance = distance\n",
    "        self.exponent = exponent\n",
    "\n",
    "    def __getFunctions__(self, coverage: Set[Location]) -> Set[str]:\n",
    "        functions = set()\n",
    "        for f, _ in set(coverage):\n",
    "            functions.add(f)\n",
    "        return functions\n",
    "\n",
    "    def assignEnergy(self, population: Sequence[Seed]) -> None:\n",
    "        \"\"\"Assigns each seed energy inversely proportional\n",
    "           to the average function-level distance to target.\"\"\"\n",
    "        for seed in population:\n",
    "            if seed.distance < 0:\n",
    "                num_dist = 0\n",
    "                sum_dist = 0\n",
    "                for f in self.__getFunctions__(seed.coverage):\n",
    "                    if f in list(self.distance):\n",
    "                        sum_dist += self.distance[f]\n",
    "                        num_dist += 1\n",
    "                seed.distance = sum_dist / num_dist\n",
    "                seed.energy = (1 / seed.distance) ** self.exponent"
   ]
  },
  {
   "cell_type": "markdown",
   "metadata": {
    "slideshow": {
     "slide_type": "subslide"
    }
   },
   "source": [
    "Let's see how the directed schedule performs against the good, old greybox fuzzer."
   ]
  },
  {
   "cell_type": "code",
   "execution_count": 79,
   "metadata": {
    "execution": {
     "iopub.execute_input": "2025-01-16T09:39:11.826601Z",
     "iopub.status.busy": "2025-01-16T09:39:11.826501Z",
     "iopub.status.idle": "2025-01-16T09:39:22.379521Z",
     "shell.execute_reply": "2025-01-16T09:39:22.379252Z"
    },
    "slideshow": {
     "slide_type": "fragment"
    }
   },
   "outputs": [
    {
     "data": {
      "text/plain": [
       "'It took the fuzzer 10.55 seconds to generate and execute 20000 inputs.'"
      ]
     },
     "execution_count": 79,
     "metadata": {},
     "output_type": "execute_result"
    }
   ],
   "source": [
    "directed_schedule = DirectedSchedule(distance, 3)\n",
    "directed_fuzzer = GreyboxFuzzer([seed_input], maze_mutator, directed_schedule)\n",
    "\n",
    "start = time.time()\n",
    "directed_fuzzer.runs(FunctionCoverageRunner(maze), trials=n)\n",
    "end = time.time()\n",
    "\n",
    "\"It took the fuzzer %0.2f seconds to generate and execute %d inputs.\" % (end - start, n)"
   ]
  },
  {
   "cell_type": "code",
   "execution_count": 80,
   "metadata": {
    "execution": {
     "iopub.execute_input": "2025-01-16T09:39:22.381225Z",
     "iopub.status.busy": "2025-01-16T09:39:22.381119Z",
     "iopub.status.idle": "2025-01-16T09:39:22.400033Z",
     "shell.execute_reply": "2025-01-16T09:39:22.399776Z"
    },
    "slideshow": {
     "slide_type": "subslide"
    }
   },
   "outputs": [
    {
     "name": "stdout",
     "output_type": "stream",
     "text": [
      "Out of 2524 seeds,\n",
      "*    0 solved the maze,\n",
      "*  916 were valid but did not solve the maze, and\n",
      "* 1608 were invalid\n"
     ]
    }
   ],
   "source": [
    "print_stats(directed_fuzzer)"
   ]
  },
  {
   "cell_type": "markdown",
   "metadata": {
    "slideshow": {
     "slide_type": "fragment"
    }
   },
   "source": [
    "It probably didn't solve a single maze either, but we have more valid solutions. So, there is definitely progress.\n",
    "\n",
    "Let's have a look at the distance values for each seed."
   ]
  },
  {
   "cell_type": "code",
   "execution_count": 81,
   "metadata": {
    "execution": {
     "iopub.execute_input": "2025-01-16T09:39:22.401759Z",
     "iopub.status.busy": "2025-01-16T09:39:22.401632Z",
     "iopub.status.idle": "2025-01-16T09:39:22.473891Z",
     "shell.execute_reply": "2025-01-16T09:39:22.473504Z"
    },
    "slideshow": {
     "slide_type": "subslide"
    }
   },
   "outputs": [
    {
     "data": {
      "image/png": "[encoded data removed]",
      "text/plain": [
       "<Figure size 640x480 with 1 Axes>"
      ]
     },
     "metadata": {},
     "output_type": "display_data"
    }
   ],
   "source": [
    "y = [seed.distance for seed in directed_fuzzer.population]  # type: ignore\n",
    "x = range(len(y))\n",
    "plt.scatter(x, y)\n",
    "plt.ylim(0, max(y))\n",
    "plt.xlabel(\"Seed ID\")\n",
    "plt.ylabel(\"Distance\");"
   ]
  },
  {
   "cell_type": "markdown",
   "metadata": {
    "slideshow": {
     "slide_type": "fragment"
    }
   },
   "source": [
    "Let's normalize the y-axis and improve the importance of the small distance seeds."
   ]
  },
  {
   "cell_type": "markdown",
   "metadata": {
    "slideshow": {
     "slide_type": "subslide"
    }
   },
   "source": [
    "### Improved Directed Power Schedule\n",
    "\n",
    "The improved directed schedule normalizes seed distance between the minimal and maximal distance.\n",
    "Again, if you really want to know. Given the seed distance $d(i,t)$ of a seed $i$ to a function $t$, our improved power schedule computes the new seed distance $d'(i,t)$ as \n",
    "$$\n",
    "d'(i,t)=\\begin{cases}\n",
    "1 & \\text{if } d(i,t) = \\text{minD} = \\text{maxD}\\\\\n",
    "\\text{maxD} - \\text{minD} & \\text{if } d(i,t) = \\text{minD} \\neq \\text{maxD}\\\\\n",
    "\\frac{\\text{maxD} - \\text{minD}}{d(i,t)-\\text{minD}} & \\text{otherwise}\n",
    "\\end{cases}\n",
    "$$\n",
    "where \n",
    "$$\\text{minD}=\\min_{i\\in T}[d(i,t)]$$\n",
    "and\n",
    "$$\\text{maxD}=\\max_{i\\in T}[d(i,t)]$$\n",
    "where $T$ is the set of seeds (i.e., the population)."
   ]
  },
  {
   "cell_type": "code",
   "execution_count": 82,
   "metadata": {
    "execution": {
     "iopub.execute_input": "2025-01-16T09:39:22.475767Z",
     "iopub.status.busy": "2025-01-16T09:39:22.475646Z",
     "iopub.status.idle": "2025-01-16T09:39:22.479812Z",
     "shell.execute_reply": "2025-01-16T09:39:22.479579Z"
    },
    "slideshow": {
     "slide_type": "subslide"
    }
   },
   "outputs": [],
   "source": [
    "class AFLGoSchedule(DirectedSchedule):\n",
    "    \"\"\"Assign high energy to seeds close to the target\"\"\"\n",
    "\n",
    "    def assignEnergy(self, population: Sequence[Seed]):\n",
    "        \"\"\"Assigns each seed energy inversely proportional\n",
    "           to the average function-level distance to target.\"\"\"\n",
    "        min_dist: Union[int, float] = 0xFFFF\n",
    "        max_dist: Union[int, float] = 0\n",
    "\n",
    "        for seed in population:\n",
    "            if seed.distance < 0:\n",
    "                num_dist = 0\n",
    "                sum_dist = 0\n",
    "                for f in self.__getFunctions__(seed.coverage):\n",
    "                    if f in list(self.distance):\n",
    "                        sum_dist += self.distance[f]\n",
    "                        num_dist += 1\n",
    "                seed.distance = sum_dist / num_dist\n",
    "            if seed.distance < min_dist:\n",
    "                min_dist = seed.distance\n",
    "            if seed.distance > max_dist:\n",
    "                max_dist = seed.distance\n",
    "\n",
    "        for seed in population:\n",
    "            if seed.distance == min_dist:\n",
    "                if min_dist == max_dist:\n",
    "                    seed.energy = 1\n",
    "                else:\n",
    "                    seed.energy = max_dist - min_dist\n",
    "            else:\n",
    "                seed.energy = (max_dist - min_dist) / (seed.distance - min_dist)"
   ]
  },
  {
   "cell_type": "markdown",
   "metadata": {
    "slideshow": {
     "slide_type": "subslide"
    }
   },
   "source": [
    "Let's see how the improved power schedule performs."
   ]
  },
  {
   "cell_type": "code",
   "execution_count": 83,
   "metadata": {
    "execution": {
     "iopub.execute_input": "2025-01-16T09:39:22.481404Z",
     "iopub.status.busy": "2025-01-16T09:39:22.481319Z",
     "iopub.status.idle": "2025-01-16T09:39:38.610714Z",
     "shell.execute_reply": "2025-01-16T09:39:38.610447Z"
    },
    "slideshow": {
     "slide_type": "fragment"
    }
   },
   "outputs": [
    {
     "data": {
      "text/plain": [
       "'It took the fuzzer 16.13 seconds to generate and execute 20000 inputs.'"
      ]
     },
     "execution_count": 83,
     "metadata": {},
     "output_type": "execute_result"
    }
   ],
   "source": [
    "aflgo_schedule = AFLGoSchedule(distance, 3)\n",
    "aflgo_fuzzer = GreyboxFuzzer([seed_input], maze_mutator, aflgo_schedule)\n",
    "\n",
    "start = time.time()\n",
    "aflgo_fuzzer.runs(FunctionCoverageRunner(maze), trials=n)\n",
    "end = time.time()\n",
    "\n",
    "\"It took the fuzzer %0.2f seconds to generate and execute %d inputs.\" % (end - start, n)"
   ]
  },
  {
   "cell_type": "code",
   "execution_count": 84,
   "metadata": {
    "execution": {
     "iopub.execute_input": "2025-01-16T09:39:38.612347Z",
     "iopub.status.busy": "2025-01-16T09:39:38.612244Z",
     "iopub.status.idle": "2025-01-16T09:39:38.646384Z",
     "shell.execute_reply": "2025-01-16T09:39:38.646100Z"
    },
    "slideshow": {
     "slide_type": "subslide"
    }
   },
   "outputs": [
    {
     "name": "stdout",
     "output_type": "stream",
     "text": [
      "First solution: lMDD+D4D\u0010M69WGR>PR?RRq\u0003UUVLJLGUURRRRDDDD\n",
      "Out of 4071 seeds,\n",
      "*  649 solved the maze,\n",
      "*  438 were valid but did not solve the maze, and\n",
      "* 2984 were invalid\n"
     ]
    }
   ],
   "source": [
    "print_stats(aflgo_fuzzer)"
   ]
  },
  {
   "cell_type": "markdown",
   "metadata": {
    "slideshow": {
     "slide_type": "fragment"
    }
   },
   "source": [
    "In contrast to all previous power schedules, this one generates hundreds of solutions. It has generated many solutions. \n",
    "\n",
    "Let's filter out all ignored input characters from the first solution. The function `filter(f, seed.data)` returns a list of elements `e` in `seed.data` where the function `f` applied on `e` returns True."
   ]
  },
  {
   "cell_type": "code",
   "execution_count": 85,
   "metadata": {
    "execution": {
     "iopub.execute_input": "2025-01-16T09:39:38.648153Z",
     "iopub.status.busy": "2025-01-16T09:39:38.648036Z",
     "iopub.status.idle": "2025-01-16T09:39:38.656269Z",
     "shell.execute_reply": "2025-01-16T09:39:38.655989Z"
    },
    "slideshow": {
     "slide_type": "subslide"
    }
   },
   "outputs": [
    {
     "name": "stdout",
     "output_type": "stream",
     "text": [
      "DDDDRRRRUULLUURRRRDDDD\n"
     ]
    }
   ],
   "source": [
    "for seed in aflgo_fuzzer.population:\n",
    "    s = maze(str(seed.data))\n",
    "    if \"SOLVED\" in s:\n",
    "        filtered = \"\".join(list(filter(lambda c: c in \"UDLR\", seed.data)))\n",
    "        print(filtered)\n",
    "        break"
   ]
  },
  {
   "cell_type": "markdown",
   "metadata": {
    "slideshow": {
     "slide_type": "subslide"
    }
   },
   "source": [
    "This is definitely a solution for the maze specified at the beginning!\n",
    "\n",
    "***Summary***. After pre-computing the function-level distance to the target, we can develop a power schedule that assigns more energy to a seed with a smaller average function-level distance to the target. By normalizing seed distance values between the minimum and maximum seed distance, we can further boost the directed power schedule.\n",
    "\n",
    "***Try it***. Implement and evaluate a simpler directed power that uses the minimal (rather than average) function-level distance. What is the downside of using the minimal distance? In order to execute your code, you just need to open this chapter as Jupyter notebook.\n",
    "\n",
    "***Read***. You can find out more about directed greybox fuzzing in the equally-named paper \"[Directed Greybox Fuzzing](https://mboehme.github.io/paper/CCS17.pdf)\" \\cite{boehme2017greybox} and check out the implementation into AFL at [http://github.com/aflgo/aflgo](http://github.com/aflgo/aflgo)."
   ]
  },
  {
   "cell_type": "markdown",
   "metadata": {
    "slideshow": {
     "slide_type": "slide"
    }
   },
   "source": [
    "## Synopsis\n",
    "\n",
    "This chapter introduces advanced methods for grey-box fuzzing inspired by the popular AFL fuzzer. The `GreyboxFuzzer` class has three arguments. First, a list of seed inputs:"
   ]
  },
  {
   "cell_type": "code",
   "execution_count": 86,
   "metadata": {
    "execution": {
     "iopub.execute_input": "2025-01-16T09:39:38.658216Z",
     "iopub.status.busy": "2025-01-16T09:39:38.658080Z",
     "iopub.status.idle": "2025-01-16T09:39:38.659856Z",
     "shell.execute_reply": "2025-01-16T09:39:38.659590Z"
    },
    "slideshow": {
     "slide_type": "fragment"
    }
   },
   "outputs": [],
   "source": [
    "seed_input = \"http://www.google.com/search?q=fuzzing\"\n",
    "seeds = [seed_input]"
   ]
  },
  {
   "cell_type": "markdown",
   "metadata": {
    "slideshow": {
     "slide_type": "fragment"
    }
   },
   "source": [
    "Second, a _mutator_ that changes individual parts of the input."
   ]
  },
  {
   "cell_type": "code",
   "execution_count": 87,
   "metadata": {
    "execution": {
     "iopub.execute_input": "2025-01-16T09:39:38.661535Z",
     "iopub.status.busy": "2025-01-16T09:39:38.661424Z",
     "iopub.status.idle": "2025-01-16T09:39:38.663152Z",
     "shell.execute_reply": "2025-01-16T09:39:38.662798Z"
    },
    "slideshow": {
     "slide_type": "fragment"
    }
   },
   "outputs": [],
   "source": [
    "mutator = Mutator()"
   ]
  },
  {
   "cell_type": "markdown",
   "metadata": {
    "slideshow": {
     "slide_type": "fragment"
    }
   },
   "source": [
    "Third, a _power schedule_ that assigns fuzzing effort across the population:"
   ]
  },
  {
   "cell_type": "code",
   "execution_count": 88,
   "metadata": {
    "execution": {
     "iopub.execute_input": "2025-01-16T09:39:38.664740Z",
     "iopub.status.busy": "2025-01-16T09:39:38.664627Z",
     "iopub.status.idle": "2025-01-16T09:39:38.666216Z",
     "shell.execute_reply": "2025-01-16T09:39:38.665874Z"
    },
    "slideshow": {
     "slide_type": "fragment"
    }
   },
   "outputs": [],
   "source": [
    "schedule = PowerSchedule()"
   ]
  },
  {
   "cell_type": "markdown",
   "metadata": {
    "slideshow": {
     "slide_type": "fragment"
    }
   },
   "source": [
    "These three go into the `GreyboxFuzzer` constructor:"
   ]
  },
  {
   "cell_type": "code",
   "execution_count": 89,
   "metadata": {
    "execution": {
     "iopub.execute_input": "2025-01-16T09:39:38.668055Z",
     "iopub.status.busy": "2025-01-16T09:39:38.667852Z",
     "iopub.status.idle": "2025-01-16T09:39:38.670486Z",
     "shell.execute_reply": "2025-01-16T09:39:38.670188Z"
    },
    "slideshow": {
     "slide_type": "fragment"
    },
    "tags": []
   },
   "outputs": [],
   "source": [
    "greybox_fuzzer = GreyboxFuzzer(seeds=seeds, mutator=mutator, schedule=schedule)"
   ]
  },
  {
   "cell_type": "markdown",
   "metadata": {
    "slideshow": {
     "slide_type": "subslide"
    }
   },
   "source": [
    "The `GreyboxFuzzer` class is used in conjunction with a `FunctionCoverageRunner`:"
   ]
  },
  {
   "cell_type": "code",
   "execution_count": 90,
   "metadata": {
    "execution": {
     "iopub.execute_input": "2025-01-16T09:39:38.672078Z",
     "iopub.status.busy": "2025-01-16T09:39:38.671960Z",
     "iopub.status.idle": "2025-01-16T09:39:40.713871Z",
     "shell.execute_reply": "2025-01-16T09:39:40.713588Z"
    },
    "slideshow": {
     "slide_type": "fragment"
    }
   },
   "outputs": [],
   "source": [
    "http_runner = FunctionCoverageRunner(http_program)\n",
    "outcomes = greybox_fuzzer.runs(http_runner, trials=10000)"
   ]
  },
  {
   "cell_type": "markdown",
   "metadata": {
    "slideshow": {
     "slide_type": "fragment"
    }
   },
   "source": [
    "After fuzzing, we can inspect the population:"
   ]
  },
  {
   "cell_type": "code",
   "execution_count": 91,
   "metadata": {
    "execution": {
     "iopub.execute_input": "2025-01-16T09:39:40.715936Z",
     "iopub.status.busy": "2025-01-16T09:39:40.715821Z",
     "iopub.status.idle": "2025-01-16T09:39:40.718537Z",
     "shell.execute_reply": "2025-01-16T09:39:40.718188Z"
    },
    "slideshow": {
     "slide_type": "subslide"
    }
   },
   "outputs": [
    {
     "data": {
      "text/plain": [
       "[http://www.google.com/search?q=fuzzing,\n",
       " http://ww.gomgle.com/searciq=fuzzing,\n",
       " |h>Att&p8?wwnOgle.cooarhl~Cp`uzza',\n",
       " http2Ot/*gv-VRgogec:om/rearc h\u001f=fu~i\n",
       " g,\n",
       " http\"Ot/*gv-VRgogecom/rearc h\u001f=u~i\n",
       " f,\n",
       " http\"Ot/g$vVRgogEecom/#reabc h\u001f=u~a\n",
       " f,\n",
       " httT`2Ot//:7ev^VRgoec:uom/re!6dctKc= hS;\u000f=fu-yH\n",
       " /,\n",
       " http'www&go/le.comm/sea:rh*?q=Ftzzifg,\n",
       " h4tpw://w.gomMle.m/weazciq=fuezzi.',\n",
       " h~Att&p8?ws_nOge.#ooarhBlw~Cp`uzza',\n",
       " ht8P:/wwvgkowcom/eacrh?q=f uzzing,\n",
       " httT`Ot//:7evVR\"goec:uom/re!dctKc=hS;=fu-yH\n",
       " I,\n",
       " htp://ww.go/gl%.otm/wearch?q=f5zzing,\n",
       " httU`Ot//:7evVR\"goec:uo2Jm/re#dctKc=hS;=fu-yH\n",
       " I,\n",
       " ht4p://ww.gomgle.co.serciq=fuzzing,\n",
       " httpp\"OtSo*gv'VRgkg;eom/earcR >\n",
       " =u|in\n",
       " f,\n",
       " htP:/wwvgMolwcomeachq=f uzzine,\n",
       " htt://[/wwgwC6.]gogleg/lE.bo/_sEarcq9Afqwz\"king,\n",
       " httT`Ot//:7evVR\"goec:uom/re!dctKc=hS;=fu-yH\n",
       " I,\n",
       " tPK:,wIfvglwvc#omeaBc`9qOin]"
      ]
     },
     "execution_count": 91,
     "metadata": {},
     "output_type": "execute_result"
    }
   ],
   "source": [
    "greybox_fuzzer.population[:20]"
   ]
  },
  {
   "cell_type": "markdown",
   "metadata": {
    "slideshow": {
     "slide_type": "subslide"
    }
   },
   "source": [
    "Besides the simple `PowerSchedule`, we can have advanced power schedules.\n",
    "\n",
    "* `AFLFastSchedule` assigns high energy to \"unusual\" paths not taken very often.\n",
    "* `AFLGoSchedule` assigns high energy to paths close to uncovered program locations. \n",
    "\n",
    "The `AFLGoSchedule` class constructor requires a `distance` metric from each node towards target locations, as determined via analysis of the program code. See the chapter for details."
   ]
  },
  {
   "cell_type": "code",
   "execution_count": 92,
   "metadata": {
    "execution": {
     "iopub.execute_input": "2025-01-16T09:39:40.720502Z",
     "iopub.status.busy": "2025-01-16T09:39:40.720371Z",
     "iopub.status.idle": "2025-01-16T09:39:40.722001Z",
     "shell.execute_reply": "2025-01-16T09:39:40.721734Z"
    },
    "slideshow": {
     "slide_type": "fragment"
    }
   },
   "outputs": [],
   "source": [
    "# ignore\n",
    "from ClassDiagram import display_class_hierarchy"
   ]
  },
  {
   "cell_type": "code",
   "execution_count": 93,
   "metadata": {
    "execution": {
     "iopub.execute_input": "2025-01-16T09:39:40.723581Z",
     "iopub.status.busy": "2025-01-16T09:39:40.723482Z",
     "iopub.status.idle": "2025-01-16T09:39:41.945815Z",
     "shell.execute_reply": "2025-01-16T09:39:41.945351Z"
    },
    "slideshow": {
     "slide_type": "subslide"
    }
   },
   "outputs": [
    {
     "data": {
      "image/svg+xml": [
       "<?xml version=\"1.0\" encoding=\"UTF-8\" standalone=\"no\"?>\n",
       "<!DOCTYPE svg PUBLIC \"-//W3C//DTD SVG 1.1//EN\"\n",
       " \"http://www.w3.org/Graphics/SVG/1.1/DTD/svg11.dtd\">\n",
       "<!-- Generated by graphviz version 12.2.1 (20241206.2353)\n",
       " -->\n",
       "<!-- Pages: 1 -->\n",
       "<svg width=\"861pt\" height=\"460pt\"\n",
       " viewBox=\"0.00 0.00 860.88 460.00\" xmlns=\"http://www.w3.org/2000/svg\" xmlns:xlink=\"http://www.w3.org/1999/xlink\">\n",
       "<g id=\"graph0\" class=\"graph\" transform=\"scale(1 1) rotate(0) translate(4 456)\">\n",
       "<g id=\"a_graph0\"><a xlink:title=\"CountingGreyboxFuzzer class hierarchy\">\n",
       "<polygon fill=\"white\" stroke=\"none\" points=\"-4,4 -4,-456 856.88,-456 856.88,4 -4,4\"/>\n",
       "</a>\n",
       "</g>\n",
       "<!-- CountingGreyboxFuzzer -->\n",
       "<g id=\"node1\" class=\"node\">\n",
       "<title>CountingGreyboxFuzzer</title>\n",
       "<g id=\"a_node1\"><a xlink:href=\"#\" xlink:title=\"class CountingGreyboxFuzzer:&#10;Count how often individual paths are exercised.\">\n",
       "<polygon fill=\"none\" stroke=\"black\" points=\"5.25,-6.88 5.25,-66.38 171.25,-66.38 171.25,-6.88 5.25,-6.88\"/>\n",
       "<text text-anchor=\"start\" x=\"13.25\" y=\"-50.08\" font-family=\"Patua One, Helvetica, sans-serif\" font-weight=\"bold\" font-size=\"14.00\" fill=\"#b03a2e\">CountingGreyboxFuzzer</text>\n",
       "<polyline fill=\"none\" stroke=\"black\" points=\"5.25,-40.38 171.25,-40.38\"/>\n",
       "<g id=\"a_node1_0\"><a xlink:href=\"#\" xlink:title=\"CountingGreyboxFuzzer\">\n",
       "<g id=\"a_node1_1\"><a xlink:href=\"#\" xlink:title=\"run(self, runner: MutationFuzzer.FunctionCoverageRunner) &#45;&gt; Tuple[Any, str]:&#10;Inform scheduler about path frequency\">\n",
       "<text text-anchor=\"start\" x=\"67.25\" y=\"-27.88\" font-family=\"'Fira Mono', 'Source Code Pro', 'Courier', monospace\" font-weight=\"bold\" font-style=\"italic\" font-size=\"10.00\">run()</text>\n",
       "</a>\n",
       "</g>\n",
       "<g id=\"a_node1_2\"><a xlink:href=\"#\" xlink:title=\"reset(self):&#10;Reset path frequency\">\n",
       "<text text-anchor=\"start\" x=\"67.25\" y=\"-15.12\" font-family=\"'Fira Mono', 'Source Code Pro', 'Courier', monospace\" font-style=\"italic\" font-size=\"10.00\">reset()</text>\n",
       "</a>\n",
       "</g>\n",
       "</a>\n",
       "</g>\n",
       "</a>\n",
       "</g>\n",
       "</g>\n",
       "<!-- GreyboxFuzzer -->\n",
       "<g id=\"node2\" class=\"node\">\n",
       "<title>GreyboxFuzzer</title>\n",
       "<g id=\"a_node2\"><a xlink:href=\"#\" xlink:title=\"class GreyboxFuzzer:&#10;Coverage&#45;guided mutational fuzzing.\">\n",
       "<polygon fill=\"none\" stroke=\"black\" points=\"33.75,-128.88 33.75,-188.38 142.75,-188.38 142.75,-128.88 33.75,-128.88\"/>\n",
       "<text text-anchor=\"start\" x=\"41.75\" y=\"-172.07\" font-family=\"Patua One, Helvetica, sans-serif\" font-weight=\"bold\" font-size=\"14.00\" fill=\"#b03a2e\">GreyboxFuzzer</text>\n",
       "<polyline fill=\"none\" stroke=\"black\" points=\"33.75,-162.38 142.75,-162.38\"/>\n",
       "<g id=\"a_node2_3\"><a xlink:href=\"#\" xlink:title=\"GreyboxFuzzer\">\n",
       "<g id=\"a_node2_4\"><a xlink:href=\"#\" xlink:title=\"run(self, runner: MutationFuzzer.FunctionCoverageRunner) &#45;&gt; Tuple[Any, str]:&#10;Run function(inp) while tracking coverage.&#10;If we reach new coverage,&#10;add inp to population and its coverage to population_coverage\">\n",
       "<text text-anchor=\"start\" x=\"67.25\" y=\"-149.88\" font-family=\"'Fira Mono', 'Source Code Pro', 'Courier', monospace\" font-weight=\"bold\" font-style=\"italic\" font-size=\"10.00\">run()</text>\n",
       "</a>\n",
       "</g>\n",
       "<g id=\"a_node2_5\"><a xlink:href=\"#\" xlink:title=\"reset(self):&#10;Reset the initial population, seed index, coverage information\">\n",
       "<text text-anchor=\"start\" x=\"67.25\" y=\"-137.12\" font-family=\"'Fira Mono', 'Source Code Pro', 'Courier', monospace\" font-style=\"italic\" font-size=\"10.00\">reset()</text>\n",
       "</a>\n",
       "</g>\n",
       "</a>\n",
       "</g>\n",
       "</a>\n",
       "</g>\n",
       "</g>\n",
       "<!-- CountingGreyboxFuzzer&#45;&gt;GreyboxFuzzer -->\n",
       "<g id=\"edge1\" class=\"edge\">\n",
       "<title>CountingGreyboxFuzzer&#45;&gt;GreyboxFuzzer</title>\n",
       "<path fill=\"none\" stroke=\"black\" d=\"M88.25,-66.67C88.25,-81.89 88.25,-100.76 88.25,-117.37\"/>\n",
       "<polygon fill=\"none\" stroke=\"black\" points=\"84.75,-116.91 88.25,-126.91 91.75,-116.91 84.75,-116.91\"/>\n",
       "</g>\n",
       "<!-- AdvancedMutationFuzzer -->\n",
       "<g id=\"node3\" class=\"node\">\n",
       "<title>AdvancedMutationFuzzer</title>\n",
       "<g id=\"a_node3\"><a xlink:href=\"#\" xlink:title=\"class AdvancedMutationFuzzer:&#10;Base class for mutation&#45;based fuzzing.\">\n",
       "<polygon fill=\"none\" stroke=\"black\" points=\"0,-244.5 0,-329.5 176.5,-329.5 176.5,-244.5 0,-244.5\"/>\n",
       "<text text-anchor=\"start\" x=\"8\" y=\"-313.2\" font-family=\"Patua One, Helvetica, sans-serif\" font-weight=\"bold\" font-size=\"14.00\" fill=\"#b03a2e\">AdvancedMutationFuzzer</text>\n",
       "<polyline fill=\"none\" stroke=\"black\" points=\"0,-303.5 176.5,-303.5\"/>\n",
       "<g id=\"a_node3_6\"><a xlink:href=\"#\" xlink:title=\"AdvancedMutationFuzzer\">\n",
       "<g id=\"a_node3_7\"><a xlink:href=\"#\" xlink:title=\"__init__(self, seeds: List[str], mutator: Mutator, schedule: PowerSchedule) &#45;&gt; None:&#10;Constructor.&#10;`seeds` &#45; a list of (input) strings to mutate.&#10;`mutator` &#45; the mutator to apply.&#10;`schedule` &#45; the power schedule to apply.\">\n",
       "<text text-anchor=\"start\" x=\"34.25\" y=\"-291\" font-family=\"'Fira Mono', 'Source Code Pro', 'Courier', monospace\" font-weight=\"bold\" font-style=\"italic\" font-size=\"10.00\">__init__()</text>\n",
       "</a>\n",
       "</g>\n",
       "<g id=\"a_node3_8\"><a xlink:href=\"#\" xlink:title=\"fuzz(self) &#45;&gt; str:&#10;Returns first each seed once and then generates new inputs\">\n",
       "<text text-anchor=\"start\" x=\"34.25\" y=\"-278.25\" font-family=\"'Fira Mono', 'Source Code Pro', 'Courier', monospace\" font-weight=\"bold\" font-style=\"italic\" font-size=\"10.00\">fuzz()</text>\n",
       "</a>\n",
       "</g>\n",
       "<g id=\"a_node3_9\"><a xlink:href=\"#\" xlink:title=\"create_candidate(self) &#45;&gt; str:&#10;Returns an input generated by fuzzing a seed in the population\">\n",
       "<text text-anchor=\"start\" x=\"34.25\" y=\"-264.5\" font-family=\"'Fira Mono', 'Source Code Pro', 'Courier', monospace\" font-size=\"10.00\">create_candidate()</text>\n",
       "</a>\n",
       "</g>\n",
       "<g id=\"a_node3_10\"><a xlink:href=\"#\" xlink:title=\"reset(self) &#45;&gt; None:&#10;Reset the initial population and seed index\">\n",
       "<text text-anchor=\"start\" x=\"34.25\" y=\"-252.75\" font-family=\"'Fira Mono', 'Source Code Pro', 'Courier', monospace\" font-style=\"italic\" font-size=\"10.00\">reset()</text>\n",
       "</a>\n",
       "</g>\n",
       "</a>\n",
       "</g>\n",
       "</a>\n",
       "</g>\n",
       "</g>\n",
       "<!-- GreyboxFuzzer&#45;&gt;AdvancedMutationFuzzer -->\n",
       "<g id=\"edge2\" class=\"edge\">\n",
       "<title>GreyboxFuzzer&#45;&gt;AdvancedMutationFuzzer</title>\n",
       "<path fill=\"none\" stroke=\"black\" d=\"M88.25,-188.62C88.25,-201.74 88.25,-217.68 88.25,-232.83\"/>\n",
       "<polygon fill=\"none\" stroke=\"black\" points=\"84.75,-232.69 88.25,-242.69 91.75,-232.69 84.75,-232.69\"/>\n",
       "</g>\n",
       "<!-- Fuzzer -->\n",
       "<g id=\"node4\" class=\"node\">\n",
       "<title>Fuzzer</title>\n",
       "<g id=\"a_node4\"><a xlink:href=\"Fuzzer.ipynb\" xlink:title=\"class Fuzzer:&#10;Base class for fuzzers.\">\n",
       "<polygon fill=\"none\" stroke=\"black\" points=\"50.25,-366.5 50.25,-451.5 126.25,-451.5 126.25,-366.5 50.25,-366.5\"/>\n",
       "<text text-anchor=\"start\" x=\"67.62\" y=\"-435.2\" font-family=\"Patua One, Helvetica, sans-serif\" font-weight=\"bold\" font-size=\"14.00\" fill=\"#b03a2e\">Fuzzer</text>\n",
       "<polyline fill=\"none\" stroke=\"black\" points=\"50.25,-425.5 126.25,-425.5\"/>\n",
       "<g id=\"a_node4_11\"><a xlink:href=\"#\" xlink:title=\"Fuzzer\">\n",
       "<g id=\"a_node4_12\"><a xlink:href=\"Fuzzer.ipynb\" xlink:title=\"__init__(self) &#45;&gt; None:&#10;Constructor\">\n",
       "<text text-anchor=\"start\" x=\"58.25\" y=\"-413\" font-family=\"'Fira Mono', 'Source Code Pro', 'Courier', monospace\" font-weight=\"bold\" font-style=\"italic\" font-size=\"10.00\">__init__()</text>\n",
       "</a>\n",
       "</g>\n",
       "<g id=\"a_node4_13\"><a xlink:href=\"Fuzzer.ipynb\" xlink:title=\"fuzz(self) &#45;&gt; str:&#10;Return fuzz input\">\n",
       "<text text-anchor=\"start\" x=\"58.25\" y=\"-400.25\" font-family=\"'Fira Mono', 'Source Code Pro', 'Courier', monospace\" font-weight=\"bold\" font-style=\"italic\" font-size=\"10.00\">fuzz()</text>\n",
       "</a>\n",
       "</g>\n",
       "<g id=\"a_node4_14\"><a xlink:href=\"Fuzzer.ipynb\" xlink:title=\"run(self, runner: Fuzzer.Runner = &lt;Fuzzer.Runner object at 0x108a9a180&gt;) &#45;&gt; Tuple[subprocess.CompletedProcess, str]:&#10;Run `runner` with fuzz input\">\n",
       "<text text-anchor=\"start\" x=\"58.25\" y=\"-387.5\" font-family=\"'Fira Mono', 'Source Code Pro', 'Courier', monospace\" font-weight=\"bold\" font-style=\"italic\" font-size=\"10.00\">run()</text>\n",
       "</a>\n",
       "</g>\n",
       "<g id=\"a_node4_15\"><a xlink:href=\"Fuzzer.ipynb\" xlink:title=\"runs(self, runner: Fuzzer.Runner = &lt;Fuzzer.PrintRunner object at 0x108a99dc0&gt;, trials: int = 10) &#45;&gt; List[Tuple[subprocess.CompletedProcess, str]]:&#10;Run `runner` with fuzz input, `trials` times\">\n",
       "<text text-anchor=\"start\" x=\"58.25\" y=\"-374.75\" font-family=\"'Fira Mono', 'Source Code Pro', 'Courier', monospace\" font-weight=\"bold\" font-size=\"10.00\">runs()</text>\n",
       "</a>\n",
       "</g>\n",
       "</a>\n",
       "</g>\n",
       "</a>\n",
       "</g>\n",
       "</g>\n",
       "<!-- AdvancedMutationFuzzer&#45;&gt;Fuzzer -->\n",
       "<g id=\"edge3\" class=\"edge\">\n",
       "<title>AdvancedMutationFuzzer&#45;&gt;Fuzzer</title>\n",
       "<path fill=\"none\" stroke=\"black\" d=\"M88.25,-329.97C88.25,-338.06 88.25,-346.62 88.25,-355\"/>\n",
       "<polygon fill=\"none\" stroke=\"black\" points=\"84.75,-354.74 88.25,-364.74 91.75,-354.74 84.75,-354.74\"/>\n",
       "</g>\n",
       "<!-- AFLFastSchedule -->\n",
       "<g id=\"node5\" class=\"node\">\n",
       "<title>AFLFastSchedule</title>\n",
       "<g id=\"a_node5\"><a xlink:href=\"#\" xlink:title=\"class AFLFastSchedule:&#10;Exponential power schedule as implemented in AFL\">\n",
       "<polygon fill=\"none\" stroke=\"black\" points=\"178.5,-128.88 178.5,-188.38 298,-188.38 298,-128.88 178.5,-128.88\"/>\n",
       "<text text-anchor=\"start\" x=\"186.5\" y=\"-172.07\" font-family=\"Patua One, Helvetica, sans-serif\" font-weight=\"bold\" font-size=\"14.00\" fill=\"#b03a2e\">AFLFastSchedule</text>\n",
       "<polyline fill=\"none\" stroke=\"black\" points=\"178.5,-162.38 298,-162.38\"/>\n",
       "<g id=\"a_node5_16\"><a xlink:href=\"#\" xlink:title=\"AFLFastSchedule\">\n",
       "<g id=\"a_node5_17\"><a xlink:href=\"#\" xlink:title=\"__init__(self, exponent: float) &#45;&gt; None:&#10;Constructor\">\n",
       "<text text-anchor=\"start\" x=\"196.25\" y=\"-149.88\" font-family=\"'Fira Mono', 'Source Code Pro', 'Courier', monospace\" font-weight=\"bold\" font-style=\"italic\" font-size=\"10.00\">__init__()</text>\n",
       "</a>\n",
       "</g>\n",
       "<g id=\"a_node5_18\"><a xlink:href=\"#\" xlink:title=\"assignEnergy(self, population: collections.abc.Sequence[Seed]) &#45;&gt; None:&#10;Assign exponential energy inversely proportional to path frequency\">\n",
       "<text text-anchor=\"start\" x=\"196.25\" y=\"-137.12\" font-family=\"'Fira Mono', 'Source Code Pro', 'Courier', monospace\" font-style=\"italic\" font-size=\"10.00\">assignEnergy()</text>\n",
       "</a>\n",
       "</g>\n",
       "</a>\n",
       "</g>\n",
       "</a>\n",
       "</g>\n",
       "</g>\n",
       "<!-- PowerSchedule -->\n",
       "<g id=\"node6\" class=\"node\">\n",
       "<title>PowerSchedule</title>\n",
       "<g id=\"a_node6\"><a xlink:href=\"#\" xlink:title=\"class PowerSchedule:&#10;Define how fuzzing time should be distributed across the population.\">\n",
       "<polygon fill=\"none\" stroke=\"black\" points=\"255.25,-244.5 255.25,-329.5 379.25,-329.5 379.25,-244.5 255.25,-244.5\"/>\n",
       "<text text-anchor=\"start\" x=\"270.38\" y=\"-313.2\" font-family=\"Patua One, Helvetica, sans-serif\" font-weight=\"bold\" font-size=\"14.00\" fill=\"#b03a2e\">PowerSchedule</text>\n",
       "<polyline fill=\"none\" stroke=\"black\" points=\"255.25,-303.5 379.25,-303.5\"/>\n",
       "<g id=\"a_node6_19\"><a xlink:href=\"#\" xlink:title=\"PowerSchedule\">\n",
       "<g id=\"a_node6_20\"><a xlink:href=\"#\" xlink:title=\"__init__(self) &#45;&gt; None:&#10;Constructor\">\n",
       "<text text-anchor=\"start\" x=\"263.25\" y=\"-291\" font-family=\"'Fira Mono', 'Source Code Pro', 'Courier', monospace\" font-weight=\"bold\" font-style=\"italic\" font-size=\"10.00\">__init__()</text>\n",
       "</a>\n",
       "</g>\n",
       "<g id=\"a_node6_21\"><a xlink:href=\"#\" xlink:title=\"assignEnergy(self, population: collections.abc.Sequence[Seed]) &#45;&gt; None:&#10;Assigns each seed the same energy\">\n",
       "<text text-anchor=\"start\" x=\"263.25\" y=\"-278.25\" font-family=\"'Fira Mono', 'Source Code Pro', 'Courier', monospace\" font-style=\"italic\" font-size=\"10.00\">assignEnergy()</text>\n",
       "</a>\n",
       "</g>\n",
       "<g id=\"a_node6_22\"><a xlink:href=\"#\" xlink:title=\"choose(self, population: collections.abc.Sequence[Seed]) &#45;&gt; Seed:&#10;Choose weighted by normalized energy.\">\n",
       "<text text-anchor=\"start\" x=\"263.25\" y=\"-264.5\" font-family=\"'Fira Mono', 'Source Code Pro', 'Courier', monospace\" font-size=\"10.00\">choose()</text>\n",
       "</a>\n",
       "</g>\n",
       "<g id=\"a_node6_23\"><a xlink:href=\"#\" xlink:title=\"normalizedEnergy(self, population: collections.abc.Sequence[Seed]) &#45;&gt; List[float]:&#10;Normalize energy\">\n",
       "<text text-anchor=\"start\" x=\"263.25\" y=\"-251.75\" font-family=\"'Fira Mono', 'Source Code Pro', 'Courier', monospace\" font-size=\"10.00\">normalizedEnergy()</text>\n",
       "</a>\n",
       "</g>\n",
       "</a>\n",
       "</g>\n",
       "</a>\n",
       "</g>\n",
       "</g>\n",
       "<!-- AFLFastSchedule&#45;&gt;PowerSchedule -->\n",
       "<g id=\"edge4\" class=\"edge\">\n",
       "<title>AFLFastSchedule&#45;&gt;PowerSchedule</title>\n",
       "<path fill=\"none\" stroke=\"black\" d=\"M256.37,-188.62C264.9,-202.26 275.33,-218.94 285.13,-234.61\"/>\n",
       "<polygon fill=\"none\" stroke=\"black\" points=\"282.05,-236.3 290.32,-242.92 287.99,-232.59 282.05,-236.3\"/>\n",
       "</g>\n",
       "<!-- AFLGoSchedule -->\n",
       "<g id=\"node7\" class=\"node\">\n",
       "<title>AFLGoSchedule</title>\n",
       "<g id=\"a_node7\"><a xlink:href=\"#\" xlink:title=\"class AFLGoSchedule:&#10;Assign high energy to seeds close to the target\">\n",
       "<polygon fill=\"none\" stroke=\"black\" points=\"323,-13.25 323,-60 433.5,-60 433.5,-13.25 323,-13.25\"/>\n",
       "<text text-anchor=\"start\" x=\"331\" y=\"-43.7\" font-family=\"Patua One, Helvetica, sans-serif\" font-weight=\"bold\" font-size=\"14.00\" fill=\"#b03a2e\">AFLGoSchedule</text>\n",
       "<polyline fill=\"none\" stroke=\"black\" points=\"323,-34 433.5,-34\"/>\n",
       "<g id=\"a_node7_24\"><a xlink:href=\"#\" xlink:title=\"AFLGoSchedule\">\n",
       "<g id=\"a_node7_25\"><a xlink:href=\"#\" xlink:title=\"assignEnergy(self, population: collections.abc.Sequence[Seed]):&#10;Assigns each seed energy inversely proportional&#10;to the average function&#45;level distance to target.\">\n",
       "<text text-anchor=\"start\" x=\"336.25\" y=\"-21.5\" font-family=\"'Fira Mono', 'Source Code Pro', 'Courier', monospace\" font-style=\"italic\" font-size=\"10.00\">assignEnergy()</text>\n",
       "</a>\n",
       "</g>\n",
       "</a>\n",
       "</g>\n",
       "</a>\n",
       "</g>\n",
       "</g>\n",
       "<!-- DirectedSchedule -->\n",
       "<g id=\"node8\" class=\"node\">\n",
       "<title>DirectedSchedule</title>\n",
       "<g id=\"a_node8\"><a xlink:href=\"#\" xlink:title=\"class DirectedSchedule:&#10;Assign high energy to seeds close to some target\">\n",
       "<polygon fill=\"none\" stroke=\"black\" points=\"316.25,-122.5 316.25,-194.75 440.25,-194.75 440.25,-122.5 316.25,-122.5\"/>\n",
       "<text text-anchor=\"start\" x=\"325.75\" y=\"-178.45\" font-family=\"Patua One, Helvetica, sans-serif\" font-weight=\"bold\" font-size=\"14.00\" fill=\"#b03a2e\">DirectedSchedule</text>\n",
       "<polyline fill=\"none\" stroke=\"black\" points=\"316.25,-168.75 440.25,-168.75\"/>\n",
       "<g id=\"a_node8_26\"><a xlink:href=\"#\" xlink:title=\"DirectedSchedule\">\n",
       "<g id=\"a_node8_27\"><a xlink:href=\"#\" xlink:title=\"__init__(self, distance: Dict[str, int], exponent: float) &#45;&gt; None:&#10;Constructor\">\n",
       "<text text-anchor=\"start\" x=\"324.25\" y=\"-156.25\" font-family=\"'Fira Mono', 'Source Code Pro', 'Courier', monospace\" font-weight=\"bold\" font-style=\"italic\" font-size=\"10.00\">__init__()</text>\n",
       "</a>\n",
       "</g>\n",
       "<g id=\"a_node8_28\"><a xlink:href=\"#\" xlink:title=\"__getFunctions__(self, coverage: Set[Location]) &#45;&gt; Set[str]\">\n",
       "<text text-anchor=\"start\" x=\"324.25\" y=\"-142.5\" font-family=\"'Fira Mono', 'Source Code Pro', 'Courier', monospace\" font-size=\"10.00\">__getFunctions__()</text>\n",
       "</a>\n",
       "</g>\n",
       "<g id=\"a_node8_29\"><a xlink:href=\"#\" xlink:title=\"assignEnergy(self, population: collections.abc.Sequence[Seed]) &#45;&gt; None:&#10;Assigns each seed energy inversely proportional&#10;to the average function&#45;level distance to target.\">\n",
       "<text text-anchor=\"start\" x=\"324.25\" y=\"-130.75\" font-family=\"'Fira Mono', 'Source Code Pro', 'Courier', monospace\" font-style=\"italic\" font-size=\"10.00\">assignEnergy()</text>\n",
       "</a>\n",
       "</g>\n",
       "</a>\n",
       "</g>\n",
       "</a>\n",
       "</g>\n",
       "</g>\n",
       "<!-- AFLGoSchedule&#45;&gt;DirectedSchedule -->\n",
       "<g id=\"edge5\" class=\"edge\">\n",
       "<title>AFLGoSchedule&#45;&gt;DirectedSchedule</title>\n",
       "<path fill=\"none\" stroke=\"black\" d=\"M378.25,-60.48C378.25,-74.76 378.25,-93.67 378.25,-111.01\"/>\n",
       "<polygon fill=\"none\" stroke=\"black\" points=\"374.75,-110.59 378.25,-120.59 381.75,-110.59 374.75,-110.59\"/>\n",
       "</g>\n",
       "<!-- DirectedSchedule&#45;&gt;PowerSchedule -->\n",
       "<g id=\"edge6\" class=\"edge\">\n",
       "<title>DirectedSchedule&#45;&gt;PowerSchedule</title>\n",
       "<path fill=\"none\" stroke=\"black\" d=\"M361.1,-195.16C355.31,-207.15 348.73,-220.78 342.46,-233.78\"/>\n",
       "<polygon fill=\"none\" stroke=\"black\" points=\"339.37,-232.13 338.17,-242.65 345.67,-235.17 339.37,-232.13\"/>\n",
       "</g>\n",
       "<!-- DictMutator -->\n",
       "<g id=\"node9\" class=\"node\">\n",
       "<title>DictMutator</title>\n",
       "<g id=\"a_node9\"><a xlink:href=\"#\" xlink:title=\"class DictMutator:&#10;Variant of `Mutator` inserting keywords from a dictionary\">\n",
       "<polygon fill=\"none\" stroke=\"black\" points=\"461.25,-6.88 461.25,-66.38 621.25,-66.38 621.25,-6.88 461.25,-6.88\"/>\n",
       "<text text-anchor=\"start\" x=\"503.38\" y=\"-50.08\" font-family=\"Patua One, Helvetica, sans-serif\" font-weight=\"bold\" font-size=\"14.00\" fill=\"#b03a2e\">DictMutator</text>\n",
       "<polyline fill=\"none\" stroke=\"black\" points=\"461.25,-40.38 621.25,-40.38\"/>\n",
       "<g id=\"a_node9_30\"><a xlink:href=\"#\" xlink:title=\"DictMutator\">\n",
       "<g id=\"a_node9_31\"><a xlink:href=\"#\" xlink:title=\"__init__(self, dictionary: collections.abc.Sequence[str]) &#45;&gt; None:&#10;Constructor.&#10;`dictionary` &#45; a list of strings that can be used as keywords\">\n",
       "<text text-anchor=\"start\" x=\"469.25\" y=\"-27.88\" font-family=\"'Fira Mono', 'Source Code Pro', 'Courier', monospace\" font-weight=\"bold\" font-style=\"italic\" font-size=\"10.00\">__init__()</text>\n",
       "</a>\n",
       "</g>\n",
       "<g id=\"a_node9_32\"><a xlink:href=\"#\" xlink:title=\"insert_from_dictionary(self, s: str) &#45;&gt; str:&#10;Returns `s` with a keyword from the dictionary inserted\">\n",
       "<text text-anchor=\"start\" x=\"469.25\" y=\"-14.12\" font-family=\"'Fira Mono', 'Source Code Pro', 'Courier', monospace\" font-size=\"10.00\">insert_from_dictionary()</text>\n",
       "</a>\n",
       "</g>\n",
       "</a>\n",
       "</g>\n",
       "</a>\n",
       "</g>\n",
       "</g>\n",
       "<!-- Mutator -->\n",
       "<g id=\"node10\" class=\"node\">\n",
       "<title>Mutator</title>\n",
       "<g id=\"a_node10\"><a xlink:href=\"#\" xlink:title=\"class Mutator:&#10;Mutate strings\">\n",
       "<polygon fill=\"none\" stroke=\"black\" points=\"458.25,-109.75 458.25,-207.5 624.25,-207.5 624.25,-109.75 458.25,-109.75\"/>\n",
       "<text text-anchor=\"start\" x=\"515.38\" y=\"-191.2\" font-family=\"Patua One, Helvetica, sans-serif\" font-weight=\"bold\" font-size=\"14.00\" fill=\"#b03a2e\">Mutator</text>\n",
       "<polyline fill=\"none\" stroke=\"black\" points=\"458.25,-181.5 624.25,-181.5\"/>\n",
       "<g id=\"a_node10_33\"><a xlink:href=\"#\" xlink:title=\"Mutator\">\n",
       "<g id=\"a_node10_34\"><a xlink:href=\"#\" xlink:title=\"__init__(self) &#45;&gt; None:&#10;Constructor\">\n",
       "<text text-anchor=\"start\" x=\"466.25\" y=\"-169\" font-family=\"'Fira Mono', 'Source Code Pro', 'Courier', monospace\" font-weight=\"bold\" font-style=\"italic\" font-size=\"10.00\">__init__()</text>\n",
       "</a>\n",
       "</g>\n",
       "<g id=\"a_node10_35\"><a xlink:href=\"#\" xlink:title=\"delete_random_character(self, s: str) &#45;&gt; str:&#10;Returns s with a random character deleted\">\n",
       "<text text-anchor=\"start\" x=\"466.25\" y=\"-155.25\" font-family=\"'Fira Mono', 'Source Code Pro', 'Courier', monospace\" font-size=\"10.00\">delete_random_character()</text>\n",
       "</a>\n",
       "</g>\n",
       "<g id=\"a_node10_36\"><a xlink:href=\"#\" xlink:title=\"flip_random_character(self, s: str) &#45;&gt; str:&#10;Returns s with a random bit flipped in a random position\">\n",
       "<text text-anchor=\"start\" x=\"466.25\" y=\"-142.5\" font-family=\"'Fira Mono', 'Source Code Pro', 'Courier', monospace\" font-size=\"10.00\">flip_random_character()</text>\n",
       "</a>\n",
       "</g>\n",
       "<g id=\"a_node10_37\"><a xlink:href=\"#\" xlink:title=\"insert_random_character(self, s: str) &#45;&gt; str:&#10;Returns s with a random character inserted\">\n",
       "<text text-anchor=\"start\" x=\"466.25\" y=\"-129.75\" font-family=\"'Fira Mono', 'Source Code Pro', 'Courier', monospace\" font-size=\"10.00\">insert_random_character()</text>\n",
       "</a>\n",
       "</g>\n",
       "<g id=\"a_node10_38\"><a xlink:href=\"#\" xlink:title=\"mutate(self, inp: Any) &#45;&gt; Any:&#10;Return s with a random mutation applied. Can be overloaded in subclasses.\">\n",
       "<text text-anchor=\"start\" x=\"466.25\" y=\"-118\" font-family=\"'Fira Mono', 'Source Code Pro', 'Courier', monospace\" font-style=\"italic\" font-size=\"10.00\">mutate()</text>\n",
       "</a>\n",
       "</g>\n",
       "</a>\n",
       "</g>\n",
       "</a>\n",
       "</g>\n",
       "</g>\n",
       "<!-- DictMutator&#45;&gt;Mutator -->\n",
       "<g id=\"edge7\" class=\"edge\">\n",
       "<title>DictMutator&#45;&gt;Mutator</title>\n",
       "<path fill=\"none\" stroke=\"black\" d=\"M541.25,-66.67C541.25,-76.25 541.25,-87.27 541.25,-98.27\"/>\n",
       "<polygon fill=\"none\" stroke=\"black\" points=\"537.75,-98.14 541.25,-108.14 544.75,-98.14 537.75,-98.14\"/>\n",
       "</g>\n",
       "<!-- Seed -->\n",
       "<g id=\"node11\" class=\"node\">\n",
       "<title>Seed</title>\n",
       "<g id=\"a_node11\"><a xlink:href=\"#\" xlink:title=\"class Seed:&#10;Represent an input with additional attributes\">\n",
       "<polygon fill=\"none\" stroke=\"black\" points=\"639.25,-0.5 639.25,-72.75 715.25,-72.75 715.25,-0.5 639.25,-0.5\"/>\n",
       "<text text-anchor=\"start\" x=\"663\" y=\"-56.45\" font-family=\"Patua One, Helvetica, sans-serif\" font-weight=\"bold\" font-size=\"14.00\" fill=\"#b03a2e\">Seed</text>\n",
       "<polyline fill=\"none\" stroke=\"black\" points=\"639.25,-46.75 715.25,-46.75\"/>\n",
       "<g id=\"a_node11_39\"><a xlink:href=\"#\" xlink:title=\"Seed\">\n",
       "<g id=\"a_node11_40\"><a xlink:href=\"#\" xlink:title=\"__init__(self, data: str) &#45;&gt; None:&#10;Initialize from seed data\">\n",
       "<text text-anchor=\"start\" x=\"647.25\" y=\"-34.25\" font-family=\"'Fira Mono', 'Source Code Pro', 'Courier', monospace\" font-weight=\"bold\" font-size=\"10.00\">__init__()</text>\n",
       "</a>\n",
       "</g>\n",
       "<g id=\"a_node11_41\"><a xlink:href=\"#\" xlink:title=\"__repr__(self) &#45;&gt; str:&#10;Returns data as string representation of the seed\">\n",
       "<text text-anchor=\"start\" x=\"647.25\" y=\"-20.5\" font-family=\"'Fira Mono', 'Source Code Pro', 'Courier', monospace\" font-size=\"10.00\">__repr__()</text>\n",
       "</a>\n",
       "</g>\n",
       "<g id=\"a_node11_42\"><a xlink:href=\"#\" xlink:title=\"__str__(self) &#45;&gt; str:&#10;Returns data as string representation of the seed\">\n",
       "<text text-anchor=\"start\" x=\"647.25\" y=\"-7.75\" font-family=\"'Fira Mono', 'Source Code Pro', 'Courier', monospace\" font-size=\"10.00\">__str__()</text>\n",
       "</a>\n",
       "</g>\n",
       "</a>\n",
       "</g>\n",
       "</a>\n",
       "</g>\n",
       "</g>\n",
       "<!-- Legend -->\n",
       "<g id=\"node12\" class=\"node\">\n",
       "<title>Legend</title>\n",
       "<text text-anchor=\"start\" x=\"733.62\" y=\"-52.62\" font-family=\"Patua One, Helvetica, sans-serif\" font-weight=\"bold\" font-size=\"10.00\" fill=\"#b03a2e\">Legend</text>\n",
       "<text text-anchor=\"start\" x=\"733.62\" y=\"-42.62\" font-family=\"Patua One, Helvetica, sans-serif\" font-size=\"10.00\">• </text>\n",
       "<text text-anchor=\"start\" x=\"739.62\" y=\"-42.62\" font-family=\"'Fira Mono', 'Source Code Pro', 'Courier', monospace\" font-weight=\"bold\" font-size=\"8.00\">public_method()</text>\n",
       "<text text-anchor=\"start\" x=\"733.62\" y=\"-32.62\" font-family=\"Patua One, Helvetica, sans-serif\" font-size=\"10.00\">• </text>\n",
       "<text text-anchor=\"start\" x=\"739.62\" y=\"-32.62\" font-family=\"'Fira Mono', 'Source Code Pro', 'Courier', monospace\" font-size=\"8.00\">private_method()</text>\n",
       "<text text-anchor=\"start\" x=\"733.62\" y=\"-22.62\" font-family=\"Patua One, Helvetica, sans-serif\" font-size=\"10.00\">• </text>\n",
       "<text text-anchor=\"start\" x=\"739.62\" y=\"-22.62\" font-family=\"'Fira Mono', 'Source Code Pro', 'Courier', monospace\" font-style=\"italic\" font-size=\"8.00\">overloaded_method()</text>\n",
       "<text text-anchor=\"start\" x=\"733.62\" y=\"-13.57\" font-family=\"Helvetica,sans-Serif\" font-size=\"9.00\">Hover over names to see doc</text>\n",
       "</g>\n",
       "</g>\n",
       "</svg>\n"
      ],
      "text/html": [
       "<?xml version=\"1.0\" encoding=\"UTF-8\" standalone=\"no\"?>\n",
       "<!DOCTYPE svg PUBLIC \"-//W3C//DTD SVG 1.1//EN\"\n",
       " \"http://www.w3.org/Graphics/SVG/1.1/DTD/svg11.dtd\">\n",
       "<!-- Generated by graphviz version 12.2.1 (20241206.2353)\n",
       " -->\n",
       "<!-- Pages: 1 -->\n",
       "<svg width=\"861pt\" height=\"460pt\"\n",
       " viewBox=\"0.00 0.00 860.88 460.00\" xmlns=\"http://www.w3.org/2000/svg\" xmlns:xlink=\"http://www.w3.org/1999/xlink\">\n",
       "<g id=\"graph0\" class=\"graph\" transform=\"scale(1 1) rotate(0) translate(4 456)\">\n",
       "<g id=\"a_graph0\"><a xlink:title=\"CountingGreyboxFuzzer class hierarchy\">\n",
       "<polygon fill=\"white\" stroke=\"none\" points=\"-4,4 -4,-456 856.88,-456 856.88,4 -4,4\"/>\n",
       "</a>\n",
       "</g>\n",
       "<!-- CountingGreyboxFuzzer -->\n",
       "<g id=\"node1\" class=\"node\">\n",
       "<title>CountingGreyboxFuzzer</title>\n",
       "<g id=\"a_node1\"><a xlink:href=\"#\" xlink:title=\"class CountingGreyboxFuzzer:&#10;Count how often individual paths are exercised.\">\n",
       "<polygon fill=\"none\" stroke=\"black\" points=\"5.25,-6.88 5.25,-66.38 171.25,-66.38 171.25,-6.88 5.25,-6.88\"/>\n",
       "<text text-anchor=\"start\" x=\"13.25\" y=\"-50.08\" font-family=\"Patua One, Helvetica, sans-serif\" font-weight=\"bold\" font-size=\"14.00\" fill=\"#b03a2e\">CountingGreyboxFuzzer</text>\n",
       "<polyline fill=\"none\" stroke=\"black\" points=\"5.25,-40.38 171.25,-40.38\"/>\n",
       "<g id=\"a_node1_0\"><a xlink:href=\"#\" xlink:title=\"CountingGreyboxFuzzer\">\n",
       "<g id=\"a_node1_1\"><a xlink:href=\"#\" xlink:title=\"run(self, runner: MutationFuzzer.FunctionCoverageRunner) &#45;&gt; Tuple[Any, str]:&#10;Inform scheduler about path frequency\">\n",
       "<text text-anchor=\"start\" x=\"67.25\" y=\"-27.88\" font-family=\"'Fira Mono', 'Source Code Pro', 'Courier', monospace\" font-weight=\"bold\" font-style=\"italic\" font-size=\"10.00\">run()</text>\n",
       "</a>\n",
       "</g>\n",
       "<g id=\"a_node1_2\"><a xlink:href=\"#\" xlink:title=\"reset(self):&#10;Reset path frequency\">\n",
       "<text text-anchor=\"start\" x=\"67.25\" y=\"-15.12\" font-family=\"'Fira Mono', 'Source Code Pro', 'Courier', monospace\" font-style=\"italic\" font-size=\"10.00\">reset()</text>\n",
       "</a>\n",
       "</g>\n",
       "</a>\n",
       "</g>\n",
       "</a>\n",
       "</g>\n",
       "</g>\n",
       "<!-- GreyboxFuzzer -->\n",
       "<g id=\"node2\" class=\"node\">\n",
       "<title>GreyboxFuzzer</title>\n",
       "<g id=\"a_node2\"><a xlink:href=\"#\" xlink:title=\"class GreyboxFuzzer:&#10;Coverage&#45;guided mutational fuzzing.\">\n",
       "<polygon fill=\"none\" stroke=\"black\" points=\"33.75,-128.88 33.75,-188.38 142.75,-188.38 142.75,-128.88 33.75,-128.88\"/>\n",
       "<text text-anchor=\"start\" x=\"41.75\" y=\"-172.07\" font-family=\"Patua One, Helvetica, sans-serif\" font-weight=\"bold\" font-size=\"14.00\" fill=\"#b03a2e\">GreyboxFuzzer</text>\n",
       "<polyline fill=\"none\" stroke=\"black\" points=\"33.75,-162.38 142.75,-162.38\"/>\n",
       "<g id=\"a_node2_3\"><a xlink:href=\"#\" xlink:title=\"GreyboxFuzzer\">\n",
       "<g id=\"a_node2_4\"><a xlink:href=\"#\" xlink:title=\"run(self, runner: MutationFuzzer.FunctionCoverageRunner) &#45;&gt; Tuple[Any, str]:&#10;Run function(inp) while tracking coverage.&#10;If we reach new coverage,&#10;add inp to population and its coverage to population_coverage\">\n",
       "<text text-anchor=\"start\" x=\"67.25\" y=\"-149.88\" font-family=\"'Fira Mono', 'Source Code Pro', 'Courier', monospace\" font-weight=\"bold\" font-style=\"italic\" font-size=\"10.00\">run()</text>\n",
       "</a>\n",
       "</g>\n",
       "<g id=\"a_node2_5\"><a xlink:href=\"#\" xlink:title=\"reset(self):&#10;Reset the initial population, seed index, coverage information\">\n",
       "<text text-anchor=\"start\" x=\"67.25\" y=\"-137.12\" font-family=\"'Fira Mono', 'Source Code Pro', 'Courier', monospace\" font-style=\"italic\" font-size=\"10.00\">reset()</text>\n",
       "</a>\n",
       "</g>\n",
       "</a>\n",
       "</g>\n",
       "</a>\n",
       "</g>\n",
       "</g>\n",
       "<!-- CountingGreyboxFuzzer&#45;&gt;GreyboxFuzzer -->\n",
       "<g id=\"edge1\" class=\"edge\">\n",
       "<title>CountingGreyboxFuzzer&#45;&gt;GreyboxFuzzer</title>\n",
       "<path fill=\"none\" stroke=\"black\" d=\"M88.25,-66.67C88.25,-81.89 88.25,-100.76 88.25,-117.37\"/>\n",
       "<polygon fill=\"none\" stroke=\"black\" points=\"84.75,-116.91 88.25,-126.91 91.75,-116.91 84.75,-116.91\"/>\n",
       "</g>\n",
       "<!-- AdvancedMutationFuzzer -->\n",
       "<g id=\"node3\" class=\"node\">\n",
       "<title>AdvancedMutationFuzzer</title>\n",
       "<g id=\"a_node3\"><a xlink:href=\"#\" xlink:title=\"class AdvancedMutationFuzzer:&#10;Base class for mutation&#45;based fuzzing.\">\n",
       "<polygon fill=\"none\" stroke=\"black\" points=\"0,-244.5 0,-329.5 176.5,-329.5 176.5,-244.5 0,-244.5\"/>\n",
       "<text text-anchor=\"start\" x=\"8\" y=\"-313.2\" font-family=\"Patua One, Helvetica, sans-serif\" font-weight=\"bold\" font-size=\"14.00\" fill=\"#b03a2e\">AdvancedMutationFuzzer</text>\n",
       "<polyline fill=\"none\" stroke=\"black\" points=\"0,-303.5 176.5,-303.5\"/>\n",
       "<g id=\"a_node3_6\"><a xlink:href=\"#\" xlink:title=\"AdvancedMutationFuzzer\">\n",
       "<g id=\"a_node3_7\"><a xlink:href=\"#\" xlink:title=\"__init__(self, seeds: List[str], mutator: Mutator, schedule: PowerSchedule) &#45;&gt; None:&#10;Constructor.&#10;`seeds` &#45; a list of (input) strings to mutate.&#10;`mutator` &#45; the mutator to apply.&#10;`schedule` &#45; the power schedule to apply.\">\n",
       "<text text-anchor=\"start\" x=\"34.25\" y=\"-291\" font-family=\"'Fira Mono', 'Source Code Pro', 'Courier', monospace\" font-weight=\"bold\" font-style=\"italic\" font-size=\"10.00\">__init__()</text>\n",
       "</a>\n",
       "</g>\n",
       "<g id=\"a_node3_8\"><a xlink:href=\"#\" xlink:title=\"fuzz(self) &#45;&gt; str:&#10;Returns first each seed once and then generates new inputs\">\n",
       "<text text-anchor=\"start\" x=\"34.25\" y=\"-278.25\" font-family=\"'Fira Mono', 'Source Code Pro', 'Courier', monospace\" font-weight=\"bold\" font-style=\"italic\" font-size=\"10.00\">fuzz()</text>\n",
       "</a>\n",
       "</g>\n",
       "<g id=\"a_node3_9\"><a xlink:href=\"#\" xlink:title=\"create_candidate(self) &#45;&gt; str:&#10;Returns an input generated by fuzzing a seed in the population\">\n",
       "<text text-anchor=\"start\" x=\"34.25\" y=\"-264.5\" font-family=\"'Fira Mono', 'Source Code Pro', 'Courier', monospace\" font-size=\"10.00\">create_candidate()</text>\n",
       "</a>\n",
       "</g>\n",
       "<g id=\"a_node3_10\"><a xlink:href=\"#\" xlink:title=\"reset(self) &#45;&gt; None:&#10;Reset the initial population and seed index\">\n",
       "<text text-anchor=\"start\" x=\"34.25\" y=\"-252.75\" font-family=\"'Fira Mono', 'Source Code Pro', 'Courier', monospace\" font-style=\"italic\" font-size=\"10.00\">reset()</text>\n",
       "</a>\n",
       "</g>\n",
       "</a>\n",
       "</g>\n",
       "</a>\n",
       "</g>\n",
       "</g>\n",
       "<!-- GreyboxFuzzer&#45;&gt;AdvancedMutationFuzzer -->\n",
       "<g id=\"edge2\" class=\"edge\">\n",
       "<title>GreyboxFuzzer&#45;&gt;AdvancedMutationFuzzer</title>\n",
       "<path fill=\"none\" stroke=\"black\" d=\"M88.25,-188.62C88.25,-201.74 88.25,-217.68 88.25,-232.83\"/>\n",
       "<polygon fill=\"none\" stroke=\"black\" points=\"84.75,-232.69 88.25,-242.69 91.75,-232.69 84.75,-232.69\"/>\n",
       "</g>\n",
       "<!-- Fuzzer -->\n",
       "<g id=\"node4\" class=\"node\">\n",
       "<title>Fuzzer</title>\n",
       "<g id=\"a_node4\"><a xlink:href=\"Fuzzer.ipynb\" xlink:title=\"class Fuzzer:&#10;Base class for fuzzers.\">\n",
       "<polygon fill=\"none\" stroke=\"black\" points=\"50.25,-366.5 50.25,-451.5 126.25,-451.5 126.25,-366.5 50.25,-366.5\"/>\n",
       "<text text-anchor=\"start\" x=\"67.62\" y=\"-435.2\" font-family=\"Patua One, Helvetica, sans-serif\" font-weight=\"bold\" font-size=\"14.00\" fill=\"#b03a2e\">Fuzzer</text>\n",
       "<polyline fill=\"none\" stroke=\"black\" points=\"50.25,-425.5 126.25,-425.5\"/>\n",
       "<g id=\"a_node4_11\"><a xlink:href=\"#\" xlink:title=\"Fuzzer\">\n",
       "<g id=\"a_node4_12\"><a xlink:href=\"Fuzzer.ipynb\" xlink:title=\"__init__(self) &#45;&gt; None:&#10;Constructor\">\n",
       "<text text-anchor=\"start\" x=\"58.25\" y=\"-413\" font-family=\"'Fira Mono', 'Source Code Pro', 'Courier', monospace\" font-weight=\"bold\" font-style=\"italic\" font-size=\"10.00\">__init__()</text>\n",
       "</a>\n",
       "</g>\n",
       "<g id=\"a_node4_13\"><a xlink:href=\"Fuzzer.ipynb\" xlink:title=\"fuzz(self) &#45;&gt; str:&#10;Return fuzz input\">\n",
       "<text text-anchor=\"start\" x=\"58.25\" y=\"-400.25\" font-family=\"'Fira Mono', 'Source Code Pro', 'Courier', monospace\" font-weight=\"bold\" font-style=\"italic\" font-size=\"10.00\">fuzz()</text>\n",
       "</a>\n",
       "</g>\n",
       "<g id=\"a_node4_14\"><a xlink:href=\"Fuzzer.ipynb\" xlink:title=\"run(self, runner: Fuzzer.Runner = &lt;Fuzzer.Runner object at 0x108a9a180&gt;) &#45;&gt; Tuple[subprocess.CompletedProcess, str]:&#10;Run `runner` with fuzz input\">\n",
       "<text text-anchor=\"start\" x=\"58.25\" y=\"-387.5\" font-family=\"'Fira Mono', 'Source Code Pro', 'Courier', monospace\" font-weight=\"bold\" font-style=\"italic\" font-size=\"10.00\">run()</text>\n",
       "</a>\n",
       "</g>\n",
       "<g id=\"a_node4_15\"><a xlink:href=\"Fuzzer.ipynb\" xlink:title=\"runs(self, runner: Fuzzer.Runner = &lt;Fuzzer.PrintRunner object at 0x108a99dc0&gt;, trials: int = 10) &#45;&gt; List[Tuple[subprocess.CompletedProcess, str]]:&#10;Run `runner` with fuzz input, `trials` times\">\n",
       "<text text-anchor=\"start\" x=\"58.25\" y=\"-374.75\" font-family=\"'Fira Mono', 'Source Code Pro', 'Courier', monospace\" font-weight=\"bold\" font-size=\"10.00\">runs()</text>\n",
       "</a>\n",
       "</g>\n",
       "</a>\n",
       "</g>\n",
       "</a>\n",
       "</g>\n",
       "</g>\n",
       "<!-- AdvancedMutationFuzzer&#45;&gt;Fuzzer -->\n",
       "<g id=\"edge3\" class=\"edge\">\n",
       "<title>AdvancedMutationFuzzer&#45;&gt;Fuzzer</title>\n",
       "<path fill=\"none\" stroke=\"black\" d=\"M88.25,-329.97C88.25,-338.06 88.25,-346.62 88.25,-355\"/>\n",
       "<polygon fill=\"none\" stroke=\"black\" points=\"84.75,-354.74 88.25,-364.74 91.75,-354.74 84.75,-354.74\"/>\n",
       "</g>\n",
       "<!-- AFLFastSchedule -->\n",
       "<g id=\"node5\" class=\"node\">\n",
       "<title>AFLFastSchedule</title>\n",
       "<g id=\"a_node5\"><a xlink:href=\"#\" xlink:title=\"class AFLFastSchedule:&#10;Exponential power schedule as implemented in AFL\">\n",
       "<polygon fill=\"none\" stroke=\"black\" points=\"178.5,-128.88 178.5,-188.38 298,-188.38 298,-128.88 178.5,-128.88\"/>\n",
       "<text text-anchor=\"start\" x=\"186.5\" y=\"-172.07\" font-family=\"Patua One, Helvetica, sans-serif\" font-weight=\"bold\" font-size=\"14.00\" fill=\"#b03a2e\">AFLFastSchedule</text>\n",
       "<polyline fill=\"none\" stroke=\"black\" points=\"178.5,-162.38 298,-162.38\"/>\n",
       "<g id=\"a_node5_16\"><a xlink:href=\"#\" xlink:title=\"AFLFastSchedule\">\n",
       "<g id=\"a_node5_17\"><a xlink:href=\"#\" xlink:title=\"__init__(self, exponent: float) &#45;&gt; None:&#10;Constructor\">\n",
       "<text text-anchor=\"start\" x=\"196.25\" y=\"-149.88\" font-family=\"'Fira Mono', 'Source Code Pro', 'Courier', monospace\" font-weight=\"bold\" font-style=\"italic\" font-size=\"10.00\">__init__()</text>\n",
       "</a>\n",
       "</g>\n",
       "<g id=\"a_node5_18\"><a xlink:href=\"#\" xlink:title=\"assignEnergy(self, population: collections.abc.Sequence[Seed]) &#45;&gt; None:&#10;Assign exponential energy inversely proportional to path frequency\">\n",
       "<text text-anchor=\"start\" x=\"196.25\" y=\"-137.12\" font-family=\"'Fira Mono', 'Source Code Pro', 'Courier', monospace\" font-style=\"italic\" font-size=\"10.00\">assignEnergy()</text>\n",
       "</a>\n",
       "</g>\n",
       "</a>\n",
       "</g>\n",
       "</a>\n",
       "</g>\n",
       "</g>\n",
       "<!-- PowerSchedule -->\n",
       "<g id=\"node6\" class=\"node\">\n",
       "<title>PowerSchedule</title>\n",
       "<g id=\"a_node6\"><a xlink:href=\"#\" xlink:title=\"class PowerSchedule:&#10;Define how fuzzing time should be distributed across the population.\">\n",
       "<polygon fill=\"none\" stroke=\"black\" points=\"255.25,-244.5 255.25,-329.5 379.25,-329.5 379.25,-244.5 255.25,-244.5\"/>\n",
       "<text text-anchor=\"start\" x=\"270.38\" y=\"-313.2\" font-family=\"Patua One, Helvetica, sans-serif\" font-weight=\"bold\" font-size=\"14.00\" fill=\"#b03a2e\">PowerSchedule</text>\n",
       "<polyline fill=\"none\" stroke=\"black\" points=\"255.25,-303.5 379.25,-303.5\"/>\n",
       "<g id=\"a_node6_19\"><a xlink:href=\"#\" xlink:title=\"PowerSchedule\">\n",
       "<g id=\"a_node6_20\"><a xlink:href=\"#\" xlink:title=\"__init__(self) &#45;&gt; None:&#10;Constructor\">\n",
       "<text text-anchor=\"start\" x=\"263.25\" y=\"-291\" font-family=\"'Fira Mono', 'Source Code Pro', 'Courier', monospace\" font-weight=\"bold\" font-style=\"italic\" font-size=\"10.00\">__init__()</text>\n",
       "</a>\n",
       "</g>\n",
       "<g id=\"a_node6_21\"><a xlink:href=\"#\" xlink:title=\"assignEnergy(self, population: collections.abc.Sequence[Seed]) &#45;&gt; None:&#10;Assigns each seed the same energy\">\n",
       "<text text-anchor=\"start\" x=\"263.25\" y=\"-278.25\" font-family=\"'Fira Mono', 'Source Code Pro', 'Courier', monospace\" font-style=\"italic\" font-size=\"10.00\">assignEnergy()</text>\n",
       "</a>\n",
       "</g>\n",
       "<g id=\"a_node6_22\"><a xlink:href=\"#\" xlink:title=\"choose(self, population: collections.abc.Sequence[Seed]) &#45;&gt; Seed:&#10;Choose weighted by normalized energy.\">\n",
       "<text text-anchor=\"start\" x=\"263.25\" y=\"-264.5\" font-family=\"'Fira Mono', 'Source Code Pro', 'Courier', monospace\" font-size=\"10.00\">choose()</text>\n",
       "</a>\n",
       "</g>\n",
       "<g id=\"a_node6_23\"><a xlink:href=\"#\" xlink:title=\"normalizedEnergy(self, population: collections.abc.Sequence[Seed]) &#45;&gt; List[float]:&#10;Normalize energy\">\n",
       "<text text-anchor=\"start\" x=\"263.25\" y=\"-251.75\" font-family=\"'Fira Mono', 'Source Code Pro', 'Courier', monospace\" font-size=\"10.00\">normalizedEnergy()</text>\n",
       "</a>\n",
       "</g>\n",
       "</a>\n",
       "</g>\n",
       "</a>\n",
       "</g>\n",
       "</g>\n",
       "<!-- AFLFastSchedule&#45;&gt;PowerSchedule -->\n",
       "<g id=\"edge4\" class=\"edge\">\n",
       "<title>AFLFastSchedule&#45;&gt;PowerSchedule</title>\n",
       "<path fill=\"none\" stroke=\"black\" d=\"M256.37,-188.62C264.9,-202.26 275.33,-218.94 285.13,-234.61\"/>\n",
       "<polygon fill=\"none\" stroke=\"black\" points=\"282.05,-236.3 290.32,-242.92 287.99,-232.59 282.05,-236.3\"/>\n",
       "</g>\n",
       "<!-- AFLGoSchedule -->\n",
       "<g id=\"node7\" class=\"node\">\n",
       "<title>AFLGoSchedule</title>\n",
       "<g id=\"a_node7\"><a xlink:href=\"#\" xlink:title=\"class AFLGoSchedule:&#10;Assign high energy to seeds close to the target\">\n",
       "<polygon fill=\"none\" stroke=\"black\" points=\"323,-13.25 323,-60 433.5,-60 433.5,-13.25 323,-13.25\"/>\n",
       "<text text-anchor=\"start\" x=\"331\" y=\"-43.7\" font-family=\"Patua One, Helvetica, sans-serif\" font-weight=\"bold\" font-size=\"14.00\" fill=\"#b03a2e\">AFLGoSchedule</text>\n",
       "<polyline fill=\"none\" stroke=\"black\" points=\"323,-34 433.5,-34\"/>\n",
       "<g id=\"a_node7_24\"><a xlink:href=\"#\" xlink:title=\"AFLGoSchedule\">\n",
       "<g id=\"a_node7_25\"><a xlink:href=\"#\" xlink:title=\"assignEnergy(self, population: collections.abc.Sequence[Seed]):&#10;Assigns each seed energy inversely proportional&#10;to the average function&#45;level distance to target.\">\n",
       "<text text-anchor=\"start\" x=\"336.25\" y=\"-21.5\" font-family=\"'Fira Mono', 'Source Code Pro', 'Courier', monospace\" font-style=\"italic\" font-size=\"10.00\">assignEnergy()</text>\n",
       "</a>\n",
       "</g>\n",
       "</a>\n",
       "</g>\n",
       "</a>\n",
       "</g>\n",
       "</g>\n",
       "<!-- DirectedSchedule -->\n",
       "<g id=\"node8\" class=\"node\">\n",
       "<title>DirectedSchedule</title>\n",
       "<g id=\"a_node8\"><a xlink:href=\"#\" xlink:title=\"class DirectedSchedule:&#10;Assign high energy to seeds close to some target\">\n",
       "<polygon fill=\"none\" stroke=\"black\" points=\"316.25,-122.5 316.25,-194.75 440.25,-194.75 440.25,-122.5 316.25,-122.5\"/>\n",
       "<text text-anchor=\"start\" x=\"325.75\" y=\"-178.45\" font-family=\"Patua One, Helvetica, sans-serif\" font-weight=\"bold\" font-size=\"14.00\" fill=\"#b03a2e\">DirectedSchedule</text>\n",
       "<polyline fill=\"none\" stroke=\"black\" points=\"316.25,-168.75 440.25,-168.75\"/>\n",
       "<g id=\"a_node8_26\"><a xlink:href=\"#\" xlink:title=\"DirectedSchedule\">\n",
       "<g id=\"a_node8_27\"><a xlink:href=\"#\" xlink:title=\"__init__(self, distance: Dict[str, int], exponent: float) &#45;&gt; None:&#10;Constructor\">\n",
       "<text text-anchor=\"start\" x=\"324.25\" y=\"-156.25\" font-family=\"'Fira Mono', 'Source Code Pro', 'Courier', monospace\" font-weight=\"bold\" font-style=\"italic\" font-size=\"10.00\">__init__()</text>\n",
       "</a>\n",
       "</g>\n",
       "<g id=\"a_node8_28\"><a xlink:href=\"#\" xlink:title=\"__getFunctions__(self, coverage: Set[Location]) &#45;&gt; Set[str]\">\n",
       "<text text-anchor=\"start\" x=\"324.25\" y=\"-142.5\" font-family=\"'Fira Mono', 'Source Code Pro', 'Courier', monospace\" font-size=\"10.00\">__getFunctions__()</text>\n",
       "</a>\n",
       "</g>\n",
       "<g id=\"a_node8_29\"><a xlink:href=\"#\" xlink:title=\"assignEnergy(self, population: collections.abc.Sequence[Seed]) &#45;&gt; None:&#10;Assigns each seed energy inversely proportional&#10;to the average function&#45;level distance to target.\">\n",
       "<text text-anchor=\"start\" x=\"324.25\" y=\"-130.75\" font-family=\"'Fira Mono', 'Source Code Pro', 'Courier', monospace\" font-style=\"italic\" font-size=\"10.00\">assignEnergy()</text>\n",
       "</a>\n",
       "</g>\n",
       "</a>\n",
       "</g>\n",
       "</a>\n",
       "</g>\n",
       "</g>\n",
       "<!-- AFLGoSchedule&#45;&gt;DirectedSchedule -->\n",
       "<g id=\"edge5\" class=\"edge\">\n",
       "<title>AFLGoSchedule&#45;&gt;DirectedSchedule</title>\n",
       "<path fill=\"none\" stroke=\"black\" d=\"M378.25,-60.48C378.25,-74.76 378.25,-93.67 378.25,-111.01\"/>\n",
       "<polygon fill=\"none\" stroke=\"black\" points=\"374.75,-110.59 378.25,-120.59 381.75,-110.59 374.75,-110.59\"/>\n",
       "</g>\n",
       "<!-- DirectedSchedule&#45;&gt;PowerSchedule -->\n",
       "<g id=\"edge6\" class=\"edge\">\n",
       "<title>DirectedSchedule&#45;&gt;PowerSchedule</title>\n",
       "<path fill=\"none\" stroke=\"black\" d=\"M361.1,-195.16C355.31,-207.15 348.73,-220.78 342.46,-233.78\"/>\n",
       "<polygon fill=\"none\" stroke=\"black\" points=\"339.37,-232.13 338.17,-242.65 345.67,-235.17 339.37,-232.13\"/>\n",
       "</g>\n",
       "<!-- DictMutator -->\n",
       "<g id=\"node9\" class=\"node\">\n",
       "<title>DictMutator</title>\n",
       "<g id=\"a_node9\"><a xlink:href=\"#\" xlink:title=\"class DictMutator:&#10;Variant of `Mutator` inserting keywords from a dictionary\">\n",
       "<polygon fill=\"none\" stroke=\"black\" points=\"461.25,-6.88 461.25,-66.38 621.25,-66.38 621.25,-6.88 461.25,-6.88\"/>\n",
       "<text text-anchor=\"start\" x=\"503.38\" y=\"-50.08\" font-family=\"Patua One, Helvetica, sans-serif\" font-weight=\"bold\" font-size=\"14.00\" fill=\"#b03a2e\">DictMutator</text>\n",
       "<polyline fill=\"none\" stroke=\"black\" points=\"461.25,-40.38 621.25,-40.38\"/>\n",
       "<g id=\"a_node9_30\"><a xlink:href=\"#\" xlink:title=\"DictMutator\">\n",
       "<g id=\"a_node9_31\"><a xlink:href=\"#\" xlink:title=\"__init__(self, dictionary: collections.abc.Sequence[str]) &#45;&gt; None:&#10;Constructor.&#10;`dictionary` &#45; a list of strings that can be used as keywords\">\n",
       "<text text-anchor=\"start\" x=\"469.25\" y=\"-27.88\" font-family=\"'Fira Mono', 'Source Code Pro', 'Courier', monospace\" font-weight=\"bold\" font-style=\"italic\" font-size=\"10.00\">__init__()</text>\n",
       "</a>\n",
       "</g>\n",
       "<g id=\"a_node9_32\"><a xlink:href=\"#\" xlink:title=\"insert_from_dictionary(self, s: str) &#45;&gt; str:&#10;Returns `s` with a keyword from the dictionary inserted\">\n",
       "<text text-anchor=\"start\" x=\"469.25\" y=\"-14.12\" font-family=\"'Fira Mono', 'Source Code Pro', 'Courier', monospace\" font-size=\"10.00\">insert_from_dictionary()</text>\n",
       "</a>\n",
       "</g>\n",
       "</a>\n",
       "</g>\n",
       "</a>\n",
       "</g>\n",
       "</g>\n",
       "<!-- Mutator -->\n",
       "<g id=\"node10\" class=\"node\">\n",
       "<title>Mutator</title>\n",
       "<g id=\"a_node10\"><a xlink:href=\"#\" xlink:title=\"class Mutator:&#10;Mutate strings\">\n",
       "<polygon fill=\"none\" stroke=\"black\" points=\"458.25,-109.75 458.25,-207.5 624.25,-207.5 624.25,-109.75 458.25,-109.75\"/>\n",
       "<text text-anchor=\"start\" x=\"515.38\" y=\"-191.2\" font-family=\"Patua One, Helvetica, sans-serif\" font-weight=\"bold\" font-size=\"14.00\" fill=\"#b03a2e\">Mutator</text>\n",
       "<polyline fill=\"none\" stroke=\"black\" points=\"458.25,-181.5 624.25,-181.5\"/>\n",
       "<g id=\"a_node10_33\"><a xlink:href=\"#\" xlink:title=\"Mutator\">\n",
       "<g id=\"a_node10_34\"><a xlink:href=\"#\" xlink:title=\"__init__(self) &#45;&gt; None:&#10;Constructor\">\n",
       "<text text-anchor=\"start\" x=\"466.25\" y=\"-169\" font-family=\"'Fira Mono', 'Source Code Pro', 'Courier', monospace\" font-weight=\"bold\" font-style=\"italic\" font-size=\"10.00\">__init__()</text>\n",
       "</a>\n",
       "</g>\n",
       "<g id=\"a_node10_35\"><a xlink:href=\"#\" xlink:title=\"delete_random_character(self, s: str) &#45;&gt; str:&#10;Returns s with a random character deleted\">\n",
       "<text text-anchor=\"start\" x=\"466.25\" y=\"-155.25\" font-family=\"'Fira Mono', 'Source Code Pro', 'Courier', monospace\" font-size=\"10.00\">delete_random_character()</text>\n",
       "</a>\n",
       "</g>\n",
       "<g id=\"a_node10_36\"><a xlink:href=\"#\" xlink:title=\"flip_random_character(self, s: str) &#45;&gt; str:&#10;Returns s with a random bit flipped in a random position\">\n",
       "<text text-anchor=\"start\" x=\"466.25\" y=\"-142.5\" font-family=\"'Fira Mono', 'Source Code Pro', 'Courier', monospace\" font-size=\"10.00\">flip_random_character()</text>\n",
       "</a>\n",
       "</g>\n",
       "<g id=\"a_node10_37\"><a xlink:href=\"#\" xlink:title=\"insert_random_character(self, s: str) &#45;&gt; str:&#10;Returns s with a random character inserted\">\n",
       "<text text-anchor=\"start\" x=\"466.25\" y=\"-129.75\" font-family=\"'Fira Mono', 'Source Code Pro', 'Courier', monospace\" font-size=\"10.00\">insert_random_character()</text>\n",
       "</a>\n",
       "</g>\n",
       "<g id=\"a_node10_38\"><a xlink:href=\"#\" xlink:title=\"mutate(self, inp: Any) &#45;&gt; Any:&#10;Return s with a random mutation applied. Can be overloaded in subclasses.\">\n",
       "<text text-anchor=\"start\" x=\"466.25\" y=\"-118\" font-family=\"'Fira Mono', 'Source Code Pro', 'Courier', monospace\" font-style=\"italic\" font-size=\"10.00\">mutate()</text>\n",
       "</a>\n",
       "</g>\n",
       "</a>\n",
       "</g>\n",
       "</a>\n",
       "</g>\n",
       "</g>\n",
       "<!-- DictMutator&#45;&gt;Mutator -->\n",
       "<g id=\"edge7\" class=\"edge\">\n",
       "<title>DictMutator&#45;&gt;Mutator</title>\n",
       "<path fill=\"none\" stroke=\"black\" d=\"M541.25,-66.67C541.25,-76.25 541.25,-87.27 541.25,-98.27\"/>\n",
       "<polygon fill=\"none\" stroke=\"black\" points=\"537.75,-98.14 541.25,-108.14 544.75,-98.14 537.75,-98.14\"/>\n",
       "</g>\n",
       "<!-- Seed -->\n",
       "<g id=\"node11\" class=\"node\">\n",
       "<title>Seed</title>\n",
       "<g id=\"a_node11\"><a xlink:href=\"#\" xlink:title=\"class Seed:&#10;Represent an input with additional attributes\">\n",
       "<polygon fill=\"none\" stroke=\"black\" points=\"639.25,-0.5 639.25,-72.75 715.25,-72.75 715.25,-0.5 639.25,-0.5\"/>\n",
       "<text text-anchor=\"start\" x=\"663\" y=\"-56.45\" font-family=\"Patua One, Helvetica, sans-serif\" font-weight=\"bold\" font-size=\"14.00\" fill=\"#b03a2e\">Seed</text>\n",
       "<polyline fill=\"none\" stroke=\"black\" points=\"639.25,-46.75 715.25,-46.75\"/>\n",
       "<g id=\"a_node11_39\"><a xlink:href=\"#\" xlink:title=\"Seed\">\n",
       "<g id=\"a_node11_40\"><a xlink:href=\"#\" xlink:title=\"__init__(self, data: str) &#45;&gt; None:&#10;Initialize from seed data\">\n",
       "<text text-anchor=\"start\" x=\"647.25\" y=\"-34.25\" font-family=\"'Fira Mono', 'Source Code Pro', 'Courier', monospace\" font-weight=\"bold\" font-size=\"10.00\">__init__()</text>\n",
       "</a>\n",
       "</g>\n",
       "<g id=\"a_node11_41\"><a xlink:href=\"#\" xlink:title=\"__repr__(self) &#45;&gt; str:&#10;Returns data as string representation of the seed\">\n",
       "<text text-anchor=\"start\" x=\"647.25\" y=\"-20.5\" font-family=\"'Fira Mono', 'Source Code Pro', 'Courier', monospace\" font-size=\"10.00\">__repr__()</text>\n",
       "</a>\n",
       "</g>\n",
       "<g id=\"a_node11_42\"><a xlink:href=\"#\" xlink:title=\"__str__(self) &#45;&gt; str:&#10;Returns data as string representation of the seed\">\n",
       "<text text-anchor=\"start\" x=\"647.25\" y=\"-7.75\" font-family=\"'Fira Mono', 'Source Code Pro', 'Courier', monospace\" font-size=\"10.00\">__str__()</text>\n",
       "</a>\n",
       "</g>\n",
       "</a>\n",
       "</g>\n",
       "</a>\n",
       "</g>\n",
       "</g>\n",
       "<!-- Legend -->\n",
       "<g id=\"node12\" class=\"node\">\n",
       "<title>Legend</title>\n",
       "<text text-anchor=\"start\" x=\"733.62\" y=\"-52.62\" font-family=\"Patua One, Helvetica, sans-serif\" font-weight=\"bold\" font-size=\"10.00\" fill=\"#b03a2e\">Legend</text>\n",
       "<text text-anchor=\"start\" x=\"733.62\" y=\"-42.62\" font-family=\"Patua One, Helvetica, sans-serif\" font-size=\"10.00\">• </text>\n",
       "<text text-anchor=\"start\" x=\"739.62\" y=\"-42.62\" font-family=\"'Fira Mono', 'Source Code Pro', 'Courier', monospace\" font-weight=\"bold\" font-size=\"8.00\">public_method()</text>\n",
       "<text text-anchor=\"start\" x=\"733.62\" y=\"-32.62\" font-family=\"Patua One, Helvetica, sans-serif\" font-size=\"10.00\">• </text>\n",
       "<text text-anchor=\"start\" x=\"739.62\" y=\"-32.62\" font-family=\"'Fira Mono', 'Source Code Pro', 'Courier', monospace\" font-size=\"8.00\">private_method()</text>\n",
       "<text text-anchor=\"start\" x=\"733.62\" y=\"-22.62\" font-family=\"Patua One, Helvetica, sans-serif\" font-size=\"10.00\">• </text>\n",
       "<text text-anchor=\"start\" x=\"739.62\" y=\"-22.62\" font-family=\"'Fira Mono', 'Source Code Pro', 'Courier', monospace\" font-style=\"italic\" font-size=\"8.00\">overloaded_method()</text>\n",
       "<text text-anchor=\"start\" x=\"733.62\" y=\"-13.57\" font-family=\"Helvetica,sans-Serif\" font-size=\"9.00\">Hover over names to see doc</text>\n",
       "</g>\n",
       "</g>\n",
       "</svg>\n"
      ],
      "text/plain": [
       "<graphviz.graphs.Digraph at 0x10ad35e20>"
      ]
     },
     "execution_count": 93,
     "metadata": {},
     "output_type": "execute_result"
    }
   ],
   "source": [
    "# ignore\n",
    "display_class_hierarchy([CountingGreyboxFuzzer, AFLFastSchedule, AFLGoSchedule,\n",
    "                         DictMutator, Seed],\n",
    "                        public_methods=[\n",
    "                            Fuzzer.run,\n",
    "                            Fuzzer.__init__,\n",
    "                            Fuzzer.runs,\n",
    "                            Fuzzer.fuzz,\n",
    "                            AdvancedMutationFuzzer.__init__,\n",
    "                            AdvancedMutationFuzzer.fuzz,\n",
    "                            GreyboxFuzzer.run,\n",
    "                            CountingGreyboxFuzzer.run,\n",
    "                            PowerSchedule.__init__,\n",
    "                            DirectedSchedule.__init__,\n",
    "                            AFLGoSchedule.__init__,\n",
    "                            AFLFastSchedule.__init__,\n",
    "                            Seed.__init__,\n",
    "                            Mutator.__init__,\n",
    "                            DictMutator.__init__,\n",
    "                        ],\n",
    "                        types={'Location': Location},\n",
    "                        project='fuzzingbook')"
   ]
  },
  {
   "cell_type": "markdown",
   "metadata": {
    "button": false,
    "jp-MarkdownHeadingCollapsed": true,
    "new_sheet": true,
    "run_control": {
     "read_only": false
    },
    "slideshow": {
     "slide_type": "slide"
    },
    "tags": []
   },
   "source": [
    "## Lessons Learned\n",
    "\n",
    "* A *greybox fuzzer* generates thousands of inputs per second. Pre-processing and lightweight instrumentation \n",
    "  * allows maintaining the efficiency *during* the fuzzing campaign, and \n",
    "  * still provides enough information to control progress and slightly steer the fuzzer.\n",
    "* The *power schedule* allows _steering and controlling_ the fuzzer. For instance,\n",
    "  * Our [boosted greybox fuzzer](#Fuzzer-Boosting) spends more energy on seeds that exercise \"unlikely\" paths. The hope is that the generated inputs exercise even more unlikely paths. This in turn increases the number of paths explored per unit time.\n",
    "  * Our [directed greybox fuzzer](#Directed-Greybox-Fuzzing) spends more energy on seeds that are \"closer\" to a target location. The hope is that the generated inputs get even closer to the target.\n",
    "* The *mutator* defines the fuzzer's search space. [Customizing the mutator](GreyboxFuzzer.ipynb#A-First-Attempt) for the given program allows reducing the search space to only relevant inputs. In a couple of chapters, we'll learn about [dictionary-based, and grammar-based mutators](GreyboxGrammarFuzzer.ipynb) to increase the ratio of valid inputs generated."
   ]
  },
  {
   "cell_type": "markdown",
   "metadata": {
    "jp-MarkdownHeadingCollapsed": true,
    "slideshow": {
     "slide_type": "slide"
    },
    "tags": []
   },
   "source": [
    "## Background\n",
    "\n",
    "* **Find out more about AFL**: http://lcamtuf.coredump.cx/afl/\n",
    "* **Learn about LibFuzzer** (another famous greybox fuzzer): http://llvm.org/docs/LibFuzzer.html\n",
    "* **How quickly must a whitebox fuzzer exercise each path to remain more efficient than a greybox fuzzer?** Marcel Böhme and Soumya Paul. 2016. [A Probabilistic Analysis of the Efficiency of Automated Software Testing](https://mboehme.github.io/paper/TSE15.pdf), IEEE TSE, 42:345-360 \\cite{boehme2016efficiency}"
   ]
  },
  {
   "cell_type": "markdown",
   "metadata": {
    "button": false,
    "new_sheet": false,
    "run_control": {
     "read_only": false
    },
    "slideshow": {
     "slide_type": "slide"
    }
   },
   "source": [
    "## Next Steps\n",
    "\n",
    "Our aim is still to sufficiently cover functionality, such that we can trigger as many bugs as possible.  To this end, we focus on two classes of techniques:\n",
    "\n",
    "1. Try to cover as much _specified_ functionality as possible.  Here, we would need a _specification of the input format,_ distinguishing between individual input elements such as (in our case) numbers, operators, comments, and strings – and attempting to cover as many of these as possible.  We will explore this as it comes to [grammar-based testing](GrammarFuzzer.ipynb), and especially in [grammar-based mutations](GreyboxGrammarFuzzer.ipynb).\n",
    "\n",
    "2. Try to cover as much _implemented_ functionality as possible.  The concept of a \"population\" that is systematically \"evolved\" through \"mutations\" will be explored in depth when discussing [search-based testing](SearchBasedFuzzer.ipynb).  Furthermore, [symbolic testing](SymbolicFuzzer.ipynb) introduces how to systematically reach program locations by solving the conditions that lie on their paths.\n",
    "\n",
    "These two techniques make up the gist of the book; and, of course, they can also be combined with each other.  As usual, we provide runnable code for all.  Enjoy!"
   ]
  },
  {
   "cell_type": "markdown",
   "metadata": {
    "slideshow": {
     "slide_type": "subslide"
    }
   },
   "source": [
    "We're done, so we clean up:"
   ]
  },
  {
   "cell_type": "code",
   "execution_count": 94,
   "metadata": {
    "execution": {
     "iopub.execute_input": "2025-01-16T09:39:41.948368Z",
     "iopub.status.busy": "2025-01-16T09:39:41.948211Z",
     "iopub.status.idle": "2025-01-16T09:39:41.950254Z",
     "shell.execute_reply": "2025-01-16T09:39:41.949986Z"
    },
    "slideshow": {
     "slide_type": "skip"
    }
   },
   "outputs": [],
   "source": [
    "import os"
   ]
  },
  {
   "cell_type": "code",
   "execution_count": 95,
   "metadata": {
    "execution": {
     "iopub.execute_input": "2025-01-16T09:39:41.951971Z",
     "iopub.status.busy": "2025-01-16T09:39:41.951851Z",
     "iopub.status.idle": "2025-01-16T09:39:41.954079Z",
     "shell.execute_reply": "2025-01-16T09:39:41.953773Z"
    },
    "slideshow": {
     "slide_type": "fragment"
    }
   },
   "outputs": [],
   "source": [
    "if os.path.exists('callgraph.dot'):\n",
    "    os.remove('callgraph.dot')\n",
    "\n",
    "if os.path.exists('callgraph.py'):\n",
    "    os.remove('callgraph.py')"
   ]
  },
  {
   "cell_type": "markdown",
   "metadata": {
    "slideshow": {
     "slide_type": "slide"
    }
   },
   "source": [
    "## Compatibility"
   ]
  },
  {
   "cell_type": "markdown",
   "metadata": {
    "slideshow": {
     "slide_type": "fragment"
    }
   },
   "source": [
    "In previous version of the chapter, the `AdvancedMutationFuzzer` class was named simply `MutationFuzzer`, causing name confusion with the `MutationFuzzer` class in the [introduction to mutation-based fuzzing](MutationFuzzer.ipynb). The following declaration introduces a backward-compatible alias."
   ]
  },
  {
   "cell_type": "code",
   "execution_count": 96,
   "metadata": {
    "execution": {
     "iopub.execute_input": "2025-01-16T09:39:41.956124Z",
     "iopub.status.busy": "2025-01-16T09:39:41.956009Z",
     "iopub.status.idle": "2025-01-16T09:39:41.957969Z",
     "shell.execute_reply": "2025-01-16T09:39:41.957656Z"
    },
    "slideshow": {
     "slide_type": "fragment"
    }
   },
   "outputs": [],
   "source": [
    "class MutationFuzzer(AdvancedMutationFuzzer):\n",
    "    pass"
   ]
  },
  {
   "cell_type": "markdown",
   "metadata": {
    "button": false,
    "new_sheet": true,
    "run_control": {
     "read_only": false
    },
    "slideshow": {
     "slide_type": "slide"
    }
   },
   "source": [
    "## Exercises\n",
    "\n",
    "To be added. \\todo{}"
   ]
  }
 ],
 "metadata": {
  "ipub": {
   "bibliography": "fuzzingbook.bib",
   "toc": true
  },
  "kernelspec": {
   "display_name": "Python 3",
   "language": "python",
   "name": "python3"
  },
  "language_info": {
   "codemirror_mode": {
    "name": "ipython",
    "version": 3
   },
   "file_extension": ".py",
   "mimetype": "text/x-python",
   "name": "python",
   "nbconvert_exporter": "python",
   "pygments_lexer": "ipython3",
   "version": "3.12.8"
  },
  "toc": {
   "base_numbering": 1,
   "nav_menu": {},
   "number_sections": true,
   "sideBar": true,
   "skip_h1_title": true,
   "title_cell": "",
   "title_sidebar": "Contents",
   "toc_cell": false,
   "toc_position": {},
   "toc_section_display": true,
   "toc_window_display": true
  },
  "toc-autonumbering": false,
  "varInspector": {
   "cols": {
    "lenName": 16,
    "lenType": 16,
    "lenVar": 40
   },
   "kernels_config": {
    "python": {
     "delete_cmd_postfix": "",
     "delete_cmd_prefix": "del ",
     "library": "var_list.py",
     "varRefreshCmd": "print(var_dic_list())"
    },
    "r": {
     "delete_cmd_postfix": ") ",
     "delete_cmd_prefix": "rm(",
     "library": "var_list.r",
     "varRefreshCmd": "cat(var_dic_list()) "
    }
   },
   "types_to_exclude": [
    "module",
    "function",
    "builtin_function_or_method",
    "instance",
    "_Feature"
   ],
   "window_display": false
  },
  "vscode": {
   "interpreter": {
    "hash": "4185989cf89c47c310c2629adcadd634093b57a2c49dffb5ae8d0d14fa302f2b"
   }
  }
 },
 "nbformat": 4,
 "nbformat_minor": 4
}