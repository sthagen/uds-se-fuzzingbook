{
 "cells": [
  {
   "attachments": {},
   "cell_type": "markdown",
   "metadata": {
    "button": false,
    "new_sheet": false,
    "run_control": {
     "read_only": false
    },
    "slideshow": {
     "slide_type": "slide"
    }
   },
   "source": [
    "# Search-Based Fuzzing\n",
    "\n",
    "Sometimes we are not only interested in fuzzing as many as possible diverse program inputs, but in deriving *specific* test inputs that achieve some objective, such as reaching specific statements in a program. When we have an idea of what we are looking for, then we can *search* for it. Search algorithms are at the core of computer science, but applying classic search algorithms like breadth or depth first search to search for tests is unrealistic, because these algorithms potentially require us to look at all possible inputs. However, domain-knowledge can be used to overcome this problem. For example, if we can estimate which of several program inputs is closer to the one we are looking for, then this information can guide us to reach the target quicker – this information is known as a *heuristic*. The way heuristics are applied systematically is captured in *meta-heuristic* search algorithms. The \"meta\" denotes that these algorithms are generic and can be instantiated differently to different problems. Meta-heuristics often take inspiration from processes observed in nature. For example, there are algorithms mimicking evolutionary processes, swarm intelligence, or chemical reactions. In general, they are much more efficient than exhaustive search approaches such that they can be applied to vast search spaces – search spaces as vast as the domain of program inputs are no problem for them."
   ]
  },
  {
   "cell_type": "markdown",
   "metadata": {
    "button": false,
    "new_sheet": false,
    "run_control": {
     "read_only": false
    },
    "slideshow": {
     "slide_type": "subslide"
    }
   },
   "source": [
    "**Prerequisites**\n",
    "\n",
    "* You should know how code coverage works, e.g. from the [chapter on coverage](Coverage.ipynb)."
   ]
  },
  {
   "cell_type": "markdown",
   "metadata": {
    "slideshow": {
     "slide_type": "skip"
    }
   },
   "source": [
    "## Synopsis\n",
    "<!-- Automatically generated. Do not edit. -->\n",
    "\n",
    "To [use the code provided in this chapter](Importing.ipynb), write\n",
    "\n",
    "```python\n",
    ">>> from fuzzingbook.SearchBasedFuzzer import <identifier>\n",
    "```\n",
    "\n",
    "and then make use of the following features.\n",
    "\n",
    "\n",
    "This chapter demonstrates how to use meta-heuristic search algorithms to find inputs that reach specific locations in the source code. The simplest search algorithm is hillclimbing, which is applied to the simple `test_me` example as follows:\n",
    "\n",
    "```python\n",
    ">>> hillclimber()\n",
    "Initial value: -67005, 8742 at fitness 84491.0000\n",
    "New value: -67006, 8741 at fitness 84490.0000\n",
    "New value: -67007, 8740 at fitness 84489.0000\n",
    "New value: -67008, 8739 at fitness 84488.0000\n",
    "New value: -67009, 8738 at fitness 84487.0000\n",
    "New value: -67010, 8737 at fitness 84486.0000\n",
    "New value: -67011, 8736 at fitness 84485.0000\n",
    "New value: -67012, 8735 at fitness 84484.0000\n",
    "New value: -67013, 8734 at fitness 84483.0000\n",
    "New value: -67014, 8733 at fitness 84482.0000\n",
    "New value: -67015, 8732 at fitness 84481.0000\n",
    "New value: -67016, 8731 at fitness 84480.0000\n",
    "New value: -67017, 8730 at fitness 84479.0000\n",
    "New value: -67018, 8729 at fitness 84478.0000\n",
    "New value: -67019, 8728 at fitness 84477.0000\n",
    "New value: -67020, 8727 at fitness 84476.0000\n",
    "New value: -67021, 8726 at fitness 84475.0000\n",
    "New value: -67022, 8725 at fitness 84474.0000\n",
    "New value: -67023, 8724 at fitness 84473.0000\n",
    "New value: -67024, 8723 at fitness 84472.0000\n",
    "New value: -67025, 8722 at fitness 84471.0000\n",
    "...\n",
    "Found optimum after 58743 iterations at -100000, -50001\n",
    "\n",
    "```\n",
    "Different aspects and challenges require different variations of this algorithm, such as a `steepest_ascent_hillclimber` or a `restarting_hillclimber`.\n",
    "\n",
    "The search can be guided by different optimization goals captured in fitness functions. A fitness function to measure how close we are to reaching locations in the source code uses source code instrumentation. To produce an instrumented version of `cgi_decode`, use:\n",
    "\n",
    "```python\n",
    ">>> cgi_decode_instrumented = create_instrumented_function(cgi_decode)\n",
    "/var/folders/n2/xd9445p97rb3xh7m1dfx8_4h0006ts/T/ipykernel_7394/942233608.py:15: DeprecationWarning: ast.Num is deprecated and will be removed in Python 3.14; use ast.Constant instead\n",
    "  args=[ast.Num(self.branch_num),\n",
    "/var/folders/n2/xd9445p97rb3xh7m1dfx8_4h0006ts/T/ipykernel_7394/942233608.py:16: DeprecationWarning: ast.Str is deprecated and will be removed in Python 3.14; use ast.Constant instead\n",
    "  ast.Str(node.ops[0].__class__.__name__),\n",
    "\n",
    "```\n",
    "Fitness values are obtained by executing `cgi_decode_instrumented`, which is done by the `get_fitness_cgi` function:\n",
    "\n",
    "```python\n",
    ">>> get_fitness_cgi(\"Foo\")\n",
    "5.0\n",
    "```\n",
    "Complex functions like `cgi_decode` result in vastly larger search spaces, which can be explored using evolutionary search algorithms such as genetic algorithms:\n",
    "\n",
    "```python\n",
    ">>> genetic_algorithm()\n",
    "Best fitness of initial population: '䫪Ʝ\\uf42b铺뿱ጻ䗷䌮肵篭' - 5.0000000000\n",
    "Best fitness at generation 1: '\\u19cdꥁ캖蝻ⅹ\\uf37f功ᰲ\\ued7eᱨ' - 5.00000000\n",
    "Best fitness at generation 2: '绑䀕\\u20c5֜적\\udfaeᇒ툧痮Ꮶ' - 5.00000000\n",
    "Best fitness at generation 3: '끍碼ߝ䣅쾜\\u0b7b죅ᦜ\\uf1fd䈕' - 5.00000000\n",
    "Best fitness at generation 4: '甚ᇆꏭ貰꾵訴྿ꙩᏃด' - 5.00000000\n",
    "Best fitness at generation 5: '\\uf644ᇆꏭ貰虀ꎍ\\uf6f9嫛ሎ㺁' - 5.00000000\n",
    "Best fitness at generation 6: '빫\\uf61a\\ud85c熆꾵訴ဍꙩᑓ\\ue8e0' - 5.00000000\n",
    "Best fitness at generation 7: '닅\\uf307Ɗ\\uefc5筂鐞嚂ᡥ⃫㺤' - 5.00000000\n",
    "Best fitness at generation 8: '漻㺅揝䄩薽턫轼\\u0dcc\\udb87胮' - 5.00000000\n",
    "Best fitness at generation 9: '甚ᇩ護㿦腄ꑗ\\uf6f9嫛ም凂' - 5.00000000\n",
    "Best fitness at generation 10: '끍ᇆ⁔峤羘䶦Ⓛ巖桿\\ue8ac' - 5.00000000\n",
    "Best fitness at generation 11: '㞮械ꏭഡ鰴勂ᇒ툧䧱㺡' - 5.00000000\n",
    "Best fitness at generation 12: '닅\\uf307Ɗ䣅筂鐮\\uf697媭ም凂' - 5.00000000\n",
    "Best fitness at generation 13: '췵㪈쾟⢥筂鐇勨憣并ꓹ' - 5.00000000\n",
    "Best fitness at generation 14: '睾\\uf2aaﾒ\\uef8b鰴⥢邹坅櫼砳' - 5.00000000\n",
    "Best fitness at generation 15: '盾㩭譂䅎웱勂ᇒ텬䧱㺡' - 5.00000000\n",
    "Best fitness at generation 16: '끍ᇆ₩豻畕傞ᅢ툧䧱Ａ' - 5.00000000\n",
    "Best fitness at generation 17: '뀳硺ߝ\\uefdb笧勂ᇒ텬桘．' - 5.00000000\n",
    "Best fitness at generation 18: '㴄ᅕ큕谉畕傞ᅢ툧䧱Ａ' - 5.00000000\n",
    "Best fitness at generation 19: '滴㪈㹮䣻羘䷴⒲嵟\\udc02㺤' - 5.00000000\n",
    "Best fitness at generation 20: '矖㪈㺂䢶羘䶦ᇒ䙗뭜탤' - 5.00000000\n",
    "...\n",
    "Best individual: '쩴篊㬍鍵糄䧱﬩廁\\ude21萇', fitness 5.0000000000\n",
    "\n",
    "```\n"
   ]
  },
  {
   "cell_type": "markdown",
   "metadata": {
    "button": false,
    "new_sheet": true,
    "run_control": {
     "read_only": false
    },
    "slideshow": {
     "slide_type": "slide"
    }
   },
   "source": [
    "## Test Generation as a Search Problem\n",
    "\n",
    "If we want to apply a meta-heuristic search algorithm to generate test data for a program, then we have to make several choices: First, we need to decide on what exactly our *search space* is in the first place. The search space is defined by how we *represent* what we are looking for. Are we looking for single integer values? Tuples of values? Objects? XML documents? "
   ]
  },
  {
   "cell_type": "markdown",
   "metadata": {
    "slideshow": {
     "slide_type": "subslide"
    }
   },
   "source": [
    "### Representing Program Inputs as a Search Problem\n",
    "\n",
    "The representation is highly dependent on the particular testing problem we are solving --- we know which program we are testing, so the representation needs to encode whatever an input to our target program is. Let's consider the example function `test_me()` as our function under test: "
   ]
  },
  {
   "cell_type": "code",
   "execution_count": 1,
   "metadata": {
    "execution": {
     "iopub.execute_input": "2025-01-16T09:39:49.416437Z",
     "iopub.status.busy": "2025-01-16T09:39:49.416298Z",
     "iopub.status.idle": "2025-01-16T09:39:49.497764Z",
     "shell.execute_reply": "2025-01-16T09:39:49.497453Z"
    },
    "slideshow": {
     "slide_type": "skip"
    }
   },
   "outputs": [],
   "source": [
    "import bookutils.setup"
   ]
  },
  {
   "cell_type": "code",
   "execution_count": 2,
   "metadata": {
    "execution": {
     "iopub.execute_input": "2025-01-16T09:39:49.500151Z",
     "iopub.status.busy": "2025-01-16T09:39:49.499942Z",
     "iopub.status.idle": "2025-01-16T09:39:49.563470Z",
     "shell.execute_reply": "2025-01-16T09:39:49.563100Z"
    },
    "slideshow": {
     "slide_type": "skip"
    }
   },
   "outputs": [],
   "source": [
    "import Fuzzer"
   ]
  },
  {
   "cell_type": "code",
   "execution_count": 3,
   "metadata": {
    "execution": {
     "iopub.execute_input": "2025-01-16T09:39:49.565831Z",
     "iopub.status.busy": "2025-01-16T09:39:49.565675Z",
     "iopub.status.idle": "2025-01-16T09:39:49.567507Z",
     "shell.execute_reply": "2025-01-16T09:39:49.567241Z"
    },
    "slideshow": {
     "slide_type": "skip"
    }
   },
   "outputs": [],
   "source": [
    "from bookutils import unicode_escape, terminal_escape"
   ]
  },
  {
   "cell_type": "code",
   "execution_count": 4,
   "metadata": {
    "execution": {
     "iopub.execute_input": "2025-01-16T09:39:49.569672Z",
     "iopub.status.busy": "2025-01-16T09:39:49.569516Z",
     "iopub.status.idle": "2025-01-16T09:39:49.571857Z",
     "shell.execute_reply": "2025-01-16T09:39:49.571488Z"
    },
    "slideshow": {
     "slide_type": "fragment"
    }
   },
   "outputs": [],
   "source": [
    "def test_me(x, y):\n",
    "    if x == 2 * (y + 1):\n",
    "        return True\n",
    "    else:\n",
    "        return False"
   ]
  },
  {
   "cell_type": "markdown",
   "metadata": {
    "slideshow": {
     "slide_type": "subslide"
    }
   },
   "source": [
    "The `test_me()` function has two input parameters, and returns `True` or `False` depending on how the two relate to each other. A test input to `test_me()` consists of a pair of values, one for `x` and one for `y`. For example:"
   ]
  },
  {
   "cell_type": "code",
   "execution_count": 5,
   "metadata": {
    "execution": {
     "iopub.execute_input": "2025-01-16T09:39:49.573945Z",
     "iopub.status.busy": "2025-01-16T09:39:49.573794Z",
     "iopub.status.idle": "2025-01-16T09:39:49.577610Z",
     "shell.execute_reply": "2025-01-16T09:39:49.577261Z"
    },
    "slideshow": {
     "slide_type": "fragment"
    }
   },
   "outputs": [
    {
     "data": {
      "text/plain": [
       "False"
      ]
     },
     "execution_count": 5,
     "metadata": {},
     "output_type": "execute_result"
    }
   ],
   "source": [
    "test_me(0, 0)"
   ]
  },
  {
   "cell_type": "code",
   "execution_count": 6,
   "metadata": {
    "execution": {
     "iopub.execute_input": "2025-01-16T09:39:49.598730Z",
     "iopub.status.busy": "2025-01-16T09:39:49.598583Z",
     "iopub.status.idle": "2025-01-16T09:39:49.600842Z",
     "shell.execute_reply": "2025-01-16T09:39:49.600564Z"
    },
    "slideshow": {
     "slide_type": "fragment"
    }
   },
   "outputs": [
    {
     "data": {
      "text/plain": [
       "False"
      ]
     },
     "execution_count": 6,
     "metadata": {},
     "output_type": "execute_result"
    }
   ],
   "source": [
    "test_me(4, 2)"
   ]
  },
  {
   "cell_type": "code",
   "execution_count": 7,
   "metadata": {
    "execution": {
     "iopub.execute_input": "2025-01-16T09:39:49.602842Z",
     "iopub.status.busy": "2025-01-16T09:39:49.602720Z",
     "iopub.status.idle": "2025-01-16T09:39:49.605040Z",
     "shell.execute_reply": "2025-01-16T09:39:49.604720Z"
    },
    "slideshow": {
     "slide_type": "fragment"
    }
   },
   "outputs": [
    {
     "data": {
      "text/plain": [
       "True"
      ]
     },
     "execution_count": 7,
     "metadata": {},
     "output_type": "execute_result"
    }
   ],
   "source": [
    "test_me(22, 10)"
   ]
  },
  {
   "attachments": {},
   "cell_type": "markdown",
   "metadata": {
    "slideshow": {
     "slide_type": "subslide"
    }
   },
   "source": [
    "Our search space is only concerned with inputs, thus a simple representation for test data would be input tuples `(x, y)`. Each point in this input space has eight *neighbors*:\n",
    "\n",
    "- `x-1, y-1`\n",
    "- `x-1, y`\n",
    "- `x-1, y+1`\n",
    "- `x, y+1`\n",
    "- `x+1, y+1`\n",
    "- `x+1, y`\n",
    "- `x+1, y-1`\n",
    "- `x, y-1`\n",
    "\n",
    "To keep things simple, let's restrict the size of our search space to start with (we will change this later). For example, let's assume we only want values in the range of -1000 to 1000:"
   ]
  },
  {
   "cell_type": "code",
   "execution_count": 8,
   "metadata": {
    "execution": {
     "iopub.execute_input": "2025-01-16T09:39:49.606619Z",
     "iopub.status.busy": "2025-01-16T09:39:49.606515Z",
     "iopub.status.idle": "2025-01-16T09:39:49.608112Z",
     "shell.execute_reply": "2025-01-16T09:39:49.607857Z"
    },
    "slideshow": {
     "slide_type": "subslide"
    }
   },
   "outputs": [],
   "source": [
    "MAX = 1000\n",
    "MIN = -MAX"
   ]
  },
  {
   "attachments": {},
   "cell_type": "markdown",
   "metadata": {
    "slideshow": {
     "slide_type": "fragment"
    }
   },
   "source": [
    "To retrieve the neighbors for any point in our search space, we define the function `neighbors()`, which implements a basic Moore neighborhood. That is, we look at all 8 immediate neighbors, while considering the boundaries we just defined with `MAX` and `MIN`:"
   ]
  },
  {
   "cell_type": "code",
   "execution_count": 9,
   "metadata": {
    "execution": {
     "iopub.execute_input": "2025-01-16T09:39:49.609724Z",
     "iopub.status.busy": "2025-01-16T09:39:49.609600Z",
     "iopub.status.idle": "2025-01-16T09:39:49.611832Z",
     "shell.execute_reply": "2025-01-16T09:39:49.611464Z"
    },
    "slideshow": {
     "slide_type": "fragment"
    }
   },
   "outputs": [],
   "source": [
    "def neighbors(x, y):\n",
    "    return [(x + dx, y + dy) for dx in [-1, 0, 1]\n",
    "            for dy in [-1, 0, 1]\n",
    "            if (dx != 0 or dy != 0)\n",
    "            and ((MIN <= x + dx <= MAX)\n",
    "                 and (MIN <= y + dy <= MAX))]"
   ]
  },
  {
   "cell_type": "code",
   "execution_count": 10,
   "metadata": {
    "execution": {
     "iopub.execute_input": "2025-01-16T09:39:49.613310Z",
     "iopub.status.busy": "2025-01-16T09:39:49.613207Z",
     "iopub.status.idle": "2025-01-16T09:39:49.615045Z",
     "shell.execute_reply": "2025-01-16T09:39:49.614769Z"
    },
    "slideshow": {
     "slide_type": "fragment"
    }
   },
   "outputs": [
    {
     "name": "stdout",
     "output_type": "stream",
     "text": [
      "[(9, 9), (9, 10), (9, 11), (10, 9), (10, 11), (11, 9), (11, 10), (11, 11)]\n"
     ]
    }
   ],
   "source": [
    "print(neighbors(10, 10))"
   ]
  },
  {
   "attachments": {},
   "cell_type": "markdown",
   "metadata": {
    "slideshow": {
     "slide_type": "subslide"
    }
   },
   "source": [
    "This fully defines our search space: We have a representation, and we know how individuals are related to each other through their neighborhood. Now we just need to find an algorithm to explore this neighborhood, and a heuristic that guides the algorithm."
   ]
  },
  {
   "cell_type": "markdown",
   "metadata": {
    "slideshow": {
     "slide_type": "subslide"
    }
   },
   "source": [
    "### Defining a Search Landscape: Fitness functions\n",
    "\n",
    "All meta-heuristics are based on the use of a heuristic function that estimates how good a given candidate solution is; this \"goodness\" is typically called the *fitness* of an individual, and the heuristic that estimates the fitness is the *fitness function*. The fitness function is a function that maps any point in the search space to a numerical value, the fitness value. The better a candidate solution in the search space with respect to being an optimal solution, the better its fitness value. Thus, if you plot each point in the search space with its fitness value as the height, you get a landscape with the optimal solution represented as the highest peak."
   ]
  },
  {
   "cell_type": "markdown",
   "metadata": {
    "slideshow": {
     "slide_type": "subslide"
    }
   },
   "source": [
    "The fitness function depends on the objective one would like to achieve with generating the test data. Suppose that we are interested in covering the true branch of the if-condition in the `test_me()` function, i.e. `x == 2 * (y + 1)`.\n",
    "\n",
    "How close is a given input tuple for this function from reaching the target branch? Let's consider an arbitrary point in the search space, e.g. `(274, 153)`. The if-condition compares the following values:"
   ]
  },
  {
   "cell_type": "code",
   "execution_count": 11,
   "metadata": {
    "execution": {
     "iopub.execute_input": "2025-01-16T09:39:49.616864Z",
     "iopub.status.busy": "2025-01-16T09:39:49.616729Z",
     "iopub.status.idle": "2025-01-16T09:39:49.619211Z",
     "shell.execute_reply": "2025-01-16T09:39:49.618876Z"
    },
    "slideshow": {
     "slide_type": "fragment"
    }
   },
   "outputs": [
    {
     "data": {
      "text/plain": [
       "(274, 308)"
      ]
     },
     "execution_count": 11,
     "metadata": {},
     "output_type": "execute_result"
    }
   ],
   "source": [
    "x = 274\n",
    "y = 153\n",
    "x, 2 * (y + 1)"
   ]
  },
  {
   "cell_type": "markdown",
   "metadata": {
    "slideshow": {
     "slide_type": "subslide"
    }
   },
   "source": [
    "In order to make the branch true, both values need to be the same. Thus, the more they differ, the further we are away from making the comparison true, and the less they differ, the closer we are from making the comparison true. Thus, we can quantify \"how false\" the comparison is by calculating the difference between `x` and `2 * (y + 1)`. Thus, we can calculate this distance as `abs(x - 2 * (y + 1))`:"
   ]
  },
  {
   "cell_type": "code",
   "execution_count": 12,
   "metadata": {
    "execution": {
     "iopub.execute_input": "2025-01-16T09:39:49.620790Z",
     "iopub.status.busy": "2025-01-16T09:39:49.620684Z",
     "iopub.status.idle": "2025-01-16T09:39:49.622373Z",
     "shell.execute_reply": "2025-01-16T09:39:49.622146Z"
    },
    "slideshow": {
     "slide_type": "fragment"
    }
   },
   "outputs": [],
   "source": [
    "def calculate_distance(x, y):\n",
    "    return abs(x - 2 * (y + 1))"
   ]
  },
  {
   "cell_type": "code",
   "execution_count": 13,
   "metadata": {
    "execution": {
     "iopub.execute_input": "2025-01-16T09:39:49.623806Z",
     "iopub.status.busy": "2025-01-16T09:39:49.623698Z",
     "iopub.status.idle": "2025-01-16T09:39:49.626082Z",
     "shell.execute_reply": "2025-01-16T09:39:49.625735Z"
    },
    "slideshow": {
     "slide_type": "fragment"
    }
   },
   "outputs": [
    {
     "data": {
      "text/plain": [
       "34"
      ]
     },
     "execution_count": 13,
     "metadata": {},
     "output_type": "execute_result"
    }
   ],
   "source": [
    "calculate_distance(274, 153)"
   ]
  },
  {
   "cell_type": "markdown",
   "metadata": {
    "slideshow": {
     "slide_type": "subslide"
    }
   },
   "source": [
    "We can use this distance value as our fitness function, since we can nicely measure how close we are to an optimal solution. Note, however, that \"better\" doesn't mean \"bigger\" in this case; the smaller the distance the better. This is not a problem, since any algorithm that can maximize a value can also be made to minimize it instead.\n",
    "\n",
    "For each value in the search space of integer tuples, this distance value defines the elevation in our search landscape. Since our example search space is two-dimensional, the search landscape is three-dimensional and we can plot it to see what it looks like:"
   ]
  },
  {
   "cell_type": "code",
   "execution_count": 14,
   "metadata": {
    "execution": {
     "iopub.execute_input": "2025-01-16T09:39:49.628186Z",
     "iopub.status.busy": "2025-01-16T09:39:49.628045Z",
     "iopub.status.idle": "2025-01-16T09:39:49.916841Z",
     "shell.execute_reply": "2025-01-16T09:39:49.916423Z"
    },
    "slideshow": {
     "slide_type": "skip"
    }
   },
   "outputs": [],
   "source": [
    "import matplotlib.pyplot as plt  # type: ignore"
   ]
  },
  {
   "cell_type": "code",
   "execution_count": 15,
   "metadata": {
    "execution": {
     "iopub.execute_input": "2025-01-16T09:39:49.919037Z",
     "iopub.status.busy": "2025-01-16T09:39:49.918836Z",
     "iopub.status.idle": "2025-01-16T09:39:49.920837Z",
     "shell.execute_reply": "2025-01-16T09:39:49.920415Z"
    },
    "slideshow": {
     "slide_type": "skip"
    }
   },
   "outputs": [],
   "source": [
    "import numpy as np"
   ]
  },
  {
   "cell_type": "code",
   "execution_count": 16,
   "metadata": {
    "execution": {
     "iopub.execute_input": "2025-01-16T09:39:49.923095Z",
     "iopub.status.busy": "2025-01-16T09:39:49.922939Z",
     "iopub.status.idle": "2025-01-16T09:39:50.046515Z",
     "shell.execute_reply": "2025-01-16T09:39:50.046159Z"
    },
    "slideshow": {
     "slide_type": "subslide"
    }
   },
   "outputs": [
    {
     "data": {
      "image/png": "[encoded data removed]",
      "text/plain": [
       "<Figure size 640x480 with 1 Axes>"
      ]
     },
     "metadata": {},
     "output_type": "display_data"
    }
   ],
   "source": [
    "%matplotlib inline\n",
    "\n",
    "xx = np.outer(np.linspace(-10, 10, 30), np.ones(30))\n",
    "yy = xx.copy().T\n",
    "zz = calculate_distance(xx, yy)\n",
    "\n",
    "fig = plt.figure()\n",
    "ax = plt.axes(projection='3d')\n",
    "\n",
    "ax.plot_surface(xx, yy, zz, cmap=plt.cm.jet, rstride=1, cstride=1, linewidth=0);"
   ]
  },
  {
   "cell_type": "markdown",
   "metadata": {
    "slideshow": {
     "slide_type": "fragment"
    }
   },
   "source": [
    "The optimal values, i.e. those that make the if-condition true, have fitness value 0 and can be clearly seen at the bottom of the plot. The further away from the optimal values, the higher elevated the points in the search space."
   ]
  },
  {
   "cell_type": "markdown",
   "metadata": {
    "slideshow": {
     "slide_type": "subslide"
    }
   },
   "source": [
    "### Instrumentation\n",
    "\n",
    "The fitness function should calculate the distance value for concrete test executions. That is, we want to run the program, and then learn the distance value of this execution. However, the branching condition is hidden within the source code of the target function, and its value may in principle be the result of various calculations along the execution path reaching it. Even though in our example the condition is an equation using the input values of the function directly, this may not be the case in general; it might as well be derived values. Thus, the values we need to calculate our distance metric need to be observed directly at the conditional statement.\n",
    "\n",
    "This is typically done with *instrumentation*: We add new code immediately before or after the branching condition to keep track of the values observed and calculate the distance using these values. The following is an instrumented version of our program under test, which prints out the distance values as it is executed:"
   ]
  },
  {
   "cell_type": "code",
   "execution_count": 17,
   "metadata": {
    "execution": {
     "iopub.execute_input": "2025-01-16T09:39:50.049285Z",
     "iopub.status.busy": "2025-01-16T09:39:50.049096Z",
     "iopub.status.idle": "2025-01-16T09:39:50.051605Z",
     "shell.execute_reply": "2025-01-16T09:39:50.051197Z"
    },
    "slideshow": {
     "slide_type": "subslide"
    }
   },
   "outputs": [],
   "source": [
    "def test_me_instrumented(x, y):\n",
    "    print(\"Instrumentation: Input = (%d, %d), distance = %d\" %\n",
    "          (x, y, calculate_distance(x, y)))\n",
    "    if x == 2 * (y + 1):\n",
    "        return True\n",
    "    else:\n",
    "        return False"
   ]
  },
  {
   "cell_type": "markdown",
   "metadata": {
    "slideshow": {
     "slide_type": "fragment"
    }
   },
   "source": [
    "Let's try this out for a couple of example values:"
   ]
  },
  {
   "cell_type": "code",
   "execution_count": 18,
   "metadata": {
    "execution": {
     "iopub.execute_input": "2025-01-16T09:39:50.053703Z",
     "iopub.status.busy": "2025-01-16T09:39:50.053554Z",
     "iopub.status.idle": "2025-01-16T09:39:50.056798Z",
     "shell.execute_reply": "2025-01-16T09:39:50.056398Z"
    },
    "slideshow": {
     "slide_type": "fragment"
    }
   },
   "outputs": [
    {
     "name": "stdout",
     "output_type": "stream",
     "text": [
      "Instrumentation: Input = (0, 0), distance = 2\n"
     ]
    },
    {
     "data": {
      "text/plain": [
       "False"
      ]
     },
     "execution_count": 18,
     "metadata": {},
     "output_type": "execute_result"
    }
   ],
   "source": [
    "test_me_instrumented(0, 0)"
   ]
  },
  {
   "cell_type": "code",
   "execution_count": 19,
   "metadata": {
    "execution": {
     "iopub.execute_input": "2025-01-16T09:39:50.058538Z",
     "iopub.status.busy": "2025-01-16T09:39:50.058457Z",
     "iopub.status.idle": "2025-01-16T09:39:50.060541Z",
     "shell.execute_reply": "2025-01-16T09:39:50.060285Z"
    },
    "slideshow": {
     "slide_type": "subslide"
    }
   },
   "outputs": [
    {
     "name": "stdout",
     "output_type": "stream",
     "text": [
      "Instrumentation: Input = (5, 2), distance = 1\n"
     ]
    },
    {
     "data": {
      "text/plain": [
       "False"
      ]
     },
     "execution_count": 19,
     "metadata": {},
     "output_type": "execute_result"
    }
   ],
   "source": [
    "test_me_instrumented(5, 2)"
   ]
  },
  {
   "cell_type": "code",
   "execution_count": 20,
   "metadata": {
    "execution": {
     "iopub.execute_input": "2025-01-16T09:39:50.062711Z",
     "iopub.status.busy": "2025-01-16T09:39:50.062549Z",
     "iopub.status.idle": "2025-01-16T09:39:50.065113Z",
     "shell.execute_reply": "2025-01-16T09:39:50.064854Z"
    },
    "slideshow": {
     "slide_type": "fragment"
    }
   },
   "outputs": [
    {
     "name": "stdout",
     "output_type": "stream",
     "text": [
      "Instrumentation: Input = (22, 10), distance = 0\n"
     ]
    },
    {
     "data": {
      "text/plain": [
       "True"
      ]
     },
     "execution_count": 20,
     "metadata": {},
     "output_type": "execute_result"
    }
   ],
   "source": [
    "test_me_instrumented(22, 10)"
   ]
  },
  {
   "cell_type": "markdown",
   "metadata": {
    "slideshow": {
     "slide_type": "fragment"
    }
   },
   "source": [
    "When calculating a fitness value, we will execute the instrumented program version, but we need some means to access the distance value calculated during that execution. As a simple first solution to this problem, we can just add a global variable and store the value of the distance calculation there. "
   ]
  },
  {
   "cell_type": "code",
   "execution_count": 21,
   "metadata": {
    "execution": {
     "iopub.execute_input": "2025-01-16T09:39:50.066901Z",
     "iopub.status.busy": "2025-01-16T09:39:50.066775Z",
     "iopub.status.idle": "2025-01-16T09:39:50.068411Z",
     "shell.execute_reply": "2025-01-16T09:39:50.068050Z"
    },
    "slideshow": {
     "slide_type": "fragment"
    }
   },
   "outputs": [],
   "source": [
    "distance = 0"
   ]
  },
  {
   "cell_type": "code",
   "execution_count": 22,
   "metadata": {
    "execution": {
     "iopub.execute_input": "2025-01-16T09:39:50.070403Z",
     "iopub.status.busy": "2025-01-16T09:39:50.070253Z",
     "iopub.status.idle": "2025-01-16T09:39:50.072194Z",
     "shell.execute_reply": "2025-01-16T09:39:50.071930Z"
    },
    "slideshow": {
     "slide_type": "subslide"
    }
   },
   "outputs": [],
   "source": [
    "def test_me_instrumented(x, y):  # type: ignore\n",
    "    global distance\n",
    "    distance = calculate_distance(x, y)\n",
    "    if x == 2 * (y + 1):\n",
    "        return True\n",
    "    else:\n",
    "        return False"
   ]
  },
  {
   "cell_type": "markdown",
   "metadata": {
    "slideshow": {
     "slide_type": "fragment"
    }
   },
   "source": [
    "Using this instrumented version of `test_me()`, we can now finally define our fitness function, which simply runs the instrumented `test_me_instrumented()` function, and then retrieves the value of the global `distance` variable:"
   ]
  },
  {
   "cell_type": "code",
   "execution_count": 23,
   "metadata": {
    "execution": {
     "iopub.execute_input": "2025-01-16T09:39:50.073823Z",
     "iopub.status.busy": "2025-01-16T09:39:50.073708Z",
     "iopub.status.idle": "2025-01-16T09:39:50.075654Z",
     "shell.execute_reply": "2025-01-16T09:39:50.075330Z"
    },
    "slideshow": {
     "slide_type": "subslide"
    }
   },
   "outputs": [],
   "source": [
    "def get_fitness(x, y):\n",
    "    global distance\n",
    "    test_me_instrumented(x, y)\n",
    "    fitness = distance\n",
    "    return fitness"
   ]
  },
  {
   "cell_type": "markdown",
   "metadata": {
    "slideshow": {
     "slide_type": "fragment"
    }
   },
   "source": [
    "Let's try this on some example inputs:"
   ]
  },
  {
   "cell_type": "code",
   "execution_count": 24,
   "metadata": {
    "execution": {
     "iopub.execute_input": "2025-01-16T09:39:50.077635Z",
     "iopub.status.busy": "2025-01-16T09:39:50.077502Z",
     "iopub.status.idle": "2025-01-16T09:39:50.079801Z",
     "shell.execute_reply": "2025-01-16T09:39:50.079545Z"
    },
    "slideshow": {
     "slide_type": "fragment"
    }
   },
   "outputs": [
    {
     "data": {
      "text/plain": [
       "2"
      ]
     },
     "execution_count": 24,
     "metadata": {},
     "output_type": "execute_result"
    }
   ],
   "source": [
    "get_fitness(0, 0)"
   ]
  },
  {
   "cell_type": "code",
   "execution_count": 25,
   "metadata": {
    "execution": {
     "iopub.execute_input": "2025-01-16T09:39:50.081345Z",
     "iopub.status.busy": "2025-01-16T09:39:50.081243Z",
     "iopub.status.idle": "2025-01-16T09:39:50.083383Z",
     "shell.execute_reply": "2025-01-16T09:39:50.083106Z"
    },
    "slideshow": {
     "slide_type": "fragment"
    }
   },
   "outputs": [
    {
     "data": {
      "text/plain": [
       "5"
      ]
     },
     "execution_count": 25,
     "metadata": {},
     "output_type": "execute_result"
    }
   ],
   "source": [
    "get_fitness(1, 2)"
   ]
  },
  {
   "cell_type": "code",
   "execution_count": 26,
   "metadata": {
    "execution": {
     "iopub.execute_input": "2025-01-16T09:39:50.085126Z",
     "iopub.status.busy": "2025-01-16T09:39:50.084969Z",
     "iopub.status.idle": "2025-01-16T09:39:50.087442Z",
     "shell.execute_reply": "2025-01-16T09:39:50.087142Z"
    },
    "slideshow": {
     "slide_type": "fragment"
    }
   },
   "outputs": [
    {
     "data": {
      "text/plain": [
       "0"
      ]
     },
     "execution_count": 26,
     "metadata": {},
     "output_type": "execute_result"
    }
   ],
   "source": [
    "get_fitness(22, 10)"
   ]
  },
  {
   "cell_type": "code",
   "execution_count": null,
   "metadata": {
    "slideshow": {
     "slide_type": "fragment"
    }
   },
   "outputs": [],
   "source": []
  },
  {
   "attachments": {},
   "cell_type": "markdown",
   "metadata": {
    "slideshow": {
     "slide_type": "subslide"
    }
   },
   "source": [
    "### Hillclimbing the Example\n",
    "\n",
    "Having decided on a representation (2-tuples of integers) and a fitness function (distance to target branch), we can now finally go ahead and implement our search algorithm. Let's explore this search space using the simplest possible meta-heuristic algorithm: Hillclimbing. The metaphor captures aptly what is happening: The algorithm tries to climb a hill in the search space defined by our representation. Except, that in our search landscape the best values are not those high up but down low, so technically we are descending into valleys.\n",
    "\n",
    "The hillclimbing algorithm itself is very simple: \n",
    "1. Take a random starting point\n",
    "2. Determine fitness value of all neighbors\n",
    "3. Move to neighbor with the best fitness value\n",
    "4. If solution is not found, continue with step 2"
   ]
  },
  {
   "attachments": {},
   "cell_type": "markdown",
   "metadata": {
    "slideshow": {
     "slide_type": "subslide"
    }
   },
   "source": [
    "The hillclimber starts with a random test input, i.e., random values for `x` and `y`. For any pair of random integer numbers, the chances of them satisfying the condition `x == 2 * (y + 1)` are rather slim. Suppose the random values are `(274, 153)`. The right-hand side of the equation, `2 * (y + 1)`, evaluates to 308, so the condition is clearly false. Where should the hillclimber go to now? Let's look at the fitness values of this test input and its neighbors:"
   ]
  },
  {
   "cell_type": "code",
   "execution_count": 27,
   "metadata": {
    "execution": {
     "iopub.execute_input": "2025-01-16T09:39:50.089301Z",
     "iopub.status.busy": "2025-01-16T09:39:50.089155Z",
     "iopub.status.idle": "2025-01-16T09:39:50.091635Z",
     "shell.execute_reply": "2025-01-16T09:39:50.091276Z"
    },
    "slideshow": {
     "slide_type": "subslide"
    }
   },
   "outputs": [
    {
     "name": "stdout",
     "output_type": "stream",
     "text": [
      "Origin 274, 153 has fitness 34\n",
      "neighbor 273, 152 has fitness 33\n",
      "neighbor 273, 153 has fitness 35\n",
      "neighbor 273, 154 has fitness 37\n",
      "neighbor 274, 152 has fitness 32\n",
      "neighbor 274, 154 has fitness 36\n",
      "neighbor 275, 152 has fitness 31\n",
      "neighbor 275, 153 has fitness 33\n",
      "neighbor 275, 154 has fitness 35\n"
     ]
    }
   ],
   "source": [
    "x, y = 274, 153\n",
    "print(\"Origin %d, %d has fitness %d\" % (x, y, get_fitness(x, y)))\n",
    "for nx, ny in neighbors(x, y):\n",
    "    print(\"neighbor %d, %d has fitness %d\" % (nx, ny, get_fitness(nx, ny)))"
   ]
  },
  {
   "attachments": {},
   "cell_type": "markdown",
   "metadata": {
    "slideshow": {
     "slide_type": "subslide"
    }
   },
   "source": [
    "Increasing `y` by one increases the value of the right-hand side of the equation to `310`. Thus, the value on the left-hand side of the equation thus differs *even more* to the value on the right-hand side of the equation than it did before the increase! So, increasing `y` does not seem like a good idea. On the other hand, increasing `x` by one improves things: The left-hand side and the right-hand side of the equation become more similar; they are \"less unequal\". Thus, out of the eight possible neighbors of `(274, 153)`, the neighbor that increases `x` and decreases `y` (`(275, 152)`) seems best intuitively --- the outcome of the condition is still false, but it is \"less so\" than for the original value."
   ]
  },
  {
   "cell_type": "markdown",
   "metadata": {
    "slideshow": {
     "slide_type": "fragment"
    }
   },
   "source": [
    "Let's now implement the hillcimbing algorithm. "
   ]
  },
  {
   "cell_type": "code",
   "execution_count": 28,
   "metadata": {
    "execution": {
     "iopub.execute_input": "2025-01-16T09:39:50.093434Z",
     "iopub.status.busy": "2025-01-16T09:39:50.093307Z",
     "iopub.status.idle": "2025-01-16T09:39:50.094944Z",
     "shell.execute_reply": "2025-01-16T09:39:50.094686Z"
    },
    "slideshow": {
     "slide_type": "skip"
    }
   },
   "outputs": [],
   "source": [
    "import random"
   ]
  },
  {
   "cell_type": "code",
   "execution_count": 29,
   "metadata": {
    "execution": {
     "iopub.execute_input": "2025-01-16T09:39:50.096634Z",
     "iopub.status.busy": "2025-01-16T09:39:50.096430Z",
     "iopub.status.idle": "2025-01-16T09:39:50.098214Z",
     "shell.execute_reply": "2025-01-16T09:39:50.097922Z"
    },
    "slideshow": {
     "slide_type": "fragment"
    }
   },
   "outputs": [],
   "source": [
    "LOG_VALUES = 20  # Number of values to log"
   ]
  },
  {
   "cell_type": "code",
   "execution_count": 30,
   "metadata": {
    "execution": {
     "iopub.execute_input": "2025-01-16T09:39:50.099744Z",
     "iopub.status.busy": "2025-01-16T09:39:50.099637Z",
     "iopub.status.idle": "2025-01-16T09:39:50.102442Z",
     "shell.execute_reply": "2025-01-16T09:39:50.102179Z"
    },
    "slideshow": {
     "slide_type": "subslide"
    }
   },
   "outputs": [],
   "source": [
    "def hillclimber():\n",
    "    # Create and evaluate starting point\n",
    "    x, y = random.randint(MIN, MAX), random.randint(MIN, MAX)\n",
    "    fitness = get_fitness(x, y)\n",
    "    print(\"Initial value: %d, %d at fitness %.4f\" % (x, y, fitness))\n",
    "    iterations = 0\n",
    "    logs = 0\n",
    "\n",
    "    # Stop once we have found an optimal solution\n",
    "    while fitness > 0:\n",
    "        iterations += 1\n",
    "        # Move to first neighbor with a better fitness\n",
    "        for (nextx, nexty) in neighbors(x, y):\n",
    "            new_fitness = get_fitness(nextx, nexty)\n",
    "\n",
    "            # Smaller fitness values are better\n",
    "            if new_fitness < fitness:\n",
    "                x, y = nextx, nexty\n",
    "                fitness = new_fitness\n",
    "                if logs < LOG_VALUES:\n",
    "                    print(\"New value: %d, %d at fitness %.4f\" % (x, y, fitness))\n",
    "                elif logs == LOG_VALUES:\n",
    "                    print(\"...\")\n",
    "                logs += 1\n",
    "                break\n",
    "\n",
    "    print(\"Found optimum after %d iterations at %d, %d\" % (iterations, x, y))"
   ]
  },
  {
   "cell_type": "code",
   "execution_count": 31,
   "metadata": {
    "execution": {
     "iopub.execute_input": "2025-01-16T09:39:50.103997Z",
     "iopub.status.busy": "2025-01-16T09:39:50.103870Z",
     "iopub.status.idle": "2025-01-16T09:39:50.108368Z",
     "shell.execute_reply": "2025-01-16T09:39:50.108081Z"
    },
    "slideshow": {
     "slide_type": "subslide"
    }
   },
   "outputs": [
    {
     "name": "stdout",
     "output_type": "stream",
     "text": [
      "Initial value: 201, -956 at fitness 2111.0000\n",
      "New value: 200, -956 at fitness 2110.0000\n",
      "New value: 199, -956 at fitness 2109.0000\n",
      "New value: 198, -956 at fitness 2108.0000\n",
      "New value: 197, -956 at fitness 2107.0000\n",
      "New value: 196, -956 at fitness 2106.0000\n",
      "New value: 195, -956 at fitness 2105.0000\n",
      "New value: 194, -956 at fitness 2104.0000\n",
      "New value: 193, -956 at fitness 2103.0000\n",
      "New value: 192, -956 at fitness 2102.0000\n",
      "New value: 191, -956 at fitness 2101.0000\n",
      "New value: 190, -956 at fitness 2100.0000\n",
      "New value: 189, -956 at fitness 2099.0000\n",
      "New value: 188, -956 at fitness 2098.0000\n",
      "New value: 187, -956 at fitness 2097.0000\n",
      "New value: 186, -956 at fitness 2096.0000\n",
      "New value: 185, -956 at fitness 2095.0000\n",
      "New value: 184, -956 at fitness 2094.0000\n",
      "New value: 183, -956 at fitness 2093.0000\n",
      "New value: 182, -956 at fitness 2092.0000\n",
      "New value: 181, -956 at fitness 2091.0000\n",
      "...\n",
      "Found optimum after 1656 iterations at -1000, -501\n"
     ]
    }
   ],
   "source": [
    "hillclimber()"
   ]
  },
  {
   "cell_type": "markdown",
   "metadata": {
    "slideshow": {
     "slide_type": "subslide"
    }
   },
   "source": [
    "The hillclimber starts by choosing random values for `x` and `y`. We use low values in the range of `-1000`--`1000` (which we defined `MIN` and `MAX` to be earlier) to reduce the time search takes when playing with the example. Then, we determine the fitness value of this starting point by calling `get_fitness()`. Recall that we are trying to find the smallest possible fitness value, therefore we now loop until we have found a fitness value of `0` (i.e., an optimal value). "
   ]
  },
  {
   "attachments": {},
   "cell_type": "markdown",
   "metadata": {
    "slideshow": {
     "slide_type": "subslide"
    }
   },
   "source": [
    "In this loop, we iterate over all neighbors (`neighbors`), and evaluate the fitness value of each of the neighbors. As soon as we have found a neighbor with better (smaller) fitness, the hillclimber exits the loop and uses this as the new starting point. An alternative variant of this simple hillclimbing algorithm would be to remove the `break` statement: By doing so, *all* neighbors would be evaluated, and the best neighbor would be chosen. This is known as *steepest ascent hillclimbing*. You will see that the number of iterations necessary to reach the optimum is lower, although for each iteration more tests are executed."
   ]
  },
  {
   "cell_type": "code",
   "execution_count": 32,
   "metadata": {
    "execution": {
     "iopub.execute_input": "2025-01-16T09:39:50.110026Z",
     "iopub.status.busy": "2025-01-16T09:39:50.109948Z",
     "iopub.status.idle": "2025-01-16T09:39:50.112647Z",
     "shell.execute_reply": "2025-01-16T09:39:50.112356Z"
    },
    "slideshow": {
     "slide_type": "subslide"
    }
   },
   "outputs": [],
   "source": [
    "def steepest_ascent_hillclimber():\n",
    "    # Create and evaluate starting point\n",
    "    x, y = random.randint(MIN, MAX), random.randint(MIN, MAX)\n",
    "    fitness = get_fitness(x, y)\n",
    "    print(\"Initial value: %d, %d at fitness %.4f\" % (x, y, fitness))\n",
    "    iterations = 0\n",
    "    logs = 0\n",
    "\n",
    "    # Stop once we have found an optimal solution\n",
    "    while fitness > 0:\n",
    "        iterations += 1\n",
    "        # Move to first neighbor with a better fitness\n",
    "        for (nextx, nexty) in neighbors(x, y):\n",
    "            new_fitness = get_fitness(nextx, nexty)\n",
    "            if new_fitness < fitness:\n",
    "                x, y = nextx, nexty\n",
    "                fitness = new_fitness\n",
    "                if logs < LOG_VALUES:\n",
    "                    print(\"New value: %d, %d at fitness %.4f\" % (x, y, fitness))\n",
    "                elif logs == LOG_VALUES:\n",
    "                    print(\"...\")\n",
    "                logs += 1\n",
    "\n",
    "    print(\"Found optimum after %d iterations at %d, %d\" % (iterations, x, y))"
   ]
  },
  {
   "cell_type": "code",
   "execution_count": 33,
   "metadata": {
    "execution": {
     "iopub.execute_input": "2025-01-16T09:39:50.114225Z",
     "iopub.status.busy": "2025-01-16T09:39:50.114133Z",
     "iopub.status.idle": "2025-01-16T09:39:50.117604Z",
     "shell.execute_reply": "2025-01-16T09:39:50.117226Z"
    },
    "slideshow": {
     "slide_type": "subslide"
    }
   },
   "outputs": [
    {
     "name": "stdout",
     "output_type": "stream",
     "text": [
      "Initial value: -258, 645 at fitness 1550.0000\n",
      "New value: -259, 644 at fitness 1549.0000\n",
      "New value: -258, 644 at fitness 1548.0000\n",
      "New value: -257, 644 at fitness 1547.0000\n",
      "New value: -258, 643 at fitness 1546.0000\n",
      "New value: -257, 643 at fitness 1545.0000\n",
      "New value: -256, 643 at fitness 1544.0000\n",
      "New value: -257, 642 at fitness 1543.0000\n",
      "New value: -256, 642 at fitness 1542.0000\n",
      "New value: -255, 642 at fitness 1541.0000\n",
      "New value: -256, 641 at fitness 1540.0000\n",
      "New value: -255, 641 at fitness 1539.0000\n",
      "New value: -254, 641 at fitness 1538.0000\n",
      "New value: -255, 640 at fitness 1537.0000\n",
      "New value: -254, 640 at fitness 1536.0000\n",
      "New value: -253, 640 at fitness 1535.0000\n",
      "New value: -254, 639 at fitness 1534.0000\n",
      "New value: -253, 639 at fitness 1533.0000\n",
      "New value: -252, 639 at fitness 1532.0000\n",
      "New value: -253, 638 at fitness 1531.0000\n",
      "New value: -252, 638 at fitness 1530.0000\n",
      "...\n",
      "Found optimum after 517 iterations at 258, 128\n"
     ]
    }
   ],
   "source": [
    "steepest_ascent_hillclimber()"
   ]
  },
  {
   "cell_type": "markdown",
   "metadata": {
    "slideshow": {
     "slide_type": "subslide"
    }
   },
   "source": [
    "Our example program has a very nice fitness landscape – there is a perfect gradient, and the hillclimber will always find a solution. We can see this nice gradient if we plot the fitness values observed over time:"
   ]
  },
  {
   "cell_type": "code",
   "execution_count": 34,
   "metadata": {
    "execution": {
     "iopub.execute_input": "2025-01-16T09:39:50.119721Z",
     "iopub.status.busy": "2025-01-16T09:39:50.119602Z",
     "iopub.status.idle": "2025-01-16T09:39:50.122279Z",
     "shell.execute_reply": "2025-01-16T09:39:50.121981Z"
    },
    "slideshow": {
     "slide_type": "subslide"
    }
   },
   "outputs": [],
   "source": [
    "def plotting_hillclimber(fitness_function):\n",
    "    data = []\n",
    "\n",
    "    # Create and evaluate starting point\n",
    "    x, y = random.randint(MIN, MAX), random.randint(MIN, MAX)\n",
    "    fitness = fitness_function(x, y)\n",
    "    data += [fitness]\n",
    "    iterations = 0\n",
    "\n",
    "    # Stop once we have found an optimal solution\n",
    "    while fitness > 0:\n",
    "        iterations += 1\n",
    "        # Move to first neighbor with a better fitness\n",
    "        for (nextx, nexty) in neighbors(x, y):\n",
    "            new_fitness = fitness_function(nextx, nexty)\n",
    "            if new_fitness < fitness:\n",
    "                x, y = nextx, nexty\n",
    "                fitness = new_fitness\n",
    "                data += [fitness]\n",
    "                break\n",
    "\n",
    "    print(\"Found optimum after %d iterations at %d, %d\" % (iterations, x, y))\n",
    "    return data"
   ]
  },
  {
   "cell_type": "code",
   "execution_count": 35,
   "metadata": {
    "execution": {
     "iopub.execute_input": "2025-01-16T09:39:50.124136Z",
     "iopub.status.busy": "2025-01-16T09:39:50.123988Z",
     "iopub.status.idle": "2025-01-16T09:39:50.126601Z",
     "shell.execute_reply": "2025-01-16T09:39:50.126254Z"
    },
    "slideshow": {
     "slide_type": "subslide"
    }
   },
   "outputs": [
    {
     "name": "stdout",
     "output_type": "stream",
     "text": [
      "Found optimum after 429 iterations at -1000, -501\n"
     ]
    }
   ],
   "source": [
    "data = plotting_hillclimber(get_fitness)"
   ]
  },
  {
   "cell_type": "code",
   "execution_count": 36,
   "metadata": {
    "execution": {
     "iopub.execute_input": "2025-01-16T09:39:50.128558Z",
     "iopub.status.busy": "2025-01-16T09:39:50.128424Z",
     "iopub.status.idle": "2025-01-16T09:39:50.179319Z",
     "shell.execute_reply": "2025-01-16T09:39:50.178900Z"
    },
    "slideshow": {
     "slide_type": "fragment"
    }
   },
   "outputs": [
    {
     "data": {
      "image/png": "[encoded data removed]",
      "text/plain": [
       "<Figure size 640x480 with 1 Axes>"
      ]
     },
     "metadata": {},
     "output_type": "display_data"
    }
   ],
   "source": [
    "fig = plt.figure()\n",
    "ax = plt.axes()\n",
    "\n",
    "xs = range(len(data))\n",
    "ax.plot(xs, data);"
   ]
  },
  {
   "attachments": {},
   "cell_type": "markdown",
   "metadata": {
    "slideshow": {
     "slide_type": "fragment"
    }
   },
   "source": [
    "This gradient is the result of an ideal fitness landscape. In practice, we won't always have such a nice gradient. In particular, our hillclimber only works well as long as there is at least one neighbor that has a better fitness value. What if we reach a point where _none_ of the neighbors actually has a better fitness value? Consider the following function `test_me2`:"
   ]
  },
  {
   "cell_type": "code",
   "execution_count": 37,
   "metadata": {
    "execution": {
     "iopub.execute_input": "2025-01-16T09:39:50.181319Z",
     "iopub.status.busy": "2025-01-16T09:39:50.181172Z",
     "iopub.status.idle": "2025-01-16T09:39:50.183119Z",
     "shell.execute_reply": "2025-01-16T09:39:50.182853Z"
    },
    "slideshow": {
     "slide_type": "subslide"
    }
   },
   "outputs": [],
   "source": [
    "def test_me2(x, y):\n",
    "    if(x * x == y * y * (x % 20)):\n",
    "        return True\n",
    "    else:\n",
    "        return False"
   ]
  },
  {
   "cell_type": "markdown",
   "metadata": {
    "slideshow": {
     "slide_type": "fragment"
    }
   },
   "source": [
    "If we want to cover the true-branch of the if-condition in `test_me2` again, then we can calculate the distance in the same way as previously, i.e., by calculating the difference between the two sides of the comparison. Let's instrument the `test_me2()` function:"
   ]
  },
  {
   "cell_type": "code",
   "execution_count": 38,
   "metadata": {
    "execution": {
     "iopub.execute_input": "2025-01-16T09:39:50.184668Z",
     "iopub.status.busy": "2025-01-16T09:39:50.184559Z",
     "iopub.status.idle": "2025-01-16T09:39:50.186548Z",
     "shell.execute_reply": "2025-01-16T09:39:50.186219Z"
    },
    "slideshow": {
     "slide_type": "subslide"
    }
   },
   "outputs": [],
   "source": [
    "def test_me2_instrumented(x, y):\n",
    "    global distance\n",
    "    distance = abs(x * x - y * y * (x % 20))\n",
    "    if(x * x == y * y * (x % 20)):\n",
    "        return True\n",
    "    else:\n",
    "        return False"
   ]
  },
  {
   "cell_type": "markdown",
   "metadata": {
    "slideshow": {
     "slide_type": "fragment"
    }
   },
   "source": [
    "With this instrumented version, we just need a fitness function that calls the instrumented version and reads out the global `distance` variable."
   ]
  },
  {
   "cell_type": "code",
   "execution_count": 39,
   "metadata": {
    "execution": {
     "iopub.execute_input": "2025-01-16T09:39:50.188602Z",
     "iopub.status.busy": "2025-01-16T09:39:50.188460Z",
     "iopub.status.idle": "2025-01-16T09:39:50.190243Z",
     "shell.execute_reply": "2025-01-16T09:39:50.190014Z"
    },
    "slideshow": {
     "slide_type": "fragment"
    }
   },
   "outputs": [],
   "source": [
    "def bad_fitness(x, y):\n",
    "    global distance\n",
    "    test_me2_instrumented(x, y)\n",
    "    fitness = distance\n",
    "    return fitness"
   ]
  },
  {
   "cell_type": "markdown",
   "metadata": {
    "slideshow": {
     "slide_type": "subslide"
    }
   },
   "source": [
    "Before we run the hillclimber on this example, let's have a look at the search landscape again by plotting it:"
   ]
  },
  {
   "cell_type": "code",
   "execution_count": 40,
   "metadata": {
    "execution": {
     "iopub.execute_input": "2025-01-16T09:39:50.191627Z",
     "iopub.status.busy": "2025-01-16T09:39:50.191524Z",
     "iopub.status.idle": "2025-01-16T09:39:50.193623Z",
     "shell.execute_reply": "2025-01-16T09:39:50.193251Z"
    },
    "slideshow": {
     "slide_type": "fragment"
    }
   },
   "outputs": [],
   "source": [
    "xx = np.outer(np.linspace(-10, 10, 30), np.ones(30))\n",
    "yy = xx.copy().T\n",
    "zz = abs(xx * xx - yy * yy * (xx % 20))  # type: ignore"
   ]
  },
  {
   "cell_type": "code",
   "execution_count": 41,
   "metadata": {
    "execution": {
     "iopub.execute_input": "2025-01-16T09:39:50.195423Z",
     "iopub.status.busy": "2025-01-16T09:39:50.195301Z",
     "iopub.status.idle": "2025-01-16T09:39:50.291926Z",
     "shell.execute_reply": "2025-01-16T09:39:50.291638Z"
    },
    "slideshow": {
     "slide_type": "fragment"
    }
   },
   "outputs": [
    {
     "data": {
      "image/png": "[encoded data removed]",
      "text/plain": [
       "<Figure size 640x480 with 1 Axes>"
      ]
     },
     "metadata": {},
     "output_type": "display_data"
    }
   ],
   "source": [
    "fig = plt.figure()\n",
    "ax = plt.axes(projection='3d')\n",
    "\n",
    "ax.plot_surface(xx, yy, zz, cmap=plt.cm.jet, rstride=1, cstride=1, linewidth=0);  # type: ignore"
   ]
  },
  {
   "attachments": {},
   "cell_type": "markdown",
   "metadata": {
    "slideshow": {
     "slide_type": "subslide"
    }
   },
   "source": [
    "At this point it would be nice to run the hillclimber using the new fitness function, but there is a problem: Running our hillclimber with this fitness function is not a good idea, because it might never terminate. Suppose we've reached a point where all neighbors have the same or a worse fitness value. The hillclimber can move no where and is stuck there forever! Such a point in the search landscape is called a *local optimum*. If one reaches such a point, the easiest way out is to give up and restart from a new random point. This is what we will do in our hillclimber with *random restarts*. "
   ]
  },
  {
   "cell_type": "code",
   "execution_count": 42,
   "metadata": {
    "execution": {
     "iopub.execute_input": "2025-01-16T09:39:50.293837Z",
     "iopub.status.busy": "2025-01-16T09:39:50.293698Z",
     "iopub.status.idle": "2025-01-16T09:39:50.296534Z",
     "shell.execute_reply": "2025-01-16T09:39:50.296227Z"
    },
    "slideshow": {
     "slide_type": "subslide"
    }
   },
   "outputs": [],
   "source": [
    "def restarting_hillclimber(fitness_function):\n",
    "    data = []\n",
    "\n",
    "    # Create and evaluate starting point\n",
    "    x, y = random.randint(MIN, MAX), random.randint(MIN, MAX)\n",
    "    fitness = fitness_function(x, y)\n",
    "    data += [fitness]\n",
    "    print(\"Initial value: %d, %d at fitness %.4f\" % (x, y, fitness))\n",
    "    iterations = 0\n",
    "\n",
    "    # Stop once we have found an optimal solution\n",
    "    while fitness > 0:\n",
    "        changed = False\n",
    "        iterations += 1\n",
    "        # Move to first neighbor with a better fitness\n",
    "        for (nextx, nexty) in neighbors(x, y):\n",
    "            new_fitness = fitness_function(nextx, nexty)\n",
    "            if new_fitness < fitness:\n",
    "                x, y = nextx, nexty\n",
    "                fitness = new_fitness\n",
    "                data += [fitness]\n",
    "                changed = True\n",
    "                break\n",
    "        if not changed:\n",
    "            x, y = random.randint(MIN, MAX), random.randint(MIN, MAX)\n",
    "            fitness = fitness_function(x, y)\n",
    "            data += [fitness]\n",
    "\n",
    "    print(\"Found optimum after %d iterations at %d, %d\" % (iterations, x, y))\n",
    "    return data"
   ]
  },
  {
   "attachments": {},
   "cell_type": "markdown",
   "metadata": {
    "slideshow": {
     "slide_type": "subslide"
    }
   },
   "source": [
    "The change is trivial: We simply keep track whether any movement has occurred with a boolean flag, and if we did not move to any of the neighbors, we pick a new random position to start over at. For convenience, we also made the hillclimber parameterizable with fitness functions. Let's try it out with our `bad_fitness` and plot the resulting fitness values we observe:"
   ]
  },
  {
   "cell_type": "code",
   "execution_count": 43,
   "metadata": {
    "execution": {
     "iopub.execute_input": "2025-01-16T09:39:50.298487Z",
     "iopub.status.busy": "2025-01-16T09:39:50.298342Z",
     "iopub.status.idle": "2025-01-16T09:39:50.300146Z",
     "shell.execute_reply": "2025-01-16T09:39:50.299883Z"
    },
    "slideshow": {
     "slide_type": "fragment"
    }
   },
   "outputs": [],
   "source": [
    "MAX = 1000\n",
    "MIN = -MAX"
   ]
  },
  {
   "cell_type": "code",
   "execution_count": 44,
   "metadata": {
    "execution": {
     "iopub.execute_input": "2025-01-16T09:39:50.301692Z",
     "iopub.status.busy": "2025-01-16T09:39:50.301595Z",
     "iopub.status.idle": "2025-01-16T09:39:50.303809Z",
     "shell.execute_reply": "2025-01-16T09:39:50.303523Z"
    },
    "slideshow": {
     "slide_type": "fragment"
    }
   },
   "outputs": [
    {
     "name": "stdout",
     "output_type": "stream",
     "text": [
      "Initial value: 333, 231 at fitness 582804.0000\n",
      "Found optimum after 165 iterations at 521, 521\n"
     ]
    }
   ],
   "source": [
    "data = restarting_hillclimber(bad_fitness)"
   ]
  },
  {
   "cell_type": "code",
   "execution_count": 45,
   "metadata": {
    "execution": {
     "iopub.execute_input": "2025-01-16T09:39:50.305497Z",
     "iopub.status.busy": "2025-01-16T09:39:50.305374Z",
     "iopub.status.idle": "2025-01-16T09:39:50.307026Z",
     "shell.execute_reply": "2025-01-16T09:39:50.306781Z"
    },
    "slideshow": {
     "slide_type": "skip"
    }
   },
   "outputs": [],
   "source": [
    "import matplotlib.pyplot as plt"
   ]
  },
  {
   "cell_type": "code",
   "execution_count": 46,
   "metadata": {
    "execution": {
     "iopub.execute_input": "2025-01-16T09:39:50.308600Z",
     "iopub.status.busy": "2025-01-16T09:39:50.308480Z",
     "iopub.status.idle": "2025-01-16T09:39:50.363299Z",
     "shell.execute_reply": "2025-01-16T09:39:50.362991Z"
    },
    "slideshow": {
     "slide_type": "subslide"
    }
   },
   "outputs": [
    {
     "data": {
      "image/png": "[encoded data removed]",
      "text/plain": [
       "<Figure size 640x480 with 1 Axes>"
      ]
     },
     "metadata": {},
     "output_type": "display_data"
    }
   ],
   "source": [
    "fig = plt.figure()\n",
    "ax = plt.axes()\n",
    "\n",
    "xs = range(len(data))\n",
    "ax.plot(xs, data);"
   ]
  },
  {
   "cell_type": "markdown",
   "metadata": {
    "slideshow": {
     "slide_type": "fragment"
    }
   },
   "source": [
    "Run the example a couple of times. Sometimes, we are lucky and there is a gradient that takes it straight to an optimal solution. But sometimes you'll see restarts throughout the search before reaching an optimal value."
   ]
  },
  {
   "attachments": {},
   "cell_type": "markdown",
   "metadata": {
    "slideshow": {
     "slide_type": "subslide"
    }
   },
   "source": [
    "We restricted initial values of `x` and `y` to  rather small range of `[MIN, MAX]`. This is a common trick in test generation, as in *most* cases solutions tend to consist of small values, and using small values to start the search makes the search quicker in many cases. However, what if the solution we need is at a completely different place in our search space? Our bias towards smaller solutions would mean that the hillclimber would take very long to find the solution, and given a fixed search budget it would thus be less likely to actually find a solution. To see what effects this would have, we could simply replace the `1000` with, say, `1000000` or more. We can play around with the range to see the performance we get for our simple search problems."
   ]
  },
  {
   "cell_type": "code",
   "execution_count": 47,
   "metadata": {
    "execution": {
     "iopub.execute_input": "2025-01-16T09:39:50.364987Z",
     "iopub.status.busy": "2025-01-16T09:39:50.364871Z",
     "iopub.status.idle": "2025-01-16T09:39:50.366553Z",
     "shell.execute_reply": "2025-01-16T09:39:50.366296Z"
    },
    "slideshow": {
     "slide_type": "fragment"
    }
   },
   "outputs": [],
   "source": [
    "MAX = 100000\n",
    "MIN = -MAX"
   ]
  },
  {
   "cell_type": "code",
   "execution_count": 48,
   "metadata": {
    "execution": {
     "iopub.execute_input": "2025-01-16T09:39:50.368481Z",
     "iopub.status.busy": "2025-01-16T09:39:50.368304Z",
     "iopub.status.idle": "2025-01-16T09:39:50.370162Z",
     "shell.execute_reply": "2025-01-16T09:39:50.369809Z"
    },
    "slideshow": {
     "slide_type": "skip"
    }
   },
   "outputs": [],
   "source": [
    "from Timer import Timer"
   ]
  },
  {
   "cell_type": "code",
   "execution_count": 49,
   "metadata": {
    "execution": {
     "iopub.execute_input": "2025-01-16T09:39:50.371880Z",
     "iopub.status.busy": "2025-01-16T09:39:50.371751Z",
     "iopub.status.idle": "2025-01-16T09:39:50.647208Z",
     "shell.execute_reply": "2025-01-16T09:39:50.646919Z"
    },
    "slideshow": {
     "slide_type": "subslide"
    }
   },
   "outputs": [
    {
     "name": "stdout",
     "output_type": "stream",
     "text": [
      "Initial value: 64543, -55357 at fitness 175255.0000\n",
      "Found optimum after 169899 iterations at -100000, -50001\n",
      "Search time: 0.27s\n"
     ]
    }
   ],
   "source": [
    "with Timer() as t:\n",
    "    restarting_hillclimber(get_fitness)\n",
    "    print(\"Search time: %.2fs\" % t.elapsed_time())"
   ]
  },
  {
   "attachments": {},
   "cell_type": "markdown",
   "metadata": {
    "slideshow": {
     "slide_type": "fragment"
    }
   },
   "source": [
    "In most cases the search now will take much longer until a solution is found --- likely longer than we are prepared to wait for such a simple example function! (Although sometimes we will get lucky and randomly hit a good starting position). How is this ever going to work on \"real\" examples? Not to imagine if there were even more parameters and a bigger neighborhood!"
   ]
  },
  {
   "cell_type": "markdown",
   "metadata": {
    "button": false,
    "new_sheet": false,
    "run_control": {
     "read_only": false
    },
    "slideshow": {
     "slide_type": "slide"
    }
   },
   "source": [
    "## Testing a More Complex Program\n",
    "\n",
    "Let's turn to a slightly more complex program: The CGI decoder you already know from [the Coverage chapter](Coverage.ipynb). "
   ]
  },
  {
   "cell_type": "code",
   "execution_count": 50,
   "metadata": {
    "execution": {
     "iopub.execute_input": "2025-01-16T09:39:50.649337Z",
     "iopub.status.busy": "2025-01-16T09:39:50.649218Z",
     "iopub.status.idle": "2025-01-16T09:39:50.652489Z",
     "shell.execute_reply": "2025-01-16T09:39:50.652072Z"
    },
    "slideshow": {
     "slide_type": "subslide"
    }
   },
   "outputs": [],
   "source": [
    "def cgi_decode(s):\n",
    "    \"\"\"Decode the CGI-encoded string `s`:\n",
    "       * replace \"+\" by \" \"\n",
    "       * replace \"%xx\" by the character with hex number xx.\n",
    "       Return the decoded string.  Raise `ValueError` for invalid inputs.\"\"\"\n",
    "\n",
    "    # Mapping of hex digits to their integer values\n",
    "    hex_values = {\n",
    "        '0': 0, '1': 1, '2': 2, '3': 3, '4': 4,\n",
    "        '5': 5, '6': 6, '7': 7, '8': 8, '9': 9,\n",
    "        'a': 10, 'b': 11, 'c': 12, 'd': 13, 'e': 14, 'f': 15,\n",
    "        'A': 10, 'B': 11, 'C': 12, 'D': 13, 'E': 14, 'F': 15,\n",
    "    }\n",
    "\n",
    "    t = \"\"\n",
    "    i = 0\n",
    "    while i < len(s):\n",
    "        c = s[i]\n",
    "        if c == '+':\n",
    "            t += ' '\n",
    "        elif c == '%':\n",
    "            digit_high, digit_low = s[i + 1], s[i + 2]\n",
    "            i += 2\n",
    "            if digit_high in hex_values and digit_low in hex_values:\n",
    "                v = hex_values[digit_high] * 16 + hex_values[digit_low]\n",
    "                t += chr(v)\n",
    "            else:\n",
    "                raise ValueError(\"Invalid encoding\")\n",
    "        else:\n",
    "            t += c\n",
    "        i += 1\n",
    "    return t"
   ]
  },
  {
   "attachments": {},
   "cell_type": "markdown",
   "metadata": {
    "slideshow": {
     "slide_type": "subslide"
    }
   },
   "source": [
    "### CGI Decoder as a Search Problem\n",
    "\n",
    "The `cgi_decode()` function has one input of type string, and one possible way to define the neighborhood of a string is by all possible strings that have an edit distance of 1. For example, string `test` would have two neighbors for each of its four characters:\n",
    "\n",
    "- `uest`\n",
    "- `tfst`\n",
    "- `tett`\n",
    "- `tesu`\n",
    "- `sest`\n",
    "- `tdst`\n",
    "- `tert`\n",
    "- `tess`\n",
    "\n",
    "In addition, prepending any character or appending any character would also have an edit distance of 1 and could be considered neighbors. To keep things simple, let's keep the length of our input strings fixed to a reasonable value (e.g. 10). In this case, each individual has 20 neighbors (i.e., each character has two neighbors).\n",
    "\n",
    "Let's implement a new `neighbor_strings()` function that produces these neighboring strings:"
   ]
  },
  {
   "cell_type": "code",
   "execution_count": 51,
   "metadata": {
    "execution": {
     "iopub.execute_input": "2025-01-16T09:39:50.654222Z",
     "iopub.status.busy": "2025-01-16T09:39:50.654096Z",
     "iopub.status.idle": "2025-01-16T09:39:50.656249Z",
     "shell.execute_reply": "2025-01-16T09:39:50.655987Z"
    },
    "slideshow": {
     "slide_type": "subslide"
    }
   },
   "outputs": [],
   "source": [
    "def neighbor_strings(x):\n",
    "    n = []\n",
    "    for pos in range(len(x)):\n",
    "        c = ord(x[pos])\n",
    "        if c < 126:\n",
    "            n += [x[:pos] + chr(c + 1) + x[pos + 1:]]\n",
    "        if c > 32:\n",
    "            n += [x[:pos] + chr(c - 1) + x[pos + 1:]]\n",
    "    return n"
   ]
  },
  {
   "attachments": {},
   "cell_type": "markdown",
   "metadata": {
    "slideshow": {
     "slide_type": "fragment"
    }
   },
   "source": [
    "The `neighbor_strings()` function gets the numerical value of each character in the input string, and creates a new string with the character replaced with the preceding and succeeding characters in the alphabet. To start with, we only consider printable ASCII characters, which are in the range 32-126."
   ]
  },
  {
   "cell_type": "code",
   "execution_count": 52,
   "metadata": {
    "execution": {
     "iopub.execute_input": "2025-01-16T09:39:50.657829Z",
     "iopub.status.busy": "2025-01-16T09:39:50.657746Z",
     "iopub.status.idle": "2025-01-16T09:39:50.659681Z",
     "shell.execute_reply": "2025-01-16T09:39:50.659415Z"
    },
    "slideshow": {
     "slide_type": "subslide"
    }
   },
   "outputs": [
    {
     "name": "stdout",
     "output_type": "stream",
     "text": [
      "['Iello', 'Gello', 'Hfllo', 'Hdllo', 'Hemlo', 'Heklo', 'Helmo', 'Helko', 'Hellp', 'Helln']\n"
     ]
    }
   ],
   "source": [
    "print(neighbor_strings(\"Hello\"))"
   ]
  },
  {
   "attachments": {},
   "cell_type": "markdown",
   "metadata": {
    "slideshow": {
     "slide_type": "fragment"
    }
   },
   "source": [
    "Thus, we have defined the search space for the `cgi_decode()` function. The next ingredient to searching for individuals in this search space is a fitness function."
   ]
  },
  {
   "cell_type": "markdown",
   "metadata": {
    "slideshow": {
     "slide_type": "subslide"
    }
   },
   "source": [
    "### Branch Distances\n",
    "\n",
    "The `test_me()` function consisted of a single if-condition, in which two integer numbers were compared. In the `cgi_decode()` function we have three if-conditions and one while loop, and they all compare characters. Fortunately, as we have already seen, we can treat characters like numbers, so we can use the same distance estimate we used in the `test_me()` example. However, there are also two conditions which check whether a character is contained in a set, e.g. `digit_high in hex_values`. How close is a value to being contained in the set? An obvious solution would be to consider the distance to the closest value in the set as the estimate."
   ]
  },
  {
   "cell_type": "code",
   "execution_count": 53,
   "metadata": {
    "execution": {
     "iopub.execute_input": "2025-01-16T09:39:50.661586Z",
     "iopub.status.busy": "2025-01-16T09:39:50.661490Z",
     "iopub.status.idle": "2025-01-16T09:39:50.663282Z",
     "shell.execute_reply": "2025-01-16T09:39:50.662978Z"
    },
    "slideshow": {
     "slide_type": "skip"
    }
   },
   "outputs": [],
   "source": [
    "import sys"
   ]
  },
  {
   "cell_type": "code",
   "execution_count": 54,
   "metadata": {
    "execution": {
     "iopub.execute_input": "2025-01-16T09:39:50.664939Z",
     "iopub.status.busy": "2025-01-16T09:39:50.664823Z",
     "iopub.status.idle": "2025-01-16T09:39:50.666899Z",
     "shell.execute_reply": "2025-01-16T09:39:50.666546Z"
    },
    "slideshow": {
     "slide_type": "subslide"
    }
   },
   "outputs": [],
   "source": [
    "def distance_character(target, values):\n",
    "\n",
    "    # Initialize with very large value so that any comparison is better\n",
    "    minimum = sys.maxsize\n",
    "\n",
    "    for elem in values:\n",
    "        distance = abs(target - elem)\n",
    "        if distance < minimum:\n",
    "            minimum = distance\n",
    "    return minimum"
   ]
  },
  {
   "cell_type": "code",
   "execution_count": 55,
   "metadata": {
    "execution": {
     "iopub.execute_input": "2025-01-16T09:39:50.668539Z",
     "iopub.status.busy": "2025-01-16T09:39:50.668406Z",
     "iopub.status.idle": "2025-01-16T09:39:50.670819Z",
     "shell.execute_reply": "2025-01-16T09:39:50.670504Z"
    },
    "slideshow": {
     "slide_type": "fragment"
    }
   },
   "outputs": [
    {
     "data": {
      "text/plain": [
       "2"
      ]
     },
     "execution_count": 55,
     "metadata": {},
     "output_type": "execute_result"
    }
   ],
   "source": [
    "distance_character(10, [1, 5, 12, 100])"
   ]
  },
  {
   "cell_type": "code",
   "execution_count": 56,
   "metadata": {
    "execution": {
     "iopub.execute_input": "2025-01-16T09:39:50.672892Z",
     "iopub.status.busy": "2025-01-16T09:39:50.672652Z",
     "iopub.status.idle": "2025-01-16T09:39:50.674968Z",
     "shell.execute_reply": "2025-01-16T09:39:50.674668Z"
    },
    "slideshow": {
     "slide_type": "fragment"
    }
   },
   "outputs": [
    {
     "data": {
      "text/plain": [
       "10"
      ]
     },
     "execution_count": 56,
     "metadata": {},
     "output_type": "execute_result"
    }
   ],
   "source": [
    "distance_character(10, [0, 50, 80, 200])"
   ]
  },
  {
   "cell_type": "markdown",
   "metadata": {
    "slideshow": {
     "slide_type": "subslide"
    }
   },
   "source": [
    "A further simplification we have made so far was to assume that we would always want conditions to evaluate to true. In practice, we might want to have if-conditions evaluate to false just as well. Thus, each if-condition actually has two distance estimates, one to estimate how close it is to being true, and one how close it is to being false. If the condition is true, then the true distance is 0; if the condition is false, then the false distance is 0. That is, in a comparison `a == b`, if `a` is smaller than `b`, then the false distance is `0` by definition. "
   ]
  },
  {
   "cell_type": "markdown",
   "metadata": {
    "slideshow": {
     "slide_type": "fragment"
    }
   },
   "source": [
    "What is the distance of `a == b` being false when `a` equals `b`? Any change to either `a` or `b` would make the condition evaluate to false, so we can define the distance simply as 1 in this case."
   ]
  },
  {
   "cell_type": "markdown",
   "metadata": {
    "slideshow": {
     "slide_type": "subslide"
    }
   },
   "source": [
    "More generally, there can be other types of comparisons, for example using relational operators. Consider the loop condition in `cgi_decode()`: `i < len(s)`, i.e., it uses a less-than comparison operator. It is quite straight forward to extend our notion of branch distance to cover different types of comparisons, and to calculate true and false distances.  The following table shows how to calculate the distance for different types of comparisons:\n",
    "\n",
    "| Condition | Distance True | Distance False |\n",
    "| ------------- |:-------------:| -----:|\n",
    "| a == b      | abs(a - b) | 1 |\n",
    "| a != b      | 1          | abs(a - b) |\n",
    "| a < b       | b - a + 1  | a - b      |\n",
    "| a <= b      | b - a      | a - b + 1  |\n",
    "| a > b       | a - b + 1  | b - a      |\n",
    "\n",
    "\n",
    "Note that several of the calculations add a constant `1`. The reason for this is quite simple: Suppose we want to have `a < b` evaluate to true, and let `a = 27` and `b = 27`. The condition is not true, but simply taking the difference would give us a result of `0`. To avoid this, we have to add a constant value. It is not important whether this value is `1` -- any positive constant works."
   ]
  },
  {
   "attachments": {},
   "cell_type": "markdown",
   "metadata": {
    "slideshow": {
     "slide_type": "subslide"
    }
   },
   "source": [
    "### Dealing with Complex Conditions\n",
    "\n",
    "In the `cgi_decode()` function, we can also find a somewhat more complex predicate which consists of two conditions joined by a logical `and`:\n",
    "\n",
    "`\n",
    "if digit_high in hex_values and digit_low in hex_values:\n",
    "`\n",
    "\n",
    "In principle, the branch distance is defined such that the distance to make a conjunction `A and B` true equals the sum of the branch distances for `A` and `B`, as both of the two conditions would need to be true. Similarly, the branch distance to make `A or B` true would be the minimum of the two branch distances of `A` and `B`, as it suffices if one of the two conditions is true to make the entire expression true. \n",
    "\n",
    "However, it is not as easy as that in practice: Predicates can consist of nested conditions and negations, and one would need to convert the expression to canonical form before being able to apply this calculation. Furthermore, most modern programming languages use *short-circuit evaluation*: If there is a condition `A or B`, and `A` is true, then `B` is never evaluated. If `B` is an expression with side effects, then by calculating the branch distance of `B` even though short-circuit evaluation would avoid its execution, we would potentially be changing the program behavior (by invoking the side-effect that would in normal behavior not be executed), and that is not acceptable."
   ]
  },
  {
   "attachments": {},
   "cell_type": "markdown",
   "metadata": {
    "slideshow": {
     "slide_type": "subslide"
    }
   },
   "source": [
    "Furthermore, what if the branching condition has side effects? For example, suppose that the branching condition were `x == 2 * foo(y)`, where `foo()` is a function that takes an integer as input. Naively instrumenting would lead to the following code:\n",
    "\n",
    "```\n",
    "    distance = abs(x - 2 * foo(y))\n",
    "\tif x == 2 * foo(y):\n",
    "\t...\n",
    "```"
   ]
  },
  {
   "cell_type": "markdown",
   "metadata": {
    "slideshow": {
     "slide_type": "subslide"
    }
   },
   "source": [
    "Thus, the instrumentation would lead to `foo()` being executed *twice*. Suppose `foo()` changes the state of the system (e.g., by printing something, accessing the file system, changing some state variables, etc.), then clearly invoking `foo()` a second time is a bad idea. One way to overcome this problem is to _transform_ the conditions, rather than _adding_ tracing calls. For example, one can create temporary variables that hold the values necessary for the distance calculation and then use these in the branching condition:\n",
    "\n",
    "```\n",
    "\ttmp1 = x\n",
    "\ttmp2 = 2 * foo(y)\n",
    "\tdistance = abs(tmp1 - tmp2)\n",
    "\tif tmp1 == tmp2:\n",
    "\t...\n",
    "```"
   ]
  },
  {
   "cell_type": "markdown",
   "metadata": {
    "slideshow": {
     "slide_type": "subslide"
    }
   },
   "source": [
    "Besides these issues, the approach of adding a global variable and method call to the program seems like a rather clumsy approach --- surely we cannot start thinking about every branch in our program on its own and instrument the program we want to test manually, in particular if programs have multiple branches like the `cgi_decode()` function. Rather, we should be looking at how to _automatically_ instrument programs to contain the necessary added statements such that we can calculate fitness values."
   ]
  },
  {
   "attachments": {},
   "cell_type": "markdown",
   "metadata": {
    "slideshow": {
     "slide_type": "subslide"
    }
   },
   "source": [
    "### Instrumentation for Atomic Conditions\n",
    "\n",
    "An alternative approach to using the global and temporary variables is to replace the actual comparison with a call to a helper function, where the original expressions are evaluated as arguments, and the operator is an additional argument. Assume we have a function `evaluate_condition()` which takes four parameters:\n",
    "\n",
    "* `num` is a unique id that identifies the condition; \n",
    "* `op` is the operator of the comparison; \n",
    "* `lhs` and `rhs` are the operands. \n",
    "\n",
    "The function calculates two distances for the condition: The distance to the condition evaluating to true, and the distance to the condition evaluating to false. One of the two outcomes will always be true, and thus one of them will always have distance `0`. Since the function replaces the original comparison, it returns true or false, depending on which distance is `0`. That means, the example expression \n",
    "\n",
    "```\n",
    "    if x == 2 * foo(y)\n",
    "```\n",
    "\n",
    "would be replaced by \n",
    "\n",
    "```\n",
    "    if evaluate_condition(0, \"Eq\", x, 2 * foo(y))\n",
    "```\n",
    "\n",
    "such that the arguments are only evaluated once, and side effects are thus handled correctly. Here is how the `evaluate_condition()` function looks like:\n"
   ]
  },
  {
   "cell_type": "code",
   "execution_count": 57,
   "metadata": {
    "execution": {
     "iopub.execute_input": "2025-01-16T09:39:50.677024Z",
     "iopub.status.busy": "2025-01-16T09:39:50.676902Z",
     "iopub.status.idle": "2025-01-16T09:39:50.679028Z",
     "shell.execute_reply": "2025-01-16T09:39:50.678736Z"
    },
    "slideshow": {
     "slide_type": "subslide"
    }
   },
   "outputs": [],
   "source": [
    "def evaluate_condition(num, op, lhs, rhs):\n",
    "    distance_true = 0\n",
    "    distance_false = 0\n",
    "    if op == \"Eq\":\n",
    "        if lhs == rhs:\n",
    "            distance_false = 1\n",
    "        else:\n",
    "            distance_true = abs(lhs - rhs)\n",
    "\n",
    "    # ... code for other types of conditions\n",
    "\n",
    "    if distance_true == 0:\n",
    "        return True\n",
    "    else:\n",
    "        return False"
   ]
  },
  {
   "cell_type": "markdown",
   "metadata": {
    "slideshow": {
     "slide_type": "subslide"
    }
   },
   "source": [
    "Note that we are initializing `distance_true` and `distance_false` with `0`. Thus, if `lhs` equals `rhs`, then the variable `distance_true` remains 0, and vice versa."
   ]
  },
  {
   "cell_type": "code",
   "execution_count": 58,
   "metadata": {
    "execution": {
     "iopub.execute_input": "2025-01-16T09:39:50.680601Z",
     "iopub.status.busy": "2025-01-16T09:39:50.680474Z",
     "iopub.status.idle": "2025-01-16T09:39:50.682786Z",
     "shell.execute_reply": "2025-01-16T09:39:50.682401Z"
    },
    "slideshow": {
     "slide_type": "fragment"
    }
   },
   "outputs": [
    {
     "data": {
      "text/plain": [
       "False"
      ]
     },
     "execution_count": 58,
     "metadata": {},
     "output_type": "execute_result"
    }
   ],
   "source": [
    "evaluate_condition(1, \"Eq\", 10, 20)"
   ]
  },
  {
   "cell_type": "code",
   "execution_count": 59,
   "metadata": {
    "execution": {
     "iopub.execute_input": "2025-01-16T09:39:50.684558Z",
     "iopub.status.busy": "2025-01-16T09:39:50.684422Z",
     "iopub.status.idle": "2025-01-16T09:39:50.686767Z",
     "shell.execute_reply": "2025-01-16T09:39:50.686488Z"
    },
    "slideshow": {
     "slide_type": "fragment"
    }
   },
   "outputs": [
    {
     "data": {
      "text/plain": [
       "True"
      ]
     },
     "execution_count": 59,
     "metadata": {},
     "output_type": "execute_result"
    }
   ],
   "source": [
    "evaluate_condition(2, \"Eq\", 20, 20)"
   ]
  },
  {
   "cell_type": "markdown",
   "metadata": {
    "slideshow": {
     "slide_type": "fragment"
    }
   },
   "source": [
    "What the `evaluate_condition()` function does not yet do is store the distances observed. Obviously, we will need to store the values somewhere so that we can access it from our fitness function. Since the `cgi_decode()` program consists of several conditions, and for each condition we might be interested in the true and the false distance, we simply use two global dictionaries, `distances_true` and `distances_false`, and define a helper function that stores the distance values observed in the dictionary:"
   ]
  },
  {
   "cell_type": "code",
   "execution_count": 60,
   "metadata": {
    "execution": {
     "iopub.execute_input": "2025-01-16T09:39:50.688667Z",
     "iopub.status.busy": "2025-01-16T09:39:50.688521Z",
     "iopub.status.idle": "2025-01-16T09:39:50.690805Z",
     "shell.execute_reply": "2025-01-16T09:39:50.690535Z"
    },
    "slideshow": {
     "slide_type": "subslide"
    }
   },
   "outputs": [],
   "source": [
    "def update_maps(condition_num, d_true, d_false):\n",
    "    global distances_true, distances_false\n",
    "\n",
    "    if condition_num in distances_true.keys():\n",
    "        distances_true[condition_num] = min(\n",
    "            distances_true[condition_num], d_true)\n",
    "    else:\n",
    "        distances_true[condition_num] = d_true\n",
    "\n",
    "    if condition_num in distances_false.keys():\n",
    "        distances_false[condition_num] = min(\n",
    "            distances_false[condition_num], d_false)\n",
    "    else:\n",
    "        distances_false[condition_num] = d_false"
   ]
  },
  {
   "cell_type": "markdown",
   "metadata": {
    "slideshow": {
     "slide_type": "subslide"
    }
   },
   "source": [
    "The variable `condition_num` is the unique ID of the condition that we've just evaluated. If this is the first time that we have executed this particular condition, then the true and false distances are simply stored in the corresponding dictionaries. However, it is possible that the same test executes a condition multiple times. For example, the loop condition `i < len(s)` in the `cgi_decode()` function is evaluated before every single loop iteration. In the end, however, we want to have a single fitness value for a test. As covering a branch just requires that at least one of the executions reaches the branch, we consider only the closest one. Therefore, if the `distances_true` and `distances_false` dictionaries already contain the distance from a previous execution, we only replace that value if the new execution was closer to reaching the branch; this is implemented using the `min()` function."
   ]
  },
  {
   "cell_type": "markdown",
   "metadata": {
    "slideshow": {
     "slide_type": "subslide"
    }
   },
   "source": [
    "We now need to call this function from within `evaluate_condition()`. Let's also add the calculation of distance for the `in` operator and the `<` comparison, since we need both of them for the `cgi_decode()` example. Furthermore, `cgi_decode()` actually compares characters and numbers. To make sure we use the correct types, we first have to convert the characters to numbers to calculate the distances. This is done using Python's `ord()` function."
   ]
  },
  {
   "cell_type": "code",
   "execution_count": 61,
   "metadata": {
    "execution": {
     "iopub.execute_input": "2025-01-16T09:39:50.692402Z",
     "iopub.status.busy": "2025-01-16T09:39:50.692305Z",
     "iopub.status.idle": "2025-01-16T09:39:50.695120Z",
     "shell.execute_reply": "2025-01-16T09:39:50.694795Z"
    },
    "slideshow": {
     "slide_type": "subslide"
    }
   },
   "outputs": [],
   "source": [
    "def evaluate_condition(num, op, lhs, rhs):  # type: ignore\n",
    "    distance_true = 0\n",
    "    distance_false = 0\n",
    "\n",
    "    # Make sure the distance can be calculated on number and character\n",
    "    # comparisons\n",
    "    if isinstance(lhs, str):\n",
    "        lhs = ord(lhs)\n",
    "    if isinstance(rhs, str):\n",
    "        rhs = ord(rhs)\n",
    "\n",
    "    if op == \"Eq\":\n",
    "        if lhs == rhs:\n",
    "            distance_false = 1\n",
    "        else:\n",
    "            distance_true = abs(lhs - rhs)\n",
    "\n",
    "    elif op == \"Lt\":\n",
    "        if lhs < rhs:\n",
    "            distance_false = rhs - lhs\n",
    "        else:\n",
    "            distance_true = lhs - rhs + 1\n",
    "    # ...\n",
    "    # handle other comparison operators\n",
    "    # ...\n",
    "\n",
    "    elif op == \"In\":\n",
    "        minimum = sys.maxsize\n",
    "        for elem in rhs.keys():\n",
    "            distance = abs(lhs - ord(elem))\n",
    "            if distance < minimum:\n",
    "                minimum = distance\n",
    "\n",
    "        distance_true = minimum\n",
    "        if distance_true == 0:\n",
    "            distance_false = 1\n",
    "\n",
    "    update_maps(num, distance_true, distance_false)\n",
    "\n",
    "    if distance_true == 0:\n",
    "        return True\n",
    "    else:\n",
    "        return False"
   ]
  },
  {
   "cell_type": "markdown",
   "metadata": {
    "slideshow": {
     "slide_type": "subslide"
    }
   },
   "source": [
    "The following shows the instrumentation of the conjunction from `cgi_decode()` to make use of the `evaluate_condition()` function. There are two calls to `evaluate_condition` corresponding to the two conditions, and the operator `and` with which they are conjoined ensures that the original short-circuiting behavior is preserved:\n",
    "\n",
    "`\n",
    "if (evaluate_condition(4, 'In', digit_high, hex_values) and evaluate_condition(5, 'In', digit_low, hex_values))\n",
    "`\n",
    "\n",
    "Of course we would like to automatically produce this instrumented version."
   ]
  },
  {
   "attachments": {},
   "cell_type": "markdown",
   "metadata": {
    "slideshow": {
     "slide_type": "subslide"
    }
   },
   "source": [
    "### Instrumenting Source Code Automatically\n",
    "\n",
    "Replacing comparisons automatically is actually quite easy in Python, using the abstract syntax tree (AST) of the program. In the AST, a comparison will typically be a tree node with an operator attribute and two children for the left-hand and right-hand operators. To replace such comparisons with a call to `evaluate_condition()` one simply needs to replace the comparison node in the AST with a function call node, and this is what the `BranchTransformer` class does use a `NodeTransformer` from Python's `ast` module:"
   ]
  },
  {
   "cell_type": "code",
   "execution_count": 62,
   "metadata": {
    "execution": {
     "iopub.execute_input": "2025-01-16T09:39:50.696922Z",
     "iopub.status.busy": "2025-01-16T09:39:50.696766Z",
     "iopub.status.idle": "2025-01-16T09:39:50.698435Z",
     "shell.execute_reply": "2025-01-16T09:39:50.698193Z"
    },
    "slideshow": {
     "slide_type": "skip"
    }
   },
   "outputs": [],
   "source": [
    "import ast"
   ]
  },
  {
   "cell_type": "code",
   "execution_count": 63,
   "metadata": {
    "execution": {
     "iopub.execute_input": "2025-01-16T09:39:50.700004Z",
     "iopub.status.busy": "2025-01-16T09:39:50.699892Z",
     "iopub.status.idle": "2025-01-16T09:39:50.702347Z",
     "shell.execute_reply": "2025-01-16T09:39:50.702083Z"
    },
    "slideshow": {
     "slide_type": "subslide"
    }
   },
   "outputs": [],
   "source": [
    "class BranchTransformer(ast.NodeTransformer):\n",
    "\n",
    "    branch_num = 0\n",
    "\n",
    "    def visit_FunctionDef(self, node):\n",
    "        node.name = node.name + \"_instrumented\"\n",
    "        return self.generic_visit(node)\n",
    "\n",
    "    def visit_Compare(self, node):\n",
    "        if node.ops[0] in [ast.Is, ast.IsNot, ast.In, ast.NotIn]:\n",
    "            return node\n",
    "\n",
    "        self.branch_num += 1\n",
    "        return ast.Call(func=ast.Name(\"evaluate_condition\", ast.Load()),\n",
    "                        args=[ast.Num(self.branch_num),\n",
    "                              ast.Str(node.ops[0].__class__.__name__),\n",
    "                              node.left,\n",
    "                              node.comparators[0]],\n",
    "                        keywords=[],\n",
    "                        starargs=None,\n",
    "                        kwargs=None)"
   ]
  },
  {
   "cell_type": "markdown",
   "metadata": {
    "slideshow": {
     "slide_type": "subslide"
    }
   },
   "source": [
    "The `BranchTransformer` parses a target Python program using the built-in parser `ast.parse()`, which returns the AST. Python provides an API to traverse and modify this AST. To replace the comparison with a function call we use an `ast.NodeTransformer`, which uses the visitor pattern where there is one `visit_*` function for each type of node in the AST. As we are interested in replacing comparisons, we override `visit_Compare`, where instead of the original comparison node we return a new node of type `ast.Func`, which is a function call node. The first parameter of this node is the name of the function `evaluate_condition()`, and the arguments are the four arguments that our `evaluate_condition()` function expects: \n",
    "\n",
    "* the number of branch (for which we keep a count in `branch_num`), \n",
    "* the operator (for which we simply use the class name), \n",
    "* the left-hand side, and \n",
    "* the right-hand side. \n",
    "\n",
    "Note that Python allows comparisons of multiple expressions (e.g. `1 < x < 10`); to keep the code simple we only deal with individual comparisons here, but it would be straight forward to extend the code by treating each comparison with an individual call to `evaluate_condition`. You will notice that we also override `visit_FunctionDef`; this is just to change the name of the method by appending `_instrumented`, so that we can continue to use the original function together with the instrumented one."
   ]
  },
  {
   "cell_type": "markdown",
   "metadata": {
    "slideshow": {
     "slide_type": "subslide"
    }
   },
   "source": [
    "The following code parses the source code of the `cgi_decode()` function to an AST, then transforms it, and prints it out again (using the `unparse()` function from the `ast` library):"
   ]
  },
  {
   "cell_type": "code",
   "execution_count": 64,
   "metadata": {
    "execution": {
     "iopub.execute_input": "2025-01-16T09:39:50.704035Z",
     "iopub.status.busy": "2025-01-16T09:39:50.703930Z",
     "iopub.status.idle": "2025-01-16T09:39:50.705631Z",
     "shell.execute_reply": "2025-01-16T09:39:50.705375Z"
    },
    "slideshow": {
     "slide_type": "skip"
    }
   },
   "outputs": [],
   "source": [
    "import inspect\n",
    "import ast"
   ]
  },
  {
   "cell_type": "code",
   "execution_count": 65,
   "metadata": {
    "execution": {
     "iopub.execute_input": "2025-01-16T09:39:50.707098Z",
     "iopub.status.busy": "2025-01-16T09:39:50.706991Z",
     "iopub.status.idle": "2025-01-16T09:39:50.708593Z",
     "shell.execute_reply": "2025-01-16T09:39:50.708339Z"
    },
    "slideshow": {
     "slide_type": "skip"
    }
   },
   "outputs": [],
   "source": [
    "from bookutils import print_content"
   ]
  },
  {
   "cell_type": "code",
   "execution_count": 66,
   "metadata": {
    "execution": {
     "iopub.execute_input": "2025-01-16T09:39:50.710037Z",
     "iopub.status.busy": "2025-01-16T09:39:50.709954Z",
     "iopub.status.idle": "2025-01-16T09:39:50.780054Z",
     "shell.execute_reply": "2025-01-16T09:39:50.779714Z"
    },
    "slideshow": {
     "slide_type": "subslide"
    }
   },
   "outputs": [
    {
     "name": "stdout",
     "output_type": "stream",
     "text": [
      "\u001b[34mdef\u001b[39;49;00m \u001b[32mcgi_decode_instrumented\u001b[39;49;00m(s):\u001b[37m\u001b[39;49;00m\n",
      "\u001b[37m    \u001b[39;49;00m\u001b[33m\"\"\"Decode the CGI-encoded string `s`:\u001b[39;49;00m\n",
      "\u001b[33m       * replace \"+\" by \" \"\u001b[39;49;00m\n",
      "\u001b[33m       * replace \"%xx\" by the character with hex number xx.\u001b[39;49;00m\n",
      "\u001b[33m       Return the decoded string.  Raise `ValueError` for invalid inputs.\"\"\"\u001b[39;49;00m\u001b[37m\u001b[39;49;00m\n",
      "    hex_values = {\u001b[33m'\u001b[39;49;00m\u001b[33m0\u001b[39;49;00m\u001b[33m'\u001b[39;49;00m: \u001b[34m0\u001b[39;49;00m, \u001b[33m'\u001b[39;49;00m\u001b[33m1\u001b[39;49;00m\u001b[33m'\u001b[39;49;00m: \u001b[34m1\u001b[39;49;00m, \u001b[33m'\u001b[39;49;00m\u001b[33m2\u001b[39;49;00m\u001b[33m'\u001b[39;49;00m: \u001b[34m2\u001b[39;49;00m, \u001b[33m'\u001b[39;49;00m\u001b[33m3\u001b[39;49;00m\u001b[33m'\u001b[39;49;00m: \u001b[34m3\u001b[39;49;00m, \u001b[33m'\u001b[39;49;00m\u001b[33m4\u001b[39;49;00m\u001b[33m'\u001b[39;49;00m: \u001b[34m4\u001b[39;49;00m, \u001b[33m'\u001b[39;49;00m\u001b[33m5\u001b[39;49;00m\u001b[33m'\u001b[39;49;00m: \u001b[34m5\u001b[39;49;00m, \u001b[33m'\u001b[39;49;00m\u001b[33m6\u001b[39;49;00m\u001b[33m'\u001b[39;49;00m: \u001b[34m6\u001b[39;49;00m, \u001b[33m'\u001b[39;49;00m\u001b[33m7\u001b[39;49;00m\u001b[33m'\u001b[39;49;00m: \u001b[34m7\u001b[39;49;00m, \u001b[33m'\u001b[39;49;00m\u001b[33m8\u001b[39;49;00m\u001b[33m'\u001b[39;49;00m: \u001b[34m8\u001b[39;49;00m, \u001b[33m'\u001b[39;49;00m\u001b[33m9\u001b[39;49;00m\u001b[33m'\u001b[39;49;00m: \u001b[34m9\u001b[39;49;00m, \u001b[33m'\u001b[39;49;00m\u001b[33ma\u001b[39;49;00m\u001b[33m'\u001b[39;49;00m: \u001b[34m10\u001b[39;49;00m, \u001b[33m'\u001b[39;49;00m\u001b[33mb\u001b[39;49;00m\u001b[33m'\u001b[39;49;00m: \u001b[34m11\u001b[39;49;00m, \u001b[33m'\u001b[39;49;00m\u001b[33mc\u001b[39;49;00m\u001b[33m'\u001b[39;49;00m: \u001b[34m12\u001b[39;49;00m, \u001b[33m'\u001b[39;49;00m\u001b[33md\u001b[39;49;00m\u001b[33m'\u001b[39;49;00m: \u001b[34m13\u001b[39;49;00m, \u001b[33m'\u001b[39;49;00m\u001b[33me\u001b[39;49;00m\u001b[33m'\u001b[39;49;00m: \u001b[34m14\u001b[39;49;00m, \u001b[33m'\u001b[39;49;00m\u001b[33mf\u001b[39;49;00m\u001b[33m'\u001b[39;49;00m: \u001b[34m15\u001b[39;49;00m, \u001b[33m'\u001b[39;49;00m\u001b[33mA\u001b[39;49;00m\u001b[33m'\u001b[39;49;00m: \u001b[34m10\u001b[39;49;00m, \u001b[33m'\u001b[39;49;00m\u001b[33mB\u001b[39;49;00m\u001b[33m'\u001b[39;49;00m: \u001b[34m11\u001b[39;49;00m, \u001b[33m'\u001b[39;49;00m\u001b[33mC\u001b[39;49;00m\u001b[33m'\u001b[39;49;00m: \u001b[34m12\u001b[39;49;00m, \u001b[33m'\u001b[39;49;00m\u001b[33mD\u001b[39;49;00m\u001b[33m'\u001b[39;49;00m: \u001b[34m13\u001b[39;49;00m, \u001b[33m'\u001b[39;49;00m\u001b[33mE\u001b[39;49;00m\u001b[33m'\u001b[39;49;00m: \u001b[34m14\u001b[39;49;00m, \u001b[33m'\u001b[39;49;00m\u001b[33mF\u001b[39;49;00m\u001b[33m'\u001b[39;49;00m: \u001b[34m15\u001b[39;49;00m}\u001b[37m\u001b[39;49;00m\n",
      "    t = \u001b[33m'\u001b[39;49;00m\u001b[33m'\u001b[39;49;00m\u001b[37m\u001b[39;49;00m\n",
      "    i = \u001b[34m0\u001b[39;49;00m\u001b[37m\u001b[39;49;00m\n",
      "    \u001b[34mwhile\u001b[39;49;00m evaluate_condition(\u001b[34m1\u001b[39;49;00m, \u001b[33m'\u001b[39;49;00m\u001b[33mLt\u001b[39;49;00m\u001b[33m'\u001b[39;49;00m, i, \u001b[36mlen\u001b[39;49;00m(s)):\u001b[37m\u001b[39;49;00m\n",
      "        c = s[i]\u001b[37m\u001b[39;49;00m\n",
      "        \u001b[34mif\u001b[39;49;00m evaluate_condition(\u001b[34m2\u001b[39;49;00m, \u001b[33m'\u001b[39;49;00m\u001b[33mEq\u001b[39;49;00m\u001b[33m'\u001b[39;49;00m, c, \u001b[33m'\u001b[39;49;00m\u001b[33m+\u001b[39;49;00m\u001b[33m'\u001b[39;49;00m):\u001b[37m\u001b[39;49;00m\n",
      "            t += \u001b[33m'\u001b[39;49;00m\u001b[33m \u001b[39;49;00m\u001b[33m'\u001b[39;49;00m\u001b[37m\u001b[39;49;00m\n",
      "        \u001b[34melif\u001b[39;49;00m evaluate_condition(\u001b[34m3\u001b[39;49;00m, \u001b[33m'\u001b[39;49;00m\u001b[33mEq\u001b[39;49;00m\u001b[33m'\u001b[39;49;00m, c, \u001b[33m'\u001b[39;49;00m\u001b[33m%\u001b[39;49;00m\u001b[33m'\u001b[39;49;00m):\u001b[37m\u001b[39;49;00m\n",
      "            digit_high, digit_low = (s[i + \u001b[34m1\u001b[39;49;00m], s[i + \u001b[34m2\u001b[39;49;00m])\u001b[37m\u001b[39;49;00m\n",
      "            i += \u001b[34m2\u001b[39;49;00m\u001b[37m\u001b[39;49;00m\n",
      "            \u001b[34mif\u001b[39;49;00m evaluate_condition(\u001b[34m4\u001b[39;49;00m, \u001b[33m'\u001b[39;49;00m\u001b[33mIn\u001b[39;49;00m\u001b[33m'\u001b[39;49;00m, digit_high, hex_values) \u001b[35mand\u001b[39;49;00m evaluate_condition(\u001b[34m5\u001b[39;49;00m, \u001b[33m'\u001b[39;49;00m\u001b[33mIn\u001b[39;49;00m\u001b[33m'\u001b[39;49;00m, digit_low, hex_values):\u001b[37m\u001b[39;49;00m\n",
      "                v = hex_values[digit_high] * \u001b[34m16\u001b[39;49;00m + hex_values[digit_low]\u001b[37m\u001b[39;49;00m\n",
      "                t += \u001b[36mchr\u001b[39;49;00m(v)\u001b[37m\u001b[39;49;00m\n",
      "            \u001b[34melse\u001b[39;49;00m:\u001b[37m\u001b[39;49;00m\n",
      "                \u001b[34mraise\u001b[39;49;00m \u001b[36mValueError\u001b[39;49;00m(\u001b[33m'\u001b[39;49;00m\u001b[33mInvalid encoding\u001b[39;49;00m\u001b[33m'\u001b[39;49;00m)\u001b[37m\u001b[39;49;00m\n",
      "        \u001b[34melse\u001b[39;49;00m:\u001b[37m\u001b[39;49;00m\n",
      "            t += c\u001b[37m\u001b[39;49;00m\n",
      "        i += \u001b[34m1\u001b[39;49;00m\u001b[37m\u001b[39;49;00m\n",
      "    \u001b[34mreturn\u001b[39;49;00m t\u001b[37m\u001b[39;49;00m"
     ]
    },
    {
     "name": "stderr",
     "output_type": "stream",
     "text": [
      "/var/folders/n2/xd9445p97rb3xh7m1dfx8_4h0006ts/T/ipykernel_7394/942233608.py:15: DeprecationWarning: ast.Num is deprecated and will be removed in Python 3.14; use ast.Constant instead\n",
      "  args=[ast.Num(self.branch_num),\n",
      "/var/folders/n2/xd9445p97rb3xh7m1dfx8_4h0006ts/T/ipykernel_7394/942233608.py:16: DeprecationWarning: ast.Str is deprecated and will be removed in Python 3.14; use ast.Constant instead\n",
      "  ast.Str(node.ops[0].__class__.__name__),\n"
     ]
    }
   ],
   "source": [
    "source = inspect.getsource(cgi_decode)\n",
    "node = ast.parse(source)\n",
    "BranchTransformer().visit(node)\n",
    "\n",
    "# Make sure the line numbers are ok before printing\n",
    "node = ast.fix_missing_locations(node)\n",
    "print_content(ast.unparse(node), '.py')"
   ]
  },
  {
   "cell_type": "markdown",
   "metadata": {
    "slideshow": {
     "slide_type": "subslide"
    }
   },
   "source": [
    "To calculate a fitness value with the instrumented version, we need to compile the instrumented AST again, which is done using Python's `compile()` function. We then need to make the compiled function accessible, for which we first retrieve the current module from `sys.modules`, and then add the compiled code of the instrumented function to the list of functions of the current module using `exec`. After this, the `cgi_decode_instrumented()` function can be accessed."
   ]
  },
  {
   "cell_type": "code",
   "execution_count": 67,
   "metadata": {
    "execution": {
     "iopub.execute_input": "2025-01-16T09:39:50.783818Z",
     "iopub.status.busy": "2025-01-16T09:39:50.783576Z",
     "iopub.status.idle": "2025-01-16T09:39:50.789488Z",
     "shell.execute_reply": "2025-01-16T09:39:50.788937Z"
    },
    "slideshow": {
     "slide_type": "skip"
    }
   },
   "outputs": [],
   "source": [
    "from typing import Dict, cast"
   ]
  },
  {
   "cell_type": "code",
   "execution_count": 68,
   "metadata": {
    "execution": {
     "iopub.execute_input": "2025-01-16T09:39:50.794096Z",
     "iopub.status.busy": "2025-01-16T09:39:50.793936Z",
     "iopub.status.idle": "2025-01-16T09:39:50.797904Z",
     "shell.execute_reply": "2025-01-16T09:39:50.796371Z"
    },
    "slideshow": {
     "slide_type": "subslide"
    }
   },
   "outputs": [],
   "source": [
    "def create_instrumented_function(f):\n",
    "    source = inspect.getsource(f)\n",
    "    node = ast.parse(source)\n",
    "    node = BranchTransformer().visit(node)\n",
    "\n",
    "    # Make sure the line numbers are ok so that it compiles\n",
    "    node = ast.fix_missing_locations(node)\n",
    "\n",
    "    # Compile and add the instrumented function to the current module\n",
    "    current_module = sys.modules[__name__]\n",
    "    code = compile(cast(ast.Module, node), filename=\"<ast>\", mode=\"exec\")\n",
    "    exec(code, current_module.__dict__)"
   ]
  },
  {
   "cell_type": "code",
   "execution_count": 69,
   "metadata": {
    "execution": {
     "iopub.execute_input": "2025-01-16T09:39:50.801477Z",
     "iopub.status.busy": "2025-01-16T09:39:50.801295Z",
     "iopub.status.idle": "2025-01-16T09:39:50.804823Z",
     "shell.execute_reply": "2025-01-16T09:39:50.804252Z"
    },
    "slideshow": {
     "slide_type": "fragment"
    }
   },
   "outputs": [],
   "source": [
    "# Set up the global maps\n",
    "distances_true: Dict[int, int] = {}\n",
    "distances_false: Dict[int, int] = {}"
   ]
  },
  {
   "cell_type": "code",
   "execution_count": 70,
   "metadata": {
    "execution": {
     "iopub.execute_input": "2025-01-16T09:39:50.807295Z",
     "iopub.status.busy": "2025-01-16T09:39:50.807175Z",
     "iopub.status.idle": "2025-01-16T09:39:50.810839Z",
     "shell.execute_reply": "2025-01-16T09:39:50.810277Z"
    },
    "slideshow": {
     "slide_type": "subslide"
    }
   },
   "outputs": [],
   "source": [
    "# ignore\n",
    "def cgi_decode_instrumented(s: str) -> str:\n",
    "    return \"\"  # make mypy happy"
   ]
  },
  {
   "cell_type": "code",
   "execution_count": 71,
   "metadata": {
    "execution": {
     "iopub.execute_input": "2025-01-16T09:39:50.818651Z",
     "iopub.status.busy": "2025-01-16T09:39:50.817686Z",
     "iopub.status.idle": "2025-01-16T09:39:50.823857Z",
     "shell.execute_reply": "2025-01-16T09:39:50.823308Z"
    },
    "slideshow": {
     "slide_type": "fragment"
    }
   },
   "outputs": [
    {
     "name": "stderr",
     "output_type": "stream",
     "text": [
      "/var/folders/n2/xd9445p97rb3xh7m1dfx8_4h0006ts/T/ipykernel_7394/942233608.py:15: DeprecationWarning: ast.Num is deprecated and will be removed in Python 3.14; use ast.Constant instead\n",
      "  args=[ast.Num(self.branch_num),\n",
      "/var/folders/n2/xd9445p97rb3xh7m1dfx8_4h0006ts/T/ipykernel_7394/942233608.py:16: DeprecationWarning: ast.Str is deprecated and will be removed in Python 3.14; use ast.Constant instead\n",
      "  ast.Str(node.ops[0].__class__.__name__),\n"
     ]
    }
   ],
   "source": [
    "# Create instrumented function\n",
    "# cgi_decode_instrumented = \n",
    "create_instrumented_function(cgi_decode)"
   ]
  },
  {
   "cell_type": "code",
   "execution_count": 72,
   "metadata": {
    "execution": {
     "iopub.execute_input": "2025-01-16T09:39:50.826353Z",
     "iopub.status.busy": "2025-01-16T09:39:50.826215Z",
     "iopub.status.idle": "2025-01-16T09:39:50.828476Z",
     "shell.execute_reply": "2025-01-16T09:39:50.828129Z"
    },
    "slideshow": {
     "slide_type": "fragment"
    }
   },
   "outputs": [],
   "source": [
    "assert cgi_decode(\"Hello+Reader\") == cgi_decode_instrumented(\"Hello+Reader\")"
   ]
  },
  {
   "cell_type": "code",
   "execution_count": 73,
   "metadata": {
    "execution": {
     "iopub.execute_input": "2025-01-16T09:39:50.830557Z",
     "iopub.status.busy": "2025-01-16T09:39:50.830389Z",
     "iopub.status.idle": "2025-01-16T09:39:50.834692Z",
     "shell.execute_reply": "2025-01-16T09:39:50.834263Z"
    },
    "slideshow": {
     "slide_type": "fragment"
    }
   },
   "outputs": [
    {
     "data": {
      "text/plain": [
       "'Hello Reader'"
      ]
     },
     "execution_count": 73,
     "metadata": {},
     "output_type": "execute_result"
    }
   ],
   "source": [
    "cgi_decode_instrumented(\"Hello+Reader\")"
   ]
  },
  {
   "cell_type": "code",
   "execution_count": 74,
   "metadata": {
    "execution": {
     "iopub.execute_input": "2025-01-16T09:39:50.837255Z",
     "iopub.status.busy": "2025-01-16T09:39:50.837111Z",
     "iopub.status.idle": "2025-01-16T09:39:50.844044Z",
     "shell.execute_reply": "2025-01-16T09:39:50.843174Z"
    },
    "slideshow": {
     "slide_type": "subslide"
    }
   },
   "outputs": [
    {
     "data": {
      "text/plain": [
       "{1: 0, 2: 0, 3: 35}"
      ]
     },
     "execution_count": 74,
     "metadata": {},
     "output_type": "execute_result"
    }
   ],
   "source": [
    "distances_true"
   ]
  },
  {
   "cell_type": "code",
   "execution_count": 75,
   "metadata": {
    "execution": {
     "iopub.execute_input": "2025-01-16T09:39:50.847835Z",
     "iopub.status.busy": "2025-01-16T09:39:50.847551Z",
     "iopub.status.idle": "2025-01-16T09:39:50.850408Z",
     "shell.execute_reply": "2025-01-16T09:39:50.850007Z"
    },
    "slideshow": {
     "slide_type": "fragment"
    }
   },
   "outputs": [
    {
     "data": {
      "text/plain": [
       "{1: 0, 2: 0, 3: 0}"
      ]
     },
     "execution_count": 75,
     "metadata": {},
     "output_type": "execute_result"
    }
   ],
   "source": [
    "distances_false"
   ]
  },
  {
   "cell_type": "markdown",
   "metadata": {
    "slideshow": {
     "slide_type": "fragment"
    }
   },
   "source": [
    "As we can see from the `distances_true` and `distances_false` maps, conditions 1 and 2 have evaluated to true and to false, whereas condition 3 has only evaluated to false, when executed on `cgi_decode_instrumented`. This is as expected, since the while-loop was entered and left, and there was one white space but no `%`-character in the input string."
   ]
  },
  {
   "cell_type": "markdown",
   "metadata": {
    "slideshow": {
     "slide_type": "subslide"
    }
   },
   "source": [
    "### Fitness Function to Create Valid Hexadecimal Inputs\n",
    "\n",
    "As an example, let's take as objective to test the part of `cgi_decode()` that decodes valid hexadecimal codes. This means that we want to make condition 1 true, 2 false, 3 true, and 4 true. To represent such a path, we can simply sum up the branch distances for exactly these branches. However, there is a potential issue with simply summing up branch distances: If the distance for one condition depends on a comparison of very large values and the distance calculation for another condition depends on small values, then an improvement of the large values would very likely lead to a better fitness improvement, and thus bias the search. To avoid this, we need to *normalize* branch distances before adding them up."
   ]
  },
  {
   "attachments": {},
   "cell_type": "markdown",
   "metadata": {
    "slideshow": {
     "slide_type": "subslide"
    }
   },
   "source": [
    "A normalization function for a range `[a, b]` takes a number as input and returns a value that is `>=a` and `<=b`. The important thing about the function is that for any two numbers `x` and `y` the ordering needs to be preserved by the normalization. That is, if `x<y` then it must also hold that `normalize(x) < normalize(y)`. There are many different functions that could achieve this result; a simple one is `normalize(x) = x/(x+k)`: It is computationally cheap, and will normalize any positive value in the range `[0,1]` (to change this to `[0,b]` one would just need to multiply by `b`). If we use this normalization function, we also know the maximum value: it is `1.0`. The function assumes that the value to be normalized is positive. The value of the factor `k` defines the steepness of the curve. For example, for `k=1` (which is a good default value) the curve is very steep, with values quickly approaching, but never reaching, `1`."
   ]
  },
  {
   "cell_type": "code",
   "execution_count": 76,
   "metadata": {
    "execution": {
     "iopub.execute_input": "2025-01-16T09:39:50.853679Z",
     "iopub.status.busy": "2025-01-16T09:39:50.853483Z",
     "iopub.status.idle": "2025-01-16T09:39:50.856201Z",
     "shell.execute_reply": "2025-01-16T09:39:50.855419Z"
    },
    "slideshow": {
     "slide_type": "subslide"
    }
   },
   "outputs": [],
   "source": [
    "def normalize(x):\n",
    "    return x / (1.0 + x)"
   ]
  },
  {
   "attachments": {},
   "cell_type": "markdown",
   "metadata": {
    "slideshow": {
     "slide_type": "fragment"
    }
   },
   "source": [
    "To see how this normalization function works, we can plot a range of values. The x-axis contains the original values, the y-axis shows the corresponding normalized value:"
   ]
  },
  {
   "cell_type": "code",
   "execution_count": 77,
   "metadata": {
    "execution": {
     "iopub.execute_input": "2025-01-16T09:39:50.858744Z",
     "iopub.status.busy": "2025-01-16T09:39:50.858592Z",
     "iopub.status.idle": "2025-01-16T09:39:50.860378Z",
     "shell.execute_reply": "2025-01-16T09:39:50.860087Z"
    },
    "slideshow": {
     "slide_type": "skip"
    }
   },
   "outputs": [],
   "source": [
    "import matplotlib.pyplot as plt"
   ]
  },
  {
   "cell_type": "code",
   "execution_count": 78,
   "metadata": {
    "execution": {
     "iopub.execute_input": "2025-01-16T09:39:50.863402Z",
     "iopub.status.busy": "2025-01-16T09:39:50.863268Z",
     "iopub.status.idle": "2025-01-16T09:39:50.951344Z",
     "shell.execute_reply": "2025-01-16T09:39:50.950992Z"
    },
    "slideshow": {
     "slide_type": "fragment"
    }
   },
   "outputs": [
    {
     "data": {
      "image/png": "[encoded data removed]",
      "text/plain": [
       "<Figure size 640x480 with 1 Axes>"
      ]
     },
     "metadata": {},
     "output_type": "display_data"
    }
   ],
   "source": [
    "fig = plt.figure()\n",
    "ax = plt.axes()\n",
    "\n",
    "xs = range(100)\n",
    "ys = [value / (value + 1.0) for value in xs]\n",
    "ax.plot(xs, ys);"
   ]
  },
  {
   "cell_type": "markdown",
   "metadata": {
    "slideshow": {
     "slide_type": "subslide"
    }
   },
   "source": [
    "Using this normalization function, we can calculate a fitness value by running the instrumented program under test, and then adding up the normalized values of the relevant branches. However, not every if statement will be executed by every test case. What is the branch distance for a branch that wasn't even executed? We need to make sure that the branch distance for branches that weren't even executed is higher than any of the branch distances observed during execution. Given our normalization, we know this maximum value is 1. Thus, the fitness function could look like this:"
   ]
  },
  {
   "cell_type": "code",
   "execution_count": 79,
   "metadata": {
    "execution": {
     "iopub.execute_input": "2025-01-16T09:39:50.953531Z",
     "iopub.status.busy": "2025-01-16T09:39:50.953379Z",
     "iopub.status.idle": "2025-01-16T09:39:50.956191Z",
     "shell.execute_reply": "2025-01-16T09:39:50.955873Z"
    },
    "slideshow": {
     "slide_type": "subslide"
    }
   },
   "outputs": [],
   "source": [
    "def get_fitness_cgi(x):\n",
    "    # Reset any distance values from previous executions\n",
    "    global distances_true, distances_false\n",
    "    distances_true = {}\n",
    "    distances_false = {}\n",
    "\n",
    "    # Run the function under test\n",
    "    try:\n",
    "        cgi_decode_instrumented(x)\n",
    "    except BaseException:\n",
    "        pass\n",
    "\n",
    "    # Sum up branch distances\n",
    "    fitness = 0.0\n",
    "    for branch in [1, 3, 4, 5]:\n",
    "        if branch in distances_true:\n",
    "            fitness += normalize(distances_true[branch])\n",
    "        else:\n",
    "            fitness += 1.0\n",
    "\n",
    "    for branch in [2]:\n",
    "        if branch in distances_false:\n",
    "            fitness += normalize(distances_false[branch])\n",
    "        else:\n",
    "            fitness += 1.0\n",
    "\n",
    "    return fitness"
   ]
  },
  {
   "cell_type": "markdown",
   "metadata": {
    "slideshow": {
     "slide_type": "subslide"
    }
   },
   "source": [
    "To see our instrumentation in action, let's calculate fitness values for a couple of example inputs, progressively getting closer to the target."
   ]
  },
  {
   "cell_type": "code",
   "execution_count": 80,
   "metadata": {
    "execution": {
     "iopub.execute_input": "2025-01-16T09:39:50.958424Z",
     "iopub.status.busy": "2025-01-16T09:39:50.958265Z",
     "iopub.status.idle": "2025-01-16T09:39:50.960604Z",
     "shell.execute_reply": "2025-01-16T09:39:50.960338Z"
    },
    "slideshow": {
     "slide_type": "fragment"
    }
   },
   "outputs": [
    {
     "data": {
      "text/plain": [
       "4.5"
      ]
     },
     "execution_count": 80,
     "metadata": {},
     "output_type": "execute_result"
    }
   ],
   "source": [
    "# Empty string does not even enter the loop\n",
    "get_fitness_cgi(\"\")"
   ]
  },
  {
   "cell_type": "code",
   "execution_count": 81,
   "metadata": {
    "execution": {
     "iopub.execute_input": "2025-01-16T09:39:50.962281Z",
     "iopub.status.busy": "2025-01-16T09:39:50.962151Z",
     "iopub.status.idle": "2025-01-16T09:39:50.964497Z",
     "shell.execute_reply": "2025-01-16T09:39:50.964086Z"
    },
    "slideshow": {
     "slide_type": "fragment"
    }
   },
   "outputs": [
    {
     "data": {
      "text/plain": [
       "2.9722222222222223"
      ]
     },
     "execution_count": 81,
     "metadata": {},
     "output_type": "execute_result"
    }
   ],
   "source": [
    "# String contains no percentage character\n",
    "get_fitness_cgi(\"Hello+Reader\")"
   ]
  },
  {
   "cell_type": "code",
   "execution_count": 82,
   "metadata": {
    "execution": {
     "iopub.execute_input": "2025-01-16T09:39:50.966236Z",
     "iopub.status.busy": "2025-01-16T09:39:50.966092Z",
     "iopub.status.idle": "2025-01-16T09:39:50.968345Z",
     "shell.execute_reply": "2025-01-16T09:39:50.968077Z"
    },
    "slideshow": {
     "slide_type": "fragment"
    }
   },
   "outputs": [
    {
     "data": {
      "text/plain": [
       "1.9230769230769231"
      ]
     },
     "execution_count": 82,
     "metadata": {},
     "output_type": "execute_result"
    }
   ],
   "source": [
    "# String contains a percentage character, but no valid hex char\n",
    "get_fitness_cgi(\"%UU\")"
   ]
  },
  {
   "cell_type": "code",
   "execution_count": 83,
   "metadata": {
    "execution": {
     "iopub.execute_input": "2025-01-16T09:39:50.969951Z",
     "iopub.status.busy": "2025-01-16T09:39:50.969826Z",
     "iopub.status.idle": "2025-01-16T09:39:50.971952Z",
     "shell.execute_reply": "2025-01-16T09:39:50.971608Z"
    },
    "slideshow": {
     "slide_type": "fragment"
    }
   },
   "outputs": [
    {
     "data": {
      "text/plain": [
       "0.9230769230769231"
      ]
     },
     "execution_count": 83,
     "metadata": {},
     "output_type": "execute_result"
    }
   ],
   "source": [
    "# String contains a percentage character, but only one valid hex char\n",
    "get_fitness_cgi(\"%AU\")"
   ]
  },
  {
   "cell_type": "code",
   "execution_count": 84,
   "metadata": {
    "execution": {
     "iopub.execute_input": "2025-01-16T09:39:50.974058Z",
     "iopub.status.busy": "2025-01-16T09:39:50.973942Z",
     "iopub.status.idle": "2025-01-16T09:39:50.975981Z",
     "shell.execute_reply": "2025-01-16T09:39:50.975717Z"
    },
    "slideshow": {
     "slide_type": "subslide"
    }
   },
   "outputs": [
    {
     "data": {
      "text/plain": [
       "0.0"
      ]
     },
     "execution_count": 84,
     "metadata": {},
     "output_type": "execute_result"
    }
   ],
   "source": [
    "# String contains a percentage character and two valid hex chars\n",
    "get_fitness_cgi(\"%AA\")"
   ]
  },
  {
   "attachments": {},
   "cell_type": "markdown",
   "metadata": {
    "slideshow": {
     "slide_type": "subslide"
    }
   },
   "source": [
    "### Hillclimbing Valid Hexadecimal Inputs\n",
    "\n",
    "We have now defined the search space through our `neighbor_strings()` function, and we have derived a new fitness function, so before we can apply the hillclimber to the problem of finding strings that contain valid 2-digit hex codes, the only remaining point is to derive a random starting point, which you've already done previously in the [MutationFuzzer chapter](MutationFuzzer.ipynb):"
   ]
  },
  {
   "cell_type": "code",
   "execution_count": 85,
   "metadata": {
    "execution": {
     "iopub.execute_input": "2025-01-16T09:39:50.977662Z",
     "iopub.status.busy": "2025-01-16T09:39:50.977552Z",
     "iopub.status.idle": "2025-01-16T09:39:50.979423Z",
     "shell.execute_reply": "2025-01-16T09:39:50.979150Z"
    },
    "slideshow": {
     "slide_type": "fragment"
    }
   },
   "outputs": [],
   "source": [
    "def random_string(l):\n",
    "    s = \"\"\n",
    "    for i in range(l):\n",
    "        random_character = chr(random.randrange(32, 127))\n",
    "        s = s + random_character\n",
    "    return s"
   ]
  },
  {
   "cell_type": "markdown",
   "metadata": {
    "slideshow": {
     "slide_type": "subslide"
    }
   },
   "source": [
    "Now we can put it all together and use the identical hillclimbing algorithm again, and just make it generate random strings instead of numbers, and use the new fitness function:"
   ]
  },
  {
   "cell_type": "code",
   "execution_count": 86,
   "metadata": {
    "execution": {
     "iopub.execute_input": "2025-01-16T09:39:50.981482Z",
     "iopub.status.busy": "2025-01-16T09:39:50.981351Z",
     "iopub.status.idle": "2025-01-16T09:39:50.983766Z",
     "shell.execute_reply": "2025-01-16T09:39:50.983496Z"
    },
    "slideshow": {
     "slide_type": "subslide"
    }
   },
   "outputs": [],
   "source": [
    "def hillclimb_cgi():\n",
    "    x = random_string(10)\n",
    "    fitness = get_fitness_cgi(x)\n",
    "    print(\"Initial input: %s at fitness %.4f\" % (x, fitness))\n",
    "\n",
    "    while fitness > 0:\n",
    "        changed = False\n",
    "        for (nextx) in neighbor_strings(x):\n",
    "            new_fitness = get_fitness_cgi(nextx)\n",
    "            if new_fitness < fitness:\n",
    "                x = nextx\n",
    "                fitness = new_fitness\n",
    "                changed = True\n",
    "                print(\"New value: %s at fitness %.4f\" % (x, fitness))\n",
    "                break\n",
    "\n",
    "        # Random restart if necessary\n",
    "        if not changed:\n",
    "            x = random_string(10)\n",
    "            fitness = get_fitness_cgi(x)\n",
    "\n",
    "    print(\"Optimum at %s, fitness %.4f\" % (x, fitness))"
   ]
  },
  {
   "cell_type": "code",
   "execution_count": 87,
   "metadata": {
    "execution": {
     "iopub.execute_input": "2025-01-16T09:39:50.985558Z",
     "iopub.status.busy": "2025-01-16T09:39:50.985422Z",
     "iopub.status.idle": "2025-01-16T09:39:50.988412Z",
     "shell.execute_reply": "2025-01-16T09:39:50.988109Z"
    },
    "slideshow": {
     "slide_type": "subslide"
    }
   },
   "outputs": [
    {
     "name": "stdout",
     "output_type": "stream",
     "text": [
      "Initial input: o'@[3(rW*M at fitness 2.6667\n",
      "New value: o&@[3(rW*M at fitness 2.5000\n",
      "New value: o%@[3(rW*M at fitness 1.5000\n",
      "New value: o%A[3(rW*M at fitness 0.8571\n",
      "New value: o%A\\3(rW*M at fitness 0.8333\n",
      "New value: o%A]3(rW*M at fitness 0.8000\n",
      "New value: o%A^3(rW*M at fitness 0.7500\n",
      "New value: o%A_3(rW*M at fitness 0.6667\n",
      "New value: o%A`3(rW*M at fitness 0.5000\n",
      "New value: o%Aa3(rW*M at fitness 0.0000\n",
      "Optimum at o%Aa3(rW*M, fitness 0.0000\n"
     ]
    }
   ],
   "source": [
    "hillclimb_cgi()"
   ]
  },
  {
   "cell_type": "markdown",
   "metadata": {
    "slideshow": {
     "slide_type": "subslide"
    }
   },
   "source": [
    "Run the hillclimber a couple of times to see it generate strings with valid hex characters. Sometimes it only takes a couple of steps, sometimes it takes longer, but at the end it always solves the problem and generates the string we want to have."
   ]
  },
  {
   "attachments": {},
   "cell_type": "markdown",
   "metadata": {
    "button": false,
    "new_sheet": false,
    "run_control": {
     "read_only": false
    },
    "slideshow": {
     "slide_type": "subslide"
    }
   },
   "source": [
    "## Evolutionary Search\n",
    "\n",
    "Hillclimbing works well, if the neighborhood is reasonably small. This was the case so far in the `cgi_decode()` example because we limited ourselves to a fixed number of characters (10) and limited the character range to printable ASCII characters. But imagine what happens if we are not looking for ASCII characters, but UTF-16 Unicode characters? These are not allowed in URLs really, but let's see what happens if we change our search space:"
   ]
  },
  {
   "cell_type": "code",
   "execution_count": 88,
   "metadata": {
    "execution": {
     "iopub.execute_input": "2025-01-16T09:39:50.990424Z",
     "iopub.status.busy": "2025-01-16T09:39:50.990280Z",
     "iopub.status.idle": "2025-01-16T09:39:50.992354Z",
     "shell.execute_reply": "2025-01-16T09:39:50.991976Z"
    },
    "slideshow": {
     "slide_type": "subslide"
    }
   },
   "outputs": [],
   "source": [
    "def random_unicode_string(l):\n",
    "    s = \"\"\n",
    "    for i in range(l):\n",
    "        # Limits to reflect range of UTF-16\n",
    "        random_character = chr(random.randrange(0, 65536))\n",
    "        s = s + random_character\n",
    "    return s"
   ]
  },
  {
   "cell_type": "code",
   "execution_count": 89,
   "metadata": {
    "execution": {
     "iopub.execute_input": "2025-01-16T09:39:50.994495Z",
     "iopub.status.busy": "2025-01-16T09:39:50.994352Z",
     "iopub.status.idle": "2025-01-16T09:39:50.996576Z",
     "shell.execute_reply": "2025-01-16T09:39:50.996287Z"
    },
    "slideshow": {
     "slide_type": "subslide"
    }
   },
   "outputs": [],
   "source": [
    "def unicode_string_neighbors(x):\n",
    "    n = []\n",
    "    for pos in range(len(x)):\n",
    "        c = ord(x[pos])\n",
    "        # Limits to reflect range of UTF-16\n",
    "        if c < 65536:\n",
    "            n += [x[:pos] + chr(c + 1) + x[pos + 1:]]\n",
    "        if c > 0:\n",
    "            n += [x[:pos] + chr(c - 1) + x[pos + 1:]]\n",
    "\n",
    "    return n"
   ]
  },
  {
   "cell_type": "markdown",
   "metadata": {
    "slideshow": {
     "slide_type": "subslide"
    }
   },
   "source": [
    "UTF-16 characters are represented with 16 bits, and this gives us a range of 65536 possible characters. The functions above are adapted to these boundaries. Before we run the hillclimber again, let's make one more change: We will add an iteration limit so that we can give up the search, rather than waiting forever for it to complete."
   ]
  },
  {
   "cell_type": "code",
   "execution_count": 90,
   "metadata": {
    "execution": {
     "iopub.execute_input": "2025-01-16T09:39:50.998279Z",
     "iopub.status.busy": "2025-01-16T09:39:50.998164Z",
     "iopub.status.idle": "2025-01-16T09:39:50.999971Z",
     "shell.execute_reply": "2025-01-16T09:39:50.999682Z"
    },
    "slideshow": {
     "slide_type": "fragment"
    }
   },
   "outputs": [],
   "source": [
    "def terminal_repr(s):\n",
    "    return terminal_escape(repr(s))"
   ]
  },
  {
   "cell_type": "code",
   "execution_count": 91,
   "metadata": {
    "execution": {
     "iopub.execute_input": "2025-01-16T09:39:51.001460Z",
     "iopub.status.busy": "2025-01-16T09:39:51.001353Z",
     "iopub.status.idle": "2025-01-16T09:39:51.003960Z",
     "shell.execute_reply": "2025-01-16T09:39:51.003689Z"
    },
    "slideshow": {
     "slide_type": "subslide"
    }
   },
   "outputs": [],
   "source": [
    "def hillclimb_cgi_limited(max_iterations):\n",
    "    x = random_unicode_string(10)\n",
    "    fitness = get_fitness_cgi(x)\n",
    "    print(\"Initial input: %s at fitness %.4f\" % (terminal_repr(x), fitness))\n",
    "\n",
    "    iteration = 0\n",
    "    logs = 0\n",
    "    while fitness > 0 and iteration < max_iterations:\n",
    "        changed = False\n",
    "        for (nextx) in unicode_string_neighbors(x):\n",
    "            new_fitness = get_fitness_cgi(nextx)\n",
    "            if new_fitness < fitness:\n",
    "                x = nextx\n",
    "                fitness = new_fitness\n",
    "                changed = True\n",
    "                if logs < LOG_VALUES:\n",
    "                    print(\"New value: %s at fitness %.4f\" %\n",
    "                          (terminal_repr(x), fitness))\n",
    "                elif logs == LOG_VALUES:\n",
    "                    print(\"...\")\n",
    "                logs += 1\n",
    "                break\n",
    "\n",
    "        # Random restart if necessary\n",
    "        if not changed:\n",
    "            x = random_string(10)\n",
    "            fitness = get_fitness_cgi(x)\n",
    "        iteration += 1\n",
    "\n",
    "    print(\"Optimum at %s, fitness %.4f\" % (terminal_repr(x), fitness))"
   ]
  },
  {
   "cell_type": "code",
   "execution_count": 92,
   "metadata": {
    "execution": {
     "iopub.execute_input": "2025-01-16T09:39:51.005679Z",
     "iopub.status.busy": "2025-01-16T09:39:51.005573Z",
     "iopub.status.idle": "2025-01-16T09:39:51.037257Z",
     "shell.execute_reply": "2025-01-16T09:39:51.036913Z"
    },
    "slideshow": {
     "slide_type": "subslide"
    }
   },
   "outputs": [
    {
     "name": "stdout",
     "output_type": "stream",
     "text": [
      "Initial input: '埂\\udf19\\uf67c듵騛쁥핡勸\\uf172싕' at fitness 3.0000\n",
      "New value: '埂\\udf19\\uf67c듵騛쁥핡勷\\uf172싕' at fitness 3.0000\n",
      "New value: '埂\\udf19\\uf67c듵騛쁥핡勶\\uf172싕' at fitness 3.0000\n",
      "New value: '埂\\udf19\\uf67c듵騛쁥핡勵\\uf172싕' at fitness 3.0000\n",
      "New value: '埂\\udf19\\uf67c듵騛쁥핡勴\\uf172싕' at fitness 3.0000\n",
      "New value: '埂\\udf19\\uf67c듵騛쁥핡勳\\uf172싕' at fitness 3.0000\n",
      "New value: '埂\\udf19\\uf67c듵騛쁥핡勲\\uf172싕' at fitness 3.0000\n",
      "New value: '埂\\udf19\\uf67c듵騛쁥핡勱\\uf172싕' at fitness 3.0000\n",
      "New value: '埂\\udf19\\uf67c듵騛쁥핡勰\\uf172싕' at fitness 3.0000\n",
      "New value: '埂\\udf19\\uf67c듵騛쁥핡勯\\uf172싕' at fitness 3.0000\n",
      "New value: '埂\\udf19\\uf67c듵騛쁥핡勮\\uf172싕' at fitness 3.0000\n",
      "New value: '埂\\udf19\\uf67c듵騛쁥핡勭\\uf172싕' at fitness 3.0000\n",
      "New value: '埂\\udf19\\uf67c듵騛쁥핡勬\\uf172싕' at fitness 3.0000\n",
      "New value: '埂\\udf19\\uf67c듵騛쁥핡勫\\uf172싕' at fitness 3.0000\n",
      "New value: '埂\\udf19\\uf67c듵騛쁥핡勪\\uf172싕' at fitness 3.0000\n",
      "New value: '埂\\udf19\\uf67c듵騛쁥핡勩\\uf172싕' at fitness 3.0000\n",
      "New value: '埂\\udf19\\uf67c듵騛쁥핡勨\\uf172싕' at fitness 3.0000\n",
      "New value: '埂\\udf19\\uf67c듵騛쁥핡勧\\uf172싕' at fitness 3.0000\n",
      "New value: '埂\\udf19\\uf67c듵騛쁥핡勦\\uf172싕' at fitness 3.0000\n",
      "New value: '埂\\udf19\\uf67c듵騛쁥핡勥\\uf172싕' at fitness 3.0000\n",
      "New value: '埂\\udf19\\uf67c듵騛쁥핡勤\\uf172싕' at fitness 3.0000\n",
      "...\n",
      "Optimum at '埂\\udf19\\uf67c듵騛쁥핡劔\\uf172싕', fitness 3.0000\n"
     ]
    }
   ],
   "source": [
    "hillclimb_cgi_limited(100)"
   ]
  },
  {
   "cell_type": "markdown",
   "metadata": {
    "slideshow": {
     "slide_type": "subslide"
    }
   },
   "source": [
    "You can play around with the iteration limit and see how long it takes to find a solution in this search space. Unless you are lucky with the random starting point, this usually takes really unreasonably long."
   ]
  },
  {
   "attachments": {},
   "cell_type": "markdown",
   "metadata": {
    "slideshow": {
     "slide_type": "subslide"
    }
   },
   "source": [
    "### Global Search\n",
    "\n",
    "The hillclimber explores the local neighborhood of an individual in each step of the search, and if the neighborhood is too large, then this takes too long. An alternative strategy is to not restrict the search to the local neighborhood, but to search the search space *globally*. That is, the search algorithm is allowed to make larger steps around the search space. A simple modification of the hillclimber converts it from a local to a global search algorithm: Instead of looking at all the immediate neighbors, the individual is *mutated* in a way that allows larger modifications."
   ]
  },
  {
   "cell_type": "markdown",
   "metadata": {
    "slideshow": {
     "slide_type": "subslide"
    }
   },
   "source": [
    "A *mutation* is a change that represents such a larger step around the search space. An important decision when implementing a mutation is that it should, theoretically, be possible to reach any point in the search space simply by applying mutation successively. However, mutation usually should not completely replace an individual with a random one. It is important for the search to be effective that the mutation constitutes a reasonable change to an individual that still maintains most of its traits. For our search problem of 10-character strings, a possible mutation would be to replace only _1_ out of the 10 characters, as follows:"
   ]
  },
  {
   "cell_type": "code",
   "execution_count": 93,
   "metadata": {
    "execution": {
     "iopub.execute_input": "2025-01-16T09:39:51.039207Z",
     "iopub.status.busy": "2025-01-16T09:39:51.039075Z",
     "iopub.status.idle": "2025-01-16T09:39:51.041157Z",
     "shell.execute_reply": "2025-01-16T09:39:51.040919Z"
    },
    "slideshow": {
     "slide_type": "fragment"
    }
   },
   "outputs": [],
   "source": [
    "def flip_random_character(s):\n",
    "    pos = random.randint(0, len(s) - 1)\n",
    "    new_c = chr(random.randrange(0, 65536))\n",
    "    return s[:pos] + new_c + s[pos + 1:]"
   ]
  },
  {
   "attachments": {},
   "cell_type": "markdown",
   "metadata": {
    "slideshow": {
     "slide_type": "subslide"
    }
   },
   "source": [
    "A simple modification of the hillclimber is to replace the exploration of the neighborhood with mutations. In each iteration, the current individual is mutated. The resulting offspring individual is compared to its parent, and the better of the two is the new point in the search space, and used for the next iteration of mutation. This is called \"randomized hillclimbing\"."
   ]
  },
  {
   "cell_type": "code",
   "execution_count": 94,
   "metadata": {
    "execution": {
     "iopub.execute_input": "2025-01-16T09:39:51.042783Z",
     "iopub.status.busy": "2025-01-16T09:39:51.042656Z",
     "iopub.status.idle": "2025-01-16T09:39:51.044973Z",
     "shell.execute_reply": "2025-01-16T09:39:51.044625Z"
    },
    "slideshow": {
     "slide_type": "subslide"
    }
   },
   "outputs": [],
   "source": [
    "def randomized_hillclimb():\n",
    "    x = random_unicode_string(10)\n",
    "    fitness = get_fitness_cgi(x)\n",
    "    print(\"Initial value: %s at fitness %.4f\" %\n",
    "          (terminal_repr(x), fitness))\n",
    "\n",
    "    iterations = 0\n",
    "    while fitness > 0:\n",
    "        mutated = flip_random_character(x)\n",
    "        new_fitness = get_fitness_cgi(mutated)\n",
    "        if new_fitness <= fitness:\n",
    "            x = mutated\n",
    "            fitness = new_fitness\n",
    "            #print(\"New value: %s at fitness %.4f\" %(terminal_repr(x), fitness))\n",
    "        iterations += 1\n",
    "\n",
    "    print(\"Optimum at %s after %d iterations\" %\n",
    "          (terminal_repr(x), iterations))"
   ]
  },
  {
   "cell_type": "code",
   "execution_count": 95,
   "metadata": {
    "execution": {
     "iopub.execute_input": "2025-01-16T09:39:51.046459Z",
     "iopub.status.busy": "2025-01-16T09:39:51.046353Z",
     "iopub.status.idle": "2025-01-16T09:39:51.518614Z",
     "shell.execute_reply": "2025-01-16T09:39:51.518253Z"
    },
    "slideshow": {
     "slide_type": "subslide"
    }
   },
   "outputs": [
    {
     "name": "stdout",
     "output_type": "stream",
     "text": [
      "Initial value: '舨ᑆ\\uec4f\\ue27f羏\\uf314䖗繣厪킨' at fitness 2.9998\n",
      "Optimum at 'ጤ〆撟%e5匸㗵暠ᴌ' after 34356 iterations\n"
     ]
    }
   ],
   "source": [
    "randomized_hillclimb()"
   ]
  },
  {
   "cell_type": "markdown",
   "metadata": {
    "slideshow": {
     "slide_type": "subslide"
    }
   },
   "source": [
    "This algorithm usually finds the solution quicker than the standard hillclimber, although it is still rather slow! \n",
    "\n",
    "There is one subtle, but crucial, change between the hillclimber and the randomized version that is worth pointing out: Note the comparison `new_fitness <= fitness`, whereas in the hillclimber we used `new_fitness < fitness`. This is important because the search landscape may have areas with equal fitness values (plateaus) which we somehow need to overcome. In the standard hillcimber we did this with random restarts. If the randomized hillclimber would reject offspring with identical fitness, it would keep mutating the identical individual, and possibly struggle to escape the plateau. If we replace also with equal fitness, we allow the search to move around the plateau, increasing chances of escaping it eventually.\n"
   ]
  },
  {
   "cell_type": "markdown",
   "metadata": {
    "slideshow": {
     "slide_type": "subslide"
    }
   },
   "source": [
    "The randomized hillclimber is also known as *1+1 Evolutionary Algorithm* (*(1+1)EA*). An evolutionary algorithm is a meta-heuristic search algorithm that tries to mimic the natural processes of evolution. Natural evolution is based\n",
    "on populations where environmental pressure causes natural selection: Only the fittest survive, while those that are not fit enough will die, and thus the overall fitness of the population gradually improves. The (1+1)EA is a very specific evolutionary algorithm with a population size of 1, which produces exactly 1 offspring. However, the most common search algorithm in practice is a genetic algorithm."
   ]
  },
  {
   "attachments": {},
   "cell_type": "markdown",
   "metadata": {
    "slideshow": {
     "slide_type": "subslide"
    }
   },
   "source": [
    "### Genetic Algorithms\n",
    "\n",
    "One of the best known evolutionary algorithms is the *Genetic Algorithm* (GA). A GA is based on the idea that problem solutions can be genetically encoded: A chromosome consists of a sequence of genes, where each gene encodes one trait of the individual (e.g., eye color, hair color, etc.). A fitness function can take the information contained in this description, the so-called genotype, and evaluates the properties of the resulting phenotype, i.e., the actual solution represented by this genetic encoding. The fitness value of an individual is measured on the phenotype."
   ]
  },
  {
   "attachments": {},
   "cell_type": "markdown",
   "metadata": {
    "slideshow": {
     "slide_type": "subslide"
    }
   },
   "source": [
    "For our `cgi_decode()` example, we could consider individual characters to be the genes, and then a chromosome is a sequence of characters. In other words, the genetic encoding is exactly what we already used so far! However, for the GA the representation requires different operations than the enumeration of the neighborhood."
   ]
  },
  {
   "cell_type": "markdown",
   "metadata": {
    "slideshow": {
     "slide_type": "subslide"
    }
   },
   "source": [
    "The GA emulates natural evolution with the following process:\n",
    "\n",
    "- Create an initial population of random chromosomes\n",
    "- Select fit individuals for reproduction\n",
    "- Generate new population through reproduction of selected individuals\n",
    "- Continue doing so until an optimal solution has been found, or some other limit has been reached.\n",
    "\n",
    "The first step, creating an initial population, is trivial:"
   ]
  },
  {
   "cell_type": "code",
   "execution_count": 96,
   "metadata": {
    "execution": {
     "iopub.execute_input": "2025-01-16T09:39:51.521110Z",
     "iopub.status.busy": "2025-01-16T09:39:51.520950Z",
     "iopub.status.idle": "2025-01-16T09:39:51.523078Z",
     "shell.execute_reply": "2025-01-16T09:39:51.522731Z"
    },
    "slideshow": {
     "slide_type": "fragment"
    }
   },
   "outputs": [],
   "source": [
    "def create_population(size):\n",
    "    return [random_unicode_string(10) for i in range(size)]"
   ]
  },
  {
   "cell_type": "code",
   "execution_count": 97,
   "metadata": {
    "execution": {
     "iopub.execute_input": "2025-01-16T09:39:51.524948Z",
     "iopub.status.busy": "2025-01-16T09:39:51.524811Z",
     "iopub.status.idle": "2025-01-16T09:39:51.527442Z",
     "shell.execute_reply": "2025-01-16T09:39:51.527042Z"
    },
    "slideshow": {
     "slide_type": "subslide"
    }
   },
   "outputs": [
    {
     "data": {
      "text/plain": [
       "['㛇莜戹豔㮝\\ue008力ᒐᱯꊎ',\n",
       " '\\ue295쁉陵ꯃ赖蟽⍬꺲緥㲱',\n",
       " '\\u2e77騬⊳铁땕\\uf189\\ue663쌯幆艆',\n",
       " '龚筓\\uf3a9욀놷䓒隯迌쀐∑',\n",
       " '쓛唁뗌蹽\\udcd5偏躝娒鸭赌',\n",
       " '蹤⪖ឺ웳ఫ䓻䤷溸ᰒﵘ',\n",
       " '㲒혋Ꮘ\\uea95\\udf7b䢶裕㖬눹庑',\n",
       " '\\u2d9d鼓咝笩窻ꨔ铺扄\\ueb57\\uf1bf',\n",
       " '\\udd26Ч甄ꃢ\\udcb0㼁튰㣋ช봼',\n",
       " '닇軬欴鞛㈓Ẫ住畿ꔪ칀']"
      ]
     },
     "execution_count": 97,
     "metadata": {},
     "output_type": "execute_result"
    }
   ],
   "source": [
    "create_population(10)"
   ]
  },
  {
   "cell_type": "markdown",
   "metadata": {
    "slideshow": {
     "slide_type": "subslide"
    }
   },
   "source": [
    "The selection process prefers fitter individuals, therefore we need to determine the fitness values for all the individuals in our population. As we are going to need the fitness value for each individual at several places in the algorithm, we are going to store it by making fitness a list of _tuples_, each tuple consisting of an individual and its fitness value."
   ]
  },
  {
   "cell_type": "code",
   "execution_count": 98,
   "metadata": {
    "execution": {
     "iopub.execute_input": "2025-01-16T09:39:51.529466Z",
     "iopub.status.busy": "2025-01-16T09:39:51.529347Z",
     "iopub.status.idle": "2025-01-16T09:39:51.531248Z",
     "shell.execute_reply": "2025-01-16T09:39:51.530962Z"
    },
    "slideshow": {
     "slide_type": "fragment"
    }
   },
   "outputs": [],
   "source": [
    "def evaluate_population(population):\n",
    "    fitness = [get_fitness_cgi(x) for x in population]\n",
    "    return list(zip(population, fitness))"
   ]
  },
  {
   "cell_type": "code",
   "execution_count": 99,
   "metadata": {
    "execution": {
     "iopub.execute_input": "2025-01-16T09:39:51.532742Z",
     "iopub.status.busy": "2025-01-16T09:39:51.532643Z",
     "iopub.status.idle": "2025-01-16T09:39:51.534292Z",
     "shell.execute_reply": "2025-01-16T09:39:51.534021Z"
    },
    "slideshow": {
     "slide_type": "fragment"
    }
   },
   "outputs": [],
   "source": [
    "population = create_population(10)"
   ]
  },
  {
   "cell_type": "code",
   "execution_count": 100,
   "metadata": {
    "execution": {
     "iopub.execute_input": "2025-01-16T09:39:51.535983Z",
     "iopub.status.busy": "2025-01-16T09:39:51.535886Z",
     "iopub.status.idle": "2025-01-16T09:39:51.538196Z",
     "shell.execute_reply": "2025-01-16T09:39:51.537899Z"
    },
    "slideshow": {
     "slide_type": "subslide"
    }
   },
   "outputs": [
    {
     "name": "stdout",
     "output_type": "stream",
     "text": [
      "'\\ue46fت팣㘇ธ漅ೇ↪䜭㎮': 2.9994\n",
      "'\\ua7e9\\ue9e0\\ue7de턤댪囿厠‐\\ue0c5ﴌ': 2.9999\n",
      "'䇯Ꜩ잣\\ua9ce㙦\\uf4aa歿蘸ཎ㫜': 2.9997\n",
      "'ⱳ콾哇\\uef1f\\uf6a8⾃䣖坤Ꮾ둰': 2.9998\n",
      "'າ伫螉\\ue110㝎겱괼䆵喞\\u18ac': 2.9997\n",
      "'ས婎쥤䇉韤\\udd06䕮춵磒露': 2.9997\n",
      "'辺緢噑粲\\uf400嚳寬\\x87ꐂ쑹': 2.9899\n",
      "'뉫㻑\\u1fd4㈖鬒樼\\u0dcc朏\\ue57eማ': 2.9997\n",
      "'얨㐁皭់멄\\ud97b\\ueac9㢂ቅ뮜': 2.9998\n",
      "'⒃⍜㈪㊷\\udbdb乑蓍\\udc48鱲뻜': 2.9999\n"
     ]
    }
   ],
   "source": [
    "for (individual, fitness) in evaluate_population(population):\n",
    "    print(\"%s: %.4f\" % (terminal_repr(individual), fitness))"
   ]
  },
  {
   "attachments": {},
   "cell_type": "markdown",
   "metadata": {
    "slideshow": {
     "slide_type": "subslide"
    }
   },
   "source": [
    "The use of a fitness value in the search is typically explained using \"survival of the fittest\", but one of Darwin’s key insights on evolution was that selection is not only defined by survival -- individuals reproduce sexually, and sexual selection describes the selection pressure during reproduction. This selection is typically influenced by either combat: rivaling males fighting over a female, and the stronger (fitter) male wins; the selection is also influenced by display. Darwin’s example for this is the peacock: The peacock has long, beautiful tail feathers that appear to serve no purpose, and do not seem to support the concept of natural selection. However, peahens are influenced in their selection of a sexual partner by his appearance. Impressive ornaments suggest that a male is genetically particularly healthy and will lead to healthy offspring. This is reflected in a GA: The better the fitness value of an individual, the more likely it is to mate with another individual. A simple selection algorithm that reflects this concept is *tournament selection*: A small number of randomly chosen individuals compete to be selected, and the best is selected:"
   ]
  },
  {
   "cell_type": "code",
   "execution_count": 101,
   "metadata": {
    "execution": {
     "iopub.execute_input": "2025-01-16T09:39:51.540085Z",
     "iopub.status.busy": "2025-01-16T09:39:51.539958Z",
     "iopub.status.idle": "2025-01-16T09:39:51.542168Z",
     "shell.execute_reply": "2025-01-16T09:39:51.541801Z"
    },
    "slideshow": {
     "slide_type": "subslide"
    }
   },
   "outputs": [],
   "source": [
    "def selection(evaluated_population, tournament_size):\n",
    "    competition = random.sample(evaluated_population, tournament_size)\n",
    "    winner = min(competition, key=lambda individual: individual[1])[0]\n",
    "\n",
    "    # Return a copy of the selected individual\n",
    "    return winner[:]"
   ]
  },
  {
   "cell_type": "markdown",
   "metadata": {
    "slideshow": {
     "slide_type": "subslide"
    }
   },
   "source": [
    "The `tournament_size` parameter specifies how many randomly selected individuals out of the population participate in the tournament. This is an important choice as it determines *selective pressure*: The larger the tournament size, the larger the probability of very good individuals being included in the tournament. This, in turn, increases the probability of these very good individuals of dominating the next generation, thus reducing the diversity and leading to premature convergence. In contrast, if the tournament size is too small, then this inhibits evolution. The best value for the tournament size depends on the population size, but usually it is fairly small (e.g. 5). Let's run a tournament using all individuals of an example population to see that the best one is selected:"
   ]
  },
  {
   "cell_type": "code",
   "execution_count": 102,
   "metadata": {
    "execution": {
     "iopub.execute_input": "2025-01-16T09:39:51.544297Z",
     "iopub.status.busy": "2025-01-16T09:39:51.544170Z",
     "iopub.status.idle": "2025-01-16T09:39:51.546428Z",
     "shell.execute_reply": "2025-01-16T09:39:51.546147Z"
    },
    "slideshow": {
     "slide_type": "fragment"
    }
   },
   "outputs": [],
   "source": [
    "population = create_population(10)\n",
    "fitness = evaluate_population(population)\n",
    "selected = selection(fitness, 10)"
   ]
  },
  {
   "cell_type": "code",
   "execution_count": 103,
   "metadata": {
    "execution": {
     "iopub.execute_input": "2025-01-16T09:39:51.548276Z",
     "iopub.status.busy": "2025-01-16T09:39:51.548141Z",
     "iopub.status.idle": "2025-01-16T09:39:51.550268Z",
     "shell.execute_reply": "2025-01-16T09:39:51.549910Z"
    },
    "slideshow": {
     "slide_type": "subslide"
    }
   },
   "outputs": [
    {
     "name": "stdout",
     "output_type": "stream",
     "text": [
      "'둚䘣蹸붢騒ꋎỺ觉\\ued2a焊': 2.9999\n",
      "'닔㶐ꡡ\\udca4贕굇᳆\\ueccd윘赉': 2.9999\n",
      "'笁깉ရ豴\\uea60ᛰ滒鶵）Ⰴ': 2.9998\n",
      "'㠒㵄\\ue14cᤃᇚ\\udebe\\uf851쿛鏆闊': 2.9998\n",
      "'ࠝ\\udd53ᶂ㮍訬廘랦铘뫘출': 2.9995\n",
      "'ꡩၔ玤姨乪药汏䗫汔悔': 2.9998\n",
      "'\\uef2a潦ﳠ鹉卼㴐Ṭ\\uf4b0˅얓': 2.9985\n",
      "'❱\\u0ff7╇塐䲫琭煸ᮤឋ퇃': 2.9998\n",
      "'ڮ焈㱉煉ꅿᦗ툍혐خ꧓': 2.9994\n",
      "'ἂጋ\\uddcc\\ue3d7粖\\ude2c⮌鮓讃\\ueab6': 2.9998\n"
     ]
    }
   ],
   "source": [
    "for (individual, fitness_value) in fitness:\n",
    "    print(\"%s: %.4f\" % (terminal_repr(individual), fitness_value))"
   ]
  },
  {
   "cell_type": "code",
   "execution_count": 104,
   "metadata": {
    "execution": {
     "iopub.execute_input": "2025-01-16T09:39:51.552378Z",
     "iopub.status.busy": "2025-01-16T09:39:51.552255Z",
     "iopub.status.idle": "2025-01-16T09:39:51.554244Z",
     "shell.execute_reply": "2025-01-16T09:39:51.553889Z"
    },
    "slideshow": {
     "slide_type": "subslide"
    }
   },
   "outputs": [
    {
     "name": "stdout",
     "output_type": "stream",
     "text": [
      "Winner: '\\uef2a潦ﳠ鹉卼㴐Ṭ\\uf4b0˅얓'\n"
     ]
    }
   ],
   "source": [
    "print(\"Winner: %s\" % terminal_repr(selected))"
   ]
  },
  {
   "attachments": {},
   "cell_type": "markdown",
   "metadata": {
    "slideshow": {
     "slide_type": "fragment"
    }
   },
   "source": [
    "Like in natural evolution, the individuals selected based on their fitness reproduce, to form a new generation. During this reproduction, like in natural reproduction, genetic material of the selected parents is combined. This is typically done by a process known as *crossover*, where an offspring chromosome is produced from the genes of its parents. In our case, a chromosome is a sequence of characters, and crossing over two parent sequences of characters can simply be done by choosing a cutoff random point, and creating offspring by combining the halves of the parents chromosomes based on the cutoff point."
   ]
  },
  {
   "cell_type": "code",
   "execution_count": 105,
   "metadata": {
    "execution": {
     "iopub.execute_input": "2025-01-16T09:39:51.556506Z",
     "iopub.status.busy": "2025-01-16T09:39:51.556383Z",
     "iopub.status.idle": "2025-01-16T09:39:51.558597Z",
     "shell.execute_reply": "2025-01-16T09:39:51.558218Z"
    },
    "slideshow": {
     "slide_type": "subslide"
    }
   },
   "outputs": [],
   "source": [
    "def crossover(parent1, parent2):\n",
    "    pos = random.randint(1, len(parent1))\n",
    "\n",
    "    offspring1 = parent1[:pos] + parent2[pos:]\n",
    "    offspring2 = parent2[:pos] + parent1[pos:]\n",
    "\n",
    "    return (offspring1, offspring2)"
   ]
  },
  {
   "cell_type": "code",
   "execution_count": 106,
   "metadata": {
    "execution": {
     "iopub.execute_input": "2025-01-16T09:39:51.560391Z",
     "iopub.status.busy": "2025-01-16T09:39:51.560262Z",
     "iopub.status.idle": "2025-01-16T09:39:51.562694Z",
     "shell.execute_reply": "2025-01-16T09:39:51.562342Z"
    },
    "slideshow": {
     "slide_type": "fragment"
    }
   },
   "outputs": [
    {
     "data": {
      "text/plain": [
       "('Hello W Book', 'Goodbyeorld')"
      ]
     },
     "execution_count": 106,
     "metadata": {},
     "output_type": "execute_result"
    }
   ],
   "source": [
    "parent1 = \"Hello World\"\n",
    "parent2 = \"Goodbye Book\"\n",
    "\n",
    "crossover(parent1, parent2)"
   ]
  },
  {
   "cell_type": "markdown",
   "metadata": {
    "slideshow": {
     "slide_type": "subslide"
    }
   },
   "source": [
    "A further essential ingredient of genetic evolution is the concept of mutation: Sometimes, offspring contain small changes in their genes, which represent new genetic material and new physiological traits. If the mutation introduced new genetic material that represents useful traits leading to better fitness values, then this genetic material will survive. If the mutation introduced useless genetic material, then the resulting individuals will likely have bad fitness values and die off quickly.\n",
    "\n",
    "An important aspect is that both, mutation and crossover, are probabilistic actions. They do not always happen, and their effects are different every time they do happen. For a sequence genetic encoding, a common approach is to first use a probability to decide whether to apply mutation, and then to select one gene and change it a bit. Alternatively, we can probabilistically mutate genes such that on average one is changed. We do this by calculating a probability `P` of each gene being mutated as 1/(number of genes). Then, if a gene is mutated, we don't just replace it by a random character, but make it more likely that there is only a small change. This is achieved by sampling from a Gaussian distribution with the current value as the mean. We arbitrarily use a standard deviation of 100 to make small changes more likely than large changes."
   ]
  },
  {
   "cell_type": "code",
   "execution_count": 107,
   "metadata": {
    "execution": {
     "iopub.execute_input": "2025-01-16T09:39:51.564562Z",
     "iopub.status.busy": "2025-01-16T09:39:51.564440Z",
     "iopub.status.idle": "2025-01-16T09:39:51.566587Z",
     "shell.execute_reply": "2025-01-16T09:39:51.566294Z"
    },
    "slideshow": {
     "slide_type": "subslide"
    }
   },
   "outputs": [],
   "source": [
    "def mutate(chromosome):\n",
    "    mutated = chromosome[:]\n",
    "    P = 1.0 / len(mutated)\n",
    "\n",
    "    for pos in range(len(mutated)):\n",
    "        if random.random() < P:\n",
    "            new_c = chr(int(random.gauss(ord(mutated[pos]), 100) % 65536))\n",
    "            mutated = mutated[:pos] + new_c + mutated[pos + 1:]\n",
    "    return mutated"
   ]
  },
  {
   "cell_type": "markdown",
   "metadata": {
    "slideshow": {
     "slide_type": "fragment"
    }
   },
   "source": [
    "Now at last we have all the ingredients to build the full algorithm:"
   ]
  },
  {
   "cell_type": "code",
   "execution_count": 108,
   "metadata": {
    "execution": {
     "iopub.execute_input": "2025-01-16T09:39:51.568454Z",
     "iopub.status.busy": "2025-01-16T09:39:51.568335Z",
     "iopub.status.idle": "2025-01-16T09:39:51.571695Z",
     "shell.execute_reply": "2025-01-16T09:39:51.571371Z"
    },
    "slideshow": {
     "slide_type": "subslide"
    }
   },
   "outputs": [],
   "source": [
    "def genetic_algorithm():\n",
    "    # Generate and evaluate initial population\n",
    "    generation = 0\n",
    "    population = create_population(100)\n",
    "    fitness = evaluate_population(population)\n",
    "    best = min(fitness, key=lambda item: item[1])\n",
    "    best_individual = best[0]\n",
    "    best_fitness = best[1]\n",
    "    print(\"Best fitness of initial population: %s - %.10f\" %\n",
    "        (terminal_repr(best_individual), best_fitness))\n",
    "    logs = 0\n",
    "\n",
    "    # Stop when optimum found, or we run out of patience\n",
    "    while best_fitness > 0 and generation < 1000:\n",
    "\n",
    "        # The next generation will have the same size as the current one\n",
    "        new_population = []\n",
    "        while len(new_population) < len(population):\n",
    "            # Selection\n",
    "            offspring1 = selection(fitness, 10)\n",
    "            offspring2 = selection(fitness, 10)\n",
    "\n",
    "            # Crossover\n",
    "            if random.random() < 0.7:\n",
    "                (offspring1, offspring2) = crossover(offspring1, offspring2)\n",
    "\n",
    "            # Mutation\n",
    "            offspring1 = mutate(offspring1)\n",
    "            offspring2 = mutate(offspring2)\n",
    "\n",
    "            new_population.append(offspring1)\n",
    "            new_population.append(offspring2)\n",
    "\n",
    "        # Once full, the new population replaces the old one\n",
    "        generation += 1\n",
    "        population = new_population\n",
    "        fitness = evaluate_population(population)\n",
    "\n",
    "        best = min(fitness, key=lambda item: item[1])\n",
    "        best_individual = best[0]\n",
    "        best_fitness = best[1]\n",
    "        if logs < LOG_VALUES:\n",
    "            print(\n",
    "                \"Best fitness at generation %d: %s - %.8f\" %\n",
    "                (generation, terminal_repr(best_individual), best_fitness))\n",
    "        elif logs == LOG_VALUES:\n",
    "            print(\"...\")\n",
    "        logs += 1\n",
    "\n",
    "    print(\n",
    "        \"Best individual: %s, fitness %.10f\" %\n",
    "        (terminal_repr(best_individual), best_fitness))"
   ]
  },
  {
   "attachments": {},
   "cell_type": "markdown",
   "metadata": {
    "slideshow": {
     "slide_type": "subslide"
    }
   },
   "source": [
    "Let's see how this works on our Unicode example."
   ]
  },
  {
   "cell_type": "code",
   "execution_count": 109,
   "metadata": {
    "execution": {
     "iopub.execute_input": "2025-01-16T09:39:51.573333Z",
     "iopub.status.busy": "2025-01-16T09:39:51.573236Z",
     "iopub.status.idle": "2025-01-16T09:39:53.216302Z",
     "shell.execute_reply": "2025-01-16T09:39:53.215996Z"
    },
    "slideshow": {
     "slide_type": "subslide"
    }
   },
   "outputs": [
    {
     "name": "stdout",
     "output_type": "stream",
     "text": [
      "Best fitness of initial population: '俴\\x8a辰燄펧䬍缯檒㤢⦡' - 2.9901960784\n",
      "Best fitness at generation 1: 'ཬə쫯ὼ酟剺鬈{Ż\\ue313' - 2.98850575\n",
      "Best fitness at generation 2: '俴\\x82辰燄酟剺鬢\\x1bŻ\\ue313' - 2.90909091\n",
      "Best fitness at generation 3: 'ྂɵ쫕ὼ酟剺鬈%Ŧ\\ue384' - 1.99610895\n",
      "Best fitness at generation 4: 'ྂɵ쬆ὼ酟剺鬈%ŋ\\ue384' - 1.99565217\n",
      "Best fitness at generation 5: '俴ʐ쫕ἶ酟剺髺%¼\\ue384' - 1.98850575\n",
      "Best fitness at generation 6: 'ྂɵ쫪ὼ酟剒鬈%\\x9e\\ue37f' - 1.98245614\n",
      "Best fitness at generation 7: '俴̗쪕ἶ酟剺髱%4\\ue378' - 0.99998280\n",
      "Best fitness at generation 8: '侪\\x86쪕ἶ酟剺髱%4\\ue378' - 0.99998280\n",
      "Best fitness at generation 9: '俆ǫ쪸ἶ醿剺髱%4\\ue2b5' - 0.99998274\n",
      "Best fitness at generation 10: '俆ǫ쪸ἶ釘剺髧%4\\ue2b5' - 0.99998274\n",
      "Best fitness at generation 11: '俆ɫ쫕Ồ酟剺髱%4\\ue256' - 0.99998271\n",
      "Best fitness at generation 12: '侪\\x86쪕ἶ醿剺髱%4\\ue1f9' - 0.99998268\n",
      "Best fitness at generation 13: '侪ï쪕ἶ醿剺髱%4\\ue1f9' - 0.99998268\n",
      "Best fitness at generation 14: '俆\\x86쪕ἶ醿剺髱%4\\ue1f9' - 0.99998268\n",
      "Best fitness at generation 15: '俆Ǩ쪸ἂ醿剺髱%4\\ue150' - 0.99998263\n",
      "Best fitness at generation 16: '俴ʓ쫕ớ鄞务髱%e\\ue0f0' - 0.99998260\n",
      "Best fitness at generation 17: '侪ï쪵ớ酟刖髱%F\\ue0a9' - 0.99998258\n",
      "Best fitness at generation 18: '佺ģ쪵ớ鄞劐髱%e\\ue05c' - 0.99998256\n",
      "Best fitness at generation 19: '侪ï쪵ớ酟刖髱%e\\ue05c' - 0.99998256\n",
      "Best fitness at generation 20: '侪ï쪵ί酃劐髝%e\\ue00c' - 0.99998253\n",
      "...\n",
      "Best individual: '予ß쥇᳗轐咆隭%2A', fitness 0.0000000000\n"
     ]
    }
   ],
   "source": [
    "genetic_algorithm()"
   ]
  },
  {
   "cell_type": "markdown",
   "metadata": {
    "slideshow": {
     "slide_type": "slide"
    }
   },
   "source": [
    "## Synopsis\n",
    "\n",
    "This chapter demonstrates how to use meta-heuristic search algorithms to find inputs that reach specific locations in the source code. The simplest search algorithm is hillclimbing, which is applied to the simple `test_me` example as follows:"
   ]
  },
  {
   "cell_type": "code",
   "execution_count": 110,
   "metadata": {
    "execution": {
     "iopub.execute_input": "2025-01-16T09:39:53.217980Z",
     "iopub.status.busy": "2025-01-16T09:39:53.217875Z",
     "iopub.status.idle": "2025-01-16T09:39:53.293138Z",
     "shell.execute_reply": "2025-01-16T09:39:53.292712Z"
    },
    "slideshow": {
     "slide_type": "subslide"
    }
   },
   "outputs": [
    {
     "name": "stdout",
     "output_type": "stream",
     "text": [
      "Initial value: -67005, 8742 at fitness 84491.0000\n",
      "New value: -67006, 8741 at fitness 84490.0000\n",
      "New value: -67007, 8740 at fitness 84489.0000\n",
      "New value: -67008, 8739 at fitness 84488.0000\n",
      "New value: -67009, 8738 at fitness 84487.0000\n",
      "New value: -67010, 8737 at fitness 84486.0000\n",
      "New value: -67011, 8736 at fitness 84485.0000\n",
      "New value: -67012, 8735 at fitness 84484.0000\n",
      "New value: -67013, 8734 at fitness 84483.0000\n",
      "New value: -67014, 8733 at fitness 84482.0000\n",
      "New value: -67015, 8732 at fitness 84481.0000\n",
      "New value: -67016, 8731 at fitness 84480.0000\n",
      "New value: -67017, 8730 at fitness 84479.0000\n",
      "New value: -67018, 8729 at fitness 84478.0000\n",
      "New value: -67019, 8728 at fitness 84477.0000\n",
      "New value: -67020, 8727 at fitness 84476.0000\n",
      "New value: -67021, 8726 at fitness 84475.0000\n",
      "New value: -67022, 8725 at fitness 84474.0000\n",
      "New value: -67023, 8724 at fitness 84473.0000\n",
      "New value: -67024, 8723 at fitness 84472.0000\n",
      "New value: -67025, 8722 at fitness 84471.0000\n",
      "...\n",
      "Found optimum after 58743 iterations at -100000, -50001\n"
     ]
    }
   ],
   "source": [
    "hillclimber()"
   ]
  },
  {
   "cell_type": "markdown",
   "metadata": {
    "slideshow": {
     "slide_type": "subslide"
    }
   },
   "source": [
    "Different aspects and challenges require different variations of this algorithm, such as a `steepest_ascent_hillclimber` or a `restarting_hillclimber`."
   ]
  },
  {
   "cell_type": "markdown",
   "metadata": {
    "slideshow": {
     "slide_type": "fragment"
    }
   },
   "source": [
    "The search can be guided by different optimization goals captured in fitness functions. A fitness function to measure how close we are to reaching locations in the source code uses source code instrumentation. To produce an instrumented version of `cgi_decode`, use:"
   ]
  },
  {
   "cell_type": "code",
   "execution_count": 111,
   "metadata": {
    "execution": {
     "iopub.execute_input": "2025-01-16T09:39:53.295167Z",
     "iopub.status.busy": "2025-01-16T09:39:53.294914Z",
     "iopub.status.idle": "2025-01-16T09:39:53.297890Z",
     "shell.execute_reply": "2025-01-16T09:39:53.297587Z"
    },
    "slideshow": {
     "slide_type": "fragment"
    }
   },
   "outputs": [
    {
     "name": "stderr",
     "output_type": "stream",
     "text": [
      "/var/folders/n2/xd9445p97rb3xh7m1dfx8_4h0006ts/T/ipykernel_7394/942233608.py:15: DeprecationWarning: ast.Num is deprecated and will be removed in Python 3.14; use ast.Constant instead\n",
      "  args=[ast.Num(self.branch_num),\n",
      "/var/folders/n2/xd9445p97rb3xh7m1dfx8_4h0006ts/T/ipykernel_7394/942233608.py:16: DeprecationWarning: ast.Str is deprecated and will be removed in Python 3.14; use ast.Constant instead\n",
      "  ast.Str(node.ops[0].__class__.__name__),\n"
     ]
    }
   ],
   "source": [
    "cgi_decode_instrumented = create_instrumented_function(cgi_decode)"
   ]
  },
  {
   "cell_type": "markdown",
   "metadata": {
    "slideshow": {
     "slide_type": "fragment"
    }
   },
   "source": [
    "Fitness values are obtained by executing `cgi_decode_instrumented`, which is done by the `get_fitness_cgi` function:"
   ]
  },
  {
   "cell_type": "code",
   "execution_count": 112,
   "metadata": {
    "execution": {
     "iopub.execute_input": "2025-01-16T09:39:53.299796Z",
     "iopub.status.busy": "2025-01-16T09:39:53.299658Z",
     "iopub.status.idle": "2025-01-16T09:39:53.301808Z",
     "shell.execute_reply": "2025-01-16T09:39:53.301578Z"
    },
    "slideshow": {
     "slide_type": "subslide"
    }
   },
   "outputs": [
    {
     "data": {
      "text/plain": [
       "5.0"
      ]
     },
     "execution_count": 112,
     "metadata": {},
     "output_type": "execute_result"
    }
   ],
   "source": [
    "get_fitness_cgi(\"Foo\")"
   ]
  },
  {
   "cell_type": "markdown",
   "metadata": {
    "slideshow": {
     "slide_type": "fragment"
    }
   },
   "source": [
    "Complex functions like `cgi_decode` result in vastly larger search spaces, which can be explored using evolutionary search algorithms such as genetic algorithms:"
   ]
  },
  {
   "cell_type": "code",
   "execution_count": 113,
   "metadata": {
    "execution": {
     "iopub.execute_input": "2025-01-16T09:39:53.303278Z",
     "iopub.status.busy": "2025-01-16T09:39:53.303168Z",
     "iopub.status.idle": "2025-01-16T09:39:53.857301Z",
     "shell.execute_reply": "2025-01-16T09:39:53.856916Z"
    },
    "slideshow": {
     "slide_type": "subslide"
    }
   },
   "outputs": [
    {
     "name": "stdout",
     "output_type": "stream",
     "text": [
      "Best fitness of initial population: '䫪Ʝ\\uf42b铺뿱ጻ䗷䌮肵篭' - 5.0000000000\n",
      "Best fitness at generation 1: '\\u19cdꥁ캖蝻ⅹ\\uf37f功ᰲ\\ued7eᱨ' - 5.00000000\n",
      "Best fitness at generation 2: '绑䀕\\u20c5֜적\\udfaeᇒ툧痮Ꮶ' - 5.00000000\n",
      "Best fitness at generation 3: '끍碼ߝ䣅쾜\\u0b7b죅ᦜ\\uf1fd䈕' - 5.00000000\n",
      "Best fitness at generation 4: '甚ᇆꏭ貰꾵訴྿ꙩᏃด' - 5.00000000\n",
      "Best fitness at generation 5: '\\uf644ᇆꏭ貰虀ꎍ\\uf6f9嫛ሎ㺁' - 5.00000000\n",
      "Best fitness at generation 6: '빫\\uf61a\\ud85c熆꾵訴ဍꙩᑓ\\ue8e0' - 5.00000000\n",
      "Best fitness at generation 7: '닅\\uf307Ɗ\\uefc5筂鐞嚂ᡥ⃫㺤' - 5.00000000\n",
      "Best fitness at generation 8: '漻㺅揝䄩薽턫轼\\u0dcc\\udb87胮' - 5.00000000\n",
      "Best fitness at generation 9: '甚ᇩ護㿦腄ꑗ\\uf6f9嫛ም凂' - 5.00000000\n",
      "Best fitness at generation 10: '끍ᇆ⁔峤羘䶦Ⓛ巖桿\\ue8ac' - 5.00000000\n",
      "Best fitness at generation 11: '㞮械ꏭഡ鰴勂ᇒ툧䧱㺡' - 5.00000000\n",
      "Best fitness at generation 12: '닅\\uf307Ɗ䣅筂鐮\\uf697媭ም凂' - 5.00000000\n",
      "Best fitness at generation 13: '췵㪈쾟⢥筂鐇勨憣并ꓹ' - 5.00000000\n",
      "Best fitness at generation 14: '睾\\uf2aaﾒ\\uef8b鰴⥢邹坅櫼砳' - 5.00000000\n",
      "Best fitness at generation 15: '盾㩭譂䅎웱勂ᇒ텬䧱㺡' - 5.00000000\n",
      "Best fitness at generation 16: '끍ᇆ₩豻畕傞ᅢ툧䧱Ａ' - 5.00000000\n",
      "Best fitness at generation 17: '뀳硺ߝ\\uefdb笧勂ᇒ텬桘．' - 5.00000000\n",
      "Best fitness at generation 18: '㴄ᅕ큕谉畕傞ᅢ툧䧱Ａ' - 5.00000000\n",
      "Best fitness at generation 19: '滴㪈㹮䣻羘䷴⒲嵟\\udc02㺤' - 5.00000000\n",
      "Best fitness at generation 20: '矖㪈㺂䢶羘䶦ᇒ䙗뭜탤' - 5.00000000\n",
      "...\n",
      "Best individual: '쩴篊㬍鍵糄䧱﬩廁\\ude21萇', fitness 5.0000000000\n"
     ]
    }
   ],
   "source": [
    "genetic_algorithm()"
   ]
  },
  {
   "attachments": {},
   "cell_type": "markdown",
   "metadata": {
    "button": false,
    "new_sheet": true,
    "run_control": {
     "read_only": false
    },
    "slideshow": {
     "slide_type": "slide"
    }
   },
   "source": [
    "## Lessons Learned\n",
    "\n",
    "* A meta-heuristic search problem consists of an algorithm, a representation, and a fitness function.\n",
    "* For test generation, fitness functions typically estimate how close an execution comes to a target location. To determine this distance, we use instrumentation to calculate the distance during test execution.\n",
    "* Local search algorithms like hillcimbing work well when the neighborhood is well-defined and not too large.\n",
    "* Global search algorithms like genetic algorithms are very flexible and scale up well to larger test problems."
   ]
  },
  {
   "cell_type": "markdown",
   "metadata": {
    "button": false,
    "new_sheet": false,
    "run_control": {
     "read_only": false
    },
    "slideshow": {
     "slide_type": "slide"
    }
   },
   "source": [
    "## Next Steps\n",
    "\n",
    "In this chapter we looked at rather simple program inputs. We can apply the same search algorithms also to evolve complex test inputs, in particular [for grammar input](EvoGrammarFuzzer.ipynb)."
   ]
  },
  {
   "cell_type": "markdown",
   "metadata": {
    "slideshow": {
     "slide_type": "slide"
    }
   },
   "source": [
    "## Background\n",
    "\n",
    "\\todo{Add more}\n",
    "\n",
    "The targets of the search are typically related to coverage. For discussions, see the books in the [Introduction to Testing](Intro_Testing.ipynb)."
   ]
  },
  {
   "cell_type": "markdown",
   "metadata": {
    "slideshow": {
     "slide_type": "slide"
    }
   },
   "source": [
    "## Exercises\n",
    "\n",
    "\\todo{Will be added later}"
   ]
  }
 ],
 "metadata": {
  "ipub": {
   "bibliography": "fuzzingbook.bib",
   "toc": true
  },
  "kernelspec": {
   "display_name": "Python 3",
   "language": "python",
   "name": "python3"
  },
  "language_info": {
   "codemirror_mode": {
    "name": "ipython",
    "version": 3
   },
   "file_extension": ".py",
   "mimetype": "text/x-python",
   "name": "python",
   "nbconvert_exporter": "python",
   "pygments_lexer": "ipython3",
   "version": "3.12.8"
  },
  "toc": {
   "base_numbering": 1,
   "nav_menu": {},
   "number_sections": true,
   "sideBar": true,
   "skip_h1_title": true,
   "title_cell": "",
   "title_sidebar": "Contents",
   "toc_cell": false,
   "toc_position": {},
   "toc_section_display": true,
   "toc_window_display": true
  },
  "toc-autonumbering": false,
  "varInspector": {
   "cols": {
    "lenName": 16,
    "lenType": 16,
    "lenVar": 40
   },
   "kernels_config": {
    "python": {
     "delete_cmd_postfix": "",
     "delete_cmd_prefix": "del ",
     "library": "var_list.py",
     "varRefreshCmd": "print(var_dic_list())"
    },
    "r": {
     "delete_cmd_postfix": ") ",
     "delete_cmd_prefix": "rm(",
     "library": "var_list.r",
     "varRefreshCmd": "cat(var_dic_list()) "
    }
   },
   "types_to_exclude": [
    "module",
    "function",
    "builtin_function_or_method",
    "instance",
    "_Feature"
   ],
   "window_display": false
  },
  "vscode": {
   "interpreter": {
    "hash": "4185989cf89c47c310c2629adcadd634093b57a2c49dffb5ae8d0d14fa302f2b"
   }
  }
 },
 "nbformat": 4,
 "nbformat_minor": 4
}