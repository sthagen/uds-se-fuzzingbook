{
 "cells": [
  {
   "cell_type": "markdown",
   "id": "8a4d01dc-8982-497d-9fda-08ae307e9121",
   "metadata": {
    "slideshow": {
     "slide_type": "slide"
    },
    "tags": []
   },
   "source": [
    "# Testing Compilers\n",
    "\n",
    "In this chapter, we will make use of [grammars and grammar-based testing](Grammars.ipynb) to systematically generate _program code_ – for instance, to test a compiler or an interpreter. Not very surprisingly, we use _Python_ and the _Python interpreter_ as our domain.\n",
    "\n",
    "We chose Python not only because the rest of the book is also based on Python.\n",
    "Most importantly, Python brings lots of built-in infrastructure we can leverage, especially\n",
    "\n",
    "* _parsers_ that convert Python code into an abstract syntax tree (AST) representation and \n",
    "* _unparsers_ that take an AST and convert it back into Python code.\n",
    "\n",
    "This allows us to leverage grammars that operate on ASTs rather than concrete syntax, greatly reducing complexity."
   ]
  },
  {
   "cell_type": "code",
   "execution_count": 1,
   "id": "fae2adc4",
   "metadata": {
    "execution": {
     "iopub.execute_input": "2025-01-22T08:42:14.368373Z",
     "iopub.status.busy": "2025-01-22T08:42:14.368263Z",
     "iopub.status.idle": "2025-01-22T08:42:14.441632Z",
     "shell.execute_reply": "2025-01-22T08:42:14.441308Z"
    },
    "slideshow": {
     "slide_type": "skip"
    }
   },
   "outputs": [
    {
     "data": {
      "text/html": [
       "\n",
       "        <iframe\n",
       "            width=\"640\"\n",
       "            height=\"360\"\n",
       "            src=\"https://www.youtube-nocookie.com/embed/Nr1xbKj_WRQ\"\n",
       "            frameborder=\"0\"\n",
       "            allowfullscreen\n",
       "            \n",
       "        ></iframe>\n",
       "        "
      ],
      "text/plain": [
       "<IPython.lib.display.IFrame at 0x104b5d610>"
      ]
     },
     "execution_count": 1,
     "metadata": {},
     "output_type": "execute_result"
    }
   ],
   "source": [
    "from bookutils import YouTubeVideo\n",
    "YouTubeVideo('Nr1xbKj_WRQ')"
   ]
  },
  {
   "cell_type": "markdown",
   "id": "c5271f4c",
   "metadata": {
    "slideshow": {
     "slide_type": "subslide"
    }
   },
   "source": [
    "**Prerequisites**\n",
    "\n",
    "* You must read the chapter on [Fuzzing with Grammars](Grammars.ipynb) to understand how grammars and grammar-based testing work."
   ]
  },
  {
   "cell_type": "code",
   "execution_count": 2,
   "id": "9eadd112",
   "metadata": {
    "execution": {
     "iopub.execute_input": "2025-01-22T08:42:14.443391Z",
     "iopub.status.busy": "2025-01-22T08:42:14.443250Z",
     "iopub.status.idle": "2025-01-22T08:42:14.444985Z",
     "shell.execute_reply": "2025-01-22T08:42:14.444717Z"
    },
    "slideshow": {
     "slide_type": "fragment"
    }
   },
   "outputs": [],
   "source": [
    "# ignore\n",
    "import sys"
   ]
  },
  {
   "cell_type": "code",
   "execution_count": 3,
   "id": "4cea401a",
   "metadata": {
    "execution": {
     "iopub.execute_input": "2025-01-22T08:42:14.446444Z",
     "iopub.status.busy": "2025-01-22T08:42:14.446346Z",
     "iopub.status.idle": "2025-01-22T08:42:14.447984Z",
     "shell.execute_reply": "2025-01-22T08:42:14.447754Z"
    },
    "slideshow": {
     "slide_type": "fragment"
    }
   },
   "outputs": [],
   "source": [
    "# ignore\n",
    "if sys.version_info < (3, 10):\n",
    "    print(\"This code requires Python 3.10 or later\")\n",
    "    sys.exit(0)"
   ]
  },
  {
   "cell_type": "markdown",
   "id": "b5cd2468",
   "metadata": {
    "slideshow": {
     "slide_type": "skip"
    }
   },
   "source": [
    "## Synopsis\n",
    "<!-- Automatically generated. Do not edit. -->\n",
    "\n",
    "To [use the code provided in this chapter](Importing.ipynb), write\n",
    "\n",
    "```python\n",
    ">>> from fuzzingbook.PythonFuzzer import <identifier>\n",
    "```\n",
    "\n",
    "and then make use of the following features.\n",
    "\n",
    "\n",
    "This chapter provides a `PythonFuzzer` class that allows producing arbitrary Python code elements:\n",
    "\n",
    "```python\n",
    ">>> fuzzer = PythonFuzzer()\n",
    ">>> print(fuzzer.fuzz())\n",
    "def R():\n",
    "    break\n",
    "\n",
    "```\n",
    "By default, `PythonFuzzer` produces a _function definition_ – that is, a list of statements as above.\n",
    "You can pass a `start_symbol` argument to state which Python element you'd like to have:\n",
    "\n",
    "```python\n",
    ">>> fuzzer = PythonFuzzer('<While>')\n",
    ">>> print(fuzzer.fuzz())\n",
    "while {set()[set():set():set()]}:\n",
    "    C = set()\n",
    "    D @= set()\n",
    "    break\n",
    "else:\n",
    "    return\n",
    "\n",
    "```\n",
    "Here is a list of all possible start symbols. Their names reflect the nonterminals from the [Python `ast` module documentation](https://docs.python.org/3/library/ast.html).\n",
    "\n",
    "```python\n",
    ">>> sorted(list(PYTHON_AST_GRAMMAR.keys()))\n",
    "['<Assert>',\n",
    " '<Assign>',\n",
    " '<Attribute>',\n",
    " '<AugAssign>',\n",
    " '<BinOp>',\n",
    " '<BoolOp>',\n",
    " '<Break>',\n",
    " '<Call>',\n",
    " '<Compare>',\n",
    " '<Constant>',\n",
    " '<Continue>',\n",
    " '<Delete>',\n",
    " '<Dict>',\n",
    " '<EmptySet>',\n",
    " '<Expr>',\n",
    " '<For>',\n",
    " '<FunctionDef>',\n",
    " '<If>',\n",
    " '<List>',\n",
    " '<Module>',\n",
    " '<Name>',\n",
    " '<Pass>',\n",
    " '<Return>',\n",
    " '<Set>',\n",
    " '<Slice>',\n",
    " '<Starred>',\n",
    " '<Subscript>',\n",
    " '<Tuple>',\n",
    " '<UnaryOp>',\n",
    " '<While>',\n",
    " '<With>',\n",
    " '<arg>',\n",
    " '<arg_list>',\n",
    " '<args>',\n",
    " '<args_param>',\n",
    " '<arguments>',\n",
    " '<bool>',\n",
    " '<boolop>',\n",
    " '<cmpop>',\n",
    " '<cmpop_list>',\n",
    " '<cmpops>',\n",
    " '<decorator_list_param>',\n",
    " '<defaults_param>',\n",
    " '<digit>',\n",
    " '<digits>',\n",
    " '<expr>',\n",
    " '<expr_list>',\n",
    " '<exprs>',\n",
    " '<float>',\n",
    " '<func>',\n",
    " '<id>',\n",
    " '<id_continue>',\n",
    " '<id_start>',\n",
    " '<identifier>',\n",
    " '<integer>',\n",
    " '<keyword>',\n",
    " '<keyword_list>',\n",
    " '<keywords>',\n",
    " '<keywords_param>',\n",
    " '<kw_defaults_param>',\n",
    " '<kwarg>',\n",
    " '<kwonlyargs_param>',\n",
    " '<lhs_Attribute>',\n",
    " '<lhs_List>',\n",
    " '<lhs_Name>',\n",
    " '<lhs_Starred>',\n",
    " '<lhs_Subscript>',\n",
    " '<lhs_Tuple>',\n",
    " '<lhs_expr>',\n",
    " '<lhs_exprs>',\n",
    " '<literal>',\n",
    " '<mod>',\n",
    " '<none>',\n",
    " '<nonempty_expr_list>',\n",
    " '<nonempty_lhs_expr_list>',\n",
    " '<nonempty_stmt_list>',\n",
    " '<nonzerodigit>',\n",
    " '<not_double_quotes>',\n",
    " '<not_single_quotes>',\n",
    " '<operator>',\n",
    " '<orelse_param>',\n",
    " '<posonlyargs_param>',\n",
    " '<returns>',\n",
    " '<start>',\n",
    " '<stmt>',\n",
    " '<stmt_list>',\n",
    " '<stmts>',\n",
    " '<string>',\n",
    " '<type_comment>',\n",
    " '<type_ignore>',\n",
    " '<type_ignore_list>',\n",
    " '<type_ignore_param>',\n",
    " '<type_ignores>',\n",
    " '<unaryop>',\n",
    " '<vararg>',\n",
    " '<withitem>',\n",
    " '<withitem_list>',\n",
    " '<withitems>']\n",
    "```\n",
    "If you'd like more control over Python code generation, here is what is happening behind the scenes.\n",
    "The EBNF grammar `PYTHON_AST_GRAMMAR` can parse and produce _abstract syntax trees_ for Python.\n",
    "To produce a Python module without `PythonFuzzer`, you would take these steps:\n",
    "\n",
    "**Step 1:** Create a non-EBNF grammar suitable for `ISLaSolver` (or any other grammar fuzzer):\n",
    "\n",
    "```python\n",
    ">>> python_ast_grammar = convert_ebnf_grammar(PYTHON_AST_GRAMMAR)\n",
    "```\n",
    "**Step 2:**  Feed the resulting grammar into a grammar fuzzer such as ISLa:\n",
    "\n",
    "```python\n",
    ">>> solver = ISLaSolver(python_ast_grammar, start_symbol='<FunctionDef>')\n",
    "```\n",
    "**Step 3:**  Have the grammar fuzzer produce a string. This string represents an AST.\n",
    "\n",
    "```python\n",
    ">>> ast_string = str(solver.solve())\n",
    ">>> ast_string\n",
    "'FunctionDef(name=\\'y\\', args=arguments(posonlyargs=[], args=[], kwonlyargs=[], kw_defaults=[], defaults=[]), body=[Return()], decorator_list=[Call(func=Name(id=\"set\", ctx=Load()), args=[], keywords=[])])'\n",
    "```\n",
    "**Step 4:**  Convert the AST into an actual Python AST data structure.\n",
    "\n",
    "```python\n",
    ">>> from ast import *\n",
    ">>> abstract_syntax_tree = eval(ast_string)\n",
    "```\n",
    "**Step 5:** Finally, convert the AST structure back into readable Python code:\n",
    "\n",
    "```python\n",
    ">>> ast.fix_missing_locations(abstract_syntax_tree)\n",
    ">>> print(ast.unparse(abstract_syntax_tree))\n",
    "@set()\n",
    "def y():\n",
    "    return\n",
    "\n",
    "```\n",
    "The chapter has many more applications, including parsing and mutating Python code, evolutionary fuzzing, and more.\n",
    "\n",
    "Here are the details on the `PythonFuzzer` constructor:\n",
    "\n",
    "<p><code>PythonFuzzer(self, start_symbol: Optional[str] = None, *, grammar: Optional[Dict[str, List[Union[str, Tuple[str, Dict[str, Any]]]]]] = None, constraint: Optional[str] = None, **kw_params) -&gt; None</code></p>\n",
    "<p>Produce Python code. Parameters are:</p>\n",
    "<ul>\n",
    "<li><code>start_symbol</code>: The grammatical entity to be generated (default: <code>&lt;FunctionDef&gt;</code>)</li>\n",
    "<li><code>grammar</code>: The EBNF grammar to be used (default: <code>PYTHON__AST_GRAMMAR</code>); and</li>\n",
    "<li><code>constraint</code> an ISLa constraint (if any).</li>\n",
    "</ul>\n",
    "<p>Additional keyword parameters are passed to the <code>ISLaSolver</code> superclass.</p>\n",
    "\n",
    "![](PICS/PythonFuzzer-synopsis-1.svg)\n",
    "\n"
   ]
  },
  {
   "cell_type": "markdown",
   "id": "6891d8a0",
   "metadata": {
    "slideshow": {
     "slide_type": "slide"
    }
   },
   "source": [
    "## A Grammar for Concrete Code\n",
    "\n",
    "To _produce_ code, it is fairly easy to write a grammar with _concrete_ syntax. If we want to produce, say, arithmetic expressions, we can easily create a concrete grammar which does precisely that.\n"
   ]
  },
  {
   "cell_type": "code",
   "execution_count": 4,
   "id": "9c5fb017",
   "metadata": {
    "execution": {
     "iopub.execute_input": "2025-01-22T08:42:14.449446Z",
     "iopub.status.busy": "2025-01-22T08:42:14.449346Z",
     "iopub.status.idle": "2025-01-22T08:42:14.451614Z",
     "shell.execute_reply": "2025-01-22T08:42:14.451384Z"
    },
    "slideshow": {
     "slide_type": "skip"
    }
   },
   "outputs": [],
   "source": [
    "import bookutils.setup"
   ]
  },
  {
   "cell_type": "code",
   "execution_count": 5,
   "id": "913ade25",
   "metadata": {
    "execution": {
     "iopub.execute_input": "2025-01-22T08:42:14.453030Z",
     "iopub.status.busy": "2025-01-22T08:42:14.452922Z",
     "iopub.status.idle": "2025-01-22T08:42:14.794519Z",
     "shell.execute_reply": "2025-01-22T08:42:14.794245Z"
    },
    "slideshow": {
     "slide_type": "skip"
    }
   },
   "outputs": [],
   "source": [
    "from Grammars import Grammar\n",
    "from Grammars import is_valid_grammar, convert_ebnf_grammar, extend_grammar, trim_grammar"
   ]
  },
  {
   "cell_type": "code",
   "execution_count": 6,
   "id": "fb8c5ef0",
   "metadata": {
    "execution": {
     "iopub.execute_input": "2025-01-22T08:42:14.796311Z",
     "iopub.status.busy": "2025-01-22T08:42:14.796187Z",
     "iopub.status.idle": "2025-01-22T08:42:14.798046Z",
     "shell.execute_reply": "2025-01-22T08:42:14.797812Z"
    },
    "slideshow": {
     "slide_type": "skip"
    }
   },
   "outputs": [],
   "source": [
    "from typing import Optional"
   ]
  },
  {
   "cell_type": "markdown",
   "id": "1b7558ed",
   "metadata": {
    "slideshow": {
     "slide_type": "fragment"
    }
   },
   "source": [
    "We use the [Fuzzingbook format for grammars](https://www.fuzzingbook.org/html/Grammars.html), in which grammars are represented as dictionaries from symbols to lists of expansion alternatives."
   ]
  },
  {
   "cell_type": "code",
   "execution_count": 7,
   "id": "b624757f",
   "metadata": {
    "execution": {
     "iopub.execute_input": "2025-01-22T08:42:14.799459Z",
     "iopub.status.busy": "2025-01-22T08:42:14.799384Z",
     "iopub.status.idle": "2025-01-22T08:42:14.801390Z",
     "shell.execute_reply": "2025-01-22T08:42:14.801185Z"
    },
    "slideshow": {
     "slide_type": "subslide"
    }
   },
   "outputs": [],
   "source": [
    "EXPR_GRAMMAR: Grammar = {\n",
    "    \"<start>\":\n",
    "        [\"<expr>\"],\n",
    "\n",
    "    \"<expr>\":\n",
    "        [\"<term> + <expr>\", \"<term> - <expr>\", \"<term>\"],\n",
    "\n",
    "    \"<term>\":\n",
    "        [\"<factor> * <term>\", \"<factor> / <term>\", \"<factor>\"],\n",
    "\n",
    "    \"<factor>\":\n",
    "        [\"+<factor>\",\n",
    "         \"-<factor>\",\n",
    "         \"(<expr>)\",\n",
    "         \"<integer>.<integer>\",\n",
    "         \"<integer>\"],\n",
    "\n",
    "    \"<integer>\":\n",
    "        [\"<digit><integer>\", \"<digit>\"],\n",
    "\n",
    "    \"<digit>\":\n",
    "        [\"0\", \"1\", \"2\", \"3\", \"4\", \"5\", \"6\", \"7\", \"8\", \"9\"]\n",
    "}"
   ]
  },
  {
   "cell_type": "code",
   "execution_count": 8,
   "id": "6237b672",
   "metadata": {
    "execution": {
     "iopub.execute_input": "2025-01-22T08:42:14.802630Z",
     "iopub.status.busy": "2025-01-22T08:42:14.802561Z",
     "iopub.status.idle": "2025-01-22T08:42:14.804096Z",
     "shell.execute_reply": "2025-01-22T08:42:14.803896Z"
    },
    "slideshow": {
     "slide_type": "subslide"
    }
   },
   "outputs": [],
   "source": [
    "assert is_valid_grammar(EXPR_GRAMMAR)"
   ]
  },
  {
   "cell_type": "markdown",
   "id": "1e8de5f1",
   "metadata": {
    "slideshow": {
     "slide_type": "fragment"
    }
   },
   "source": [
    "We can use this grammar to produce syntactically valid arithmetic expressions.\n",
    "We use the [ISLa solver](FuzzingWithConstraints.ipynb) as our generator, as it is the most powerful; but we could also use any other of our grammar fuzzers such as [GrammarFuzzer](GrammarFuzzer.ipynb) at this point."
   ]
  },
  {
   "cell_type": "code",
   "execution_count": 9,
   "id": "3c044f44",
   "metadata": {
    "execution": {
     "iopub.execute_input": "2025-01-22T08:42:14.805503Z",
     "iopub.status.busy": "2025-01-22T08:42:14.805431Z",
     "iopub.status.idle": "2025-01-22T08:42:14.927912Z",
     "shell.execute_reply": "2025-01-22T08:42:14.927628Z"
    },
    "slideshow": {
     "slide_type": "skip"
    }
   },
   "outputs": [],
   "source": [
    "from isla.solver import ISLaSolver  # type: ignore"
   ]
  },
  {
   "cell_type": "markdown",
   "id": "ed698d7f",
   "metadata": {
    "slideshow": {
     "slide_type": "fragment"
    }
   },
   "source": [
    "Here are some concrete inputs produced from the grammar:"
   ]
  },
  {
   "cell_type": "code",
   "execution_count": 10,
   "id": "876a4d22",
   "metadata": {
    "execution": {
     "iopub.execute_input": "2025-01-22T08:42:14.929604Z",
     "iopub.status.busy": "2025-01-22T08:42:14.929467Z",
     "iopub.status.idle": "2025-01-22T08:42:15.041803Z",
     "shell.execute_reply": "2025-01-22T08:42:15.041534Z"
    },
    "slideshow": {
     "slide_type": "subslide"
    }
   },
   "outputs": [
    {
     "name": "stdout",
     "output_type": "stream",
     "text": [
      "4.3 + 512 / -(7 / 6 - 0 / 9 * 1 * 1) * +8.3 / 7 * 4 / 6\n",
      "(4 / 7 + 1) / (4) / 9 / 8 + 4 / (3 + 6 - 7)\n",
      "+--(--(-9) * (4 * 7 + (4) + 4) + --(+(3)) - 6 + 0 / 7 + 7)\n",
      "(2 * 6 + 0 - 5) * 4 - +1 * (2 - 2) / 8 / 6\n",
      "(+-(0 - (1) * 7 / 3)) / ((1 * 3 + 8) + 9 - +1 / --0) - 5 * (-+939.491)\n",
      "+2.9 * 0 / 501.19814 / --+--(6.05002)\n",
      "+-8.8 / (1) * -+1 + -8 + 9 - 3 / 8 * 6 + 4 * 3 * 5\n",
      "(+(8 / 9 - 1 - 7)) + ---06.30 / +4.39\n",
      "8786.82 - +01.170 / 9.2 - +(7) + 1 * 9 - 0\n",
      "+-6 * 0 / 5 * (-(1.7 * +(-1 / +4.9 * 5 * 1 * 2) + -4.2 + (6 + -5) / (4 * 3 + 4)))\n"
     ]
    }
   ],
   "source": [
    "expr_solver = ISLaSolver(EXPR_GRAMMAR)\n",
    "for _ in range(10):\n",
    "    print(expr_solver.solve())"
   ]
  },
  {
   "cell_type": "markdown",
   "id": "1f94ef09",
   "metadata": {
    "slideshow": {
     "slide_type": "subslide"
    }
   },
   "source": [
    "We could extend the grammar further to also produce assignments and other statements, and piece by piece cover the entire syntax of the programming language. However, this would be a not-so-great idea. Why?"
   ]
  },
  {
   "cell_type": "markdown",
   "id": "9a7541c2",
   "metadata": {
    "slideshow": {
     "slide_type": "fragment"
    }
   },
   "source": [
    "The problem is that when testing _compilers_, you not only want to be able to _produce_ code, but also to _parse_ code, such that you can mutate and manipulate it at will. And this is where our \"concrete\" syntax will give us problems. While we can easily parse code (or expressions) that exactly adheres to the syntax..."
   ]
  },
  {
   "cell_type": "code",
   "execution_count": 11,
   "id": "349fbe12",
   "metadata": {
    "execution": {
     "iopub.execute_input": "2025-01-22T08:42:15.043346Z",
     "iopub.status.busy": "2025-01-22T08:42:15.043224Z",
     "iopub.status.idle": "2025-01-22T08:42:15.045815Z",
     "shell.execute_reply": "2025-01-22T08:42:15.045582Z"
    },
    "slideshow": {
     "slide_type": "fragment"
    }
   },
   "outputs": [
    {
     "data": {
      "text/plain": [
       "True"
      ]
     },
     "execution_count": 11,
     "metadata": {},
     "output_type": "execute_result"
    }
   ],
   "source": [
    "expr_solver.check('2 + 2')"
   ]
  },
  {
   "cell_type": "markdown",
   "id": "571c36ed",
   "metadata": {
    "slideshow": {
     "slide_type": "fragment"
    }
   },
   "source": [
    "... a single space will already suffice to make it fail..."
   ]
  },
  {
   "cell_type": "code",
   "execution_count": 12,
   "id": "55c4c427",
   "metadata": {
    "execution": {
     "iopub.execute_input": "2025-01-22T08:42:15.047310Z",
     "iopub.status.busy": "2025-01-22T08:42:15.047225Z",
     "iopub.status.idle": "2025-01-22T08:42:15.049475Z",
     "shell.execute_reply": "2025-01-22T08:42:15.049265Z"
    },
    "slideshow": {
     "slide_type": "fragment"
    }
   },
   "outputs": [
    {
     "name": "stderr",
     "output_type": "stream",
     "text": [
      "Error parsing \"2 +  2\" starting with \"<start>\"\n"
     ]
    },
    {
     "data": {
      "text/plain": [
       "False"
      ]
     },
     "execution_count": 12,
     "metadata": {},
     "output_type": "execute_result"
    }
   ],
   "source": [
    "expr_solver.check('2 +  2')"
   ]
  },
  {
   "cell_type": "markdown",
   "id": "93be756e",
   "metadata": {
    "slideshow": {
     "slide_type": "subslide"
    }
   },
   "source": [
    "... as does the absence of spaces:"
   ]
  },
  {
   "cell_type": "code",
   "execution_count": 13,
   "id": "b10ae428",
   "metadata": {
    "execution": {
     "iopub.execute_input": "2025-01-22T08:42:15.050798Z",
     "iopub.status.busy": "2025-01-22T08:42:15.050722Z",
     "iopub.status.idle": "2025-01-22T08:42:15.052887Z",
     "shell.execute_reply": "2025-01-22T08:42:15.052678Z"
    },
    "slideshow": {
     "slide_type": "fragment"
    }
   },
   "outputs": [
    {
     "name": "stderr",
     "output_type": "stream",
     "text": [
      "Error parsing \"2+2\" starting with \"<start>\"\n"
     ]
    },
    {
     "data": {
      "text/plain": [
       "False"
      ]
     },
     "execution_count": 13,
     "metadata": {},
     "output_type": "execute_result"
    }
   ],
   "source": [
    "expr_solver.check('2+2')"
   ]
  },
  {
   "cell_type": "markdown",
   "id": "761adf53",
   "metadata": {
    "slideshow": {
     "slide_type": "fragment"
    }
   },
   "source": [
    "Indeed, spaces are optional in most programming languages. We _could_ update our grammar such that it can handle optional spaces at all times (introducing a `<space>` nonterminal). But then, there are other features like _comments_..."
   ]
  },
  {
   "cell_type": "code",
   "execution_count": 14,
   "id": "993eef59",
   "metadata": {
    "execution": {
     "iopub.execute_input": "2025-01-22T08:42:15.054164Z",
     "iopub.status.busy": "2025-01-22T08:42:15.054083Z",
     "iopub.status.idle": "2025-01-22T08:42:15.056178Z",
     "shell.execute_reply": "2025-01-22T08:42:15.055993Z"
    },
    "slideshow": {
     "slide_type": "fragment"
    }
   },
   "outputs": [
    {
     "name": "stderr",
     "output_type": "stream",
     "text": [
      "Error parsing \"2 + 2    # should be 4\" starting with \"<start>\"\n"
     ]
    },
    {
     "data": {
      "text/plain": [
       "False"
      ]
     },
     "execution_count": 14,
     "metadata": {},
     "output_type": "execute_result"
    }
   ],
   "source": [
    "expr_solver.check('2 + 2    # should be 4')"
   ]
  },
  {
   "cell_type": "markdown",
   "id": "a83db970",
   "metadata": {
    "slideshow": {
     "slide_type": "fragment"
    }
   },
   "source": [
    "... or _continuation lines_ ..."
   ]
  },
  {
   "cell_type": "code",
   "execution_count": 15,
   "id": "c480158d",
   "metadata": {
    "execution": {
     "iopub.execute_input": "2025-01-22T08:42:15.057647Z",
     "iopub.status.busy": "2025-01-22T08:42:15.057563Z",
     "iopub.status.idle": "2025-01-22T08:42:15.059936Z",
     "shell.execute_reply": "2025-01-22T08:42:15.059732Z"
    },
    "slideshow": {
     "slide_type": "subslide"
    }
   },
   "outputs": [
    {
     "name": "stderr",
     "output_type": "stream",
     "text": [
      "Error parsing \"2 + \\\n",
      "2\" starting with \"<start>\"\n"
     ]
    },
    {
     "data": {
      "text/plain": [
       "False"
      ]
     },
     "execution_count": 15,
     "metadata": {},
     "output_type": "execute_result"
    }
   ],
   "source": [
    "expr_solver.check('2 + \\\\\\n2')  # An expression split over two lines"
   ]
  },
  {
   "cell_type": "markdown",
   "id": "abb250aa",
   "metadata": {
    "slideshow": {
     "slide_type": "fragment"
    }
   },
   "source": [
    "that our grammar would have to cover.\n",
    "\n",
    "On top, there are language features that cannot be even represented properly in a context-free grammar:\n",
    "\n",
    "* In the C programming language, for instance, the parser needs to know whether an identifier has been defined as a _type_\n",
    "* In Python, _indentation_ levels cannot be represented by a context-free grammar."
   ]
  },
  {
   "cell_type": "markdown",
   "id": "b256dd39",
   "metadata": {
    "slideshow": {
     "slide_type": "subslide"
    }
   },
   "source": [
    "For this reason, it is often a good idea to make use of a dedicated _parser_ (or _preprocessor_) to turn input into a more _abstract_ representation - typically a _tree_ structure. In programming languages, such a tree is called an _abstract syntax tree_ (AST); it is the data structure that compilers operate on."
   ]
  },
  {
   "cell_type": "markdown",
   "id": "cebfc772",
   "metadata": {
    "slideshow": {
     "slide_type": "slide"
    }
   },
   "source": [
    "## Abstract Syntax Trees\n",
    "\n",
    "Abstract Syntax Trees (ASTs) that represent program code are among the most complex data structures in the world (if not _the_ most complex data structures) - notably because they reflect all the complexity of the programming language and its features.\n",
    "The good news is that in Python, working with ASTs is particularly easy - one can work with them using standard language features."
   ]
  },
  {
   "cell_type": "markdown",
   "id": "685c3351",
   "metadata": {
    "slideshow": {
     "slide_type": "fragment"
    }
   },
   "source": [
    "Let us illustrate ASTs using an example. Here is a piece of code that we'd like to work with:"
   ]
  },
  {
   "cell_type": "code",
   "execution_count": 16,
   "id": "2a9f3aaf",
   "metadata": {
    "execution": {
     "iopub.execute_input": "2025-01-22T08:42:15.061421Z",
     "iopub.status.busy": "2025-01-22T08:42:15.061343Z",
     "iopub.status.idle": "2025-01-22T08:42:15.062752Z",
     "shell.execute_reply": "2025-01-22T08:42:15.062568Z"
    },
    "slideshow": {
     "slide_type": "fragment"
    }
   },
   "outputs": [],
   "source": [
    "def main():\n",
    "    print(\"Hello, world!\")  # A simple example"
   ]
  },
  {
   "cell_type": "code",
   "execution_count": 17,
   "id": "98efc147",
   "metadata": {
    "execution": {
     "iopub.execute_input": "2025-01-22T08:42:15.063947Z",
     "iopub.status.busy": "2025-01-22T08:42:15.063886Z",
     "iopub.status.idle": "2025-01-22T08:42:15.065251Z",
     "shell.execute_reply": "2025-01-22T08:42:15.065045Z"
    },
    "slideshow": {
     "slide_type": "subslide"
    }
   },
   "outputs": [
    {
     "name": "stdout",
     "output_type": "stream",
     "text": [
      "Hello, world!\n"
     ]
    }
   ],
   "source": [
    "main()"
   ]
  },
  {
   "cell_type": "markdown",
   "id": "d0dcaf1f",
   "metadata": {
    "slideshow": {
     "slide_type": "fragment"
    }
   },
   "source": [
    "Let us obtain the source code of this function:"
   ]
  },
  {
   "cell_type": "code",
   "execution_count": 18,
   "id": "bc7cf0bb",
   "metadata": {
    "execution": {
     "iopub.execute_input": "2025-01-22T08:42:15.066483Z",
     "iopub.status.busy": "2025-01-22T08:42:15.066423Z",
     "iopub.status.idle": "2025-01-22T08:42:15.067932Z",
     "shell.execute_reply": "2025-01-22T08:42:15.067710Z"
    },
    "slideshow": {
     "slide_type": "skip"
    }
   },
   "outputs": [],
   "source": [
    "import inspect"
   ]
  },
  {
   "cell_type": "code",
   "execution_count": 19,
   "id": "ea8e21aa",
   "metadata": {
    "execution": {
     "iopub.execute_input": "2025-01-22T08:42:15.069156Z",
     "iopub.status.busy": "2025-01-22T08:42:15.069091Z",
     "iopub.status.idle": "2025-01-22T08:42:15.070954Z",
     "shell.execute_reply": "2025-01-22T08:42:15.070714Z"
    },
    "slideshow": {
     "slide_type": "fragment"
    }
   },
   "outputs": [
    {
     "name": "stdout",
     "output_type": "stream",
     "text": [
      "def main():\n",
      "    print(\"Hello, world!\")  # A simple example\n",
      "\n"
     ]
    }
   ],
   "source": [
    "main_source = inspect.getsource(main)\n",
    "print(main_source)"
   ]
  },
  {
   "cell_type": "markdown",
   "id": "edad2951",
   "metadata": {
    "slideshow": {
     "slide_type": "fragment"
    }
   },
   "source": [
    "We make use of the [Python AST module](https://docs.python.org/3/library/ast.html) to convert this code string to an AST and back."
   ]
  },
  {
   "cell_type": "code",
   "execution_count": 20,
   "id": "d7f13492",
   "metadata": {
    "execution": {
     "iopub.execute_input": "2025-01-22T08:42:15.072159Z",
     "iopub.status.busy": "2025-01-22T08:42:15.072096Z",
     "iopub.status.idle": "2025-01-22T08:42:15.073524Z",
     "shell.execute_reply": "2025-01-22T08:42:15.073304Z"
    },
    "slideshow": {
     "slide_type": "skip"
    }
   },
   "outputs": [],
   "source": [
    "import ast"
   ]
  },
  {
   "cell_type": "markdown",
   "id": "25ab1564",
   "metadata": {
    "slideshow": {
     "slide_type": "fragment"
    }
   },
   "source": [
    "With `ast.parse()`, we can parse the `main()` source into an AST:"
   ]
  },
  {
   "cell_type": "code",
   "execution_count": 21,
   "id": "812c6351",
   "metadata": {
    "execution": {
     "iopub.execute_input": "2025-01-22T08:42:15.074800Z",
     "iopub.status.busy": "2025-01-22T08:42:15.074721Z",
     "iopub.status.idle": "2025-01-22T08:42:15.076165Z",
     "shell.execute_reply": "2025-01-22T08:42:15.075961Z"
    },
    "slideshow": {
     "slide_type": "fragment"
    }
   },
   "outputs": [],
   "source": [
    "main_tree = ast.parse(main_source)"
   ]
  },
  {
   "cell_type": "markdown",
   "id": "b38b520a",
   "metadata": {
    "slideshow": {
     "slide_type": "fragment"
    }
   },
   "source": [
    "This is what this tree looks like:"
   ]
  },
  {
   "cell_type": "code",
   "execution_count": 22,
   "id": "c9efe33f",
   "metadata": {
    "execution": {
     "iopub.execute_input": "2025-01-22T08:42:15.077371Z",
     "iopub.status.busy": "2025-01-22T08:42:15.077311Z",
     "iopub.status.idle": "2025-01-22T08:42:15.078773Z",
     "shell.execute_reply": "2025-01-22T08:42:15.078565Z"
    },
    "slideshow": {
     "slide_type": "skip"
    }
   },
   "outputs": [],
   "source": [
    "from bookutils import show_ast"
   ]
  },
  {
   "cell_type": "code",
   "execution_count": 23,
   "id": "440a5bab",
   "metadata": {
    "execution": {
     "iopub.execute_input": "2025-01-22T08:42:15.079911Z",
     "iopub.status.busy": "2025-01-22T08:42:15.079850Z",
     "iopub.status.idle": "2025-01-22T08:42:15.749481Z",
     "shell.execute_reply": "2025-01-22T08:42:15.749185Z"
    },
    "slideshow": {
     "slide_type": "subslide"
    }
   },
   "outputs": [
    {
     "data": {
      "image/svg+xml": [
       "<svg xmlns=\"http://www.w3.org/2000/svg\" xmlns:xlink=\"http://www.w3.org/1999/xlink\" width=\"369pt\" height=\"332pt\" viewBox=\"0.00 0.00 368.62 332.00\">\n",
       "<g id=\"graph0\" class=\"graph\" transform=\"scale(1 1) rotate(0) translate(4 328)\">\n",
       "<polygon fill=\"white\" stroke=\"none\" points=\"-4,4 -4,-328 364.62,-328 364.62,4 -4,4\"/>\n",
       "<!-- 0 -->\n",
       "<g id=\"node1\" class=\"node\">\n",
       "<title>0</title>\n",
       "<text text-anchor=\"start\" x=\"83.38\" y=\"-301.95\" font-family=\"Courier,monospace\" font-weight=\"bold\" font-size=\"14.00\" fill=\"#004080\">FunctionDef</text>\n",
       "</g>\n",
       "<!-- 1 -->\n",
       "<g id=\"node2\" class=\"node\">\n",
       "<title>1</title>\n",
       "<text text-anchor=\"middle\" x=\"32.75\" y=\"-228.95\" font-family=\"Courier,monospace\" font-size=\"14.00\" fill=\"#008040\">&quot;main&quot;</text>\n",
       "</g>\n",
       "<!-- 0&#45;&#45;1 -->\n",
       "<g id=\"edge1\" class=\"edge\">\n",
       "<title>0--1</title>\n",
       "<path fill=\"none\" stroke=\"black\" d=\"M128.75,-287C128.75,-287 91.95,-267.07 63.92,-251.88\"/>\n",
       "</g>\n",
       "<!-- 2 -->\n",
       "<g id=\"node3\" class=\"node\">\n",
       "<title>2</title>\n",
       "<text text-anchor=\"middle\" x=\"128.75\" y=\"-228.95\" font-family=\"Courier,monospace\" font-size=\"14.00\" fill=\"#008040\">arguments</text>\n",
       "</g>\n",
       "<!-- 0&#45;&#45;2 -->\n",
       "<g id=\"edge2\" class=\"edge\">\n",
       "<title>0--2</title>\n",
       "<path fill=\"none\" stroke=\"black\" d=\"M128.75,-287C128.75,-287 128.75,-266.94 128.75,-251.74\"/>\n",
       "</g>\n",
       "<!-- 3 -->\n",
       "<g id=\"node4\" class=\"node\">\n",
       "<title>3</title>\n",
       "<text text-anchor=\"start\" x=\"202.25\" y=\"-229.95\" font-family=\"Courier,monospace\" font-weight=\"bold\" font-size=\"14.00\" fill=\"#004080\">Expr</text>\n",
       "</g>\n",
       "<!-- 0&#45;&#45;3 -->\n",
       "<g id=\"edge3\" class=\"edge\">\n",
       "<title>0--3</title>\n",
       "<path fill=\"none\" stroke=\"black\" d=\"M128.75,-287C128.75,-287 165.69,-265.66 192.23,-250.32\"/>\n",
       "</g>\n",
       "<!-- 4 -->\n",
       "<g id=\"node5\" class=\"node\">\n",
       "<title>4</title>\n",
       "<text text-anchor=\"start\" x=\"202.25\" y=\"-157.95\" font-family=\"Courier,monospace\" font-weight=\"bold\" font-size=\"14.00\" fill=\"#004080\">Call</text>\n",
       "</g>\n",
       "<!-- 3&#45;&#45;4 -->\n",
       "<g id=\"edge4\" class=\"edge\">\n",
       "<title>3--4</title>\n",
       "<path fill=\"none\" stroke=\"black\" d=\"M218.75,-216.05C218.75,-205.05 218.75,-190.76 218.75,-179.79\"/>\n",
       "</g>\n",
       "<!-- 5 -->\n",
       "<g id=\"node6\" class=\"node\">\n",
       "<title>5</title>\n",
       "<text text-anchor=\"start\" x=\"159.25\" y=\"-85.95\" font-family=\"Courier,monospace\" font-weight=\"bold\" font-size=\"14.00\" fill=\"#004080\">Name</text>\n",
       "</g>\n",
       "<!-- 4&#45;&#45;5 -->\n",
       "<g id=\"edge5\" class=\"edge\">\n",
       "<title>4--5</title>\n",
       "<path fill=\"none\" stroke=\"black\" d=\"M219.75,-143C219.75,-143 202.78,-122.94 189.91,-107.74\"/>\n",
       "</g>\n",
       "<!-- 8 -->\n",
       "<g id=\"node9\" class=\"node\">\n",
       "<title>8</title>\n",
       "<text text-anchor=\"start\" x=\"242.75\" y=\"-85.95\" font-family=\"Courier,monospace\" font-weight=\"bold\" font-size=\"14.00\" fill=\"#004080\">Constant</text>\n",
       "</g>\n",
       "<!-- 4&#45;&#45;8 -->\n",
       "<g id=\"edge8\" class=\"edge\">\n",
       "<title>4--8</title>\n",
       "<path fill=\"none\" stroke=\"black\" d=\"M219.75,-143C219.75,-143 241.35,-122.94 257.72,-107.74\"/>\n",
       "</g>\n",
       "<!-- 6 -->\n",
       "<g id=\"node7\" class=\"node\">\n",
       "<title>6</title>\n",
       "<text text-anchor=\"middle\" x=\"93.75\" y=\"-12.95\" font-family=\"Courier,monospace\" font-size=\"14.00\" fill=\"#008040\">&quot;print&quot;</text>\n",
       "</g>\n",
       "<!-- 5&#45;&#45;6 -->\n",
       "<g id=\"edge6\" class=\"edge\">\n",
       "<title>5--6</title>\n",
       "<path fill=\"none\" stroke=\"black\" d=\"M167.75,-71C167.75,-71 139.2,-50.94 117.57,-35.74\"/>\n",
       "</g>\n",
       "<!-- 7 -->\n",
       "<g id=\"node8\" class=\"node\">\n",
       "<title>7</title>\n",
       "<text text-anchor=\"middle\" x=\"175.75\" y=\"-12.95\" font-family=\"Courier,monospace\" font-size=\"14.00\" fill=\"#008040\">Load</text>\n",
       "</g>\n",
       "<!-- 5&#45;&#45;7 -->\n",
       "<g id=\"edge7\" class=\"edge\">\n",
       "<title>5--7</title>\n",
       "<path fill=\"none\" stroke=\"black\" d=\"M167.75,-71C167.75,-71 170.84,-50.94 173.17,-35.74\"/>\n",
       "</g>\n",
       "<!-- 9 -->\n",
       "<g id=\"node10\" class=\"node\">\n",
       "<title>9</title>\n",
       "<text text-anchor=\"middle\" x=\"290.75\" y=\"-12.95\" font-family=\"Courier,monospace\" font-size=\"14.00\" fill=\"#008040\">&quot;Hello, world!&quot;</text>\n",
       "</g>\n",
       "<!-- 8&#45;&#45;9 -->\n",
       "<g id=\"edge9\" class=\"edge\">\n",
       "<title>8--9</title>\n",
       "<path fill=\"none\" stroke=\"black\" d=\"M279.38,-72.05C281.74,-61.05 284.8,-46.76 287.15,-35.79\"/>\n",
       "</g>\n",
       "</g>\n",
       "</svg>"
      ],
      "text/plain": [
       "<IPython.core.display.SVG object>"
      ]
     },
     "metadata": {},
     "output_type": "display_data"
    }
   ],
   "source": [
    "show_ast(main_tree)"
   ]
  },
  {
   "cell_type": "markdown",
   "id": "4fa3edde",
   "metadata": {
    "slideshow": {
     "slide_type": "fragment"
    }
   },
   "source": [
    "We see how the function definition has become a `FunctionDef` node, whose third child is an `Expr` node, which in turn becomes a `Call` – of the `\"print\"` function with an argument of `\"Hello, world!\"`."
   ]
  },
  {
   "cell_type": "markdown",
   "id": "17d22616",
   "metadata": {
    "slideshow": {
     "slide_type": "fragment"
    }
   },
   "source": [
    "Each of these AST nodes comes as a _constructor_ – that is, we can invoke `FunctionDef()` to obtain a function definition node, or `Call()` to obtain a call node.\n",
    "These constructors take the AST _children_ as arguments, but also lots of _optional_ arguments (which we did not use so far). The _dump_ of the AST into a string reveals all the arguments for each constructor:"
   ]
  },
  {
   "cell_type": "code",
   "execution_count": 24,
   "id": "67d1fa00",
   "metadata": {
    "execution": {
     "iopub.execute_input": "2025-01-22T08:42:15.751129Z",
     "iopub.status.busy": "2025-01-22T08:42:15.750946Z",
     "iopub.status.idle": "2025-01-22T08:42:15.752983Z",
     "shell.execute_reply": "2025-01-22T08:42:15.752772Z"
    },
    "slideshow": {
     "slide_type": "subslide"
    }
   },
   "outputs": [
    {
     "name": "stdout",
     "output_type": "stream",
     "text": [
      "Module(\n",
      "    body=[\n",
      "        FunctionDef(\n",
      "            name='main',\n",
      "            args=arguments(\n",
      "                posonlyargs=[],\n",
      "                args=[],\n",
      "                kwonlyargs=[],\n",
      "                kw_defaults=[],\n",
      "                defaults=[]),\n",
      "            body=[\n",
      "                Expr(\n",
      "                    value=Call(\n",
      "                        func=Name(id='print', ctx=Load()),\n",
      "                        args=[\n",
      "                            Constant(value='Hello, world!')],\n",
      "                        keywords=[]))],\n",
      "            decorator_list=[])],\n",
      "    type_ignores=[])\n"
     ]
    }
   ],
   "source": [
    "print(ast.dump(main_tree, indent=4))"
   ]
  },
  {
   "cell_type": "markdown",
   "id": "ba1c84ee",
   "metadata": {
    "slideshow": {
     "slide_type": "subslide"
    }
   },
   "source": [
    "The [Python ast documentation](https://docs.python.org/3/library/ast.html) lists all these constructors, which make up the abstract syntax. There are more than 100 individual constructors! (We said that ASTs are complex, right?)"
   ]
  },
  {
   "cell_type": "markdown",
   "id": "00aa23f5",
   "metadata": {
    "slideshow": {
     "slide_type": "fragment"
    }
   },
   "source": [
    "The nice thing about the above string representation is that we can take it _as is_ and turn it into a tree again:"
   ]
  },
  {
   "cell_type": "code",
   "execution_count": 25,
   "id": "9edee43e",
   "metadata": {
    "execution": {
     "iopub.execute_input": "2025-01-22T08:42:15.754195Z",
     "iopub.status.busy": "2025-01-22T08:42:15.754117Z",
     "iopub.status.idle": "2025-01-22T08:42:15.755450Z",
     "shell.execute_reply": "2025-01-22T08:42:15.755248Z"
    },
    "slideshow": {
     "slide_type": "skip"
    }
   },
   "outputs": [],
   "source": [
    "from ast import *"
   ]
  },
  {
   "cell_type": "code",
   "execution_count": 26,
   "id": "fdd82102",
   "metadata": {
    "execution": {
     "iopub.execute_input": "2025-01-22T08:42:15.756570Z",
     "iopub.status.busy": "2025-01-22T08:42:15.756495Z",
     "iopub.status.idle": "2025-01-22T08:42:15.758450Z",
     "shell.execute_reply": "2025-01-22T08:42:15.758238Z"
    },
    "slideshow": {
     "slide_type": "subslide"
    }
   },
   "outputs": [],
   "source": [
    "my_main_tree = Module(\n",
    "    body=[\n",
    "        FunctionDef(\n",
    "            name='main',\n",
    "            args=arguments(\n",
    "                posonlyargs=[],\n",
    "                args=[],\n",
    "                kwonlyargs=[],\n",
    "                kw_defaults=[],\n",
    "                defaults=[]),\n",
    "            body=[\n",
    "                Expr(\n",
    "                    value=Call(\n",
    "                        func=Name(id='print', ctx=Load()),\n",
    "                        args=[\n",
    "                            Constant(value='Hello, world!')],\n",
    "                        keywords=[]))],\n",
    "            decorator_list=[])],\n",
    "    type_ignores=[])"
   ]
  },
  {
   "cell_type": "markdown",
   "id": "9ff26508",
   "metadata": {
    "slideshow": {
     "slide_type": "subslide"
    }
   },
   "source": [
    "We can take this tree and compile it into executable code:"
   ]
  },
  {
   "cell_type": "code",
   "execution_count": 27,
   "id": "0d60cb66",
   "metadata": {
    "execution": {
     "iopub.execute_input": "2025-01-22T08:42:15.759682Z",
     "iopub.status.busy": "2025-01-22T08:42:15.759613Z",
     "iopub.status.idle": "2025-01-22T08:42:15.761262Z",
     "shell.execute_reply": "2025-01-22T08:42:15.761040Z"
    },
    "slideshow": {
     "slide_type": "fragment"
    }
   },
   "outputs": [],
   "source": [
    "my_main_tree = fix_missing_locations(my_main_tree)  # required for trees built from constructors\n",
    "my_main_code = compile(my_main_tree, filename='<unknown>', mode='exec')"
   ]
  },
  {
   "cell_type": "code",
   "execution_count": 28,
   "id": "e61c1f09",
   "metadata": {
    "execution": {
     "iopub.execute_input": "2025-01-22T08:42:15.762396Z",
     "iopub.status.busy": "2025-01-22T08:42:15.762335Z",
     "iopub.status.idle": "2025-01-22T08:42:15.763793Z",
     "shell.execute_reply": "2025-01-22T08:42:15.763625Z"
    },
    "slideshow": {
     "slide_type": "fragment"
    }
   },
   "outputs": [],
   "source": [
    "del main  # This deletes the definition of main()"
   ]
  },
  {
   "cell_type": "code",
   "execution_count": 29,
   "id": "6f581584",
   "metadata": {
    "execution": {
     "iopub.execute_input": "2025-01-22T08:42:15.764991Z",
     "iopub.status.busy": "2025-01-22T08:42:15.764909Z",
     "iopub.status.idle": "2025-01-22T08:42:15.766365Z",
     "shell.execute_reply": "2025-01-22T08:42:15.766170Z"
    },
    "slideshow": {
     "slide_type": "fragment"
    }
   },
   "outputs": [],
   "source": [
    "exec(my_main_code)  # This defines main() again from `code`"
   ]
  },
  {
   "cell_type": "code",
   "execution_count": 30,
   "id": "d90f17c0",
   "metadata": {
    "execution": {
     "iopub.execute_input": "2025-01-22T08:42:15.767522Z",
     "iopub.status.busy": "2025-01-22T08:42:15.767460Z",
     "iopub.status.idle": "2025-01-22T08:42:15.768927Z",
     "shell.execute_reply": "2025-01-22T08:42:15.768756Z"
    },
    "slideshow": {
     "slide_type": "fragment"
    }
   },
   "outputs": [
    {
     "name": "stdout",
     "output_type": "stream",
     "text": [
      "Hello, world!\n"
     ]
    }
   ],
   "source": [
    "main()"
   ]
  },
  {
   "cell_type": "markdown",
   "id": "dac043e0",
   "metadata": {
    "slideshow": {
     "slide_type": "fragment"
    }
   },
   "source": [
    "We can also _unparse_ the tree (= turn it into source code again). (Note how the comment got lost during parsing.)"
   ]
  },
  {
   "cell_type": "code",
   "execution_count": 31,
   "id": "b4efb7e2",
   "metadata": {
    "execution": {
     "iopub.execute_input": "2025-01-22T08:42:15.770085Z",
     "iopub.status.busy": "2025-01-22T08:42:15.770024Z",
     "iopub.status.idle": "2025-01-22T08:42:15.771649Z",
     "shell.execute_reply": "2025-01-22T08:42:15.771431Z"
    },
    "slideshow": {
     "slide_type": "fragment"
    }
   },
   "outputs": [
    {
     "name": "stdout",
     "output_type": "stream",
     "text": [
      "def main():\n",
      "    print('Hello, world!')\n"
     ]
    }
   ],
   "source": [
    "print(ast.unparse(my_main_tree))"
   ]
  },
  {
   "cell_type": "markdown",
   "id": "ab4f0239",
   "metadata": {
    "slideshow": {
     "slide_type": "subslide"
    }
   },
   "source": [
    "Hence, we can\n",
    "\n",
    "1. _Parse_ concrete code into ASTs (with `ast.parse()`)\n",
    "2. _Generate_ new ASTs and _mutate_ existing ones\n",
    "3. _Unparse_ ASTs to obtain concrete code again (with `ast.unparse()`)"
   ]
  },
  {
   "cell_type": "markdown",
   "id": "844b7cdd",
   "metadata": {
    "slideshow": {
     "slide_type": "fragment"
    }
   },
   "source": [
    "To _generate_ and _mutate_ ASTs (step #2, above), we need means to produce _correct_ ASTs, invoking all constructors with the correct arguments.\n",
    "The plan is thus to have a _grammar_ for ASTs, which produces (and parses) ASTs as we like."
   ]
  },
  {
   "cell_type": "markdown",
   "id": "0a04f293",
   "metadata": {
    "slideshow": {
     "slide_type": "slide"
    }
   },
   "source": [
    "## A Grammar for ASTs\n",
    "\n",
    "Programming language grammars are among the most complicated formal grammars around, and ASTs reflect much of this complexity. We will use the [abstract AST grammar](https://docs.python.org/3/library/ast.html) as specified in the Python documentation as base, and build a formal context-free grammar step by step."
   ]
  },
  {
   "cell_type": "markdown",
   "id": "0833a137",
   "metadata": {
    "slideshow": {
     "slide_type": "subslide"
    }
   },
   "source": [
    "### Constants\n",
    "\n",
    "We will start with simple constants – strings and integers. Again, we use the `fuzzingbook` syntax for grammars, as it allows for easier extension."
   ]
  },
  {
   "cell_type": "code",
   "execution_count": 32,
   "id": "d557652d",
   "metadata": {
    "execution": {
     "iopub.execute_input": "2025-01-22T08:42:15.772915Z",
     "iopub.status.busy": "2025-01-22T08:42:15.772855Z",
     "iopub.status.idle": "2025-01-22T08:42:15.774199Z",
     "shell.execute_reply": "2025-01-22T08:42:15.774013Z"
    },
    "slideshow": {
     "slide_type": "skip"
    }
   },
   "outputs": [],
   "source": [
    "import string"
   ]
  },
  {
   "cell_type": "code",
   "execution_count": 33,
   "id": "9e774bd0",
   "metadata": {
    "execution": {
     "iopub.execute_input": "2025-01-22T08:42:15.775361Z",
     "iopub.status.busy": "2025-01-22T08:42:15.775267Z",
     "iopub.status.idle": "2025-01-22T08:42:15.776928Z",
     "shell.execute_reply": "2025-01-22T08:42:15.776722Z"
    },
    "slideshow": {
     "slide_type": "fragment"
    }
   },
   "outputs": [],
   "source": [
    "ANYTHING_BUT_DOUBLE_QUOTES_AND_BACKSLASH = (string.digits + string.ascii_letters + string.punctuation + ' ').replace('\"', '').replace('\\\\', '')\n",
    "ANYTHING_BUT_SINGLE_QUOTES_AND_BACKSLASH = (string.digits + string.ascii_letters + string.punctuation + ' ').replace(\"'\", '').replace('\\\\', '')"
   ]
  },
  {
   "cell_type": "code",
   "execution_count": 34,
   "id": "5891c800",
   "metadata": {
    "execution": {
     "iopub.execute_input": "2025-01-22T08:42:15.778111Z",
     "iopub.status.busy": "2025-01-22T08:42:15.778048Z",
     "iopub.status.idle": "2025-01-22T08:42:15.779831Z",
     "shell.execute_reply": "2025-01-22T08:42:15.779620Z"
    },
    "slideshow": {
     "slide_type": "fragment"
    }
   },
   "outputs": [
    {
     "data": {
      "text/plain": [
       "\"0123456789abcdefghijklmnopqrstuvwxyzABCDEFGHIJKLMNOPQRSTUVWXYZ!#$%&'()*+,-./:;<=>?@[]^_`{|}~ \""
      ]
     },
     "execution_count": 34,
     "metadata": {},
     "output_type": "execute_result"
    }
   ],
   "source": [
    "ANYTHING_BUT_DOUBLE_QUOTES_AND_BACKSLASH"
   ]
  },
  {
   "cell_type": "code",
   "execution_count": 35,
   "id": "20ade7d4",
   "metadata": {
    "execution": {
     "iopub.execute_input": "2025-01-22T08:42:15.780977Z",
     "iopub.status.busy": "2025-01-22T08:42:15.780916Z",
     "iopub.status.idle": "2025-01-22T08:42:15.782718Z",
     "shell.execute_reply": "2025-01-22T08:42:15.782520Z"
    },
    "slideshow": {
     "slide_type": "fragment"
    }
   },
   "outputs": [
    {
     "data": {
      "text/plain": [
       "'0123456789abcdefghijklmnopqrstuvwxyzABCDEFGHIJKLMNOPQRSTUVWXYZ!\"#$%&()*+,-./:;<=>?@[]^_`{|}~ '"
      ]
     },
     "execution_count": 35,
     "metadata": {},
     "output_type": "execute_result"
    }
   ],
   "source": [
    "ANYTHING_BUT_SINGLE_QUOTES_AND_BACKSLASH"
   ]
  },
  {
   "cell_type": "code",
   "execution_count": 36,
   "id": "9e3ff17b",
   "metadata": {
    "execution": {
     "iopub.execute_input": "2025-01-22T08:42:15.783904Z",
     "iopub.status.busy": "2025-01-22T08:42:15.783840Z",
     "iopub.status.idle": "2025-01-22T08:42:15.786233Z",
     "shell.execute_reply": "2025-01-22T08:42:15.786046Z"
    },
    "slideshow": {
     "slide_type": "subslide"
    }
   },
   "outputs": [],
   "source": [
    "PYTHON_AST_CONSTANTS_GRAMMAR: Grammar = {\n",
    "    '<start>': [ '<expr>' ],\n",
    "\n",
    "    # Expressions\n",
    "    '<expr>': [ '<Constant>', '<Expr>' ],\n",
    "    '<Expr>': [ 'Expr(value=<expr>)' ],\n",
    "\n",
    "    # Constants\n",
    "    '<Constant>': [ 'Constant(value=<literal>)' ],\n",
    "    '<literal>': [ '<string>', '<integer>', '<float>', '<bool>', '<none>' ],\n",
    "\n",
    "    # Strings\n",
    "    '<string>': [ '\"<not_double_quotes>*\"', \"'<not_single_quotes>*'\" ],\n",
    "    '<not_double_quotes>': list(ANYTHING_BUT_DOUBLE_QUOTES_AND_BACKSLASH),\n",
    "    '<not_single_quotes>': list(ANYTHING_BUT_SINGLE_QUOTES_AND_BACKSLASH),\n",
    "    # FIXME: The actual rules for Python strings are also more complex:\n",
    "    # https://docs.python.org/3/reference/lexical_analysis.html#numeric-literals\n",
    "\n",
    "    # Numbers\n",
    "    '<integer>': [ '<digit>', '<nonzerodigit><digits>' ],\n",
    "    '<float>': [ '<integer>.<integer>' ],\n",
    "    '<nonzerodigit>': ['1', '2', '3', '4', '5', '6', '7', '8', '9'],\n",
    "    '<digits>': [ '<digit><digits>', '<digit>' ],\n",
    "    '<digit>': ['0', '1', '2', '3', '4', '5', '6', '7', '8', '9'],\n",
    "    # FIXME: There are _many_ more ways to express numbers in Python; see\n",
    "    # https://docs.python.org/3/reference/lexical_analysis.html#numeric-literals\n",
    "\n",
    "    # More\n",
    "    '<bool>': [ 'True', 'False' ],\n",
    "    '<none>': [ 'None' ],\n",
    "\n",
    "    # FIXME: Not supported: bytes, format strings, regex strings...\n",
    "}"
   ]
  },
  {
   "cell_type": "markdown",
   "id": "6dbb2ed0",
   "metadata": {
    "slideshow": {
     "slide_type": "subslide"
    }
   },
   "source": [
    "Note that we use _extended Backus-Naur form_ in our grammars (here: `<string>`):\n",
    "\n",
    "* `<elem>+` stands for one or more instances of `<elem>`;\n",
    "* `<elem>*` stands for zero or more instances of `<elem>`;\n",
    "* `<elem>?` stands for one or zero instances of `<elem>`."
   ]
  },
  {
   "cell_type": "markdown",
   "id": "a507ad7d",
   "metadata": {
    "slideshow": {
     "slide_type": "fragment"
    }
   },
   "source": [
    "A call to `is_valid_grammar()` ensures our grammar is free of common mistakes. Don't write grammars without it!"
   ]
  },
  {
   "cell_type": "code",
   "execution_count": 37,
   "id": "416b4ab3",
   "metadata": {
    "execution": {
     "iopub.execute_input": "2025-01-22T08:42:15.787501Z",
     "iopub.status.busy": "2025-01-22T08:42:15.787438Z",
     "iopub.status.idle": "2025-01-22T08:42:15.788982Z",
     "shell.execute_reply": "2025-01-22T08:42:15.788802Z"
    },
    "slideshow": {
     "slide_type": "fragment"
    }
   },
   "outputs": [],
   "source": [
    "assert is_valid_grammar(PYTHON_AST_CONSTANTS_GRAMMAR)"
   ]
  },
  {
   "cell_type": "code",
   "execution_count": 38,
   "id": "3aaa8e78",
   "metadata": {
    "execution": {
     "iopub.execute_input": "2025-01-22T08:42:15.790175Z",
     "iopub.status.busy": "2025-01-22T08:42:15.790115Z",
     "iopub.status.idle": "2025-01-22T08:42:15.810729Z",
     "shell.execute_reply": "2025-01-22T08:42:15.810498Z"
    },
    "slideshow": {
     "slide_type": "subslide"
    }
   },
   "outputs": [
    {
     "name": "stdout",
     "output_type": "stream",
     "text": [
      "Expr(value=Constant(value=None))\n"
     ]
    }
   ],
   "source": [
    "constants_grammar = convert_ebnf_grammar(PYTHON_AST_CONSTANTS_GRAMMAR)\n",
    "constants_solver = ISLaSolver(constants_grammar)\n",
    "constants_tree_str = str(constants_solver.solve())\n",
    "print(constants_tree_str)"
   ]
  },
  {
   "cell_type": "markdown",
   "id": "649446d4",
   "metadata": {
    "slideshow": {
     "slide_type": "fragment"
    }
   },
   "source": [
    "We can create an AST from this expression and turn it into Python code (well, a literal):"
   ]
  },
  {
   "cell_type": "code",
   "execution_count": 39,
   "id": "d0ebb579",
   "metadata": {
    "execution": {
     "iopub.execute_input": "2025-01-22T08:42:15.812069Z",
     "iopub.status.busy": "2025-01-22T08:42:15.812004Z",
     "iopub.status.idle": "2025-01-22T08:42:15.813954Z",
     "shell.execute_reply": "2025-01-22T08:42:15.813753Z"
    },
    "slideshow": {
     "slide_type": "fragment"
    }
   },
   "outputs": [
    {
     "data": {
      "text/plain": [
       "'None'"
      ]
     },
     "execution_count": 39,
     "metadata": {},
     "output_type": "execute_result"
    }
   ],
   "source": [
    "constants_tree = eval(constants_tree_str)\n",
    "ast.unparse(constants_tree)"
   ]
  },
  {
   "cell_type": "markdown",
   "id": "f90fb213",
   "metadata": {
    "slideshow": {
     "slide_type": "fragment"
    }
   },
   "source": [
    "Let's do this a number of times:"
   ]
  },
  {
   "cell_type": "code",
   "execution_count": 40,
   "id": "e9db4775",
   "metadata": {
    "execution": {
     "iopub.execute_input": "2025-01-22T08:42:15.815235Z",
     "iopub.status.busy": "2025-01-22T08:42:15.815171Z",
     "iopub.status.idle": "2025-01-22T08:42:15.817274Z",
     "shell.execute_reply": "2025-01-22T08:42:15.817071Z"
    },
    "slideshow": {
     "slide_type": "subslide"
    }
   },
   "outputs": [],
   "source": [
    "def test_samples(grammar: Grammar, iterations: int = 10, start_symbol = None, log: bool = True):\n",
    "    g = convert_ebnf_grammar(grammar)\n",
    "    solver = ISLaSolver(g, start_symbol=start_symbol, max_number_free_instantiations=iterations)\n",
    "    for i in range(iterations):\n",
    "        tree_str = str(solver.solve())\n",
    "        tree = eval(tree_str)\n",
    "        ast.fix_missing_locations(tree)\n",
    "        if log:\n",
    "            code = ast.unparse(tree)\n",
    "            print(f'{code:40} # {tree_str}')"
   ]
  },
  {
   "cell_type": "code",
   "execution_count": 41,
   "id": "849a8be5",
   "metadata": {
    "execution": {
     "iopub.execute_input": "2025-01-22T08:42:15.818515Z",
     "iopub.status.busy": "2025-01-22T08:42:15.818448Z",
     "iopub.status.idle": "2025-01-22T08:42:15.831902Z",
     "shell.execute_reply": "2025-01-22T08:42:15.831673Z"
    },
    "slideshow": {
     "slide_type": "subslide"
    }
   },
   "outputs": [
    {
     "name": "stdout",
     "output_type": "stream",
     "text": [
      "False                                    # Expr(value=Constant(value=False))\n",
      "2                                        # Constant(value=2)\n",
      "None                                     # Constant(value=None)\n",
      "'#'                                      # Constant(value=\"#\")\n",
      "550.81                                   # Constant(value=550.81)\n",
      "True                                     # Constant(value=True)\n",
      "'.'                                      # Constant(value='.')\n",
      "467                                      # Constant(value=467)\n",
      "7894                                     # Constant(value=7894)\n",
      "263                                      # Constant(value=263)\n"
     ]
    }
   ],
   "source": [
    "test_samples(PYTHON_AST_CONSTANTS_GRAMMAR)"
   ]
  },
  {
   "cell_type": "markdown",
   "id": "0d85a773",
   "metadata": {
    "slideshow": {
     "slide_type": "fragment"
    }
   },
   "source": [
    "Our grammar can also _parse_ ASTs obtained from concrete code."
   ]
  },
  {
   "cell_type": "code",
   "execution_count": 42,
   "id": "97d0dd30",
   "metadata": {
    "execution": {
     "iopub.execute_input": "2025-01-22T08:42:15.833295Z",
     "iopub.status.busy": "2025-01-22T08:42:15.833222Z",
     "iopub.status.idle": "2025-01-22T08:42:15.835219Z",
     "shell.execute_reply": "2025-01-22T08:42:15.834996Z"
    },
    "slideshow": {
     "slide_type": "subslide"
    }
   },
   "outputs": [
    {
     "name": "stdout",
     "output_type": "stream",
     "text": [
      "Expr(value=Constant(value=4711))\n"
     ]
    }
   ],
   "source": [
    "sample_constant_code = \"4711\"\n",
    "sample_constant_ast = ast.parse(sample_constant_code).body[0]  # get the `Expr` node\n",
    "sample_constant_ast_str = ast.dump(sample_constant_ast)\n",
    "print(sample_constant_ast_str)"
   ]
  },
  {
   "cell_type": "code",
   "execution_count": 43,
   "id": "02b5647f",
   "metadata": {
    "execution": {
     "iopub.execute_input": "2025-01-22T08:42:15.836530Z",
     "iopub.status.busy": "2025-01-22T08:42:15.836456Z",
     "iopub.status.idle": "2025-01-22T08:42:15.840832Z",
     "shell.execute_reply": "2025-01-22T08:42:15.840597Z"
    },
    "slideshow": {
     "slide_type": "fragment"
    }
   },
   "outputs": [
    {
     "data": {
      "text/plain": [
       "True"
      ]
     },
     "execution_count": 43,
     "metadata": {},
     "output_type": "execute_result"
    }
   ],
   "source": [
    "constant_solver = ISLaSolver(constants_grammar)\n",
    "constant_solver.check(sample_constant_ast_str)"
   ]
  },
  {
   "cell_type": "markdown",
   "id": "d2946fa8",
   "metadata": {
    "slideshow": {
     "slide_type": "fragment"
    }
   },
   "source": [
    "Let us now come up with a quiz question: _Does our grammar support negative numbers?_\n",
    "For this, let's first find out if the `Constant()` constructor also take a _negative_ number as an argument? It turns out it can:"
   ]
  },
  {
   "cell_type": "code",
   "execution_count": 44,
   "id": "49a2bd73",
   "metadata": {
    "execution": {
     "iopub.execute_input": "2025-01-22T08:42:15.842120Z",
     "iopub.status.busy": "2025-01-22T08:42:15.842052Z",
     "iopub.status.idle": "2025-01-22T08:42:15.844050Z",
     "shell.execute_reply": "2025-01-22T08:42:15.843861Z"
    },
    "slideshow": {
     "slide_type": "subslide"
    }
   },
   "outputs": [
    {
     "data": {
      "text/plain": [
       "'-1'"
      ]
     },
     "execution_count": 44,
     "metadata": {},
     "output_type": "execute_result"
    }
   ],
   "source": [
    "ast.unparse(Constant(value=-1))"
   ]
  },
  {
   "cell_type": "markdown",
   "id": "3f3915e1",
   "metadata": {
    "slideshow": {
     "slide_type": "fragment"
    }
   },
   "source": [
    "But what happens if we parse a negative number, say `-1`? One might assume that this simply results in a `Constant(-1)`, right? Try it out yourself!"
   ]
  },
  {
   "cell_type": "code",
   "execution_count": 45,
   "id": "3e9d0f6a",
   "metadata": {
    "execution": {
     "iopub.execute_input": "2025-01-22T08:42:15.845274Z",
     "iopub.status.busy": "2025-01-22T08:42:15.845210Z",
     "iopub.status.idle": "2025-01-22T08:42:15.846756Z",
     "shell.execute_reply": "2025-01-22T08:42:15.846549Z"
    },
    "slideshow": {
     "slide_type": "skip"
    }
   },
   "outputs": [],
   "source": [
    "from bookutils import quiz"
   ]
  },
  {
   "cell_type": "code",
   "execution_count": 46,
   "id": "5ada37d8",
   "metadata": {
    "execution": {
     "iopub.execute_input": "2025-01-22T08:42:15.847900Z",
     "iopub.status.busy": "2025-01-22T08:42:15.847838Z",
     "iopub.status.idle": "2025-01-22T08:42:15.852714Z",
     "shell.execute_reply": "2025-01-22T08:42:15.852453Z"
    },
    "slideshow": {
     "slide_type": "fragment"
    }
   },
   "outputs": [
    {
     "data": {
      "text/html": [
       "\n",
       "    \n",
       "    <script>\n",
       "    var bad_answers = new Map();\n",
       "\n",
       "    function answer(quiz_id) {\n",
       "        ans = 0;\n",
       "        for (i = 1;; i++) {\n",
       "            checkbox = document.getElementById(quiz_id + \"-\" + i.toString());\n",
       "            if (!checkbox)\n",
       "                break;\n",
       "            if (checkbox.checked)\n",
       "                ans |= (1 << i);\n",
       "        }\n",
       "        return ans;\n",
       "    }\n",
       "    function check_selection(quiz_id, correct_answer, multiple_choice, hint) {\n",
       "        given_answer = answer(quiz_id);\n",
       "        if (given_answer == correct_answer)\n",
       "        {\n",
       "            document.getElementById(quiz_id + \"-submit\").value = \"Correct!\";\n",
       "            document.getElementById(quiz_id + \"-hint\").innerHTML = \"\";\n",
       "\n",
       "            for (i = 1;; i++) {\n",
       "                checkbox = document.getElementById(quiz_id + \"-\" + i.toString());\n",
       "                label = document.getElementById(quiz_id + \"-\" + i.toString() + \"-label\")\n",
       "                if (!checkbox)\n",
       "                    break;\n",
       "\n",
       "                if (checkbox.checked) {\n",
       "                    label.style.fontWeight = \"bold\";\n",
       "                }\n",
       "                else {\n",
       "                    label.style.textDecoration = \"line-through\";\n",
       "                }\n",
       "            }\n",
       "        }\n",
       "        else \n",
       "        {\n",
       "            document.getElementById(quiz_id + \"-submit\").value = \"Try again\";\n",
       "\n",
       "            if (!bad_answers.has(quiz_id)) {\n",
       "                bad_answers.set(quiz_id, 1);\n",
       "            }\n",
       "            else {\n",
       "                bad_answers.set(quiz_id, bad_answers.get(quiz_id) + 1);\n",
       "            }\n",
       "\n",
       "            if (bad_answers.get(quiz_id) >= 2 && hint.length > 0) {\n",
       "                document.getElementById(quiz_id + \"-hint\").innerHTML = \n",
       "                    \"&nbsp;&nbsp;(Hint: <code>\" + hint + \"</code>)\";\n",
       "            }\n",
       "\n",
       "            if (!multiple_choice) {\n",
       "                for (i = 1;; i++) {\n",
       "                    checkbox = document.getElementById(quiz_id + \"-\" + i.toString());\n",
       "                    label = document.getElementById(quiz_id + \"-\" + i.toString() + \"-label\")\n",
       "\n",
       "                    if (!checkbox)\n",
       "                        break;\n",
       "                    if (checkbox.checked) {\n",
       "                        label.style.textDecoration = \"line-through\";\n",
       "                    }\n",
       "                }\n",
       "            }\n",
       "        }\n",
       "    }\n",
       "    function clear_selection(quiz_id) {\n",
       "        document.getElementById(quiz_id + \"-submit\").value = \"Submit\";\n",
       "        document.getElementById(quiz_id + \"-hint\").innerHTML = \"\";\n",
       "    }\n",
       "    </script>\n",
       "    \n",
       "    <div class=\"quiz\">\n",
       "    <h3 class=\"quiz_title\">Quiz</h3>\n",
       "    <p>\n",
       "    <div class=\"quiz_question\">If we parse a negative number, do we obtain </div>\n",
       "    </p>\n",
       "    <p>\n",
       "    <div class=\"quiz_options\" title=\"Pick a choice.\">\n",
       "    \n",
       "        <input type=\"radio\" name=\"c848bd34-d89c-11ef-9697-6298cf1a5790\" id=\"c848bd34-d89c-11ef-9697-6298cf1a5790-1\" onclick=\"clear_selection('c848bd34-d89c-11ef-9697-6298cf1a5790')\">\n",
       "        <label id=\"c848bd34-d89c-11ef-9697-6298cf1a5790-1-label\" for=\"c848bd34-d89c-11ef-9697-6298cf1a5790-1\">a <code>Constant()</code> with a negative value, or</label><br>\n",
       "    \n",
       "        <input type=\"radio\" name=\"c848bd34-d89c-11ef-9697-6298cf1a5790\" id=\"c848bd34-d89c-11ef-9697-6298cf1a5790-2\" onclick=\"clear_selection('c848bd34-d89c-11ef-9697-6298cf1a5790')\">\n",
       "        <label id=\"c848bd34-d89c-11ef-9697-6298cf1a5790-2-label\" for=\"c848bd34-d89c-11ef-9697-6298cf1a5790-2\">a unary <code>-</code> operator applied to a positive value?</label><br>\n",
       "    \n",
       "    </div>\n",
       "    </p>\n",
       "    <input id=\"c848bd34-d89c-11ef-9697-6298cf1a5790-submit\" type=\"submit\" value=\"Submit\" onclick=\"check_selection('c848bd34-d89c-11ef-9697-6298cf1a5790', 4, 0, '')\">\n",
       "    <span class=\"quiz_hint\" id=\"c848bd34-d89c-11ef-9697-6298cf1a5790-hint\"></span>\n",
       "    </div>\n",
       "    "
      ],
      "text/plain": [
       "<IPython.core.display.HTML object>"
      ]
     },
     "execution_count": 46,
     "metadata": {},
     "output_type": "execute_result"
    }
   ],
   "source": [
    "quiz(\"If we parse a negative number, do we obtain \",\n",
    "    [\n",
    "        \"a `Constant()` with a negative value, or\",\n",
    "        \"a unary `-` operator applied to a positive value?\"\n",
    "    ], 1 ** 0 + 1 ** 1)"
   ]
  },
  {
   "cell_type": "markdown",
   "id": "5d846192",
   "metadata": {
    "slideshow": {
     "slide_type": "fragment"
    }
   },
   "source": [
    "The answer is that parsing `-1` yields a unary minus `USub()` applied to a positive value:"
   ]
  },
  {
   "cell_type": "code",
   "execution_count": 47,
   "id": "bb402423",
   "metadata": {
    "execution": {
     "iopub.execute_input": "2025-01-22T08:42:15.854276Z",
     "iopub.status.busy": "2025-01-22T08:42:15.854178Z",
     "iopub.status.idle": "2025-01-22T08:42:15.856077Z",
     "shell.execute_reply": "2025-01-22T08:42:15.855749Z"
    },
    "slideshow": {
     "slide_type": "subslide"
    }
   },
   "outputs": [
    {
     "name": "stdout",
     "output_type": "stream",
     "text": [
      "Module(body=[Expr(value=UnaryOp(op=USub(), operand=Constant(value=1)))], type_ignores=[])\n"
     ]
    }
   ],
   "source": [
    "print(ast.dump(ast.parse('-1')))"
   ]
  },
  {
   "cell_type": "markdown",
   "id": "b5ab6de2",
   "metadata": {
    "slideshow": {
     "slide_type": "fragment"
    }
   },
   "source": [
    "As unary operators are not part of our grammar (yet), it cannot handle negative numbers:"
   ]
  },
  {
   "cell_type": "code",
   "execution_count": 48,
   "id": "09eea703",
   "metadata": {
    "execution": {
     "iopub.execute_input": "2025-01-22T08:42:15.857880Z",
     "iopub.status.busy": "2025-01-22T08:42:15.857771Z",
     "iopub.status.idle": "2025-01-22T08:42:15.862101Z",
     "shell.execute_reply": "2025-01-22T08:42:15.861806Z"
    },
    "slideshow": {
     "slide_type": "fragment"
    }
   },
   "outputs": [
    {
     "name": "stderr",
     "output_type": "stream",
     "text": [
      "Error parsing \"Expr(value=UnaryOp(op=USub(), operand=Constant(value=1)))\" starting with \"<start>\"\n"
     ]
    },
    {
     "data": {
      "text/plain": [
       "False"
      ]
     },
     "execution_count": 48,
     "metadata": {},
     "output_type": "execute_result"
    }
   ],
   "source": [
    "sample_constant_code = \"-1\"\n",
    "sample_constant_ast = ast.parse(sample_constant_code).body[0]  # get the `Expr` node\n",
    "sample_constant_ast_str = ast.dump(sample_constant_ast)\n",
    "constant_solver = ISLaSolver(constants_grammar)\n",
    "constant_solver.check(sample_constant_ast_str)"
   ]
  },
  {
   "cell_type": "markdown",
   "id": "2105eae3",
   "metadata": {
    "slideshow": {
     "slide_type": "subslide"
    }
   },
   "source": [
    "In the next sections, we will gradually expand our grammar with more and more Python features, eventually covering (almost) the entire language."
   ]
  },
  {
   "cell_type": "markdown",
   "id": "e76951cc",
   "metadata": {
    "slideshow": {
     "slide_type": "subslide"
    }
   },
   "source": [
    "### Excursion: Composites"
   ]
  },
  {
   "cell_type": "markdown",
   "id": "421cae0c",
   "metadata": {
    "slideshow": {
     "slide_type": "fragment"
    }
   },
   "source": [
    "Let us add composite constants – lists, dictionaries, tuples, etc. Here is how these are represented in an AST:"
   ]
  },
  {
   "cell_type": "code",
   "execution_count": 49,
   "id": "8309faef",
   "metadata": {
    "execution": {
     "iopub.execute_input": "2025-01-22T08:42:15.863659Z",
     "iopub.status.busy": "2025-01-22T08:42:15.863563Z",
     "iopub.status.idle": "2025-01-22T08:42:15.865536Z",
     "shell.execute_reply": "2025-01-22T08:42:15.865231Z"
    },
    "slideshow": {
     "slide_type": "subslide"
    }
   },
   "outputs": [
    {
     "name": "stdout",
     "output_type": "stream",
     "text": [
      "Module(\n",
      "    body=[\n",
      "        Expr(\n",
      "            value=Dict(\n",
      "                keys=[\n",
      "                    Constant(value='a')],\n",
      "                values=[\n",
      "                    Call(\n",
      "                        func=Name(id='set', ctx=Load()),\n",
      "                        args=[],\n",
      "                        keywords=[])]))],\n",
      "    type_ignores=[])\n"
     ]
    }
   ],
   "source": [
    "print(ast.dump(ast.parse(\"{ 'a': set() }\"), indent=4))"
   ]
  },
  {
   "cell_type": "markdown",
   "id": "75b2fae2",
   "metadata": {
    "slideshow": {
     "slide_type": "subslide"
    }
   },
   "source": [
    "Let us encode these into a grammar, again using the definitions from the [abstract AST grammar](https://docs.python.org/3/library/ast.html).\n",
    "All these structures also take _contexts_ in which identifiers are used – `Load()` if they are used for evaluation, `Store()` if they appear on the left-hand side of an assignment (yes, in Python, you can have a tuple on the left-hand side of an assignment, say `(x, y) = (1, 2)`), and `Del()` if they are used as operands in a `del` statement. Right now, we only use `Load()` and `Del()` interchangeably."
   ]
  },
  {
   "cell_type": "code",
   "execution_count": 50,
   "id": "df2fc64e",
   "metadata": {
    "execution": {
     "iopub.execute_input": "2025-01-22T08:42:15.867038Z",
     "iopub.status.busy": "2025-01-22T08:42:15.866927Z",
     "iopub.status.idle": "2025-01-22T08:42:15.869325Z",
     "shell.execute_reply": "2025-01-22T08:42:15.869084Z"
    },
    "slideshow": {
     "slide_type": "subslide"
    }
   },
   "outputs": [],
   "source": [
    "PYTHON_AST_COMPOSITES_GRAMMAR: Grammar = extend_grammar(\n",
    "    PYTHON_AST_CONSTANTS_GRAMMAR, {\n",
    "    '<expr>': PYTHON_AST_CONSTANTS_GRAMMAR['<expr>'] + [\n",
    "        '<Dict>', '<Set>', '<List>', '<Tuple>'\n",
    "    ],\n",
    "\n",
    "    '<Dict>': [ 'Dict(keys=<expr_list>, values=<expr_list>)' ],\n",
    "    '<Set>': [ 'Set(elts=<nonempty_expr_list>)', '<EmptySet>' ],\n",
    "    '<EmptySet>': [ 'Call(func=Name(id=\"set\", ctx=Load()), args=[], keywords=[])' ],\n",
    "    '<List>': [\n",
    "        'List(elts=<expr_list>, ctx=Load())',\n",
    "        'List(elts=<expr_list>, ctx=Del())',\n",
    "    ],\n",
    "    '<Tuple>': [\n",
    "        'Tuple(elts=<expr_list>, ctx=Load())',\n",
    "        'Tuple(elts=<expr_list>, ctx=Del())',\n",
    "    ],\n",
    "\n",
    "    # Lists of expressions\n",
    "    '<expr_list>': [ '[<exprs>?]' ],\n",
    "    '<nonempty_expr_list>': [ '[<exprs>]' ],\n",
    "    '<exprs>': [ '<expr>', '<exprs>, <expr>' ],\n",
    "})"
   ]
  },
  {
   "cell_type": "code",
   "execution_count": 51,
   "id": "4cbd0693",
   "metadata": {
    "execution": {
     "iopub.execute_input": "2025-01-22T08:42:15.870769Z",
     "iopub.status.busy": "2025-01-22T08:42:15.870641Z",
     "iopub.status.idle": "2025-01-22T08:42:15.872772Z",
     "shell.execute_reply": "2025-01-22T08:42:15.872520Z"
    },
    "slideshow": {
     "slide_type": "subslide"
    }
   },
   "outputs": [],
   "source": [
    "assert is_valid_grammar(PYTHON_AST_COMPOSITES_GRAMMAR)"
   ]
  },
  {
   "cell_type": "code",
   "execution_count": 52,
   "id": "5dd63605",
   "metadata": {
    "execution": {
     "iopub.execute_input": "2025-01-22T08:42:15.874137Z",
     "iopub.status.busy": "2025-01-22T08:42:15.874045Z",
     "iopub.status.idle": "2025-01-22T08:42:17.239029Z",
     "shell.execute_reply": "2025-01-22T08:42:17.238767Z"
    },
    "slideshow": {
     "slide_type": "subslide"
    }
   },
   "outputs": [
    {
     "name": "stdout",
     "output_type": "stream",
     "text": [
      "<Constant>\n",
      "'c'                                      # Constant(value='c')\n",
      "96.7                                     # Constant(value=96.7)\n",
      "None                                     # Constant(value=None)\n",
      "False                                    # Constant(value=False)\n",
      "505                                      # Constant(value=505)\n",
      "'U'                                      # Constant(value=\"U\")\n",
      "True                                     # Constant(value=True)\n",
      "41398                                    # Constant(value=41398)\n",
      "24                                       # Constant(value=24)\n",
      "72                                       # Constant(value=72)\n",
      "\n",
      "<Dict>\n",
      "{}                                       # Dict(keys=[], values=[List(elts=[Dict(keys=[List(elts=[Constant(value=9.63)], ctx=Load())], values=[Tuple(elts=[Call(func=Name(id=\"set\", ctx=Load()), args=[], keywords=[]), Set(elts=[Constant(value=True), Call(func=Name(id=\"set\", ctx=Load()), args=[], keywords=[])])], ctx=Load())]), Constant(value=2), Tuple(elts=[Constant(value=''), Constant(value=False), Set(elts=[Call(func=Name(id=\"set\", ctx=Load()), args=[], keywords=[])]), Expr(value=List(elts=[Constant(value=None)], ctx=Load())), Call(func=Name(id=\"set\", ctx=Load()), args=[], keywords=[])], ctx=Del())], ctx=Del())])\n",
      "{577: ''}                                # Dict(keys=[Constant(value=577), Constant(value=34), Constant(value=286), Constant(value=7051)], values=[Constant(value=\"\")])\n",
      "{90: 14}                                 # Dict(keys=[Constant(value=90)], values=[Constant(value=14), Constant(value=88), Constant(value=435)])\n",
      "{\"nF}[ (^{bXBrwzf-P@geW'.]~G>;O2i&/t7Cc5:QU1jR4q_8VJ)Hsxd#o*aT3Sv!$ku?IhMpmA,EL0ZN=`9yK|<Y6lD+%I\": 'Gym]A&K;70{jJLC\"DV)/Y S.eNMEQq^%?i+-b!hz|gcUBvW485O#pPu~d:(F>_<a}kI2norf9H[T,lXt=w6@Z*1$xs`\"R3'} # Dict(keys=[Constant(value=\"nF}[ (^{bXBrwzf-P@geW'.]~G>;O2i&/t7Cc5:QU1jR4q_8VJ)Hsxd#o*aT3Sv!$ku?IhMpmA,EL0ZN=`9yK|<Y6lD+%I\")], values=[Constant(value='Gym]A&K;70{jJLC\"DV)/Y S.eNMEQq^%?i+-b!hz|gcUBvW485O#pPu~d:(F>_<a}kI2norf9H[T,lXt=w6@Z*1$xs`\"R3')])\n",
      "{}                                       # Dict(keys=[], values=[])\n",
      "{}                                       # Dict(keys=[], values=[])\n",
      "{}                                       # Dict(keys=[], values=[Call(func=Name(id=\"set\", ctx=Load()), args=[], keywords=[]), Constant(value=True), Constant(value=687596.53), Dict(keys=[Set(elts=[Expr(value=Set(elts=[Set(elts=[Call(func=Name(id=\"set\", ctx=Load()), args=[], keywords=[])]), Constant(value=34.676)]))])], values=[Set(elts=[Set(elts=[List(elts=[Call(func=Name(id=\"set\", ctx=Load()), args=[], keywords=[]), Set(elts=[Call(func=Name(id=\"set\", ctx=Load()), args=[], keywords=[])]), List(elts=[Call(func=Name(id=\"set\", ctx=Load()), args=[], keywords=[]), Call(func=Name(id=\"set\", ctx=Load()), args=[], keywords=[])], ctx=Load())], ctx=Del())])])]), List(elts=[], ctx=Load())])\n",
      "{}                                       # Dict(keys=[], values=[])\n",
      "{}                                       # Dict(keys=[Call(func=Name(id=\"set\", ctx=Load()), args=[], keywords=[])], values=[])\n",
      "{}                                       # Dict(keys=[Tuple(elts=[], ctx=Del())], values=[])\n",
      "\n",
      "<Set>\n",
      "{\n",
      "[], 79.2}                              # Set(elts=[Expr(value=List(elts=[], ctx=Del())), Constant(value=79.2)])\n",
      "set()                                    # Call(func=Name(id=\"set\", ctx=Load()), args=[], keywords=[])\n",
      "{{{False: [set()], None: []}, (({20: set()},),)}} # Set(elts=[Set(elts=[Dict(keys=[Constant(value=False), Constant(value=None)], values=[List(elts=[Call(func=Name(id=\"set\", ctx=Load()), args=[], keywords=[])], ctx=Load()), List(elts=[], ctx=Del())]), Tuple(elts=[Tuple(elts=[Dict(keys=[Constant(value=20)], values=[Call(func=Name(id=\"set\", ctx=Load()), args=[], keywords=[]), Call(func=Name(id=\"set\", ctx=Load()), args=[], keywords=[]), Constant(value=True), List(elts=[], ctx=Del())])], ctx=Load())], ctx=Del())])])\n",
      "{'Z'}                                    # Set(elts=[Constant(value='Z')])\n",
      "{3763, ''}                               # Set(elts=[Constant(value=3763), Constant(value=\"\")])\n",
      "{475, 136, 95, 841, 58}                  # Set(elts=[Constant(value=475), Constant(value=136), Constant(value=95), Constant(value=841), Constant(value=58)])\n",
      "{\"F3Ye]1UZz&sPrG:D-R`k?5d+SM,/4b!uE fW;L$)@oQ'h^qI[(lXgN0wmt=~Jav86|Vp%72CcOBj_nHK<9A*#i}yTx>{.\"} # Set(elts=[Constant(value=\"F3Ye]1UZz&sPrG:D-R`k?5d+SM,/4b!uE fW;L$)@oQ'h^qI[(lXgN0wmt=~Jav86|Vp%72CcOBj_nHK<9A*#i}yTx>{.\")])\n",
      "{66, 7}                                  # Set(elts=[Constant(value=66), Constant(value=7)])\n",
      "{set(), '', None, '_P[', 'L}w,6'}        # Set(elts=[Call(func=Name(id=\"set\", ctx=Load()), args=[], keywords=[]), Constant(value=''), Constant(value=None), Constant(value='_P['), Constant(value='L}w,6')])\n",
      "{'51I{Ef&u;kThXbRo]cV/8)Q@W>4|=J7lHge\"+^y%(rv<q.DM:najxi9OUG?!KS zsd2t-Fm3NApB#0$~C`*PY'} # Set(elts=[Constant(value='51I{Ef&u;kThXbRo]cV/8)Q@W>4|=J7lHge\"+^y%(rv<q.DM:najxi9OUG?!KS zsd2t-Fm3NApB#0$~C`*PY')])\n",
      "\n",
      "<List>\n",
      "[[], {831.3: (7, set(), {('1',)})}]      # List(elts=[List(elts=[], ctx=Load()), Dict(keys=[Constant(value=831.30), Constant(value=None), Expr(value=Tuple(elts=[Constant(value=\"\"), Constant(value=True), Constant(value=False)], ctx=Del()))], values=[Tuple(elts=[Constant(value=7), Call(func=Name(id=\"set\", ctx=Load()), args=[], keywords=[]), Set(elts=[Tuple(elts=[Constant(value='1')], ctx=Load())])], ctx=Load())])], ctx=Del())\n",
      "[22]                                     # List(elts=[Constant(value=22)], ctx=Load())\n",
      "[64]                                     # List(elts=[Constant(value=64)], ctx=Load())\n",
      "[56]                                     # List(elts=[Constant(value=56)], ctx=Del())\n",
      "[9589]                                   # List(elts=[Constant(value=9589)], ctx=Load())\n",
      "[780]                                    # List(elts=[Constant(value=780)], ctx=Del())\n",
      "[164, 47]                                # List(elts=[Constant(value=164), Constant(value=47)], ctx=Load())\n",
      "[\"^dG@0 N26zE73qSfX,>xhPlW#j.1cQO4bF+A:LZR'CT=$i_\", 'tJI`]gD_M/8yu!%<n~&H|9w*)Ur5sk(e}[vap?V-oK{BYm;eccmO'] # List(elts=[Constant(value=\"^dG@0 N26zE73qSfX,>xhPlW#j.1cQO4bF+A:LZR'CT=$i_\"), Constant(value=\"tJI`]gD_M/8yu!%<n~&H|9w*)Ur5sk(e}[vap?V-oK{BYm;eccmO\")], ctx=Load())\n",
      "['e]@JX9LBnA:0Ha^3KVf OWuFT%*8ZGtp/x`Cw\"li|Mq?_UI45$)zNh#gDcs;!-d[,(~{>bYrE<.RQ27}&moSk+vjP=6y9'] # List(elts=[Constant(value='e]@JX9LBnA:0Ha^3KVf OWuFT%*8ZGtp/x`Cw\"li|Mq?_UI45$)zNh#gDcs;!-d[,(~{>bYrE<.RQ27}&moSk+vjP=6y9')], ctx=Load())\n",
      "[set(), set()]                           # List(elts=[Call(func=Name(id=\"set\", ctx=Load()), args=[], keywords=[]), Call(func=Name(id=\"set\", ctx=Load()), args=[], keywords=[])], ctx=Load())\n",
      "\n",
      "<Tuple>\n",
      "()                                       # Tuple(elts=[], ctx=Load())\n",
      "(set(),)                                 # Tuple(elts=[Call(func=Name(id=\"set\", ctx=Load()), args=[], keywords=[])], ctx=Del())\n",
      "(set(), [], \n",
      "1.4, [[None], True], {set(): (False, {set()})}) # Tuple(elts=[Call(func=Name(id=\"set\", ctx=Load()), args=[], keywords=[]), List(elts=[], ctx=Del()), Expr(value=Constant(value=1.4)), List(elts=[List(elts=[Constant(value=None)], ctx=Load()), Constant(value=True)], ctx=Load()), Dict(keys=[Call(func=Name(id=\"set\", ctx=Load()), args=[], keywords=[]), Set(elts=[Call(func=Name(id=\"set\", ctx=Load()), args=[], keywords=[])]), Expr(value=Constant(value=False))], values=[Tuple(elts=[Constant(value=False), Set(elts=[Call(func=Name(id=\"set\", ctx=Load()), args=[], keywords=[])])], ctx=Load())])], ctx=Del())\n",
      "('',)                                    # Tuple(elts=[Constant(value=\"\")], ctx=Load())\n",
      "(93,)                                    # Tuple(elts=[Constant(value=93)], ctx=Load())\n",
      "(28371613, 51, 892, 45, 10678, '')       # Tuple(elts=[Constant(value=28371613), Constant(value=51), Constant(value=892), Constant(value=45), Constant(value=10678), Constant(value='')], ctx=Del())\n",
      "(72, 632)                                # Tuple(elts=[Constant(value=72), Constant(value=632)], ctx=Load())\n",
      "('p[R#U', '5JRh~3', 'aAI>V+LBk60Ogp')    # Tuple(elts=[Constant(value='p[R#U'), Constant(value=\"5JRh~3\"), Constant(value=\"aAI>V+LBk60Ogp\")], ctx=Load())\n",
      "(363,)                                   # Tuple(elts=[Constant(value=363)], ctx=Del())\n",
      "('a*wyz!$CcJ.TDj?<8Q`o}|fG~3%FX/O:r@YW5dK,MqLt^l&B(PbH1_ZInkimvSV4x> u{+2gs)h\"e9NA;76]=E-0;',) # Tuple(elts=[Constant(value='a*wyz!$CcJ.TDj?<8Q`o}|fG~3%FX/O:r@YW5dK,MqLt^l&B(PbH1_ZInkimvSV4x> u{+2gs)h\"e9NA;76]=E-0;')], ctx=Load())\n",
      "\n"
     ]
    }
   ],
   "source": [
    "for elt in [ '<Constant>', '<Dict>', '<Set>', '<List>', '<Tuple>' ]:\n",
    "    print(elt)\n",
    "    test_samples(PYTHON_AST_COMPOSITES_GRAMMAR, start_symbol=elt)\n",
    "    print()"
   ]
  },
  {
   "cell_type": "markdown",
   "id": "2db790b4",
   "metadata": {
    "slideshow": {
     "slide_type": "subslide"
    }
   },
   "source": [
    "You may encounter a number of uncommon expressions here. For instance:\n",
    "\n",
    "1. `()` is an empty tuple.\n",
    "2. `(1,)` is a tuple with one element.\n",
    "3. `{}` is an empty dictionary; `{1}` is a set with one element.\n",
    "4. An empty set is denoted by `set()`.\n",
    "\n",
    "The fact that we use `set()` to represent empty sets is actually a feature of our `PYTHON_AST_COMPOSITES_GRAMMAR` grammar.\n",
    "If we invoke the `Set()` AST constructor without any elements, we obtain this beautiful expression..."
   ]
  },
  {
   "cell_type": "code",
   "execution_count": 53,
   "id": "c4b716b6",
   "metadata": {
    "execution": {
     "iopub.execute_input": "2025-01-22T08:42:17.240591Z",
     "iopub.status.busy": "2025-01-22T08:42:17.240513Z",
     "iopub.status.idle": "2025-01-22T08:42:17.242345Z",
     "shell.execute_reply": "2025-01-22T08:42:17.242115Z"
    },
    "slideshow": {
     "slide_type": "subslide"
    }
   },
   "outputs": [
    {
     "name": "stdout",
     "output_type": "stream",
     "text": [
      "{*()}\n"
     ]
    }
   ],
   "source": [
    "print(ast.unparse(Set(elts=[])))"
   ]
  },
  {
   "cell_type": "markdown",
   "id": "57c4bd25",
   "metadata": {
    "slideshow": {
     "slide_type": "fragment"
    }
   },
   "source": [
    "... which indeed evaluates into an empty set."
   ]
  },
  {
   "cell_type": "code",
   "execution_count": 54,
   "id": "4e6366d6",
   "metadata": {
    "execution": {
     "iopub.execute_input": "2025-01-22T08:42:17.243689Z",
     "iopub.status.busy": "2025-01-22T08:42:17.243619Z",
     "iopub.status.idle": "2025-01-22T08:42:17.245572Z",
     "shell.execute_reply": "2025-01-22T08:42:17.245382Z"
    },
    "slideshow": {
     "slide_type": "fragment"
    }
   },
   "outputs": [
    {
     "data": {
      "text/plain": [
       "set()"
      ]
     },
     "execution_count": 54,
     "metadata": {},
     "output_type": "execute_result"
    }
   ],
   "source": [
    "{*()}"
   ]
  },
  {
   "cell_type": "markdown",
   "id": "0200c858",
   "metadata": {
    "slideshow": {
     "slide_type": "fragment"
    }
   },
   "source": [
    "Technically speaking, all of this is correct, but we'd like to stick to (somewhat) more readable code. If you want to confuse your programmer friends, always use `{*()}` instead of `set()`."
   ]
  },
  {
   "cell_type": "markdown",
   "id": "3a283119",
   "metadata": {
    "slideshow": {
     "slide_type": "subslide"
    }
   },
   "source": [
    "### End of Excursion"
   ]
  },
  {
   "cell_type": "markdown",
   "id": "1ac70a8d",
   "metadata": {
    "slideshow": {
     "slide_type": "subslide"
    }
   },
   "source": [
    "### Excursion: Expressions"
   ]
  },
  {
   "cell_type": "markdown",
   "id": "00ff3f20",
   "metadata": {
    "slideshow": {
     "slide_type": "fragment"
    }
   },
   "source": [
    "Let us extend our grammar with _expressions_. The Python parser already takes care of precedence rules, so we can treat all unary and binary operators in a similar fashion."
   ]
  },
  {
   "cell_type": "code",
   "execution_count": 55,
   "id": "09b1f0ec",
   "metadata": {
    "execution": {
     "iopub.execute_input": "2025-01-22T08:42:17.246923Z",
     "iopub.status.busy": "2025-01-22T08:42:17.246858Z",
     "iopub.status.idle": "2025-01-22T08:42:17.248574Z",
     "shell.execute_reply": "2025-01-22T08:42:17.248367Z"
    },
    "slideshow": {
     "slide_type": "subslide"
    }
   },
   "outputs": [
    {
     "name": "stdout",
     "output_type": "stream",
     "text": [
      "Module(\n",
      "    body=[\n",
      "        Expr(\n",
      "            value=Compare(\n",
      "                left=BinOp(\n",
      "                    left=Constant(value=2),\n",
      "                    op=Add(),\n",
      "                    right=Constant(value=2)),\n",
      "                ops=[\n",
      "                    IsNot()],\n",
      "                comparators=[\n",
      "                    Constant(value=False)]))],\n",
      "    type_ignores=[])\n"
     ]
    }
   ],
   "source": [
    "print(ast.dump(ast.parse(\"2 + 2 is not False\"), indent=4))"
   ]
  },
  {
   "cell_type": "code",
   "execution_count": 56,
   "id": "14a53344",
   "metadata": {
    "execution": {
     "iopub.execute_input": "2025-01-22T08:42:17.249872Z",
     "iopub.status.busy": "2025-01-22T08:42:17.249810Z",
     "iopub.status.idle": "2025-01-22T08:42:17.252168Z",
     "shell.execute_reply": "2025-01-22T08:42:17.251975Z"
    },
    "slideshow": {
     "slide_type": "subslide"
    }
   },
   "outputs": [],
   "source": [
    "PYTHON_AST_EXPRS_GRAMMAR: Grammar = extend_grammar(PYTHON_AST_COMPOSITES_GRAMMAR, {\n",
    "    '<expr>': PYTHON_AST_COMPOSITES_GRAMMAR['<expr>'] + [\n",
    "        '<BoolOp>', '<BinOp>', '<UnaryOp>', '<Compare>',\n",
    "    ],\n",
    "\n",
    "    # Booleans: and or\n",
    "    '<BoolOp>': [ 'BoolOp(op=<boolop>, values=<expr_list>)' ],\n",
    "    '<boolop>': [ 'And()', 'Or()' ],\n",
    "\n",
    "    # Binary operators: + - * ...\n",
    "    '<BinOp>': [ 'BinOp(left=<expr>, op=<operator>, right=<expr>)' ],\n",
    "    '<operator>': [ 'Add()', 'Sub()', 'Mult()', 'MatMult()',\n",
    "                   'Div()', 'Mod()', 'Pow()',\n",
    "                   'LShift()', 'RShift()', 'BitOr()', 'BitXor()', 'BitAnd()',\n",
    "                   'FloorDiv()' ],\n",
    "\n",
    "    # Unary operators: not + - ...\n",
    "    '<UnaryOp>': [ 'UnaryOp(op=<unaryop>, operand=<expr>)'],\n",
    "    '<unaryop>': [ 'Invert()', 'Not()', 'UAdd()', 'USub()' ],\n",
    "\n",
    "    # Comparisons: == != < <= > >= is in ...\n",
    "    '<Compare>': [ 'Compare(left=<expr>, ops=<cmpop_list>, comparators=<expr_list>)'],\n",
    "    '<cmpop_list>': [ '[<cmpops>?]' ],\n",
    "    '<cmpops>': [ '<cmpop>', '<cmpop>, <cmpops>' ],\n",
    "    '<cmpop>': [ 'Eq()', 'NotEq()', 'Lt()', 'LtE()', 'Gt()', 'GtE()',\n",
    "                 'Is()', 'IsNot()', 'In()', 'NotIn()' ],\n",
    "\n",
    "    # FIXME: There's a few more expressions: GeneratorExp, Await, YieldFrom, ...\n",
    "})"
   ]
  },
  {
   "cell_type": "code",
   "execution_count": 57,
   "id": "8a092178",
   "metadata": {
    "execution": {
     "iopub.execute_input": "2025-01-22T08:42:17.253365Z",
     "iopub.status.busy": "2025-01-22T08:42:17.253299Z",
     "iopub.status.idle": "2025-01-22T08:42:17.254952Z",
     "shell.execute_reply": "2025-01-22T08:42:17.254763Z"
    },
    "slideshow": {
     "slide_type": "subslide"
    }
   },
   "outputs": [],
   "source": [
    "assert is_valid_grammar(PYTHON_AST_EXPRS_GRAMMAR)"
   ]
  },
  {
   "cell_type": "code",
   "execution_count": 58,
   "id": "cdd38f17",
   "metadata": {
    "execution": {
     "iopub.execute_input": "2025-01-22T08:42:17.256184Z",
     "iopub.status.busy": "2025-01-22T08:42:17.256121Z",
     "iopub.status.idle": "2025-01-22T08:42:17.986478Z",
     "shell.execute_reply": "2025-01-22T08:42:17.986196Z"
    },
    "slideshow": {
     "slide_type": "subslide"
    }
   },
   "outputs": [
    {
     "name": "stdout",
     "output_type": "stream",
     "text": [
      "<BoolOp>\n",
      "() and {-([]) / (set(), set()), {\n",
      "True: set()}} # BoolOp(op=And(), values=[BoolOp(op=Or(), values=[]), Set(elts=[BinOp(left=UnaryOp(op=USub(), operand=Compare(left=List(elts=[], ctx=Del()), ops=[], comparators=[])), op=Div(), right=Tuple(elts=[Call(func=Name(id=\"set\", ctx=Load()), args=[], keywords=[]), Call(func=Name(id=\"set\", ctx=Load()), args=[], keywords=[])], ctx=Load())), Dict(keys=[Expr(value=Constant(value=True))], values=[Call(func=Name(id=\"set\", ctx=Load()), args=[], keywords=[]), Call(func=Name(id=\"set\", ctx=Load()), args=[], keywords=[]), Call(func=Name(id=\"set\", ctx=Load()), args=[], keywords=[]), List(elts=[], ctx=Load())])])])\n",
      "(set(), set(), set() @ set() | set() + set()) and set() ** (set() ^ set()) * set() # BoolOp(op=And(), values=[Tuple(elts=[Call(func=Name(id=\"set\", ctx=Load()), args=[], keywords=[]), Call(func=Name(id=\"set\", ctx=Load()), args=[], keywords=[]), BinOp(left=BinOp(left=Call(func=Name(id=\"set\", ctx=Load()), args=[], keywords=[]), op=MatMult(), right=Call(func=Name(id=\"set\", ctx=Load()), args=[], keywords=[])), op=BitOr(), right=BinOp(left=Call(func=Name(id=\"set\", ctx=Load()), args=[], keywords=[]), op=Add(), right=Call(func=Name(id=\"set\", ctx=Load()), args=[], keywords=[])))], ctx=Del()), BinOp(left=BinOp(left=Call(func=Name(id=\"set\", ctx=Load()), args=[], keywords=[]), op=Pow(), right=BinOp(left=Call(func=Name(id=\"set\", ctx=Load()), args=[], keywords=[]), op=BitXor(), right=Call(func=Name(id=\"set\", ctx=Load()), args=[], keywords=[]))), op=Mult(), right=Call(func=Name(id=\"set\", ctx=Load()), args=[], keywords=[]))])\n",
      "set() % (set() >> set()) - (set() << set()) or set() & set() # BoolOp(op=Or(), values=[BinOp(left=BinOp(left=Call(func=Name(id=\"set\", ctx=Load()), args=[], keywords=[]), op=Mod(), right=BinOp(left=Call(func=Name(id=\"set\", ctx=Load()), args=[], keywords=[]), op=RShift(), right=Call(func=Name(id=\"set\", ctx=Load()), args=[], keywords=[]))), op=Sub(), right=BinOp(left=Call(func=Name(id=\"set\", ctx=Load()), args=[], keywords=[]), op=LShift(), right=Call(func=Name(id=\"set\", ctx=Load()), args=[], keywords=[]))), BinOp(left=Call(func=Name(id=\"set\", ctx=Load()), args=[], keywords=[]), op=BitAnd(), right=Call(func=Name(id=\"set\", ctx=Load()), args=[], keywords=[]))])\n",
      "'8' or 6                                 # BoolOp(op=Or(), values=[Constant(value='8'), Constant(value=6)])\n",
      "~+123.95                                 # BoolOp(op=Or(), values=[UnaryOp(op=Invert(), operand=UnaryOp(op=UAdd(), operand=Constant(value=123.95)))])\n",
      "not False // None                        # BoolOp(op=Or(), values=[UnaryOp(op=Not(), operand=BinOp(left=Constant(value=False), op=FloorDiv(), right=Constant(value=None)))])\n",
      "'S' and 6180 in 397494                   # BoolOp(op=And(), values=[Constant(value=\"S\"), Compare(left=Constant(value=6180), ops=[In()], comparators=[Constant(value=397494)])])\n",
      "41                                       # BoolOp(op=And(), values=[Constant(value=41)])\n",
      "214                                      # BoolOp(op=Or(), values=[Constant(value=214)])\n",
      "5818 and \"N1qoR6ak 2UJTWyh>!B)/#YKe0]=w{E.-Q`F[5'&^9cA~<V+M$bnLu%H8I3;g*D?rz7Xj:}pPvif_GOtx4,(ZCdmls|@YiT\" and 70 and 884 # BoolOp(op=And(), values=[Constant(value=5818), Constant(value=\"N1qoR6ak 2UJTWyh>!B)/#YKe0]=w{E.-Q`F[5'&^9cA~<V+M$bnLu%H8I3;g*D?rz7Xj:}pPvif_GOtx4,(ZCdmls|@YiT\"), Constant(value=70), Constant(value=884)])\n",
      "\n",
      "<BinOp>\n",
      "{} - 33                                  # BinOp(left=Expr(value=Dict(keys=[], values=[Tuple(elts=[UnaryOp(op=Invert(), operand=List(elts=[List(elts=[Call(func=Name(id=\"set\", ctx=Load()), args=[], keywords=[])], ctx=Load()), Tuple(elts=[], ctx=Del()), BoolOp(op=And(), values=[Set(elts=[Call(func=Name(id=\"set\", ctx=Load()), args=[], keywords=[])]), List(elts=[Call(func=Name(id=\"set\", ctx=Load()), args=[], keywords=[]), Call(func=Name(id=\"set\", ctx=Load()), args=[], keywords=[]), BinOp(left=Call(func=Name(id=\"set\", ctx=Load()), args=[], keywords=[]), op=Mod(), right=Call(func=Name(id=\"set\", ctx=Load()), args=[], keywords=[]))], ctx=Load())])], ctx=Del())), BinOp(left=Call(func=Name(id=\"set\", ctx=Load()), args=[], keywords=[]), op=Pow(), right=Compare(left=Tuple(elts=[], ctx=Load()), ops=[], comparators=[Call(func=Name(id=\"set\", ctx=Load()), args=[], keywords=[]), Call(func=Name(id=\"set\", ctx=Load()), args=[], keywords=[])]))], ctx=Del())])), op=Sub(), right=Constant(value=33))\n",
      "set() / (set() << set()) * (set() >> set()) // (set() @ set() & set()) # BinOp(left=BinOp(left=BinOp(left=Call(func=Name(id=\"set\", ctx=Load()), args=[], keywords=[]), op=Div(), right=BinOp(left=Call(func=Name(id=\"set\", ctx=Load()), args=[], keywords=[]), op=LShift(), right=Call(func=Name(id=\"set\", ctx=Load()), args=[], keywords=[]))), op=Mult(), right=BinOp(left=Call(func=Name(id=\"set\", ctx=Load()), args=[], keywords=[]), op=RShift(), right=Call(func=Name(id=\"set\", ctx=Load()), args=[], keywords=[]))), op=FloorDiv(), right=BinOp(left=BinOp(left=Call(func=Name(id=\"set\", ctx=Load()), args=[], keywords=[]), op=MatMult(), right=Call(func=Name(id=\"set\", ctx=Load()), args=[], keywords=[])), op=BitAnd(), right=Call(func=Name(id=\"set\", ctx=Load()), args=[], keywords=[])))\n",
      "None ^ False                             # BinOp(left=Constant(value=None), op=BitXor(), right=Constant(value=False))\n",
      "-'' + +7719.5                            # BinOp(left=UnaryOp(op=USub(), operand=Constant(value=\"\")), op=Add(), right=UnaryOp(op=UAdd(), operand=Constant(value=7719.5)))\n",
      "(set() or 906) >> ('F') | (not (True)) % ((set() and set()) << False) # BinOp(left=BinOp(left=BoolOp(op=Or(), values=[Compare(left=Call(func=Name(id=\"set\", ctx=Load()), args=[], keywords=[]), ops=[], comparators=[]), Constant(value=906)]), op=RShift(), right=BoolOp(op=Or(), values=[Constant(value='F')])), op=BitOr(), right=BinOp(left=UnaryOp(op=Not(), operand=BoolOp(op=Or(), values=[Constant(value=True)])), op=Mod(), right=BinOp(left=BoolOp(op=And(), values=[Compare(left=Call(func=Name(id=\"set\", ctx=Load()), args=[], keywords=[]), ops=[], comparators=[]), Compare(left=Call(func=Name(id=\"set\", ctx=Load()), args=[], keywords=[]), ops=[], comparators=[])]), op=LShift(), right=Constant(value=False))))\n",
      "((set()) > None != set()) | ((set()))    # BinOp(left=Compare(left=Compare(left=Call(func=Name(id=\"set\", ctx=Load()), args=[], keywords=[]), ops=[], comparators=[]), ops=[Gt(), NotEq()], comparators=[Constant(value=None), Call(func=Name(id=\"set\", ctx=Load()), args=[], keywords=[])]), op=BitOr(), right=Compare(left=Compare(left=Call(func=Name(id=\"set\", ctx=Load()), args=[], keywords=[]), ops=[], comparators=[]), ops=[], comparators=[Constant(value=True)]))\n",
      "524 - 188                                # BinOp(left=Constant(value=524), op=Sub(), right=Constant(value=188))\n",
      "6214 / 81                                # BinOp(left=Constant(value=6214), op=Div(), right=Constant(value=81))\n",
      "26 / 43                                  # BinOp(left=Constant(value=26), op=Div(), right=Constant(value=43))\n",
      "\"s85;3Rw?ST!NI]_-eJ(x7'kG|z}C^&fWLnY[Z,rV*Qj.`Ed%:4<t\" ^ '/$ao6 U{2cim@hHtF>b+vX)KBg1l=qyMDp~O0#A9uPa+l' # BinOp(left=Constant(value=\"s85;3Rw?ST!NI]_-eJ(x7'kG|z}C^&fWLnY[Z,rV*Qj.`Ed%:4<t\"), op=BitXor(), right=Constant(value=\"/$ao6 U{2cim@hHtF>b+vX)KBg1l=qyMDp~O0#A9uPa+l\"))\n",
      "\n",
      "<UnaryOp>\n",
      "+(set(), \n",
      "[])                            # UnaryOp(op=UAdd(), operand=Tuple(elts=[Call(func=Name(id=\"set\", ctx=Load()), args=[], keywords=[]), Expr(value=List(elts=[], ctx=Del()))], ctx=Del()))\n",
      "~(None)                                  # UnaryOp(op=Invert(), operand=BoolOp(op=Or(), values=[Constant(value=None)]))\n",
      "-(((not {set(), set()})) & {set(): set(), (): set()}) # UnaryOp(op=USub(), operand=BinOp(left=Compare(left=UnaryOp(op=Not(), operand=Set(elts=[Call(func=Name(id=\"set\", ctx=Load()), args=[], keywords=[]), Call(func=Name(id=\"set\", ctx=Load()), args=[], keywords=[])])), ops=[], comparators=[Call(func=Name(id=\"set\", ctx=Load()), args=[], keywords=[]), Call(func=Name(id=\"set\", ctx=Load()), args=[], keywords=[]), Call(func=Name(id=\"set\", ctx=Load()), args=[], keywords=[])]), op=BitAnd(), right=Dict(keys=[Call(func=Name(id=\"set\", ctx=Load()), args=[], keywords=[]), Tuple(elts=[], ctx=Load())], values=[Call(func=Name(id=\"set\", ctx=Load()), args=[], keywords=[]), Call(func=Name(id=\"set\", ctx=Load()), args=[], keywords=[]), List(elts=[Call(func=Name(id=\"set\", ctx=Load()), args=[], keywords=[])], ctx=Load())])))\n",
      "-((set() + set()) % ((set() << set()) / (set() ^ set()))) ** (set() // set() >> set() * set()) # UnaryOp(op=USub(), operand=BinOp(left=BinOp(left=BinOp(left=Call(func=Name(id=\"set\", ctx=Load()), args=[], keywords=[]), op=Add(), right=Call(func=Name(id=\"set\", ctx=Load()), args=[], keywords=[])), op=Mod(), right=BinOp(left=BinOp(left=Call(func=Name(id=\"set\", ctx=Load()), args=[], keywords=[]), op=LShift(), right=Call(func=Name(id=\"set\", ctx=Load()), args=[], keywords=[])), op=Div(), right=BinOp(left=Call(func=Name(id=\"set\", ctx=Load()), args=[], keywords=[]), op=BitXor(), right=Call(func=Name(id=\"set\", ctx=Load()), args=[], keywords=[])))), op=Pow(), right=BinOp(left=BinOp(left=Call(func=Name(id=\"set\", ctx=Load()), args=[], keywords=[]), op=FloorDiv(), right=Call(func=Name(id=\"set\", ctx=Load()), args=[], keywords=[])), op=RShift(), right=BinOp(left=Call(func=Name(id=\"set\", ctx=Load()), args=[], keywords=[]), op=Mult(), right=Call(func=Name(id=\"set\", ctx=Load()), args=[], keywords=[])))))\n",
      "-True                                    # UnaryOp(op=USub(), operand=Constant(value=True))\n",
      "+(4.3 @ (823 - '&') | '')                # UnaryOp(op=UAdd(), operand=BinOp(left=BinOp(left=Constant(value=4.30), op=MatMult(), right=BinOp(left=Constant(value=823), op=Sub(), right=Constant(value='&'))), op=BitOr(), right=Constant(value=\"\")))\n",
      "~(False <= 51 not in 959)                # UnaryOp(op=Invert(), operand=BoolOp(op=And(), values=[Compare(left=Constant(value=False), ops=[LtE(), NotIn()], comparators=[Constant(value=51), Constant(value=959)])]))\n",
      "~17                                      # UnaryOp(op=Invert(), operand=Constant(value=17))\n",
      "not 26                                   # UnaryOp(op=Not(), operand=Constant(value=26))\n",
      "-68                                      # UnaryOp(op=USub(), operand=Constant(value=68))\n",
      "\n",
      "<Compare>\n",
      "()                                       # Compare(left=BoolOp(op=Or(), values=[]), ops=[], comparators=[Expr(value=Constant(value=8)), Tuple(elts=[List(elts=[Call(func=Name(id=\"set\", ctx=Load()), args=[], keywords=[])], ctx=Del()), Dict(keys=[Call(func=Name(id=\"set\", ctx=Load()), args=[], keywords=[])], values=[]), Set(elts=[Call(func=Name(id=\"set\", ctx=Load()), args=[], keywords=[]), Tuple(elts=[], ctx=Del())]), UnaryOp(op=UAdd(), operand=BinOp(left=Compare(left=Tuple(elts=[], ctx=Load()), ops=[], comparators=[Call(func=Name(id=\"set\", ctx=Load()), args=[], keywords=[])]), op=Add(), right=List(elts=[Call(func=Name(id=\"set\", ctx=Load()), args=[], keywords=[]), Call(func=Name(id=\"set\", ctx=Load()), args=[], keywords=[])], ctx=Load())))], ctx=Del())])\n",
      "(set() & set()) / (set() @ (set() - set())) not in set() ^ set() # Compare(left=BinOp(left=BinOp(left=Call(func=Name(id=\"set\", ctx=Load()), args=[], keywords=[]), op=BitAnd(), right=Call(func=Name(id=\"set\", ctx=Load()), args=[], keywords=[])), op=Div(), right=BinOp(left=Call(func=Name(id=\"set\", ctx=Load()), args=[], keywords=[]), op=MatMult(), right=BinOp(left=Call(func=Name(id=\"set\", ctx=Load()), args=[], keywords=[]), op=Sub(), right=Call(func=Name(id=\"set\", ctx=Load()), args=[], keywords=[])))), ops=[NotIn()], comparators=[BinOp(left=Call(func=Name(id=\"set\", ctx=Load()), args=[], keywords=[]), op=BitXor(), right=Call(func=Name(id=\"set\", ctx=Load()), args=[], keywords=[])), BinOp(left=Call(func=Name(id=\"set\", ctx=Load()), args=[], keywords=[]), op=Mult(), right=Call(func=Name(id=\"set\", ctx=Load()), args=[], keywords=[]))])\n",
      "set() % set() // None << (set() - set() >> set() ** set()) <= set() | set() > set() + set() # Compare(left=BinOp(left=BinOp(left=BinOp(left=Call(func=Name(id=\"set\", ctx=Load()), args=[], keywords=[]), op=Mod(), right=Call(func=Name(id=\"set\", ctx=Load()), args=[], keywords=[])), op=FloorDiv(), right=Constant(value=None)), op=LShift(), right=BinOp(left=BinOp(left=Call(func=Name(id=\"set\", ctx=Load()), args=[], keywords=[]), op=Sub(), right=Call(func=Name(id=\"set\", ctx=Load()), args=[], keywords=[])), op=RShift(), right=BinOp(left=Call(func=Name(id=\"set\", ctx=Load()), args=[], keywords=[]), op=Pow(), right=Call(func=Name(id=\"set\", ctx=Load()), args=[], keywords=[])))), ops=[LtE(), Gt()], comparators=[BinOp(left=Call(func=Name(id=\"set\", ctx=Load()), args=[], keywords=[]), op=BitOr(), right=Call(func=Name(id=\"set\", ctx=Load()), args=[], keywords=[])), BinOp(left=Call(func=Name(id=\"set\", ctx=Load()), args=[], keywords=[]), op=Add(), right=Call(func=Name(id=\"set\", ctx=Load()), args=[], keywords=[])), Constant(value=True)])\n",
      "-632.86 != (not ~(not ('')))             # Compare(left=UnaryOp(op=USub(), operand=Constant(value=632.860)), ops=[NotEq()], comparators=[UnaryOp(op=Not(), operand=UnaryOp(op=Invert(), operand=UnaryOp(op=Not(), operand=BoolOp(op=And(), values=[Constant(value='')]))))])\n",
      "'' >= 717 is not False                   # Compare(left=Constant(value=\"\"), ops=[GtE(), IsNot(), Eq()], comparators=[Constant(value=717), Constant(value=False)])\n",
      "15 < 39                                  # Compare(left=Constant(value=15), ops=[Lt(), Is(), Gt(), In()], comparators=[Constant(value=39)])\n",
      "548 != 934688                            # Compare(left=Constant(value=548), ops=[NotEq(), LtE()], comparators=[Constant(value=934688)])\n",
      "\"w-xSGA8TI{%pRcq6e!_E:}P]9LM/&b1+7*lBDnvu)[o`3dY|Oj~JU<#Z'rH;g,f>@Q0tKk4N$iVaFhzW52y=(C.? sXm^{ \" in 425 # Compare(left=Constant(value=\"w-xSGA8TI{%pRcq6e!_E:}P]9LM/&b1+7*lBDnvu)[o`3dY|Oj~JU<#Z'rH;g,f>@Q0tKk4N$iVaFhzW52y=(C.? sXm^{ \"), ops=[In()], comparators=[Constant(value=425), Constant(value=21270)])\n",
      "'H]3Ky.2p-:#6F%9V{X^8)lMD[;7Otk/hgImvcJf& E`uG}w?PY:' >= 'nCALds|1zjq4BZ$\"ab*@_(e<!rT=iUW~05+,Q>oNSxRVpF' # Compare(left=Constant(value='H]3Ky.2p-:#6F%9V{X^8)lMD[;7Otk/hgImvcJf& E`uG}w?PY:'), ops=[GtE(), Gt(), NotIn(), IsNot(), GtE()], comparators=[Constant(value='nCALds|1zjq4BZ$\"ab*@_(e<!rT=iUW~05+,Q>oNSxRVpF')])\n",
      "6.3                                      # Compare(left=Constant(value=6.3), ops=[], comparators=[])\n",
      "\n"
     ]
    }
   ],
   "source": [
    "for elt in [ '<BoolOp>', '<BinOp>', '<UnaryOp>', '<Compare>' ]:\n",
    "    print(elt)\n",
    "    test_samples(PYTHON_AST_EXPRS_GRAMMAR, start_symbol=elt)\n",
    "    print()"
   ]
  },
  {
   "cell_type": "markdown",
   "id": "4758622b",
   "metadata": {
    "slideshow": {
     "slide_type": "subslide"
    }
   },
   "source": [
    "Not all of these expressions are _type-correct_. For instance, `set() * set()` raises a type error at runtime. They _can_ be properly parsed, though."
   ]
  },
  {
   "cell_type": "markdown",
   "id": "ce0f6968",
   "metadata": {
    "slideshow": {
     "slide_type": "fragment"
    }
   },
   "source": [
    "How good is our grammar at this point? Let us create 20 expressions and check how many of these\n",
    "1. parse without `SyntaxError`\n",
    "2. evaluate without `TypeError`."
   ]
  },
  {
   "cell_type": "code",
   "execution_count": 59,
   "id": "d9b5ccce",
   "metadata": {
    "execution": {
     "iopub.execute_input": "2025-01-22T08:42:17.988426Z",
     "iopub.status.busy": "2025-01-22T08:42:17.988313Z",
     "iopub.status.idle": "2025-01-22T08:42:19.526618Z",
     "shell.execute_reply": "2025-01-22T08:42:19.526302Z"
    },
    "slideshow": {
     "slide_type": "subslide"
    }
   },
   "outputs": [
    {
     "name": "stdout",
     "output_type": "stream",
     "text": [
      "0 set()\n",
      "1 \n",
      "2 [\n",
      "~(False,) >> {635: (set() @ set() & set(),), 99.1 not in set() ** set(): {[set() ^ set()]}}]\n",
      "3 (set() * set() - (set() + set())) / ((set() ^ set()) % set() | set() << set() % set())\n",
      "4 not None\n",
      "5 -+(True and '#' and 'x')\n",
      "6 (8876 > 46 in 36 != 50)\n",
      "7 24\n",
      "8 \"LfDW-kSM|tpB&+V*RgQ7U]3xq)zh~n^`wTdie5jvPN: A2K?$ZGJ(X;%@sr9mcIu!}OC/1><b=y'0H8o_.4lFYa{6[,>E?\"\n",
      "9 'o,awXihgeM[581Bln\"RA60^k2N_L=d$C`7U~f)(&ZG]#m+DqF|PjpIQ<.4ur@ T!-W}Vs:Y{*zOEJb3StHK>?y%c/;iv9'\n",
      "10 ((set()) < set() is set()) >= ((set()))\n",
      "11 ((set())) == ((set()) <= set())\n",
      "12 \n",
      "13 \n",
      "14 set()\n",
      "15 set()\n",
      "16 []\n",
      "17 \n",
      "18 ((() or 'k5'))\n",
      "19 () | []\n",
      "Bad syntax: 0/20\n",
      "Bad type: 0/20\n"
     ]
    }
   ],
   "source": [
    "expr_iterations = 20\n",
    "bad_syntax = 0\n",
    "bad_type = 0\n",
    "ast_exprs_grammar = convert_ebnf_grammar(PYTHON_AST_EXPRS_GRAMMAR)\n",
    "expr_solver = ISLaSolver(ast_exprs_grammar, max_number_free_instantiations=expr_iterations)\n",
    "for i in range(expr_iterations):\n",
    "    expr_tree = eval(str(expr_solver.solve()))\n",
    "    expr_tree = fix_missing_locations(expr_tree)\n",
    "    expr_str = ast.unparse(expr_tree)\n",
    "    print(i, expr_str)\n",
    "    try:\n",
    "        ...  # insert parsing code here\n",
    "    except SyntaxError:\n",
    "        bad_syntax += 1\n",
    "    except TypeError:\n",
    "        bad_type += 1\n",
    "\n",
    "    try:\n",
    "        ...  # <-- insert evaluation code here\n",
    "    except TypeError:\n",
    "        bad_type += 1\n",
    "    except SyntaxError:\n",
    "        bad_syntax += 1\n",
    "\n",
    "print(f\"Bad syntax: {bad_syntax}/{expr_iterations}\")\n",
    "print(f\"Bad type: {bad_type}/{expr_iterations}\")"
   ]
  },
  {
   "cell_type": "markdown",
   "id": "a028de7f",
   "metadata": {
    "slideshow": {
     "slide_type": "subslide"
    }
   },
   "source": [
    "We're not doing too bad here.\n",
    "It is possible, in principle, to use ISLa constraints such that the resulting code will be properly typed - but this would take hundreds to thousands of rules. We will leave this exercise to the reader."
   ]
  },
  {
   "cell_type": "markdown",
   "id": "11edc5ac",
   "metadata": {
    "slideshow": {
     "slide_type": "fragment"
    }
   },
   "source": [
    "Note that you should _not_ repeat this experiment once _identifiers_ come into play. There is a remote chance that the fuzzer synthesizes a call like `os.remove(\"/\")` – and away goes your file system!"
   ]
  },
  {
   "cell_type": "markdown",
   "id": "36844ea7",
   "metadata": {
    "slideshow": {
     "slide_type": "subslide"
    }
   },
   "source": [
    "### End of Excursion"
   ]
  },
  {
   "cell_type": "markdown",
   "id": "70563db5",
   "metadata": {
    "slideshow": {
     "slide_type": "subslide"
    }
   },
   "source": [
    "### Excursion: Names and Function Calls"
   ]
  },
  {
   "cell_type": "markdown",
   "id": "4d78dff4",
   "metadata": {
    "slideshow": {
     "slide_type": "fragment"
    }
   },
   "source": [
    "\n",
    "Let us add some _identifiers_ such that we can call _functions_."
   ]
  },
  {
   "cell_type": "code",
   "execution_count": 60,
   "id": "eccb057c",
   "metadata": {
    "execution": {
     "iopub.execute_input": "2025-01-22T08:42:19.528283Z",
     "iopub.status.busy": "2025-01-22T08:42:19.528208Z",
     "iopub.status.idle": "2025-01-22T08:42:19.529832Z",
     "shell.execute_reply": "2025-01-22T08:42:19.529611Z"
    },
    "slideshow": {
     "slide_type": "fragment"
    }
   },
   "outputs": [],
   "source": [
    "ID_START = string.ascii_letters + '_'\n",
    "ID_CONTINUE = ID_START + string.digits"
   ]
  },
  {
   "cell_type": "code",
   "execution_count": 61,
   "id": "20e7d14c",
   "metadata": {
    "execution": {
     "iopub.execute_input": "2025-01-22T08:42:19.531101Z",
     "iopub.status.busy": "2025-01-22T08:42:19.531033Z",
     "iopub.status.idle": "2025-01-22T08:42:19.532891Z",
     "shell.execute_reply": "2025-01-22T08:42:19.532667Z"
    },
    "slideshow": {
     "slide_type": "fragment"
    }
   },
   "outputs": [
    {
     "data": {
      "text/plain": [
       "'abcdefghijklmnopqrstuvwxyzABCDEFGHIJKLMNOPQRSTUVWXYZ_0123456789'"
      ]
     },
     "execution_count": 61,
     "metadata": {},
     "output_type": "execute_result"
    }
   ],
   "source": [
    "ID_CONTINUE"
   ]
  },
  {
   "cell_type": "code",
   "execution_count": 62,
   "id": "bf29ea25",
   "metadata": {
    "execution": {
     "iopub.execute_input": "2025-01-22T08:42:19.534115Z",
     "iopub.status.busy": "2025-01-22T08:42:19.534048Z",
     "iopub.status.idle": "2025-01-22T08:42:19.535672Z",
     "shell.execute_reply": "2025-01-22T08:42:19.535471Z"
    },
    "slideshow": {
     "slide_type": "subslide"
    }
   },
   "outputs": [
    {
     "name": "stdout",
     "output_type": "stream",
     "text": [
      "Module(\n",
      "    body=[\n",
      "        Expr(\n",
      "            value=Call(\n",
      "                func=Name(id='xyzzy', ctx=Load()),\n",
      "                args=[\n",
      "                    Name(id='a', ctx=Load())],\n",
      "                keywords=[\n",
      "                    keyword(\n",
      "                        arg='b',\n",
      "                        value=Name(id='c', ctx=Load()))]))],\n",
      "    type_ignores=[])\n"
     ]
    }
   ],
   "source": [
    "print(ast.dump(ast.parse(\"xyzzy(a, b=c)\"), indent=4))"
   ]
  },
  {
   "cell_type": "code",
   "execution_count": 63,
   "id": "8578eab6",
   "metadata": {
    "execution": {
     "iopub.execute_input": "2025-01-22T08:42:19.536925Z",
     "iopub.status.busy": "2025-01-22T08:42:19.536850Z",
     "iopub.status.idle": "2025-01-22T08:42:19.539040Z",
     "shell.execute_reply": "2025-01-22T08:42:19.538817Z"
    },
    "slideshow": {
     "slide_type": "subslide"
    }
   },
   "outputs": [],
   "source": [
    "PYTHON_AST_IDS_GRAMMAR: Grammar = extend_grammar(PYTHON_AST_EXPRS_GRAMMAR, {\n",
    "    '<expr>': PYTHON_AST_EXPRS_GRAMMAR['<expr>'] + [\n",
    "        '<Name>', '<Call>'\n",
    "    ],\n",
    "\n",
    "    # Identifiers\n",
    "    '<Name>': [\n",
    "        'Name(id=<identifier>, ctx=Load())',\n",
    "        'Name(id=<identifier>, ctx=Del())'\n",
    "    ],\n",
    "    '<identifier>': [ \"'<id>'\" ],\n",
    "    '<id>': [ '<id_start><id_continue>*' ],\n",
    "    '<id_start>': list(ID_START),\n",
    "    '<id_continue>': list(ID_CONTINUE),\n",
    "    # FIXME: Actual rules are a bit more complex; see\n",
    "    # https://docs.python.org/3/reference/lexical_analysis.html#identifiers\n",
    "\n",
    "    # Function Calls\n",
    "    '<Call>': [ 'Call(func=<func><args_param><keywords_param>)' ],\n",
    "    '<args_param>': [ ', args=<expr_list>' ],\n",
    "    '<keywords_param>': [ ', keywords=<keyword_list>' ],\n",
    "    '<func>': [ '<expr>' ],  # Actually <Expr>, but this is more readable and parses 90%\n",
    "    '<keyword_list>': [ '[<keywords>?]' ],\n",
    "    '<keywords>': [ '<keyword>', '<keyword>, <keywords>' ],\n",
    "    '<keyword>': [ 'keyword(arg=<identifier>, value=<expr>)' ]\n",
    "})"
   ]
  },
  {
   "cell_type": "code",
   "execution_count": 64,
   "id": "4505b2fe",
   "metadata": {
    "execution": {
     "iopub.execute_input": "2025-01-22T08:42:19.540258Z",
     "iopub.status.busy": "2025-01-22T08:42:19.540171Z",
     "iopub.status.idle": "2025-01-22T08:42:19.541784Z",
     "shell.execute_reply": "2025-01-22T08:42:19.541552Z"
    },
    "slideshow": {
     "slide_type": "subslide"
    }
   },
   "outputs": [],
   "source": [
    "# do import this unconditionally\n",
    "if sys.version_info >= (3, 13):\n",
    "    PYTHON_AST_IDS_GRAMMAR: Grammar = extend_grammar(PYTHON_AST_IDS_GRAMMAR, {\n",
    "        # As of 3.13, args and keywords parameters are optional\n",
    "        '<Call>': [ 'Call(func=<func><args_param>?<keywords_param>?)' ],\n",
    "    })"
   ]
  },
  {
   "cell_type": "code",
   "execution_count": 65,
   "id": "4957d646",
   "metadata": {
    "execution": {
     "iopub.execute_input": "2025-01-22T08:42:19.543162Z",
     "iopub.status.busy": "2025-01-22T08:42:19.543089Z",
     "iopub.status.idle": "2025-01-22T08:42:19.544864Z",
     "shell.execute_reply": "2025-01-22T08:42:19.544656Z"
    },
    "slideshow": {
     "slide_type": "fragment"
    }
   },
   "outputs": [],
   "source": [
    "assert is_valid_grammar(PYTHON_AST_IDS_GRAMMAR)"
   ]
  },
  {
   "cell_type": "code",
   "execution_count": 66,
   "id": "9e09ce73",
   "metadata": {
    "execution": {
     "iopub.execute_input": "2025-01-22T08:42:19.546049Z",
     "iopub.status.busy": "2025-01-22T08:42:19.545982Z",
     "iopub.status.idle": "2025-01-22T08:42:19.754123Z",
     "shell.execute_reply": "2025-01-22T08:42:19.753876Z"
    },
    "slideshow": {
     "slide_type": "subslide"
    }
   },
   "outputs": [
    {
     "name": "stdout",
     "output_type": "stream",
     "text": [
      "<Name>\n",
      "n                                        # Name(id='n', ctx=Load())\n",
      "vmGtKyT3Oq1gBC_srAIRaeQw6Dh8V5oLdj9FcvHfb4MpPZiNuEJ27WYU0lnkSxX9Lz # Name(id='vmGtKyT3Oq1gBC_srAIRaeQw6Dh8V5oLdj9FcvHfb4MpPZiNuEJ27WYU0lnkSxX9Lz', ctx=Del())\n",
      "h                                        # Name(id='h', ctx=Load())\n",
      "L                                        # Name(id='L', ctx=Del())\n",
      "M                                        # Name(id='M', ctx=Load())\n",
      "g                                        # Name(id='g', ctx=Del())\n",
      "P                                        # Name(id='P', ctx=Del())\n",
      "It                                       # Name(id='It', ctx=Del())\n",
      "jGn7g                                    # Name(id='jGn7g', ctx=Load())\n",
      "psj                                      # Name(id='psj', ctx=Del())\n",
      "\n",
      "<Call>\n",
      "{{set(): set()}(+set())}(m7K, (), u=[set() // set()]) # Call(func=Set(elts=[Call(func=Dict(keys=[Call(func=Name(id=\"set\", ctx=Load()), args=[], keywords=[]), Call(func=Name(id=\"set\", ctx=Load()), args=[], keywords=[])], values=[Call(func=Name(id=\"set\", ctx=Load()), args=[], keywords=[])]), args=[UnaryOp(op=UAdd(), operand=Call(func=Name(id=\"set\", ctx=Load()), args=[], keywords=[]))], keywords=[])]), args=[Name(id='m7K', ctx=Del()), Tuple(elts=[], ctx=Load())], keywords=[keyword(arg='u', value=List(elts=[BinOp(left=Call(func=Name(id=\"set\", ctx=Load()), args=[], keywords=[]), op=FloorDiv(), right=Call(func=Name(id=\"set\", ctx=Load()), args=[], keywords=[]))], ctx=Load()))])\n",
      "(())(set(), None, \n",
      "U, j=False, i=set())  # Call(func=Compare(left=BoolOp(op=Or(), values=[]), ops=[], comparators=[BoolOp(op=And(), values=[])]), args=[Call(func=Name(id=\"set\", ctx=Load()), args=[], keywords=[]), Constant(value=None), Expr(value=Name(id='U', ctx=Load()))], keywords=[keyword(arg='j', value=Constant(value=False)), keyword(arg='i', value=Call(func=Name(id=\"set\", ctx=Load()), args=[], keywords=[]))])\n",
      "[set(), set(), set()](set(), (set(),), T=set(), L=set(), y=set()) # Call(func=List(elts=[Call(func=Name(id=\"set\", ctx=Load()), args=[], keywords=[]), Call(func=Name(id=\"set\", ctx=Load()), args=[], keywords=[]), Call(func=Name(id=\"set\", ctx=Load()), args=[], keywords=[])], ctx=Del()), args=[Call(func=Name(id=\"set\", ctx=Load()), args=[], keywords=[]), Tuple(elts=[Call(func=Name(id=\"set\", ctx=Load()), args=[], keywords=[])], ctx=Del())], keywords=[keyword(arg='T', value=Call(func=Name(id=\"set\", ctx=Load()), args=[], keywords=[])), keyword(arg='L', value=Call(func=Name(id=\"set\", ctx=Load()), args=[], keywords=[])), keyword(arg='y', value=Call(func=Name(id=\"set\", ctx=Load()), args=[], keywords=[]))])\n",
      "(set() - set() ** set() % (set() @ set()))(set() * set(), set() << set(), W=set() / set()) # Call(func=BinOp(left=Call(func=Name(id=\"set\", ctx=Load()), args=[], keywords=[]), op=Sub(), right=BinOp(left=BinOp(left=Call(func=Name(id=\"set\", ctx=Load()), args=[], keywords=[]), op=Pow(), right=Call(func=Name(id=\"set\", ctx=Load()), args=[], keywords=[])), op=Mod(), right=BinOp(left=Call(func=Name(id=\"set\", ctx=Load()), args=[], keywords=[]), op=MatMult(), right=Call(func=Name(id=\"set\", ctx=Load()), args=[], keywords=[])))), args=[BinOp(left=Call(func=Name(id=\"set\", ctx=Load()), args=[], keywords=[]), op=Mult(), right=Call(func=Name(id=\"set\", ctx=Load()), args=[], keywords=[])), BinOp(left=Call(func=Name(id=\"set\", ctx=Load()), args=[], keywords=[]), op=LShift(), right=Call(func=Name(id=\"set\", ctx=Load()), args=[], keywords=[]))], keywords=[keyword(arg='W', value=BinOp(left=Call(func=Name(id=\"set\", ctx=Load()), args=[], keywords=[]), op=Div(), right=Call(func=Name(id=\"set\", ctx=Load()), args=[], keywords=[])))])\n",
      "(set() >> set())((set() | set()) ^ set(), g=set() & set(), B=set() + set()) # Call(func=BinOp(left=Call(func=Name(id=\"set\", ctx=Load()), args=[], keywords=[]), op=RShift(), right=Call(func=Name(id=\"set\", ctx=Load()), args=[], keywords=[])), args=[BinOp(left=BinOp(left=Call(func=Name(id=\"set\", ctx=Load()), args=[], keywords=[]), op=BitOr(), right=Call(func=Name(id=\"set\", ctx=Load()), args=[], keywords=[])), op=BitXor(), right=Call(func=Name(id=\"set\", ctx=Load()), args=[], keywords=[]))], keywords=[keyword(arg='g', value=BinOp(left=Call(func=Name(id=\"set\", ctx=Load()), args=[], keywords=[]), op=BitAnd(), right=Call(func=Name(id=\"set\", ctx=Load()), args=[], keywords=[]))), keyword(arg='B', value=BinOp(left=Call(func=Name(id=\"set\", ctx=Load()), args=[], keywords=[]), op=Add(), right=Call(func=Name(id=\"set\", ctx=Load()), args=[], keywords=[])))])\n",
      "''(-(not 48.9), Q=~70, FmD=True, h=set()) # Call(func=Constant(value=''), args=[UnaryOp(op=USub(), operand=UnaryOp(op=Not(), operand=Constant(value=48.9)))], keywords=[keyword(arg='Q', value=UnaryOp(op=Invert(), operand=Constant(value=70))), keyword(arg='FmD', value=Constant(value=True)), keyword(arg='h', value=Call(func=Name(id=\"set\", ctx=Load()), args=[], keywords=[]))])\n",
      "((set() in set()) > set())(None, v=set()) # Call(func=Compare(left=Compare(left=Call(func=Name(id=\"set\", ctx=Load()), args=[], keywords=[]), ops=[In()], comparators=[Call(func=Name(id=\"set\", ctx=Load()), args=[], keywords=[])]), ops=[Gt()], comparators=[Call(func=Name(id=\"set\", ctx=Load()), args=[], keywords=[])]), args=[Compare(left=Constant(value=None), ops=[], comparators=[])], keywords=[keyword(arg='v', value=Call(func=Name(id=\"set\", ctx=Load()), args=[], keywords=[]))])\n",
      "''(set(), V, l, t, _, zM=H)              # Call(func=Constant(value=\"\"), args=[Call(func=Name(id=\"set\", ctx=Load()), args=[], keywords=[]), Name(id='V', ctx=Load()), Name(id='l', ctx=Load()), Name(id='t', ctx=Del()), Name(id='_', ctx=Load())], keywords=[keyword(arg='zM', value=Name(id='H', ctx=Load()))])\n",
      "xTzqJe5gQ(n80d, qkw=b)                   # Call(func=Name(id='xTzqJe5gQ', ctx=Del()), args=[Name(id='n80d', ctx=Load())], keywords=[keyword(arg='qkw', value=Name(id='b', ctx=Del()))])\n",
      "k(set(), set(), set(), E, o=c)           # Call(func=Name(id='k', ctx=Load()), args=[Call(func=Name(id=\"set\", ctx=Load()), args=[], keywords=[]), Call(func=Name(id=\"set\", ctx=Load()), args=[], keywords=[]), Call(func=Name(id=\"set\", ctx=Load()), args=[], keywords=[]), Name(id='E', ctx=Load())], keywords=[keyword(arg='o', value=Name(id='c', ctx=Load()))])\n",
      "\n"
     ]
    }
   ],
   "source": [
    "for elt in [ '<Name>', '<Call>' ]:\n",
    "    print(elt)\n",
    "    test_samples(PYTHON_AST_IDS_GRAMMAR, start_symbol=elt)\n",
    "    print()"
   ]
  },
  {
   "cell_type": "code",
   "execution_count": 67,
   "id": "1007cc65",
   "metadata": {
    "execution": {
     "iopub.execute_input": "2025-01-22T08:42:19.755581Z",
     "iopub.status.busy": "2025-01-22T08:42:19.755485Z",
     "iopub.status.idle": "2025-01-22T08:42:19.757555Z",
     "shell.execute_reply": "2025-01-22T08:42:19.757351Z"
    },
    "slideshow": {
     "slide_type": "subslide"
    }
   },
   "outputs": [],
   "source": [
    "ast_ids_grammar = convert_ebnf_grammar(PYTHON_AST_IDS_GRAMMAR)"
   ]
  },
  {
   "cell_type": "code",
   "execution_count": 68,
   "id": "7c426570",
   "metadata": {
    "execution": {
     "iopub.execute_input": "2025-01-22T08:42:19.758794Z",
     "iopub.status.busy": "2025-01-22T08:42:19.758704Z",
     "iopub.status.idle": "2025-01-22T08:42:19.762436Z",
     "shell.execute_reply": "2025-01-22T08:42:19.762213Z"
    },
    "slideshow": {
     "slide_type": "fragment"
    }
   },
   "outputs": [],
   "source": [
    "id_solver = ISLaSolver(ast_ids_grammar, start_symbol='<id>')\n",
    "assert id_solver.check('open')"
   ]
  },
  {
   "cell_type": "code",
   "execution_count": 69,
   "id": "a2e38406",
   "metadata": {
    "execution": {
     "iopub.execute_input": "2025-01-22T08:42:19.763646Z",
     "iopub.status.busy": "2025-01-22T08:42:19.763580Z",
     "iopub.status.idle": "2025-01-22T08:42:19.768394Z",
     "shell.execute_reply": "2025-01-22T08:42:19.768157Z"
    },
    "slideshow": {
     "slide_type": "fragment"
    }
   },
   "outputs": [],
   "source": [
    "name_solver = ISLaSolver(ast_ids_grammar)\n",
    "assert name_solver.check(\"Name(id='open', ctx=Load())\")"
   ]
  },
  {
   "cell_type": "code",
   "execution_count": 70,
   "id": "24722c3f",
   "metadata": {
    "execution": {
     "iopub.execute_input": "2025-01-22T08:42:19.769646Z",
     "iopub.status.busy": "2025-01-22T08:42:19.769579Z",
     "iopub.status.idle": "2025-01-22T08:42:19.775977Z",
     "shell.execute_reply": "2025-01-22T08:42:19.775744Z"
    },
    "slideshow": {
     "slide_type": "fragment"
    }
   },
   "outputs": [],
   "source": [
    "call_solver = ISLaSolver(ast_ids_grammar, start_symbol='<keyword_list>')\n",
    "assert call_solver.check('[]')"
   ]
  },
  {
   "cell_type": "code",
   "execution_count": 71,
   "id": "b50d47c4",
   "metadata": {
    "execution": {
     "iopub.execute_input": "2025-01-22T08:42:19.777286Z",
     "iopub.status.busy": "2025-01-22T08:42:19.777215Z",
     "iopub.status.idle": "2025-01-22T08:42:19.784848Z",
     "shell.execute_reply": "2025-01-22T08:42:19.784499Z"
    },
    "slideshow": {
     "slide_type": "fragment"
    }
   },
   "outputs": [
    {
     "name": "stdout",
     "output_type": "stream",
     "text": [
      "Call(func=Name(id='open', ctx=Load()), args=[Constant(value='foo.txt'), Constant(value='r')], keywords=[])\n"
     ]
    }
   ],
   "source": [
    "call_str = ast.dump(ast.parse('open(\"foo.txt\", \"r\")').body[0].value)  # type: ignore\n",
    "print(call_str)\n",
    "call_solver = ISLaSolver(ast_ids_grammar)\n",
    "assert call_solver.check(call_str)"
   ]
  },
  {
   "cell_type": "markdown",
   "id": "aa93c4dd",
   "metadata": {
    "slideshow": {
     "slide_type": "subslide"
    }
   },
   "source": [
    "### End of Excursion"
   ]
  },
  {
   "cell_type": "markdown",
   "id": "42e646fc",
   "metadata": {
    "slideshow": {
     "slide_type": "subslide"
    }
   },
   "source": [
    "### Excursion: Attributes and Subscripts"
   ]
  },
  {
   "cell_type": "markdown",
   "id": "f7e5c453",
   "metadata": {
    "slideshow": {
     "slide_type": "fragment"
    }
   },
   "source": [
    "\n",
    "Let us add attributes and subscripts."
   ]
  },
  {
   "cell_type": "code",
   "execution_count": 72,
   "id": "fd2071fc",
   "metadata": {
    "execution": {
     "iopub.execute_input": "2025-01-22T08:42:19.786504Z",
     "iopub.status.busy": "2025-01-22T08:42:19.786429Z",
     "iopub.status.idle": "2025-01-22T08:42:19.787986Z",
     "shell.execute_reply": "2025-01-22T08:42:19.787766Z"
    },
    "slideshow": {
     "slide_type": "subslide"
    }
   },
   "outputs": [
    {
     "name": "stdout",
     "output_type": "stream",
     "text": [
      "Module(\n",
      "    body=[\n",
      "        Expr(\n",
      "            value=Attribute(\n",
      "                value=Subscript(\n",
      "                    value=Name(id='a', ctx=Load()),\n",
      "                    slice=Name(id='b', ctx=Load()),\n",
      "                    ctx=Load()),\n",
      "                attr='c',\n",
      "                ctx=Load()))],\n",
      "    type_ignores=[])\n"
     ]
    }
   ],
   "source": [
    "print(ast.dump(ast.parse(\"a[b].c\"), indent=4))"
   ]
  },
  {
   "cell_type": "code",
   "execution_count": 73,
   "id": "2e8af8f1",
   "metadata": {
    "execution": {
     "iopub.execute_input": "2025-01-22T08:42:19.789253Z",
     "iopub.status.busy": "2025-01-22T08:42:19.789184Z",
     "iopub.status.idle": "2025-01-22T08:42:19.791320Z",
     "shell.execute_reply": "2025-01-22T08:42:19.791128Z"
    },
    "slideshow": {
     "slide_type": "subslide"
    }
   },
   "outputs": [],
   "source": [
    "PYTHON_AST_ATTRS_GRAMMAR: Grammar = extend_grammar(PYTHON_AST_IDS_GRAMMAR, {\n",
    "    '<expr>': PYTHON_AST_IDS_GRAMMAR['<expr>'] + [\n",
    "        '<Attribute>', '<Subscript>', '<Starred>',\n",
    "    ],\n",
    "\n",
    "    # Attributes\n",
    "    '<Attribute>': [\n",
    "        'Attribute(value=<expr>, attr=<identifier>, ctx=Load())',\n",
    "        'Attribute(value=<expr>, attr=<identifier>, ctx=Del())',\n",
    "    ],\n",
    "\n",
    "    # Subscripts\n",
    "    '<Subscript>': [\n",
    "        'Subscript(value=<expr>, slice=<Slice>, ctx=Load())',\n",
    "        'Subscript(value=<expr>, slice=<Slice>, ctx=Del())',\n",
    "    ],\n",
    "    '<Slice>': [\n",
    "        'Slice()',\n",
    "        'Slice(<expr>)',\n",
    "        'Slice(<expr>, <expr>)',\n",
    "        'Slice(<expr>, <expr>, <expr>)',\n",
    "    ],\n",
    "\n",
    "    # Starred\n",
    "    '<Starred>': [\n",
    "        'Starred(value=<expr>, ctx=Load())',\n",
    "        'Starred(value=<expr>, ctx=Del())',\n",
    "    ],\n",
    "\n",
    "    # We're extending the set of callers a bit\n",
    "    '<func>': [ '<Name>', '<Attribute>', '<Subscript>' ],\n",
    "})"
   ]
  },
  {
   "cell_type": "code",
   "execution_count": 74,
   "id": "61cae63b",
   "metadata": {
    "execution": {
     "iopub.execute_input": "2025-01-22T08:42:19.792463Z",
     "iopub.status.busy": "2025-01-22T08:42:19.792400Z",
     "iopub.status.idle": "2025-01-22T08:42:19.794125Z",
     "shell.execute_reply": "2025-01-22T08:42:19.793940Z"
    },
    "slideshow": {
     "slide_type": "subslide"
    }
   },
   "outputs": [],
   "source": [
    "assert is_valid_grammar(PYTHON_AST_ATTRS_GRAMMAR)"
   ]
  },
  {
   "cell_type": "code",
   "execution_count": 75,
   "id": "e36de5b0",
   "metadata": {
    "execution": {
     "iopub.execute_input": "2025-01-22T08:42:19.795262Z",
     "iopub.status.busy": "2025-01-22T08:42:19.795197Z",
     "iopub.status.idle": "2025-01-22T08:42:20.494399Z",
     "shell.execute_reply": "2025-01-22T08:42:20.494014Z"
    },
    "slideshow": {
     "slide_type": "subslide"
    }
   },
   "outputs": [
    {
     "name": "stdout",
     "output_type": "stream",
     "text": [
      "<Attribute>\n",
      "{}.zZ                                    # Attribute(value=Dict(keys=[BoolOp(op=Or(), values=[Expr(value=UnaryOp(op=UAdd(), operand=Call(func=Name(id='e', ctx=Del()), args=[], keywords=[]))), BinOp(left=Compare(left=Call(func=Name(id=\"set\", ctx=Load()), args=[], keywords=[]), ops=[], comparators=[]), op=Sub(), right=Call(func=Name(id=\"set\", ctx=Load()), args=[], keywords=[]))]), Starred(value=Attribute(value=Tuple(elts=[Set(elts=[Call(func=Name(id=\"set\", ctx=Load()), args=[], keywords=[]), Subscript(value=Call(func=Name(id=\"set\", ctx=Load()), args=[], keywords=[]), slice=Slice(), ctx=Del()), List(elts=[Call(func=Name(id=\"set\", ctx=Load()), args=[], keywords=[])], ctx=Del())])], ctx=Load()), attr='HV', ctx=Load()), ctx=Del())], values=[]), attr='zZ', ctx=Del())\n",
      "OON6Q9X8m1yqSkYJtGPI_bADfjMTaIhp._Rr5dHs2n7UwzFoLulcei3KCgW4EvxB60jmPP # Attribute(value=Name(id='OON6Q9X8m1yqSkYJtGPI_bADfjMTaIhp', ctx=Load()), attr='_Rr5dHs2n7UwzFoLulcei3KCgW4EvxB60jmPP', ctx=Del())\n",
      "175 .M                                   # Attribute(value=Constant(value=175), attr='M', ctx=Del())\n",
      "*[set() * set() + set() / set()][(set() << set(), set() % set(), set() ** (set() & set())):].Wn # Attribute(value=Starred(value=Subscript(value=List(elts=[BinOp(left=BinOp(left=Call(func=Name(id=\"set\", ctx=Load()), args=[], keywords=[]), op=Mult(), right=Call(func=Name(id=\"set\", ctx=Load()), args=[], keywords=[])), op=Add(), right=BinOp(left=Call(func=Name(id=\"set\", ctx=Load()), args=[], keywords=[]), op=Div(), right=Call(func=Name(id=\"set\", ctx=Load()), args=[], keywords=[])))], ctx=Load()), slice=Slice(Tuple(elts=[BinOp(left=Call(func=Name(id=\"set\", ctx=Load()), args=[], keywords=[]), op=LShift(), right=Call(func=Name(id=\"set\", ctx=Load()), args=[], keywords=[])), BinOp(left=Call(func=Name(id=\"set\", ctx=Load()), args=[], keywords=[]), op=Mod(), right=Call(func=Name(id=\"set\", ctx=Load()), args=[], keywords=[])), BinOp(left=Call(func=Name(id=\"set\", ctx=Load()), args=[], keywords=[]), op=Pow(), right=BinOp(left=Call(func=Name(id=\"set\", ctx=Load()), args=[], keywords=[]), op=BitAnd(), right=Call(func=Name(id=\"set\", ctx=Load()), args=[], keywords=[])))], ctx=Del())), ctx=Load()), ctx=Load()), attr='Wn', ctx=Del())\n",
      "((-+set()[:]()[set():set():set()] | (not ~set().E())) @ '' // (None ^ False)).B # Attribute(value=BinOp(left=BinOp(left=BinOp(left=UnaryOp(op=USub(), operand=UnaryOp(op=UAdd(), operand=Subscript(value=Call(func=Subscript(value=Call(func=Name(id=\"set\", ctx=Load()), args=[], keywords=[]), slice=Slice(), ctx=Del()), args=[], keywords=[]), slice=Slice(Call(func=Name(id=\"set\", ctx=Load()), args=[], keywords=[]), Call(func=Name(id=\"set\", ctx=Load()), args=[], keywords=[]), Call(func=Name(id=\"set\", ctx=Load()), args=[], keywords=[])), ctx=Del()))), op=BitOr(), right=UnaryOp(op=Not(), operand=UnaryOp(op=Invert(), operand=Call(func=Attribute(value=Call(func=Name(id=\"set\", ctx=Load()), args=[], keywords=[]), attr='E', ctx=Del()), args=[], keywords=[])))), op=MatMult(), right=Constant(value='')), op=FloorDiv(), right=BinOp(left=Constant(value=None), op=BitXor(), right=Constant(value=False))), attr='B', ctx=Load())\n",
      "((99.8) >> (True)['HAVsYE|,]@bXz!hguQimRwL0)2=W-8PteTK<{c~*3}f$OandqF1%&4IJ\"MjZ>^k`pv;/U_?B.7[+y#(G 9S5CDoNrlx:6Z':'S']).yM # Attribute(value=BinOp(left=BoolOp(op=And(), values=[Constant(value=99.8)]), op=RShift(), right=Subscript(value=BoolOp(op=And(), values=[Constant(value=True)]), slice=Slice(Constant(value='HAVsYE|,]@bXz!hguQimRwL0)2=W-8PteTK<{c~*3}f$OandqF1%&4IJ\"MjZ>^k`pv;/U_?B.7[+y#(G 9S5CDoNrlx:6Z'), Constant(value=\"S\")), ctx=Del())), attr='yM', ctx=Del())\n",
      "(((set()) < set() == set()) not in set()).l # Attribute(value=Compare(left=Compare(left=Compare(left=Call(func=Name(id=\"set\", ctx=Load()), args=[], keywords=[]), ops=[], comparators=[]), ops=[Lt(), Eq()], comparators=[Call(func=Name(id=\"set\", ctx=Load()), args=[], keywords=[]), Call(func=Name(id=\"set\", ctx=Load()), args=[], keywords=[])]), ops=[NotIn()], comparators=[Call(func=Name(id=\"set\", ctx=Load()), args=[], keywords=[]), Compare(left=Call(func=Name(id=\"set\", ctx=Load()), args=[], keywords=[]), ops=[], comparators=[]), Name(id='c', ctx=Del())]), attr='l', ctx=Del())\n",
      "vlL.CZ                                   # Attribute(value=Name(id='vlL', ctx=Load()), attr='CZ', ctx=Del())\n",
      "w.nyuCk                                  # Attribute(value=Name(id='w', ctx=Del()), attr='nyuCk', ctx=Load())\n",
      "Js.Za                                    # Attribute(value=Name(id='Js', ctx=Load()), attr='Za', ctx=Load())\n",
      "\n",
      "<Subscript>\n",
      "{279.0 >> [], -*set()[:][:](set(), set(), ())}[{}:] # Subscript(value=Set(elts=[BinOp(left=Constant(value=279.0), op=RShift(), right=List(elts=[BoolOp(op=And(), values=[])], ctx=Del())), UnaryOp(op=USub(), operand=Call(func=Subscript(value=Subscript(value=Starred(value=Call(func=Name(id=\"set\", ctx=Load()), args=[], keywords=[]), ctx=Load()), slice=Slice(), ctx=Del()), slice=Slice(), ctx=Load()), args=[Call(func=Name(id=\"set\", ctx=Load()), args=[], keywords=[]), Call(func=Name(id=\"set\", ctx=Load()), args=[], keywords=[]), Tuple(elts=[], ctx=Load())], keywords=[]))]), slice=Slice(Dict(keys=[], values=[Name(id='U', ctx=Load())])), ctx=Del())\n",
      "(set()).y[():b:\n",
      "set()]                   # Subscript(value=Attribute(value=Compare(left=Call(func=Name(id=\"set\", ctx=Load()), args=[], keywords=[]), ops=[], comparators=[]), attr='y', ctx=Load()), slice=Slice(Tuple(elts=[], ctx=Del()), Name(id='b', ctx=Del()), Expr(value=Compare(left=Call(func=Name(id=\"set\", ctx=Load()), args=[], keywords=[]), ops=[], comparators=[]))), ctx=Del())\n",
      "(set() << set() - set()).c[[set() @ set() // set()]:*(set() & set()).z] # Subscript(value=Attribute(value=BinOp(left=Call(func=Name(id=\"set\", ctx=Load()), args=[], keywords=[]), op=LShift(), right=BinOp(left=Call(func=Name(id=\"set\", ctx=Load()), args=[], keywords=[]), op=Sub(), right=Call(func=Name(id=\"set\", ctx=Load()), args=[], keywords=[]))), attr='c', ctx=Load()), slice=Slice(List(elts=[BinOp(left=BinOp(left=Call(func=Name(id=\"set\", ctx=Load()), args=[], keywords=[]), op=MatMult(), right=Call(func=Name(id=\"set\", ctx=Load()), args=[], keywords=[])), op=FloorDiv(), right=Call(func=Name(id=\"set\", ctx=Load()), args=[], keywords=[]))], ctx=Load()), Starred(value=Attribute(value=BinOp(left=Call(func=Name(id=\"set\", ctx=Load()), args=[], keywords=[]), op=BitAnd(), right=Call(func=Name(id=\"set\", ctx=Load()), args=[], keywords=[])), attr='z', ctx=Del()), ctx=Del())), ctx=Load())\n",
      "((set() | set()) ^ set() ** set())[set() * set():(set() + set()) / set()] # Subscript(value=BinOp(left=BinOp(left=Call(func=Name(id=\"set\", ctx=Load()), args=[], keywords=[]), op=BitOr(), right=Call(func=Name(id=\"set\", ctx=Load()), args=[], keywords=[])), op=BitXor(), right=BinOp(left=Call(func=Name(id=\"set\", ctx=Load()), args=[], keywords=[]), op=Pow(), right=Call(func=Name(id=\"set\", ctx=Load()), args=[], keywords=[]))), slice=Slice(BinOp(left=Call(func=Name(id=\"set\", ctx=Load()), args=[], keywords=[]), op=Mult(), right=Call(func=Name(id=\"set\", ctx=Load()), args=[], keywords=[])), BinOp(left=BinOp(left=Call(func=Name(id=\"set\", ctx=Load()), args=[], keywords=[]), op=Add(), right=Call(func=Name(id=\"set\", ctx=Load()), args=[], keywords=[])), op=Div(), right=Call(func=Name(id=\"set\", ctx=Load()), args=[], keywords=[]))), ctx=Load())\n",
      "None['t':]                               # Subscript(value=Constant(value=None), slice=Slice(Constant(value=\"t\")), ctx=Load())\n",
      "(not set().H(~set(), N=set()))[M():n():set()] # Subscript(value=UnaryOp(op=Not(), operand=Call(func=Attribute(value=Call(func=Name(id=\"set\", ctx=Load()), args=[], keywords=[]), attr='H', ctx=Del()), args=[UnaryOp(op=Invert(), operand=Call(func=Name(id=\"set\", ctx=Load()), args=[], keywords=[]))], keywords=[keyword(arg='N', value=Call(func=Name(id=\"set\", ctx=Load()), args=[], keywords=[]))])), slice=Slice(Call(func=Name(id='M', ctx=Load()), args=[], keywords=[]), Call(func=Name(id='n', ctx=Load()), args=[], keywords=[]), Call(func=Name(id=\"set\", ctx=Load()), args=[], keywords=[])), ctx=Del())\n",
      "False[1632:]                             # Subscript(value=Constant(value=False), slice=Slice(Constant(value=1632)), ctx=Del())\n",
      "(('') % +(94 or True))[True or ((t)) is set() <= Q:] # Subscript(value=BinOp(left=BoolOp(op=Or(), values=[Constant(value='')]), op=Mod(), right=UnaryOp(op=UAdd(), operand=BoolOp(op=Or(), values=[Constant(value=94), Constant(value=True)]))), slice=Slice(BoolOp(op=Or(), values=[Constant(value=True), Compare(left=Compare(left=Compare(left=Name(id='t', ctx=Load()), ops=[], comparators=[Call(func=Name(id=\"set\", ctx=Load()), args=[], keywords=[]), Call(func=Name(id=\"set\", ctx=Load()), args=[], keywords=[])]), ops=[], comparators=[Call(func=Name(id=\"set\", ctx=Load()), args=[], keywords=[]), Call(func=Name(id=\"set\", ctx=Load()), args=[], keywords=[])]), ops=[Is(), LtE()], comparators=[Call(func=Name(id=\"set\", ctx=Load()), args=[], keywords=[]), Name(id='Q', ctx=Load()), Name(id='r', ctx=Del())])])), ctx=Load())\n",
      "l7oUAETh5yCvxmRcgJ8[vtk3XeH:midn6Wa4]    # Subscript(value=Name(id='l7oUAETh5yCvxmRcgJ8', ctx=Load()), slice=Slice(Name(id='vtk3XeH', ctx=Load()), Name(id='midn6Wa4', ctx=Load())), ctx=Load())\n",
      "JN0GQSzfYw1MLI2up6[gD9VZbsK_lqjrPOFB:]   # Subscript(value=Name(id='JN0GQSzfYw1MLI2up6', ctx=Load()), slice=Slice(Name(id='gD9VZbsK_lqjrPOFB', ctx=Del())), ctx=Load())\n",
      "\n",
      "<Starred>\n",
      "*[]                                      # Starred(value=List(elts=[], ctx=Del()), ctx=Load())\n",
      "*(\n",
      "{{set().j(K.J, Q=set()): (+*(set())[set():set():set()],)}, 440.7}) >> i # Starred(value=BinOp(left=BoolOp(op=And(), values=[Expr(value=Set(elts=[Dict(keys=[Call(func=Attribute(value=Call(func=Name(id=\"set\", ctx=Load()), args=[], keywords=[]), attr='j', ctx=Del()), args=[Attribute(value=Name(id='K', ctx=Del()), attr='J', ctx=Load())], keywords=[keyword(arg='Q', value=Call(func=Name(id=\"set\", ctx=Load()), args=[], keywords=[]))])], values=[Tuple(elts=[UnaryOp(op=UAdd(), operand=Starred(value=Subscript(value=Compare(left=Call(func=Name(id=\"set\", ctx=Load()), args=[], keywords=[]), ops=[], comparators=[]), slice=Slice(Call(func=Name(id=\"set\", ctx=Load()), args=[], keywords=[]), Call(func=Name(id=\"set\", ctx=Load()), args=[], keywords=[]), Call(func=Name(id=\"set\", ctx=Load()), args=[], keywords=[])), ctx=Load()), ctx=Load()))], ctx=Del())]), Constant(value=440.7)]))]), op=RShift(), right=Name(id='i', ctx=Load())), ctx=Del())\n",
      "*[set(), set(), set() @ set()][(set(), set() - set(), set() % set() / set() ** set()):] # Starred(value=Subscript(value=List(elts=[Call(func=Name(id=\"set\", ctx=Load()), args=[], keywords=[]), Call(func=Name(id=\"set\", ctx=Load()), args=[], keywords=[]), BinOp(left=Call(func=Name(id=\"set\", ctx=Load()), args=[], keywords=[]), op=MatMult(), right=Call(func=Name(id=\"set\", ctx=Load()), args=[], keywords=[]))], ctx=Load()), slice=Slice(Tuple(elts=[Call(func=Name(id=\"set\", ctx=Load()), args=[], keywords=[]), BinOp(left=Call(func=Name(id=\"set\", ctx=Load()), args=[], keywords=[]), op=Sub(), right=Call(func=Name(id=\"set\", ctx=Load()), args=[], keywords=[])), BinOp(left=BinOp(left=Call(func=Name(id=\"set\", ctx=Load()), args=[], keywords=[]), op=Mod(), right=Call(func=Name(id=\"set\", ctx=Load()), args=[], keywords=[])), op=Div(), right=BinOp(left=Call(func=Name(id=\"set\", ctx=Load()), args=[], keywords=[]), op=Pow(), right=Call(func=Name(id=\"set\", ctx=Load()), args=[], keywords=[])))], ctx=Load())), ctx=Del()), ctx=Load())\n",
      "*(set() ^ set()) & (set() << set()) + set() | set() * set() # Starred(value=BinOp(left=BinOp(left=BinOp(left=Call(func=Name(id=\"set\", ctx=Load()), args=[], keywords=[]), op=BitXor(), right=Call(func=Name(id=\"set\", ctx=Load()), args=[], keywords=[])), op=BitAnd(), right=BinOp(left=BinOp(left=Call(func=Name(id=\"set\", ctx=Load()), args=[], keywords=[]), op=LShift(), right=Call(func=Name(id=\"set\", ctx=Load()), args=[], keywords=[])), op=Add(), right=Call(func=Name(id=\"set\", ctx=Load()), args=[], keywords=[]))), op=BitOr(), right=BinOp(left=Call(func=Name(id=\"set\", ctx=Load()), args=[], keywords=[]), op=Mult(), right=Call(func=Name(id=\"set\", ctx=Load()), args=[], keywords=[]))), ctx=Del())\n",
      "*'g'                                     # Starred(value=Constant(value='g'), ctx=Load())\n",
      "*-None                                   # Starred(value=UnaryOp(op=USub(), operand=Constant(value=None)), ctx=Del())\n",
      "*9523[:](set(), -set(), not ~set(), (not not set())[-(set() // set()):]) # Starred(value=Call(func=Subscript(value=Constant(value=9523), slice=Slice(), ctx=Del()), args=[Call(func=Name(id=\"set\", ctx=Load()), args=[], keywords=[]), UnaryOp(op=USub(), operand=Call(func=Name(id=\"set\", ctx=Load()), args=[], keywords=[])), UnaryOp(op=Not(), operand=UnaryOp(op=Invert(), operand=Call(func=Name(id=\"set\", ctx=Load()), args=[], keywords=[]))), Subscript(value=UnaryOp(op=Not(), operand=UnaryOp(op=Not(), operand=Call(func=Name(id=\"set\", ctx=Load()), args=[], keywords=[]))), slice=Slice(UnaryOp(op=USub(), operand=BinOp(left=Call(func=Name(id=\"set\", ctx=Load()), args=[], keywords=[]), op=FloorDiv(), right=Call(func=Name(id=\"set\", ctx=Load()), args=[], keywords=[]))), BoolOp(op=Or(), values=[])), ctx=Load())], keywords=[]), ctx=Del())\n",
      "*False                                   # Starred(value=Constant(value=False), ctx=Load())\n",
      "*X(Y(q=set()), I=U(), D=set())           # Starred(value=Call(func=Name(id='X', ctx=Load()), args=[Call(func=Name(id='Y', ctx=Load()), args=[], keywords=[keyword(arg='q', value=Call(func=Name(id=\"set\", ctx=Load()), args=[], keywords=[]))])], keywords=[keyword(arg='I', value=Call(func=Name(id='U', ctx=Load()), args=[], keywords=[])), keyword(arg='D', value=Call(func=Name(id=\"set\", ctx=Load()), args=[], keywords=[]))]), ctx=Del())\n",
      "*'#'                                     # Starred(value=Constant(value=\"#\"), ctx=Del())\n",
      "\n"
     ]
    }
   ],
   "source": [
    "for elt in [ '<Attribute>', '<Subscript>', '<Starred>' ]:\n",
    "    print(elt)\n",
    "    test_samples(PYTHON_AST_ATTRS_GRAMMAR, start_symbol=elt)\n",
    "    print()"
   ]
  },
  {
   "cell_type": "markdown",
   "id": "ac7b4771",
   "metadata": {
    "slideshow": {
     "slide_type": "subslide"
    }
   },
   "source": [
    "### End of Excursion"
   ]
  },
  {
   "cell_type": "markdown",
   "id": "a5bed093",
   "metadata": {
    "slideshow": {
     "slide_type": "subslide"
    }
   },
   "source": [
    "### Excursion: Variable Assignments"
   ]
  },
  {
   "cell_type": "markdown",
   "id": "f8f6c36e",
   "metadata": {
    "slideshow": {
     "slide_type": "fragment"
    }
   },
   "source": [
    "\n",
    "Now for variable assignments. These make things more complex, as we have a restricted set of expressions on the left hand side of an assignment."
   ]
  },
  {
   "cell_type": "code",
   "execution_count": 76,
   "id": "1cadc5fe",
   "metadata": {
    "execution": {
     "iopub.execute_input": "2025-01-22T08:42:20.496258Z",
     "iopub.status.busy": "2025-01-22T08:42:20.496166Z",
     "iopub.status.idle": "2025-01-22T08:42:20.498978Z",
     "shell.execute_reply": "2025-01-22T08:42:20.498727Z"
    },
    "slideshow": {
     "slide_type": "subslide"
    }
   },
   "outputs": [],
   "source": [
    "PYTHON_AST_ASSIGNMENTS_GRAMMAR: Grammar = extend_grammar(PYTHON_AST_ATTRS_GRAMMAR, {\n",
    "    '<start>': [ '<stmt>' ],\n",
    "\n",
    "    '<stmt>': [\n",
    "        '<Assign>', '<AugAssign>',\n",
    "        '<Expr>'\n",
    "    ],\n",
    "\n",
    "    # Assignments\n",
    "    '<Assign>': [\n",
    "        'Assign(targets=<nonempty_lhs_expr_list>, value=<expr><type_comment>?)',\n",
    "    ],\n",
    "    '<type_comment>': [ ', type_comment=<string>' ],\n",
    "    '<AugAssign>': [\n",
    "        'AugAssign(target=<lhs_expr>, op=<operator>, value=<expr>)',\n",
    "    ],\n",
    "\n",
    "    # Lists of left-hand side expressions\n",
    "    # '<lhs_expr_list>': [ '[<lhs_exprs>?]' ],\n",
    "    '<nonempty_lhs_expr_list>': [ '[<lhs_exprs>]' ],\n",
    "    '<lhs_exprs>': [ '<lhs_expr>', '<lhs_exprs>, <lhs_expr>' ],\n",
    "\n",
    "    # On the left-hand side of assignments, we allow a number of structures\n",
    "    '<lhs_expr>': [\n",
    "        '<lhs_Name>',  # Most common\n",
    "        '<lhs_List>', '<lhs_Tuple>',\n",
    "        '<lhs_Attribute>',\n",
    "        '<lhs_Subscript>',\n",
    "        '<lhs_Starred>',\n",
    "    ],\n",
    "\n",
    "    '<lhs_Name>': [ 'Name(id=<identifier>, ctx=Store())', ],\n",
    "\n",
    "    '<lhs_List>': [\n",
    "        'List(elts=<nonempty_lhs_expr_list>, ctx=Store())',\n",
    "    ],\n",
    "    '<lhs_Tuple>': [\n",
    "        'Tuple(elts=<nonempty_lhs_expr_list>, ctx=Store())',\n",
    "    ],\n",
    "    '<lhs_Attribute>': [\n",
    "        'Attribute(value=<lhs_expr>, attr=<identifier>, ctx=Store())',\n",
    "    ],\n",
    "    '<lhs_Subscript>': [\n",
    "        'Subscript(value=<lhs_expr>, slice=<Slice>, ctx=Store())',\n",
    "    ],\n",
    "    '<lhs_Starred>': [\n",
    "        'Starred(value=<lhs_expr>, ctx=Store())',\n",
    "    ],\n",
    "})"
   ]
  },
  {
   "cell_type": "code",
   "execution_count": 77,
   "id": "1c9e96ff",
   "metadata": {
    "execution": {
     "iopub.execute_input": "2025-01-22T08:42:20.500457Z",
     "iopub.status.busy": "2025-01-22T08:42:20.500363Z",
     "iopub.status.idle": "2025-01-22T08:42:20.502231Z",
     "shell.execute_reply": "2025-01-22T08:42:20.501992Z"
    },
    "slideshow": {
     "slide_type": "subslide"
    }
   },
   "outputs": [],
   "source": [
    "assert is_valid_grammar(PYTHON_AST_ASSIGNMENTS_GRAMMAR)"
   ]
  },
  {
   "cell_type": "code",
   "execution_count": 78,
   "id": "79d5c6e3",
   "metadata": {
    "execution": {
     "iopub.execute_input": "2025-01-22T08:42:20.503622Z",
     "iopub.status.busy": "2025-01-22T08:42:20.503545Z",
     "iopub.status.idle": "2025-01-22T08:42:20.873318Z",
     "shell.execute_reply": "2025-01-22T08:42:20.873072Z"
    },
    "slideshow": {
     "slide_type": "subslide"
    }
   },
   "outputs": [
    {
     "name": "stdout",
     "output_type": "stream",
     "text": [
      "<Assign>\n",
      "*[(r,), (V, C[set():set()]), Z[set():].WDY3i] = () # type: * # Assign(targets=[Starred(value=List(elts=[Tuple(elts=[Name(id='r', ctx=Store())], ctx=Store()), Tuple(elts=[Name(id='V', ctx=Store()), Subscript(value=Name(id='C', ctx=Store()), slice=Slice(Call(func=Name(id=\"set\", ctx=Load()), args=[], keywords=[]), Call(func=Name(id=\"set\", ctx=Load()), args=[], keywords=[])), ctx=Store())], ctx=Store()), Attribute(value=Subscript(value=Name(id='Z', ctx=Store()), slice=Slice(Call(func=Name(id=\"set\", ctx=Load()), args=[], keywords=[])), ctx=Store()), attr='WDY3i', ctx=Store())], ctx=Store()), ctx=Store())], value=Tuple(elts=[], ctx=Load()), type_comment='*')\n",
      "h[set():set():set()][set():*set():set()[:]()][:] = [set()].Yzt # Assign(targets=[Subscript(value=Subscript(value=Subscript(value=Name(id='h', ctx=Store()), slice=Slice(Call(func=Name(id=\"set\", ctx=Load()), args=[], keywords=[]), Call(func=Name(id=\"set\", ctx=Load()), args=[], keywords=[]), Call(func=Name(id=\"set\", ctx=Load()), args=[], keywords=[])), ctx=Store()), slice=Slice(Call(func=Name(id=\"set\", ctx=Load()), args=[], keywords=[]), Starred(value=Call(func=Name(id=\"set\", ctx=Load()), args=[], keywords=[]), ctx=Load()), Call(func=Subscript(value=Call(func=Name(id=\"set\", ctx=Load()), args=[], keywords=[]), slice=Slice(), ctx=Load()), args=[], keywords=[])), ctx=Store()), slice=Slice(), ctx=Store())], value=Attribute(value=List(elts=[Call(func=Name(id=\"set\", ctx=Load()), args=[], keywords=[])], ctx=Del()), attr='Yzt', ctx=Load()))\n",
      "N[:][:][set():set():set()][{}:][:] = \n",
      "ExcXjv1h # type: R # Assign(targets=[Subscript(value=Subscript(value=Subscript(value=Subscript(value=Subscript(value=Name(id='N', ctx=Store()), slice=Slice(), ctx=Store()), slice=Slice(), ctx=Store()), slice=Slice(Call(func=Name(id=\"set\", ctx=Load()), args=[], keywords=[]), Call(func=Name(id=\"set\", ctx=Load()), args=[], keywords=[]), Call(func=Name(id=\"set\", ctx=Load()), args=[], keywords=[])), ctx=Store()), slice=Slice(Dict(keys=[], values=[])), ctx=Store()), slice=Slice(BoolOp(op=Or(), values=[])), ctx=Store())], value=Expr(value=Name(id='ExcXjv1h', ctx=Del())), type_comment=\"R\")\n",
      "H[:][:][set():set():set()] = -set() # type: y{ # Assign(targets=[Subscript(value=Subscript(value=Subscript(value=Name(id='H', ctx=Store()), slice=Slice(), ctx=Store()), slice=Slice(), ctx=Store()), slice=Slice(Call(func=Name(id=\"set\", ctx=Load()), args=[], keywords=[]), Call(func=Name(id=\"set\", ctx=Load()), args=[], keywords=[]), Call(func=Name(id=\"set\", ctx=Load()), args=[], keywords=[])), ctx=Store())], value=UnaryOp(op=USub(), operand=Call(func=Name(id=\"set\", ctx=Load()), args=[], keywords=[])), type_comment='y{')\n",
      "K[:][:] = a[:][set():set()] = False # type: USsF # Assign(targets=[Subscript(value=Subscript(value=Name(id='K', ctx=Store()), slice=Slice(), ctx=Store()), slice=Slice(), ctx=Store()), Subscript(value=Subscript(value=Name(id='a', ctx=Store()), slice=Slice(), ctx=Store()), slice=Slice(Call(func=Name(id=\"set\", ctx=Load()), args=[], keywords=[]), Call(func=Name(id=\"set\", ctx=Load()), args=[], keywords=[])), ctx=Store())], value=Constant(value=False), type_comment=\"USsF\")\n",
      "B[set():set()] = set()[:] << (set()[:]) # type: K # Assign(targets=[Subscript(value=Name(id='B', ctx=Store()), slice=Slice(Call(func=Name(id=\"set\", ctx=Load()), args=[], keywords=[]), Call(func=Name(id=\"set\", ctx=Load()), args=[], keywords=[])), ctx=Store())], value=BinOp(left=Subscript(value=Call(func=Name(id=\"set\", ctx=Load()), args=[], keywords=[]), slice=Slice(), ctx=Del()), op=LShift(), right=Compare(left=Subscript(value=Call(func=Name(id=\"set\", ctx=Load()), args=[], keywords=[]), slice=Slice(), ctx=Del()), ops=[], comparators=[])), type_comment='K')\n",
      "sKC = fm = (*set().y, *{set()}) # type: L^}3QF # Assign(targets=[Name(id='sKC', ctx=Store()), Name(id='fm', ctx=Store())], value=Tuple(elts=[Starred(value=Attribute(value=Call(func=Name(id=\"set\", ctx=Load()), args=[], keywords=[]), attr='y', ctx=Del()), ctx=Del()), Starred(value=Set(elts=[Call(func=Name(id=\"set\", ctx=Load()), args=[], keywords=[])]), ctx=Load())], ctx=Del()), type_comment='L^}3QF')\n",
      "S = n = I = [set(), set(), F] # type: 8-h # Assign(targets=[Name(id='S', ctx=Store()), Name(id='n', ctx=Store()), Name(id='I', ctx=Store())], value=List(elts=[Call(func=Name(id=\"set\", ctx=Load()), args=[], keywords=[]), Call(func=Name(id=\"set\", ctx=Load()), args=[], keywords=[]), Name(id='F', ctx=Load())], ctx=Load()), type_comment=\"8-h\")\n",
      "gy = set() % set() @ set() - (set() & set()) # type: .~ # Assign(targets=[Name(id='gy', ctx=Store())], value=BinOp(left=BinOp(left=BinOp(left=Call(func=Name(id=\"set\", ctx=Load()), args=[], keywords=[]), op=Mod(), right=Call(func=Name(id=\"set\", ctx=Load()), args=[], keywords=[])), op=MatMult(), right=Call(func=Name(id=\"set\", ctx=Load()), args=[], keywords=[])), op=Sub(), right=BinOp(left=Call(func=Name(id=\"set\", ctx=Load()), args=[], keywords=[]), op=BitAnd(), right=Call(func=Name(id=\"set\", ctx=Load()), args=[], keywords=[]))), type_comment=\".~\")\n",
      "cnoOWRu = set() * (set() >> set() ^ set() + set()) # type: ['Ox# # Assign(targets=[Name(id='cnoOWRu', ctx=Store())], value=BinOp(left=Call(func=Name(id=\"set\", ctx=Load()), args=[], keywords=[]), op=Mult(), right=BinOp(left=BinOp(left=Call(func=Name(id=\"set\", ctx=Load()), args=[], keywords=[]), op=RShift(), right=Call(func=Name(id=\"set\", ctx=Load()), args=[], keywords=[])), op=BitXor(), right=BinOp(left=Call(func=Name(id=\"set\", ctx=Load()), args=[], keywords=[]), op=Add(), right=Call(func=Name(id=\"set\", ctx=Load()), args=[], keywords=[])))), type_comment=\"['Ox#\")\n",
      "\n",
      "<AugAssign>\n",
      "K <<= set()                              # AugAssign(target=Name(id='K', ctx=Store()), op=LShift(), value=Call(func=Name(id=\"set\", ctx=Load()), args=[], keywords=[]))\n",
      "(_, [A]).H ^= (*{}.a[set() | set():set():], False) # AugAssign(target=Attribute(value=Tuple(elts=[Name(id='_', ctx=Store()), List(elts=[Name(id='A', ctx=Store())], ctx=Store())], ctx=Store()), attr='H', ctx=Store()), op=BitXor(), value=Tuple(elts=[Subscript(value=Attribute(value=Starred(value=Dict(keys=[], values=[]), ctx=Del()), attr='a', ctx=Del()), slice=Slice(BinOp(left=Call(func=Name(id=\"set\", ctx=Load()), args=[], keywords=[]), op=BitOr(), right=Call(func=Name(id=\"set\", ctx=Load()), args=[], keywords=[])), Call(func=Name(id=\"set\", ctx=Load()), args=[], keywords=[]), BoolOp(op=Or(), values=[])), ctx=Load()), Constant(value=False)], ctx=Load()))\n",
      "*i[:][:][y():set()] -= [~(\n",
      "set())]       # AugAssign(target=Subscript(value=Starred(value=Subscript(value=Subscript(value=Name(id='i', ctx=Store()), slice=Slice(), ctx=Store()), slice=Slice(), ctx=Store()), ctx=Store()), slice=Slice(Call(func=Name(id='y', ctx=Del()), args=[], keywords=[]), Call(func=Name(id=\"set\", ctx=Load()), args=[], keywords=[])), ctx=Store()), op=Sub(), value=List(elts=[UnaryOp(op=Invert(), operand=Compare(left=Expr(value=Call(func=Name(id=\"set\", ctx=Load()), args=[], keywords=[])), ops=[], comparators=[]))], ctx=Load()))\n",
      "t3lmH[(set(), set()):] //= oxNerA8       # AugAssign(target=Subscript(value=Name(id='t3lmH', ctx=Store()), slice=Slice(Tuple(elts=[Call(func=Name(id=\"set\", ctx=Load()), args=[], keywords=[]), Call(func=Name(id=\"set\", ctx=Load()), args=[], keywords=[])], ctx=Del())), ctx=Store()), op=FloorDiv(), value=Name(id='oxNerA8', ctx=Load()))\n",
      "pdnk2WaQFLs @= {*[set()].Qc[set().x:]}   # AugAssign(target=Name(id='pdnk2WaQFLs', ctx=Store()), op=MatMult(), value=Set(elts=[Subscript(value=Starred(value=Attribute(value=List(elts=[Call(func=Name(id=\"set\", ctx=Load()), args=[], keywords=[])], ctx=Del()), attr='Qc', ctx=Load()), ctx=Load()), slice=Slice(Attribute(value=Call(func=Name(id=\"set\", ctx=Load()), args=[], keywords=[]), attr='x', ctx=Load())), ctx=Del())]))\n",
      "YMy **= (set() + (set() & set())) / (None % (set() >> set())) # AugAssign(target=Name(id='YMy', ctx=Store()), op=Pow(), value=BinOp(left=BinOp(left=Call(func=Name(id=\"set\", ctx=Load()), args=[], keywords=[]), op=Add(), right=BinOp(left=Call(func=Name(id=\"set\", ctx=Load()), args=[], keywords=[]), op=BitAnd(), right=Call(func=Name(id=\"set\", ctx=Load()), args=[], keywords=[]))), op=Div(), right=BinOp(left=Constant(value=None), op=Mod(), right=BinOp(left=Call(func=Name(id=\"set\", ctx=Load()), args=[], keywords=[]), op=RShift(), right=Call(func=Name(id=\"set\", ctx=Load()), args=[], keywords=[])))))\n",
      "rXvE0_VP7puUYSIJwg4qDZt9z6RjiChKGTofbBO15 *= +'h' # AugAssign(target=Name(id='rXvE0_VP7puUYSIJwg4qDZt9z6RjiChKGTofbBO15', ctx=Store()), op=Mult(), value=UnaryOp(op=UAdd(), operand=Constant(value=\"h\")))\n",
      "PFUN += not True[set():](991.2, J=None, k=False) # AugAssign(target=Name(id='PFUN', ctx=Store()), op=Add(), value=UnaryOp(op=Not(), operand=Call(func=Subscript(value=Constant(value=True), slice=Slice(Call(func=Name(id=\"set\", ctx=Load()), args=[], keywords=[])), ctx=Del()), args=[Constant(value=991.2)], keywords=[keyword(arg='J', value=Constant(value=None)), keyword(arg='k', value=Constant(value=False))])))\n",
      "g ^= (-set()).m(set(), , u=-set(), h=set()) # AugAssign(target=Name(id='g', ctx=Store()), op=BitXor(), value=Call(func=Attribute(value=UnaryOp(op=USub(), operand=Call(func=Name(id=\"set\", ctx=Load()), args=[], keywords=[])), attr='m', ctx=Load()), args=[Call(func=Name(id=\"set\", ctx=Load()), args=[], keywords=[]), BoolOp(op=And(), values=[])], keywords=[keyword(arg='u', value=UnaryOp(op=USub(), operand=Call(func=Name(id=\"set\", ctx=Load()), args=[], keywords=[]))), keyword(arg='h', value=Call(func=Name(id=\"set\", ctx=Load()), args=[], keywords=[]))]))\n",
      "Ce |= 448                                # AugAssign(target=Name(id='Ce', ctx=Store()), op=BitOr(), value=Constant(value=448))\n",
      "\n"
     ]
    }
   ],
   "source": [
    "for elt in ['<Assign>', '<AugAssign>']:\n",
    "    print(elt)\n",
    "    test_samples(PYTHON_AST_ASSIGNMENTS_GRAMMAR, start_symbol=elt)\n",
    "    print()"
   ]
  },
  {
   "cell_type": "markdown",
   "id": "a4e9fa49",
   "metadata": {
    "slideshow": {
     "slide_type": "subslide"
    }
   },
   "source": [
    "### End of Excursion"
   ]
  },
  {
   "cell_type": "markdown",
   "id": "b09771c4",
   "metadata": {
    "slideshow": {
     "slide_type": "subslide"
    }
   },
   "source": [
    "### Excursion: Statements"
   ]
  },
  {
   "cell_type": "markdown",
   "id": "edd70630",
   "metadata": {
    "slideshow": {
     "slide_type": "fragment"
    }
   },
   "source": [
    "\n",
    "Now for statements. There's quite a lot of these."
   ]
  },
  {
   "cell_type": "code",
   "execution_count": 79,
   "id": "4c417f56",
   "metadata": {
    "execution": {
     "iopub.execute_input": "2025-01-22T08:42:20.875042Z",
     "iopub.status.busy": "2025-01-22T08:42:20.874941Z",
     "iopub.status.idle": "2025-01-22T08:42:20.877846Z",
     "shell.execute_reply": "2025-01-22T08:42:20.877608Z"
    },
    "slideshow": {
     "slide_type": "subslide"
    }
   },
   "outputs": [],
   "source": [
    "PYTHON_AST_STMTS_GRAMMAR: Grammar = extend_grammar(PYTHON_AST_ASSIGNMENTS_GRAMMAR, {\n",
    "    '<start>': [ '<stmt>' ],\n",
    "\n",
    "    '<stmt>': PYTHON_AST_ASSIGNMENTS_GRAMMAR['<stmt>'] + [\n",
    "        '<For>', '<While>', '<If>',\n",
    "        '<Return>', '<Delete>', '<Assert>',\n",
    "        '<Pass>', '<Break>', '<Continue>',\n",
    "        '<With>'\n",
    "    ],\n",
    "\n",
    "    # Control structures\n",
    "    '<For>': [\n",
    "        'For(target=<lhs_expr>, iter=<expr>, body=<nonempty_stmt_list>, orelse=<stmt_list><type_comment>)'\n",
    "    ],\n",
    "    '<stmt_list>': [ '[<stmts>?]' ],\n",
    "    '<nonempty_stmt_list>': [ '[<stmts>]' ],\n",
    "    '<stmts>': [ '<stmt>', '<stmt>, <stmts>' ],\n",
    "\n",
    "    '<While>': [\n",
    "        'While(test=<expr>, body=<nonempty_stmt_list>, orelse=<stmt_list>)'\n",
    "    ],\n",
    "\n",
    "    '<If>': [\n",
    "        'If(test=<expr>, body=<nonempty_stmt_list><orelse_param>)'\n",
    "    ],\n",
    "    '<orelse_param>': [\n",
    "        ', orelse=<stmt_list>'\n",
    "    ],\n",
    "\n",
    "    '<With>': [\n",
    "        'With(items=<withitem_list>, body=<nonempty_stmt_list><type_comment>?)'\n",
    "    ],\n",
    "    '<withitem_list>': [ '[<withitems>?]' ],\n",
    "    '<withitems>': [ '<withitem>', '<withitems>, <withitem>' ],\n",
    "    '<withitem>': [\n",
    "        'withitem(context_expr=<expr>)',\n",
    "        'withitem(context_expr=<expr>, optional_vars=<lhs_expr>)',\n",
    "    ],\n",
    "\n",
    "    # Other statements\n",
    "    '<Return>': [\n",
    "        'Return()',\n",
    "        'Return(value=<expr>)'\n",
    "    ],\n",
    "    '<Delete>': [\n",
    "        'Delete(targets=<expr_list>)'\n",
    "    ],\n",
    "    '<Assert>': [\n",
    "        'Assert(test=<expr>)',\n",
    "        'Assert(test=<expr>, msg=<expr>)'\n",
    "    ],\n",
    "    '<Pass>': [ 'Pass()'],\n",
    "    '<Break>': [ 'Break()' ],\n",
    "    '<Continue>': [ 'Continue()']\n",
    "\n",
    "    # FIXME: A few more: AsyncFor, AsyncWith, Match, Try, TryStar\n",
    "    # Import, ImportFrom, Global, Nonlocal...\n",
    "})"
   ]
  },
  {
   "cell_type": "code",
   "execution_count": 80,
   "id": "5db1c800",
   "metadata": {
    "execution": {
     "iopub.execute_input": "2025-01-22T08:42:20.879358Z",
     "iopub.status.busy": "2025-01-22T08:42:20.879257Z",
     "iopub.status.idle": "2025-01-22T08:42:20.880911Z",
     "shell.execute_reply": "2025-01-22T08:42:20.880699Z"
    },
    "slideshow": {
     "slide_type": "subslide"
    }
   },
   "outputs": [],
   "source": [
    "# do import this unconditionally\n",
    "if sys.version_info >= (3, 13):\n",
    "    PYTHON_AST_STMTS_GRAMMAR: Grammar = \\\n",
    "        extend_grammar(PYTHON_AST_STMTS_GRAMMAR, {\n",
    "        # As of 3.13, orelse is optional\n",
    "        '<If>': [\n",
    "            'If(test=<expr>, body=<nonempty_stmt_list><orelse_param>?)'\n",
    "        ],\n",
    "    })"
   ]
  },
  {
   "cell_type": "code",
   "execution_count": 81,
   "id": "c9d85e10",
   "metadata": {
    "execution": {
     "iopub.execute_input": "2025-01-22T08:42:20.882193Z",
     "iopub.status.busy": "2025-01-22T08:42:20.882127Z",
     "iopub.status.idle": "2025-01-22T08:42:20.884214Z",
     "shell.execute_reply": "2025-01-22T08:42:20.883979Z"
    },
    "slideshow": {
     "slide_type": "fragment"
    }
   },
   "outputs": [],
   "source": [
    "assert is_valid_grammar(PYTHON_AST_STMTS_GRAMMAR)"
   ]
  },
  {
   "cell_type": "code",
   "execution_count": 82,
   "id": "fafb4f86",
   "metadata": {
    "execution": {
     "iopub.execute_input": "2025-01-22T08:42:20.885490Z",
     "iopub.status.busy": "2025-01-22T08:42:20.885423Z",
     "iopub.status.idle": "2025-01-22T08:42:23.116335Z",
     "shell.execute_reply": "2025-01-22T08:42:23.116067Z"
    },
    "slideshow": {
     "slide_type": "subslide"
    }
   },
   "outputs": [
    {
     "name": "stdout",
     "output_type": "stream",
     "text": [
      "<Assign>\n",
      "*[v[:][:][:]][{}:+*set()[:]()] = (XDBoW_Av,).L4 = (32.6,) # type:  # Assign(targets=[Starred(value=Subscript(value=List(elts=[Subscript(value=Subscript(value=Subscript(value=Name(id='v', ctx=Store()), slice=Slice(), ctx=Store()), slice=Slice(), ctx=Store()), slice=Slice(), ctx=Store())], ctx=Store()), slice=Slice(Dict(keys=[], values=[Call(func=Name(id=\"set\", ctx=Load()), args=[], keywords=[]), Call(func=Name(id=\"set\", ctx=Load()), args=[], keywords=[])]), UnaryOp(op=UAdd(), operand=Starred(value=Call(func=Subscript(value=Call(func=Name(id=\"set\", ctx=Load()), args=[], keywords=[]), slice=Slice(), ctx=Load()), args=[], keywords=[]), ctx=Load()))), ctx=Store()), ctx=Store()), Attribute(value=Tuple(elts=[Name(id='XDBoW_Av', ctx=Store())], ctx=Store()), attr='L4', ctx=Store())], value=Tuple(elts=[Constant(value=32.6)], ctx=Load()), type_comment=\"\")\n",
      "g[:][set():][[]::set()] = set()[:]       # Assign(targets=[Subscript(value=Subscript(value=Subscript(value=Name(id='g', ctx=Store()), slice=Slice(), ctx=Store()), slice=Slice(Call(func=Name(id=\"set\", ctx=Load()), args=[], keywords=[])), ctx=Store()), slice=Slice(List(elts=[], ctx=Del()), BoolOp(op=And(), values=[]), Call(func=Name(id=\"set\", ctx=Load()), args=[], keywords=[])), ctx=Store())], value=Compare(left=Subscript(value=Call(func=Name(id=\"set\", ctx=Load()), args=[], keywords=[]), slice=Slice(), ctx=Del()), ops=[], comparators=[Call(func=Name(id=\"set\", ctx=Load()), args=[], keywords=[])]))\n",
      "W[:] = y[:][set():set():set()] = \n",
      "K18E # type: N # Assign(targets=[Subscript(value=Name(id='W', ctx=Store()), slice=Slice(), ctx=Store()), Subscript(value=Subscript(value=Name(id='y', ctx=Store()), slice=Slice(), ctx=Store()), slice=Slice(Call(func=Name(id=\"set\", ctx=Load()), args=[], keywords=[]), Call(func=Name(id=\"set\", ctx=Load()), args=[], keywords=[]), Call(func=Name(id=\"set\", ctx=Load()), args=[], keywords=[])), ctx=Store())], value=Expr(value=Name(id='K18E', ctx=Load())), type_comment='N')\n",
      "V = _ = (set() | set()).E # type: i0     # Assign(targets=[Name(id='V', ctx=Store()), Name(id='_', ctx=Store())], value=Attribute(value=BinOp(left=Call(func=Name(id=\"set\", ctx=Load()), args=[], keywords=[]), op=BitOr(), right=Call(func=Name(id=\"set\", ctx=Load()), args=[], keywords=[])), attr='E', ctx=Del()), type_comment=\"i0\")\n",
      "cZIujm3gC = eMePLrNVy9z2 # type: Wd~OC6+v02ey # Assign(targets=[Name(id='cZIujm3gC', ctx=Store())], value=Name(id='eMePLrNVy9z2', ctx=Del()), type_comment='Wd~OC6+v02ey')\n",
      "Yf0lcOSaT = *[{set()}.b, (set(), set())] # type: *H<u&~|  # Assign(targets=[Name(id='Yf0lcOSaT', ctx=Store())], value=Starred(value=List(elts=[Attribute(value=Set(elts=[Call(func=Name(id=\"set\", ctx=Load()), args=[], keywords=[])]), attr='b', ctx=Load()), Tuple(elts=[Call(func=Name(id=\"set\", ctx=Load()), args=[], keywords=[]), Call(func=Name(id=\"set\", ctx=Load()), args=[], keywords=[])], ctx=Del())], ctx=Load()), ctx=Del()), type_comment=\"*H<u&~| \")\n",
      "N = i = ((set() ^ set()) & set()) * (set() + set()) # type: +ps # Assign(targets=[Name(id='N', ctx=Store()), Name(id='i', ctx=Store())], value=BinOp(left=BinOp(left=BinOp(left=Call(func=Name(id=\"set\", ctx=Load()), args=[], keywords=[]), op=BitXor(), right=Call(func=Name(id=\"set\", ctx=Load()), args=[], keywords=[])), op=BitAnd(), right=Call(func=Name(id=\"set\", ctx=Load()), args=[], keywords=[])), op=Mult(), right=BinOp(left=Call(func=Name(id=\"set\", ctx=Load()), args=[], keywords=[]), op=Add(), right=Call(func=Name(id=\"set\", ctx=Load()), args=[], keywords=[]))), type_comment=\"+ps\")\n",
      "m = P = set() @ set() << set() // set() # type: ]J # Assign(targets=[Name(id='m', ctx=Store()), Name(id='P', ctx=Store())], value=BinOp(left=BinOp(left=Call(func=Name(id=\"set\", ctx=Load()), args=[], keywords=[]), op=MatMult(), right=Call(func=Name(id=\"set\", ctx=Load()), args=[], keywords=[])), op=LShift(), right=BinOp(left=Call(func=Name(id=\"set\", ctx=Load()), args=[], keywords=[]), op=FloorDiv(), right=Call(func=Name(id=\"set\", ctx=Load()), args=[], keywords=[]))), type_comment=']J')\n",
      "j = O = 18 % (set() / set()) # type: R?$6 # Assign(targets=[Name(id='j', ctx=Store()), Name(id='O', ctx=Store())], value=BinOp(left=Constant(value=18), op=Mod(), right=BinOp(left=Call(func=Name(id=\"set\", ctx=Load()), args=[], keywords=[]), op=Div(), right=Call(func=Name(id=\"set\", ctx=Load()), args=[], keywords=[]))), type_comment=\"R?$6\")\n",
      "TGFJsqKdXkwb65xYnpHRh7UtQi4u = False # type: q(Q>GHPBsa!|bUV9&$w`Su.8-hAi3}7)#=LDx@5\"?Kgjkz,pt_r%XT1m/f{c*;^ZlIE: YRnoM4[F< # Assign(targets=[Name(id='TGFJsqKdXkwb65xYnpHRh7UtQi4u', ctx=Store())], value=Constant(value=False), type_comment='q(Q>GHPBsa!|bUV9&$w`Su.8-hAi3}7)#=LDx@5\"?Kgjkz,pt_r%XT1m/f{c*;^ZlIE: YRnoM4[F<')\n",
      "\n",
      "<AugAssign>\n",
      "(*krT_.qL2x,)[~[\n",
      "set(), None, {}[:]].L:] //= (,) # AugAssign(target=Subscript(value=Tuple(elts=[Attribute(value=Starred(value=Name(id='krT_', ctx=Store()), ctx=Store()), attr='qL2x', ctx=Store())], ctx=Store()), slice=Slice(UnaryOp(op=Invert(), operand=Attribute(value=List(elts=[Expr(value=Call(func=Name(id=\"set\", ctx=Load()), args=[], keywords=[])), Constant(value=None), Subscript(value=Dict(keys=[Call(func=Name(id=\"set\", ctx=Load()), args=[], keywords=[])], values=[]), slice=Slice(), ctx=Del())], ctx=Load()), attr='L', ctx=Load()))), ctx=Store()), op=FloorDiv(), value=Tuple(elts=[BoolOp(op=And(), values=[])], ctx=Del()))\n",
      "[h[:], F[:], l[:][set():Z]] -= U(*set() | set()) # AugAssign(target=List(elts=[Subscript(value=Name(id='h', ctx=Store()), slice=Slice(), ctx=Store()), Subscript(value=Name(id='F', ctx=Store()), slice=Slice(), ctx=Store()), Subscript(value=Subscript(value=Name(id='l', ctx=Store()), slice=Slice(), ctx=Store()), slice=Slice(Compare(left=Call(func=Name(id=\"set\", ctx=Load()), args=[], keywords=[]), ops=[], comparators=[]), Name(id='Z', ctx=Load())), ctx=Store())], ctx=Store()), op=Sub(), value=Call(func=Name(id='U', ctx=Del()), args=[BinOp(left=Starred(value=Call(func=Name(id=\"set\", ctx=Load()), args=[], keywords=[]), ctx=Del()), op=BitOr(), right=Call(func=Name(id=\"set\", ctx=Load()), args=[], keywords=[]))], keywords=[]))\n",
      "Q[[]:set()][[]:set()[:]:set()[:]] &= *(set(),).b # AugAssign(target=Subscript(value=Subscript(value=Name(id='Q', ctx=Store()), slice=Slice(List(elts=[], ctx=Del()), Call(func=Name(id=\"set\", ctx=Load()), args=[], keywords=[])), ctx=Store()), slice=Slice(List(elts=[], ctx=Del()), Subscript(value=Call(func=Name(id=\"set\", ctx=Load()), args=[], keywords=[]), slice=Slice(), ctx=Load()), Subscript(value=Call(func=Name(id=\"set\", ctx=Load()), args=[], keywords=[]), slice=Slice(), ctx=Load())), ctx=Store()), op=BitAnd(), value=Starred(value=Attribute(value=Tuple(elts=[Call(func=Name(id=\"set\", ctx=Load()), args=[], keywords=[])], ctx=Load()), attr='b', ctx=Del()), ctx=Load()))\n",
      "wnBzQMG <<= {set() @ set() ^ set() ** set() / set()} # AugAssign(target=Name(id='wnBzQMG', ctx=Store()), op=LShift(), value=Set(elts=[BinOp(left=BinOp(left=Call(func=Name(id=\"set\", ctx=Load()), args=[], keywords=[]), op=MatMult(), right=Call(func=Name(id=\"set\", ctx=Load()), args=[], keywords=[])), op=BitXor(), right=BinOp(left=BinOp(left=Call(func=Name(id=\"set\", ctx=Load()), args=[], keywords=[]), op=Pow(), right=Call(func=Name(id=\"set\", ctx=Load()), args=[], keywords=[])), op=Div(), right=Call(func=Name(id=\"set\", ctx=Load()), args=[], keywords=[])))]))\n",
      "Psdhpk1YVICRcN0J4wDPjqZmE856iFUbKf9oASWlXgvtyH7Oeua3Lyt6 *= 48.5 # AugAssign(target=Name(id='Psdhpk1YVICRcN0J4wDPjqZmE856iFUbKf9oASWlXgvtyH7Oeua3Lyt6', ctx=Store()), op=Mult(), value=Constant(value=48.5))\n",
      "a %= ''                                  # AugAssign(target=Name(id='a', ctx=Store()), op=Mod(), value=Constant(value=\"\"))\n",
      "J += -True                               # AugAssign(target=Name(id='J', ctx=Store()), op=Add(), value=UnaryOp(op=USub(), operand=Constant(value=True)))\n",
      "oU >>= set()[set():set():set()](E=set(), H=set()) # AugAssign(target=Name(id='oU', ctx=Store()), op=RShift(), value=Call(func=Subscript(value=Call(func=Name(id=\"set\", ctx=Load()), args=[], keywords=[]), slice=Slice(Call(func=Name(id=\"set\", ctx=Load()), args=[], keywords=[]), Call(func=Name(id=\"set\", ctx=Load()), args=[], keywords=[]), Call(func=Name(id=\"set\", ctx=Load()), args=[], keywords=[])), ctx=Del()), args=[], keywords=[keyword(arg='E', value=Call(func=Name(id=\"set\", ctx=Load()), args=[], keywords=[])), keyword(arg='H', value=Call(func=Name(id=\"set\", ctx=Load()), args=[], keywords=[]))]))\n",
      "N //= not +(not 7927416330)              # AugAssign(target=Name(id='N', ctx=Store()), op=FloorDiv(), value=UnaryOp(op=Not(), operand=UnaryOp(op=UAdd(), operand=UnaryOp(op=Not(), operand=Constant(value=7927416330)))))\n",
      "s += '' or False or 8888 .W((set()), v=set(), Y=set()) # AugAssign(target=Name(id='s', ctx=Store()), op=Add(), value=BoolOp(op=Or(), values=[Constant(value=''), Constant(value=False), Call(func=Attribute(value=Constant(value=8888), attr='W', ctx=Load()), args=[Compare(left=Compare(left=Call(func=Name(id=\"set\", ctx=Load()), args=[], keywords=[]), ops=[], comparators=[]), ops=[], comparators=[])], keywords=[keyword(arg='v', value=Call(func=Name(id=\"set\", ctx=Load()), args=[], keywords=[])), keyword(arg='Y', value=Call(func=Name(id=\"set\", ctx=Load()), args=[], keywords=[]))])]))\n",
      "\n",
      "<Expr>\n",
      "\n",
      "*{(None, n, [] << +R()[{}.r::set().I])} # Expr(value=Expr(value=Starred(value=Set(elts=[Tuple(elts=[Constant(value=None), Name(id='n', ctx=Load()), BinOp(left=List(elts=[], ctx=Del()), op=LShift(), right=UnaryOp(op=UAdd(), operand=Subscript(value=Call(func=Name(id='R', ctx=Del()), args=[], keywords=[]), slice=Slice(Attribute(value=Dict(keys=[], values=[]), attr='r', ctx=Del()), BoolOp(op=Or(), values=[]), Compare(left=Attribute(value=Call(func=Name(id=\"set\", ctx=Load()), args=[], keywords=[]), attr='I', ctx=Load()), ops=[], comparators=[])), ctx=Del())))], ctx=Load())]), ctx=Del())))\n",
      "(*((set() ^ set()) - (set() | set())) / (set() % set()), [set(), set() >> set(), set() // set(), set() + set()])[:] # Expr(value=Subscript(value=Tuple(elts=[Starred(value=BinOp(left=BinOp(left=BinOp(left=Call(func=Name(id=\"set\", ctx=Load()), args=[], keywords=[]), op=BitXor(), right=Call(func=Name(id=\"set\", ctx=Load()), args=[], keywords=[])), op=Sub(), right=BinOp(left=Call(func=Name(id=\"set\", ctx=Load()), args=[], keywords=[]), op=BitOr(), right=Call(func=Name(id=\"set\", ctx=Load()), args=[], keywords=[]))), op=Div(), right=BinOp(left=Call(func=Name(id=\"set\", ctx=Load()), args=[], keywords=[]), op=Mod(), right=Call(func=Name(id=\"set\", ctx=Load()), args=[], keywords=[]))), ctx=Load()), List(elts=[Call(func=Name(id=\"set\", ctx=Load()), args=[], keywords=[]), BinOp(left=Call(func=Name(id=\"set\", ctx=Load()), args=[], keywords=[]), op=RShift(), right=Call(func=Name(id=\"set\", ctx=Load()), args=[], keywords=[])), BinOp(left=Call(func=Name(id=\"set\", ctx=Load()), args=[], keywords=[]), op=FloorDiv(), right=Call(func=Name(id=\"set\", ctx=Load()), args=[], keywords=[])), BinOp(left=Call(func=Name(id=\"set\", ctx=Load()), args=[], keywords=[]), op=Add(), right=Call(func=Name(id=\"set\", ctx=Load()), args=[], keywords=[]))], ctx=Load())], ctx=Del()), slice=Slice(), ctx=Load()))\n",
      "851648.62 * True & 0                     # Expr(value=BinOp(left=BinOp(left=Constant(value=851648.62), op=Mult(), right=Constant(value=True)), op=BitAnd(), right=Constant(value=0)))\n",
      "not -((set() @ set()) ** set()[:]())[set().z(_=set()):] # Expr(value=UnaryOp(op=Not(), operand=UnaryOp(op=USub(), operand=Subscript(value=BinOp(left=BinOp(left=Call(func=Name(id=\"set\", ctx=Load()), args=[], keywords=[]), op=MatMult(), right=Call(func=Name(id=\"set\", ctx=Load()), args=[], keywords=[])), op=Pow(), right=Call(func=Subscript(value=Call(func=Name(id=\"set\", ctx=Load()), args=[], keywords=[]), slice=Slice(), ctx=Load()), args=[], keywords=[])), slice=Slice(Call(func=Attribute(value=Call(func=Name(id=\"set\", ctx=Load()), args=[], keywords=[]), attr='z', ctx=Del()), args=[], keywords=[keyword(arg='_', value=Call(func=Name(id=\"set\", ctx=Load()), args=[], keywords=[]))])), ctx=Load()))))\n",
      "'N'                                      # Expr(value=BoolOp(op=And(), values=[Constant(value=\"N\")]))\n",
      "(not ~'f')[~False:+(17 == ZAEPSYo_lKJHf6my8xTR2wg9b3d71qBeC5Mj6)] # Expr(value=Subscript(value=UnaryOp(op=Not(), operand=UnaryOp(op=Invert(), operand=Constant(value='f'))), slice=Slice(UnaryOp(op=Invert(), operand=Constant(value=False)), UnaryOp(op=UAdd(), operand=Compare(left=Constant(value=17), ops=[Eq()], comparators=[Name(id='ZAEPSYo_lKJHf6my8xTR2wg9b3d71qBeC5Mj6', ctx=Load()), Name(id='FcVkWZ0hQsONnpzGLrXut4vFIDiUBa', ctx=Load())]))), ctx=Del()))\n",
      "i                                        # Expr(value=Name(id='i', ctx=Load()))\n",
      "o2                                       # Expr(value=Name(id='o2', ctx=Del()))\n",
      "AR                                       # Expr(value=Name(id='AR', ctx=Load()))\n",
      "Y                                        # Expr(value=Name(id='Y', ctx=Del()))\n",
      "\n",
      "<For>\n",
      "for U, [D, I] in []: # type: j\n",
      "    set()\n",
      "    m /= set() # For(target=Tuple(elts=[Name(id='U', ctx=Store()), List(elts=[Name(id='D', ctx=Store()), Name(id='I', ctx=Store())], ctx=Store())], ctx=Store()), iter=Compare(left=List(elts=[], ctx=Load()), ops=[Eq()], comparators=[]), body=[Expr(value=Call(func=Name(id=\"set\", ctx=Load()), args=[], keywords=[])), AugAssign(target=Name(id='m', ctx=Store()), op=Div(), value=Call(func=Name(id=\"set\", ctx=Load()), args=[], keywords=[]))], orelse=[], type_comment=\"j\")\n",
      "for *O.s in {}: # type: }\n",
      "    with :\n",
      "        break\n",
      "    assert set()\n",
      "else:\n",
      "    pass\n",
      "    return # For(target=Starred(value=Attribute(value=Name(id='O', ctx=Store()), attr='s', ctx=Store()), ctx=Store()), iter=Dict(keys=[], values=[Call(func=Name(id=\"set\", ctx=Load()), args=[], keywords=[])]), body=[With(items=[], body=[Break()]), Assert(test=Call(func=Name(id=\"set\", ctx=Load()), args=[], keywords=[]))], orelse=[Pass(), Return()], type_comment='}')\n",
      "for q[:][set():set():set()] in *set(): # type: \n",
      "    return\n",
      "    return\n",
      "else:\n",
      "    continue\n",
      "    continue # For(target=Subscript(value=Subscript(value=Name(id='q', ctx=Store()), slice=Slice(), ctx=Store()), slice=Slice(Call(func=Name(id=\"set\", ctx=Load()), args=[], keywords=[]), Call(func=Name(id=\"set\", ctx=Load()), args=[], keywords=[]), Call(func=Name(id=\"set\", ctx=Load()), args=[], keywords=[])), ctx=Store()), iter=Starred(value=Call(func=Name(id=\"set\", ctx=Load()), args=[], keywords=[]), ctx=Load()), body=[Return(), Return()], orelse=[Continue(), Continue()], type_comment=\"\")\n",
      "for g[:][set():] in \n",
      "set(): # type: \n",
      "    return\n",
      "else:\n",
      "    l = set()\n",
      "    return # For(target=Subscript(value=Subscript(value=Name(id='g', ctx=Store()), slice=Slice(), ctx=Store()), slice=Slice(Call(func=Name(id=\"set\", ctx=Load()), args=[], keywords=[])), ctx=Store()), iter=Expr(value=Call(func=Name(id=\"set\", ctx=Load()), args=[], keywords=[])), body=[Return()], orelse=[Assign(targets=[Name(id='l', ctx=Store())], value=Call(func=Name(id=\"set\", ctx=Load()), args=[], keywords=[])), Return()], type_comment=\"\")\n",
      "for v in set().F(): # type: \n",
      "    if set():\n",
      "        return\n",
      "    return # For(target=Name(id='v', ctx=Store()), iter=Call(func=Attribute(value=Call(func=Name(id=\"set\", ctx=Load()), args=[], keywords=[]), attr='F', ctx=Load()), args=[], keywords=[]), body=[If(test=Call(func=Name(id=\"set\", ctx=Load()), args=[], keywords=[]), body=[Return()], orelse=[]), Return()], orelse=[], type_comment=\"\")\n",
      "for Z[:] in +set(): # type: \n",
      "    del \n",
      "    return\n",
      "else:\n",
      "    while set():\n",
      "        return # For(target=Subscript(value=Name(id='Z', ctx=Store()), slice=Slice(), ctx=Store()), iter=UnaryOp(op=UAdd(), operand=Call(func=Name(id=\"set\", ctx=Load()), args=[], keywords=[])), body=[Delete(targets=[]), Return()], orelse=[While(test=Call(func=Name(id=\"set\", ctx=Load()), args=[], keywords=[]), body=[Return()], orelse=[])], type_comment=\"\")\n",
      "for z[set():set()] in (): # type: L\n",
      "    for o in set(): # type: \n",
      "        return\n",
      "else:\n",
      "    return\n",
      "    return # For(target=Subscript(value=Name(id='z', ctx=Store()), slice=Slice(Call(func=Name(id=\"set\", ctx=Load()), args=[], keywords=[]), Call(func=Name(id=\"set\", ctx=Load()), args=[], keywords=[])), ctx=Store()), iter=Tuple(elts=[], ctx=Load()), body=[For(target=Name(id='o', ctx=Store()), iter=Call(func=Name(id=\"set\", ctx=Load()), args=[], keywords=[]), body=[Return()], orelse=[], type_comment='')], orelse=[Return(), Return()], type_comment=\"L\")\n",
      "for G[:] in True .KA: # type: \n",
      "    assert set(), set()\n",
      "else:\n",
      "    return # For(target=Subscript(value=Name(id='G', ctx=Store()), slice=Slice(), ctx=Store()), iter=Attribute(value=Constant(value=True), attr='KA', ctx=Del()), body=[Assert(test=Call(func=Name(id=\"set\", ctx=Load()), args=[], keywords=[]), msg=Call(func=Name(id=\"set\", ctx=Load()), args=[], keywords=[]))], orelse=[Return()], type_comment='')\n",
      "for b[:][set() ^ set():] in e[set():]: # type: #\n",
      "    return\n",
      "else:\n",
      "    return # For(target=Subscript(value=Subscript(value=Name(id='b', ctx=Store()), slice=Slice(), ctx=Store()), slice=Slice(BinOp(left=Call(func=Name(id=\"set\", ctx=Load()), args=[], keywords=[]), op=BitXor(), right=Call(func=Name(id=\"set\", ctx=Load()), args=[], keywords=[])), BoolOp(op=And(), values=[])), ctx=Store()), iter=Subscript(value=Name(id='e', ctx=Load()), slice=Slice(Call(func=Name(id=\"set\", ctx=Load()), args=[], keywords=[])), ctx=Load()), body=[Return()], orelse=[Return()], type_comment='#')\n",
      "for LNx in *wu: # type: ckM<v\n",
      "    return k\n",
      "else:\n",
      "    return # For(target=Name(id='LNx', ctx=Store()), iter=Starred(value=Name(id='wu', ctx=Del()), ctx=Del()), body=[Return(value=Name(id='k', ctx=Del()))], orelse=[Return()], type_comment=\"ckM<v\")\n",
      "\n",
      "<While>\n",
      "while \n",
      "k:\n",
      "    pass                       # While(test=BoolOp(op=Or(), values=[Expr(value=Name(id='k', ctx=Load()))]), body=[Pass()], orelse=[])\n",
      "while *set()[set().e:]:\n",
      "    del \n",
      "    with :\n",
      "        return\n",
      "    return\n",
      "    continue\n",
      "else:\n",
      "    break\n",
      "    return # While(test=Subscript(value=Starred(value=Call(func=Name(id=\"set\", ctx=Load()), args=[], keywords=[]), ctx=Load()), slice=Slice(Attribute(value=Call(func=Name(id=\"set\", ctx=Load()), args=[], keywords=[]), attr='e', ctx=Load())), ctx=Load()), body=[Delete(targets=[]), With(items=[], body=[Return()]), Return(), Continue()], orelse=[Break(), Return()])\n",
      "while {}:\n",
      "    for H[:] in set(): # type: \n",
      "        return\n",
      "    else:\n",
      "        return\n",
      "else:\n",
      "    l |= set()\n",
      "    while set():\n",
      "        return # While(test=Dict(keys=[], values=[Call(func=Name(id=\"set\", ctx=Load()), args=[], keywords=[])]), body=[For(target=Subscript(value=Name(id='H', ctx=Store()), slice=Slice(), ctx=Store()), iter=Call(func=Name(id=\"set\", ctx=Load()), args=[], keywords=[]), body=[Return()], orelse=[Return()], type_comment='')], orelse=[AugAssign(target=Name(id='l', ctx=Store()), op=BitOr(), value=Call(func=Name(id=\"set\", ctx=Load()), args=[], keywords=[])), While(test=Call(func=Name(id=\"set\", ctx=Load()), args=[], keywords=[]), body=[Return()], orelse=[])])\n",
      "while 'C':\n",
      "    set()\n",
      "    return\n",
      "else:\n",
      "    t = set()\n",
      "    if set():\n",
      "        return\n",
      "    return\n",
      "    return # While(test=Constant(value=\"C\"), body=[Expr(value=Call(func=Name(id=\"set\", ctx=Load()), args=[], keywords=[])), Return()], orelse=[Assign(targets=[Name(id='t', ctx=Store())], value=Call(func=Name(id=\"set\", ctx=Load()), args=[], keywords=[])), If(test=Call(func=Name(id=\"set\", ctx=Load()), args=[], keywords=[]), body=[Return()], orelse=[]), Return(), Return()])\n",
      "while (not set()) == set():\n",
      "    assert set()\n",
      "    return\n",
      "else:\n",
      "    assert set(), set()\n",
      "    return # While(test=Compare(left=UnaryOp(op=Not(), operand=Call(func=Name(id=\"set\", ctx=Load()), args=[], keywords=[])), ops=[Eq()], comparators=[Call(func=Name(id=\"set\", ctx=Load()), args=[], keywords=[]), Call(func=Name(id=\"set\", ctx=Load()), args=[], keywords=[])]), body=[Assert(test=Call(func=Name(id=\"set\", ctx=Load()), args=[], keywords=[])), Return()], orelse=[Assert(test=Call(func=Name(id=\"set\", ctx=Load()), args=[], keywords=[]), msg=Call(func=Name(id=\"set\", ctx=Load()), args=[], keywords=[])), Return()])\n",
      "while () @ set():\n",
      "    return [set(), set()]\n",
      "    return\n",
      "    return\n",
      "    return\n",
      "else:\n",
      "    return set()[:]() # While(test=BinOp(left=Tuple(elts=[], ctx=Del()), op=MatMult(), right=Call(func=Name(id=\"set\", ctx=Load()), args=[], keywords=[])), body=[Return(value=List(elts=[Call(func=Name(id=\"set\", ctx=Load()), args=[], keywords=[]), Call(func=Name(id=\"set\", ctx=Load()), args=[], keywords=[])], ctx=Del())), Return(), Return(), Return()], orelse=[Return(value=Call(func=Subscript(value=Call(func=Name(id=\"set\", ctx=Load()), args=[], keywords=[]), slice=Slice(), ctx=Del()), args=[], keywords=[]))])\n",
      "while *(set(),):\n",
      "    (h,) //= X\n",
      "    E <<= set()\n",
      "else:\n",
      "    P *= set().W # While(test=Starred(value=Tuple(elts=[Call(func=Name(id=\"set\", ctx=Load()), args=[], keywords=[])], ctx=Load()), ctx=Del()), body=[AugAssign(target=Tuple(elts=[Name(id='h', ctx=Store())], ctx=Store()), op=FloorDiv(), value=Name(id='X', ctx=Del())), AugAssign(target=Name(id='E', ctx=Store()), op=LShift(), value=Call(func=Name(id=\"set\", ctx=Load()), args=[], keywords=[]))], orelse=[AugAssign(target=Name(id='P', ctx=Store()), op=Mult(), value=Attribute(value=Call(func=Name(id=\"set\", ctx=Load()), args=[], keywords=[]), attr='W', ctx=Del()))])\n",
      "while [{set() + set()}]:\n",
      "    *[u] ^= {set() & set() >> set(), set() / set()}\n",
      "else:\n",
      "    s.N %= set()\n",
      "    m **= set() # While(test=List(elts=[Set(elts=[BinOp(left=Call(func=Name(id=\"set\", ctx=Load()), args=[], keywords=[]), op=Add(), right=Call(func=Name(id=\"set\", ctx=Load()), args=[], keywords=[]))])], ctx=Load()), body=[AugAssign(target=Starred(value=List(elts=[Name(id='u', ctx=Store())], ctx=Store()), ctx=Store()), op=BitXor(), value=Set(elts=[BinOp(left=Call(func=Name(id=\"set\", ctx=Load()), args=[], keywords=[]), op=BitAnd(), right=BinOp(left=Call(func=Name(id=\"set\", ctx=Load()), args=[], keywords=[]), op=RShift(), right=Call(func=Name(id=\"set\", ctx=Load()), args=[], keywords=[]))), BinOp(left=Call(func=Name(id=\"set\", ctx=Load()), args=[], keywords=[]), op=Div(), right=Call(func=Name(id=\"set\", ctx=Load()), args=[], keywords=[]))]))], orelse=[AugAssign(target=Attribute(value=Name(id='s', ctx=Store()), attr='N', ctx=Store()), op=Mod(), value=Call(func=Name(id=\"set\", ctx=Load()), args=[], keywords=[])), AugAssign(target=Name(id='m', ctx=Store()), op=Pow(), value=Call(func=Name(id=\"set\", ctx=Load()), args=[], keywords=[]))])\n",
      "while False:\n",
      "    with set(), set(): # type: ^B\n",
      "        x -= set()\n",
      "else:\n",
      "    v = +5 # type: % # While(test=Constant(value=False), body=[With(items=[withitem(context_expr=Call(func=Name(id=\"set\", ctx=Load()), args=[], keywords=[])), withitem(context_expr=Call(func=Name(id=\"set\", ctx=Load()), args=[], keywords=[]))], body=[AugAssign(target=Name(id='x', ctx=Store()), op=Sub(), value=Call(func=Name(id=\"set\", ctx=Load()), args=[], keywords=[]))], type_comment='^B')], orelse=[Assign(targets=[Name(id='v', ctx=Store())], value=UnaryOp(op=UAdd(), operand=Constant(value=5)), type_comment='%')])\n",
      "while ~Y():\n",
      "    T = set()\n",
      "    return\n",
      "    return\n",
      "else:\n",
      "    p = set()[:]() # While(test=UnaryOp(op=Invert(), operand=Call(func=Name(id='Y', ctx=Del()), args=[], keywords=[])), body=[Assign(targets=[Name(id='T', ctx=Store())], value=Call(func=Name(id=\"set\", ctx=Load()), args=[], keywords=[])), Return(), Return()], orelse=[Assign(targets=[Name(id='p', ctx=Store())], value=Call(func=Subscript(value=Call(func=Name(id=\"set\", ctx=Load()), args=[], keywords=[]), slice=Slice(), ctx=Load()), args=[], keywords=[]))])\n",
      "\n",
      "<If>\n",
      "if :\n",
      "    return\n",
      "    for [a] in set(): # type: \n",
      "        break\n",
      "    pass\n",
      "    continue\n",
      "    return\n",
      "else:\n",
      "    del set()[:] # If(test=BoolOp(op=Or(), values=[]), body=[Return(), For(target=List(elts=[Name(id='a', ctx=Store())], ctx=Store()), iter=Call(func=Name(id=\"set\", ctx=Load()), args=[], keywords=[]), body=[Break()], orelse=[], type_comment=\"\"), Pass(), Continue(), Return()], orelse=[Delete(targets=[Subscript(value=Call(func=Name(id=\"set\", ctx=Load()), args=[], keywords=[]), slice=Slice(), ctx=Load())])])\n",
      "if set()[:]():\n",
      "    set()\n",
      "    u %= set()\n",
      "    return\n",
      "else:\n",
      "    return\n",
      "    return # If(test=Call(func=Subscript(value=Call(func=Name(id=\"set\", ctx=Load()), args=[], keywords=[]), slice=Slice(), ctx=Del()), args=[], keywords=[]), body=[Expr(value=Call(func=Name(id=\"set\", ctx=Load()), args=[], keywords=[])), AugAssign(target=Name(id='u', ctx=Store()), op=Mod(), value=Call(func=Name(id=\"set\", ctx=Load()), args=[], keywords=[])), Return()], orelse=[Return(), Return()])\n",
      "if None >= set():\n",
      "    assert set(), set().q\n",
      "    return\n",
      "    return\n",
      "else:\n",
      "    return # If(test=Compare(left=Constant(value=None), ops=[GtE()], comparators=[Call(func=Name(id=\"set\", ctx=Load()), args=[], keywords=[]), Call(func=Name(id=\"set\", ctx=Load()), args=[], keywords=[])]), body=[Assert(test=Call(func=Name(id=\"set\", ctx=Load()), args=[], keywords=[]), msg=Attribute(value=Call(func=Name(id=\"set\", ctx=Load()), args=[], keywords=[]), attr='q', ctx=Del())), Return(), Return()], orelse=[Return()])\n",
      "if +va:\n",
      "    while set():\n",
      "        return\n",
      "    if set():\n",
      "        return\n",
      "else:\n",
      "    Z = *set() # If(test=UnaryOp(op=UAdd(), operand=Name(id='va', ctx=Load())), body=[While(test=Call(func=Name(id=\"set\", ctx=Load()), args=[], keywords=[]), body=[Return()], orelse=[]), If(test=Call(func=Name(id=\"set\", ctx=Load()), args=[], keywords=[]), body=[Return()], orelse=[])], orelse=[Assign(targets=[Name(id='Z', ctx=Store())], value=Starred(value=Call(func=Name(id=\"set\", ctx=Load()), args=[], keywords=[]), ctx=Del()))])\n",
      "if \n",
      "set() << []:\n",
      "    with :\n",
      "        return\n",
      "    assert ()\n",
      "else:\n",
      "    j &= set()\n",
      "    return set() # If(test=Expr(value=BinOp(left=Call(func=Name(id=\"set\", ctx=Load()), args=[], keywords=[]), op=LShift(), right=List(elts=[], ctx=Load()))), body=[With(items=[], body=[Return()]), Assert(test=Tuple(elts=[], ctx=Del()))], orelse=[AugAssign(target=Name(id='j', ctx=Store()), op=BitAnd(), value=Call(func=Name(id=\"set\", ctx=Load()), args=[], keywords=[])), Return(value=Call(func=Name(id=\"set\", ctx=Load()), args=[], keywords=[]))])\n",
      "if {set(): set()}:\n",
      "    G[:] **= set()\n",
      "else:\n",
      "    (Q,) += set() # If(test=Dict(keys=[Call(func=Name(id=\"set\", ctx=Load()), args=[], keywords=[])], values=[Call(func=Name(id=\"set\", ctx=Load()), args=[], keywords=[]), Call(func=Name(id=\"set\", ctx=Load()), args=[], keywords=[])]), body=[AugAssign(target=Subscript(value=Name(id='G', ctx=Store()), slice=Slice(), ctx=Store()), op=Pow(), value=Call(func=Name(id=\"set\", ctx=Load()), args=[], keywords=[]))], orelse=[AugAssign(target=Tuple(elts=[Name(id='Q', ctx=Store())], ctx=Store()), op=Add(), value=Call(func=Name(id=\"set\", ctx=Load()), args=[], keywords=[]))])\n",
      "if *(set(),):\n",
      "    h |= set()\n",
      "    D >>= set()\n",
      "else:\n",
      "    *W /= r # If(test=Starred(value=Tuple(elts=[Call(func=Name(id=\"set\", ctx=Load()), args=[], keywords=[])], ctx=Load()), ctx=Load()), body=[AugAssign(target=Name(id='h', ctx=Store()), op=BitOr(), value=Call(func=Name(id=\"set\", ctx=Load()), args=[], keywords=[])), AugAssign(target=Name(id='D', ctx=Store()), op=RShift(), value=Call(func=Name(id=\"set\", ctx=Load()), args=[], keywords=[]))], orelse=[AugAssign(target=Starred(value=Name(id='W', ctx=Store()), ctx=Store()), op=Div(), value=Name(id='r', ctx=Del()))])\n",
      "if {[set(), set(), set()]}:\n",
      "    w[:].N ^= set().F\n",
      "else:\n",
      "    L[:].z *= set().C # If(test=Set(elts=[List(elts=[Call(func=Name(id=\"set\", ctx=Load()), args=[], keywords=[]), Call(func=Name(id=\"set\", ctx=Load()), args=[], keywords=[]), Call(func=Name(id=\"set\", ctx=Load()), args=[], keywords=[])], ctx=Del())]), body=[AugAssign(target=Attribute(value=Subscript(value=Name(id='w', ctx=Store()), slice=Slice(), ctx=Store()), attr='N', ctx=Store()), op=BitXor(), value=Attribute(value=Call(func=Name(id=\"set\", ctx=Load()), args=[], keywords=[]), attr='F', ctx=Load()))], orelse=[AugAssign(target=Attribute(value=Subscript(value=Name(id='L', ctx=Store()), slice=Slice(), ctx=Store()), attr='z', ctx=Store()), op=Mult(), value=Attribute(value=Call(func=Name(id=\"set\", ctx=Load()), args=[], keywords=[]), attr='C', ctx=Load()))])\n",
      "if 192:\n",
      "    return\n",
      "    k //= set()\n",
      "else:\n",
      "    y -= set()\n",
      "    d @= set() # If(test=Constant(value=192), body=[Return(), AugAssign(target=Name(id='k', ctx=Store()), op=FloorDiv(), value=Call(func=Name(id=\"set\", ctx=Load()), args=[], keywords=[]))], orelse=[AugAssign(target=Name(id='y', ctx=Store()), op=Sub(), value=Call(func=Name(id=\"set\", ctx=Load()), args=[], keywords=[])), AugAssign(target=Name(id='d', ctx=Store()), op=MatMult(), value=Call(func=Name(id=\"set\", ctx=Load()), args=[], keywords=[]))])\n",
      "if not True[set():set()]:\n",
      "    S = False\n",
      "else:\n",
      "    E = J = set() # If(test=UnaryOp(op=Not(), operand=Subscript(value=Constant(value=True), slice=Slice(Call(func=Name(id=\"set\", ctx=Load()), args=[], keywords=[]), Call(func=Name(id=\"set\", ctx=Load()), args=[], keywords=[])), ctx=Load())), body=[Assign(targets=[Name(id='S', ctx=Store())], value=Constant(value=False))], orelse=[Assign(targets=[Name(id='E', ctx=Store()), Name(id='J', ctx=Store())], value=Call(func=Name(id=\"set\", ctx=Load()), args=[], keywords=[]))])\n",
      "\n",
      "<Return>\n",
      "return ()                                # Return(value=Tuple(elts=[], ctx=Load()))\n",
      "return                                   # Return()\n",
      "return *[{set(): g(), set().k: set()[:], set(): False}, set()] # Return(value=Starred(value=List(elts=[Dict(keys=[Call(func=Name(id=\"set\", ctx=Load()), args=[], keywords=[]), Attribute(value=Call(func=Name(id=\"set\", ctx=Load()), args=[], keywords=[]), attr='k', ctx=Load()), Compare(left=Call(func=Name(id=\"set\", ctx=Load()), args=[], keywords=[]), ops=[], comparators=[])], values=[Call(func=Name(id='g', ctx=Load()), args=[], keywords=[]), Subscript(value=Call(func=Name(id=\"set\", ctx=Load()), args=[], keywords=[]), slice=Slice(), ctx=Del()), Constant(value=False)]), BoolOp(op=Or(), values=[Call(func=Name(id=\"set\", ctx=Load()), args=[], keywords=[])])], ctx=Del()), ctx=Load()))\n",
      "return O2sIF9wuGDe5hBzM10X7a >> (not \n",
      "{[*(set(), set())[set() ^ set():set() % set()]].idboHj}) # Return(value=BinOp(left=Name(id='O2sIF9wuGDe5hBzM10X7a', ctx=Del()), op=RShift(), right=UnaryOp(op=Not(), operand=Expr(value=Set(elts=[Attribute(value=List(elts=[Starred(value=Subscript(value=Tuple(elts=[Call(func=Name(id=\"set\", ctx=Load()), args=[], keywords=[]), Call(func=Name(id=\"set\", ctx=Load()), args=[], keywords=[])], ctx=Del()), slice=Slice(BinOp(left=Call(func=Name(id=\"set\", ctx=Load()), args=[], keywords=[]), op=BitXor(), right=Call(func=Name(id=\"set\", ctx=Load()), args=[], keywords=[])), BinOp(left=Call(func=Name(id=\"set\", ctx=Load()), args=[], keywords=[]), op=Mod(), right=Call(func=Name(id=\"set\", ctx=Load()), args=[], keywords=[]))), ctx=Load()), ctx=Del())], ctx=Load()), attr='idboHj', ctx=Del())])))))\n",
      "return ((set() | set()) << set() - set()) @ (set() ** set() * (set() / set())) # Return(value=BinOp(left=BinOp(left=BinOp(left=Call(func=Name(id=\"set\", ctx=Load()), args=[], keywords=[]), op=BitOr(), right=Call(func=Name(id=\"set\", ctx=Load()), args=[], keywords=[])), op=LShift(), right=BinOp(left=Call(func=Name(id=\"set\", ctx=Load()), args=[], keywords=[]), op=Sub(), right=Call(func=Name(id=\"set\", ctx=Load()), args=[], keywords=[]))), op=MatMult(), right=BinOp(left=BinOp(left=Call(func=Name(id=\"set\", ctx=Load()), args=[], keywords=[]), op=Pow(), right=Call(func=Name(id=\"set\", ctx=Load()), args=[], keywords=[])), op=Mult(), right=BinOp(left=Call(func=Name(id=\"set\", ctx=Load()), args=[], keywords=[]), op=Div(), right=Call(func=Name(id=\"set\", ctx=Load()), args=[], keywords=[])))))\n",
      "return 7.33                              # Return(value=Constant(value=7.33))\n",
      "return 'G'                               # Return(value=Constant(value=\"G\"))\n",
      "return ~-None & set()[:](set(), X=set()) // +set()[:].c(set()[:], set()[:], l=set(), Q=set()) # Return(value=BinOp(left=UnaryOp(op=Invert(), operand=UnaryOp(op=USub(), operand=Constant(value=None))), op=BitAnd(), right=BinOp(left=Call(func=Subscript(value=Call(func=Name(id=\"set\", ctx=Load()), args=[], keywords=[]), slice=Slice(), ctx=Load()), args=[Call(func=Name(id=\"set\", ctx=Load()), args=[], keywords=[])], keywords=[keyword(arg='X', value=Call(func=Name(id=\"set\", ctx=Load()), args=[], keywords=[]))]), op=FloorDiv(), right=UnaryOp(op=UAdd(), operand=Call(func=Attribute(value=Subscript(value=Call(func=Name(id=\"set\", ctx=Load()), args=[], keywords=[]), slice=Slice(), ctx=Del()), attr='c', ctx=Del()), args=[Subscript(value=Call(func=Name(id=\"set\", ctx=Load()), args=[], keywords=[]), slice=Slice(), ctx=Del()), Subscript(value=Call(func=Name(id=\"set\", ctx=Load()), args=[], keywords=[]), slice=Slice(), ctx=Load())], keywords=[keyword(arg='l', value=Call(func=Name(id=\"set\", ctx=Load()), args=[], keywords=[])), keyword(arg='Q', value=Call(func=Name(id=\"set\", ctx=Load()), args=[], keywords=[]))])))))\n",
      "return (set() + set() and 24)[''[set() | set():set() % set():set()]:] # Return(value=Subscript(value=BoolOp(op=And(), values=[BinOp(left=Call(func=Name(id=\"set\", ctx=Load()), args=[], keywords=[]), op=Add(), right=Call(func=Name(id=\"set\", ctx=Load()), args=[], keywords=[])), Constant(value=24)]), slice=Slice(Subscript(value=Constant(value=''), slice=Slice(BinOp(left=Call(func=Name(id=\"set\", ctx=Load()), args=[], keywords=[]), op=BitOr(), right=Call(func=Name(id=\"set\", ctx=Load()), args=[], keywords=[])), BinOp(left=Call(func=Name(id=\"set\", ctx=Load()), args=[], keywords=[]), op=Mod(), right=Call(func=Name(id=\"set\", ctx=Load()), args=[], keywords=[])), Call(func=Name(id=\"set\", ctx=Load()), args=[], keywords=[])), ctx=Load())), ctx=Load()))\n",
      "return (oiLk < set() != set()) > 496 <= True # Return(value=Compare(left=Compare(left=Name(id='oiLk', ctx=Del()), ops=[Lt(), NotEq()], comparators=[Call(func=Name(id=\"set\", ctx=Load()), args=[], keywords=[]), Call(func=Name(id=\"set\", ctx=Load()), args=[], keywords=[]), Name(id='f8', ctx=Del())]), ops=[Gt(), LtE()], comparators=[Constant(value=496), Constant(value=True)]))\n",
      "\n",
      "<Delete>\n",
      "del ((not {(set()[:]().PTA2)[*set():\n",
      "{}]})) // True, [] # Delete(targets=[BinOp(left=Compare(left=UnaryOp(op=Not(), operand=Set(elts=[Subscript(value=BoolOp(op=And(), values=[Attribute(value=Call(func=Subscript(value=Call(func=Name(id=\"set\", ctx=Load()), args=[], keywords=[]), slice=Slice(), ctx=Del()), args=[], keywords=[]), attr='PTA2', ctx=Load())]), slice=Slice(Starred(value=Call(func=Name(id=\"set\", ctx=Load()), args=[], keywords=[]), ctx=Del()), Expr(value=Dict(keys=[], values=[]))), ctx=Load())])), ops=[], comparators=[Tuple(elts=[Name(id='G', ctx=Load())], ctx=Load())]), op=FloorDiv(), right=Constant(value=True)), List(elts=[], ctx=Del())])\n",
      "del [set(), set(), set() / set()], *().QD, y4iFkwX # Delete(targets=[List(elts=[Call(func=Name(id=\"set\", ctx=Load()), args=[], keywords=[]), Call(func=Name(id=\"set\", ctx=Load()), args=[], keywords=[]), BinOp(left=Call(func=Name(id=\"set\", ctx=Load()), args=[], keywords=[]), op=Div(), right=Call(func=Name(id=\"set\", ctx=Load()), args=[], keywords=[]))], ctx=Load()), Attribute(value=Starred(value=Tuple(elts=[], ctx=Del()), ctx=Load()), attr='QD', ctx=Del()), Name(id='y4iFkwX', ctx=Del())])\n",
      "del set(), set(), set() ^ set(), set() % set() >> set() - set() @ set() # Delete(targets=[Call(func=Name(id=\"set\", ctx=Load()), args=[], keywords=[]), Call(func=Name(id=\"set\", ctx=Load()), args=[], keywords=[]), BinOp(left=Call(func=Name(id=\"set\", ctx=Load()), args=[], keywords=[]), op=BitXor(), right=Call(func=Name(id=\"set\", ctx=Load()), args=[], keywords=[])), BinOp(left=BinOp(left=Call(func=Name(id=\"set\", ctx=Load()), args=[], keywords=[]), op=Mod(), right=Call(func=Name(id=\"set\", ctx=Load()), args=[], keywords=[])), op=RShift(), right=BinOp(left=Call(func=Name(id=\"set\", ctx=Load()), args=[], keywords=[]), op=Sub(), right=BinOp(left=Call(func=Name(id=\"set\", ctx=Load()), args=[], keywords=[]), op=MatMult(), right=Call(func=Name(id=\"set\", ctx=Load()), args=[], keywords=[]))))])\n",
      "del set() << set(), set() | set(), set() ** set(), set() * (set() + set()) # Delete(targets=[BinOp(left=Call(func=Name(id=\"set\", ctx=Load()), args=[], keywords=[]), op=LShift(), right=Call(func=Name(id=\"set\", ctx=Load()), args=[], keywords=[])), BinOp(left=Call(func=Name(id=\"set\", ctx=Load()), args=[], keywords=[]), op=BitOr(), right=Call(func=Name(id=\"set\", ctx=Load()), args=[], keywords=[])), BinOp(left=Call(func=Name(id=\"set\", ctx=Load()), args=[], keywords=[]), op=Pow(), right=Call(func=Name(id=\"set\", ctx=Load()), args=[], keywords=[])), BinOp(left=Call(func=Name(id=\"set\", ctx=Load()), args=[], keywords=[]), op=Mult(), right=BinOp(left=Call(func=Name(id=\"set\", ctx=Load()), args=[], keywords=[]), op=Add(), right=Call(func=Name(id=\"set\", ctx=Load()), args=[], keywords=[])))])\n",
      "del 6                                    # Delete(targets=[Constant(value=6)])\n",
      "del '_'                                  # Delete(targets=[Constant(value='_')])\n",
      "del ~50.413, +-set()[:][set() & set():].F_(set() + set(), set()[:], L=set(), Z=set()) # Delete(targets=[UnaryOp(op=Invert(), operand=Constant(value=50.413)), UnaryOp(op=UAdd(), operand=UnaryOp(op=USub(), operand=Call(func=Attribute(value=Subscript(value=Subscript(value=Call(func=Name(id=\"set\", ctx=Load()), args=[], keywords=[]), slice=Slice(), ctx=Load()), slice=Slice(BinOp(left=Call(func=Name(id=\"set\", ctx=Load()), args=[], keywords=[]), op=BitAnd(), right=Call(func=Name(id=\"set\", ctx=Load()), args=[], keywords=[]))), ctx=Load()), attr='F_', ctx=Del()), args=[BinOp(left=Call(func=Name(id=\"set\", ctx=Load()), args=[], keywords=[]), op=Add(), right=Call(func=Name(id=\"set\", ctx=Load()), args=[], keywords=[])), Subscript(value=Call(func=Name(id=\"set\", ctx=Load()), args=[], keywords=[]), slice=Slice(), ctx=Del())], keywords=[keyword(arg='L', value=Call(func=Name(id=\"set\", ctx=Load()), args=[], keywords=[])), keyword(arg='Z', value=Call(func=Name(id=\"set\", ctx=Load()), args=[], keywords=[]))])))])\n",
      "del set() or None or z(), (set() and set())[False:c():T()] # Delete(targets=[BoolOp(op=Or(), values=[Call(func=Name(id=\"set\", ctx=Load()), args=[], keywords=[]), Constant(value=None), Call(func=Name(id='z', ctx=Del()), args=[], keywords=[])]), Subscript(value=BoolOp(op=And(), values=[Call(func=Name(id=\"set\", ctx=Load()), args=[], keywords=[]), Call(func=Name(id=\"set\", ctx=Load()), args=[], keywords=[])]), slice=Slice(Constant(value=False), Call(func=Name(id='c', ctx=Del()), args=[], keywords=[]), Call(func=Name(id='T', ctx=Load()), args=[], keywords=[])), ctx=Del())])\n",
      "del ''                                   # Delete(targets=[Constant(value=\"\")])\n",
      "del k5vofh3xGZH == R1rc                  # Delete(targets=[Compare(left=Name(id='k5vofh3xGZH', ctx=Load()), ops=[Eq()], comparators=[Name(id='R1rc', ctx=Del()), Name(id='HPJup', ctx=Del())])])\n",
      "\n",
      "<Assert>\n",
      "assert {}                                # Assert(test=Dict(keys=[], values=[List(elts=[Call(func=Name(id=\"set\", ctx=Load()), args=[], keywords=[]), Call(func=Name(id=\"set\", ctx=Load()), args=[], keywords=[]), Constant(value=6.7), Attribute(value=BoolOp(op=Or(), values=[]), attr='Q', ctx=Del()), Compare(left=Expr(value=UnaryOp(op=Invert(), operand=Call(func=Name(id=\"set\", ctx=Load()), args=[], keywords=[]))), ops=[NotIn()], comparators=[Call(func=Name(id=\"set\", ctx=Load()), args=[], keywords=[])])], ctx=Del())]))\n",
      "assert Z4mcX(set(), o=set()), ICkz[*(set() ^ set(),):] # Assert(test=Call(func=Name(id='Z4mcX', ctx=Del()), args=[Call(func=Name(id=\"set\", ctx=Load()), args=[], keywords=[])], keywords=[keyword(arg='o', value=Call(func=Name(id=\"set\", ctx=Load()), args=[], keywords=[]))]), msg=Subscript(value=Name(id='ICkz', ctx=Load()), slice=Slice(Starred(value=Tuple(elts=[BinOp(left=Call(func=Name(id=\"set\", ctx=Load()), args=[], keywords=[]), op=BitXor(), right=Call(func=Name(id=\"set\", ctx=Load()), args=[], keywords=[]))], ctx=Load()), ctx=Load())), ctx=Load()))\n",
      "assert [().H, {().h}, *(set(),)[*set() / set():set() // set()]] # Assert(test=List(elts=[Attribute(value=Tuple(elts=[], ctx=Del()), attr='H', ctx=Del()), Set(elts=[Attribute(value=Tuple(elts=[], ctx=Del()), attr='h', ctx=Load())]), Subscript(value=Starred(value=Tuple(elts=[Call(func=Name(id=\"set\", ctx=Load()), args=[], keywords=[])], ctx=Load()), ctx=Del()), slice=Slice(Starred(value=BinOp(left=Call(func=Name(id=\"set\", ctx=Load()), args=[], keywords=[]), op=Div(), right=Call(func=Name(id=\"set\", ctx=Load()), args=[], keywords=[])), ctx=Load()), BinOp(left=Call(func=Name(id=\"set\", ctx=Load()), args=[], keywords=[]), op=FloorDiv(), right=Call(func=Name(id=\"set\", ctx=Load()), args=[], keywords=[]))), ctx=Del())], ctx=Load()))\n",
      "assert set() ** set() % (set() - set()), (set() >> (set() & set())) + (set() | set()) * (set() << set()) # Assert(test=BinOp(left=BinOp(left=Call(func=Name(id=\"set\", ctx=Load()), args=[], keywords=[]), op=Pow(), right=Call(func=Name(id=\"set\", ctx=Load()), args=[], keywords=[])), op=Mod(), right=BinOp(left=Call(func=Name(id=\"set\", ctx=Load()), args=[], keywords=[]), op=Sub(), right=Call(func=Name(id=\"set\", ctx=Load()), args=[], keywords=[]))), msg=BinOp(left=BinOp(left=Call(func=Name(id=\"set\", ctx=Load()), args=[], keywords=[]), op=RShift(), right=BinOp(left=Call(func=Name(id=\"set\", ctx=Load()), args=[], keywords=[]), op=BitAnd(), right=Call(func=Name(id=\"set\", ctx=Load()), args=[], keywords=[]))), op=Add(), right=BinOp(left=BinOp(left=Call(func=Name(id=\"set\", ctx=Load()), args=[], keywords=[]), op=BitOr(), right=Call(func=Name(id=\"set\", ctx=Load()), args=[], keywords=[])), op=Mult(), right=BinOp(left=Call(func=Name(id=\"set\", ctx=Load()), args=[], keywords=[]), op=LShift(), right=Call(func=Name(id=\"set\", ctx=Load()), args=[], keywords=[])))))\n",
      "assert None                              # Assert(test=Constant(value=None))\n",
      "assert True                              # Assert(test=Constant(value=True))\n",
      "assert not 331                           # Assert(test=UnaryOp(op=Not(), operand=Constant(value=331)))\n",
      "assert -set()[:].x(set(), set()), +(not (set()[:]())[:]) # Assert(test=UnaryOp(op=USub(), operand=Call(func=Attribute(value=Subscript(value=Call(func=Name(id=\"set\", ctx=Load()), args=[], keywords=[]), slice=Slice(), ctx=Del()), attr='x', ctx=Load()), args=[Call(func=Name(id=\"set\", ctx=Load()), args=[], keywords=[]), Call(func=Name(id=\"set\", ctx=Load()), args=[], keywords=[])], keywords=[])), msg=UnaryOp(op=UAdd(), operand=UnaryOp(op=Not(), operand=Subscript(value=BoolOp(op=And(), values=[Call(func=Subscript(value=Call(func=Name(id=\"set\", ctx=Load()), args=[], keywords=[]), slice=Slice(), ctx=Load()), args=[], keywords=[])]), slice=Slice(), ctx=Load()))))\n",
      "assert 'X' @ (set())[False:set()]['':][False:][9:'Rbw':'m'] # Assert(test=BinOp(left=Constant(value='X'), op=MatMult(), right=Subscript(value=Subscript(value=Subscript(value=Subscript(value=Compare(left=Call(func=Name(id=\"set\", ctx=Load()), args=[], keywords=[]), ops=[], comparators=[]), slice=Slice(Constant(value=False), Call(func=Name(id=\"set\", ctx=Load()), args=[], keywords=[])), ctx=Del()), slice=Slice(Constant(value=\"\")), ctx=Load()), slice=Slice(Constant(value=False)), ctx=Load()), slice=Slice(Constant(value=9), Constant(value=\"Rbw\"), Constant(value=\"m\")), ctx=Del())))\n",
      "assert bwxOpNKPEWF6yVnaubG5BIrJ2lt3AiD97QMsvf_LjYeSZHqohR0g81TUd # Assert(test=Name(id='bwxOpNKPEWF6yVnaubG5BIrJ2lt3AiD97QMsvf_LjYeSZHqohR0g81TUd', ctx=Del()))\n",
      "\n",
      "<Pass>\n",
      "pass                                     # Pass()\n",
      "pass                                     # Pass()\n",
      "pass                                     # Pass()\n",
      "pass                                     # Pass()\n",
      "pass                                     # Pass()\n",
      "pass                                     # Pass()\n",
      "pass                                     # Pass()\n",
      "pass                                     # Pass()\n",
      "pass                                     # Pass()\n",
      "pass                                     # Pass()\n",
      "\n",
      "<Break>\n",
      "break                                    # Break()\n",
      "break                                    # Break()\n",
      "break                                    # Break()\n",
      "break                                    # Break()\n",
      "break                                    # Break()\n",
      "break                                    # Break()\n",
      "break                                    # Break()\n",
      "break                                    # Break()\n",
      "break                                    # Break()\n",
      "break                                    # Break()\n",
      "\n",
      "<Continue>\n",
      "continue                                 # Continue()\n",
      "continue                                 # Continue()\n",
      "continue                                 # Continue()\n",
      "continue                                 # Continue()\n",
      "continue                                 # Continue()\n",
      "continue                                 # Continue()\n",
      "continue                                 # Continue()\n",
      "continue                                 # Continue()\n",
      "continue                                 # Continue()\n",
      "continue                                 # Continue()\n",
      "\n",
      "<With>\n",
      "with :\n",
      "    [c, (y,)] //= {}\n",
      "    with set(), set(): # type: t\n",
      "        return # With(items=[], body=[AugAssign(target=List(elts=[Name(id='c', ctx=Store()), Tuple(elts=[Name(id='y', ctx=Store())], ctx=Store())], ctx=Store()), op=FloorDiv(), value=Dict(keys=[], values=[Call(func=Name(id=\"set\", ctx=Load()), args=[], keywords=[]), Attribute(value=Call(func=Name(id=\"set\", ctx=Load()), args=[], keywords=[]), attr='e', ctx=Load())])), With(items=[withitem(context_expr=Call(func=Name(id=\"set\", ctx=Load()), args=[], keywords=[])), withitem(context_expr=Call(func=Name(id=\"set\", ctx=Load()), args=[], keywords=[]))], body=[Return()], type_comment='t')])\n",
      "with set() as C, *set() as *P: # type: \n",
      "    while (set())[:]:\n",
      "        break # With(items=[withitem(context_expr=Call(func=Name(id=\"set\", ctx=Load()), args=[], keywords=[]), optional_vars=Name(id='C', ctx=Store())), withitem(context_expr=Starred(value=Call(func=Name(id=\"set\", ctx=Load()), args=[], keywords=[]), ctx=Del()), optional_vars=Starred(value=Name(id='P', ctx=Store()), ctx=Store()))], body=[While(test=Subscript(value=Compare(left=Call(func=Name(id=\"set\", ctx=Load()), args=[], keywords=[]), ops=[], comparators=[]), slice=Slice(), ctx=Load()), body=[Break()], orelse=[])], type_comment=\"\")\n",
      "with '' as G[:]._: # type: H!\n",
      "    del set(), set(), set()\n",
      "    set()\n",
      "    pass\n",
      "    continue # With(items=[withitem(context_expr=Constant(value=''), optional_vars=Attribute(value=Subscript(value=Name(id='G', ctx=Store()), slice=Slice(), ctx=Store()), attr='_', ctx=Store()))], body=[Delete(targets=[Call(func=Name(id=\"set\", ctx=Load()), args=[], keywords=[]), Call(func=Name(id=\"set\", ctx=Load()), args=[], keywords=[]), Call(func=Name(id=\"set\", ctx=Load()), args=[], keywords=[])]), Expr(value=Call(func=Name(id=\"set\", ctx=Load()), args=[], keywords=[])), Pass(), Continue()], type_comment=\"H!\")\n",
      "with : # type: |S9vg\n",
      "    for B in set(): # type: \n",
      "        return # With(items=[withitem(context_expr=BoolOp(op=And(), values=[]))], body=[For(target=Name(id='B', ctx=Store()), iter=Call(func=Name(id=\"set\", ctx=Load()), args=[], keywords=[]), body=[Return()], orelse=[], type_comment=\"\")], type_comment='|S9vg')\n",
      "with () as Y[:]: # type: t>A\n",
      "    b = E = set() # With(items=[withitem(context_expr=Tuple(elts=[], ctx=Load()), optional_vars=Subscript(value=Name(id='Y', ctx=Store()), slice=Slice(), ctx=Store()))], body=[Assign(targets=[Name(id='b', ctx=Store()), Name(id='E', ctx=Store())], value=Call(func=Name(id=\"set\", ctx=Load()), args=[], keywords=[]))], type_comment=\"t>A\")\n",
      "with set(), set() as K[:]: # type: f\n",
      "    if set():\n",
      "        return\n",
      "    return\n",
      "    return # With(items=[withitem(context_expr=Call(func=Name(id=\"set\", ctx=Load()), args=[], keywords=[])), withitem(context_expr=Call(func=Name(id=\"set\", ctx=Load()), args=[], keywords=[]), optional_vars=Subscript(value=Name(id='K', ctx=Store()), slice=Slice(), ctx=Store()))], body=[If(test=Call(func=Name(id=\"set\", ctx=Load()), args=[], keywords=[]), body=[Return()], orelse=[]), Return(), Return()], type_comment=\"f\")\n",
      "with set(), set(), [], set() as r[:]: # type: n\n",
      "    assert set()\n",
      "    return\n",
      "    return # With(items=[withitem(context_expr=Call(func=Name(id=\"set\", ctx=Load()), args=[], keywords=[])), withitem(context_expr=Call(func=Name(id=\"set\", ctx=Load()), args=[], keywords=[])), withitem(context_expr=List(elts=[], ctx=Del())), withitem(context_expr=Call(func=Name(id=\"set\", ctx=Load()), args=[], keywords=[]), optional_vars=Subscript(value=Name(id='r', ctx=Store()), slice=Slice(), ctx=Store()))], body=[Assert(test=Call(func=Name(id=\"set\", ctx=Load()), args=[], keywords=[])), Return(), Return()], type_comment='n')\n",
      "with set() as v: # type: $5a?@c\n",
      "    assert set(), set()\n",
      "    return\n",
      "    return\n",
      "    return # With(items=[withitem(context_expr=Call(func=Name(id=\"set\", ctx=Load()), args=[], keywords=[]), optional_vars=Name(id='v', ctx=Store()))], body=[Assert(test=Call(func=Name(id=\"set\", ctx=Load()), args=[], keywords=[]), msg=Call(func=Name(id=\"set\", ctx=Load()), args=[], keywords=[])), Return(), Return(), Return()], type_comment=\"$5a?@c\")\n",
      "with set() as j: # type:  j\n",
      "    return set()[:]()\n",
      "    return\n",
      "    return\n",
      "    return # With(items=[withitem(context_expr=Call(func=Name(id=\"set\", ctx=Load()), args=[], keywords=[]), optional_vars=Name(id='j', ctx=Store()))], body=[Return(value=Call(func=Subscript(value=Call(func=Name(id=\"set\", ctx=Load()), args=[], keywords=[]), slice=Slice(), ctx=Del()), args=[], keywords=[])), Return(), Return(), Return()], type_comment=' j')\n",
      "with set(): # type: \n",
      "    J[:] &= set() * set()\n",
      "    h /= I\n",
      "    return # With(items=[withitem(context_expr=Call(func=Name(id=\"set\", ctx=Load()), args=[], keywords=[]))], body=[AugAssign(target=Subscript(value=Name(id='J', ctx=Store()), slice=Slice(), ctx=Store()), op=BitAnd(), value=BinOp(left=Call(func=Name(id=\"set\", ctx=Load()), args=[], keywords=[]), op=Mult(), right=Call(func=Name(id=\"set\", ctx=Load()), args=[], keywords=[]))), AugAssign(target=Name(id='h', ctx=Store()), op=Div(), value=Name(id='I', ctx=Load())), Return()], type_comment='')\n",
      "\n"
     ]
    }
   ],
   "source": [
    "for elt in PYTHON_AST_STMTS_GRAMMAR['<stmt>']:\n",
    "    print(elt)\n",
    "    test_samples(PYTHON_AST_STMTS_GRAMMAR, start_symbol=elt)\n",
    "    print()"
   ]
  },
  {
   "cell_type": "markdown",
   "id": "f15489b9",
   "metadata": {
    "slideshow": {
     "slide_type": "subslide"
    }
   },
   "source": [
    "Let us see if we can also _parse_ code properly. Here is a sample:"
   ]
  },
  {
   "cell_type": "code",
   "execution_count": 83,
   "id": "9560e0ce",
   "metadata": {
    "execution": {
     "iopub.execute_input": "2025-01-22T08:42:23.117892Z",
     "iopub.status.busy": "2025-01-22T08:42:23.117795Z",
     "iopub.status.idle": "2025-01-22T08:42:23.119353Z",
     "shell.execute_reply": "2025-01-22T08:42:23.119129Z"
    },
    "slideshow": {
     "slide_type": "fragment"
    }
   },
   "outputs": [],
   "source": [
    "with_tree = ast.parse(\"\"\"\n",
    "with open('foo.txt') as myfile:\n",
    "    content = myfile.readlines()\n",
    "    if content is not None:\n",
    "        print(content)\n",
    "\"\"\")"
   ]
  },
  {
   "cell_type": "code",
   "execution_count": 84,
   "id": "434657f4",
   "metadata": {
    "execution": {
     "iopub.execute_input": "2025-01-22T08:42:23.120618Z",
     "iopub.status.busy": "2025-01-22T08:42:23.120551Z",
     "iopub.status.idle": "2025-01-22T08:42:23.139795Z",
     "shell.execute_reply": "2025-01-22T08:42:23.139561Z"
    },
    "slideshow": {
     "slide_type": "fragment"
    }
   },
   "outputs": [
    {
     "name": "stdout",
     "output_type": "stream",
     "text": [
      "With(items=[withitem(context_expr=Call(func=Name(id='open', ctx=Load()), args=[Constant(value='foo.txt')], keywords=[]), optional_vars=Name(id='myfile', ctx=Store()))], body=[Assign(targets=[Name(id='content', ctx=Store())], value=Call(func=Attribute(value=Name(id='myfile', ctx=Load()), attr='readlines', ctx=Load()), args=[], keywords=[])), If(test=Compare(left=Name(id='content', ctx=Load()), ops=[IsNot()], comparators=[Constant(value=None)]), body=[Expr(value=Call(func=Name(id='print', ctx=Load()), args=[Name(id='content', ctx=Load())], keywords=[]))], orelse=[])])\n"
     ]
    }
   ],
   "source": [
    "python_ast_stmts_grammar = convert_ebnf_grammar(PYTHON_AST_STMTS_GRAMMAR)\n",
    "with_tree_str = ast.dump(with_tree.body[0])  # get the `With(...)` subtree\n",
    "print(with_tree_str)\n",
    "with_solver = ISLaSolver(python_ast_stmts_grammar)\n",
    "assert with_solver.check(with_tree_str)"
   ]
  },
  {
   "cell_type": "markdown",
   "id": "ee12e262",
   "metadata": {
    "slideshow": {
     "slide_type": "subslide"
    }
   },
   "source": [
    "It seems our grammar can also parse non-trivial code properly. We are doing well!"
   ]
  },
  {
   "cell_type": "markdown",
   "id": "6b86cf17",
   "metadata": {
    "slideshow": {
     "slide_type": "subslide"
    }
   },
   "source": [
    "### End of Excursion"
   ]
  },
  {
   "cell_type": "markdown",
   "id": "3d8002e5",
   "metadata": {
    "slideshow": {
     "slide_type": "subslide"
    }
   },
   "source": [
    "### Excursion: Function Definitions"
   ]
  },
  {
   "cell_type": "markdown",
   "id": "004a0097",
   "metadata": {
    "slideshow": {
     "slide_type": "fragment"
    }
   },
   "source": [
    "Now for function definitions.\n",
    "Not too many surprises here."
   ]
  },
  {
   "cell_type": "code",
   "execution_count": 85,
   "id": "22cff88c",
   "metadata": {
    "execution": {
     "iopub.execute_input": "2025-01-22T08:42:23.141215Z",
     "iopub.status.busy": "2025-01-22T08:42:23.141149Z",
     "iopub.status.idle": "2025-01-22T08:42:23.142730Z",
     "shell.execute_reply": "2025-01-22T08:42:23.142533Z"
    },
    "slideshow": {
     "slide_type": "subslide"
    }
   },
   "outputs": [
    {
     "name": "stdout",
     "output_type": "stream",
     "text": [
      "Module(\n",
      "    body=[\n",
      "        FunctionDef(\n",
      "            name='f',\n",
      "            args=arguments(\n",
      "                posonlyargs=[],\n",
      "                args=[\n",
      "                    arg(arg='a'),\n",
      "                    arg(arg='b')],\n",
      "                kwonlyargs=[],\n",
      "                kw_defaults=[],\n",
      "                defaults=[\n",
      "                    Constant(value=1)]),\n",
      "            body=[\n",
      "                Pass()],\n",
      "            decorator_list=[])],\n",
      "    type_ignores=[])\n"
     ]
    }
   ],
   "source": [
    "print(ast.dump(ast.parse(\"\"\"\n",
    "def f(a, b=1):\n",
    "    pass\n",
    "\"\"\"\n",
    "), indent=4))"
   ]
  },
  {
   "cell_type": "code",
   "execution_count": 86,
   "id": "dd754206",
   "metadata": {
    "execution": {
     "iopub.execute_input": "2025-01-22T08:42:23.143937Z",
     "iopub.status.busy": "2025-01-22T08:42:23.143870Z",
     "iopub.status.idle": "2025-01-22T08:42:23.146174Z",
     "shell.execute_reply": "2025-01-22T08:42:23.145953Z"
    },
    "slideshow": {
     "slide_type": "subslide"
    }
   },
   "outputs": [],
   "source": [
    "PYTHON_AST_DEFS_GRAMMAR: Grammar = extend_grammar(PYTHON_AST_STMTS_GRAMMAR, {\n",
    "    '<stmt>': PYTHON_AST_STMTS_GRAMMAR['<stmt>'] + [ '<FunctionDef>' ],\n",
    "\n",
    "    '<FunctionDef>': [\n",
    "        'FunctionDef(name=<identifier>, args=<arguments>, body=<nonempty_stmt_list><decorator_list_param><returns>?<type_comment>?)'\n",
    "    ],\n",
    "    '<decorator_list_param>': [\n",
    "        ', decorator_list=<expr_list>'\n",
    "    ],\n",
    "\n",
    "    '<arguments>': [\n",
    "        'arguments(<posonlyargs_param>args=<arg_list><vararg>?<kwonlyargs_param><kw_defaults_param><kwarg>?<defaults_param>)'\n",
    "    ],\n",
    "    '<posonlyargs_param>': [\n",
    "        'posonlyargs=<arg_list>, '\n",
    "    ],\n",
    "    '<kwonlyargs_param>': [\n",
    "        ', kwonlyargs=<arg_list>'\n",
    "    ],\n",
    "    '<kw_defaults_param>': [\n",
    "        ', kw_defaults=<expr_list>'\n",
    "    ],\n",
    "    '<defaults_param>': [\n",
    "        ', defaults=<expr_list>'\n",
    "    ],\n",
    "\n",
    "\n",
    "    '<arg_list>': [ '[<args>?]' ],\n",
    "    '<args>': [ '<arg>', '<arg>, <arg>' ],\n",
    "    '<arg>': [ 'arg(arg=<identifier>)' ],\n",
    "\n",
    "    '<vararg>': [ ', vararg=<arg>' ],\n",
    "    '<kwarg>': [ ', kwarg=<arg>' ],\n",
    "    '<returns>': [ ', returns=<expr>' ],\n",
    "\n",
    "    # FIXME: Not handled: AsyncFunctionDef, ClassDef\n",
    "})"
   ]
  },
  {
   "cell_type": "markdown",
   "id": "950bddb4",
   "metadata": {
    "slideshow": {
     "slide_type": "subslide"
    }
   },
   "source": [
    "In Python 3.12 and later, function definitions also have a `type_param` field:"
   ]
  },
  {
   "cell_type": "code",
   "execution_count": 87,
   "id": "289e7702",
   "metadata": {
    "execution": {
     "iopub.execute_input": "2025-01-22T08:42:23.147451Z",
     "iopub.status.busy": "2025-01-22T08:42:23.147386Z",
     "iopub.status.idle": "2025-01-22T08:42:23.149348Z",
     "shell.execute_reply": "2025-01-22T08:42:23.149118Z"
    },
    "slideshow": {
     "slide_type": "subslide"
    }
   },
   "outputs": [],
   "source": [
    "# do import this unconditionally\n",
    "if sys.version_info >= (3, 12):\n",
    "    PYTHON_AST_DEFS_GRAMMAR: Grammar = extend_grammar(PYTHON_AST_DEFS_GRAMMAR, {\n",
    "    '<FunctionDef>': [\n",
    "        'FunctionDef(name=<identifier>, args=<arguments>, body=<nonempty_stmt_list><decorator_list_param><returns>?<type_comment>?<type_params>?)'\n",
    "    ],\n",
    "    '<type_params>': [\n",
    "        ', type_params=<type_param_list>',\n",
    "    ],\n",
    "    '<type_param_list>': [ '[<type_param>?]' ],\n",
    "    '<type_param>': [ '<TypeVar>', '<ParamSpec>', '<TypeVarTuple>' ],\n",
    "    '<TypeVar>': [\n",
    "        'TypeVar(name=<identifier>(, bound=<expr>)?)'\n",
    "    ],\n",
    "    '<ParamSpec>': [\n",
    "        'ParamSpec(name=<identifier>)'\n",
    "    ],\n",
    "    '<TypeVarTuple>': [\n",
    "        'TypeVarTuple(name=<identifier>)'\n",
    "    ]\n",
    "    })"
   ]
  },
  {
   "cell_type": "markdown",
   "id": "02959d01",
   "metadata": {
    "slideshow": {
     "slide_type": "subslide"
    }
   },
   "source": [
    "In Python 3.13 and later, several `<FunctionDef>` and `<arguments>` attributes are optional:"
   ]
  },
  {
   "cell_type": "code",
   "execution_count": 88,
   "id": "ee08d09d",
   "metadata": {
    "execution": {
     "iopub.execute_input": "2025-01-22T08:42:23.150615Z",
     "iopub.status.busy": "2025-01-22T08:42:23.150549Z",
     "iopub.status.idle": "2025-01-22T08:42:23.152248Z",
     "shell.execute_reply": "2025-01-22T08:42:23.152056Z"
    },
    "slideshow": {
     "slide_type": "fragment"
    }
   },
   "outputs": [],
   "source": [
    "# do import this unconditionally\n",
    "if sys.version_info >= (3, 13):\n",
    "    PYTHON_AST_DEFS_GRAMMAR: Grammar = extend_grammar(PYTHON_AST_DEFS_GRAMMAR, {\n",
    "    '<FunctionDef>': [\n",
    "        'FunctionDef(name=<identifier>, args=<arguments>, body=<nonempty_stmt_list><decorator_list_param>?<returns>?<type_comment>?<type_params>?)'\n",
    "    ],\n",
    "    '<arguments>': [\n",
    "        'arguments(<posonlyargs_param>?args=<arg_list><vararg>?<kwonlyargs_param>?<kw_defaults_param>?<kwarg>?<defaults_param>?)'\n",
    "    ],\n",
    "    })"
   ]
  },
  {
   "cell_type": "code",
   "execution_count": 89,
   "id": "9e1f3cb0",
   "metadata": {
    "execution": {
     "iopub.execute_input": "2025-01-22T08:42:23.153398Z",
     "iopub.status.busy": "2025-01-22T08:42:23.153336Z",
     "iopub.status.idle": "2025-01-22T08:42:23.155150Z",
     "shell.execute_reply": "2025-01-22T08:42:23.154943Z"
    },
    "slideshow": {
     "slide_type": "fragment"
    }
   },
   "outputs": [],
   "source": [
    "assert is_valid_grammar(PYTHON_AST_DEFS_GRAMMAR)"
   ]
  },
  {
   "cell_type": "code",
   "execution_count": 90,
   "id": "8c914d8e",
   "metadata": {
    "execution": {
     "iopub.execute_input": "2025-01-22T08:42:23.156367Z",
     "iopub.status.busy": "2025-01-22T08:42:23.156302Z",
     "iopub.status.idle": "2025-01-22T08:42:23.540606Z",
     "shell.execute_reply": "2025-01-22T08:42:23.540357Z"
    },
    "slideshow": {
     "slide_type": "subslide"
    }
   },
   "outputs": [
    {
     "name": "stdout",
     "output_type": "stream",
     "text": [
      "<arguments>\n",
      "i, /, Wr, x                              # arguments(posonlyargs=[arg(arg='i')], args=[arg(arg='Wr'), arg(arg='x')], kwonlyargs=[], kw_defaults=[List(elts=[UnaryOp(op=UAdd(), operand=Call(func=Name(id=\"set\", ctx=Load()), args=[], keywords=[])), Dict(keys=[], values=[]), Name(id='P', ctx=Load())], ctx=Load())], defaults=[])\n",
      "G, /, h=, *e, u=set(), **R3              # arguments(posonlyargs=[arg(arg='G')], args=[arg(arg='h')], vararg=arg(arg='e'), kwonlyargs=[arg(arg='u')], kw_defaults=[Call(func=Name(id=\"set\", ctx=Load()), args=[], keywords=[]), Starred(value=Call(func=Name(id=\"set\", ctx=Load()), args=[], keywords=[]), ctx=Del())], kwarg=arg(arg='R3'), defaults=[BoolOp(op=Or(), values=[])])\n",
      "n, C, /, s, T=set(), *S, L=set(), **j    # arguments(posonlyargs=[arg(arg='n'), arg(arg='C')], args=[arg(arg='s'), arg(arg='T')], vararg=arg(arg='S'), kwonlyargs=[arg(arg='L')], kw_defaults=[Call(func=Name(id=\"set\", ctx=Load()), args=[], keywords=[])], kwarg=arg(arg='j'), defaults=[Call(func=Name(id=\"set\", ctx=Load()), args=[], keywords=[])])\n",
      "F, z, /, Q, N, *Y, X=set(), **g          # arguments(posonlyargs=[arg(arg='F'), arg(arg='z')], args=[arg(arg='Q'), arg(arg='N')], vararg=arg(arg='Y'), kwonlyargs=[arg(arg='X'), arg(arg='I')], kw_defaults=[Call(func=Name(id=\"set\", ctx=Load()), args=[], keywords=[])], kwarg=arg(arg='g'), defaults=[])\n",
      "A=set(), /, B=set(), f=set(), *O6, K=set(), **Z # arguments(posonlyargs=[arg(arg='A')], args=[arg(arg='B'), arg(arg='f')], vararg=arg(arg='O6'), kwonlyargs=[arg(arg='K')], kw_defaults=[Call(func=Name(id=\"set\", ctx=Load()), args=[], keywords=[])], kwarg=arg(arg='Z'), defaults=[Call(func=Name(id=\"set\", ctx=Load()), args=[], keywords=[]), Call(func=Name(id=\"set\", ctx=Load()), args=[], keywords=[]), Call(func=Name(id=\"set\", ctx=Load()), args=[], keywords=[])])\n",
      "p, y=set(), /, H=\n",
      "set(), *l, Jo=set(), **V # arguments(posonlyargs=[arg(arg='p'), arg(arg='y')], args=[arg(arg='H')], vararg=arg(arg='l'), kwonlyargs=[arg(arg='Jo')], kw_defaults=[Call(func=Name(id=\"set\", ctx=Load()), args=[], keywords=[])], kwarg=arg(arg='V'), defaults=[Call(func=Name(id=\"set\", ctx=Load()), args=[], keywords=[]), Expr(value=Call(func=Name(id=\"set\", ctx=Load()), args=[], keywords=[]))])\n",
      "m, /, U, c, *w, **o                      # arguments(posonlyargs=[arg(arg='m')], args=[arg(arg='U'), arg(arg='c')], vararg=arg(arg='w'), kwonlyargs=[arg(arg='b'), arg(arg='q')], kw_defaults=[], kwarg=arg(arg='o'), defaults=[])\n",
      "k, v, /, E, t=set() % set(), *_, **rR    # arguments(posonlyargs=[arg(arg='k'), arg(arg='v')], args=[arg(arg='E'), arg(arg='t')], vararg=arg(arg='_'), kwonlyargs=[], kw_defaults=[], kwarg=arg(arg='rR'), defaults=[BinOp(left=Call(func=Name(id=\"set\", ctx=Load()), args=[], keywords=[]), op=Mod(), right=Call(func=Name(id=\"set\", ctx=Load()), args=[], keywords=[]))])\n",
      "M, /, D, *d, a=set(), **Z                # arguments(posonlyargs=[arg(arg='M')], args=[arg(arg='D')], vararg=arg(arg='d'), kwonlyargs=[arg(arg='a')], kw_defaults=[Call(func=Name(id=\"set\", ctx=Load()), args=[], keywords=[]), Attribute(value=Call(func=Name(id=\"set\", ctx=Load()), args=[], keywords=[]), attr='F', ctx=Del())], kwarg=arg(arg='Z'), defaults=[])\n",
      "n, Y, /, g, y=set(), *z, **U             # arguments(posonlyargs=[arg(arg='n'), arg(arg='Y')], args=[arg(arg='g'), arg(arg='y')], vararg=arg(arg='z'), kwonlyargs=[], kw_defaults=[Call(func=Name(id=\"set\", ctx=Load()), args=[], keywords=[])], kwarg=arg(arg='U'), defaults=[Call(func=Name(id=\"set\", ctx=Load()), args=[], keywords=[])])\n",
      "\n",
      "<FunctionDef>\n",
      "def U():\n",
      "    return                      # FunctionDef(name='U', args=arguments(posonlyargs=[], args=[], kwonlyargs=[], kw_defaults=[], defaults=[]), body=[Return()], decorator_list=[])\n",
      "def F():\n",
      "    pass                        # FunctionDef(name='F', args=arguments(posonlyargs=[], args=[], kwonlyargs=[], kw_defaults=[], defaults=[]), body=[Pass()], decorator_list=[])\n",
      "def u() -> set(): # type: \n",
      "    continue  # FunctionDef(name='u', args=arguments(posonlyargs=[], args=[], kwonlyargs=[], kw_defaults=[], defaults=[]), body=[Continue()], decorator_list=[], returns=Call(func=Name(id=\"set\", ctx=Load()), args=[], keywords=[]), type_comment=\"\")\n",
      "def D() -> set(): # type: \n",
      "    break     # FunctionDef(name='D', args=arguments(posonlyargs=[], args=[], kwonlyargs=[], kw_defaults=[], defaults=[]), body=[Break()], decorator_list=[], returns=Call(func=Name(id=\"set\", ctx=Load()), args=[], keywords=[]), type_comment='')\n",
      "def w(): # type: \n",
      "    return             # FunctionDef(name='w', args=arguments(posonlyargs=[], args=[], kwonlyargs=[], kw_defaults=[], defaults=[]), body=[Return()], decorator_list=[], type_comment='')\n",
      "def g() -> set(): # type: \n",
      "    return    # FunctionDef(name='g', args=arguments(posonlyargs=[], args=[], kwonlyargs=[], kw_defaults=[], defaults=[]), body=[Return()], decorator_list=[], returns=Call(func=Name(id=\"set\", ctx=Load()), args=[], keywords=[]), type_comment='')\n",
      "def q() -> set(): # type: \n",
      "    return    # FunctionDef(name='q', args=arguments(posonlyargs=[], args=[], kwonlyargs=[], kw_defaults=[], defaults=[]), body=[Return()], decorator_list=[], returns=Call(func=Name(id=\"set\", ctx=Load()), args=[], keywords=[]), type_comment='')\n",
      "def W() -> set():\n",
      "    return             # FunctionDef(name='W', args=arguments(posonlyargs=[], args=[], kwonlyargs=[], kw_defaults=[], defaults=[]), body=[Return()], decorator_list=[], returns=Call(func=Name(id=\"set\", ctx=Load()), args=[], keywords=[]))\n",
      "def I() -> set():\n",
      "    return             # FunctionDef(name='I', args=arguments(posonlyargs=[], args=[], kwonlyargs=[], kw_defaults=[], defaults=[]), body=[Return()], decorator_list=[], returns=Call(func=Name(id=\"set\", ctx=Load()), args=[], keywords=[]))\n",
      "def n() -> set(): # type: \n",
      "    return    # FunctionDef(name='n', args=arguments(posonlyargs=[], args=[], kwonlyargs=[], kw_defaults=[], defaults=[]), body=[Return()], decorator_list=[], returns=Call(func=Name(id=\"set\", ctx=Load()), args=[], keywords=[]), type_comment=\"\")\n",
      "\n"
     ]
    }
   ],
   "source": [
    "for elt in [ '<arguments>', '<FunctionDef>' ]:\n",
    "    print(elt)\n",
    "    test_samples(PYTHON_AST_DEFS_GRAMMAR, start_symbol=elt)\n",
    "    print()"
   ]
  },
  {
   "cell_type": "markdown",
   "id": "5f1d16d3",
   "metadata": {
    "slideshow": {
     "slide_type": "subslide"
    }
   },
   "source": [
    "### End of Excursion"
   ]
  },
  {
   "cell_type": "markdown",
   "id": "d49d371e",
   "metadata": {
    "slideshow": {
     "slide_type": "subslide"
    }
   },
   "source": [
    "### Excursion: Modules"
   ]
  },
  {
   "cell_type": "markdown",
   "id": "ea4ecf11",
   "metadata": {
    "slideshow": {
     "slide_type": "fragment"
    }
   },
   "source": [
    "We close with _modules_ – sequences of definitions.\n",
    "After all the other definitions, this is now fairly straightforward."
   ]
  },
  {
   "cell_type": "code",
   "execution_count": 91,
   "id": "b5249a38",
   "metadata": {
    "execution": {
     "iopub.execute_input": "2025-01-22T08:42:23.542047Z",
     "iopub.status.busy": "2025-01-22T08:42:23.541955Z",
     "iopub.status.idle": "2025-01-22T08:42:23.543889Z",
     "shell.execute_reply": "2025-01-22T08:42:23.543703Z"
    },
    "slideshow": {
     "slide_type": "fragment"
    }
   },
   "outputs": [],
   "source": [
    "PYTHON_AST_MODULE_GRAMMAR: Grammar = extend_grammar(PYTHON_AST_DEFS_GRAMMAR, {\n",
    "    '<start>': [ '<mod>' ],\n",
    "    '<mod>': [ '<Module>' ],\n",
    "    '<Module>': [ 'Module(body=<nonempty_stmt_list><type_ignore_param>)'],\n",
    "\n",
    "    '<type_ignore_param>': [ ', type_ignores=<type_ignore_list>' ],\n",
    "    '<type_ignore_list>': [ '[<type_ignores>?]' ],\n",
    "    '<type_ignores>': [ '<type_ignore>', '<type_ignore>, <type_ignore>' ],\n",
    "    '<type_ignore>': [ 'TypeIgnore(lineno=<integer>, tag=<string>)' ],\n",
    "})"
   ]
  },
  {
   "cell_type": "code",
   "execution_count": 92,
   "id": "ef453b00",
   "metadata": {
    "execution": {
     "iopub.execute_input": "2025-01-22T08:42:23.545159Z",
     "iopub.status.busy": "2025-01-22T08:42:23.545074Z",
     "iopub.status.idle": "2025-01-22T08:42:23.546734Z",
     "shell.execute_reply": "2025-01-22T08:42:23.546544Z"
    },
    "slideshow": {
     "slide_type": "subslide"
    }
   },
   "outputs": [],
   "source": [
    "# do import this unconditionally\n",
    "if sys.version_info >= (3, 13):\n",
    "    PYTHON_AST_MODULE_GRAMMAR: Grammar = \\\n",
    "        extend_grammar(PYTHON_AST_MODULE_GRAMMAR, {\n",
    "        # As of 3.13, the type_ignore parameter is optional\n",
    "        '<Module>': [ 'Module(body=<nonempty_stmt_list><type_ignore_param>?)'],\n",
    "    })"
   ]
  },
  {
   "cell_type": "code",
   "execution_count": 93,
   "id": "7f32f61f",
   "metadata": {
    "execution": {
     "iopub.execute_input": "2025-01-22T08:42:23.547895Z",
     "iopub.status.busy": "2025-01-22T08:42:23.547832Z",
     "iopub.status.idle": "2025-01-22T08:42:23.549656Z",
     "shell.execute_reply": "2025-01-22T08:42:23.549444Z"
    },
    "slideshow": {
     "slide_type": "fragment"
    }
   },
   "outputs": [],
   "source": [
    "assert is_valid_grammar(PYTHON_AST_MODULE_GRAMMAR)"
   ]
  },
  {
   "cell_type": "code",
   "execution_count": 94,
   "id": "c544f428",
   "metadata": {
    "execution": {
     "iopub.execute_input": "2025-01-22T08:42:23.550802Z",
     "iopub.status.busy": "2025-01-22T08:42:23.550740Z",
     "iopub.status.idle": "2025-01-22T08:42:23.819627Z",
     "shell.execute_reply": "2025-01-22T08:42:23.819355Z"
    },
    "slideshow": {
     "slide_type": "subslide"
    }
   },
   "outputs": [
    {
     "name": "stdout",
     "output_type": "stream",
     "text": [
      "<Module>\n",
      "EESc9e.w @ {\n",
      "[*(not set())[y():set():{}]], } # Module(body=[Expr(value=BinOp(left=Attribute(value=Name(id='EESc9e', ctx=Del()), attr='w', ctx=Load()), op=MatMult(), right=Set(elts=[Expr(value=List(elts=[Starred(value=Subscript(value=UnaryOp(op=Not(), operand=Compare(left=Call(func=Name(id=\"set\", ctx=Load()), args=[], keywords=[]), ops=[], comparators=[])), slice=Slice(Call(func=Name(id='y', ctx=Load()), args=[], keywords=[]), Call(func=Name(id=\"set\", ctx=Load()), args=[], keywords=[]), Dict(keys=[], values=[])), ctx=Load()), ctx=Load())], ctx=Del())), BoolOp(op=And(), values=[])])))], type_ignores=[])\n",
      "while (None, ''):\n",
      "    m = set()\n",
      "    del \n",
      "    return\n",
      "else:\n",
      "    break\n",
      "    with :\n",
      "        return\n",
      "    pass\n",
      "return\n",
      "continue # Module(body=[While(test=Tuple(elts=[Constant(value=None), Constant(value='')], ctx=Load()), body=[Assign(targets=[Name(id='m', ctx=Store())], value=Call(func=Name(id=\"set\", ctx=Load()), args=[], keywords=[])), Delete(targets=[]), Return()], orelse=[Break(), With(items=[], body=[Return()]), Pass()]), Return(), Continue()], type_ignores=[TypeIgnore(lineno=27, tag=''), TypeIgnore(lineno=2, tag=\"h\")])\n",
      "for I.V in set()[:]: # type: \n",
      "    return # Module(body=[For(target=Attribute(value=Name(id='I', ctx=Store()), attr='V', ctx=Store()), iter=Subscript(value=Call(func=Name(id=\"set\", ctx=Load()), args=[], keywords=[]), slice=Slice(), ctx=Del()), body=[Return()], orelse=[], type_comment=\"\")], type_ignores=[TypeIgnore(lineno=131, tag='[bm')])\n",
      "def Q():\n",
      "    return\n",
      "assert set().a\n",
      "return # Module(body=[FunctionDef(name='Q', args=arguments(posonlyargs=[], args=[], kwonlyargs=[], kw_defaults=[], defaults=[]), body=[Return()], decorator_list=[]), Assert(test=Attribute(value=Call(func=Name(id=\"set\", ctx=Load()), args=[], keywords=[]), attr='a', ctx=Del())), Return()], type_ignores=[TypeIgnore(lineno=56, tag=\"M\")])\n",
      "if set():\n",
      "    return\n",
      "*h <<= set()        # Module(body=[If(test=Call(func=Name(id=\"set\", ctx=Load()), args=[], keywords=[]), body=[Return()], orelse=[]), AugAssign(target=Starred(value=Name(id='h', ctx=Store()), ctx=Store()), op=LShift(), value=Call(func=Name(id=\"set\", ctx=Load()), args=[], keywords=[]))], type_ignores=[TypeIgnore(lineno=8, tag=\"\"), TypeIgnore(lineno=5, tag=\"\")])\n",
      "return [set()]\n",
      "assert (set(), set()), [] # Module(body=[Return(value=List(elts=[Call(func=Name(id=\"set\", ctx=Load()), args=[], keywords=[])], ctx=Load())), Assert(test=Tuple(elts=[Call(func=Name(id=\"set\", ctx=Load()), args=[], keywords=[]), Call(func=Name(id=\"set\", ctx=Load()), args=[], keywords=[])], ctx=Del()), msg=List(elts=[], ctx=Del()))], type_ignores=[TypeIgnore(lineno=89, tag=\"\"), TypeIgnore(lineno=0, tag=\"Q\")])\n",
      "D |= set()                               # Module(body=[AugAssign(target=Name(id='D', ctx=Store()), op=BitOr(), value=Call(func=Name(id=\"set\", ctx=Load()), args=[], keywords=[]))], type_ignores=[TypeIgnore(lineno=74, tag='1'), TypeIgnore(lineno=90, tag=\"\")])\n",
      "[o, j] += *set() % set() ** set()        # Module(body=[AugAssign(target=List(elts=[Name(id='o', ctx=Store()), Name(id='j', ctx=Store())], ctx=Store()), op=Add(), value=Starred(value=BinOp(left=Call(func=Name(id=\"set\", ctx=Load()), args=[], keywords=[]), op=Mod(), right=BinOp(left=Call(func=Name(id=\"set\", ctx=Load()), args=[], keywords=[]), op=Pow(), right=Call(func=Name(id=\"set\", ctx=Load()), args=[], keywords=[]))), ctx=Del()))], type_ignores=[TypeIgnore(lineno=3980, tag=\"7'Z\")])\n",
      "x[:] /= set()\n",
      "i -= set() & set()         # Module(body=[AugAssign(target=Subscript(value=Name(id='x', ctx=Store()), slice=Slice(), ctx=Store()), op=Div(), value=Call(func=Name(id=\"set\", ctx=Load()), args=[], keywords=[])), AugAssign(target=Name(id='i', ctx=Store()), op=Sub(), value=BinOp(left=Call(func=Name(id=\"set\", ctx=Load()), args=[], keywords=[]), op=BitAnd(), right=Call(func=Name(id=\"set\", ctx=Load()), args=[], keywords=[])))], type_ignores=[TypeIgnore(lineno=40, tag='W2j')])\n",
      "s //= -(set() * set())                   # Module(body=[AugAssign(target=Name(id='s', ctx=Store()), op=FloorDiv(), value=UnaryOp(op=USub(), operand=BinOp(left=Call(func=Name(id=\"set\", ctx=Load()), args=[], keywords=[]), op=Mult(), right=Call(func=Name(id=\"set\", ctx=Load()), args=[], keywords=[]))))], type_ignores=[TypeIgnore(lineno=665, tag=\"\"), TypeIgnore(lineno=5, tag=\"\")])\n",
      "\n"
     ]
    }
   ],
   "source": [
    "for elt in [ '<Module>' ]:\n",
    "    print(elt)\n",
    "    test_samples(PYTHON_AST_MODULE_GRAMMAR, start_symbol=elt)\n",
    "    print()"
   ]
  },
  {
   "cell_type": "markdown",
   "id": "db39fc13",
   "metadata": {
    "slideshow": {
     "slide_type": "subslide"
    }
   },
   "source": [
    "### End of Excursion"
   ]
  },
  {
   "cell_type": "markdown",
   "id": "a83a2a14",
   "metadata": {
    "slideshow": {
     "slide_type": "fragment"
    }
   },
   "source": [
    "At this point, we have covered (almost) all AST elements of Python.\n",
    "There would be a few more Python elements to consider (marked as `FIXME`, above), but we'll leave these to the reader.\n",
    "Let us define `PYTHON_AST_GRAMMAR` as the official grammar coming out of this chapter."
   ]
  },
  {
   "cell_type": "code",
   "execution_count": 95,
   "id": "e543f4e5",
   "metadata": {
    "execution": {
     "iopub.execute_input": "2025-01-22T08:42:23.821204Z",
     "iopub.status.busy": "2025-01-22T08:42:23.821101Z",
     "iopub.status.idle": "2025-01-22T08:42:23.823482Z",
     "shell.execute_reply": "2025-01-22T08:42:23.823289Z"
    },
    "slideshow": {
     "slide_type": "fragment"
    }
   },
   "outputs": [],
   "source": [
    "PYTHON_AST_GRAMMAR = PYTHON_AST_MODULE_GRAMMAR\n",
    "python_ast_grammar = convert_ebnf_grammar(PYTHON_AST_GRAMMAR)"
   ]
  },
  {
   "cell_type": "markdown",
   "id": "3a1c8369",
   "metadata": {
    "slideshow": {
     "slide_type": "fragment"
    }
   },
   "source": [
    "Here are a few (very weird) examples of Python functions we can produce.\n",
    "All of these are valid, but only _syntactically_ – very few of the code samples produced this way will actually result in something meaningful."
   ]
  },
  {
   "cell_type": "code",
   "execution_count": 96,
   "id": "a83f4fc2",
   "metadata": {
    "execution": {
     "iopub.execute_input": "2025-01-22T08:42:23.824856Z",
     "iopub.status.busy": "2025-01-22T08:42:23.824768Z",
     "iopub.status.idle": "2025-01-22T08:42:24.059661Z",
     "shell.execute_reply": "2025-01-22T08:42:24.059414Z"
    },
    "slideshow": {
     "slide_type": "subslide"
    }
   },
   "outputs": [
    {
     "name": "stdout",
     "output_type": "stream",
     "text": [
      "<FunctionDef>\n",
      "def w():\n",
      "    pass                        # FunctionDef(name='w', args=arguments(posonlyargs=[], args=[], kwonlyargs=[], kw_defaults=[], defaults=[]), body=[Pass()], decorator_list=[])\n",
      "def a():\n",
      "    break                       # FunctionDef(name='a', args=arguments(posonlyargs=[], args=[], kwonlyargs=[], kw_defaults=[], defaults=[]), body=[Break()], decorator_list=[])\n",
      "def o():\n",
      "    return                      # FunctionDef(name='o', args=arguments(posonlyargs=[], args=[], kwonlyargs=[], kw_defaults=[], defaults=[]), body=[Return()], decorator_list=[])\n",
      "def v(): # type: \n",
      "    continue           # FunctionDef(name='v', args=arguments(posonlyargs=[], args=[], kwonlyargs=[], kw_defaults=[], defaults=[]), body=[Continue()], decorator_list=[], type_comment='')\n",
      "def j(): # type: \n",
      "    return             # FunctionDef(name='j', args=arguments(posonlyargs=[], args=[], kwonlyargs=[], kw_defaults=[], defaults=[]), body=[Return()], decorator_list=[], type_comment=\"\")\n",
      "def k():\n",
      "    return\n",
      "    return           # FunctionDef(name='k', args=arguments(posonlyargs=[], args=[], kwonlyargs=[], kw_defaults=[], defaults=[]), body=[Return(), Return()], decorator_list=[])\n",
      "def Q() -> set(): # type: \n",
      "    return    # FunctionDef(name='Q', args=arguments(posonlyargs=[], args=[], kwonlyargs=[], kw_defaults=[], defaults=[]), body=[Return()], decorator_list=[], returns=Call(func=Name(id=\"set\", ctx=Load()), args=[], keywords=[]), type_comment='')\n",
      "def d() -> None:\n",
      "    return\n",
      "    assert set(), set()\n",
      "    return # FunctionDef(name='d', args=arguments(posonlyargs=[], args=[], kwonlyargs=[], kw_defaults=[], defaults=[]), body=[Return(), Assert(test=Call(func=Name(id=\"set\", ctx=Load()), args=[], keywords=[]), msg=Call(func=Name(id=\"set\", ctx=Load()), args=[], keywords=[])), Return()], decorator_list=[], returns=Constant(value=None))\n",
      "def K() -> set():\n",
      "    return             # FunctionDef(name='K', args=arguments(posonlyargs=[], args=[], kwonlyargs=[], kw_defaults=[], defaults=[]), body=[Return()], decorator_list=[], returns=Call(func=Name(id=\"set\", ctx=Load()), args=[], keywords=[]))\n",
      "def y(): # type: \n",
      "    return             # FunctionDef(name='y', args=arguments(posonlyargs=[], args=[], kwonlyargs=[], kw_defaults=[], defaults=[]), body=[Return()], decorator_list=[], type_comment='')\n",
      "\n"
     ]
    }
   ],
   "source": [
    "for elt in [ '<FunctionDef>' ]:\n",
    "    print(elt)\n",
    "    test_samples(PYTHON_AST_GRAMMAR, start_symbol=elt)\n",
    "    print()"
   ]
  },
  {
   "cell_type": "markdown",
   "id": "f52c5049",
   "metadata": {
    "slideshow": {
     "slide_type": "slide"
    }
   },
   "source": [
    "## A Class for Fuzzing Python\n",
    "\n",
    "For convenience, let us introduce a class `PythonFuzzer` that makes use of the above grammar in order to produce Python code. This will be fairly easy to use."
   ]
  },
  {
   "cell_type": "code",
   "execution_count": 97,
   "id": "fae02aae",
   "metadata": {
    "execution": {
     "iopub.execute_input": "2025-01-22T08:42:24.061191Z",
     "iopub.status.busy": "2025-01-22T08:42:24.061087Z",
     "iopub.status.idle": "2025-01-22T08:42:24.063908Z",
     "shell.execute_reply": "2025-01-22T08:42:24.063670Z"
    },
    "slideshow": {
     "slide_type": "subslide"
    }
   },
   "outputs": [],
   "source": [
    "class PythonFuzzer(ISLaSolver):\n",
    "    \"\"\"Produce Python code.\"\"\"\n",
    "\n",
    "    def __init__(self,\n",
    "                 start_symbol: Optional[str] = None, *,\n",
    "                 grammar: Optional[Grammar] = None,\n",
    "                 constraint: Optional[str] =None,\n",
    "                 **kw_params) -> None:\n",
    "        \"\"\"Produce Python code. Parameters are:\n",
    "\n",
    "        * `start_symbol`: The grammatical entity to be generated (default: `<FunctionDef>`)\n",
    "        * `grammar`: The EBNF grammar to be used (default: `PYTHON__AST_GRAMMAR`); and\n",
    "        * `constraint` an ISLa constraint (if any).\n",
    "\n",
    "        Additional keyword parameters are passed to the `ISLaSolver` superclass.\n",
    "        \"\"\"\n",
    "        if start_symbol is None:\n",
    "            start_symbol = '<FunctionDef>'\n",
    "        if grammar is None:\n",
    "            grammar = PYTHON_AST_GRAMMAR\n",
    "        assert start_symbol in grammar\n",
    "\n",
    "        g = convert_ebnf_grammar(grammar)\n",
    "        if constraint is None:\n",
    "            super().__init__(g, start_symbol=start_symbol, **kw_params)\n",
    "        else:\n",
    "            super().__init__(g, constraint, start_symbol=start_symbol, **kw_params)\n",
    "\n",
    "    def fuzz(self) -> str:\n",
    "        \"\"\"Produce a Python code string.\"\"\"\n",
    "        abstract_syntax_tree = eval(str(self.solve()))\n",
    "        ast.fix_missing_locations(abstract_syntax_tree)\n",
    "        return ast.unparse(abstract_syntax_tree)"
   ]
  },
  {
   "cell_type": "markdown",
   "id": "50c8fa8c",
   "metadata": {
    "slideshow": {
     "slide_type": "subslide"
    }
   },
   "source": [
    "By default, the `PythonFuzzer` will produce a _function definition_ - that is, a function header and body."
   ]
  },
  {
   "cell_type": "code",
   "execution_count": 98,
   "id": "ca85bb99",
   "metadata": {
    "execution": {
     "iopub.execute_input": "2025-01-22T08:42:24.065390Z",
     "iopub.status.busy": "2025-01-22T08:42:24.065296Z",
     "iopub.status.idle": "2025-01-22T08:42:24.295600Z",
     "shell.execute_reply": "2025-01-22T08:42:24.295336Z"
    },
    "slideshow": {
     "slide_type": "fragment"
    }
   },
   "outputs": [
    {
     "name": "stdout",
     "output_type": "stream",
     "text": [
      "def L():\n",
      "    continue\n"
     ]
    }
   ],
   "source": [
    "fuzzer = PythonFuzzer()\n",
    "print(fuzzer.fuzz())"
   ]
  },
  {
   "cell_type": "markdown",
   "id": "55c1d496",
   "metadata": {
    "slideshow": {
     "slide_type": "fragment"
    }
   },
   "source": [
    "By passing a start symbol as parameter, you can have `PythonFuzzer` produce arbitrary Python elements:"
   ]
  },
  {
   "cell_type": "code",
   "execution_count": 99,
   "id": "24b98576",
   "metadata": {
    "execution": {
     "iopub.execute_input": "2025-01-22T08:42:24.297128Z",
     "iopub.status.busy": "2025-01-22T08:42:24.297048Z",
     "iopub.status.idle": "2025-01-22T08:42:24.700393Z",
     "shell.execute_reply": "2025-01-22T08:42:24.700057Z"
    },
    "slideshow": {
     "slide_type": "subslide"
    }
   },
   "outputs": [
    {
     "name": "stdout",
     "output_type": "stream",
     "text": [
      "while (set()[set():set()], *(set())):\n",
      "    if {}:\n",
      "        while set():\n",
      "            continue\n",
      "        break\n",
      "    else:\n",
      "        del \n",
      "        return\n"
     ]
    }
   ],
   "source": [
    "fuzzer = PythonFuzzer('<While>')\n",
    "print(fuzzer.fuzz())"
   ]
  },
  {
   "cell_type": "markdown",
   "id": "8dc2fa25",
   "metadata": {
    "slideshow": {
     "slide_type": "fragment"
    }
   },
   "source": [
    "Here is a list of all possible start symbols:"
   ]
  },
  {
   "cell_type": "code",
   "execution_count": 100,
   "id": "fed66ded",
   "metadata": {
    "execution": {
     "iopub.execute_input": "2025-01-22T08:42:24.702074Z",
     "iopub.status.busy": "2025-01-22T08:42:24.701978Z",
     "iopub.status.idle": "2025-01-22T08:42:24.704485Z",
     "shell.execute_reply": "2025-01-22T08:42:24.704260Z"
    },
    "slideshow": {
     "slide_type": "subslide"
    }
   },
   "outputs": [
    {
     "data": {
      "text/plain": [
       "['<Assert>',\n",
       " '<Assign>',\n",
       " '<Attribute>',\n",
       " '<AugAssign>',\n",
       " '<BinOp>',\n",
       " '<BoolOp>',\n",
       " '<Break>',\n",
       " '<Call>',\n",
       " '<Compare>',\n",
       " '<Constant>',\n",
       " '<Continue>',\n",
       " '<Delete>',\n",
       " '<Dict>',\n",
       " '<EmptySet>',\n",
       " '<Expr>',\n",
       " '<For>',\n",
       " '<FunctionDef>',\n",
       " '<If>',\n",
       " '<List>',\n",
       " '<Module>',\n",
       " '<Name>',\n",
       " '<Pass>',\n",
       " '<Return>',\n",
       " '<Set>',\n",
       " '<Slice>',\n",
       " '<Starred>',\n",
       " '<Subscript>',\n",
       " '<Tuple>',\n",
       " '<UnaryOp>',\n",
       " '<While>',\n",
       " '<With>',\n",
       " '<arg>',\n",
       " '<arg_list>',\n",
       " '<args>',\n",
       " '<args_param>',\n",
       " '<arguments>',\n",
       " '<bool>',\n",
       " '<boolop>',\n",
       " '<cmpop>',\n",
       " '<cmpop_list>',\n",
       " '<cmpops>',\n",
       " '<decorator_list_param>',\n",
       " '<defaults_param>',\n",
       " '<digit>',\n",
       " '<digits>',\n",
       " '<expr>',\n",
       " '<expr_list>',\n",
       " '<exprs>',\n",
       " '<float>',\n",
       " '<func>',\n",
       " '<id>',\n",
       " '<id_continue>',\n",
       " '<id_start>',\n",
       " '<identifier>',\n",
       " '<integer>',\n",
       " '<keyword>',\n",
       " '<keyword_list>',\n",
       " '<keywords>',\n",
       " '<keywords_param>',\n",
       " '<kw_defaults_param>',\n",
       " '<kwarg>',\n",
       " '<kwonlyargs_param>',\n",
       " '<lhs_Attribute>',\n",
       " '<lhs_List>',\n",
       " '<lhs_Name>',\n",
       " '<lhs_Starred>',\n",
       " '<lhs_Subscript>',\n",
       " '<lhs_Tuple>',\n",
       " '<lhs_expr>',\n",
       " '<lhs_exprs>',\n",
       " '<literal>',\n",
       " '<mod>',\n",
       " '<none>',\n",
       " '<nonempty_expr_list>',\n",
       " '<nonempty_lhs_expr_list>',\n",
       " '<nonempty_stmt_list>',\n",
       " '<nonzerodigit>',\n",
       " '<not_double_quotes>',\n",
       " '<not_single_quotes>',\n",
       " '<operator>',\n",
       " '<orelse_param>',\n",
       " '<posonlyargs_param>',\n",
       " '<returns>',\n",
       " '<start>',\n",
       " '<stmt>',\n",
       " '<stmt_list>',\n",
       " '<stmts>',\n",
       " '<string>',\n",
       " '<type_comment>',\n",
       " '<type_ignore>',\n",
       " '<type_ignore_list>',\n",
       " '<type_ignore_param>',\n",
       " '<type_ignores>',\n",
       " '<unaryop>',\n",
       " '<vararg>',\n",
       " '<withitem>',\n",
       " '<withitem_list>',\n",
       " '<withitems>']"
      ]
     },
     "execution_count": 100,
     "metadata": {},
     "output_type": "execute_result"
    }
   ],
   "source": [
    "sorted(list(PYTHON_AST_GRAMMAR.keys()))"
   ]
  },
  {
   "cell_type": "markdown",
   "id": "88b3560d",
   "metadata": {
    "slideshow": {
     "slide_type": "slide"
    }
   },
   "source": [
    "## Customizing the Python Fuzzer\n",
    "\n",
    "When fuzzing, you may be interested in _specific_ properties of the produced output. How can we influence the code that `PythonFuzzer` produces? We explore two ways:\n",
    "\n",
    "* By adjusting the _grammar_ to our needs\n",
    "* By adding _constraints_ that customize the output for us."
   ]
  },
  {
   "cell_type": "markdown",
   "id": "247473ee",
   "metadata": {
    "slideshow": {
     "slide_type": "subslide"
    }
   },
   "source": [
    "### Adjusting the Grammar\n",
    "\n",
    "A simple way to adjust output generation is to _adapt the grammar_.\n"
   ]
  },
  {
   "cell_type": "markdown",
   "id": "8fb4c44c",
   "metadata": {
    "slideshow": {
     "slide_type": "fragment"
    }
   },
   "source": [
    "Let us assume you'd like to have function definitions without decorators.\n",
    "To achieve this, you can _alter the rule that produces function definitions_:"
   ]
  },
  {
   "cell_type": "code",
   "execution_count": 101,
   "id": "669c2771",
   "metadata": {
    "execution": {
     "iopub.execute_input": "2025-01-22T08:42:24.706004Z",
     "iopub.status.busy": "2025-01-22T08:42:24.705910Z",
     "iopub.status.idle": "2025-01-22T08:42:24.707846Z",
     "shell.execute_reply": "2025-01-22T08:42:24.707618Z"
    },
    "slideshow": {
     "slide_type": "fragment"
    }
   },
   "outputs": [
    {
     "data": {
      "text/plain": [
       "['FunctionDef(name=<identifier>, args=<arguments>, body=<nonempty_stmt_list><decorator_list_param><returns>?<type_comment>?)']"
      ]
     },
     "execution_count": 101,
     "metadata": {},
     "output_type": "execute_result"
    }
   ],
   "source": [
    "PYTHON_AST_GRAMMAR['<FunctionDef>']"
   ]
  },
  {
   "cell_type": "markdown",
   "id": "d1faa3e8",
   "metadata": {
    "slideshow": {
     "slide_type": "fragment"
    }
   },
   "source": [
    "As any AST rule, it comes in _abstract syntax_, so we first have to identify the element we'd like to adjust.\n",
    "In our case, this is `decorator_list`."
   ]
  },
  {
   "cell_type": "markdown",
   "id": "2cfce6b2",
   "metadata": {
    "slideshow": {
     "slide_type": "subslide"
    }
   },
   "source": [
    "Since decorator_list is a list, we can alter the rule to produce empty lists only.\n",
    "To create a new adapted grammar, we do not alter the existing `PYTHON_AST_GRAMMAR`.\n",
    "Instead, we use the `extend_grammar()` function to create a new grammar with a new, adapted rule for `<FunctionDef>`:"
   ]
  },
  {
   "cell_type": "code",
   "execution_count": 102,
   "id": "a38eba61",
   "metadata": {
    "execution": {
     "iopub.execute_input": "2025-01-22T08:42:24.709229Z",
     "iopub.status.busy": "2025-01-22T08:42:24.709141Z",
     "iopub.status.idle": "2025-01-22T08:42:24.710938Z",
     "shell.execute_reply": "2025-01-22T08:42:24.710715Z"
    },
    "slideshow": {
     "slide_type": "fragment"
    }
   },
   "outputs": [],
   "source": [
    "python_ast_grammar_without_decorators: Grammar = extend_grammar(PYTHON_AST_GRAMMAR,\n",
    "{\n",
    "    '<FunctionDef>' :\n",
    "        ['FunctionDef(name=<identifier>, args=<arguments>, body=<nonempty_stmt_list>, decorator_list=[])']\n",
    "})"
   ]
  },
  {
   "cell_type": "markdown",
   "id": "7b2b7b4c",
   "metadata": {
    "slideshow": {
     "slide_type": "subslide"
    }
   },
   "source": [
    "However, we're not done yet.\n",
    "We also need to ensure that our grammar is _valid_, as any misspelled nonterminal identifier will result in problems during production.\n",
    "For this, we use the `is_valid_grammar()` function:"
   ]
  },
  {
   "cell_type": "code",
   "execution_count": 103,
   "id": "f444838b",
   "metadata": {
    "execution": {
     "iopub.execute_input": "2025-01-22T08:42:24.712277Z",
     "iopub.status.busy": "2025-01-22T08:42:24.712190Z",
     "iopub.status.idle": "2025-01-22T08:42:24.713897Z",
     "shell.execute_reply": "2025-01-22T08:42:24.713670Z"
    },
    "slideshow": {
     "slide_type": "skip"
    }
   },
   "outputs": [],
   "source": [
    "from ExpectError import ExpectError"
   ]
  },
  {
   "cell_type": "code",
   "execution_count": 104,
   "id": "f037de69",
   "metadata": {
    "execution": {
     "iopub.execute_input": "2025-01-22T08:42:24.715205Z",
     "iopub.status.busy": "2025-01-22T08:42:24.715137Z",
     "iopub.status.idle": "2025-01-22T08:42:24.717287Z",
     "shell.execute_reply": "2025-01-22T08:42:24.717048Z"
    },
    "slideshow": {
     "slide_type": "subslide"
    }
   },
   "outputs": [
    {
     "name": "stderr",
     "output_type": "stream",
     "text": [
      "'<decorator_list_param>': defined, but not used. Consider applying trim_grammar() on the grammar\n",
      "'<returns>': defined, but not used. Consider applying trim_grammar() on the grammar\n",
      "'<decorator_list_param>': unreachable from <start>. Consider applying trim_grammar() on the grammar\n",
      "'<returns>': unreachable from <start>. Consider applying trim_grammar() on the grammar\n",
      "Traceback (most recent call last):\n",
      "  File \"/var/folders/n2/xd9445p97rb3xh7m1dfx8_4h0006ts/T/ipykernel_17604/3611578183.py\", line 2, in <module>\n",
      "    assert is_valid_grammar(python_ast_grammar_without_decorators)\n",
      "           ^^^^^^^^^^^^^^^^^^^^^^^^^^^^^^^^^^^^^^^^^^^^^^^^^^^^^^^\n",
      "AssertionError (expected)\n"
     ]
    }
   ],
   "source": [
    "with ExpectError():\n",
    "    assert is_valid_grammar(python_ast_grammar_without_decorators)"
   ]
  },
  {
   "cell_type": "markdown",
   "id": "8373e6ad",
   "metadata": {
    "slideshow": {
     "slide_type": "subslide"
    }
   },
   "source": [
    "We see that with our change, our grammar has an _orphaned rule_: The `<returns>` rule is no longer used.\n",
    "This is because `<returns>` is part of the `<type_annotation>` we just have deleted.\n",
    "(`<type_annotation>` is still used when defining types for variables.)"
   ]
  },
  {
   "cell_type": "markdown",
   "id": "48e56f63",
   "metadata": {
    "slideshow": {
     "slide_type": "fragment"
    }
   },
   "source": [
    "To fix this, we need to delete the `<returns>` rule from our grammar.\n",
    "Fortunately, we have a function `trim_grammar()`, which deletes all orphaned rules:"
   ]
  },
  {
   "cell_type": "code",
   "execution_count": 105,
   "id": "adc58243",
   "metadata": {
    "execution": {
     "iopub.execute_input": "2025-01-22T08:42:24.718682Z",
     "iopub.status.busy": "2025-01-22T08:42:24.718589Z",
     "iopub.status.idle": "2025-01-22T08:42:24.720421Z",
     "shell.execute_reply": "2025-01-22T08:42:24.720211Z"
    },
    "slideshow": {
     "slide_type": "fragment"
    }
   },
   "outputs": [],
   "source": [
    "python_ast_grammar_without_decorators = trim_grammar(python_ast_grammar_without_decorators)"
   ]
  },
  {
   "cell_type": "markdown",
   "id": "78d26e1b",
   "metadata": {
    "slideshow": {
     "slide_type": "fragment"
    }
   },
   "source": [
    "With this, our grammar becomes valid..."
   ]
  },
  {
   "cell_type": "code",
   "execution_count": 106,
   "id": "59609fed",
   "metadata": {
    "execution": {
     "iopub.execute_input": "2025-01-22T08:42:24.721734Z",
     "iopub.status.busy": "2025-01-22T08:42:24.721654Z",
     "iopub.status.idle": "2025-01-22T08:42:24.723312Z",
     "shell.execute_reply": "2025-01-22T08:42:24.723115Z"
    },
    "slideshow": {
     "slide_type": "fragment"
    }
   },
   "outputs": [],
   "source": [
    "assert is_valid_grammar(python_ast_grammar_without_decorators)"
   ]
  },
  {
   "cell_type": "markdown",
   "id": "e5a51a4c",
   "metadata": {
    "slideshow": {
     "slide_type": "fragment"
    }
   },
   "source": [
    "... and we can use it for fuzzing - now without decorators:"
   ]
  },
  {
   "cell_type": "code",
   "execution_count": 107,
   "id": "ead3d7d7",
   "metadata": {
    "execution": {
     "iopub.execute_input": "2025-01-22T08:42:24.724496Z",
     "iopub.status.busy": "2025-01-22T08:42:24.724434Z",
     "iopub.status.idle": "2025-01-22T08:42:24.921708Z",
     "shell.execute_reply": "2025-01-22T08:42:24.921450Z"
    },
    "slideshow": {
     "slide_type": "subslide"
    }
   },
   "outputs": [
    {
     "name": "stdout",
     "output_type": "stream",
     "text": [
      "def X():\n",
      "    break\n"
     ]
    }
   ],
   "source": [
    "fuzzer = PythonFuzzer(grammar=python_ast_grammar_without_decorators)\n",
    "print(fuzzer.fuzz())"
   ]
  },
  {
   "cell_type": "markdown",
   "id": "b561ab50",
   "metadata": {
    "slideshow": {
     "slide_type": "fragment"
    }
   },
   "source": [
    "Adjusting the grammar is straightforward once you understood the grammar structure, but the AST grammar is complex; also, your changes and extensions tie you closely to the grammar structure.\n",
    "Carefully study how the individual rules are defined, above."
   ]
  },
  {
   "cell_type": "markdown",
   "id": "47f98e3a",
   "metadata": {
    "slideshow": {
     "slide_type": "subslide"
    }
   },
   "source": [
    "### Using Constraints for Customizing\n",
    "\n",
    "A more elegant alternative to altering the grammar is to make use of _constraints_ that tune the grammar to your needs.\n",
    "Since `PythonFuzzer` is derived from `ISLaSolver`, we can pass a `constraint` argument constraining the grammar, as discussed in the chapter on [fuzzing with constraints](FuzzingWithConstraints.ipynb)."
   ]
  },
  {
   "cell_type": "markdown",
   "id": "f7a40093",
   "metadata": {
    "slideshow": {
     "slide_type": "fragment"
    }
   },
   "source": [
    "\n",
    "\n",
    "If we want to have a function definition with 10 characters in each identifier, we make use of an ISLa constraint:"
   ]
  },
  {
   "cell_type": "code",
   "execution_count": 108,
   "id": "6a2c1630",
   "metadata": {
    "execution": {
     "iopub.execute_input": "2025-01-22T08:42:24.923446Z",
     "iopub.status.busy": "2025-01-22T08:42:24.923344Z",
     "iopub.status.idle": "2025-01-22T08:42:30.333170Z",
     "shell.execute_reply": "2025-01-22T08:42:30.332906Z"
    },
    "slideshow": {
     "slide_type": "subslide"
    }
   },
   "outputs": [
    {
     "name": "stdout",
     "output_type": "stream",
     "text": [
      "def yWOOLwypwp(): # type: \n",
      "    return\n"
     ]
    }
   ],
   "source": [
    "fuzzer = PythonFuzzer(constraint='str.len(<id>) = 10')\n",
    "print(fuzzer.fuzz())"
   ]
  },
  {
   "cell_type": "markdown",
   "id": "2697f34e",
   "metadata": {
    "slideshow": {
     "slide_type": "fragment"
    }
   },
   "source": [
    "We can also constrain individual children – say, the actual identifier of the function."
   ]
  },
  {
   "cell_type": "code",
   "execution_count": 109,
   "id": "0af08da8",
   "metadata": {
    "execution": {
     "iopub.execute_input": "2025-01-22T08:42:30.334622Z",
     "iopub.status.busy": "2025-01-22T08:42:30.334547Z",
     "iopub.status.idle": "2025-01-22T08:42:36.938658Z",
     "shell.execute_reply": "2025-01-22T08:42:36.938404Z"
    },
    "slideshow": {
     "slide_type": "subslide"
    }
   },
   "outputs": [
    {
     "name": "stdout",
     "output_type": "stream",
     "text": [
      "@[set(), set()]\n",
      "@set() | {}\n",
      "@(-*set())[set():():\n",
      "set()[:]()]\n",
      "def my_favorite_function(dlFf=Qr, l1M=set(), *) -> 942.5:\n",
      "    return\n"
     ]
    }
   ],
   "source": [
    "# Also works (the <identifier> has quotes)\n",
    "fuzzer = PythonFuzzer(constraint='<FunctionDef>.<identifier> = \"\\'my_favorite_function\\'\"')\n",
    "print(fuzzer.fuzz())"
   ]
  },
  {
   "cell_type": "markdown",
   "id": "02c3b0ee",
   "metadata": {
    "slideshow": {
     "slide_type": "fragment"
    }
   },
   "source": [
    "Assume we want to test how the compiler handles large numbers. Let us define a constraint such that the function body (`<nonempty_stmt_list>`) contains at least one integer (`<integer>`) with a value of at least 1000:"
   ]
  },
  {
   "cell_type": "code",
   "execution_count": 110,
   "id": "233af57e",
   "metadata": {
    "execution": {
     "iopub.execute_input": "2025-01-22T08:42:36.940138Z",
     "iopub.status.busy": "2025-01-22T08:42:36.940061Z",
     "iopub.status.idle": "2025-01-22T08:42:55.782346Z",
     "shell.execute_reply": "2025-01-22T08:42:55.782063Z"
    },
    "slideshow": {
     "slide_type": "subslide"
    }
   },
   "outputs": [
    {
     "name": "stdout",
     "output_type": "stream",
     "text": [
      "@[set(), +set(), \n",
      "set()]\n",
      "@{set(): set(), set(): set()}\n",
      "@(set(), *set() & set())\n",
      "def l(r, a, /, *uXLV, _=set()[:], **Z) -> sdTYWE9b or {set(), set().R}.Vy != z1vw([]):\n",
      "    del 1007\n"
     ]
    }
   ],
   "source": [
    "fuzzer = PythonFuzzer(constraint=\n",
    "\"\"\"\n",
    "    exists <integer> x:\n",
    "        (inside(x, <nonempty_stmt_list>) and str.to.int(x) > 1000)\n",
    "\"\"\")\n",
    "print(fuzzer.fuzz())"
   ]
  },
  {
   "cell_type": "markdown",
   "id": "5fe2b975",
   "metadata": {
    "slideshow": {
     "slide_type": "subslide"
    }
   },
   "source": [
    "Assume we'd like to test compilers with non-trivial functions. Here's how to define a constraint such that the function body has exactly _three_ statements (`<stmt>`). Note that this can take more than a minute to resolve, but the result definitely is a nontrivial function."
   ]
  },
  {
   "cell_type": "code",
   "execution_count": 111,
   "id": "d8b0b0d0",
   "metadata": {
    "execution": {
     "iopub.execute_input": "2025-01-22T08:42:55.783804Z",
     "iopub.status.busy": "2025-01-22T08:42:55.783725Z",
     "iopub.status.idle": "2025-01-22T08:43:26.231161Z",
     "shell.execute_reply": "2025-01-22T08:43:26.230844Z"
    },
    "slideshow": {
     "slide_type": "subslide"
    }
   },
   "outputs": [
    {
     "name": "stdout",
     "output_type": "stream",
     "text": [
      "@3.91\n",
      "def V8(w, /, *, t=set(), C5D=set(), **foT6):\n",
      "    if *{}.S[:] - ((set()) not in set() in set()):\n",
      "        pass\n",
      "    else:\n",
      "        return\n"
     ]
    }
   ],
   "source": [
    "# This will not work with ISLa 2\n",
    "fuzzer = PythonFuzzer(constraint=\"\"\"\n",
    "    forall <FunctionDef> def: count(def, \"<stmt>\", \"3\")\n",
    "\"\"\")\n",
    "print(fuzzer.fuzz())"
   ]
  },
  {
   "cell_type": "markdown",
   "id": "5fb6cee8",
   "metadata": {
    "slideshow": {
     "slide_type": "fragment"
    }
   },
   "source": [
    "And finally, if we want the decorator list to be empty, as in our grammar-altering example, we can constrain the decorator list to be empty:"
   ]
  },
  {
   "cell_type": "code",
   "execution_count": 112,
   "id": "f4980049",
   "metadata": {
    "execution": {
     "iopub.execute_input": "2025-01-22T08:43:26.233012Z",
     "iopub.status.busy": "2025-01-22T08:43:26.232897Z",
     "iopub.status.idle": "2025-01-22T08:43:26.234554Z",
     "shell.execute_reply": "2025-01-22T08:43:26.234344Z"
    },
    "slideshow": {
     "slide_type": "subslide"
    }
   },
   "outputs": [],
   "source": [
    "# ignore\n",
    "# with ExpectError(mute=True):\n",
    "#     # Triggers an ISLa error (AssertionError)\n",
    "#     fuzzer = PythonFuzzer(constraint='''\n",
    "#         str.contains(<FunctionDef>, \"decorator_list=[]\")\n",
    "#     ''')\n",
    "#     print(fuzzer.fuzz())"
   ]
  },
  {
   "cell_type": "code",
   "execution_count": 113,
   "id": "bc62ebfb",
   "metadata": {
    "execution": {
     "iopub.execute_input": "2025-01-22T08:43:26.235818Z",
     "iopub.status.busy": "2025-01-22T08:43:26.235753Z",
     "iopub.status.idle": "2025-01-22T08:43:26.237248Z",
     "shell.execute_reply": "2025-01-22T08:43:26.237035Z"
    },
    "slideshow": {
     "slide_type": "fragment"
    }
   },
   "outputs": [],
   "source": [
    "# ignore\n",
    "# with ExpectError(mute=True):\n",
    "#     # Triggers an ISLa error (AssertionError)\n",
    "#     fuzzer = PythonFuzzer(constraint='<FunctionDef>.<expr_list> = \"[]\"')\n",
    "#     print(fuzzer.fuzz())"
   ]
  },
  {
   "cell_type": "code",
   "execution_count": 114,
   "id": "a693fbdb",
   "metadata": {
    "execution": {
     "iopub.execute_input": "2025-01-22T08:43:26.238459Z",
     "iopub.status.busy": "2025-01-22T08:43:26.238394Z",
     "iopub.status.idle": "2025-01-22T08:43:28.564454Z",
     "shell.execute_reply": "2025-01-22T08:43:28.564151Z"
    },
    "slideshow": {
     "slide_type": "subslide"
    }
   },
   "outputs": [
    {
     "name": "stdout",
     "output_type": "stream",
     "text": [
      "def l(Jws4IzSPx_O2ajk687obQB3mflULCTJWnAv9GHg0YRtVNycueKFDMihZ5rXd1pqEo, /, *, **g):\n",
      "    return\n"
     ]
    }
   ],
   "source": [
    "fuzzer = PythonFuzzer(constraint='<FunctionDef>..<expr_list> = \"[]\"')\n",
    "print(fuzzer.fuzz())"
   ]
  },
  {
   "cell_type": "markdown",
   "id": "bd7f8907",
   "metadata": {
    "slideshow": {
     "slide_type": "slide"
    }
   },
   "source": [
    "## Mutating Code\n",
    "\n",
    "When producing code for compilers (or actually, producing inputs in general), it is often a good idea to not just create _everything_ from scratch, but rather to _mutate_ existing inputs. This way, one can achieve a better balance between _common_ inputs (the ones to mutate) and _uncommon inputs_ (the new parts added via mutation)."
   ]
  },
  {
   "cell_type": "markdown",
   "id": "2c1f4a85",
   "metadata": {
    "slideshow": {
     "slide_type": "subslide"
    }
   },
   "source": [
    "### Parsing Inputs\n",
    "\n",
    "To _mutate_ inputs, we first need to be able to _parse_ them. This is where a grammar is really put to test - can it really parse all possible code? This is why relying on an _existing_ parser that is tried and proven (in our case the Python parser) and operating on an _abstraction_ (in our case the AST) is really handy."
   ]
  },
  {
   "cell_type": "markdown",
   "id": "7eb27388",
   "metadata": {
    "slideshow": {
     "slide_type": "fragment"
    }
   },
   "source": [
    "We already have seen how to parse code into an AST, using `ast.parse()`:"
   ]
  },
  {
   "cell_type": "code",
   "execution_count": 115,
   "id": "057babee",
   "metadata": {
    "execution": {
     "iopub.execute_input": "2025-01-22T08:43:28.566188Z",
     "iopub.status.busy": "2025-01-22T08:43:28.566074Z",
     "iopub.status.idle": "2025-01-22T08:43:28.567709Z",
     "shell.execute_reply": "2025-01-22T08:43:28.567493Z"
    },
    "slideshow": {
     "slide_type": "fragment"
    }
   },
   "outputs": [],
   "source": [
    "def sum(a, b):    # A simple example\n",
    "    the_sum = a + b\n",
    "    return the_sum"
   ]
  },
  {
   "cell_type": "code",
   "execution_count": 116,
   "id": "ae5b0565",
   "metadata": {
    "execution": {
     "iopub.execute_input": "2025-01-22T08:43:28.569154Z",
     "iopub.status.busy": "2025-01-22T08:43:28.569080Z",
     "iopub.status.idle": "2025-01-22T08:43:28.571109Z",
     "shell.execute_reply": "2025-01-22T08:43:28.570898Z"
    },
    "slideshow": {
     "slide_type": "subslide"
    }
   },
   "outputs": [
    {
     "name": "stdout",
     "output_type": "stream",
     "text": [
      "def sum(a, b):\n",
      "    the_sum = a + b\n",
      "    return the_sum\n"
     ]
    }
   ],
   "source": [
    "sum_source = inspect.getsource(sum)\n",
    "sum_tree = ast.parse(sum_source)\n",
    "print(ast.unparse(sum_tree))"
   ]
  },
  {
   "cell_type": "code",
   "execution_count": 117,
   "id": "f74b3df4",
   "metadata": {
    "execution": {
     "iopub.execute_input": "2025-01-22T08:43:28.572543Z",
     "iopub.status.busy": "2025-01-22T08:43:28.572456Z",
     "iopub.status.idle": "2025-01-22T08:43:28.574304Z",
     "shell.execute_reply": "2025-01-22T08:43:28.574099Z"
    },
    "slideshow": {
     "slide_type": "fragment"
    }
   },
   "outputs": [
    {
     "data": {
      "text/plain": [
       "\"Module(body=[FunctionDef(name='sum', args=arguments(posonlyargs=[], args=[arg(arg='a'), arg(arg='b')], kwonlyargs=[], kw_defaults=[], defaults=[]), body=[Assign(targets=[Name(id='the_sum', ctx=Store())], value=BinOp(left=Name(id='a', ctx=Load()), op=Add(), right=Name(id='b', ctx=Load()))), Return(value=Name(id='the_sum', ctx=Load()))], decorator_list=[])], type_ignores=[])\""
      ]
     },
     "execution_count": 117,
     "metadata": {},
     "output_type": "execute_result"
    }
   ],
   "source": [
    "sum_str = ast.dump(sum_tree)\n",
    "sum_str"
   ]
  },
  {
   "cell_type": "markdown",
   "id": "b1eaf3d8",
   "metadata": {
    "slideshow": {
     "slide_type": "fragment"
    }
   },
   "source": [
    "Our grammar is able to parse this (non_trivial) string:"
   ]
  },
  {
   "cell_type": "code",
   "execution_count": 118,
   "id": "a6faaefc",
   "metadata": {
    "execution": {
     "iopub.execute_input": "2025-01-22T08:43:28.575905Z",
     "iopub.status.busy": "2025-01-22T08:43:28.575806Z",
     "iopub.status.idle": "2025-01-22T08:43:28.587995Z",
     "shell.execute_reply": "2025-01-22T08:43:28.587533Z"
    },
    "slideshow": {
     "slide_type": "fragment"
    }
   },
   "outputs": [],
   "source": [
    "solver = ISLaSolver(python_ast_grammar)\n",
    "assert solver.check(sum_str)"
   ]
  },
  {
   "cell_type": "markdown",
   "id": "dfed5fee",
   "metadata": {
    "slideshow": {
     "slide_type": "subslide"
    }
   },
   "source": [
    "To mutate the input, we first have to parse it into a _derivation tree_ structure. This is (again) a tree representation of the code, but this time, using the elements of _our_ grammar."
   ]
  },
  {
   "cell_type": "code",
   "execution_count": 119,
   "id": "510ad76a",
   "metadata": {
    "execution": {
     "iopub.execute_input": "2025-01-22T08:43:28.591570Z",
     "iopub.status.busy": "2025-01-22T08:43:28.591373Z",
     "iopub.status.idle": "2025-01-22T08:43:28.605339Z",
     "shell.execute_reply": "2025-01-22T08:43:28.605059Z"
    },
    "slideshow": {
     "slide_type": "fragment"
    }
   },
   "outputs": [],
   "source": [
    "sum_tree = solver.parse(sum_str)"
   ]
  },
  {
   "cell_type": "markdown",
   "id": "c99a548c",
   "metadata": {
    "slideshow": {
     "slide_type": "fragment"
    }
   },
   "source": [
    "Let us inspect what a derivation tree looks like. Alas, the string representation is very long and not that useful:"
   ]
  },
  {
   "cell_type": "code",
   "execution_count": 120,
   "id": "a2b6f02e",
   "metadata": {
    "execution": {
     "iopub.execute_input": "2025-01-22T08:43:28.606940Z",
     "iopub.status.busy": "2025-01-22T08:43:28.606863Z",
     "iopub.status.idle": "2025-01-22T08:43:28.609030Z",
     "shell.execute_reply": "2025-01-22T08:43:28.608819Z"
    },
    "slideshow": {
     "slide_type": "fragment"
    }
   },
   "outputs": [
    {
     "data": {
      "text/plain": [
       "8737"
      ]
     },
     "execution_count": 120,
     "metadata": {},
     "output_type": "execute_result"
    }
   ],
   "source": [
    "len(repr(sum_tree))"
   ]
  },
  {
   "cell_type": "code",
   "execution_count": 121,
   "id": "925ef268",
   "metadata": {
    "execution": {
     "iopub.execute_input": "2025-01-22T08:43:28.610333Z",
     "iopub.status.busy": "2025-01-22T08:43:28.610261Z",
     "iopub.status.idle": "2025-01-22T08:43:28.612300Z",
     "shell.execute_reply": "2025-01-22T08:43:28.612098Z"
    },
    "slideshow": {
     "slide_type": "fragment"
    }
   },
   "outputs": [
    {
     "data": {
      "text/plain": [
       "\"DerivationTree('<start>', (DerivationTree('<mod>', (DerivationTree('<Module>', (DerivationTree('Module(body=', (), id=495073), DerivationTree('<nonempty_stmt_list>', (DerivationTree('[', (), id=495071\""
      ]
     },
     "execution_count": 121,
     "metadata": {},
     "output_type": "execute_result"
    }
   ],
   "source": [
    "repr(sum_tree)[:200]"
   ]
  },
  {
   "cell_type": "markdown",
   "id": "03d9edba",
   "metadata": {
    "slideshow": {
     "slide_type": "fragment"
    }
   },
   "source": [
    "However, we can _visualize_ the derivation tree:"
   ]
  },
  {
   "cell_type": "code",
   "execution_count": 122,
   "id": "e72f93c8",
   "metadata": {
    "execution": {
     "iopub.execute_input": "2025-01-22T08:43:28.613479Z",
     "iopub.status.busy": "2025-01-22T08:43:28.613416Z",
     "iopub.status.idle": "2025-01-22T08:43:28.633832Z",
     "shell.execute_reply": "2025-01-22T08:43:28.633570Z"
    },
    "slideshow": {
     "slide_type": "skip"
    }
   },
   "outputs": [],
   "source": [
    "from GrammarFuzzer import display_tree"
   ]
  },
  {
   "cell_type": "code",
   "execution_count": 123,
   "id": "2326d448",
   "metadata": {
    "execution": {
     "iopub.execute_input": "2025-01-22T08:43:28.635189Z",
     "iopub.status.busy": "2025-01-22T08:43:28.635116Z",
     "iopub.status.idle": "2025-01-22T08:43:29.372162Z",
     "shell.execute_reply": "2025-01-22T08:43:29.371748Z"
    },
    "slideshow": {
     "slide_type": "fragment"
    }
   },
   "outputs": [
    {
     "data": {
      "image/svg+xml": [
       "<?xml version=\"1.0\" encoding=\"UTF-8\" standalone=\"no\"?>\n",
       "<!DOCTYPE svg PUBLIC \"-//W3C//DTD SVG 1.1//EN\"\n",
       " \"http://www.w3.org/Graphics/SVG/1.1/DTD/svg11.dtd\">\n",
       "<!-- Generated by graphviz version 12.2.1 (20241206.2353)\n",
       " -->\n",
       "<!-- Pages: 1 -->\n",
       "<svg width=\"2150pt\" height=\"1228pt\"\n",
       " viewBox=\"0.00 0.00 2150.25 1228.25\" xmlns=\"http://www.w3.org/2000/svg\" xmlns:xlink=\"http://www.w3.org/1999/xlink\">\n",
       "<g id=\"graph0\" class=\"graph\" transform=\"scale(1 1) rotate(0) translate(4 1224.25)\">\n",
       "<polygon fill=\"white\" stroke=\"none\" points=\"-4,4 -4,-1224.25 2146.25,-1224.25 2146.25,4 -4,4\"/>\n",
       "<!-- 0 -->\n",
       "<g id=\"node1\" class=\"node\">\n",
       "<title>0</title>\n",
       "<text text-anchor=\"middle\" x=\"1188.5\" y=\"-1206.95\" font-family=\"Times,serif\" font-size=\"14.00\">&lt;start&gt;</text>\n",
       "</g>\n",
       "<!-- 1 -->\n",
       "<g id=\"node2\" class=\"node\">\n",
       "<title>1</title>\n",
       "<text text-anchor=\"middle\" x=\"1188.5\" y=\"-1156.7\" font-family=\"Times,serif\" font-size=\"14.00\">&lt;mod&gt;</text>\n",
       "</g>\n",
       "<!-- 0&#45;&gt;1 -->\n",
       "<g id=\"edge1\" class=\"edge\">\n",
       "<title>0&#45;&gt;1</title>\n",
       "<path fill=\"none\" stroke=\"black\" d=\"M1188.5,-1206.21C1188.5,-1199.99 1188.5,-1189.9 1188.5,-1181.14\"/>\n",
       "<polygon fill=\"black\" stroke=\"black\" points=\"1192,-1181.35 1188.5,-1171.35 1185,-1181.35 1192,-1181.35\"/>\n",
       "</g>\n",
       "<!-- 2 -->\n",
       "<g id=\"node3\" class=\"node\">\n",
       "<title>2</title>\n",
       "<text text-anchor=\"middle\" x=\"1188.5\" y=\"-1106.45\" font-family=\"Times,serif\" font-size=\"14.00\">&lt;Module&gt;</text>\n",
       "</g>\n",
       "<!-- 1&#45;&gt;2 -->\n",
       "<g id=\"edge2\" class=\"edge\">\n",
       "<title>1&#45;&gt;2</title>\n",
       "<path fill=\"none\" stroke=\"black\" d=\"M1188.5,-1155.96C1188.5,-1149.74 1188.5,-1139.65 1188.5,-1130.89\"/>\n",
       "<polygon fill=\"black\" stroke=\"black\" points=\"1192,-1131.1 1188.5,-1121.1 1185,-1131.1 1192,-1131.1\"/>\n",
       "</g>\n",
       "<!-- 3 -->\n",
       "<g id=\"node4\" class=\"node\">\n",
       "<title>3</title>\n",
       "<text text-anchor=\"middle\" x=\"995.5\" y=\"-1056.2\" font-family=\"Times,serif\" font-size=\"14.00\">Module(body=</text>\n",
       "</g>\n",
       "<!-- 2&#45;&gt;3 -->\n",
       "<g id=\"edge3\" class=\"edge\">\n",
       "<title>2&#45;&gt;3</title>\n",
       "<path fill=\"none\" stroke=\"black\" d=\"M1164.06,-1105.51C1130.27,-1097.07 1069.1,-1081.77 1030.47,-1072.12\"/>\n",
       "<polygon fill=\"black\" stroke=\"black\" points=\"1031.76,-1068.83 1021.21,-1069.8 1030.07,-1075.62 1031.76,-1068.83\"/>\n",
       "</g>\n",
       "<!-- 4 -->\n",
       "<g id=\"node5\" class=\"node\">\n",
       "<title>4</title>\n",
       "<text text-anchor=\"middle\" x=\"1117.5\" y=\"-1056.2\" font-family=\"Times,serif\" font-size=\"14.00\">&lt;nonempty_stmt_list&gt;</text>\n",
       "</g>\n",
       "<!-- 2&#45;&gt;4 -->\n",
       "<g id=\"edge4\" class=\"edge\">\n",
       "<title>2&#45;&gt;4</title>\n",
       "<path fill=\"none\" stroke=\"black\" d=\"M1179.51,-1105.51C1168.46,-1098 1149.45,-1085.09 1135.38,-1075.53\"/>\n",
       "<polygon fill=\"black\" stroke=\"black\" points=\"1137.69,-1072.86 1127.45,-1070.14 1133.75,-1078.65 1137.69,-1072.86\"/>\n",
       "</g>\n",
       "<!-- 200 -->\n",
       "<g id=\"node201\" class=\"node\">\n",
       "<title>200</title>\n",
       "<text text-anchor=\"middle\" x=\"1259.5\" y=\"-1056.2\" font-family=\"Times,serif\" font-size=\"14.00\">&lt;type_ignore_param&gt;</text>\n",
       "</g>\n",
       "<!-- 2&#45;&gt;200 -->\n",
       "<g id=\"edge200\" class=\"edge\">\n",
       "<title>2&#45;&gt;200</title>\n",
       "<path fill=\"none\" stroke=\"black\" d=\"M1197.49,-1105.51C1208.54,-1098 1227.55,-1085.09 1241.62,-1075.53\"/>\n",
       "<polygon fill=\"black\" stroke=\"black\" points=\"1243.25,-1078.65 1249.55,-1070.14 1239.31,-1072.86 1243.25,-1078.65\"/>\n",
       "</g>\n",
       "<!-- 206 -->\n",
       "<g id=\"node207\" class=\"node\">\n",
       "<title>206</title>\n",
       "<text text-anchor=\"middle\" x=\"1354.5\" y=\"-1056.2\" font-family=\"Times,serif\" font-size=\"14.00\">) (41)</text>\n",
       "</g>\n",
       "<!-- 2&#45;&gt;206 -->\n",
       "<g id=\"edge206\" class=\"edge\">\n",
       "<title>2&#45;&gt;206</title>\n",
       "<path fill=\"none\" stroke=\"black\" d=\"M1209.52,-1105.51C1239.83,-1096.71 1295.74,-1080.46 1328.56,-1070.91\"/>\n",
       "<polygon fill=\"black\" stroke=\"black\" points=\"1329.44,-1074.3 1338.07,-1068.15 1327.49,-1067.58 1329.44,-1074.3\"/>\n",
       "</g>\n",
       "<!-- 5 -->\n",
       "<g id=\"node6\" class=\"node\">\n",
       "<title>5</title>\n",
       "<text text-anchor=\"middle\" x=\"1061.5\" y=\"-1005.95\" font-family=\"Times,serif\" font-size=\"14.00\">[ (91)</text>\n",
       "</g>\n",
       "<!-- 4&#45;&gt;5 -->\n",
       "<g id=\"edge5\" class=\"edge\">\n",
       "<title>4&#45;&gt;5</title>\n",
       "<path fill=\"none\" stroke=\"black\" d=\"M1110.63,-1055.46C1102.32,-1048.3 1088.07,-1036.01 1077.05,-1026.52\"/>\n",
       "<polygon fill=\"black\" stroke=\"black\" points=\"1079.43,-1023.95 1069.57,-1020.08 1074.86,-1029.26 1079.43,-1023.95\"/>\n",
       "</g>\n",
       "<!-- 6 -->\n",
       "<g id=\"node7\" class=\"node\">\n",
       "<title>6</title>\n",
       "<text text-anchor=\"middle\" x=\"1117.5\" y=\"-1005.95\" font-family=\"Times,serif\" font-size=\"14.00\">&lt;stmts&gt;</text>\n",
       "</g>\n",
       "<!-- 4&#45;&gt;6 -->\n",
       "<g id=\"edge6\" class=\"edge\">\n",
       "<title>4&#45;&gt;6</title>\n",
       "<path fill=\"none\" stroke=\"black\" d=\"M1117.5,-1055.46C1117.5,-1049.24 1117.5,-1039.15 1117.5,-1030.39\"/>\n",
       "<polygon fill=\"black\" stroke=\"black\" points=\"1121,-1030.6 1117.5,-1020.6 1114,-1030.6 1121,-1030.6\"/>\n",
       "</g>\n",
       "<!-- 199 -->\n",
       "<g id=\"node200\" class=\"node\">\n",
       "<title>199</title>\n",
       "<text text-anchor=\"middle\" x=\"1173.5\" y=\"-1005.95\" font-family=\"Times,serif\" font-size=\"14.00\">] (93)</text>\n",
       "</g>\n",
       "<!-- 4&#45;&gt;199 -->\n",
       "<g id=\"edge199\" class=\"edge\">\n",
       "<title>4&#45;&gt;199</title>\n",
       "<path fill=\"none\" stroke=\"black\" d=\"M1124.37,-1055.46C1132.68,-1048.3 1146.93,-1036.01 1157.95,-1026.52\"/>\n",
       "<polygon fill=\"black\" stroke=\"black\" points=\"1160.14,-1029.26 1165.43,-1020.08 1155.57,-1023.95 1160.14,-1029.26\"/>\n",
       "</g>\n",
       "<!-- 7 -->\n",
       "<g id=\"node8\" class=\"node\">\n",
       "<title>7</title>\n",
       "<text text-anchor=\"middle\" x=\"1117.5\" y=\"-955.7\" font-family=\"Times,serif\" font-size=\"14.00\">&lt;stmt&gt;</text>\n",
       "</g>\n",
       "<!-- 6&#45;&gt;7 -->\n",
       "<g id=\"edge7\" class=\"edge\">\n",
       "<title>6&#45;&gt;7</title>\n",
       "<path fill=\"none\" stroke=\"black\" d=\"M1117.5,-1005.21C1117.5,-998.99 1117.5,-988.9 1117.5,-980.14\"/>\n",
       "<polygon fill=\"black\" stroke=\"black\" points=\"1121,-980.35 1117.5,-970.35 1114,-980.35 1121,-980.35\"/>\n",
       "</g>\n",
       "<!-- 8 -->\n",
       "<g id=\"node9\" class=\"node\">\n",
       "<title>8</title>\n",
       "<text text-anchor=\"middle\" x=\"1117.5\" y=\"-905.45\" font-family=\"Times,serif\" font-size=\"14.00\">&lt;FunctionDef&gt;</text>\n",
       "</g>\n",
       "<!-- 7&#45;&gt;8 -->\n",
       "<g id=\"edge8\" class=\"edge\">\n",
       "<title>7&#45;&gt;8</title>\n",
       "<path fill=\"none\" stroke=\"black\" d=\"M1117.5,-954.96C1117.5,-948.74 1117.5,-938.65 1117.5,-929.89\"/>\n",
       "<polygon fill=\"black\" stroke=\"black\" points=\"1121,-930.1 1117.5,-920.1 1114,-930.1 1121,-930.1\"/>\n",
       "</g>\n",
       "<!-- 9 -->\n",
       "<g id=\"node10\" class=\"node\">\n",
       "<title>9</title>\n",
       "<text text-anchor=\"middle\" x=\"61.5\" y=\"-855.2\" font-family=\"Times,serif\" font-size=\"14.00\">FunctionDef(name=</text>\n",
       "</g>\n",
       "<!-- 8&#45;&gt;9 -->\n",
       "<g id=\"edge9\" class=\"edge\">\n",
       "<title>8&#45;&gt;9</title>\n",
       "<path fill=\"none\" stroke=\"black\" d=\"M1075.4,-909.64C939.78,-906.28 501.97,-894.12 128.3,-868.64\"/>\n",
       "<polygon fill=\"black\" stroke=\"black\" points=\"128.71,-865.16 118.5,-867.97 128.23,-872.15 128.71,-865.16\"/>\n",
       "</g>\n",
       "<!-- 10 -->\n",
       "<g id=\"node11\" class=\"node\">\n",
       "<title>10</title>\n",
       "<text text-anchor=\"middle\" x=\"167.5\" y=\"-855.2\" font-family=\"Times,serif\" font-size=\"14.00\">&lt;identifier&gt;</text>\n",
       "</g>\n",
       "<!-- 8&#45;&gt;10 -->\n",
       "<g id=\"edge10\" class=\"edge\">\n",
       "<title>8&#45;&gt;10</title>\n",
       "<path fill=\"none\" stroke=\"black\" d=\"M1075.14,-908.47C918.12,-900.5 370.13,-872.67 211.09,-864.59\"/>\n",
       "<polygon fill=\"black\" stroke=\"black\" points=\"211.57,-861.11 201.4,-864.1 211.21,-868.1 211.57,-861.11\"/>\n",
       "</g>\n",
       "<!-- 23 -->\n",
       "<g id=\"node24\" class=\"node\">\n",
       "<title>23</title>\n",
       "<text text-anchor=\"middle\" x=\"681.5\" y=\"-855.2\" font-family=\"Times,serif\" font-size=\"14.00\">, args=</text>\n",
       "</g>\n",
       "<!-- 8&#45;&gt;23 -->\n",
       "<g id=\"edge23\" class=\"edge\">\n",
       "<title>8&#45;&gt;23</title>\n",
       "<path fill=\"none\" stroke=\"black\" d=\"M1075.3,-907.84C1002.98,-902.73 850.53,-890.47 711.67,-868.61\"/>\n",
       "<polygon fill=\"black\" stroke=\"black\" points=\"712.34,-865.18 701.92,-867.06 711.24,-872.09 712.34,-865.18\"/>\n",
       "</g>\n",
       "<!-- 24 -->\n",
       "<g id=\"node25\" class=\"node\">\n",
       "<title>24</title>\n",
       "<text text-anchor=\"middle\" x=\"755.5\" y=\"-855.2\" font-family=\"Times,serif\" font-size=\"14.00\">&lt;arguments&gt;</text>\n",
       "</g>\n",
       "<!-- 8&#45;&gt;24 -->\n",
       "<g id=\"edge24\" class=\"edge\">\n",
       "<title>8&#45;&gt;24</title>\n",
       "<path fill=\"none\" stroke=\"black\" d=\"M1075.27,-905C1007.42,-895.95 874.58,-878.25 803.34,-868.75\"/>\n",
       "<polygon fill=\"black\" stroke=\"black\" points=\"803.91,-865.3 793.54,-867.44 802.99,-872.24 803.91,-865.3\"/>\n",
       "</g>\n",
       "<!-- 81 -->\n",
       "<g id=\"node82\" class=\"node\">\n",
       "<title>81</title>\n",
       "<text text-anchor=\"middle\" x=\"1066.5\" y=\"-855.2\" font-family=\"Times,serif\" font-size=\"14.00\">, body=</text>\n",
       "</g>\n",
       "<!-- 8&#45;&gt;81 -->\n",
       "<g id=\"edge81\" class=\"edge\">\n",
       "<title>8&#45;&gt;81</title>\n",
       "<path fill=\"none\" stroke=\"black\" d=\"M1111.25,-904.71C1103.75,-897.62 1090.96,-885.51 1080.96,-876.06\"/>\n",
       "<polygon fill=\"black\" stroke=\"black\" points=\"1083.57,-873.71 1073.9,-869.38 1078.76,-878.79 1083.57,-873.71\"/>\n",
       "</g>\n",
       "<!-- 82 -->\n",
       "<g id=\"node83\" class=\"node\">\n",
       "<title>82</title>\n",
       "<text text-anchor=\"middle\" x=\"1168.5\" y=\"-855.2\" font-family=\"Times,serif\" font-size=\"14.00\">&lt;nonempty_stmt_list&gt;</text>\n",
       "</g>\n",
       "<!-- 8&#45;&gt;82 -->\n",
       "<g id=\"edge82\" class=\"edge\">\n",
       "<title>8&#45;&gt;82</title>\n",
       "<path fill=\"none\" stroke=\"black\" d=\"M1123.75,-904.71C1131.25,-897.62 1144.04,-885.51 1154.04,-876.06\"/>\n",
       "<polygon fill=\"black\" stroke=\"black\" points=\"1156.24,-878.79 1161.1,-869.38 1151.43,-873.71 1156.24,-878.79\"/>\n",
       "</g>\n",
       "<!-- 190 -->\n",
       "<g id=\"node191\" class=\"node\">\n",
       "<title>190</title>\n",
       "<text text-anchor=\"middle\" x=\"1315.5\" y=\"-855.2\" font-family=\"Times,serif\" font-size=\"14.00\">&lt;decorator_list_param&gt;</text>\n",
       "</g>\n",
       "<!-- 8&#45;&gt;190 -->\n",
       "<g id=\"edge190\" class=\"edge\">\n",
       "<title>8&#45;&gt;190</title>\n",
       "<path fill=\"none\" stroke=\"black\" d=\"M1142.58,-904.51C1177.24,-896.07 1240,-880.77 1279.62,-871.12\"/>\n",
       "<polygon fill=\"black\" stroke=\"black\" points=\"1280.27,-874.56 1289.16,-868.79 1278.61,-867.76 1280.27,-874.56\"/>\n",
       "</g>\n",
       "<!-- 196 -->\n",
       "<g id=\"node197\" class=\"node\">\n",
       "<title>196</title>\n",
       "<text text-anchor=\"middle\" x=\"1432.5\" y=\"-855.2\" font-family=\"Times,serif\" font-size=\"14.00\">&lt;returns&#45;1&gt;</text>\n",
       "</g>\n",
       "<!-- 8&#45;&gt;196 -->\n",
       "<g id=\"edge196\" class=\"edge\">\n",
       "<title>8&#45;&gt;196</title>\n",
       "<path fill=\"none\" stroke=\"black\" d=\"M1157.39,-904.51C1216.65,-895.44 1327.51,-878.46 1388.86,-869.06\"/>\n",
       "<polygon fill=\"black\" stroke=\"black\" points=\"1389.22,-872.54 1398.58,-867.57 1388.16,-865.63 1389.22,-872.54\"/>\n",
       "</g>\n",
       "<!-- 197 -->\n",
       "<g id=\"node198\" class=\"node\">\n",
       "<title>197</title>\n",
       "<text text-anchor=\"middle\" x=\"1537.5\" y=\"-855.2\" font-family=\"Times,serif\" font-size=\"14.00\">&lt;type_comment&#45;3&gt;</text>\n",
       "</g>\n",
       "<!-- 8&#45;&gt;197 -->\n",
       "<g id=\"edge197\" class=\"edge\">\n",
       "<title>8&#45;&gt;197</title>\n",
       "<path fill=\"none\" stroke=\"black\" d=\"M1159.69,-905.78C1233.35,-897.32 1385.84,-879.8 1472.88,-869.8\"/>\n",
       "<polygon fill=\"black\" stroke=\"black\" points=\"1473.16,-873.29 1482.69,-868.67 1472.36,-866.34 1473.16,-873.29\"/>\n",
       "</g>\n",
       "<!-- 198 -->\n",
       "<g id=\"node199\" class=\"node\">\n",
       "<title>198</title>\n",
       "<text text-anchor=\"middle\" x=\"1625.5\" y=\"-855.2\" font-family=\"Times,serif\" font-size=\"14.00\">) (41)</text>\n",
       "</g>\n",
       "<!-- 8&#45;&gt;198 -->\n",
       "<g id=\"edge198\" class=\"edge\">\n",
       "<title>8&#45;&gt;198</title>\n",
       "<path fill=\"none\" stroke=\"black\" d=\"M1159.55,-909.27C1242.05,-906.12 1431.01,-896.46 1599.05,-868.55\"/>\n",
       "<polygon fill=\"black\" stroke=\"black\" points=\"1599.58,-872.01 1608.85,-866.89 1598.41,-865.11 1599.58,-872.01\"/>\n",
       "</g>\n",
       "<!-- 11 -->\n",
       "<g id=\"node12\" class=\"node\">\n",
       "<title>11</title>\n",
       "<text text-anchor=\"middle\" x=\"75.5\" y=\"-804.95\" font-family=\"Times,serif\" font-size=\"14.00\">&#39; (39)</text>\n",
       "</g>\n",
       "<!-- 10&#45;&gt;11 -->\n",
       "<g id=\"edge11\" class=\"edge\">\n",
       "<title>10&#45;&gt;11</title>\n",
       "<path fill=\"none\" stroke=\"black\" d=\"M155.85,-854.26C141.12,-846.54 115.49,-833.1 97.14,-823.47\"/>\n",
       "<polygon fill=\"black\" stroke=\"black\" points=\"98.88,-820.43 88.4,-818.89 95.63,-826.63 98.88,-820.43\"/>\n",
       "</g>\n",
       "<!-- 12 -->\n",
       "<g id=\"node13\" class=\"node\">\n",
       "<title>12</title>\n",
       "<text text-anchor=\"middle\" x=\"121.5\" y=\"-804.95\" font-family=\"Times,serif\" font-size=\"14.00\">&lt;id&gt;</text>\n",
       "</g>\n",
       "<!-- 10&#45;&gt;12 -->\n",
       "<g id=\"edge12\" class=\"edge\">\n",
       "<title>10&#45;&gt;12</title>\n",
       "<path fill=\"none\" stroke=\"black\" d=\"M161.86,-854.46C155.24,-847.51 144.03,-835.75 135.1,-826.39\"/>\n",
       "<polygon fill=\"black\" stroke=\"black\" points=\"137.66,-824.01 128.23,-819.19 132.6,-828.84 137.66,-824.01\"/>\n",
       "</g>\n",
       "<!-- 22 -->\n",
       "<g id=\"node23\" class=\"node\">\n",
       "<title>22</title>\n",
       "<text text-anchor=\"middle\" x=\"167.5\" y=\"-804.95\" font-family=\"Times,serif\" font-size=\"14.00\">&#39; (39)</text>\n",
       "</g>\n",
       "<!-- 10&#45;&gt;22 -->\n",
       "<g id=\"edge22\" class=\"edge\">\n",
       "<title>10&#45;&gt;22</title>\n",
       "<path fill=\"none\" stroke=\"black\" d=\"M167.5,-854.46C167.5,-848.24 167.5,-838.15 167.5,-829.39\"/>\n",
       "<polygon fill=\"black\" stroke=\"black\" points=\"171,-829.6 167.5,-819.6 164,-829.6 171,-829.6\"/>\n",
       "</g>\n",
       "<!-- 13 -->\n",
       "<g id=\"node14\" class=\"node\">\n",
       "<title>13</title>\n",
       "<text text-anchor=\"middle\" x=\"28.5\" y=\"-754.7\" font-family=\"Times,serif\" font-size=\"14.00\">&lt;id_start&gt;</text>\n",
       "</g>\n",
       "<!-- 12&#45;&gt;13 -->\n",
       "<g id=\"edge13\" class=\"edge\">\n",
       "<title>12&#45;&gt;13</title>\n",
       "<path fill=\"none\" stroke=\"black\" d=\"M109.72,-804.01C94.84,-796.29 68.93,-782.85 50.37,-773.22\"/>\n",
       "<polygon fill=\"black\" stroke=\"black\" points=\"52.01,-770.13 41.53,-768.63 48.79,-776.35 52.01,-770.13\"/>\n",
       "</g>\n",
       "<!-- 15 -->\n",
       "<g id=\"node16\" class=\"node\">\n",
       "<title>15</title>\n",
       "<text text-anchor=\"middle\" x=\"121.5\" y=\"-754.7\" font-family=\"Times,serif\" font-size=\"14.00\">&lt;id_continue&#45;1&gt;</text>\n",
       "</g>\n",
       "<!-- 12&#45;&gt;15 -->\n",
       "<g id=\"edge15\" class=\"edge\">\n",
       "<title>12&#45;&gt;15</title>\n",
       "<path fill=\"none\" stroke=\"black\" d=\"M121.5,-804.21C121.5,-797.99 121.5,-787.9 121.5,-779.14\"/>\n",
       "<polygon fill=\"black\" stroke=\"black\" points=\"125,-779.35 121.5,-769.35 118,-779.35 125,-779.35\"/>\n",
       "</g>\n",
       "<!-- 14 -->\n",
       "<g id=\"node15\" class=\"node\">\n",
       "<title>14</title>\n",
       "<text text-anchor=\"middle\" x=\"26.5\" y=\"-704.45\" font-family=\"Times,serif\" font-size=\"14.00\">s (115)</text>\n",
       "</g>\n",
       "<!-- 13&#45;&gt;14 -->\n",
       "<g id=\"edge14\" class=\"edge\">\n",
       "<title>13&#45;&gt;14</title>\n",
       "<path fill=\"none\" stroke=\"black\" d=\"M28.25,-753.96C28,-747.74 27.58,-737.65 27.22,-728.89\"/>\n",
       "<polygon fill=\"black\" stroke=\"black\" points=\"30.72,-728.95 26.81,-719.1 23.73,-729.24 30.72,-728.95\"/>\n",
       "</g>\n",
       "<!-- 16 -->\n",
       "<g id=\"node17\" class=\"node\">\n",
       "<title>16</title>\n",
       "<text text-anchor=\"middle\" x=\"103.5\" y=\"-704.45\" font-family=\"Times,serif\" font-size=\"14.00\">&lt;id_continue&gt;</text>\n",
       "</g>\n",
       "<!-- 15&#45;&gt;16 -->\n",
       "<g id=\"edge16\" class=\"edge\">\n",
       "<title>15&#45;&gt;16</title>\n",
       "<path fill=\"none\" stroke=\"black\" d=\"M119.29,-753.96C116.92,-747.59 113.03,-737.18 109.71,-728.28\"/>\n",
       "<polygon fill=\"black\" stroke=\"black\" points=\"113.03,-727.15 106.25,-719.01 106.47,-729.6 113.03,-727.15\"/>\n",
       "</g>\n",
       "<!-- 18 -->\n",
       "<g id=\"node19\" class=\"node\">\n",
       "<title>18</title>\n",
       "<text text-anchor=\"middle\" x=\"207.5\" y=\"-704.45\" font-family=\"Times,serif\" font-size=\"14.00\">&lt;id_continue&#45;1&gt;</text>\n",
       "</g>\n",
       "<!-- 15&#45;&gt;18 -->\n",
       "<g id=\"edge18\" class=\"edge\">\n",
       "<title>15&#45;&gt;18</title>\n",
       "<path fill=\"none\" stroke=\"black\" d=\"M132.39,-753.76C146.09,-746.08 169.89,-732.72 187.03,-723.11\"/>\n",
       "<polygon fill=\"black\" stroke=\"black\" points=\"188.37,-726.37 195.38,-718.43 184.94,-720.27 188.37,-726.37\"/>\n",
       "</g>\n",
       "<!-- 17 -->\n",
       "<g id=\"node18\" class=\"node\">\n",
       "<title>17</title>\n",
       "<text text-anchor=\"middle\" x=\"103.5\" y=\"-654.2\" font-family=\"Times,serif\" font-size=\"14.00\">u (117)</text>\n",
       "</g>\n",
       "<!-- 16&#45;&gt;17 -->\n",
       "<g id=\"edge17\" class=\"edge\">\n",
       "<title>16&#45;&gt;17</title>\n",
       "<path fill=\"none\" stroke=\"black\" d=\"M103.5,-703.71C103.5,-697.49 103.5,-687.4 103.5,-678.64\"/>\n",
       "<polygon fill=\"black\" stroke=\"black\" points=\"107,-678.85 103.5,-668.85 100,-678.85 107,-678.85\"/>\n",
       "</g>\n",
       "<!-- 19 -->\n",
       "<g id=\"node20\" class=\"node\">\n",
       "<title>19</title>\n",
       "<text text-anchor=\"middle\" x=\"189.5\" y=\"-654.2\" font-family=\"Times,serif\" font-size=\"14.00\">&lt;id_continue&gt;</text>\n",
       "</g>\n",
       "<!-- 18&#45;&gt;19 -->\n",
       "<g id=\"edge19\" class=\"edge\">\n",
       "<title>18&#45;&gt;19</title>\n",
       "<path fill=\"none\" stroke=\"black\" d=\"M205.29,-703.71C202.92,-697.34 199.03,-686.93 195.71,-678.03\"/>\n",
       "<polygon fill=\"black\" stroke=\"black\" points=\"199.03,-676.9 192.25,-668.76 192.47,-679.35 199.03,-676.9\"/>\n",
       "</g>\n",
       "<!-- 21 -->\n",
       "<g id=\"node22\" class=\"node\">\n",
       "<title>21</title>\n",
       "<text text-anchor=\"middle\" x=\"293.5\" y=\"-654.2\" font-family=\"Times,serif\" font-size=\"14.00\">&lt;id_continue&#45;1&gt;</text>\n",
       "</g>\n",
       "<!-- 18&#45;&gt;21 -->\n",
       "<g id=\"edge21\" class=\"edge\">\n",
       "<title>18&#45;&gt;21</title>\n",
       "<path fill=\"none\" stroke=\"black\" d=\"M218.39,-703.51C232.09,-695.83 255.89,-682.47 273.03,-672.86\"/>\n",
       "<polygon fill=\"black\" stroke=\"black\" points=\"274.37,-676.12 281.38,-668.18 270.94,-670.02 274.37,-676.12\"/>\n",
       "</g>\n",
       "<!-- 20 -->\n",
       "<g id=\"node21\" class=\"node\">\n",
       "<title>20</title>\n",
       "<text text-anchor=\"middle\" x=\"189.5\" y=\"-603.95\" font-family=\"Times,serif\" font-size=\"14.00\">m (109)</text>\n",
       "</g>\n",
       "<!-- 19&#45;&gt;20 -->\n",
       "<g id=\"edge20\" class=\"edge\">\n",
       "<title>19&#45;&gt;20</title>\n",
       "<path fill=\"none\" stroke=\"black\" d=\"M189.5,-653.46C189.5,-647.24 189.5,-637.15 189.5,-628.39\"/>\n",
       "<polygon fill=\"black\" stroke=\"black\" points=\"193,-628.6 189.5,-618.6 186,-628.6 193,-628.6\"/>\n",
       "</g>\n",
       "<!-- 25 -->\n",
       "<g id=\"node26\" class=\"node\">\n",
       "<title>25</title>\n",
       "<text text-anchor=\"middle\" x=\"230.5\" y=\"-804.95\" font-family=\"Times,serif\" font-size=\"14.00\">arguments(</text>\n",
       "</g>\n",
       "<!-- 24&#45;&gt;25 -->\n",
       "<g id=\"edge25\" class=\"edge\">\n",
       "<title>24&#45;&gt;25</title>\n",
       "<path fill=\"none\" stroke=\"black\" d=\"M718.86,-855.33C715.7,-854.94 712.54,-854.58 709.5,-854.25 518.03,-833.68 466.24,-841.19 272.28,-818.48\"/>\n",
       "<polygon fill=\"black\" stroke=\"black\" points=\"272.97,-815.03 262.63,-817.33 272.15,-821.98 272.97,-815.03\"/>\n",
       "</g>\n",
       "<!-- 26 -->\n",
       "<g id=\"node27\" class=\"node\">\n",
       "<title>26</title>\n",
       "<text text-anchor=\"middle\" x=\"340.5\" y=\"-804.95\" font-family=\"Times,serif\" font-size=\"14.00\">&lt;posonlyargs_param&gt;</text>\n",
       "</g>\n",
       "<!-- 24&#45;&gt;26 -->\n",
       "<g id=\"edge26\" class=\"edge\">\n",
       "<title>24&#45;&gt;26</title>\n",
       "<path fill=\"none\" stroke=\"black\" d=\"M718.85,-855.43C715.69,-855.02 712.54,-854.63 709.5,-854.25 604.2,-841.23 481.81,-827.54 407.81,-819.43\"/>\n",
       "<polygon fill=\"black\" stroke=\"black\" points=\"408.63,-816 398.31,-818.39 407.87,-822.95 408.63,-816\"/>\n",
       "</g>\n",
       "<!-- 33 -->\n",
       "<g id=\"node34\" class=\"node\">\n",
       "<title>33</title>\n",
       "<text text-anchor=\"middle\" x=\"435.5\" y=\"-804.95\" font-family=\"Times,serif\" font-size=\"14.00\">args=</text>\n",
       "</g>\n",
       "<!-- 24&#45;&gt;33 -->\n",
       "<g id=\"edge33\" class=\"edge\">\n",
       "<title>24&#45;&gt;33</title>\n",
       "<path fill=\"none\" stroke=\"black\" d=\"M719.02,-855.41C651.7,-846.22 510.94,-826.84 461.77,-818.32\"/>\n",
       "<polygon fill=\"black\" stroke=\"black\" points=\"462.64,-814.92 452.17,-816.54 461.36,-821.8 462.64,-814.92\"/>\n",
       "</g>\n",
       "<!-- 34 -->\n",
       "<g id=\"node35\" class=\"node\">\n",
       "<title>34</title>\n",
       "<text text-anchor=\"middle\" x=\"497.5\" y=\"-804.95\" font-family=\"Times,serif\" font-size=\"14.00\">&lt;arg_list&gt;</text>\n",
       "</g>\n",
       "<!-- 24&#45;&gt;34 -->\n",
       "<g id=\"edge34\" class=\"edge\">\n",
       "<title>24&#45;&gt;34</title>\n",
       "<path fill=\"none\" stroke=\"black\" d=\"M722.82,-854.26C675.53,-845.42 588.09,-829.07 537.16,-819.54\"/>\n",
       "<polygon fill=\"black\" stroke=\"black\" points=\"537.92,-816.12 527.44,-817.73 536.63,-823 537.92,-816.12\"/>\n",
       "</g>\n",
       "<!-- 60 -->\n",
       "<g id=\"node61\" class=\"node\">\n",
       "<title>60</title>\n",
       "<text text-anchor=\"middle\" x=\"575.5\" y=\"-804.95\" font-family=\"Times,serif\" font-size=\"14.00\">&lt;vararg&#45;1&gt;</text>\n",
       "</g>\n",
       "<!-- 24&#45;&gt;60 -->\n",
       "<g id=\"edge60\" class=\"edge\">\n",
       "<title>24&#45;&gt;60</title>\n",
       "<path fill=\"none\" stroke=\"black\" d=\"M732.7,-854.26C701.46,-845.89 645.12,-830.79 609.05,-821.12\"/>\n",
       "<polygon fill=\"black\" stroke=\"black\" points=\"610.14,-817.79 599.57,-818.58 608.33,-824.55 610.14,-817.79\"/>\n",
       "</g>\n",
       "<!-- 61 -->\n",
       "<g id=\"node62\" class=\"node\">\n",
       "<title>61</title>\n",
       "<text text-anchor=\"middle\" x=\"685.5\" y=\"-804.95\" font-family=\"Times,serif\" font-size=\"14.00\">&lt;kwonlyargs_param&gt;</text>\n",
       "</g>\n",
       "<!-- 24&#45;&gt;61 -->\n",
       "<g id=\"edge61\" class=\"edge\">\n",
       "<title>24&#45;&gt;61</title>\n",
       "<path fill=\"none\" stroke=\"black\" d=\"M746.63,-854.26C735.85,-846.83 717.36,-834.09 703.53,-824.56\"/>\n",
       "<polygon fill=\"black\" stroke=\"black\" points=\"705.54,-821.69 695.32,-818.89 701.57,-827.45 705.54,-821.69\"/>\n",
       "</g>\n",
       "<!-- 67 -->\n",
       "<g id=\"node68\" class=\"node\">\n",
       "<title>67</title>\n",
       "<text text-anchor=\"middle\" x=\"825.5\" y=\"-804.95\" font-family=\"Times,serif\" font-size=\"14.00\">&lt;kw_defaults_param&gt;</text>\n",
       "</g>\n",
       "<!-- 24&#45;&gt;67 -->\n",
       "<g id=\"edge67\" class=\"edge\">\n",
       "<title>24&#45;&gt;67</title>\n",
       "<path fill=\"none\" stroke=\"black\" d=\"M764.37,-854.26C775.15,-846.83 793.64,-834.09 807.47,-824.56\"/>\n",
       "<polygon fill=\"black\" stroke=\"black\" points=\"809.43,-827.45 815.68,-818.89 805.46,-821.69 809.43,-827.45\"/>\n",
       "</g>\n",
       "<!-- 73 -->\n",
       "<g id=\"node74\" class=\"node\">\n",
       "<title>73</title>\n",
       "<text text-anchor=\"middle\" x=\"936.5\" y=\"-804.95\" font-family=\"Times,serif\" font-size=\"14.00\">&lt;kwarg&#45;1&gt;</text>\n",
       "</g>\n",
       "<!-- 24&#45;&gt;73 -->\n",
       "<g id=\"edge73\" class=\"edge\">\n",
       "<title>24&#45;&gt;73</title>\n",
       "<path fill=\"none\" stroke=\"black\" d=\"M778.42,-854.26C809.84,-845.89 866.5,-830.79 902.76,-821.12\"/>\n",
       "<polygon fill=\"black\" stroke=\"black\" points=\"903.54,-824.53 912.3,-818.58 901.74,-817.77 903.54,-824.53\"/>\n",
       "</g>\n",
       "<!-- 74 -->\n",
       "<g id=\"node75\" class=\"node\">\n",
       "<title>74</title>\n",
       "<text text-anchor=\"middle\" x=\"1035.5\" y=\"-804.95\" font-family=\"Times,serif\" font-size=\"14.00\">&lt;defaults_param&gt;</text>\n",
       "</g>\n",
       "<!-- 24&#45;&gt;74 -->\n",
       "<g id=\"edge74\" class=\"edge\">\n",
       "<title>24&#45;&gt;74</title>\n",
       "<path fill=\"none\" stroke=\"black\" d=\"M790.96,-854.26C841.24,-845.6 933.33,-829.73 989.02,-820.13\"/>\n",
       "<polygon fill=\"black\" stroke=\"black\" points=\"989.57,-823.59 998.83,-818.44 988.39,-816.69 989.57,-823.59\"/>\n",
       "</g>\n",
       "<!-- 80 -->\n",
       "<g id=\"node81\" class=\"node\">\n",
       "<title>80</title>\n",
       "<text text-anchor=\"middle\" x=\"1119.5\" y=\"-804.95\" font-family=\"Times,serif\" font-size=\"14.00\">) (41)</text>\n",
       "</g>\n",
       "<!-- 24&#45;&gt;80 -->\n",
       "<g id=\"edge80\" class=\"edge\">\n",
       "<title>24&#45;&gt;80</title>\n",
       "<path fill=\"none\" stroke=\"black\" d=\"M791.84,-857.26C852.17,-851.79 977.01,-839.19 1093.03,-818.22\"/>\n",
       "<polygon fill=\"black\" stroke=\"black\" points=\"1093.53,-821.69 1102.74,-816.44 1092.27,-814.8 1093.53,-821.69\"/>\n",
       "</g>\n",
       "<!-- 27 -->\n",
       "<g id=\"node28\" class=\"node\">\n",
       "<title>27</title>\n",
       "<text text-anchor=\"middle\" x=\"258.5\" y=\"-754.7\" font-family=\"Times,serif\" font-size=\"14.00\">posonlyargs=</text>\n",
       "</g>\n",
       "<!-- 26&#45;&gt;27 -->\n",
       "<g id=\"edge27\" class=\"edge\">\n",
       "<title>26&#45;&gt;27</title>\n",
       "<path fill=\"none\" stroke=\"black\" d=\"M330.11,-804.01C317.18,-796.4 294.79,-783.23 278.48,-773.63\"/>\n",
       "<polygon fill=\"black\" stroke=\"black\" points=\"280.5,-770.76 270.11,-768.7 276.95,-776.79 280.5,-770.76\"/>\n",
       "</g>\n",
       "<!-- 28 -->\n",
       "<g id=\"node29\" class=\"node\">\n",
       "<title>28</title>\n",
       "<text text-anchor=\"middle\" x=\"341.5\" y=\"-754.7\" font-family=\"Times,serif\" font-size=\"14.00\">&lt;arg_list&gt;</text>\n",
       "</g>\n",
       "<!-- 26&#45;&gt;28 -->\n",
       "<g id=\"edge28\" class=\"edge\">\n",
       "<title>26&#45;&gt;28</title>\n",
       "<path fill=\"none\" stroke=\"black\" d=\"M340.62,-804.21C340.75,-797.99 340.96,-787.9 341.14,-779.14\"/>\n",
       "<polygon fill=\"black\" stroke=\"black\" points=\"344.64,-779.42 341.35,-769.35 337.64,-779.28 344.64,-779.42\"/>\n",
       "</g>\n",
       "<!-- 32 -->\n",
       "<g id=\"node33\" class=\"node\">\n",
       "<title>32</title>\n",
       "<text text-anchor=\"middle\" x=\"391.5\" y=\"-754.7\" font-family=\"Times,serif\" font-size=\"14.00\">, </text>\n",
       "</g>\n",
       "<!-- 26&#45;&gt;32 -->\n",
       "<g id=\"edge32\" class=\"edge\">\n",
       "<title>26&#45;&gt;32</title>\n",
       "<path fill=\"none\" stroke=\"black\" d=\"M346.75,-804.21C354.9,-796.5 369.3,-782.88 379.57,-773.16\"/>\n",
       "<polygon fill=\"black\" stroke=\"black\" points=\"381.84,-775.83 386.7,-766.41 377.03,-770.74 381.84,-775.83\"/>\n",
       "</g>\n",
       "<!-- 29 -->\n",
       "<g id=\"node30\" class=\"node\">\n",
       "<title>29</title>\n",
       "<text text-anchor=\"middle\" x=\"286.5\" y=\"-704.45\" font-family=\"Times,serif\" font-size=\"14.00\">[ (91)</text>\n",
       "</g>\n",
       "<!-- 28&#45;&gt;29 -->\n",
       "<g id=\"edge29\" class=\"edge\">\n",
       "<title>28&#45;&gt;29</title>\n",
       "<path fill=\"none\" stroke=\"black\" d=\"M334.76,-753.96C326.59,-746.8 312.59,-734.51 301.77,-725.02\"/>\n",
       "<polygon fill=\"black\" stroke=\"black\" points=\"304.26,-722.55 294.44,-718.59 299.65,-727.81 304.26,-722.55\"/>\n",
       "</g>\n",
       "<!-- 30 -->\n",
       "<g id=\"node31\" class=\"node\">\n",
       "<title>30</title>\n",
       "<text text-anchor=\"middle\" x=\"345.5\" y=\"-704.45\" font-family=\"Times,serif\" font-size=\"14.00\">&lt;args&#45;1&gt;</text>\n",
       "</g>\n",
       "<!-- 28&#45;&gt;30 -->\n",
       "<g id=\"edge30\" class=\"edge\">\n",
       "<title>28&#45;&gt;30</title>\n",
       "<path fill=\"none\" stroke=\"black\" d=\"M341.99,-753.96C342.51,-747.74 343.34,-737.65 344.07,-728.89\"/>\n",
       "<polygon fill=\"black\" stroke=\"black\" points=\"347.54,-729.35 344.88,-719.1 340.57,-728.77 347.54,-729.35\"/>\n",
       "</g>\n",
       "<!-- 31 -->\n",
       "<g id=\"node32\" class=\"node\">\n",
       "<title>31</title>\n",
       "<text text-anchor=\"middle\" x=\"404.5\" y=\"-704.45\" font-family=\"Times,serif\" font-size=\"14.00\">] (93)</text>\n",
       "</g>\n",
       "<!-- 28&#45;&gt;31 -->\n",
       "<g id=\"edge31\" class=\"edge\">\n",
       "<title>28&#45;&gt;31</title>\n",
       "<path fill=\"none\" stroke=\"black\" d=\"M349.48,-753.76C359.09,-746.4 375.5,-733.84 387.9,-724.34\"/>\n",
       "<polygon fill=\"black\" stroke=\"black\" points=\"389.77,-727.31 395.58,-718.46 385.51,-721.76 389.77,-727.31\"/>\n",
       "</g>\n",
       "<!-- 35 -->\n",
       "<g id=\"node36\" class=\"node\">\n",
       "<title>35</title>\n",
       "<text text-anchor=\"middle\" x=\"435.5\" y=\"-754.7\" font-family=\"Times,serif\" font-size=\"14.00\">[ (91)</text>\n",
       "</g>\n",
       "<!-- 34&#45;&gt;35 -->\n",
       "<g id=\"edge35\" class=\"edge\">\n",
       "<title>34&#45;&gt;35</title>\n",
       "<path fill=\"none\" stroke=\"black\" d=\"M489.65,-804.01C480.19,-796.65 464.04,-784.09 451.83,-774.59\"/>\n",
       "<polygon fill=\"black\" stroke=\"black\" points=\"454.33,-772.09 444.29,-768.71 450.03,-777.62 454.33,-772.09\"/>\n",
       "</g>\n",
       "<!-- 36 -->\n",
       "<g id=\"node37\" class=\"node\">\n",
       "<title>36</title>\n",
       "<text text-anchor=\"middle\" x=\"494.5\" y=\"-754.7\" font-family=\"Times,serif\" font-size=\"14.00\">&lt;args&#45;1&gt;</text>\n",
       "</g>\n",
       "<!-- 34&#45;&gt;36 -->\n",
       "<g id=\"edge36\" class=\"edge\">\n",
       "<title>34&#45;&gt;36</title>\n",
       "<path fill=\"none\" stroke=\"black\" d=\"M497.13,-804.21C496.75,-797.99 496.12,-787.9 495.57,-779.14\"/>\n",
       "<polygon fill=\"black\" stroke=\"black\" points=\"499.08,-779.11 494.96,-769.35 492.09,-779.55 499.08,-779.11\"/>\n",
       "</g>\n",
       "<!-- 59 -->\n",
       "<g id=\"node60\" class=\"node\">\n",
       "<title>59</title>\n",
       "<text text-anchor=\"middle\" x=\"553.5\" y=\"-754.7\" font-family=\"Times,serif\" font-size=\"14.00\">] (93)</text>\n",
       "</g>\n",
       "<!-- 34&#45;&gt;59 -->\n",
       "<g id=\"edge59\" class=\"edge\">\n",
       "<title>34&#45;&gt;59</title>\n",
       "<path fill=\"none\" stroke=\"black\" d=\"M504.37,-804.21C512.68,-797.05 526.93,-784.76 537.95,-775.27\"/>\n",
       "<polygon fill=\"black\" stroke=\"black\" points=\"540.14,-778.01 545.43,-768.83 535.57,-772.7 540.14,-778.01\"/>\n",
       "</g>\n",
       "<!-- 37 -->\n",
       "<g id=\"node38\" class=\"node\">\n",
       "<title>37</title>\n",
       "<text text-anchor=\"middle\" x=\"494.5\" y=\"-704.45\" font-family=\"Times,serif\" font-size=\"14.00\">&lt;args&gt;</text>\n",
       "</g>\n",
       "<!-- 36&#45;&gt;37 -->\n",
       "<g id=\"edge37\" class=\"edge\">\n",
       "<title>36&#45;&gt;37</title>\n",
       "<path fill=\"none\" stroke=\"black\" d=\"M494.5,-753.96C494.5,-747.74 494.5,-737.65 494.5,-728.89\"/>\n",
       "<polygon fill=\"black\" stroke=\"black\" points=\"498,-729.1 494.5,-719.1 491,-729.1 498,-729.1\"/>\n",
       "</g>\n",
       "<!-- 38 -->\n",
       "<g id=\"node39\" class=\"node\">\n",
       "<title>38</title>\n",
       "<text text-anchor=\"middle\" x=\"408.5\" y=\"-654.2\" font-family=\"Times,serif\" font-size=\"14.00\">&lt;arg&gt;</text>\n",
       "</g>\n",
       "<!-- 37&#45;&gt;38 -->\n",
       "<g id=\"edge38\" class=\"edge\">\n",
       "<title>37&#45;&gt;38</title>\n",
       "<path fill=\"none\" stroke=\"black\" d=\"M483.61,-703.51C469.91,-695.83 446.11,-682.47 428.97,-672.86\"/>\n",
       "<polygon fill=\"black\" stroke=\"black\" points=\"431.06,-670.02 420.62,-668.18 427.63,-676.12 431.06,-670.02\"/>\n",
       "</g>\n",
       "<!-- 48 -->\n",
       "<g id=\"node49\" class=\"node\">\n",
       "<title>48</title>\n",
       "<text text-anchor=\"middle\" x=\"494.5\" y=\"-654.2\" font-family=\"Times,serif\" font-size=\"14.00\">, </text>\n",
       "</g>\n",
       "<!-- 37&#45;&gt;48 -->\n",
       "<g id=\"edge48\" class=\"edge\">\n",
       "<title>37&#45;&gt;48</title>\n",
       "<path fill=\"none\" stroke=\"black\" d=\"M494.5,-703.71C494.5,-697.49 494.5,-687.4 494.5,-678.64\"/>\n",
       "<polygon fill=\"black\" stroke=\"black\" points=\"498,-678.85 494.5,-668.85 491,-678.85 498,-678.85\"/>\n",
       "</g>\n",
       "<!-- 49 -->\n",
       "<g id=\"node50\" class=\"node\">\n",
       "<title>49</title>\n",
       "<text text-anchor=\"middle\" x=\"559.5\" y=\"-654.2\" font-family=\"Times,serif\" font-size=\"14.00\">&lt;arg&gt;</text>\n",
       "</g>\n",
       "<!-- 37&#45;&gt;49 -->\n",
       "<g id=\"edge49\" class=\"edge\">\n",
       "<title>37&#45;&gt;49</title>\n",
       "<path fill=\"none\" stroke=\"black\" d=\"M502.73,-703.51C512.65,-696.15 529.58,-683.59 542.37,-674.09\"/>\n",
       "<polygon fill=\"black\" stroke=\"black\" points=\"544.38,-676.96 550.32,-668.19 540.21,-671.34 544.38,-676.96\"/>\n",
       "</g>\n",
       "<!-- 39 -->\n",
       "<g id=\"node40\" class=\"node\">\n",
       "<title>39</title>\n",
       "<text text-anchor=\"middle\" x=\"301.5\" y=\"-603.95\" font-family=\"Times,serif\" font-size=\"14.00\">arg(arg=</text>\n",
       "</g>\n",
       "<!-- 38&#45;&gt;39 -->\n",
       "<g id=\"edge39\" class=\"edge\">\n",
       "<title>38&#45;&gt;39</title>\n",
       "<path fill=\"none\" stroke=\"black\" d=\"M394.95,-653.26C377.42,-645.36 346.61,-631.46 325.17,-621.8\"/>\n",
       "<polygon fill=\"black\" stroke=\"black\" points=\"326.88,-618.73 316.32,-617.81 324,-625.11 326.88,-618.73\"/>\n",
       "</g>\n",
       "<!-- 40 -->\n",
       "<g id=\"node41\" class=\"node\">\n",
       "<title>40</title>\n",
       "<text text-anchor=\"middle\" x=\"375.5\" y=\"-603.95\" font-family=\"Times,serif\" font-size=\"14.00\">&lt;identifier&gt;</text>\n",
       "</g>\n",
       "<!-- 38&#45;&gt;40 -->\n",
       "<g id=\"edge40\" class=\"edge\">\n",
       "<title>38&#45;&gt;40</title>\n",
       "<path fill=\"none\" stroke=\"black\" d=\"M404.45,-653.46C399.9,-646.8 392.33,-635.73 386.06,-626.57\"/>\n",
       "<polygon fill=\"black\" stroke=\"black\" points=\"388.97,-624.62 380.43,-618.34 383.19,-628.57 388.97,-624.62\"/>\n",
       "</g>\n",
       "<!-- 47 -->\n",
       "<g id=\"node48\" class=\"node\">\n",
       "<title>47</title>\n",
       "<text text-anchor=\"middle\" x=\"441.5\" y=\"-603.95\" font-family=\"Times,serif\" font-size=\"14.00\">) (41)</text>\n",
       "</g>\n",
       "<!-- 38&#45;&gt;47 -->\n",
       "<g id=\"edge47\" class=\"edge\">\n",
       "<title>38&#45;&gt;47</title>\n",
       "<path fill=\"none\" stroke=\"black\" d=\"M412.55,-653.46C417.1,-646.8 424.67,-635.73 430.94,-626.57\"/>\n",
       "<polygon fill=\"black\" stroke=\"black\" points=\"433.81,-628.57 436.57,-618.34 428.03,-624.62 433.81,-628.57\"/>\n",
       "</g>\n",
       "<!-- 41 -->\n",
       "<g id=\"node42\" class=\"node\">\n",
       "<title>41</title>\n",
       "<text text-anchor=\"middle\" x=\"329.5\" y=\"-553.7\" font-family=\"Times,serif\" font-size=\"14.00\">&#39; (39)</text>\n",
       "</g>\n",
       "<!-- 40&#45;&gt;41 -->\n",
       "<g id=\"edge41\" class=\"edge\">\n",
       "<title>40&#45;&gt;41</title>\n",
       "<path fill=\"none\" stroke=\"black\" d=\"M369.86,-603.21C363.24,-596.26 352.03,-584.5 343.1,-575.14\"/>\n",
       "<polygon fill=\"black\" stroke=\"black\" points=\"345.66,-572.76 336.23,-567.94 340.6,-577.59 345.66,-572.76\"/>\n",
       "</g>\n",
       "<!-- 42 -->\n",
       "<g id=\"node43\" class=\"node\">\n",
       "<title>42</title>\n",
       "<text text-anchor=\"middle\" x=\"375.5\" y=\"-553.7\" font-family=\"Times,serif\" font-size=\"14.00\">&lt;id&gt;</text>\n",
       "</g>\n",
       "<!-- 40&#45;&gt;42 -->\n",
       "<g id=\"edge42\" class=\"edge\">\n",
       "<title>40&#45;&gt;42</title>\n",
       "<path fill=\"none\" stroke=\"black\" d=\"M375.5,-603.21C375.5,-596.99 375.5,-586.9 375.5,-578.14\"/>\n",
       "<polygon fill=\"black\" stroke=\"black\" points=\"379,-578.35 375.5,-568.35 372,-578.35 379,-578.35\"/>\n",
       "</g>\n",
       "<!-- 46 -->\n",
       "<g id=\"node47\" class=\"node\">\n",
       "<title>46</title>\n",
       "<text text-anchor=\"middle\" x=\"421.5\" y=\"-553.7\" font-family=\"Times,serif\" font-size=\"14.00\">&#39; (39)</text>\n",
       "</g>\n",
       "<!-- 40&#45;&gt;46 -->\n",
       "<g id=\"edge46\" class=\"edge\">\n",
       "<title>40&#45;&gt;46</title>\n",
       "<path fill=\"none\" stroke=\"black\" d=\"M381.14,-603.21C387.76,-596.26 398.97,-584.5 407.9,-575.14\"/>\n",
       "<polygon fill=\"black\" stroke=\"black\" points=\"410.4,-577.59 414.77,-567.94 405.34,-572.76 410.4,-577.59\"/>\n",
       "</g>\n",
       "<!-- 43 -->\n",
       "<g id=\"node44\" class=\"node\">\n",
       "<title>43</title>\n",
       "<text text-anchor=\"middle\" x=\"329.5\" y=\"-503.45\" font-family=\"Times,serif\" font-size=\"14.00\">&lt;id_start&gt;</text>\n",
       "</g>\n",
       "<!-- 42&#45;&gt;43 -->\n",
       "<g id=\"edge43\" class=\"edge\">\n",
       "<title>42&#45;&gt;43</title>\n",
       "<path fill=\"none\" stroke=\"black\" d=\"M369.86,-552.96C363.24,-546.01 352.03,-534.25 343.1,-524.89\"/>\n",
       "<polygon fill=\"black\" stroke=\"black\" points=\"345.66,-522.51 336.23,-517.69 340.6,-527.34 345.66,-522.51\"/>\n",
       "</g>\n",
       "<!-- 45 -->\n",
       "<g id=\"node46\" class=\"node\">\n",
       "<title>45</title>\n",
       "<text text-anchor=\"middle\" x=\"421.5\" y=\"-503.45\" font-family=\"Times,serif\" font-size=\"14.00\">&lt;id_continue&#45;1&gt;</text>\n",
       "</g>\n",
       "<!-- 42&#45;&gt;45 -->\n",
       "<g id=\"edge45\" class=\"edge\">\n",
       "<title>42&#45;&gt;45</title>\n",
       "<path fill=\"none\" stroke=\"black\" d=\"M381.14,-552.96C387.76,-546.01 398.97,-534.25 407.9,-524.89\"/>\n",
       "<polygon fill=\"black\" stroke=\"black\" points=\"410.4,-527.34 414.77,-517.69 405.34,-522.51 410.4,-527.34\"/>\n",
       "</g>\n",
       "<!-- 44 -->\n",
       "<g id=\"node45\" class=\"node\">\n",
       "<title>44</title>\n",
       "<text text-anchor=\"middle\" x=\"329.5\" y=\"-453.2\" font-family=\"Times,serif\" font-size=\"14.00\">a (97)</text>\n",
       "</g>\n",
       "<!-- 43&#45;&gt;44 -->\n",
       "<g id=\"edge44\" class=\"edge\">\n",
       "<title>43&#45;&gt;44</title>\n",
       "<path fill=\"none\" stroke=\"black\" d=\"M329.5,-502.71C329.5,-496.49 329.5,-486.4 329.5,-477.64\"/>\n",
       "<polygon fill=\"black\" stroke=\"black\" points=\"333,-477.85 329.5,-467.85 326,-477.85 333,-477.85\"/>\n",
       "</g>\n",
       "<!-- 50 -->\n",
       "<g id=\"node51\" class=\"node\">\n",
       "<title>50</title>\n",
       "<text text-anchor=\"middle\" x=\"498.5\" y=\"-603.95\" font-family=\"Times,serif\" font-size=\"14.00\">arg(arg=</text>\n",
       "</g>\n",
       "<!-- 49&#45;&gt;50 -->\n",
       "<g id=\"edge50\" class=\"edge\">\n",
       "<title>49&#45;&gt;50</title>\n",
       "<path fill=\"none\" stroke=\"black\" d=\"M551.77,-653.26C542.56,-645.97 526.89,-633.58 514.93,-624.12\"/>\n",
       "<polygon fill=\"black\" stroke=\"black\" points=\"517.17,-621.43 507.16,-617.97 512.83,-626.92 517.17,-621.43\"/>\n",
       "</g>\n",
       "<!-- 51 -->\n",
       "<g id=\"node52\" class=\"node\">\n",
       "<title>51</title>\n",
       "<text text-anchor=\"middle\" x=\"572.5\" y=\"-603.95\" font-family=\"Times,serif\" font-size=\"14.00\">&lt;identifier&gt;</text>\n",
       "</g>\n",
       "<!-- 49&#45;&gt;51 -->\n",
       "<g id=\"edge51\" class=\"edge\">\n",
       "<title>49&#45;&gt;51</title>\n",
       "<path fill=\"none\" stroke=\"black\" d=\"M561.09,-653.46C562.79,-647.16 565.55,-636.92 567.93,-628.08\"/>\n",
       "<polygon fill=\"black\" stroke=\"black\" points=\"571.28,-629.12 570.5,-618.55 564.52,-627.3 571.28,-629.12\"/>\n",
       "</g>\n",
       "<!-- 58 -->\n",
       "<g id=\"node59\" class=\"node\">\n",
       "<title>58</title>\n",
       "<text text-anchor=\"middle\" x=\"638.5\" y=\"-603.95\" font-family=\"Times,serif\" font-size=\"14.00\">) (41)</text>\n",
       "</g>\n",
       "<!-- 49&#45;&gt;58 -->\n",
       "<g id=\"edge58\" class=\"edge\">\n",
       "<title>49&#45;&gt;58</title>\n",
       "<path fill=\"none\" stroke=\"black\" d=\"M569.51,-653.26C581.85,-645.72 603.13,-632.73 618.8,-623.16\"/>\n",
       "<polygon fill=\"black\" stroke=\"black\" points=\"620.57,-626.17 627.28,-617.98 616.93,-620.2 620.57,-626.17\"/>\n",
       "</g>\n",
       "<!-- 52 -->\n",
       "<g id=\"node53\" class=\"node\">\n",
       "<title>52</title>\n",
       "<text text-anchor=\"middle\" x=\"526.5\" y=\"-553.7\" font-family=\"Times,serif\" font-size=\"14.00\">&#39; (39)</text>\n",
       "</g>\n",
       "<!-- 51&#45;&gt;52 -->\n",
       "<g id=\"edge52\" class=\"edge\">\n",
       "<title>51&#45;&gt;52</title>\n",
       "<path fill=\"none\" stroke=\"black\" d=\"M566.86,-603.21C560.24,-596.26 549.03,-584.5 540.1,-575.14\"/>\n",
       "<polygon fill=\"black\" stroke=\"black\" points=\"542.66,-572.76 533.23,-567.94 537.6,-577.59 542.66,-572.76\"/>\n",
       "</g>\n",
       "<!-- 53 -->\n",
       "<g id=\"node54\" class=\"node\">\n",
       "<title>53</title>\n",
       "<text text-anchor=\"middle\" x=\"572.5\" y=\"-553.7\" font-family=\"Times,serif\" font-size=\"14.00\">&lt;id&gt;</text>\n",
       "</g>\n",
       "<!-- 51&#45;&gt;53 -->\n",
       "<g id=\"edge53\" class=\"edge\">\n",
       "<title>51&#45;&gt;53</title>\n",
       "<path fill=\"none\" stroke=\"black\" d=\"M572.5,-603.21C572.5,-596.99 572.5,-586.9 572.5,-578.14\"/>\n",
       "<polygon fill=\"black\" stroke=\"black\" points=\"576,-578.35 572.5,-568.35 569,-578.35 576,-578.35\"/>\n",
       "</g>\n",
       "<!-- 57 -->\n",
       "<g id=\"node58\" class=\"node\">\n",
       "<title>57</title>\n",
       "<text text-anchor=\"middle\" x=\"618.5\" y=\"-553.7\" font-family=\"Times,serif\" font-size=\"14.00\">&#39; (39)</text>\n",
       "</g>\n",
       "<!-- 51&#45;&gt;57 -->\n",
       "<g id=\"edge57\" class=\"edge\">\n",
       "<title>51&#45;&gt;57</title>\n",
       "<path fill=\"none\" stroke=\"black\" d=\"M578.14,-603.21C584.76,-596.26 595.97,-584.5 604.9,-575.14\"/>\n",
       "<polygon fill=\"black\" stroke=\"black\" points=\"607.4,-577.59 611.77,-567.94 602.34,-572.76 607.4,-577.59\"/>\n",
       "</g>\n",
       "<!-- 54 -->\n",
       "<g id=\"node55\" class=\"node\">\n",
       "<title>54</title>\n",
       "<text text-anchor=\"middle\" x=\"543.5\" y=\"-503.45\" font-family=\"Times,serif\" font-size=\"14.00\">&lt;id_start&gt;</text>\n",
       "</g>\n",
       "<!-- 53&#45;&gt;54 -->\n",
       "<g id=\"edge54\" class=\"edge\">\n",
       "<title>53&#45;&gt;54</title>\n",
       "<path fill=\"none\" stroke=\"black\" d=\"M568.94,-552.96C564.99,-546.37 558.43,-535.47 552.96,-526.37\"/>\n",
       "<polygon fill=\"black\" stroke=\"black\" points=\"556.02,-524.66 547.86,-517.89 550.02,-528.26 556.02,-524.66\"/>\n",
       "</g>\n",
       "<!-- 56 -->\n",
       "<g id=\"node57\" class=\"node\">\n",
       "<title>56</title>\n",
       "<text text-anchor=\"middle\" x=\"635.5\" y=\"-503.45\" font-family=\"Times,serif\" font-size=\"14.00\">&lt;id_continue&#45;1&gt;</text>\n",
       "</g>\n",
       "<!-- 53&#45;&gt;56 -->\n",
       "<g id=\"edge56\" class=\"edge\">\n",
       "<title>53&#45;&gt;56</title>\n",
       "<path fill=\"none\" stroke=\"black\" d=\"M580.48,-552.76C590.09,-545.4 606.5,-532.84 618.9,-523.34\"/>\n",
       "<polygon fill=\"black\" stroke=\"black\" points=\"620.77,-526.31 626.58,-517.46 616.51,-520.76 620.77,-526.31\"/>\n",
       "</g>\n",
       "<!-- 55 -->\n",
       "<g id=\"node56\" class=\"node\">\n",
       "<title>55</title>\n",
       "<text text-anchor=\"middle\" x=\"543.5\" y=\"-453.2\" font-family=\"Times,serif\" font-size=\"14.00\">b (98)</text>\n",
       "</g>\n",
       "<!-- 54&#45;&gt;55 -->\n",
       "<g id=\"edge55\" class=\"edge\">\n",
       "<title>54&#45;&gt;55</title>\n",
       "<path fill=\"none\" stroke=\"black\" d=\"M543.5,-502.71C543.5,-496.49 543.5,-486.4 543.5,-477.64\"/>\n",
       "<polygon fill=\"black\" stroke=\"black\" points=\"547,-477.85 543.5,-467.85 540,-477.85 547,-477.85\"/>\n",
       "</g>\n",
       "<!-- 62 -->\n",
       "<g id=\"node63\" class=\"node\">\n",
       "<title>62</title>\n",
       "<text text-anchor=\"middle\" x=\"626.5\" y=\"-754.7\" font-family=\"Times,serif\" font-size=\"14.00\">, kwonlyargs=</text>\n",
       "</g>\n",
       "<!-- 61&#45;&gt;62 -->\n",
       "<g id=\"edge62\" class=\"edge\">\n",
       "<title>61&#45;&gt;62</title>\n",
       "<path fill=\"none\" stroke=\"black\" d=\"M678.27,-804.21C669.42,-796.97 654.19,-784.52 642.53,-774.98\"/>\n",
       "<polygon fill=\"black\" stroke=\"black\" points=\"644.92,-772.42 634.97,-768.8 640.49,-777.84 644.92,-772.42\"/>\n",
       "</g>\n",
       "<!-- 63 -->\n",
       "<g id=\"node64\" class=\"node\">\n",
       "<title>63</title>\n",
       "<text text-anchor=\"middle\" x=\"712.5\" y=\"-754.7\" font-family=\"Times,serif\" font-size=\"14.00\">&lt;arg_list&gt;</text>\n",
       "</g>\n",
       "<!-- 61&#45;&gt;63 -->\n",
       "<g id=\"edge63\" class=\"edge\">\n",
       "<title>61&#45;&gt;63</title>\n",
       "<path fill=\"none\" stroke=\"black\" d=\"M688.81,-804.21C692.49,-797.62 698.6,-786.72 703.69,-777.62\"/>\n",
       "<polygon fill=\"black\" stroke=\"black\" points=\"706.59,-779.6 708.42,-769.16 700.49,-776.18 706.59,-779.6\"/>\n",
       "</g>\n",
       "<!-- 64 -->\n",
       "<g id=\"node65\" class=\"node\">\n",
       "<title>64</title>\n",
       "<text text-anchor=\"middle\" x=\"653.5\" y=\"-704.45\" font-family=\"Times,serif\" font-size=\"14.00\">[ (91)</text>\n",
       "</g>\n",
       "<!-- 63&#45;&gt;64 -->\n",
       "<g id=\"edge64\" class=\"edge\">\n",
       "<title>63&#45;&gt;64</title>\n",
       "<path fill=\"none\" stroke=\"black\" d=\"M705.27,-753.96C696.42,-746.72 681.19,-734.27 669.53,-724.73\"/>\n",
       "<polygon fill=\"black\" stroke=\"black\" points=\"671.92,-722.17 661.97,-718.55 667.49,-727.59 671.92,-722.17\"/>\n",
       "</g>\n",
       "<!-- 65 -->\n",
       "<g id=\"node66\" class=\"node\">\n",
       "<title>65</title>\n",
       "<text text-anchor=\"middle\" x=\"712.5\" y=\"-704.45\" font-family=\"Times,serif\" font-size=\"14.00\">&lt;args&#45;1&gt;</text>\n",
       "</g>\n",
       "<!-- 63&#45;&gt;65 -->\n",
       "<g id=\"edge65\" class=\"edge\">\n",
       "<title>63&#45;&gt;65</title>\n",
       "<path fill=\"none\" stroke=\"black\" d=\"M712.5,-753.96C712.5,-747.74 712.5,-737.65 712.5,-728.89\"/>\n",
       "<polygon fill=\"black\" stroke=\"black\" points=\"716,-729.1 712.5,-719.1 709,-729.1 716,-729.1\"/>\n",
       "</g>\n",
       "<!-- 66 -->\n",
       "<g id=\"node67\" class=\"node\">\n",
       "<title>66</title>\n",
       "<text text-anchor=\"middle\" x=\"771.5\" y=\"-704.45\" font-family=\"Times,serif\" font-size=\"14.00\">] (93)</text>\n",
       "</g>\n",
       "<!-- 63&#45;&gt;66 -->\n",
       "<g id=\"edge66\" class=\"edge\">\n",
       "<title>63&#45;&gt;66</title>\n",
       "<path fill=\"none\" stroke=\"black\" d=\"M719.73,-753.96C728.58,-746.72 743.81,-734.27 755.47,-724.73\"/>\n",
       "<polygon fill=\"black\" stroke=\"black\" points=\"757.51,-727.59 763.03,-718.55 753.08,-722.17 757.51,-727.59\"/>\n",
       "</g>\n",
       "<!-- 68 -->\n",
       "<g id=\"node69\" class=\"node\">\n",
       "<title>68</title>\n",
       "<text text-anchor=\"middle\" x=\"799.5\" y=\"-754.7\" font-family=\"Times,serif\" font-size=\"14.00\">, kw_defaults=</text>\n",
       "</g>\n",
       "<!-- 67&#45;&gt;68 -->\n",
       "<g id=\"edge68\" class=\"edge\">\n",
       "<title>67&#45;&gt;68</title>\n",
       "<path fill=\"none\" stroke=\"black\" d=\"M822.31,-804.21C818.8,-797.7 813.01,-786.96 808.15,-777.92\"/>\n",
       "<polygon fill=\"black\" stroke=\"black\" points=\"811.26,-776.32 803.43,-769.17 805.09,-779.64 811.26,-776.32\"/>\n",
       "</g>\n",
       "<!-- 69 -->\n",
       "<g id=\"node70\" class=\"node\">\n",
       "<title>69</title>\n",
       "<text text-anchor=\"middle\" x=\"890.5\" y=\"-754.7\" font-family=\"Times,serif\" font-size=\"14.00\">&lt;expr_list&gt;</text>\n",
       "</g>\n",
       "<!-- 67&#45;&gt;69 -->\n",
       "<g id=\"edge69\" class=\"edge\">\n",
       "<title>67&#45;&gt;69</title>\n",
       "<path fill=\"none\" stroke=\"black\" d=\"M833.73,-804.01C843.65,-796.65 860.58,-784.09 873.37,-774.59\"/>\n",
       "<polygon fill=\"black\" stroke=\"black\" points=\"875.38,-777.46 881.32,-768.69 871.21,-771.84 875.38,-777.46\"/>\n",
       "</g>\n",
       "<!-- 70 -->\n",
       "<g id=\"node71\" class=\"node\">\n",
       "<title>70</title>\n",
       "<text text-anchor=\"middle\" x=\"826.5\" y=\"-704.45\" font-family=\"Times,serif\" font-size=\"14.00\">[ (91)</text>\n",
       "</g>\n",
       "<!-- 69&#45;&gt;70 -->\n",
       "<g id=\"edge70\" class=\"edge\">\n",
       "<title>69&#45;&gt;70</title>\n",
       "<path fill=\"none\" stroke=\"black\" d=\"M882.39,-753.76C872.63,-746.4 855.96,-733.84 843.36,-724.34\"/>\n",
       "<polygon fill=\"black\" stroke=\"black\" points=\"845.64,-721.67 835.55,-718.45 841.43,-727.26 845.64,-721.67\"/>\n",
       "</g>\n",
       "<!-- 71 -->\n",
       "<g id=\"node72\" class=\"node\">\n",
       "<title>71</title>\n",
       "<text text-anchor=\"middle\" x=\"888.5\" y=\"-704.45\" font-family=\"Times,serif\" font-size=\"14.00\">&lt;exprs&#45;1&gt;</text>\n",
       "</g>\n",
       "<!-- 69&#45;&gt;71 -->\n",
       "<g id=\"edge71\" class=\"edge\">\n",
       "<title>69&#45;&gt;71</title>\n",
       "<path fill=\"none\" stroke=\"black\" d=\"M890.25,-753.96C890,-747.74 889.58,-737.65 889.22,-728.89\"/>\n",
       "<polygon fill=\"black\" stroke=\"black\" points=\"892.72,-728.95 888.81,-719.1 885.73,-729.24 892.72,-728.95\"/>\n",
       "</g>\n",
       "<!-- 72 -->\n",
       "<g id=\"node73\" class=\"node\">\n",
       "<title>72</title>\n",
       "<text text-anchor=\"middle\" x=\"950.5\" y=\"-704.45\" font-family=\"Times,serif\" font-size=\"14.00\">] (93)</text>\n",
       "</g>\n",
       "<!-- 69&#45;&gt;72 -->\n",
       "<g id=\"edge72\" class=\"edge\">\n",
       "<title>69&#45;&gt;72</title>\n",
       "<path fill=\"none\" stroke=\"black\" d=\"M897.86,-753.96C906.85,-746.72 922.35,-734.27 934.2,-724.73\"/>\n",
       "<polygon fill=\"black\" stroke=\"black\" points=\"936.3,-727.53 941.9,-718.54 931.92,-722.08 936.3,-727.53\"/>\n",
       "</g>\n",
       "<!-- 75 -->\n",
       "<g id=\"node76\" class=\"node\">\n",
       "<title>75</title>\n",
       "<text text-anchor=\"middle\" x=\"982.5\" y=\"-754.7\" font-family=\"Times,serif\" font-size=\"14.00\">, defaults=</text>\n",
       "</g>\n",
       "<!-- 74&#45;&gt;75 -->\n",
       "<g id=\"edge75\" class=\"edge\">\n",
       "<title>74&#45;&gt;75</title>\n",
       "<path fill=\"none\" stroke=\"black\" d=\"M1029,-804.21C1021.21,-797.12 1007.91,-785.01 997.53,-775.56\"/>\n",
       "<polygon fill=\"black\" stroke=\"black\" points=\"999.92,-773 990.17,-768.86 995.21,-778.18 999.92,-773\"/>\n",
       "</g>\n",
       "<!-- 76 -->\n",
       "<g id=\"node77\" class=\"node\">\n",
       "<title>76</title>\n",
       "<text text-anchor=\"middle\" x=\"1061.5\" y=\"-754.7\" font-family=\"Times,serif\" font-size=\"14.00\">&lt;expr_list&gt;</text>\n",
       "</g>\n",
       "<!-- 74&#45;&gt;76 -->\n",
       "<g id=\"edge76\" class=\"edge\">\n",
       "<title>74&#45;&gt;76</title>\n",
       "<path fill=\"none\" stroke=\"black\" d=\"M1038.69,-804.21C1042.2,-797.7 1047.99,-786.96 1052.85,-777.92\"/>\n",
       "<polygon fill=\"black\" stroke=\"black\" points=\"1055.91,-779.64 1057.57,-769.17 1049.74,-776.32 1055.91,-779.64\"/>\n",
       "</g>\n",
       "<!-- 77 -->\n",
       "<g id=\"node78\" class=\"node\">\n",
       "<title>77</title>\n",
       "<text text-anchor=\"middle\" x=\"999.5\" y=\"-704.45\" font-family=\"Times,serif\" font-size=\"14.00\">[ (91)</text>\n",
       "</g>\n",
       "<!-- 76&#45;&gt;77 -->\n",
       "<g id=\"edge77\" class=\"edge\">\n",
       "<title>76&#45;&gt;77</title>\n",
       "<path fill=\"none\" stroke=\"black\" d=\"M1053.65,-753.76C1044.19,-746.4 1028.04,-733.84 1015.83,-724.34\"/>\n",
       "<polygon fill=\"black\" stroke=\"black\" points=\"1018.33,-721.84 1008.29,-718.46 1014.03,-727.37 1018.33,-721.84\"/>\n",
       "</g>\n",
       "<!-- 78 -->\n",
       "<g id=\"node79\" class=\"node\">\n",
       "<title>78</title>\n",
       "<text text-anchor=\"middle\" x=\"1061.5\" y=\"-704.45\" font-family=\"Times,serif\" font-size=\"14.00\">&lt;exprs&#45;1&gt;</text>\n",
       "</g>\n",
       "<!-- 76&#45;&gt;78 -->\n",
       "<g id=\"edge78\" class=\"edge\">\n",
       "<title>76&#45;&gt;78</title>\n",
       "<path fill=\"none\" stroke=\"black\" d=\"M1061.5,-753.96C1061.5,-747.74 1061.5,-737.65 1061.5,-728.89\"/>\n",
       "<polygon fill=\"black\" stroke=\"black\" points=\"1065,-729.1 1061.5,-719.1 1058,-729.1 1065,-729.1\"/>\n",
       "</g>\n",
       "<!-- 79 -->\n",
       "<g id=\"node80\" class=\"node\">\n",
       "<title>79</title>\n",
       "<text text-anchor=\"middle\" x=\"1123.5\" y=\"-704.45\" font-family=\"Times,serif\" font-size=\"14.00\">] (93)</text>\n",
       "</g>\n",
       "<!-- 76&#45;&gt;79 -->\n",
       "<g id=\"edge79\" class=\"edge\">\n",
       "<title>76&#45;&gt;79</title>\n",
       "<path fill=\"none\" stroke=\"black\" d=\"M1069.35,-753.76C1078.81,-746.4 1094.96,-733.84 1107.17,-724.34\"/>\n",
       "<polygon fill=\"black\" stroke=\"black\" points=\"1108.97,-727.37 1114.71,-718.46 1104.67,-721.84 1108.97,-727.37\"/>\n",
       "</g>\n",
       "<!-- 83 -->\n",
       "<g id=\"node84\" class=\"node\">\n",
       "<title>83</title>\n",
       "<text text-anchor=\"middle\" x=\"1168.5\" y=\"-804.95\" font-family=\"Times,serif\" font-size=\"14.00\">[ (91)</text>\n",
       "</g>\n",
       "<!-- 82&#45;&gt;83 -->\n",
       "<g id=\"edge83\" class=\"edge\">\n",
       "<title>82&#45;&gt;83</title>\n",
       "<path fill=\"none\" stroke=\"black\" d=\"M1168.5,-854.46C1168.5,-848.24 1168.5,-838.15 1168.5,-829.39\"/>\n",
       "<polygon fill=\"black\" stroke=\"black\" points=\"1172,-829.6 1168.5,-819.6 1165,-829.6 1172,-829.6\"/>\n",
       "</g>\n",
       "<!-- 84 -->\n",
       "<g id=\"node85\" class=\"node\">\n",
       "<title>84</title>\n",
       "<text text-anchor=\"middle\" x=\"1224.5\" y=\"-804.95\" font-family=\"Times,serif\" font-size=\"14.00\">&lt;stmts&gt;</text>\n",
       "</g>\n",
       "<!-- 82&#45;&gt;84 -->\n",
       "<g id=\"edge84\" class=\"edge\">\n",
       "<title>82&#45;&gt;84</title>\n",
       "<path fill=\"none\" stroke=\"black\" d=\"M1175.37,-854.46C1183.68,-847.3 1197.93,-835.01 1208.95,-825.52\"/>\n",
       "<polygon fill=\"black\" stroke=\"black\" points=\"1211.14,-828.26 1216.43,-819.08 1206.57,-822.95 1211.14,-828.26\"/>\n",
       "</g>\n",
       "<!-- 189 -->\n",
       "<g id=\"node190\" class=\"node\">\n",
       "<title>189</title>\n",
       "<text text-anchor=\"middle\" x=\"1280.5\" y=\"-804.95\" font-family=\"Times,serif\" font-size=\"14.00\">] (93)</text>\n",
       "</g>\n",
       "<!-- 82&#45;&gt;189 -->\n",
       "<g id=\"edge189\" class=\"edge\">\n",
       "<title>82&#45;&gt;189</title>\n",
       "<path fill=\"none\" stroke=\"black\" d=\"M1182.68,-854.26C1201.11,-846.32 1233.58,-832.34 1256.03,-822.67\"/>\n",
       "<polygon fill=\"black\" stroke=\"black\" points=\"1257.24,-825.96 1265.04,-818.79 1254.47,-819.53 1257.24,-825.96\"/>\n",
       "</g>\n",
       "<!-- 85 -->\n",
       "<g id=\"node86\" class=\"node\">\n",
       "<title>85</title>\n",
       "<text text-anchor=\"middle\" x=\"1183.5\" y=\"-754.7\" font-family=\"Times,serif\" font-size=\"14.00\">&lt;stmt&gt;</text>\n",
       "</g>\n",
       "<!-- 84&#45;&gt;85 -->\n",
       "<g id=\"edge85\" class=\"edge\">\n",
       "<title>84&#45;&gt;85</title>\n",
       "<path fill=\"none\" stroke=\"black\" d=\"M1219.47,-804.21C1213.63,-797.34 1203.79,-785.75 1195.87,-776.43\"/>\n",
       "<polygon fill=\"black\" stroke=\"black\" points=\"1198.69,-774.35 1189.55,-768.99 1193.36,-778.88 1198.69,-774.35\"/>\n",
       "</g>\n",
       "<!-- 154 -->\n",
       "<g id=\"node155\" class=\"node\">\n",
       "<title>154</title>\n",
       "<text text-anchor=\"middle\" x=\"1225.5\" y=\"-754.7\" font-family=\"Times,serif\" font-size=\"14.00\">, </text>\n",
       "</g>\n",
       "<!-- 84&#45;&gt;154 -->\n",
       "<g id=\"edge154\" class=\"edge\">\n",
       "<title>84&#45;&gt;154</title>\n",
       "<path fill=\"none\" stroke=\"black\" d=\"M1224.62,-804.21C1224.75,-797.99 1224.96,-787.9 1225.14,-779.14\"/>\n",
       "<polygon fill=\"black\" stroke=\"black\" points=\"1228.64,-779.42 1225.35,-769.35 1221.64,-779.28 1228.64,-779.42\"/>\n",
       "</g>\n",
       "<!-- 155 -->\n",
       "<g id=\"node156\" class=\"node\">\n",
       "<title>155</title>\n",
       "<text text-anchor=\"middle\" x=\"1302.5\" y=\"-754.7\" font-family=\"Times,serif\" font-size=\"14.00\">&lt;stmts&gt;</text>\n",
       "</g>\n",
       "<!-- 84&#45;&gt;155 -->\n",
       "<g id=\"edge155\" class=\"edge\">\n",
       "<title>84&#45;&gt;155</title>\n",
       "<path fill=\"none\" stroke=\"black\" d=\"M1234.38,-804.01C1246.64,-796.43 1267.81,-783.33 1283.3,-773.75\"/>\n",
       "<polygon fill=\"black\" stroke=\"black\" points=\"1285,-776.82 1291.66,-768.58 1281.31,-770.87 1285,-776.82\"/>\n",
       "</g>\n",
       "<!-- 86 -->\n",
       "<g id=\"node87\" class=\"node\">\n",
       "<title>86</title>\n",
       "<text text-anchor=\"middle\" x=\"1183.5\" y=\"-704.45\" font-family=\"Times,serif\" font-size=\"14.00\">&lt;Assign&gt;</text>\n",
       "</g>\n",
       "<!-- 85&#45;&gt;86 -->\n",
       "<g id=\"edge86\" class=\"edge\">\n",
       "<title>85&#45;&gt;86</title>\n",
       "<path fill=\"none\" stroke=\"black\" d=\"M1183.5,-753.96C1183.5,-747.74 1183.5,-737.65 1183.5,-728.89\"/>\n",
       "<polygon fill=\"black\" stroke=\"black\" points=\"1187,-729.1 1183.5,-719.1 1180,-729.1 1187,-729.1\"/>\n",
       "</g>\n",
       "<!-- 87 -->\n",
       "<g id=\"node88\" class=\"node\">\n",
       "<title>87</title>\n",
       "<text text-anchor=\"middle\" x=\"873.5\" y=\"-654.2\" font-family=\"Times,serif\" font-size=\"14.00\">Assign(targets=</text>\n",
       "</g>\n",
       "<!-- 86&#45;&gt;87 -->\n",
       "<g id=\"edge87\" class=\"edge\">\n",
       "<title>86&#45;&gt;87</title>\n",
       "<path fill=\"none\" stroke=\"black\" d=\"M1156.77,-705.03C1153.65,-704.51 1150.5,-703.99 1147.5,-703.5 1070.32,-691 980.76,-677.4 925.61,-669.13\"/>\n",
       "<polygon fill=\"black\" stroke=\"black\" points=\"926.29,-665.7 915.88,-667.68 925.25,-672.62 926.29,-665.7\"/>\n",
       "</g>\n",
       "<!-- 88 -->\n",
       "<g id=\"node89\" class=\"node\">\n",
       "<title>88</title>\n",
       "<text text-anchor=\"middle\" x=\"1008.5\" y=\"-654.2\" font-family=\"Times,serif\" font-size=\"14.00\">&lt;nonempty_lhs_expr_list&gt;</text>\n",
       "</g>\n",
       "<!-- 86&#45;&gt;88 -->\n",
       "<g id=\"edge88\" class=\"edge\">\n",
       "<title>86&#45;&gt;88</title>\n",
       "<path fill=\"none\" stroke=\"black\" d=\"M1161.34,-703.51C1131.09,-695.18 1076.66,-680.17 1041.58,-670.49\"/>\n",
       "<polygon fill=\"black\" stroke=\"black\" points=\"1042.51,-667.12 1031.94,-667.84 1040.65,-673.87 1042.51,-667.12\"/>\n",
       "</g>\n",
       "<!-- 121 -->\n",
       "<g id=\"node122\" class=\"node\">\n",
       "<title>121</title>\n",
       "<text text-anchor=\"middle\" x=\"1122.5\" y=\"-654.2\" font-family=\"Times,serif\" font-size=\"14.00\">, value=</text>\n",
       "</g>\n",
       "<!-- 86&#45;&gt;121 -->\n",
       "<g id=\"edge121\" class=\"edge\">\n",
       "<title>86&#45;&gt;121</title>\n",
       "<path fill=\"none\" stroke=\"black\" d=\"M1175.77,-703.51C1166.56,-696.22 1150.89,-683.83 1138.93,-674.37\"/>\n",
       "<polygon fill=\"black\" stroke=\"black\" points=\"1141.17,-671.68 1131.16,-668.22 1136.83,-677.17 1141.17,-671.68\"/>\n",
       "</g>\n",
       "<!-- 122 -->\n",
       "<g id=\"node123\" class=\"node\">\n",
       "<title>122</title>\n",
       "<text text-anchor=\"middle\" x=\"1183.5\" y=\"-654.2\" font-family=\"Times,serif\" font-size=\"14.00\">&lt;expr&gt;</text>\n",
       "</g>\n",
       "<!-- 86&#45;&gt;122 -->\n",
       "<g id=\"edge122\" class=\"edge\">\n",
       "<title>86&#45;&gt;122</title>\n",
       "<path fill=\"none\" stroke=\"black\" d=\"M1183.5,-703.71C1183.5,-697.49 1183.5,-687.4 1183.5,-678.64\"/>\n",
       "<polygon fill=\"black\" stroke=\"black\" points=\"1187,-678.85 1183.5,-668.85 1180,-678.85 1187,-678.85\"/>\n",
       "</g>\n",
       "<!-- 152 -->\n",
       "<g id=\"node153\" class=\"node\">\n",
       "<title>152</title>\n",
       "<text text-anchor=\"middle\" x=\"1276.5\" y=\"-654.2\" font-family=\"Times,serif\" font-size=\"14.00\">&lt;type_comment&#45;1&gt;</text>\n",
       "</g>\n",
       "<!-- 86&#45;&gt;152 -->\n",
       "<g id=\"edge152\" class=\"edge\">\n",
       "<title>86&#45;&gt;152</title>\n",
       "<path fill=\"none\" stroke=\"black\" d=\"M1195.28,-703.51C1210.16,-695.79 1236.07,-682.35 1254.63,-672.72\"/>\n",
       "<polygon fill=\"black\" stroke=\"black\" points=\"1256.21,-675.85 1263.47,-668.13 1252.99,-669.63 1256.21,-675.85\"/>\n",
       "</g>\n",
       "<!-- 153 -->\n",
       "<g id=\"node154\" class=\"node\">\n",
       "<title>153</title>\n",
       "<text text-anchor=\"middle\" x=\"1364.5\" y=\"-654.2\" font-family=\"Times,serif\" font-size=\"14.00\">) (41)</text>\n",
       "</g>\n",
       "<!-- 86&#45;&gt;153 -->\n",
       "<g id=\"edge153\" class=\"edge\">\n",
       "<title>86&#45;&gt;153</title>\n",
       "<path fill=\"none\" stroke=\"black\" d=\"M1206.42,-703.51C1240.1,-694.54 1302.77,-677.83 1338.25,-668.37\"/>\n",
       "<polygon fill=\"black\" stroke=\"black\" points=\"1338.93,-671.81 1347.69,-665.86 1337.13,-665.05 1338.93,-671.81\"/>\n",
       "</g>\n",
       "<!-- 89 -->\n",
       "<g id=\"node90\" class=\"node\">\n",
       "<title>89</title>\n",
       "<text text-anchor=\"middle\" x=\"906.5\" y=\"-603.95\" font-family=\"Times,serif\" font-size=\"14.00\">[ (91)</text>\n",
       "</g>\n",
       "<!-- 88&#45;&gt;89 -->\n",
       "<g id=\"edge89\" class=\"edge\">\n",
       "<title>88&#45;&gt;89</title>\n",
       "<path fill=\"none\" stroke=\"black\" d=\"M995.58,-653.26C979.03,-645.43 950.04,-631.72 929.63,-622.07\"/>\n",
       "<polygon fill=\"black\" stroke=\"black\" points=\"931.22,-618.95 920.68,-617.83 928.22,-625.27 931.22,-618.95\"/>\n",
       "</g>\n",
       "<!-- 90 -->\n",
       "<g id=\"node91\" class=\"node\">\n",
       "<title>90</title>\n",
       "<text text-anchor=\"middle\" x=\"974.5\" y=\"-603.95\" font-family=\"Times,serif\" font-size=\"14.00\">&lt;lhs_exprs&gt;</text>\n",
       "</g>\n",
       "<!-- 88&#45;&gt;90 -->\n",
       "<g id=\"edge90\" class=\"edge\">\n",
       "<title>88&#45;&gt;90</title>\n",
       "<path fill=\"none\" stroke=\"black\" d=\"M1004.33,-653.46C999.59,-646.73 991.67,-635.48 985.18,-626.27\"/>\n",
       "<polygon fill=\"black\" stroke=\"black\" points=\"988.2,-624.49 979.57,-618.33 982.47,-628.52 988.2,-624.49\"/>\n",
       "</g>\n",
       "<!-- 120 -->\n",
       "<g id=\"node121\" class=\"node\">\n",
       "<title>120</title>\n",
       "<text text-anchor=\"middle\" x=\"1042.5\" y=\"-603.95\" font-family=\"Times,serif\" font-size=\"14.00\">] (93)</text>\n",
       "</g>\n",
       "<!-- 88&#45;&gt;120 -->\n",
       "<g id=\"edge120\" class=\"edge\">\n",
       "<title>88&#45;&gt;120</title>\n",
       "<path fill=\"none\" stroke=\"black\" d=\"M1012.67,-653.46C1017.41,-646.73 1025.33,-635.48 1031.82,-626.27\"/>\n",
       "<polygon fill=\"black\" stroke=\"black\" points=\"1034.53,-628.52 1037.43,-618.33 1028.8,-624.49 1034.53,-628.52\"/>\n",
       "</g>\n",
       "<!-- 91 -->\n",
       "<g id=\"node92\" class=\"node\">\n",
       "<title>91</title>\n",
       "<text text-anchor=\"middle\" x=\"864.5\" y=\"-553.7\" font-family=\"Times,serif\" font-size=\"14.00\">&lt;lhs_expr&gt;</text>\n",
       "</g>\n",
       "<!-- 90&#45;&gt;91 -->\n",
       "<g id=\"edge91\" class=\"edge\">\n",
       "<title>90&#45;&gt;91</title>\n",
       "<path fill=\"none\" stroke=\"black\" d=\"M960.57,-603.01C942.55,-595.11 910.87,-581.21 888.84,-571.55\"/>\n",
       "<polygon fill=\"black\" stroke=\"black\" points=\"890.27,-568.36 879.7,-567.54 887.46,-574.77 890.27,-568.36\"/>\n",
       "</g>\n",
       "<!-- 92 -->\n",
       "<g id=\"node93\" class=\"node\">\n",
       "<title>92</title>\n",
       "<text text-anchor=\"middle\" x=\"859.5\" y=\"-503.45\" font-family=\"Times,serif\" font-size=\"14.00\">&lt;lhs_Name&gt;</text>\n",
       "</g>\n",
       "<!-- 91&#45;&gt;92 -->\n",
       "<g id=\"edge92\" class=\"edge\">\n",
       "<title>91&#45;&gt;92</title>\n",
       "<path fill=\"none\" stroke=\"black\" d=\"M863.89,-552.96C863.24,-546.74 862.2,-536.65 861.29,-527.89\"/>\n",
       "<polygon fill=\"black\" stroke=\"black\" points=\"864.79,-527.68 860.27,-518.1 857.82,-528.4 864.79,-527.68\"/>\n",
       "</g>\n",
       "<!-- 93 -->\n",
       "<g id=\"node94\" class=\"node\">\n",
       "<title>93</title>\n",
       "<text text-anchor=\"middle\" x=\"736.5\" y=\"-453.2\" font-family=\"Times,serif\" font-size=\"14.00\">Name(id=</text>\n",
       "</g>\n",
       "<!-- 92&#45;&gt;93 -->\n",
       "<g id=\"edge93\" class=\"edge\">\n",
       "<title>92&#45;&gt;93</title>\n",
       "<path fill=\"none\" stroke=\"black\" d=\"M843.92,-502.51C823.4,-494.47 787.04,-480.2 762.37,-470.52\"/>\n",
       "<polygon fill=\"black\" stroke=\"black\" points=\"763.95,-467.38 753.36,-466.99 761.39,-473.9 763.95,-467.38\"/>\n",
       "</g>\n",
       "<!-- 94 -->\n",
       "<g id=\"node95\" class=\"node\">\n",
       "<title>94</title>\n",
       "<text text-anchor=\"middle\" x=\"815.5\" y=\"-453.2\" font-family=\"Times,serif\" font-size=\"14.00\">&lt;identifier&gt;</text>\n",
       "</g>\n",
       "<!-- 92&#45;&gt;94 -->\n",
       "<g id=\"edge94\" class=\"edge\">\n",
       "<title>92&#45;&gt;94</title>\n",
       "<path fill=\"none\" stroke=\"black\" d=\"M854.1,-502.71C847.77,-495.76 837.05,-484 828.51,-474.64\"/>\n",
       "<polygon fill=\"black\" stroke=\"black\" points=\"831.28,-472.49 821.96,-467.46 826.11,-477.21 831.28,-472.49\"/>\n",
       "</g>\n",
       "<!-- 119 -->\n",
       "<g id=\"node120\" class=\"node\">\n",
       "<title>119</title>\n",
       "<text text-anchor=\"middle\" x=\"903.5\" y=\"-453.2\" font-family=\"Times,serif\" font-size=\"14.00\">, ctx=Store())</text>\n",
       "</g>\n",
       "<!-- 92&#45;&gt;119 -->\n",
       "<g id=\"edge119\" class=\"edge\">\n",
       "<title>92&#45;&gt;119</title>\n",
       "<path fill=\"none\" stroke=\"black\" d=\"M864.9,-502.71C871.23,-495.76 881.95,-484 890.49,-474.64\"/>\n",
       "<polygon fill=\"black\" stroke=\"black\" points=\"892.89,-477.21 897.04,-467.46 887.72,-472.49 892.89,-477.21\"/>\n",
       "</g>\n",
       "<!-- 95 -->\n",
       "<g id=\"node96\" class=\"node\">\n",
       "<title>95</title>\n",
       "<text text-anchor=\"middle\" x=\"769.5\" y=\"-402.95\" font-family=\"Times,serif\" font-size=\"14.00\">&#39; (39)</text>\n",
       "</g>\n",
       "<!-- 94&#45;&gt;95 -->\n",
       "<g id=\"edge95\" class=\"edge\">\n",
       "<title>94&#45;&gt;95</title>\n",
       "<path fill=\"none\" stroke=\"black\" d=\"M809.86,-452.46C803.24,-445.51 792.03,-433.75 783.1,-424.39\"/>\n",
       "<polygon fill=\"black\" stroke=\"black\" points=\"785.66,-422.01 776.23,-417.19 780.6,-426.84 785.66,-422.01\"/>\n",
       "</g>\n",
       "<!-- 96 -->\n",
       "<g id=\"node97\" class=\"node\">\n",
       "<title>96</title>\n",
       "<text text-anchor=\"middle\" x=\"815.5\" y=\"-402.95\" font-family=\"Times,serif\" font-size=\"14.00\">&lt;id&gt;</text>\n",
       "</g>\n",
       "<!-- 94&#45;&gt;96 -->\n",
       "<g id=\"edge96\" class=\"edge\">\n",
       "<title>94&#45;&gt;96</title>\n",
       "<path fill=\"none\" stroke=\"black\" d=\"M815.5,-452.46C815.5,-446.24 815.5,-436.15 815.5,-427.39\"/>\n",
       "<polygon fill=\"black\" stroke=\"black\" points=\"819,-427.6 815.5,-417.6 812,-427.6 819,-427.6\"/>\n",
       "</g>\n",
       "<!-- 118 -->\n",
       "<g id=\"node119\" class=\"node\">\n",
       "<title>118</title>\n",
       "<text text-anchor=\"middle\" x=\"861.5\" y=\"-402.95\" font-family=\"Times,serif\" font-size=\"14.00\">&#39; (39)</text>\n",
       "</g>\n",
       "<!-- 94&#45;&gt;118 -->\n",
       "<g id=\"edge118\" class=\"edge\">\n",
       "<title>94&#45;&gt;118</title>\n",
       "<path fill=\"none\" stroke=\"black\" d=\"M821.14,-452.46C827.76,-445.51 838.97,-433.75 847.9,-424.39\"/>\n",
       "<polygon fill=\"black\" stroke=\"black\" points=\"850.4,-426.84 854.77,-417.19 845.34,-422.01 850.4,-426.84\"/>\n",
       "</g>\n",
       "<!-- 97 -->\n",
       "<g id=\"node98\" class=\"node\">\n",
       "<title>97</title>\n",
       "<text text-anchor=\"middle\" x=\"742.5\" y=\"-352.7\" font-family=\"Times,serif\" font-size=\"14.00\">&lt;id_start&gt;</text>\n",
       "</g>\n",
       "<!-- 96&#45;&gt;97 -->\n",
       "<g id=\"edge97\" class=\"edge\">\n",
       "<title>96&#45;&gt;97</title>\n",
       "<path fill=\"none\" stroke=\"black\" d=\"M806.25,-402.01C794.89,-394.5 775.35,-381.59 760.88,-372.03\"/>\n",
       "<polygon fill=\"black\" stroke=\"black\" points=\"762.98,-369.21 752.7,-366.62 759.12,-375.05 762.98,-369.21\"/>\n",
       "</g>\n",
       "<!-- 99 -->\n",
       "<g id=\"node100\" class=\"node\">\n",
       "<title>99</title>\n",
       "<text text-anchor=\"middle\" x=\"834.5\" y=\"-352.7\" font-family=\"Times,serif\" font-size=\"14.00\">&lt;id_continue&#45;1&gt;</text>\n",
       "</g>\n",
       "<!-- 96&#45;&gt;99 -->\n",
       "<g id=\"edge99\" class=\"edge\">\n",
       "<title>96&#45;&gt;99</title>\n",
       "<path fill=\"none\" stroke=\"black\" d=\"M817.83,-402.21C820.34,-395.84 824.44,-385.43 827.94,-376.53\"/>\n",
       "<polygon fill=\"black\" stroke=\"black\" points=\"831.19,-377.84 831.6,-367.25 824.68,-375.27 831.19,-377.84\"/>\n",
       "</g>\n",
       "<!-- 98 -->\n",
       "<g id=\"node99\" class=\"node\">\n",
       "<title>98</title>\n",
       "<text text-anchor=\"middle\" x=\"742.5\" y=\"-302.45\" font-family=\"Times,serif\" font-size=\"14.00\">t (116)</text>\n",
       "</g>\n",
       "<!-- 97&#45;&gt;98 -->\n",
       "<g id=\"edge98\" class=\"edge\">\n",
       "<title>97&#45;&gt;98</title>\n",
       "<path fill=\"none\" stroke=\"black\" d=\"M742.5,-351.96C742.5,-345.74 742.5,-335.65 742.5,-326.89\"/>\n",
       "<polygon fill=\"black\" stroke=\"black\" points=\"746,-327.1 742.5,-317.1 739,-327.1 746,-327.1\"/>\n",
       "</g>\n",
       "<!-- 100 -->\n",
       "<g id=\"node101\" class=\"node\">\n",
       "<title>100</title>\n",
       "<text text-anchor=\"middle\" x=\"826.5\" y=\"-302.45\" font-family=\"Times,serif\" font-size=\"14.00\">&lt;id_continue&gt;</text>\n",
       "</g>\n",
       "<!-- 99&#45;&gt;100 -->\n",
       "<g id=\"edge100\" class=\"edge\">\n",
       "<title>99&#45;&gt;100</title>\n",
       "<path fill=\"none\" stroke=\"black\" d=\"M833.52,-351.96C832.49,-345.74 830.82,-335.65 829.36,-326.89\"/>\n",
       "<polygon fill=\"black\" stroke=\"black\" points=\"832.83,-326.38 827.74,-317.08 825.92,-327.52 832.83,-326.38\"/>\n",
       "</g>\n",
       "<!-- 102 -->\n",
       "<g id=\"node103\" class=\"node\">\n",
       "<title>102</title>\n",
       "<text text-anchor=\"middle\" x=\"930.5\" y=\"-302.45\" font-family=\"Times,serif\" font-size=\"14.00\">&lt;id_continue&#45;1&gt;</text>\n",
       "</g>\n",
       "<!-- 99&#45;&gt;102 -->\n",
       "<g id=\"edge102\" class=\"edge\">\n",
       "<title>99&#45;&gt;102</title>\n",
       "<path fill=\"none\" stroke=\"black\" d=\"M846.66,-351.76C862.09,-344.01 889.02,-330.47 908.19,-320.84\"/>\n",
       "<polygon fill=\"black\" stroke=\"black\" points=\"909.72,-323.98 917.09,-316.37 906.58,-317.73 909.72,-323.98\"/>\n",
       "</g>\n",
       "<!-- 101 -->\n",
       "<g id=\"node102\" class=\"node\">\n",
       "<title>101</title>\n",
       "<text text-anchor=\"middle\" x=\"826.5\" y=\"-252.2\" font-family=\"Times,serif\" font-size=\"14.00\">h (104)</text>\n",
       "</g>\n",
       "<!-- 100&#45;&gt;101 -->\n",
       "<g id=\"edge101\" class=\"edge\">\n",
       "<title>100&#45;&gt;101</title>\n",
       "<path fill=\"none\" stroke=\"black\" d=\"M826.5,-301.71C826.5,-295.49 826.5,-285.4 826.5,-276.64\"/>\n",
       "<polygon fill=\"black\" stroke=\"black\" points=\"830,-276.85 826.5,-266.85 823,-276.85 830,-276.85\"/>\n",
       "</g>\n",
       "<!-- 103 -->\n",
       "<g id=\"node104\" class=\"node\">\n",
       "<title>103</title>\n",
       "<text text-anchor=\"middle\" x=\"917.5\" y=\"-252.2\" font-family=\"Times,serif\" font-size=\"14.00\">&lt;id_continue&gt;</text>\n",
       "</g>\n",
       "<!-- 102&#45;&gt;103 -->\n",
       "<g id=\"edge103\" class=\"edge\">\n",
       "<title>102&#45;&gt;103</title>\n",
       "<path fill=\"none\" stroke=\"black\" d=\"M928.91,-301.71C927.21,-295.41 924.45,-285.17 922.07,-276.33\"/>\n",
       "<polygon fill=\"black\" stroke=\"black\" points=\"925.48,-275.55 919.5,-266.8 918.72,-277.37 925.48,-275.55\"/>\n",
       "</g>\n",
       "<!-- 105 -->\n",
       "<g id=\"node106\" class=\"node\">\n",
       "<title>105</title>\n",
       "<text text-anchor=\"middle\" x=\"1021.5\" y=\"-252.2\" font-family=\"Times,serif\" font-size=\"14.00\">&lt;id_continue&#45;1&gt;</text>\n",
       "</g>\n",
       "<!-- 102&#45;&gt;105 -->\n",
       "<g id=\"edge105\" class=\"edge\">\n",
       "<title>102&#45;&gt;105</title>\n",
       "<path fill=\"none\" stroke=\"black\" d=\"M942.03,-301.51C956.59,-293.79 981.94,-280.35 1000.1,-270.72\"/>\n",
       "<polygon fill=\"black\" stroke=\"black\" points=\"1001.54,-273.92 1008.73,-266.15 998.26,-267.74 1001.54,-273.92\"/>\n",
       "</g>\n",
       "<!-- 104 -->\n",
       "<g id=\"node105\" class=\"node\">\n",
       "<title>104</title>\n",
       "<text text-anchor=\"middle\" x=\"917.5\" y=\"-201.95\" font-family=\"Times,serif\" font-size=\"14.00\">e (101)</text>\n",
       "</g>\n",
       "<!-- 103&#45;&gt;104 -->\n",
       "<g id=\"edge104\" class=\"edge\">\n",
       "<title>103&#45;&gt;104</title>\n",
       "<path fill=\"none\" stroke=\"black\" d=\"M917.5,-251.46C917.5,-245.24 917.5,-235.15 917.5,-226.39\"/>\n",
       "<polygon fill=\"black\" stroke=\"black\" points=\"921,-226.6 917.5,-216.6 914,-226.6 921,-226.6\"/>\n",
       "</g>\n",
       "<!-- 106 -->\n",
       "<g id=\"node107\" class=\"node\">\n",
       "<title>106</title>\n",
       "<text text-anchor=\"middle\" x=\"1008.5\" y=\"-201.95\" font-family=\"Times,serif\" font-size=\"14.00\">&lt;id_continue&gt;</text>\n",
       "</g>\n",
       "<!-- 105&#45;&gt;106 -->\n",
       "<g id=\"edge106\" class=\"edge\">\n",
       "<title>105&#45;&gt;106</title>\n",
       "<path fill=\"none\" stroke=\"black\" d=\"M1019.91,-251.46C1018.21,-245.16 1015.45,-234.92 1013.07,-226.08\"/>\n",
       "<polygon fill=\"black\" stroke=\"black\" points=\"1016.48,-225.3 1010.5,-216.55 1009.72,-227.12 1016.48,-225.3\"/>\n",
       "</g>\n",
       "<!-- 108 -->\n",
       "<g id=\"node109\" class=\"node\">\n",
       "<title>108</title>\n",
       "<text text-anchor=\"middle\" x=\"1112.5\" y=\"-201.95\" font-family=\"Times,serif\" font-size=\"14.00\">&lt;id_continue&#45;1&gt;</text>\n",
       "</g>\n",
       "<!-- 105&#45;&gt;108 -->\n",
       "<g id=\"edge108\" class=\"edge\">\n",
       "<title>105&#45;&gt;108</title>\n",
       "<path fill=\"none\" stroke=\"black\" d=\"M1033.03,-251.26C1047.59,-243.54 1072.94,-230.1 1091.1,-220.47\"/>\n",
       "<polygon fill=\"black\" stroke=\"black\" points=\"1092.54,-223.67 1099.73,-215.9 1089.26,-217.49 1092.54,-223.67\"/>\n",
       "</g>\n",
       "<!-- 107 -->\n",
       "<g id=\"node108\" class=\"node\">\n",
       "<title>107</title>\n",
       "<text text-anchor=\"middle\" x=\"1008.5\" y=\"-151.7\" font-family=\"Times,serif\" font-size=\"14.00\">_ (95)</text>\n",
       "</g>\n",
       "<!-- 106&#45;&gt;107 -->\n",
       "<g id=\"edge107\" class=\"edge\">\n",
       "<title>106&#45;&gt;107</title>\n",
       "<path fill=\"none\" stroke=\"black\" d=\"M1008.5,-201.21C1008.5,-194.99 1008.5,-184.9 1008.5,-176.14\"/>\n",
       "<polygon fill=\"black\" stroke=\"black\" points=\"1012,-176.35 1008.5,-166.35 1005,-176.35 1012,-176.35\"/>\n",
       "</g>\n",
       "<!-- 109 -->\n",
       "<g id=\"node110\" class=\"node\">\n",
       "<title>109</title>\n",
       "<text text-anchor=\"middle\" x=\"1098.5\" y=\"-151.7\" font-family=\"Times,serif\" font-size=\"14.00\">&lt;id_continue&gt;</text>\n",
       "</g>\n",
       "<!-- 108&#45;&gt;109 -->\n",
       "<g id=\"edge109\" class=\"edge\">\n",
       "<title>108&#45;&gt;109</title>\n",
       "<path fill=\"none\" stroke=\"black\" d=\"M1110.78,-201.21C1108.96,-194.91 1105.98,-184.67 1103.42,-175.83\"/>\n",
       "<polygon fill=\"black\" stroke=\"black\" points=\"1106.8,-174.92 1100.65,-166.29 1100.08,-176.87 1106.8,-174.92\"/>\n",
       "</g>\n",
       "<!-- 111 -->\n",
       "<g id=\"node112\" class=\"node\">\n",
       "<title>111</title>\n",
       "<text text-anchor=\"middle\" x=\"1202.5\" y=\"-151.7\" font-family=\"Times,serif\" font-size=\"14.00\">&lt;id_continue&#45;1&gt;</text>\n",
       "</g>\n",
       "<!-- 108&#45;&gt;111 -->\n",
       "<g id=\"edge111\" class=\"edge\">\n",
       "<title>108&#45;&gt;111</title>\n",
       "<path fill=\"none\" stroke=\"black\" d=\"M1123.9,-201.01C1138.23,-193.33 1163.14,-179.97 1181.08,-170.36\"/>\n",
       "<polygon fill=\"black\" stroke=\"black\" points=\"1182.7,-173.46 1189.86,-165.65 1179.39,-167.29 1182.7,-173.46\"/>\n",
       "</g>\n",
       "<!-- 110 -->\n",
       "<g id=\"node111\" class=\"node\">\n",
       "<title>110</title>\n",
       "<text text-anchor=\"middle\" x=\"1098.5\" y=\"-101.45\" font-family=\"Times,serif\" font-size=\"14.00\">s (115)</text>\n",
       "</g>\n",
       "<!-- 109&#45;&gt;110 -->\n",
       "<g id=\"edge110\" class=\"edge\">\n",
       "<title>109&#45;&gt;110</title>\n",
       "<path fill=\"none\" stroke=\"black\" d=\"M1098.5,-150.96C1098.5,-144.74 1098.5,-134.65 1098.5,-125.89\"/>\n",
       "<polygon fill=\"black\" stroke=\"black\" points=\"1102,-126.1 1098.5,-116.1 1095,-126.1 1102,-126.1\"/>\n",
       "</g>\n",
       "<!-- 112 -->\n",
       "<g id=\"node113\" class=\"node\">\n",
       "<title>112</title>\n",
       "<text text-anchor=\"middle\" x=\"1188.5\" y=\"-101.45\" font-family=\"Times,serif\" font-size=\"14.00\">&lt;id_continue&gt;</text>\n",
       "</g>\n",
       "<!-- 111&#45;&gt;112 -->\n",
       "<g id=\"edge112\" class=\"edge\">\n",
       "<title>111&#45;&gt;112</title>\n",
       "<path fill=\"none\" stroke=\"black\" d=\"M1200.78,-150.96C1198.96,-144.66 1195.98,-134.42 1193.42,-125.58\"/>\n",
       "<polygon fill=\"black\" stroke=\"black\" points=\"1196.8,-124.67 1190.65,-116.04 1190.08,-126.62 1196.8,-124.67\"/>\n",
       "</g>\n",
       "<!-- 114 -->\n",
       "<g id=\"node115\" class=\"node\">\n",
       "<title>114</title>\n",
       "<text text-anchor=\"middle\" x=\"1292.5\" y=\"-101.45\" font-family=\"Times,serif\" font-size=\"14.00\">&lt;id_continue&#45;1&gt;</text>\n",
       "</g>\n",
       "<!-- 111&#45;&gt;114 -->\n",
       "<g id=\"edge114\" class=\"edge\">\n",
       "<title>111&#45;&gt;114</title>\n",
       "<path fill=\"none\" stroke=\"black\" d=\"M1213.9,-150.76C1228.23,-143.08 1253.14,-129.72 1271.08,-120.11\"/>\n",
       "<polygon fill=\"black\" stroke=\"black\" points=\"1272.7,-123.21 1279.86,-115.4 1269.39,-117.04 1272.7,-123.21\"/>\n",
       "</g>\n",
       "<!-- 113 -->\n",
       "<g id=\"node114\" class=\"node\">\n",
       "<title>113</title>\n",
       "<text text-anchor=\"middle\" x=\"1188.5\" y=\"-51.2\" font-family=\"Times,serif\" font-size=\"14.00\">u (117)</text>\n",
       "</g>\n",
       "<!-- 112&#45;&gt;113 -->\n",
       "<g id=\"edge113\" class=\"edge\">\n",
       "<title>112&#45;&gt;113</title>\n",
       "<path fill=\"none\" stroke=\"black\" d=\"M1188.5,-100.71C1188.5,-94.49 1188.5,-84.4 1188.5,-75.64\"/>\n",
       "<polygon fill=\"black\" stroke=\"black\" points=\"1192,-75.85 1188.5,-65.85 1185,-75.85 1192,-75.85\"/>\n",
       "</g>\n",
       "<!-- 115 -->\n",
       "<g id=\"node116\" class=\"node\">\n",
       "<title>115</title>\n",
       "<text text-anchor=\"middle\" x=\"1279.5\" y=\"-51.2\" font-family=\"Times,serif\" font-size=\"14.00\">&lt;id_continue&gt;</text>\n",
       "</g>\n",
       "<!-- 114&#45;&gt;115 -->\n",
       "<g id=\"edge115\" class=\"edge\">\n",
       "<title>114&#45;&gt;115</title>\n",
       "<path fill=\"none\" stroke=\"black\" d=\"M1290.91,-100.71C1289.21,-94.41 1286.45,-84.17 1284.07,-75.33\"/>\n",
       "<polygon fill=\"black\" stroke=\"black\" points=\"1287.48,-74.55 1281.5,-65.8 1280.72,-76.37 1287.48,-74.55\"/>\n",
       "</g>\n",
       "<!-- 117 -->\n",
       "<g id=\"node118\" class=\"node\">\n",
       "<title>117</title>\n",
       "<text text-anchor=\"middle\" x=\"1383.5\" y=\"-51.2\" font-family=\"Times,serif\" font-size=\"14.00\">&lt;id_continue&#45;1&gt;</text>\n",
       "</g>\n",
       "<!-- 114&#45;&gt;117 -->\n",
       "<g id=\"edge117\" class=\"edge\">\n",
       "<title>114&#45;&gt;117</title>\n",
       "<path fill=\"none\" stroke=\"black\" d=\"M1304.03,-100.51C1318.59,-92.79 1343.94,-79.35 1362.1,-69.72\"/>\n",
       "<polygon fill=\"black\" stroke=\"black\" points=\"1363.54,-72.92 1370.73,-65.15 1360.26,-66.74 1363.54,-72.92\"/>\n",
       "</g>\n",
       "<!-- 116 -->\n",
       "<g id=\"node117\" class=\"node\">\n",
       "<title>116</title>\n",
       "<text text-anchor=\"middle\" x=\"1279.5\" y=\"-0.95\" font-family=\"Times,serif\" font-size=\"14.00\">m (109)</text>\n",
       "</g>\n",
       "<!-- 115&#45;&gt;116 -->\n",
       "<g id=\"edge116\" class=\"edge\">\n",
       "<title>115&#45;&gt;116</title>\n",
       "<path fill=\"none\" stroke=\"black\" d=\"M1279.5,-50.46C1279.5,-44.24 1279.5,-34.15 1279.5,-25.39\"/>\n",
       "<polygon fill=\"black\" stroke=\"black\" points=\"1283,-25.6 1279.5,-15.6 1276,-25.6 1283,-25.6\"/>\n",
       "</g>\n",
       "<!-- 123 -->\n",
       "<g id=\"node124\" class=\"node\">\n",
       "<title>123</title>\n",
       "<text text-anchor=\"middle\" x=\"1183.5\" y=\"-603.95\" font-family=\"Times,serif\" font-size=\"14.00\">&lt;BinOp&gt;</text>\n",
       "</g>\n",
       "<!-- 122&#45;&gt;123 -->\n",
       "<g id=\"edge123\" class=\"edge\">\n",
       "<title>122&#45;&gt;123</title>\n",
       "<path fill=\"none\" stroke=\"black\" d=\"M1183.5,-653.46C1183.5,-647.24 1183.5,-637.15 1183.5,-628.39\"/>\n",
       "<polygon fill=\"black\" stroke=\"black\" points=\"1187,-628.6 1183.5,-618.6 1180,-628.6 1187,-628.6\"/>\n",
       "</g>\n",
       "<!-- 124 -->\n",
       "<g id=\"node125\" class=\"node\">\n",
       "<title>124</title>\n",
       "<text text-anchor=\"middle\" x=\"995.5\" y=\"-553.7\" font-family=\"Times,serif\" font-size=\"14.00\">BinOp(left=</text>\n",
       "</g>\n",
       "<!-- 123&#45;&gt;124 -->\n",
       "<g id=\"edge124\" class=\"edge\">\n",
       "<title>123&#45;&gt;124</title>\n",
       "<path fill=\"none\" stroke=\"black\" d=\"M1159.69,-603.01C1126.92,-594.6 1067.7,-579.4 1030.05,-569.74\"/>\n",
       "<polygon fill=\"black\" stroke=\"black\" points=\"1031.14,-566.41 1020.58,-567.31 1029.4,-573.19 1031.14,-566.41\"/>\n",
       "</g>\n",
       "<!-- 125 -->\n",
       "<g id=\"node126\" class=\"node\">\n",
       "<title>125</title>\n",
       "<text text-anchor=\"middle\" x=\"1067.5\" y=\"-553.7\" font-family=\"Times,serif\" font-size=\"14.00\">&lt;expr&gt;</text>\n",
       "</g>\n",
       "<!-- 123&#45;&gt;125 -->\n",
       "<g id=\"edge125\" class=\"edge\">\n",
       "<title>123&#45;&gt;125</title>\n",
       "<path fill=\"none\" stroke=\"black\" d=\"M1168.81,-603.01C1149.63,-595.04 1115.78,-580.96 1092.53,-571.29\"/>\n",
       "<polygon fill=\"black\" stroke=\"black\" points=\"1094.05,-568.13 1083.47,-567.52 1091.36,-574.59 1094.05,-568.13\"/>\n",
       "</g>\n",
       "<!-- 136 -->\n",
       "<g id=\"node137\" class=\"node\">\n",
       "<title>136</title>\n",
       "<text text-anchor=\"middle\" x=\"1120.5\" y=\"-553.7\" font-family=\"Times,serif\" font-size=\"14.00\">, op=</text>\n",
       "</g>\n",
       "<!-- 123&#45;&gt;136 -->\n",
       "<g id=\"edge136\" class=\"edge\">\n",
       "<title>123&#45;&gt;136</title>\n",
       "<path fill=\"none\" stroke=\"black\" d=\"M1175.52,-603.01C1165.91,-595.65 1149.5,-583.09 1137.1,-573.59\"/>\n",
       "<polygon fill=\"black\" stroke=\"black\" points=\"1139.49,-571.01 1129.42,-567.71 1135.23,-576.56 1139.49,-571.01\"/>\n",
       "</g>\n",
       "<!-- 137 -->\n",
       "<g id=\"node138\" class=\"node\">\n",
       "<title>137</title>\n",
       "<text text-anchor=\"middle\" x=\"1183.5\" y=\"-553.7\" font-family=\"Times,serif\" font-size=\"14.00\">&lt;operator&gt;</text>\n",
       "</g>\n",
       "<!-- 123&#45;&gt;137 -->\n",
       "<g id=\"edge137\" class=\"edge\">\n",
       "<title>123&#45;&gt;137</title>\n",
       "<path fill=\"none\" stroke=\"black\" d=\"M1183.5,-603.21C1183.5,-596.99 1183.5,-586.9 1183.5,-578.14\"/>\n",
       "<polygon fill=\"black\" stroke=\"black\" points=\"1187,-578.35 1183.5,-568.35 1180,-578.35 1187,-578.35\"/>\n",
       "</g>\n",
       "<!-- 139 -->\n",
       "<g id=\"node140\" class=\"node\">\n",
       "<title>139</title>\n",
       "<text text-anchor=\"middle\" x=\"1252.5\" y=\"-553.7\" font-family=\"Times,serif\" font-size=\"14.00\">, right=</text>\n",
       "</g>\n",
       "<!-- 123&#45;&gt;139 -->\n",
       "<g id=\"edge139\" class=\"edge\">\n",
       "<title>123&#45;&gt;139</title>\n",
       "<path fill=\"none\" stroke=\"black\" d=\"M1192.24,-603.01C1202.87,-595.58 1221.09,-582.84 1234.72,-573.31\"/>\n",
       "<polygon fill=\"black\" stroke=\"black\" points=\"1236.62,-576.25 1242.81,-567.65 1232.61,-570.52 1236.62,-576.25\"/>\n",
       "</g>\n",
       "<!-- 140 -->\n",
       "<g id=\"node141\" class=\"node\">\n",
       "<title>140</title>\n",
       "<text text-anchor=\"middle\" x=\"1311.5\" y=\"-553.7\" font-family=\"Times,serif\" font-size=\"14.00\">&lt;expr&gt;</text>\n",
       "</g>\n",
       "<!-- 123&#45;&gt;140 -->\n",
       "<g id=\"edge140\" class=\"edge\">\n",
       "<title>123&#45;&gt;140</title>\n",
       "<path fill=\"none\" stroke=\"black\" d=\"M1199.71,-603.01C1221.16,-594.93 1259.24,-580.57 1284.93,-570.89\"/>\n",
       "<polygon fill=\"black\" stroke=\"black\" points=\"1285.88,-574.27 1294,-567.47 1283.41,-567.72 1285.88,-574.27\"/>\n",
       "</g>\n",
       "<!-- 151 -->\n",
       "<g id=\"node152\" class=\"node\">\n",
       "<title>151</title>\n",
       "<text text-anchor=\"middle\" x=\"1365.5\" y=\"-553.7\" font-family=\"Times,serif\" font-size=\"14.00\">) (41)</text>\n",
       "</g>\n",
       "<!-- 123&#45;&gt;151 -->\n",
       "<g id=\"edge151\" class=\"edge\">\n",
       "<title>123&#45;&gt;151</title>\n",
       "<path fill=\"none\" stroke=\"black\" d=\"M1206.55,-603.01C1240.58,-593.99 1304.07,-577.16 1339.64,-567.73\"/>\n",
       "<polygon fill=\"black\" stroke=\"black\" points=\"1340.32,-571.17 1349.09,-565.23 1338.53,-564.4 1340.32,-571.17\"/>\n",
       "</g>\n",
       "<!-- 126 -->\n",
       "<g id=\"node127\" class=\"node\">\n",
       "<title>126</title>\n",
       "<text text-anchor=\"middle\" x=\"1066.5\" y=\"-503.45\" font-family=\"Times,serif\" font-size=\"14.00\">&lt;Name&gt;</text>\n",
       "</g>\n",
       "<!-- 125&#45;&gt;126 -->\n",
       "<g id=\"edge126\" class=\"edge\">\n",
       "<title>125&#45;&gt;126</title>\n",
       "<path fill=\"none\" stroke=\"black\" d=\"M1067.38,-552.96C1067.25,-546.74 1067.04,-536.65 1066.86,-527.89\"/>\n",
       "<polygon fill=\"black\" stroke=\"black\" points=\"1070.36,-528.03 1066.65,-518.1 1063.36,-528.17 1070.36,-528.03\"/>\n",
       "</g>\n",
       "<!-- 127 -->\n",
       "<g id=\"node128\" class=\"node\">\n",
       "<title>127</title>\n",
       "<text text-anchor=\"middle\" x=\"986.5\" y=\"-453.2\" font-family=\"Times,serif\" font-size=\"14.00\">Name(id=</text>\n",
       "</g>\n",
       "<!-- 126&#45;&gt;127 -->\n",
       "<g id=\"edge127\" class=\"edge\">\n",
       "<title>126&#45;&gt;127</title>\n",
       "<path fill=\"none\" stroke=\"black\" d=\"M1056.37,-502.51C1043.74,-494.9 1021.9,-481.73 1005.99,-472.13\"/>\n",
       "<polygon fill=\"black\" stroke=\"black\" points=\"1008.22,-469.39 997.85,-467.22 1004.6,-475.38 1008.22,-469.39\"/>\n",
       "</g>\n",
       "<!-- 128 -->\n",
       "<g id=\"node129\" class=\"node\">\n",
       "<title>128</title>\n",
       "<text text-anchor=\"middle\" x=\"1065.5\" y=\"-453.2\" font-family=\"Times,serif\" font-size=\"14.00\">&lt;identifier&gt;</text>\n",
       "</g>\n",
       "<!-- 126&#45;&gt;128 -->\n",
       "<g id=\"edge128\" class=\"edge\">\n",
       "<title>126&#45;&gt;128</title>\n",
       "<path fill=\"none\" stroke=\"black\" d=\"M1066.38,-502.71C1066.25,-496.49 1066.04,-486.4 1065.86,-477.64\"/>\n",
       "<polygon fill=\"black\" stroke=\"black\" points=\"1069.36,-477.78 1065.65,-467.85 1062.36,-477.92 1069.36,-477.78\"/>\n",
       "</g>\n",
       "<!-- 135 -->\n",
       "<g id=\"node136\" class=\"node\">\n",
       "<title>135</title>\n",
       "<text text-anchor=\"middle\" x=\"1152.5\" y=\"-453.2\" font-family=\"Times,serif\" font-size=\"14.00\">, ctx=Load())</text>\n",
       "</g>\n",
       "<!-- 126&#45;&gt;135 -->\n",
       "<g id=\"edge135\" class=\"edge\">\n",
       "<title>126&#45;&gt;135</title>\n",
       "<path fill=\"none\" stroke=\"black\" d=\"M1077.39,-502.51C1091.09,-494.83 1114.89,-481.47 1132.03,-471.86\"/>\n",
       "<polygon fill=\"black\" stroke=\"black\" points=\"1133.37,-475.12 1140.38,-467.18 1129.94,-469.02 1133.37,-475.12\"/>\n",
       "</g>\n",
       "<!-- 129 -->\n",
       "<g id=\"node130\" class=\"node\">\n",
       "<title>129</title>\n",
       "<text text-anchor=\"middle\" x=\"1019.5\" y=\"-402.95\" font-family=\"Times,serif\" font-size=\"14.00\">&#39; (39)</text>\n",
       "</g>\n",
       "<!-- 128&#45;&gt;129 -->\n",
       "<g id=\"edge129\" class=\"edge\">\n",
       "<title>128&#45;&gt;129</title>\n",
       "<path fill=\"none\" stroke=\"black\" d=\"M1059.86,-452.46C1053.24,-445.51 1042.03,-433.75 1033.1,-424.39\"/>\n",
       "<polygon fill=\"black\" stroke=\"black\" points=\"1035.66,-422.01 1026.23,-417.19 1030.6,-426.84 1035.66,-422.01\"/>\n",
       "</g>\n",
       "<!-- 130 -->\n",
       "<g id=\"node131\" class=\"node\">\n",
       "<title>130</title>\n",
       "<text text-anchor=\"middle\" x=\"1065.5\" y=\"-402.95\" font-family=\"Times,serif\" font-size=\"14.00\">&lt;id&gt;</text>\n",
       "</g>\n",
       "<!-- 128&#45;&gt;130 -->\n",
       "<g id=\"edge130\" class=\"edge\">\n",
       "<title>128&#45;&gt;130</title>\n",
       "<path fill=\"none\" stroke=\"black\" d=\"M1065.5,-452.46C1065.5,-446.24 1065.5,-436.15 1065.5,-427.39\"/>\n",
       "<polygon fill=\"black\" stroke=\"black\" points=\"1069,-427.6 1065.5,-417.6 1062,-427.6 1069,-427.6\"/>\n",
       "</g>\n",
       "<!-- 134 -->\n",
       "<g id=\"node135\" class=\"node\">\n",
       "<title>134</title>\n",
       "<text text-anchor=\"middle\" x=\"1111.5\" y=\"-402.95\" font-family=\"Times,serif\" font-size=\"14.00\">&#39; (39)</text>\n",
       "</g>\n",
       "<!-- 128&#45;&gt;134 -->\n",
       "<g id=\"edge134\" class=\"edge\">\n",
       "<title>128&#45;&gt;134</title>\n",
       "<path fill=\"none\" stroke=\"black\" d=\"M1071.14,-452.46C1077.76,-445.51 1088.97,-433.75 1097.9,-424.39\"/>\n",
       "<polygon fill=\"black\" stroke=\"black\" points=\"1100.4,-426.84 1104.77,-417.19 1095.34,-422.01 1100.4,-426.84\"/>\n",
       "</g>\n",
       "<!-- 131 -->\n",
       "<g id=\"node132\" class=\"node\">\n",
       "<title>131</title>\n",
       "<text text-anchor=\"middle\" x=\"1047.5\" y=\"-352.7\" font-family=\"Times,serif\" font-size=\"14.00\">&lt;id_start&gt;</text>\n",
       "</g>\n",
       "<!-- 130&#45;&gt;131 -->\n",
       "<g id=\"edge131\" class=\"edge\">\n",
       "<title>130&#45;&gt;131</title>\n",
       "<path fill=\"none\" stroke=\"black\" d=\"M1063.29,-402.21C1060.92,-395.84 1057.03,-385.43 1053.71,-376.53\"/>\n",
       "<polygon fill=\"black\" stroke=\"black\" points=\"1057.03,-375.4 1050.25,-367.26 1050.47,-377.85 1057.03,-375.4\"/>\n",
       "</g>\n",
       "<!-- 133 -->\n",
       "<g id=\"node134\" class=\"node\">\n",
       "<title>133</title>\n",
       "<text text-anchor=\"middle\" x=\"1139.5\" y=\"-352.7\" font-family=\"Times,serif\" font-size=\"14.00\">&lt;id_continue&#45;1&gt;</text>\n",
       "</g>\n",
       "<!-- 130&#45;&gt;133 -->\n",
       "<g id=\"edge133\" class=\"edge\">\n",
       "<title>130&#45;&gt;133</title>\n",
       "<path fill=\"none\" stroke=\"black\" d=\"M1074.87,-402.01C1086.39,-394.5 1106.2,-381.59 1120.86,-372.03\"/>\n",
       "<polygon fill=\"black\" stroke=\"black\" points=\"1122.7,-375.01 1129.17,-366.61 1118.88,-369.14 1122.7,-375.01\"/>\n",
       "</g>\n",
       "<!-- 132 -->\n",
       "<g id=\"node133\" class=\"node\">\n",
       "<title>132</title>\n",
       "<text text-anchor=\"middle\" x=\"1047.5\" y=\"-302.45\" font-family=\"Times,serif\" font-size=\"14.00\">a (97)</text>\n",
       "</g>\n",
       "<!-- 131&#45;&gt;132 -->\n",
       "<g id=\"edge132\" class=\"edge\">\n",
       "<title>131&#45;&gt;132</title>\n",
       "<path fill=\"none\" stroke=\"black\" d=\"M1047.5,-351.96C1047.5,-345.74 1047.5,-335.65 1047.5,-326.89\"/>\n",
       "<polygon fill=\"black\" stroke=\"black\" points=\"1051,-327.1 1047.5,-317.1 1044,-327.1 1051,-327.1\"/>\n",
       "</g>\n",
       "<!-- 138 -->\n",
       "<g id=\"node139\" class=\"node\">\n",
       "<title>138</title>\n",
       "<text text-anchor=\"middle\" x=\"1183.5\" y=\"-503.45\" font-family=\"Times,serif\" font-size=\"14.00\">Add()</text>\n",
       "</g>\n",
       "<!-- 137&#45;&gt;138 -->\n",
       "<g id=\"edge138\" class=\"edge\">\n",
       "<title>137&#45;&gt;138</title>\n",
       "<path fill=\"none\" stroke=\"black\" d=\"M1183.5,-552.96C1183.5,-546.74 1183.5,-536.65 1183.5,-527.89\"/>\n",
       "<polygon fill=\"black\" stroke=\"black\" points=\"1187,-528.1 1183.5,-518.1 1180,-528.1 1187,-528.1\"/>\n",
       "</g>\n",
       "<!-- 141 -->\n",
       "<g id=\"node142\" class=\"node\">\n",
       "<title>141</title>\n",
       "<text text-anchor=\"middle\" x=\"1312.5\" y=\"-503.45\" font-family=\"Times,serif\" font-size=\"14.00\">&lt;Name&gt;</text>\n",
       "</g>\n",
       "<!-- 140&#45;&gt;141 -->\n",
       "<g id=\"edge141\" class=\"edge\">\n",
       "<title>140&#45;&gt;141</title>\n",
       "<path fill=\"none\" stroke=\"black\" d=\"M1311.62,-552.96C1311.75,-546.74 1311.96,-536.65 1312.14,-527.89\"/>\n",
       "<polygon fill=\"black\" stroke=\"black\" points=\"1315.64,-528.17 1312.35,-518.1 1308.64,-528.03 1315.64,-528.17\"/>\n",
       "</g>\n",
       "<!-- 142 -->\n",
       "<g id=\"node143\" class=\"node\">\n",
       "<title>142</title>\n",
       "<text text-anchor=\"middle\" x=\"1235.5\" y=\"-453.2\" font-family=\"Times,serif\" font-size=\"14.00\">Name(id=</text>\n",
       "</g>\n",
       "<!-- 141&#45;&gt;142 -->\n",
       "<g id=\"edge142\" class=\"edge\">\n",
       "<title>141&#45;&gt;142</title>\n",
       "<path fill=\"none\" stroke=\"black\" d=\"M1302.75,-502.51C1290.65,-494.93 1269.75,-481.83 1254.45,-472.25\"/>\n",
       "<polygon fill=\"black\" stroke=\"black\" points=\"1256.55,-469.43 1246.21,-467.09 1252.83,-475.36 1256.55,-469.43\"/>\n",
       "</g>\n",
       "<!-- 143 -->\n",
       "<g id=\"node144\" class=\"node\">\n",
       "<title>143</title>\n",
       "<text text-anchor=\"middle\" x=\"1314.5\" y=\"-453.2\" font-family=\"Times,serif\" font-size=\"14.00\">&lt;identifier&gt;</text>\n",
       "</g>\n",
       "<!-- 141&#45;&gt;143 -->\n",
       "<g id=\"edge143\" class=\"edge\">\n",
       "<title>141&#45;&gt;143</title>\n",
       "<path fill=\"none\" stroke=\"black\" d=\"M1312.75,-502.71C1313,-496.49 1313.42,-486.4 1313.78,-477.64\"/>\n",
       "<polygon fill=\"black\" stroke=\"black\" points=\"1317.27,-477.99 1314.19,-467.85 1310.28,-477.7 1317.27,-477.99\"/>\n",
       "</g>\n",
       "<!-- 150 -->\n",
       "<g id=\"node151\" class=\"node\">\n",
       "<title>150</title>\n",
       "<text text-anchor=\"middle\" x=\"1401.5\" y=\"-453.2\" font-family=\"Times,serif\" font-size=\"14.00\">, ctx=Load())</text>\n",
       "</g>\n",
       "<!-- 141&#45;&gt;150 -->\n",
       "<g id=\"edge150\" class=\"edge\">\n",
       "<title>141&#45;&gt;150</title>\n",
       "<path fill=\"none\" stroke=\"black\" d=\"M1323.77,-502.51C1337.95,-494.83 1362.58,-481.47 1380.32,-471.86\"/>\n",
       "<polygon fill=\"black\" stroke=\"black\" points=\"1381.87,-475 1388.99,-467.16 1378.53,-468.85 1381.87,-475\"/>\n",
       "</g>\n",
       "<!-- 144 -->\n",
       "<g id=\"node145\" class=\"node\">\n",
       "<title>144</title>\n",
       "<text text-anchor=\"middle\" x=\"1268.5\" y=\"-402.95\" font-family=\"Times,serif\" font-size=\"14.00\">&#39; (39)</text>\n",
       "</g>\n",
       "<!-- 143&#45;&gt;144 -->\n",
       "<g id=\"edge144\" class=\"edge\">\n",
       "<title>143&#45;&gt;144</title>\n",
       "<path fill=\"none\" stroke=\"black\" d=\"M1308.86,-452.46C1302.24,-445.51 1291.03,-433.75 1282.1,-424.39\"/>\n",
       "<polygon fill=\"black\" stroke=\"black\" points=\"1284.66,-422.01 1275.23,-417.19 1279.6,-426.84 1284.66,-422.01\"/>\n",
       "</g>\n",
       "<!-- 145 -->\n",
       "<g id=\"node146\" class=\"node\">\n",
       "<title>145</title>\n",
       "<text text-anchor=\"middle\" x=\"1314.5\" y=\"-402.95\" font-family=\"Times,serif\" font-size=\"14.00\">&lt;id&gt;</text>\n",
       "</g>\n",
       "<!-- 143&#45;&gt;145 -->\n",
       "<g id=\"edge145\" class=\"edge\">\n",
       "<title>143&#45;&gt;145</title>\n",
       "<path fill=\"none\" stroke=\"black\" d=\"M1314.5,-452.46C1314.5,-446.24 1314.5,-436.15 1314.5,-427.39\"/>\n",
       "<polygon fill=\"black\" stroke=\"black\" points=\"1318,-427.6 1314.5,-417.6 1311,-427.6 1318,-427.6\"/>\n",
       "</g>\n",
       "<!-- 149 -->\n",
       "<g id=\"node150\" class=\"node\">\n",
       "<title>149</title>\n",
       "<text text-anchor=\"middle\" x=\"1360.5\" y=\"-402.95\" font-family=\"Times,serif\" font-size=\"14.00\">&#39; (39)</text>\n",
       "</g>\n",
       "<!-- 143&#45;&gt;149 -->\n",
       "<g id=\"edge149\" class=\"edge\">\n",
       "<title>143&#45;&gt;149</title>\n",
       "<path fill=\"none\" stroke=\"black\" d=\"M1320.14,-452.46C1326.76,-445.51 1337.97,-433.75 1346.9,-424.39\"/>\n",
       "<polygon fill=\"black\" stroke=\"black\" points=\"1349.4,-426.84 1353.77,-417.19 1344.34,-422.01 1349.4,-426.84\"/>\n",
       "</g>\n",
       "<!-- 146 -->\n",
       "<g id=\"node147\" class=\"node\">\n",
       "<title>146</title>\n",
       "<text text-anchor=\"middle\" x=\"1282.5\" y=\"-352.7\" font-family=\"Times,serif\" font-size=\"14.00\">&lt;id_start&gt;</text>\n",
       "</g>\n",
       "<!-- 145&#45;&gt;146 -->\n",
       "<g id=\"edge146\" class=\"edge\">\n",
       "<title>145&#45;&gt;146</title>\n",
       "<path fill=\"none\" stroke=\"black\" d=\"M1310.58,-402.21C1306.16,-395.55 1298.82,-384.48 1292.74,-375.32\"/>\n",
       "<polygon fill=\"black\" stroke=\"black\" points=\"1295.74,-373.5 1287.29,-367.1 1289.9,-377.37 1295.74,-373.5\"/>\n",
       "</g>\n",
       "<!-- 148 -->\n",
       "<g id=\"node149\" class=\"node\">\n",
       "<title>148</title>\n",
       "<text text-anchor=\"middle\" x=\"1374.5\" y=\"-352.7\" font-family=\"Times,serif\" font-size=\"14.00\">&lt;id_continue&#45;1&gt;</text>\n",
       "</g>\n",
       "<!-- 145&#45;&gt;148 -->\n",
       "<g id=\"edge148\" class=\"edge\">\n",
       "<title>145&#45;&gt;148</title>\n",
       "<path fill=\"none\" stroke=\"black\" d=\"M1321.86,-402.21C1330.85,-394.97 1346.35,-382.52 1358.2,-372.98\"/>\n",
       "<polygon fill=\"black\" stroke=\"black\" points=\"1360.3,-375.78 1365.9,-366.79 1355.92,-370.33 1360.3,-375.78\"/>\n",
       "</g>\n",
       "<!-- 147 -->\n",
       "<g id=\"node148\" class=\"node\">\n",
       "<title>147</title>\n",
       "<text text-anchor=\"middle\" x=\"1282.5\" y=\"-302.45\" font-family=\"Times,serif\" font-size=\"14.00\">b (98)</text>\n",
       "</g>\n",
       "<!-- 146&#45;&gt;147 -->\n",
       "<g id=\"edge147\" class=\"edge\">\n",
       "<title>146&#45;&gt;147</title>\n",
       "<path fill=\"none\" stroke=\"black\" d=\"M1282.5,-351.96C1282.5,-345.74 1282.5,-335.65 1282.5,-326.89\"/>\n",
       "<polygon fill=\"black\" stroke=\"black\" points=\"1286,-327.1 1282.5,-317.1 1279,-327.1 1286,-327.1\"/>\n",
       "</g>\n",
       "<!-- 156 -->\n",
       "<g id=\"node157\" class=\"node\">\n",
       "<title>156</title>\n",
       "<text text-anchor=\"middle\" x=\"1379.5\" y=\"-704.45\" font-family=\"Times,serif\" font-size=\"14.00\">&lt;stmt&gt;</text>\n",
       "</g>\n",
       "<!-- 155&#45;&gt;156 -->\n",
       "<g id=\"edge156\" class=\"edge\">\n",
       "<title>155&#45;&gt;156</title>\n",
       "<path fill=\"none\" stroke=\"black\" d=\"M1312.25,-753.76C1324.35,-746.18 1345.25,-733.08 1360.55,-723.5\"/>\n",
       "<polygon fill=\"black\" stroke=\"black\" points=\"1362.17,-726.61 1368.79,-718.34 1358.45,-720.68 1362.17,-726.61\"/>\n",
       "</g>\n",
       "<!-- 157 -->\n",
       "<g id=\"node158\" class=\"node\">\n",
       "<title>157</title>\n",
       "<text text-anchor=\"middle\" x=\"1455.5\" y=\"-654.2\" font-family=\"Times,serif\" font-size=\"14.00\">&lt;Return&gt;</text>\n",
       "</g>\n",
       "<!-- 156&#45;&gt;157 -->\n",
       "<g id=\"edge157\" class=\"edge\">\n",
       "<title>156&#45;&gt;157</title>\n",
       "<path fill=\"none\" stroke=\"black\" d=\"M1389.13,-703.51C1401.07,-695.93 1421.7,-682.83 1436.8,-673.25\"/>\n",
       "<polygon fill=\"black\" stroke=\"black\" points=\"1438.35,-676.41 1444.91,-668.1 1434.59,-670.5 1438.35,-676.41\"/>\n",
       "</g>\n",
       "<!-- 158 -->\n",
       "<g id=\"node159\" class=\"node\">\n",
       "<title>158</title>\n",
       "<text text-anchor=\"middle\" x=\"1385.5\" y=\"-603.95\" font-family=\"Times,serif\" font-size=\"14.00\">Return(value=</text>\n",
       "</g>\n",
       "<!-- 157&#45;&gt;158 -->\n",
       "<g id=\"edge158\" class=\"edge\">\n",
       "<title>157&#45;&gt;158</title>\n",
       "<path fill=\"none\" stroke=\"black\" d=\"M1446.63,-653.26C1435.85,-645.83 1417.36,-633.09 1403.53,-623.56\"/>\n",
       "<polygon fill=\"black\" stroke=\"black\" points=\"1405.54,-620.69 1395.32,-617.89 1401.57,-626.45 1405.54,-620.69\"/>\n",
       "</g>\n",
       "<!-- 159 -->\n",
       "<g id=\"node160\" class=\"node\">\n",
       "<title>159</title>\n",
       "<text text-anchor=\"middle\" x=\"1463.5\" y=\"-603.95\" font-family=\"Times,serif\" font-size=\"14.00\">&lt;expr&gt;</text>\n",
       "</g>\n",
       "<!-- 157&#45;&gt;159 -->\n",
       "<g id=\"edge159\" class=\"edge\">\n",
       "<title>157&#45;&gt;159</title>\n",
       "<path fill=\"none\" stroke=\"black\" d=\"M1456.48,-653.46C1457.51,-647.24 1459.18,-637.15 1460.64,-628.39\"/>\n",
       "<polygon fill=\"black\" stroke=\"black\" points=\"1464.08,-629.02 1462.26,-618.58 1457.17,-627.88 1464.08,-629.02\"/>\n",
       "</g>\n",
       "<!-- 188 -->\n",
       "<g id=\"node189\" class=\"node\">\n",
       "<title>188</title>\n",
       "<text text-anchor=\"middle\" x=\"1517.5\" y=\"-603.95\" font-family=\"Times,serif\" font-size=\"14.00\">) (41)</text>\n",
       "</g>\n",
       "<!-- 157&#45;&gt;188 -->\n",
       "<g id=\"edge188\" class=\"edge\">\n",
       "<title>157&#45;&gt;188</title>\n",
       "<path fill=\"none\" stroke=\"black\" d=\"M1463.35,-653.26C1472.81,-645.9 1488.96,-633.34 1501.17,-623.84\"/>\n",
       "<polygon fill=\"black\" stroke=\"black\" points=\"1502.97,-626.87 1508.71,-617.96 1498.67,-621.34 1502.97,-626.87\"/>\n",
       "</g>\n",
       "<!-- 160 -->\n",
       "<g id=\"node161\" class=\"node\">\n",
       "<title>160</title>\n",
       "<text text-anchor=\"middle\" x=\"1478.5\" y=\"-553.7\" font-family=\"Times,serif\" font-size=\"14.00\">&lt;Name&gt;</text>\n",
       "</g>\n",
       "<!-- 159&#45;&gt;160 -->\n",
       "<g id=\"edge160\" class=\"edge\">\n",
       "<title>159&#45;&gt;160</title>\n",
       "<path fill=\"none\" stroke=\"black\" d=\"M1465.34,-603.21C1467.3,-596.91 1470.48,-586.67 1473.23,-577.83\"/>\n",
       "<polygon fill=\"black\" stroke=\"black\" points=\"1476.57,-578.87 1476.2,-568.29 1469.89,-576.8 1476.57,-578.87\"/>\n",
       "</g>\n",
       "<!-- 161 -->\n",
       "<g id=\"node162\" class=\"node\">\n",
       "<title>161</title>\n",
       "<text text-anchor=\"middle\" x=\"1408.5\" y=\"-503.45\" font-family=\"Times,serif\" font-size=\"14.00\">Name(id=</text>\n",
       "</g>\n",
       "<!-- 160&#45;&gt;161 -->\n",
       "<g id=\"edge161\" class=\"edge\">\n",
       "<title>160&#45;&gt;161</title>\n",
       "<path fill=\"none\" stroke=\"black\" d=\"M1469.63,-552.76C1458.85,-545.33 1440.36,-532.59 1426.53,-523.06\"/>\n",
       "<polygon fill=\"black\" stroke=\"black\" points=\"1428.54,-520.19 1418.32,-517.39 1424.57,-525.95 1428.54,-520.19\"/>\n",
       "</g>\n",
       "<!-- 162 -->\n",
       "<g id=\"node163\" class=\"node\">\n",
       "<title>162</title>\n",
       "<text text-anchor=\"middle\" x=\"1487.5\" y=\"-503.45\" font-family=\"Times,serif\" font-size=\"14.00\">&lt;identifier&gt;</text>\n",
       "</g>\n",
       "<!-- 160&#45;&gt;162 -->\n",
       "<g id=\"edge162\" class=\"edge\">\n",
       "<title>160&#45;&gt;162</title>\n",
       "<path fill=\"none\" stroke=\"black\" d=\"M1479.6,-552.96C1480.76,-546.74 1482.65,-536.65 1484.28,-527.89\"/>\n",
       "<polygon fill=\"black\" stroke=\"black\" points=\"1487.72,-528.55 1486.11,-518.08 1480.84,-527.27 1487.72,-528.55\"/>\n",
       "</g>\n",
       "<!-- 187 -->\n",
       "<g id=\"node188\" class=\"node\">\n",
       "<title>187</title>\n",
       "<text text-anchor=\"middle\" x=\"1574.5\" y=\"-503.45\" font-family=\"Times,serif\" font-size=\"14.00\">, ctx=Load())</text>\n",
       "</g>\n",
       "<!-- 160&#45;&gt;187 -->\n",
       "<g id=\"edge187\" class=\"edge\">\n",
       "<title>160&#45;&gt;187</title>\n",
       "<path fill=\"none\" stroke=\"black\" d=\"M1490.66,-552.76C1506.09,-545.01 1533.02,-531.47 1552.19,-521.84\"/>\n",
       "<polygon fill=\"black\" stroke=\"black\" points=\"1553.72,-524.98 1561.09,-517.37 1550.58,-518.73 1553.72,-524.98\"/>\n",
       "</g>\n",
       "<!-- 163 -->\n",
       "<g id=\"node164\" class=\"node\">\n",
       "<title>163</title>\n",
       "<text text-anchor=\"middle\" x=\"1470.5\" y=\"-453.2\" font-family=\"Times,serif\" font-size=\"14.00\">&#39; (39)</text>\n",
       "</g>\n",
       "<!-- 162&#45;&gt;163 -->\n",
       "<g id=\"edge163\" class=\"edge\">\n",
       "<title>162&#45;&gt;163</title>\n",
       "<path fill=\"none\" stroke=\"black\" d=\"M1485.42,-502.71C1483.17,-496.34 1479.5,-485.93 1476.37,-477.03\"/>\n",
       "<polygon fill=\"black\" stroke=\"black\" points=\"1479.73,-476.04 1473.1,-467.77 1473.13,-478.36 1479.73,-476.04\"/>\n",
       "</g>\n",
       "<!-- 164 -->\n",
       "<g id=\"node165\" class=\"node\">\n",
       "<title>164</title>\n",
       "<text text-anchor=\"middle\" x=\"1516.5\" y=\"-453.2\" font-family=\"Times,serif\" font-size=\"14.00\">&lt;id&gt;</text>\n",
       "</g>\n",
       "<!-- 162&#45;&gt;164 -->\n",
       "<g id=\"edge164\" class=\"edge\">\n",
       "<title>162&#45;&gt;164</title>\n",
       "<path fill=\"none\" stroke=\"black\" d=\"M1491.06,-502.71C1495.01,-496.12 1501.57,-485.22 1507.04,-476.12\"/>\n",
       "<polygon fill=\"black\" stroke=\"black\" points=\"1509.98,-478.01 1512.14,-467.64 1503.98,-474.41 1509.98,-478.01\"/>\n",
       "</g>\n",
       "<!-- 186 -->\n",
       "<g id=\"node187\" class=\"node\">\n",
       "<title>186</title>\n",
       "<text text-anchor=\"middle\" x=\"1562.5\" y=\"-453.2\" font-family=\"Times,serif\" font-size=\"14.00\">&#39; (39)</text>\n",
       "</g>\n",
       "<!-- 162&#45;&gt;186 -->\n",
       "<g id=\"edge186\" class=\"edge\">\n",
       "<title>162&#45;&gt;186</title>\n",
       "<path fill=\"none\" stroke=\"black\" d=\"M1497,-502.51C1508.78,-494.93 1529.14,-481.83 1544.04,-472.25\"/>\n",
       "<polygon fill=\"black\" stroke=\"black\" points=\"1545.52,-475.46 1552.04,-467.1 1541.74,-469.57 1545.52,-475.46\"/>\n",
       "</g>\n",
       "<!-- 165 -->\n",
       "<g id=\"node166\" class=\"node\">\n",
       "<title>165</title>\n",
       "<text text-anchor=\"middle\" x=\"1456.5\" y=\"-402.95\" font-family=\"Times,serif\" font-size=\"14.00\">&lt;id_start&gt;</text>\n",
       "</g>\n",
       "<!-- 164&#45;&gt;165 -->\n",
       "<g id=\"edge165\" class=\"edge\">\n",
       "<title>164&#45;&gt;165</title>\n",
       "<path fill=\"none\" stroke=\"black\" d=\"M1509.14,-452.46C1500.15,-445.22 1484.65,-432.77 1472.8,-423.23\"/>\n",
       "<polygon fill=\"black\" stroke=\"black\" points=\"1475.08,-420.58 1465.1,-417.04 1470.7,-426.03 1475.08,-420.58\"/>\n",
       "</g>\n",
       "<!-- 167 -->\n",
       "<g id=\"node168\" class=\"node\">\n",
       "<title>167</title>\n",
       "<text text-anchor=\"middle\" x=\"1548.5\" y=\"-402.95\" font-family=\"Times,serif\" font-size=\"14.00\">&lt;id_continue&#45;1&gt;</text>\n",
       "</g>\n",
       "<!-- 164&#45;&gt;167 -->\n",
       "<g id=\"edge167\" class=\"edge\">\n",
       "<title>164&#45;&gt;167</title>\n",
       "<path fill=\"none\" stroke=\"black\" d=\"M1520.42,-452.46C1524.84,-445.8 1532.18,-434.73 1538.26,-425.57\"/>\n",
       "<polygon fill=\"black\" stroke=\"black\" points=\"1541.1,-427.62 1543.71,-417.35 1535.26,-423.75 1541.1,-427.62\"/>\n",
       "</g>\n",
       "<!-- 166 -->\n",
       "<g id=\"node167\" class=\"node\">\n",
       "<title>166</title>\n",
       "<text text-anchor=\"middle\" x=\"1456.5\" y=\"-352.7\" font-family=\"Times,serif\" font-size=\"14.00\">t (116)</text>\n",
       "</g>\n",
       "<!-- 165&#45;&gt;166 -->\n",
       "<g id=\"edge166\" class=\"edge\">\n",
       "<title>165&#45;&gt;166</title>\n",
       "<path fill=\"none\" stroke=\"black\" d=\"M1456.5,-402.21C1456.5,-395.99 1456.5,-385.9 1456.5,-377.14\"/>\n",
       "<polygon fill=\"black\" stroke=\"black\" points=\"1460,-377.35 1456.5,-367.35 1453,-377.35 1460,-377.35\"/>\n",
       "</g>\n",
       "<!-- 168 -->\n",
       "<g id=\"node169\" class=\"node\">\n",
       "<title>168</title>\n",
       "<text text-anchor=\"middle\" x=\"1540.5\" y=\"-352.7\" font-family=\"Times,serif\" font-size=\"14.00\">&lt;id_continue&gt;</text>\n",
       "</g>\n",
       "<!-- 167&#45;&gt;168 -->\n",
       "<g id=\"edge168\" class=\"edge\">\n",
       "<title>167&#45;&gt;168</title>\n",
       "<path fill=\"none\" stroke=\"black\" d=\"M1547.52,-402.21C1546.49,-395.99 1544.82,-385.9 1543.36,-377.14\"/>\n",
       "<polygon fill=\"black\" stroke=\"black\" points=\"1546.83,-376.63 1541.74,-367.33 1539.92,-377.77 1546.83,-376.63\"/>\n",
       "</g>\n",
       "<!-- 170 -->\n",
       "<g id=\"node171\" class=\"node\">\n",
       "<title>170</title>\n",
       "<text text-anchor=\"middle\" x=\"1644.5\" y=\"-352.7\" font-family=\"Times,serif\" font-size=\"14.00\">&lt;id_continue&#45;1&gt;</text>\n",
       "</g>\n",
       "<!-- 167&#45;&gt;170 -->\n",
       "<g id=\"edge170\" class=\"edge\">\n",
       "<title>167&#45;&gt;170</title>\n",
       "<path fill=\"none\" stroke=\"black\" d=\"M1560.66,-402.01C1576.09,-394.26 1603.02,-380.72 1622.19,-371.09\"/>\n",
       "<polygon fill=\"black\" stroke=\"black\" points=\"1623.72,-374.23 1631.09,-366.62 1620.58,-367.98 1623.72,-374.23\"/>\n",
       "</g>\n",
       "<!-- 169 -->\n",
       "<g id=\"node170\" class=\"node\">\n",
       "<title>169</title>\n",
       "<text text-anchor=\"middle\" x=\"1540.5\" y=\"-302.45\" font-family=\"Times,serif\" font-size=\"14.00\">h (104)</text>\n",
       "</g>\n",
       "<!-- 168&#45;&gt;169 -->\n",
       "<g id=\"edge169\" class=\"edge\">\n",
       "<title>168&#45;&gt;169</title>\n",
       "<path fill=\"none\" stroke=\"black\" d=\"M1540.5,-351.96C1540.5,-345.74 1540.5,-335.65 1540.5,-326.89\"/>\n",
       "<polygon fill=\"black\" stroke=\"black\" points=\"1544,-327.1 1540.5,-317.1 1537,-327.1 1544,-327.1\"/>\n",
       "</g>\n",
       "<!-- 171 -->\n",
       "<g id=\"node172\" class=\"node\">\n",
       "<title>171</title>\n",
       "<text text-anchor=\"middle\" x=\"1631.5\" y=\"-302.45\" font-family=\"Times,serif\" font-size=\"14.00\">&lt;id_continue&gt;</text>\n",
       "</g>\n",
       "<!-- 170&#45;&gt;171 -->\n",
       "<g id=\"edge171\" class=\"edge\">\n",
       "<title>170&#45;&gt;171</title>\n",
       "<path fill=\"none\" stroke=\"black\" d=\"M1642.91,-351.96C1641.21,-345.66 1638.45,-335.42 1636.07,-326.58\"/>\n",
       "<polygon fill=\"black\" stroke=\"black\" points=\"1639.48,-325.8 1633.5,-317.05 1632.72,-327.62 1639.48,-325.8\"/>\n",
       "</g>\n",
       "<!-- 173 -->\n",
       "<g id=\"node174\" class=\"node\">\n",
       "<title>173</title>\n",
       "<text text-anchor=\"middle\" x=\"1735.5\" y=\"-302.45\" font-family=\"Times,serif\" font-size=\"14.00\">&lt;id_continue&#45;1&gt;</text>\n",
       "</g>\n",
       "<!-- 170&#45;&gt;173 -->\n",
       "<g id=\"edge173\" class=\"edge\">\n",
       "<title>170&#45;&gt;173</title>\n",
       "<path fill=\"none\" stroke=\"black\" d=\"M1656.03,-351.76C1670.59,-344.04 1695.94,-330.6 1714.1,-320.97\"/>\n",
       "<polygon fill=\"black\" stroke=\"black\" points=\"1715.54,-324.17 1722.73,-316.4 1712.26,-317.99 1715.54,-324.17\"/>\n",
       "</g>\n",
       "<!-- 172 -->\n",
       "<g id=\"node173\" class=\"node\">\n",
       "<title>172</title>\n",
       "<text text-anchor=\"middle\" x=\"1631.5\" y=\"-252.2\" font-family=\"Times,serif\" font-size=\"14.00\">e (101)</text>\n",
       "</g>\n",
       "<!-- 171&#45;&gt;172 -->\n",
       "<g id=\"edge172\" class=\"edge\">\n",
       "<title>171&#45;&gt;172</title>\n",
       "<path fill=\"none\" stroke=\"black\" d=\"M1631.5,-301.71C1631.5,-295.49 1631.5,-285.4 1631.5,-276.64\"/>\n",
       "<polygon fill=\"black\" stroke=\"black\" points=\"1635,-276.85 1631.5,-266.85 1628,-276.85 1635,-276.85\"/>\n",
       "</g>\n",
       "<!-- 174 -->\n",
       "<g id=\"node175\" class=\"node\">\n",
       "<title>174</title>\n",
       "<text text-anchor=\"middle\" x=\"1722.5\" y=\"-252.2\" font-family=\"Times,serif\" font-size=\"14.00\">&lt;id_continue&gt;</text>\n",
       "</g>\n",
       "<!-- 173&#45;&gt;174 -->\n",
       "<g id=\"edge174\" class=\"edge\">\n",
       "<title>173&#45;&gt;174</title>\n",
       "<path fill=\"none\" stroke=\"black\" d=\"M1733.91,-301.71C1732.21,-295.41 1729.45,-285.17 1727.07,-276.33\"/>\n",
       "<polygon fill=\"black\" stroke=\"black\" points=\"1730.48,-275.55 1724.5,-266.8 1723.72,-277.37 1730.48,-275.55\"/>\n",
       "</g>\n",
       "<!-- 176 -->\n",
       "<g id=\"node177\" class=\"node\">\n",
       "<title>176</title>\n",
       "<text text-anchor=\"middle\" x=\"1826.5\" y=\"-252.2\" font-family=\"Times,serif\" font-size=\"14.00\">&lt;id_continue&#45;1&gt;</text>\n",
       "</g>\n",
       "<!-- 173&#45;&gt;176 -->\n",
       "<g id=\"edge176\" class=\"edge\">\n",
       "<title>173&#45;&gt;176</title>\n",
       "<path fill=\"none\" stroke=\"black\" d=\"M1747.03,-301.51C1761.59,-293.79 1786.94,-280.35 1805.1,-270.72\"/>\n",
       "<polygon fill=\"black\" stroke=\"black\" points=\"1806.54,-273.92 1813.73,-266.15 1803.26,-267.74 1806.54,-273.92\"/>\n",
       "</g>\n",
       "<!-- 175 -->\n",
       "<g id=\"node176\" class=\"node\">\n",
       "<title>175</title>\n",
       "<text text-anchor=\"middle\" x=\"1722.5\" y=\"-201.95\" font-family=\"Times,serif\" font-size=\"14.00\">_ (95)</text>\n",
       "</g>\n",
       "<!-- 174&#45;&gt;175 -->\n",
       "<g id=\"edge175\" class=\"edge\">\n",
       "<title>174&#45;&gt;175</title>\n",
       "<path fill=\"none\" stroke=\"black\" d=\"M1722.5,-251.46C1722.5,-245.24 1722.5,-235.15 1722.5,-226.39\"/>\n",
       "<polygon fill=\"black\" stroke=\"black\" points=\"1726,-226.6 1722.5,-216.6 1719,-226.6 1726,-226.6\"/>\n",
       "</g>\n",
       "<!-- 177 -->\n",
       "<g id=\"node178\" class=\"node\">\n",
       "<title>177</title>\n",
       "<text text-anchor=\"middle\" x=\"1811.5\" y=\"-201.95\" font-family=\"Times,serif\" font-size=\"14.00\">&lt;id_continue&gt;</text>\n",
       "</g>\n",
       "<!-- 176&#45;&gt;177 -->\n",
       "<g id=\"edge177\" class=\"edge\">\n",
       "<title>176&#45;&gt;177</title>\n",
       "<path fill=\"none\" stroke=\"black\" d=\"M1824.66,-251.46C1822.7,-245.16 1819.52,-234.92 1816.77,-226.08\"/>\n",
       "<polygon fill=\"black\" stroke=\"black\" points=\"1820.11,-225.05 1813.8,-216.54 1813.43,-227.12 1820.11,-225.05\"/>\n",
       "</g>\n",
       "<!-- 179 -->\n",
       "<g id=\"node180\" class=\"node\">\n",
       "<title>179</title>\n",
       "<text text-anchor=\"middle\" x=\"1915.5\" y=\"-201.95\" font-family=\"Times,serif\" font-size=\"14.00\">&lt;id_continue&#45;1&gt;</text>\n",
       "</g>\n",
       "<!-- 176&#45;&gt;179 -->\n",
       "<g id=\"edge179\" class=\"edge\">\n",
       "<title>176&#45;&gt;179</title>\n",
       "<path fill=\"none\" stroke=\"black\" d=\"M1837.77,-251.26C1851.95,-243.58 1876.58,-230.22 1894.32,-220.61\"/>\n",
       "<polygon fill=\"black\" stroke=\"black\" points=\"1895.87,-223.75 1902.99,-215.91 1892.53,-217.6 1895.87,-223.75\"/>\n",
       "</g>\n",
       "<!-- 178 -->\n",
       "<g id=\"node179\" class=\"node\">\n",
       "<title>178</title>\n",
       "<text text-anchor=\"middle\" x=\"1811.5\" y=\"-151.7\" font-family=\"Times,serif\" font-size=\"14.00\">s (115)</text>\n",
       "</g>\n",
       "<!-- 177&#45;&gt;178 -->\n",
       "<g id=\"edge178\" class=\"edge\">\n",
       "<title>177&#45;&gt;178</title>\n",
       "<path fill=\"none\" stroke=\"black\" d=\"M1811.5,-201.21C1811.5,-194.99 1811.5,-184.9 1811.5,-176.14\"/>\n",
       "<polygon fill=\"black\" stroke=\"black\" points=\"1815,-176.35 1811.5,-166.35 1808,-176.35 1815,-176.35\"/>\n",
       "</g>\n",
       "<!-- 180 -->\n",
       "<g id=\"node181\" class=\"node\">\n",
       "<title>180</title>\n",
       "<text text-anchor=\"middle\" x=\"1901.5\" y=\"-151.7\" font-family=\"Times,serif\" font-size=\"14.00\">&lt;id_continue&gt;</text>\n",
       "</g>\n",
       "<!-- 179&#45;&gt;180 -->\n",
       "<g id=\"edge180\" class=\"edge\">\n",
       "<title>179&#45;&gt;180</title>\n",
       "<path fill=\"none\" stroke=\"black\" d=\"M1913.78,-201.21C1911.96,-194.91 1908.98,-184.67 1906.42,-175.83\"/>\n",
       "<polygon fill=\"black\" stroke=\"black\" points=\"1909.8,-174.92 1903.65,-166.29 1903.08,-176.87 1909.8,-174.92\"/>\n",
       "</g>\n",
       "<!-- 182 -->\n",
       "<g id=\"node183\" class=\"node\">\n",
       "<title>182</title>\n",
       "<text text-anchor=\"middle\" x=\"2005.5\" y=\"-151.7\" font-family=\"Times,serif\" font-size=\"14.00\">&lt;id_continue&#45;1&gt;</text>\n",
       "</g>\n",
       "<!-- 179&#45;&gt;182 -->\n",
       "<g id=\"edge182\" class=\"edge\">\n",
       "<title>179&#45;&gt;182</title>\n",
       "<path fill=\"none\" stroke=\"black\" d=\"M1926.9,-201.01C1941.23,-193.33 1966.14,-179.97 1984.08,-170.36\"/>\n",
       "<polygon fill=\"black\" stroke=\"black\" points=\"1985.7,-173.46 1992.86,-165.65 1982.39,-167.29 1985.7,-173.46\"/>\n",
       "</g>\n",
       "<!-- 181 -->\n",
       "<g id=\"node182\" class=\"node\">\n",
       "<title>181</title>\n",
       "<text text-anchor=\"middle\" x=\"1901.5\" y=\"-101.45\" font-family=\"Times,serif\" font-size=\"14.00\">u (117)</text>\n",
       "</g>\n",
       "<!-- 180&#45;&gt;181 -->\n",
       "<g id=\"edge181\" class=\"edge\">\n",
       "<title>180&#45;&gt;181</title>\n",
       "<path fill=\"none\" stroke=\"black\" d=\"M1901.5,-150.96C1901.5,-144.74 1901.5,-134.65 1901.5,-125.89\"/>\n",
       "<polygon fill=\"black\" stroke=\"black\" points=\"1905,-126.1 1901.5,-116.1 1898,-126.1 1905,-126.1\"/>\n",
       "</g>\n",
       "<!-- 183 -->\n",
       "<g id=\"node184\" class=\"node\">\n",
       "<title>183</title>\n",
       "<text text-anchor=\"middle\" x=\"1992.5\" y=\"-101.45\" font-family=\"Times,serif\" font-size=\"14.00\">&lt;id_continue&gt;</text>\n",
       "</g>\n",
       "<!-- 182&#45;&gt;183 -->\n",
       "<g id=\"edge183\" class=\"edge\">\n",
       "<title>182&#45;&gt;183</title>\n",
       "<path fill=\"none\" stroke=\"black\" d=\"M2003.91,-150.96C2002.21,-144.66 1999.45,-134.42 1997.07,-125.58\"/>\n",
       "<polygon fill=\"black\" stroke=\"black\" points=\"2000.48,-124.8 1994.5,-116.05 1993.72,-126.62 2000.48,-124.8\"/>\n",
       "</g>\n",
       "<!-- 185 -->\n",
       "<g id=\"node186\" class=\"node\">\n",
       "<title>185</title>\n",
       "<text text-anchor=\"middle\" x=\"2096.5\" y=\"-101.45\" font-family=\"Times,serif\" font-size=\"14.00\">&lt;id_continue&#45;1&gt;</text>\n",
       "</g>\n",
       "<!-- 182&#45;&gt;185 -->\n",
       "<g id=\"edge185\" class=\"edge\">\n",
       "<title>182&#45;&gt;185</title>\n",
       "<path fill=\"none\" stroke=\"black\" d=\"M2017.03,-150.76C2031.59,-143.04 2056.94,-129.6 2075.1,-119.97\"/>\n",
       "<polygon fill=\"black\" stroke=\"black\" points=\"2076.54,-123.17 2083.73,-115.4 2073.26,-116.99 2076.54,-123.17\"/>\n",
       "</g>\n",
       "<!-- 184 -->\n",
       "<g id=\"node185\" class=\"node\">\n",
       "<title>184</title>\n",
       "<text text-anchor=\"middle\" x=\"1992.5\" y=\"-51.2\" font-family=\"Times,serif\" font-size=\"14.00\">m (109)</text>\n",
       "</g>\n",
       "<!-- 183&#45;&gt;184 -->\n",
       "<g id=\"edge184\" class=\"edge\">\n",
       "<title>183&#45;&gt;184</title>\n",
       "<path fill=\"none\" stroke=\"black\" d=\"M1992.5,-100.71C1992.5,-94.49 1992.5,-84.4 1992.5,-75.64\"/>\n",
       "<polygon fill=\"black\" stroke=\"black\" points=\"1996,-75.85 1992.5,-65.85 1989,-75.85 1996,-75.85\"/>\n",
       "</g>\n",
       "<!-- 191 -->\n",
       "<g id=\"node192\" class=\"node\">\n",
       "<title>191</title>\n",
       "<text text-anchor=\"middle\" x=\"1358.5\" y=\"-804.95\" font-family=\"Times,serif\" font-size=\"14.00\">, decorator_list=</text>\n",
       "</g>\n",
       "<!-- 190&#45;&gt;191 -->\n",
       "<g id=\"edge191\" class=\"edge\">\n",
       "<title>190&#45;&gt;191</title>\n",
       "<path fill=\"none\" stroke=\"black\" d=\"M1320.77,-854.46C1326.9,-847.59 1337.22,-836 1345.53,-826.68\"/>\n",
       "<polygon fill=\"black\" stroke=\"black\" points=\"1348.14,-829.01 1352.18,-819.22 1342.91,-824.36 1348.14,-829.01\"/>\n",
       "</g>\n",
       "<!-- 192 -->\n",
       "<g id=\"node193\" class=\"node\">\n",
       "<title>192</title>\n",
       "<text text-anchor=\"middle\" x=\"1453.5\" y=\"-804.95\" font-family=\"Times,serif\" font-size=\"14.00\">&lt;expr_list&gt;</text>\n",
       "</g>\n",
       "<!-- 190&#45;&gt;192 -->\n",
       "<g id=\"edge192\" class=\"edge\">\n",
       "<title>190&#45;&gt;192</title>\n",
       "<path fill=\"none\" stroke=\"black\" d=\"M1332.98,-854.26C1356.31,-846.11 1397.9,-831.57 1425.59,-821.88\"/>\n",
       "<polygon fill=\"black\" stroke=\"black\" points=\"1426.45,-825.29 1434.74,-818.69 1424.14,-818.68 1426.45,-825.29\"/>\n",
       "</g>\n",
       "<!-- 193 -->\n",
       "<g id=\"node194\" class=\"node\">\n",
       "<title>193</title>\n",
       "<text text-anchor=\"middle\" x=\"1391.5\" y=\"-754.7\" font-family=\"Times,serif\" font-size=\"14.00\">[ (91)</text>\n",
       "</g>\n",
       "<!-- 192&#45;&gt;193 -->\n",
       "<g id=\"edge193\" class=\"edge\">\n",
       "<title>192&#45;&gt;193</title>\n",
       "<path fill=\"none\" stroke=\"black\" d=\"M1445.65,-804.01C1436.19,-796.65 1420.04,-784.09 1407.83,-774.59\"/>\n",
       "<polygon fill=\"black\" stroke=\"black\" points=\"1410.33,-772.09 1400.29,-768.71 1406.03,-777.62 1410.33,-772.09\"/>\n",
       "</g>\n",
       "<!-- 194 -->\n",
       "<g id=\"node195\" class=\"node\">\n",
       "<title>194</title>\n",
       "<text text-anchor=\"middle\" x=\"1453.5\" y=\"-754.7\" font-family=\"Times,serif\" font-size=\"14.00\">&lt;exprs&#45;1&gt;</text>\n",
       "</g>\n",
       "<!-- 192&#45;&gt;194 -->\n",
       "<g id=\"edge194\" class=\"edge\">\n",
       "<title>192&#45;&gt;194</title>\n",
       "<path fill=\"none\" stroke=\"black\" d=\"M1453.5,-804.21C1453.5,-797.99 1453.5,-787.9 1453.5,-779.14\"/>\n",
       "<polygon fill=\"black\" stroke=\"black\" points=\"1457,-779.35 1453.5,-769.35 1450,-779.35 1457,-779.35\"/>\n",
       "</g>\n",
       "<!-- 195 -->\n",
       "<g id=\"node196\" class=\"node\">\n",
       "<title>195</title>\n",
       "<text text-anchor=\"middle\" x=\"1515.5\" y=\"-754.7\" font-family=\"Times,serif\" font-size=\"14.00\">] (93)</text>\n",
       "</g>\n",
       "<!-- 192&#45;&gt;195 -->\n",
       "<g id=\"edge195\" class=\"edge\">\n",
       "<title>192&#45;&gt;195</title>\n",
       "<path fill=\"none\" stroke=\"black\" d=\"M1461.35,-804.01C1470.81,-796.65 1486.96,-784.09 1499.17,-774.59\"/>\n",
       "<polygon fill=\"black\" stroke=\"black\" points=\"1500.97,-777.62 1506.71,-768.71 1496.67,-772.09 1500.97,-777.62\"/>\n",
       "</g>\n",
       "<!-- 201 -->\n",
       "<g id=\"node202\" class=\"node\">\n",
       "<title>201</title>\n",
       "<text text-anchor=\"middle\" x=\"1254.5\" y=\"-1005.95\" font-family=\"Times,serif\" font-size=\"14.00\">, type_ignores=</text>\n",
       "</g>\n",
       "<!-- 200&#45;&gt;201 -->\n",
       "<g id=\"edge201\" class=\"edge\">\n",
       "<title>200&#45;&gt;201</title>\n",
       "<path fill=\"none\" stroke=\"black\" d=\"M1258.89,-1055.46C1258.24,-1049.24 1257.2,-1039.15 1256.29,-1030.39\"/>\n",
       "<polygon fill=\"black\" stroke=\"black\" points=\"1259.79,-1030.18 1255.27,-1020.6 1252.82,-1030.9 1259.79,-1030.18\"/>\n",
       "</g>\n",
       "<!-- 202 -->\n",
       "<g id=\"node203\" class=\"node\">\n",
       "<title>202</title>\n",
       "<text text-anchor=\"middle\" x=\"1367.5\" y=\"-1005.95\" font-family=\"Times,serif\" font-size=\"14.00\">&lt;type_ignore_list&gt;</text>\n",
       "</g>\n",
       "<!-- 200&#45;&gt;202 -->\n",
       "<g id=\"edge202\" class=\"edge\">\n",
       "<title>200&#45;&gt;202</title>\n",
       "<path fill=\"none\" stroke=\"black\" d=\"M1273.18,-1055.26C1290.87,-1047.36 1321.97,-1033.46 1343.61,-1023.8\"/>\n",
       "<polygon fill=\"black\" stroke=\"black\" points=\"1344.85,-1027.08 1352.55,-1019.8 1341.99,-1020.69 1344.85,-1027.08\"/>\n",
       "</g>\n",
       "<!-- 203 -->\n",
       "<g id=\"node204\" class=\"node\">\n",
       "<title>203</title>\n",
       "<text text-anchor=\"middle\" x=\"1285.5\" y=\"-955.7\" font-family=\"Times,serif\" font-size=\"14.00\">[ (91)</text>\n",
       "</g>\n",
       "<!-- 202&#45;&gt;203 -->\n",
       "<g id=\"edge203\" class=\"edge\">\n",
       "<title>202&#45;&gt;203</title>\n",
       "<path fill=\"none\" stroke=\"black\" d=\"M1357.11,-1005.01C1344.18,-997.4 1321.79,-984.23 1305.48,-974.63\"/>\n",
       "<polygon fill=\"black\" stroke=\"black\" points=\"1307.5,-971.76 1297.11,-969.7 1303.95,-977.79 1307.5,-971.76\"/>\n",
       "</g>\n",
       "<!-- 204 -->\n",
       "<g id=\"node205\" class=\"node\">\n",
       "<title>204</title>\n",
       "<text text-anchor=\"middle\" x=\"1367.5\" y=\"-955.7\" font-family=\"Times,serif\" font-size=\"14.00\">&lt;type_ignores&#45;1&gt;</text>\n",
       "</g>\n",
       "<!-- 202&#45;&gt;204 -->\n",
       "<g id=\"edge204\" class=\"edge\">\n",
       "<title>202&#45;&gt;204</title>\n",
       "<path fill=\"none\" stroke=\"black\" d=\"M1367.5,-1005.21C1367.5,-998.99 1367.5,-988.9 1367.5,-980.14\"/>\n",
       "<polygon fill=\"black\" stroke=\"black\" points=\"1371,-980.35 1367.5,-970.35 1364,-980.35 1371,-980.35\"/>\n",
       "</g>\n",
       "<!-- 205 -->\n",
       "<g id=\"node206\" class=\"node\">\n",
       "<title>205</title>\n",
       "<text text-anchor=\"middle\" x=\"1449.5\" y=\"-955.7\" font-family=\"Times,serif\" font-size=\"14.00\">] (93)</text>\n",
       "</g>\n",
       "<!-- 202&#45;&gt;205 -->\n",
       "<g id=\"edge205\" class=\"edge\">\n",
       "<title>202&#45;&gt;205</title>\n",
       "<path fill=\"none\" stroke=\"black\" d=\"M1377.89,-1005.01C1390.82,-997.4 1413.21,-984.23 1429.52,-974.63\"/>\n",
       "<polygon fill=\"black\" stroke=\"black\" points=\"1431.05,-977.79 1437.89,-969.7 1427.5,-971.76 1431.05,-977.79\"/>\n",
       "</g>\n",
       "</g>\n",
       "</svg>\n"
      ],
      "text/plain": [
       "<graphviz.graphs.Digraph at 0x15b448110>"
      ]
     },
     "execution_count": 123,
     "metadata": {},
     "output_type": "execute_result"
    }
   ],
   "source": [
    "display_tree(sum_tree)"
   ]
  },
  {
   "cell_type": "markdown",
   "id": "4795e15c",
   "metadata": {
    "slideshow": {
     "slide_type": "subslide"
    }
   },
   "source": [
    "We see that a derivation tree consists of _nonterminal_ nodes whose children make up an _expansion_ from the grammar.\n",
    "For instance, at the very top, we see that a `<start>` nonterminal expands into a `<mod>` nonterminal, which again expands into a `<Module>` nonterminal.\n",
    "This comes right from the grammar rules"
   ]
  },
  {
   "cell_type": "code",
   "execution_count": 124,
   "id": "1b72d38a",
   "metadata": {
    "execution": {
     "iopub.execute_input": "2025-01-22T08:43:29.374171Z",
     "iopub.status.busy": "2025-01-22T08:43:29.373998Z",
     "iopub.status.idle": "2025-01-22T08:43:29.376626Z",
     "shell.execute_reply": "2025-01-22T08:43:29.376361Z"
    },
    "slideshow": {
     "slide_type": "fragment"
    }
   },
   "outputs": [
    {
     "data": {
      "text/plain": [
       "['<mod>']"
      ]
     },
     "execution_count": 124,
     "metadata": {},
     "output_type": "execute_result"
    }
   ],
   "source": [
    "python_ast_grammar['<start>']"
   ]
  },
  {
   "cell_type": "markdown",
   "id": "9385e88f",
   "metadata": {
    "slideshow": {
     "slide_type": "fragment"
    }
   },
   "source": [
    "and"
   ]
  },
  {
   "cell_type": "code",
   "execution_count": 125,
   "id": "05a3e82a",
   "metadata": {
    "execution": {
     "iopub.execute_input": "2025-01-22T08:43:29.377992Z",
     "iopub.status.busy": "2025-01-22T08:43:29.377906Z",
     "iopub.status.idle": "2025-01-22T08:43:29.379946Z",
     "shell.execute_reply": "2025-01-22T08:43:29.379731Z"
    },
    "slideshow": {
     "slide_type": "fragment"
    }
   },
   "outputs": [
    {
     "data": {
      "text/plain": [
       "['<Module>']"
      ]
     },
     "execution_count": 125,
     "metadata": {},
     "output_type": "execute_result"
    }
   ],
   "source": [
    "python_ast_grammar['<mod>']"
   ]
  },
  {
   "cell_type": "markdown",
   "id": "4e6bbb2a",
   "metadata": {
    "slideshow": {
     "slide_type": "subslide"
    }
   },
   "source": [
    "The child of `<mod>` is a `<Module>`, which expands into the nodes\n",
    "\n",
    "* `(body=`\n",
    "* `<nonempty_stmt_list>`\n",
    "* `, type_ignores=`\n",
    "* `<type_ignore_list>`\n",
    "* `)`\n",
    "\n",
    "Here, nodes like `(body=` or `, type_ignores=` are called _terminal_ nodes (because they have no more elements to expand).\n",
    "The nonterminals like `<nonempty_stmt_list>` get expanded further below – notably, `<nonempty_stmt_list>` expands into a `<FunctionDef>` node that represents the `sum()` definition."
   ]
  },
  {
   "cell_type": "markdown",
   "id": "82dcebd3",
   "metadata": {
    "slideshow": {
     "slide_type": "subslide"
    }
   },
   "source": [
    "Again, the structure exactly follows the `<Module>` definition in our grammar:"
   ]
  },
  {
   "cell_type": "code",
   "execution_count": 126,
   "id": "f8475ade",
   "metadata": {
    "execution": {
     "iopub.execute_input": "2025-01-22T08:43:29.381326Z",
     "iopub.status.busy": "2025-01-22T08:43:29.381226Z",
     "iopub.status.idle": "2025-01-22T08:43:29.383236Z",
     "shell.execute_reply": "2025-01-22T08:43:29.382998Z"
    },
    "slideshow": {
     "slide_type": "fragment"
    }
   },
   "outputs": [
    {
     "data": {
      "text/plain": [
       "['Module(body=<nonempty_stmt_list><type_ignore_param>)']"
      ]
     },
     "execution_count": 126,
     "metadata": {},
     "output_type": "execute_result"
    }
   ],
   "source": [
    "python_ast_grammar['<Module>']"
   ]
  },
  {
   "cell_type": "markdown",
   "id": "9da2eafb",
   "metadata": {
    "slideshow": {
     "slide_type": "fragment"
    }
   },
   "source": [
    "If we traverse the tree depth-first, left to right, and only collect the terminal symbols, we obtain the original string we parsed.\n",
    "Applying the `str()` function to the derivation tree gets us exactly that string:"
   ]
  },
  {
   "cell_type": "code",
   "execution_count": 127,
   "id": "05407123",
   "metadata": {
    "execution": {
     "iopub.execute_input": "2025-01-22T08:43:29.384850Z",
     "iopub.status.busy": "2025-01-22T08:43:29.384750Z",
     "iopub.status.idle": "2025-01-22T08:43:29.387232Z",
     "shell.execute_reply": "2025-01-22T08:43:29.386996Z"
    },
    "slideshow": {
     "slide_type": "fragment"
    }
   },
   "outputs": [
    {
     "data": {
      "text/plain": [
       "\"Module(body=[FunctionDef(name='sum', args=arguments(posonlyargs=[], args=[arg(arg='a'), arg(arg='b')], kwonlyargs=[], kw_defaults=[], defaults=[]), body=[Assign(targets=[Name(id='the_sum', ctx=Store())], value=BinOp(left=Name(id='a', ctx=Load()), op=Add(), right=Name(id='b', ctx=Load()))), Return(value=Name(id='the_sum', ctx=Load()))], decorator_list=[])], type_ignores=[])\""
      ]
     },
     "execution_count": 127,
     "metadata": {},
     "output_type": "execute_result"
    }
   ],
   "source": [
    "str(sum_tree)"
   ]
  },
  {
   "cell_type": "markdown",
   "id": "ceef32b9",
   "metadata": {
    "slideshow": {
     "slide_type": "fragment"
    }
   },
   "source": [
    "And again, we can convert this string into an AST and thus obtain our original function:"
   ]
  },
  {
   "cell_type": "code",
   "execution_count": 128,
   "id": "32811a22",
   "metadata": {
    "execution": {
     "iopub.execute_input": "2025-01-22T08:43:29.388631Z",
     "iopub.status.busy": "2025-01-22T08:43:29.388532Z",
     "iopub.status.idle": "2025-01-22T08:43:29.390414Z",
     "shell.execute_reply": "2025-01-22T08:43:29.390214Z"
    },
    "slideshow": {
     "slide_type": "subslide"
    }
   },
   "outputs": [
    {
     "name": "stdout",
     "output_type": "stream",
     "text": [
      "def sum(a, b):\n",
      "    the_sum = a + b\n",
      "    return the_sum\n"
     ]
    }
   ],
   "source": [
    "sum_ast = ast.fix_missing_locations(eval(str(sum_tree)))\n",
    "print(ast.unparse(sum_ast))"
   ]
  },
  {
   "cell_type": "markdown",
   "id": "0e6e6132",
   "metadata": {
    "slideshow": {
     "slide_type": "subslide"
    }
   },
   "source": [
    "### Mutating Inputs"
   ]
  },
  {
   "cell_type": "markdown",
   "id": "c52f80f8",
   "metadata": {
    "slideshow": {
     "slide_type": "fragment"
    }
   },
   "source": [
    "With derivation trees, we can have a _structured_ representation of our input. In our case, we already have that with ASTs, so why bother introducing a new one? The answer is simple: Derivation trees also allow us to _synthesize_ new inputs, because we have a _grammar_ that describes their structure."
   ]
  },
  {
   "cell_type": "markdown",
   "id": "a7d96d78",
   "metadata": {
    "slideshow": {
     "slide_type": "subslide"
    }
   },
   "source": [
    "Most notably, we can mutate inputs as follows:\n",
    "\n",
    "1. Parse the input into a derivation tree, as shown above.\n",
    "2. Randomly choose some node `<symbol>` in the derivation tree to be mutated.\n",
    "3. Use the grammar to produce a new expansion for `<symbol>`.\n",
    "4. Replace the children of `<symbol>` by the expansion just generated.\n",
    "5. Repeat the process as often as needed.\n",
    "\n",
    "This is a decent programming task, and if you'd like a blueprint, have a look at the `FragmentMutator` in this tutorial on [greybox fuzzing with grammars](https://www.fuzzingbook.org/html/GreyboxGrammarFuzzer.html)."
   ]
  },
  {
   "cell_type": "markdown",
   "id": "31fb2eef",
   "metadata": {
    "slideshow": {
     "slide_type": "subslide"
    }
   },
   "source": [
    "Fortunately, ISLa already provides us with functionality that does exactly this.\n",
    "The `ISLaSolver.mutate()` method takes an input and mutates it according to the rules in the grammar.\n",
    "The input to mutate can be given as a derivation tree, or as a string; its output is a derivation tree (which can again be converted into a string)."
   ]
  },
  {
   "cell_type": "markdown",
   "id": "5012e547",
   "metadata": {
    "slideshow": {
     "slide_type": "fragment"
    }
   },
   "source": [
    "Let us apply `mutate()` on our `sum()` function. The `min_mutations` and `max_mutations` parameters define how many mutation steps should be performed; we set both to 1 in order to have exactly one mutation."
   ]
  },
  {
   "cell_type": "code",
   "execution_count": 129,
   "id": "b46431f7",
   "metadata": {
    "execution": {
     "iopub.execute_input": "2025-01-22T08:43:29.391810Z",
     "iopub.status.busy": "2025-01-22T08:43:29.391725Z",
     "iopub.status.idle": "2025-01-22T08:43:31.609866Z",
     "shell.execute_reply": "2025-01-22T08:43:31.608570Z"
    },
    "slideshow": {
     "slide_type": "fragment"
    }
   },
   "outputs": [],
   "source": [
    "sum_mutated_tree = solver.mutate(sum_str, min_mutations=1, max_mutations=1)"
   ]
  },
  {
   "cell_type": "code",
   "execution_count": 130,
   "id": "d17d206c",
   "metadata": {
    "execution": {
     "iopub.execute_input": "2025-01-22T08:43:31.612692Z",
     "iopub.status.busy": "2025-01-22T08:43:31.612536Z",
     "iopub.status.idle": "2025-01-22T08:43:31.615534Z",
     "shell.execute_reply": "2025-01-22T08:43:31.615085Z"
    },
    "slideshow": {
     "slide_type": "subslide"
    }
   },
   "outputs": [
    {
     "name": "stdout",
     "output_type": "stream",
     "text": [
      "def sum(a, b):\n",
      "    the_sum = a + b\n",
      "    return the_sum\n"
     ]
    }
   ],
   "source": [
    "sum_mutated_ast = ast.fix_missing_locations(eval(str(sum_mutated_tree)))\n",
    "print(ast.unparse(sum_mutated_ast))"
   ]
  },
  {
   "cell_type": "markdown",
   "id": "d79f9239",
   "metadata": {
    "slideshow": {
     "slide_type": "fragment"
    }
   },
   "source": [
    "Toy with the above to see the effect of a mutation.\n",
    "Note if one of the top-level nodes (like `<FunctionDef>` or `<Module>`) is selected for mutation, then `sum()` will be replaced by something entirely different. Otherwise, though, the code will still be pretty similar to the original `sum()` code."
   ]
  },
  {
   "cell_type": "markdown",
   "id": "e1b6c4b3",
   "metadata": {
    "slideshow": {
     "slide_type": "fragment"
    }
   },
   "source": [
    "Of course, the more we increase the number of mutations, the more different the code will look like:"
   ]
  },
  {
   "cell_type": "code",
   "execution_count": 131,
   "id": "607504b1",
   "metadata": {
    "execution": {
     "iopub.execute_input": "2025-01-22T08:43:31.617934Z",
     "iopub.status.busy": "2025-01-22T08:43:31.617815Z",
     "iopub.status.idle": "2025-01-22T08:43:32.382526Z",
     "shell.execute_reply": "2025-01-22T08:43:32.381739Z"
    },
    "slideshow": {
     "slide_type": "fragment"
    }
   },
   "outputs": [],
   "source": [
    "sum_mutated_tree = solver.mutate(sum_str, min_mutations=10, max_mutations=20)"
   ]
  },
  {
   "cell_type": "code",
   "execution_count": 132,
   "id": "0ce09320",
   "metadata": {
    "execution": {
     "iopub.execute_input": "2025-01-22T08:43:32.384771Z",
     "iopub.status.busy": "2025-01-22T08:43:32.384657Z",
     "iopub.status.idle": "2025-01-22T08:43:32.387583Z",
     "shell.execute_reply": "2025-01-22T08:43:32.387308Z"
    },
    "slideshow": {
     "slide_type": "subslide"
    }
   },
   "outputs": [
    {
     "name": "stdout",
     "output_type": "stream",
     "text": [
      "def sum(a, b):\n",
      "    the_9GuWCvL4cpgyi37K5I_ = a + b\n",
      "    return the_jXHPe1oqMG\n"
     ]
    }
   ],
   "source": [
    "sum_mutated_ast = ast.fix_missing_locations(eval(str(sum_mutated_tree)))\n",
    "print(ast.unparse(sum_mutated_ast))"
   ]
  },
  {
   "cell_type": "markdown",
   "id": "dd27a468",
   "metadata": {
    "slideshow": {
     "slide_type": "fragment"
    }
   },
   "source": [
    "By toying with the `mutate()` parameters, we can control how _common_ and how _uncommon_ our input should be."
   ]
  },
  {
   "cell_type": "markdown",
   "id": "d07ce5c8",
   "metadata": {
    "slideshow": {
     "slide_type": "subslide"
    }
   },
   "source": [
    "### How Effective is Mutation?"
   ]
  },
  {
   "cell_type": "markdown",
   "id": "8f4b35ef",
   "metadata": {
    "slideshow": {
     "slide_type": "fragment"
    }
   },
   "source": [
    "Does mutating existing code help us in finding bugs?\n",
    "Let us assume we have a buggy compiler that generates bad code for an expression of the form `<elem> * (<elem> + <elem>)`.\n",
    "The code in `has_distributive_law()` checks an AST for the presence of this bug:"
   ]
  },
  {
   "cell_type": "code",
   "execution_count": 133,
   "id": "1fffd79e",
   "metadata": {
    "execution": {
     "iopub.execute_input": "2025-01-22T08:43:32.389460Z",
     "iopub.status.busy": "2025-01-22T08:43:32.389345Z",
     "iopub.status.idle": "2025-01-22T08:43:32.391450Z",
     "shell.execute_reply": "2025-01-22T08:43:32.391230Z"
    },
    "slideshow": {
     "slide_type": "subslide"
    }
   },
   "outputs": [],
   "source": [
    "def has_distributive_law(tree) -> bool:\n",
    "    for node in walk(tree):  # iterate over all nodes in `tree`\n",
    "        # print(node)\n",
    "        if isinstance(node, ast.BinOp):\n",
    "            if isinstance(node.op, ast.Mult):\n",
    "                if isinstance(node.right, ast.BinOp):\n",
    "                    if isinstance(node.right.op, ast.Add):\n",
    "                        return True\n",
    "\n",
    "                if isinstance(node.left, ast.BinOp):\n",
    "                    if isinstance(node.left.op, ast.Add):\n",
    "                        return True\n",
    "\n",
    "    return False"
   ]
  },
  {
   "cell_type": "markdown",
   "id": "55794bc5",
   "metadata": {
    "slideshow": {
     "slide_type": "subslide"
    }
   },
   "source": [
    "To understand how this works, a visualization of the AST comes in handy:"
   ]
  },
  {
   "cell_type": "code",
   "execution_count": 134,
   "id": "065e7749",
   "metadata": {
    "execution": {
     "iopub.execute_input": "2025-01-22T08:43:32.393002Z",
     "iopub.status.busy": "2025-01-22T08:43:32.392910Z",
     "iopub.status.idle": "2025-01-22T08:43:33.020974Z",
     "shell.execute_reply": "2025-01-22T08:43:33.020605Z"
    },
    "slideshow": {
     "slide_type": "fragment"
    }
   },
   "outputs": [
    {
     "data": {
      "image/svg+xml": [
       "<svg xmlns=\"http://www.w3.org/2000/svg\" xmlns:xlink=\"http://www.w3.org/1999/xlink\" width=\"342pt\" height=\"332pt\" viewBox=\"0.00 0.00 342.00 332.00\">\n",
       "<g id=\"graph0\" class=\"graph\" transform=\"scale(1 1) rotate(0) translate(4 328)\">\n",
       "<polygon fill=\"white\" stroke=\"none\" points=\"-4,4 -4,-328 338,-328 338,4 -4,4\"/>\n",
       "<!-- 0 -->\n",
       "<g id=\"node1\" class=\"node\">\n",
       "<title>0</title>\n",
       "<text text-anchor=\"start\" x=\"113.5\" y=\"-301.95\" font-family=\"Courier,monospace\" font-weight=\"bold\" font-size=\"14.00\" fill=\"#004080\">Expr</text>\n",
       "</g>\n",
       "<!-- 1 -->\n",
       "<g id=\"node2\" class=\"node\">\n",
       "<title>1</title>\n",
       "<text text-anchor=\"start\" x=\"109.38\" y=\"-229.95\" font-family=\"Courier,monospace\" font-weight=\"bold\" font-size=\"14.00\" fill=\"#004080\">BinOp</text>\n",
       "</g>\n",
       "<!-- 0&#45;&#45;1 -->\n",
       "<g id=\"edge1\" class=\"edge\">\n",
       "<title>0--1</title>\n",
       "<path fill=\"none\" stroke=\"black\" d=\"M130,-288.05C130,-277.05 130,-262.76 130,-251.79\"/>\n",
       "</g>\n",
       "<!-- 2 -->\n",
       "<g id=\"node3\" class=\"node\">\n",
       "<title>2</title>\n",
       "<text text-anchor=\"start\" x=\"8\" y=\"-157.95\" font-family=\"Courier,monospace\" font-weight=\"bold\" font-size=\"14.00\" fill=\"#004080\">Constant</text>\n",
       "</g>\n",
       "<!-- 1&#45;&#45;2 -->\n",
       "<g id=\"edge2\" class=\"edge\">\n",
       "<title>1--2</title>\n",
       "<path fill=\"none\" stroke=\"black\" d=\"M130,-215C130,-215 95.67,-194.94 69.65,-179.74\"/>\n",
       "</g>\n",
       "<!-- 4 -->\n",
       "<g id=\"node5\" class=\"node\">\n",
       "<title>4</title>\n",
       "<text text-anchor=\"middle\" x=\"130\" y=\"-156.95\" font-family=\"Courier,monospace\" font-size=\"14.00\" fill=\"#008040\">Add</text>\n",
       "</g>\n",
       "<!-- 1&#45;&#45;4 -->\n",
       "<g id=\"edge4\" class=\"edge\">\n",
       "<title>1--4</title>\n",
       "<path fill=\"none\" stroke=\"black\" d=\"M130,-215C130,-215 130,-194.94 130,-179.74\"/>\n",
       "</g>\n",
       "<!-- 5 -->\n",
       "<g id=\"node6\" class=\"node\">\n",
       "<title>5</title>\n",
       "<text text-anchor=\"start\" x=\"184.38\" y=\"-157.95\" font-family=\"Courier,monospace\" font-weight=\"bold\" font-size=\"14.00\" fill=\"#004080\">BinOp</text>\n",
       "</g>\n",
       "<!-- 1&#45;&#45;5 -->\n",
       "<g id=\"edge5\" class=\"edge\">\n",
       "<title>1--5</title>\n",
       "<path fill=\"none\" stroke=\"black\" d=\"M130,-215C130,-215 158.93,-194.94 180.86,-179.74\"/>\n",
       "</g>\n",
       "<!-- 3 -->\n",
       "<g id=\"node4\" class=\"node\">\n",
       "<title>3</title>\n",
       "<text text-anchor=\"middle\" x=\"35\" y=\"-84.95\" font-family=\"Courier,monospace\" font-size=\"14.00\" fill=\"#008040\">1</text>\n",
       "</g>\n",
       "<!-- 2&#45;&#45;3 -->\n",
       "<g id=\"edge3\" class=\"edge\">\n",
       "<title>2--3</title>\n",
       "<path fill=\"none\" stroke=\"black\" d=\"M39.55,-144.05C38.6,-133.05 37.38,-118.76 36.44,-107.79\"/>\n",
       "</g>\n",
       "<!-- 6 -->\n",
       "<g id=\"node7\" class=\"node\">\n",
       "<title>6</title>\n",
       "<text text-anchor=\"start\" x=\"88\" y=\"-85.95\" font-family=\"Courier,monospace\" font-weight=\"bold\" font-size=\"14.00\" fill=\"#004080\">Constant</text>\n",
       "</g>\n",
       "<!-- 5&#45;&#45;6 -->\n",
       "<g id=\"edge6\" class=\"edge\">\n",
       "<title>5--6</title>\n",
       "<path fill=\"none\" stroke=\"black\" d=\"M205,-143C205,-143 172.6,-122.94 148.04,-107.74\"/>\n",
       "</g>\n",
       "<!-- 8 -->\n",
       "<g id=\"node9\" class=\"node\">\n",
       "<title>8</title>\n",
       "<text text-anchor=\"middle\" x=\"207\" y=\"-84.95\" font-family=\"Courier,monospace\" font-size=\"14.00\" fill=\"#008040\">Mult</text>\n",
       "</g>\n",
       "<!-- 5&#45;&#45;8 -->\n",
       "<g id=\"edge8\" class=\"edge\">\n",
       "<title>5--8</title>\n",
       "<path fill=\"none\" stroke=\"black\" d=\"M205,-143C205,-143 205.77,-122.94 206.36,-107.74\"/>\n",
       "</g>\n",
       "<!-- 9 -->\n",
       "<g id=\"node10\" class=\"node\">\n",
       "<title>9</title>\n",
       "<text text-anchor=\"start\" x=\"260\" y=\"-85.95\" font-family=\"Courier,monospace\" font-weight=\"bold\" font-size=\"14.00\" fill=\"#004080\">Constant</text>\n",
       "</g>\n",
       "<!-- 5&#45;&#45;9 -->\n",
       "<g id=\"edge9\" class=\"edge\">\n",
       "<title>5--9</title>\n",
       "<path fill=\"none\" stroke=\"black\" d=\"M205,-143C205,-143 238.95,-122.94 264.67,-107.74\"/>\n",
       "</g>\n",
       "<!-- 7 -->\n",
       "<g id=\"node8\" class=\"node\">\n",
       "<title>7</title>\n",
       "<text text-anchor=\"middle\" x=\"121\" y=\"-12.95\" font-family=\"Courier,monospace\" font-size=\"14.00\" fill=\"#008040\">2</text>\n",
       "</g>\n",
       "<!-- 6&#45;&#45;7 -->\n",
       "<g id=\"edge7\" class=\"edge\">\n",
       "<title>6--7</title>\n",
       "<path fill=\"none\" stroke=\"black\" d=\"M121,-72.05C121,-61.05 121,-46.76 121,-35.79\"/>\n",
       "</g>\n",
       "<!-- 10 -->\n",
       "<g id=\"node11\" class=\"node\">\n",
       "<title>10</title>\n",
       "<text text-anchor=\"middle\" x=\"293\" y=\"-12.95\" font-family=\"Courier,monospace\" font-size=\"14.00\" fill=\"#008040\">3</text>\n",
       "</g>\n",
       "<!-- 9&#45;&#45;10 -->\n",
       "<g id=\"edge10\" class=\"edge\">\n",
       "<title>9--10</title>\n",
       "<path fill=\"none\" stroke=\"black\" d=\"M293,-72.05C293,-61.05 293,-46.76 293,-35.79\"/>\n",
       "</g>\n",
       "</g>\n",
       "</svg>"
      ],
      "text/plain": [
       "<IPython.core.display.SVG object>"
      ]
     },
     "metadata": {},
     "output_type": "display_data"
    }
   ],
   "source": [
    "show_ast(ast.parse(\"1 + (2 * 3)\"))"
   ]
  },
  {
   "cell_type": "code",
   "execution_count": 135,
   "id": "a3e873f3",
   "metadata": {
    "execution": {
     "iopub.execute_input": "2025-01-22T08:43:33.022820Z",
     "iopub.status.busy": "2025-01-22T08:43:33.022675Z",
     "iopub.status.idle": "2025-01-22T08:43:33.025430Z",
     "shell.execute_reply": "2025-01-22T08:43:33.025103Z"
    },
    "slideshow": {
     "slide_type": "fragment"
    }
   },
   "outputs": [
    {
     "data": {
      "text/plain": [
       "True"
      ]
     },
     "execution_count": 135,
     "metadata": {},
     "output_type": "execute_result"
    }
   ],
   "source": [
    "has_distributive_law(ast.parse(\"1 * (2 + 3)\"))"
   ]
  },
  {
   "cell_type": "code",
   "execution_count": 136,
   "id": "8a6ae925",
   "metadata": {
    "execution": {
     "iopub.execute_input": "2025-01-22T08:43:33.027173Z",
     "iopub.status.busy": "2025-01-22T08:43:33.027059Z",
     "iopub.status.idle": "2025-01-22T08:43:33.029157Z",
     "shell.execute_reply": "2025-01-22T08:43:33.028926Z"
    },
    "slideshow": {
     "slide_type": "fragment"
    }
   },
   "outputs": [
    {
     "data": {
      "text/plain": [
       "True"
      ]
     },
     "execution_count": 136,
     "metadata": {},
     "output_type": "execute_result"
    }
   ],
   "source": [
    "has_distributive_law(ast.parse(\"(1 + 2) * 3\"))"
   ]
  },
  {
   "cell_type": "code",
   "execution_count": 137,
   "id": "fa79c8ac",
   "metadata": {
    "execution": {
     "iopub.execute_input": "2025-01-22T08:43:33.030546Z",
     "iopub.status.busy": "2025-01-22T08:43:33.030447Z",
     "iopub.status.idle": "2025-01-22T08:43:33.032418Z",
     "shell.execute_reply": "2025-01-22T08:43:33.032161Z"
    },
    "slideshow": {
     "slide_type": "fragment"
    }
   },
   "outputs": [
    {
     "data": {
      "text/plain": [
       "False"
      ]
     },
     "execution_count": 137,
     "metadata": {},
     "output_type": "execute_result"
    }
   ],
   "source": [
    "has_distributive_law(ast.parse(\"1 + (2 * 3)\"))"
   ]
  },
  {
   "cell_type": "code",
   "execution_count": 138,
   "id": "33ae3ce6",
   "metadata": {
    "execution": {
     "iopub.execute_input": "2025-01-22T08:43:33.033870Z",
     "iopub.status.busy": "2025-01-22T08:43:33.033773Z",
     "iopub.status.idle": "2025-01-22T08:43:33.036160Z",
     "shell.execute_reply": "2025-01-22T08:43:33.035881Z"
    },
    "slideshow": {
     "slide_type": "fragment"
    }
   },
   "outputs": [
    {
     "data": {
      "text/plain": [
       "True"
      ]
     },
     "execution_count": 138,
     "metadata": {},
     "output_type": "execute_result"
    }
   ],
   "source": [
    "has_distributive_law(ast.parse(\"def f(a, b):\\n    return a * (b + 10)\"))"
   ]
  },
  {
   "cell_type": "markdown",
   "id": "7c544188",
   "metadata": {
    "slideshow": {
     "slide_type": "subslide"
    }
   },
   "source": [
    "How many attempts does it take for each until we find a mutation that triggers the bug in `has_distributive_law()`? \n",
    "Let us write a function that computes this number."
   ]
  },
  {
   "cell_type": "code",
   "execution_count": 139,
   "id": "72fe07e0",
   "metadata": {
    "execution": {
     "iopub.execute_input": "2025-01-22T08:43:33.037828Z",
     "iopub.status.busy": "2025-01-22T08:43:33.037722Z",
     "iopub.status.idle": "2025-01-22T08:43:33.040288Z",
     "shell.execute_reply": "2025-01-22T08:43:33.040049Z"
    },
    "slideshow": {
     "slide_type": "subslide"
    }
   },
   "outputs": [],
   "source": [
    "def how_many_mutations(code: str) -> int:\n",
    "    solver = ISLaSolver(python_ast_grammar)\n",
    "\n",
    "    code_ast = ast.parse(code)\n",
    "    code_ast = ast.fix_missing_locations(code_ast)\n",
    "    code_ast_str = ast.dump(code_ast)\n",
    "    code_derivation_tree = solver.parse(code_ast_str)\n",
    "    mutations = 0\n",
    "    mutated_code_ast = code_ast\n",
    "\n",
    "    while not has_distributive_law(mutated_code_ast):\n",
    "        mutations += 1\n",
    "        if mutations % 100 == 0:\n",
    "            print(f'{mutations}...', end='')\n",
    "\n",
    "        mutated_code_str = str(solver.mutate(code_derivation_tree))\n",
    "        mutated_code_ast = eval(mutated_code_str)\n",
    "        # mutated_code_ast = ast.fix_missing_locations(mutated_code_ast)\n",
    "        # print(ast.dump(mutated_code_ast))\n",
    "        # print(ast.unparse(mutated_code_ast))\n",
    "\n",
    "    return mutations"
   ]
  },
  {
   "cell_type": "markdown",
   "id": "4a0129ab",
   "metadata": {
    "slideshow": {
     "slide_type": "subslide"
    }
   },
   "source": [
    "If we pass an input that already exhibits the bug, we do not need any mutation:"
   ]
  },
  {
   "cell_type": "code",
   "execution_count": 140,
   "id": "c92092d7",
   "metadata": {
    "execution": {
     "iopub.execute_input": "2025-01-22T08:43:33.041989Z",
     "iopub.status.busy": "2025-01-22T08:43:33.041845Z",
     "iopub.status.idle": "2025-01-22T08:43:33.050365Z",
     "shell.execute_reply": "2025-01-22T08:43:33.050039Z"
    },
    "slideshow": {
     "slide_type": "fragment"
    }
   },
   "outputs": [],
   "source": [
    "assert how_many_mutations('1 * (2 + 3)') == 0"
   ]
  },
  {
   "cell_type": "markdown",
   "id": "24d10731",
   "metadata": {
    "slideshow": {
     "slide_type": "fragment"
    }
   },
   "source": [
    "However, the further we are away from the bug, the more mutations (and the more time) it takes to find it.\n",
    "Notably, mutating `2 + 2` until we have a distributive law still is much faster than mutating `2`."
   ]
  },
  {
   "cell_type": "code",
   "execution_count": 141,
   "id": "f5886be3",
   "metadata": {
    "execution": {
     "iopub.execute_input": "2025-01-22T08:43:33.052349Z",
     "iopub.status.busy": "2025-01-22T08:43:33.052238Z",
     "iopub.status.idle": "2025-01-22T08:43:36.970826Z",
     "shell.execute_reply": "2025-01-22T08:43:36.970549Z"
    },
    "slideshow": {
     "slide_type": "fragment"
    }
   },
   "outputs": [
    {
     "data": {
      "text/plain": [
       "54"
      ]
     },
     "execution_count": 141,
     "metadata": {},
     "output_type": "execute_result"
    }
   ],
   "source": [
    "how_many_mutations('2 + 2')    # <-- Note: this can take a minute"
   ]
  },
  {
   "cell_type": "code",
   "execution_count": 142,
   "id": "e0eab0fe",
   "metadata": {
    "execution": {
     "iopub.execute_input": "2025-01-22T08:43:36.972239Z",
     "iopub.status.busy": "2025-01-22T08:43:36.972163Z",
     "iopub.status.idle": "2025-01-22T08:44:57.678042Z",
     "shell.execute_reply": "2025-01-22T08:44:57.677581Z"
    },
    "slideshow": {
     "slide_type": "fragment"
    }
   },
   "outputs": [
    {
     "name": "stdout",
     "output_type": "stream",
     "text": [
      "100...200...300...400...500...600...700...800...900...1000...1100...1200...1300...1400...1500...1600...1700...1800...1900...2000...2100...2200...2300...2400...2500..."
     ]
    },
    {
     "data": {
      "text/plain": [
       "2500"
      ]
     },
     "execution_count": 142,
     "metadata": {},
     "output_type": "execute_result"
    }
   ],
   "source": [
    "how_many_mutations('2')  # <-- Note: this can take several minutes"
   ]
  },
  {
   "cell_type": "markdown",
   "id": "ad00cc83",
   "metadata": {
    "slideshow": {
     "slide_type": "subslide"
    }
   },
   "source": [
    "We conclude that mutating existing code can indeed be helpful, especially if it is syntactically _close to inputs that trigger bugs_.\n",
    "If you want to have a good chance in finding bugs, focus on _inputs that have triggered bugs before_ – sometimes a simple mutation of these already helps finding a new bug."
   ]
  },
  {
   "cell_type": "markdown",
   "id": "f93ec7f4",
   "metadata": {
    "slideshow": {
     "slide_type": "slide"
    }
   },
   "source": [
    "## Evolutionary Fuzzing\n",
    "\n",
    "One interesting application of mutating inputs is to use mutations for _evolutionary fuzzing_.\n",
    "The idea is to have a population of inputs, to apply _mutations_ on them, and to check whether they improve on a particular goal (mostly code coverage).\n",
    "Those inputs that _do_ improve are being retained (\"survival of the fittest\") as the next generation, and evolved further.\n",
    "By repeating this process often enough, we may obtain inputs that cover large parts of code and thus improve chances to uncover bugs."
   ]
  },
  {
   "cell_type": "markdown",
   "id": "3d57ac50",
   "metadata": {
    "slideshow": {
     "slide_type": "subslide"
    }
   },
   "source": [
    "Let us assume we have a buggy compiler that generates bad code for an expression of the form `<elem> * (<elem> + <elem>)`.\n",
    "The function `has_distributive_law()`, above, checks an AST for the presence of this bug."
   ]
  },
  {
   "cell_type": "markdown",
   "id": "ab737071",
   "metadata": {
    "slideshow": {
     "slide_type": "fragment"
    }
   },
   "source": [
    "Our aim is to detect this bug via fuzzing. But if we simply generate random inputs from scratch, it may take a long time until we generate the exact copmbination of operators that triggers the bug."
   ]
  },
  {
   "cell_type": "markdown",
   "id": "4e5a7b86",
   "metadata": {
    "slideshow": {
     "slide_type": "subslide"
    }
   },
   "source": [
    "### Getting Coverage\n",
    "\n",
    "To have our fuzzers guided by coverage, we first need to _measure_ code coverage.\n",
    "We make use of the [Coverage module from the Fuzzing Book](https://www.fuzzingbook.org/html/Coverage.html), which is particularly easy to use.\n",
    "It simply uses a `with` clause to obtain coverage from the code in the `with` body.\n",
    "Here is how to obtain coverage for our `has_distributive_law()` code, above:"
   ]
  },
  {
   "cell_type": "code",
   "execution_count": 143,
   "id": "abecba2b",
   "metadata": {
    "execution": {
     "iopub.execute_input": "2025-01-22T08:44:57.680357Z",
     "iopub.status.busy": "2025-01-22T08:44:57.680231Z",
     "iopub.status.idle": "2025-01-22T08:44:57.682134Z",
     "shell.execute_reply": "2025-01-22T08:44:57.681923Z"
    },
    "slideshow": {
     "slide_type": "skip"
    }
   },
   "outputs": [],
   "source": [
    "from Coverage import Coverage"
   ]
  },
  {
   "cell_type": "code",
   "execution_count": 144,
   "id": "a5b2b8d5",
   "metadata": {
    "execution": {
     "iopub.execute_input": "2025-01-22T08:44:57.683274Z",
     "iopub.status.busy": "2025-01-22T08:44:57.683212Z",
     "iopub.status.idle": "2025-01-22T08:44:57.684934Z",
     "shell.execute_reply": "2025-01-22T08:44:57.684727Z"
    },
    "slideshow": {
     "slide_type": "fragment"
    }
   },
   "outputs": [],
   "source": [
    "mult_ast = ast.parse(\"1 * 2\")\n",
    "with Coverage() as cov:\n",
    "    has_distributive_law(mult_ast)"
   ]
  },
  {
   "cell_type": "markdown",
   "id": "381a9f7f",
   "metadata": {
    "slideshow": {
     "slide_type": "subslide"
    }
   },
   "source": [
    "The `coverage()` method tells us which lines in the code actually have been reached.\n",
    "This includes lines from `has_distributive_law()`, but also lines from other functions called."
   ]
  },
  {
   "cell_type": "code",
   "execution_count": 145,
   "id": "6c41b03f",
   "metadata": {
    "execution": {
     "iopub.execute_input": "2025-01-22T08:44:57.686257Z",
     "iopub.status.busy": "2025-01-22T08:44:57.686190Z",
     "iopub.status.idle": "2025-01-22T08:44:57.688382Z",
     "shell.execute_reply": "2025-01-22T08:44:57.688196Z"
    },
    "slideshow": {
     "slide_type": "subslide"
    }
   },
   "outputs": [
    {
     "data": {
      "text/plain": [
       "{('_handle_fromlist', 1217),\n",
       " ('_handle_fromlist', 1218),\n",
       " ('_handle_fromlist', 1225),\n",
       " ('_handle_fromlist', 1229),\n",
       " ('_handle_fromlist', 1241),\n",
       " ('has_distributive_law', 2),\n",
       " ('has_distributive_law', 4),\n",
       " ('has_distributive_law', 5),\n",
       " ('has_distributive_law', 6),\n",
       " ('has_distributive_law', 10),\n",
       " ('has_distributive_law', 14),\n",
       " ('iter_child_nodes', 272),\n",
       " ('iter_child_nodes', 273),\n",
       " ('iter_child_nodes', 274),\n",
       " ('iter_child_nodes', 275),\n",
       " ('iter_child_nodes', 276),\n",
       " ('iter_child_nodes', 277),\n",
       " ('iter_child_nodes', 278),\n",
       " ('iter_fields', 260),\n",
       " ('iter_fields', 261),\n",
       " ('iter_fields', 262),\n",
       " ('walk', 386),\n",
       " ('walk', 387),\n",
       " ('walk', 388),\n",
       " ('walk', 389),\n",
       " ('walk', 390),\n",
       " ('walk', 391)}"
      ]
     },
     "execution_count": 145,
     "metadata": {},
     "output_type": "execute_result"
    }
   ],
   "source": [
    "cov.coverage()"
   ]
  },
  {
   "cell_type": "markdown",
   "id": "6bd26a9c",
   "metadata": {
    "slideshow": {
     "slide_type": "subslide"
    }
   },
   "source": [
    "Which are the lines executed? \n",
    "With a bit of code inspection, we can easily visualize the covered lines:"
   ]
  },
  {
   "cell_type": "code",
   "execution_count": 146,
   "id": "c1fdce14",
   "metadata": {
    "execution": {
     "iopub.execute_input": "2025-01-22T08:44:57.689675Z",
     "iopub.status.busy": "2025-01-22T08:44:57.689613Z",
     "iopub.status.idle": "2025-01-22T08:44:57.691655Z",
     "shell.execute_reply": "2025-01-22T08:44:57.691432Z"
    },
    "slideshow": {
     "slide_type": "fragment"
    }
   },
   "outputs": [],
   "source": [
    "def show_coverage(cov, fun):\n",
    "    fun_lines, fun_start = inspect.getsourcelines(fun)\n",
    "    fun_name = fun.__name__\n",
    "    coverage = cov.coverage()\n",
    "    for line in range(len(fun_lines)):\n",
    "        if (fun_name, line + fun_start) in coverage:\n",
    "            print('# ', end='')  # covered lines\n",
    "        else:\n",
    "            print('  ', end='')  # uncovered lines\n",
    "        print(line + fun_start, fun_lines[line], end='')"
   ]
  },
  {
   "cell_type": "code",
   "execution_count": 147,
   "id": "2320d67d",
   "metadata": {
    "execution": {
     "iopub.execute_input": "2025-01-22T08:44:57.692905Z",
     "iopub.status.busy": "2025-01-22T08:44:57.692841Z",
     "iopub.status.idle": "2025-01-22T08:44:57.694760Z",
     "shell.execute_reply": "2025-01-22T08:44:57.694566Z"
    },
    "slideshow": {
     "slide_type": "subslide"
    }
   },
   "outputs": [
    {
     "name": "stdout",
     "output_type": "stream",
     "text": [
      "  1 def has_distributive_law(tree) -> bool:\n",
      "# 2     for node in walk(tree):  # iterate over all nodes in `tree`\n",
      "  3         # print(node)\n",
      "# 4         if isinstance(node, ast.BinOp):\n",
      "# 5             if isinstance(node.op, ast.Mult):\n",
      "# 6                 if isinstance(node.right, ast.BinOp):\n",
      "  7                     if isinstance(node.right.op, ast.Add):\n",
      "  8                         return True\n",
      "  9 \n",
      "# 10                 if isinstance(node.left, ast.BinOp):\n",
      "  11                     if isinstance(node.left.op, ast.Add):\n",
      "  12                         return True\n",
      "  13 \n",
      "# 14     return False\n"
     ]
    }
   ],
   "source": [
    "show_coverage(cov, has_distributive_law)"
   ]
  },
  {
   "cell_type": "markdown",
   "id": "cbcd829d",
   "metadata": {
    "slideshow": {
     "slide_type": "subslide"
    }
   },
   "source": [
    "In this listing, a `#` indicates that the code has been executed (covered).\n",
    "We see that our input \"1 * 2\" satisfies the conditions in Lines 4 and 5, but does not satisfy the conditions in later lines."
   ]
  },
  {
   "cell_type": "markdown",
   "id": "7ceabb8b",
   "metadata": {
    "slideshow": {
     "slide_type": "subslide"
    }
   },
   "source": [
    "### Fitness\n",
    "\n",
    "Let us now use coverage as a _fitness function_ to guide evolution.\n",
    "The higher the fitness (the coverage), the higher the chances of an input to be retained for further evolution.\n",
    "Our `ast_fitness()` function simply counts the number of lines covered in `has_distributive_law()`."
   ]
  },
  {
   "cell_type": "code",
   "execution_count": 148,
   "id": "5b7c0ea4",
   "metadata": {
    "execution": {
     "iopub.execute_input": "2025-01-22T08:44:57.696130Z",
     "iopub.status.busy": "2025-01-22T08:44:57.696069Z",
     "iopub.status.idle": "2025-01-22T08:44:57.697960Z",
     "shell.execute_reply": "2025-01-22T08:44:57.697744Z"
    },
    "slideshow": {
     "slide_type": "subslide"
    }
   },
   "outputs": [],
   "source": [
    "def ast_fitness(code_ast) -> int:\n",
    "    with Coverage() as cov:\n",
    "        has_distributive_law(code_ast)\n",
    "    lines = set()\n",
    "    for (name, line) in cov.coverage():\n",
    "        if name == has_distributive_law.__name__:\n",
    "            lines.add(line)\n",
    "    return len(lines)"
   ]
  },
  {
   "cell_type": "markdown",
   "id": "5b0a5458",
   "metadata": {
    "slideshow": {
     "slide_type": "fragment"
    }
   },
   "source": [
    "Here is the fitness of a number of given inputs:"
   ]
  },
  {
   "cell_type": "code",
   "execution_count": 149,
   "id": "6f891d83",
   "metadata": {
    "execution": {
     "iopub.execute_input": "2025-01-22T08:44:57.699166Z",
     "iopub.status.busy": "2025-01-22T08:44:57.699100Z",
     "iopub.status.idle": "2025-01-22T08:44:57.700982Z",
     "shell.execute_reply": "2025-01-22T08:44:57.700789Z"
    },
    "slideshow": {
     "slide_type": "fragment"
    }
   },
   "outputs": [
    {
     "data": {
      "text/plain": [
       "3"
      ]
     },
     "execution_count": 149,
     "metadata": {},
     "output_type": "execute_result"
    }
   ],
   "source": [
    "ast_fitness(ast.parse(\"1\"))"
   ]
  },
  {
   "cell_type": "code",
   "execution_count": 150,
   "id": "779c5241",
   "metadata": {
    "execution": {
     "iopub.execute_input": "2025-01-22T08:44:57.702192Z",
     "iopub.status.busy": "2025-01-22T08:44:57.702118Z",
     "iopub.status.idle": "2025-01-22T08:44:57.704122Z",
     "shell.execute_reply": "2025-01-22T08:44:57.703903Z"
    },
    "slideshow": {
     "slide_type": "fragment"
    }
   },
   "outputs": [
    {
     "data": {
      "text/plain": [
       "4"
      ]
     },
     "execution_count": 150,
     "metadata": {},
     "output_type": "execute_result"
    }
   ],
   "source": [
    "ast_fitness(ast.parse(\"1 + 1\"))"
   ]
  },
  {
   "cell_type": "code",
   "execution_count": 151,
   "id": "b370f5bd",
   "metadata": {
    "execution": {
     "iopub.execute_input": "2025-01-22T08:44:57.705294Z",
     "iopub.status.busy": "2025-01-22T08:44:57.705230Z",
     "iopub.status.idle": "2025-01-22T08:44:57.707134Z",
     "shell.execute_reply": "2025-01-22T08:44:57.706939Z"
    },
    "slideshow": {
     "slide_type": "fragment"
    }
   },
   "outputs": [
    {
     "data": {
      "text/plain": [
       "6"
      ]
     },
     "execution_count": 151,
     "metadata": {},
     "output_type": "execute_result"
    }
   ],
   "source": [
    "ast_fitness(ast.parse(\"1 * 2\"))"
   ]
  },
  {
   "cell_type": "code",
   "execution_count": 152,
   "id": "2f0478e8",
   "metadata": {
    "execution": {
     "iopub.execute_input": "2025-01-22T08:44:57.708276Z",
     "iopub.status.busy": "2025-01-22T08:44:57.708216Z",
     "iopub.status.idle": "2025-01-22T08:44:57.710109Z",
     "shell.execute_reply": "2025-01-22T08:44:57.709923Z"
    },
    "slideshow": {
     "slide_type": "subslide"
    }
   },
   "outputs": [
    {
     "data": {
      "text/plain": [
       "6"
      ]
     },
     "execution_count": 152,
     "metadata": {},
     "output_type": "execute_result"
    }
   ],
   "source": [
    "ast_fitness(ast.parse(\"1 * (2 + 3)\"))"
   ]
  },
  {
   "cell_type": "markdown",
   "id": "bb96746d",
   "metadata": {
    "slideshow": {
     "slide_type": "fragment"
    }
   },
   "source": [
    "Now, let's set up a fitness function that takes derivation trees.\n",
    "Essentially, our `tree_fitness()` function is based on the `ast_fitness()` function, above;\n",
    "however, we also add a small component `1 / len(code_str)` to give extra fitness to shorter inputs.\n",
    "Otherwise, our inputs may grow and keep on growing, making mutations inefficient."
   ]
  },
  {
   "cell_type": "code",
   "execution_count": 153,
   "id": "5cca4781",
   "metadata": {
    "execution": {
     "iopub.execute_input": "2025-01-22T08:44:57.711321Z",
     "iopub.status.busy": "2025-01-22T08:44:57.711257Z",
     "iopub.status.idle": "2025-01-22T08:44:57.713008Z",
     "shell.execute_reply": "2025-01-22T08:44:57.712775Z"
    },
    "slideshow": {
     "slide_type": "subslide"
    }
   },
   "outputs": [],
   "source": [
    "def tree_fitness(tree) -> float:\n",
    "    code_str = str(tree)\n",
    "    code_ast = ast.fix_missing_locations(eval(code_str))\n",
    "    fitness = ast_fitness(code_ast)\n",
    "    # print(ast.unparse(code_ast), f\"\\n=> Fitness = {fitness}\\n\")\n",
    "    return fitness + 1 / len(code_str)"
   ]
  },
  {
   "cell_type": "code",
   "execution_count": 154,
   "id": "e1755386",
   "metadata": {
    "execution": {
     "iopub.execute_input": "2025-01-22T08:44:57.714165Z",
     "iopub.status.busy": "2025-01-22T08:44:57.714097Z",
     "iopub.status.idle": "2025-01-22T08:44:57.716322Z",
     "shell.execute_reply": "2025-01-22T08:44:57.716084Z"
    },
    "slideshow": {
     "slide_type": "fragment"
    }
   },
   "outputs": [
    {
     "data": {
      "text/plain": [
       "4.002666666666666"
      ]
     },
     "execution_count": 154,
     "metadata": {},
     "output_type": "execute_result"
    }
   ],
   "source": [
    "tree_fitness(sum_tree)"
   ]
  },
  {
   "cell_type": "markdown",
   "id": "3d5de1ca",
   "metadata": {
    "slideshow": {
     "slide_type": "subslide"
    }
   },
   "source": [
    "### Evolving Inputs\n",
    "\n",
    "Let us now make use of our fitness function to implement a simple evolutionary fuzzing algorithm.\n",
    "We start with _evolution_ – that is, taking a population and adding offspring via mutations.\n",
    "Our initial population consists of a single candidate – in our case, `sum_tree` reflecting the `sum()` function, above."
   ]
  },
  {
   "cell_type": "code",
   "execution_count": 155,
   "id": "cb347849",
   "metadata": {
    "execution": {
     "iopub.execute_input": "2025-01-22T08:44:57.717623Z",
     "iopub.status.busy": "2025-01-22T08:44:57.717562Z",
     "iopub.status.idle": "2025-01-22T08:44:57.719011Z",
     "shell.execute_reply": "2025-01-22T08:44:57.718808Z"
    },
    "slideshow": {
     "slide_type": "fragment"
    }
   },
   "outputs": [],
   "source": [
    "def initial_population(tree):\n",
    "    return [ (tree, tree_fitness(tree)) ]"
   ]
  },
  {
   "cell_type": "code",
   "execution_count": 156,
   "id": "6cd1e8a4",
   "metadata": {
    "execution": {
     "iopub.execute_input": "2025-01-22T08:44:57.720180Z",
     "iopub.status.busy": "2025-01-22T08:44:57.720100Z",
     "iopub.status.idle": "2025-01-22T08:44:57.721668Z",
     "shell.execute_reply": "2025-01-22T08:44:57.721448Z"
    },
    "slideshow": {
     "slide_type": "fragment"
    }
   },
   "outputs": [],
   "source": [
    "sum_population = initial_population(sum_tree)"
   ]
  },
  {
   "cell_type": "code",
   "execution_count": 157,
   "id": "43cc0d70",
   "metadata": {
    "execution": {
     "iopub.execute_input": "2025-01-22T08:44:57.722864Z",
     "iopub.status.busy": "2025-01-22T08:44:57.722805Z",
     "iopub.status.idle": "2025-01-22T08:44:57.724545Z",
     "shell.execute_reply": "2025-01-22T08:44:57.724358Z"
    },
    "slideshow": {
     "slide_type": "fragment"
    }
   },
   "outputs": [
    {
     "data": {
      "text/plain": [
       "1"
      ]
     },
     "execution_count": 157,
     "metadata": {},
     "output_type": "execute_result"
    }
   ],
   "source": [
    "len(sum_population)"
   ]
  },
  {
   "cell_type": "markdown",
   "id": "83c954af",
   "metadata": {
    "slideshow": {
     "slide_type": "subslide"
    }
   },
   "source": [
    "Our `evolve()` function adds two new children to each population member."
   ]
  },
  {
   "cell_type": "code",
   "execution_count": 158,
   "id": "db53f440",
   "metadata": {
    "execution": {
     "iopub.execute_input": "2025-01-22T08:44:57.725685Z",
     "iopub.status.busy": "2025-01-22T08:44:57.725628Z",
     "iopub.status.idle": "2025-01-22T08:44:57.727011Z",
     "shell.execute_reply": "2025-01-22T08:44:57.726802Z"
    },
    "slideshow": {
     "slide_type": "fragment"
    }
   },
   "outputs": [],
   "source": [
    "OFFSPRING = 2"
   ]
  },
  {
   "cell_type": "code",
   "execution_count": 159,
   "id": "c5a73822",
   "metadata": {
    "execution": {
     "iopub.execute_input": "2025-01-22T08:44:57.728220Z",
     "iopub.status.busy": "2025-01-22T08:44:57.728152Z",
     "iopub.status.idle": "2025-01-22T08:44:57.730194Z",
     "shell.execute_reply": "2025-01-22T08:44:57.729984Z"
    },
    "slideshow": {
     "slide_type": "fragment"
    }
   },
   "outputs": [],
   "source": [
    "def evolve(population, min_fitness=-1):\n",
    "    solver = ISLaSolver(python_ast_grammar)\n",
    "\n",
    "    for (candidate, _) in list(population):\n",
    "        for i in range(OFFSPRING):\n",
    "            child = solver.mutate(candidate, min_mutations=1, max_mutations=1)\n",
    "            child_fitness = tree_fitness(child)\n",
    "            if child_fitness > min_fitness:\n",
    "                population.append((child, child_fitness))\n",
    "    return population"
   ]
  },
  {
   "cell_type": "code",
   "execution_count": 160,
   "id": "2e40859c",
   "metadata": {
    "execution": {
     "iopub.execute_input": "2025-01-22T08:44:57.731511Z",
     "iopub.status.busy": "2025-01-22T08:44:57.731447Z",
     "iopub.status.idle": "2025-01-22T08:44:57.747025Z",
     "shell.execute_reply": "2025-01-22T08:44:57.746804Z"
    },
    "slideshow": {
     "slide_type": "subslide"
    }
   },
   "outputs": [
    {
     "data": {
      "text/plain": [
       "3"
      ]
     },
     "execution_count": 160,
     "metadata": {},
     "output_type": "execute_result"
    }
   ],
   "source": [
    "sum_population = evolve(sum_population)\n",
    "len(sum_population)"
   ]
  },
  {
   "cell_type": "markdown",
   "id": "b6bb6154",
   "metadata": {
    "slideshow": {
     "slide_type": "fragment"
    }
   },
   "source": [
    "As we can evolve all these, too, we get an exponential growth."
   ]
  },
  {
   "cell_type": "code",
   "execution_count": 161,
   "id": "fc81b599",
   "metadata": {
    "execution": {
     "iopub.execute_input": "2025-01-22T08:44:57.748334Z",
     "iopub.status.busy": "2025-01-22T08:44:57.748264Z",
     "iopub.status.idle": "2025-01-22T08:44:57.804098Z",
     "shell.execute_reply": "2025-01-22T08:44:57.803873Z"
    },
    "slideshow": {
     "slide_type": "fragment"
    }
   },
   "outputs": [
    {
     "data": {
      "text/plain": [
       "9"
      ]
     },
     "execution_count": 161,
     "metadata": {},
     "output_type": "execute_result"
    }
   ],
   "source": [
    "sum_population = evolve(sum_population)\n",
    "len(sum_population)"
   ]
  },
  {
   "cell_type": "code",
   "execution_count": 162,
   "id": "a375f82b",
   "metadata": {
    "execution": {
     "iopub.execute_input": "2025-01-22T08:44:57.805337Z",
     "iopub.status.busy": "2025-01-22T08:44:57.805268Z",
     "iopub.status.idle": "2025-01-22T08:44:58.125031Z",
     "shell.execute_reply": "2025-01-22T08:44:58.124780Z"
    },
    "slideshow": {
     "slide_type": "fragment"
    }
   },
   "outputs": [
    {
     "data": {
      "text/plain": [
       "27"
      ]
     },
     "execution_count": 162,
     "metadata": {},
     "output_type": "execute_result"
    }
   ],
   "source": [
    "sum_population = evolve(sum_population)\n",
    "len(sum_population)"
   ]
  },
  {
   "cell_type": "code",
   "execution_count": 163,
   "id": "d7f570d3",
   "metadata": {
    "execution": {
     "iopub.execute_input": "2025-01-22T08:44:58.126483Z",
     "iopub.status.busy": "2025-01-22T08:44:58.126409Z",
     "iopub.status.idle": "2025-01-22T08:44:58.892616Z",
     "shell.execute_reply": "2025-01-22T08:44:58.892346Z"
    },
    "slideshow": {
     "slide_type": "fragment"
    }
   },
   "outputs": [
    {
     "data": {
      "text/plain": [
       "81"
      ]
     },
     "execution_count": 163,
     "metadata": {},
     "output_type": "execute_result"
    }
   ],
   "source": [
    "sum_population = evolve(sum_population)\n",
    "len(sum_population)"
   ]
  },
  {
   "cell_type": "code",
   "execution_count": 164,
   "id": "d0e4ce29",
   "metadata": {
    "execution": {
     "iopub.execute_input": "2025-01-22T08:44:58.894549Z",
     "iopub.status.busy": "2025-01-22T08:44:58.894434Z",
     "iopub.status.idle": "2025-01-22T08:45:01.840061Z",
     "shell.execute_reply": "2025-01-22T08:45:01.839516Z"
    },
    "slideshow": {
     "slide_type": "subslide"
    }
   },
   "outputs": [
    {
     "data": {
      "text/plain": [
       "243"
      ]
     },
     "execution_count": 164,
     "metadata": {},
     "output_type": "execute_result"
    }
   ],
   "source": [
    "sum_population = evolve(sum_population)\n",
    "len(sum_population)"
   ]
  },
  {
   "cell_type": "markdown",
   "id": "28a20329",
   "metadata": {
    "slideshow": {
     "slide_type": "subslide"
    }
   },
   "source": [
    "### Survival of the Fittest\n",
    "\n",
    "No population can expand forever and still survive.\n",
    "Let us thus limit the population to a certain size."
   ]
  },
  {
   "cell_type": "code",
   "execution_count": 165,
   "id": "b3f98e4e",
   "metadata": {
    "execution": {
     "iopub.execute_input": "2025-01-22T08:45:01.842695Z",
     "iopub.status.busy": "2025-01-22T08:45:01.842543Z",
     "iopub.status.idle": "2025-01-22T08:45:01.848639Z",
     "shell.execute_reply": "2025-01-22T08:45:01.847628Z"
    },
    "slideshow": {
     "slide_type": "fragment"
    }
   },
   "outputs": [],
   "source": [
    "POPULATION_SIZE = 100"
   ]
  },
  {
   "cell_type": "markdown",
   "id": "a2e1b516",
   "metadata": {
    "slideshow": {
     "slide_type": "fragment"
    }
   },
   "source": [
    "The `select()` function implements survival of the fittest: It limits the population to at most `POPULATION_SIZE` elements, sorting them by their fitness (highest to lowest).\n",
    "Members with low fitness beyond `POPULATION_SIZE` do not survive."
   ]
  },
  {
   "cell_type": "code",
   "execution_count": 166,
   "id": "e5c494cd",
   "metadata": {
    "execution": {
     "iopub.execute_input": "2025-01-22T08:45:01.857399Z",
     "iopub.status.busy": "2025-01-22T08:45:01.857215Z",
     "iopub.status.idle": "2025-01-22T08:45:01.859694Z",
     "shell.execute_reply": "2025-01-22T08:45:01.859253Z"
    },
    "slideshow": {
     "slide_type": "subslide"
    }
   },
   "outputs": [],
   "source": [
    "def get_fitness(elem):\n",
    "    (candidate, fitness) = elem\n",
    "    return fitness\n",
    "\n",
    "def select(population):\n",
    "    population = sorted(population, key=get_fitness, reverse=True)\n",
    "    population = population[:POPULATION_SIZE]\n",
    "    return population"
   ]
  },
  {
   "cell_type": "markdown",
   "id": "d3509183",
   "metadata": {
    "slideshow": {
     "slide_type": "fragment"
    }
   },
   "source": [
    "We can use the following call to trim our `sum_population` to the fittest members:"
   ]
  },
  {
   "cell_type": "code",
   "execution_count": 167,
   "id": "eff16d61",
   "metadata": {
    "execution": {
     "iopub.execute_input": "2025-01-22T08:45:01.866850Z",
     "iopub.status.busy": "2025-01-22T08:45:01.866654Z",
     "iopub.status.idle": "2025-01-22T08:45:01.875965Z",
     "shell.execute_reply": "2025-01-22T08:45:01.875565Z"
    },
    "slideshow": {
     "slide_type": "fragment"
    }
   },
   "outputs": [
    {
     "data": {
      "text/plain": [
       "100"
      ]
     },
     "execution_count": 167,
     "metadata": {},
     "output_type": "execute_result"
    }
   ],
   "source": [
    "sum_population = select(sum_population)\n",
    "len(sum_population)"
   ]
  },
  {
   "cell_type": "markdown",
   "id": "73333558",
   "metadata": {
    "slideshow": {
     "slide_type": "subslide"
    }
   },
   "source": [
    "### Evolution\n",
    "\n",
    "We now have everything in place:\n",
    "\n",
    "* We have a _population_ (say, `sum_population`)\n",
    "* We can evolve the population (using `evolve()`)\n",
    "* We can have only the fittest survive (using `select()`)\n",
    "\n",
    "Let us repeat this process over several generations.\n",
    "We track whenever we have found a new \"best\" candidate and log them.\n",
    "If we find a candidate that triggers the bug, we stop.\n",
    "Note that this may take a long time, and not necessarily yield a perfect result."
   ]
  },
  {
   "cell_type": "markdown",
   "id": "ac6578d6",
   "metadata": {
    "slideshow": {
     "slide_type": "subslide"
    }
   },
   "source": [
    "As common in search-based approaches, we stop and restart the search if we have not found a sufficient solution after a number of generations (here: `GENERATIONS`).\n",
    "Other than that, we keep searching until we have a solution."
   ]
  },
  {
   "cell_type": "code",
   "execution_count": 168,
   "id": "25854842",
   "metadata": {
    "execution": {
     "iopub.execute_input": "2025-01-22T08:45:01.880341Z",
     "iopub.status.busy": "2025-01-22T08:45:01.879978Z",
     "iopub.status.idle": "2025-01-22T08:45:01.886401Z",
     "shell.execute_reply": "2025-01-22T08:45:01.883148Z"
    },
    "slideshow": {
     "slide_type": "fragment"
    }
   },
   "outputs": [],
   "source": [
    "GENERATIONS = 100  # Upper bound"
   ]
  },
  {
   "cell_type": "code",
   "execution_count": 169,
   "id": "f7265f14",
   "metadata": {
    "execution": {
     "iopub.execute_input": "2025-01-22T08:45:01.889234Z",
     "iopub.status.busy": "2025-01-22T08:45:01.889077Z",
     "iopub.status.idle": "2025-01-22T08:45:03.851986Z",
     "shell.execute_reply": "2025-01-22T08:45:03.851658Z"
    },
    "slideshow": {
     "slide_type": "subslide"
    }
   },
   "outputs": [
    {
     "name": "stdout",
     "output_type": "stream",
     "text": [
      "Generation 0: found new best candidate (fitness=4.002666666666666):\n",
      "def sum(a, b):\n",
      "    the_sum = a + b\n",
      "    return the_sum\n",
      "Generation 1: found new best candidate (fitness=4.0027027027027025):\n",
      "def sum(a, b):\n",
      "    the_sum = a + b\n",
      "    return FE\n",
      "Generation 4: found new best candidate (fitness=4.002865329512894):\n",
      "def sum():\n",
      "    the_sum = a + b\n",
      "    return the_sum\n",
      "Generation 5: found new best candidate (fitness=6.00094696969697):\n",
      "if set()[:] * *set():\n",
      "\n",
      "    def sum(a, b):\n",
      "        mc = a + b\n",
      "        return FE\n",
      "else:\n",
      "    M = set()\n",
      "continue\n",
      "\n",
      "set().f[set():set()]()\n",
      "Generation 7: found new best candidate (fitness=7.002364066193853):\n",
      "def sum(a, b):\n",
      "    mc = (a + b) * ()\n",
      "    return FE\n",
      "Done!\n",
      "\n",
      "\n",
      "Restarting; trial #2\n"
     ]
    }
   ],
   "source": [
    "trial = 1\n",
    "found = False\n",
    "\n",
    "while not found:\n",
    "    sum_population = initial_population(sum_tree)\n",
    "    prev_best_fitness = -1\n",
    "\n",
    "    for generation in range(GENERATIONS):\n",
    "        sum_population = evolve(sum_population, min_fitness=prev_best_fitness)\n",
    "        sum_population = select(sum_population)\n",
    "        best_candidate, best_fitness = sum_population[0]\n",
    "        if best_fitness > prev_best_fitness:\n",
    "            print(f\"Generation {generation}: found new best candidate (fitness={best_fitness}):\")\n",
    "            best_ast = ast.fix_missing_locations(eval(str(best_candidate)))\n",
    "            print(ast.unparse(best_ast))\n",
    "            prev_best_fitness = best_fitness\n",
    "\n",
    "            if has_distributive_law(best_ast):\n",
    "                print(\"Done!\")\n",
    "                found = True\n",
    "                break\n",
    "\n",
    "    trial = trial + 1\n",
    "    print(f\"\\n\\nRestarting; trial #{trial}\")"
   ]
  },
  {
   "cell_type": "markdown",
   "id": "731ff108",
   "metadata": {
    "slideshow": {
     "slide_type": "subslide"
    }
   },
   "source": [
    "Success! We found a piece of code that triggers the bug. Check for occurrences of the distributive law."
   ]
  },
  {
   "cell_type": "code",
   "execution_count": 170,
   "id": "6790b028",
   "metadata": {
    "execution": {
     "iopub.execute_input": "2025-01-22T08:45:03.853894Z",
     "iopub.status.busy": "2025-01-22T08:45:03.853761Z",
     "iopub.status.idle": "2025-01-22T08:45:03.855951Z",
     "shell.execute_reply": "2025-01-22T08:45:03.855543Z"
    },
    "slideshow": {
     "slide_type": "fragment"
    }
   },
   "outputs": [
    {
     "name": "stdout",
     "output_type": "stream",
     "text": [
      "def sum(a, b):\n",
      "    mc = (a + b) * ()\n",
      "    return FE\n"
     ]
    }
   ],
   "source": [
    "print(ast.unparse(best_ast))"
   ]
  },
  {
   "cell_type": "code",
   "execution_count": 171,
   "id": "f7c4a787",
   "metadata": {
    "execution": {
     "iopub.execute_input": "2025-01-22T08:45:03.857853Z",
     "iopub.status.busy": "2025-01-22T08:45:03.857727Z",
     "iopub.status.idle": "2025-01-22T08:45:03.859622Z",
     "shell.execute_reply": "2025-01-22T08:45:03.859299Z"
    },
    "slideshow": {
     "slide_type": "fragment"
    }
   },
   "outputs": [],
   "source": [
    "assert has_distributive_law(best_ast)"
   ]
  },
  {
   "cell_type": "markdown",
   "id": "960225e0",
   "metadata": {
    "slideshow": {
     "slide_type": "subslide"
    }
   },
   "source": [
    "\n",
    "You may note that not all of the code is required to trigger the bug.\n",
    "We could run our evolutionary fuzzer a bit longer to see whether it can be further reduced,\n",
    "or use a dedicated input reduction technique such as [Delta Debugging](https://www.fuzzingbook.org/html/Reducer.html)."
   ]
  },
  {
   "cell_type": "markdown",
   "id": "b4eb2ad0",
   "metadata": {
    "slideshow": {
     "slide_type": "subslide"
    }
   },
   "source": [
    "### Chances of Evolutionary Fuzzing"
   ]
  },
  {
   "cell_type": "markdown",
   "id": "b8348276",
   "metadata": {
    "slideshow": {
     "slide_type": "subslide"
    }
   },
   "source": [
    "Could the bug in `distributive_law()` have been found without evolutionary guidance - i.e., simply by applying one mutation to `sum()`?\n",
    "\n",
    "When producing an expression (`<expr>`), we calculate how big the chances are to\n",
    "\n",
    "* Produce a binary operator, and\n",
    "* Produce a `*`, and\n",
    "* Produce another binary operator as one child, and\n",
    "* Produce a `+`\n",
    "\n",
    "Let's do a few queries on our grammar to compute the chances."
   ]
  },
  {
   "cell_type": "code",
   "execution_count": 172,
   "id": "d76764d3",
   "metadata": {
    "execution": {
     "iopub.execute_input": "2025-01-22T08:45:03.861377Z",
     "iopub.status.busy": "2025-01-22T08:45:03.861268Z",
     "iopub.status.idle": "2025-01-22T08:45:03.863149Z",
     "shell.execute_reply": "2025-01-22T08:45:03.862705Z"
    },
    "slideshow": {
     "slide_type": "subslide"
    }
   },
   "outputs": [],
   "source": [
    "assert '<BinOp>' in python_ast_grammar['<expr>']"
   ]
  },
  {
   "cell_type": "code",
   "execution_count": 173,
   "id": "138a32f4",
   "metadata": {
    "execution": {
     "iopub.execute_input": "2025-01-22T08:45:03.864617Z",
     "iopub.status.busy": "2025-01-22T08:45:03.864517Z",
     "iopub.status.idle": "2025-01-22T08:45:03.866619Z",
     "shell.execute_reply": "2025-01-22T08:45:03.866322Z"
    },
    "slideshow": {
     "slide_type": "fragment"
    }
   },
   "outputs": [
    {
     "data": {
      "text/plain": [
       "15"
      ]
     },
     "execution_count": 173,
     "metadata": {},
     "output_type": "execute_result"
    }
   ],
   "source": [
    "len(python_ast_grammar['<expr>'])"
   ]
  },
  {
   "cell_type": "code",
   "execution_count": 174,
   "id": "3c62ca04",
   "metadata": {
    "execution": {
     "iopub.execute_input": "2025-01-22T08:45:03.868175Z",
     "iopub.status.busy": "2025-01-22T08:45:03.868045Z",
     "iopub.status.idle": "2025-01-22T08:45:03.869929Z",
     "shell.execute_reply": "2025-01-22T08:45:03.869663Z"
    },
    "slideshow": {
     "slide_type": "fragment"
    }
   },
   "outputs": [],
   "source": [
    "assert 'Add()' in python_ast_grammar['<operator>']\n",
    "assert 'Mult()' in python_ast_grammar['<operator>']"
   ]
  },
  {
   "cell_type": "code",
   "execution_count": 175,
   "id": "4d714b50",
   "metadata": {
    "execution": {
     "iopub.execute_input": "2025-01-22T08:45:03.872920Z",
     "iopub.status.busy": "2025-01-22T08:45:03.872797Z",
     "iopub.status.idle": "2025-01-22T08:45:03.875624Z",
     "shell.execute_reply": "2025-01-22T08:45:03.875341Z"
    },
    "slideshow": {
     "slide_type": "fragment"
    }
   },
   "outputs": [
    {
     "data": {
      "text/plain": [
       "13"
      ]
     },
     "execution_count": 175,
     "metadata": {},
     "output_type": "execute_result"
    }
   ],
   "source": [
    "len(python_ast_grammar['<operator>'])"
   ]
  },
  {
   "cell_type": "code",
   "execution_count": 176,
   "id": "f8f8682c",
   "metadata": {
    "execution": {
     "iopub.execute_input": "2025-01-22T08:45:03.880360Z",
     "iopub.status.busy": "2025-01-22T08:45:03.880238Z",
     "iopub.status.idle": "2025-01-22T08:45:03.883008Z",
     "shell.execute_reply": "2025-01-22T08:45:03.882721Z"
    },
    "slideshow": {
     "slide_type": "fragment"
    }
   },
   "outputs": [
    {
     "data": {
      "text/plain": [
       "19012.5"
      ]
     },
     "execution_count": 176,
     "metadata": {},
     "output_type": "execute_result"
    }
   ],
   "source": [
    "(len(python_ast_grammar['<expr>'])       # chances of choosing a `BinOp`\n",
    "* len(python_ast_grammar['<operator>'])  # chances of choosing a `*`\n",
    "* len(python_ast_grammar['<expr>'])      # chances of choosing a `BinOp` as a child\n",
    "* len(python_ast_grammar['<operator>'])  # chances of choosing a `+`\n",
    "/ 2)   # two chances - one for the left child, one for the right"
   ]
  },
  {
   "cell_type": "markdown",
   "id": "aac0f655",
   "metadata": {
    "slideshow": {
     "slide_type": "subslide"
    }
   },
   "source": [
    "On average, it would take about 19000 (non-evolutionary) runs until we have an expression that triggers the distributive law.\n",
    "So it is definitely better to make use of additional information (say, coverage) in order to guide mutations towards a goal."
   ]
  },
  {
   "cell_type": "markdown",
   "id": "889bba83",
   "metadata": {
    "slideshow": {
     "slide_type": "slide"
    }
   },
   "source": [
    "## Synopsis"
   ]
  },
  {
   "cell_type": "markdown",
   "id": "d56e263b",
   "metadata": {
    "slideshow": {
     "slide_type": "fragment"
    }
   },
   "source": [
    "This chapter provides a `PythonFuzzer` class that allows producing arbitrary Python code elements:"
   ]
  },
  {
   "cell_type": "code",
   "execution_count": 177,
   "id": "66206429",
   "metadata": {
    "execution": {
     "iopub.execute_input": "2025-01-22T08:45:03.884668Z",
     "iopub.status.busy": "2025-01-22T08:45:03.884557Z",
     "iopub.status.idle": "2025-01-22T08:45:04.114606Z",
     "shell.execute_reply": "2025-01-22T08:45:04.114348Z"
    },
    "slideshow": {
     "slide_type": "fragment"
    }
   },
   "outputs": [
    {
     "name": "stdout",
     "output_type": "stream",
     "text": [
      "def R():\n",
      "    break\n"
     ]
    }
   ],
   "source": [
    "fuzzer = PythonFuzzer()\n",
    "print(fuzzer.fuzz())"
   ]
  },
  {
   "cell_type": "markdown",
   "id": "e1ee9650",
   "metadata": {
    "slideshow": {
     "slide_type": "fragment"
    }
   },
   "source": [
    "By default, `PythonFuzzer` produces a _function definition_ – that is, a list of statements as above.\n",
    "You can pass a `start_symbol` argument to state which Python element you'd like to have:"
   ]
  },
  {
   "cell_type": "code",
   "execution_count": 178,
   "id": "025c2902",
   "metadata": {
    "execution": {
     "iopub.execute_input": "2025-01-22T08:45:04.116235Z",
     "iopub.status.busy": "2025-01-22T08:45:04.116154Z",
     "iopub.status.idle": "2025-01-22T08:45:04.502250Z",
     "shell.execute_reply": "2025-01-22T08:45:04.501902Z"
    },
    "slideshow": {
     "slide_type": "subslide"
    }
   },
   "outputs": [
    {
     "name": "stdout",
     "output_type": "stream",
     "text": [
      "while {set()[set():set():set()]}:\n",
      "    C = set()\n",
      "    D @= set()\n",
      "    break\n",
      "else:\n",
      "    return\n"
     ]
    }
   ],
   "source": [
    "fuzzer = PythonFuzzer('<While>')\n",
    "print(fuzzer.fuzz())"
   ]
  },
  {
   "cell_type": "markdown",
   "id": "a54d4652",
   "metadata": {
    "slideshow": {
     "slide_type": "fragment"
    }
   },
   "source": [
    "Here is a list of all possible start symbols. Their names reflect the nonterminals from the [Python `ast` module documentation](https://docs.python.org/3/library/ast.html)."
   ]
  },
  {
   "cell_type": "code",
   "execution_count": 179,
   "id": "c042eaee",
   "metadata": {
    "execution": {
     "iopub.execute_input": "2025-01-22T08:45:04.505245Z",
     "iopub.status.busy": "2025-01-22T08:45:04.505110Z",
     "iopub.status.idle": "2025-01-22T08:45:04.507834Z",
     "shell.execute_reply": "2025-01-22T08:45:04.507517Z"
    },
    "slideshow": {
     "slide_type": "subslide"
    }
   },
   "outputs": [
    {
     "data": {
      "text/plain": [
       "['<Assert>',\n",
       " '<Assign>',\n",
       " '<Attribute>',\n",
       " '<AugAssign>',\n",
       " '<BinOp>',\n",
       " '<BoolOp>',\n",
       " '<Break>',\n",
       " '<Call>',\n",
       " '<Compare>',\n",
       " '<Constant>',\n",
       " '<Continue>',\n",
       " '<Delete>',\n",
       " '<Dict>',\n",
       " '<EmptySet>',\n",
       " '<Expr>',\n",
       " '<For>',\n",
       " '<FunctionDef>',\n",
       " '<If>',\n",
       " '<List>',\n",
       " '<Module>',\n",
       " '<Name>',\n",
       " '<Pass>',\n",
       " '<Return>',\n",
       " '<Set>',\n",
       " '<Slice>',\n",
       " '<Starred>',\n",
       " '<Subscript>',\n",
       " '<Tuple>',\n",
       " '<UnaryOp>',\n",
       " '<While>',\n",
       " '<With>',\n",
       " '<arg>',\n",
       " '<arg_list>',\n",
       " '<args>',\n",
       " '<args_param>',\n",
       " '<arguments>',\n",
       " '<bool>',\n",
       " '<boolop>',\n",
       " '<cmpop>',\n",
       " '<cmpop_list>',\n",
       " '<cmpops>',\n",
       " '<decorator_list_param>',\n",
       " '<defaults_param>',\n",
       " '<digit>',\n",
       " '<digits>',\n",
       " '<expr>',\n",
       " '<expr_list>',\n",
       " '<exprs>',\n",
       " '<float>',\n",
       " '<func>',\n",
       " '<id>',\n",
       " '<id_continue>',\n",
       " '<id_start>',\n",
       " '<identifier>',\n",
       " '<integer>',\n",
       " '<keyword>',\n",
       " '<keyword_list>',\n",
       " '<keywords>',\n",
       " '<keywords_param>',\n",
       " '<kw_defaults_param>',\n",
       " '<kwarg>',\n",
       " '<kwonlyargs_param>',\n",
       " '<lhs_Attribute>',\n",
       " '<lhs_List>',\n",
       " '<lhs_Name>',\n",
       " '<lhs_Starred>',\n",
       " '<lhs_Subscript>',\n",
       " '<lhs_Tuple>',\n",
       " '<lhs_expr>',\n",
       " '<lhs_exprs>',\n",
       " '<literal>',\n",
       " '<mod>',\n",
       " '<none>',\n",
       " '<nonempty_expr_list>',\n",
       " '<nonempty_lhs_expr_list>',\n",
       " '<nonempty_stmt_list>',\n",
       " '<nonzerodigit>',\n",
       " '<not_double_quotes>',\n",
       " '<not_single_quotes>',\n",
       " '<operator>',\n",
       " '<orelse_param>',\n",
       " '<posonlyargs_param>',\n",
       " '<returns>',\n",
       " '<start>',\n",
       " '<stmt>',\n",
       " '<stmt_list>',\n",
       " '<stmts>',\n",
       " '<string>',\n",
       " '<type_comment>',\n",
       " '<type_ignore>',\n",
       " '<type_ignore_list>',\n",
       " '<type_ignore_param>',\n",
       " '<type_ignores>',\n",
       " '<unaryop>',\n",
       " '<vararg>',\n",
       " '<withitem>',\n",
       " '<withitem_list>',\n",
       " '<withitems>']"
      ]
     },
     "execution_count": 179,
     "metadata": {},
     "output_type": "execute_result"
    }
   ],
   "source": [
    "sorted(list(PYTHON_AST_GRAMMAR.keys()))"
   ]
  },
  {
   "cell_type": "markdown",
   "id": "ee7c88f5",
   "metadata": {
    "slideshow": {
     "slide_type": "subslide"
    }
   },
   "source": [
    "If you'd like more control over Python code generation, here is what is happening behind the scenes.\n",
    "The EBNF grammar `PYTHON_AST_GRAMMAR` can parse and produce _abstract syntax trees_ for Python.\n",
    "To produce a Python module without `PythonFuzzer`, you would take these steps:"
   ]
  },
  {
   "cell_type": "markdown",
   "id": "a2d7f0c6",
   "metadata": {
    "slideshow": {
     "slide_type": "subslide"
    }
   },
   "source": [
    "**Step 1:** Create a non-EBNF grammar suitable for `ISLaSolver` (or any other grammar fuzzer):"
   ]
  },
  {
   "cell_type": "code",
   "execution_count": 180,
   "id": "699d35ce",
   "metadata": {
    "execution": {
     "iopub.execute_input": "2025-01-22T08:45:04.510139Z",
     "iopub.status.busy": "2025-01-22T08:45:04.509994Z",
     "iopub.status.idle": "2025-01-22T08:45:04.513353Z",
     "shell.execute_reply": "2025-01-22T08:45:04.512690Z"
    },
    "slideshow": {
     "slide_type": "fragment"
    }
   },
   "outputs": [],
   "source": [
    "python_ast_grammar = convert_ebnf_grammar(PYTHON_AST_GRAMMAR)"
   ]
  },
  {
   "cell_type": "markdown",
   "id": "ae8e69d6",
   "metadata": {
    "slideshow": {
     "slide_type": "subslide"
    }
   },
   "source": [
    "**Step 2:**  Feed the resulting grammar into a grammar fuzzer such as ISLa:"
   ]
  },
  {
   "cell_type": "code",
   "execution_count": 181,
   "id": "6614ddf4",
   "metadata": {
    "execution": {
     "iopub.execute_input": "2025-01-22T08:45:04.518395Z",
     "iopub.status.busy": "2025-01-22T08:45:04.518229Z",
     "iopub.status.idle": "2025-01-22T08:45:04.532446Z",
     "shell.execute_reply": "2025-01-22T08:45:04.532045Z"
    },
    "slideshow": {
     "slide_type": "fragment"
    }
   },
   "outputs": [],
   "source": [
    "solver = ISLaSolver(python_ast_grammar, start_symbol='<FunctionDef>')"
   ]
  },
  {
   "cell_type": "markdown",
   "id": "47a498df",
   "metadata": {
    "slideshow": {
     "slide_type": "subslide"
    }
   },
   "source": [
    "**Step 3:**  Have the grammar fuzzer produce a string. This string represents an AST."
   ]
  },
  {
   "cell_type": "code",
   "execution_count": 182,
   "id": "0682d5b0",
   "metadata": {
    "execution": {
     "iopub.execute_input": "2025-01-22T08:45:04.534231Z",
     "iopub.status.busy": "2025-01-22T08:45:04.534106Z",
     "iopub.status.idle": "2025-01-22T08:45:04.738981Z",
     "shell.execute_reply": "2025-01-22T08:45:04.738620Z"
    },
    "slideshow": {
     "slide_type": "fragment"
    }
   },
   "outputs": [
    {
     "data": {
      "text/plain": [
       "'FunctionDef(name=\\'y\\', args=arguments(posonlyargs=[], args=[], kwonlyargs=[], kw_defaults=[], defaults=[]), body=[Return()], decorator_list=[Call(func=Name(id=\"set\", ctx=Load()), args=[], keywords=[])])'"
      ]
     },
     "execution_count": 182,
     "metadata": {},
     "output_type": "execute_result"
    }
   ],
   "source": [
    "ast_string = str(solver.solve())\n",
    "ast_string"
   ]
  },
  {
   "cell_type": "markdown",
   "id": "1ef6635d",
   "metadata": {
    "slideshow": {
     "slide_type": "subslide"
    }
   },
   "source": [
    "**Step 4:**  Convert the AST into an actual Python AST data structure."
   ]
  },
  {
   "cell_type": "code",
   "execution_count": 183,
   "id": "d5e478da",
   "metadata": {
    "execution": {
     "iopub.execute_input": "2025-01-22T08:45:04.740892Z",
     "iopub.status.busy": "2025-01-22T08:45:04.740761Z",
     "iopub.status.idle": "2025-01-22T08:45:04.742471Z",
     "shell.execute_reply": "2025-01-22T08:45:04.742145Z"
    },
    "slideshow": {
     "slide_type": "skip"
    }
   },
   "outputs": [],
   "source": [
    "from ast import *"
   ]
  },
  {
   "cell_type": "code",
   "execution_count": 184,
   "id": "c2b1527b",
   "metadata": {
    "execution": {
     "iopub.execute_input": "2025-01-22T08:45:04.743929Z",
     "iopub.status.busy": "2025-01-22T08:45:04.743827Z",
     "iopub.status.idle": "2025-01-22T08:45:04.745414Z",
     "shell.execute_reply": "2025-01-22T08:45:04.745186Z"
    },
    "slideshow": {
     "slide_type": "fragment"
    }
   },
   "outputs": [],
   "source": [
    "abstract_syntax_tree = eval(ast_string)"
   ]
  },
  {
   "cell_type": "markdown",
   "id": "4f74ed4a",
   "metadata": {
    "slideshow": {
     "slide_type": "subslide"
    }
   },
   "source": [
    "**Step 5:** Finally, convert the AST structure back into readable Python code:"
   ]
  },
  {
   "cell_type": "code",
   "execution_count": 185,
   "id": "3ae1f5a4",
   "metadata": {
    "execution": {
     "iopub.execute_input": "2025-01-22T08:45:04.746884Z",
     "iopub.status.busy": "2025-01-22T08:45:04.746797Z",
     "iopub.status.idle": "2025-01-22T08:45:04.748524Z",
     "shell.execute_reply": "2025-01-22T08:45:04.748295Z"
    },
    "slideshow": {
     "slide_type": "fragment"
    }
   },
   "outputs": [
    {
     "name": "stdout",
     "output_type": "stream",
     "text": [
      "@set()\n",
      "def y():\n",
      "    return\n"
     ]
    }
   ],
   "source": [
    "ast.fix_missing_locations(abstract_syntax_tree)\n",
    "print(ast.unparse(abstract_syntax_tree))"
   ]
  },
  {
   "cell_type": "markdown",
   "id": "d3b67aec",
   "metadata": {
    "slideshow": {
     "slide_type": "fragment"
    }
   },
   "source": [
    "The chapter has many more applications, including parsing and mutating Python code, evolutionary fuzzing, and more."
   ]
  },
  {
   "cell_type": "markdown",
   "id": "90b4249c",
   "metadata": {
    "slideshow": {
     "slide_type": "fragment"
    }
   },
   "source": [
    "Here are the details on the `PythonFuzzer` constructor:"
   ]
  },
  {
   "cell_type": "code",
   "execution_count": 186,
   "id": "6400fb59",
   "metadata": {
    "execution": {
     "iopub.execute_input": "2025-01-22T08:45:04.749778Z",
     "iopub.status.busy": "2025-01-22T08:45:04.749703Z",
     "iopub.status.idle": "2025-01-22T08:45:04.751262Z",
     "shell.execute_reply": "2025-01-22T08:45:04.751072Z"
    },
    "slideshow": {
     "slide_type": "fragment"
    }
   },
   "outputs": [],
   "source": [
    "# ignore\n",
    "import inspect\n",
    "import markdown\n",
    "from bookutils import HTML"
   ]
  },
  {
   "cell_type": "code",
   "execution_count": 187,
   "id": "3cdeae7b",
   "metadata": {
    "execution": {
     "iopub.execute_input": "2025-01-22T08:45:04.752508Z",
     "iopub.status.busy": "2025-01-22T08:45:04.752444Z",
     "iopub.status.idle": "2025-01-22T08:45:04.755689Z",
     "shell.execute_reply": "2025-01-22T08:45:04.755450Z"
    },
    "slideshow": {
     "slide_type": "subslide"
    }
   },
   "outputs": [
    {
     "data": {
      "text/html": [
       "<p><code>PythonFuzzer(self, start_symbol: Optional[str] = None, *, grammar: Optional[Dict[str, List[Union[str, Tuple[str, Dict[str, Any]]]]]] = None, constraint: Optional[str] = None, **kw_params) -&gt; None</code></p>\n",
       "<p>Produce Python code. Parameters are:</p>\n",
       "<ul>\n",
       "<li><code>start_symbol</code>: The grammatical entity to be generated (default: <code>&lt;FunctionDef&gt;</code>)</li>\n",
       "<li><code>grammar</code>: The EBNF grammar to be used (default: <code>PYTHON__AST_GRAMMAR</code>); and</li>\n",
       "<li><code>constraint</code> an ISLa constraint (if any).</li>\n",
       "</ul>\n",
       "<p>Additional keyword parameters are passed to the <code>ISLaSolver</code> superclass.</p>"
      ],
      "text/plain": [
       "<IPython.core.display.HTML object>"
      ]
     },
     "execution_count": 187,
     "metadata": {},
     "output_type": "execute_result"
    }
   ],
   "source": [
    "# ignore\n",
    "sig = inspect.signature(PythonFuzzer.__init__)\n",
    "sig_str = str(sig) if sig else \"\"\n",
    "doc = inspect.getdoc(PythonFuzzer.__init__) or \"\"\n",
    "HTML(markdown.markdown('`PythonFuzzer' + sig_str + '`\\n\\n' + doc))"
   ]
  },
  {
   "cell_type": "code",
   "execution_count": 188,
   "id": "2f7f3f7d",
   "metadata": {
    "execution": {
     "iopub.execute_input": "2025-01-22T08:45:04.757014Z",
     "iopub.status.busy": "2025-01-22T08:45:04.756944Z",
     "iopub.status.idle": "2025-01-22T08:45:04.758413Z",
     "shell.execute_reply": "2025-01-22T08:45:04.758189Z"
    },
    "slideshow": {
     "slide_type": "fragment"
    }
   },
   "outputs": [],
   "source": [
    "# ignore\n",
    "from ClassDiagram import display_class_hierarchy"
   ]
  },
  {
   "cell_type": "code",
   "execution_count": 189,
   "id": "510e1e71",
   "metadata": {
    "execution": {
     "iopub.execute_input": "2025-01-22T08:45:04.762252Z",
     "iopub.status.busy": "2025-01-22T08:45:04.762152Z",
     "iopub.status.idle": "2025-01-22T08:45:06.242975Z",
     "shell.execute_reply": "2025-01-22T08:45:06.242552Z"
    },
    "slideshow": {
     "slide_type": "subslide"
    }
   },
   "outputs": [
    {
     "data": {
      "image/svg+xml": [
       "<?xml version=\"1.0\" encoding=\"UTF-8\" standalone=\"no\"?>\n",
       "<!DOCTYPE svg PUBLIC \"-//W3C//DTD SVG 1.1//EN\"\n",
       " \"http://www.w3.org/Graphics/SVG/1.1/DTD/svg11.dtd\">\n",
       "<!-- Generated by graphviz version 12.2.1 (20241206.2353)\n",
       " -->\n",
       "<!-- Pages: 1 -->\n",
       "<svg width=\"248pt\" height=\"152pt\"\n",
       " viewBox=\"0.00 0.00 248.12 152.25\" xmlns=\"http://www.w3.org/2000/svg\" xmlns:xlink=\"http://www.w3.org/1999/xlink\">\n",
       "<g id=\"graph0\" class=\"graph\" transform=\"scale(1 1) rotate(0) translate(4 148.25)\">\n",
       "<g id=\"a_graph0\"><a xlink:title=\"PythonFuzzer class hierarchy\">\n",
       "<polygon fill=\"white\" stroke=\"none\" points=\"-4,4 -4,-148.25 244.12,-148.25 244.12,4 -4,4\"/>\n",
       "</a>\n",
       "</g>\n",
       "<!-- PythonFuzzer -->\n",
       "<g id=\"node1\" class=\"node\">\n",
       "<title>PythonFuzzer</title>\n",
       "<g id=\"a_node1\"><a xlink:href=\"#\" xlink:title=\"class PythonFuzzer:&#10;Produce Python code.\">\n",
       "<polygon fill=\"none\" stroke=\"black\" points=\"0,-0.5 0,-60 103,-60 103,-0.5 0,-0.5\"/>\n",
       "<text text-anchor=\"start\" x=\"8\" y=\"-43.7\" font-family=\"Patua One, Helvetica, sans-serif\" font-weight=\"bold\" font-size=\"14.00\" fill=\"#b03a2e\">PythonFuzzer</text>\n",
       "<polyline fill=\"none\" stroke=\"black\" points=\"0,-34 103,-34\"/>\n",
       "<g id=\"a_node1_0\"><a xlink:href=\"#\" xlink:title=\"PythonFuzzer\">\n",
       "<g id=\"a_node1_1\"><a xlink:href=\"#\" xlink:title=\"__init__(self, start_symbol: Optional[str] = None, *, grammar: Optional[Dict[str, List[Union[str, Tuple[str, Dict[str, Any]]]]]] = None, constraint: Optional[str] = None, **kw_params) &#45;&gt; None:&#10;Produce Python code. Parameters are:&#10;&#10;* `start_symbol`: The grammatical entity to be generated (default: `&lt;FunctionDef&gt;`)&#10;* `grammar`: The EBNF grammar to be used (default: `PYTHON__AST_GRAMMAR`); and&#10;* `constraint` an ISLa constraint (if any).&#10;&#10;Additional keyword parameters are passed to the `ISLaSolver` superclass.\">\n",
       "<text text-anchor=\"start\" x=\"21.5\" y=\"-21.5\" font-family=\"'Fira Mono', 'Source Code Pro', 'Courier', monospace\" font-weight=\"bold\" font-style=\"italic\" font-size=\"10.00\">__init__()</text>\n",
       "</a>\n",
       "</g>\n",
       "<g id=\"a_node1_2\"><a xlink:href=\"#\" xlink:title=\"fuzz(self) &#45;&gt; str:&#10;Produce a Python code string.\">\n",
       "<text text-anchor=\"start\" x=\"21.5\" y=\"-8.75\" font-family=\"'Fira Mono', 'Source Code Pro', 'Courier', monospace\" font-weight=\"bold\" font-size=\"10.00\">fuzz()</text>\n",
       "</a>\n",
       "</g>\n",
       "</a>\n",
       "</g>\n",
       "</a>\n",
       "</g>\n",
       "</g>\n",
       "<!-- ISLaSolver -->\n",
       "<g id=\"node2\" class=\"node\">\n",
       "<title>ISLaSolver</title>\n",
       "<g id=\"a_node2\"><a xlink:href=\"isla.solver.ipynb\" xlink:title=\"class ISLaSolver:&#10;The solver class for ISLa formulas/constraints. Its top&#45;level methods are&#10;&#10;:meth:`~isla.solver.ISLaSolver.solve`&#10;Use to generate solutions for an ISLa constraint.&#10;&#10;:meth:`~isla.solver.ISLaSolver.check`&#10;Use to check if an ISLa constraint is satisfied for a given input.&#10;&#10;:meth:`~isla.solver.ISLaSolver.parse`&#10;Use to parse and validate an input.&#10;&#10;:meth:`~isla.solver.ISLaSolver.repair`&#10;Use to repair an input such that it satisfies a constraint.&#10;&#10;:meth:`~isla.solver.ISLaSolver.mutate`&#10;Use to mutate an input such that the result satisfies a constraint.\">\n",
       "<polygon fill=\"none\" stroke=\"black\" points=\"10.88,-97 10.88,-143.75 92.12,-143.75 92.12,-97 10.88,-97\"/>\n",
       "<text text-anchor=\"start\" x=\"18.88\" y=\"-127.45\" font-family=\"Patua One, Helvetica, sans-serif\" font-weight=\"bold\" font-size=\"14.00\" fill=\"#b03a2e\">ISLaSolver</text>\n",
       "<polyline fill=\"none\" stroke=\"black\" points=\"10.88,-117.75 92.12,-117.75\"/>\n",
       "<g id=\"a_node2_3\"><a xlink:href=\"#\" xlink:title=\"ISLaSolver\">\n",
       "<g id=\"a_node2_4\"><a xlink:href=\"isla.solver.ipynb\" xlink:title=\"__init__(self, grammar: Union[Dict[str, List[str]], str], formula: Union[isla.language.Formula, str, NoneType] = None, structural_predicates: Set[isla.language.StructuralPredicate] = frozenset({StructuralPredicate(name=&#39;nth&#39;, arity=3, eval_fun=&lt;function is_nth at 0x120f1c360&gt;), StructuralPredicate(name=&#39;inside&#39;, arity=2, eval_fun=&lt;function in_tree at 0x120f1c400&gt;), StructuralPredicate(name=&#39;same_position&#39;, arity=2, eval_fun=&lt;function is_same_position at 0x120f1c0e0&gt;), StructuralPredicate(name=&#39;consecutive&#39;, arity=2, eval_fun=&lt;function consecutive at 0x120f1c4a0&gt;), StructuralPredicate(name=&#39;different_position&#39;, arity=2, eval_fun=&lt;function is_different_position at 0x120f1c2c0&gt;), StructuralPredicate(name=&#39;before&#39;, arity=2, eval_fun=&lt;function is_before at 0x120ae5080&gt;), StructuralPredicate(name=&#39;level&#39;, arity=4, eval_fun=&lt;function level_check at 0x120f1c540&gt;), StructuralPredicate(name=&#39;direct_child&#39;, arity=2, eval_fun=&lt;function is_direct_child at 0x120f1d580&gt;), StructuralPredicate(name=&#39;after&#39;, arity=2, eval_fun=&lt;function is_after at 0x120f13880&gt;)}), semantic_predicates: Set[isla.language.SemanticPredicate] = frozenset({SemanticPredicate(count, 3)}), max_number_free_instantiations: int = 10, max_number_smt_instantiations: int = 10, max_number_tree_insertion_results: int = 5, enforce_unique_trees_in_queue: bool = False, debug: bool = False, cost_computer: Optional[ForwardRef(&#39;CostComputer&#39;)] = None, timeout_seconds: Optional[int] = None, global_fuzzer: bool = False, predicates_unique_in_int_arg: Tuple[isla.language.SemanticPredicate, ...] = (SemanticPredicate(count, 3),), fuzzer_factory: Callable[[Dict[str, List[str]]], isla.fuzzer.GrammarFuzzer] = &lt;function SolverDefaults.&lt;lambda&gt; at 0x120f41760&gt;, tree_insertion_methods: Optional[int] = None, activate_unsat_support: bool = False, grammar_unwinding_threshold: int = 4, initial_tree: isla.helpers.Maybe[isla.derivation_tree.DerivationTree] = Maybe(a=None), enable_optimized_z3_queries: bool = True, start_symbol: Optional[str] = None):&#10;The constructor of :class:`~isla.solver.ISLaSolver` accepts a large number of&#10;parameters. However, all but the first one, :code:`grammar`, are *optional.*&#10;&#10;The simplest way to construct an ISLa solver is by only providing it with a&#10;grammar only; it then works like a grammar fuzzer.&#10;&#10;&gt;&gt;&gt; import random&#10;&gt;&gt;&gt; random.seed(1)&#10;&#10;&gt;&gt;&gt; import string&#10;&gt;&gt;&gt; LANG_GRAMMAR = {&#10;... &#160;&#160;&#160;&#160;&quot;&lt;start&gt;&quot;:&#10;... &#160;&#160;&#160;&#160;&#160;&#160;&#160;&#160;[&quot;&lt;stmt&gt;&quot;],&#10;... &#160;&#160;&#160;&#160;&quot;&lt;stmt&gt;&quot;:&#10;... &#160;&#160;&#160;&#160;&#160;&#160;&#160;&#160;[&quot;&lt;assgn&gt; ; &lt;stmt&gt;&quot;, &quot;&lt;assgn&gt;&quot;],&#10;... &#160;&#160;&#160;&#160;&quot;&lt;assgn&gt;&quot;:&#10;... &#160;&#160;&#160;&#160;&#160;&#160;&#160;&#160;[&quot;&lt;var&gt; := &lt;rhs&gt;&quot;],&#10;... &#160;&#160;&#160;&#160;&quot;&lt;rhs&gt;&quot;:&#10;... &#160;&#160;&#160;&#160;&#160;&#160;&#160;&#160;[&quot;&lt;var&gt;&quot;, &quot;&lt;digit&gt;&quot;],&#10;... &#160;&#160;&#160;&#160;&quot;&lt;var&gt;&quot;: list(string.ascii_lowercase),&#10;... &#160;&#160;&#160;&#160;&quot;&lt;digit&gt;&quot;: list(string.digits)&#10;... }&#10;&gt;&gt;&gt;&#10;&gt;&gt;&gt; from isla.solver import ISLaSolver&#10;&gt;&gt;&gt; solver = ISLaSolver(LANG_GRAMMAR)&#10;&gt;&gt;&gt;&#10;&gt;&gt;&gt; str(solver.solve())&#10;&#39;d := 9&#39;&#10;&gt;&gt;&gt; str(solver.solve())&#10;&#39;v := n ; s := r&#39;&#10;&#10;:param grammar: The underlying grammar; either, as a &quot;Fuzzing Book&quot; dictionary&#10;or in BNF syntax.&#10;:param formula: The formula to solve; either a string or a readily parsed&#10;formula. If no formula is given, a default `true` constraint is assumed, and&#10;the solver falls back to a grammar fuzzer. The number of produced solutions&#10;will then be bound by `max_number_free_instantiations`.&#10;:param structural_predicates: Structural predicates to use when parsing a&#10;formula.&#10;:param semantic_predicates: Semantic predicates to use when parsing a formula.&#10;:param max_number_free_instantiations: Number of times that nonterminals that&#10;are not bound by any formula should be expanded by a coverage&#45;based fuzzer.&#10;:param max_number_smt_instantiations: Number of solutions of SMT formulas that&#10;should be produced.&#10;:param max_number_tree_insertion_results: The maximum number of results when&#10;solving existential quantifiers by tree insertion.&#10;:param enforce_unique_trees_in_queue: If true, states with the same tree as an&#10;already existing tree in the queue are discarded, irrespectively of the&#10;constraint.&#10;:param debug: If true, debug information about the evolution of states is&#10;collected, notably in the field state_tree. The root of the tree is in the&#10;field state_tree_root. The field costs stores the computed cost values for&#10;all new nodes.&#10;:param cost_computer: The `CostComputer` class for computing the cost relevant&#10;to placing states in ISLa&#39;s queue.&#10;:param timeout_seconds: Number of seconds after which the solver will terminate.&#10;:param global_fuzzer: If set to True, only one coverage&#45;guided grammar fuzzer&#10;object is used to finish off unconstrained open derivation trees throughout&#10;the whole generation time. This may be beneficial for some targets; e.g., we&#10;experienced that CSV works significantly faster. However, the achieved k&#45;path&#10;coverage can be lower with that setting.&#10;:param predicates_unique_in_int_arg: This is needed in certain cases for&#10;instantiating universal integer quantifiers. The supplied predicates should&#10;have exactly one integer argument, and hold for exactly one integer value&#10;once all other parameters are fixed.&#10;:param fuzzer_factory: Constructor of the fuzzer to use for instantiating&#10;&quot;free&quot; nonterminals.&#10;:param tree_insertion_methods: Combination of methods to use for existential&#10;quantifier elimination by tree insertion. Full selection: `DIRECT_EMBEDDING &amp;&#10;SELF_EMBEDDING &amp; CONTEXT_ADDITION`.&#10;:param activate_unsat_support: Set to True if you assume that a formula might&#10;be unsatisfiable. This triggers additional tests for unsatisfiability that&#10;reduce input generation performance, but might ensure termination (with a&#10;negative solver result) for unsatisfiable problems for which the solver could&#10;otherwise diverge.&#10;:param grammar_unwinding_threshold: When querying the SMT solver, ISLa passes a&#10;regular expression for the syntax of the involved nonterminals. If this&#10;syntax is not regular, we unwind the respective part in the reference grammar&#10;up to a depth of `grammar_unwinding_threshold`. If this is too shallow, it can&#10;happen that an equation etc. cannot be solved; if it is too deep, it can&#10;negatively impact performance (and quite tremendously so).&#10;:param initial_tree: An initial input tree for the queue, if the solver shall&#10;not start from the tree `(&lt;start&gt;, None)`.&#10;:param enable_optimized_z3_queries: Enables preprocessing of Z3 queries (mainly&#10;numeric problems concerning things like length). This can improve performance&#10;significantly; however, it might happen that certain problems cannot be solved&#10;anymore. In that case, this option can/should be deactivated.&#10;:param start_symbol: This is an alternative to `initial_tree` for starting with&#10;a start symbol different form `&lt;start&gt;`. If `start_symbol` is provided, a tree&#10;consisting of a single root node with the value of `start_symbol` is chosen as&#10;initial tree.\">\n",
       "<text text-anchor=\"start\" x=\"21.5\" y=\"-105.25\" font-family=\"'Fira Mono', 'Source Code Pro', 'Courier', monospace\" font-weight=\"bold\" font-style=\"italic\" font-size=\"10.00\">__init__()</text>\n",
       "</a>\n",
       "</g>\n",
       "</a>\n",
       "</g>\n",
       "</a>\n",
       "</g>\n",
       "</g>\n",
       "<!-- PythonFuzzer&#45;&gt;ISLaSolver -->\n",
       "<g id=\"edge1\" class=\"edge\">\n",
       "<title>PythonFuzzer&#45;&gt;ISLaSolver</title>\n",
       "<path fill=\"none\" stroke=\"black\" d=\"M51.5,-60.11C51.5,-68.16 51.5,-76.98 51.5,-85.3\"/>\n",
       "<polygon fill=\"none\" stroke=\"black\" points=\"48,-85.09 51.5,-95.09 55,-85.09 48,-85.09\"/>\n",
       "</g>\n",
       "<!-- Legend -->\n",
       "<g id=\"node3\" class=\"node\">\n",
       "<title>Legend</title>\n",
       "<text text-anchor=\"start\" x=\"120.88\" y=\"-46.25\" font-family=\"Patua One, Helvetica, sans-serif\" font-weight=\"bold\" font-size=\"10.00\" fill=\"#b03a2e\">Legend</text>\n",
       "<text text-anchor=\"start\" x=\"120.88\" y=\"-36.25\" font-family=\"Patua One, Helvetica, sans-serif\" font-size=\"10.00\">• </text>\n",
       "<text text-anchor=\"start\" x=\"126.88\" y=\"-36.25\" font-family=\"'Fira Mono', 'Source Code Pro', 'Courier', monospace\" font-weight=\"bold\" font-size=\"8.00\">public_method()</text>\n",
       "<text text-anchor=\"start\" x=\"120.88\" y=\"-26.25\" font-family=\"Patua One, Helvetica, sans-serif\" font-size=\"10.00\">• </text>\n",
       "<text text-anchor=\"start\" x=\"126.88\" y=\"-26.25\" font-family=\"'Fira Mono', 'Source Code Pro', 'Courier', monospace\" font-size=\"8.00\">private_method()</text>\n",
       "<text text-anchor=\"start\" x=\"120.88\" y=\"-16.25\" font-family=\"Patua One, Helvetica, sans-serif\" font-size=\"10.00\">• </text>\n",
       "<text text-anchor=\"start\" x=\"126.88\" y=\"-16.25\" font-family=\"'Fira Mono', 'Source Code Pro', 'Courier', monospace\" font-style=\"italic\" font-size=\"8.00\">overloaded_method()</text>\n",
       "<text text-anchor=\"start\" x=\"120.88\" y=\"-7.2\" font-family=\"Helvetica,sans-Serif\" font-size=\"9.00\">Hover over names to see doc</text>\n",
       "</g>\n",
       "</g>\n",
       "</svg>\n"
      ],
      "text/html": [
       "<?xml version=\"1.0\" encoding=\"UTF-8\" standalone=\"no\"?>\n",
       "<!DOCTYPE svg PUBLIC \"-//W3C//DTD SVG 1.1//EN\"\n",
       " \"http://www.w3.org/Graphics/SVG/1.1/DTD/svg11.dtd\">\n",
       "<!-- Generated by graphviz version 12.2.1 (20241206.2353)\n",
       " -->\n",
       "<!-- Pages: 1 -->\n",
       "<svg width=\"248pt\" height=\"152pt\"\n",
       " viewBox=\"0.00 0.00 248.12 152.25\" xmlns=\"http://www.w3.org/2000/svg\" xmlns:xlink=\"http://www.w3.org/1999/xlink\">\n",
       "<g id=\"graph0\" class=\"graph\" transform=\"scale(1 1) rotate(0) translate(4 148.25)\">\n",
       "<g id=\"a_graph0\"><a xlink:title=\"PythonFuzzer class hierarchy\">\n",
       "<polygon fill=\"white\" stroke=\"none\" points=\"-4,4 -4,-148.25 244.12,-148.25 244.12,4 -4,4\"/>\n",
       "</a>\n",
       "</g>\n",
       "<!-- PythonFuzzer -->\n",
       "<g id=\"node1\" class=\"node\">\n",
       "<title>PythonFuzzer</title>\n",
       "<g id=\"a_node1\"><a xlink:href=\"#\" xlink:title=\"class PythonFuzzer:&#10;Produce Python code.\">\n",
       "<polygon fill=\"none\" stroke=\"black\" points=\"0,-0.5 0,-60 103,-60 103,-0.5 0,-0.5\"/>\n",
       "<text text-anchor=\"start\" x=\"8\" y=\"-43.7\" font-family=\"Patua One, Helvetica, sans-serif\" font-weight=\"bold\" font-size=\"14.00\" fill=\"#b03a2e\">PythonFuzzer</text>\n",
       "<polyline fill=\"none\" stroke=\"black\" points=\"0,-34 103,-34\"/>\n",
       "<g id=\"a_node1_0\"><a xlink:href=\"#\" xlink:title=\"PythonFuzzer\">\n",
       "<g id=\"a_node1_1\"><a xlink:href=\"#\" xlink:title=\"__init__(self, start_symbol: Optional[str] = None, *, grammar: Optional[Dict[str, List[Union[str, Tuple[str, Dict[str, Any]]]]]] = None, constraint: Optional[str] = None, **kw_params) &#45;&gt; None:&#10;Produce Python code. Parameters are:&#10;&#10;* `start_symbol`: The grammatical entity to be generated (default: `&lt;FunctionDef&gt;`)&#10;* `grammar`: The EBNF grammar to be used (default: `PYTHON__AST_GRAMMAR`); and&#10;* `constraint` an ISLa constraint (if any).&#10;&#10;Additional keyword parameters are passed to the `ISLaSolver` superclass.\">\n",
       "<text text-anchor=\"start\" x=\"21.5\" y=\"-21.5\" font-family=\"'Fira Mono', 'Source Code Pro', 'Courier', monospace\" font-weight=\"bold\" font-style=\"italic\" font-size=\"10.00\">__init__()</text>\n",
       "</a>\n",
       "</g>\n",
       "<g id=\"a_node1_2\"><a xlink:href=\"#\" xlink:title=\"fuzz(self) &#45;&gt; str:&#10;Produce a Python code string.\">\n",
       "<text text-anchor=\"start\" x=\"21.5\" y=\"-8.75\" font-family=\"'Fira Mono', 'Source Code Pro', 'Courier', monospace\" font-weight=\"bold\" font-size=\"10.00\">fuzz()</text>\n",
       "</a>\n",
       "</g>\n",
       "</a>\n",
       "</g>\n",
       "</a>\n",
       "</g>\n",
       "</g>\n",
       "<!-- ISLaSolver -->\n",
       "<g id=\"node2\" class=\"node\">\n",
       "<title>ISLaSolver</title>\n",
       "<g id=\"a_node2\"><a xlink:href=\"isla.solver.ipynb\" xlink:title=\"class ISLaSolver:&#10;The solver class for ISLa formulas/constraints. Its top&#45;level methods are&#10;&#10;:meth:`~isla.solver.ISLaSolver.solve`&#10;Use to generate solutions for an ISLa constraint.&#10;&#10;:meth:`~isla.solver.ISLaSolver.check`&#10;Use to check if an ISLa constraint is satisfied for a given input.&#10;&#10;:meth:`~isla.solver.ISLaSolver.parse`&#10;Use to parse and validate an input.&#10;&#10;:meth:`~isla.solver.ISLaSolver.repair`&#10;Use to repair an input such that it satisfies a constraint.&#10;&#10;:meth:`~isla.solver.ISLaSolver.mutate`&#10;Use to mutate an input such that the result satisfies a constraint.\">\n",
       "<polygon fill=\"none\" stroke=\"black\" points=\"10.88,-97 10.88,-143.75 92.12,-143.75 92.12,-97 10.88,-97\"/>\n",
       "<text text-anchor=\"start\" x=\"18.88\" y=\"-127.45\" font-family=\"Patua One, Helvetica, sans-serif\" font-weight=\"bold\" font-size=\"14.00\" fill=\"#b03a2e\">ISLaSolver</text>\n",
       "<polyline fill=\"none\" stroke=\"black\" points=\"10.88,-117.75 92.12,-117.75\"/>\n",
       "<g id=\"a_node2_3\"><a xlink:href=\"#\" xlink:title=\"ISLaSolver\">\n",
       "<g id=\"a_node2_4\"><a xlink:href=\"isla.solver.ipynb\" xlink:title=\"__init__(self, grammar: Union[Dict[str, List[str]], str], formula: Union[isla.language.Formula, str, NoneType] = None, structural_predicates: Set[isla.language.StructuralPredicate] = frozenset({StructuralPredicate(name=&#39;nth&#39;, arity=3, eval_fun=&lt;function is_nth at 0x120f1c360&gt;), StructuralPredicate(name=&#39;inside&#39;, arity=2, eval_fun=&lt;function in_tree at 0x120f1c400&gt;), StructuralPredicate(name=&#39;same_position&#39;, arity=2, eval_fun=&lt;function is_same_position at 0x120f1c0e0&gt;), StructuralPredicate(name=&#39;consecutive&#39;, arity=2, eval_fun=&lt;function consecutive at 0x120f1c4a0&gt;), StructuralPredicate(name=&#39;different_position&#39;, arity=2, eval_fun=&lt;function is_different_position at 0x120f1c2c0&gt;), StructuralPredicate(name=&#39;before&#39;, arity=2, eval_fun=&lt;function is_before at 0x120ae5080&gt;), StructuralPredicate(name=&#39;level&#39;, arity=4, eval_fun=&lt;function level_check at 0x120f1c540&gt;), StructuralPredicate(name=&#39;direct_child&#39;, arity=2, eval_fun=&lt;function is_direct_child at 0x120f1d580&gt;), StructuralPredicate(name=&#39;after&#39;, arity=2, eval_fun=&lt;function is_after at 0x120f13880&gt;)}), semantic_predicates: Set[isla.language.SemanticPredicate] = frozenset({SemanticPredicate(count, 3)}), max_number_free_instantiations: int = 10, max_number_smt_instantiations: int = 10, max_number_tree_insertion_results: int = 5, enforce_unique_trees_in_queue: bool = False, debug: bool = False, cost_computer: Optional[ForwardRef(&#39;CostComputer&#39;)] = None, timeout_seconds: Optional[int] = None, global_fuzzer: bool = False, predicates_unique_in_int_arg: Tuple[isla.language.SemanticPredicate, ...] = (SemanticPredicate(count, 3),), fuzzer_factory: Callable[[Dict[str, List[str]]], isla.fuzzer.GrammarFuzzer] = &lt;function SolverDefaults.&lt;lambda&gt; at 0x120f41760&gt;, tree_insertion_methods: Optional[int] = None, activate_unsat_support: bool = False, grammar_unwinding_threshold: int = 4, initial_tree: isla.helpers.Maybe[isla.derivation_tree.DerivationTree] = Maybe(a=None), enable_optimized_z3_queries: bool = True, start_symbol: Optional[str] = None):&#10;The constructor of :class:`~isla.solver.ISLaSolver` accepts a large number of&#10;parameters. However, all but the first one, :code:`grammar`, are *optional.*&#10;&#10;The simplest way to construct an ISLa solver is by only providing it with a&#10;grammar only; it then works like a grammar fuzzer.&#10;&#10;&gt;&gt;&gt; import random&#10;&gt;&gt;&gt; random.seed(1)&#10;&#10;&gt;&gt;&gt; import string&#10;&gt;&gt;&gt; LANG_GRAMMAR = {&#10;... &#160;&#160;&#160;&#160;&quot;&lt;start&gt;&quot;:&#10;... &#160;&#160;&#160;&#160;&#160;&#160;&#160;&#160;[&quot;&lt;stmt&gt;&quot;],&#10;... &#160;&#160;&#160;&#160;&quot;&lt;stmt&gt;&quot;:&#10;... &#160;&#160;&#160;&#160;&#160;&#160;&#160;&#160;[&quot;&lt;assgn&gt; ; &lt;stmt&gt;&quot;, &quot;&lt;assgn&gt;&quot;],&#10;... &#160;&#160;&#160;&#160;&quot;&lt;assgn&gt;&quot;:&#10;... &#160;&#160;&#160;&#160;&#160;&#160;&#160;&#160;[&quot;&lt;var&gt; := &lt;rhs&gt;&quot;],&#10;... &#160;&#160;&#160;&#160;&quot;&lt;rhs&gt;&quot;:&#10;... &#160;&#160;&#160;&#160;&#160;&#160;&#160;&#160;[&quot;&lt;var&gt;&quot;, &quot;&lt;digit&gt;&quot;],&#10;... &#160;&#160;&#160;&#160;&quot;&lt;var&gt;&quot;: list(string.ascii_lowercase),&#10;... &#160;&#160;&#160;&#160;&quot;&lt;digit&gt;&quot;: list(string.digits)&#10;... }&#10;&gt;&gt;&gt;&#10;&gt;&gt;&gt; from isla.solver import ISLaSolver&#10;&gt;&gt;&gt; solver = ISLaSolver(LANG_GRAMMAR)&#10;&gt;&gt;&gt;&#10;&gt;&gt;&gt; str(solver.solve())&#10;&#39;d := 9&#39;&#10;&gt;&gt;&gt; str(solver.solve())&#10;&#39;v := n ; s := r&#39;&#10;&#10;:param grammar: The underlying grammar; either, as a &quot;Fuzzing Book&quot; dictionary&#10;or in BNF syntax.&#10;:param formula: The formula to solve; either a string or a readily parsed&#10;formula. If no formula is given, a default `true` constraint is assumed, and&#10;the solver falls back to a grammar fuzzer. The number of produced solutions&#10;will then be bound by `max_number_free_instantiations`.&#10;:param structural_predicates: Structural predicates to use when parsing a&#10;formula.&#10;:param semantic_predicates: Semantic predicates to use when parsing a formula.&#10;:param max_number_free_instantiations: Number of times that nonterminals that&#10;are not bound by any formula should be expanded by a coverage&#45;based fuzzer.&#10;:param max_number_smt_instantiations: Number of solutions of SMT formulas that&#10;should be produced.&#10;:param max_number_tree_insertion_results: The maximum number of results when&#10;solving existential quantifiers by tree insertion.&#10;:param enforce_unique_trees_in_queue: If true, states with the same tree as an&#10;already existing tree in the queue are discarded, irrespectively of the&#10;constraint.&#10;:param debug: If true, debug information about the evolution of states is&#10;collected, notably in the field state_tree. The root of the tree is in the&#10;field state_tree_root. The field costs stores the computed cost values for&#10;all new nodes.&#10;:param cost_computer: The `CostComputer` class for computing the cost relevant&#10;to placing states in ISLa&#39;s queue.&#10;:param timeout_seconds: Number of seconds after which the solver will terminate.&#10;:param global_fuzzer: If set to True, only one coverage&#45;guided grammar fuzzer&#10;object is used to finish off unconstrained open derivation trees throughout&#10;the whole generation time. This may be beneficial for some targets; e.g., we&#10;experienced that CSV works significantly faster. However, the achieved k&#45;path&#10;coverage can be lower with that setting.&#10;:param predicates_unique_in_int_arg: This is needed in certain cases for&#10;instantiating universal integer quantifiers. The supplied predicates should&#10;have exactly one integer argument, and hold for exactly one integer value&#10;once all other parameters are fixed.&#10;:param fuzzer_factory: Constructor of the fuzzer to use for instantiating&#10;&quot;free&quot; nonterminals.&#10;:param tree_insertion_methods: Combination of methods to use for existential&#10;quantifier elimination by tree insertion. Full selection: `DIRECT_EMBEDDING &amp;&#10;SELF_EMBEDDING &amp; CONTEXT_ADDITION`.&#10;:param activate_unsat_support: Set to True if you assume that a formula might&#10;be unsatisfiable. This triggers additional tests for unsatisfiability that&#10;reduce input generation performance, but might ensure termination (with a&#10;negative solver result) for unsatisfiable problems for which the solver could&#10;otherwise diverge.&#10;:param grammar_unwinding_threshold: When querying the SMT solver, ISLa passes a&#10;regular expression for the syntax of the involved nonterminals. If this&#10;syntax is not regular, we unwind the respective part in the reference grammar&#10;up to a depth of `grammar_unwinding_threshold`. If this is too shallow, it can&#10;happen that an equation etc. cannot be solved; if it is too deep, it can&#10;negatively impact performance (and quite tremendously so).&#10;:param initial_tree: An initial input tree for the queue, if the solver shall&#10;not start from the tree `(&lt;start&gt;, None)`.&#10;:param enable_optimized_z3_queries: Enables preprocessing of Z3 queries (mainly&#10;numeric problems concerning things like length). This can improve performance&#10;significantly; however, it might happen that certain problems cannot be solved&#10;anymore. In that case, this option can/should be deactivated.&#10;:param start_symbol: This is an alternative to `initial_tree` for starting with&#10;a start symbol different form `&lt;start&gt;`. If `start_symbol` is provided, a tree&#10;consisting of a single root node with the value of `start_symbol` is chosen as&#10;initial tree.\">\n",
       "<text text-anchor=\"start\" x=\"21.5\" y=\"-105.25\" font-family=\"'Fira Mono', 'Source Code Pro', 'Courier', monospace\" font-weight=\"bold\" font-style=\"italic\" font-size=\"10.00\">__init__()</text>\n",
       "</a>\n",
       "</g>\n",
       "</a>\n",
       "</g>\n",
       "</a>\n",
       "</g>\n",
       "</g>\n",
       "<!-- PythonFuzzer&#45;&gt;ISLaSolver -->\n",
       "<g id=\"edge1\" class=\"edge\">\n",
       "<title>PythonFuzzer&#45;&gt;ISLaSolver</title>\n",
       "<path fill=\"none\" stroke=\"black\" d=\"M51.5,-60.11C51.5,-68.16 51.5,-76.98 51.5,-85.3\"/>\n",
       "<polygon fill=\"none\" stroke=\"black\" points=\"48,-85.09 51.5,-95.09 55,-85.09 48,-85.09\"/>\n",
       "</g>\n",
       "<!-- Legend -->\n",
       "<g id=\"node3\" class=\"node\">\n",
       "<title>Legend</title>\n",
       "<text text-anchor=\"start\" x=\"120.88\" y=\"-46.25\" font-family=\"Patua One, Helvetica, sans-serif\" font-weight=\"bold\" font-size=\"10.00\" fill=\"#b03a2e\">Legend</text>\n",
       "<text text-anchor=\"start\" x=\"120.88\" y=\"-36.25\" font-family=\"Patua One, Helvetica, sans-serif\" font-size=\"10.00\">• </text>\n",
       "<text text-anchor=\"start\" x=\"126.88\" y=\"-36.25\" font-family=\"'Fira Mono', 'Source Code Pro', 'Courier', monospace\" font-weight=\"bold\" font-size=\"8.00\">public_method()</text>\n",
       "<text text-anchor=\"start\" x=\"120.88\" y=\"-26.25\" font-family=\"Patua One, Helvetica, sans-serif\" font-size=\"10.00\">• </text>\n",
       "<text text-anchor=\"start\" x=\"126.88\" y=\"-26.25\" font-family=\"'Fira Mono', 'Source Code Pro', 'Courier', monospace\" font-size=\"8.00\">private_method()</text>\n",
       "<text text-anchor=\"start\" x=\"120.88\" y=\"-16.25\" font-family=\"Patua One, Helvetica, sans-serif\" font-size=\"10.00\">• </text>\n",
       "<text text-anchor=\"start\" x=\"126.88\" y=\"-16.25\" font-family=\"'Fira Mono', 'Source Code Pro', 'Courier', monospace\" font-style=\"italic\" font-size=\"8.00\">overloaded_method()</text>\n",
       "<text text-anchor=\"start\" x=\"120.88\" y=\"-7.2\" font-family=\"Helvetica,sans-Serif\" font-size=\"9.00\">Hover over names to see doc</text>\n",
       "</g>\n",
       "</g>\n",
       "</svg>\n"
      ],
      "text/plain": [
       "<graphviz.graphs.Digraph at 0x317b98250>"
      ]
     },
     "execution_count": 189,
     "metadata": {},
     "output_type": "execute_result"
    }
   ],
   "source": [
    "# ignore\n",
    "display_class_hierarchy([PythonFuzzer],\n",
    "                        public_methods=[\n",
    "                            PythonFuzzer.__init__,\n",
    "                            PythonFuzzer.fuzz,\n",
    "                            ISLaSolver.__init__\n",
    "                        ],\n",
    "                        project='fuzzingbook')"
   ]
  },
  {
   "cell_type": "markdown",
   "id": "ba4fdf20",
   "metadata": {
    "slideshow": {
     "slide_type": "slide"
    }
   },
   "source": [
    "## Lessons Learned\n",
    "\n",
    "* When creating and processing complex inputs such as program code,\n",
    "  * try to rely on existing infrastructure to _parse_ inputs into some _abstract syntax_, and then\n",
    "  * have your grammars _process that abstract syntax_ rather than the concrete syntax.\n",
    "* Specifically, program code is normally converted into _abstract syntax trees_ before being compiled or interpreted, and you can (and should) make use of such conversions.\n",
    "* Once program code is turned into an AST, it is fairly easy to generate, mutate, and evolve despite its complexity."
   ]
  },
  {
   "cell_type": "markdown",
   "id": "f527bd67",
   "metadata": {
    "slideshow": {
     "slide_type": "slide"
    }
   },
   "source": [
    "## Background\n",
    "\n",
    "The seminal work on compiler testing is _Csmith_ \\cite{Yang2011}, a generator of C programs.\n",
    "Csmith has been used to thoroughly test compilers such as Clang or GCC; beyond producing code that is syntactically correct, it also aims at _semantic_ correctness as well as avoiding undefined and unspecified behaviors.\n",
    "This is a must read for anyone in the field in compiler testing."
   ]
  }
 ],
 "metadata": {
  "ipub": {
   "bibliography": "fuzzingbook.bib"
  },
  "kernelspec": {
   "display_name": "python3.11",
   "language": "python",
   "name": "python3"
  },
  "language_info": {
   "codemirror_mode": {
    "name": "ipython",
    "version": 3
   },
   "file_extension": ".py",
   "mimetype": "text/x-python",
   "name": "python",
   "nbconvert_exporter": "python",
   "pygments_lexer": "ipython3",
   "version": "3.11.11"
  },
  "toc": {
   "base_numbering": 1,
   "nav_menu": {},
   "number_sections": true,
   "sideBar": true,
   "skip_h1_title": true,
   "title_cell": "",
   "title_sidebar": "Contents",
   "toc_cell": false,
   "toc_position": {},
   "toc_section_display": true,
   "toc_window_display": true
  },
  "toc-autonumbering": false
 },
 "nbformat": 4,
 "nbformat_minor": 5
}